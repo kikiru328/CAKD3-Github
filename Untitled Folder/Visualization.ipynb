{
 "cells": [
  {
   "cell_type": "markdown",
   "id": "6f2a5f1f",
   "metadata": {},
   "source": [
    "##### 판다스 내장 그래프 도구\n",
    "- 판다스 Matplotlib 라이브러리의 기능을 일부 내장하고 있어서 별도로 import 하지않고 간단히 그래프를 그릴 수 있다.\n",
    "- 선 그래프: df.plot() 메소드 적용시 다른 옵션을 추가하지 않으면 가장 기본저깅ㄴ 선 그래프를 그림.\n",
    "- 막대 그래프: df.plot(kind='bar'),df.plot(kind='barh',stacked=True,alpha=0.8)\n",
    "- 히스토그램 : df.plot(kind='hist') 확률변수의 분포.\n",
    "- 산점도: df.plot(x='',y='','kind='scatter') 상관관계를 볼 수 있다.\n",
    "- 박스 플롯: df.plot(kind='box'), df.boxplot(column=['feature']) 특정 변수의 데이터 분포와 분산정도에 대한 정보를 제공. 분포를 보는것/ 이상치 (outlier)확인하기에 유용\n",
    "\n",
    "##### Matplotlib\n",
    "- histobram : plt.hist(x, bin= )\n",
    "- line plot : plt.plot(x,y)\n",
    "- plt.bar(x,y, width=, color='')\n",
    "- scatter plot : plt.scatter(x,y)\n",
    "\n",
    "##### Seaborn\n",
    "- sns.distplot(data, bins=, color=, kde=)\n",
    "- sns.boxplot(x, y, data, color)\n",
    "- sns.violinplot(x, y, data, color)\n",
    "- sns.jointplot(x, y, data, color)                       \n",
    "- sns.parirplot(data, hue, plalette)  여러개 동시에 그림                      \n",
    "- sns.lmplot(x, y, data, color) scatter/회기그래프\n",
    "- sns.regplot(x,y,data,fig_reg=False) 회기그래프"
   ]
  },
  {
   "cell_type": "code",
   "execution_count": null,
   "id": "bf4432aa",
   "metadata": {},
   "outputs": [],
   "source": [
    "import pandas as pd\n",
    "import numpy a np\n",
    "df = pd.read_csv('')"
   ]
  }
 ],
 "metadata": {
  "kernelspec": {
   "display_name": "Python 3",
   "language": "python",
   "name": "python3"
  },
  "language_info": {
   "codemirror_mode": {
    "name": "ipython",
    "version": 3
   },
   "file_extension": ".py",
   "mimetype": "text/x-python",
   "name": "python",
   "nbconvert_exporter": "python",
   "pygments_lexer": "ipython3",
   "version": "3.8.8"
  }
 },
 "nbformat": 4,
 "nbformat_minor": 5
}
