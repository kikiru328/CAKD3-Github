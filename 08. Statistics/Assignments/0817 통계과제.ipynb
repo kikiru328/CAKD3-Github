{
 "cells": [
  {
   "cell_type": "markdown",
   "id": "e902da38-58c2-44bb-bd70-e5ddf8173c3d",
   "metadata": {},
   "source": [
    "[과제]\n",
    "Q. \"Data/5_2_shoes.csv\" 을 데이터프레임으로 불러와서 아래작업을 수행하세요\n",
    "- 4행 3열을 복사하여 수직으로 결합하여 8행 3열의 데이터프레임 df로 만드세요\n",
    "- 교차분석표를 만드세요( values = 'sales', aggfunc='sum',index='store',columns ='color')\n",
    "- 독립성 검정을 수행하세요"
   ]
  },
  {
   "cell_type": "code",
   "execution_count": null,
   "id": "4d0e74db-7206-42ab-95ce-746a3d09fda6",
   "metadata": {},
   "outputs": [],
   "source": []
  }
 ],
 "metadata": {
  "kernelspec": {
   "display_name": "Python 3",
   "language": "python",
   "name": "python3"
  },
  "language_info": {
   "codemirror_mode": {
    "name": "ipython",
    "version": 3
   },
   "file_extension": ".py",
   "mimetype": "text/x-python",
   "name": "python",
   "nbconvert_exporter": "python",
   "pygments_lexer": "ipython3",
   "version": "3.8.10"
  },
  "widgets": {
   "application/vnd.jupyter.widget-state+json": {
    "state": {},
    "version_major": 2,
    "version_minor": 0
   }
  }
 },
 "nbformat": 4,
 "nbformat_minor": 5
}
