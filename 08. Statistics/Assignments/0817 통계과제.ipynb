{
 "cells": [
  {
   "cell_type": "markdown",
   "id": "e902da38-58c2-44bb-bd70-e5ddf8173c3d",
   "metadata": {},
   "source": [
    "[과제]\n",
    "Q. \"Data/5_2_shoes.csv\" 을 데이터프레임으로 불러와서 아래작업을 수행하세요\n",
    "- 4행 3열을 복사하여 수직으로 결합하여 8행 3열의 데이터프레임 df로 만드세요\n",
    "- 교차분석표를 만드세요( values = 'sales', aggfunc='sum',index='store',columns ='color')\n",
    "- 독립성 검정을 수행하세요"
   ]
  },
  {
   "cell_type": "markdown",
   "id": "7290b036-a0a9-424c-8656-9c0217a75ade",
   "metadata": {},
   "source": [
    "[과제2] Q. 선형 모델을 생성하고 summary 를 출력한 후 모델에 대한 통계지표들을 해석하세요\n",
    "\n",
    "    df = pd.read_csv('data/auto-mpg.csv')\n",
    "    df_mw = df[['mpg','weight']]\n",
    "    df_mw.head()"
   ]
  },
  {
   "cell_type": "code",
   "execution_count": null,
   "id": "86e385e5-45f3-4d51-94ee-003b45896cb2",
   "metadata": {},
   "outputs": [],
   "source": []
  }
 ],
 "metadata": {
  "kernelspec": {
   "display_name": "Python 3",
   "language": "python",
   "name": "python3"
  },
  "language_info": {
   "codemirror_mode": {
    "name": "ipython",
    "version": 3
   },
   "file_extension": ".py",
   "mimetype": "text/x-python",
   "name": "python",
   "nbconvert_exporter": "python",
   "pygments_lexer": "ipython3",
   "version": "3.8.10"
  },
  "widgets": {
   "application/vnd.jupyter.widget-state+json": {
    "state": {},
    "version_major": 2,
    "version_minor": 0
   }
  }
 },
 "nbformat": 4,
 "nbformat_minor": 5
}
