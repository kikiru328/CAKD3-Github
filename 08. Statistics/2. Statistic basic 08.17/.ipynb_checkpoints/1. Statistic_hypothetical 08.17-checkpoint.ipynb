{
 "cells": [
  {
   "cell_type": "markdown",
   "id": "7d312939-d8a0-4bc4-88d9-9a5ccb19d601",
   "metadata": {},
   "source": [
    "- 통계적 가설검정은 표본을 사용해서 모집단에 대한 통계적인 판단을 내리는 방법\n",
    "- 판단의 기준으로 통계적인 표현을 사용하며 간단히 검정이라고 부름\n",
    "- 평균값의 차이만으로 유의미한 차이를 얻을 수 없으며 샘플사이즈와 데이터의 흩어짐 크기를 가미하는 것이 필요\n",
    "- 1변량 데이터의 t검정\n",
    "    - 샘플사이즈가 크고 데이터의 분산이 작고 평균값의 차이가 크다는 세가지 조건을 만족하는 지표를 t값이라고 함\n",
    "    - t값 = (표본평균 - 모평균) / 표준오차\n",
    "    - t값이 크면 유의미한 차이가 있다고 판단\n",
    "- 귀무가설 대립가설\n",
    "    - 기각 대상이 되는 첫번째 가설을 귀무가설, 귀무가설과 대립되는 가설을 대립가설이라고 함\n",
    "    - 귀무가설이 기각된다면 즉 귀무가설이 틀렸다고 판단을 하면 유의미한 차이가 있다는 것임\n",
    "- p값(유의확률): 표본과 귀무가설 간의 모순을 나타내는 지표\n",
    "    - p값이 작을수록 귀무가설과 표본이 모순된다고 판단\n",
    "- 유의수준: 귀무가설을 기각하는 기준이 되는 값\n",
    "    - 유의수준은 위험률이라고 하며 5%를 사용하는 경우가 많음.\n"
   ]
  },
  {
   "cell_type": "markdown",
   "id": "3be4f78d-2d5f-403f-bfe3-490e06f9d84b",
   "metadata": {},
   "source": [
    "### T 검정 >> 귀무가설(영가설) : 과자의 무게는 50g이다. "
   ]
  },
  {
   "cell_type": "code",
   "execution_count": 1,
   "id": "c39257aa-b6d3-45dd-8205-84007864f6e3",
   "metadata": {},
   "outputs": [],
   "source": [
    "import pandas as pd\n",
    "junk_food=pd.read_csv('../Data/5_8_jfw.csv')\n",
    "jfood = junk_food['weight']"
   ]
  },
  {
   "cell_type": "code",
   "execution_count": 2,
   "id": "24255402-cb26-46b1-9bd1-4c2f3809a955",
   "metadata": {},
   "outputs": [
    {
     "data": {
      "text/plain": [
       "55.38496619666667"
      ]
     },
     "execution_count": 2,
     "metadata": {},
     "output_type": "execute_result"
    }
   ],
   "source": [
    "#표본 평균\n",
    "import numpy as np\n",
    "mu = np.mean(jfood)\n",
    "mu"
   ]
  },
  {
   "cell_type": "code",
   "execution_count": 3,
   "id": "e8917d25-43fb-4530-99b8-a3e83ce25aca",
   "metadata": {},
   "outputs": [
    {
     "data": {
      "text/plain": [
       "19"
      ]
     },
     "execution_count": 3,
     "metadata": {},
     "output_type": "execute_result"
    }
   ],
   "source": [
    "#자유도\n",
    "df = len(jfood)-1\n",
    "df"
   ]
  },
  {
   "cell_type": "code",
   "execution_count": 4,
   "id": "e07aa454-77c4-4d0c-9de8-f87ef2db3bc0",
   "metadata": {},
   "outputs": [
    {
     "data": {
      "text/plain": [
       "8.756118777591022"
      ]
     },
     "execution_count": 4,
     "metadata": {},
     "output_type": "execute_result"
    }
   ],
   "source": [
    "#표준 편차\n",
    "sig = np.std(jfood,ddof=1)\n",
    "sig"
   ]
  },
  {
   "cell_type": "code",
   "execution_count": 5,
   "id": "b51b4fcb-8364-48c1-b058-5421560beec9",
   "metadata": {},
   "outputs": [
    {
     "data": {
      "text/plain": [
       "1.9579276805755885"
      ]
     },
     "execution_count": 5,
     "metadata": {},
     "output_type": "execute_result"
    }
   ],
   "source": [
    "#표준 오차\n",
    "se = sig / np.sqrt(len(jfood))\n",
    "se"
   ]
  },
  {
   "cell_type": "code",
   "execution_count": 6,
   "id": "ea538f96-760e-4171-b662-1d1b58268570",
   "metadata": {},
   "outputs": [
    {
     "data": {
      "text/plain": [
       "2.7503396831713434"
      ]
     },
     "execution_count": 6,
     "metadata": {},
     "output_type": "execute_result"
    }
   ],
   "source": [
    "#t value\n",
    "t_value = (mu-50)/se\n",
    "t_value"
   ]
  },
  {
   "cell_type": "code",
   "execution_count": 7,
   "id": "98b4222f-3568-4e63-bf94-f4627bcb98a0",
   "metadata": {},
   "outputs": [
    {
     "data": {
      "text/plain": [
       "0.012725590012524268"
      ]
     },
     "execution_count": 7,
     "metadata": {},
     "output_type": "execute_result"
    }
   ],
   "source": [
    "#P value (유의확률)이 유의수준 0.05보다 작으면 귀무가설(영가설) 기각.\n",
    "#현재는 양측검정. \n",
    "# (1-alpha ) * 2\n",
    "from scipy import stats\n",
    "alpha = stats.t.cdf(t_value, df=df)\n",
    "p_value = (1-alpha)*2\n",
    "p_value\n",
    "# 0.012725590012524268 . \n",
    "#따라서 귀무가설 기각.\n",
    "# '과자의 무게는 50g이 아니다.' 라고 할 수 있다. "
   ]
  },
  {
   "cell_type": "code",
   "execution_count": 8,
   "id": "1bd92cc8-01fa-4128-aa8b-9f45256b6c66",
   "metadata": {},
   "outputs": [
    {
     "data": {
      "text/plain": [
       "Ttest_1sampResult(statistic=2.750339683171343, pvalue=0.012725590012524182)"
      ]
     },
     "execution_count": 8,
     "metadata": {},
     "output_type": "execute_result"
    }
   ],
   "source": [
    "# t검정 -- stats.ttest_1samp(t_value, p_value}\n",
    "# 1표본 T검정.\n",
    "#P value (유의확률)이 유의수준 0.05보다 작으므로 귀무가설(영가설)이 기각된다.\n",
    "# '과자의 무게는 50g이 아니다.' 라고 할 수 있다. \n",
    "stats.ttest_1samp(jfood,50)"
   ]
  },
  {
   "cell_type": "markdown",
   "id": "f7330446-bb5f-4a22-9119-fbedc80c113a",
   "metadata": {},
   "source": [
    "- 대응표본 t 검정 : 약을 먹기 전과 후의 체온의 차이를 보는 경우 사용\n",
    "- 독립표본 t 검정 : 큰 바늘로 낚은 물고기의 길이와 작은 바늘로 낚은 물고기의 길이의 차이를 보는 경우 사용. \"Welch 근사법'이라고 불리는 방법을 이용하여 p_value 를 계산. (Welch 검정)"
   ]
  },
  {
   "cell_type": "code",
   "execution_count": 9,
   "id": "419c18db-80f3-4748-81f5-26fd8f2f0aa9",
   "metadata": {},
   "outputs": [
    {
     "data": {
      "text/html": [
       "<div>\n",
       "<style scoped>\n",
       "    .dataframe tbody tr th:only-of-type {\n",
       "        vertical-align: middle;\n",
       "    }\n",
       "\n",
       "    .dataframe tbody tr th {\n",
       "        vertical-align: top;\n",
       "    }\n",
       "\n",
       "    .dataframe thead th {\n",
       "        text-align: right;\n",
       "    }\n",
       "</style>\n",
       "<table border=\"1\" class=\"dataframe\">\n",
       "  <thead>\n",
       "    <tr style=\"text-align: right;\">\n",
       "      <th></th>\n",
       "      <th>person</th>\n",
       "      <th>medicine</th>\n",
       "      <th>body_temperature</th>\n",
       "    </tr>\n",
       "  </thead>\n",
       "  <tbody>\n",
       "    <tr>\n",
       "      <th>0</th>\n",
       "      <td>A</td>\n",
       "      <td>before</td>\n",
       "      <td>36.2</td>\n",
       "    </tr>\n",
       "    <tr>\n",
       "      <th>1</th>\n",
       "      <td>B</td>\n",
       "      <td>before</td>\n",
       "      <td>36.2</td>\n",
       "    </tr>\n",
       "    <tr>\n",
       "      <th>2</th>\n",
       "      <td>C</td>\n",
       "      <td>before</td>\n",
       "      <td>35.3</td>\n",
       "    </tr>\n",
       "    <tr>\n",
       "      <th>3</th>\n",
       "      <td>D</td>\n",
       "      <td>before</td>\n",
       "      <td>36.1</td>\n",
       "    </tr>\n",
       "    <tr>\n",
       "      <th>4</th>\n",
       "      <td>E</td>\n",
       "      <td>before</td>\n",
       "      <td>36.1</td>\n",
       "    </tr>\n",
       "    <tr>\n",
       "      <th>5</th>\n",
       "      <td>A</td>\n",
       "      <td>after</td>\n",
       "      <td>36.8</td>\n",
       "    </tr>\n",
       "    <tr>\n",
       "      <th>6</th>\n",
       "      <td>B</td>\n",
       "      <td>after</td>\n",
       "      <td>36.1</td>\n",
       "    </tr>\n",
       "    <tr>\n",
       "      <th>7</th>\n",
       "      <td>C</td>\n",
       "      <td>after</td>\n",
       "      <td>36.8</td>\n",
       "    </tr>\n",
       "    <tr>\n",
       "      <th>8</th>\n",
       "      <td>D</td>\n",
       "      <td>after</td>\n",
       "      <td>37.1</td>\n",
       "    </tr>\n",
       "    <tr>\n",
       "      <th>9</th>\n",
       "      <td>E</td>\n",
       "      <td>after</td>\n",
       "      <td>36.9</td>\n",
       "    </tr>\n",
       "  </tbody>\n",
       "</table>\n",
       "</div>"
      ],
      "text/plain": [
       "  person medicine  body_temperature\n",
       "0      A   before              36.2\n",
       "1      B   before              36.2\n",
       "2      C   before              35.3\n",
       "3      D   before              36.1\n",
       "4      E   before              36.1\n",
       "5      A    after              36.8\n",
       "6      B    after              36.1\n",
       "7      C    after              36.8\n",
       "8      D    after              37.1\n",
       "9      E    after              36.9"
      ]
     },
     "execution_count": 9,
     "metadata": {},
     "output_type": "execute_result"
    }
   ],
   "source": [
    "pt_data = pd.read_csv(\"../Data/5_9_ptt.csv\")\n",
    "pt_data"
   ]
  },
  {
   "cell_type": "code",
   "execution_count": 10,
   "id": "53a46bb7-d76c-4eaa-968b-a24663f73df7",
   "metadata": {},
   "outputs": [
    {
     "data": {
      "text/plain": [
       "array([ 0.6, -0.1,  1.5,  1. ,  0.8])"
      ]
     },
     "execution_count": 10,
     "metadata": {},
     "output_type": "execute_result"
    }
   ],
   "source": [
    "before = pt_data.query('medicine == \"before\"')['body_temperature']\n",
    "after = pt_data.query('medicine == \"after\"')['body_temperature']\n",
    "#배열로 변환\n",
    "before = np.array(before)\n",
    "after = np.array(after)\n",
    "diff = after - before\n",
    "diff"
   ]
  },
  {
   "cell_type": "markdown",
   "id": "b57ef6fb-5d8f-4e50-a7f0-358583535d8f",
   "metadata": {},
   "source": [
    "### 대응표본 t 검정"
   ]
  },
  {
   "cell_type": "code",
   "execution_count": 11,
   "id": "00c07f1a-02cb-47c8-94a5-b617b4ea2c6e",
   "metadata": {},
   "outputs": [
    {
     "data": {
      "text/plain": [
       "Ttest_1sampResult(statistic=2.901693483620596, pvalue=0.044043109730074276)"
      ]
     },
     "execution_count": 11,
     "metadata": {},
     "output_type": "execute_result"
    }
   ],
   "source": [
    "#평균값이 0과 다른지 검정\n",
    "stats.ttest_1samp(diff,0)\n",
    "\n",
    "#p_value = 0.044043109730074276 \n",
    "#따라서 귀무가설(영가설)을 기각. 유의미한 차이가 있다고 주장할 수 있음.\n",
    "#약 복용후 체온의 차이가 존재한다고 봄."
   ]
  },
  {
   "cell_type": "markdown",
   "id": "662d34d2-11c9-470a-ab14-ee48a7254b96",
   "metadata": {},
   "source": [
    "### 독립표본 t 검정"
   ]
  },
  {
   "cell_type": "code",
   "execution_count": 12,
   "id": "2e26066a-4391-4716-8ff3-5e57de8bd125",
   "metadata": {},
   "outputs": [],
   "source": [
    "#평균치\n",
    "mean_bf = np.mean(before)\n",
    "mean_af = np.mean(after)"
   ]
  },
  {
   "cell_type": "code",
   "execution_count": 13,
   "id": "f22d887d-a971-4234-b90e-84838ba7a8af",
   "metadata": {},
   "outputs": [],
   "source": [
    "#분산\n",
    "sig_bf = np.var(before,ddof=1)\n",
    "sig_af = np.var(after,ddof=1)"
   ]
  },
  {
   "cell_type": "code",
   "execution_count": 14,
   "id": "666075b1-469f-4fe5-826c-2c3c0567820d",
   "metadata": {},
   "outputs": [],
   "source": [
    "#sample size\n",
    "m = len(before)\n",
    "n = len(after)"
   ]
  },
  {
   "cell_type": "code",
   "execution_count": 15,
   "id": "64cb6f51-2446-4e91-937e-105ee83ed9ba",
   "metadata": {},
   "outputs": [],
   "source": [
    "#t_value\n",
    "t_value = (mean_af - mean_bf) / np.sqrt((sig_bf/m+sig_af/n))"
   ]
  },
  {
   "cell_type": "code",
   "execution_count": 16,
   "id": "7d89abd1-f031-4a8b-b10c-0e2d020f9278",
   "metadata": {},
   "outputs": [
    {
     "data": {
      "text/plain": [
       "Ttest_indResult(statistic=3.1557282344421034, pvalue=0.013484775682079892)"
      ]
     },
     "execution_count": 16,
     "metadata": {},
     "output_type": "execute_result"
    }
   ],
   "source": [
    "#p_value\n",
    "# equal_var = False : 분산이 다르다고 가정한  t검정 (Welch 검정)\n",
    "stats.ttest_ind(after,before,equal_var=False) #independent\n",
    "\n",
    "#귀무가설(영가설)을 기각하고 유의미한 차이가 있다고 판단됨."
   ]
  },
  {
   "cell_type": "markdown",
   "id": "eeae72bf-9fdd-42b7-a299-4a4a774a36f5",
   "metadata": {},
   "source": [
    "- 카이제곱 검정 : 독립성 검정의 분할표 및 가설 설정 \n",
    "- 귀무가설(영가설) >> 두 범주형 변수 사이에 연관이 없다. (독립)\n",
    "- 대립가설 >> 두 범주형 변수 사이에 연관이 있다. (종속)\n",
    "\n"
   ]
  },
  {
   "cell_type": "markdown",
   "id": "ecfc4c62-800e-4344-8631-4351286cd2ae",
   "metadata": {},
   "source": [
    "### 카이제곱 검정\n"
   ]
  },
  {
   "cell_type": "code",
   "execution_count": 19,
   "id": "fce77faa-c1b7-4fd7-ac55-3ea251b8184f",
   "metadata": {},
   "outputs": [
    {
     "data": {
      "text/html": [
       "<div>\n",
       "<style scoped>\n",
       "    .dataframe tbody tr th:only-of-type {\n",
       "        vertical-align: middle;\n",
       "    }\n",
       "\n",
       "    .dataframe tbody tr th {\n",
       "        vertical-align: top;\n",
       "    }\n",
       "\n",
       "    .dataframe thead th {\n",
       "        text-align: right;\n",
       "    }\n",
       "</style>\n",
       "<table border=\"1\" class=\"dataframe\">\n",
       "  <thead>\n",
       "    <tr style=\"text-align: right;\">\n",
       "      <th></th>\n",
       "      <th>color</th>\n",
       "      <th>click</th>\n",
       "      <th>freq</th>\n",
       "    </tr>\n",
       "  </thead>\n",
       "  <tbody>\n",
       "    <tr>\n",
       "      <th>0</th>\n",
       "      <td>blue</td>\n",
       "      <td>click</td>\n",
       "      <td>20</td>\n",
       "    </tr>\n",
       "    <tr>\n",
       "      <th>1</th>\n",
       "      <td>blue</td>\n",
       "      <td>not</td>\n",
       "      <td>230</td>\n",
       "    </tr>\n",
       "    <tr>\n",
       "      <th>2</th>\n",
       "      <td>red</td>\n",
       "      <td>click</td>\n",
       "      <td>10</td>\n",
       "    </tr>\n",
       "    <tr>\n",
       "      <th>3</th>\n",
       "      <td>red</td>\n",
       "      <td>not</td>\n",
       "      <td>40</td>\n",
       "    </tr>\n",
       "  </tbody>\n",
       "</table>\n",
       "</div>"
      ],
      "text/plain": [
       "  color  click  freq\n",
       "0  blue  click    20\n",
       "1  blue    not   230\n",
       "2   red  click    10\n",
       "3   red    not    40"
      ]
     },
     "execution_count": 19,
     "metadata": {},
     "output_type": "execute_result"
    }
   ],
   "source": [
    "# 두 범주형 사이의 연관성을 알아볼때 사용한다 (독립성 검정)\n",
    "click_data = pd.read_csv('../Data/5_10_cd.csv')\n",
    "click_data"
   ]
  },
  {
   "cell_type": "code",
   "execution_count": 20,
   "id": "29addd95-f38a-497d-8b54-aebd83109bd8",
   "metadata": {},
   "outputs": [
    {
     "data": {
      "text/html": [
       "<div>\n",
       "<style scoped>\n",
       "    .dataframe tbody tr th:only-of-type {\n",
       "        vertical-align: middle;\n",
       "    }\n",
       "\n",
       "    .dataframe tbody tr th {\n",
       "        vertical-align: top;\n",
       "    }\n",
       "\n",
       "    .dataframe thead th {\n",
       "        text-align: right;\n",
       "    }\n",
       "</style>\n",
       "<table border=\"1\" class=\"dataframe\">\n",
       "  <thead>\n",
       "    <tr style=\"text-align: right;\">\n",
       "      <th>click</th>\n",
       "      <th>click</th>\n",
       "      <th>not</th>\n",
       "    </tr>\n",
       "    <tr>\n",
       "      <th>color</th>\n",
       "      <th></th>\n",
       "      <th></th>\n",
       "    </tr>\n",
       "  </thead>\n",
       "  <tbody>\n",
       "    <tr>\n",
       "      <th>blue</th>\n",
       "      <td>20</td>\n",
       "      <td>230</td>\n",
       "    </tr>\n",
       "    <tr>\n",
       "      <th>red</th>\n",
       "      <td>10</td>\n",
       "      <td>40</td>\n",
       "    </tr>\n",
       "  </tbody>\n",
       "</table>\n",
       "</div>"
      ],
      "text/plain": [
       "click  click  not\n",
       "color            \n",
       "blue      20  230\n",
       "red       10   40"
      ]
     },
     "execution_count": 20,
     "metadata": {},
     "output_type": "execute_result"
    }
   ],
   "source": [
    "# 분할표\n",
    "cross = pd.pivot_table(data=click_data,values='freq',aggfunc='sum',index='color',columns='click')\n",
    "cross"
   ]
  },
  {
   "cell_type": "code",
   "execution_count": null,
   "id": "603c9c6d-4d17-4a73-a875-3bf4b1571f42",
   "metadata": {},
   "outputs": [],
   "source": [
    "#카이스퀘어 통계량, p_value, 자유도, 기대도수표\n",
    "stats.chi2_contingency(closs,correction=False) #고정하지 않은다."
   ]
  }
 ],
 "metadata": {
  "kernelspec": {
   "display_name": "Python 3",
   "language": "python",
   "name": "python3"
  },
  "language_info": {
   "codemirror_mode": {
    "name": "ipython",
    "version": 3
   },
   "file_extension": ".py",
   "mimetype": "text/x-python",
   "name": "python",
   "nbconvert_exporter": "python",
   "pygments_lexer": "ipython3",
   "version": "3.8.10"
  },
  "widgets": {
   "application/vnd.jupyter.widget-state+json": {
    "state": {},
    "version_major": 2,
    "version_minor": 0
   }
  }
 },
 "nbformat": 4,
 "nbformat_minor": 5
}
