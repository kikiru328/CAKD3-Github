{
 "cells": [
  {
   "cell_type": "markdown",
   "id": "7d312939-d8a0-4bc4-88d9-9a5ccb19d601",
   "metadata": {},
   "source": [
    "- 통계적 가설검정은 표본을 사용해서 모집단에 대한 통계적인 판단을 내리는 방법\n",
    "- 판단의 기준으로 통계적인 표현을 사용하며 간단히 검정이라고 부름\n",
    "- 평균값의 차이만으로 유의미한 차이를 얻을 수 없으며 샘플사이즈와 데이터의 흩어짐 크기를 가미하는 것이 필요\n",
    "- 1변량 데이터의 t검정\n",
    "    - 샘플사이즈가 크고 데이터의 분산이 작고 평균값의 차이가 크다는 세가지 조건을 만족하는 지표를 t값이라고 함\n",
    "    - t값 = (표본평균 - 모평균) / 표준오차\n",
    "    - t값이 크면 유의미한 차이가 있다고 판단\n",
    "- 귀무가설 대립가설\n",
    "    - 기각 대상이 되는 첫번째 가설을 귀무가설, 귀무가설과 대립되는 가설을 대립가설이라고 함\n",
    "    - 귀무가설이 기각된다면 즉 귀무가설이 틀렸다고 판단을 하면 유의미한 차이가 있다는 것임\n",
    "- p값(유의확률): 표본과 귀무가설 간의 모순을 나타내는 지표\n",
    "    - p값이 작을수록 귀무가설과 표본이 모순된다고 판단\n",
    "- 유의수준: 귀무가설을 기각하는 기준이 되는 값\n",
    "    - 유의수준은 위험률이라고 하며 5%를 사용하는 경우가 많음.\n"
   ]
  },
  {
   "cell_type": "markdown",
   "id": "3be4f78d-2d5f-403f-bfe3-490e06f9d84b",
   "metadata": {},
   "source": [
    "### T 검정 >> 귀무가설(영가설) : 과자의 무게는 50g이다. "
   ]
  },
  {
   "cell_type": "code",
   "execution_count": 1,
   "id": "c39257aa-b6d3-45dd-8205-84007864f6e3",
   "metadata": {},
   "outputs": [],
   "source": [
    "import pandas as pd\n",
    "junk_food=pd.read_csv('../Data/5_8_jfw.csv')\n",
    "jfood = junk_food['weight']"
   ]
  },
  {
   "cell_type": "code",
   "execution_count": 2,
   "id": "24255402-cb26-46b1-9bd1-4c2f3809a955",
   "metadata": {},
   "outputs": [
    {
     "data": {
      "text/plain": [
       "55.38496619666667"
      ]
     },
     "execution_count": 2,
     "metadata": {},
     "output_type": "execute_result"
    }
   ],
   "source": [
    "#표본 평균\n",
    "import numpy as np\n",
    "mu = np.mean(jfood)\n",
    "mu"
   ]
  },
  {
   "cell_type": "code",
   "execution_count": 3,
   "id": "e8917d25-43fb-4530-99b8-a3e83ce25aca",
   "metadata": {},
   "outputs": [
    {
     "data": {
      "text/plain": [
       "19"
      ]
     },
     "execution_count": 3,
     "metadata": {},
     "output_type": "execute_result"
    }
   ],
   "source": [
    "#자유도\n",
    "df = len(jfood)-1\n",
    "df"
   ]
  },
  {
   "cell_type": "code",
   "execution_count": 4,
   "id": "e07aa454-77c4-4d0c-9de8-f87ef2db3bc0",
   "metadata": {},
   "outputs": [
    {
     "data": {
      "text/plain": [
       "8.756118777591022"
      ]
     },
     "execution_count": 4,
     "metadata": {},
     "output_type": "execute_result"
    }
   ],
   "source": [
    "#표준 편차\n",
    "sig = np.std(jfood,ddof=1)\n",
    "sig"
   ]
  },
  {
   "cell_type": "code",
   "execution_count": 5,
   "id": "b51b4fcb-8364-48c1-b058-5421560beec9",
   "metadata": {},
   "outputs": [
    {
     "data": {
      "text/plain": [
       "1.9579276805755885"
      ]
     },
     "execution_count": 5,
     "metadata": {},
     "output_type": "execute_result"
    }
   ],
   "source": [
    "#표준 오차\n",
    "se = sig / np.sqrt(len(jfood))\n",
    "se"
   ]
  },
  {
   "cell_type": "code",
   "execution_count": 6,
   "id": "ea538f96-760e-4171-b662-1d1b58268570",
   "metadata": {},
   "outputs": [
    {
     "data": {
      "text/plain": [
       "2.7503396831713434"
      ]
     },
     "execution_count": 6,
     "metadata": {},
     "output_type": "execute_result"
    }
   ],
   "source": [
    "#t value\n",
    "t_value = (mu-50)/se\n",
    "t_value"
   ]
  },
  {
   "cell_type": "code",
   "execution_count": 7,
   "id": "98b4222f-3568-4e63-bf94-f4627bcb98a0",
   "metadata": {},
   "outputs": [
    {
     "data": {
      "text/plain": [
       "0.012725590012524268"
      ]
     },
     "execution_count": 7,
     "metadata": {},
     "output_type": "execute_result"
    }
   ],
   "source": [
    "#P value (유의확률)이 유의수준 0.05보다 작으면 귀무가설(영가설) 기각.\n",
    "#현재는 양측검정. \n",
    "# (1-alpha ) * 2\n",
    "from scipy import stats\n",
    "alpha = stats.t.cdf(t_value, df=df)\n",
    "p_value = (1-alpha)*2\n",
    "p_value\n",
    "# 0.012725590012524268 . \n",
    "#따라서 귀무가설 기각.\n",
    "# '과자의 무게는 50g이 아니다.' 라고 할 수 있다. "
   ]
  },
  {
   "cell_type": "code",
   "execution_count": 8,
   "id": "1bd92cc8-01fa-4128-aa8b-9f45256b6c66",
   "metadata": {},
   "outputs": [
    {
     "data": {
      "text/plain": [
       "Ttest_1sampResult(statistic=2.750339683171343, pvalue=0.012725590012524182)"
      ]
     },
     "execution_count": 8,
     "metadata": {},
     "output_type": "execute_result"
    }
   ],
   "source": [
    "# t검정 -- stats.ttest_1samp(t_value, p_value}\n",
    "# 1표본 T검정.\n",
    "#P value (유의확률)이 유의수준 0.05보다 작으므로 귀무가설(영가설)이 기각된다.\n",
    "# '과자의 무게는 50g이 아니다.' 라고 할 수 있다. \n",
    "stats.ttest_1samp(jfood,50)"
   ]
  },
  {
   "cell_type": "markdown",
   "id": "f7330446-bb5f-4a22-9119-fbedc80c113a",
   "metadata": {},
   "source": [
    "- 대응표본 t 검정 : 약을 먹기 전과 후의 체온의 차이를 보는 경우 사용\n",
    "- 독립표본 t 검정 : 큰 바늘로 낚은 물고기의 길이와 작은 바늘로 낚은 물고기의 길이의 차이를 보는 경우 사용. \"Welch 근사법'이라고 불리는 방법을 이용하여 p_value 를 계산. (Welch 검정)"
   ]
  },
  {
   "cell_type": "code",
   "execution_count": 9,
   "id": "419c18db-80f3-4748-81f5-26fd8f2f0aa9",
   "metadata": {},
   "outputs": [
    {
     "data": {
      "text/html": [
       "<div>\n",
       "<style scoped>\n",
       "    .dataframe tbody tr th:only-of-type {\n",
       "        vertical-align: middle;\n",
       "    }\n",
       "\n",
       "    .dataframe tbody tr th {\n",
       "        vertical-align: top;\n",
       "    }\n",
       "\n",
       "    .dataframe thead th {\n",
       "        text-align: right;\n",
       "    }\n",
       "</style>\n",
       "<table border=\"1\" class=\"dataframe\">\n",
       "  <thead>\n",
       "    <tr style=\"text-align: right;\">\n",
       "      <th></th>\n",
       "      <th>person</th>\n",
       "      <th>medicine</th>\n",
       "      <th>body_temperature</th>\n",
       "    </tr>\n",
       "  </thead>\n",
       "  <tbody>\n",
       "    <tr>\n",
       "      <th>0</th>\n",
       "      <td>A</td>\n",
       "      <td>before</td>\n",
       "      <td>36.2</td>\n",
       "    </tr>\n",
       "    <tr>\n",
       "      <th>1</th>\n",
       "      <td>B</td>\n",
       "      <td>before</td>\n",
       "      <td>36.2</td>\n",
       "    </tr>\n",
       "    <tr>\n",
       "      <th>2</th>\n",
       "      <td>C</td>\n",
       "      <td>before</td>\n",
       "      <td>35.3</td>\n",
       "    </tr>\n",
       "    <tr>\n",
       "      <th>3</th>\n",
       "      <td>D</td>\n",
       "      <td>before</td>\n",
       "      <td>36.1</td>\n",
       "    </tr>\n",
       "    <tr>\n",
       "      <th>4</th>\n",
       "      <td>E</td>\n",
       "      <td>before</td>\n",
       "      <td>36.1</td>\n",
       "    </tr>\n",
       "    <tr>\n",
       "      <th>5</th>\n",
       "      <td>A</td>\n",
       "      <td>after</td>\n",
       "      <td>36.8</td>\n",
       "    </tr>\n",
       "    <tr>\n",
       "      <th>6</th>\n",
       "      <td>B</td>\n",
       "      <td>after</td>\n",
       "      <td>36.1</td>\n",
       "    </tr>\n",
       "    <tr>\n",
       "      <th>7</th>\n",
       "      <td>C</td>\n",
       "      <td>after</td>\n",
       "      <td>36.8</td>\n",
       "    </tr>\n",
       "    <tr>\n",
       "      <th>8</th>\n",
       "      <td>D</td>\n",
       "      <td>after</td>\n",
       "      <td>37.1</td>\n",
       "    </tr>\n",
       "    <tr>\n",
       "      <th>9</th>\n",
       "      <td>E</td>\n",
       "      <td>after</td>\n",
       "      <td>36.9</td>\n",
       "    </tr>\n",
       "  </tbody>\n",
       "</table>\n",
       "</div>"
      ],
      "text/plain": [
       "  person medicine  body_temperature\n",
       "0      A   before              36.2\n",
       "1      B   before              36.2\n",
       "2      C   before              35.3\n",
       "3      D   before              36.1\n",
       "4      E   before              36.1\n",
       "5      A    after              36.8\n",
       "6      B    after              36.1\n",
       "7      C    after              36.8\n",
       "8      D    after              37.1\n",
       "9      E    after              36.9"
      ]
     },
     "execution_count": 9,
     "metadata": {},
     "output_type": "execute_result"
    }
   ],
   "source": [
    "pt_data = pd.read_csv(\"../Data/5_9_ptt.csv\")\n",
    "pt_data"
   ]
  },
  {
   "cell_type": "code",
   "execution_count": 10,
   "id": "53a46bb7-d76c-4eaa-968b-a24663f73df7",
   "metadata": {},
   "outputs": [
    {
     "data": {
      "text/plain": [
       "array([ 0.6, -0.1,  1.5,  1. ,  0.8])"
      ]
     },
     "execution_count": 10,
     "metadata": {},
     "output_type": "execute_result"
    }
   ],
   "source": [
    "before = pt_data.query('medicine == \"before\"')['body_temperature']\n",
    "after = pt_data.query('medicine == \"after\"')['body_temperature']\n",
    "#배열로 변환\n",
    "before = np.array(before)\n",
    "after = np.array(after)\n",
    "diff = after - before\n",
    "diff"
   ]
  },
  {
   "cell_type": "markdown",
   "id": "b57ef6fb-5d8f-4e50-a7f0-358583535d8f",
   "metadata": {},
   "source": [
    "### 대응표본 t 검정"
   ]
  },
  {
   "cell_type": "code",
   "execution_count": 11,
   "id": "00c07f1a-02cb-47c8-94a5-b617b4ea2c6e",
   "metadata": {},
   "outputs": [
    {
     "data": {
      "text/plain": [
       "Ttest_1sampResult(statistic=2.901693483620596, pvalue=0.044043109730074276)"
      ]
     },
     "execution_count": 11,
     "metadata": {},
     "output_type": "execute_result"
    }
   ],
   "source": [
    "#평균값이 0과 다른지 검정\n",
    "stats.ttest_1samp(diff,0)\n",
    "\n",
    "#p_value = 0.044043109730074276 \n",
    "#따라서 귀무가설(영가설)을 기각. 유의미한 차이가 있다고 주장할 수 있음.\n",
    "#약 복용후 체온의 차이가 존재한다고 봄."
   ]
  },
  {
   "cell_type": "markdown",
   "id": "662d34d2-11c9-470a-ab14-ee48a7254b96",
   "metadata": {},
   "source": [
    "### 독립표본 t 검정"
   ]
  },
  {
   "cell_type": "code",
   "execution_count": 12,
   "id": "2e26066a-4391-4716-8ff3-5e57de8bd125",
   "metadata": {},
   "outputs": [],
   "source": [
    "#평균치\n",
    "mean_bf = np.mean(before)\n",
    "mean_af = np.mean(after)"
   ]
  },
  {
   "cell_type": "code",
   "execution_count": 13,
   "id": "f22d887d-a971-4234-b90e-84838ba7a8af",
   "metadata": {},
   "outputs": [],
   "source": [
    "#분산\n",
    "sig_bf = np.var(before,ddof=1)\n",
    "sig_af = np.var(after,ddof=1)"
   ]
  },
  {
   "cell_type": "code",
   "execution_count": 14,
   "id": "666075b1-469f-4fe5-826c-2c3c0567820d",
   "metadata": {},
   "outputs": [],
   "source": [
    "#sample size\n",
    "m = len(before)\n",
    "n = len(after)"
   ]
  },
  {
   "cell_type": "code",
   "execution_count": 15,
   "id": "64cb6f51-2446-4e91-937e-105ee83ed9ba",
   "metadata": {},
   "outputs": [],
   "source": [
    "#t_value\n",
    "t_value = (mean_af - mean_bf) / np.sqrt((sig_bf/m+sig_af/n))"
   ]
  },
  {
   "cell_type": "code",
   "execution_count": 16,
   "id": "7d89abd1-f031-4a8b-b10c-0e2d020f9278",
   "metadata": {},
   "outputs": [
    {
     "data": {
      "text/plain": [
       "Ttest_indResult(statistic=3.1557282344421034, pvalue=0.013484775682079892)"
      ]
     },
     "execution_count": 16,
     "metadata": {},
     "output_type": "execute_result"
    }
   ],
   "source": [
    "#p_value\n",
    "# equal_var = False : 분산이 다르다고 가정한  t검정 (Welch 검정)\n",
    "stats.ttest_ind(after,before,equal_var=False) #independent\n",
    "\n",
    "#귀무가설(영가설)을 기각하고 유의미한 차이가 있다고 판단됨."
   ]
  },
  {
   "cell_type": "markdown",
   "id": "eeae72bf-9fdd-42b7-a299-4a4a774a36f5",
   "metadata": {},
   "source": [
    "- 카이제곱 검정 : 독립성 검정의 분할표 및 가설 설정 \n",
    "- 귀무가설(영가설) >> 두 범주형 변수 사이에 연관이 없다. (독립)\n",
    "- 대립가설 >> 두 범주형 변수 사이에 연관이 있다. (종속)\n",
    "\n"
   ]
  },
  {
   "cell_type": "markdown",
   "id": "ecfc4c62-800e-4344-8631-4351286cd2ae",
   "metadata": {},
   "source": [
    "### 카이제곱 검정\n"
   ]
  },
  {
   "cell_type": "code",
   "execution_count": 19,
   "id": "fce77faa-c1b7-4fd7-ac55-3ea251b8184f",
   "metadata": {},
   "outputs": [
    {
     "data": {
      "text/html": [
       "<div>\n",
       "<style scoped>\n",
       "    .dataframe tbody tr th:only-of-type {\n",
       "        vertical-align: middle;\n",
       "    }\n",
       "\n",
       "    .dataframe tbody tr th {\n",
       "        vertical-align: top;\n",
       "    }\n",
       "\n",
       "    .dataframe thead th {\n",
       "        text-align: right;\n",
       "    }\n",
       "</style>\n",
       "<table border=\"1\" class=\"dataframe\">\n",
       "  <thead>\n",
       "    <tr style=\"text-align: right;\">\n",
       "      <th></th>\n",
       "      <th>color</th>\n",
       "      <th>click</th>\n",
       "      <th>freq</th>\n",
       "    </tr>\n",
       "  </thead>\n",
       "  <tbody>\n",
       "    <tr>\n",
       "      <th>0</th>\n",
       "      <td>blue</td>\n",
       "      <td>click</td>\n",
       "      <td>20</td>\n",
       "    </tr>\n",
       "    <tr>\n",
       "      <th>1</th>\n",
       "      <td>blue</td>\n",
       "      <td>not</td>\n",
       "      <td>230</td>\n",
       "    </tr>\n",
       "    <tr>\n",
       "      <th>2</th>\n",
       "      <td>red</td>\n",
       "      <td>click</td>\n",
       "      <td>10</td>\n",
       "    </tr>\n",
       "    <tr>\n",
       "      <th>3</th>\n",
       "      <td>red</td>\n",
       "      <td>not</td>\n",
       "      <td>40</td>\n",
       "    </tr>\n",
       "  </tbody>\n",
       "</table>\n",
       "</div>"
      ],
      "text/plain": [
       "  color  click  freq\n",
       "0  blue  click    20\n",
       "1  blue    not   230\n",
       "2   red  click    10\n",
       "3   red    not    40"
      ]
     },
     "execution_count": 19,
     "metadata": {},
     "output_type": "execute_result"
    }
   ],
   "source": [
    "# 두 범주형 사이의 연관성을 알아볼때 사용한다 (독립성 검정)\n",
    "click_data = pd.read_csv('../Data/5_10_cd.csv')\n",
    "click_data"
   ]
  },
  {
   "cell_type": "code",
   "execution_count": 20,
   "id": "29addd95-f38a-497d-8b54-aebd83109bd8",
   "metadata": {},
   "outputs": [
    {
     "data": {
      "text/html": [
       "<div>\n",
       "<style scoped>\n",
       "    .dataframe tbody tr th:only-of-type {\n",
       "        vertical-align: middle;\n",
       "    }\n",
       "\n",
       "    .dataframe tbody tr th {\n",
       "        vertical-align: top;\n",
       "    }\n",
       "\n",
       "    .dataframe thead th {\n",
       "        text-align: right;\n",
       "    }\n",
       "</style>\n",
       "<table border=\"1\" class=\"dataframe\">\n",
       "  <thead>\n",
       "    <tr style=\"text-align: right;\">\n",
       "      <th>click</th>\n",
       "      <th>click</th>\n",
       "      <th>not</th>\n",
       "    </tr>\n",
       "    <tr>\n",
       "      <th>color</th>\n",
       "      <th></th>\n",
       "      <th></th>\n",
       "    </tr>\n",
       "  </thead>\n",
       "  <tbody>\n",
       "    <tr>\n",
       "      <th>blue</th>\n",
       "      <td>20</td>\n",
       "      <td>230</td>\n",
       "    </tr>\n",
       "    <tr>\n",
       "      <th>red</th>\n",
       "      <td>10</td>\n",
       "      <td>40</td>\n",
       "    </tr>\n",
       "  </tbody>\n",
       "</table>\n",
       "</div>"
      ],
      "text/plain": [
       "click  click  not\n",
       "color            \n",
       "blue      20  230\n",
       "red       10   40"
      ]
     },
     "execution_count": 20,
     "metadata": {},
     "output_type": "execute_result"
    }
   ],
   "source": [
    "# 분할표\n",
    "cross = pd.pivot_table(data=click_data,values='freq',aggfunc='sum',index='color',columns='click')\n",
    "cross"
   ]
  },
  {
   "cell_type": "code",
   "execution_count": 23,
   "id": "603c9c6d-4d17-4a73-a875-3bf4b1571f42",
   "metadata": {},
   "outputs": [
    {
     "data": {
      "text/plain": [
       "(6.666666666666666,\n",
       " 0.009823274507519247,\n",
       " 1,\n",
       " array([[ 25., 225.],\n",
       "        [  5.,  45.]]))"
      ]
     },
     "execution_count": 23,
     "metadata": {},
     "output_type": "execute_result"
    }
   ],
   "source": [
    "#카이스퀘어 통계량, p_value, 자유도, 기대도수표\n",
    "#카이스퀘어 겁ㅁ정 시 기대 도수ㅏ 전후 5이상 이어야함/\n",
    "stats.chi2_contingency(cross,correction=False) #고정하지 않은다.\n",
    "\n",
    "# o_value = 0.009823274507519247 p값이 0.0보다 작으므로 색에 따라 버튼을 클릭하는 것이 유의미하게 변한다고 판단."
   ]
  },
  {
   "cell_type": "markdown",
   "id": "b9f7b3fb-d45d-4276-9eca-c73265e42733",
   "metadata": {},
   "source": [
    "- 카이제곱 겁정(chi-squared test)또는 X2 검정은 카이제곱 분포에 기초한 통계적 방법으로, 관찰된 빈도가 기대 빈도와 통계적으로 다른지를 판단하는 검증방법임.\n",
    "- 카이제곱 검정에는 독립성 검정, 동질성 검정 등이 있음.\n",
    "- 독립성 검정과 동질성 검정은 분할표와 가설 설정 부분만 다르며 검정 수행방법은 동일한 과정으로 진행됨.\n",
    "- 독립성 검정은 하나의 모집단에서 표본추출하며 동질성 검정은 두 개 이상의 모집단에서 표본 추출하여 분할표를 만듦.\n",
    "- [독립성 검정 사례] 어느 병원에서 진료를 받은 환자의 나이와 진찰받은 부위를 구분하여 작성한 분할표이다. 나이와 진찰받은 부위가 서로 관계가 있는지 유의수준 5%에서 검정.\n",
    "- [동질성 검정 사례] 세 가지 토양의 종류(진흙,모래,로움)에 따른 새로운 잡종 식물의 성장상태를 알기 위해 진흙 65군데, 모래 60군데, 로움 60군데를 대상으로 실험을 행하여 다음과 같은 분할표를 작성하였다. 토양의 종류에 따라 식물의 성장상태가 다르다고 할 수 있는 지를 유의수준 5%에서 검정"
   ]
  },
  {
   "cell_type": "markdown",
   "id": "95964df0-5bc5-46bf-8469-44c851a2e8e3",
   "metadata": {},
   "source": [
    "- 수리모델 >> 현상을 수식으로 표현한 모델. ex) 맥주 매상 = 20 + 4 * 기온\n",
    "- 확률모델 : 확률적인 표현이 있는 모델. 확률분포를 사용. \n",
    "\n",
    "        ex) 맥주 매상(종속변수) ~ N(20 + 4 * 기온, 시그마2). 맥주 매상은 20 + 4 * 기온 + e, e ~ N(0,시그마2)를 따른다. \n",
    "        맥주 매상은 20 + 4 * 기온에 대해 평균이 0, 분산이 시그마2인 정규분포를 따르며 노이즈가 있다는 의미.\n",
    "\n",
    "\n",
    "- 통계모델: 데이터에 적합하게 구축된 모델. 맥주 매상 ~ N(10 + 5 * 기온, 시그마2) 확률모델의 구조를 생각하면서 데이터에 적합하게 파라미터(10 , 5) 를 조정해가며 통계모델을 구축\n",
    "\n",
    "- 확률분포와 통계모델 : 모집단에서 랜덤 샘플링을 하여 표본을 얻는 행동은 모집단 분포를 따르는 난수를 발생시키는 것과 같다. 통계모델을 사용하면 확률분포의 모수 (파라미터)의 변화 패턴을 명확히 할 수 있다. \n",
    "\n",
    "        즉 언급한 모델은 '기온이 올라가면 맥주 매상의 평균값이 증가한다'와 같은 구조라는 것을 알 수 있다. 통계모델에 의한 예측은 기온이라는 독립변수를 얻는 것이 조건인 매상의 확률분포, 즉 조건부 확률분포의 형태로 얻을 수 있으며 예측값의 대표값은 조건부 기댓값을 사용한다. 기온이 10°C 일 때의 매상 예측은 기댓값이 60, 분산이 시그마2인 정규분포를 따르는 매상 데이터를 얻을 것이라는 주장이 된다.\n",
    "        \n",
    "- 모데링에 초점 : 날씨와 세일이라는 2가지 영향을 동시에 평가하는 통계모델을 만든다면 더욱 올바른 효과를 분석할 수 있다.\n",
    "\n",
    "        통계모델은 잠정적인 세계의 모형으로\n",
    "        - 통계모델을 구축시 파라미터의 추정을 틀리게 하면 올바른 해석을 할 수 없다.\n",
    "        - 분석에 사용하는 데이터에 문제가 있는 경우도 올바른 모델을 만들 수 없다.\n",
    "\n",
    "- 통계모델에 사용되는 파라미터를 계수라고 하는 반면 머신러닝에서는 '가중치'라고 표현함."
   ]
  },
  {
   "cell_type": "code",
   "execution_count": 26,
   "id": "1775967b-79bb-441b-b9a8-65e4ccda8f36",
   "metadata": {},
   "outputs": [],
   "source": [
    "# statsmodels"
   ]
  },
  {
   "cell_type": "code",
   "execution_count": 28,
   "id": "e5a40c00-e585-4e98-a163-8a0817a802c6",
   "metadata": {},
   "outputs": [],
   "source": [
    "import statsmodels.formula.api as smf\n",
    "import statsmodels.api as sm\n",
    "import seaborn as sns\n",
    "import matplotlib.pyplot as plt"
   ]
  },
  {
   "cell_type": "code",
   "execution_count": 29,
   "id": "3fcd15af-1cf5-4241-a9c2-cb9e19e0c868",
   "metadata": {},
   "outputs": [],
   "source": [
    "beer = pd.read_csv('../Data/7_1_beer.csv')"
   ]
  },
  {
   "cell_type": "code",
   "execution_count": 30,
   "id": "87c0eb87-0ef9-443b-bcc1-1bff9e133d58",
   "metadata": {},
   "outputs": [
    {
     "data": {
      "text/html": [
       "<div>\n",
       "<style scoped>\n",
       "    .dataframe tbody tr th:only-of-type {\n",
       "        vertical-align: middle;\n",
       "    }\n",
       "\n",
       "    .dataframe tbody tr th {\n",
       "        vertical-align: top;\n",
       "    }\n",
       "\n",
       "    .dataframe thead th {\n",
       "        text-align: right;\n",
       "    }\n",
       "</style>\n",
       "<table border=\"1\" class=\"dataframe\">\n",
       "  <thead>\n",
       "    <tr style=\"text-align: right;\">\n",
       "      <th></th>\n",
       "      <th>beer</th>\n",
       "      <th>temperature</th>\n",
       "    </tr>\n",
       "  </thead>\n",
       "  <tbody>\n",
       "    <tr>\n",
       "      <th>0</th>\n",
       "      <td>45.3</td>\n",
       "      <td>20.5</td>\n",
       "    </tr>\n",
       "    <tr>\n",
       "      <th>1</th>\n",
       "      <td>59.3</td>\n",
       "      <td>25.0</td>\n",
       "    </tr>\n",
       "    <tr>\n",
       "      <th>2</th>\n",
       "      <td>40.4</td>\n",
       "      <td>10.0</td>\n",
       "    </tr>\n",
       "    <tr>\n",
       "      <th>3</th>\n",
       "      <td>38.0</td>\n",
       "      <td>26.9</td>\n",
       "    </tr>\n",
       "    <tr>\n",
       "      <th>4</th>\n",
       "      <td>37.0</td>\n",
       "      <td>15.8</td>\n",
       "    </tr>\n",
       "    <tr>\n",
       "      <th>5</th>\n",
       "      <td>40.9</td>\n",
       "      <td>4.2</td>\n",
       "    </tr>\n",
       "    <tr>\n",
       "      <th>6</th>\n",
       "      <td>60.2</td>\n",
       "      <td>13.5</td>\n",
       "    </tr>\n",
       "    <tr>\n",
       "      <th>7</th>\n",
       "      <td>63.3</td>\n",
       "      <td>26.0</td>\n",
       "    </tr>\n",
       "    <tr>\n",
       "      <th>8</th>\n",
       "      <td>51.1</td>\n",
       "      <td>23.3</td>\n",
       "    </tr>\n",
       "    <tr>\n",
       "      <th>9</th>\n",
       "      <td>44.9</td>\n",
       "      <td>8.5</td>\n",
       "    </tr>\n",
       "    <tr>\n",
       "      <th>10</th>\n",
       "      <td>47.0</td>\n",
       "      <td>26.2</td>\n",
       "    </tr>\n",
       "    <tr>\n",
       "      <th>11</th>\n",
       "      <td>53.2</td>\n",
       "      <td>19.1</td>\n",
       "    </tr>\n",
       "    <tr>\n",
       "      <th>12</th>\n",
       "      <td>43.5</td>\n",
       "      <td>24.3</td>\n",
       "    </tr>\n",
       "    <tr>\n",
       "      <th>13</th>\n",
       "      <td>53.2</td>\n",
       "      <td>23.3</td>\n",
       "    </tr>\n",
       "    <tr>\n",
       "      <th>14</th>\n",
       "      <td>37.4</td>\n",
       "      <td>8.4</td>\n",
       "    </tr>\n",
       "    <tr>\n",
       "      <th>15</th>\n",
       "      <td>59.9</td>\n",
       "      <td>23.5</td>\n",
       "    </tr>\n",
       "    <tr>\n",
       "      <th>16</th>\n",
       "      <td>41.5</td>\n",
       "      <td>13.9</td>\n",
       "    </tr>\n",
       "    <tr>\n",
       "      <th>17</th>\n",
       "      <td>75.1</td>\n",
       "      <td>35.5</td>\n",
       "    </tr>\n",
       "    <tr>\n",
       "      <th>18</th>\n",
       "      <td>55.6</td>\n",
       "      <td>27.2</td>\n",
       "    </tr>\n",
       "    <tr>\n",
       "      <th>19</th>\n",
       "      <td>57.2</td>\n",
       "      <td>20.5</td>\n",
       "    </tr>\n",
       "    <tr>\n",
       "      <th>20</th>\n",
       "      <td>46.5</td>\n",
       "      <td>10.2</td>\n",
       "    </tr>\n",
       "    <tr>\n",
       "      <th>21</th>\n",
       "      <td>35.8</td>\n",
       "      <td>20.5</td>\n",
       "    </tr>\n",
       "    <tr>\n",
       "      <th>22</th>\n",
       "      <td>51.9</td>\n",
       "      <td>21.6</td>\n",
       "    </tr>\n",
       "    <tr>\n",
       "      <th>23</th>\n",
       "      <td>38.2</td>\n",
       "      <td>7.9</td>\n",
       "    </tr>\n",
       "    <tr>\n",
       "      <th>24</th>\n",
       "      <td>66.0</td>\n",
       "      <td>42.2</td>\n",
       "    </tr>\n",
       "    <tr>\n",
       "      <th>25</th>\n",
       "      <td>55.3</td>\n",
       "      <td>23.9</td>\n",
       "    </tr>\n",
       "    <tr>\n",
       "      <th>26</th>\n",
       "      <td>55.3</td>\n",
       "      <td>36.9</td>\n",
       "    </tr>\n",
       "    <tr>\n",
       "      <th>27</th>\n",
       "      <td>43.3</td>\n",
       "      <td>8.9</td>\n",
       "    </tr>\n",
       "    <tr>\n",
       "      <th>28</th>\n",
       "      <td>70.5</td>\n",
       "      <td>36.4</td>\n",
       "    </tr>\n",
       "    <tr>\n",
       "      <th>29</th>\n",
       "      <td>38.8</td>\n",
       "      <td>6.4</td>\n",
       "    </tr>\n",
       "  </tbody>\n",
       "</table>\n",
       "</div>"
      ],
      "text/plain": [
       "    beer  temperature\n",
       "0   45.3         20.5\n",
       "1   59.3         25.0\n",
       "2   40.4         10.0\n",
       "3   38.0         26.9\n",
       "4   37.0         15.8\n",
       "5   40.9          4.2\n",
       "6   60.2         13.5\n",
       "7   63.3         26.0\n",
       "8   51.1         23.3\n",
       "9   44.9          8.5\n",
       "10  47.0         26.2\n",
       "11  53.2         19.1\n",
       "12  43.5         24.3\n",
       "13  53.2         23.3\n",
       "14  37.4          8.4\n",
       "15  59.9         23.5\n",
       "16  41.5         13.9\n",
       "17  75.1         35.5\n",
       "18  55.6         27.2\n",
       "19  57.2         20.5\n",
       "20  46.5         10.2\n",
       "21  35.8         20.5\n",
       "22  51.9         21.6\n",
       "23  38.2          7.9\n",
       "24  66.0         42.2\n",
       "25  55.3         23.9\n",
       "26  55.3         36.9\n",
       "27  43.3          8.9\n",
       "28  70.5         36.4\n",
       "29  38.8          6.4"
      ]
     },
     "execution_count": 30,
     "metadata": {},
     "output_type": "execute_result"
    }
   ],
   "source": [
    "beer"
   ]
  },
  {
   "cell_type": "code",
   "execution_count": 32,
   "id": "5679325f-15a6-4c9d-974a-d33311831c21",
   "metadata": {},
   "outputs": [
    {
     "data": {
      "text/plain": [
       "Index(['beer', 'temperature'], dtype='object')"
      ]
     },
     "execution_count": 32,
     "metadata": {},
     "output_type": "execute_result"
    }
   ],
   "source": [
    "beer.columns"
   ]
  },
  {
   "cell_type": "code",
   "execution_count": 38,
   "id": "ad09c4e7-2dc1-49ae-af21-16c4af4ad492",
   "metadata": {},
   "outputs": [
    {
     "data": {
      "text/plain": [
       "<seaborn.axisgrid.JointGrid at 0x1ff4900f730>"
      ]
     },
     "execution_count": 38,
     "metadata": {},
     "output_type": "execute_result"
    },
    {
     "data": {
      "image/png": "[encoded data removed]",
      "text/plain": [
       "<Figure size 432x432 with 3 Axes>"
      ]
     },
     "metadata": {
      "needs_background": "light"
     },
     "output_type": "display_data"
    }
   ],
   "source": [
    "sns.jointplot(x='temperature',y='beer',kind='reg',data=beer,color='k')"
   ]
  },
  {
   "cell_type": "code",
   "execution_count": 39,
   "id": "77b429cb-8c7b-41b4-99e2-4bebc59cf263",
   "metadata": {},
   "outputs": [],
   "source": [
    "# 절대값이 아닌 제곱을 사용하는 이유 >> 로드가 오래걸리지 않는다."
   ]
  },
  {
   "cell_type": "code",
   "execution_count": 40,
   "id": "9e3d24b8-00a8-4f22-a79f-998ad282a2bd",
   "metadata": {},
   "outputs": [],
   "source": [
    "lm_model = smf.ols(formula = \"beer ~ temperature\", data = beer).fit()"
   ]
  },
  {
   "cell_type": "code",
   "execution_count": 41,
   "id": "4f187882-7b00-47d4-8ba6-c2ee05b89d30",
   "metadata": {},
   "outputs": [
    {
     "data": {
      "text/html": [
       "<table class=\"simpletable\">\n",
       "<caption>OLS Regression Results</caption>\n",
       "<tr>\n",
       "  <th>Dep. Variable:</th>          <td>beer</td>       <th>  R-squared:         </th> <td>   0.504</td>\n",
       "</tr>\n",
       "<tr>\n",
       "  <th>Model:</th>                   <td>OLS</td>       <th>  Adj. R-squared:    </th> <td>   0.486</td>\n",
       "</tr>\n",
       "<tr>\n",
       "  <th>Method:</th>             <td>Least Squares</td>  <th>  F-statistic:       </th> <td>   28.45</td>\n",
       "</tr>\n",
       "<tr>\n",
       "  <th>Date:</th>             <td>Tue, 17 Aug 2021</td> <th>  Prob (F-statistic):</th> <td>1.11e-05</td>\n",
       "</tr>\n",
       "<tr>\n",
       "  <th>Time:</th>                 <td>14:14:22</td>     <th>  Log-Likelihood:    </th> <td> -102.45</td>\n",
       "</tr>\n",
       "<tr>\n",
       "  <th>No. Observations:</th>      <td>    30</td>      <th>  AIC:               </th> <td>   208.9</td>\n",
       "</tr>\n",
       "<tr>\n",
       "  <th>Df Residuals:</th>          <td>    28</td>      <th>  BIC:               </th> <td>   211.7</td>\n",
       "</tr>\n",
       "<tr>\n",
       "  <th>Df Model:</th>              <td>     1</td>      <th>                     </th>     <td> </td>   \n",
       "</tr>\n",
       "<tr>\n",
       "  <th>Covariance Type:</th>      <td>nonrobust</td>    <th>                     </th>     <td> </td>   \n",
       "</tr>\n",
       "</table>\n",
       "<table class=\"simpletable\">\n",
       "<tr>\n",
       "       <td></td>          <th>coef</th>     <th>std err</th>      <th>t</th>      <th>P>|t|</th>  <th>[0.025</th>    <th>0.975]</th>  \n",
       "</tr>\n",
       "<tr>\n",
       "  <th>Intercept</th>   <td>   34.6102</td> <td>    3.235</td> <td>   10.699</td> <td> 0.000</td> <td>   27.984</td> <td>   41.237</td>\n",
       "</tr>\n",
       "<tr>\n",
       "  <th>temperature</th> <td>    0.7654</td> <td>    0.144</td> <td>    5.334</td> <td> 0.000</td> <td>    0.471</td> <td>    1.059</td>\n",
       "</tr>\n",
       "</table>\n",
       "<table class=\"simpletable\">\n",
       "<tr>\n",
       "  <th>Omnibus:</th>       <td> 0.587</td> <th>  Durbin-Watson:     </th> <td>   1.960</td>\n",
       "</tr>\n",
       "<tr>\n",
       "  <th>Prob(Omnibus):</th> <td> 0.746</td> <th>  Jarque-Bera (JB):  </th> <td>   0.290</td>\n",
       "</tr>\n",
       "<tr>\n",
       "  <th>Skew:</th>          <td>-0.240</td> <th>  Prob(JB):          </th> <td>   0.865</td>\n",
       "</tr>\n",
       "<tr>\n",
       "  <th>Kurtosis:</th>      <td> 2.951</td> <th>  Cond. No.          </th> <td>    52.5</td>\n",
       "</tr>\n",
       "</table><br/><br/>Notes:<br/>[1] Standard Errors assume that the covariance matrix of the errors is correctly specified."
      ],
      "text/plain": [
       "<class 'statsmodels.iolib.summary.Summary'>\n",
       "\"\"\"\n",
       "                            OLS Regression Results                            \n",
       "==============================================================================\n",
       "Dep. Variable:                   beer   R-squared:                       0.504\n",
       "Model:                            OLS   Adj. R-squared:                  0.486\n",
       "Method:                 Least Squares   F-statistic:                     28.45\n",
       "Date:                Tue, 17 Aug 2021   Prob (F-statistic):           1.11e-05\n",
       "Time:                        14:14:22   Log-Likelihood:                -102.45\n",
       "No. Observations:                  30   AIC:                             208.9\n",
       "Df Residuals:                      28   BIC:                             211.7\n",
       "Df Model:                           1                                         \n",
       "Covariance Type:            nonrobust                                         \n",
       "===============================================================================\n",
       "                  coef    std err          t      P>|t|      [0.025      0.975]\n",
       "-------------------------------------------------------------------------------\n",
       "Intercept      34.6102      3.235     10.699      0.000      27.984      41.237\n",
       "temperature     0.7654      0.144      5.334      0.000       0.471       1.059\n",
       "==============================================================================\n",
       "Omnibus:                        0.587   Durbin-Watson:                   1.960\n",
       "Prob(Omnibus):                  0.746   Jarque-Bera (JB):                0.290\n",
       "Skew:                          -0.240   Prob(JB):                        0.865\n",
       "Kurtosis:                       2.951   Cond. No.                         52.5\n",
       "==============================================================================\n",
       "\n",
       "Notes:\n",
       "[1] Standard Errors assume that the covariance matrix of the errors is correctly specified.\n",
       "\"\"\""
      ]
     },
     "execution_count": 41,
     "metadata": {},
     "output_type": "execute_result"
    }
   ],
   "source": [
    "lm_model.summary()"
   ]
  },
  {
   "cell_type": "markdown",
   "id": "950566eb-d07a-4865-adb8-7ee9b8727d38",
   "metadata": {},
   "source": [
    "#### OLS Regression 최소자승법 해석"
   ]
  },
  {
   "cell_type": "markdown",
   "id": "7cfed844-9f1b-4515-bfdb-cea051eef560",
   "metadata": {},
   "source": [
    "    Dep.Variable > 목표 변수\n",
    "    Model > 회귀 분석 모델 (여기선: OLS)\n",
    "    Method > 파라미터 최적화 방법 (OLS >> LS)\n",
    "    No.Observations > 분석에 사용한 데이터 쌍 개수, 관찰 개수\n",
    "    Df Residuals > 잔차의 자유도. No.Observations -- 파라미터 수\n",
    "    Df Model > 모델에서 추정하는 파라미터 수\n",
    "    R-squared > 결정계수. 선형 모형이 적한한지에 대한 척도. 0.4이상 유의미\n",
    "    ADj.R-squared > 파라미터 수, 모델에 도움이 되는 데이터에 따라 조정된 결정계수 (수정결정계수)\n",
    "    F-statistic > 도출된 회귀 식이 적절한지 (0에 가까울수록 적절함)\n",
    "    Prob(F-statistic) > P_value . 회귀식이 얼마나 유의미한가. 유의계수\n",
    "    AIC(Akaike Information Criterion) > 관찰 개수와 모델 자체의 복잡성을 기반으로 모델을 평가하는 점수 (낮을수록 좋음)\n",
    "    BIC(Bayesian Information Criterion) > AIC와 유사하나 패널티항이 더 많기 때문에 AIC보다 성능이 더 좋음 (낮을수록 좋음.)\n",
    "    \n",
    "* 일반적으로 R값으로 선형 모델의 적합도를 판단, P_value로 변수끼리 상관관계를 판단.\n",
    "\n",
    "    Coef > 계수 ( 여기선 Y = temperature * RM - beer )\n",
    "    std err > 표준 오차\n",
    "    t > 독립변수, 종속 변수 사이의 관계 \n",
    "    P > |t| 독립변수의 유의확률. \n",
    "    \n",
    "* 선형 회귀는 특정한 조건(학습 값의 범위 등)에서만 정확한 값을 나타낸다는 것\n",
    "\n",
    "    Omnibus > 디아고스티노 검정. 비대칭도와 첨도를 결합한 정규성 테스트 (값이 클수록 정규 분포를 따른다)\n",
    "    Skewness > 왜도. 평균 주위의 잔차들의 대칭 여부, 0에 가까울 수록 대칭\n",
    "    Kurtosis > 첨도. 잔차들의 분포 모양, 종 모양 일 수록 0에 가까움.\n",
    "    Durbin-Watson > 더빈 왓슨 정규성 검정. 잔차의 독립성 여부를 판단.(1.5~2.5일 때 잔차들은 독립적 회귀모델을 적합한다. 0 또는 4에 가까울수록 잔차들은 자기상관을 갖고 있어 회귀모델에 부적합하다.\n",
    "    Jarque-Bera(JB) > 자크 베라 정규성 검정. 값이 클수록 정규 분포의 데이터를 사용.\n",
    "    Cond. No >  다중공선성 검정. 독립 변숙간 상관관계가 있는지 검정 10이상일 경우 다중공선성 문제가 있다고 판단. 변수가 1개일 때에는 의미가 없다.\n",
    "    \n",
    "* 평균에서 멀리 떨어져 있는 데이터를 확이;ㄴ하여 삭제할지를 판단\n",
    "    \n",
    "    "
   ]
  },
  {
   "cell_type": "code",
   "execution_count": 45,
   "id": "c7082bf4-fd53-4a11-851a-b25b11514ed7",
   "metadata": {},
   "outputs": [
    {
     "data": {
      "text/plain": [
       "227.94194972563105"
      ]
     },
     "execution_count": 45,
     "metadata": {},
     "output_type": "execute_result"
    }
   ],
   "source": [
    "null_model = smf.ols('beer ~ 1 ', data = beer).fit()\n",
    "null_model.aic"
   ]
  },
  {
   "cell_type": "code",
   "execution_count": 46,
   "id": "6f492332-9c35-4ed7-8bfd-d2b57e6a407c",
   "metadata": {},
   "outputs": [
    {
     "data": {
      "text/plain": [
       "208.9090293557544"
      ]
     },
     "execution_count": 46,
     "metadata": {},
     "output_type": "execute_result"
    }
   ],
   "source": [
    "lm_model = smf.ols('beer ~ temperature', data=beer).fit()\n",
    "lm_model.aic"
   ]
  },
  {
   "cell_type": "code",
   "execution_count": 47,
   "id": "62bea754-ac2f-4243-9c2c-267201960293",
   "metadata": {},
   "outputs": [
    {
     "data": {
      "text/plain": [
       "array([50.3014808 , 53.74590495, 42.26449113, 55.20021737, 46.70397114,\n",
       "       37.82501112, 44.94348769, 54.51133254, 52.44467805, 41.11634975,\n",
       "       54.66441806, 49.22988218, 53.21010564, 52.44467805, 41.03980699,\n",
       "       52.59776357, 45.24965873, 61.78289462, 55.42984564, 50.3014808 ,\n",
       "       42.41757665, 50.3014808 , 51.14345115, 40.6570932 , 66.91125946,\n",
       "       52.9039346 , 62.85449324, 41.42252079, 62.47177945, 39.50895182])"
      ]
     },
     "execution_count": 47,
     "metadata": {},
     "output_type": "execute_result"
    }
   ],
   "source": [
    "lm_model.predict()"
   ]
  },
  {
   "cell_type": "code",
   "execution_count": 48,
   "id": "27a3fcb6-6a56-4d25-b9bf-61d354f6424a",
   "metadata": {},
   "outputs": [
    {
     "data": {
      "text/plain": [
       "0    34.610215\n",
       "dtype: float64"
      ]
     },
     "execution_count": 48,
     "metadata": {},
     "output_type": "execute_result"
    }
   ],
   "source": [
    "# 기온이 0도 일 때 맥주 매상의 기댓값\n",
    "lm_model.predict(pd.DataFrame({'temperature':[0]}))"
   ]
  },
  {
   "cell_type": "code",
   "execution_count": 49,
   "id": "5c00ed53-b7a3-462b-b3cf-4b05112f7d31",
   "metadata": {},
   "outputs": [
    {
     "data": {
      "text/plain": [
       "Intercept      34.610215\n",
       "temperature     0.765428\n",
       "dtype: float64"
      ]
     },
     "execution_count": 49,
     "metadata": {},
     "output_type": "execute_result"
    }
   ],
   "source": [
    "lm_model.params"
   ]
  },
  {
   "cell_type": "code",
   "execution_count": 57,
   "id": "23eb66fc-1b1c-4ff2-bedb-ea97eef669ef",
   "metadata": {},
   "outputs": [
    {
     "name": "stdout",
     "output_type": "stream",
     "text": [
      "수식 49.91876701095053\n",
      "20도일때 0    49.918767\n",
      "dtype: float64\n"
     ]
    }
   ],
   "source": [
    "beta0 = lm_model.params[0]\n",
    "beta1 = lm_model.params[1]\n",
    "temperature = 20\n",
    "print(\"수식\", beta0 + beta1 * temperature)\n",
    "print(\"20도일때\", lm_model.predict(pd.DataFrame({'temperature':[20]})))"
   ]
  },
  {
   "cell_type": "code",
   "execution_count": 58,
   "id": "541cb742-8134-4e97-b45c-294b28a89bb0",
   "metadata": {},
   "outputs": [
    {
     "data": {
      "text/plain": [
       "0    -5.001481\n",
       "1     5.554095\n",
       "2    -1.864491\n",
       "3   -17.200217\n",
       "4    -9.703971\n",
       "dtype: float64"
      ]
     },
     "execution_count": 58,
     "metadata": {},
     "output_type": "execute_result"
    }
   ],
   "source": [
    "#잔차계산\n",
    "resid = lm_model.resid\n",
    "resid.head()"
   ]
  },
  {
   "cell_type": "code",
   "execution_count": 60,
   "id": "f1d53b5d-d9f0-4134-acaf-5ca7a48af870",
   "metadata": {},
   "outputs": [
    {
     "data": {
      "text/plain": [
       "0    -5.001481\n",
       "1     5.554095\n",
       "2    -1.864491\n",
       "3   -17.200217\n",
       "4    -9.703971\n",
       "dtype: float64"
      ]
     },
     "execution_count": 60,
     "metadata": {},
     "output_type": "execute_result"
    }
   ],
   "source": [
    "#잔차 = 실제값 -예측값\n",
    "y_hat = beta0 + beta1 * beer.temperature  #예측값\n",
    "(beer.beer - y_hat).head() #실제값"
   ]
  },
  {
   "cell_type": "code",
   "execution_count": 62,
   "id": "aac30f50-bc91-4d97-a377-3d043a6d350d",
   "metadata": {},
   "outputs": [
    {
     "data": {
      "text/plain": [
       "0.503959323061188"
      ]
     },
     "execution_count": 62,
     "metadata": {},
     "output_type": "execute_result"
    }
   ],
   "source": [
    "#결정계수 R.squared\n",
    "mu = np.mean(beer.beer)\n",
    "y = beer.beer\n",
    "y_hat = lm_model.predict()\n",
    "\n",
    "np.sum((y_hat - mu) ** 2) / np.sum((y - mu) ** 2)"
   ]
  },
  {
   "cell_type": "code",
   "execution_count": 66,
   "id": "f37619a5-38ea-44f9-93ff-6d26938a9d65",
   "metadata": {},
   "outputs": [
    {
     "data": {
      "text/plain": [
       "0.48624358459908523"
      ]
     },
     "execution_count": 66,
     "metadata": {},
     "output_type": "execute_result"
    }
   ],
   "source": [
    "#수정 결정계수 adj.R.squared\n",
    "#독립변수의 수가 증가하면 결정계수가 커지는 경향을 조정하기 위해 독립변수가 늘어나는 것에 대하여 퍠널티를 부여\n",
    "n = len(beer.beer)\n",
    "s = 1 # 독립변수의 수\n",
    "1 - ((np.sum(resid ** 2) / (n-s-1)) /(np.sum((y-mu) ** 2) / (n-1)))  "
   ]
  },
  {
   "cell_type": "code",
   "execution_count": 69,
   "id": "e1446bfc-62b6-4600-b9a3-dae0eb0f32c2",
   "metadata": {},
   "outputs": [
    {
     "data": {
      "text/plain": [
       "0.4862435845990851"
      ]
     },
     "execution_count": 69,
     "metadata": {},
     "output_type": "execute_result"
    }
   ],
   "source": [
    "lm_model.rsquared_adj"
   ]
  },
  {
   "cell_type": "markdown",
   "id": "e08f6306-884e-43b0-a5bd-85415ee6ee86",
   "metadata": {},
   "source": [
    "종속변수의 변동 크기는 모델로 설명 가능한 변동과 설명 못 하는 잔차 제곱합으로 분해할 수 있다."
   ]
  },
  {
   "cell_type": "code",
   "execution_count": 70,
   "id": "96f59507-536c-47db-be7c-a5ed39be6ebe",
   "metadata": {},
   "outputs": [
    {
     "data": {
      "text/plain": [
       "3277.1146666666655"
      ]
     },
     "execution_count": 70,
     "metadata": {},
     "output_type": "execute_result"
    }
   ],
   "source": [
    "np.sum( (y - mu) ** 2   )"
   ]
  },
  {
   "cell_type": "code",
   "execution_count": 75,
   "id": "3d89ed63-c265-4177-a434-fe9754138718",
   "metadata": {},
   "outputs": [
    {
     "data": {
      "text/plain": [
       "3277.1146666666727"
      ]
     },
     "execution_count": 75,
     "metadata": {},
     "output_type": "execute_result"
    }
   ],
   "source": [
    "np.sum ( (y_hat-mu) ** 2)  +  sum(resid **2 )   #모델이 설명 가능한 부분 + 모델이 설명하지 못하는 잔차의 제곱 합"
   ]
  },
  {
   "cell_type": "code",
   "execution_count": 92,
   "id": "21083856-2015-4778-bf72-e4229ba43b8f",
   "metadata": {},
   "outputs": [
    {
     "data": {
      "text/plain": [
       "<AxesSubplot:ylabel='Density'>"
      ]
     },
     "execution_count": 92,
     "metadata": {},
     "output_type": "execute_result"
    },
    {
     "data": {
      "image/png": "[encoded data removed]",
      "text/plain": [
       "<Figure size 720x576 with 2 Axes>"
      ]
     },
     "metadata": {
      "needs_background": "light"
     },
     "output_type": "display_data"
    }
   ],
   "source": [
    "import warnings\n",
    "warnings.filterwarnings('ignore')\n",
    "# 잔차 그래프\n",
    "fig = plt.figure(figsize=(10,8))\n",
    "ax1 = fig.add_subplot(1,2,1)\n",
    "ax2 = fig.add_subplot(1,2,2)\n",
    "sns.histplot(resid, kde=True,ax=ax1) #count\n",
    "sns.distplot(resid,ax=ax2) #density"
   ]
  },
  {
   "cell_type": "code",
   "execution_count": 96,
   "id": "f4199da2-3a81-430f-a568-1bec8ce2541f",
   "metadata": {},
   "outputs": [
    {
     "data": {
      "text/plain": [
       "<seaborn.axisgrid.JointGrid at 0x1ff4b0c8df0>"
      ]
     },
     "execution_count": 96,
     "metadata": {},
     "output_type": "execute_result"
    },
    {
     "data": {
      "image/png": "[encoded data removed]",
      "text/plain": [
       "<Figure size 432x432 with 3 Axes>"
      ]
     },
     "metadata": {
      "needs_background": "light"
     },
     "output_type": "display_data"
    }
   ],
   "source": [
    "#잔차의 산포도 : x축 적합도, y축 잔차 \n",
    "sns.jointplot(lm_model.fittedvalues, resid, kind='reg')"
   ]
  },
  {
   "cell_type": "code",
   "execution_count": null,
   "id": "be9e67eb-c80a-4607-9d31-19d11b5ecf34",
   "metadata": {},
   "outputs": [],
   "source": [
    "# Q-Q plot : 이론상의 분위점과 "
   ]
  }
 ],
 "metadata": {
  "kernelspec": {
   "display_name": "Python 3",
   "language": "python",
   "name": "python3"
  },
  "language_info": {
   "codemirror_mode": {
    "name": "ipython",
    "version": 3
   },
   "file_extension": ".py",
   "mimetype": "text/x-python",
   "name": "python",
   "nbconvert_exporter": "python",
   "pygments_lexer": "ipython3",
   "version": "3.8.10"
  },
  "widgets": {
   "application/vnd.jupyter.widget-state+json": {
    "state": {},
    "version_major": 2,
    "version_minor": 0
   }
  }
 },
 "nbformat": 4,
 "nbformat_minor": 5
}
