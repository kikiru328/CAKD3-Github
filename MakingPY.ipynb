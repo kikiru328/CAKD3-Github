{
 "cells": [
  {
   "cell_type": "code",
   "execution_count": 4,
   "id": "d0dc0f3f",
   "metadata": {},
   "outputs": [],
   "source": [
    "from MakingPY import *"
   ]
  },
  {
   "cell_type": "code",
   "execution_count": 2,
   "id": "7048bc34",
   "metadata": {},
   "outputs": [
    {
     "name": "stdout",
     "output_type": "stream",
     "text": [
      "This place where i fork you\n"
     ]
    }
   ],
   "source": [
    "hello()"
   ]
  },
  {
   "cell_type": "markdown",
   "id": "66d111f1",
   "metadata": {},
   "source": [
    "%cd << 작업환경 위치설정"
   ]
  },
  {
   "cell_type": "code",
   "execution_count": 3,
   "id": "2a3a5f9a",
   "metadata": {},
   "outputs": [
    {
     "name": "stdout",
     "output_type": "stream",
     "text": [
      "C:\\Users\\kikir\\Desktop\\forkme\n"
     ]
    }
   ],
   "source": [
    "%cd C:\\Users\\kikir\\Desktop\\forkme"
   ]
  },
  {
   "cell_type": "raw",
   "id": "eaa9b393",
   "metadata": {},
   "source": [
    "current directory"
   ]
  },
  {
   "cell_type": "code",
   "execution_count": 5,
   "id": "6d55b2d1",
   "metadata": {},
   "outputs": [
    {
     "name": "stdout",
     "output_type": "stream",
     "text": [
      "D:\\CAKD3\\Workspace\\CAKD3-Github\n"
     ]
    }
   ],
   "source": [
    "%cd D:\\CAKD3\\Workspace\\CAKD3-Github"
   ]
  },
  {
   "cell_type": "code",
   "execution_count": 6,
   "id": "00cd6399",
   "metadata": {},
   "outputs": [
    {
     "name": "stdout",
     "output_type": "stream",
     "text": [
      "This place where i fork you\n"
     ]
    }
   ],
   "source": [
    "hello()"
   ]
  },
  {
   "cell_type": "code",
   "execution_count": null,
   "id": "077e2d4d",
   "metadata": {},
   "outputs": [],
   "source": []
  }
 ],
 "metadata": {
  "kernelspec": {
   "display_name": "Python 3",
   "language": "python",
   "name": "python3"
  },
  "language_info": {
   "codemirror_mode": {
    "name": "ipython",
    "version": 3
   },
   "file_extension": ".py",
   "mimetype": "text/x-python",
   "name": "python",
   "nbconvert_exporter": "python",
   "pygments_lexer": "ipython3",
   "version": "3.8.11"
  }
 },
 "nbformat": 4,
 "nbformat_minor": 5
}
