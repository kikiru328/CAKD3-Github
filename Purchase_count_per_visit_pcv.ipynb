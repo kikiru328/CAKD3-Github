{
  "nbformat": 4,
  "nbformat_minor": 0,
  "metadata": {
    "colab": {
      "name": "Purchase count per visit pcv.ipynb",
      "provenance": [],
      "collapsed_sections": [],
      "machine_shape": "hm",
      "authorship_tag": "ABX9TyMa2KCTfULwepPQK+yiYRDm",
      "include_colab_link": true
    },
    "kernelspec": {
      "name": "python3",
      "display_name": "Python 3"
    },
    "language_info": {
      "name": "python"
    },
    "accelerator": "GPU"
  },
  "cells": [
    {
      "cell_type": "markdown",
      "metadata": {
        "id": "view-in-github",
        "colab_type": "text"
      },
      "source": [
        "<a href=\"https://colab.research.google.com/github/kikiru328/CAKD3-Github/blob/main/Purchase_count_per_visit_pcv.ipynb\" target=\"_parent\"><img src=\"https://colab.research.google.com/assets/colab-badge.svg\" alt=\"Open In Colab\"/></a>"
      ]
    },
    {
      "cell_type": "code",
      "metadata": {
        "id": "YMHoyGxAvvvt",
        "colab": {
          "base_uri": "https://localhost:8080/"
        },
        "outputId": "683838f1-8fb1-4465-dfe4-df595f84b1f1"
      },
      "source": [
        "import os, sys\n",
        "from google.colab import drive\n",
        "drive.mount('/content/drive')\n",
        "my_path = '/content/notebooks'\n",
        "os.symlink('/content/drive/My Drive/Colab Notebooks', my_path)\n",
        "sys.path.insert(0,my_path)\n"
      ],
      "execution_count": 1,
      "outputs": [
        {
          "output_type": "stream",
          "name": "stdout",
          "text": [
            "Mounted at /content/drive\n"
          ]
        }
      ]
    },
    {
      "cell_type": "code",
      "metadata": {
        "colab": {
          "base_uri": "https://localhost:8080/"
        },
        "id": "VjEX1T2Ovw87",
        "outputId": "5c31dd9c-8256-4a09-e3bb-8a17981ac2cc"
      },
      "source": [
        "#  Directory 변경 (모듈이용)\n",
        "%pwd\n",
        "%cd '../content/notebooks'\n",
        "\n",
        "# module import\n",
        "## Data Load\n",
        "from pickle5 import pickle \n",
        "\n",
        "## Basic module\n",
        "import pandas as pd\n",
        "import numpy as np\n",
        "import datetime as dt\n",
        "import seaborn as sns\n",
        "import matplotlib.pyplot as plt\n",
        "plt.rc('font', family='NanumBarunGothic')\n",
        "\n",
        "import warnings\n",
        "warnings.filterwarnings('ignore')"
      ],
      "execution_count": 2,
      "outputs": [
        {
          "output_type": "stream",
          "name": "stdout",
          "text": [
            "/content/drive/My Drive/Colab Notebooks\n"
          ]
        }
      ]
    },
    {
      "cell_type": "code",
      "metadata": {
        "id": "oDJgjuC6wIoN"
      },
      "source": [
        "with open('/content/drive/MyDrive/공유문서/1차 프로젝트/5조/data/EDA/기존_purprd_cust.pkl','rb') as file:\n",
        "  df = pickle.load(file)\n"
      ],
      "execution_count": 3,
      "outputs": []
    },
    {
      "cell_type": "code",
      "metadata": {
        "id": "pIvHM8sx7Pmx"
      },
      "source": [
        "df_1 = df[(df['구매년도']==2014) & (df['구매월']>=1) & (df['구매월']<=6)]\n",
        "df_2 = df[(df['구매년도']==2014)&(df['구매월']>=7) & (df['구매월']<=12)]\n",
        "df_3 = df[(df['구매년도']==2015)&(df['구매월']>=1) & (df['구매월']<=6)]\n",
        "df_4 = df[(df['구매년도']==2015)&(df['구매월']>=7) & (df['구매월']<=12)]"
      ],
      "execution_count": 4,
      "outputs": []
    },
    {
      "cell_type": "code",
      "metadata": {
        "id": "r_ybgAUvhZ3-"
      },
      "source": [
        "def countpur(df,a):\n",
        "  countpur = df[['고객번호','영수증번호','구매일자','구매금액']]\n",
        "  countpur = countpur.groupby(['고객번호','구매일자','영수증번호']).sum()\n",
        "  countpur = countpur.reset_index()\n",
        "  countpur['거래횟수'] = 1 \n",
        "  countpur = countpur.groupby('고객번호').sum()\n",
        "  countpur = countpur.drop(['영수증번호','구매금액'], axis=1)\n",
        "  countpur = countpur.rename(columns={'거래횟수':'방문별거래횟수'})\n",
        "  cols = list(countpur.columns)\n",
        "  for i in cols:\n",
        "    countpur[f'{i}_{a}'] = countpur[i]\n",
        "  countpur = countpur.drop(cols,axis=1)\n",
        "  return countpur\n"
      ],
      "execution_count": 28,
      "outputs": []
    },
    {
      "cell_type": "code",
      "metadata": {
        "id": "CqeDSfHxjArm"
      },
      "source": [
        "H1 = countpur(df_1,1)\n",
        "H2 = countpur(df_2,2)\n",
        "H3 = countpur(df_3,3)\n",
        "H4 = countpur(df_4,4)"
      ],
      "execution_count": 33,
      "outputs": []
    },
    {
      "cell_type": "code",
      "metadata": {
        "colab": {
          "base_uri": "https://localhost:8080/",
          "height": 445
        },
        "id": "7kG9ZubsmKEz",
        "outputId": "00224270-cc8a-442b-c5bf-1bb5c1207a8c"
      },
      "source": [
        "H1"
      ],
      "execution_count": 34,
      "outputs": [
        {
          "output_type": "execute_result",
          "data": {
            "text/html": [
              "<div>\n",
              "<style scoped>\n",
              "    .dataframe tbody tr th:only-of-type {\n",
              "        vertical-align: middle;\n",
              "    }\n",
              "\n",
              "    .dataframe tbody tr th {\n",
              "        vertical-align: top;\n",
              "    }\n",
              "\n",
              "    .dataframe thead th {\n",
              "        text-align: right;\n",
              "    }\n",
              "</style>\n",
              "<table border=\"1\" class=\"dataframe\">\n",
              "  <thead>\n",
              "    <tr style=\"text-align: right;\">\n",
              "      <th></th>\n",
              "      <th>방문별거래횟수_1</th>\n",
              "    </tr>\n",
              "    <tr>\n",
              "      <th>고객번호</th>\n",
              "      <th></th>\n",
              "    </tr>\n",
              "  </thead>\n",
              "  <tbody>\n",
              "    <tr>\n",
              "      <th>1</th>\n",
              "      <td>159</td>\n",
              "    </tr>\n",
              "    <tr>\n",
              "      <th>2</th>\n",
              "      <td>188</td>\n",
              "    </tr>\n",
              "    <tr>\n",
              "      <th>3</th>\n",
              "      <td>128</td>\n",
              "    </tr>\n",
              "    <tr>\n",
              "      <th>4</th>\n",
              "      <td>137</td>\n",
              "    </tr>\n",
              "    <tr>\n",
              "      <th>5</th>\n",
              "      <td>220</td>\n",
              "    </tr>\n",
              "    <tr>\n",
              "      <th>...</th>\n",
              "      <td>...</td>\n",
              "    </tr>\n",
              "    <tr>\n",
              "      <th>19356</th>\n",
              "      <td>12</td>\n",
              "    </tr>\n",
              "    <tr>\n",
              "      <th>19357</th>\n",
              "      <td>7</td>\n",
              "    </tr>\n",
              "    <tr>\n",
              "      <th>19359</th>\n",
              "      <td>5</td>\n",
              "    </tr>\n",
              "    <tr>\n",
              "      <th>19360</th>\n",
              "      <td>20</td>\n",
              "    </tr>\n",
              "    <tr>\n",
              "      <th>19364</th>\n",
              "      <td>36</td>\n",
              "    </tr>\n",
              "  </tbody>\n",
              "</table>\n",
              "<p>19085 rows × 1 columns</p>\n",
              "</div>"
            ],
            "text/plain": [
              "       방문별거래횟수_1\n",
              "고객번호            \n",
              "1            159\n",
              "2            188\n",
              "3            128\n",
              "4            137\n",
              "5            220\n",
              "...          ...\n",
              "19356         12\n",
              "19357          7\n",
              "19359          5\n",
              "19360         20\n",
              "19364         36\n",
              "\n",
              "[19085 rows x 1 columns]"
            ]
          },
          "metadata": {},
          "execution_count": 34
        }
      ]
    },
    {
      "cell_type": "code",
      "metadata": {
        "id": "hZ6uGUa_hXJ_"
      },
      "source": [
        "def train_df(a,b):\n",
        "  train = pd.concat([a,b],axis=1)\n",
        "  return train\n",
        "\n",
        "train = train_df(H1,H2)\n",
        "train = train.reset_index()\n",
        "\n",
        "def test_df(a,b,c):\n",
        "    A = pd.concat([a,b],axis=1)\n",
        "    test = pd.concat([A,c],axis=1)\n",
        "    return test\n",
        "\n",
        "test = test_df(H1,H2,H3)  \n",
        "test = test.reset_index()"
      ],
      "execution_count": 37,
      "outputs": []
    },
    {
      "cell_type": "code",
      "metadata": {
        "colab": {
          "base_uri": "https://localhost:8080/",
          "height": 386
        },
        "id": "jx5WBWtY7oNZ",
        "outputId": "256bef69-adbe-44e5-88d0-38f86adb38eb"
      },
      "source": [
        "display(train.head())\n",
        "display(test.head())"
      ],
      "execution_count": 38,
      "outputs": [
        {
          "output_type": "display_data",
          "data": {
            "text/html": [
              "<div>\n",
              "<style scoped>\n",
              "    .dataframe tbody tr th:only-of-type {\n",
              "        vertical-align: middle;\n",
              "    }\n",
              "\n",
              "    .dataframe tbody tr th {\n",
              "        vertical-align: top;\n",
              "    }\n",
              "\n",
              "    .dataframe thead th {\n",
              "        text-align: right;\n",
              "    }\n",
              "</style>\n",
              "<table border=\"1\" class=\"dataframe\">\n",
              "  <thead>\n",
              "    <tr style=\"text-align: right;\">\n",
              "      <th></th>\n",
              "      <th>고객번호</th>\n",
              "      <th>방문별거래횟수_1</th>\n",
              "      <th>방문별거래횟수_2</th>\n",
              "    </tr>\n",
              "  </thead>\n",
              "  <tbody>\n",
              "    <tr>\n",
              "      <th>0</th>\n",
              "      <td>1</td>\n",
              "      <td>159</td>\n",
              "      <td>219</td>\n",
              "    </tr>\n",
              "    <tr>\n",
              "      <th>1</th>\n",
              "      <td>2</td>\n",
              "      <td>188</td>\n",
              "      <td>167</td>\n",
              "    </tr>\n",
              "    <tr>\n",
              "      <th>2</th>\n",
              "      <td>3</td>\n",
              "      <td>128</td>\n",
              "      <td>168</td>\n",
              "    </tr>\n",
              "    <tr>\n",
              "      <th>3</th>\n",
              "      <td>4</td>\n",
              "      <td>137</td>\n",
              "      <td>105</td>\n",
              "    </tr>\n",
              "    <tr>\n",
              "      <th>4</th>\n",
              "      <td>5</td>\n",
              "      <td>220</td>\n",
              "      <td>75</td>\n",
              "    </tr>\n",
              "  </tbody>\n",
              "</table>\n",
              "</div>"
            ],
            "text/plain": [
              "   고객번호  방문별거래횟수_1  방문별거래횟수_2\n",
              "0     1        159        219\n",
              "1     2        188        167\n",
              "2     3        128        168\n",
              "3     4        137        105\n",
              "4     5        220         75"
            ]
          },
          "metadata": {}
        },
        {
          "output_type": "display_data",
          "data": {
            "text/html": [
              "<div>\n",
              "<style scoped>\n",
              "    .dataframe tbody tr th:only-of-type {\n",
              "        vertical-align: middle;\n",
              "    }\n",
              "\n",
              "    .dataframe tbody tr th {\n",
              "        vertical-align: top;\n",
              "    }\n",
              "\n",
              "    .dataframe thead th {\n",
              "        text-align: right;\n",
              "    }\n",
              "</style>\n",
              "<table border=\"1\" class=\"dataframe\">\n",
              "  <thead>\n",
              "    <tr style=\"text-align: right;\">\n",
              "      <th></th>\n",
              "      <th>고객번호</th>\n",
              "      <th>방문별거래횟수_1</th>\n",
              "      <th>방문별거래횟수_2</th>\n",
              "      <th>방문별거래횟수_3</th>\n",
              "    </tr>\n",
              "  </thead>\n",
              "  <tbody>\n",
              "    <tr>\n",
              "      <th>0</th>\n",
              "      <td>1</td>\n",
              "      <td>159</td>\n",
              "      <td>219</td>\n",
              "      <td>185</td>\n",
              "    </tr>\n",
              "    <tr>\n",
              "      <th>1</th>\n",
              "      <td>2</td>\n",
              "      <td>188</td>\n",
              "      <td>167</td>\n",
              "      <td>166</td>\n",
              "    </tr>\n",
              "    <tr>\n",
              "      <th>2</th>\n",
              "      <td>3</td>\n",
              "      <td>128</td>\n",
              "      <td>168</td>\n",
              "      <td>94</td>\n",
              "    </tr>\n",
              "    <tr>\n",
              "      <th>3</th>\n",
              "      <td>4</td>\n",
              "      <td>137</td>\n",
              "      <td>105</td>\n",
              "      <td>134</td>\n",
              "    </tr>\n",
              "    <tr>\n",
              "      <th>4</th>\n",
              "      <td>5</td>\n",
              "      <td>220</td>\n",
              "      <td>75</td>\n",
              "      <td>81</td>\n",
              "    </tr>\n",
              "  </tbody>\n",
              "</table>\n",
              "</div>"
            ],
            "text/plain": [
              "   고객번호  방문별거래횟수_1  방문별거래횟수_2  방문별거래횟수_3\n",
              "0     1        159        219        185\n",
              "1     2        188        167        166\n",
              "2     3        128        168         94\n",
              "3     4        137        105        134\n",
              "4     5        220         75         81"
            ]
          },
          "metadata": {}
        }
      ]
    },
    {
      "cell_type": "code",
      "metadata": {
        "id": "VAgniQgj9WuX"
      },
      "source": [
        "with open('/content/drive/MyDrive/공유문서/1차 프로젝트/5조/1012발표도못하고수정/10월14일이후 새로추가/train/PCV.pkl', 'wb') as train_save:\n",
        "  pickle.dump(train,train_save)\n",
        "with open('/content/drive/MyDrive/공유문서/1차 프로젝트/5조/1012발표도못하고수정/10월14일이후 새로추가/test/PCV.pkl', 'wb') as test_save:\n",
        "  pickle.dump(test,test_save)"
      ],
      "execution_count": 39,
      "outputs": []
    },
    {
      "cell_type": "code",
      "metadata": {
        "id": "klkzLd_IUDiT"
      },
      "source": [
        "with open('/content/drive/MyDrive/공유문서/1차 프로젝트/5조/1012발표도못하고수정/10월14일이후 새로추가/train/PCV.pkl', 'rb') as train_save:\n",
        "  tr = pickle.load(train_save)\n",
        "with open('/content/drive/MyDrive/공유문서/1차 프로젝트/5조/1012발표도못하고수정/10월14일이후 새로추가/test/PCV.pkl', 'rb') as test_save:\n",
        "  tt = pickle.load(test_save)"
      ],
      "execution_count": 40,
      "outputs": []
    },
    {
      "cell_type": "code",
      "metadata": {
        "id": "Vukx7arBUPkz",
        "colab": {
          "base_uri": "https://localhost:8080/",
          "height": 414
        },
        "outputId": "3609b724-f0c2-448a-c991-9c3df9da87ec"
      },
      "source": [
        "tr"
      ],
      "execution_count": 41,
      "outputs": [
        {
          "output_type": "execute_result",
          "data": {
            "text/html": [
              "<div>\n",
              "<style scoped>\n",
              "    .dataframe tbody tr th:only-of-type {\n",
              "        vertical-align: middle;\n",
              "    }\n",
              "\n",
              "    .dataframe tbody tr th {\n",
              "        vertical-align: top;\n",
              "    }\n",
              "\n",
              "    .dataframe thead th {\n",
              "        text-align: right;\n",
              "    }\n",
              "</style>\n",
              "<table border=\"1\" class=\"dataframe\">\n",
              "  <thead>\n",
              "    <tr style=\"text-align: right;\">\n",
              "      <th></th>\n",
              "      <th>고객번호</th>\n",
              "      <th>방문별거래횟수_1</th>\n",
              "      <th>방문별거래횟수_2</th>\n",
              "    </tr>\n",
              "  </thead>\n",
              "  <tbody>\n",
              "    <tr>\n",
              "      <th>0</th>\n",
              "      <td>1</td>\n",
              "      <td>159</td>\n",
              "      <td>219</td>\n",
              "    </tr>\n",
              "    <tr>\n",
              "      <th>1</th>\n",
              "      <td>2</td>\n",
              "      <td>188</td>\n",
              "      <td>167</td>\n",
              "    </tr>\n",
              "    <tr>\n",
              "      <th>2</th>\n",
              "      <td>3</td>\n",
              "      <td>128</td>\n",
              "      <td>168</td>\n",
              "    </tr>\n",
              "    <tr>\n",
              "      <th>3</th>\n",
              "      <td>4</td>\n",
              "      <td>137</td>\n",
              "      <td>105</td>\n",
              "    </tr>\n",
              "    <tr>\n",
              "      <th>4</th>\n",
              "      <td>5</td>\n",
              "      <td>220</td>\n",
              "      <td>75</td>\n",
              "    </tr>\n",
              "    <tr>\n",
              "      <th>...</th>\n",
              "      <td>...</td>\n",
              "      <td>...</td>\n",
              "      <td>...</td>\n",
              "    </tr>\n",
              "    <tr>\n",
              "      <th>19080</th>\n",
              "      <td>19356</td>\n",
              "      <td>12</td>\n",
              "      <td>115</td>\n",
              "    </tr>\n",
              "    <tr>\n",
              "      <th>19081</th>\n",
              "      <td>19357</td>\n",
              "      <td>7</td>\n",
              "      <td>178</td>\n",
              "    </tr>\n",
              "    <tr>\n",
              "      <th>19082</th>\n",
              "      <td>19359</td>\n",
              "      <td>5</td>\n",
              "      <td>207</td>\n",
              "    </tr>\n",
              "    <tr>\n",
              "      <th>19083</th>\n",
              "      <td>19360</td>\n",
              "      <td>20</td>\n",
              "      <td>125</td>\n",
              "    </tr>\n",
              "    <tr>\n",
              "      <th>19084</th>\n",
              "      <td>19364</td>\n",
              "      <td>36</td>\n",
              "      <td>142</td>\n",
              "    </tr>\n",
              "  </tbody>\n",
              "</table>\n",
              "<p>19085 rows × 3 columns</p>\n",
              "</div>"
            ],
            "text/plain": [
              "        고객번호  방문별거래횟수_1  방문별거래횟수_2\n",
              "0          1        159        219\n",
              "1          2        188        167\n",
              "2          3        128        168\n",
              "3          4        137        105\n",
              "4          5        220         75\n",
              "...      ...        ...        ...\n",
              "19080  19356         12        115\n",
              "19081  19357          7        178\n",
              "19082  19359          5        207\n",
              "19083  19360         20        125\n",
              "19084  19364         36        142\n",
              "\n",
              "[19085 rows x 3 columns]"
            ]
          },
          "metadata": {},
          "execution_count": 41
        }
      ]
    },
    {
      "cell_type": "code",
      "metadata": {
        "id": "T1deNAeiUQPK",
        "colab": {
          "base_uri": "https://localhost:8080/",
          "height": 414
        },
        "outputId": "2e776cf7-8c51-468d-9bf8-7491e769e28c"
      },
      "source": [
        "tt"
      ],
      "execution_count": 42,
      "outputs": [
        {
          "output_type": "execute_result",
          "data": {
            "text/html": [
              "<div>\n",
              "<style scoped>\n",
              "    .dataframe tbody tr th:only-of-type {\n",
              "        vertical-align: middle;\n",
              "    }\n",
              "\n",
              "    .dataframe tbody tr th {\n",
              "        vertical-align: top;\n",
              "    }\n",
              "\n",
              "    .dataframe thead th {\n",
              "        text-align: right;\n",
              "    }\n",
              "</style>\n",
              "<table border=\"1\" class=\"dataframe\">\n",
              "  <thead>\n",
              "    <tr style=\"text-align: right;\">\n",
              "      <th></th>\n",
              "      <th>고객번호</th>\n",
              "      <th>방문별거래횟수_1</th>\n",
              "      <th>방문별거래횟수_2</th>\n",
              "      <th>방문별거래횟수_3</th>\n",
              "    </tr>\n",
              "  </thead>\n",
              "  <tbody>\n",
              "    <tr>\n",
              "      <th>0</th>\n",
              "      <td>1</td>\n",
              "      <td>159</td>\n",
              "      <td>219</td>\n",
              "      <td>185</td>\n",
              "    </tr>\n",
              "    <tr>\n",
              "      <th>1</th>\n",
              "      <td>2</td>\n",
              "      <td>188</td>\n",
              "      <td>167</td>\n",
              "      <td>166</td>\n",
              "    </tr>\n",
              "    <tr>\n",
              "      <th>2</th>\n",
              "      <td>3</td>\n",
              "      <td>128</td>\n",
              "      <td>168</td>\n",
              "      <td>94</td>\n",
              "    </tr>\n",
              "    <tr>\n",
              "      <th>3</th>\n",
              "      <td>4</td>\n",
              "      <td>137</td>\n",
              "      <td>105</td>\n",
              "      <td>134</td>\n",
              "    </tr>\n",
              "    <tr>\n",
              "      <th>4</th>\n",
              "      <td>5</td>\n",
              "      <td>220</td>\n",
              "      <td>75</td>\n",
              "      <td>81</td>\n",
              "    </tr>\n",
              "    <tr>\n",
              "      <th>...</th>\n",
              "      <td>...</td>\n",
              "      <td>...</td>\n",
              "      <td>...</td>\n",
              "      <td>...</td>\n",
              "    </tr>\n",
              "    <tr>\n",
              "      <th>19080</th>\n",
              "      <td>19356</td>\n",
              "      <td>12</td>\n",
              "      <td>115</td>\n",
              "      <td>171</td>\n",
              "    </tr>\n",
              "    <tr>\n",
              "      <th>19081</th>\n",
              "      <td>19357</td>\n",
              "      <td>7</td>\n",
              "      <td>178</td>\n",
              "      <td>202</td>\n",
              "    </tr>\n",
              "    <tr>\n",
              "      <th>19082</th>\n",
              "      <td>19359</td>\n",
              "      <td>5</td>\n",
              "      <td>207</td>\n",
              "      <td>151</td>\n",
              "    </tr>\n",
              "    <tr>\n",
              "      <th>19083</th>\n",
              "      <td>19360</td>\n",
              "      <td>20</td>\n",
              "      <td>125</td>\n",
              "      <td>88</td>\n",
              "    </tr>\n",
              "    <tr>\n",
              "      <th>19084</th>\n",
              "      <td>19364</td>\n",
              "      <td>36</td>\n",
              "      <td>142</td>\n",
              "      <td>135</td>\n",
              "    </tr>\n",
              "  </tbody>\n",
              "</table>\n",
              "<p>19085 rows × 4 columns</p>\n",
              "</div>"
            ],
            "text/plain": [
              "        고객번호  방문별거래횟수_1  방문별거래횟수_2  방문별거래횟수_3\n",
              "0          1        159        219        185\n",
              "1          2        188        167        166\n",
              "2          3        128        168         94\n",
              "3          4        137        105        134\n",
              "4          5        220         75         81\n",
              "...      ...        ...        ...        ...\n",
              "19080  19356         12        115        171\n",
              "19081  19357          7        178        202\n",
              "19082  19359          5        207        151\n",
              "19083  19360         20        125         88\n",
              "19084  19364         36        142        135\n",
              "\n",
              "[19085 rows x 4 columns]"
            ]
          },
          "metadata": {},
          "execution_count": 42
        }
      ]
    },
    {
      "cell_type": "code",
      "metadata": {
        "id": "mwMeol5tUQbo"
      },
      "source": [
        ""
      ],
      "execution_count": null,
      "outputs": []
    }
  ]
}