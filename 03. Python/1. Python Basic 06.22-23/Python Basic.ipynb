{
 "cells": [
  {
   "cell_type": "markdown",
   "id": "3c209602",
   "metadata": {},
   "source": [
    "## Python Basic"
   ]
  },
  {
   "cell_type": "code",
   "execution_count": 1,
   "id": "864430eb",
   "metadata": {},
   "outputs": [
    {
     "name": "stdout",
     "output_type": "stream",
     "text": [
      "Python 3.8.10\n"
     ]
    }
   ],
   "source": [
    "!python -V\n",
    "#명령어 작성시 !"
   ]
  },
  {
   "cell_type": "code",
   "execution_count": 2,
   "id": "3c63a74c",
   "metadata": {},
   "outputs": [
    {
     "name": "stdout",
     "output_type": "stream",
     "text": [
      "273\n",
      "60\n",
      "Python Programming\n"
     ]
    }
   ],
   "source": [
    "#표현식\n",
    "print(273)\n",
    "print(10+20+30)\n",
    "print(\"Python Programming\")"
   ]
  },
  {
   "cell_type": "code",
   "execution_count": 3,
   "id": "c97d936b",
   "metadata": {},
   "outputs": [
    {
     "name": "stdout",
     "output_type": "stream",
     "text": [
      "52 Hello Python 8\n"
     ]
    }
   ],
   "source": [
    "#표현식이 하나 이상 모이면 문장식으로 변환\n",
    "print(52, 'Hello Python', 5+3)"
   ]
  },
  {
   "cell_type": "code",
   "execution_count": 4,
   "id": "c99f0bda",
   "metadata": {},
   "outputs": [
    {
     "name": "stdout",
     "output_type": "stream",
     "text": [
      "3\n"
     ]
    }
   ],
   "source": [
    "#문장이 모여 프로그램 형성\n",
    "a=1 ; b=2 ; c=a+b\n",
    "print(c)"
   ]
  },
  {
   "cell_type": "code",
   "execution_count": 5,
   "id": "309c866e",
   "metadata": {},
   "outputs": [
    {
     "name": "stdout",
     "output_type": "stream",
     "text": [
      "['False', 'None', 'True', 'and', 'as', 'assert', 'async', 'await', 'break', 'class', 'continue', 'def', 'del', 'elif', 'else', 'except', 'finally', 'for', 'from', 'global', 'if', 'import', 'in', 'is', 'lambda', 'nonlocal', 'not', 'or', 'pass', 'raise', 'return', 'try', 'while', 'with', 'yield']\n"
     ]
    }
   ],
   "source": [
    "#키워드\n",
    "import keyword\n",
    "print(keyword.kwlist)"
   ]
  },
  {
   "cell_type": "markdown",
   "id": "9d0f08a1",
   "metadata": {},
   "source": [
    "#식별자 기본 규칙\n",
    "- 키워드를 사용하면 안된다\n",
    "- 특수문자는 언더바(_)만 사용한다\n",
    "- 숫자로 시작하면 안된다\n",
    "- 공백을 포함할 수 없다\n"
   ]
  },
  {
   "cell_type": "markdown",
   "id": "816d2920",
   "metadata": {},
   "source": [
    "파이썬은 snake_case와 CamelCase를 모두 사용 가능하다.\n",
    "- itemlist : snake_case == item_list ; CamelCase == ItemList \n",
    "- loginstatus  \" login_status    \" LoginStatus\n",
    "\n",
    "- 캐멀 케이스(대문자로 시작) 클래스 #객체지향언어\n",
    "- 스네이크 케이스 (소문자로 시작) 뒤에 소괄호()가 있으면 - 함수\n",
    "- 스네이크 케이스 (소문자로 시작) 뒤에 소괄호()가 없으면 - 변수"
   ]
  },
  {
   "cell_type": "code",
   "execution_count": 6,
   "id": "eca68d7d",
   "metadata": {},
   "outputs": [
    {
     "name": "stdout",
     "output_type": "stream",
     "text": [
      "3이 있습니다\n"
     ]
    }
   ],
   "source": [
    "#사람이 생각하는 방식을 그대로 표현할 수 있는 언어\n",
    "if 3 in [1,2,3,4] : print('3이 있습니다')"
   ]
  },
  {
   "cell_type": "code",
   "execution_count": 7,
   "id": "2b270a9e",
   "metadata": {},
   "outputs": [
    {
     "name": "stdout",
     "output_type": "stream",
     "text": [
      "123\n",
      "-123\n",
      "0\n",
      "1.23\n",
      "127\n",
      "2748\n"
     ]
    }
   ],
   "source": [
    "#파이썬 자료형 - 숫자형(정수,실수,8진수,16진수)\n",
    "a = 123\n",
    "b = -123\n",
    "c = 0\n",
    "d = 1.23\n",
    "e = 0o177\n",
    "f = 0xABC\n",
    "print(a)\n",
    "print(b)\n",
    "print(c)\n",
    "print(d)\n",
    "print(e) #8진수 \n",
    "print(f) #16진수"
   ]
  },
  {
   "cell_type": "code",
   "execution_count": 8,
   "id": "8f8e1ce9",
   "metadata": {},
   "outputs": [
    {
     "name": "stdout",
     "output_type": "stream",
     "text": [
      "10\n",
      "2.3\n",
      "12.3\n",
      "1.23\n",
      "4.347826086956522\n",
      "0.8000000000000007\n",
      "4.0\n",
      "4\n"
     ]
    }
   ],
   "source": [
    "# 사칙연산\n",
    "a = 10\n",
    "b = 2.3\n",
    "c = a + b\n",
    "d + a * b\n",
    "e = a / b\n",
    "f = a % b # 나머지 \n",
    "g = a // b # 몫\n",
    "h = 2 ** 2 #제곱근\n",
    "\n",
    "print(a)\n",
    "print(b)\n",
    "print(c)\n",
    "print(d)\n",
    "print(e) \n",
    "print(f)\n",
    "print(g)\n",
    "print(h)"
   ]
  },
  {
   "cell_type": "code",
   "execution_count": 9,
   "id": "34490856",
   "metadata": {},
   "outputs": [],
   "source": [
    "string = \"문자열 \"\n",
    "number = 273\n",
    "# string + number"
   ]
  },
  {
   "cell_type": "code",
   "execution_count": 10,
   "id": "2fd63ec2",
   "metadata": {},
   "outputs": [
    {
     "data": {
      "text/plain": [
       "int"
      ]
     },
     "execution_count": 10,
     "metadata": {},
     "output_type": "execute_result"
    }
   ],
   "source": [
    "a = 10\n",
    "a = '문자'\n",
    "a = 100\n",
    "type(a)"
   ]
  },
  {
   "cell_type": "code",
   "execution_count": 11,
   "id": "73896b51",
   "metadata": {},
   "outputs": [
    {
     "name": "stdout",
     "output_type": "stream",
     "text": [
      "20\n"
     ]
    }
   ],
   "source": [
    "#복합 대입 연산자\n",
    "num = 10\n",
    "num += 10\n",
    "print(num)"
   ]
  },
  {
   "cell_type": "code",
   "execution_count": 12,
   "id": "024ae75a",
   "metadata": {},
   "outputs": [
    {
     "name": "stdout",
     "output_type": "stream",
     "text": [
      "인사말을 입력하세요 : hello\n"
     ]
    },
    {
     "data": {
      "text/plain": [
       "'hello'"
      ]
     },
     "execution_count": 12,
     "metadata": {},
     "output_type": "execute_result"
    }
   ],
   "source": [
    "#사용자 입력\n",
    "input ('인사말을 입력하세요 : ')"
   ]
  },
  {
   "cell_type": "code",
   "execution_count": 13,
   "id": "eda91b5d",
   "metadata": {},
   "outputs": [
    {
     "name": "stdout",
     "output_type": "stream",
     "text": [
      "숫자를 입력하세요 : 3\n",
      "3\n"
     ]
    },
    {
     "data": {
      "text/plain": [
       "str"
      ]
     },
     "execution_count": 13,
     "metadata": {},
     "output_type": "execute_result"
    }
   ],
   "source": [
    "num = input('숫자를 입력하세요 : ')\n",
    "print(num)\n",
    "type(num)"
   ]
  },
  {
   "cell_type": "code",
   "execution_count": 14,
   "id": "b64c11de",
   "metadata": {
    "scrolled": true
   },
   "outputs": [
    {
     "name": "stdout",
     "output_type": "stream",
     "text": [
      "숫자를 입력하세요 : 5\n",
      "숫자를 입력하세요 : 3\n",
      "53\n"
     ]
    },
    {
     "data": {
      "text/plain": [
       "str"
      ]
     },
     "execution_count": 14,
     "metadata": {},
     "output_type": "execute_result"
    }
   ],
   "source": [
    "num1 = input('숫자를 입력하세요 : ')\n",
    "num2 = input('숫자를 입력하세요 : ')\n",
    "print(num1 + num2)\n",
    "type(num1+num2)"
   ]
  },
  {
   "cell_type": "code",
   "execution_count": 15,
   "id": "d6b0c26a",
   "metadata": {},
   "outputs": [
    {
     "name": "stdout",
     "output_type": "stream",
     "text": [
      "숫자를 입력하세요 : 1\n",
      "숫자를 입력하세요 : 3\n",
      "13\n",
      "4\n"
     ]
    },
    {
     "data": {
      "text/plain": [
       "int"
      ]
     },
     "execution_count": 15,
     "metadata": {},
     "output_type": "execute_result"
    }
   ],
   "source": [
    "num1 = input('숫자를 입력하세요 : ')\n",
    "num1_n = int(num1)\n",
    "num2 = input('숫자를 입력하세요 : ')\n",
    "num2_n = int(num2)\n",
    "print(num1 + num2)\n",
    "type(num1+num2)\n",
    "print(num1_n + num2_n)\n",
    "type(num1_n + num2_n)"
   ]
  },
  {
   "cell_type": "code",
   "execution_count": 16,
   "id": "7eece8ba",
   "metadata": {
    "scrolled": true
   },
   "outputs": [
    {
     "name": "stdout",
     "output_type": "stream",
     "text": [
      "숫자를 입력하세요 : 3\n",
      "숫자를 입력하세요 : 3.3\n",
      "6.3\n"
     ]
    },
    {
     "data": {
      "text/plain": [
       "float"
      ]
     },
     "execution_count": 16,
     "metadata": {},
     "output_type": "execute_result"
    }
   ],
   "source": [
    "num = input('숫자를 입력하세요 : ')\n",
    "num_n = float(num)\n",
    "num2 = input('숫자를 입력하세요 : ')\n",
    "num2_n = float(num2)\n",
    "print(num_n + num2_n)\n",
    "type(num_n + num2_n)"
   ]
  },
  {
   "cell_type": "code",
   "execution_count": 17,
   "id": "4b1caf45",
   "metadata": {},
   "outputs": [
    {
     "name": "stdout",
     "output_type": "stream",
     "text": [
      "숫자를 입력하세요 : 3\n",
      "숫자를 입력하세요 : 3.3\n",
      "6.3\n"
     ]
    },
    {
     "data": {
      "text/plain": [
       "float"
      ]
     },
     "execution_count": 17,
     "metadata": {},
     "output_type": "execute_result"
    }
   ],
   "source": [
    "#Answer\n",
    "num = input('숫자를 입력하세요 : ')\n",
    "num_n = int(num)\n",
    "num2 = input('숫자를 입력하세요 : ')\n",
    "num2_n = float(num2)\n",
    "print(num_n + num2_n)\n",
    "type(num_n + num2_n)"
   ]
  },
  {
   "cell_type": "code",
   "execution_count": 18,
   "id": "48b8d911",
   "metadata": {},
   "outputs": [
    {
     "name": "stdout",
     "output_type": "stream",
     "text": [
      "5252.273\n"
     ]
    }
   ],
   "source": [
    "a = 52\n",
    "a= str(a)\n",
    "b = 52.273\n",
    "b= str(b)\n",
    "print(a+b)"
   ]
  },
  {
   "cell_type": "code",
   "execution_count": 19,
   "id": "3c88838f",
   "metadata": {},
   "outputs": [
    {
     "name": "stdout",
     "output_type": "stream",
     "text": [
      "5252.273\n"
     ]
    }
   ],
   "source": [
    "### Answer\n",
    "a = str(52)\n",
    "b = str(52.273)\n",
    "print(a+b)"
   ]
  },
  {
   "cell_type": "code",
   "execution_count": 20,
   "id": "fe502cfd",
   "metadata": {},
   "outputs": [
    {
     "name": "stdout",
     "output_type": "stream",
     "text": [
      "python's value is great\n"
     ]
    }
   ],
   "source": [
    "#문자열 : \"\", '', \"\"\" \"\"\", ''' '''\n",
    "p1 = \"python's value is great\"\n",
    "#p2 = 'python's value is great' #ERROR\n",
    "# '''''' , \"\"\"\"\"\"  여러가지 줄을 한꺼번에 함\n",
    "print(p1)"
   ]
  },
  {
   "cell_type": "code",
   "execution_count": 21,
   "id": "fdf78cbf",
   "metadata": {},
   "outputs": [
    {
     "data": {
      "text/plain": [
       "'\"python is valuable\" he says'"
      ]
     },
     "execution_count": 21,
     "metadata": {},
     "output_type": "execute_result"
    }
   ],
   "source": [
    "s1 = '\"python is valuable\" he says' \n",
    "s1"
   ]
  },
  {
   "cell_type": "code",
   "execution_count": 22,
   "id": "2ab8edd7",
   "metadata": {},
   "outputs": [
    {
     "data": {
      "text/plain": [
       "\"python's value is great\""
      ]
     },
     "execution_count": 22,
     "metadata": {},
     "output_type": "execute_result"
    }
   ],
   "source": [
    "s2 = 'python\\'s value is great'\n",
    "s2\n",
    "#' \\' 역슬래쉬 사용시 그대로 적용"
   ]
  },
  {
   "cell_type": "code",
   "execution_count": 30,
   "id": "df757d93",
   "metadata": {},
   "outputs": [
    {
     "name": "stdout",
     "output_type": "stream",
     "text": [
      "Once you study data analysis\n",
      "You need Python\n",
      "Once you study data analysis\n",
      "You need Python\n",
      "Once you study data analysis\n",
      "You need Python\n"
     ]
    }
   ],
   "source": [
    "y1 = \"Once you study data analysis\\nYou need Python\"\n",
    "print(y1)\n",
    "y2 = '''Once you study data analysis\n",
    "You need Python'''\n",
    "print(y2)\n",
    "y2 = \"\"\"Once you study data analysis\n",
    "You need Python\"\"\"\n",
    "print(y2)"
   ]
  },
  {
   "cell_type": "code",
   "execution_count": 34,
   "id": "0a2ab344",
   "metadata": {},
   "outputs": [
    {
     "name": "stdout",
     "output_type": "stream",
     "text": [
      "Python is easy to learn\n",
      "PythonPythonPython\n",
      "====================\n"
     ]
    }
   ],
   "source": [
    "# 문자열 연산\n",
    "a1 = 'Python'\n",
    "a2 = ' is easy to learn'\n",
    "print(a1 + a2)\n",
    "print(a1 * 3)\n",
    "print(\"=\" * 20)"
   ]
  },
  {
   "cell_type": "code",
   "execution_count": 35,
   "id": "8a1dd90d",
   "metadata": {},
   "outputs": [
    {
     "name": "stdout",
     "output_type": "stream",
     "text": [
      "[1, 'a', 'abc', [1, 2, 3, 4, 5], ['a', 'b', 'c']]\n"
     ]
    }
   ],
   "source": [
    "# 자료형 List\n",
    "# 파이썬에는 배열이 없음. 따라서 numpy를 이용함. \n",
    "# 리스트는 [] 로 표시하며 [] 안의 요소를 , 로 구분하여 순서있게 나열한다.\n",
    "\n",
    "list1 = [1,2,3,4,5]\n",
    "list2 = ['a','b','c']\n",
    "list3 = [1,'a','abc',[1,2,3,4,5],['a','b','c']]\n",
    "print(list3)"
   ]
  },
  {
   "cell_type": "code",
   "execution_count": 42,
   "id": "62ae05c8",
   "metadata": {},
   "outputs": [
    {
     "data": {
      "text/plain": [
       "[1, 2, 3, 4, 5]"
      ]
     },
     "execution_count": 42,
     "metadata": {},
     "output_type": "execute_result"
    }
   ],
   "source": [
    "# Index = 색인\n",
    "list1 = [1,2,3,4,5]\n"
   ]
  },
  {
   "cell_type": "code",
   "execution_count": 50,
   "id": "e44253af",
   "metadata": {},
   "outputs": [
    {
     "data": {
      "text/plain": [
       "'b'"
      ]
     },
     "execution_count": 50,
     "metadata": {},
     "output_type": "execute_result"
    }
   ],
   "source": [
    "# Slicing :\n",
    "list1[:]\n",
    "list1[0:5]\n",
    "list3 = [1,'a','abc',[1,2,3,4,5],['a','b','c']]\n",
    "list3[2]\n",
    "list3[3][4] #세부리스트 색인시 [겉][1차][2차]\n",
    "list3[4][1]"
   ]
  },
  {
   "cell_type": "code",
   "execution_count": 58,
   "id": "15701b9d",
   "metadata": {},
   "outputs": [
    {
     "name": "stdout",
     "output_type": "stream",
     "text": [
      "[1, 1, 2, 3, 4, 5, 6, 7, 8, 9]\n",
      "['a', 'a', 'c']\n",
      "['a', 'c']\n"
     ]
    }
   ],
   "source": [
    "#list 수정, 삭제, \n",
    "#tuple 은 수정, 삭제 불가\n",
    "import numpy as np\n",
    "a = np.arange(10).tolist()\n",
    "#numpy활용 리스트 생성\n",
    "a = [0, 1, 2, 3, 4, 5, 6, 7, 8, 9]\n",
    "b = ['a','b','c']\n",
    "a[0] = 1 \n",
    "print(a)\n",
    "b[1] = 'a'\n",
    "print(b)\n",
    "del b[0] #del  삭제언어\n",
    "print(b)"
   ]
  },
  {
   "cell_type": "code",
   "execution_count": 68,
   "id": "f0bd145b",
   "metadata": {},
   "outputs": [
    {
     "name": "stdout",
     "output_type": "stream",
     "text": [
      "[1, 1, 2, 3, 4, 5, 6, 7, 8, 9, 'a', 1]\n",
      "[1, 1, 2, 3, 4, 5, 6, 7, 8, 9, 2, 1]\n"
     ]
    }
   ],
   "source": [
    "# Question\n",
    "c = a + b \n",
    "c[-1] = 1\n",
    "print(c)\n",
    "c[-2] = 2\n",
    "print(c)\n",
    "s = c"
   ]
  },
  {
   "cell_type": "code",
   "execution_count": 74,
   "id": "4bbe5070",
   "metadata": {},
   "outputs": [
    {
     "name": "stdout",
     "output_type": "stream",
     "text": [
      "[1, 1, 1, 2, 2, 3, 4, 5, 6, 7, 8, 9]\n",
      "[9, 8, 7, 6, 5, 4, 3, 2, 2, 1, 1, 1]\n",
      "[9, 8, 7, 6, 5, 4, 3, 2, 2, 1, 1, 1]\n"
     ]
    }
   ],
   "source": [
    "# 정렬 \n",
    "s = [1, 1, 2, 3, 4, 5, 6, 7, 8, 9, 2, 1]\n",
    "s.sort()\n",
    "print(s)\n",
    "\n",
    "# descending  # 기본값 reverse = False // 오름차순\n",
    "s_d = sorted(s, reverse=True)\n",
    "print(s_d)\n",
    "s.reverse()\n",
    "print(s)"
   ]
  },
  {
   "cell_type": "code",
   "execution_count": 78,
   "id": "6dc02b53",
   "metadata": {
    "scrolled": true
   },
   "outputs": [
    {
     "name": "stdout",
     "output_type": "stream",
     "text": [
      "[37, 78, 86, 71, 82, 89, 33, 35, 32, 55, 61, 82, 80, 93, 47, 99, 11, 20, 55, 0, 17, 52, 38, 30, 15, 99, 50, 82, 37, 73, 51, 21, 58, 32, 54, 49, 91, 52, 25, 27, 14, 62, 10, 10, 77, 82, 78, 4, 6, 74, 18, 77, 31, 98, 40, 53, 40, 14, 10, 8, 87, 8, 58, 92, 5, 59, 7, 3, 49, 98, 48, 52, 59, 71, 69, 56, 67, 22, 43, 21, 78, 56, 11, 23, 45, 65, 3, 93, 78, 82, 26, 53, 69, 21, 43, 79, 82, 88, 49, 61]\n"
     ]
    },
    {
     "data": {
      "text/plain": [
       "85"
      ]
     },
     "execution_count": 78,
     "metadata": {},
     "output_type": "execute_result"
    }
   ],
   "source": [
    "# 인덱스 위치 반환 index\n",
    "c = np.random.randint(100, size=100).tolist()\n",
    "print(c)\n",
    "c.index(65)  # 리스트 C 안에 65라는 값은 66번째에 위치해있다."
   ]
  },
  {
   "cell_type": "code",
   "execution_count": 80,
   "id": "e0fd6aac",
   "metadata": {},
   "outputs": [
    {
     "name": "stdout",
     "output_type": "stream",
     "text": [
      "3\n"
     ]
    }
   ],
   "source": [
    "# 개수 반환 count\n",
    "c = [1,1,3,3,3,5,5]\n",
    "print(c.count(3))  # 리스트 C 안에 3의 값이 몇 개가 있는가"
   ]
  },
  {
   "cell_type": "code",
   "execution_count": 83,
   "id": "07848adb",
   "metadata": {},
   "outputs": [
    {
     "name": "stdout",
     "output_type": "stream",
     "text": [
      "[1, 2, 3, 4, 5]\n",
      "[1, 2, 3, 4, 5, 6]\n"
     ]
    }
   ],
   "source": [
    "# 리스트 확장\n",
    "h = [1,2,3]\n",
    "h.extend([4,5])\n",
    "print(h)\n",
    "# 확장 extend\n",
    "\n",
    "#추가 append\n",
    "h.append(6)\n",
    "print(h)"
   ]
  },
  {
   "cell_type": "code",
   "execution_count": 137,
   "id": "54e9fff9",
   "metadata": {},
   "outputs": [
    {
     "data": {
      "text/plain": [
       "'b'"
      ]
     },
     "execution_count": 137,
     "metadata": {},
     "output_type": "execute_result"
    }
   ],
   "source": [
    "# 자료형 : 튜플 TUPLE (삭제 변경 불가) 소괄호 사용\n",
    "tuple1 = (1,2,3,4,5)\n",
    "tuple2 = ('a','b','c')\n",
    "tuple3 = (1,'a','abc',[1,2,3,4,5],['a','b','c'])\n",
    "\n",
    "tuple1[:]\n",
    "tuple3[2]\n",
    "list3[3][4] #세부리스트 색인시 [겉][1차][2차]\n",
    "list3[4][1]"
   ]
  },
  {
   "cell_type": "code",
   "execution_count": 138,
   "id": "d99d01c6",
   "metadata": {
    "collapsed": true
   },
   "outputs": [
    {
     "name": "stdout",
     "output_type": "stream",
     "text": [
      "[6, 2, 3, 4, 5]\n"
     ]
    },
    {
     "ename": "TypeError",
     "evalue": "'tuple' object does not support item assignment",
     "output_type": "error",
     "traceback": [
      "\u001b[1;31m---------------------------------------------------------------------------\u001b[0m",
      "\u001b[1;31mTypeError\u001b[0m                                 Traceback (most recent call last)",
      "\u001b[1;32m<ipython-input-138-56c1dd35a3a7>\u001b[0m in \u001b[0;36m<module>\u001b[1;34m\u001b[0m\n\u001b[0;32m      3\u001b[0m \u001b[0mlist1\u001b[0m\u001b[1;33m[\u001b[0m\u001b[1;36m0\u001b[0m\u001b[1;33m]\u001b[0m \u001b[1;33m=\u001b[0m \u001b[1;36m6\u001b[0m\u001b[1;33m\u001b[0m\u001b[1;33m\u001b[0m\u001b[0m\n\u001b[0;32m      4\u001b[0m \u001b[0mprint\u001b[0m\u001b[1;33m(\u001b[0m\u001b[0mlist1\u001b[0m\u001b[1;33m)\u001b[0m\u001b[1;33m\u001b[0m\u001b[1;33m\u001b[0m\u001b[0m\n\u001b[1;32m----> 5\u001b[1;33m \u001b[0mtuple1\u001b[0m\u001b[1;33m[\u001b[0m\u001b[1;36m0\u001b[0m\u001b[1;33m]\u001b[0m \u001b[1;33m=\u001b[0m \u001b[1;36m2\u001b[0m\u001b[1;33m\u001b[0m\u001b[1;33m\u001b[0m\u001b[0m\n\u001b[0m\u001b[0;32m      6\u001b[0m \u001b[0mprint\u001b[0m\u001b[1;33m(\u001b[0m\u001b[0mtuple1\u001b[0m\u001b[1;33m)\u001b[0m\u001b[1;33m\u001b[0m\u001b[1;33m\u001b[0m\u001b[0m\n",
      "\u001b[1;31mTypeError\u001b[0m: 'tuple' object does not support item assignment"
     ]
    }
   ],
   "source": [
    "# 유의 점 # 튜프 요소 값은 병경할 수 없음 \n",
    "#프로그램에서 항상 변하지 않아야되는 경우 튜플을 사용함.\n",
    "list1[0] = 6\n",
    "print(list1)\n",
    "tuple1[0] = 2 #튜플 변경 불가\n",
    "print(tuple1) "
   ]
  },
  {
   "cell_type": "code",
   "execution_count": 95,
   "id": "8a26acf4",
   "metadata": {},
   "outputs": [
    {
     "name": "stdout",
     "output_type": "stream",
     "text": [
      "(1,)\n",
      "(1, 2, 3)\n",
      "(1, 2, 3, 1, 2, 3, 1, 2, 3)\n",
      "(1, 1, 2, 3)\n",
      "1\n"
     ]
    },
    {
     "data": {
      "text/plain": [
       "int"
      ]
     },
     "execution_count": 95,
     "metadata": {},
     "output_type": "execute_result"
    }
   ],
   "source": [
    "# 한개의 요소를 가질 경우 요소 뒤에 콤마를 붙여야 함\n",
    "t1 = (1, )\n",
    "print(t1)\n",
    "t2 = 1,2,3\n",
    "print(t2)\n",
    "print(t2*3)\n",
    "t3 = t1 + t2\n",
    "print(t3)\n",
    "t4 = (1)\n",
    "print(t4)\n",
    "type(t4)"
   ]
  },
  {
   "cell_type": "code",
   "execution_count": 106,
   "id": "dfdce66a",
   "metadata": {},
   "outputs": [
    {
     "name": "stdout",
     "output_type": "stream",
     "text": [
      "{'a': 1, 'b': 2, 'c': 3}\n",
      "1\n",
      "{'a': 1, 'b': 5, 'c': 3}\n",
      "5\n",
      "dict_keys(['a', 'b', 'c'])\n",
      "dict_values([1, 5, 3])\n",
      "dict_items([('a', 1), ('b', 5), ('c', 3)])\n"
     ]
    }
   ],
   "source": [
    "# 자료형 : 사전 (키와 값을 하나의 요소로 하는 순서가 없는 집합) 중괄호{ 키 : 값 } 사용\n",
    "# 인덱싱이 없음\n",
    "# 키를 활용해서 값을 찾아낼 수 있음  따라서 순서가 필요하지 않음\n",
    "d1 = {'a':1, 'b':2, 'c':3}\n",
    "print(d1)\n",
    "print(d1['a'])\n",
    "d1['b'] = 5\n",
    "print(d1)\n",
    "print(d1['b'])\n",
    "\n",
    "#키 색출\n",
    "print(d1.keys())\n",
    "\n",
    "#값 색출\n",
    "print(d1.values())\n",
    "\n",
    "#카 값 모두 색출\n",
    "print(d1.items())"
   ]
  },
  {
   "cell_type": "code",
   "execution_count": 1,
   "id": "2697d049",
   "metadata": {},
   "outputs": [],
   "source": [
    "d1=[{'a':1,'b':2},{'a':2,'c':3},{'a':1,'f':4}]\n",
    "\n",
    "def search(a, d1):\n",
    "    return [element for element in people if element['a'] == a]"
   ]
  },
  {
   "cell_type": "code",
   "execution_count": 107,
   "id": "0284ec23",
   "metadata": {},
   "outputs": [
    {
     "name": "stdout",
     "output_type": "stream",
     "text": [
      "{1, 2, 3, 4, 5}\n",
      "{'o', 'l', 'H', 'e'}\n"
     ]
    }
   ],
   "source": [
    "# 자료형 : 집합, SET (중복을 허용하지 않으며 순서가 없음)\n",
    "# 집합은 인덱싱으로 값을 얻을 수 없음\n",
    "# 인덱싱을 하기 위해선 리스트 와 튜플로 변환해야함.\n",
    "s1 = set([1,2,5,4,3])\n",
    "s2 = set(\"Hello\") # 'l' 값 중복\n",
    "print(s1)\n",
    "print(s2)"
   ]
  },
  {
   "cell_type": "code",
   "execution_count": 112,
   "id": "cbb3bd6e",
   "metadata": {},
   "outputs": [
    {
     "name": "stdout",
     "output_type": "stream",
     "text": [
      "[1, 2, 3, 4, 5]\n",
      "['o', 'l', 'H', 'e']\n",
      "<class 'list'>\n",
      "2\n",
      "l\n"
     ]
    }
   ],
   "source": [
    "#집합 변환\n",
    "l1 = list(s1)\n",
    "l2 = list(s2)\n",
    "print(l1)\n",
    "print(l2)\n",
    "print(type(l1))\n",
    "\n",
    "print(l1[1])\n",
    "print(l2[1])"
   ]
  },
  {
   "cell_type": "code",
   "execution_count": 128,
   "id": "1e336239",
   "metadata": {},
   "outputs": [
    {
     "name": "stdout",
     "output_type": "stream",
     "text": [
      "[1, 2, 3, 4, 5, 6, 7, 8, 9]\n",
      "<class 'list'>\n",
      "(1, 2, 3, 4, 5, 6, 7, 8, 9)\n",
      "<class 'tuple'>\n",
      "[4, 5, 6]\n",
      "<class 'list'>\n",
      "(4, 5, 6)\n",
      "<class 'tuple'>\n"
     ]
    }
   ],
   "source": [
    "# Q. s1,s2의 합집합과 교집합을 각각 리스트와 튜플로 출력하세요\n",
    "# 합집합 (s1|s2) 교집합(s1&s2)\n",
    "\n",
    "s1 = set([1,2,3,4,5,6])\n",
    "s2 = set([4,5,6,7,8,9])\n",
    "\n",
    "l1 = list(s1|s2)\n",
    "print(l1)\n",
    "print(type(l1))\n",
    "\n",
    "t1 = tuple(s1|s2)\n",
    "print(t1)\n",
    "print(type(t1))\n",
    "\n",
    "l2 = list(s1&s2)\n",
    "print(l2)\n",
    "print(type(l2))\n",
    "\n",
    "t2 = tuple(s1&s2)\n",
    "print(t2)\n",
    "print(type(t2))"
   ]
  },
  {
   "cell_type": "code",
   "execution_count": 131,
   "id": "732f0f55",
   "metadata": {},
   "outputs": [
    {
     "name": "stdout",
     "output_type": "stream",
     "text": [
      "'a'가 li에 있습니다\n"
     ]
    }
   ],
   "source": [
    "# 조건문 들여쓰기 \n",
    "li = ['a','b','c']\n",
    "\n",
    "if 'a' in li:\n",
    "    print(\"'a'가 li에 있습니다\")\n",
    "else:\n",
    "    print(\"'a'가 li에 없습니다\")"
   ]
  },
  {
   "cell_type": "code",
   "execution_count": 140,
   "id": "21aa2f39",
   "metadata": {},
   "outputs": [
    {
     "name": "stdout",
     "output_type": "stream",
     "text": [
      "홍길동 선수가 1 등입니다.\n",
      "홍길동 선수가 1 등입니다.\n"
     ]
    }
   ],
   "source": [
    "# 포맷함수\n",
    "f1 = \"{} 선수가 {} 등입니다.\".format('홍길동', 1)\n",
    "print(f1)\n",
    "#문자 s , 숫자 d\n",
    "print(\"%s 선수가 %d 등입니다.\" %(\"홍길동\", 1))"
   ]
  },
  {
   "cell_type": "code",
   "execution_count": 143,
   "id": "c2e87789",
   "metadata": {},
   "outputs": [
    {
     "name": "stdout",
     "output_type": "stream",
     "text": [
      "파이썬은 자바보다 2배 쉽습니다.\n",
      "파이썬은 자바보다 2배 쉽습니다.\n"
     ]
    }
   ],
   "source": [
    "# Q. 파이썬은 자바보다 2배 쉽습니다.\n",
    "f = \"{}은 {}보다 {}배 쉽습니다.\".format('파이썬','자바',2)\n",
    "print(f)\n",
    "\n",
    "f1 = \"%s은 %s보다 %d배 쉽습니다.\" %(\"파이썬\", \"자바\", 2)\n",
    "print(f1)"
   ]
  },
  {
   "cell_type": "code",
   "execution_count": 152,
   "id": "186a28b6",
   "metadata": {},
   "outputs": [
    {
     "name": "stdout",
     "output_type": "stream",
     "text": [
      "12345\n",
      "     12345\n",
      "12.345679\n",
      "          12.35\n"
     ]
    }
   ],
   "source": [
    "#자리수 처리\n",
    "ex2 = 12345\n",
    "f2 = '{:d}'.format(ex2)\n",
    "print(f2)\n",
    "f3 = '{:10d}'.format(ex2)  # 10 == 자리수를 잡아둔 상태에서 움직임 (10자리수 잡아둠)\n",
    "print(f3)\n",
    "\n",
    "#소수점처리\n",
    "ex3 = 12.3456789\n",
    "f4 = '{:f}'.format(ex3) #f == float\n",
    "print(f4)\n",
    "f5 = '{:15.2f}'.format(ex3) #.2 == 소수점 자리수 설정\n",
    "print(f5)"
   ]
  },
  {
   "cell_type": "markdown",
   "id": "1269834a",
   "metadata": {},
   "source": [
    "### 제어문 ( if / for / while)"
   ]
  },
  {
   "cell_type": "code",
   "execution_count": 160,
   "id": "ab51e16f",
   "metadata": {},
   "outputs": [
    {
     "name": "stdout",
     "output_type": "stream",
     "text": [
      "수입 : 500000\n",
      "지출 : 400000\n",
      "저축 증가\n"
     ]
    }
   ],
   "source": [
    "#제어문 - if ~ elif ~ else\n",
    "\n",
    "#Q. 수입과 지출금액을 비교해서 수입이 많으면 저축 증가, 반대이면 빚이 증가, 같으면 현상 유지\n",
    "\n",
    "income = int(input('수입 : '))\n",
    "expense = int(input('지출 : '))\n",
    "\n",
    "if income > expense:\n",
    "    print(\"저축 증가\")\n",
    "elif income == expense:\n",
    "    print(\"현상 유지\")\n",
    "else: \n",
    "    print(\"빚이 증가\")"
   ]
  },
  {
   "cell_type": "code",
   "execution_count": 1,
   "id": "e7fc6683",
   "metadata": {},
   "outputs": [
    {
     "name": "stdout",
     "output_type": "stream",
     "text": [
      "저축 증가\n"
     ]
    }
   ],
   "source": [
    "#Answer\n",
    "i = 5,000,000\n",
    "e = 3,000,000\n",
    "\n",
    "if i > e:\n",
    "    print(\"저축 증가\")\n",
    "elif i < e:\n",
    "    print(\"빚이 증가\")\n",
    "else:\n",
    "    print(\"현상 유지\")"
   ]
  },
  {
   "cell_type": "code",
   "execution_count": 165,
   "id": "f526e8bb",
   "metadata": {},
   "outputs": [
    {
     "name": "stdout",
     "output_type": "stream",
     "text": [
      "5\n",
      "15\n",
      "6\n",
      "20\n",
      "7\n",
      "25\n"
     ]
    }
   ],
   "source": [
    "# for 반복문 : 범위가 지정되어 있을 때 사용\n",
    "# while 반복문 : 조건이 만족하는 한 무한 반복\n",
    "\n",
    "numbers = [5,15,6,20,7,25]   #여러개의 요소가 있으니 반복이 가능\n",
    "for number in numbers:       #numbers에 있는 각각의 요소 number에 대해서\n",
    "    print(number)"
   ]
  },
  {
   "cell_type": "code",
   "execution_count": null,
   "id": "ca90667f",
   "metadata": {},
   "outputs": [],
   "source": []
  },
  {
   "cell_type": "code",
   "execution_count": null,
   "id": "a70bd983",
   "metadata": {},
   "outputs": [],
   "source": []
  },
  {
   "cell_type": "code",
   "execution_count": null,
   "id": "c80702fd",
   "metadata": {},
   "outputs": [],
   "source": []
  },
  {
   "cell_type": "code",
   "execution_count": null,
   "id": "96ca79fc",
   "metadata": {},
   "outputs": [],
   "source": []
  },
  {
   "cell_type": "code",
   "execution_count": null,
   "id": "cbcf4ac3",
   "metadata": {},
   "outputs": [],
   "source": []
  },
  {
   "cell_type": "code",
   "execution_count": null,
   "id": "244f26c2",
   "metadata": {},
   "outputs": [],
   "source": []
  },
  {
   "cell_type": "code",
   "execution_count": null,
   "id": "b27e143d",
   "metadata": {},
   "outputs": [],
   "source": []
  },
  {
   "cell_type": "code",
   "execution_count": null,
   "id": "698067f2",
   "metadata": {},
   "outputs": [],
   "source": []
  },
  {
   "cell_type": "code",
   "execution_count": null,
   "id": "38f9041b",
   "metadata": {},
   "outputs": [],
   "source": []
  },
  {
   "cell_type": "code",
   "execution_count": null,
   "id": "38cddb5d",
   "metadata": {},
   "outputs": [],
   "source": []
  },
  {
   "cell_type": "code",
   "execution_count": null,
   "id": "6b4ed197",
   "metadata": {},
   "outputs": [],
   "source": []
  },
  {
   "cell_type": "code",
   "execution_count": null,
   "id": "3871fd07",
   "metadata": {},
   "outputs": [],
   "source": []
  },
  {
   "cell_type": "code",
   "execution_count": null,
   "id": "bc0ed454",
   "metadata": {},
   "outputs": [],
   "source": []
  },
  {
   "cell_type": "code",
   "execution_count": null,
   "id": "a93a4b36",
   "metadata": {},
   "outputs": [],
   "source": []
  },
  {
   "cell_type": "code",
   "execution_count": null,
   "id": "b85ac7eb",
   "metadata": {},
   "outputs": [],
   "source": []
  },
  {
   "cell_type": "code",
   "execution_count": null,
   "id": "be058a91",
   "metadata": {},
   "outputs": [],
   "source": []
  },
  {
   "cell_type": "code",
   "execution_count": null,
   "id": "43bfcda1",
   "metadata": {},
   "outputs": [],
   "source": []
  },
  {
   "cell_type": "code",
   "execution_count": null,
   "id": "89291bdd",
   "metadata": {},
   "outputs": [],
   "source": []
  },
  {
   "cell_type": "code",
   "execution_count": null,
   "id": "9ffc8b4e",
   "metadata": {},
   "outputs": [],
   "source": []
  },
  {
   "cell_type": "code",
   "execution_count": null,
   "id": "50ac8625",
   "metadata": {},
   "outputs": [],
   "source": []
  },
  {
   "cell_type": "code",
   "execution_count": null,
   "id": "6f0dcc3f",
   "metadata": {},
   "outputs": [],
   "source": []
  },
  {
   "cell_type": "code",
   "execution_count": null,
   "id": "2ac5f627",
   "metadata": {},
   "outputs": [],
   "source": []
  },
  {
   "cell_type": "code",
   "execution_count": null,
   "id": "8e61e975",
   "metadata": {},
   "outputs": [],
   "source": []
  },
  {
   "cell_type": "code",
   "execution_count": null,
   "id": "7523d278",
   "metadata": {},
   "outputs": [],
   "source": []
  },
  {
   "cell_type": "code",
   "execution_count": null,
   "id": "ecb556a4",
   "metadata": {},
   "outputs": [],
   "source": []
  },
  {
   "cell_type": "code",
   "execution_count": null,
   "id": "5a130490",
   "metadata": {},
   "outputs": [],
   "source": []
  },
  {
   "cell_type": "code",
   "execution_count": null,
   "id": "b8e37c8d",
   "metadata": {},
   "outputs": [],
   "source": []
  },
  {
   "cell_type": "code",
   "execution_count": null,
   "id": "b237ab3e",
   "metadata": {},
   "outputs": [],
   "source": []
  },
  {
   "cell_type": "code",
   "execution_count": null,
   "id": "e7bad7f5",
   "metadata": {},
   "outputs": [],
   "source": []
  },
  {
   "cell_type": "code",
   "execution_count": null,
   "id": "48b93a9d",
   "metadata": {},
   "outputs": [],
   "source": []
  },
  {
   "cell_type": "code",
   "execution_count": null,
   "id": "03dee8ed",
   "metadata": {},
   "outputs": [],
   "source": []
  },
  {
   "cell_type": "code",
   "execution_count": null,
   "id": "dee49f1a",
   "metadata": {},
   "outputs": [],
   "source": []
  },
  {
   "cell_type": "code",
   "execution_count": null,
   "id": "4c81e314",
   "metadata": {},
   "outputs": [],
   "source": []
  }
 ],
 "metadata": {
  "kernelspec": {
   "display_name": "Python 3",
   "language": "python",
   "name": "python3"
  },
  "language_info": {
   "codemirror_mode": {
    "name": "ipython",
    "version": 3
   },
   "file_extension": ".py",
   "mimetype": "text/x-python",
   "name": "python",
   "nbconvert_exporter": "python",
   "pygments_lexer": "ipython3",
   "version": "3.8.8"
  }
 },
 "nbformat": 4,
 "nbformat_minor": 5
}
