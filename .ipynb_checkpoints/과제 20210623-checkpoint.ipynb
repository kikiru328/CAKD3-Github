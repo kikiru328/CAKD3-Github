{
 "cells": [
  {
   "cell_type": "markdown",
   "id": "c5e442be",
   "metadata": {},
   "source": [
    "###### Q1. 1~20사이의 정수에서 3의 배수만 출력하세요"
   ]
  },
  {
   "cell_type": "code",
   "execution_count": 1,
   "id": "fda4042d",
   "metadata": {},
   "outputs": [
    {
     "name": "stdout",
     "output_type": "stream",
     "text": [
      "3 6 9 12 15 18 "
     ]
    }
   ],
   "source": [
    "for i in range(1,21):\n",
    "    if i % 3 == 0:\n",
    "        print(i, end = \" \")"
   ]
  },
  {
   "cell_type": "markdown",
   "id": "b405c964",
   "metadata": {},
   "source": [
    "###### Q2. 1~100범위의 정수에서 95보다 큰 정수만 출력하세요"
   ]
  },
  {
   "cell_type": "code",
   "execution_count": 2,
   "id": "1c546080",
   "metadata": {},
   "outputs": [
    {
     "name": "stdout",
     "output_type": "stream",
     "text": [
      "96 97 98 99 100 "
     ]
    }
   ],
   "source": [
    "for i in range(1,101):\n",
    "    if i > 95:\n",
    "        print(i, end = \" \")"
   ]
  },
  {
   "cell_type": "markdown",
   "id": "fa74ef4c",
   "metadata": {},
   "source": [
    "###### Q3.  array([5, 0, 3, 3, 7, 9, 3, 5, 2, 4]) 에서 7, 9 만 출력하세요"
   ]
  },
  {
   "cell_type": "code",
   "execution_count": 3,
   "id": "265055a8",
   "metadata": {},
   "outputs": [
    {
     "name": "stdout",
     "output_type": "stream",
     "text": [
      "7 9\n"
     ]
    },
    {
     "data": {
      "text/plain": [
       "list"
      ]
     },
     "execution_count": 3,
     "metadata": {},
     "output_type": "execute_result"
    }
   ],
   "source": [
    "import numpy as np\n",
    "np.random.seed(0)\n",
    "num = np.random.randint(10,size=10)\n",
    "num = num.tolist()\n",
    "print(num[4],num[5])\n",
    "type(num)"
   ]
  },
  {
   "cell_type": "markdown",
   "id": "7735f6e9",
   "metadata": {},
   "source": [
    "###### Q4. array([5, 0, 3, 3, 7, 9, 3, 5, 2, 4])에서 0 , 9 만 출력하세요"
   ]
  },
  {
   "cell_type": "code",
   "execution_count": 4,
   "id": "26f53367",
   "metadata": {},
   "outputs": [
    {
     "name": "stdout",
     "output_type": "stream",
     "text": [
      "0 9\n"
     ]
    }
   ],
   "source": [
    "print(num[1],num[5])"
   ]
  },
  {
   "cell_type": "markdown",
   "id": "41ad89e9",
   "metadata": {},
   "source": [
    "###### Q5. num에서 10,11,12만 출력하세요"
   ]
  },
  {
   "cell_type": "code",
   "execution_count": 5,
   "id": "798a3389",
   "metadata": {
    "scrolled": true
   },
   "outputs": [
    {
     "name": "stdout",
     "output_type": "stream",
     "text": [
      "[10, 11, 12]\n"
     ]
    }
   ],
   "source": [
    "num = np.arange(20).tolist()\n",
    "print(num[10:13])"
   ]
  },
  {
   "cell_type": "code",
   "execution_count": null,
   "id": "7e889ae4",
   "metadata": {},
   "outputs": [],
   "source": [
    "li = [0,1,2,3,4,5,6,7,8,9,10,11,12,13,14,15,16,17,18,19]"
   ]
  },
  {
   "cell_type": "markdown",
   "id": "c37c9bab",
   "metadata": {},
   "source": [
    "###### Q6. 500~1000 사이의 정수 중 3과 5의 공배수의 합을 구하세요"
   ]
  },
  {
   "cell_type": "code",
   "execution_count": 6,
   "id": "3a38b17a",
   "metadata": {},
   "outputs": [
    {
     "name": "stdout",
     "output_type": "stream",
     "text": [
      "24750\n"
     ]
    }
   ],
   "source": [
    "n = 500\n",
    "sum = 0\n",
    "while 500 <= n < 1001:\n",
    "    if n % 3 == 0 and n % 5 == 0 :\n",
    "        sum = sum + n\n",
    "    n = n + 1\n",
    "print(sum)\n",
    "    "
   ]
  },
  {
   "cell_type": "code",
   "execution_count": 4,
   "id": "746fed00",
   "metadata": {},
   "outputs": [
    {
     "name": "stdout",
     "output_type": "stream",
     "text": [
      "24750\n"
     ]
    }
   ],
   "source": [
    "sum = 0\n",
    "for i in range(500,1001):\n",
    "    if i % 3 == 0 and i % 5 == 0:\n",
    "        sum = sum + i\n",
    "    else:\n",
    "        continue\n",
    "print(sum)"
   ]
  },
  {
   "cell_type": "markdown",
   "id": "542444c1",
   "metadata": {},
   "source": [
    "###### Q. 1~100사이의 정수 중 5와 7의 공배수의 합을 구하세요"
   ]
  },
  {
   "cell_type": "code",
   "execution_count": 7,
   "id": "7e02b926",
   "metadata": {},
   "outputs": [
    {
     "name": "stdout",
     "output_type": "stream",
     "text": [
      "105\n"
     ]
    }
   ],
   "source": [
    "number = 0\n",
    "sum = 0\n",
    "while number < 101:\n",
    "    if number % 5 == 0 and number % 7 == 0:\n",
    "        sum = sum + number\n",
    "    number = number + 1\n",
    "print(sum)"
   ]
  },
  {
   "cell_type": "markdown",
   "id": "13e0c0c9",
   "metadata": {},
   "source": [
    "###### Q8. 1~100사이의 정수 중 3과 4의 공배수를 리스트로 구하세요"
   ]
  },
  {
   "cell_type": "code",
   "execution_count": 8,
   "id": "bd5ad1b3",
   "metadata": {},
   "outputs": [
    {
     "name": "stdout",
     "output_type": "stream",
     "text": [
      "[12, 24, 36, 48, 60, 72, 84, 96]\n"
     ]
    }
   ],
   "source": [
    "number = range(1,101)\n",
    "a = []\n",
    "for i in number:\n",
    "    if i % 3 == 0 and i % 4 == 0:\n",
    "        a.append(i)\n",
    "print(a)"
   ]
  },
  {
   "cell_type": "markdown",
   "id": "f6b07ce3",
   "metadata": {},
   "source": [
    "###### Q9. 3~7 사이의 정수의 곱을 구하세요"
   ]
  },
  {
   "cell_type": "code",
   "execution_count": 9,
   "id": "013ac117",
   "metadata": {
    "scrolled": false
   },
   "outputs": [
    {
     "name": "stdout",
     "output_type": "stream",
     "text": [
      "2520\n"
     ]
    }
   ],
   "source": [
    "multi = 1\n",
    "for i in range(3,8):\n",
    "    if i > 8:\n",
    "        break\n",
    "    multi = multi * i\n",
    "print(multi)"
   ]
  },
  {
   "cell_type": "markdown",
   "id": "376e278a",
   "metadata": {},
   "source": [
    "###### Q10. 2,3을 더한 후 5를 곱하는 계산 값을 람다함수를 이용해 구하세요"
   ]
  },
  {
   "cell_type": "code",
   "execution_count": 10,
   "id": "c9d979cf",
   "metadata": {},
   "outputs": [
    {
     "data": {
      "text/plain": [
       "25"
      ]
     },
     "execution_count": 10,
     "metadata": {},
     "output_type": "execute_result"
    }
   ],
   "source": [
    "A = lambda a,b,c : (a+b)*c\n",
    "A(2,3,5)"
   ]
  },
  {
   "cell_type": "markdown",
   "id": "5b7b0948",
   "metadata": {},
   "source": [
    "###### Q11. 2와 5를 더한 후 3으로 나눈 나머지 값을 사용자 함수를 이용해서 구하세요"
   ]
  },
  {
   "cell_type": "code",
   "execution_count": 11,
   "id": "be7e3a06",
   "metadata": {
    "scrolled": true
   },
   "outputs": [
    {
     "name": "stdout",
     "output_type": "stream",
     "text": [
      "1\n"
     ]
    }
   ],
   "source": [
    "def find_remainder(a,b,c):\n",
    "    print((a+b)%c)\n",
    "find_remainder(2,5,3)"
   ]
  },
  {
   "cell_type": "markdown",
   "id": "58d7df25",
   "metadata": {},
   "source": [
    "###### Q12.문자열 앞의 공백을 제거하고 아래와 같이 출력하세요"
   ]
  },
  {
   "cell_type": "code",
   "execution_count": 12,
   "id": "83c89aa9",
   "metadata": {},
   "outputs": [
    {
     "name": "stdout",
     "output_type": "stream",
     "text": [
      "It is true\n",
      "'Python is fit for data analysis'\n",
      "\n"
     ]
    }
   ],
   "source": [
    "# It is true\n",
    "# 'Python is fit for data analysis'\n",
    "input_a = \"\"\"\n",
    "                       It is true\n",
    "'Python is fit for data analysis'\n",
    "\"\"\"\n",
    "input_a = input_a.lstrip()\n",
    "print(input_a)"
   ]
  },
  {
   "cell_type": "markdown",
   "id": "b24b95f2",
   "metadata": {},
   "source": [
    "###### Q13. \"10/20/30/40/50\"을 '/'를 기준으로 구분하여 아래와 같이 출력하세요."
   ]
  },
  {
   "cell_type": "code",
   "execution_count": 12,
   "id": "f5b06a6f",
   "metadata": {},
   "outputs": [
    {
     "name": "stdout",
     "output_type": "stream",
     "text": [
      "['10', '20', '30', '40', '50']\n",
      "<class 'list'>\n"
     ]
    }
   ],
   "source": [
    "#['10', '20', '30', '40', '50']\n",
    "Str = \"10/20/30/40/50\".split(\"/\")\n",
    "print(Str)\n",
    "print(type(Str))"
   ]
  },
  {
   "cell_type": "markdown",
   "id": "f83c683c",
   "metadata": {},
   "source": [
    "###### Q14.현재의 날씨와 시간을 다음과 같이 포멧으로 표현하세요"
   ]
  },
  {
   "cell_type": "code",
   "execution_count": 14,
   "id": "e61548ac",
   "metadata": {},
   "outputs": [
    {
     "name": "stdout",
     "output_type": "stream",
     "text": [
      "2021년 6월 23일 18시 17분 41초\n"
     ]
    }
   ],
   "source": [
    "# 2021년 6월 23일 09시 01분 01초\n",
    "import datetime as dt\n",
    "now = dt.datetime.now()\n",
    "Answer = \"{}년 {}월 {}일 {}시 {}분 {}초\".format(now.year, now.month, now.day, now.hour, now.minute,\n",
    "                                          now.second)\n",
    "print(Answer)"
   ]
  },
  {
   "cell_type": "markdown",
   "id": "99effbfe",
   "metadata": {},
   "source": [
    "###### Q15. 짝수와 짝수를 입력하면 곱한 값을 출력하고 홀수와 홀수를 입력하면 덧셈 값을 출력하고 그외는 다시 입력하라는 메시지를 출력하세요"
   ]
  },
  {
   "cell_type": "code",
   "execution_count": 85,
   "id": "255493d3",
   "metadata": {},
   "outputs": [
    {
     "name": "stdout",
     "output_type": "stream",
     "text": [
      "입력하세요 : 3\n",
      "입력하세요 : 3\n",
      "6\n"
     ]
    }
   ],
   "source": [
    "a = int(input(\"입력하세요 : \"))\n",
    "b = int(input(\"입력하세요 : \"))\n",
    "\n",
    "if a % 2 == 0 and b % 2 == 0 :\n",
    "    print(a*b)\n",
    "elif a % 2 != 0 and b %2 != 0 :\n",
    "    print(a+b)\n",
    "else:\n",
    "    print(\"잘못입력하셨습니다. 다시 입력하세요\")"
   ]
  },
  {
   "cell_type": "markdown",
   "id": "d8ce76fc",
   "metadata": {},
   "source": [
    "###### Q16. 1부터 100까지 아래와 같이 2개의 수를 곱해서 가장 큰 수를 구하세요."
   ]
  },
  {
   "cell_type": "code",
   "execution_count": 84,
   "id": "13850782",
   "metadata": {},
   "outputs": [],
   "source": [
    "for i in range(1,100):\n",
    "    multi = i * (100 - i)\n",
    "    if multi < i * (100-i):\n",
    "        print(multi)"
   ]
  },
  {
   "cell_type": "code",
   "execution_count": null,
   "id": "49daff67",
   "metadata": {},
   "outputs": [],
   "source": []
  },
  {
   "cell_type": "code",
   "execution_count": null,
   "id": "61d1c719",
   "metadata": {},
   "outputs": [],
   "source": []
  },
  {
   "cell_type": "markdown",
   "id": "ee5ad1a0",
   "metadata": {},
   "source": [
    "###### Q17. [    ]을 채워서 아래의 출력과 같이 출력하세요."
   ]
  },
  {
   "cell_type": "code",
   "execution_count": 13,
   "id": "55232b9e",
   "metadata": {},
   "outputs": [
    {
     "name": "stdout",
     "output_type": "stream",
     "text": [
      "[[1, 4, 7], [2, 5, 8], [3, 6, 9]]\n"
     ]
    }
   ],
   "source": [
    "numbers = [1,2,3,4,5,6,7,8,9]\n",
    "output = [[], [], []]\n",
    "for number in numbers:\n",
    "    output[number%3-1 ].append(number)\n",
    "print(output)\n",
    "# 출력 :\n",
    "# [[1,4,7],[2,5,8],[3,6,9]]\n",
    "\n",
    "# output대괄호 안에 들어가는 수식이 0과 1과 2로 순서대로 맞춰줘야함. 근데 이걸 하려면 어떤 수식을 들어가야할지 고민해야됨\n",
    "# append(number)이 의미는 output대괄호 안에 들어가는 수식 중 number을 넣는 다는 의미\n",
    "# 따라서 append(number)를 넣었기 때문에 1~9까지 순차적으로 입력되는데\n",
    "# 순차적으로 1 % 3 (나머지 1) - 1 = 0 이니까 output[[0]] 에 1 값이 입력\n",
    "# 다음 2 % 3 (나머지 2) - 1 = 1 이니까 output[[],[1]] 에 2 값이 입력\n",
    "# 다음 3 % 3 (나머지 0) - 1 = -1 즉, 맨 마지막인 output[[],[],[-1]] 에 3값이 입력됨\n",
    "# 따라서 이걸 1~9까지 반복하면\n",
    "# 다음과 같은 코드가 나온다 제기랄\n",
    "\n",
    "#혹은 (number+2)%3 도 마찬가지다"
   ]
  },
  {
   "cell_type": "code",
   "execution_count": null,
   "id": "0a56a72e",
   "metadata": {},
   "outputs": [],
   "source": [
    "for number in numbers:\n",
    "    output[].append(number)\n",
    "print(output)"
   ]
  },
  {
   "cell_type": "markdown",
   "id": "25097ea9",
   "metadata": {},
   "source": [
    "###### Q18. 커피자판기 프로그램\n",
    "- 시나리오 : 자판기 커피 재고 5잔, 커피 1잔 가격 300원, 재고 범위내에서 300원 이상 돈을 넣으면 거스름돈과 커피를 주고 그렇지 않으면 반환하며 재고가 소진되면 안내멘트 출력\n",
    "- 각 Case별 멘트 출력은 상황에 맞게 창작\n",
    "- while, if ~ elif ~ else 제어문을 사용하여 작성"
   ]
  },
  {
   "cell_type": "code",
   "execution_count": 86,
   "id": "27605bca",
   "metadata": {
    "scrolled": true
   },
   "outputs": [
    {
     "name": "stdout",
     "output_type": "stream",
     "text": [
      "금액을 넣어주세요 : 100\n",
      "금액이 부족합니다. 부족한 금액은 200원 입니다.\n",
      "잔여수량은 5개 입니다.\n",
      "금액을 넣어주세요 : 300\n",
      "커피가 나옵니다.\n",
      "잔여수량은 4개 입니다.\n",
      "금액을 넣어주세요 : 200\n",
      "금액이 부족합니다. 부족한 금액은 100원 입니다.\n",
      "잔여수량은 4개 입니다.\n",
      "금액을 넣어주세요 : 400\n",
      "잔액은 100원입니다.\n",
      "커피가 나옵니다\n",
      "잔여수량은 3개 입니다.\n",
      "금액을 넣어주세요 : 300\n",
      "커피가 나옵니다.\n",
      "잔여수량은 2개 입니다.\n",
      "금액을 넣어주세요 : 600\n",
      "잔액은 300원입니다.\n",
      "커피가 나옵니다\n",
      "잔여수량은 1개 입니다.\n",
      "금액을 넣어주세요 : 500\n",
      "잔액은 200원입니다.\n",
      "커피가 나옵니다\n",
      "잔여수량은 0개 입니다.\n",
      "잔여 수량이 없습니다.\n"
     ]
    }
   ],
   "source": [
    "coffee =5\n",
    "while True:\n",
    "    money = int(input(\"금액을 넣어주세요 : \"))\n",
    "    if money == 300:\n",
    "        coffee = coffee - 1\n",
    "        print(\"커피가 나옵니다.\")\n",
    "        print(\"잔여수량은 %d개 입니다.\" %coffee)\n",
    "    elif money > 300:\n",
    "        coffee = coffee - 1\n",
    "        print(\"잔액은 %d원입니다.\" %(money-300))\n",
    "        print(\"커피가 나옵니다\")\n",
    "        print(\"잔여수량은 %d개 입니다.\" %coffee)\n",
    "    else:\n",
    "        print(\"금액이 부족합니다. 부족한 금액은 %d원 입니다.\" %(300-money))\n",
    "        print(\"잔여수량은 %d개 입니다.\" %coffee)\n",
    "    if coffee == 0 :\n",
    "        print(\"잔여 수량이 없습니다.\")\n",
    "        break"
   ]
  }
 ],
 "metadata": {
  "kernelspec": {
   "display_name": "Python 3",
   "language": "python",
   "name": "python3"
  },
  "language_info": {
   "codemirror_mode": {
    "name": "ipython",
    "version": 3
   },
   "file_extension": ".py",
   "mimetype": "text/x-python",
   "name": "python",
   "nbconvert_exporter": "python",
   "pygments_lexer": "ipython3",
   "version": "3.8.10"
  }
 },
 "nbformat": 4,
 "nbformat_minor": 5
}
