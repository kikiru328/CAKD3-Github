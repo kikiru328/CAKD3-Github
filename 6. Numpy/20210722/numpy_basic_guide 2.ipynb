{
 "cells": [
  {
   "cell_type": "code",
   "execution_count": 1,
   "id": "641bde02",
   "metadata": {},
   "outputs": [],
   "source": [
    "import numpy as np"
   ]
  },
  {
   "cell_type": "code",
   "execution_count": 5,
   "id": "54181963",
   "metadata": {},
   "outputs": [],
   "source": [
    "#Boolen Indexing"
   ]
  },
  {
   "cell_type": "code",
   "execution_count": 10,
   "id": "3bdaa175",
   "metadata": {},
   "outputs": [
    {
     "name": "stdout",
     "output_type": "stream",
     "text": [
      "[1 2 3 4 5 6 7 8 9]\n",
      "[False False False False False  True  True  True  True]\n",
      "[6 7 8 9]\n"
     ]
    }
   ],
   "source": [
    "ar1 = np.arange(1,10)\n",
    "print(ar1)\n",
    "print(ar1>5)\n",
    "ar2 = ar1[ar1>5]\n",
    "print(ar2)"
   ]
  },
  {
   "cell_type": "code",
   "execution_count": 13,
   "id": "0b391e9c",
   "metadata": {},
   "outputs": [
    {
     "data": {
      "text/plain": [
       "array([6, 7, 8, 9])"
      ]
     },
     "execution_count": 13,
     "metadata": {},
     "output_type": "execute_result"
    }
   ],
   "source": [
    "indexes = np.array([5,6,7,8])\n",
    "ar3 = ar1[indexes]\n",
    "ar3"
   ]
  },
  {
   "cell_type": "markdown",
   "id": "1c3a0be4",
   "metadata": {},
   "source": [
    "Q. 1~14까지 ndarray를 만들어 array_e로 저장하고 (array_e / 2) >5 를 만족하는 불린 인덱스로 출력하세요"
   ]
  },
  {
   "cell_type": "markdown",
   "id": "d63d260b",
   "metadata": {},
   "source": []
  },
  {
   "cell_type": "code",
   "execution_count": 20,
   "id": "7cb15767",
   "metadata": {},
   "outputs": [
    {
     "name": "stdout",
     "output_type": "stream",
     "text": [
      "[ 1  2  3  4  5  6  7  8  9 10 11 12 13 14]\n"
     ]
    },
    {
     "data": {
      "text/plain": [
       "array([11, 12, 13, 14])"
      ]
     },
     "execution_count": 20,
     "metadata": {},
     "output_type": "execute_result"
    }
   ],
   "source": [
    "array_e = np.arange(1,15)\n",
    "print(array_e)\n",
    "find = (array_e/2) > 5\n",
    "answer = array_e[find]\n",
    "answer"
   ]
  },
  {
   "cell_type": "code",
   "execution_count": 19,
   "id": "e8337931",
   "metadata": {},
   "outputs": [
    {
     "data": {
      "text/plain": [
       "array([False, False, False, False, False, False, False, False, False,\n",
       "       False,  True,  True,  True,  True])"
      ]
     },
     "execution_count": 19,
     "metadata": {},
     "output_type": "execute_result"
    }
   ],
   "source": [
    "find"
   ]
  },
  {
   "cell_type": "code",
   "execution_count": 50,
   "id": "1c8a8f48",
   "metadata": {},
   "outputs": [
    {
     "name": "stdout",
     "output_type": "stream",
     "text": [
      "['Bob' 'Joe' 'Will' 'Bob' 'Will' 'Joe' 'Joe'] \n",
      "\n",
      "[[-2.30017184e+00 -7.38240258e-01  9.45260885e-01  1.72286961e+00]\n",
      " [-7.59853876e-01  1.31660387e+00  1.17808546e+00 -1.06142149e+00]\n",
      " [-5.12079576e-01  1.24352454e+00  1.14017821e+00  1.14154015e+00]\n",
      " [ 3.01902501e-04  2.07261898e-01  3.13144128e-01 -2.72292989e-01]\n",
      " [ 3.92173080e-01 -3.44272471e-01 -4.56416380e-01 -9.95069810e-01]\n",
      " [ 1.80445095e+00  8.37773685e-01  1.02509336e+00 -1.38840468e+00]\n",
      " [ 6.39546544e-01 -1.47944644e-01  1.36291413e+00 -7.66510924e-01]]\n"
     ]
    }
   ],
   "source": [
    "names = np.array([\"Bob\",\"Joe\",\"Will\",\"Bob\",\"Will\",\"Joe\",\"Joe\"])\n",
    "data  = np.random.randn(7,4)\n",
    "print(names,'\\n')\n",
    "print(data)"
   ]
  },
  {
   "cell_type": "code",
   "execution_count": 51,
   "id": "23b6901f",
   "metadata": {},
   "outputs": [
    {
     "data": {
      "text/plain": [
       "array([ True, False, False,  True, False, False, False])"
      ]
     },
     "execution_count": 51,
     "metadata": {},
     "output_type": "execute_result"
    }
   ],
   "source": [
    "names == 'Bob'"
   ]
  },
  {
   "cell_type": "code",
   "execution_count": 52,
   "id": "411cb418",
   "metadata": {},
   "outputs": [
    {
     "data": {
      "text/plain": [
       "array([[-2.30017184e+00, -7.38240258e-01,  9.45260885e-01,\n",
       "         1.72286961e+00],\n",
       "       [ 3.01902501e-04,  2.07261898e-01,  3.13144128e-01,\n",
       "        -2.72292989e-01]])"
      ]
     },
     "execution_count": 52,
     "metadata": {},
     "output_type": "execute_result"
    }
   ],
   "source": [
    "data[names=='Bob']"
   ]
  },
  {
   "cell_type": "code",
   "execution_count": 53,
   "id": "8cceb736",
   "metadata": {},
   "outputs": [
    {
     "data": {
      "text/plain": [
       "array([[ 0.94526089,  1.72286961],\n",
       "       [ 0.31314413, -0.27229299]])"
      ]
     },
     "execution_count": 53,
     "metadata": {},
     "output_type": "execute_result"
    }
   ],
   "source": [
    "data[names =='Bob',2:]"
   ]
  },
  {
   "cell_type": "code",
   "execution_count": 54,
   "id": "cf8aa688",
   "metadata": {},
   "outputs": [
    {
     "data": {
      "text/plain": [
       "array([[-0.75985388,  1.31660387,  1.17808546, -1.06142149],\n",
       "       [-0.51207958,  1.24352454,  1.14017821,  1.14154015],\n",
       "       [ 0.39217308, -0.34427247, -0.45641638, -0.99506981],\n",
       "       [ 1.80445095,  0.83777369,  1.02509336, -1.38840468],\n",
       "       [ 0.63954654, -0.14794464,  1.36291413, -0.76651092]])"
      ]
     },
     "execution_count": 54,
     "metadata": {},
     "output_type": "execute_result"
    }
   ],
   "source": [
    "data[names != 'Bob']"
   ]
  },
  {
   "cell_type": "code",
   "execution_count": 55,
   "id": "a6fd6fcf",
   "metadata": {},
   "outputs": [
    {
     "data": {
      "text/plain": [
       "array([[-2.30017184e+00, -7.38240258e-01,  9.45260885e-01,\n",
       "         1.72286961e+00],\n",
       "       [-5.12079576e-01,  1.24352454e+00,  1.14017821e+00,\n",
       "         1.14154015e+00],\n",
       "       [ 3.01902501e-04,  2.07261898e-01,  3.13144128e-01,\n",
       "        -2.72292989e-01],\n",
       "       [ 3.92173080e-01, -3.44272471e-01, -4.56416380e-01,\n",
       "        -9.95069810e-01]])"
      ]
     },
     "execution_count": 55,
     "metadata": {},
     "output_type": "execute_result"
    }
   ],
   "source": [
    "mask = (names == 'Bob') | (names == 'Will')\n",
    "data[mask]"
   ]
  },
  {
   "cell_type": "code",
   "execution_count": 56,
   "id": "f8aeb30d",
   "metadata": {},
   "outputs": [
    {
     "data": {
      "text/plain": [
       "array([[0.00000000e+00, 0.00000000e+00, 9.45260885e-01, 1.72286961e+00],\n",
       "       [0.00000000e+00, 1.31660387e+00, 1.17808546e+00, 0.00000000e+00],\n",
       "       [0.00000000e+00, 1.24352454e+00, 1.14017821e+00, 1.14154015e+00],\n",
       "       [3.01902501e-04, 2.07261898e-01, 3.13144128e-01, 0.00000000e+00],\n",
       "       [3.92173080e-01, 0.00000000e+00, 0.00000000e+00, 0.00000000e+00],\n",
       "       [1.80445095e+00, 8.37773685e-01, 1.02509336e+00, 0.00000000e+00],\n",
       "       [6.39546544e-01, 0.00000000e+00, 1.36291413e+00, 0.00000000e+00]])"
      ]
     },
     "execution_count": 56,
     "metadata": {},
     "output_type": "execute_result"
    }
   ],
   "source": [
    "data[data<0] = 0\n",
    "data"
   ]
  },
  {
   "cell_type": "code",
   "execution_count": 57,
   "id": "aba938ff",
   "metadata": {},
   "outputs": [
    {
     "data": {
      "text/plain": [
       "array([[7.        , 7.        , 7.        , 7.        ],\n",
       "       [0.        , 1.31660387, 1.17808546, 0.        ],\n",
       "       [7.        , 7.        , 7.        , 7.        ],\n",
       "       [7.        , 7.        , 7.        , 7.        ],\n",
       "       [7.        , 7.        , 7.        , 7.        ],\n",
       "       [1.80445095, 0.83777369, 1.02509336, 0.        ],\n",
       "       [0.63954654, 0.        , 1.36291413, 0.        ]])"
      ]
     },
     "execution_count": 57,
     "metadata": {},
     "output_type": "execute_result"
    }
   ],
   "source": [
    "data[names != 'Joe'] = 7\n",
    "data"
   ]
  },
  {
   "cell_type": "code",
   "execution_count": 59,
   "id": "6f7d5c09",
   "metadata": {},
   "outputs": [
    {
     "data": {
      "text/plain": [
       "array([[ 0,  1,  2,  3,  4],\n",
       "       [ 5,  6,  7,  8,  9],\n",
       "       [10, 11, 12, 13, 14]])"
      ]
     },
     "execution_count": 59,
     "metadata": {},
     "output_type": "execute_result"
    }
   ],
   "source": [
    "#배열의 전치와 축 바꾸기\n",
    "ar = np.arange(15).reshape(3,5)\n",
    "ar"
   ]
  },
  {
   "cell_type": "code",
   "execution_count": 62,
   "id": "8a2466b5",
   "metadata": {},
   "outputs": [],
   "source": [
    "ar_t = ar.T"
   ]
  },
  {
   "cell_type": "code",
   "execution_count": 63,
   "id": "c1a99454",
   "metadata": {},
   "outputs": [
    {
     "data": {
      "text/plain": [
       "array([[ 0,  1,  2,  3,  4],\n",
       "       [ 5,  6,  7,  8,  9],\n",
       "       [10, 11, 12, 13, 14]])"
      ]
     },
     "execution_count": 63,
     "metadata": {},
     "output_type": "execute_result"
    }
   ],
   "source": [
    "ar = ar_t.T\n",
    "ar"
   ]
  },
  {
   "cell_type": "markdown",
   "id": "c050f308",
   "metadata": {},
   "source": [
    "6행 3열짜리 난수로 된"
   ]
  },
  {
   "cell_type": "code",
   "execution_count": 81,
   "id": "fab8b2d3",
   "metadata": {},
   "outputs": [
    {
     "data": {
      "text/plain": [
       "array([[ 1.76405235,  0.40015721,  0.97873798],\n",
       "       [ 2.2408932 ,  1.86755799, -0.97727788],\n",
       "       [ 0.95008842, -0.15135721, -0.10321885],\n",
       "       [ 0.4105985 ,  0.14404357,  1.45427351],\n",
       "       [ 0.76103773,  0.12167502,  0.44386323],\n",
       "       [ 0.33367433,  1.49407907, -0.20515826]])"
      ]
     },
     "execution_count": 81,
     "metadata": {},
     "output_type": "execute_result"
    }
   ],
   "source": [
    "np.random.seed(0)\n",
    "ar = np.random.randn(6,3)\n",
    "ar"
   ]
  },
  {
   "cell_type": "code",
   "execution_count": 83,
   "id": "2315354b",
   "metadata": {},
   "outputs": [],
   "source": [
    "ar = np.arange(1,101)"
   ]
  },
  {
   "cell_type": "code",
   "execution_count": 88,
   "id": "8ca301ab",
   "metadata": {},
   "outputs": [],
   "source": [
    "ans1 = ar[ar % 3 == 0]\n",
    "ans2 = ar[(ar%3 == 0) | (ar%5 ==0)]\n",
    "ans3 = ar[(ar%3 ==0) & (ar%5 == 0 )]"
   ]
  },
  {
   "cell_type": "code",
   "execution_count": 89,
   "id": "73a1845c",
   "metadata": {},
   "outputs": [],
   "source": [
    "ar = np.random.randn(5,4)"
   ]
  },
  {
   "cell_type": "code",
   "execution_count": 90,
   "id": "184b1649",
   "metadata": {},
   "outputs": [
    {
     "data": {
      "text/plain": [
       "0.0632"
      ]
     },
     "execution_count": 90,
     "metadata": {},
     "output_type": "execute_result"
    }
   ],
   "source": [
    "#반올림\n",
    "ar.mean().round(4)"
   ]
  },
  {
   "cell_type": "code",
   "execution_count": 92,
   "id": "9cc50873",
   "metadata": {},
   "outputs": [
    {
     "data": {
      "text/plain": [
       "1.2636"
      ]
     },
     "execution_count": 92,
     "metadata": {},
     "output_type": "execute_result"
    }
   ],
   "source": [
    "ar.sum().round(4)"
   ]
  },
  {
   "cell_type": "code",
   "execution_count": 94,
   "id": "22381e3c",
   "metadata": {},
   "outputs": [
    {
     "name": "stdout",
     "output_type": "stream",
     "text": [
      "[1 2 3 4 5 6 7 8] \n",
      "\n"
     ]
    },
    {
     "data": {
      "text/plain": [
       "array([ 1,  3,  6, 10, 15, 21, 28, 36], dtype=int32)"
      ]
     },
     "execution_count": 94,
     "metadata": {},
     "output_type": "execute_result"
    }
   ],
   "source": [
    "ar = np.arange(1,9)\n",
    "print(ar,'\\n')\n",
    "ar.cumsum() #누적합계"
   ]
  },
  {
   "cell_type": "code",
   "execution_count": 96,
   "id": "419a2503",
   "metadata": {},
   "outputs": [
    {
     "name": "stdout",
     "output_type": "stream",
     "text": [
      "[[0 1 2]\n",
      " [3 4 5]\n",
      " [6 7 8]] \n",
      "\n"
     ]
    },
    {
     "data": {
      "text/plain": [
       "array([[ 0,  1,  3],\n",
       "       [ 3,  7, 12],\n",
       "       [ 6, 13, 21]], dtype=int32)"
      ]
     },
     "execution_count": 96,
     "metadata": {},
     "output_type": "execute_result"
    }
   ],
   "source": [
    "ar =  np.arange(9).reshape(3,3)\n",
    "print(ar,'\\n')\n",
    "ar.cumsum(axis=1)"
   ]
  },
  {
   "cell_type": "code",
   "execution_count": 99,
   "id": "31a1b06f",
   "metadata": {},
   "outputs": [
    {
     "name": "stdout",
     "output_type": "stream",
     "text": [
      "[ 1.76405235  0.40015721  0.97873798  2.2408932   1.86755799 -0.97727788\n",
      "  0.95008842 -0.15135721 -0.10321885  0.4105985 ] \n",
      "\n"
     ]
    },
    {
     "data": {
      "text/plain": [
       "7"
      ]
     },
     "execution_count": 99,
     "metadata": {},
     "output_type": "execute_result"
    }
   ],
   "source": [
    "np.random.seed(0)\n",
    "ar = np.random.randn(10)\n",
    "print(ar,'\\n')\n",
    "(ar>0).sum()\n",
    "len(ar[ar>0])"
   ]
  },
  {
   "cell_type": "code",
   "execution_count": 101,
   "id": "14aaa167",
   "metadata": {},
   "outputs": [
    {
     "data": {
      "text/plain": [
       "True"
      ]
     },
     "execution_count": 101,
     "metadata": {},
     "output_type": "execute_result"
    }
   ],
   "source": [
    "bools = np.array([False,False,True,True])\n",
    "bools.any() # 요소 중 하나가 True인지"
   ]
  },
  {
   "cell_type": "code",
   "execution_count": 103,
   "id": "aa87dcca",
   "metadata": {},
   "outputs": [
    {
     "data": {
      "text/plain": [
       "False"
      ]
     },
     "execution_count": 103,
     "metadata": {},
     "output_type": "execute_result"
    }
   ],
   "source": [
    "bools.all() # 요소 전체가 True인지"
   ]
  },
  {
   "cell_type": "code",
   "execution_count": 105,
   "id": "f77ce3d9",
   "metadata": {},
   "outputs": [
    {
     "name": "stdout",
     "output_type": "stream",
     "text": [
      "[[ 0.04575852 -0.18718385  1.53277921  1.46935877]\n",
      " [ 0.15494743  0.37816252 -0.88778575 -1.98079647]\n",
      " [-0.34791215  0.15634897  1.23029068  1.20237985]\n",
      " [-0.38732682 -0.30230275 -1.04855297 -1.42001794]]\n"
     ]
    },
    {
     "data": {
      "text/plain": [
       "array([[ 2, -2,  2,  2],\n",
       "       [ 2,  2, -2, -2],\n",
       "       [-2,  2,  2,  2],\n",
       "       [-2, -2, -2, -2]])"
      ]
     },
     "execution_count": 105,
     "metadata": {},
     "output_type": "execute_result"
    }
   ],
   "source": [
    "ar = np.random.randn(4,4)\n",
    "print(ar)\n",
    "np.where(ar>0,2,-2) # where( 조건, 맞을때 리턴값, 아닐때 리턴값)"
   ]
  },
  {
   "cell_type": "code",
   "execution_count": null,
   "id": "f68eafc5",
   "metadata": {},
   "outputs": [],
   "source": []
  }
 ],
 "metadata": {
  "kernelspec": {
   "display_name": "Python 3",
   "language": "python",
   "name": "python3"
  },
  "language_info": {
   "codemirror_mode": {
    "name": "ipython",
    "version": 3
   },
   "file_extension": ".py",
   "mimetype": "text/x-python",
   "name": "python",
   "nbconvert_exporter": "python",
   "pygments_lexer": "ipython3",
   "version": "3.8.10"
  }
 },
 "nbformat": 4,
 "nbformat_minor": 5
}
