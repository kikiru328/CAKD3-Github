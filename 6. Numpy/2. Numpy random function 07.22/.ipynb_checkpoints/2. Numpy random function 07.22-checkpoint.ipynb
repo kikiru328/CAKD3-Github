{
 "cells": [
  {
   "cell_type": "code",
   "execution_count": 1,
   "id": "bc42a96c",
   "metadata": {},
   "outputs": [],
   "source": [
    "import numpy as np\n",
    "import random"
   ]
  },
  {
   "cell_type": "markdown",
   "id": "7f168778",
   "metadata": {},
   "source": [
    "##### Python Random Functions\n",
    "    import random\n",
    "    random.random()       # 0.0 <= x < 1.0 사이\n",
    "    random.randint()      # 1에서 10사이의 정수중에서 난수값 리턴\n",
    "    random.uniform()      # min max 사이 float 리턴\n",
    "    random.randrange()    # 지정범위 int 리턴\n",
    "    random.choice()       # 리스트 내부에 있는 요소를 랜덤하게 선택\n",
    "    random.sample()       # 리스트 내부에 있는 요소를 중복없이 추출\n",
    "    random.shuffle()      # 리스트 내부에 있는 요소들의 순서를 섞음 - 리턴 값 없음. 리스트 재출력 요망"
   ]
  },
  {
   "cell_type": "markdown",
   "id": "b51e7159",
   "metadata": {},
   "source": [
    "##### Numpy Random Functions\n",
    "    import numpy as np\n",
    "    np.rand()      # 0.0 ~ 1.0 실수 사이의 균일 분포\n",
    "    np.randn()     # 가우시안 표준 정규 분포\n",
    "    np.randint()   # 균일 분포의 정수 난수"
   ]
  },
  {
   "cell_type": "code",
   "execution_count": 3,
   "id": "1dd565d6",
   "metadata": {},
   "outputs": [
    {
     "data": {
      "text/plain": [
       "array([0.5488135 , 0.71518937, 0.60276338, 0.54488318, 0.4236548 ])"
      ]
     },
     "execution_count": 3,
     "metadata": {},
     "output_type": "execute_result"
    }
   ],
   "source": [
    "np.random.seed(0)\n",
    "np.random.rand(5)                         "
   ]
  },
  {
   "cell_type": "code",
   "execution_count": 7,
   "id": "90dc4194",
   "metadata": {},
   "outputs": [
    {
     "data": {
      "text/plain": [
       "array([[17, 12, 10, 10, 14],\n",
       "       [15, 15, 16, 18, 14],\n",
       "       [11, 14, 19, 18, 11]])"
      ]
     },
     "execution_count": 7,
     "metadata": {},
     "output_type": "execute_result"
    }
   ],
   "source": [
    "np.random.randint(5) # 0 ~ 4 까지 정수 난수 1개\n",
    "np.random.randint(1,20)\n",
    "np.random.randint(10,size=10) \n",
    "np.random.randint(10,20,size=10)\n",
    "np.random.randint(10,20,size=(3,5))"
   ]
  },
  {
   "cell_type": "code",
   "execution_count": 11,
   "id": "54032d3c",
   "metadata": {},
   "outputs": [
    {
     "data": {
      "text/plain": [
       "array([0, 4, 3, 2, 0])"
      ]
     },
     "execution_count": 11,
     "metadata": {},
     "output_type": "execute_result"
    }
   ],
   "source": [
    "np.random.choice([1,2,3,4,5])\n",
    "np.random.choice(5,5,replace=False) #비복원 추출\n",
    "np.random.choice(5,5)"
   ]
  },
  {
   "cell_type": "code",
   "execution_count": 12,
   "id": "53bfa9d6",
   "metadata": {},
   "outputs": [
    {
     "data": {
      "text/plain": [
       "[0, 2, 3, 4, 1]"
      ]
     },
     "execution_count": 12,
     "metadata": {},
     "output_type": "execute_result"
    }
   ],
   "source": [
    "list = [0,1,2,3,4]\n",
    "np.random.shuffle(list)\n",
    "# np.random.choice(5,5,replace=False)\n",
    "list"
   ]
  },
  {
   "cell_type": "code",
   "execution_count": 13,
   "id": "1db00567",
   "metadata": {},
   "outputs": [
    {
     "data": {
      "text/plain": [
       "array([[-0.36433431, -0.67877739],\n",
       "       [-0.35362786, -0.74074747],\n",
       "       [-0.67502183, -0.13278426]])"
      ]
     },
     "execution_count": 13,
     "metadata": {},
     "output_type": "execute_result"
    }
   ],
   "source": [
    "np.random.randn(6)\n",
    "np.random.randn(3,2)"
   ]
  },
  {
   "cell_type": "code",
   "execution_count": 20,
   "id": "b1c82e7e",
   "metadata": {},
   "outputs": [
    {
     "data": {
      "text/plain": [
       "array([[0.27000797, 0.73519402, 0.96218855],\n",
       "       [0.24875314, 0.57615733, 0.59204193]])"
      ]
     },
     "execution_count": 20,
     "metadata": {},
     "output_type": "execute_result"
    }
   ],
   "source": [
    "np.random.uniform(1,2,3) # 1.0~2.0 사이 총 3개를 실수로 랜덤 추출함.\n",
    "np.random.uniform(0,1,(2,3))"
   ]
  },
  {
   "cell_type": "code",
   "execution_count": 21,
   "id": "8205ef8f",
   "metadata": {},
   "outputs": [
    {
     "data": {
      "text/plain": [
       "array([[0.57225191, 0.22308163, 0.95274901],\n",
       "       [0.44712538, 0.84640867, 0.69947928]])"
      ]
     },
     "execution_count": 21,
     "metadata": {},
     "output_type": "execute_result"
    }
   ],
   "source": [
    "# random_sample은 uniform 하수의 최소값, 최대값을 각각 0,1로 지정한 것과 같습니다.\n",
    "np.random.random_sample((2,3)) #무조건 0~1 실수"
   ]
  },
  {
   "cell_type": "code",
   "execution_count": null,
   "id": "01dc853a",
   "metadata": {},
   "outputs": [],
   "source": []
  }
 ],
 "metadata": {
  "kernelspec": {
   "display_name": "Python 3",
   "language": "python",
   "name": "python3"
  },
  "language_info": {
   "codemirror_mode": {
    "name": "ipython",
    "version": 3
   },
   "file_extension": ".py",
   "mimetype": "text/x-python",
   "name": "python",
   "nbconvert_exporter": "python",
   "pygments_lexer": "ipython3",
   "version": "3.8.8"
  }
 },
 "nbformat": 4,
 "nbformat_minor": 5
}
