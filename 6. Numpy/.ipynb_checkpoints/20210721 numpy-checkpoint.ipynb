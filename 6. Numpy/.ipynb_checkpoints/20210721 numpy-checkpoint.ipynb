{
 "cells": [
  {
   "cell_type": "markdown",
   "id": "de0f27cd",
   "metadata": {},
   "source": [
    "#### NumPy\n",
    " 'Numerical Python'의 약자로 대규모 다차원 배열과 행렬 연산에 필요한 다양한 함수를 제공합니다.\n",
    " * Numerical Python을 의미하는 NumPy는 파이썬에서 선형대수 기반의 프로그램을 쉽게 만들 수 있도록 지원하는 대표적인 패키지\n",
    " * 많은 머신러닝 알고리즘이 넘파이 기반으로 작성돼 있으며 알고리즘의 입출력 데이터를 넘파이 배열 타입으로 사용함\n",
    " * 넘파이의 기본 데이터 타입은 ndarray, ndarray를 이용해 넘파이에서 다차원 배열을 쉽게 생성하고 다양한 연산을 수행합니다.\n"
   ]
  },
  {
   "cell_type": "markdown",
   "id": "348cbbff",
   "metadata": {},
   "source": [
    "###### Numpy 특징\n",
    "- 강력한 N 차원 배열 객체\n",
    "- 정교한 브로드캐스팅(Brodacast) 기능\n",
    "- C/C ++ 및 포트란 코드 통합 도구\n",
    "- 유용한 선형 대수학, 푸리에 변환 및 난수 기능\n",
    "- 푸리에 변환(Fouirier transform, FT)은 시간이나 공간에 대한 함수를 시간 또는 공간 주파수 성분으로 분해하는 변환\n",
    "- 범용적 데이터 처리에 사용 가능한 다차원 컨테이너"
   ]
  },
  {
   "cell_type": "code",
   "execution_count": 5,
   "id": "efe386ee",
   "metadata": {},
   "outputs": [
    {
     "name": "stdout",
     "output_type": "stream",
     "text": [
      "[[ 2.70862785 -0.78462327  1.12110257]\n",
      " [ 0.67162029  0.06925348  0.094972  ]]\n",
      "\n",
      "[[27.08627847 -7.84623271 11.21102571]\n",
      " [ 6.71620295  0.69253475  0.94972001]]\n",
      "\n",
      "[[ 5.41725569 -1.56924654  2.24220514]\n",
      " [ 1.34324059  0.13850695  0.189944  ]]\n"
     ]
    }
   ],
   "source": [
    "import numpy as np\n",
    "data =np.random.randn(2,3) # 정규분포에서 2행 3열을 뽑는다. \n",
    "print(data)\n",
    "print()\n",
    "print(data * 10)\n",
    "print()\n",
    "print(data+data)"
   ]
  },
  {
   "cell_type": "markdown",
   "id": "0dd7a8b5",
   "metadata": {},
   "source": [
    "다차원 배열\n",
    "\n",
    "<img src='../Data/numpy차원.jpg' STYLE = 'width:500px;'>"
   ]
  },
  {
   "cell_type": "markdown",
   "id": "512d3739",
   "metadata": {},
   "source": []
  }
 ],
 "metadata": {
  "kernelspec": {
   "display_name": "Python 3",
   "language": "python",
   "name": "python3"
  },
  "language_info": {
   "codemirror_mode": {
    "name": "ipython",
    "version": 3
   },
   "file_extension": ".py",
   "mimetype": "text/x-python",
   "name": "python",
   "nbconvert_exporter": "python",
   "pygments_lexer": "ipython3",
   "version": "3.8.10"
  }
 },
 "nbformat": 4,
 "nbformat_minor": 5
}
