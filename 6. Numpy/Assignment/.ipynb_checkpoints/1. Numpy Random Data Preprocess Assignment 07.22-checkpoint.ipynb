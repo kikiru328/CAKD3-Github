{
 "cells": [
  {
   "cell_type": "markdown",
   "id": "0ad9a759",
   "metadata": {},
   "source": [
    "## 과제\n",
    "### Q. 고객 구매데이터 생성(id, 성별, 연령, 지역, 상품, 가격, 구매시간) 하고 데이터 프레임으로 변환한 후 아래 사항을 수행하세요.\n",
    "#### 구매 데이터 생성\n",
    "- id : 1번 ~ 1000번 일련번호(관측치 1000개)\n",
    "- gender : 0,1 정수 난수 생성\n",
    "- age : 10 ~ 80사이 정수 난수를 생성하고 범주화하여 age_cat 파생\n",
    "- region : 1 ~ 10 사이 정수 난수 생성\n",
    "- product : 1개 제품 이상\n",
    "- price_avg_19 : 1000 ~ 50000 사이 실수 난수 생성하고 범주화하여 price_avg_cat 파생\n",
    "- price_avg_20 : 1000 ~ 50000 사이 실수 난수 생성하고 범주화하여 price_avg_cat 파생\n",
    "- qty_19 : 1 ~ 100 사이 정수 난수 생성하여('19년 구매 수량) \n",
    "- qty_20 : 1 ~ 100 사이 정수 난수 생성하여('20년 구매 수량)\n",
    "- time_19 : 01 ~ 24 사이 정수 난수 생성하고 오전, 오후, 야간 으로 범주화하여 time_cat_19 파생('19년에 가장 자주 구매한 시간대)\n",
    "- time_20 : 01 ~ 24 사이 정수 난수 생성하고 오전, 오후, 야간 으로 범주화하여 time_cat 파생('20년에 가장 자주 구매한 시간대)\n",
    "- 구매액은 price * qty로 산출('19년, '20년 각각 계산)하여 pur_19, pur_20 컬럼으로 생성 \n",
    "- 종속변수(결과변수)는 (pur_20 - pur_19)으로 계산하여 구매액 증감을 0(감소), 1(증가)로 범주화하여 pur_gap 컬럼 생성\n",
    "- np.nan으로 각 컬럼별로 10개씩 null값을 삽입하고 각 칼럼의 특성을 고려한 null 값 처리\n",
    "\n",
    "#### 인사이트 도출\n",
    "- 통계적 분석 및 시각화하여 탐색한 후 불필요한 컬럼은 삭제하고 필요시 추가 파생변수 생성한 후 분석용 데이터셋을 작성하고 인사이트 3개 이상 도출\n",
    "- 인사이트 도출하지 못한 경우 데이터를 수정하여 다시 탐색한 후 인사이트 도출 및 기술\n",
    "\n",
    "#### 데이터 수정시 참조\n",
    "- 구매액 증감에 영향을 주는 주요 요인과 관련된 인사이트를 만들 수 있는 데이터로 변경하는 점에 중점을 둠\n",
    "- 구매 감소한 고객의 특성으로 성별, 지역, 선호제픔, 선호 구매시간대, 평균 구매가 level(저가, 중가, 고가)별로 데이터 수정\n",
    "- 연령, 성별로 상품유형, 구매단가, 구매시간대 등을 복합적으로 그룹화하여 데이터 특성 부여\n",
    "- 연도별로 상기한 사항들의 변동과 구매 감소간의 상관성을 부여하는 데이터 수정\n",
    "- 데이터 수정은 불린 인덱싱으로 특정 그룹을 선택한 후 고객 특성에 맞는 값으로 변경\n",
    "                                                                "
   ]
  },
  {
   "cell_type": "code",
   "execution_count": 121,
   "id": "c0044f45",
   "metadata": {},
   "outputs": [
    {
     "name": "stderr",
     "output_type": "stream",
     "text": [
      "<ipython-input-121-e41a89554eaa>:9: FutureWarning: Passing a negative integer is deprecated in version 1.0 and will not be supported in future version. Instead, use None to not limit the column width.\n",
      "  pd.set_option('display.max_colwidth', -1)\n"
     ]
    }
   ],
   "source": [
    "# import module\n",
    "import pandas as pd\n",
    "import numpy as np\n",
    "import seaborn as sns\n",
    "import matplotlib.pyplot as plt\n",
    "import random\n",
    "%matplotlib inline\n",
    "\n",
    "pd.set_option('display.max_colwidth', -1)"
   ]
  },
  {
   "cell_type": "markdown",
   "id": "3f1ac2e6",
   "metadata": {},
   "source": [
    "#### 구매 데이터 생성"
   ]
  },
  {
   "cell_type": "code",
   "execution_count": 122,
   "id": "dbf7bc8f",
   "metadata": {},
   "outputs": [],
   "source": [
    "np.random.seed(0)\n",
    "# id : 1번~ 1000번 일련번호 생성. 관측지 (1000개)\n",
    "id_ = np.arange(1,1001) # len(ID) # 1000\n",
    "\n",
    "# gender : 0,1 정수 난수 생성 \n",
    "gender = np.random.randint(2,size=1000) \n",
    "\n",
    "# age : 10 ~ 80사이 정수 난수를 생성\n",
    "age = np.random.randint(10,81,size=1000)\n",
    "\n",
    "# region : 1 ~ 10 사이 정수 난수 생성\n",
    "region = np.random.randint(1,11,size=1000)\n",
    "\n",
    "# product : 1개 이상 (A,B,C ~ 1,2,3)\n",
    "product = np.random.randint(6,size=1000)\n",
    "\n",
    "# price_avg_10 : 1000 ~ 50000 사이 실수 난수 생성 \n",
    "price_avg_19 = np.random.uniform(1000,50001,size=1000)\n",
    "\n",
    "#price_avg_20 = 1000 ~ 50000 사이 실수 난수 생성\n",
    "price_avg_20 = np.random.uniform(1000,50001,size=1000)\n",
    "\n",
    "#qty_19 : 01 ~ 100 사이 정수 난수 생성\n",
    "qty_19 = np.random.randint(1,101,size=1000)\n",
    "\n",
    "#qty_20 : 01 ~ 100 사이 정수 난수 생성\n",
    "qty_20 = np.random.randint(1,101,size=1000)\n",
    "\n",
    "#time_19 : 01 ~ 24 정수 난수 생성\n",
    "time_19 = np.random.randint(1,25,size=1000)\n",
    "\n",
    "#time_20 : 01 ~ 24 정수 난수 생성\n",
    "time_20 = np.random.randint(1,25,size=1000)\n",
    "\n",
    "#pur_19 : price_avg_19 * qty_19\n",
    "pur_19 = price_avg_19 * qty_19\n",
    "\n",
    "#pur_20 : price_avg_20 * qty_20\n",
    "pur_20 = price_avg_20 * qty_20\n",
    "\n",
    "# pur_gap : pur_20 - pur_19\n",
    "pur_gap = pur_20 - pur_19\n",
    "\n",
    "#np.nan값 컬럼당 10개 생성\n",
    "for col in data.columns:\n",
    "    data.loc[data.sample(n=10).index,col] = np.nan"
   ]
  },
  {
   "cell_type": "code",
   "execution_count": 123,
   "id": "548bdbe1",
   "metadata": {},
   "outputs": [],
   "source": [
    "data = pd.DataFrame({\"id\":id_,\"gender\":gender,\"age\":age,\"region\":region,\"product\":product,\"price_avg_19\":price_avg_19,\n",
    "             \"price_avg_20\":price_avg_20,\"qty_19\":qty_19,\"qty_20\":qty_20,\"time_19\":time_19,\"time_20\":time_20,\n",
    "              \"pur_19\":pur_19,\"pur_20\":pur_20,\"pur_gap\":pur_gap})"
   ]
  },
  {
   "cell_type": "code",
   "execution_count": 126,
   "id": "d966f67c",
   "metadata": {},
   "outputs": [
    {
     "data": {
      "text/plain": [
       "id              0\n",
       "gender          0\n",
       "age             0\n",
       "region          0\n",
       "product         0\n",
       "price_avg_19    0\n",
       "price_avg_20    0\n",
       "qty_19          0\n",
       "qty_20          0\n",
       "time_19         0\n",
       "time_20         0\n",
       "pur_19          0\n",
       "pur_20          0\n",
       "pur_gap         0\n",
       "dtype: int64"
      ]
     },
     "execution_count": 126,
     "metadata": {},
     "output_type": "execute_result"
    }
   ],
   "source": [
    "data.isnull().sum()"
   ]
  },
  {
   "cell_type": "code",
   "execution_count": null,
   "id": "17f09956",
   "metadata": {},
   "outputs": [],
   "source": [
    "#"
   ]
  },
  {
   "cell_type": "code",
   "execution_count": null,
   "id": "5c06e2fd",
   "metadata": {},
   "outputs": [],
   "source": []
  }
 ],
 "metadata": {
  "kernelspec": {
   "display_name": "Python 3",
   "language": "python",
   "name": "python3"
  },
  "language_info": {
   "codemirror_mode": {
    "name": "ipython",
    "version": 3
   },
   "file_extension": ".py",
   "mimetype": "text/x-python",
   "name": "python",
   "nbconvert_exporter": "python",
   "pygments_lexer": "ipython3",
   "version": "3.8.10"
  }
 },
 "nbformat": 4,
 "nbformat_minor": 5
}
