{
 "cells": [
  {
   "cell_type": "markdown",
   "id": "a4d3060e",
   "metadata": {},
   "source": [
    "#### NumPy\n",
    " 'Numerical Python'의 약자로 대규모 다차원 배열과 행렬 연산에 필요한 다양한 함수를 제공합니다.\n",
    " * Numerical Python을 의미하는 NumPy는 파이썬에서 선형대수 기반의 프로그램을 쉽게 만들 수 있도록 지원하는 대표적인 패키지\n",
    " * 많은 머신러닝 알고리즘이 넘파이 기반으로 작성돼 있으며 알고리즘의 입출력 데이터를 넘파이 배열 타입으로 사용함\n",
    " * 넘파이의 기본 데이터 타입은 ndarray, ndarray를 이용해 넘파이에서 다차원 배열을 쉽게 생성하고 다양한 연산을 수행합니다.\n"
   ]
  },
  {
   "cell_type": "markdown",
   "id": "bc9dcf09",
   "metadata": {},
   "source": [
    "###### Numpy 특징\n",
    "- 강력한 N 차원 배열 객체\n",
    "- 정교한 브로드캐스팅(Brodacast) 기능\n",
    "- C/C ++ 및 포트란 코드 통합 도구\n",
    "- 유용한 선형 대수학, 푸리에 변환 및 난수 기능\n",
    "- 푸리에 변환(Fouirier transform, FT)은 시간이나 공간에 대한 함수를 시간 또는 공간 주파수 성분으로 분해하는 변환\n",
    "- 범용적 데이터 처리에 사용 가능한 다차원 컨테이너"
   ]
  },
  {
   "cell_type": "code",
   "execution_count": 2,
   "id": "413e1467",
   "metadata": {},
   "outputs": [
    {
     "name": "stdout",
     "output_type": "stream",
     "text": [
      "[[-0.77499606 -0.16354357 -0.06455204]\n",
      " [ 0.39901545 -1.58629316  0.50741295]]\n",
      "\n",
      "[[ -7.7499606   -1.63543565  -0.64552036]\n",
      " [  3.99015447 -15.86293165   5.07412946]]\n",
      "\n",
      "[[-1.54999212 -0.32708713 -0.12910407]\n",
      " [ 0.79803089 -3.17258633  1.01482589]]\n"
     ]
    }
   ],
   "source": [
    "import numpy as np\n",
    "data =np.random.randn(2,3) # 정규분포에서 2행 3열을 뽑는다. \n",
    "print(data)\n",
    "print()\n",
    "print(data * 10)\n",
    "print()\n",
    "print(data+data)"
   ]
  },
  {
   "cell_type": "markdown",
   "id": "9db64baf",
   "metadata": {},
   "source": [
    "다차원 배열\n",
    "\n",
    "<img src='../Data/numpy차원.jpg' STYLE = 'width:500px;'>"
   ]
  },
  {
   "cell_type": "code",
   "execution_count": 3,
   "id": "998a2082",
   "metadata": {},
   "outputs": [
    {
     "data": {
      "text/plain": [
       "array([[1, 2, 3, 4],\n",
       "       [5, 6, 7, 8]])"
      ]
     },
     "execution_count": 3,
     "metadata": {},
     "output_type": "execute_result"
    }
   ],
   "source": [
    "data2 = [[1,2,3,4,],[5,6,7,8]]\n",
    "arr2 = np.array(data2)\n",
    "arr2"
   ]
  },
  {
   "cell_type": "code",
   "execution_count": 5,
   "id": "0f5f7daf",
   "metadata": {},
   "outputs": [
    {
     "data": {
      "text/plain": [
       "array([[1, 2, 3, 4],\n",
       "       [5, 6, 7, 8]])"
      ]
     },
     "execution_count": 5,
     "metadata": {},
     "output_type": "execute_result"
    }
   ],
   "source": [
    "arr2 = np.arange(1,9).reshape(2,4)\n",
    "arr2"
   ]
  },
  {
   "cell_type": "code",
   "execution_count": null,
   "id": "c3c0ead8",
   "metadata": {},
   "outputs": [],
   "source": []
  }
 ],
 "metadata": {
  "kernelspec": {
   "display_name": "Python 3",
   "language": "python",
   "name": "python3"
  },
  "language_info": {
   "codemirror_mode": {
    "name": "ipython",
    "version": 3
   },
   "file_extension": ".py",
   "mimetype": "text/x-python",
   "name": "python",
   "nbconvert_exporter": "python",
   "pygments_lexer": "ipython3",
   "version": "3.8.10"
  }
 },
 "nbformat": 4,
 "nbformat_minor": 5
}
