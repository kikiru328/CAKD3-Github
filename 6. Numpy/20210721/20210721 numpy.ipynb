{
 "cells": [
  {
   "cell_type": "markdown",
   "id": "a4d3060e",
   "metadata": {},
   "source": [
    "#### NumPy\n",
    " 'Numerical Python'의 약자로 대규모 다차원 배열과 행렬 연산에 필요한 다양한 함수를 제공합니다.\n",
    " * Numerical Python을 의미하는 NumPy는 파이썬에서 선형대수 기반의 프로그램을 쉽게 만들 수 있도록 지원하는 대표적인 패키지\n",
    " * 많은 머신러닝 알고리즘이 넘파이 기반으로 작성돼 있으며 알고리즘의 입출력 데이터를 넘파이 배열 타입으로 사용함\n",
    " * 넘파이의 기본 데이터 타입은 ndarray, ndarray를 이용해 넘파이에서 다차원 배열을 쉽게 생성하고 다양한 연산을 수행합니다.\n"
   ]
  },
  {
   "cell_type": "markdown",
   "id": "bc9dcf09",
   "metadata": {},
   "source": [
    "###### Numpy 특징\n",
    "- 강력한 N 차원 배열 객체\n",
    "- 정교한 브로드캐스팅(Brodacast) 기능\n",
    "- C/C ++ 및 포트란 코드 통합 도구\n",
    "- 유용한 선형 대수학, 푸리에 변환 및 난수 기능\n",
    "- 푸리에 변환(Fouirier transform, FT)은 시간이나 공간에 대한 함수를 시간 또는 공간 주파수 성분으로 분해하는 변환\n",
    "- 범용적 데이터 처리에 사용 가능한 다차원 컨테이너"
   ]
  },
  {
   "cell_type": "code",
   "execution_count": 1,
   "id": "413e1467",
   "metadata": {},
   "outputs": [
    {
     "name": "stdout",
     "output_type": "stream",
     "text": [
      "[[1.18946353 0.77218791 0.83394927]\n",
      " [0.60486268 1.05475913 1.20491058]]\n",
      "\n",
      "[[11.89463529  7.7218791   8.33949271]\n",
      " [ 6.04862684 10.54759131 12.04910581]]\n",
      "\n",
      "[[2.37892706 1.54437582 1.66789854]\n",
      " [1.20972537 2.10951826 2.40982116]]\n"
     ]
    }
   ],
   "source": [
    "import numpy as np\n",
    "data =np.random.randn(2,3) # 정규분포에서 2행 3열을 뽑는다. \n",
    "print(data)\n",
    "print()\n",
    "print(data * 10)\n",
    "print()\n",
    "print(data+data)"
   ]
  },
  {
   "cell_type": "markdown",
   "id": "9db64baf",
   "metadata": {},
   "source": [
    "다차원 배열\n",
    "\n",
    "<img src='../Data/numpy차원.jpg' STYLE = 'width:500px;'>"
   ]
  },
  {
   "cell_type": "code",
   "execution_count": 2,
   "id": "ddd0b575",
   "metadata": {},
   "outputs": [
    {
     "data": {
      "text/plain": [
       "array([[1, 2, 3, 4],\n",
       "       [5, 6, 7, 8]])"
      ]
     },
     "execution_count": 2,
     "metadata": {},
     "output_type": "execute_result"
    }
   ],
   "source": [
    "data2 = [[1,2,3,4,],[5,6,7,8]]\n",
    "arr2 = np.array(data2)\n",
    "arr2"
   ]
  },
  {
   "cell_type": "code",
   "execution_count": 3,
   "id": "94343584",
   "metadata": {},
   "outputs": [
    {
     "data": {
      "text/plain": [
       "array([[1, 2, 3, 4],\n",
       "       [5, 6, 7, 8]])"
      ]
     },
     "execution_count": 3,
     "metadata": {},
     "output_type": "execute_result"
    }
   ],
   "source": [
    "arr2 = np.arange(1,9).reshape(2,4)\n",
    "arr2"
   ]
  },
  {
   "cell_type": "code",
   "execution_count": 4,
   "id": "5e35aaff",
   "metadata": {},
   "outputs": [
    {
     "name": "stdout",
     "output_type": "stream",
     "text": [
      "2\n"
     ]
    }
   ],
   "source": [
    "print(arr2.ndim)"
   ]
  },
  {
   "cell_type": "code",
   "execution_count": 5,
   "id": "3b1caf21",
   "metadata": {},
   "outputs": [
    {
     "name": "stdout",
     "output_type": "stream",
     "text": [
      "3\n",
      "(3, 2, 5)\n"
     ]
    }
   ],
   "source": [
    "#3차원 배열\n",
    "array3 = np.array([[[1,2,3,4,5],[6,7,8,9,10]],\n",
    "                  [[1,2,3,4,5],[6,7,8,9,10]],\n",
    "                  [[1,2,3,4,5],[6,7,8,9,10]]])\n",
    "print(array3.ndim)\n",
    "print(array3.shape)"
   ]
  },
  {
   "cell_type": "code",
   "execution_count": 6,
   "id": "a70b021d",
   "metadata": {},
   "outputs": [
    {
     "name": "stdout",
     "output_type": "stream",
     "text": [
      "[0. 0. 0. 0. 0. 0. 0. 0. 0. 0.]\n",
      "[[0. 0. 0. 0. 0. 0.]\n",
      " [0. 0. 0. 0. 0. 0.]\n",
      " [0. 0. 0. 0. 0. 0.]]\n",
      "[[[0. 0.]\n",
      "  [0. 0.]\n",
      "  [0. 0.]]\n",
      "\n",
      " [[0. 0.]\n",
      "  [0. 0.]\n",
      "  [0. 0.]]]\n"
     ]
    }
   ],
   "source": [
    "print(np.zeros(10))\n",
    "print(np.zeros((3,6))) #3차원\n",
    "print(np.zeros((2,3,2))) #"
   ]
  },
  {
   "cell_type": "code",
   "execution_count": 7,
   "id": "c6ecb431",
   "metadata": {},
   "outputs": [
    {
     "data": {
      "text/plain": [
       "array([ 0,  1,  2,  3,  4,  5,  6,  7,  8,  9, 10, 11, 12, 13, 14, 15, 16,\n",
       "       17, 18, 19, 20, 21, 22, 23, 24, 25, 26, 27, 28, 29, 30, 31, 32, 33,\n",
       "       34, 35, 36, 37, 38, 39, 40, 41, 42, 43, 44, 45, 46, 47, 48, 49, 50,\n",
       "       51, 52, 53, 54, 55, 56, 57, 58, 59, 60, 61, 62, 63, 64, 65, 66, 67,\n",
       "       68, 69, 70, 71, 72, 73, 74])"
      ]
     },
     "execution_count": 7,
     "metadata": {},
     "output_type": "execute_result"
    }
   ],
   "source": [
    "arr3 =np.arange(75)\n",
    "# arr3 =np.arange(1,15)\n",
    "arr3"
   ]
  },
  {
   "cell_type": "code",
   "execution_count": 8,
   "id": "9492f177",
   "metadata": {},
   "outputs": [
    {
     "data": {
      "text/plain": [
       "array([[ 0,  1,  2,  3,  4,  5,  6,  7,  8,  9, 10, 11, 12, 13, 14],\n",
       "       [15, 16, 17, 18, 19, 20, 21, 22, 23, 24, 25, 26, 27, 28, 29],\n",
       "       [30, 31, 32, 33, 34, 35, 36, 37, 38, 39, 40, 41, 42, 43, 44],\n",
       "       [45, 46, 47, 48, 49, 50, 51, 52, 53, 54, 55, 56, 57, 58, 59],\n",
       "       [60, 61, 62, 63, 64, 65, 66, 67, 68, 69, 70, 71, 72, 73, 74]])"
      ]
     },
     "execution_count": 8,
     "metadata": {},
     "output_type": "execute_result"
    }
   ],
   "source": [
    "arr3.reshape(5,-1)\n",
    "arr3.reshape(-1,15)"
   ]
  },
  {
   "cell_type": "markdown",
   "id": "3db103f1",
   "metadata": {},
   "source": [
    "Q. 5행 3열, 7행 25열 다차원 배열을 생성하세요"
   ]
  },
  {
   "cell_type": "code",
   "execution_count": 9,
   "id": "7e8dfa7c",
   "metadata": {},
   "outputs": [
    {
     "data": {
      "text/plain": [
       "array([[  0,   1,   2,   3,   4,   5,   6,   7,   8,   9,  10,  11,  12,\n",
       "         13,  14,  15,  16,  17,  18,  19,  20,  21,  22,  23,  24],\n",
       "       [ 25,  26,  27,  28,  29,  30,  31,  32,  33,  34,  35,  36,  37,\n",
       "         38,  39,  40,  41,  42,  43,  44,  45,  46,  47,  48,  49],\n",
       "       [ 50,  51,  52,  53,  54,  55,  56,  57,  58,  59,  60,  61,  62,\n",
       "         63,  64,  65,  66,  67,  68,  69,  70,  71,  72,  73,  74],\n",
       "       [ 75,  76,  77,  78,  79,  80,  81,  82,  83,  84,  85,  86,  87,\n",
       "         88,  89,  90,  91,  92,  93,  94,  95,  96,  97,  98,  99],\n",
       "       [100, 101, 102, 103, 104, 105, 106, 107, 108, 109, 110, 111, 112,\n",
       "        113, 114, 115, 116, 117, 118, 119, 120, 121, 122, 123, 124],\n",
       "       [125, 126, 127, 128, 129, 130, 131, 132, 133, 134, 135, 136, 137,\n",
       "        138, 139, 140, 141, 142, 143, 144, 145, 146, 147, 148, 149],\n",
       "       [150, 151, 152, 153, 154, 155, 156, 157, 158, 159, 160, 161, 162,\n",
       "        163, 164, 165, 166, 167, 168, 169, 170, 171, 172, 173, 174]])"
      ]
     },
     "execution_count": 9,
     "metadata": {},
     "output_type": "execute_result"
    }
   ],
   "source": [
    "arr1 = np.arange(15).reshape(5,3) # reshpae(5,-1)\n",
    "arr1\n",
    "arr2 = np.arange(7*25).reshape(7,25) #reshape(7,-1)\n",
    "arr2"
   ]
  },
  {
   "cell_type": "markdown",
   "id": "4301c44a",
   "metadata": {},
   "source": [
    "Q. 1~30 연속된 정수로 1차원,2차원,3차원 배열을 생성하세요"
   ]
  },
  {
   "cell_type": "code",
   "execution_count": 10,
   "id": "98a898b5",
   "metadata": {},
   "outputs": [
    {
     "name": "stdout",
     "output_type": "stream",
     "text": [
      "[ 1  2  3  4  5  6  7  8  9 10 11 12 13 14 15 16 17 18 19 20 21 22 23 24\n",
      " 25 26 27 28 29 30] \n",
      "\n",
      "[[ 1  2  3  4  5  6  7  8  9 10]\n",
      " [11 12 13 14 15 16 17 18 19 20]\n",
      " [21 22 23 24 25 26 27 28 29 30]] \n",
      "\n",
      "[[[ 1  2  3  4  5]\n",
      "  [ 6  7  8  9 10]\n",
      "  [11 12 13 14 15]]\n",
      "\n",
      " [[16 17 18 19 20]\n",
      "  [21 22 23 24 25]\n",
      "  [26 27 28 29 30]]] \n",
      "\n"
     ]
    }
   ],
   "source": [
    "arr = np.arange(1,31)\n",
    "print(arr,'\\n')\n",
    "print(arr.reshape(3,10),'\\n')\n",
    "print(arr.reshape(2,3,5),'\\n')"
   ]
  },
  {
   "cell_type": "markdown",
   "id": "9b9306d8",
   "metadata": {},
   "source": [
    "Q. 연속된 정수 1~20으로 1차원 배열을 생성한 후 2차원 3차원 배열로 변환시키세요"
   ]
  },
  {
   "cell_type": "code",
   "execution_count": 11,
   "id": "77345f4a",
   "metadata": {},
   "outputs": [
    {
     "name": "stdout",
     "output_type": "stream",
     "text": [
      "[ 1  2  3  4  5  6  7  8  9 10 11 12 13 14 15 16 17 18 19 20] 1차원 \n",
      "\n",
      "[[ 1  2  3  4  5]\n",
      " [ 6  7  8  9 10]\n",
      " [11 12 13 14 15]\n",
      " [16 17 18 19 20]] 2차원 \n",
      "\n",
      "[[[ 1  2  3  4  5]\n",
      "  [ 6  7  8  9 10]]\n",
      "\n",
      " [[11 12 13 14 15]\n",
      "  [16 17 18 19 20]]] 3차원 \n",
      "\n"
     ]
    }
   ],
   "source": [
    "arr = np.arange(1,21)\n",
    "print(arr,'1차원','\\n')\n",
    "print(arr.reshape(4,5),'2차원','\\n')\n",
    "print(arr.reshape(2,2,5),'3차원','\\n')"
   ]
  },
  {
   "cell_type": "markdown",
   "id": "318b50e5",
   "metadata": {},
   "source": [
    "Q. 연속된 정수 1~30으로 2차원 배열을 생성한 후 1차원 3차원 배열로 변환시키세요"
   ]
  },
  {
   "cell_type": "code",
   "execution_count": 12,
   "id": "ac4ea163",
   "metadata": {},
   "outputs": [
    {
     "name": "stdout",
     "output_type": "stream",
     "text": [
      "[[ 1  2  3  4  5  6]\n",
      " [ 7  8  9 10 11 12]\n",
      " [13 14 15 16 17 18]\n",
      " [19 20 21 22 23 24]\n",
      " [25 26 27 28 29 30]] 2차원 \n",
      "\n",
      "[ 1  2  3  4  5  6  7  8  9 10 11 12 13 14 15 16 17 18 19 20 21 22 23 24\n",
      " 25 26 27 28 29 30] 1차원 \n",
      "\n",
      "[ 1  2  3  4  5  6  7  8  9 10 11 12 13 14 15 16 17 18 19 20 21 22 23 24\n",
      " 25 26 27 28 29 30] 1차원 \n",
      "\n",
      "[[[ 1  2  3  4  5]\n",
      "  [ 6  7  8  9 10]\n",
      "  [11 12 13 14 15]]\n",
      "\n",
      " [[16 17 18 19 20]\n",
      "  [21 22 23 24 25]\n",
      "  [26 27 28 29 30]]] 3차원 \n",
      "\n"
     ]
    }
   ],
   "source": [
    "arr = np.arange(1,31).reshape(5,6)\n",
    "print(arr,'2차원','\\n')\n",
    "print(arr.reshape(-1,),'1차원','\\n') # 중요\n",
    "print(arr.flatten(),'1차원','\\n')\n",
    "print(arr.reshape(2,3,5),'3차원','\\n')"
   ]
  },
  {
   "cell_type": "markdown",
   "id": "ddefa4af",
   "metadata": {},
   "source": [
    "Q. 연속된 정수 1~24로 3차원 배열을 생성한 후 1차원 2차원 배열로 변환하세요"
   ]
  },
  {
   "cell_type": "code",
   "execution_count": 13,
   "id": "36843680",
   "metadata": {},
   "outputs": [
    {
     "name": "stdout",
     "output_type": "stream",
     "text": [
      "[[[ 1  2  3  4]\n",
      "  [ 5  6  7  8]]\n",
      "\n",
      " [[ 9 10 11 12]\n",
      "  [13 14 15 16]]\n",
      "\n",
      " [[17 18 19 20]\n",
      "  [21 22 23 24]]] 3차원 \n",
      "\n",
      "[[ 1  2  3  4  5  6]\n",
      " [ 7  8  9 10 11 12]\n",
      " [13 14 15 16 17 18]\n",
      " [19 20 21 22 23 24]] 2차원 \n",
      "\n",
      "[ 1  2  3  4  5  6  7  8  9 10 11 12 13 14 15 16 17 18 19 20 21 22 23 24] 1차원\n"
     ]
    }
   ],
   "source": [
    "arr = np.arange(1,25).reshape(3,2,4)\n",
    "print(arr,'3차원','\\n')\n",
    "print(arr.reshape(4,6),'2차원','\\n')\n",
    "print(arr.reshape(-1,),'1차원')"
   ]
  },
  {
   "cell_type": "code",
   "execution_count": 14,
   "id": "8909c87b",
   "metadata": {},
   "outputs": [
    {
     "data": {
      "text/plain": [
       "[[[0, 1], [2, 3], [4, 5]],\n",
       " [[6, 7], [8, 9], [10, 11]],\n",
       " [[12, 13], [14, 15], [16, 17]],\n",
       " [[18, 19], [20, 21], [22, 23]],\n",
       " [[24, 25], [26, 27], [28, 29]]]"
      ]
     },
     "execution_count": 14,
     "metadata": {},
     "output_type": "execute_result"
    }
   ],
   "source": [
    "#배열을 리스트로\n",
    "ar3 = np.arange(30).reshape(5,3,2)\n",
    "ar3.tolist()"
   ]
  },
  {
   "cell_type": "code",
   "execution_count": 15,
   "id": "543fe2db",
   "metadata": {},
   "outputs": [
    {
     "data": {
      "text/plain": [
       "array([[7, 7],\n",
       "       [7, 7]])"
      ]
     },
     "execution_count": 15,
     "metadata": {},
     "output_type": "execute_result"
    }
   ],
   "source": [
    "a = np.full((2,2),7) # 2행 2열 값은 모두 7\n",
    "a"
   ]
  },
  {
   "cell_type": "code",
   "execution_count": 16,
   "id": "b83c0a4c",
   "metadata": {},
   "outputs": [],
   "source": [
    "# 대각 행렬"
   ]
  },
  {
   "cell_type": "code",
   "execution_count": 17,
   "id": "bc7a21ee",
   "metadata": {},
   "outputs": [
    {
     "data": {
      "text/plain": [
       "array([[1., 0., 0.],\n",
       "       [0., 1., 0.],\n",
       "       [0., 0., 1.]])"
      ]
     },
     "execution_count": 17,
     "metadata": {},
     "output_type": "execute_result"
    }
   ],
   "source": [
    "ar = np.eye(3)\n",
    "ar"
   ]
  },
  {
   "cell_type": "code",
   "execution_count": 18,
   "id": "29f3a769",
   "metadata": {},
   "outputs": [
    {
     "name": "stdout",
     "output_type": "stream",
     "text": [
      "[[1 2 3]\n",
      " [4 5 6]]\n"
     ]
    },
    {
     "data": {
      "text/plain": [
       "array([[0, 0, 0],\n",
       "       [0, 0, 0]])"
      ]
     },
     "execution_count": 18,
     "metadata": {},
     "output_type": "execute_result"
    }
   ],
   "source": [
    "a = np.array([[1,2,3],[4,5,6]])\n",
    "print(a)\n",
    "b = np.zeros_like(a)\n",
    "b"
   ]
  },
  {
   "cell_type": "code",
   "execution_count": 19,
   "id": "614e0031",
   "metadata": {},
   "outputs": [],
   "source": [
    "# #0~10을 균등하게 50개로 나눠줌\n",
    "# np.linspace(0,10)\n",
    "# np.linspace(0,1,5,restep=True)"
   ]
  },
  {
   "cell_type": "code",
   "execution_count": 20,
   "id": "2c248446",
   "metadata": {},
   "outputs": [
    {
     "data": {
      "text/plain": [
       "[<matplotlib.lines.Line2D at 0x204bd6098b0>]"
      ]
     },
     "execution_count": 20,
     "metadata": {},
     "output_type": "execute_result"
    },
    {
     "data": {
      "image/png": "[encoded data removed]",
      "text/plain": [
       "<Figure size 432x288 with 1 Axes>"
      ]
     },
     "metadata": {
      "needs_background": "light"
     },
     "output_type": "display_data"
    }
   ],
   "source": [
    "import matplotlib.pyplot as plt\n",
    "x = np.linspace(0,1)\n",
    "y = np.linspace(0,50)\n",
    "plt.plot(x,y,'o')"
   ]
  },
  {
   "cell_type": "code",
   "execution_count": 21,
   "id": "16ad35ec",
   "metadata": {},
   "outputs": [
    {
     "data": {
      "text/plain": [
       "[<matplotlib.lines.Line2D at 0x204bd6eacd0>]"
      ]
     },
     "execution_count": 21,
     "metadata": {},
     "output_type": "execute_result"
    },
    {
     "data": {
      "image/png": "[encoded data removed]",
      "text/plain": [
       "<Figure size 432x288 with 1 Axes>"
      ]
     },
     "metadata": {},
     "output_type": "display_data"
    }
   ],
   "source": [
    "plt.style.use('seaborn-dark')\n",
    "x = np.linspace(0,20,20)\n",
    "y = np.linspace(0.1,1,20)\n",
    "plt.plot(x,y,'o')"
   ]
  },
  {
   "cell_type": "code",
   "execution_count": 22,
   "id": "89a82c2c",
   "metadata": {},
   "outputs": [
    {
     "name": "stdout",
     "output_type": "stream",
     "text": [
      "0.0999999993810619\n",
      "1.0\n"
     ]
    },
    {
     "data": {
      "text/plain": [
       "array([ 1.25892541,  1.32571137,  1.39604031,  1.47010021,  1.54808898,\n",
       "        1.63021505,  1.71669791,  1.80776868,  1.90367075,  2.00466042,\n",
       "        2.1110076 ,  2.22299648,  2.34092638,  2.46511245,  2.59588659,\n",
       "        2.73359829,  2.87861559,  3.03132606,  3.19213781,  3.36148062,\n",
       "        3.53980707,  3.72759372,  3.92534245,  4.13358175,  4.35286813,\n",
       "        4.58378765,  4.82695744,  5.08302738,  5.35268182,  5.63664143,\n",
       "        5.93566508,  6.25055193,  6.58214351,  6.93132602,  7.29903265,\n",
       "        7.6862461 ,  8.09400122,  8.52338773,  8.97555318,  9.451706  ,\n",
       "        9.9531187 , 10.48113134, 11.03715503, 11.62267576, 12.23925835,\n",
       "       12.88855062, 13.57228783, 14.29229728, 15.0505032 , 15.84893192])"
      ]
     },
     "execution_count": 22,
     "metadata": {},
     "output_type": "execute_result"
    }
   ],
   "source": [
    "print(np.log10(1.25892541))\n",
    "print(np.log10(10))\n",
    "np.logspace(0.1,1.20)"
   ]
  },
  {
   "cell_type": "code",
   "execution_count": 23,
   "id": "480c40e7",
   "metadata": {},
   "outputs": [
    {
     "data": {
      "text/plain": [
       "[<matplotlib.lines.Line2D at 0x204bd7521c0>]"
      ]
     },
     "execution_count": 23,
     "metadata": {},
     "output_type": "execute_result"
    },
    {
     "data": {
      "image/png": "[encoded data removed]",
      "text/plain": [
       "<Figure size 432x288 with 1 Axes>"
      ]
     },
     "metadata": {},
     "output_type": "display_data"
    }
   ],
   "source": [
    "x = np.linspace(0,20,20)\n",
    "y = np.logspace(0.1,1,20)\n",
    "plt.plot(x,y,'o')"
   ]
  },
  {
   "cell_type": "code",
   "execution_count": 24,
   "id": "58c90a6d",
   "metadata": {},
   "outputs": [
    {
     "name": "stdout",
     "output_type": "stream",
     "text": [
      "int32\n"
     ]
    },
    {
     "data": {
      "text/plain": [
       "dtype('float64')"
      ]
     },
     "execution_count": 24,
     "metadata": {},
     "output_type": "execute_result"
    }
   ],
   "source": [
    "ar1 = np.array([1,2,3,4,5])\n",
    "print(ar1.dtype)\n",
    "float_ar1 = ar1.astype(np.float64)\n",
    "float_ar1.dtype"
   ]
  },
  {
   "cell_type": "code",
   "execution_count": 25,
   "id": "d1669f04",
   "metadata": {},
   "outputs": [
    {
     "data": {
      "text/plain": [
       "array([ 1.25, -9.5 , 42.  ])"
      ]
     },
     "execution_count": 25,
     "metadata": {},
     "output_type": "execute_result"
    }
   ],
   "source": [
    "numeric_string = np.array(['1.25','-9.5','42'],dtype=np.string_)\n",
    "numeric_string.astype(float)"
   ]
  },
  {
   "cell_type": "markdown",
   "id": "6e942aea",
   "metadata": {},
   "source": [
    "Q. 정수에서 실수로 구성된 list_e = [1.2,2.3,3]을 numpy를 이용해서 실수형과 정수형으로 각각 출력하세요"
   ]
  },
  {
   "cell_type": "code",
   "execution_count": 26,
   "id": "fe506ebe",
   "metadata": {
    "scrolled": true
   },
   "outputs": [
    {
     "name": "stdout",
     "output_type": "stream",
     "text": [
      "float64\n",
      "int32\n"
     ]
    }
   ],
   "source": [
    "list_e = [1.2,2.3,3]\n",
    "numeric_float =np.array(list_e,dtype=np.float_)\n",
    "numeric_float = numeric_float.astype(float)\n",
    "numeric_integer = np.array(list_e,dtype=np.int_)\n",
    "numeric_integer = numeric_integer.astype(int)\n",
    "print(numeric_float.dtype)\n",
    "print(numeric_integer.dtype)"
   ]
  },
  {
   "cell_type": "code",
   "execution_count": 27,
   "id": "3dc2f00b",
   "metadata": {},
   "outputs": [
    {
     "data": {
      "text/plain": [
       "array([[1, 2, 3],\n",
       "       [4, 5, 6]])"
      ]
     },
     "execution_count": 27,
     "metadata": {},
     "output_type": "execute_result"
    }
   ],
   "source": [
    "arr = np.array([[1,2,3],[4,5,6]])\n",
    "arr"
   ]
  },
  {
   "cell_type": "code",
   "execution_count": 28,
   "id": "9150eb66",
   "metadata": {},
   "outputs": [
    {
     "data": {
      "text/plain": [
       "array([[ 1,  4,  9],\n",
       "       [16, 25, 36]])"
      ]
     },
     "execution_count": 28,
     "metadata": {},
     "output_type": "execute_result"
    }
   ],
   "source": [
    "arr * arr"
   ]
  },
  {
   "cell_type": "code",
   "execution_count": 29,
   "id": "5233f1a7",
   "metadata": {},
   "outputs": [
    {
     "data": {
      "text/plain": [
       "array([[0, 0, 0],\n",
       "       [0, 0, 0]])"
      ]
     },
     "execution_count": 29,
     "metadata": {},
     "output_type": "execute_result"
    }
   ],
   "source": [
    "arr2 = arr - arr\n",
    "arr2"
   ]
  },
  {
   "cell_type": "code",
   "execution_count": 30,
   "id": "fcfc08f3",
   "metadata": {},
   "outputs": [
    {
     "data": {
      "text/plain": [
       "array([[False, False, False],\n",
       "       [False, False, False]])"
      ]
     },
     "execution_count": 30,
     "metadata": {},
     "output_type": "execute_result"
    }
   ],
   "source": [
    "arr2 > arr"
   ]
  },
  {
   "cell_type": "code",
   "execution_count": 31,
   "id": "903c7646",
   "metadata": {},
   "outputs": [
    {
     "data": {
      "text/plain": [
       "array([[1, 2, 3],\n",
       "       [4, 5, 6],\n",
       "       [7, 8, 9]])"
      ]
     },
     "execution_count": 31,
     "metadata": {},
     "output_type": "execute_result"
    }
   ],
   "source": [
    "ar2 = np.arange(1,10).reshape(3,3)\n",
    "ar2"
   ]
  },
  {
   "cell_type": "code",
   "execution_count": 32,
   "id": "0500ea8b",
   "metadata": {},
   "outputs": [
    {
     "data": {
      "text/plain": [
       "array([7, 8, 9])"
      ]
     },
     "execution_count": 32,
     "metadata": {},
     "output_type": "execute_result"
    }
   ],
   "source": [
    "ar2[2]"
   ]
  },
  {
   "cell_type": "code",
   "execution_count": 33,
   "id": "c2be0461",
   "metadata": {},
   "outputs": [
    {
     "data": {
      "text/plain": [
       "3"
      ]
     },
     "execution_count": 33,
     "metadata": {},
     "output_type": "execute_result"
    }
   ],
   "source": [
    "ar2[0,2]\n",
    "ar2[0][2]"
   ]
  },
  {
   "cell_type": "code",
   "execution_count": 34,
   "id": "51573218",
   "metadata": {},
   "outputs": [
    {
     "data": {
      "text/plain": [
       "array([[ 0,  1,  2,  3],\n",
       "       [ 4,  5,  6,  7],\n",
       "       [ 8,  9, 10, 11],\n",
       "       [12, 13, 14, 15],\n",
       "       [16, 17, 18, 19]])"
      ]
     },
     "execution_count": 34,
     "metadata": {},
     "output_type": "execute_result"
    }
   ],
   "source": [
    "ar2 =np.arange(20).reshape(5,4)\n",
    "ar2"
   ]
  },
  {
   "cell_type": "code",
   "execution_count": 35,
   "id": "b29bd3a8",
   "metadata": {},
   "outputs": [
    {
     "data": {
      "text/plain": [
       "array([[1, 2, 3],\n",
       "       [5, 6, 7]])"
      ]
     },
     "execution_count": 35,
     "metadata": {},
     "output_type": "execute_result"
    }
   ],
   "source": [
    "ar2[:2,1:]\n"
   ]
  },
  {
   "cell_type": "markdown",
   "id": "e4f9cd35",
   "metadata": {},
   "source": [
    "Q. 과제"
   ]
  },
  {
   "cell_type": "markdown",
   "id": "c5746b85",
   "metadata": {},
   "source": [
    "    ar2를 활용해서 다음과 같이 slicing 해주세요"
   ]
  },
  {
   "cell_type": "code",
   "execution_count": 46,
   "id": "2fde4061",
   "metadata": {},
   "outputs": [
    {
     "data": {
      "text/plain": [
       "array([[1, 2, 3],\n",
       "       [4, 5, 6],\n",
       "       [7, 8, 9]])"
      ]
     },
     "execution_count": 46,
     "metadata": {},
     "output_type": "execute_result"
    }
   ],
   "source": [
    "import numpy as np\n",
    "ar2 = np.arange(1,10).reshape(3,3)\n",
    "ar2"
   ]
  },
  {
   "cell_type": "code",
   "execution_count": 40,
   "id": "b7d0380c",
   "metadata": {},
   "outputs": [
    {
     "data": {
      "text/plain": [
       "array([[1, 2],\n",
       "       [4, 5]])"
      ]
     },
     "execution_count": 40,
     "metadata": {},
     "output_type": "execute_result"
    }
   ],
   "source": [
    "r1 =ar2[:2,:2]\n",
    "r1"
   ]
  },
  {
   "cell_type": "code",
   "execution_count": 52,
   "id": "8ad0bbfa",
   "metadata": {},
   "outputs": [
    {
     "name": "stdout",
     "output_type": "stream",
     "text": [
      "[[4 5 6]\n",
      " [7 8 9]] [[4 5 6]\n",
      " [7 8 9]] [[4 5 6]\n",
      " [7 8 9]]\n"
     ]
    }
   ],
   "source": [
    "r2 = ar2[-2:]\n",
    "r2_1 = ar2[1:]\n",
    "r3 = ar2[1:3]\n",
    "print(r2,r2_1,r3)"
   ]
  },
  {
   "cell_type": "code",
   "execution_count": null,
   "id": "df564dcd",
   "metadata": {},
   "outputs": [],
   "source": []
  }
 ],
 "metadata": {
  "kernelspec": {
   "display_name": "Python 3",
   "language": "python",
   "name": "python3"
  },
  "language_info": {
   "codemirror_mode": {
    "name": "ipython",
    "version": 3
   },
   "file_extension": ".py",
   "mimetype": "text/x-python",
   "name": "python",
   "nbconvert_exporter": "python",
   "pygments_lexer": "ipython3",
   "version": "3.8.10"
  }
 },
 "nbformat": 4,
 "nbformat_minor": 5
}
