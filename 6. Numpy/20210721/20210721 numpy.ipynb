{
 "cells": [
  {
   "cell_type": "markdown",
   "id": "a4d3060e",
   "metadata": {},
   "source": [
    "#### NumPy\n",
    " 'Numerical Python'의 약자로 대규모 다차원 배열과 행렬 연산에 필요한 다양한 함수를 제공합니다.\n",
    " * Numerical Python을 의미하는 NumPy는 파이썬에서 선형대수 기반의 프로그램을 쉽게 만들 수 있도록 지원하는 대표적인 패키지\n",
    " * 많은 머신러닝 알고리즘이 넘파이 기반으로 작성돼 있으며 알고리즘의 입출력 데이터를 넘파이 배열 타입으로 사용함\n",
    " * 넘파이의 기본 데이터 타입은 ndarray, ndarray를 이용해 넘파이에서 다차원 배열을 쉽게 생성하고 다양한 연산을 수행합니다.\n"
   ]
  },
  {
   "cell_type": "markdown",
   "id": "bc9dcf09",
   "metadata": {},
   "source": [
    "###### Numpy 특징\n",
    "- 강력한 N 차원 배열 객체\n",
    "- 정교한 브로드캐스팅(Brodacast) 기능\n",
    "- C/C ++ 및 포트란 코드 통합 도구\n",
    "- 유용한 선형 대수학, 푸리에 변환 및 난수 기능\n",
    "- 푸리에 변환(Fouirier transform, FT)은 시간이나 공간에 대한 함수를 시간 또는 공간 주파수 성분으로 분해하는 변환\n",
    "- 범용적 데이터 처리에 사용 가능한 다차원 컨테이너"
   ]
  },
  {
   "cell_type": "code",
   "execution_count": 2,
   "id": "413e1467",
   "metadata": {},
   "outputs": [
    {
     "name": "stdout",
     "output_type": "stream",
     "text": [
      "[[-0.77499606 -0.16354357 -0.06455204]\n",
      " [ 0.39901545 -1.58629316  0.50741295]]\n",
      "\n",
      "[[ -7.7499606   -1.63543565  -0.64552036]\n",
      " [  3.99015447 -15.86293165   5.07412946]]\n",
      "\n",
      "[[-1.54999212 -0.32708713 -0.12910407]\n",
      " [ 0.79803089 -3.17258633  1.01482589]]\n"
     ]
    }
   ],
   "source": [
    "import numpy as np\n",
    "data =np.random.randn(2,3) # 정규분포에서 2행 3열을 뽑는다. \n",
    "print(data)\n",
    "print()\n",
    "print(data * 10)\n",
    "print()\n",
    "print(data+data)"
   ]
  },
  {
   "cell_type": "markdown",
   "id": "9db64baf",
   "metadata": {},
   "source": [
    "다차원 배열\n",
    "\n",
    "<img src='../Data/numpy차원.jpg' STYLE = 'width:500px;'>"
   ]
  },
  {
   "cell_type": "code",
   "execution_count": 3,
   "id": "ddd0b575",
   "metadata": {},
   "outputs": [
    {
     "data": {
      "text/plain": [
       "array([[1, 2, 3, 4],\n",
       "       [5, 6, 7, 8]])"
      ]
     },
     "execution_count": 3,
     "metadata": {},
     "output_type": "execute_result"
    }
   ],
   "source": [
    "data2 = [[1,2,3,4,],[5,6,7,8]]\n",
    "arr2 = np.array(data2)\n",
    "arr2"
   ]
  },
  {
   "cell_type": "code",
   "execution_count": 5,
   "id": "94343584",
   "metadata": {},
   "outputs": [
    {
     "data": {
      "text/plain": [
       "array([[1, 2, 3, 4],\n",
       "       [5, 6, 7, 8]])"
      ]
     },
     "execution_count": 5,
     "metadata": {},
     "output_type": "execute_result"
    }
   ],
   "source": [
    "arr2 = np.arange(1,9).reshape(2,4)\n",
    "arr2"
   ]
  },
  {
   "cell_type": "code",
   "execution_count": 6,
   "id": "5e35aaff",
   "metadata": {},
   "outputs": [
    {
     "name": "stdout",
     "output_type": "stream",
     "text": [
      "2\n"
     ]
    }
   ],
   "source": [
    "print(arr2.ndim)"
   ]
  },
  {
   "cell_type": "code",
   "execution_count": 9,
   "id": "3b1caf21",
   "metadata": {},
   "outputs": [
    {
     "name": "stdout",
     "output_type": "stream",
     "text": [
      "3\n",
      "(3, 2, 5)\n"
     ]
    }
   ],
   "source": [
    "#3차원 배열\n",
    "array3 = np.array([[[1,2,3,4,5],[6,7,8,9,10]],\n",
    "                  [[1,2,3,4,5],[6,7,8,9,10]],\n",
    "                  [[1,2,3,4,5],[6,7,8,9,10]]])\n",
    "print(array3.ndim)\n",
    "print(array3.shape)"
   ]
  },
  {
   "cell_type": "code",
   "execution_count": 11,
   "id": "a70b021d",
   "metadata": {},
   "outputs": [
    {
     "name": "stdout",
     "output_type": "stream",
     "text": [
      "[0. 0. 0. 0. 0. 0. 0. 0. 0. 0.]\n",
      "[[0. 0. 0. 0. 0. 0.]\n",
      " [0. 0. 0. 0. 0. 0.]\n",
      " [0. 0. 0. 0. 0. 0.]]\n",
      "[[[0. 0.]\n",
      "  [0. 0.]\n",
      "  [0. 0.]]\n",
      "\n",
      " [[0. 0.]\n",
      "  [0. 0.]\n",
      "  [0. 0.]]]\n"
     ]
    }
   ],
   "source": [
    "print(np.zeros(10))\n",
    "print(np.zeros((3,6))) #3차원\n",
    "print(np.zeros((2,3,2))) #"
   ]
  },
  {
   "cell_type": "code",
   "execution_count": 22,
   "id": "c6ecb431",
   "metadata": {},
   "outputs": [
    {
     "data": {
      "text/plain": [
       "array([ 0,  1,  2,  3,  4,  5,  6,  7,  8,  9, 10, 11, 12, 13, 14, 15, 16,\n",
       "       17, 18, 19, 20, 21, 22, 23, 24, 25, 26, 27, 28, 29, 30, 31, 32, 33,\n",
       "       34, 35, 36, 37, 38, 39, 40, 41, 42, 43, 44, 45, 46, 47, 48, 49, 50,\n",
       "       51, 52, 53, 54, 55, 56, 57, 58, 59, 60, 61, 62, 63, 64, 65, 66, 67,\n",
       "       68, 69, 70, 71, 72, 73, 74])"
      ]
     },
     "execution_count": 22,
     "metadata": {},
     "output_type": "execute_result"
    }
   ],
   "source": [
    "arr3 =np.arange(75)\n",
    "# arr3 =np.arange(1,15)\n",
    "arr3"
   ]
  },
  {
   "cell_type": "code",
   "execution_count": 25,
   "id": "9492f177",
   "metadata": {},
   "outputs": [
    {
     "data": {
      "text/plain": [
       "array([[ 0,  1,  2,  3,  4,  5,  6,  7,  8,  9, 10, 11, 12, 13, 14],\n",
       "       [15, 16, 17, 18, 19, 20, 21, 22, 23, 24, 25, 26, 27, 28, 29],\n",
       "       [30, 31, 32, 33, 34, 35, 36, 37, 38, 39, 40, 41, 42, 43, 44],\n",
       "       [45, 46, 47, 48, 49, 50, 51, 52, 53, 54, 55, 56, 57, 58, 59],\n",
       "       [60, 61, 62, 63, 64, 65, 66, 67, 68, 69, 70, 71, 72, 73, 74]])"
      ]
     },
     "execution_count": 25,
     "metadata": {},
     "output_type": "execute_result"
    }
   ],
   "source": [
    "arr3.reshape(5,-1)\n",
    "arr3.reshape(-1,15)"
   ]
  },
  {
   "cell_type": "markdown",
   "id": "3db103f1",
   "metadata": {},
   "source": [
    "Q. 5행 3열, 7행 25열 다차원 배열을 생성하세요"
   ]
  },
  {
   "cell_type": "code",
   "execution_count": 30,
   "id": "7e8dfa7c",
   "metadata": {},
   "outputs": [
    {
     "data": {
      "text/plain": [
       "array([[  0,   1,   2,   3,   4,   5,   6,   7,   8,   9,  10,  11,  12,\n",
       "         13,  14,  15,  16,  17,  18,  19,  20,  21,  22,  23,  24],\n",
       "       [ 25,  26,  27,  28,  29,  30,  31,  32,  33,  34,  35,  36,  37,\n",
       "         38,  39,  40,  41,  42,  43,  44,  45,  46,  47,  48,  49],\n",
       "       [ 50,  51,  52,  53,  54,  55,  56,  57,  58,  59,  60,  61,  62,\n",
       "         63,  64,  65,  66,  67,  68,  69,  70,  71,  72,  73,  74],\n",
       "       [ 75,  76,  77,  78,  79,  80,  81,  82,  83,  84,  85,  86,  87,\n",
       "         88,  89,  90,  91,  92,  93,  94,  95,  96,  97,  98,  99],\n",
       "       [100, 101, 102, 103, 104, 105, 106, 107, 108, 109, 110, 111, 112,\n",
       "        113, 114, 115, 116, 117, 118, 119, 120, 121, 122, 123, 124],\n",
       "       [125, 126, 127, 128, 129, 130, 131, 132, 133, 134, 135, 136, 137,\n",
       "        138, 139, 140, 141, 142, 143, 144, 145, 146, 147, 148, 149],\n",
       "       [150, 151, 152, 153, 154, 155, 156, 157, 158, 159, 160, 161, 162,\n",
       "        163, 164, 165, 166, 167, 168, 169, 170, 171, 172, 173, 174]])"
      ]
     },
     "execution_count": 30,
     "metadata": {},
     "output_type": "execute_result"
    }
   ],
   "source": [
    "arr1 = np.arange(15).reshape(5,3) # reshpae(5,-1)\n",
    "arr1\n",
    "arr2 = np.arange(7*25).reshape(7,25) #reshape(7,-1)\n",
    "arr2"
   ]
  },
  {
   "cell_type": "markdown",
   "id": "4301c44a",
   "metadata": {},
   "source": [
    "Q. 1~30 연속된 정수로 1차원,2차원,3차원 배열을 생성하세요"
   ]
  },
  {
   "cell_type": "code",
   "execution_count": 47,
   "id": "98a898b5",
   "metadata": {},
   "outputs": [
    {
     "name": "stdout",
     "output_type": "stream",
     "text": [
      "[ 1  2  3  4  5  6  7  8  9 10 11 12 13 14 15 16 17 18 19 20 21 22 23 24\n",
      " 25 26 27 28 29 30] \n",
      "\n",
      "[[ 1  2  3  4  5  6  7  8  9 10]\n",
      " [11 12 13 14 15 16 17 18 19 20]\n",
      " [21 22 23 24 25 26 27 28 29 30]] \n",
      "\n",
      "[[[ 1  2  3  4  5]\n",
      "  [ 6  7  8  9 10]\n",
      "  [11 12 13 14 15]]\n",
      "\n",
      " [[16 17 18 19 20]\n",
      "  [21 22 23 24 25]\n",
      "  [26 27 28 29 30]]] \n",
      "\n"
     ]
    }
   ],
   "source": [
    "arr = np.arange(1,31)\n",
    "print(arr,'\\n')\n",
    "print(arr.reshape(3,10),'\\n')\n",
    "print(arr.reshape(2,3,5),'\\n')"
   ]
  },
  {
   "cell_type": "markdown",
   "id": "9b9306d8",
   "metadata": {},
   "source": [
    "Q. 연속된 정수 1~20으로 1차원 배열을 생성한 후 2차원 3차원 배열로 변환시키세요"
   ]
  },
  {
   "cell_type": "code",
   "execution_count": 49,
   "id": "77345f4a",
   "metadata": {},
   "outputs": [
    {
     "name": "stdout",
     "output_type": "stream",
     "text": [
      "[ 1  2  3  4  5  6  7  8  9 10 11 12 13 14 15 16 17 18 19 20] 1차원 \n",
      "\n",
      "[[ 1  2  3  4  5]\n",
      " [ 6  7  8  9 10]\n",
      " [11 12 13 14 15]\n",
      " [16 17 18 19 20]] 2차원 \n",
      "\n",
      "[[[ 1  2  3  4  5]\n",
      "  [ 6  7  8  9 10]]\n",
      "\n",
      " [[11 12 13 14 15]\n",
      "  [16 17 18 19 20]]] 3차원 \n",
      "\n"
     ]
    }
   ],
   "source": [
    "arr = np.arange(1,21)\n",
    "print(arr,'1차원','\\n')\n",
    "print(arr.reshape(4,5),'2차원','\\n')\n",
    "print(arr.reshape(2,2,5),'3차원','\\n')"
   ]
  },
  {
   "cell_type": "markdown",
   "id": "318b50e5",
   "metadata": {},
   "source": [
    "Q. 연속된 정수 1~30으로 2차원 배열을 생성한 후 1차원 3차원 배열로 변환시키세요"
   ]
  },
  {
   "cell_type": "code",
   "execution_count": 65,
   "id": "ac4ea163",
   "metadata": {},
   "outputs": [
    {
     "name": "stdout",
     "output_type": "stream",
     "text": [
      "[[ 1  2  3  4  5  6]\n",
      " [ 7  8  9 10 11 12]\n",
      " [13 14 15 16 17 18]\n",
      " [19 20 21 22 23 24]\n",
      " [25 26 27 28 29 30]] 2차원 \n",
      "\n",
      "[ 1  2  3  4  5  6  7  8  9 10 11 12 13 14 15 16 17 18 19 20 21 22 23 24\n",
      " 25 26 27 28 29 30] 1차원 \n",
      "\n",
      "[ 1  2  3  4  5  6  7  8  9 10 11 12 13 14 15 16 17 18 19 20 21 22 23 24\n",
      " 25 26 27 28 29 30] 1차원 \n",
      "\n",
      "[[[ 1  2  3  4  5]\n",
      "  [ 6  7  8  9 10]\n",
      "  [11 12 13 14 15]]\n",
      "\n",
      " [[16 17 18 19 20]\n",
      "  [21 22 23 24 25]\n",
      "  [26 27 28 29 30]]] 3차원 \n",
      "\n"
     ]
    }
   ],
   "source": [
    "arr = np.arange(1,31).reshape(5,6)\n",
    "print(arr,'2차원','\\n')\n",
    "print(arr.reshape(-1,),'1차원','\\n') # 중요\n",
    "print(arr.flatten(),'1차원','\\n')\n",
    "print(arr.reshape(2,3,5),'3차원','\\n')"
   ]
  },
  {
   "cell_type": "markdown",
   "id": "ddefa4af",
   "metadata": {},
   "source": [
    "Q. 연속된 정수 1~24로 3차원 배열을 생성한 후 1차원 2차원 배열로 변환하세요"
   ]
  },
  {
   "cell_type": "code",
   "execution_count": 64,
   "id": "36843680",
   "metadata": {},
   "outputs": [
    {
     "name": "stdout",
     "output_type": "stream",
     "text": [
      "[[[ 1  2  3  4]\n",
      "  [ 5  6  7  8]]\n",
      "\n",
      " [[ 9 10 11 12]\n",
      "  [13 14 15 16]]\n",
      "\n",
      " [[17 18 19 20]\n",
      "  [21 22 23 24]]] 3차원 \n",
      "\n",
      "[[ 1  2  3  4  5  6]\n",
      " [ 7  8  9 10 11 12]\n",
      " [13 14 15 16 17 18]\n",
      " [19 20 21 22 23 24]] 2차원 \n",
      "\n",
      "[ 1  2  3  4  5  6  7  8  9 10 11 12 13 14 15 16 17 18 19 20 21 22 23 24] 1차원\n"
     ]
    }
   ],
   "source": [
    "arr = np.arange(1,25).reshape(3,2,4)\n",
    "print(arr,'3차원','\\n')\n",
    "print(arr.reshape(4,6),'2차원','\\n')\n",
    "print(arr.reshape(-1,),'1차원')"
   ]
  },
  {
   "cell_type": "code",
   "execution_count": 69,
   "id": "8909c87b",
   "metadata": {},
   "outputs": [
    {
     "data": {
      "text/plain": [
       "[[[0, 1], [2, 3], [4, 5]],\n",
       " [[6, 7], [8, 9], [10, 11]],\n",
       " [[12, 13], [14, 15], [16, 17]],\n",
       " [[18, 19], [20, 21], [22, 23]],\n",
       " [[24, 25], [26, 27], [28, 29]]]"
      ]
     },
     "execution_count": 69,
     "metadata": {},
     "output_type": "execute_result"
    }
   ],
   "source": [
    "#배열을 리스트로\n",
    "ar3 = np.arange(30).reshape(5,3,2)\n",
    "ar3.tolist()"
   ]
  },
  {
   "cell_type": "code",
   "execution_count": 71,
   "id": "543fe2db",
   "metadata": {},
   "outputs": [
    {
     "data": {
      "text/plain": [
       "array([[7, 7],\n",
       "       [7, 7]])"
      ]
     },
     "execution_count": 71,
     "metadata": {},
     "output_type": "execute_result"
    }
   ],
   "source": [
    "a = np.full((2,2),7) # 2행 2열 값은 모두 7\n",
    "a"
   ]
  },
  {
   "cell_type": "code",
   "execution_count": 72,
   "id": "b83c0a4c",
   "metadata": {},
   "outputs": [],
   "source": [
    "# 대각 행렬"
   ]
  },
  {
   "cell_type": "code",
   "execution_count": 73,
   "id": "bc7a21ee",
   "metadata": {},
   "outputs": [
    {
     "data": {
      "text/plain": [
       "array([[1., 0., 0.],\n",
       "       [0., 1., 0.],\n",
       "       [0., 0., 1.]])"
      ]
     },
     "execution_count": 73,
     "metadata": {},
     "output_type": "execute_result"
    }
   ],
   "source": [
    "ar = np.eye(3)\n",
    "ar"
   ]
  },
  {
   "cell_type": "code",
   "execution_count": 75,
   "id": "29f3a769",
   "metadata": {},
   "outputs": [
    {
     "name": "stdout",
     "output_type": "stream",
     "text": [
      "[[1 2 3]\n",
      " [4 5 6]]\n"
     ]
    },
    {
     "data": {
      "text/plain": [
       "array([[0, 0, 0],\n",
       "       [0, 0, 0]])"
      ]
     },
     "execution_count": 75,
     "metadata": {},
     "output_type": "execute_result"
    }
   ],
   "source": [
    "a = np.array([[1,2,3],[4,5,6]])\n",
    "print(a)\n",
    "b = np.zeros_like(a)\n",
    "b"
   ]
  },
  {
   "cell_type": "code",
   "execution_count": 76,
   "id": "15d93b5a",
   "metadata": {},
   "outputs": [
    {
     "data": {
      "text/plain": [
       "array([ 0.        ,  0.20408163,  0.40816327,  0.6122449 ,  0.81632653,\n",
       "        1.02040816,  1.2244898 ,  1.42857143,  1.63265306,  1.83673469,\n",
       "        2.04081633,  2.24489796,  2.44897959,  2.65306122,  2.85714286,\n",
       "        3.06122449,  3.26530612,  3.46938776,  3.67346939,  3.87755102,\n",
       "        4.08163265,  4.28571429,  4.48979592,  4.69387755,  4.89795918,\n",
       "        5.10204082,  5.30612245,  5.51020408,  5.71428571,  5.91836735,\n",
       "        6.12244898,  6.32653061,  6.53061224,  6.73469388,  6.93877551,\n",
       "        7.14285714,  7.34693878,  7.55102041,  7.75510204,  7.95918367,\n",
       "        8.16326531,  8.36734694,  8.57142857,  8.7755102 ,  8.97959184,\n",
       "        9.18367347,  9.3877551 ,  9.59183673,  9.79591837, 10.        ])"
      ]
     },
     "execution_count": 76,
     "metadata": {},
     "output_type": "execute_result"
    }
   ],
   "source": [
    "#0~10을 균등하게 50개로 나눠줌\n",
    "np.linspace(0,10)\n",
    "np.linspace(0,1,5,restep=True)"
   ]
  },
  {
   "cell_type": "code",
   "execution_count": 77,
   "id": "c7d1f846",
   "metadata": {},
   "outputs": [],
   "source": [
    "import matplotlib.pyplot as plt\n",
    "x = np.linspace(0,1)\n",
    "y = np.linspace(0,50)\n"
   ]
  },
  {
   "cell_type": "code",
   "execution_count": null,
   "id": "34c40eb6",
   "metadata": {},
   "outputs": [],
   "source": []
  }
 ],
 "metadata": {
  "kernelspec": {
   "display_name": "Python 3",
   "language": "python",
   "name": "python3"
  },
  "language_info": {
   "codemirror_mode": {
    "name": "ipython",
    "version": 3
   },
   "file_extension": ".py",
   "mimetype": "text/x-python",
   "name": "python",
   "nbconvert_exporter": "python",
   "pygments_lexer": "ipython3",
   "version": "3.8.10"
  }
 },
 "nbformat": 4,
 "nbformat_minor": 5
}
