{
  "nbformat": 4,
  "nbformat_minor": 0,
  "metadata": {
    "colab": {
      "name": "dl_advanced_usage_of_rnn.ipynb",
      "provenance": [],
      "collapsed_sections": [],
      "machine_shape": "hm",
      "mount_file_id": "1m4APbuA-kMFyzzFjArzecPFi9gTyirmy",
      "authorship_tag": "ABX9TyNiFVLtDMOth9QvsNfIQd08",
      "include_colab_link": true
    },
    "kernelspec": {
      "name": "python3",
      "display_name": "Python 3"
    },
    "language_info": {
      "name": "python"
    },
    "accelerator": "TPU"
  },
  "cells": [
    {
      "cell_type": "markdown",
      "metadata": {
        "id": "view-in-github",
        "colab_type": "text"
      },
      "source": [
        "<a href=\"https://colab.research.google.com/github/kikiru328/CAKD3-Github/blob/main/dl_advanced_usage_of_rnn.ipynb\" target=\"_parent\"><img src=\"https://colab.research.google.com/assets/colab-badge.svg\" alt=\"Open In Colab\"/></a>"
      ]
    },
    {
      "cell_type": "markdown",
      "metadata": {
        "id": "6oFyfvKsYkVM"
      },
      "source": [
        "- 순한 드롭아웃 : 순한 층에서 과대적합을 방지하기 위해 케라스에 내장되어 있는 드롭아웃을 사용합니다\n",
        "- 순환 층 스태킹 : 네트워크의 표현 능력을 증사시킵니다. (대신 계산 비용이 많이 듭니다.)\n",
        "- 양방향 순환 층 : 순한 네트워크에 같은 정보를 다른 방향으로 주입하여 정확도를 높이고 기억을 좀 더 오래 유지시킵니다."
      ]
    },
    {
      "cell_type": "markdown",
      "metadata": {
        "id": "W2zrRzLEZGnM"
      },
      "source": [
        "막스 플랑크 생물지구화학 연구소 ( http://www.bgc-jena.mpg.de/wetter/ ) 의 지상관측소에서 수집한 것"
      ]
    },
    {
      "cell_type": "code",
      "metadata": {
        "id": "LHvQe5vLZcZd"
      },
      "source": [
        "!mkdir jena_climate"
      ],
      "execution_count": 1,
      "outputs": []
    },
    {
      "cell_type": "code",
      "metadata": {
        "colab": {
          "base_uri": "https://localhost:8080/"
        },
        "id": "SD3sGYpLZuZG",
        "outputId": "ec15721e-1592-4c19-be19-4a1b2a37fda9"
      },
      "source": [
        "!ls"
      ],
      "execution_count": 2,
      "outputs": [
        {
          "output_type": "stream",
          "name": "stdout",
          "text": [
            "drive  jena_climate  sample_data\n"
          ]
        }
      ]
    },
    {
      "cell_type": "code",
      "metadata": {
        "colab": {
          "base_uri": "https://localhost:8080/"
        },
        "id": "f39s22HEZu7e",
        "outputId": "82f4f4ff-477d-41d5-8f63-98bc5548708b"
      },
      "source": [
        "%cd jena_climate/"
      ],
      "execution_count": 3,
      "outputs": [
        {
          "output_type": "stream",
          "name": "stdout",
          "text": [
            "/content/jena_climate\n"
          ]
        }
      ]
    },
    {
      "cell_type": "code",
      "metadata": {
        "colab": {
          "base_uri": "https://localhost:8080/"
        },
        "id": "pPSbHzhPZwa3",
        "outputId": "49acf720-8e1b-476c-ecbd-eb9099dca25e"
      },
      "source": [
        "!wget https://s3.amazonaws.com/keras-datasets/jena_climate_2009_2016.csv.zip\n"
      ],
      "execution_count": 4,
      "outputs": [
        {
          "output_type": "stream",
          "name": "stdout",
          "text": [
            "--2021-10-27 01:40:04--  https://s3.amazonaws.com/keras-datasets/jena_climate_2009_2016.csv.zip\n",
            "Resolving s3.amazonaws.com (s3.amazonaws.com)... 52.217.137.16\n",
            "Connecting to s3.amazonaws.com (s3.amazonaws.com)|52.217.137.16|:443... connected.\n",
            "HTTP request sent, awaiting response... 200 OK\n",
            "Length: 13565642 (13M) [application/zip]\n",
            "Saving to: ‘jena_climate_2009_2016.csv.zip’\n",
            "\n",
            "jena_climate_2009_2 100%[===================>]  12.94M  39.5MB/s    in 0.3s    \n",
            "\n",
            "2021-10-27 01:40:05 (39.5 MB/s) - ‘jena_climate_2009_2016.csv.zip’ saved [13565642/13565642]\n",
            "\n"
          ]
        }
      ]
    },
    {
      "cell_type": "code",
      "metadata": {
        "colab": {
          "base_uri": "https://localhost:8080/"
        },
        "id": "PiAxPSeTZ3uy",
        "outputId": "80fa8788-bbfe-49af-fd1a-5fc2c0aec158"
      },
      "source": [
        "!unzip jena_climate_2009_2016.csv.zip"
      ],
      "execution_count": 5,
      "outputs": [
        {
          "output_type": "stream",
          "name": "stdout",
          "text": [
            "Archive:  jena_climate_2009_2016.csv.zip\n",
            "  inflating: jena_climate_2009_2016.csv  \n",
            "  inflating: __MACOSX/._jena_climate_2009_2016.csv  \n"
          ]
        }
      ]
    },
    {
      "cell_type": "code",
      "metadata": {
        "colab": {
          "base_uri": "https://localhost:8080/"
        },
        "id": "XeuZRki8aQhN",
        "outputId": "7da02f8b-b65d-4b4a-ff49-13df39a0daa5"
      },
      "source": [
        "!ls"
      ],
      "execution_count": 6,
      "outputs": [
        {
          "output_type": "stream",
          "name": "stdout",
          "text": [
            "jena_climate_2009_2016.csv  jena_climate_2009_2016.csv.zip  __MACOSX\n"
          ]
        }
      ]
    },
    {
      "cell_type": "code",
      "metadata": {
        "id": "Xrn6G372aQ4y"
      },
      "source": [
        "!mkdir /content/drive/MyDrive/CAKD3/Workspace/Keras/Datasets/jena_climate/"
      ],
      "execution_count": 7,
      "outputs": []
    },
    {
      "cell_type": "code",
      "metadata": {
        "id": "Dr9wWOrsadt8"
      },
      "source": [
        "!cp ./jena_climate_2009_2016.csv /content/drive/MyDrive/CAKD3/Workspace/Keras/Datasets/jena_climate/"
      ],
      "execution_count": 9,
      "outputs": []
    },
    {
      "cell_type": "code",
      "metadata": {
        "colab": {
          "base_uri": "https://localhost:8080/"
        },
        "id": "RAs9weMdamCJ",
        "outputId": "e431320b-96bf-4ba6-fa79-56df382c2310"
      },
      "source": [
        "import os\n",
        "data_dir = '/content/drive/MyDrive/CAKD3/Workspace/Keras/Datasets/jena_climate/'\n",
        "fname = os.path.join (data_dir, 'jena_climate_2009_2016.csv')\n",
        "\n",
        "f = open(fname)\n",
        "data = f.read()\n",
        "f.close()\n",
        "\n",
        "lines = data.split('\\n')\n",
        "header = lines[0].split(',')\n",
        "lines = lines[1:] # exclude header\n",
        "\n",
        "print(header)\n",
        "print(len(lines))"
      ],
      "execution_count": 11,
      "outputs": [
        {
          "output_type": "stream",
          "name": "stdout",
          "text": [
            "['\"Date Time\"', '\"p (mbar)\"', '\"T (degC)\"', '\"Tpot (K)\"', '\"Tdew (degC)\"', '\"rh (%)\"', '\"VPmax (mbar)\"', '\"VPact (mbar)\"', '\"VPdef (mbar)\"', '\"sh (g/kg)\"', '\"H2OC (mmol/mol)\"', '\"rho (g/m**3)\"', '\"wv (m/s)\"', '\"max. wv (m/s)\"', '\"wd (deg)\"']\n",
            "420451\n"
          ]
        }
      ]
    },
    {
      "cell_type": "code",
      "metadata": {
        "id": "ZKPI1d-GbpFf"
      },
      "source": [
        ""
      ],
      "execution_count": null,
      "outputs": []
    }
  ]
}