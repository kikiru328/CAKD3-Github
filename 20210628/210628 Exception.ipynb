{
 "cells": [
  {
   "cell_type": "markdown",
   "id": "6b8993b6",
   "metadata": {},
   "source": [
    "###### 구문 오류 : 프로그램 실행전에 발생하는 오류\n",
    "###### 예외 또는 Runtime 오류 : 프로그램 실행중에 발생하는 오류"
   ]
  },
  {
   "cell_type": "code",
   "execution_count": 2,
   "id": "fcbc1ce2",
   "metadata": {
    "collapsed": true
   },
   "outputs": [
    {
     "ename": "SyntaxError",
     "evalue": "EOL while scanning string literal (<ipython-input-2-826854c8e8e8>, line 1)",
     "output_type": "error",
     "traceback": [
      "\u001b[1;36m  File \u001b[1;32m\"<ipython-input-2-826854c8e8e8>\"\u001b[1;36m, line \u001b[1;32m1\u001b[0m\n\u001b[1;33m    print(\"예외를 강제로 발생!)\u001b[0m\n\u001b[1;37m                       ^\u001b[0m\n\u001b[1;31mSyntaxError\u001b[0m\u001b[1;31m:\u001b[0m EOL while scanning string literal\n"
     ]
    }
   ],
   "source": [
    "# print(\"예외를 강제로 발생!) \n",
    "# SyntaxError (구문에러)"
   ]
  },
  {
   "cell_type": "markdown",
   "id": "865c1b9e",
   "metadata": {},
   "source": [
    "###### 정수를 입력하지 않은 경우 예외 발생."
   ]
  },
  {
   "cell_type": "code",
   "execution_count": 11,
   "id": "b5383dba",
   "metadata": {},
   "outputs": [],
   "source": [
    "#num_input = int(input(\"정수 입력>\"))\n",
    "#print(\"원의 반지름: \", num_input)  => '원' 입력시 ValueError (Runtime Error)"
   ]
  },
  {
   "cell_type": "markdown",
   "id": "d08c0e72",
   "metadata": {},
   "source": [
    "###### 조건문으로 예외처리"
   ]
  },
  {
   "cell_type": "code",
   "execution_count": 12,
   "id": "ccd14e37",
   "metadata": {},
   "outputs": [
    {
     "name": "stdout",
     "output_type": "stream",
     "text": [
      "정수 입력> \n",
      "정수를 입력하지 않았습니다.\n"
     ]
    }
   ],
   "source": [
    "user_input = input ('정수 입력> ')\n",
    "if user_input.isdigit():\n",
    "    num_input = int(user_input)\n",
    "    print('원의 반지름: ', num_input)\n",
    "else:\n",
    "    print(\"정수를 입력하지 않았습니다.\")"
   ]
  },
  {
   "cell_type": "markdown",
   "id": "6cf9dba8",
   "metadata": {},
   "source": [
    "###### 네임 에러"
   ]
  },
  {
   "cell_type": "code",
   "execution_count": 13,
   "id": "59d0f66f",
   "metadata": {},
   "outputs": [
    {
     "name": "stdout",
     "output_type": "stream",
     "text": [
      "안녕하세요\n"
     ]
    }
   ],
   "source": [
    "print(\"안녕하세요\")\n",
    "#print(param) #Name Error (매개변수가 지정되지 않음)"
   ]
  },
  {
   "cell_type": "markdown",
   "id": "15dd5929",
   "metadata": {},
   "source": [
    "###### 프로그램이 실행되는 동안 오류가 발생하면 프로그램이 더 이상 진행될 수 없는 상태가 되는데 이를 예외라고 한다. \n",
    "- 예외가 발생해도 프로그램을 중단하지 않고 예외에 대한 적절한 처리를 하여 프로그램을 계속 진행하도록 하는 \n",
    "- 계속 진행하도록 하는 구문이 TRY ~ EXCEPT~(ELSE ~ FINALLY)"
   ]
  },
  {
   "cell_type": "code",
   "execution_count": 22,
   "id": "ab25061b",
   "metadata": {},
   "outputs": [
    {
     "name": "stdout",
     "output_type": "stream",
     "text": [
      "안녕하세요\n",
      "예외가 발생했습니다\n"
     ]
    }
   ],
   "source": [
    "try:  #순서대로 처리시에 예외가 발생하면 바로 except에 대한 함수결과가 출력\n",
    "    print(\"안녕하세요\")\n",
    "    print(param)\n",
    "except:\n",
    "    print(\"예외가 발생했습니다\")"
   ]
  },
  {
   "cell_type": "code",
   "execution_count": 23,
   "id": "9b654fef",
   "metadata": {},
   "outputs": [
    {
     "name": "stdout",
     "output_type": "stream",
     "text": [
      "안녕하세요\n",
      "예외가 발생하지 않았습니다.\n"
     ]
    }
   ],
   "source": [
    "try:  \n",
    "    print(\"안녕하세요\")\n",
    "    \n",
    "except:\n",
    "    print(\"예외가 발생했습니다.\")\n",
    "else:\n",
    "    print(\"예외가 발생하지 않았습니다.\")  # 그 외에 대한 결과 == 에러가 없음"
   ]
  },
  {
   "cell_type": "code",
   "execution_count": 24,
   "id": "815231bf",
   "metadata": {},
   "outputs": [
    {
     "name": "stdout",
     "output_type": "stream",
     "text": [
      "안녕하세요\n",
      "예외가 발생했습니다\n",
      "무조건 실행하는 코드\n"
     ]
    }
   ],
   "source": [
    "try:  \n",
    "    print(\"안녕하세요\")\n",
    "    print(param)\n",
    "except:\n",
    "    print(\"예외가 발생했습니다\")\n",
    "finally:\n",
    "    print(\"무조건 실행하는 코드\") #예외가 발생하더라도 무조건 실행되야 하는 코드"
   ]
  },
  {
   "cell_type": "markdown",
   "id": "46e511b0",
   "metadata": {},
   "source": [
    "###### 코드에서 예외 발생 내용을 확인하고자 하는 경우 처리 방법   except Exception as e :"
   ]
  },
  {
   "cell_type": "code",
   "execution_count": 25,
   "id": "d06f09e4",
   "metadata": {},
   "outputs": [
    {
     "name": "stdout",
     "output_type": "stream",
     "text": [
      "name 'param' is not defined\n"
     ]
    }
   ],
   "source": [
    "try:  \n",
    "    \n",
    "    print(param)\n",
    "except Exception as e:\n",
    "    print(e)"
   ]
  },
  {
   "cell_type": "code",
   "execution_count": null,
   "id": "a20471a3",
   "metadata": {},
   "outputs": [
    {
     "name": "stdout",
     "output_type": "stream",
     "text": [
      "1\n",
      "2\n",
      "3\n",
      "4\n",
      "5\n",
      "6\n",
      "7\n",
      "8\n",
      "9\n",
      "10\n",
      "11\n",
      "12\n",
      "13\n",
      "14\n",
      "15\n",
      "16\n"
     ]
    }
   ],
   "source": [
    "import time\n",
    "count = 1\n",
    "try:\n",
    "    while True:\n",
    "        print(count)\n",
    "        count += 1\n",
    "        time.sleep(0.5)                             #무한루프 빠져나올때 ctrl + C\n",
    "except keyboardinterupt:\n",
    "    print(\"사용자에 의해 프로그램이 종단되었습니다.\")\n",
    "    "
   ]
  },
  {
   "cell_type": "code",
   "execution_count": null,
   "id": "9624dfb3",
   "metadata": {},
   "outputs": [],
   "source": []
  }
 ],
 "metadata": {
  "kernelspec": {
   "display_name": "Python 3",
   "language": "python",
   "name": "python3"
  },
  "language_info": {
   "codemirror_mode": {
    "name": "ipython",
    "version": 3
   },
   "file_extension": ".py",
   "mimetype": "text/x-python",
   "name": "python",
   "nbconvert_exporter": "python",
   "pygments_lexer": "ipython3",
   "version": "3.8.10"
  }
 },
 "nbformat": 4,
 "nbformat_minor": 5
}
