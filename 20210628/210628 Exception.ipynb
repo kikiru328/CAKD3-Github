{
 "cells": [
  {
   "cell_type": "markdown",
   "id": "7c394b5d",
   "metadata": {},
   "source": [
    "###### 구문 오류 : 프로그램 실행전에 발생하는 오류\n",
    "###### 예외 또는 Runtime 오류 : 프로그램 실행중에 발생하는 오류"
   ]
  },
  {
   "cell_type": "code",
   "execution_count": 2,
   "id": "110ce449",
   "metadata": {
    "collapsed": true
   },
   "outputs": [
    {
     "ename": "SyntaxError",
     "evalue": "EOL while scanning string literal (<ipython-input-2-826854c8e8e8>, line 1)",
     "output_type": "error",
     "traceback": [
      "\u001b[1;36m  File \u001b[1;32m\"<ipython-input-2-826854c8e8e8>\"\u001b[1;36m, line \u001b[1;32m1\u001b[0m\n\u001b[1;33m    print(\"예외를 강제로 발생!)\u001b[0m\n\u001b[1;37m                       ^\u001b[0m\n\u001b[1;31mSyntaxError\u001b[0m\u001b[1;31m:\u001b[0m EOL while scanning string literal\n"
     ]
    }
   ],
   "source": [
    "# print(\"예외를 강제로 발생!) \n",
    "# SyntaxError (구문에러)"
   ]
  },
  {
   "cell_type": "markdown",
   "id": "6237f9d9",
   "metadata": {},
   "source": [
    "###### 정수를 입력하지 않은 경우 예외 발생."
   ]
  },
  {
   "cell_type": "code",
   "execution_count": 11,
   "id": "2491c902",
   "metadata": {},
   "outputs": [],
   "source": [
    "#num_input = int(input(\"정수 입력>\"))\n",
    "#print(\"원의 반지름: \", num_input)  => '원' 입력시 ValueError (Runtime Error)"
   ]
  },
  {
   "cell_type": "markdown",
   "id": "2066cc21",
   "metadata": {},
   "source": [
    "###### 조건문으로 예외처리"
   ]
  },
  {
   "cell_type": "code",
   "execution_count": 12,
   "id": "b6ea3d84",
   "metadata": {},
   "outputs": [
    {
     "name": "stdout",
     "output_type": "stream",
     "text": [
      "정수 입력> \n",
      "정수를 입력하지 않았습니다.\n"
     ]
    }
   ],
   "source": [
    "user_input = input ('정수 입력> ')\n",
    "if user_input.isdigit():\n",
    "    num_input = int(user_input)\n",
    "    print('원의 반지름: ', num_input)\n",
    "else:\n",
    "    print(\"정수를 입력하지 않았습니다.\")"
   ]
  },
  {
   "cell_type": "markdown",
   "id": "bd2a1e0f",
   "metadata": {},
   "source": [
    "###### 네임 에러"
   ]
  },
  {
   "cell_type": "code",
   "execution_count": 13,
   "id": "0309d1d3",
   "metadata": {},
   "outputs": [
    {
     "name": "stdout",
     "output_type": "stream",
     "text": [
      "안녕하세요\n"
     ]
    }
   ],
   "source": [
    "print(\"안녕하세요\")\n",
    "#print(param) #Name Error (매개변수가 지정되지 않음)"
   ]
  },
  {
   "cell_type": "markdown",
   "id": "d6e0dcf6",
   "metadata": {},
   "source": [
    "###### 프로그램이 실행되는 동안 오류가 발생하면 프로그램이 더 이상 진행될 수 없는 상태가 되는데 이를 예외라고 한다. \n",
    "- 예외가 발생해도 프로그램을 중단하지 않고 예외에 대한 적절한 처리를 하여 프로그램을 계속 진행하도록 하는 \n",
    "- 계속 진행하도록 하는 구문이 TRY ~ EXCEPT~(ELSE ~ FINALLY)"
   ]
  },
  {
   "cell_type": "code",
   "execution_count": 22,
   "id": "6cd5c60e",
   "metadata": {},
   "outputs": [
    {
     "name": "stdout",
     "output_type": "stream",
     "text": [
      "안녕하세요\n",
      "예외가 발생했습니다\n"
     ]
    }
   ],
   "source": [
    "try:  #순서대로 처리시에 예외가 발생하면 바로 except에 대한 함수결과가 출력\n",
    "    print(\"안녕하세요\")\n",
    "    print(param)\n",
    "except:\n",
    "    print(\"예외가 발생했습니다\")"
   ]
  },
  {
   "cell_type": "code",
   "execution_count": 23,
   "id": "ce73c0c5",
   "metadata": {},
   "outputs": [
    {
     "name": "stdout",
     "output_type": "stream",
     "text": [
      "안녕하세요\n",
      "예외가 발생하지 않았습니다.\n"
     ]
    }
   ],
   "source": [
    "try:  \n",
    "    print(\"안녕하세요\")\n",
    "    \n",
    "except:\n",
    "    print(\"예외가 발생했습니다.\")\n",
    "else:\n",
    "    print(\"예외가 발생하지 않았습니다.\")  # 그 외에 대한 결과 == 에러가 없음"
   ]
  },
  {
   "cell_type": "code",
   "execution_count": 24,
   "id": "ffb63eb1",
   "metadata": {},
   "outputs": [
    {
     "name": "stdout",
     "output_type": "stream",
     "text": [
      "안녕하세요\n",
      "예외가 발생했습니다\n",
      "무조건 실행하는 코드\n"
     ]
    }
   ],
   "source": [
    "try:  \n",
    "    print(\"안녕하세요\")\n",
    "    print(param)\n",
    "except:\n",
    "    print(\"예외가 발생했습니다\")\n",
    "finally:\n",
    "    print(\"무조건 실행하는 코드\") #예외가 발생하더라도 무조건 실행되야 하는 코드"
   ]
  },
  {
   "cell_type": "markdown",
   "id": "8628718b",
   "metadata": {},
   "source": [
    "###### 코드에서 예외 발생 내용을 확인하고자 하는 경우 처리 방법   except Exception as e :"
   ]
  },
  {
   "cell_type": "code",
   "execution_count": 25,
   "id": "13d8211b",
   "metadata": {},
   "outputs": [
    {
     "name": "stdout",
     "output_type": "stream",
     "text": [
      "name 'param' is not defined\n"
     ]
    }
   ],
   "source": [
    "try:  \n",
    "    \n",
    "    print(param)\n",
    "except Exception as e:\n",
    "    print(e)"
   ]
  },
  {
   "cell_type": "code",
   "execution_count": 32,
   "id": "5817eeed",
   "metadata": {},
   "outputs": [
    {
     "name": "stdout",
     "output_type": "stream",
     "text": [
      "1\n",
      "2\n",
      "3\n",
      "4\n",
      "5\n",
      "6\n",
      "7\n",
      "사용자에 의해 프로그램이 종단되었습니다.\n"
     ]
    }
   ],
   "source": [
    "import time\n",
    "count = 1\n",
    "try:\n",
    "    while True:\n",
    "        print(count)\n",
    "        count += 1\n",
    "        time.sleep(0.5)                             #무한루프 빠져나올때 ctrl + C\n",
    "except KeyboardInterrupt:                           #Kernel interrupt\n",
    "    print(\"사용자에 의해 프로그램이 종단되었습니다.\")\n",
    "    "
   ]
  },
  {
   "cell_type": "markdown",
   "id": "ede3bbf6",
   "metadata": {},
   "source": [
    "* Q. 리스트 ['52', '273','32','문자','103']에서 숫자 부분만 출력하세요. (예외처리수행)"
   ]
  },
  {
   "cell_type": "code",
   "execution_count": 49,
   "id": "ecbe11b9",
   "metadata": {},
   "outputs": [
    {
     "name": "stdout",
     "output_type": "stream",
     "text": [
      "문자열입니다\n",
      "문자열입니다\n",
      "문자열입니다\n",
      "문자열입니다\n",
      "문자열입니다\n"
     ]
    }
   ],
   "source": [
    "Q = ['52', '273','32','문자','103']\n",
    "for i in Q:\n",
    "    try:\n",
    "        int(i)\n",
    "        print(i)\n",
    "    except:\n",
    "        print(\"문자열입니다\")"
   ]
  },
  {
   "cell_type": "code",
   "execution_count": 2,
   "id": "8b85b8a5",
   "metadata": {},
   "outputs": [
    {
     "name": "stdout",
     "output_type": "stream",
     "text": [
      "['52', '273', '32', '103']\n"
     ]
    }
   ],
   "source": [
    "Q = ['52', '273','32','문자','103']\n",
    "Q_num=[]\n",
    "for i in Q:\n",
    "    try:\n",
    "        int(i)\n",
    "        Q_num.append(i)\n",
    "    except:\n",
    "        pass\n",
    "print(Q_num)"
   ]
  },
  {
   "cell_type": "markdown",
   "id": "4bab40ba",
   "metadata": {},
   "source": [
    "###### Q. 정수를 입력하면 '정수', 정수가 아니면 '정수 아님'을 출력하세요."
   ]
  },
  {
   "cell_type": "code",
   "execution_count": 13,
   "id": "d9ebb69b",
   "metadata": {},
   "outputs": [
    {
     "name": "stdout",
     "output_type": "stream",
     "text": [
      "입력하세요정수?\n",
      "정수아님\n"
     ]
    }
   ],
   "source": [
    "Q = input(\"입력하세요\")\n",
    "try:\n",
    "    int(Q)\n",
    "    print('정수')\n",
    "except:\n",
    "    print(\"정수아님\")"
   ]
  },
  {
   "cell_type": "code",
   "execution_count": 33,
   "id": "6b3e4bfd",
   "metadata": {},
   "outputs": [
    {
     "name": "stdout",
     "output_type": "stream",
     "text": [
      "Put the integer가\n",
      "not integer\n"
     ]
    }
   ],
   "source": [
    "try:\n",
    "    num_Enter = int(input(\"Put the integer\"))\n",
    "except:\n",
    "    print('not integer')\n",
    "else:\n",
    "    print(num_Enter)"
   ]
  },
  {
   "cell_type": "markdown",
   "id": "f94df116",
   "metadata": {},
   "source": [
    "###### 정수를 입력하면 '입력 정수'  > '예외 발생하지 않음' > '프로그램 종료'  ; 정수가 아니면  '입력 값' > '정수 아님' > '프로그램 종료' 를 순서대로 출력하세요"
   ]
  },
  {
   "cell_type": "code",
   "execution_count": 3,
   "id": "c7a91842",
   "metadata": {},
   "outputs": [
    {
     "name": "stdout",
     "output_type": "stream",
     "text": [
      "Enter the data :1\n",
      "Entered Data is 1\n",
      "Data is Integer. No exception in this data\n",
      "Program close\n"
     ]
    }
   ],
   "source": [
    "try:\n",
    "    Entered_data = int(input(\"Enter the data :\"))\n",
    "except :\n",
    "    print(\"Data has Error : Error = not Integer\")\n",
    "else :\n",
    "    print(\"Entered Data is %d\" %Entered_data)\n",
    "    print(\"Data is Integer. No exception in this data\")\n",
    "finally:\n",
    "    print(\"Program close\")"
   ]
  },
  {
   "cell_type": "markdown",
   "id": "2736beed",
   "metadata": {},
   "source": [
    "###### 아래 코드에서 try ~ except ~ finally 를 사용하여 finally 구문이 실행되었습니다. 를 출력하세요"
   ]
  },
  {
   "cell_type": "code",
   "execution_count": 12,
   "id": "4d55c667",
   "metadata": {},
   "outputs": [
    {
     "name": "stdout",
     "output_type": "stream",
     "text": [
      "프로그램이 시작되었습니다\n",
      "try 구문이 시작되었습니다 \n",
      "finally 구문이 실행되었습니다.\n",
      "프로그램이 종료되었습니다.\n"
     ]
    }
   ],
   "source": [
    "print('프로그램이 시작되었습니다')\n",
    "while True:\n",
    "    try:\n",
    "        print('try 구문이 시작되었습니다 ')\n",
    "        break\n",
    "        print('try 구문이 break 키워드 뒤입니다.')\n",
    "    except:\n",
    "        print('except 구문이 실행되었습니다.')\n",
    "    finally:\n",
    "        print('finally 구문이 실행되었습니다.')\n",
    "else: \n",
    "    print('while 반복문이 마지막줄입니다.')\n",
    "print(\"프로그램이 종료되었습니다.\")"
   ]
  },
  {
   "cell_type": "code",
   "execution_count": 13,
   "id": "6f2e206a",
   "metadata": {},
   "outputs": [
    {
     "name": "stdout",
     "output_type": "stream",
     "text": [
      "Program begins\n",
      "Try pharse begins\n",
      "finally pharase bigins\n",
      "program close\n"
     ]
    }
   ],
   "source": [
    "print(\"Program begins\")  # Else를 굳이 쓸 이유는 없었음.\n",
    "while True:\n",
    "    try:\n",
    "        print(\"Try pharse begins\")\n",
    "        break\n",
    "        print(\"try pharse is behind break keyword\")\n",
    "    except:\n",
    "        print('except pharse begins')\n",
    "    finally:\n",
    "        print('finally pharase bigins')\n",
    "    print('the last while repeat pharse ')\n",
    "print('program close')\n"
   ]
  },
  {
   "cell_type": "markdown",
   "id": "a54246b5",
   "metadata": {},
   "source": [
    "###### 숫자 대신 문자를 입력 시 예외가 발생되는데 아래 코드를 수정해서 예외 객체의 자료형과 예외 객체 자체를 출력하세요"
   ]
  },
  {
   "cell_type": "code",
   "execution_count": 27,
   "id": "69bf2f29",
   "metadata": {},
   "outputs": [
    {
     "name": "stdout",
     "output_type": "stream",
     "text": [
      "정수입력 : 가\n",
      "<class 'ValueError'>\n",
      "invalid literal for int() with base 10: '가'\n"
     ]
    }
   ],
   "source": [
    "try:\n",
    "    num_input = int(input('정수입력 : '))\n",
    "    print('원의 반지름:'. num_input)\n",
    "    print('원의 반지름:',  2*3.14*num_input)\n",
    "    print('원의 넓이\":', 3.14*num_input_num_input)\n",
    "except Exception as E:\n",
    "    print(type(E))\n",
    "    print(E)\n",
    "    \n",
    "# 자료형 Class 으로 객체를 생성 (item)  클래스 안에 있는 함수 = Method \n",
    "# Exception 안에 ValueError class. <class> ValueError\n",
    "# Class 안에 Type "
   ]
  },
  {
   "cell_type": "code",
   "execution_count": null,
   "id": "39f48dc5",
   "metadata": {},
   "outputs": [],
   "source": []
  }
 ],
 "metadata": {
  "kernelspec": {
   "display_name": "Python 3",
   "language": "python",
   "name": "python3"
  },
  "language_info": {
   "codemirror_mode": {
    "name": "ipython",
    "version": 3
   },
   "file_extension": ".py",
   "mimetype": "text/x-python",
   "name": "python",
   "nbconvert_exporter": "python",
   "pygments_lexer": "ipython3",
   "version": "3.8.10"
  }
 },
 "nbformat": 4,
 "nbformat_minor": 5
}
