{
 "cells": [
  {
   "cell_type": "markdown",
   "id": "c0687a71",
   "metadata": {},
   "source": [
    "###### Q1. 아래 코드를 모든 예외를 처리할 수 있도록 보완하세요 "
   ]
  },
  {
   "cell_type": "code",
   "execution_count": 2,
   "id": "350a3917",
   "metadata": {},
   "outputs": [
    {
     "name": "stdout",
     "output_type": "stream",
     "text": [
      "정수 입력> 2\n",
      "2번째 요소: 32\n",
      "모든 예외 처리\n"
     ]
    },
    {
     "ename": "NameError",
     "evalue": "name '예외' is not defined",
     "output_type": "error",
     "traceback": [
      "\u001b[1;31m---------------------------------------------------------------------------\u001b[0m",
      "\u001b[1;31mNameError\u001b[0m                                 Traceback (most recent call last)",
      "\u001b[1;32m<ipython-input-2-550fbd5901be>\u001b[0m in \u001b[0;36m<module>\u001b[1;34m\u001b[0m\n\u001b[0;32m      3\u001b[0m     \u001b[0mnum_input\u001b[0m \u001b[1;33m=\u001b[0m \u001b[0mint\u001b[0m\u001b[1;33m(\u001b[0m\u001b[0minput\u001b[0m\u001b[1;33m(\u001b[0m\u001b[1;34m'정수 입력> '\u001b[0m\u001b[1;33m)\u001b[0m\u001b[1;33m)\u001b[0m\u001b[1;33m\u001b[0m\u001b[1;33m\u001b[0m\u001b[0m\n\u001b[0;32m      4\u001b[0m     \u001b[0mprint\u001b[0m\u001b[1;33m(\u001b[0m\u001b[1;34m'{}번째 요소: {}'\u001b[0m\u001b[1;33m.\u001b[0m\u001b[0mformat\u001b[0m\u001b[1;33m(\u001b[0m\u001b[0mnum_input\u001b[0m\u001b[1;33m,\u001b[0m \u001b[0mlist_num\u001b[0m\u001b[1;33m[\u001b[0m\u001b[0mnum_input\u001b[0m\u001b[1;33m]\u001b[0m\u001b[1;33m)\u001b[0m\u001b[1;33m)\u001b[0m\u001b[1;33m\u001b[0m\u001b[1;33m\u001b[0m\u001b[0m\n\u001b[1;32m----> 5\u001b[1;33m     \u001b[0m예외\u001b[0m\u001b[1;33m.\u001b[0m\u001b[0m발생\u001b[0m\u001b[1;33m(\u001b[0m\u001b[1;33m)\u001b[0m\u001b[1;33m\u001b[0m\u001b[1;33m\u001b[0m\u001b[0m\n\u001b[0m\u001b[0;32m      6\u001b[0m \u001b[1;32mexcept\u001b[0m \u001b[0mValueError\u001b[0m \u001b[1;32mas\u001b[0m \u001b[0mexception\u001b[0m\u001b[1;33m:\u001b[0m\u001b[1;33m\u001b[0m\u001b[1;33m\u001b[0m\u001b[0m\n\u001b[0;32m      7\u001b[0m     \u001b[0mprint\u001b[0m\u001b[1;33m(\u001b[0m\u001b[1;34m'정수를 입력해 주세요.'\u001b[0m\u001b[1;33m)\u001b[0m\u001b[1;33m\u001b[0m\u001b[1;33m\u001b[0m\u001b[0m\n",
      "\u001b[1;31mNameError\u001b[0m: name '예외' is not defined"
     ]
    }
   ],
   "source": [
    "list_num = [52,273,32,72,100]\n",
    "try:\n",
    "    num_input = int(input('정수 입력> '))\n",
    "    print('{}번째 요소: {}'.format(num_input, list_num[num_input]))\n",
    "    예외.발생()\n",
    "except ValueError as exception:\n",
    "    print('정수를 입력해 주세요.')\n",
    "    print(type(exception),exception)\n",
    "except IndexError as exception:\n",
    "    print('리스트의 인덱스를 벗어났어요.')\n",
    "    print(type(exception),exception)\n",
    "finally:\n",
    "    print('모든 예외 처리')"
   ]
  },
  {
   "cell_type": "code",
   "execution_count": 15,
   "id": "1f6acc7f",
   "metadata": {},
   "outputs": [
    {
     "name": "stdout",
     "output_type": "stream",
     "text": [
      "정수 입력> 6\n",
      "리스트의 인덱스를 벗어났어요.\n",
      "<class 'IndexError'> list index out of range\n",
      "모든 예외 처리\n"
     ]
    }
   ],
   "source": [
    "list_num = [52,273,32,72,100]\n",
    "try:\n",
    "    num_input = int(input('정수 입력> '))\n",
    "    print('{}번째 요소: {}'.format(num_input, list_num[num_input]))\n",
    "    print('예외.발생()')\n",
    "except ValueError as exception:\n",
    "    print('정수를 입력해 주세요.')\n",
    "    print(type(exception),exception)\n",
    "except IndexError as exception:\n",
    "    print('리스트의 인덱스를 벗어났어요.')\n",
    "    print(type(exception),exception)\n",
    "finally:\n",
    "    print('모든 예외 처리')"
   ]
  },
  {
   "cell_type": "code",
   "execution_count": null,
   "id": "0f6eb5c2",
   "metadata": {},
   "outputs": [],
   "source": []
  },
  {
   "cell_type": "code",
   "execution_count": null,
   "id": "5b029bcd",
   "metadata": {},
   "outputs": [],
   "source": []
  }
 ],
 "metadata": {
  "kernelspec": {
   "display_name": "Python 3",
   "language": "python",
   "name": "python3"
  },
  "language_info": {
   "codemirror_mode": {
    "name": "ipython",
    "version": 3
   },
   "file_extension": ".py",
   "mimetype": "text/x-python",
   "name": "python",
   "nbconvert_exporter": "python",
   "pygments_lexer": "ipython3",
   "version": "3.8.10"
  }
 },
 "nbformat": 4,
 "nbformat_minor": 5
}
