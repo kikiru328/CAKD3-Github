{
 "cells": [
  {
   "cell_type": "markdown",
   "id": "c0687a71",
   "metadata": {},
   "source": [
    "###### Q1. 아래 코드를 모든 예외를 처리할 수 있도록 보완하세요 "
   ]
  },
  {
   "cell_type": "code",
   "execution_count": 2,
   "id": "350a3917",
   "metadata": {},
   "outputs": [
    {
     "name": "stdout",
     "output_type": "stream",
     "text": [
      "정수 입력> 2\n",
      "2번째 요소: 32\n",
      "모든 예외 처리\n"
     ]
    },
    {
     "ename": "NameError",
     "evalue": "name '예외' is not defined",
     "output_type": "error",
     "traceback": [
      "\u001b[1;31m---------------------------------------------------------------------------\u001b[0m",
      "\u001b[1;31mNameError\u001b[0m                                 Traceback (most recent call last)",
      "\u001b[1;32m<ipython-input-2-550fbd5901be>\u001b[0m in \u001b[0;36m<module>\u001b[1;34m\u001b[0m\n\u001b[0;32m      3\u001b[0m     \u001b[0mnum_input\u001b[0m \u001b[1;33m=\u001b[0m \u001b[0mint\u001b[0m\u001b[1;33m(\u001b[0m\u001b[0minput\u001b[0m\u001b[1;33m(\u001b[0m\u001b[1;34m'정수 입력> '\u001b[0m\u001b[1;33m)\u001b[0m\u001b[1;33m)\u001b[0m\u001b[1;33m\u001b[0m\u001b[1;33m\u001b[0m\u001b[0m\n\u001b[0;32m      4\u001b[0m     \u001b[0mprint\u001b[0m\u001b[1;33m(\u001b[0m\u001b[1;34m'{}번째 요소: {}'\u001b[0m\u001b[1;33m.\u001b[0m\u001b[0mformat\u001b[0m\u001b[1;33m(\u001b[0m\u001b[0mnum_input\u001b[0m\u001b[1;33m,\u001b[0m \u001b[0mlist_num\u001b[0m\u001b[1;33m[\u001b[0m\u001b[0mnum_input\u001b[0m\u001b[1;33m]\u001b[0m\u001b[1;33m)\u001b[0m\u001b[1;33m)\u001b[0m\u001b[1;33m\u001b[0m\u001b[1;33m\u001b[0m\u001b[0m\n\u001b[1;32m----> 5\u001b[1;33m     \u001b[0m예외\u001b[0m\u001b[1;33m.\u001b[0m\u001b[0m발생\u001b[0m\u001b[1;33m(\u001b[0m\u001b[1;33m)\u001b[0m\u001b[1;33m\u001b[0m\u001b[1;33m\u001b[0m\u001b[0m\n\u001b[0m\u001b[0;32m      6\u001b[0m \u001b[1;32mexcept\u001b[0m \u001b[0mValueError\u001b[0m \u001b[1;32mas\u001b[0m \u001b[0mexception\u001b[0m\u001b[1;33m:\u001b[0m\u001b[1;33m\u001b[0m\u001b[1;33m\u001b[0m\u001b[0m\n\u001b[0;32m      7\u001b[0m     \u001b[0mprint\u001b[0m\u001b[1;33m(\u001b[0m\u001b[1;34m'정수를 입력해 주세요.'\u001b[0m\u001b[1;33m)\u001b[0m\u001b[1;33m\u001b[0m\u001b[1;33m\u001b[0m\u001b[0m\n",
      "\u001b[1;31mNameError\u001b[0m: name '예외' is not defined"
     ]
    }
   ],
   "source": [
    "list_num = [52,273,32,72,100]\n",
    "try:\n",
    "    num_input = int(input('정수 입력> '))\n",
    "    print('{}번째 요소: {}'.format(num_input, list_num[num_input]))\n",
    "    예외.발생()\n",
    "except ValueError as exception:\n",
    "    print('정수를 입력해 주세요.')\n",
    "    print(type(exception),exception)\n",
    "except IndexError as exception:\n",
    "    print('리스트의 인덱스를 벗어났어요.')\n",
    "    print(type(exception),exception)\n",
    "finally:\n",
    "    print('모든 예외 처리')"
   ]
  },
  {
   "cell_type": "code",
   "execution_count": 21,
   "id": "1f6acc7f",
   "metadata": {},
   "outputs": [
    {
     "name": "stdout",
     "output_type": "stream",
     "text": [
      "정수 입력> ㅁ\n",
      "정수를 입력해 주세요.\n",
      "<class 'ValueError'> invalid literal for int() with base 10: 'ㅁ'\n",
      "모든 예외 처리\n"
     ]
    }
   ],
   "source": [
    "list_num = [52,273,32,72,100]\n",
    "try:\n",
    "    num_input = int(input('정수 입력> '))\n",
    "    print('{}번째 요소: {}'.format(num_input, list_num[num_input]))\n",
    "    print('예외.발생()')\n",
    "except ValueError as exception:\n",
    "    print('정수를 입력해 주세요.')\n",
    "    print(type(exception),exception)\n",
    "except IndexError as exception:\n",
    "    print('리스트의 인덱스를 벗어났어요.')\n",
    "    print(type(exception),exception)\n",
    "finally:\n",
    "    print('모든 예외 처리')"
   ]
  },
  {
   "cell_type": "markdown",
   "id": "a337496e",
   "metadata": {},
   "source": [
    "###### Q2. 기본가격 1000원인 2개의 상품에 대하여 임의의 추가 가격을 입력시 아래 두개의 방식으로 산출하세요(class이용)"
   ]
  },
  {
   "cell_type": "markdown",
   "id": "2b9d89fb",
   "metadata": {},
   "source": [
    "###### Q3."
   ]
  },
  {
   "cell_type": "markdown",
   "id": "e1c88c6a",
   "metadata": {},
   "source": [
    "###### Q4. 임의의 클래스를 작성한 후 인스턴스를 생성하고 그것의 타입을 확인하세요"
   ]
  },
  {
   "cell_type": "markdown",
   "id": "6885256c",
   "metadata": {},
   "source": [
    "###### Q5. 4칙 연산 기능을 포함한 Cal4 클래스(생성자이용)를 작성하고 이 클래스를 이용하여 cal1계산기 객체를 만든 후 두개의 수 5,3에 대한 사칙연산을 수행하세요"
   ]
  },
  {
   "cell_type": "markdown",
   "id": "ba15310b",
   "metadata": {},
   "source": [
    "###### Q6. Order 클래스를 상속받아 extraorder 클래스를 작성하고 extraCustomer의 주문가격을 다음과 같이 산출하였다. ㄷextraOrder클래스를 작성하세요"
   ]
  },
  {
   "cell_type": "code",
   "execution_count": 25,
   "id": "290a08e8",
   "metadata": {},
   "outputs": [
    {
     "name": "stdout",
     "output_type": "stream",
     "text": [
      "1000\n"
     ]
    }
   ],
   "source": [
    "class Order:\n",
    "    def __init__(self,name):\n",
    "        self.customer = 0\n",
    "        self.name = name\n",
    "    def order(self,price):\n",
    "        self.customer += price\n",
    "        return self.customer\n",
    "    \n",
    "class ExtraOrder(Order):\n",
    "    pass\n",
    "\n",
    "extraCustomer =ExtraOrder('Kevin')\n",
    "print(extraCustomer.order(1000))"
   ]
  },
  {
   "cell_type": "markdown",
   "id": "40029adf",
   "metadata": {},
   "source": [
    "###### Q7. Order 클래스를 상속받아 extraOrder 클래스에서 메소드 오버라이딩하여 출력가격에 '원'이 추가되도록 출력하세요"
   ]
  },
  {
   "cell_type": "code",
   "execution_count": null,
   "id": "9a22635a",
   "metadata": {},
   "outputs": [],
   "source": [
    "# method를 '원'이 추가되도록"
   ]
  },
  {
   "cell_type": "markdown",
   "id": "3b3a16cb",
   "metadata": {},
   "source": [
    "###### Q8. 업무미팅이 2시임을 알려주는 자동 이메일을 클래스  AutoEmail을 작성하여 아래와 같이 출력하세요.\n",
    "- 안녕하세요 Kevin님\n",
    "- 업무미팅은 2시 입니다."
   ]
  },
  {
   "cell_type": "markdown",
   "id": "fa447d8a",
   "metadata": {},
   "source": [
    "######  Q9. 1609160537.371015를 \"Sat Jun 26 08:35:03 2021\" 포맷으로 출력하세요"
   ]
  },
  {
   "cell_type": "code",
   "execution_count": 31,
   "id": "bd83d956",
   "metadata": {},
   "outputs": [
    {
     "data": {
      "text/plain": [
       "<function datetime.now(tz=None)>"
      ]
     },
     "execution_count": 31,
     "metadata": {},
     "output_type": "execute_result"
    }
   ],
   "source": [
    "import datetime as dt\n",
    "dt.datetime.now"
   ]
  },
  {
   "cell_type": "markdown",
   "id": "89cecdd4",
   "metadata": {},
   "source": [
    "###### Q10. 현재 날짜와 시간을 \"Sat Jun 26 08:35:03 2021\"  포맷으로 출력하세요"
   ]
  },
  {
   "cell_type": "code",
   "execution_count": null,
   "id": "60d1e325",
   "metadata": {},
   "outputs": [],
   "source": []
  }
 ],
 "metadata": {
  "kernelspec": {
   "display_name": "Python 3",
   "language": "python",
   "name": "python3"
  },
  "language_info": {
   "codemirror_mode": {
    "name": "ipython",
    "version": 3
   },
   "file_extension": ".py",
   "mimetype": "text/x-python",
   "name": "python",
   "nbconvert_exporter": "python",
   "pygments_lexer": "ipython3",
   "version": "3.8.10"
  }
 },
 "nbformat": 4,
 "nbformat_minor": 5
}
