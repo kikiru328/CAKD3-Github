{
 "cells": [
  {
   "cell_type": "code",
   "execution_count": 9,
   "id": "77503907",
   "metadata": {},
   "outputs": [],
   "source": [
    "# 클래스에서 만들어진 객체를 instance라고 함}   # PACKAGE > MODULE > CLASS"
   ]
  },
  {
   "cell_type": "markdown",
   "id": "fac696c3",
   "metadata": {},
   "source": [
    "###### 클래스 멤버 (Class member) , 클래스 메소드( Class Method)\n",
    "- 클래스를 구성하는 주요 요소는 멤버(변수)와 메소드(함수)로  클래스 공간내에서 정의한다. \n",
    "- 클래스 메소드는 첫번째 인자가 반드시 self로 시작된다. (self == 객체 자체)\n",
    "- self는 이 클래스의 인스턴트 객체를 가르키는 참조자\n",
    "- 인스턴스 객체에서 클래스 메소드를 호출 시 첫번째 인자인 self 생략한다."
   ]
  },
  {
   "cell_type": "code",
   "execution_count": 8,
   "id": "93f1308d",
   "metadata": {},
   "outputs": [
    {
     "name": "stdout",
     "output_type": "stream",
     "text": [
      "Hello\n",
      "Hello\n"
     ]
    }
   ],
   "source": [
    "class Myclass: #카멜\n",
    "    var = 'Hello'   #클래스 멤버                         # '=' 대입\n",
    "    def sayHello(self):    #클래스 메소드                  \n",
    "        return self.var      #인스턴스 참조자                                 #이 Self  = obj\n",
    "obj = Myclass()  #Myclass 라는 클래스에 obj 라는 객체를 찍어 냄  #클래스의 자원을 이용할 수 있는 권리를 부여함.\n",
    "print(obj.var)\n",
    "print(obj.sayHello())"
   ]
  },
  {
   "cell_type": "markdown",
   "id": "eafdc8cf",
   "metadata": {},
   "source": [
    "###### 클래스 멤버와 인스턴스 멤버\n",
    "- 클래스 멤버는 클래스 메소드 바깥에서 선언되고, 인스턴스 멤버는 클래스 메소드 안에서 self와 함께 선언된다"
   ]
  },
  {
   "cell_type": "code",
   "execution_count": 16,
   "id": "d9b36795",
   "metadata": {},
   "outputs": [
    {
     "name": "stdout",
     "output_type": "stream",
     "text": [
      "Hello\n",
      "heo\n",
      "hi\n",
      "Hello\n"
     ]
    }
   ],
   "source": [
    "class Myclass:\n",
    "    var = 'Hello' #class member\n",
    "    def sayhello(self): #class Method\n",
    "        param1 = 'heo'  #local variation\n",
    "        self.param2 = 'hi' #instance member\n",
    "        print(param1)\n",
    "        print(self.param2)\n",
    "        print(self.var)\n",
    "        \n",
    "obj = Myclass()\n",
    "print(obj.var)\n",
    "obj.sayhello()\n",
    "#obj.param1  #Error\n"
   ]
  },
  {
   "cell_type": "markdown",
   "id": "5c003cd6",
   "metadata": {},
   "source": [
    "- 클래스 내에서 정의되는 클래스 메소드는 첫 번째 인자가 반드시 self여야 한다."
   ]
  },
  {
   "cell_type": "code",
   "execution_count": 31,
   "id": "871fd385",
   "metadata": {},
   "outputs": [
    {
     "name": "stdout",
     "output_type": "stream",
     "text": [
      "Hola,amigo!\n"
     ]
    }
   ],
   "source": [
    "class MyClass:\n",
    "    def sayhola(self):\n",
    "        print('Hola,amigo!')\n",
    "    \n",
    "    def sayAdios(self,name):\n",
    "        print(\"Adios Amigo %s\" %name)\n",
    "\n",
    "obj = MyClass()\n",
    "obj.sayhola()\n",
    "\n"
   ]
  },
  {
   "cell_type": "markdown",
   "id": "a51050e0",
   "metadata": {},
   "source": [
    "###### 클래스 생성자(인자가 없는 경우)\n",
    "- 클래스 인스턴스 객체가 생성될 때 자동적으로 호출되는 메소드"
   ]
  },
  {
   "cell_type": "code",
   "execution_count": 37,
   "id": "084a2627",
   "metadata": {},
   "outputs": [
    {
     "name": "stdout",
     "output_type": "stream",
     "text": [
      "MyClass Instance Member\n",
      "Hola!\n"
     ]
    }
   ],
   "source": [
    "class Myclass:\n",
    "    def __init__(self):\n",
    "        self.var='Hola!'  #Instance Member\n",
    "        print('MyClass Instance Member')\n",
    "\n",
    "obj = Myclass()\n",
    "print(obj.var)\n",
    "        "
   ]
  },
  {
   "cell_type": "code",
   "execution_count": 43,
   "id": "ff63669b",
   "metadata": {},
   "outputs": [
    {
     "name": "stdout",
     "output_type": "stream",
     "text": [
      "5\n",
      "한국\n",
      "1\n"
     ]
    }
   ],
   "source": [
    "class Mycar():\n",
    "    engine = 0 #class variation\n",
    "    \n",
    "    def __init__(self,speed,tire):\n",
    "        self.speed = speed\n",
    "        self.tire = tire\n",
    "        Mycar.engine += 1\n",
    "        \n",
    "    def in_engine(speed1, speed2):\n",
    "        return speed1 == speed2\n",
    "    \n",
    "    def get_engine(cls):\n",
    "        return cls.engine\n",
    "    \n",
    "my_car = Mycar(5,'한국')\n",
    "print(my_car.speed)\n",
    "print(my_car.tire)\n",
    "print(my_car.get_engine())"
   ]
  },
  {
   "cell_type": "code",
   "execution_count": 46,
   "id": "5e0135e0",
   "metadata": {},
   "outputs": [
    {
     "name": "stdout",
     "output_type": "stream",
     "text": [
      "생성자 인자로 전달받은 값은 <Daniel>입니다.\n",
      "Daniel\n"
     ]
    }
   ],
   "source": [
    "#클래스 생성자(인자가 있는 경우)\n",
    "class Myclass:\n",
    "    def __init__ (self, txt):\n",
    "        self.var = txt #인스턴스 멤버\n",
    "        print('생성자 인자로 전달받은 값은 <'+self.var+'>입니다.')\n",
    "obj = Myclass('Daniel')\n",
    "print(obj.var)"
   ]
  },
  {
   "cell_type": "markdown",
   "id": "8303f233",
   "metadata": {},
   "source": [
    "###### 클래스 소멸자\n",
    "-클래스 인스턴스 객체가 메모리에서 제거될 때 자동으로 호출되는 클래스 메소드"
   ]
  },
  {
   "cell_type": "code",
   "execution_count": 47,
   "id": "35f4ceae",
   "metadata": {},
   "outputs": [
    {
     "name": "stdout",
     "output_type": "stream",
     "text": [
      "Myclass 인스턴스 객체가 메모리에서 제거됩니다.\n"
     ]
    }
   ],
   "source": [
    "class Myclass:\n",
    "    def __del__(self):\n",
    "        print('Myclass 인스턴스 객체가 메모리에서 제거됩니다.')\n",
    "obj=Myclass()\n",
    "del obj"
   ]
  },
  {
   "cell_type": "markdown",
   "id": "c91abd11",
   "metadata": {},
   "source": [
    "###### 클래스 상속\n",
    "- class 부모클래스\n",
    "- 어떤 클래스가 가지고 있는 모든 멤버나 메소드를 상속받는 클래스가 모두 사용할 수 있도록 해줌\n",
    "- 자식 클래스는 여러 부모 클래스로 부터 상속받을 수 있으며 (다중상속)\n",
    "- class 자식클래스(부모클래스1, 부모클래스2 ---)\n"
   ]
  },
  {
   "cell_type": "code",
   "execution_count": 12,
   "id": "9dc0fc20",
   "metadata": {},
   "outputs": [
    {
     "name": "stdout",
     "output_type": "stream",
     "text": [
      "4\n",
      "6\n",
      "3\n"
     ]
    }
   ],
   "source": [
    "#  Make own class : 더하기 SUM/ 곱하기 MUL 클래스를 작성하고 상속을 받은 자식 클래스 Cal을 작성하여 덧셈과 곱셈, 뺄셈을 수행하세요/\n",
    "\n",
    "class Sum:\n",
    "    def sum(self,a,b):\n",
    "        return a + b\n",
    "class Mul:\n",
    "    def mul(self,a,b):\n",
    "        return a * b\n",
    "    \n",
    "class Cal(Sum,Mul):\n",
    "    def sub(self,a,b):\n",
    "        return a - b\n",
    "\n",
    "#함수만 상속받을경우 Class(Sum,Mul):\n",
    "#                        pass\n",
    "dummy=Cal()\n",
    "print(dummy.sum(1,3))\n",
    "print(dummy.mul(2,3))\n",
    "print(dummy.sub(5,2))"
   ]
  },
  {
   "cell_type": "code",
   "execution_count": 13,
   "id": "5be2db84",
   "metadata": {},
   "outputs": [],
   "source": [
    "# Q 클래스 Myclass를 작성하고 객체를 생성하여 아래와 같이 출력하세요(생성자 사용)\n",
    "# %name 안녕하세요\n",
    "# %name 안녕히 가세요 "
   ]
  },
  {
   "cell_type": "code",
   "execution_count": 36,
   "id": "57fea7e6",
   "metadata": {},
   "outputs": [
    {
     "name": "stdout",
     "output_type": "stream",
     "text": [
      "Daniel 안녕하세요\n",
      "Daniel 안녕히 가세요\n"
     ]
    }
   ],
   "source": [
    "class Myclass:\n",
    "    def Say_hello(self,name):\n",
    "        return print(\"%s 안녕하세요\" %name)\n",
    "    \n",
    "    def Say_bye(self,name):\n",
    "        return print(\"%s 안녕히 가세요\"%name)\n",
    "    \n",
    "dummy = Myclass()\n",
    "dummy.Say_hello(\"Daniel\")\n",
    "dummy.Say_bye(\"Daniel\")"
   ]
  },
  {
   "cell_type": "code",
   "execution_count": 43,
   "id": "8a556051",
   "metadata": {},
   "outputs": [
    {
     "name": "stdout",
     "output_type": "stream",
     "text": [
      "kevin, 안녕하세요\n",
      "kevin, 안녕히 가세요\n"
     ]
    }
   ],
   "source": [
    "class Myclass:\n",
    "    def __init__(self,name):\n",
    "        self.name = name\n",
    "        \n",
    "    def hello(self):\n",
    "        print(\"%s, 안녕하세요\" % self.name)\n",
    "    \n",
    "    def bye(self):\n",
    "        print(\"%s, 안녕히 가세요\" % self.name)\n",
    "\n",
    "obj = Myclass(\"kevin\")\n",
    "obj.hello()\n",
    "obj.bye()"
   ]
  },
  {
   "cell_type": "code",
   "execution_count": 65,
   "id": "9e60865a",
   "metadata": {},
   "outputs": [
    {
     "name": "stdout",
     "output_type": "stream",
     "text": [
      "값을 입력하세요:1000\n"
     ]
    },
    {
     "data": {
      "text/plain": [
       "2000"
      ]
     },
     "execution_count": 65,
     "metadata": {},
     "output_type": "execute_result"
    }
   ],
   "source": [
    "#Q . 사용자 함수를 작성하여 기본가격 1000원에 입력 받은 값을 추가한 가격을 산출하세요. (지역변수, 전역변수 2가지 방법)\n",
    "def function():\n",
    "    a = int(input(\"값을 입력하세요:\"))\n",
    "    o = 1000\n",
    "    o += a\n",
    "    return o\n",
    "function()"
   ]
  },
  {
   "cell_type": "code",
   "execution_count": 8,
   "id": "2a950811",
   "metadata": {},
   "outputs": [
    {
     "name": "stdout",
     "output_type": "stream",
     "text": [
      "입력1000\n",
      "2000\n"
     ]
    }
   ],
   "source": [
    "b = 1000\n",
    "p = int(input(\"입력\"))\n",
    "def price():\n",
    "    global b\n",
    "    b += p\n",
    "    return b\n",
    "print(price())"
   ]
  },
  {
   "cell_type": "code",
   "execution_count": null,
   "id": "b6691683",
   "metadata": {},
   "outputs": [],
   "source": []
  },
  {
   "cell_type": "code",
   "execution_count": null,
   "id": "94987a51",
   "metadata": {},
   "outputs": [],
   "source": []
  }
 ],
 "metadata": {
  "kernelspec": {
   "display_name": "Python 3",
   "language": "python",
   "name": "python3"
  },
  "language_info": {
   "codemirror_mode": {
    "name": "ipython",
    "version": 3
   },
   "file_extension": ".py",
   "mimetype": "text/x-python",
   "name": "python",
   "nbconvert_exporter": "python",
   "pygments_lexer": "ipython3",
   "version": "3.8.10"
  }
 },
 "nbformat": 4,
 "nbformat_minor": 5
}
