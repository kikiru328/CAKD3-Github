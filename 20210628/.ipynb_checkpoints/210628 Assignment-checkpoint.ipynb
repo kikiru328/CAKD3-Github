{
 "cells": [
  {
   "cell_type": "markdown",
   "id": "c0687a71",
   "metadata": {},
   "source": [
    "###### Q1. 아래 코드를 모든 예외를 처리할 수 있도록 보완하세요 "
   ]
  },
  {
   "cell_type": "code",
   "execution_count": 1,
   "id": "350a3917",
   "metadata": {},
   "outputs": [],
   "source": [
    "List_num = [ 52,273,32,72,100]"
   ]
  },
  {
   "cell_type": "code",
   "execution_count": null,
   "id": "1f6acc7f",
   "metadata": {},
   "outputs": [],
   "source": []
  }
 ],
 "metadata": {
  "kernelspec": {
   "display_name": "Python 3",
   "language": "python",
   "name": "python3"
  },
  "language_info": {
   "codemirror_mode": {
    "name": "ipython",
    "version": 3
   },
   "file_extension": ".py",
   "mimetype": "text/x-python",
   "name": "python",
   "nbconvert_exporter": "python",
   "pygments_lexer": "ipython3",
   "version": "3.8.10"
  }
 },
 "nbformat": 4,
 "nbformat_minor": 5
}
