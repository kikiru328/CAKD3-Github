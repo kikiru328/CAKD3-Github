{
 "cells": [
  {
   "cell_type": "code",
   "execution_count": 9,
   "id": "ae912f35",
   "metadata": {},
   "outputs": [],
   "source": [
    "# 클래스에서 만들어진 객체를 instance라고 함}   # PACKAGE > MODULE > CLASS"
   ]
  },
  {
   "cell_type": "markdown",
   "id": "277f4238",
   "metadata": {},
   "source": [
    "###### 클래스 멤버 (Class member) , 클래스 메소드( Class Method)\n",
    "- 클래스를 구성하는 주요 요소는 멤버(변수)와 메소드(함수)로  클래스 공간내에서 정의한다. \n",
    "- 클래스 메소드는 첫번째 인자가 반드시 self로 시작된다. (self == 객체 자체)\n",
    "- self는 이 클래스의 인스턴트 객체를 가르키는 참조자\n",
    "- 인스턴스 객체에서 클래스 메소드를 호출 시 첫번째 인자인 self 생략한다."
   ]
  },
  {
   "cell_type": "code",
   "execution_count": 8,
   "id": "cd9f70f2",
   "metadata": {},
   "outputs": [
    {
     "name": "stdout",
     "output_type": "stream",
     "text": [
      "Hello\n",
      "Hello\n"
     ]
    }
   ],
   "source": [
    "class Myclass: #카멜\n",
    "    var = 'Hello'   #클래스 멤버                         # '=' 대입\n",
    "    def sayHello(self):    #클래스 메소드                  \n",
    "        return self.var      #인스턴스 참조자                                 #이 Self  = obj\n",
    "obj = Myclass()  #Myclass 라는 클래스에 obj 라는 객체를 찍어 냄  #클래스의 자원을 이용할 수 있는 권리를 부여함.\n",
    "print(obj.var)\n",
    "print(obj.sayHello())"
   ]
  },
  {
   "cell_type": "markdown",
   "id": "f096c257",
   "metadata": {},
   "source": [
    "###### 클래스 멤버와 인스턴스 멤버\n",
    "- 클래스 멤버는 클래스 메소드 바깥에서 선언되고, 인스턴스 멤버는 클래스 메소드 안에서 self와 함께 선언된다"
   ]
  },
  {
   "cell_type": "code",
   "execution_count": 16,
   "id": "01bdc805",
   "metadata": {},
   "outputs": [
    {
     "name": "stdout",
     "output_type": "stream",
     "text": [
      "Hello\n",
      "heo\n",
      "hi\n",
      "Hello\n"
     ]
    }
   ],
   "source": [
    "class Myclass:\n",
    "    var = 'Hello' #class member\n",
    "    def sayhello(self): #class Method\n",
    "        param1 = 'heo'  #local variation\n",
    "        self.param2 = 'hi' #instance member\n",
    "        print(param1)\n",
    "        print(self.param2)\n",
    "        print(self.var)\n",
    "        \n",
    "obj = Myclass()\n",
    "print(obj.var)\n",
    "obj.sayhello()\n",
    "#obj.param1  #Error\n"
   ]
  },
  {
   "cell_type": "markdown",
   "id": "1e06c5fb",
   "metadata": {},
   "source": [
    "- 클래스 내에서 정의되는 클래스 메소드는 첫 번째 인자가 반드시 self여야 한다."
   ]
  },
  {
   "cell_type": "code",
   "execution_count": 31,
   "id": "72277acd",
   "metadata": {},
   "outputs": [
    {
     "name": "stdout",
     "output_type": "stream",
     "text": [
      "Hola,amigo!\n"
     ]
    }
   ],
   "source": [
    "class MyClass:\n",
    "    def sayhola(self):\n",
    "        print('Hola,amigo!')\n",
    "    \n",
    "    def sayAdios(self,name):\n",
    "        print(\"Adios Amigo %s\" %name)\n",
    "\n",
    "obj = MyClass()\n",
    "obj.sayhola()\n",
    "\n"
   ]
  },
  {
   "cell_type": "markdown",
   "id": "fd16d775",
   "metadata": {},
   "source": [
    "###### 클래스 생성자(인자가 없는 경우)\n",
    "- 클래스 인스턴스 객체가 생성될 때 자동적으로 호출되는 메소드"
   ]
  },
  {
   "cell_type": "code",
   "execution_count": 37,
   "id": "6c49e4c6",
   "metadata": {},
   "outputs": [
    {
     "name": "stdout",
     "output_type": "stream",
     "text": [
      "MyClass Instance Member\n",
      "Hola!\n"
     ]
    }
   ],
   "source": [
    "class Myclass:\n",
    "    def __init__(self):\n",
    "        self.var='Hola!'  #Instance Member\n",
    "        print('MyClass Instance Member')\n",
    "\n",
    "obj = Myclass()\n",
    "print(obj.var)\n",
    "        "
   ]
  },
  {
   "cell_type": "code",
   "execution_count": 43,
   "id": "41614bad",
   "metadata": {},
   "outputs": [
    {
     "name": "stdout",
     "output_type": "stream",
     "text": [
      "5\n",
      "한국\n",
      "1\n"
     ]
    }
   ],
   "source": [
    "class Mycar():\n",
    "    engine = 0 #class variation\n",
    "    \n",
    "    def __init__(self,speed,tire):\n",
    "        self.speed = speed\n",
    "        self.tire = tire\n",
    "        Mycar.engine += 1\n",
    "        \n",
    "    def in_engine(speed1, speed2):\n",
    "        return speed1 == speed2\n",
    "    \n",
    "    def get_engine(cls):\n",
    "        return cls.engine\n",
    "    \n",
    "my_car = Mycar(5,'한국')\n",
    "print(my_car.speed)\n",
    "print(my_car.tire)\n",
    "print(my_car.get_engine())"
   ]
  },
  {
   "cell_type": "code",
   "execution_count": 46,
   "id": "2c0c67b1",
   "metadata": {},
   "outputs": [
    {
     "name": "stdout",
     "output_type": "stream",
     "text": [
      "생성자 인자로 전달받은 값은 <Daniel>입니다.\n",
      "Daniel\n"
     ]
    }
   ],
   "source": [
    "#클래스 생성자(인자가 있는 경우)\n",
    "class Myclass:\n",
    "    def __init__ (self, txt):\n",
    "        self.var = txt #인스턴스 멤버\n",
    "        print('생성자 인자로 전달받은 값은 <'+self.var+'>입니다.')\n",
    "obj = Myclass('Daniel')\n",
    "print(obj.var)"
   ]
  },
  {
   "cell_type": "markdown",
   "id": "c1de2ace",
   "metadata": {},
   "source": [
    "###### 클래스 소멸자\n",
    "-클래스 인스턴스 객체가 메모리에서 제거될 때 자동으로 호출되는 클래스 메소드"
   ]
  },
  {
   "cell_type": "code",
   "execution_count": 47,
   "id": "616a46b3",
   "metadata": {},
   "outputs": [
    {
     "name": "stdout",
     "output_type": "stream",
     "text": [
      "Myclass 인스턴스 객체가 메모리에서 제거됩니다.\n"
     ]
    }
   ],
   "source": [
    "class Myclass:\n",
    "    def __del__(self):\n",
    "        print('Myclass 인스턴스 객체가 메모리에서 제거됩니다.')\n",
    "obj=Myclass()\n",
    "del obj"
   ]
  },
  {
   "cell_type": "markdown",
   "id": "ad6d50d4",
   "metadata": {},
   "source": [
    "###### 클래스 상속\n",
    "- class 부모클래스\n",
    "- 어떤 클래스가 가지고 있는 모든 멤버나 메소드를 상속받는 클래스가 모두 사용할 수 있도록 해줌\n",
    "- 자식 클래스는 여러 부모 클래스로 부터 상속받을 수 있으며 (다중상속)\n",
    "- class 자식클래스(부모클래스1, 부모클래스2 ---)\n"
   ]
  },
  {
   "cell_type": "code",
   "execution_count": null,
   "id": "efa9d135",
   "metadata": {},
   "outputs": [],
   "source": []
  }
 ],
 "metadata": {
  "kernelspec": {
   "display_name": "Python 3",
   "language": "python",
   "name": "python3"
  },
  "language_info": {
   "codemirror_mode": {
    "name": "ipython",
    "version": 3
   },
   "file_extension": ".py",
   "mimetype": "text/x-python",
   "name": "python",
   "nbconvert_exporter": "python",
   "pygments_lexer": "ipython3",
   "version": "3.8.10"
  }
 },
 "nbformat": 4,
 "nbformat_minor": 5
}
