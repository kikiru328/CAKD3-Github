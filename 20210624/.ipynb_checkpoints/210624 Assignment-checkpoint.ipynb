{
 "cells": [
  {
   "cell_type": "markdown",
   "id": "3714472a",
   "metadata": {},
   "source": [
    "###### Q1. 내장함수를 이용해서 list = [0,1,2,3,4,5,6]에서 2를 삭제 후 출력하세요"
   ]
  },
  {
   "cell_type": "code",
   "execution_count": 3,
   "id": "d071a71d",
   "metadata": {},
   "outputs": [
    {
     "name": "stdout",
     "output_type": "stream",
     "text": [
      "[0, 1, 3, 4, 5, 6]\n"
     ]
    }
   ],
   "source": [
    "list1 = [0,1,2,3,4,5,6]\n",
    "list1.remove(2)\n",
    "A1 = print(list1)\n",
    "A1"
   ]
  },
  {
   "cell_type": "markdown",
   "id": "61194fd8",
   "metadata": {},
   "source": [
    "###### Q2. 내장함수를 이용해서 list = [0.1.2.3.4.5.6]에서 모든 원소를 삭제 후 출력하세요"
   ]
  },
  {
   "cell_type": "code",
   "execution_count": 4,
   "id": "cf7b2d43",
   "metadata": {},
   "outputs": [
    {
     "name": "stdout",
     "output_type": "stream",
     "text": [
      "[]\n"
     ]
    }
   ],
   "source": [
    "list2 = [0,1,2,3,4,5,6]\n",
    "list2.clear()\n",
    "A2 = print(list2)\n",
    "A2"
   ]
  },
  {
   "cell_type": "markdown",
   "id": "0c44ebd3",
   "metadata": {},
   "source": [
    "###### Q3. list=[0,1,2,3,4,5,6]에 3,7이 포함되어 있는 지 확인하세요"
   ]
  },
  {
   "cell_type": "code",
   "execution_count": 5,
   "id": "866375df",
   "metadata": {},
   "outputs": [
    {
     "name": "stdout",
     "output_type": "stream",
     "text": [
      "3값 존재?= True \n",
      " 7값 존재?= False\n"
     ]
    }
   ],
   "source": [
    "list3 = [0,1,2,3,4,5,6]\n",
    "A3 = print(\"3값 존재?=\",3 in list3,\"\\n\",\"7값 존재?=\",7 in list3)"
   ]
  },
  {
   "cell_type": "markdown",
   "id": "ea8424e9",
   "metadata": {},
   "source": [
    "###### Q4. numbers 내부에 들어 있는 숫자가 몇 번 등장하는지를 출력하는 코드를 작성하세요\n",
    "- numbers = [3,6,3,5,8,2,9,7,4,3,6,3,5,8,2,9,7,4]"
   ]
  },
  {
   "cell_type": "code",
   "execution_count": 1,
   "id": "df5a015f",
   "metadata": {
    "scrolled": true
   },
   "outputs": [
    {
     "name": "stdout",
     "output_type": "stream",
     "text": [
      "2값은 2개 있습니다.\n",
      "3값은 4개 있습니다.\n",
      "4값은 2개 있습니다.\n",
      "5값은 2개 있습니다.\n",
      "6값은 2개 있습니다.\n",
      "7값은 2개 있습니다.\n",
      "8값은 2개 있습니다.\n",
      "9값은 2개 있습니다.\n"
     ]
    }
   ],
   "source": [
    "numbers = [3,6,3,5,8,2,9,7,4,3,6,3,5,8,2,9,7,4]\n",
    "del_duplicate_numbers = list(set(numbers))\n",
    "del_duplicate_numbers\n",
    "for i in del_duplicate_numbers:\n",
    "    print(\"%d값은 %d개 있습니다.\"%(i,numbers.count(i)))"
   ]
  },
  {
   "cell_type": "code",
   "execution_count": 27,
   "id": "1dfa6d8a",
   "metadata": {},
   "outputs": [
    {
     "name": "stdout",
     "output_type": "stream",
     "text": [
      "<class 'set'>\n",
      "{2, 3, 4, 5, 6, 7, 8, 9}\n"
     ]
    }
   ],
   "source": [
    "numbers = [3,6,3,5,8,2,9,7,4,3,6,3,5,8,2,9,7,4]\n",
    "del_duplicate_numbers = set(numbers)\n",
    "print(type(del_duplicate_numbers))\n",
    "print(del_duplicate_numbers)"
   ]
  },
  {
   "cell_type": "markdown",
   "id": "d8655201",
   "metadata": {},
   "source": [
    "###### Q5. list를 [6,5,4,3,2,1,0]으로 2가지 방법으로 출력하세요\n",
    "- list = [0,1,2,3,4,5,6]"
   ]
  },
  {
   "cell_type": "code",
   "execution_count": 6,
   "id": "300acae0",
   "metadata": {},
   "outputs": [
    {
     "name": "stdout",
     "output_type": "stream",
     "text": [
      "[6, 5, 4, 3, 2, 1, 0]\n",
      "\n",
      "\n",
      "[6, 5, 4, 3, 2, 1, 0]\n"
     ]
    }
   ],
   "source": [
    "list5 = [0,1,2,3,4,5,6]\n",
    "A5_1 = print(sorted(list5,reverse=True))\n",
    "print('\\n')\n",
    "list5.reverse()\n",
    "A5_2 = print(list5)"
   ]
  },
  {
   "cell_type": "markdown",
   "id": "2dc9ca9c",
   "metadata": {},
   "source": [
    "###### Q6. list = ['a', 'b', 'c']을 for문을 사용해서 아래와 같이 출력하세요.\n",
    "- 1번째는 a입니다\n",
    "- 2번째는 b입니다\n",
    "- 3번째는 c입니다"
   ]
  },
  {
   "cell_type": "code",
   "execution_count": 7,
   "id": "ff00b2b3",
   "metadata": {},
   "outputs": [
    {
     "name": "stdout",
     "output_type": "stream",
     "text": [
      "1번째는 a입니다.\n",
      "2번째는 b입니다.\n",
      "3번째는 c입니다.\n"
     ]
    }
   ],
   "source": [
    "list6 = ['a', 'b', 'c']\n",
    "number = 0\n",
    "for i in list6:\n",
    "    number = number + 1\n",
    "    print(\"%d번째는\"%number,\"%s입니다.\"%i)"
   ]
  },
  {
   "cell_type": "markdown",
   "id": "415cab1d",
   "metadata": {},
   "source": [
    "###### Q7. 코딩을 한 줄로 작성해서 동일한 결과를 출력하세요\n",
    "* [0,4,16,36,64,100,144,196,256,324]"
   ]
  },
  {
   "cell_type": "code",
   "execution_count": 8,
   "id": "614c84a7",
   "metadata": {},
   "outputs": [
    {
     "name": "stdout",
     "output_type": "stream",
     "text": [
      "[0, 4, 16, 36, 64, 100, 144, 196, 256, 324]\n"
     ]
    }
   ],
   "source": [
    "list7 = []\n",
    "for i in range(0,20,2):\n",
    "    list7.append(i*i)\n",
    "print(list7)"
   ]
  },
  {
   "cell_type": "code",
   "execution_count": 28,
   "id": "752b2ec3",
   "metadata": {},
   "outputs": [
    {
     "name": "stdout",
     "output_type": "stream",
     "text": [
      "[0, 4, 16, 36, 64, 100, 144, 196, 256, 324]\n"
     ]
    }
   ],
   "source": [
    "# 리스트 안에 포문 표현식\n",
    "# [표현식 for 항목 in 반복가능객체(리스트) if 조건문]\n",
    "list7_1 = [i ** 2for i in range(0,20,2)]\n",
    "print(list7_1)"
   ]
  },
  {
   "cell_type": "markdown",
   "id": "d667b3a9",
   "metadata": {},
   "source": [
    "###### Q8. list = [0, 1, 2, 3, 4, 5, 6, 7, 8, 9]에서 아래와 같이 출력하세요"
   ]
  },
  {
   "cell_type": "code",
   "execution_count": 33,
   "id": "a34df875",
   "metadata": {},
   "outputs": [
    {
     "name": "stdout",
     "output_type": "stream",
     "text": [
      "A8_1: [0, 2, 4, 6, 8]\n",
      "A8_2: [1, 3, 5, 7, 9]\n",
      "A8_3: [2, 1, 0]\n"
     ]
    }
   ],
   "source": [
    "list8 = [0, 1, 2, 3, 4, 5, 6, 7, 8, 9]\n",
    "A8_1 = [i for i in list8 if i % 2 == 0]\n",
    "print(\"A8_1:\",A8_1)\n",
    "A8_2 = [i for i in list8 if i % 2 != 0]\n",
    "print(\"A8_2:\",A8_2)\n",
    "A8_3 = [i for i in list8 if i <3]\n",
    "print(\"A8_3:\",sorted(A8_3,reverse= True))\n",
    "\n",
    "# [0, 2, 4, 6, 8]\n",
    "# [1, 3, 5, 7, 9]\n",
    "# [2, 1, 0]"
   ]
  },
  {
   "cell_type": "markdown",
   "id": "b782f65d",
   "metadata": {},
   "source": [
    "###### Q9. join 함수를 이용해서 ['a','b','c']을 아래와 같이 출력하세요.\n",
    "- a::b::c"
   ]
  },
  {
   "cell_type": "code",
   "execution_count": 37,
   "id": "5020272c",
   "metadata": {},
   "outputs": [
    {
     "name": "stdout",
     "output_type": "stream",
     "text": [
      "a::b::c\n"
     ]
    }
   ],
   "source": [
    "list9=['a','b','c']\n",
    "A9 = \"::\".join(list10) #요소 사이에 앞에 문자열을 넣음\n",
    "A9\n",
    "print(A9)"
   ]
  },
  {
   "cell_type": "markdown",
   "id": "67b0362f",
   "metadata": {},
   "source": [
    "###### Q10. 사용자 함수를 이용해서 여러개의 숫자를 입력하면 그 숫자들의 곱을 구하세요."
   ]
  },
  {
   "cell_type": "code",
   "execution_count": 54,
   "id": "ad953cb8",
   "metadata": {},
   "outputs": [
    {
     "data": {
      "text/plain": [
       "120"
      ]
     },
     "execution_count": 54,
     "metadata": {},
     "output_type": "execute_result"
    }
   ],
   "source": [
    "def mul(*args):\n",
    "    multp = 1\n",
    "    for i in args:\n",
    "        multp *= i\n",
    "    return multp\n",
    "mul(1,2,3,4,5)"
   ]
  },
  {
   "cell_type": "markdown",
   "id": "61c1d2f1",
   "metadata": {},
   "source": [
    "###### Q11.두개의 숫자를 인자로 적용하면 4칙 연산을 수행하는 사용자 함수를 작성한 후  5,3을 대입한 결과를 튜플로 출력하세요. 단, 소수점은 없게 처리"
   ]
  },
  {
   "cell_type": "code",
   "execution_count": 31,
   "id": "2815a516",
   "metadata": {},
   "outputs": [
    {
     "name": "stdout",
     "output_type": "stream",
     "text": [
      "<class 'tuple'>\n",
      "('add : 5 + 3 = 8', 'sub : 5 - 3 = 2', 'div : 5 / 3 = 1', 'mul : 5 * 3 = 15')\n"
     ]
    }
   ],
   "source": [
    "def cal(a,b):\n",
    "    sum = a+b\n",
    "    sub = a - b\n",
    "    div = int(a / b)\n",
    "    mul = a * b\n",
    "    return (\"add : %d + %d = %d\" %(a,b,sum),\"sub : %d - %d = %d\" %(a,b,sub),\"div : %d / %d = %d\" %(a,b,div),\"mul : %d * %d = %d\" %(a,b,mul))\n",
    "A11 = cal(5,3)\n",
    "print(type(A11))\n",
    "print(A11)"
   ]
  },
  {
   "cell_type": "code",
   "execution_count": 24,
   "id": "92e1ddc8",
   "metadata": {},
   "outputs": [
    {
     "name": "stdout",
     "output_type": "stream",
     "text": [
      "add/sub/div/mul : mul\n",
      "<class 'tuple'>\n",
      "('5 * 3 = 15',)\n"
     ]
    },
    {
     "data": {
      "text/plain": [
       "('5 * 3 = 15',)"
      ]
     },
     "execution_count": 24,
     "metadata": {},
     "output_type": "execute_result"
    }
   ],
   "source": [
    "def cal(a,b):\n",
    "    order = input(\"add/sub/div/mul : \")\n",
    "    if order == \"add\":\n",
    "        sum = a+b\n",
    "        return \"%d + %d = %d\"%(a,b,sum),\n",
    "    elif order == \"sub\":\n",
    "        sub = a - b\n",
    "        return \"%d - %d = %d\"%(a,b,sub),\n",
    "    elif order == \"div\":\n",
    "        div = int(a / b)\n",
    "        return \"%d / %d = %d\"%(a,b,div),\n",
    "    elif order == \"mul\":\n",
    "        mul = a * b\n",
    "        return \"%d * %d = %d\"%(a,b,mul),\n",
    "\n",
    "A11 = cal(5,3)\n",
    "print(type(A11))\n",
    "print(A11)\n",
    "A11"
   ]
  },
  {
   "cell_type": "markdown",
   "id": "e6475a0d",
   "metadata": {},
   "source": [
    "###### Q12. 뺄셈, 나눗셈 멀티 계산 함수를 작성"
   ]
  },
  {
   "cell_type": "code",
   "execution_count": 15,
   "id": "55836ca2",
   "metadata": {},
   "outputs": [
    {
     "name": "stdout",
     "output_type": "stream",
     "text": [
      "원하시는 숫자를 두 개 입력하세요 ex) 1,2 : 1,2\n",
      "1 - 2값은 -1입니다.\n",
      "1 / 2값은 0입니다.\n"
     ]
    }
   ],
   "source": [
    "def A12():\n",
    "    i, j = map(int, input(\"원하시는 숫자를 두 개 입력하세요 ex) 1,2 : \").split(\",\"))\n",
    "    print(\"%d - %d값은 %d입니다.\"%(i,j,i-j))\n",
    "    print(\"%d / %d값은 %d입니다.\"%(i,j,i/j))\n",
    "    return\n",
    "A12()"
   ]
  },
  {
   "cell_type": "markdown",
   "id": "10533026",
   "metadata": {},
   "source": [
    "###### Q13. 아래를 완성하여 2를 출력하세요."
   ]
  },
  {
   "cell_type": "code",
   "execution_count": 16,
   "id": "7b5848cb",
   "metadata": {},
   "outputs": [
    {
     "data": {
      "text/plain": [
       "2"
      ]
     },
     "execution_count": 16,
     "metadata": {},
     "output_type": "execute_result"
    }
   ],
   "source": [
    "a = 3\n",
    "def vartest(a):\n",
    "    a -= 1\n",
    "    return a\n",
    "\n",
    "vartest(a)"
   ]
  },
  {
   "cell_type": "markdown",
   "id": "97c200e8",
   "metadata": {},
   "source": [
    "###### Q14. 데이터를 입력하지 않으면 종료되는 코딩을 수행하세요. \n",
    "- 단 반복적으로 작업을 수행할 수 있음."
   ]
  },
  {
   "cell_type": "code",
   "execution_count": 33,
   "id": "4cf6e937",
   "metadata": {},
   "outputs": [
    {
     "name": "stdout",
     "output_type": "stream",
     "text": [
      ":1\n",
      ":1\n",
      ":\n",
      "입력하신 데이터가 없어 종료합니다.\n"
     ]
    }
   ],
   "source": [
    "while True:\n",
    "    data = input(\":\")\n",
    "    if data == True:\n",
    "        print(data)\n",
    "    elif data == \"\":\n",
    "        print(\"입력하신 데이터가 없어 종료합니다.\")\n",
    "        break"
   ]
  },
  {
   "cell_type": "markdown",
   "id": "a791791e",
   "metadata": {},
   "source": [
    "###### Q15. 반복문으로 팩토리얼을 구하는 사용자 함수를 작성하고 5!, 10!를 구하세요."
   ]
  },
  {
   "cell_type": "code",
   "execution_count": 21,
   "id": "400b4d06",
   "metadata": {},
   "outputs": [
    {
     "name": "stdout",
     "output_type": "stream",
     "text": [
      "5! = 120\n",
      "10! = 3628800\n"
     ]
    }
   ],
   "source": [
    "def fact(n):\n",
    "    fact =1\n",
    "    for i in range(1,n+1):\n",
    "        fact = fact * i\n",
    "    return print(\"%d! = %d\"%(n,fact))\n",
    "\n",
    "fact(5)\n",
    "fact(10)"
   ]
  },
  {
   "cell_type": "markdown",
   "id": "d198e393",
   "metadata": {},
   "source": [
    "###### Q16. 재귀란 '자기자신을 호출하는 것'을 의미한다. \n",
    "_재귀함수를 이용해서 팩토리얼을 구하는 사용자 함수를  작성하고 1!, 5!, 10!를 구하세요._\n",
    "- factorial(n) = n * factorial(n-1) (n >= 1)"
   ]
  },
  {
   "cell_type": "code",
   "execution_count": 22,
   "id": "ae18a321",
   "metadata": {},
   "outputs": [
    {
     "data": {
      "text/plain": [
       "120"
      ]
     },
     "execution_count": 22,
     "metadata": {},
     "output_type": "execute_result"
    }
   ],
   "source": [
    "def factorial(n):\n",
    "    if n == 1:\n",
    "        return 1\n",
    "    else:\n",
    "        return n*factorial(n-1)\n",
    "\n",
    "factorial(5)\n"
   ]
  },
  {
   "cell_type": "markdown",
   "id": "99f54c4d",
   "metadata": {},
   "source": [
    "###### Q17 원의 면적과 둘레의 길이를 구하는 사용자 함수를 작성하여 반지름이 5와 10일때  면적과 둘레를 구하세요"
   ]
  },
  {
   "cell_type": "code",
   "execution_count": 43,
   "id": "a8b88b0b",
   "metadata": {},
   "outputs": [
    {
     "name": "stdout",
     "output_type": "stream",
     "text": [
      "원의 면적: 78.54 , 원의 둘레: 31.42\n",
      "원의 면적: 314.16 , 원의 둘레: 62.83\n"
     ]
    }
   ],
   "source": [
    "def find_circle_area_and_round(r):\n",
    "    import math\n",
    "    circle_area = r ** 2 * math.pi\n",
    "    circle_round = 2 * r * math.pi\n",
    "    return \"원의 면적: {:0.2f} , 원의 둘레: {:0.2f}\".format(circle_area,circle_round)\n",
    "print(find_circle_area_and_round(5))\n",
    "print(find_circle_area_and_round(10))"
   ]
  },
  {
   "cell_type": "markdown",
   "id": "15dbc548",
   "metadata": {},
   "source": [
    "###### Q18. '안녕!'을 10번 출력하는 사용자 함수를 작성하여 실행하세요."
   ]
  },
  {
   "cell_type": "code",
   "execution_count": 24,
   "id": "6ef871fd",
   "metadata": {},
   "outputs": [
    {
     "name": "stdout",
     "output_type": "stream",
     "text": [
      "안녕!\n",
      "안녕!\n",
      "안녕!\n",
      "안녕!\n",
      "안녕!\n",
      "안녕!\n",
      "안녕!\n",
      "안녕!\n",
      "안녕!\n",
      "안녕!\n"
     ]
    }
   ],
   "source": [
    "def say_hello():\n",
    "    for i in range(10):\n",
    "        print(\"안녕!\")\n",
    "say_hello()"
   ]
  },
  {
   "cell_type": "markdown",
   "id": "d70f3307",
   "metadata": {},
   "source": [
    "###### Q19. 내장함수를 이용하여 [1,2,3,4,5]을 [1.0, 2.0, 3.0, 4.0, 5.0]로 변환하세요."
   ]
  },
  {
   "cell_type": "code",
   "execution_count": 25,
   "id": "5e9699c8",
   "metadata": {},
   "outputs": [
    {
     "name": "stdout",
     "output_type": "stream",
     "text": [
      "[1.0, 2.0, 3.0, 4.0, 5.0]\n"
     ]
    }
   ],
   "source": [
    "a = [1,2,3,4,5]\n",
    "a = list(map(float,list(a)))\n",
    "print(a)"
   ]
  },
  {
   "cell_type": "markdown",
   "id": "b45a79d4",
   "metadata": {},
   "source": [
    "###### Q20. 내장함수 map()를 이용하여 [1,2,3,4,5]을 [1, 4, 9, 16, 25]로 변환하세요"
   ]
  },
  {
   "cell_type": "code",
   "execution_count": 55,
   "id": "80fe9f90",
   "metadata": {},
   "outputs": [
    {
     "name": "stdout",
     "output_type": "stream",
     "text": [
      "[1, 4, 9, 16, 25]\n"
     ]
    }
   ],
   "source": [
    "a = [1,2,3,4,5]\n",
    "a = list(map(lambda i : i ** 2, a))\n",
    "print(a)"
   ]
  },
  {
   "cell_type": "code",
   "execution_count": 16,
   "id": "37b91733",
   "metadata": {},
   "outputs": [
    {
     "data": {
      "text/plain": [
       "tuple"
      ]
     },
     "execution_count": 16,
     "metadata": {},
     "output_type": "execute_result"
    }
   ],
   "source": [
    "a =(1,)\n",
    "type(a)"
   ]
  },
  {
   "cell_type": "code",
   "execution_count": null,
   "id": "73012ed8",
   "metadata": {},
   "outputs": [],
   "source": []
  }
 ],
 "metadata": {
  "kernelspec": {
   "display_name": "Python 3",
   "language": "python",
   "name": "python3"
  },
  "language_info": {
   "codemirror_mode": {
    "name": "ipython",
    "version": 3
   },
   "file_extension": ".py",
   "mimetype": "text/x-python",
   "name": "python",
   "nbconvert_exporter": "python",
   "pygments_lexer": "ipython3",
   "version": "3.8.10"
  }
 },
 "nbformat": 4,
 "nbformat_minor": 5
}
