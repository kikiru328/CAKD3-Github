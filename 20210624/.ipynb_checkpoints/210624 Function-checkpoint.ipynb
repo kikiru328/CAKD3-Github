{
 "cells": [
  {
   "cell_type": "markdown",
   "id": "f2b9b529",
   "metadata": {},
   "source": [
    "###### 입력값이 없고 결과값만 있는 함수"
   ]
  },
  {
   "cell_type": "code",
   "execution_count": 2,
   "id": "54ecdd4d",
   "metadata": {},
   "outputs": [
    {
     "name": "stdout",
     "output_type": "stream",
     "text": [
      "Hi\n"
     ]
    }
   ],
   "source": [
    "def say():\n",
    "    return 'Hi' #반환값 return\n",
    "\n",
    "a = say()\n",
    "print(a)"
   ]
  },
  {
   "cell_type": "markdown",
   "id": "0d74bb07",
   "metadata": {},
   "source": [
    "###### 결과값 (retrun) 없는 함수"
   ]
  },
  {
   "cell_type": "code",
   "execution_count": 4,
   "id": "6da20872",
   "metadata": {},
   "outputs": [
    {
     "name": "stdout",
     "output_type": "stream",
     "text": [
      "5\n"
     ]
    }
   ],
   "source": [
    "def add(a,b):\n",
    "    print(a + b)\n",
    "add(2,3)    "
   ]
  },
  {
   "cell_type": "markdown",
   "id": "4395ff27",
   "metadata": {},
   "source": [
    "###### 입력값 과 결과값 둘 다 없는 함수"
   ]
  },
  {
   "cell_type": "code",
   "execution_count": 5,
   "id": "f1a88916",
   "metadata": {},
   "outputs": [
    {
     "name": "stdout",
     "output_type": "stream",
     "text": [
      "Hi\n"
     ]
    }
   ],
   "source": [
    "def say():\n",
    "    print('Hi')\n",
    "say()"
   ]
  },
  {
   "cell_type": "markdown",
   "id": "78bfb7b1",
   "metadata": {},
   "source": [
    "###### 여러 개의 입력값을 받는 함수"
   ]
  },
  {
   "cell_type": "code",
   "execution_count": 8,
   "id": "324ce9cc",
   "metadata": {},
   "outputs": [
    {
     "data": {
      "text/plain": [
       "15"
      ]
     },
     "execution_count": 8,
     "metadata": {},
     "output_type": "execute_result"
    }
   ],
   "source": [
    "def sum_many(*args): #arguments : The special syntax *args in function definitions \n",
    "                     #in python is used to pass a variable number of arguments to a function. \n",
    "                    #It is used to pass a non-key worded, variable-length argument list.\n",
    "    sum = 0\n",
    "    for i in args:\n",
    "        sum += i\n",
    "    return sum\n",
    "\n",
    "sum_many(1,2,3,4,5)"
   ]
  },
  {
   "cell_type": "markdown",
   "id": "e8288b83",
   "metadata": {},
   "source": [
    "###### 함수의 반환(결과값:return)은 언제나 하나임 - 결과값으로 튜플 값 하나로 처리됨"
   ]
  },
  {
   "cell_type": "code",
   "execution_count": 9,
   "id": "eabd7c9f",
   "metadata": {},
   "outputs": [
    {
     "name": "stdout",
     "output_type": "stream",
     "text": [
      "(7, 12)\n"
     ]
    }
   ],
   "source": [
    "def add_and_mul(a,b):\n",
    "    return a + b, a * b\n",
    "result = add_and_mul(3,4)\n",
    "print(result)"
   ]
  },
  {
   "cell_type": "code",
   "execution_count": 31,
   "id": "679e73a6",
   "metadata": {},
   "outputs": [
    {
     "name": "stdout",
     "output_type": "stream",
     "text": [
      "15\n"
     ]
    },
    {
     "data": {
      "text/plain": [
       "120"
      ]
     },
     "execution_count": 31,
     "metadata": {},
     "output_type": "execute_result"
    }
   ],
   "source": [
    "#Q. add_mul()함수를 정의하여 1,2,3,4,5를 입력값으로 적용해 덧셈, 곱셈 연산을 수행\n",
    "#입력값으로 연산방법과 숫자를 입력\n",
    "\n",
    "def add_mul(a,*args):\n",
    "    if a == \"add\":\n",
    "        sum = 0\n",
    "        for i in args:\n",
    "            sum += i\n",
    "        return sum\n",
    "    if a == \"mul\":\n",
    "        mul = 1 \n",
    "        for i in args:\n",
    "            mul *= i\n",
    "        return mul\n",
    "\n",
    "def add_mul2(*args):\n",
    "    a = input(\"add/mul ?\")\n",
    "    if a == \"add\":\n",
    "        sum = 0\n",
    "        for i in args:\n",
    "            sum += i\n",
    "        return sum\n",
    "    if a == \"mul\":\n",
    "        mul = 1 \n",
    "        for i in args:\n",
    "            mul *= i\n",
    "        return mul\n",
    "    \n",
    "#강사님\n",
    "def add_mul_Answer(choice,*args):\n",
    "    if choice == 'add':\n",
    "        result = 0\n",
    "        for i in args:\n",
    "            result += i\n",
    "    elif choice == 'mul':\n",
    "        result = 1\n",
    "        for i in args:\n",
    "            result *= i\n",
    "    return result\n",
    "print(add_mul('add',1,2,3,4,5))\n",
    "add_mul('mul',1,2,3,4,5)"
   ]
  },
  {
   "cell_type": "code",
   "execution_count": 42,
   "id": "70ac972b",
   "metadata": {},
   "outputs": [
    {
     "name": "stdout",
     "output_type": "stream",
     "text": [
      "5\n",
      "5 6\n"
     ]
    }
   ],
   "source": [
    "def add_and_mul(a,b):\n",
    "    return a+b\n",
    "    return a*b #Ignore\n",
    "result = add_and_mul(2,3)\n",
    "print(result)\n",
    "\n",
    "#하나의 튜플 값을 2 개의 결과값처럼 출력.\n",
    "def add_and_mul2(a,b):\n",
    "    return a+b , a*b\n",
    "result1,result2 = add_and_mul2(2,3)\n",
    "print(result1,result2)"
   ]
  },
  {
   "cell_type": "markdown",
   "id": "87824144",
   "metadata": {},
   "source": [
    "###### 문자열을 출력한다는 것과 리턴 값이 있다는 것은 전혀 다른 것이다."
   ]
  },
  {
   "cell_type": "code",
   "execution_count": 46,
   "id": "f2ebfad8",
   "metadata": {},
   "outputs": [
    {
     "name": "stdout",
     "output_type": "stream",
     "text": [
      "나의 별명은 멍청이입니다\n"
     ]
    },
    {
     "data": {
      "text/plain": [
       "'아니야!'"
      ]
     },
     "execution_count": 46,
     "metadata": {},
     "output_type": "execute_result"
    }
   ],
   "source": [
    "def say_nick(nick):\n",
    "    if nick == \"바보\":\n",
    "        return \"아니야!\"\n",
    "    print(\"나의 별명은 %s입니다\" %nick)\n",
    "    \n",
    "say_nick(\"멍청이\")\n",
    "say_nick(\"바보\")"
   ]
  },
  {
   "cell_type": "markdown",
   "id": "9e8c41bd",
   "metadata": {},
   "source": [
    "###### 입력 인수에 초기값을 미리 설정할 수 있다."
   ]
  },
  {
   "cell_type": "code",
   "execution_count": 54,
   "id": "8d27aa12",
   "metadata": {},
   "outputs": [
    {
     "ename": "SyntaxError",
     "evalue": "non-default argument follows default argument (<ipython-input-54-4660f26ccef5>, line 14)",
     "output_type": "error",
     "traceback": [
      "\u001b[1;36m  File \u001b[1;32m\"<ipython-input-54-4660f26ccef5>\"\u001b[1;36m, line \u001b[1;32m14\u001b[0m\n\u001b[1;33m    def self_introduce(name,man=True,age): #gender(man) 초기값 미리 설정\u001b[0m\n\u001b[1;37m                       ^\u001b[0m\n\u001b[1;31mSyntaxError\u001b[0m\u001b[1;31m:\u001b[0m non-default argument follows default argument\n"
     ]
    }
   ],
   "source": [
    "def self_introduce(name,age,man=True): #gender(man) 초기값 미리 설정 (반드시 뒤에 있어야함.)\n",
    "    print(\"나의 이름은 %s입니다.\" %name)\n",
    "    print(\"나이는 %d세 입니다.\" %age)\n",
    "    if man:\n",
    "        print(\"남자입니다\")\n",
    "    else:\n",
    "        print(\"여자입니다\")\n",
    "\n",
    "self_introduce(\"홍길동\",29) #man=True 로 초기값 미리 설정했으니 결과값 출력.\n",
    "self_introduce(\"홍길동\",29,True) # 같은 초기값\n",
    "self_introduce(\"홍길순\",29,False) # 초기값 설정에 대한 변경\n",
    "\n",
    "# 초기값 순서 오류 (초기값 설정시 가장 맨 뒤에 두어야함.) : error 발생\n",
    "# 초기값을 설정 인수 뒤에 초기값 설정하지 않은 입력 인수는 사용할 수 없다.\n",
    "def self_introduce(name,man=True,age): #gender(man) 초기값 미리 설정\n",
    "    print(\"나의 이름은 %s입니다.\" %name)\n",
    "    print(\"나이는 %d세 입니다.\" %age)\n",
    "    if man:\n",
    "        print(\"남자입니다\")\n",
    "    else:\n",
    "        print(\"여자입니다\")"
   ]
  },
  {
   "cell_type": "code",
   "execution_count": 69,
   "id": "2c77565a",
   "metadata": {},
   "outputs": [
    {
     "name": "stdout",
     "output_type": "stream",
     "text": [
      "첫번째 None 1\n",
      "두번째 2 1\n",
      "세번째 2\n",
      "네번째 2\n"
     ]
    }
   ],
   "source": [
    "a = 1 #힘수 밖에 있으면 전역변수(global )\n",
    "def vartest(a): #a 변수가 설정되지 않음.\n",
    "    a = a + 1\n",
    "print(\"첫번째\",vartest(1), a)\n",
    "\n",
    "\n",
    "#함수 안에서 선언된 변수의 효력 범위\n",
    "a = 1 \n",
    "def vartest(a): #a 변수가 설정되지 않음.\n",
    "    a = 1 # a 변수 설정 (지역변수)\n",
    "    return a + 1\n",
    "print('두번째',vartest(1),a)\n",
    "\n",
    "#함수 안에서 함수 밖의 변수를 변경하는 방법\n",
    "a = 1\n",
    "def vartest(a):\n",
    "    a = a + 1\n",
    "    return a  # retrun 함수를 이용해서 함수 밖의 전역변수를 받아서 사용이 가능함.\n",
    "a = vartest(a)\n",
    "print(\"세번째\", a)\n",
    "\n",
    "#global 명령어를 이용하는 방법\n",
    "a = 1\n",
    "def vartest():\n",
    "    global a  # global 함수를 이용해서 전역변수를 사용할 수 있음.\n",
    "    a = a + 1\n",
    "vartest()\n",
    "print(\"네번째\", a)"
   ]
  },
  {
   "cell_type": "markdown",
   "id": "7b438235",
   "metadata": {},
   "source": [
    "###### 파일 읽고 쓰기"
   ]
  },
  {
   "cell_type": "code",
   "execution_count": 96,
   "id": "4844321c",
   "metadata": {},
   "outputs": [
    {
     "name": "stdout",
     "output_type": "stream",
     "text": [
      "한 줄 읽어오기 1번째 줄 입니다.\n",
      "\n",
      "모든 줄 읽어오기 1번째 줄 입니다.\n",
      "\n",
      "모든 줄 읽어오기 2번째 줄 입니다.\n",
      "\n",
      "1번째 줄 입니다.\n",
      "2번째 줄 입니다.\n",
      "\n",
      "1번째 줄 입니다.\n",
      "2번째 줄 입니다.\n",
      "4번째 줄 입니다.\n",
      "5번째 줄 입니다.\n",
      "6번째 줄 입니다.\n",
      "\n",
      "파이썬을 배웁시다.\n"
     ]
    }
   ],
   "source": [
    "file = open('test1.txt','w') # 파일을 만들어서 쓰기. w : write\n",
    "file.close() # 파일 닫기\n",
    "\n",
    "# for 문 활용해서 쓰기\n",
    "file = open('test1.txt','w')\n",
    "for i in range(1,3):\n",
    "    data = '%d번째 줄 입니다.\\n' % i  # 쓸 문장 정리 (변수에 저장)\n",
    "    file.write(data) # 파일에 변수에 저장된 문장을 씀\n",
    "file.close()\n",
    "\n",
    "#읽어오기\n",
    "file = open('test1.txt','r') # r : read\n",
    "line = file.readline()\n",
    "print(\"한 줄 읽어오기\", line)\n",
    "file.close()\n",
    "\n",
    "#전체 읽어오기 (while)\n",
    "file = open('test1.txt','r')\n",
    "while True:\n",
    "    line = file.readline()\n",
    "    if not line:\n",
    "        break\n",
    "    print(\"모든 줄 읽어오기\", line)\n",
    "file.close()\n",
    "\n",
    "#file.read() 는 파일 내용 전체를 문자열로 반환한다.\n",
    "file = open('test1.txt','r')\n",
    "data = file.read()\n",
    "print(data)\n",
    "file.close()\n",
    "\n",
    "#추가하기 Append ('a')\n",
    "file = open('test1.txt','a')\n",
    "for i in range(4,7):\n",
    "    data = '%d번째 줄 입니다.\\n' %i\n",
    "    file.write(data)\n",
    "file.close()\n",
    "\n",
    "#확인 불러오기 \n",
    "file=open('test1.txt','r')\n",
    "data=file.read()\n",
    "print(data)\n",
    "file.close()\n",
    "\n",
    "#with 문과 같이 사용\n",
    "#file = open('with_text.txt','w')\n",
    "with open('with_test.txt','w') as file:   #with 문을 사용할 시 close() 를 생략 가능.\n",
    "    file.write(\"파이썬을 배웁시다.\")\n",
    "\n",
    "with open('with_test.txt','r') as file:\n",
    "    data = file.read()\n",
    "    print(data)"
   ]
  },
  {
   "cell_type": "code",
   "execution_count": 162,
   "id": "d457f858",
   "metadata": {},
   "outputs": [
    {
     "name": "stdout",
     "output_type": "stream",
     "text": [
      "배가 1만큼 고픕니다.\n",
      "\n",
      "배가 2만큼 고픕니다.\n",
      "\n",
      "for문 구성문 입니다. \n",
      "for 임의 변수 in 리스트:\n",
      "    원하는 출력 수식값 ( i = i + 1) \n",
      "\n",
      "while문 구성문 입니다. \n",
      " 변수 값\n",
      "while True:\n",
      "    무한 루프로 돌리고 싶은 수식값\n",
      "    추가적 조건 if 수식구\n",
      "break설정\n",
      "1 번째 with활용한 줄 입니다\n",
      "2 번째 with활용한 줄 입니다\n",
      "3 번째 with활용한 줄 입니다\n",
      "4 번째 with활용한 줄 입니다\n",
      "5 번째 with활용한 줄 입니다\n",
      "6번째 with활용한 줄 입니다\n",
      "7번째 with활용한 줄 입니다\n",
      "8번째 with활용한 줄 입니다\n",
      "9번째 with활용한 줄 입니다\n",
      "10번째 with활용한 줄 입니다\n",
      "\n"
     ]
    }
   ],
   "source": [
    "#예제\n",
    "file2 = open('test2.txt','w')\n",
    "for i in range(1,3):\n",
    "    data2 = '배가 %d만큼 고픕니다.\\n' %i\n",
    "    file2.write(data2)\n",
    "file2.close()\n",
    "file2 = open('test2.txt','r')\n",
    "while True:\n",
    "    line2 = file2.readline()\n",
    "    if not line2:\n",
    "        break\n",
    "    print(line2)\n",
    "file2.close()\n",
    "\n",
    "#과제\n",
    "with open(\"Assignment.txt\",'w') as file:\n",
    "    s = \"for문 구성문 입니다. \\n\"\n",
    "    l = [\"for 임의 변수 in 리스트:\\n\", \"    원하는 출력 수식값 ( i = i + 1) \\n\"]\n",
    "    t = \"\\n\"\n",
    "    w = \"while문 구성문 입니다. \\n \"\n",
    "    f = [\"변수 값\\n\",\"while True:\\n\",\"    무한 루프로 돌리고 싶은 수식값\\n\", \"    추가적 조건 if 수식구\\n\", \"break설정\"]\n",
    "\n",
    "    file.write(s)\n",
    "    file.writelines(l)\n",
    "    file.write(t)\n",
    "    file.write(w)\n",
    "    file.writelines(f)\n",
    "\n",
    "with open(\"Assignment.txt\",\"r\") as file:\n",
    "    data = file.read()\n",
    "    print(data)\n",
    "    \n",
    "    \n",
    "#with 예제\n",
    "with open(\"with_test_2.txt\",'w') as file:\n",
    "    for i in range(1,6):\n",
    "        data = \"%d 번째 with활용한 줄 입니다\\n\" %i\n",
    "        file.write(data)\n",
    "\n",
    "with open(\"with_test_2.txt\",'a') as file:\n",
    "    for i in range(6,11):\n",
    "        data = \"%d번째 with활용한 줄 입니다\\n\" %i\n",
    "        file.write(data)\n",
    "    \n",
    "with open(\"with_test_2.txt\",'r') as file:\n",
    "    data = file.read()\n",
    "    print(data)"
   ]
  },
  {
   "cell_type": "markdown",
   "id": "b5e97919",
   "metadata": {},
   "source": [
    "###### 내장함수 : 소괄호 있는 것들\n",
    "- https://docs.python.org/ko/3/library/functions.html"
   ]
  },
  {
   "cell_type": "code",
   "execution_count": 1,
   "id": "b16cdfd5",
   "metadata": {},
   "outputs": [
    {
     "name": "stdout",
     "output_type": "stream",
     "text": [
      "절대값 : abs = 3\n",
      "모두가 참? 하나라도 거짓? : all =  False\n",
      "하나라도 참? 모두가 거짓? : any =  True\n",
      "유니코드/아스키코드 : chr =  a\n",
      "11\n",
      "7 30\n",
      "요소값 개수 구하기 : len = 6 3 3\n",
      "리스트 내 요소를 하나씩 출력 : list = ['p', 'y', 't', 'h', 'o', 'n']\n",
      "튜플을 리스트로 변경 : list(튜플) = [1, 2, 3]\n",
      "range함수를 사용한 요소를 리스트로 출력 : list(range()) = [0, 1, 2, 3, 4] list(range(특정범위)) = [5, 6, 7, 8] list(range(시작,종료, 간격))= [1, 3, 5, 7, 9]\n"
     ]
    }
   ],
   "source": [
    "#값에 대한 평가\n",
    "print(\"절대값 : abs =\", abs(-3)) #absolute : 절대값\n",
    "print(\"모두가 참? 하나라도 거짓? : all = \", all([1,2,3,0])) #x가 모두 참이면 True, 거짓이 하나라도 있으면 False\n",
    "print(\"하나라도 참? 모두가 거짓? : any = \", any([1,0,0,0,0])) #x가 하나라도 참이면 True, 모두가 거짓이면 False\n",
    "\n",
    "# 아스키 코드 : 컴퓨터가 작동할 수 있게 하는 코드 \n",
    "print(\"유니코드/아스키코드 : chr = \", chr(97)) #아스키 코드 출력\n",
    "\n",
    "#lambda함수\n",
    "sum = lambda a,b : a + b\n",
    "print(sum(1,10))\n",
    "\n",
    "myList = [lambda a,b : a+b, lambda a,b:a*b]\n",
    "print(myList[0](3,4), myList[1](5,6))\n",
    "\n",
    "#len함수 Length\n",
    "print(\"요소값 개수 구하기 : len =\", len(\"python\"), len([1,2,3]), len([1,2,'a']))\n",
    "\n",
    "#list함수 list\n",
    "print(\"리스트 내 요소를 하나씩 출력 : list =\", list('python'))\n",
    "print(\"튜플을 리스트로 변경 : list(튜플) =\", list((1,2,3)))\n",
    "print(\"range함수를 사용한 요소를 리스트로 출력 : list(range()) =\", list(range(5)), \"list(range(특정범위)) =\", list(range(5,9)),\n",
    "      \"list(range(시작,종료, 간격))=\",list(range(1,10,2)))"
   ]
  },
  {
   "cell_type": "code",
   "execution_count": 149,
   "id": "eec6bc35",
   "metadata": {},
   "outputs": [
    {
     "data": {
      "text/plain": [
       "[0, -1, -2, -3, -4, -5, -6, -7, -8, -9]"
      ]
     },
     "execution_count": 149,
     "metadata": {},
     "output_type": "execute_result"
    }
   ],
   "source": [
    "list(range(0,-10,-1))"
   ]
  },
  {
   "cell_type": "markdown",
   "id": "e42620b9",
   "metadata": {},
   "source": [
    "###### 외장함수 : Import 해서 쓰는 것\n",
    "- https://yganalyst.github.io/data_handling/Py_study17/"
   ]
  },
  {
   "cell_type": "markdown",
   "id": "9e93e6be",
   "metadata": {},
   "source": [
    "- 어떤 일을 할 때 어떤 라이브러리를 사용하는지 알면 된다.\n",
    "- 전 세계의 파이썬 사용자들이 만든 유용한 프로그램을 모아 놓은 것이 바로 파이썬 라이브러리.\n",
    "- 파이썬 라이브러리는 파이썬을 설치할 때 자동으로 컴퓨터에 설치가 된다. "
   ]
  },
  {
   "cell_type": "code",
   "execution_count": 40,
   "id": "f6b023c5",
   "metadata": {},
   "outputs": [
    {
     "name": "stdout",
     "output_type": "stream",
     "text": [
      "{1: 'python', 2: 'you need'}\n",
      "\n",
      "\n",
      "C:\\tool\\envs\\cakd3;C:\\tool\\envs\\cakd3\\Library\\mingw-w64\\bin;C:\\tool\\envs\\cakd3\\Library\\usr\\bin;C:\\tool\\envs\\cakd3\\Library\\bin;C:\\tool\\envs\\cakd3\\Scripts;C:\\WINDOWS\\system32;C:\\WINDOWS;C:\\WINDOWS\\System32\\Wbem;C:\\WINDOWS\\System32\\WindowsPowerShell\\v1.0\\;C:\\WINDOWS\\System32\\OpenSSH\\;C:\\tool;C:\\tool\\Library\\mingw-w64\\bin;C:\\tool\\Library\\bin;C:\\tool\\Scripts;C:\\Users\\admin\\AppData\\Local\\Microsoft\\WindowsApps;C:\\Users\\admin\\AppData\\Local\\GitHubDesktop\\bin\n",
      "\n",
      "\n",
      "\n",
      "\n",
      "현재 폴더 위치 파악: import os // os.getcwd = C:\\Workspace\\CAKD3-Github\\20210624\n",
      "\n",
      "\n"
     ]
    },
    {
     "data": {
      "text/plain": [
       "['C:/Workspace/CAKD3-Github/20210624\\\\210624 Function.ipynb']"
      ]
     },
     "execution_count": 40,
     "metadata": {},
     "output_type": "execute_result"
    }
   ],
   "source": [
    "# 코딩 도중 저장을 할 때 binary(2진법)으로 저장하여 데이터 용량을 최소화 하는 방법 : pickle 함수 사용\n",
    "# pickle은 객체의 형태를 유지하면서 파일에 저장하고 불러올 수 있게 하는 모듈\n",
    "import pickle\n",
    "p = open('test.txt','wb') #binary로 wb를 씀\n",
    "data = {1:'python',2:'you need'}\n",
    "pickle.dump(data,p)\n",
    "p.close()\n",
    "\n",
    "import pickle\n",
    "p = open('test.txt','rb')\n",
    "data = pickle.load(p)\n",
    "print(data)\n",
    "p.close()\n",
    "\n",
    "print(\"\\n\")\n",
    "\n",
    "#os : \n",
    "import os\n",
    "print(os.environ['PATH'])\n",
    "\n",
    "print(\"\\n\")\n",
    "\n",
    "#pwd\n",
    "%pwd\n",
    "\n",
    "print(\"\\n\")\n",
    "\n",
    "#import os\n",
    "#os.chdir('C:/workspace/cakd3') : Directory 변환 가능\n",
    "#현재 폴더 위치 파악\n",
    "import os\n",
    "print(\"현재 폴더 위치 파악: import os // os.getcwd =\",os.getcwd())\n",
    "\n",
    "\n",
    "print(\"\\n\")\n",
    "#파일명 변경\n",
    "#os.rename('test.txt','test_new.txt')\n",
    "\n",
    "import glob\n",
    "glob.glob(\"C:/Workspace/CAKD3-Github/20210624/*.ipynb\")"
   ]
  },
  {
   "cell_type": "markdown",
   "id": "f09ac612",
   "metadata": {},
   "source": [
    "- 시간관련 외장함수"
   ]
  },
  {
   "cell_type": "code",
   "execution_count": 56,
   "id": "ff491a0f",
   "metadata": {},
   "outputs": [
    {
     "name": "stdout",
     "output_type": "stream",
     "text": [
      "1970.01.01 부터 지금까지 초단위로 나눴을때 : import time // time.time()  1624513795.2610817\n",
      "localtime: 시간 구조 : import time // time.localtime() time.struct_time(tm_year=2021, tm_mon=6, tm_mday=24, tm_hour=14, tm_min=49, tm_sec=55, tm_wday=3, tm_yday=175, tm_isdst=0)\n",
      "asctime: 표준 시간 구조형 : import time // time.asctime(time.localtime(time.time())) =  Thu Jun 24 14:49:55 2021\n",
      "sleep : 일정한 시간 간격을 두고 루프를 실행할 수 있음 : import time // time.sleep()\n",
      "0\n",
      "1\n",
      "2\n",
      "\n",
      "\n",
      "     June 2021\n",
      "Mo Tu We Th Fr Sa Su\n",
      "    1  2  3  4  5  6\n",
      " 7  8  9 10 11 12 13\n",
      "14 15 16 17 18 19 20\n",
      "21 22 23 24 25 26 27\n",
      "28 29 30\n",
      "달력: time.calender =  None\n",
      "\n",
      "\n",
      "요일검색(월요일을 0으로 시작): calendar.weekday = 4 금요일\n",
      "해당 달의 1일의 요일, 날수: calendar.monthrange(년,월) (1, 30) 6월1일 화요일, 총 30일\n"
     ]
    }
   ],
   "source": [
    "import time\n",
    "print(\"1970.01.01 부터 지금까지 초단위로 나눴을때 : import time // time.time() \", time.time())\n",
    "print(\"localtime: 시간 구조 : import time // time.localtime()\", time.localtime())\n",
    "print(\"asctime: 표준 시간 구조형 : import time // time.asctime(time.localtime(time.time())) = \",time.asctime(time.localtime(time.time())))\n",
    "print(\"sleep : 일정한 시간 간격을 두고 루프를 실행할 수 있음 : import time // time.sleep()\")\n",
    "import time\n",
    "for i in range(3):\n",
    "    print(i)\n",
    "    time.sleep(0.1) #0.1초 pause\n",
    "    \n",
    "print(\"\\n\")\n",
    "\n",
    "import calendar\n",
    "print(\"달력: time.calender = \",calendar.prmonth(2021,6))\n",
    "print(\"\\n\")\n",
    "print(\"요일검색(월요일을 0으로 시작): calendar.weekday =\",calendar.weekday(2021,12,31),\"금요일\")\n",
    "print(\"해당 달의 1일의 요일, 날수: calendar.monthrange(년,월)\", calendar.monthrange(2021,6),\"6월1일 화요일, 총 30일\")"
   ]
  },
  {
   "cell_type": "markdown",
   "id": "548d2ec3",
   "metadata": {},
   "source": [
    "- 브라우저 함수"
   ]
  },
  {
   "cell_type": "code",
   "execution_count": 59,
   "id": "81e4ccbb",
   "metadata": {},
   "outputs": [
    {
     "data": {
      "text/plain": [
       "True"
      ]
     },
     "execution_count": 59,
     "metadata": {},
     "output_type": "execute_result"
    }
   ],
   "source": [
    "import webbrowser\n",
    "webbrowser.open('http://google.com')"
   ]
  },
  {
   "cell_type": "markdown",
   "id": "b791772a",
   "metadata": {},
   "source": [
    "- 랜덤"
   ]
  },
  {
   "cell_type": "code",
   "execution_count": 71,
   "id": "6a6faa50",
   "metadata": {
    "collapsed": true
   },
   "outputs": [
    {
     "name": "stdout",
     "output_type": "stream",
     "text": [
      "타나님,192cm,113kg\n",
      "자카님,168cm,48kg\n",
      "라하님,158cm,69kg\n",
      "라마님,185cm,108kg\n",
      "하차님,152cm,66kg\n",
      "가아님,159cm,137kg\n",
      "가마님,174cm,62kg\n",
      "라아님,153cm,47kg\n",
      "타하님,142cm,76kg\n",
      "다바님,187cm,92kg\n",
      "아자님,166cm,128kg\n",
      "가하님,195cm,40kg\n",
      "차바님,179cm,49kg\n",
      "카라님,164cm,133kg\n",
      "사카님,159cm,56kg\n",
      "타다님,195cm,111kg\n",
      "가파님,164cm,147kg\n",
      "타다님,189cm,102kg\n",
      "하사님,189cm,95kg\n",
      "사타님,178cm,139kg\n",
      "바라님,159cm,103kg\n",
      "마사님,187cm,74kg\n",
      "라라님,196cm,81kg\n",
      "바아님,161cm,65kg\n",
      "아파님,200cm,47kg\n",
      "마카님,191cm,149kg\n",
      "파마님,145cm,45kg\n",
      "라타님,200cm,101kg\n",
      "하파님,174cm,65kg\n",
      "가하님,190cm,57kg\n",
      "카라님,149cm,146kg\n",
      "가다님,143cm,108kg\n",
      "사타님,179cm,75kg\n",
      "마마님,166cm,62kg\n",
      "라나님,189cm,114kg\n",
      "나하님,180cm,61kg\n",
      "타차님,187cm,101kg\n",
      "바타님,179cm,142kg\n",
      "라카님,161cm,144kg\n",
      "파마님,189cm,68kg\n",
      "가바님,181cm,40kg\n",
      "아카님,172cm,87kg\n",
      "가차님,145cm,78kg\n",
      "타바님,180cm,53kg\n",
      "차나님,191cm,137kg\n",
      "자자님,148cm,99kg\n",
      "파나님,199cm,119kg\n",
      "파파님,160cm,44kg\n",
      "바자님,191cm,58kg\n",
      "다파님,151cm,112kg\n",
      "마사님,150cm,55kg\n",
      "하자님,171cm,105kg\n",
      "나라님,182cm,150kg\n",
      "타하님,143cm,76kg\n",
      "가하님,146cm,84kg\n",
      "타다님,156cm,47kg\n",
      "라라님,164cm,60kg\n",
      "라자님,180cm,104kg\n",
      "자차님,175cm,84kg\n",
      "자아님,192cm,81kg\n",
      "파마님,153cm,47kg\n",
      "사아님,166cm,90kg\n",
      "바라님,173cm,49kg\n",
      "차자님,177cm,98kg\n",
      "타바님,150cm,149kg\n",
      "아나님,199cm,75kg\n",
      "카파님,158cm,49kg\n",
      "마다님,199cm,121kg\n",
      "바바님,147cm,101kg\n",
      "마사님,163cm,114kg\n",
      "가라님,156cm,67kg\n",
      "라아님,149cm,83kg\n",
      "가타님,164cm,59kg\n",
      "자차님,150cm,104kg\n",
      "가하님,153cm,63kg\n",
      "아가님,179cm,129kg\n",
      "가다님,180cm,97kg\n",
      "바바님,166cm,80kg\n",
      "가라님,142cm,147kg\n",
      "라라님,150cm,132kg\n",
      "다사님,146cm,107kg\n",
      "사하님,198cm,73kg\n",
      "차나님,148cm,75kg\n",
      "아사님,141cm,139kg\n",
      "라하님,164cm,86kg\n",
      "타카님,178cm,87kg\n",
      "사카님,148cm,82kg\n",
      "바카님,168cm,128kg\n",
      "카하님,142cm,75kg\n",
      "자파님,170cm,144kg\n",
      "가카님,184cm,103kg\n",
      "사라님,141cm,96kg\n",
      "나라님,176cm,43kg\n",
      "자파님,146cm,104kg\n",
      "마마님,144cm,135kg\n",
      "타나님,147cm,115kg\n",
      "아사님,156cm,84kg\n",
      "사사님,198cm,64kg\n",
      "차바님,182cm,66kg\n",
      "타차님,178cm,136kg\n",
      "다아님,164cm,128kg\n",
      "타사님,199cm,107kg\n",
      "사다님,149cm,53kg\n",
      "차차님,183cm,92kg\n",
      "카카님,198cm,94kg\n",
      "아라님,160cm,45kg\n",
      "다파님,157cm,103kg\n",
      "자카님,173cm,78kg\n",
      "타사님,191cm,126kg\n",
      "마라님,184cm,136kg\n",
      "다타님,196cm,120kg\n",
      "타아님,151cm,56kg\n",
      "가마님,198cm,111kg\n",
      "차하님,191cm,123kg\n",
      "하다님,163cm,49kg\n",
      "파타님,155cm,134kg\n",
      "파다님,147cm,131kg\n",
      "차카님,174cm,82kg\n",
      "다사님,186cm,103kg\n",
      "카아님,163cm,83kg\n",
      "마다님,179cm,44kg\n",
      "아사님,166cm,83kg\n",
      "사다님,167cm,43kg\n",
      "자아님,168cm,139kg\n",
      "차다님,150cm,57kg\n",
      "가나님,162cm,53kg\n",
      "바나님,180cm,48kg\n",
      "가가님,184cm,67kg\n",
      "아타님,186cm,68kg\n",
      "마파님,197cm,92kg\n",
      "파타님,178cm,91kg\n",
      "하차님,194cm,140kg\n",
      "사다님,142cm,125kg\n",
      "아타님,185cm,77kg\n",
      "타자님,184cm,85kg\n",
      "차마님,160cm,51kg\n",
      "자다님,166cm,66kg\n",
      "가카님,143cm,127kg\n",
      "자카님,142cm,99kg\n",
      "카아님,182cm,75kg\n",
      "자나님,159cm,77kg\n",
      "타아님,174cm,111kg\n",
      "다하님,173cm,48kg\n",
      "차타님,140cm,67kg\n",
      "사라님,151cm,91kg\n",
      "가마님,157cm,68kg\n",
      "마아님,145cm,148kg\n",
      "나바님,173cm,131kg\n",
      "나사님,153cm,131kg\n",
      "차자님,177cm,73kg\n",
      "타바님,173cm,148kg\n",
      "카다님,173cm,54kg\n",
      "카타님,193cm,142kg\n",
      "라아님,174cm,131kg\n",
      "타다님,180cm,107kg\n",
      "다차님,147cm,143kg\n",
      "사타님,190cm,131kg\n",
      "바마님,171cm,45kg\n",
      "타마님,148cm,92kg\n",
      "카나님,151cm,138kg\n",
      "라마님,145cm,147kg\n",
      "카아님,149cm,43kg\n",
      "바하님,151cm,41kg\n",
      "하다님,163cm,80kg\n",
      "마사님,156cm,123kg\n",
      "마마님,155cm,99kg\n",
      "마가님,140cm,87kg\n",
      "바가님,185cm,92kg\n",
      "사카님,143cm,82kg\n",
      "아아님,179cm,136kg\n",
      "타타님,186cm,91kg\n",
      "하파님,179cm,146kg\n",
      "카마님,183cm,91kg\n",
      "마카님,159cm,102kg\n",
      "바하님,181cm,138kg\n",
      "마아님,178cm,108kg\n",
      "하카님,171cm,131kg\n",
      "아아님,163cm,148kg\n",
      "가라님,194cm,136kg\n",
      "자하님,151cm,136kg\n",
      "카차님,172cm,90kg\n",
      "카사님,188cm,133kg\n",
      "카차님,192cm,102kg\n",
      "아사님,155cm,147kg\n",
      "카타님,150cm,69kg\n",
      "사가님,168cm,114kg\n",
      "라카님,165cm,62kg\n",
      "아라님,179cm,74kg\n",
      "타마님,141cm,130kg\n",
      "사라님,172cm,84kg\n",
      "자마님,166cm,149kg\n",
      "파나님,162cm,148kg\n",
      "라바님,145cm,65kg\n",
      "사파님,141cm,66kg\n",
      "다차님,177cm,80kg\n",
      "가마님,197cm,128kg\n",
      "사카님,159cm,108kg\n",
      "바카님,174cm,99kg\n",
      "하바님,184cm,69kg\n",
      "자나님,144cm,60kg\n",
      "마라님,186cm,150kg\n",
      "나가님,181cm,106kg\n",
      "마사님,152cm,127kg\n",
      "자자님,147cm,102kg\n",
      "다바님,153cm,77kg\n",
      "나다님,164cm,67kg\n",
      "타가님,151cm,83kg\n",
      "파사님,143cm,105kg\n",
      "마차님,183cm,42kg\n",
      "마바님,167cm,60kg\n",
      "아가님,188cm,143kg\n",
      "파가님,190cm,138kg\n",
      "바아님,176cm,120kg\n",
      "카가님,173cm,44kg\n",
      "파차님,156cm,40kg\n",
      "가나님,155cm,55kg\n",
      "차자님,200cm,42kg\n",
      "가마님,147cm,55kg\n",
      "하바님,162cm,56kg\n",
      "사타님,190cm,147kg\n",
      "하아님,185cm,142kg\n",
      "가아님,160cm,48kg\n",
      "라가님,151cm,114kg\n",
      "파사님,170cm,83kg\n",
      "라자님,140cm,108kg\n",
      "하마님,147cm,138kg\n",
      "라자님,157cm,93kg\n",
      "사카님,199cm,78kg\n",
      "차나님,181cm,103kg\n",
      "라사님,185cm,104kg\n",
      "나다님,152cm,79kg\n",
      "사아님,199cm,119kg\n",
      "아아님,158cm,43kg\n",
      "차타님,166cm,92kg\n",
      "타사님,174cm,96kg\n",
      "타카님,194cm,138kg\n",
      "사라님,151cm,78kg\n",
      "자바님,184cm,134kg\n",
      "차타님,177cm,66kg\n",
      "파라님,146cm,122kg\n",
      "파마님,151cm,137kg\n",
      "가하님,151cm,113kg\n",
      "아타님,148cm,106kg\n",
      "가자님,194cm,40kg\n",
      "하마님,189cm,61kg\n",
      "자나님,186cm,149kg\n",
      "나나님,166cm,71kg\n",
      "라마님,170cm,80kg\n",
      "마자님,165cm,83kg\n",
      "아차님,195cm,100kg\n",
      "타자님,198cm,53kg\n",
      "마사님,142cm,111kg\n",
      "카나님,187cm,103kg\n",
      "라하님,140cm,92kg\n",
      "타마님,192cm,129kg\n",
      "카타님,195cm,107kg\n",
      "아다님,171cm,90kg\n",
      "사아님,156cm,134kg\n",
      "아나님,154cm,100kg\n",
      "마타님,160cm,142kg\n",
      "자마님,142cm,80kg\n",
      "나바님,165cm,61kg\n",
      "자다님,193cm,64kg\n",
      "사하님,157cm,131kg\n",
      "하사님,173cm,89kg\n",
      "파파님,198cm,68kg\n",
      "가가님,187cm,105kg\n",
      "차다님,189cm,42kg\n",
      "파차님,156cm,76kg\n",
      "하아님,172cm,53kg\n",
      "마바님,175cm,114kg\n",
      "바카님,141cm,47kg\n",
      "차다님,199cm,118kg\n",
      "아타님,159cm,54kg\n",
      "카자님,161cm,111kg\n",
      "가가님,156cm,97kg\n",
      "다바님,176cm,79kg\n",
      "차차님,158cm,63kg\n",
      "파하님,174cm,138kg\n",
      "라자님,171cm,53kg\n",
      "타카님,159cm,43kg\n",
      "바마님,175cm,145kg\n",
      "바차님,183cm,150kg\n",
      "파하님,169cm,112kg\n",
      "아나님,160cm,74kg\n",
      "라카님,172cm,67kg\n",
      "차다님,162cm,121kg\n",
      "마가님,197cm,85kg\n",
      "가하님,192cm,122kg\n",
      "가카님,169cm,120kg\n",
      "가나님,172cm,68kg\n",
      "파하님,187cm,64kg\n",
      "카사님,165cm,144kg\n",
      "차하님,173cm,45kg\n",
      "사아님,196cm,84kg\n",
      "마아님,150cm,109kg\n",
      "다아님,171cm,109kg\n",
      "사다님,148cm,118kg\n",
      "나라님,197cm,115kg\n",
      "파라님,155cm,130kg\n",
      "차다님,166cm,64kg\n",
      "나바님,145cm,57kg\n",
      "파사님,192cm,88kg\n",
      "카하님,160cm,102kg\n",
      "라차님,154cm,98kg\n",
      "자카님,179cm,53kg\n",
      "가카님,154cm,41kg\n",
      "차타님,146cm,58kg\n",
      "마라님,142cm,43kg\n",
      "나아님,183cm,43kg\n",
      "차타님,191cm,78kg\n",
      "차라님,148cm,134kg\n",
      "카가님,156cm,111kg\n",
      "다라님,193cm,41kg\n",
      "바마님,163cm,145kg\n",
      "파바님,151cm,141kg\n",
      "나하님,170cm,123kg\n",
      "사아님,156cm,146kg\n",
      "나차님,185cm,112kg\n",
      "타차님,178cm,57kg\n",
      "나차님,177cm,140kg\n",
      "다차님,148cm,84kg\n",
      "하자님,195cm,43kg\n",
      "바가님,158cm,139kg\n",
      "바나님,158cm,41kg\n",
      "사바님,171cm,64kg\n",
      "가나님,178cm,41kg\n",
      "마마님,182cm,122kg\n",
      "사아님,170cm,148kg\n",
      "타자님,155cm,45kg\n",
      "아차님,200cm,41kg\n",
      "라마님,146cm,61kg\n",
      "나가님,162cm,122kg\n",
      "하바님,151cm,91kg\n",
      "사하님,175cm,84kg\n",
      "바차님,196cm,91kg\n",
      "아다님,154cm,57kg\n",
      "나카님,149cm,121kg\n",
      "가차님,173cm,40kg\n",
      "나라님,197cm,98kg\n",
      "라사님,176cm,46kg\n",
      "자차님,147cm,78kg\n",
      "하사님,150cm,73kg\n",
      "타사님,196cm,88kg\n",
      "라나님,182cm,91kg\n",
      "아마님,140cm,82kg\n",
      "나나님,140cm,93kg\n",
      "타하님,191cm,95kg\n",
      "타아님,190cm,128kg\n",
      "하타님,160cm,123kg\n",
      "라가님,197cm,121kg\n",
      "사마님,171cm,146kg\n",
      "차자님,165cm,136kg\n",
      "카하님,163cm,139kg\n",
      "사타님,166cm,102kg\n",
      "카타님,141cm,104kg\n",
      "라타님,151cm,110kg\n",
      "마가님,158cm,68kg\n",
      "차마님,192cm,124kg\n",
      "라다님,146cm,115kg\n",
      "자아님,198cm,72kg\n",
      "다마님,185cm,89kg\n",
      "타바님,172cm,149kg\n",
      "가파님,188cm,98kg\n",
      "파차님,180cm,110kg\n",
      "아타님,173cm,40kg\n",
      "자타님,165cm,112kg\n",
      "바나님,191cm,45kg\n",
      "차타님,172cm,138kg\n",
      "아가님,187cm,138kg\n",
      "하사님,149cm,89kg\n",
      "사사님,142cm,107kg\n",
      "하사님,158cm,67kg\n",
      "파사님,176cm,123kg\n",
      "파나님,181cm,62kg\n",
      "마파님,185cm,85kg\n",
      "라자님,173cm,133kg\n",
      "하자님,152cm,58kg\n",
      "다하님,185cm,113kg\n",
      "타파님,142cm,59kg\n",
      "타마님,149cm,144kg\n",
      "아아님,153cm,150kg\n",
      "아바님,167cm,105kg\n",
      "자파님,186cm,101kg\n",
      "사나님,190cm,107kg\n",
      "마차님,193cm,136kg\n",
      "타파님,171cm,144kg\n",
      "나차님,177cm,79kg\n",
      "타바님,160cm,43kg\n",
      "타파님,179cm,98kg\n",
      "나하님,189cm,141kg\n",
      "카나님,192cm,67kg\n",
      "카파님,199cm,124kg\n",
      "타아님,164cm,127kg\n",
      "라다님,142cm,92kg\n",
      "타바님,187cm,56kg\n",
      "나타님,198cm,149kg\n",
      "차나님,152cm,145kg\n",
      "마하님,192cm,85kg\n",
      "나아님,160cm,111kg\n",
      "카다님,172cm,129kg\n",
      "차다님,160cm,115kg\n",
      "마타님,192cm,55kg\n",
      "다파님,191cm,110kg\n",
      "사자님,173cm,71kg\n",
      "라나님,164cm,73kg\n",
      "카파님,176cm,116kg\n",
      "하카님,146cm,92kg\n",
      "자카님,195cm,118kg\n",
      "마가님,170cm,44kg\n",
      "라라님,181cm,125kg\n",
      "나파님,169cm,136kg\n",
      "타다님,171cm,135kg\n",
      "차파님,185cm,136kg\n",
      "자타님,177cm,62kg\n",
      "아타님,161cm,46kg\n",
      "라바님,169cm,104kg\n",
      "하나님,195cm,126kg\n",
      "가가님,194cm,124kg\n",
      "파나님,148cm,92kg\n",
      "가파님,199cm,55kg\n",
      "차자님,175cm,127kg\n",
      "하자님,180cm,125kg\n",
      "차바님,153cm,111kg\n",
      "파타님,160cm,53kg\n",
      "자타님,160cm,140kg\n",
      "타아님,164cm,133kg\n",
      "바다님,189cm,105kg\n",
      "파차님,196cm,90kg\n",
      "하아님,187cm,41kg\n",
      "자차님,179cm,108kg\n",
      "아다님,199cm,143kg\n",
      "하가님,175cm,137kg\n",
      "가가님,171cm,112kg\n",
      "차바님,173cm,95kg\n",
      "마나님,177cm,144kg\n",
      "차자님,180cm,122kg\n",
      "아아님,150cm,41kg\n",
      "마차님,199cm,111kg\n",
      "가하님,163cm,75kg\n",
      "하바님,143cm,65kg\n",
      "자카님,198cm,72kg\n",
      "차파님,169cm,89kg\n",
      "타라님,143cm,124kg\n",
      "카바님,140cm,150kg\n",
      "가파님,171cm,65kg\n",
      "파가님,165cm,123kg\n",
      "차가님,195cm,47kg\n",
      "타타님,172cm,115kg\n",
      "타다님,158cm,144kg\n",
      "나사님,144cm,70kg\n",
      "바타님,166cm,58kg\n",
      "가자님,183cm,114kg\n",
      "타나님,181cm,132kg\n",
      "다아님,156cm,71kg\n",
      "파라님,194cm,126kg\n",
      "사파님,186cm,118kg\n",
      "사자님,185cm,83kg\n",
      "타카님,165cm,149kg\n",
      "다파님,156cm,53kg\n",
      "카차님,187cm,149kg\n",
      "파아님,146cm,143kg\n",
      "마타님,180cm,117kg\n",
      "라카님,183cm,66kg\n",
      "마차님,161cm,93kg\n",
      "마차님,147cm,137kg\n",
      "라카님,155cm,56kg\n",
      "하하님,161cm,142kg\n",
      "차차님,196cm,89kg\n",
      "라타님,165cm,70kg\n",
      "자다님,177cm,96kg\n",
      "자하님,169cm,86kg\n",
      "라하님,167cm,97kg\n",
      "하차님,146cm,108kg\n",
      "자바님,180cm,44kg\n",
      "하하님,177cm,116kg\n",
      "마사님,186cm,61kg\n",
      "가타님,172cm,73kg\n",
      "마라님,197cm,107kg\n",
      "타다님,191cm,127kg\n",
      "사카님,149cm,46kg\n",
      "사나님,189cm,100kg\n",
      "바타님,160cm,93kg\n",
      "사사님,156cm,119kg\n",
      "차다님,149cm,84kg\n",
      "파타님,161cm,105kg\n",
      "카사님,193cm,41kg\n",
      "카파님,156cm,48kg\n",
      "파바님,191cm,92kg\n",
      "타파님,170cm,135kg\n",
      "차라님,192cm,150kg\n",
      "사하님,165cm,106kg\n",
      "바바님,164cm,49kg\n",
      "카나님,154cm,95kg\n",
      "나바님,174cm,114kg\n",
      "나파님,157cm,51kg\n",
      "라마님,154cm,128kg\n",
      "나카님,171cm,74kg\n",
      "타자님,199cm,114kg\n",
      "가바님,178cm,131kg\n",
      "사바님,153cm,106kg\n",
      "마마님,195cm,108kg\n",
      "카자님,190cm,125kg\n",
      "라바님,140cm,86kg\n",
      "자라님,153cm,87kg\n",
      "파카님,156cm,87kg\n",
      "마차님,157cm,125kg\n",
      "나하님,145cm,56kg\n",
      "라라님,169cm,144kg\n",
      "하아님,199cm,86kg\n",
      "마타님,156cm,117kg\n",
      "아라님,169cm,141kg\n",
      "카가님,196cm,100kg\n",
      "파카님,171cm,65kg\n",
      "하파님,162cm,73kg\n",
      "자차님,150cm,148kg\n",
      "타차님,148cm,139kg\n",
      "타타님,153cm,74kg\n",
      "하마님,145cm,90kg\n",
      "가차님,165cm,112kg\n",
      "바마님,176cm,43kg\n",
      "나나님,147cm,87kg\n",
      "파파님,170cm,125kg\n",
      "차나님,171cm,150kg\n",
      "다바님,191cm,102kg\n",
      "바라님,148cm,100kg\n",
      "하라님,186cm,109kg\n",
      "마차님,198cm,44kg\n",
      "마차님,199cm,65kg\n",
      "아라님,150cm,128kg\n",
      "다바님,146cm,116kg\n",
      "마사님,199cm,102kg\n",
      "나사님,190cm,48kg\n",
      "타타님,160cm,77kg\n",
      "라차님,179cm,98kg\n",
      "타다님,145cm,87kg\n",
      "사사님,182cm,87kg\n",
      "가카님,163cm,87kg\n",
      "나가님,194cm,113kg\n",
      "라사님,177cm,102kg\n",
      "카다님,178cm,58kg\n",
      "나사님,192cm,118kg\n",
      "타파님,170cm,61kg\n",
      "아아님,177cm,143kg\n",
      "가사님,156cm,120kg\n",
      "나사님,165cm,115kg\n",
      "차마님,188cm,50kg\n",
      "타아님,174cm,128kg\n",
      "바차님,175cm,126kg\n",
      "하하님,141cm,139kg\n",
      "아파님,144cm,102kg\n",
      "사자님,141cm,84kg\n",
      "아사님,156cm,47kg\n",
      "아아님,164cm,49kg\n",
      "하카님,144cm,103kg\n",
      "다라님,198cm,116kg\n",
      "나차님,152cm,97kg\n",
      "사하님,164cm,76kg\n",
      "아사님,179cm,146kg\n",
      "아사님,170cm,52kg\n",
      "가다님,190cm,111kg\n",
      "라바님,165cm,132kg\n",
      "나하님,179cm,120kg\n",
      "사카님,196cm,72kg\n",
      "타차님,198cm,147kg\n",
      "가다님,157cm,48kg\n",
      "바다님,196cm,133kg\n",
      "카타님,149cm,140kg\n",
      "차가님,196cm,110kg\n",
      "나가님,196cm,148kg\n",
      "가나님,183cm,40kg\n",
      "카타님,163cm,84kg\n",
      "마하님,143cm,114kg\n",
      "자다님,176cm,50kg\n",
      "차타님,162cm,77kg\n",
      "라타님,142cm,144kg\n",
      "아가님,169cm,52kg\n",
      "타자님,182cm,50kg\n",
      "하파님,189cm,141kg\n",
      "아바님,195cm,111kg\n",
      "바가님,150cm,117kg\n",
      "하마님,182cm,64kg\n",
      "바카님,161cm,64kg\n",
      "사하님,168cm,97kg\n",
      "차마님,186cm,85kg\n",
      "파다님,176cm,98kg\n",
      "파파님,183cm,94kg\n",
      "차타님,152cm,51kg\n",
      "타아님,140cm,110kg\n",
      "바라님,198cm,146kg\n",
      "아파님,173cm,77kg\n",
      "바다님,181cm,71kg\n",
      "바카님,163cm,113kg\n",
      "파라님,184cm,81kg\n",
      "차차님,169cm,44kg\n",
      "다카님,143cm,54kg\n",
      "바카님,151cm,150kg\n",
      "마바님,140cm,121kg\n",
      "가아님,144cm,133kg\n",
      "나바님,156cm,75kg\n",
      "라아님,153cm,68kg\n",
      "카파님,174cm,136kg\n",
      "라라님,188cm,98kg\n",
      "나가님,163cm,98kg\n",
      "차하님,164cm,49kg\n",
      "사다님,183cm,70kg\n",
      "바차님,186cm,82kg\n",
      "타타님,189cm,75kg\n",
      "타파님,141cm,118kg\n",
      "마하님,195cm,123kg\n",
      "자타님,173cm,121kg\n",
      "가사님,161cm,86kg\n",
      "가나님,151cm,68kg\n",
      "타바님,184cm,101kg\n",
      "라라님,162cm,140kg\n",
      "나나님,163cm,142kg\n",
      "바파님,159cm,58kg\n",
      "자자님,177cm,81kg\n",
      "라라님,188cm,111kg\n",
      "차차님,142cm,106kg\n",
      "자사님,168cm,55kg\n",
      "차나님,187cm,132kg\n",
      "자다님,181cm,87kg\n",
      "차나님,188cm,142kg\n",
      "카나님,141cm,94kg\n",
      "카아님,198cm,116kg\n",
      "라나님,186cm,79kg\n",
      "아바님,142cm,98kg\n",
      "라마님,160cm,128kg\n",
      "가나님,176cm,92kg\n",
      "라하님,194cm,147kg\n",
      "카카님,155cm,134kg\n",
      "가타님,164cm,131kg\n",
      "차차님,169cm,71kg\n",
      "하바님,174cm,144kg\n",
      "사파님,197cm,89kg\n",
      "다바님,153cm,100kg\n",
      "차바님,147cm,71kg\n",
      "마타님,193cm,45kg\n",
      "자자님,157cm,102kg\n",
      "마차님,154cm,86kg\n",
      "마마님,150cm,114kg\n",
      "마하님,199cm,97kg\n",
      "차다님,141cm,111kg\n",
      "파사님,194cm,64kg\n",
      "파다님,175cm,67kg\n",
      "하파님,159cm,93kg\n",
      "가카님,150cm,139kg\n",
      "자차님,197cm,139kg\n",
      "나자님,187cm,58kg\n",
      "하카님,175cm,131kg\n",
      "가가님,172cm,101kg\n",
      "차바님,153cm,86kg\n",
      "카바님,168cm,149kg\n",
      "하하님,148cm,109kg\n",
      "나파님,179cm,88kg\n",
      "파마님,170cm,48kg\n",
      "다하님,164cm,50kg\n",
      "아라님,158cm,101kg\n",
      "아자님,165cm,70kg\n",
      "바하님,199cm,128kg\n",
      "나아님,148cm,149kg\n",
      "라하님,198cm,56kg\n",
      "가카님,198cm,77kg\n",
      "자하님,194cm,46kg\n",
      "나마님,141cm,141kg\n",
      "카바님,191cm,105kg\n",
      "다다님,172cm,75kg\n",
      "카라님,181cm,70kg\n",
      "가카님,164cm,128kg\n",
      "가사님,197cm,127kg\n",
      "마타님,196cm,88kg\n",
      "바사님,142cm,104kg\n",
      "파다님,177cm,45kg\n",
      "카마님,155cm,120kg\n",
      "사나님,142cm,69kg\n",
      "바하님,164cm,44kg\n",
      "하사님,186cm,149kg\n",
      "다카님,162cm,146kg\n",
      "바타님,183cm,62kg\n",
      "카파님,200cm,74kg\n",
      "나마님,200cm,58kg\n",
      "마파님,174cm,104kg\n",
      "하카님,197cm,131kg\n",
      "바파님,150cm,135kg\n",
      "라카님,148cm,109kg\n",
      "라나님,166cm,60kg\n",
      "마마님,165cm,63kg\n",
      "파마님,152cm,111kg\n",
      "다하님,149cm,120kg\n",
      "자가님,184cm,51kg\n",
      "차카님,186cm,63kg\n",
      "하라님,155cm,46kg\n",
      "나카님,151cm,145kg\n",
      "타자님,178cm,106kg\n",
      "가다님,188cm,57kg\n",
      "가차님,158cm,131kg\n",
      "사다님,183cm,42kg\n",
      "자차님,196cm,69kg\n",
      "바사님,190cm,108kg\n",
      "사타님,188cm,74kg\n",
      "사하님,146cm,128kg\n",
      "차차님,160cm,56kg\n",
      "카하님,157cm,145kg\n",
      "라마님,180cm,86kg\n",
      "마하님,189cm,61kg\n",
      "파하님,200cm,58kg\n",
      "타다님,149cm,51kg\n",
      "차다님,169cm,40kg\n",
      "나사님,200cm,140kg\n",
      "바나님,191cm,137kg\n",
      "아사님,160cm,128kg\n",
      "파차님,172cm,57kg\n",
      "나카님,175cm,59kg\n",
      "하다님,166cm,70kg\n",
      "타라님,184cm,110kg\n",
      "하차님,179cm,81kg\n",
      "파아님,184cm,118kg\n",
      "마하님,192cm,63kg\n",
      "카아님,146cm,72kg\n",
      "차아님,159cm,51kg\n",
      "하카님,179cm,98kg\n",
      "파아님,186cm,109kg\n",
      "라나님,147cm,118kg\n",
      "가하님,173cm,115kg\n",
      "타나님,199cm,71kg\n",
      "타아님,166cm,95kg\n",
      "차사님,166cm,90kg\n",
      "차카님,146cm,123kg\n",
      "카나님,200cm,104kg\n",
      "카아님,170cm,130kg\n",
      "라사님,200cm,143kg\n",
      "라마님,170cm,89kg\n",
      "라카님,186cm,123kg\n",
      "바라님,157cm,127kg\n",
      "타차님,175cm,47kg\n",
      "바가님,182cm,40kg\n",
      "아타님,152cm,118kg\n",
      "자아님,193cm,86kg\n",
      "파사님,197cm,52kg\n",
      "타아님,141cm,129kg\n",
      "자라님,143cm,131kg\n",
      "아타님,174cm,77kg\n",
      "파카님,173cm,45kg\n",
      "사차님,145cm,57kg\n",
      "아마님,152cm,118kg\n",
      "마사님,182cm,96kg\n",
      "아타님,162cm,131kg\n",
      "카라님,170cm,129kg\n",
      "가마님,142cm,127kg\n",
      "차바님,166cm,70kg\n",
      "라아님,165cm,43kg\n",
      "가라님,152cm,91kg\n",
      "라카님,160cm,97kg\n",
      "마아님,147cm,50kg\n",
      "나카님,148cm,145kg\n",
      "타차님,141cm,133kg\n",
      "아차님,190cm,128kg\n",
      "아파님,176cm,139kg\n",
      "사마님,184cm,85kg\n",
      "사하님,178cm,88kg\n",
      "카마님,143cm,70kg\n",
      "파파님,197cm,119kg\n",
      "가하님,169cm,65kg\n",
      "하사님,193cm,64kg\n",
      "바차님,196cm,80kg\n",
      "타라님,154cm,46kg\n",
      "나마님,198cm,73kg\n",
      "카가님,177cm,56kg\n",
      "아파님,166cm,92kg\n",
      "하바님,159cm,106kg\n",
      "하카님,157cm,123kg\n",
      "나라님,199cm,128kg\n",
      "차라님,147cm,132kg\n",
      "라아님,161cm,60kg\n",
      "자카님,141cm,123kg\n",
      "다나님,174cm,64kg\n",
      "파아님,141cm,107kg\n",
      "차하님,176cm,103kg\n",
      "아아님,191cm,63kg\n",
      "사자님,169cm,86kg\n",
      "카나님,144cm,78kg\n",
      "사바님,148cm,99kg\n",
      "사차님,172cm,137kg\n",
      "가차님,195cm,132kg\n",
      "하라님,142cm,75kg\n",
      "나하님,171cm,120kg\n",
      "아파님,199cm,88kg\n",
      "나자님,161cm,92kg\n",
      "하사님,178cm,121kg\n",
      "가파님,151cm,66kg\n",
      "다타님,169cm,123kg\n",
      "마사님,152cm,145kg\n",
      "자라님,154cm,102kg\n",
      "파라님,166cm,57kg\n",
      "차가님,179cm,95kg\n",
      "하아님,180cm,120kg\n",
      "바나님,165cm,139kg\n",
      "나라님,194cm,114kg\n",
      "자카님,158cm,76kg\n",
      "마다님,181cm,115kg\n",
      "나바님,188cm,44kg\n",
      "파하님,144cm,118kg\n",
      "사아님,187cm,107kg\n",
      "다파님,188cm,86kg\n",
      "하바님,165cm,136kg\n",
      "라카님,195cm,142kg\n",
      "사하님,151cm,140kg\n",
      "타라님,173cm,84kg\n",
      "차다님,184cm,94kg\n",
      "라아님,168cm,99kg\n",
      "나하님,140cm,52kg\n",
      "파사님,147cm,127kg\n",
      "가다님,174cm,106kg\n",
      "차다님,177cm,88kg\n",
      "카차님,147cm,107kg\n",
      "타다님,141cm,69kg\n",
      "타라님,159cm,45kg\n",
      "카마님,154cm,142kg\n",
      "라가님,168cm,136kg\n",
      "차자님,174cm,59kg\n",
      "마바님,147cm,139kg\n",
      "차카님,181cm,144kg\n",
      "사차님,165cm,61kg\n",
      "가타님,150cm,65kg\n",
      "사다님,157cm,52kg\n",
      "차라님,162cm,98kg\n",
      "바카님,170cm,146kg\n",
      "라하님,179cm,44kg\n",
      "아가님,144cm,108kg\n",
      "마파님,167cm,51kg\n",
      "카사님,179cm,76kg\n",
      "하사님,189cm,76kg\n",
      "차카님,141cm,70kg\n",
      "자라님,196cm,58kg\n",
      "마하님,200cm,98kg\n",
      "아라님,165cm,144kg\n",
      "바마님,192cm,138kg\n",
      "가바님,197cm,97kg\n",
      "자자님,181cm,43kg\n",
      "다마님,174cm,55kg\n",
      "타카님,199cm,82kg\n",
      "사나님,168cm,104kg\n",
      "나사님,155cm,56kg\n",
      "하차님,155cm,78kg\n",
      "바타님,177cm,54kg\n",
      "차하님,188cm,121kg\n",
      "카마님,162cm,48kg\n",
      "마다님,197cm,75kg\n",
      "파라님,166cm,103kg\n",
      "하사님,195cm,89kg\n",
      "하차님,151cm,75kg\n",
      "카자님,184cm,63kg\n",
      "가바님,169cm,40kg\n",
      "사파님,181cm,143kg\n",
      "마아님,149cm,60kg\n",
      "카다님,145cm,99kg\n",
      "사가님,184cm,140kg\n",
      "파자님,158cm,98kg\n",
      "자사님,176cm,95kg\n",
      "자가님,155cm,43kg\n",
      "파가님,194cm,61kg\n",
      "바가님,145cm,131kg\n",
      "가파님,188cm,66kg\n",
      "타나님,140cm,132kg\n",
      "타라님,159cm,145kg\n",
      "차하님,155cm,62kg\n",
      "가타님,150cm,114kg\n",
      "타자님,166cm,83kg\n",
      "파다님,158cm,92kg\n",
      "가가님,189cm,85kg\n",
      "라라님,177cm,40kg\n",
      "다자님,190cm,105kg\n",
      "차하님,161cm,54kg\n",
      "마나님,176cm,49kg\n",
      "차바님,199cm,62kg\n",
      "하마님,171cm,121kg\n",
      "마자님,198cm,83kg\n",
      "타차님,200cm,59kg\n",
      "나카님,181cm,99kg\n",
      "차다님,171cm,95kg\n",
      "타파님,153cm,114kg\n",
      "라파님,200cm,100kg\n",
      "자하님,194cm,72kg\n",
      "가자님,199cm,104kg\n",
      "나바님,166cm,118kg\n",
      "아바님,171cm,88kg\n",
      "바라님,183cm,66kg\n",
      "파자님,142cm,73kg\n",
      "타카님,144cm,44kg\n",
      "타타님,182cm,103kg\n",
      "라사님,189cm,90kg\n",
      "마마님,168cm,111kg\n",
      "파아님,182cm,142kg\n",
      "파차님,195cm,40kg\n",
      "사자님,200cm,81kg\n",
      "타라님,168cm,61kg\n",
      "바마님,199cm,46kg\n",
      "가하님,168cm,149kg\n",
      "카자님,177cm,92kg\n",
      "다나님,174cm,57kg\n",
      "가아님,147cm,48kg\n",
      "자나님,182cm,101kg\n",
      "다라님,196cm,60kg\n",
      "파나님,166cm,79kg\n",
      "가하님,170cm,111kg\n",
      "타파님,142cm,53kg\n",
      "나타님,164cm,126kg\n",
      "사파님,179cm,92kg\n",
      "마차님,160cm,47kg\n",
      "파바님,183cm,56kg\n",
      "나다님,164cm,125kg\n",
      "다타님,173cm,69kg\n",
      "타타님,187cm,67kg\n",
      "마차님,149cm,131kg\n",
      "타아님,183cm,130kg\n",
      "하차님,191cm,67kg\n",
      "타파님,142cm,129kg\n",
      "마바님,183cm,81kg\n",
      "마마님,196cm,119kg\n",
      "하타님,191cm,98kg\n",
      "파바님,191cm,138kg\n",
      "차마님,193cm,44kg\n",
      "사자님,153cm,62kg\n",
      "나마님,171cm,67kg\n",
      "바사님,196cm,72kg\n",
      "자자님,143cm,103kg\n",
      "마바님,144cm,135kg\n",
      "타가님,155cm,65kg\n",
      "차자님,188cm,146kg\n",
      "차바님,192cm,40kg\n",
      "자자님,191cm,101kg\n",
      "사하님,153cm,109kg\n",
      "라라님,176cm,92kg\n",
      "사마님,170cm,135kg\n",
      "가다님,160cm,43kg\n",
      "자자님,171cm,46kg\n",
      "나나님,142cm,135kg\n",
      "마바님,152cm,131kg\n",
      "파라님,169cm,112kg\n",
      "사차님,172cm,148kg\n",
      "하파님,177cm,67kg\n",
      "카차님,173cm,43kg\n",
      "사하님,165cm,124kg\n",
      "나가님,200cm,150kg\n",
      "다바님,147cm,105kg\n",
      "나사님,183cm,125kg\n",
      "라아님,188cm,69kg\n",
      "라타님,149cm,45kg\n",
      "자나님,185cm,51kg\n",
      "바마님,159cm,118kg\n",
      "타자님,192cm,114kg\n",
      "자차님,162cm,43kg\n",
      "타파님,196cm,47kg\n",
      "파마님,165cm,83kg\n",
      "다타님,196cm,126kg\n",
      "가파님,182cm,88kg\n",
      "차자님,158cm,106kg\n",
      "파파님,145cm,40kg\n",
      "타카님,182cm,108kg\n",
      "바나님,179cm,50kg\n",
      "차타님,189cm,102kg\n",
      "하바님,165cm,113kg\n",
      "차가님,175cm,81kg\n",
      "가나님,193cm,141kg\n",
      "바카님,188cm,94kg\n",
      "다나님,164cm,57kg\n",
      "차마님,184cm,94kg\n",
      "자카님,183cm,93kg\n",
      "하파님,181cm,128kg\n",
      "자바님,154cm,98kg\n",
      "사바님,170cm,47kg\n",
      "라바님,169cm,150kg\n",
      "나파님,185cm,133kg\n",
      "나가님,191cm,84kg\n",
      "아마님,181cm,67kg\n",
      "사자님,183cm,118kg\n",
      "다타님,168cm,76kg\n",
      "하바님,173cm,141kg\n",
      "타다님,173cm,43kg\n",
      "하하님,198cm,50kg\n",
      "가나님,159cm,59kg\n",
      "마자님,196cm,115kg\n",
      "사나님,141cm,145kg\n",
      "나바님,188cm,76kg\n",
      "나나님,162cm,75kg\n",
      "바가님,198cm,90kg\n",
      "바나님,188cm,52kg\n",
      "아사님,199cm,143kg\n",
      "아나님,185cm,145kg\n",
      "카자님,144cm,54kg\n",
      "하바님,143cm,54kg\n",
      "하카님,165cm,60kg\n",
      "라타님,176cm,84kg\n",
      "나바님,141cm,95kg\n",
      "다사님,192cm,48kg\n",
      "다자님,159cm,149kg\n",
      "사하님,187cm,114kg\n",
      "나차님,146cm,116kg\n",
      "라자님,141cm,114kg\n",
      "\n"
     ]
    }
   ],
   "source": [
    "#Q. 랜덤하게 1000명의 이름, 키와 몸무게 만들기\n",
    "import random\n",
    "answer = list('가나다라마바사아자차카타파하')\n",
    "with open(\"Info_name.txt\",'w') as info_name:\n",
    "    for i in range(1000):\n",
    "        name = random.choice(answer) + random.choice(answer)\n",
    "        height = random.randrange(140,201)\n",
    "        weight = random.randrange(40,151)\n",
    "        info_name.write(\"{}님,{}cm,{}kg\\n\".format(name,height,weight))\n",
    "        \n",
    "with open(\"Info_name.txt\",\"r\") as info_name:\n",
    "    data = info_name.read()\n",
    "    print(data)"
   ]
  },
  {
   "cell_type": "markdown",
   "id": "560347b9",
   "metadata": {},
   "source": [
    "- 필터"
   ]
  },
  {
   "cell_type": "code",
   "execution_count": 16,
   "id": "32d1f00b",
   "metadata": {},
   "outputs": [
    {
     "name": "stdout",
     "output_type": "stream",
     "text": [
      "[1, 4, 9, 16, 25]\n",
      "[1, 2]\n",
      "\n",
      "\n",
      "[1, 2, 6]\n"
     ]
    }
   ],
   "source": [
    "a = [1,2,3,4,5]\n",
    "b = list(map(lambda i : i ** 2,a))\n",
    "print(b)\n",
    "c = list(filter(lambda x : x < 3, a)) #조건을 만족하는 것을 필터해주는 함수\n",
    "print(c)\n",
    "\n",
    "print(\"\\n\")\n",
    "\n",
    "#Q [1,-3,2,0,-5,6] 에서 양수만 필터링해서 출력하세요 #사용자함수 이용\n",
    "a_1=[1,-3,2,0,-5,6]\n",
    "def filt(x):\n",
    "    return x >0\n",
    "d = list(filter(filt,a_1))\n",
    "print(d)"
   ]
  },
  {
   "cell_type": "code",
   "execution_count": 33,
   "id": "60752465",
   "metadata": {},
   "outputs": [
    {
     "name": "stdout",
     "output_type": "stream",
     "text": [
      "[(1, 4), (2, 5), (3, 6)]\n",
      "[(1, 4, 7), (2, 5, 8), (3, 6, 9)]\n",
      "[('a', 'd'), ('b', 'e'), ('c', 'f')]\n"
     ]
    }
   ],
   "source": [
    "#Q. 내장함수를 이용해서 동일한 개수로 이루어진 자료형을 화살표 좌측에서 우측으로 변환하세요\n",
    "#[1,2,3],[4,5,6] -> [(1,4),(2,5),(3,6)]\n",
    "#[1,2,3],[4,5,6],[7,8,9] ->[(1,4,7),(2,5,8),(3,6,9)]\n",
    "#('abc','def') -> [('a','d'),('b','e'),('c','f')]\n",
    "\n",
    "print(list(zip([1,2,3],[4,5,6])))\n",
    "print(list(zip([1,2,3],[4,5,6],[7,8,9])))\n",
    "print(list(zip('abc','def')))"
   ]
  },
  {
   "cell_type": "code",
   "execution_count": 34,
   "id": "0d103862",
   "metadata": {},
   "outputs": [
    {
     "name": "stdout",
     "output_type": "stream",
     "text": [
      "(1, 'a')\n",
      "(2, 'b')\n",
      "(3, 'c')\n"
     ]
    }
   ],
   "source": [
    "num = [1,2,3]\n",
    "ltr = ['a','b','c']\n",
    "for pair in zip(num, ltr):\n",
    "    print(pair)"
   ]
  },
  {
   "cell_type": "code",
   "execution_count": 36,
   "id": "074e1175",
   "metadata": {
    "scrolled": true
   },
   "outputs": [
    {
     "data": {
      "text/plain": [
       "2.0"
      ]
     },
     "execution_count": 36,
     "metadata": {},
     "output_type": "execute_result"
    }
   ],
   "source": [
    "# 입력으로 들어오는 모든 수의 평균 값을 계산해 주는 함수를 작성한 후 1,2,3을 입력한 결과를 출력\n",
    "def cal_average(*args):\n",
    "    return sum(args) / len(args)\n",
    "cal_average(1,2,3)"
   ]
  },
  {
   "cell_type": "code",
   "execution_count": 38,
   "id": "11707164",
   "metadata": {},
   "outputs": [
    {
     "data": {
      "text/plain": [
       "2.0"
      ]
     },
     "execution_count": 38,
     "metadata": {},
     "output_type": "execute_result"
    }
   ],
   "source": [
    "def av(*args):\n",
    "    result = 0\n",
    "    for i in args:\n",
    "        result += i\n",
    "    return result / len(args)\n",
    "av(1,2,3)"
   ]
  },
  {
   "cell_type": "code",
   "execution_count": 5,
   "id": "64d9a5be",
   "metadata": {},
   "outputs": [
    {
     "data": {
      "text/plain": [
       "['ababa', 'aaaa', 'bar', 'ca', 'a']"
      ]
     },
     "execution_count": 5,
     "metadata": {},
     "output_type": "execute_result"
    }
   ],
   "source": [
    "# Q. strings를 문자의 크기 순서로 내림차순 정렬하세요\n",
    "strings = ['a','ca','bar','aaaa','ababa']\n",
    "strings.sort(key=len, reverse = True)\n",
    "strings"
   ]
  },
  {
   "cell_type": "code",
   "execution_count": 22,
   "id": "da1a980b",
   "metadata": {},
   "outputs": [
    {
     "data": {
      "text/plain": [
       "['card', 'bar', 'abab', 'aaaa', 'a']"
      ]
     },
     "execution_count": 22,
     "metadata": {},
     "output_type": "execute_result"
    }
   ],
   "source": [
    "string = ['a','card','bar','aaaa','abab']\n",
    "string.sort(key = lambda x: len(set(x)))   #int를 반환할 수 없는 key값에 int를 반환하려고 할때\n",
    "                                           #비슷한 경우라면 lambda 의 간편한 함수식을 이용\n",
    "string[::-1]"
   ]
  },
  {
   "cell_type": "code",
   "execution_count": 31,
   "id": "5781b372",
   "metadata": {},
   "outputs": [
    {
     "data": {
      "text/plain": [
       "['card', 'bar', 'abab', 'aaaa', 'a']"
      ]
     },
     "execution_count": 31,
     "metadata": {},
     "output_type": "execute_result"
    }
   ],
   "source": [
    "# Q. 튜플 형태인 strings를 다양한 문자가 포함된 순서로 정렬하세요\n",
    "strings = ('a','card','bar','aaaa','abab')\n",
    "lists = list(strings)\n",
    "lists.sort(key=lambda x : len(set(x)))\n",
    "lists[::-1]"
   ]
  },
  {
   "cell_type": "markdown",
   "id": "c79d4166",
   "metadata": {},
   "source": [
    "###### Module / Packages / Library\n",
    "-  Module : 특정 기능들(함수,변수,클래스 등)이 구현되어 있는 파이썬 파일(.py)\n",
    "-  Packages : Module들을 하나의 상위 폴더에 넣어놓은 것 \n",
    "              Package를 표현해 주기 위해서 __init__.py 가 존재한다\n",
    "-  Library : 여러 Module 과 Package 를 묶어 표현 함\n",
    "             Python 설치시 기본적으로 설치되는 Library를 표준 Library라고 한다.\n",
    "             외부 (3th party)에서 개발한 Module과 Package 를 묶어서 외부 Library 라고 함"
   ]
  },
  {
   "cell_type": "markdown",
   "id": "38351a05",
   "metadata": {},
   "source": [
    "###### Random 난수를 발생시키는 모듈"
   ]
  },
  {
   "cell_type": "code",
   "execution_count": 41,
   "id": "c4d9843b",
   "metadata": {},
   "outputs": [
    {
     "data": {
      "text/plain": [
       "2.7237326680497254"
      ]
     },
     "execution_count": 41,
     "metadata": {},
     "output_type": "execute_result"
    }
   ],
   "source": [
    "import random #Python standard library\n",
    "#random library 안에 randum module\n",
    "random.random() #0~1사이의 숫자를 가져온다\n",
    "random.random()*10 #random module은 조건이 따로 없으면 빈칸 밖에."
   ]
  },
  {
   "cell_type": "code",
   "execution_count": 42,
   "id": "322e3fd6",
   "metadata": {},
   "outputs": [
    {
     "data": {
      "text/plain": [
       "[4, 3, 1, 5, 2]"
      ]
     },
     "execution_count": 42,
     "metadata": {},
     "output_type": "execute_result"
    }
   ],
   "source": [
    "#Q.리스트 [1,2,3,4,5]의 항목을 무작위로 섞어서 출력하세요.\n",
    "# random library 안에 shuffle module\n",
    "data = [1,2,3,4,5]\n",
    "random.shuffle(data)\n",
    "data"
   ]
  },
  {
   "cell_type": "code",
   "execution_count": 51,
   "id": "c8198552",
   "metadata": {},
   "outputs": [
    {
     "data": {
      "text/plain": [
       "58"
      ]
     },
     "execution_count": 51,
     "metadata": {},
     "output_type": "execute_result"
    }
   ],
   "source": [
    "#Q. 1부터 100사이의 임의의 짝수를 출력하세요\n",
    "random.randrange(2,101,2)  #조건 범위내 난수 출력 (random + range = randrange)"
   ]
  },
  {
   "cell_type": "code",
   "execution_count": 53,
   "id": "3b1d4eeb",
   "metadata": {},
   "outputs": [
    {
     "data": {
      "text/plain": [
       "29"
      ]
     },
     "execution_count": 53,
     "metadata": {},
     "output_type": "execute_result"
    }
   ],
   "source": [
    "#Q. 1에서 55사이의 정수 중에서 난수값을 리턴\n",
    "random.randint(1,56) #(random + int = randint)"
   ]
  },
  {
   "cell_type": "code",
   "execution_count": 55,
   "id": "23f4253d",
   "metadata": {},
   "outputs": [
    {
     "data": {
      "text/plain": [
       "[2, 5, 7]"
      ]
     },
     "execution_count": 55,
     "metadata": {},
     "output_type": "execute_result"
    }
   ],
   "source": [
    "#Q.[1,2,3,4,5,6,7,8,9]에서 임의로 3개를 선택하여 출력하세요\n",
    "num = [1,2,3,4,5,6,7,8,9]\n",
    "random.sample(num,3) #임의 출력 (sample)"
   ]
  },
  {
   "cell_type": "markdown",
   "id": "d4f11f1c",
   "metadata": {},
   "source": [
    "###### numpy Library"
   ]
  },
  {
   "cell_type": "code",
   "execution_count": 61,
   "id": "3a2816b4",
   "metadata": {},
   "outputs": [
    {
     "data": {
      "text/plain": [
       "array([[3, 5],\n",
       "       [8, 4],\n",
       "       [1, 8],\n",
       "       [8, 8],\n",
       "       [5, 0]])"
      ]
     },
     "execution_count": 61,
     "metadata": {},
     "output_type": "execute_result"
    }
   ],
   "source": [
    "import numpy as np\n",
    "np.random.randint(10,size=(5,2)) #수열표시 가능"
   ]
  },
  {
   "cell_type": "code",
   "execution_count": null,
   "id": "7655e104",
   "metadata": {},
   "outputs": [],
   "source": []
  },
  {
   "cell_type": "code",
   "execution_count": null,
   "id": "53e22550",
   "metadata": {},
   "outputs": [],
   "source": []
  },
  {
   "cell_type": "code",
   "execution_count": null,
   "id": "3cd52b29",
   "metadata": {},
   "outputs": [],
   "source": []
  },
  {
   "cell_type": "code",
   "execution_count": null,
   "id": "685cb4d0",
   "metadata": {},
   "outputs": [],
   "source": []
  },
  {
   "cell_type": "code",
   "execution_count": null,
   "id": "fe214740",
   "metadata": {},
   "outputs": [],
   "source": []
  },
  {
   "cell_type": "code",
   "execution_count": null,
   "id": "e7581be8",
   "metadata": {},
   "outputs": [],
   "source": []
  },
  {
   "cell_type": "code",
   "execution_count": null,
   "id": "930f256c",
   "metadata": {},
   "outputs": [],
   "source": []
  },
  {
   "cell_type": "code",
   "execution_count": null,
   "id": "15609c57",
   "metadata": {},
   "outputs": [],
   "source": []
  },
  {
   "cell_type": "code",
   "execution_count": null,
   "id": "16ae9c90",
   "metadata": {},
   "outputs": [],
   "source": []
  },
  {
   "cell_type": "code",
   "execution_count": null,
   "id": "5803acc9",
   "metadata": {},
   "outputs": [],
   "source": []
  },
  {
   "cell_type": "code",
   "execution_count": null,
   "id": "226ffacb",
   "metadata": {},
   "outputs": [],
   "source": []
  },
  {
   "cell_type": "code",
   "execution_count": null,
   "id": "52bba58a",
   "metadata": {},
   "outputs": [],
   "source": []
  },
  {
   "cell_type": "code",
   "execution_count": null,
   "id": "48fc0117",
   "metadata": {},
   "outputs": [],
   "source": []
  },
  {
   "cell_type": "code",
   "execution_count": null,
   "id": "b2bd8c52",
   "metadata": {},
   "outputs": [],
   "source": []
  },
  {
   "cell_type": "code",
   "execution_count": null,
   "id": "0846740b",
   "metadata": {},
   "outputs": [],
   "source": []
  },
  {
   "cell_type": "code",
   "execution_count": null,
   "id": "0d408eb6",
   "metadata": {},
   "outputs": [],
   "source": []
  },
  {
   "cell_type": "code",
   "execution_count": null,
   "id": "4b506313",
   "metadata": {},
   "outputs": [],
   "source": []
  },
  {
   "cell_type": "code",
   "execution_count": null,
   "id": "85156905",
   "metadata": {},
   "outputs": [],
   "source": []
  },
  {
   "cell_type": "code",
   "execution_count": null,
   "id": "4e21562a",
   "metadata": {},
   "outputs": [],
   "source": []
  },
  {
   "cell_type": "code",
   "execution_count": null,
   "id": "4fee9f2f",
   "metadata": {},
   "outputs": [],
   "source": []
  },
  {
   "cell_type": "code",
   "execution_count": null,
   "id": "77c27c72",
   "metadata": {},
   "outputs": [],
   "source": []
  },
  {
   "cell_type": "code",
   "execution_count": null,
   "id": "f7b5b883",
   "metadata": {},
   "outputs": [],
   "source": []
  },
  {
   "cell_type": "code",
   "execution_count": null,
   "id": "8f08d659",
   "metadata": {},
   "outputs": [],
   "source": []
  },
  {
   "cell_type": "code",
   "execution_count": null,
   "id": "dca08f51",
   "metadata": {},
   "outputs": [],
   "source": []
  },
  {
   "cell_type": "code",
   "execution_count": null,
   "id": "a382ef65",
   "metadata": {},
   "outputs": [],
   "source": []
  },
  {
   "cell_type": "code",
   "execution_count": null,
   "id": "50695511",
   "metadata": {},
   "outputs": [],
   "source": []
  },
  {
   "cell_type": "code",
   "execution_count": null,
   "id": "6647b972",
   "metadata": {},
   "outputs": [],
   "source": []
  },
  {
   "cell_type": "code",
   "execution_count": null,
   "id": "29d38ad0",
   "metadata": {},
   "outputs": [],
   "source": []
  },
  {
   "cell_type": "code",
   "execution_count": null,
   "id": "f301bc10",
   "metadata": {},
   "outputs": [],
   "source": []
  },
  {
   "cell_type": "code",
   "execution_count": null,
   "id": "3de68eec",
   "metadata": {},
   "outputs": [],
   "source": []
  }
 ],
 "metadata": {
  "kernelspec": {
   "display_name": "Python 3",
   "language": "python",
   "name": "python3"
  },
  "language_info": {
   "codemirror_mode": {
    "name": "ipython",
    "version": 3
   },
   "file_extension": ".py",
   "mimetype": "text/x-python",
   "name": "python",
   "nbconvert_exporter": "python",
   "pygments_lexer": "ipython3",
   "version": "3.8.10"
  }
 },
 "nbformat": 4,
 "nbformat_minor": 5
}
