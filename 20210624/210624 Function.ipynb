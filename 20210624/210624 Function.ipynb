{
 "cells": [
  {
   "cell_type": "markdown",
   "id": "38504435",
   "metadata": {},
   "source": [
    "###### 입력값이 없고 결과값만 있는 함수"
   ]
  },
  {
   "cell_type": "code",
   "execution_count": 2,
   "id": "75957013",
   "metadata": {},
   "outputs": [
    {
     "name": "stdout",
     "output_type": "stream",
     "text": [
      "Hi\n"
     ]
    }
   ],
   "source": [
    "def say():\n",
    "    return 'Hi' #반환값 return\n",
    "\n",
    "a = say()\n",
    "print(a)"
   ]
  },
  {
   "cell_type": "markdown",
   "id": "b8d7aa08",
   "metadata": {},
   "source": [
    "###### 결과값 (retrun) 없는 함수"
   ]
  },
  {
   "cell_type": "code",
   "execution_count": 4,
   "id": "f7cca3e4",
   "metadata": {},
   "outputs": [
    {
     "name": "stdout",
     "output_type": "stream",
     "text": [
      "5\n"
     ]
    }
   ],
   "source": [
    "def add(a,b):\n",
    "    print(a + b)\n",
    "add(2,3)    "
   ]
  },
  {
   "cell_type": "markdown",
   "id": "c91a62ad",
   "metadata": {},
   "source": [
    "###### 입력값 과 결과값 둘 다 없는 함수"
   ]
  },
  {
   "cell_type": "code",
   "execution_count": 5,
   "id": "62dc8a9e",
   "metadata": {},
   "outputs": [
    {
     "name": "stdout",
     "output_type": "stream",
     "text": [
      "Hi\n"
     ]
    }
   ],
   "source": [
    "def say():\n",
    "    print('Hi')\n",
    "say()"
   ]
  },
  {
   "cell_type": "markdown",
   "id": "dc0dbce0",
   "metadata": {},
   "source": [
    "###### 여러 개의 입력값을 받는 함수"
   ]
  },
  {
   "cell_type": "code",
   "execution_count": 8,
   "id": "41a4fcdc",
   "metadata": {},
   "outputs": [
    {
     "data": {
      "text/plain": [
       "15"
      ]
     },
     "execution_count": 8,
     "metadata": {},
     "output_type": "execute_result"
    }
   ],
   "source": [
    "def sum_many(*args): #arguments : The special syntax *args in function definitions \n",
    "                     #in python is used to pass a variable number of arguments to a function. \n",
    "                    #It is used to pass a non-key worded, variable-length argument list.\n",
    "    sum = 0\n",
    "    for i in args:\n",
    "        sum += i\n",
    "    return sum\n",
    "\n",
    "sum_many(1,2,3,4,5)"
   ]
  },
  {
   "cell_type": "markdown",
   "id": "27643e8b",
   "metadata": {},
   "source": [
    "###### 함수의 반환(결과값:return)은 언제나 하나임 - 결과값으로 튜플 값 하나로 처리됨"
   ]
  },
  {
   "cell_type": "code",
   "execution_count": 9,
   "id": "4dd73e9c",
   "metadata": {},
   "outputs": [
    {
     "name": "stdout",
     "output_type": "stream",
     "text": [
      "(7, 12)\n"
     ]
    }
   ],
   "source": [
    "def add_and_mul(a,b):\n",
    "    return a + b, a * b\n",
    "result = add_and_mul(3,4)\n",
    "print(result)"
   ]
  },
  {
   "cell_type": "code",
   "execution_count": 31,
   "id": "99ff50e0",
   "metadata": {},
   "outputs": [
    {
     "name": "stdout",
     "output_type": "stream",
     "text": [
      "15\n"
     ]
    },
    {
     "data": {
      "text/plain": [
       "120"
      ]
     },
     "execution_count": 31,
     "metadata": {},
     "output_type": "execute_result"
    }
   ],
   "source": [
    "#Q. add_mul()함수를 정의하여 1,2,3,4,5를 입력값으로 적용해 덧셈, 곱셈 연산을 수행\n",
    "#입력값으로 연산방법과 숫자를 입력\n",
    "\n",
    "def add_mul(a,*args):\n",
    "    if a == \"add\":\n",
    "        sum = 0\n",
    "        for i in args:\n",
    "            sum += i\n",
    "        return sum\n",
    "    if a == \"mul\":\n",
    "        mul = 1 \n",
    "        for i in args:\n",
    "            mul *= i\n",
    "        return mul\n",
    "\n",
    "def add_mul2(*args):\n",
    "    a = input(\"add/mul ?\")\n",
    "    if a == \"add\":\n",
    "        sum = 0\n",
    "        for i in args:\n",
    "            sum += i\n",
    "        return sum\n",
    "    if a == \"mul\":\n",
    "        mul = 1 \n",
    "        for i in args:\n",
    "            mul *= i\n",
    "        return mul\n",
    "    \n",
    "#강사님\n",
    "def add_mul_Answer(choice,*args):\n",
    "    if choice == 'add':\n",
    "        result = 0\n",
    "        for i in args:\n",
    "            result += i\n",
    "    elif choice == 'mul':\n",
    "        result = 1\n",
    "        for i in args:\n",
    "            result *= i\n",
    "    return result\n",
    "print(add_mul('add',1,2,3,4,5))\n",
    "add_mul('mul',1,2,3,4,5)"
   ]
  },
  {
   "cell_type": "code",
   "execution_count": 42,
   "id": "b603f17a",
   "metadata": {},
   "outputs": [
    {
     "name": "stdout",
     "output_type": "stream",
     "text": [
      "5\n",
      "5 6\n"
     ]
    }
   ],
   "source": [
    "def add_and_mul(a,b):\n",
    "    return a+b\n",
    "    return a*b #Ignore\n",
    "result = add_and_mul(2,3)\n",
    "print(result)\n",
    "\n",
    "#하나의 튜플 값을 2 개의 결과값처럼 출력.\n",
    "def add_and_mul2(a,b):\n",
    "    return a+b , a*b\n",
    "result1,result2 = add_and_mul2(2,3)\n",
    "print(result1,result2)"
   ]
  },
  {
   "cell_type": "markdown",
   "id": "f0333027",
   "metadata": {},
   "source": [
    "###### 문자열을 출력한다는 것과 리턴 값이 있다는 것은 전혀 다른 것이다."
   ]
  },
  {
   "cell_type": "code",
   "execution_count": 46,
   "id": "3f51f09c",
   "metadata": {},
   "outputs": [
    {
     "name": "stdout",
     "output_type": "stream",
     "text": [
      "나의 별명은 멍청이입니다\n"
     ]
    },
    {
     "data": {
      "text/plain": [
       "'아니야!'"
      ]
     },
     "execution_count": 46,
     "metadata": {},
     "output_type": "execute_result"
    }
   ],
   "source": [
    "def say_nick(nick):\n",
    "    if nick == \"바보\":\n",
    "        return \"아니야!\"\n",
    "    print(\"나의 별명은 %s입니다\" %nick)\n",
    "    \n",
    "say_nick(\"멍청이\")\n",
    "say_nick(\"바보\")"
   ]
  },
  {
   "cell_type": "markdown",
   "id": "130a5ff1",
   "metadata": {},
   "source": [
    "###### 입력 인수에 초기값을 미리 설정할 수 있다."
   ]
  },
  {
   "cell_type": "code",
   "execution_count": 54,
   "id": "f0b85b64",
   "metadata": {},
   "outputs": [
    {
     "ename": "SyntaxError",
     "evalue": "non-default argument follows default argument (<ipython-input-54-4660f26ccef5>, line 14)",
     "output_type": "error",
     "traceback": [
      "\u001b[1;36m  File \u001b[1;32m\"<ipython-input-54-4660f26ccef5>\"\u001b[1;36m, line \u001b[1;32m14\u001b[0m\n\u001b[1;33m    def self_introduce(name,man=True,age): #gender(man) 초기값 미리 설정\u001b[0m\n\u001b[1;37m                       ^\u001b[0m\n\u001b[1;31mSyntaxError\u001b[0m\u001b[1;31m:\u001b[0m non-default argument follows default argument\n"
     ]
    }
   ],
   "source": [
    "def self_introduce(name,age,man=True): #gender(man) 초기값 미리 설정 (반드시 뒤에 있어야함.)\n",
    "    print(\"나의 이름은 %s입니다.\" %name)\n",
    "    print(\"나이는 %d세 입니다.\" %age)\n",
    "    if man:\n",
    "        print(\"남자입니다\")\n",
    "    else:\n",
    "        print(\"여자입니다\")\n",
    "\n",
    "self_introduce(\"홍길동\",29) #man=True 로 초기값 미리 설정했으니 결과값 출력.\n",
    "self_introduce(\"홍길동\",29,True) # 같은 초기값\n",
    "self_introduce(\"홍길순\",29,False) # 초기값 설정에 대한 변경\n",
    "\n",
    "# 초기값 순서 오류 (초기값 설정시 가장 맨 뒤에 두어야함.) : error 발생\n",
    "# 초기값을 설정 인수 뒤에 초기값 설정하지 않은 입력 인수는 사용할 수 없다.\n",
    "def self_introduce(name,man=True,age): #gender(man) 초기값 미리 설정\n",
    "    print(\"나의 이름은 %s입니다.\" %name)\n",
    "    print(\"나이는 %d세 입니다.\" %age)\n",
    "    if man:\n",
    "        print(\"남자입니다\")\n",
    "    else:\n",
    "        print(\"여자입니다\")"
   ]
  },
  {
   "cell_type": "code",
   "execution_count": 69,
   "id": "f8b475d9",
   "metadata": {},
   "outputs": [
    {
     "name": "stdout",
     "output_type": "stream",
     "text": [
      "첫번째 None 1\n",
      "두번째 2 1\n",
      "세번째 2\n",
      "네번째 2\n"
     ]
    }
   ],
   "source": [
    "a = 1 #힘수 밖에 있으면 전역변수(global )\n",
    "def vartest(a): #a 변수가 설정되지 않음.\n",
    "    a = a + 1\n",
    "print(\"첫번째\",vartest(1), a)\n",
    "\n",
    "\n",
    "#함수 안에서 선언된 변수의 효력 범위\n",
    "a = 1 \n",
    "def vartest(a): #a 변수가 설정되지 않음.\n",
    "    a = 1 # a 변수 설정 (지역변수)\n",
    "    return a + 1\n",
    "print('두번째',vartest(1),a)\n",
    "\n",
    "#함수 안에서 함수 밖의 변수를 변경하는 방법\n",
    "a = 1\n",
    "def vartest(a):\n",
    "    a = a + 1\n",
    "    return a  # retrun 함수를 이용해서 함수 밖의 전역변수를 받아서 사용이 가능함.\n",
    "a = vartest(a)\n",
    "print(\"세번째\", a)\n",
    "\n",
    "#global 명령어를 이용하는 방법\n",
    "a = 1\n",
    "def vartest():\n",
    "    global a  # global 함수를 이용해서 전역변수를 사용할 수 있음.\n",
    "    a = a + 1\n",
    "vartest()\n",
    "print(\"네번째\", a)"
   ]
  },
  {
   "cell_type": "markdown",
   "id": "cbb60fc9",
   "metadata": {},
   "source": [
    "###### 파일 읽고 쓰기"
   ]
  },
  {
   "cell_type": "code",
   "execution_count": 96,
   "id": "74c48c61",
   "metadata": {},
   "outputs": [
    {
     "name": "stdout",
     "output_type": "stream",
     "text": [
      "한 줄 읽어오기 1번째 줄 입니다.\n",
      "\n",
      "모든 줄 읽어오기 1번째 줄 입니다.\n",
      "\n",
      "모든 줄 읽어오기 2번째 줄 입니다.\n",
      "\n",
      "1번째 줄 입니다.\n",
      "2번째 줄 입니다.\n",
      "\n",
      "1번째 줄 입니다.\n",
      "2번째 줄 입니다.\n",
      "4번째 줄 입니다.\n",
      "5번째 줄 입니다.\n",
      "6번째 줄 입니다.\n",
      "\n",
      "파이썬을 배웁시다.\n"
     ]
    }
   ],
   "source": [
    "file = open('test1.txt','w') # 파일을 만들어서 쓰기. w : write\n",
    "file.close() # 파일 닫기\n",
    "\n",
    "# for 문 활용해서 쓰기\n",
    "file = open('test1.txt','w')\n",
    "for i in range(1,3):\n",
    "    data = '%d번째 줄 입니다.\\n' % i  # 쓸 문장 정리 (변수에 저장)\n",
    "    file.write(data) # 파일에 변수에 저장된 문장을 씀\n",
    "file.close()\n",
    "\n",
    "#읽어오기\n",
    "file = open('test1.txt','r') # r : read\n",
    "line = file.readline()\n",
    "print(\"한 줄 읽어오기\", line)\n",
    "file.close()\n",
    "\n",
    "#전체 읽어오기 (while)\n",
    "file = open('test1.txt','r')\n",
    "while True:\n",
    "    line = file.readline()\n",
    "    if not line:\n",
    "        break\n",
    "    print(\"모든 줄 읽어오기\", line)\n",
    "file.close()\n",
    "\n",
    "#file.read() 는 파일 내용 전체를 문자열로 반환한다.\n",
    "file = open('test1.txt','r')\n",
    "data = file.read()\n",
    "print(data)\n",
    "file.close()\n",
    "\n",
    "#추가하기 Append ('a')\n",
    "file = open('test1.txt','a')\n",
    "for i in range(4,7):\n",
    "    data = '%d번째 줄 입니다.\\n' %i\n",
    "    file.write(data)\n",
    "file.close()\n",
    "\n",
    "#확인 불러오기 \n",
    "file=open('test1.txt','r')\n",
    "data=file.read()\n",
    "print(data)\n",
    "file.close()\n",
    "\n",
    "#with 문과 같이 사용\n",
    "#file = open('with_text.txt','w')\n",
    "with open('with_test.txt','w') as file:   #with 문을 사용할 시 close() 를 생략 가능.\n",
    "    file.write(\"파이썬을 배웁시다.\")\n",
    "\n",
    "with open('with_test.txt','r') as file:\n",
    "    data = file.read()\n",
    "    print(data)"
   ]
  },
  {
   "cell_type": "code",
   "execution_count": 159,
   "id": "b7e5bca8",
   "metadata": {},
   "outputs": [
    {
     "name": "stdout",
     "output_type": "stream",
     "text": [
      "배가 1만큼 고픕니다.\n",
      "\n",
      "배가 2만큼 고픕니다.\n",
      "\n",
      "for문 구성문 입니다. \n",
      "for 임의 변수 in 리스트 \n",
      "    원하는 출력 수식값 ( i = i + 1) \n",
      "\n",
      "while문 구성문 입니다. \n",
      " 변수 값\n",
      "while True:\n",
      "    무한 루프로 돌리고 싶은 수식값\n",
      "\n",
      "1 번째 with활용한 줄 입니다\n",
      "2 번째 with활용한 줄 입니다\n",
      "3 번째 with활용한 줄 입니다\n",
      "4 번째 with활용한 줄 입니다\n",
      "5 번째 with활용한 줄 입니다\n",
      "6번째 with활용한 줄 입니다\n",
      "7번째 with활용한 줄 입니다\n",
      "8번째 with활용한 줄 입니다\n",
      "9번째 with활용한 줄 입니다\n",
      "10번째 with활용한 줄 입니다\n",
      "\n"
     ]
    }
   ],
   "source": [
    "#예제\n",
    "file2 = open('test2.txt','w')\n",
    "for i in range(1,3):\n",
    "    data2 = '배가 %d만큼 고픕니다.\\n' %i\n",
    "    file2.write(data2)\n",
    "file2.close()\n",
    "file2 = open('test2.txt','r')\n",
    "while True:\n",
    "    line2 = file2.readline()\n",
    "    if not line2:\n",
    "        break\n",
    "    print(line2)\n",
    "file2.close()\n",
    "\n",
    "#과제\n",
    "with open(\"Assignment.txt\",'w') as file:\n",
    "    s = \"for문 구성문 입니다. \\n\"\n",
    "    l = [\"for 임의 변수 in 리스트:\\n\", \"    원하는 출력 수식값 ( i = i + 1) \\n\"]\n",
    "    t = \"\\n\"\n",
    "    w = \"while문 구성문 입니다. \\n \"\n",
    "    f = [\"변수 값\\n\",\"while True:\\n\",\"    무한 루프로 돌리고 싶은 수식값\\n\", \"추가적 조건 if \\n\", \"\"]\n",
    "\n",
    "    file.write(s)\n",
    "    file.writelines(l)\n",
    "    file.write(t)\n",
    "    file.write(w)\n",
    "    file.writelines(f)\n",
    "\n",
    "with open(\"Assignment.txt\",\"r\") as file:\n",
    "    data = file.read()\n",
    "    print(data)\n",
    "    \n",
    "    \n",
    "#with 예제\n",
    "with open(\"with_test_2.txt\",'w') as file:\n",
    "    for i in range(1,6):\n",
    "        data = \"%d 번째 with활용한 줄 입니다\\n\" %i\n",
    "        file.write(data)\n",
    "\n",
    "with open(\"with_test_2.txt\",'a') as file:\n",
    "    for i in range(6,11):\n",
    "        data = \"%d번째 with활용한 줄 입니다\\n\" %i\n",
    "        file.write(data)\n",
    "    \n",
    "with open(\"with_test_2.txt\",'r') as file:\n",
    "    data = file.read()\n",
    "    print(data)"
   ]
  },
  {
   "cell_type": "markdown",
   "id": "21fb975e",
   "metadata": {},
   "source": [
    "###### 내장함수 : 소괄호 있는 것들"
   ]
  },
  {
   "cell_type": "code",
   "execution_count": 154,
   "id": "10065a68",
   "metadata": {},
   "outputs": [
    {
     "name": "stdout",
     "output_type": "stream",
     "text": [
      "절대값 : abs = 3\n",
      "모두가 참? 하나라도 거짓? : all =  False\n",
      "하나라도 참? 모두가 거짓? : any =  True\n",
      "유니코드/아스키코드 : chr =  a\n",
      "11\n",
      "7 30\n",
      "요소값 개수 구하기 : len = 6 3 3\n",
      "리스트 내 요소를 하나씩 출력 : list = ['p', 'y', 't', 'h', 'o', 'n']\n",
      "튜플을 리스트로 변경 : list(튜플) = [1, 2, 3]\n",
      "range함수를 사용한 요소를 리스트로 출력 : list(range()) = [0, 1, 2, 3, 4] list(range(특정범위)) = [5, 6, 7, 8] list(range(시작,종료,특정값))= [1, 3, 5, 7, 9]\n"
     ]
    }
   ],
   "source": [
    "#값에 대한 평가\n",
    "print(\"절대값 : abs =\", abs(-3)) #absolute : 절대값\n",
    "print(\"모두가 참? 하나라도 거짓? : all = \", all([1,2,3,0])) #x가 모두 참이면 True, 거짓이 하나라도 있으면 False\n",
    "print(\"하나라도 참? 모두가 거짓? : any = \", any([1,0,0,0,0])) #x가 하나라도 참이면 True, 모두가 거짓이면 False\n",
    "\n",
    "# 아스키 코드 : 컴퓨터가 작동할 수 있게 하는 코드 \n",
    "print(\"유니코드/아스키코드 : chr = \", chr(97)) #아스키 코드 출력\n",
    "\n",
    "#lambda함수\n",
    "sum = lambda a,b : a + b\n",
    "print(sum(1,10))\n",
    "\n",
    "myList = [lambda a,b : a+b, lambda a,b:a*b]\n",
    "print(myList[0](3,4), myList[1](5,6))\n",
    "\n",
    "#len함수 Length\n",
    "print(\"요소값 개수 구하기 : len =\", len(\"python\"), len([1,2,3]), len([1,2,'a']))\n",
    "\n",
    "#list함수 list\n",
    "print(\"리스트 내 요소를 하나씩 출력 : list =\", list('python'))\n",
    "print(\"튜플을 리스트로 변경 : list(튜플) =\", list((1,2,3)))\n",
    "print(\"range함수를 사용한 요소를 리스트로 출력 : list(range()) =\", list(range(5)), \"list(range(특정범위)) =\", list(range(5,9)),\n",
    "      \"list(range(시작,종료,특정값))=\",list(range(1,10,2)))"
   ]
  },
  {
   "cell_type": "code",
   "execution_count": 149,
   "id": "3b60001e",
   "metadata": {},
   "outputs": [
    {
     "data": {
      "text/plain": [
       "[0, -1, -2, -3, -4, -5, -6, -7, -8, -9]"
      ]
     },
     "execution_count": 149,
     "metadata": {},
     "output_type": "execute_result"
    }
   ],
   "source": [
    "list(range(0,-10,-1))"
   ]
  },
  {
   "cell_type": "code",
   "execution_count": null,
   "id": "ce599485",
   "metadata": {},
   "outputs": [],
   "source": []
  },
  {
   "cell_type": "code",
   "execution_count": null,
   "id": "aa72ee05",
   "metadata": {},
   "outputs": [],
   "source": []
  },
  {
   "cell_type": "code",
   "execution_count": null,
   "id": "4af39da1",
   "metadata": {},
   "outputs": [],
   "source": []
  }
 ],
 "metadata": {
  "kernelspec": {
   "display_name": "Python 3",
   "language": "python",
   "name": "python3"
  },
  "language_info": {
   "codemirror_mode": {
    "name": "ipython",
    "version": 3
   },
   "file_extension": ".py",
   "mimetype": "text/x-python",
   "name": "python",
   "nbconvert_exporter": "python",
   "pygments_lexer": "ipython3",
   "version": "3.8.10"
  }
 },
 "nbformat": 4,
 "nbformat_minor": 5
}
