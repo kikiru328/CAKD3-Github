{
 "cells": [
  {
   "cell_type": "markdown",
   "id": "8f496bba",
   "metadata": {},
   "source": [
    "###### 입력값이 없고 결과값만 있는 함수"
   ]
  },
  {
   "cell_type": "code",
   "execution_count": 2,
   "id": "ec5616cf",
   "metadata": {},
   "outputs": [
    {
     "name": "stdout",
     "output_type": "stream",
     "text": [
      "Hi\n"
     ]
    }
   ],
   "source": [
    "def say():\n",
    "    return 'Hi' #반환값 return\n",
    "\n",
    "a = say()\n",
    "print(a)"
   ]
  },
  {
   "cell_type": "markdown",
   "id": "7e5e4baa",
   "metadata": {},
   "source": [
    "###### 결과값 (retrun) 없는 함수"
   ]
  },
  {
   "cell_type": "code",
   "execution_count": 4,
   "id": "d4d06824",
   "metadata": {},
   "outputs": [
    {
     "name": "stdout",
     "output_type": "stream",
     "text": [
      "5\n"
     ]
    }
   ],
   "source": [
    "def add(a,b):\n",
    "    print(a + b)\n",
    "add(2,3)    "
   ]
  },
  {
   "cell_type": "markdown",
   "id": "4fe106ad",
   "metadata": {},
   "source": [
    "###### 입력값 과 결과값 둘 다 없는 함수"
   ]
  },
  {
   "cell_type": "code",
   "execution_count": 5,
   "id": "705b1bac",
   "metadata": {},
   "outputs": [
    {
     "name": "stdout",
     "output_type": "stream",
     "text": [
      "Hi\n"
     ]
    }
   ],
   "source": [
    "def say():\n",
    "    print('Hi')\n",
    "say()"
   ]
  },
  {
   "cell_type": "markdown",
   "id": "6385ad57",
   "metadata": {},
   "source": [
    "###### 여러 개의 입력값을 받는 함수"
   ]
  },
  {
   "cell_type": "code",
   "execution_count": 8,
   "id": "6885f75a",
   "metadata": {},
   "outputs": [
    {
     "data": {
      "text/plain": [
       "15"
      ]
     },
     "execution_count": 8,
     "metadata": {},
     "output_type": "execute_result"
    }
   ],
   "source": [
    "def sum_many(*args): #arguments : The special syntax *args in function definitions \n",
    "                     #in python is used to pass a variable number of arguments to a function. \n",
    "                    #It is used to pass a non-key worded, variable-length argument list.\n",
    "    sum = 0\n",
    "    for i in args:\n",
    "        sum += i\n",
    "    return sum\n",
    "\n",
    "sum_many(1,2,3,4,5)"
   ]
  },
  {
   "cell_type": "markdown",
   "id": "0099eeb5",
   "metadata": {},
   "source": [
    "###### 함수의 반환(결과값:return)은 언제나 하나임 - 결과값으로 튜플 값 하나로 처리됨"
   ]
  },
  {
   "cell_type": "code",
   "execution_count": 9,
   "id": "1565ee4c",
   "metadata": {},
   "outputs": [
    {
     "name": "stdout",
     "output_type": "stream",
     "text": [
      "(7, 12)\n"
     ]
    }
   ],
   "source": [
    "def add_and_mul(a,b):\n",
    "    return a + b, a * b\n",
    "result = add_and_mul(3,4)\n",
    "print(result)"
   ]
  },
  {
   "cell_type": "code",
   "execution_count": 31,
   "id": "ecd74a41",
   "metadata": {},
   "outputs": [
    {
     "name": "stdout",
     "output_type": "stream",
     "text": [
      "15\n"
     ]
    },
    {
     "data": {
      "text/plain": [
       "120"
      ]
     },
     "execution_count": 31,
     "metadata": {},
     "output_type": "execute_result"
    }
   ],
   "source": [
    "#Q. add_mul()함수를 정의하여 1,2,3,4,5를 입력값으로 적용해 덧셈, 곱셈 연산을 수행\n",
    "#입력값으로 연산방법과 숫자를 입력\n",
    "\n",
    "def add_mul(a,*args):\n",
    "    if a == \"add\":\n",
    "        sum = 0\n",
    "        for i in args:\n",
    "            sum += i\n",
    "        return sum\n",
    "    if a == \"mul\":\n",
    "        mul = 1 \n",
    "        for i in args:\n",
    "            mul *= i\n",
    "        return mul\n",
    "\n",
    "def add_mul2(*args):\n",
    "    a = input(\"add/mul ?\")\n",
    "    if a == \"add\":\n",
    "        sum = 0\n",
    "        for i in args:\n",
    "            sum += i\n",
    "        return sum\n",
    "    if a == \"mul\":\n",
    "        mul = 1 \n",
    "        for i in args:\n",
    "            mul *= i\n",
    "        return mul\n",
    "    \n",
    "#강사님\n",
    "def add_mul_Answer(choice,*args):\n",
    "    if choice == 'add':\n",
    "        result = 0\n",
    "        for i in args:\n",
    "            result += i\n",
    "    elif choice == 'mul':\n",
    "        result = 1\n",
    "        for i in args:\n",
    "            result *= i\n",
    "    return result\n",
    "print(add_mul('add',1,2,3,4,5))\n",
    "add_mul('mul',1,2,3,4,5)"
   ]
  },
  {
   "cell_type": "code",
   "execution_count": 42,
   "id": "a23f9a8d",
   "metadata": {},
   "outputs": [
    {
     "name": "stdout",
     "output_type": "stream",
     "text": [
      "5\n",
      "5 6\n"
     ]
    }
   ],
   "source": [
    "def add_and_mul(a,b):\n",
    "    return a+b\n",
    "    return a*b #Ignore\n",
    "result = add_and_mul(2,3)\n",
    "print(result)\n",
    "\n",
    "#하나의 튜플 값을 2 개의 결과값처럼 출력.\n",
    "def add_and_mul2(a,b):\n",
    "    return a+b , a*b\n",
    "result1,result2 = add_and_mul2(2,3)\n",
    "print(result1,result2)"
   ]
  },
  {
   "cell_type": "markdown",
   "id": "1749178a",
   "metadata": {},
   "source": [
    "###### 문자열을 출력한다는 것과 리턴 값이 있다는 것은 전혀 다른 것이다."
   ]
  },
  {
   "cell_type": "code",
   "execution_count": 46,
   "id": "09a31dc7",
   "metadata": {},
   "outputs": [
    {
     "name": "stdout",
     "output_type": "stream",
     "text": [
      "나의 별명은 멍청이입니다\n"
     ]
    },
    {
     "data": {
      "text/plain": [
       "'아니야!'"
      ]
     },
     "execution_count": 46,
     "metadata": {},
     "output_type": "execute_result"
    }
   ],
   "source": [
    "def say_nick(nick):\n",
    "    if nick == \"바보\":\n",
    "        return \"아니야!\"\n",
    "    print(\"나의 별명은 %s입니다\" %nick)\n",
    "    \n",
    "say_nick(\"멍청이\")\n",
    "say_nick(\"바보\")"
   ]
  },
  {
   "cell_type": "markdown",
   "id": "25072d28",
   "metadata": {},
   "source": [
    "###### 입력 인수에 초기값을 미리 설정할 수 있다."
   ]
  },
  {
   "cell_type": "code",
   "execution_count": 54,
   "id": "34259489",
   "metadata": {},
   "outputs": [
    {
     "ename": "SyntaxError",
     "evalue": "non-default argument follows default argument (<ipython-input-54-4660f26ccef5>, line 14)",
     "output_type": "error",
     "traceback": [
      "\u001b[1;36m  File \u001b[1;32m\"<ipython-input-54-4660f26ccef5>\"\u001b[1;36m, line \u001b[1;32m14\u001b[0m\n\u001b[1;33m    def self_introduce(name,man=True,age): #gender(man) 초기값 미리 설정\u001b[0m\n\u001b[1;37m                       ^\u001b[0m\n\u001b[1;31mSyntaxError\u001b[0m\u001b[1;31m:\u001b[0m non-default argument follows default argument\n"
     ]
    }
   ],
   "source": [
    "def self_introduce(name,age,man=True): #gender(man) 초기값 미리 설정 (반드시 뒤에 있어야함.)\n",
    "    print(\"나의 이름은 %s입니다.\" %name)\n",
    "    print(\"나이는 %d세 입니다.\" %age)\n",
    "    if man:\n",
    "        print(\"남자입니다\")\n",
    "    else:\n",
    "        print(\"여자입니다\")\n",
    "\n",
    "self_introduce(\"홍길동\",29) #man=True 로 초기값 미리 설정했으니 결과값 출력.\n",
    "self_introduce(\"홍길동\",29,True) # 같은 초기값\n",
    "self_introduce(\"홍길순\",29,False) # 초기값 설정에 대한 변경\n",
    "\n",
    "# 초기값 순서 오류 (초기값 설정시 가장 맨 뒤에 두어야함.) : error 발생\n",
    "# 초기값을 설정 인수 뒤에 초기값 설정하지 않은 입력 인수는 사용할 수 없다.\n",
    "def self_introduce(name,man=True,age): #gender(man) 초기값 미리 설정\n",
    "    print(\"나의 이름은 %s입니다.\" %name)\n",
    "    print(\"나이는 %d세 입니다.\" %age)\n",
    "    if man:\n",
    "        print(\"남자입니다\")\n",
    "    else:\n",
    "        print(\"여자입니다\")"
   ]
  },
  {
   "cell_type": "code",
   "execution_count": 69,
   "id": "a4c1e4a4",
   "metadata": {},
   "outputs": [
    {
     "name": "stdout",
     "output_type": "stream",
     "text": [
      "첫번째 None 1\n",
      "두번째 2 1\n",
      "세번째 2\n",
      "네번째 2\n"
     ]
    }
   ],
   "source": [
    "a = 1 #힘수 밖에 있으면 전역변수(global )\n",
    "def vartest(a): #a 변수가 설정되지 않음.\n",
    "    a = a + 1\n",
    "print(\"첫번째\",vartest(1), a)\n",
    "\n",
    "\n",
    "#함수 안에서 선언된 변수의 효력 범위\n",
    "a = 1 \n",
    "def vartest(a): #a 변수가 설정되지 않음.\n",
    "    a = 1 # a 변수 설정 (지역변수)\n",
    "    return a + 1\n",
    "print('두번째',vartest(1),a)\n",
    "\n",
    "#함수 안에서 함수 밖의 변수를 변경하는 방법\n",
    "a = 1\n",
    "def vartest(a):\n",
    "    a = a + 1\n",
    "    return a  # retrun 함수를 이용해서 함수 밖의 전역변수를 받아서 사용이 가능함.\n",
    "a = vartest(a)\n",
    "print(\"세번째\", a)\n",
    "\n",
    "#global 명령어를 이용하는 방법\n",
    "a = 1\n",
    "def vartest():\n",
    "    global a  # global 함수를 이용해서 전역변수를 사용할 수 있음.\n",
    "    a = a + 1\n",
    "vartest()\n",
    "print(\"네번째\", a)"
   ]
  },
  {
   "cell_type": "markdown",
   "id": "f9aa5d95",
   "metadata": {},
   "source": [
    "###### 파일 읽고 쓰기"
   ]
  },
  {
   "cell_type": "code",
   "execution_count": null,
   "id": "323e7672",
   "metadata": {},
   "outputs": [],
   "source": []
  },
  {
   "cell_type": "code",
   "execution_count": null,
   "id": "092fd060",
   "metadata": {},
   "outputs": [],
   "source": []
  },
  {
   "cell_type": "code",
   "execution_count": null,
   "id": "598a50d3",
   "metadata": {},
   "outputs": [],
   "source": []
  },
  {
   "cell_type": "code",
   "execution_count": null,
   "id": "349fda60",
   "metadata": {},
   "outputs": [],
   "source": []
  },
  {
   "cell_type": "code",
   "execution_count": null,
   "id": "af98a63c",
   "metadata": {},
   "outputs": [],
   "source": []
  },
  {
   "cell_type": "code",
   "execution_count": null,
   "id": "3b0e50dc",
   "metadata": {},
   "outputs": [],
   "source": []
  },
  {
   "cell_type": "code",
   "execution_count": null,
   "id": "e5be7859",
   "metadata": {},
   "outputs": [],
   "source": []
  },
  {
   "cell_type": "code",
   "execution_count": null,
   "id": "72f0edd7",
   "metadata": {},
   "outputs": [],
   "source": []
  },
  {
   "cell_type": "code",
   "execution_count": null,
   "id": "9fb5b0f2",
   "metadata": {},
   "outputs": [],
   "source": []
  },
  {
   "cell_type": "code",
   "execution_count": null,
   "id": "8aad683f",
   "metadata": {},
   "outputs": [],
   "source": []
  },
  {
   "cell_type": "code",
   "execution_count": null,
   "id": "b47e406b",
   "metadata": {},
   "outputs": [],
   "source": []
  }
 ],
 "metadata": {
  "kernelspec": {
   "display_name": "Python 3",
   "language": "python",
   "name": "python3"
  },
  "language_info": {
   "codemirror_mode": {
    "name": "ipython",
    "version": 3
   },
   "file_extension": ".py",
   "mimetype": "text/x-python",
   "name": "python",
   "nbconvert_exporter": "python",
   "pygments_lexer": "ipython3",
   "version": "3.8.10"
  }
 },
 "nbformat": 4,
 "nbformat_minor": 5
}
