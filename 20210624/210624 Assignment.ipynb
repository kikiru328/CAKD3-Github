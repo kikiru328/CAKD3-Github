{
 "cells": [
  {
   "cell_type": "markdown",
   "id": "557a048a",
   "metadata": {},
   "source": [
    "###### Q1. 내장함수를 이용해서 list = [0,1,2,3,4,5,6]에서 2를 삭제 후 출력하세요"
   ]
  },
  {
   "cell_type": "code",
   "execution_count": 12,
   "id": "9e33ad6c",
   "metadata": {},
   "outputs": [
    {
     "name": "stdout",
     "output_type": "stream",
     "text": [
      "[0, 1, 3, 4, 5, 6]\n"
     ]
    }
   ],
   "source": [
    "list = [0,1,2,3,4,5,6]\n",
    "list.remove(2)\n",
    "A1 = print(list)\n",
    "A1"
   ]
  },
  {
   "cell_type": "markdown",
   "id": "914dd773",
   "metadata": {},
   "source": [
    "###### Q2. 내장함수를 이용해서 list = [0.1.2.3.4.5.6]에서 모든 원소를 삭제 후 출력하세요"
   ]
  },
  {
   "cell_type": "code",
   "execution_count": 13,
   "id": "c379c11d",
   "metadata": {},
   "outputs": [
    {
     "name": "stdout",
     "output_type": "stream",
     "text": [
      "[]\n"
     ]
    }
   ],
   "source": [
    "list = [0,1,2,3,4,5,6]\n",
    "list.clear()\n",
    "A2 = print(list)\n",
    "A2"
   ]
  },
  {
   "cell_type": "markdown",
   "id": "750e2ca3",
   "metadata": {},
   "source": [
    "###### Q3. list=[0,1,2,3,4,5,6]에 3,7이 포함되어 있는 지 확인하세요"
   ]
  },
  {
   "cell_type": "code",
   "execution_count": 14,
   "id": "e6ff8e7f",
   "metadata": {},
   "outputs": [
    {
     "ename": "ValueError",
     "evalue": "3 is not in list",
     "output_type": "error",
     "traceback": [
      "\u001b[1;31m---------------------------------------------------------------------------\u001b[0m",
      "\u001b[1;31mValueError\u001b[0m                                Traceback (most recent call last)",
      "\u001b[1;32m<ipython-input-14-08e1de968ce7>\u001b[0m in \u001b[0;36m<module>\u001b[1;34m\u001b[0m\n\u001b[0;32m      1\u001b[0m \u001b[0mlist\u001b[0m \u001b[1;33m=\u001b[0m \u001b[1;33m[\u001b[0m\u001b[1;36m0\u001b[0m\u001b[1;33m,\u001b[0m\u001b[1;36m1\u001b[0m\u001b[1;33m,\u001b[0m\u001b[1;36m2\u001b[0m\u001b[1;33m,\u001b[0m\u001b[1;36m3\u001b[0m\u001b[1;33m,\u001b[0m\u001b[1;36m4\u001b[0m\u001b[1;33m,\u001b[0m\u001b[1;36m5\u001b[0m\u001b[1;33m,\u001b[0m\u001b[1;36m6\u001b[0m\u001b[1;33m]\u001b[0m\u001b[1;33m\u001b[0m\u001b[1;33m\u001b[0m\u001b[0m\n\u001b[1;32m----> 2\u001b[1;33m \u001b[0mlist\u001b[0m\u001b[1;33m.\u001b[0m\u001b[0mindex\u001b[0m\u001b[1;33m(\u001b[0m\u001b[1;36m3\u001b[0m\u001b[1;33m,\u001b[0m\u001b[1;36m7\u001b[0m\u001b[1;33m)\u001b[0m\u001b[1;33m\u001b[0m\u001b[1;33m\u001b[0m\u001b[0m\n\u001b[0m",
      "\u001b[1;31mValueError\u001b[0m: 3 is not in list"
     ]
    }
   ],
   "source": [
    "list = [0,1,2,3,4,5,6]\n",
    "list.index(3,7)"
   ]
  },
  {
   "cell_type": "markdown",
   "id": "a8c9d820",
   "metadata": {},
   "source": [
    "###### Q4. numbers 내부에 들어 있는 숫자가 몇 번 등장하는지를 출력하는 코드를 작성하세요\n",
    "- numbers = [3,6,3,5,8,2,9,7,4,3,6,3,5,8,2,9,7,4]"
   ]
  },
  {
   "cell_type": "code",
   "execution_count": null,
   "id": "5f1863bf",
   "metadata": {},
   "outputs": [],
   "source": []
  },
  {
   "cell_type": "markdown",
   "id": "83e96341",
   "metadata": {},
   "source": [
    "###### Q5. list를 [6,5,4,3,2,1,0]으로 2가지 방법으로 출력하세요\n",
    "- list = [0,1,2,3,4,5,6]"
   ]
  },
  {
   "cell_type": "code",
   "execution_count": null,
   "id": "16fa54d5",
   "metadata": {},
   "outputs": [],
   "source": []
  },
  {
   "cell_type": "markdown",
   "id": "d9ba1b6d",
   "metadata": {},
   "source": [
    "###### Q6. list = ['a', 'b', 'c']을 for문을 사용해서 아래와 같이 출력하세요.\n",
    "- 1번째는 a입니다\n",
    "- 2번째는 b입니다\n",
    "- 3번째는 c입니다"
   ]
  },
  {
   "cell_type": "code",
   "execution_count": 30,
   "id": "b1b77f29",
   "metadata": {},
   "outputs": [
    {
     "name": "stdout",
     "output_type": "stream",
     "text": [
      "1번째는 a입니다.\n",
      "\n",
      "1번째는 b입니다.\n",
      "\n",
      "1번째는 c입니다.\n",
      "\n",
      "2번째는 a입니다.\n",
      "\n",
      "2번째는 b입니다.\n",
      "\n",
      "2번째는 c입니다.\n",
      "\n",
      "3번째는 a입니다.\n",
      "\n",
      "3번째는 b입니다.\n",
      "\n",
      "3번째는 c입니다.\n",
      "\n"
     ]
    }
   ],
   "source": [
    "list = ['a', 'b', 'c']\n",
    "for j in range(1,4):\n",
    "    for i in list:\n",
    "        print(\"{}번째는 {}입니다.\\n\".format(j,i))"
   ]
  },
  {
   "cell_type": "markdown",
   "id": "09066d23",
   "metadata": {},
   "source": [
    "###### Q7. 코딩을 한 줄로 작성해서 동일한 결과를 출력하세요\n",
    "* [0,4,16,36,64,100,144,196,256,324]"
   ]
  },
  {
   "cell_type": "code",
   "execution_count": null,
   "id": "c2040060",
   "metadata": {},
   "outputs": [],
   "source": []
  }
 ],
 "metadata": {
  "kernelspec": {
   "display_name": "Python 3",
   "language": "python",
   "name": "python3"
  },
  "language_info": {
   "codemirror_mode": {
    "name": "ipython",
    "version": 3
   },
   "file_extension": ".py",
   "mimetype": "text/x-python",
   "name": "python",
   "nbconvert_exporter": "python",
   "pygments_lexer": "ipython3",
   "version": "3.8.10"
  }
 },
 "nbformat": 4,
 "nbformat_minor": 5
}
