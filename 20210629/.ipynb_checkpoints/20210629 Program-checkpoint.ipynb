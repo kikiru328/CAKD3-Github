{
 "cells": [
  {
   "cell_type": "markdown",
   "id": "a14efaf9",
   "metadata": {},
   "source": [
    "#### Q1 사용자가 입력한 게임 회수만큼 로또 번호를 출력하는 프로그램을 작성하세요."
   ]
  },
  {
   "cell_type": "code",
   "execution_count": null,
   "id": "3537a1fb",
   "metadata": {
    "scrolled": true
   },
   "outputs": [],
   "source": [
    "price = 1000\n",
    "input_price = int(input(\"금액을 입력해주세요.\"))\n",
    "play_counts = int(input_price / 1000)\n",
    "class Lottery:\n",
    "    def __init__(self):\n",
    "        self.input_price = input_price\n",
    "        print(\"넣으신 금액은 %d 이며, 총 할수 있는 게임 횟수는 %d입니다.\" %(input_price,play_counts))\n",
    "        #print(\"남은 금액은 %d입니다. 더 하시려면 %d 더 입력하세요\")\n",
    "        \n",
    "    \n",
    "    def play_lottery(self):\n",
    "        import random\n",
    "        global play_counts\n",
    "        for i in range(0, play_counts):\n",
    "            Lotto_numbers = random.sample(range(0,46),6)\n",
    "            Lotto_numbers.sort()\n",
    "            for n in range(0,play_counts):\n",
    "                n = n+1\n",
    "            print(\"로또 번호는 :\", Lotto_numbers)\n",
    "        \n",
    "#Dummy\n",
    "play = Lottery()\n",
    "play.play_lottery()"
   ]
  },
  {
   "cell_type": "markdown",
   "id": "de62c04e",
   "metadata": {},
   "source": [
    "#### Q2 남녀 파트너 정해주기 프로그램을 작성하세요"
   ]
  },
  {
   "cell_type": "code",
   "execution_count": null,
   "id": "57e0c4eb",
   "metadata": {},
   "outputs": [],
   "source": [
    "# male = ['m1','m2','m3','m4','m5']\n",
    "# female = ['f1','f2','f3','f4','f5']\n",
    "# couple_counts = int(input(\"몇 커플 생성하시겠습니까 : \"))\n",
    "# class Couple:\n",
    "#     def __init__(self):\n",
    "#         self.couple_counts = couple_counts\n",
    "        \n",
    "#     def set_couple(self):\n",
    "#         import random\n",
    "#         global male\n",
    "#         global female\n",
    "#         man_random_samples = random.sample(male,1) + random.sample(female,1)\n",
    "#         print(man_random_samples)\n",
    "# #Dummy\n",
    "# couple = Couple()\n",
    "# couple.set_couple"
   ]
  },
  {
   "cell_type": "markdown",
   "id": "aeab8a46",
   "metadata": {},
   "source": [
    "#### Q3 입력받은 문자열의 각 문자를 그 다음 문자로 변경하여 출력하세요"
   ]
  },
  {
   "cell_type": "code",
   "execution_count": null,
   "id": "32392b7e",
   "metadata": {},
   "outputs": [],
   "source": [
    "Input_string = input(\"입력하세요 :\")\n",
    "def change_string():\n",
    "    return print(Input_string[1:]+Input_string[0])\n",
    "#Dummy\n",
    "change_string()"
   ]
  },
  {
   "cell_type": "markdown",
   "id": "7201cd06",
   "metadata": {},
   "source": [
    "#### Q4 url에서 호스트 도메인을 추출하여 출력하세요"
   ]
  },
  {
   "cell_type": "code",
   "execution_count": null,
   "id": "b79943ad",
   "metadata": {},
   "outputs": [],
   "source": [
    "url = 'http://news.naver.com/main/read.nhn?mode=LSD&mid=shm&sid1=105&oid=028&aid=0002334601'\n",
    "host_clean = url.split('/')\n",
    "Host_domain = host[2]\n",
    "print(Host_domain)"
   ]
  },
  {
   "cell_type": "markdown",
   "id": "cec98d73",
   "metadata": {},
   "source": [
    "#### Q5 url 에서 쿼리문을 추출하여 출력하세요\n",
    "- url 에서 '?'뒤에 표시되는 문자열을 쿼리 문자열이라고 하며 변수=값 사이 &로 구분되어 나열된다."
   ]
  },
  {
   "cell_type": "code",
   "execution_count": null,
   "id": "b9776dcd",
   "metadata": {},
   "outputs": [],
   "source": [
    "url = 'http://news.naver.com/main/read.nhn?mode=LSD&mid=shm&sid1=105&oid=028&aid=0002334601'\n",
    "Query_url = url.split('?')[1]\n",
    "Query_url_clean = Query_url.split('&')\n",
    "Query_url_clean"
   ]
  },
  {
   "cell_type": "markdown",
   "id": "99958ea8",
   "metadata": {},
   "source": [
    "#### Q6. 텍스트 파일(mydata.txt)을 읽고  파일의 내용에서 나타나는 문자들에 대해 자주 나타나는 문자들을 아래와 같이 순서대로 출력하세요.\n",
    "- [_] -> [177]회 나타남\n",
    "- [e] -> [97]회 나타남\n",
    "- [t] -> [85]회 나타남"
   ]
  },
  {
   "cell_type": "code",
   "execution_count": null,
   "id": "08a4b900",
   "metadata": {},
   "outputs": [],
   "source": [
    "with open(\"mydata.txt\") as mydata:\n",
    "    data = mydata.read()\n",
    "print(data.count(' '))\n",
    "print(data.count('e'))\n",
    "print(data.count('t'))"
   ]
  },
  {
   "cell_type": "markdown",
   "id": "9f14e17a",
   "metadata": {},
   "source": [
    "#### Q7 mydata.txt 파일에 들어있는 단어수를 계산하여 출력하세요"
   ]
  },
  {
   "cell_type": "code",
   "execution_count": null,
   "id": "4e27449c",
   "metadata": {},
   "outputs": [],
   "source": [
    "with open(\"mydata.txt\") as mydata:\n",
    "    data = mydata.read()\n",
    "print(len(data)-data.count(' '))"
   ]
  },
  {
   "cell_type": "markdown",
   "id": "b15a365f",
   "metadata": {},
   "source": [
    "#### Q8. 사용자가 입력한 단어가 mydata.txt 파일에 포함된 개수를 계산하여 출력하세요."
   ]
  },
  {
   "cell_type": "code",
   "execution_count": null,
   "id": "461fefbc",
   "metadata": {},
   "outputs": [],
   "source": [
    "with open(\"mydata.txt\") as mydata:\n",
    "    data = mydata.read()\n",
    "input_data = input(\"찾을 단어 입력 :\")\n",
    "print(data.count(input_data))\n"
   ]
  },
  {
   "cell_type": "markdown",
   "id": "18926db5",
   "metadata": {},
   "source": [
    "#### Q9. mydata.txt파일에서 특정 단어 t1을 다른 단어 t2로 변경하여 출력하세요"
   ]
  },
  {
   "cell_type": "code",
   "execution_count": null,
   "id": "c81d154b",
   "metadata": {},
   "outputs": [],
   "source": [
    "with open(\"mydata.txt\") as mydata:\n",
    "    data = mydata.read()\n",
    "t1 = input(\"t1 : \")\n",
    "t2 = input(\"replace to :\")\n",
    "\n",
    "print(data.count(t1))\n",
    "new_data = data.replace(t1,t2)\n",
    "print(data.count(t1),data.count(t2))\n",
    "print(new_data.count(t1),new_data.count(t2))\n",
    "print(new_data)"
   ]
  },
  {
   "cell_type": "markdown",
   "id": "8dd3f4c1",
   "metadata": {},
   "source": [
    "#### Q10. 주어진 데이터에서 1880년에서 2015년까지 이름별 출생아 수를 출력하세요\n",
    "#### 연도별 출생아수\n",
    "filename = 'Data/names/yob%d.txt'%y"
   ]
  },
  {
   "cell_type": "code",
   "execution_count": 39,
   "id": "969a6b6c",
   "metadata": {},
   "outputs": [],
   "source": [
    "# filename = 'Data/names/yob%d.txt'%year\n",
    "for year in range(1880,2016):\n",
    "    year += 1\n",
    "    \n",
    "with open(\"../Data/names/yob%d.txt\"%year) as raw_data:\n",
    "    raw_data = raw_data.read()              #%y 처리\n",
    "\n",
    "#1880~2015까지 \"이름별\" 출생아 수 ==> 이름 중복이 제외되고, 수는 그대로 가야함.\n",
    "#set로 해버리면 이름 중복된 출생아 데이터 사라짐\n",
    "#우선 set로 이용해서 중복되지 않은 이름 리스트 만들고\n",
    "#중복되지 않은 이름을 for문으로 하나씩 대입해서 raw_data에 count 하면\n",
    "#문자열을 리스트로 변환시 split으로 잘라줘야 단어단위로 잘림\n",
    "# raw_data --> ','와 '\\n' 으로 자르면 될듯\n",
    "#split조건 변경해야할 듯 (무지) \\n -> ,\n",
    "# raw_data = raw_data.replace('\\n',',')\n",
    "# raw_data.split(',')\n",
    "# for i in raw_data:\n",
    "#     print(raw_data)"
   ]
  },
  {
   "cell_type": "markdown",
   "id": "ab8b82aa",
   "metadata": {},
   "source": [
    "#### Q11. 주어진 데이터에서 연도별 성별 출생아 수를 계산하여 출력하세요."
   ]
  },
  {
   "cell_type": "code",
   "execution_count": 38,
   "id": "4c55f6e8",
   "metadata": {
    "collapsed": true
   },
   "outputs": [
    {
     "name": "stdout",
     "output_type": "stream",
     "text": [
      "1880년 : 2000명\n",
      "1881년 : 1935명\n",
      "1882년 : 2127명\n",
      "1883년 : 2084명\n",
      "1884년 : 2297명\n",
      "1885년 : 2294명\n",
      "1886년 : 2392명\n",
      "1887년 : 2373명\n",
      "1888년 : 2651명\n",
      "1889년 : 2590명\n",
      "1890년 : 2695명\n",
      "1891년 : 2660명\n",
      "1892년 : 2921명\n",
      "1893년 : 2831명\n",
      "1894년 : 2941명\n",
      "1895년 : 3049명\n",
      "1896년 : 3091명\n",
      "1897년 : 3028명\n",
      "1898년 : 3264명\n",
      "1899년 : 3042명\n",
      "1900년 : 3730명\n",
      "1901년 : 3153명\n",
      "1902년 : 3362명\n",
      "1903년 : 3389명\n",
      "1904년 : 3560명\n",
      "1905년 : 3655명\n",
      "1906년 : 3633명\n",
      "1907년 : 3948명\n",
      "1908년 : 4018명\n",
      "1909년 : 4227명\n",
      "1910년 : 4629명\n",
      "1911년 : 4867명\n",
      "1912년 : 6351명\n",
      "1913년 : 6968명\n",
      "1914년 : 7965명\n",
      "1915년 : 9357명\n",
      "1916년 : 9696명\n",
      "1917년 : 9913명\n",
      "1918년 : 10398명\n",
      "1919년 : 10369명\n",
      "1920년 : 10755명\n",
      "1921년 : 10857명\n",
      "1922년 : 10756명\n",
      "1923년 : 10643명\n",
      "1924년 : 10871명\n",
      "1925년 : 10638명\n",
      "1926년 : 10458명\n",
      "1927년 : 10406명\n",
      "1928년 : 10159명\n",
      "1929년 : 9822명\n",
      "1930년 : 9791명\n",
      "1931년 : 9298명\n",
      "1932년 : 9380명\n",
      "1933년 : 9012명\n",
      "1934년 : 9180명\n",
      "1935년 : 9038명\n",
      "1936년 : 8893명\n",
      "1937년 : 8946명\n",
      "1938년 : 9031명\n",
      "1939년 : 8918명\n",
      "1940년 : 8961명\n",
      "1941년 : 9086명\n",
      "1942년 : 9424명\n",
      "1943년 : 9408명\n",
      "1944년 : 9152명\n",
      "1945년 : 9025명\n",
      "1946년 : 9706명\n",
      "1947년 : 10371명\n",
      "1948년 : 10241명\n",
      "1949년 : 10270명\n",
      "1950년 : 10305명\n",
      "1951년 : 10463명\n",
      "1952년 : 10645명\n",
      "1953년 : 10837명\n",
      "1954년 : 10981명\n",
      "1955년 : 11122명\n",
      "1956년 : 11339명\n",
      "1957년 : 11568명\n",
      "1958년 : 11526명\n",
      "1959년 : 11768명\n",
      "1960년 : 11925명\n",
      "1961년 : 12180명\n",
      "1962년 : 12211명\n",
      "1963년 : 12285명\n",
      "1964년 : 12398명\n",
      "1965년 : 11953명\n",
      "1966년 : 12155명\n",
      "1967년 : 12400명\n",
      "1968년 : 12938명\n",
      "1969년 : 13751명\n",
      "1970년 : 14778명\n",
      "1971년 : 15297명\n",
      "1972년 : 15415명\n",
      "1973년 : 15683명\n",
      "1974년 : 16249명\n",
      "1975년 : 16946명\n",
      "1976년 : 17395명\n",
      "1977년 : 18180명\n",
      "1978년 : 18233명\n",
      "1979년 : 19039명\n",
      "1980년 : 19455명\n",
      "1981년 : 19481명\n",
      "1982년 : 19698명\n",
      "1983년 : 19408명\n",
      "1984년 : 19509명\n",
      "1985년 : 20086명\n",
      "1986년 : 20657명\n",
      "1987년 : 21409명\n",
      "1988년 : 22369명\n",
      "1989년 : 23775명\n",
      "1990년 : 24716명\n",
      "1991년 : 25114명\n",
      "1992년 : 25426명\n",
      "1993년 : 25965명\n",
      "1994년 : 25997명\n",
      "1995년 : 26079명\n",
      "1996년 : 26423명\n",
      "1997년 : 26971명\n",
      "1998년 : 27906명\n",
      "1999년 : 28554명\n",
      "2000년 : 29775명\n",
      "2001년 : 30276명\n",
      "2002년 : 30566명\n",
      "2003년 : 31190명\n",
      "2004년 : 32049명\n",
      "2005년 : 32551명\n",
      "2006년 : 34094명\n",
      "2007년 : 34962명\n",
      "2008년 : 35084명\n",
      "2009년 : 34715명\n",
      "2010년 : 34082명\n",
      "2011년 : 33915명\n",
      "2012년 : 33757명\n",
      "2013년 : 33296명\n",
      "2014년 : 33266명\n",
      "2015년 : 33138명\n"
     ]
    }
   ],
   "source": [
    "for year in range(1880,2016):\n",
    "    filename = '../Data/names/yob%d.txt'%year\n",
    "    raw_data = open(filename,'r')\n",
    "    print(\"{}년 : {}명\".format(year,len(list(raw_data.readlines()))))"
   ]
  },
  {
   "cell_type": "markdown",
   "id": "ae2979b0",
   "metadata": {},
   "source": [
    "#### Q12. 출생년도를 입력하면 그 해 인기순 상위 10개 이름을 출력하세요"
   ]
  },
  {
   "cell_type": "code",
   "execution_count": null,
   "id": "db8707dd",
   "metadata": {},
   "outputs": [],
   "source": []
  },
  {
   "cell_type": "markdown",
   "id": "89067b1e",
   "metadata": {},
   "source": [
    "#### Q13. 음식점의 음식 주문 가격 산출 프로그램을 자유롭게 작성하세요"
   ]
  },
  {
   "cell_type": "code",
   "execution_count": null,
   "id": "dbe912cd",
   "metadata": {},
   "outputs": [],
   "source": []
  },
  {
   "cell_type": "markdown",
   "id": "1149bcc7",
   "metadata": {},
   "source": [
    "#### Q14. player가 3승 할 때 까지 계속 진행되는 가위바위보 게임 프로그램을 작성하세요.\n",
    "-게임은 player와 컴퓨터간 진행됩니다"
   ]
  },
  {
   "cell_type": "code",
   "execution_count": null,
   "id": "30debdf9",
   "metadata": {},
   "outputs": [],
   "source": []
  },
  {
   "cell_type": "markdown",
   "id": "956be15b",
   "metadata": {},
   "source": [
    "#### Q15. 컴퓨터가 랜덤하게 생성하는 숫자 맞추기 게임 프로그램을 작성하세요"
   ]
  },
  {
   "cell_type": "code",
   "execution_count": null,
   "id": "04174155",
   "metadata": {},
   "outputs": [],
   "source": []
  }
 ],
 "metadata": {
  "kernelspec": {
   "display_name": "Python 3",
   "language": "python",
   "name": "python3"
  },
  "language_info": {
   "codemirror_mode": {
    "name": "ipython",
    "version": 3
   },
   "file_extension": ".py",
   "mimetype": "text/x-python",
   "name": "python",
   "nbconvert_exporter": "python",
   "pygments_lexer": "ipython3",
   "version": "3.8.10"
  }
 },
 "nbformat": 4,
 "nbformat_minor": 5
}
