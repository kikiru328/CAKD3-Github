{
 "cells": [
  {
   "cell_type": "markdown",
   "id": "3776c695",
   "metadata": {},
   "source": [
    "#### Q1 사용자가 입력한 게임 회수만큼 로또 번호를 출력하는 프로그램을 작성하세요."
   ]
  },
  {
   "cell_type": "code",
   "execution_count": 6,
   "id": "db00a718",
   "metadata": {
    "scrolled": true
   },
   "outputs": [
    {
     "name": "stdout",
     "output_type": "stream",
     "text": [
      "금액을 입력해주세요.5000\n",
      "넣으신 금액은 5000 이며, 총 할수 있는 게임 횟수는 5입니다.\n",
      "로또 번호는 : [1, 3, 4, 9, 24, 26]\n",
      "로또 번호는 : [1, 4, 27, 31, 39, 40]\n",
      "로또 번호는 : [3, 6, 12, 20, 23, 38]\n",
      "로또 번호는 : [22, 28, 30, 33, 34, 40]\n",
      "로또 번호는 : [8, 18, 23, 32, 39, 43]\n"
     ]
    }
   ],
   "source": [
    "price = 1000\n",
    "input_price = int(input(\"금액을 입력해주세요.\"))\n",
    "play_counts = int(input_price / 1000)\n",
    "class Lottery:\n",
    "    def __init__(self):\n",
    "        self.input_price = input_price\n",
    "        print(\"넣으신 금액은 %d 이며, 총 할수 있는 게임 횟수는 %d입니다.\" %(input_price,play_counts))\n",
    "        \n",
    "    \n",
    "    def play_lottery(self):\n",
    "        import random\n",
    "        global play_counts\n",
    "        for i in range(0, play_counts):\n",
    "            Lotto_numbers = random.sample(range(0,46),6)\n",
    "            Lotto_numbers.sort()\n",
    "            for n in range(0,play_counts):\n",
    "                n = n+1\n",
    "        print(\"로또 번호는 :\"%n, Lotto_numbers)\n",
    "        \n",
    "#Dummy\n",
    "play = Lottery()\n",
    "play.play_lottery()"
   ]
  },
  {
   "cell_type": "markdown",
   "id": "019bf73c",
   "metadata": {},
   "source": [
    "#### Q2 남녀 파트너 정해주기 프로그램을 작성하세요"
   ]
  },
  {
   "cell_type": "code",
   "execution_count": null,
   "id": "b77a6cb9",
   "metadata": {},
   "outputs": [],
   "source": [
    "male = [m1,m2,m3,m4,m5]\n",
    "female = [f1,f2,f3,f4,f5]\n",
    "class Couple:\n",
    "    def __init__(self):\n",
    "        self."
   ]
  }
 ],
 "metadata": {
  "kernelspec": {
   "display_name": "Python 3",
   "language": "python",
   "name": "python3"
  },
  "language_info": {
   "codemirror_mode": {
    "name": "ipython",
    "version": 3
   },
   "file_extension": ".py",
   "mimetype": "text/x-python",
   "name": "python",
   "nbconvert_exporter": "python",
   "pygments_lexer": "ipython3",
   "version": "3.8.10"
  }
 },
 "nbformat": 4,
 "nbformat_minor": 5
}
