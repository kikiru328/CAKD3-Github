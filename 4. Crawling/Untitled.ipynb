{
 "cells": [
  {
   "cell_type": "markdown",
   "id": "1b47767d",
   "metadata": {},
   "source": [
    "https://ai-creator.tistory.com/22?category=759438"
   ]
  },
  {
   "cell_type": "code",
   "execution_count": null,
   "id": "378e888a",
   "metadata": {},
   "outputs": [],
   "source": []
  },
  {
   "cell_type": "code",
   "execution_count": null,
   "id": "79c280a8",
   "metadata": {},
   "outputs": [],
   "source": []
  },
  {
   "cell_type": "code",
   "execution_count": null,
   "id": "05dc336d",
   "metadata": {},
   "outputs": [],
   "source": []
  },
  {
   "cell_type": "code",
   "execution_count": null,
   "id": "6f1622cb",
   "metadata": {},
   "outputs": [],
   "source": []
  },
  {
   "cell_type": "code",
   "execution_count": null,
   "id": "db66445a",
   "metadata": {},
   "outputs": [],
   "source": []
  },
  {
   "cell_type": "code",
   "execution_count": null,
   "id": "a0aa7efb",
   "metadata": {},
   "outputs": [],
   "source": []
  },
  {
   "cell_type": "code",
   "execution_count": null,
   "id": "41d0f9b5",
   "metadata": {},
   "outputs": [],
   "source": []
  },
  {
   "cell_type": "code",
   "execution_count": null,
   "id": "95d862b1",
   "metadata": {},
   "outputs": [],
   "source": []
  },
  {
   "cell_type": "code",
   "execution_count": null,
   "id": "39984d00",
   "metadata": {},
   "outputs": [],
   "source": []
  },
  {
   "cell_type": "code",
   "execution_count": 1,
   "id": "532ce3c7",
   "metadata": {},
   "outputs": [
    {
     "name": "stdout",
     "output_type": "stream",
     "text": [
      "Please visit this URL to authorize this application: https://accounts.google.com/o/oauth2/auth?response_type=code&client_id=578855974307-gvb4d608q59865s6pb7fo2ejhlshdiij.apps.googleusercontent.com&redirect_uri=http%3A%2F%2Flocalhost%3A55940%2F&scope=https%3A%2F%2Fwww.googleapis.com%2Fauth%2Fcalendar&state=SBSMY4OF9qxSA9DS6PA3KC1PiCPklM&access_type=offline\n"
     ]
    }
   ],
   "source": [
    "from google_auth_oauthlib.flow import InstalledAppFlow\n",
    "\n",
    "\n",
    "creds_filename = 'Credit.json'\n",
    "\n",
    "# 사용 권한 지정\n",
    "# https://www.googleapis.com/auth/calendar\t               캘린더 읽기/쓰기 권한\n",
    "# https://www.googleapis.com/auth/calendar.readonly\t       캘린더 읽기 권한\n",
    "SCOPES = ['https://www.googleapis.com/auth/calendar']\n",
    "\n",
    "\n",
    "flow = InstalledAppFlow.from_client_secrets_file(creds_filename, SCOPES)\n",
    "creds = flow.run_local_server(port=0)"
   ]
  },
  {
   "cell_type": "code",
   "execution_count": 2,
   "id": "cc747f20",
   "metadata": {},
   "outputs": [],
   "source": [
    "import datetime\n",
    "from googleapiclient.discovery import build\n",
    "today = datetime.date.today().isoformat()\n",
    "service = build('calendar','v3',credentials=creds)"
   ]
  },
  {
   "cell_type": "code",
   "execution_count": 3,
   "id": "da2c6e6a",
   "metadata": {},
   "outputs": [],
   "source": [
    "# 2. 카카오톡 인증\n",
    "kcreds = {\n",
    "    \"access_token\" : \"4y244-9yzNM44ReVZCy5s-cbFLHDmCB1v9f7rgo9dGkAAAF6jhS4SQ\"\n",
    "}\n",
    "kheaders = {\n",
    "    \"Authorization\": \"Bearer \" + kcreds.get('access_token')\n",
    "}"
   ]
  },
  {
   "cell_type": "code",
   "execution_count": 4,
   "id": "eec83deb",
   "metadata": {},
   "outputs": [],
   "source": [
    "# 3. 네이버 인증\n",
    "# https://developers.naver.com/apps\n",
    "# 해당 사이트에서 로그인 후 \"Cliend ID\"와 \"Client Secret\"을 얻어오세요\n",
    "ncreds = {\n",
    "    \"client_id\": \"<Client ID>\",      \n",
    "    \"client_secret\" : \"8LtHME2zTz\"\n",
    "}\n",
    "nheaders = {\n",
    "    \"X-Naver-Client-Id\" : ncreds.get('client_id'),\n",
    "    \"X-Naver-Client-Secret\" : ncreds.get('client_secret')\n",
    "}"
   ]
  },
  {
   "cell_type": "code",
   "execution_count": null,
   "id": "abaf5ba3",
   "metadata": {},
   "outputs": [],
   "source": []
  },
  {
   "cell_type": "code",
   "execution_count": null,
   "id": "c53e9543",
   "metadata": {},
   "outputs": [],
   "source": [
    "import datetime\n",
    "import requests\n",
    "import urllib\n",
    "import json\n",
    "\n",
    "from googleapiclient.discovery import build\n",
    "service = build('calender','v3',credentials=gcreds)\n",
    "\n",
    "calendar_id = 'priority'\n",
    "t-"
   ]
  }
 ],
 "metadata": {
  "kernelspec": {
   "display_name": "Python 3",
   "language": "python",
   "name": "python3"
  },
  "language_info": {
   "codemirror_mode": {
    "name": "ipython",
    "version": 3
   },
   "file_extension": ".py",
   "mimetype": "text/x-python",
   "name": "python",
   "nbconvert_exporter": "python",
   "pygments_lexer": "ipython3",
   "version": "3.8.10"
  }
 },
 "nbformat": 4,
 "nbformat_minor": 5
}
