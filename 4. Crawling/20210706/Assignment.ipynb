{
 "cells": [
  {
   "cell_type": "markdown",
   "id": "569fe1ab",
   "metadata": {},
   "source": [
    "Q1 . 네이버 영화 랭킹 가져와서 첫번째 영화 제목을 출력하세요"
   ]
  },
  {
   "cell_type": "code",
   "execution_count": 10,
   "id": "f74efe3b",
   "metadata": {
    "collapsed": true
   },
   "outputs": [
    {
     "name": "stdout",
     "output_type": "stream",
     "text": [
      "발신제한\n"
     ]
    }
   ],
   "source": [
    "# 모듈 import\n",
    "import urllib.request as req\n",
    "from bs4 import BeautifulSoup\n",
    "\n",
    "#URL 설정 '네이버영화>영화랭킹'\n",
    "url = 'https://movie.naver.com/movie/sdb/rank/rmovie.nhn'\n",
    "\n",
    "#urllib.request 모듈사용으로 url불러옴.\n",
    "request = req.urlopen(url)   #html파일로 저장되어있음.\n",
    "\n",
    "#BS로 분석하기. (parser 생성)\n",
    "soup = BeautifulSoup(request,\"html.parser\")\n",
    "\n",
    "#soup(html.parser 로 변화가 되었으면 이 상태에서 string으로 뽑음.)\n",
    "#랭킹 1위는 <td class ='title'> > <div class = 'tit3'> > <a href~~~~> 중 <a href~~>안에 string으로 저장.\n",
    "title = soup.select_one('div.tit3 > a').string\n",
    "print(title)"
   ]
  },
  {
   "cell_type": "markdown",
   "id": "caaf52c0",
   "metadata": {},
   "source": [
    "Q2. 네이버 영화 랭킹 가져와서 전체 영화 제목을 출력하세요"
   ]
  },
  {
   "cell_type": "code",
   "execution_count": 6,
   "id": "7dd350b9",
   "metadata": {},
   "outputs": [
    {
     "name": "stdout",
     "output_type": "stream",
     "text": [
      "<div class=\"tit3\">\n",
      "<a href=\"/movie/bi/mi/basic.nhn?code=184318\" title=\"블랙 위도우\">블랙 위도우</a>\n",
      "</div>\n",
      "블랙 위도우\n",
      "발신제한\n",
      "랑종\n",
      "미드나이트\n",
      "크루엘라\n",
      "인 더 하이츠\n",
      "콰이어트 플레이스 2\n",
      "킬러의 보디가드 2\n",
      "제8일의 밤\n",
      "루카\n",
      "투모로우 워\n",
      "체르노빌 1986\n",
      "괴기맨숀\n",
      "여고괴담 여섯번째 이야기 : 모교\n",
      "빛나는 순간\n",
      "열아홉\n",
      "기담\n",
      "모가디슈\n",
      "싱크홀\n",
      "컨저링 3: 악마가 시켰다\n",
      "더 퍼지: 포에버\n",
      "이스케이프 룸 2: 노 웨이 아웃\n",
      "인질\n",
      "아이스 로드\n",
      "셔터\n",
      "다크 앤드 위키드\n",
      "분노의 질주: 더 얼티메이트\n",
      "미션 임파서블: 루벤\n",
      "비상선언\n",
      "이번엔 잘 되겠지\n",
      "극장판 귀멸의 칼날: 무한열차편\n",
      "캐시트럭\n",
      "오필리아\n",
      "이보다 더 좋을 순 없다\n",
      "우리는 매일매일\n",
      "보스 베이비 2\n",
      "곡성(哭聲)\n",
      "콰이어트 플레이스\n",
      "방법: 재차의\n",
      "메이드 인 루프탑\n",
      "꽃다발 같은 사랑을 했다\n",
      "그린 북\n",
      "북샵\n",
      "예스, 노 또는 반반\n",
      "스페이스 잼: 새로운 시대\n",
      "트립 투 그리스\n",
      "한산: 용의 출현\n",
      "뱅퀴시\n",
      "더 수어사이드 스쿼드\n",
      "샤먼 로드\n"
     ]
    }
   ],
   "source": [
    "#모듈 import\n",
    "import urllib.request as req\n",
    "from bs4 import BeautifulSoup\n",
    "\n",
    "#URL 설정 '네이버영화>영화랭킹'\n",
    "url = 'https://movie.naver.com/movie/sdb/rank/rmovie.nhn'\n",
    "\n",
    "#urlopen으로 파일 불러옴\n",
    "request = req.urlopen(url)\n",
    "\n",
    "#BS로 분석 (parser 설정)\n",
    "soup = BeautifulSoup(request,'html.parser')\n",
    "\n",
    "#string으로 뽑음\n",
    "# \"전체\" 영화 제목을 뽑아와야하니, list로 뽑아야하고, List로 뽑으려면 find_all 을 써야.\n",
    "# 영화 랭킹은 <div class='tit3' 을 기준으로 분류되어 있으니 div class='tit3'을 기준으로 잡는다\n",
    "titles = soup.find_all('div', attrs = {'class':'tit3'}) # list단계로  string으로 분류 불가\n",
    "\n",
    "#titles안에 모든 영화 목록이 있음.\n",
    "print(titles[0])\n",
    "\n",
    "#영화 제목을 하나씩 뽑아와야 하니 iterable 한 객체, list로 존재하는 titles를 for문으로 객체를 순서대로 추출함.    \n",
    "for title in titles:\n",
    "    print(title.find('a').string)\n"
   ]
  },
  {
   "cell_type": "markdown",
   "id": "7d48ac43",
   "metadata": {},
   "source": [
    "Q3.\n",
    "\n",
    "     \"http://api.aoikujira.com/time/get.php\"으로 부터 아래와 같이 출력하세요.\n",
    "     - 2020/08/02 08:06:45\n",
    "     - b'2020/08/02 08:06:45'"
   ]
  },
  {
   "cell_type": "code",
   "execution_count": 16,
   "id": "109f7369",
   "metadata": {
    "collapsed": true
   },
   "outputs": [
    {
     "name": "stdout",
     "output_type": "stream",
     "text": [
      "<class 'str'> 2021/07/06 17:27:56\n",
      "<class 'bytes'> b'2021/07/06 17:27:56'\n"
     ]
    }
   ],
   "source": [
    "#모듈 import\n",
    "import urllib.request as req\n",
    "from bs4 import BeautifulSoup\n",
    "\n",
    "#URL 설정 \n",
    "url = \"http://api.aoikujira.com/time/get.php\"\n",
    "\n",
    "#urlopen으로 불러옴\n",
    "request = req.urlopen(url) #text 파일로 변화\n",
    "request1 = req.urlopen(url)\n",
    "# #BS로 분석 (parser생성)\n",
    "# soup = BeautifulSoup(request,'html.parser') # parser 생성시 byte문자는 사라짐 이 상태에선 decode 필요없음.\n",
    "\n",
    "#파일 형태 확인\n",
    "# print(type(soup))\n",
    "\n",
    "#text파일로 출력 -- urllib.request text로 변환시 decode \n",
    "text = request.read().decode('utf-8')\n",
    "print(type(text),text)\n",
    "# print(type(text),text)\n",
    "\n",
    "#byte data로 출력 -- BS분석 전, 바로 읽어오면 됨. decode 전에는 byte data\n",
    "byte = request1.read()\n",
    "print(type(byte),byte)"
   ]
  },
  {
   "cell_type": "markdown",
   "id": "f4809199",
   "metadata": {},
   "source": [
    "Q4\n",
    "    \n",
    "    \"http://naver.com\"에서 header의 요소들을 가져와서 for문으로 출력하세요"
   ]
  },
  {
   "cell_type": "code",
   "execution_count": 6,
   "id": "52e17e60",
   "metadata": {
    "collapsed": true
   },
   "outputs": [
    {
     "name": "stdout",
     "output_type": "stream",
     "text": [
      "Server: NWS\n",
      "Date: Tue, 06 Jul 2021 08:42:50 GMT\n",
      "Content-Type: text/html; charset=UTF-8\n",
      "Transfer-Encoding: chunked\n",
      "Connection: close\n",
      "Set-Cookie: PM_CK_loc=5c0319f8b9320abe3a1394e11fd74a59bfa71ddb9ac23dd05a5645a7b49350ff; Expires=Wed, 07 Jul 2021 08:42:50 GMT; Path=/; HttpOnly\n",
      "Cache-Control: no-cache, no-store, must-revalidate\n",
      "Pragma: no-cache\n",
      "P3P: CP=\"CAO DSP CURa ADMa TAIa PSAa OUR LAW STP PHY ONL UNI PUR FIN COM NAV INT DEM STA PRE\"\n",
      "X-Frame-Options: DENY\n",
      "X-XSS-Protection: 1; mode=block\n",
      "Strict-Transport-Security: max-age=63072000; includeSubdomains\n",
      "Referrer-Policy: unsafe-url\n",
      "\n",
      "\n",
      "Server\n",
      "Date\n",
      "Content-Type\n",
      "Transfer-Encoding\n",
      "Connection\n",
      "Set-Cookie\n",
      "Cache-Control\n",
      "Pragma\n",
      "P3P\n",
      "X-Frame-Options\n",
      "X-XSS-Protection\n",
      "Strict-Transport-Security\n",
      "Referrer-Policy\n"
     ]
    }
   ],
   "source": [
    "#모듈 import\n",
    "import urllib.request as req\n",
    "from bs4 import BeautifulSoup\n",
    "\n",
    "#URL입력\n",
    "url = \"http://naver.com\"\n",
    "\n",
    "#urlopen으로 불러오기\n",
    "request =req.urlopen(url).headers #헤더의 요소를 가져옴\n",
    "print(request)\n",
    "\n",
    "#BS로 parser 생성\n",
    "# soup = BeautifulSoup(request, \"html.parser\")\n",
    "# print(type(soup))\n",
    "# #for문으로 출력해보자\n",
    "for i in request:\n",
    "    print(i)"
   ]
  },
  {
   "cell_type": "markdown",
   "id": "0efebb70",
   "metadata": {},
   "source": [
    "Q5 아래를 예외 처리하세요\n",
    "\n",
    "    import requests as rq\n",
    "\n",
    "    url = \"naver.com\"\n",
    "    res = rq.get(url)\n",
    "    print(res.text)"
   ]
  },
  {
   "cell_type": "code",
   "execution_count": 7,
   "id": "f9f53f00",
   "metadata": {},
   "outputs": [
    {
     "ename": "MissingSchema",
     "evalue": "Invalid URL 'naver.com': No schema supplied. Perhaps you meant http://naver.com?",
     "output_type": "error",
     "traceback": [
      "\u001b[1;31m---------------------------------------------------------------------------\u001b[0m",
      "\u001b[1;31mMissingSchema\u001b[0m                             Traceback (most recent call last)",
      "\u001b[1;32m<ipython-input-7-d9739c6ef95d>\u001b[0m in \u001b[0;36m<module>\u001b[1;34m\u001b[0m\n\u001b[0;32m      2\u001b[0m \u001b[1;33m\u001b[0m\u001b[0m\n\u001b[0;32m      3\u001b[0m \u001b[0murl\u001b[0m \u001b[1;33m=\u001b[0m \u001b[1;34m\"naver.com\"\u001b[0m\u001b[1;33m\u001b[0m\u001b[1;33m\u001b[0m\u001b[0m\n\u001b[1;32m----> 4\u001b[1;33m \u001b[0mres\u001b[0m \u001b[1;33m=\u001b[0m \u001b[0mrq\u001b[0m\u001b[1;33m.\u001b[0m\u001b[0mget\u001b[0m\u001b[1;33m(\u001b[0m\u001b[0murl\u001b[0m\u001b[1;33m)\u001b[0m\u001b[1;33m\u001b[0m\u001b[1;33m\u001b[0m\u001b[0m\n\u001b[0m\u001b[0;32m      5\u001b[0m \u001b[0mprint\u001b[0m\u001b[1;33m(\u001b[0m\u001b[0mres\u001b[0m\u001b[1;33m.\u001b[0m\u001b[0mtext\u001b[0m\u001b[1;33m)\u001b[0m\u001b[1;33m\u001b[0m\u001b[1;33m\u001b[0m\u001b[0m\n",
      "\u001b[1;32mC:\\tool\\envs\\cakd3\\lib\\site-packages\\requests\\api.py\u001b[0m in \u001b[0;36mget\u001b[1;34m(url, params, **kwargs)\u001b[0m\n\u001b[0;32m     74\u001b[0m \u001b[1;33m\u001b[0m\u001b[0m\n\u001b[0;32m     75\u001b[0m     \u001b[0mkwargs\u001b[0m\u001b[1;33m.\u001b[0m\u001b[0msetdefault\u001b[0m\u001b[1;33m(\u001b[0m\u001b[1;34m'allow_redirects'\u001b[0m\u001b[1;33m,\u001b[0m \u001b[1;32mTrue\u001b[0m\u001b[1;33m)\u001b[0m\u001b[1;33m\u001b[0m\u001b[1;33m\u001b[0m\u001b[0m\n\u001b[1;32m---> 76\u001b[1;33m     \u001b[1;32mreturn\u001b[0m \u001b[0mrequest\u001b[0m\u001b[1;33m(\u001b[0m\u001b[1;34m'get'\u001b[0m\u001b[1;33m,\u001b[0m \u001b[0murl\u001b[0m\u001b[1;33m,\u001b[0m \u001b[0mparams\u001b[0m\u001b[1;33m=\u001b[0m\u001b[0mparams\u001b[0m\u001b[1;33m,\u001b[0m \u001b[1;33m**\u001b[0m\u001b[0mkwargs\u001b[0m\u001b[1;33m)\u001b[0m\u001b[1;33m\u001b[0m\u001b[1;33m\u001b[0m\u001b[0m\n\u001b[0m\u001b[0;32m     77\u001b[0m \u001b[1;33m\u001b[0m\u001b[0m\n\u001b[0;32m     78\u001b[0m \u001b[1;33m\u001b[0m\u001b[0m\n",
      "\u001b[1;32mC:\\tool\\envs\\cakd3\\lib\\site-packages\\requests\\api.py\u001b[0m in \u001b[0;36mrequest\u001b[1;34m(method, url, **kwargs)\u001b[0m\n\u001b[0;32m     59\u001b[0m     \u001b[1;31m# cases, and look like a memory leak in others.\u001b[0m\u001b[1;33m\u001b[0m\u001b[1;33m\u001b[0m\u001b[1;33m\u001b[0m\u001b[0m\n\u001b[0;32m     60\u001b[0m     \u001b[1;32mwith\u001b[0m \u001b[0msessions\u001b[0m\u001b[1;33m.\u001b[0m\u001b[0mSession\u001b[0m\u001b[1;33m(\u001b[0m\u001b[1;33m)\u001b[0m \u001b[1;32mas\u001b[0m \u001b[0msession\u001b[0m\u001b[1;33m:\u001b[0m\u001b[1;33m\u001b[0m\u001b[1;33m\u001b[0m\u001b[0m\n\u001b[1;32m---> 61\u001b[1;33m         \u001b[1;32mreturn\u001b[0m \u001b[0msession\u001b[0m\u001b[1;33m.\u001b[0m\u001b[0mrequest\u001b[0m\u001b[1;33m(\u001b[0m\u001b[0mmethod\u001b[0m\u001b[1;33m=\u001b[0m\u001b[0mmethod\u001b[0m\u001b[1;33m,\u001b[0m \u001b[0murl\u001b[0m\u001b[1;33m=\u001b[0m\u001b[0murl\u001b[0m\u001b[1;33m,\u001b[0m \u001b[1;33m**\u001b[0m\u001b[0mkwargs\u001b[0m\u001b[1;33m)\u001b[0m\u001b[1;33m\u001b[0m\u001b[1;33m\u001b[0m\u001b[0m\n\u001b[0m\u001b[0;32m     62\u001b[0m \u001b[1;33m\u001b[0m\u001b[0m\n\u001b[0;32m     63\u001b[0m \u001b[1;33m\u001b[0m\u001b[0m\n",
      "\u001b[1;32mC:\\tool\\envs\\cakd3\\lib\\site-packages\\requests\\sessions.py\u001b[0m in \u001b[0;36mrequest\u001b[1;34m(self, method, url, params, data, headers, cookies, files, auth, timeout, allow_redirects, proxies, hooks, stream, verify, cert, json)\u001b[0m\n\u001b[0;32m    526\u001b[0m             \u001b[0mhooks\u001b[0m\u001b[1;33m=\u001b[0m\u001b[0mhooks\u001b[0m\u001b[1;33m,\u001b[0m\u001b[1;33m\u001b[0m\u001b[1;33m\u001b[0m\u001b[0m\n\u001b[0;32m    527\u001b[0m         )\n\u001b[1;32m--> 528\u001b[1;33m         \u001b[0mprep\u001b[0m \u001b[1;33m=\u001b[0m \u001b[0mself\u001b[0m\u001b[1;33m.\u001b[0m\u001b[0mprepare_request\u001b[0m\u001b[1;33m(\u001b[0m\u001b[0mreq\u001b[0m\u001b[1;33m)\u001b[0m\u001b[1;33m\u001b[0m\u001b[1;33m\u001b[0m\u001b[0m\n\u001b[0m\u001b[0;32m    529\u001b[0m \u001b[1;33m\u001b[0m\u001b[0m\n\u001b[0;32m    530\u001b[0m         \u001b[0mproxies\u001b[0m \u001b[1;33m=\u001b[0m \u001b[0mproxies\u001b[0m \u001b[1;32mor\u001b[0m \u001b[1;33m{\u001b[0m\u001b[1;33m}\u001b[0m\u001b[1;33m\u001b[0m\u001b[1;33m\u001b[0m\u001b[0m\n",
      "\u001b[1;32mC:\\tool\\envs\\cakd3\\lib\\site-packages\\requests\\sessions.py\u001b[0m in \u001b[0;36mprepare_request\u001b[1;34m(self, request)\u001b[0m\n\u001b[0;32m    454\u001b[0m \u001b[1;33m\u001b[0m\u001b[0m\n\u001b[0;32m    455\u001b[0m         \u001b[0mp\u001b[0m \u001b[1;33m=\u001b[0m \u001b[0mPreparedRequest\u001b[0m\u001b[1;33m(\u001b[0m\u001b[1;33m)\u001b[0m\u001b[1;33m\u001b[0m\u001b[1;33m\u001b[0m\u001b[0m\n\u001b[1;32m--> 456\u001b[1;33m         p.prepare(\n\u001b[0m\u001b[0;32m    457\u001b[0m             \u001b[0mmethod\u001b[0m\u001b[1;33m=\u001b[0m\u001b[0mrequest\u001b[0m\u001b[1;33m.\u001b[0m\u001b[0mmethod\u001b[0m\u001b[1;33m.\u001b[0m\u001b[0mupper\u001b[0m\u001b[1;33m(\u001b[0m\u001b[1;33m)\u001b[0m\u001b[1;33m,\u001b[0m\u001b[1;33m\u001b[0m\u001b[1;33m\u001b[0m\u001b[0m\n\u001b[0;32m    458\u001b[0m             \u001b[0murl\u001b[0m\u001b[1;33m=\u001b[0m\u001b[0mrequest\u001b[0m\u001b[1;33m.\u001b[0m\u001b[0murl\u001b[0m\u001b[1;33m,\u001b[0m\u001b[1;33m\u001b[0m\u001b[1;33m\u001b[0m\u001b[0m\n",
      "\u001b[1;32mC:\\tool\\envs\\cakd3\\lib\\site-packages\\requests\\models.py\u001b[0m in \u001b[0;36mprepare\u001b[1;34m(self, method, url, headers, files, data, params, auth, cookies, hooks, json)\u001b[0m\n\u001b[0;32m    314\u001b[0m \u001b[1;33m\u001b[0m\u001b[0m\n\u001b[0;32m    315\u001b[0m         \u001b[0mself\u001b[0m\u001b[1;33m.\u001b[0m\u001b[0mprepare_method\u001b[0m\u001b[1;33m(\u001b[0m\u001b[0mmethod\u001b[0m\u001b[1;33m)\u001b[0m\u001b[1;33m\u001b[0m\u001b[1;33m\u001b[0m\u001b[0m\n\u001b[1;32m--> 316\u001b[1;33m         \u001b[0mself\u001b[0m\u001b[1;33m.\u001b[0m\u001b[0mprepare_url\u001b[0m\u001b[1;33m(\u001b[0m\u001b[0murl\u001b[0m\u001b[1;33m,\u001b[0m \u001b[0mparams\u001b[0m\u001b[1;33m)\u001b[0m\u001b[1;33m\u001b[0m\u001b[1;33m\u001b[0m\u001b[0m\n\u001b[0m\u001b[0;32m    317\u001b[0m         \u001b[0mself\u001b[0m\u001b[1;33m.\u001b[0m\u001b[0mprepare_headers\u001b[0m\u001b[1;33m(\u001b[0m\u001b[0mheaders\u001b[0m\u001b[1;33m)\u001b[0m\u001b[1;33m\u001b[0m\u001b[1;33m\u001b[0m\u001b[0m\n\u001b[0;32m    318\u001b[0m         \u001b[0mself\u001b[0m\u001b[1;33m.\u001b[0m\u001b[0mprepare_cookies\u001b[0m\u001b[1;33m(\u001b[0m\u001b[0mcookies\u001b[0m\u001b[1;33m)\u001b[0m\u001b[1;33m\u001b[0m\u001b[1;33m\u001b[0m\u001b[0m\n",
      "\u001b[1;32mC:\\tool\\envs\\cakd3\\lib\\site-packages\\requests\\models.py\u001b[0m in \u001b[0;36mprepare_url\u001b[1;34m(self, url, params)\u001b[0m\n\u001b[0;32m    388\u001b[0m             \u001b[0merror\u001b[0m \u001b[1;33m=\u001b[0m \u001b[0merror\u001b[0m\u001b[1;33m.\u001b[0m\u001b[0mformat\u001b[0m\u001b[1;33m(\u001b[0m\u001b[0mto_native_string\u001b[0m\u001b[1;33m(\u001b[0m\u001b[0murl\u001b[0m\u001b[1;33m,\u001b[0m \u001b[1;34m'utf8'\u001b[0m\u001b[1;33m)\u001b[0m\u001b[1;33m)\u001b[0m\u001b[1;33m\u001b[0m\u001b[1;33m\u001b[0m\u001b[0m\n\u001b[0;32m    389\u001b[0m \u001b[1;33m\u001b[0m\u001b[0m\n\u001b[1;32m--> 390\u001b[1;33m             \u001b[1;32mraise\u001b[0m \u001b[0mMissingSchema\u001b[0m\u001b[1;33m(\u001b[0m\u001b[0merror\u001b[0m\u001b[1;33m)\u001b[0m\u001b[1;33m\u001b[0m\u001b[1;33m\u001b[0m\u001b[0m\n\u001b[0m\u001b[0;32m    391\u001b[0m \u001b[1;33m\u001b[0m\u001b[0m\n\u001b[0;32m    392\u001b[0m         \u001b[1;32mif\u001b[0m \u001b[1;32mnot\u001b[0m \u001b[0mhost\u001b[0m\u001b[1;33m:\u001b[0m\u001b[1;33m\u001b[0m\u001b[1;33m\u001b[0m\u001b[0m\n",
      "\u001b[1;31mMissingSchema\u001b[0m: Invalid URL 'naver.com': No schema supplied. Perhaps you meant http://naver.com?"
     ]
    }
   ],
   "source": [
    "import requests as rq\n",
    "\n",
    "url = \"naver.com\"\n",
    "res = rq.get(url)\n",
    "print(res.text)"
   ]
  },
  {
   "cell_type": "code",
   "execution_count": null,
   "id": "63080bff",
   "metadata": {},
   "outputs": [],
   "source": []
  },
  {
   "cell_type": "code",
   "execution_count": null,
   "id": "dda341b2",
   "metadata": {},
   "outputs": [],
   "source": []
  },
  {
   "cell_type": "code",
   "execution_count": null,
   "id": "8fccb9b0",
   "metadata": {},
   "outputs": [],
   "source": []
  },
  {
   "cell_type": "code",
   "execution_count": null,
   "id": "e936f8c2",
   "metadata": {},
   "outputs": [],
   "source": []
  },
  {
   "cell_type": "code",
   "execution_count": null,
   "id": "aa7ce0ae",
   "metadata": {},
   "outputs": [],
   "source": []
  },
  {
   "cell_type": "code",
   "execution_count": null,
   "id": "d828112c",
   "metadata": {},
   "outputs": [],
   "source": []
  },
  {
   "cell_type": "code",
   "execution_count": null,
   "id": "129c871b",
   "metadata": {},
   "outputs": [],
   "source": []
  },
  {
   "cell_type": "code",
   "execution_count": null,
   "id": "c2cb88e8",
   "metadata": {},
   "outputs": [],
   "source": []
  },
  {
   "cell_type": "code",
   "execution_count": null,
   "id": "620f4a8f",
   "metadata": {},
   "outputs": [],
   "source": []
  },
  {
   "cell_type": "code",
   "execution_count": null,
   "id": "ae267daa",
   "metadata": {},
   "outputs": [],
   "source": []
  },
  {
   "cell_type": "code",
   "execution_count": null,
   "id": "3c815674",
   "metadata": {},
   "outputs": [],
   "source": []
  },
  {
   "cell_type": "code",
   "execution_count": null,
   "id": "cd094257",
   "metadata": {},
   "outputs": [],
   "source": []
  },
  {
   "cell_type": "code",
   "execution_count": null,
   "id": "66049619",
   "metadata": {},
   "outputs": [],
   "source": []
  },
  {
   "cell_type": "code",
   "execution_count": null,
   "id": "4b6da5d0",
   "metadata": {},
   "outputs": [],
   "source": []
  },
  {
   "cell_type": "code",
   "execution_count": null,
   "id": "2588f02c",
   "metadata": {},
   "outputs": [],
   "source": []
  }
 ],
 "metadata": {
  "kernelspec": {
   "display_name": "Python 3",
   "language": "python",
   "name": "python3"
  },
  "language_info": {
   "codemirror_mode": {
    "name": "ipython",
    "version": 3
   },
   "file_extension": ".py",
   "mimetype": "text/x-python",
   "name": "python",
   "nbconvert_exporter": "python",
   "pygments_lexer": "ipython3",
   "version": "3.8.10"
  }
 },
 "nbformat": 4,
 "nbformat_minor": 5
}
