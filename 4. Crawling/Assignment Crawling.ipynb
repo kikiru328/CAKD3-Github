{
 "cells": [
  {
   "cell_type": "markdown",
   "id": "147aee8e",
   "metadata": {},
   "source": [
    "\n",
    "##### 오늘 날짜 출력"
   ]
  },
  {
   "cell_type": "code",
   "execution_count": 26,
   "id": "fd0caacf",
   "metadata": {},
   "outputs": [
    {
     "data": {
      "text/plain": [
       "'2021-07-11-Sunday'"
      ]
     },
     "execution_count": 26,
     "metadata": {},
     "output_type": "execute_result"
    }
   ],
   "source": [
    "from datetime import datetime as dt\n",
    "today = dt.today().strftime('%Y-%m-%d-%A')\n",
    "today"
   ]
  },
  {
   "cell_type": "markdown",
   "id": "f4eb1652",
   "metadata": {},
   "source": [
    "##### 오늘 날씨 출력 (네이버 크롤링)"
   ]
  },
  {
   "cell_type": "markdown",
   "id": "836aa04f",
   "metadata": {},
   "source": [
    "    기상청이나 공공데이터 크롤링 해보신 분에게 직접 물어봐서 해보겠습니다. 제가 할땐 정말 안되더군요"
   ]
  },
  {
   "cell_type": "code",
   "execution_count": 27,
   "id": "14260578",
   "metadata": {},
   "outputs": [],
   "source": [
    "#모듈 \n",
    "from bs4 import BeautifulSoup as b_s\n",
    "import pandas as pd\n",
    "import urllib.request as req\n",
    "import requests"
   ]
  },
  {
   "cell_type": "code",
   "execution_count": 28,
   "id": "6f361b17",
   "metadata": {},
   "outputs": [
    {
     "name": "stdout",
     "output_type": "stream",
     "text": [
      "현재위치 : 경기도 김포시 김포본동 ℃\n",
      "현재온도 : 25 ℃\n",
      "최고온도 : 31 ℃\n",
      "최저온도 : 23 ℃\n",
      "체감온도 : 27 ℃\n",
      "흐림, 어제보다 0˚ 높아요\n",
      "오전강수확률 : 30 %\n",
      "오후강수확률 : 30 %\n"
     ]
    }
   ],
   "source": [
    "html = requests.get('https://search.naver.com/search.naver?where=nexearch&sm=top_hty&fbm=1&ie=utf8&query=%EB%82%A0%EC%94%A8')\n",
    "soup = b_s(html.text,'html.parser')\n",
    "Wdata = soup.find('div', {'class':'weather_box'})\n",
    "find_lc = Wdata.find('span',{'class':'btn_select'}).text\n",
    "print('현재위치 : '+find_lc,'℃' )\n",
    "find_ct = Wdata.find('span',{'class':'todaytemp'}).text\n",
    "print(\"현재온도 : \"+find_ct,'℃')\n",
    "find_ht = Wdata.select_one('span.max>span.num').text\n",
    "print(\"최고온도 : \"+find_ht,'℃')\n",
    "find_lt = Wdata.select_one('span.min>span.num').text\n",
    "print('최저온도 : '+find_lt,'℃')\n",
    "find_ft = Wdata.select_one('span.sensible>em>span.num').text\n",
    "print('체감온도 : '+find_ft,'℃')\n",
    "find_dt = Wdata.select_one('div.today_area._mainTabContent > div.main_info > div > ul > li:nth-child(1) > p').text\n",
    "print(find_dt)\n",
    "find_am_hm = Wdata.select_one('li>span.point_time.morning>span.rain_rate>span.num').text\n",
    "print('오전강수확률 : '+find_am_hm,'%')\n",
    "find_pm_hm = Wdata.select_one('li>span.point_time.afternoon>span.rain_rate>span.num').text\n",
    "print('오후강수확률 : '+find_pm_hm,'%')"
   ]
  },
  {
   "cell_type": "markdown",
   "id": "71fb9d65",
   "metadata": {},
   "source": [
    "##### 내일 날씨 출력"
   ]
  },
  {
   "cell_type": "code",
   "execution_count": 29,
   "id": "59c40d15",
   "metadata": {},
   "outputs": [
    {
     "name": "stdout",
     "output_type": "stream",
     "text": [
      "내일 날씨 : 24 ℃\n",
      "구름많고 소나기\n",
      "내일강수확률 :  60 %\n"
     ]
    }
   ],
   "source": [
    "find_t_ct = Wdata.select_one('div.main_info.morning_box>p.info_temperature>span.todaytemp').text\n",
    "print(\"내일 날씨 : \"+find_t_ct,'℃' )\n",
    "find_t_dt = Wdata.select_one('div.main_info.morning_box>div.info_data>ul.info_list>li>p').text\n",
    "print(find_t_dt)\n",
    "find_t_am_hm = Wdata.select_one('li>span.point_time.morning>span.rain_rate.wet>span.num').text\n",
    "print('내일강수확률 : ',find_t_am_hm,'%')"
   ]
  },
  {
   "cell_type": "markdown",
   "id": "80c4850d",
   "metadata": {},
   "source": [
    "##### 미세먼지"
   ]
  },
  {
   "cell_type": "code",
   "execution_count": 30,
   "id": "8187d8c6",
   "metadata": {},
   "outputs": [
    {
     "name": "stdout",
     "output_type": "stream",
     "text": [
      "미세먼지 : 7㎍/㎥ 좋음\n",
      "초미세먼지 : 6㎍/㎥ 좋음\n"
     ]
    }
   ],
   "source": [
    "html = requests.get('https://search.naver.com/search.naver?where=nexearch&sm=top_hty&fbm=1&ie=utf8&query=%EB%82%A0%EC%94%A8')\n",
    "soup = b_s(html.text,'html.parser')\n",
    "Ddata = soup.find('div', {'class':'weather_box'})\n",
    "find_du = Ddata.select_one('dl.indicator>dd>span.num').text\n",
    "ev_du = int(find_du.strip('㎍/㎥'))\n",
    "\n",
    "if ev_du <= 30:\n",
    "    ev_dust = \"좋음\"\n",
    "elif 30 <ev_du<= 80:\n",
    "    ev_dust = \"보통\"\n",
    "elif 80 <ev_du<= 150:\n",
    "    ev_dust = \"나쁨\"\n",
    "else:\n",
    "    ev_dust = \"매우나쁨\"\n",
    "    \n",
    "print(\"미세먼지 : \" + find_du, ev_dust)\n",
    "\n",
    "find_M_du = Ddata.select('dl.indicator>dd>span.num')[1].text\n",
    "ev_M_du = int(find_M_du.strip('㎍/㎥'))\n",
    "\n",
    "if ev_M_du <= 15:\n",
    "    ev_M_dust = \"좋음\"\n",
    "elif 15 <ev_M_du<= 50:\n",
    "    ev_M_dust = \"보통\"\n",
    "elif 51 <ev_M_du<= 100:\n",
    "    ev_M_dust = \"나쁨\"\n",
    "else:\n",
    "    ev_M_dust = \"매우나쁨\"\n",
    "\n",
    "print(\"초미세먼지 : \" + find_M_du, ev_M_dust)"
   ]
  },
  {
   "cell_type": "code",
   "execution_count": 31,
   "id": "257794f1",
   "metadata": {},
   "outputs": [
    {
     "name": "stdout",
     "output_type": "stream",
     "text": [
      "누적환자 :  168,046 명\n"
     ]
    }
   ],
   "source": [
    "html = requests.get('https://search.naver.com/search.naver?where=nexearch&sm=top_hty&fbm=0&ie=utf8&query=%EC%BD%94%EB%A1%9C%EB%82%98')\n",
    "soup = b_s(html.text,'html.parser')\n",
    "find_cf = soup.select_one('ul>li.info_01>p.info_num').text\n",
    "print('누적환자 : ',find_cf,'명')\n"
   ]
  },
  {
   "cell_type": "code",
   "execution_count": 38,
   "id": "af3ba2e0",
   "metadata": {},
   "outputs": [
    {
     "name": "stdout",
     "output_type": "stream",
     "text": [
      "['환자 현황(7.11. 00시 기준', \" '20.1.3. 이후 누계)\"]\n",
      "국내발생 : 1,280\n"
     ]
    }
   ],
   "source": [
    "html = requests.get('http://ncov.mohw.go.kr/')\n",
    "soup = b_s(html.text,'html.parser')\n",
    "status = soup.select_one('div.liveNumOuter>h2>a').text\n",
    "status = status.split('자세히')[0]\n",
    "# type(status)\n",
    "status = status.split(',')\n",
    "status\n",
    "print(status)\n",
    "tsct = soup.select_one('div.datalist>ul>li>span.subtit').string\n",
    "tsctn = soup.select_one('div.datalist>ul>li>span.data').string\n",
    "print(tsct,':', tsctn)"
   ]
  },
  {
   "cell_type": "code",
   "execution_count": null,
   "id": "ccda0d4b",
   "metadata": {},
   "outputs": [],
   "source": []
  },
  {
   "cell_type": "code",
   "execution_count": null,
   "id": "25e0c21a",
   "metadata": {},
   "outputs": [],
   "source": []
  },
  {
   "cell_type": "markdown",
   "id": "4b52b992",
   "metadata": {},
   "source": [
    "body > div > div.mainlive_container > div.container > div > div.liveboard_layout > div.liveNumOuter > div.liveNum > ul > li:nth-child(1) > span.before"
   ]
  },
  {
   "cell_type": "markdown",
   "id": "7d293244",
   "metadata": {},
   "source": [
    "##### 길찾기"
   ]
  },
  {
   "cell_type": "markdown",
   "id": "056a0494",
   "metadata": {},
   "source": [
    "# 모두 출력"
   ]
  },
  {
   "cell_type": "code",
   "execution_count": 42,
   "id": "0f8db768",
   "metadata": {},
   "outputs": [
    {
     "name": "stdout",
     "output_type": "stream",
     "text": [
      "##################################################\n",
      "         2021-07-11-Sunday 의 리마인더입니다.\n",
      "################################################## \n",
      "\n",
      "1.날씨\n",
      "**************************************************\n",
      "                        오늘\n",
      "--------------------------------------------------\n",
      "현재위치 : 경기도 김포시 김포본동\n",
      "현재온도 : 25 ℃\n",
      "최고/최저온도 : 31 ℃ / 23 ℃\n",
      "흐림, 어제보다 0˚ 높아요\n",
      "체감온도 : 27 ℃\n",
      "오전강수확률 : 30 %\n",
      "오후강수확률 : 30 %\n",
      "**************************************************\n",
      "<미세먼지>\n",
      "--------------------------------------------------\n",
      "미세먼지 : 7㎍/㎥ 좋음\n",
      "초미세먼지 : 6㎍/㎥ 좋음\n",
      "--------------------------------------------------\n",
      "                 내일 날씨입니다.\n",
      "--------------------------------------------------\n",
      "내일 날씨 : 24 ℃\n",
      "구름많고 소나기\n",
      "내일강수확률 :  60 % \n",
      "\n",
      "2.코로나19 현재 상황\n",
      "**************************************************\n",
      "['환자 현황(7.11. 00시 기준', \" '20.1.3. 이후 누계)\"]\n",
      "국내발생 : 1,280 명\n",
      "누적환자 : 168,046 명\n"
     ]
    }
   ],
   "source": [
    "print('#'*50)\n",
    "print('        ',today,\"의 리마인더입니다.\")\n",
    "print('#'*50,'\\n')\n",
    "\n",
    "print('1.날씨')\n",
    "print('*'*50)\n",
    "print(\"                        오늘\")\n",
    "\n",
    "print('-'*50)\n",
    "print('현재위치 : '+find_lc )\n",
    "print(\"현재온도 : \"+find_ct,'℃')\n",
    "print(\"최고/최저온도 : \"+find_ht,'℃','/',find_lt,'℃')\n",
    "print(find_dt)\n",
    "print('체감온도 : '+find_ft,'℃')\n",
    "print('오전강수확률 : '+find_am_hm,'%')\n",
    "print('오후강수확률 : '+find_pm_hm,'%')\n",
    "print('*'*50)\n",
    "print(\"<미세먼지>\")\n",
    "print('-'*50)\n",
    "print(\"미세먼지 : \" + find_du, ev_dust)\n",
    "print(\"초미세먼지 : \" + find_M_du, ev_M_dust)\n",
    "print('-'*50)\n",
    "print(\"                 내일 날씨입니다.\")\n",
    "print('-'*50)\n",
    "print(\"내일 날씨 : \"+find_t_ct,'℃' )\n",
    "print(find_t_dt)\n",
    "print('내일강수확률 : ',find_t_am_hm,'%','\\n')\n",
    "print('2.코로나19 현재 상황')\n",
    "print('*'*50)\n",
    "print(status)\n",
    "print(tsct,':', tsctn,'명')\n",
    "print('누적환자 :',find_cf,'명')"
   ]
  },
  {
   "cell_type": "code",
   "execution_count": null,
   "id": "58e99e77",
   "metadata": {},
   "outputs": [],
   "source": []
  },
  {
   "cell_type": "code",
   "execution_count": null,
   "id": "176542d2",
   "metadata": {},
   "outputs": [],
   "source": []
  },
  {
   "cell_type": "code",
   "execution_count": null,
   "id": "7174eccb",
   "metadata": {},
   "outputs": [],
   "source": []
  },
  {
   "cell_type": "code",
   "execution_count": null,
   "id": "44614ede",
   "metadata": {},
   "outputs": [],
   "source": []
  },
  {
   "cell_type": "code",
   "execution_count": null,
   "id": "d9976894",
   "metadata": {},
   "outputs": [],
   "source": []
  },
  {
   "cell_type": "code",
   "execution_count": null,
   "id": "7692ab27",
   "metadata": {},
   "outputs": [],
   "source": []
  },
  {
   "cell_type": "code",
   "execution_count": null,
   "id": "b3d5249a",
   "metadata": {},
   "outputs": [],
   "source": []
  }
 ],
 "metadata": {
  "kernelspec": {
   "display_name": "Python 3",
   "language": "python",
   "name": "python3"
  },
  "language_info": {
   "codemirror_mode": {
    "name": "ipython",
    "version": 3
   },
   "file_extension": ".py",
   "mimetype": "text/x-python",
   "name": "python",
   "nbconvert_exporter": "python",
   "pygments_lexer": "ipython3",
   "version": "3.8.10"
  }
 },
 "nbformat": 4,
 "nbformat_minor": 5
}
