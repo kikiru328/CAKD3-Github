{
 "cells": [
  {
   "cell_type": "markdown",
   "id": "421b4c19",
   "metadata": {},
   "source": [
    "##### Selenium module\n",
    "- 웹 어플리케이션 테스트를 위한 프레임워크 : 홈페이지 테스트용으로 사용.\n",
    "- 사용자가 아닌 프로그램이 웹 브라우저를 제어할 수 있도록 지원\n",
    "- 웹 브라우저마다 클라이언트 프로그램 (Web Driver)이 별도로 필요하다. (웹 브라우저 <=> 프로그램간 통신 목적.)\n",
    "- 크롤링 보다는 웹을 제어하는 목적이 더 크다.\n",
    "- pip install selenium\n",
    "- web driver 설치 (크롬 버전 확인): https://chromedriver.chromium.org/downloads\n",
    "- 압축 해제한 후 chromedriver.exe.를 적당한 경로로 이동\n",
    "- selenium 모듈 호출 후 설치한 web driver 경로를 지정 (c://tool)\n",
    "\n",
    "이벤트로 제어하기: 브라우저를 직접 제어하기 때문에 직접 컨트롤하여 마우스 클릭, 키보드 입력, 자바 스크립트 이벤트 처리 가능.\n",
    "- 마우스 클릭 : click()\n",
    "- 키보드 입력 : send_keys()\n",
    "- 자바스크립트 삽입 : execute_script()\n",
    "- 입력 양식 전송 : submit()\n",
    "- 스크린샷 : screenshot(파일이름)\n",
    "- 글자지움 : clear()\n",
    "- 뒤로가기 : back()\n",
    "- 앞으로가기 : forward()\n",
    "\n",
    "Selenium 함수\n",
    "\n",
    "    find_element_by_id : id 속성을 사용하여 접근\n",
    "    find_element(s)_by_class_name : 클래스를 사용하여 접근\n",
    "    find_element(s)_by_name : 속성을 사용하여 접근\n",
    "    find_element(s)_by_xpath : xpath 속성을 사용하여 접근\n",
    "    find_element(s)_by_link_text : 앵커태그( a tag )에 사용되는 텍스트로 접근\n",
    "    find_element(s)_by_partial_link_text :  앵커태그 ( a tag )에 사용되는 일부 텍스트로 접근\n",
    "    find_element(s)_by_tag_name : 태그를 사용하여 접근\n",
    "    find_element(s)_by_css_selector : CSS 선택자를 사용하여 접근\n",
    "    "
   ]
  },
  {
   "cell_type": "code",
   "execution_count": 2,
   "id": "cda50684",
   "metadata": {},
   "outputs": [
    {
     "name": "stdout",
     "output_type": "stream",
     "text": [
      "Collecting selenium\n",
      "  Downloading selenium-3.141.0-py2.py3-none-any.whl (904 kB)\n",
      "Requirement already satisfied: urllib3 in c:\\tool\\envs\\cakd3\\lib\\site-packages (from selenium) (1.26.4)\n",
      "Installing collected packages: selenium\n",
      "Successfully installed selenium-3.141.0\n"
     ]
    }
   ],
   "source": [
    "!pip install selenium"
   ]
  },
  {
   "cell_type": "code",
   "execution_count": 19,
   "id": "a580b874",
   "metadata": {},
   "outputs": [],
   "source": [
    "import selenium\n",
    "from selenium import webdriver\n",
    "\n",
    "url = \"https://naver.com\"\n",
    "path = 'C:/tool/chromedriver.exe' #절대경로\n",
    "driver = webdriver.Chrome(path)\n",
    "driver.get(url)"
   ]
  },
  {
   "cell_type": "code",
   "execution_count": 18,
   "id": "1ad00e74",
   "metadata": {},
   "outputs": [],
   "source": [
    "# driver.maximize_window() #최대화\n",
    "# driver.minimize_window() #최소화\n",
    "# driver.close() #창 종료"
   ]
  },
  {
   "cell_type": "code",
   "execution_count": 21,
   "id": "941bb823",
   "metadata": {},
   "outputs": [
    {
     "data": {
      "text/plain": [
       "'https://www.naver.com/'"
      ]
     },
     "execution_count": 21,
     "metadata": {},
     "output_type": "execute_result"
    }
   ],
   "source": [
    "driver.current_url #현재 url 출력"
   ]
  },
  {
   "cell_type": "code",
   "execution_count": 44,
   "id": "a267c3e9",
   "metadata": {},
   "outputs": [
    {
     "name": "stdout",
     "output_type": "stream",
     "text": [
      "빅 데이터 정의 | Oracle 대한민국\n",
      "서울특별시 빅데이터 캠퍼스\n",
      "빅데이터(big data) 이해 - 정의, 분석, 기술, 특징, 사례 연구\n",
      "빅데이터란? | 고급 빅 데이터 분석 | SAP Insights\n",
      "K-ICT 빅데이터센터\n",
      "빅 데이터란 무엇인가 - 대한당뇨병학회\n"
     ]
    }
   ],
   "source": [
    "from selenium import webdriver\n",
    "import time\n",
    "from selenium.webdriver.common.keys import Keys\n",
    "url = 'https://www.google.com'\n",
    "driver = webdriver.Chrome('C:/tool/chromedriver.exe') #드라이버 객체 설정 #path 변수 설정 가능\n",
    "driver.get(url)\n",
    "search_box = driver.find_element_by_xpath('/html/body/div[1]/div[3]/form/div[1]/div[1]/div[1]/div/div[2]/input')\n",
    "search_box.send_keys('빅데이터')\n",
    "search_box.send_keys(Keys.RETURN)\n",
    "elements = driver.find_elements_by_xpath('//*[@id=\"rso\"]/div/div/div/div/a/h3') #div 중복 번호 제거\n",
    "for e in elements:\n",
    "    print(e.text)\n",
    "    print(e.text, file=open('test_sel.txt','a', encoding='utf-8'))\n",
    "time.sleep(3)\n",
    "driver.close()"
   ]
  },
  {
   "cell_type": "markdown",
   "id": "6aa96cef",
   "metadata": {},
   "source": [
    "구글 검색에서 '이대역 맛집'을 찾아 출력 및 저장하세요 상위 10개"
   ]
  },
  {
   "cell_type": "code",
   "execution_count": 65,
   "id": "17c5aaba",
   "metadata": {},
   "outputs": [
    {
     "name": "stdout",
     "output_type": "stream",
     "text": [
      "0 피터팬스테이크\n",
      "1 청담추어정\n",
      "2 미스터서왕만두 이대점\n",
      "3 란주탕슉\n",
      "4 파파노다이닝\n",
      "5 반서울\n",
      "6 고냉지\n",
      "7 화상손만두\n",
      "8 이대종합분식\n",
      "9 까이식당\n"
     ]
    },
    {
     "data": {
      "text/plain": [
       "list"
      ]
     },
     "execution_count": 65,
     "metadata": {},
     "output_type": "execute_result"
    }
   ],
   "source": [
    "from selenium import webdriver\n",
    "import time\n",
    "from selenium.webdriver.common.keys import Keys\n",
    "url = 'https://www.google.com'\n",
    "driver = webdriver.Chrome('C:/tool/chromedriver.exe')\n",
    "driver.get(url)\n",
    "search_box = driver.find_element_by_xpath('/html/body/div[1]/div[3]/form/div[1]/div[1]/div[1]/div/div[2]/input')\n",
    "search_box.send_keys('이대역 맛집')\n",
    "search_box.send_keys(Keys.RETURN)\n",
    "searching = driver.find_element_by_xpath('//*[@id=\"rso\"]/div[1]/div/div/div/div/div[5]/div/g-more-link/a/div').click()\n",
    "elements = driver.find_elements_by_xpath('//*/div/div/a/div/div/div')\n",
    "for e in range(10):\n",
    "    print(e,elements[e].text)\n",
    "    print(e,elements[e].text, file=open('taste.txt','a',encoding='utf-8'))\n",
    "time.sleep(2)\n",
    "driver.close()\n",
    "type(elements)"
   ]
  },
  {
   "cell_type": "markdown",
   "id": "0a17fdee",
   "metadata": {},
   "source": [
    "네이버 사이트 불러오기"
   ]
  },
  {
   "cell_type": "code",
   "execution_count": 85,
   "id": "ed496db4",
   "metadata": {},
   "outputs": [],
   "source": [
    "from selenium import webdriver\n",
    "import time\n",
    "from selenium.webdriver.common.keys import Keys\n",
    "url = 'https://www.naver.com'\n",
    "driver = webdriver.Chrome('C:/tool/chromedriver.exe')\n",
    "driver.get(url)\n",
    "#로그인 이동 > 홈 이동\n",
    "driver.find_element_by_class_name('link_login').click()\n",
    "time.sleep(2)\n",
    "driver.back()"
   ]
  },
  {
   "cell_type": "code",
   "execution_count": 86,
   "id": "1fd9f8bc",
   "metadata": {},
   "outputs": [],
   "source": [
    "driver.forward()"
   ]
  },
  {
   "cell_type": "code",
   "execution_count": 87,
   "id": "fdc413b0",
   "metadata": {},
   "outputs": [],
   "source": [
    "# 새로고침 > 뒤로 \n",
    "driver.refresh()\n",
    "time.sleep(2)\n",
    "driver.back()"
   ]
  },
  {
   "cell_type": "code",
   "execution_count": 88,
   "id": "94e2aafd",
   "metadata": {},
   "outputs": [],
   "source": [
    "# 검색어 입력\n",
    "search_box = driver.find_element_by_id('query')\n",
    "search_box.send_keys('빅데이터')\n",
    "search_box.send_keys(Keys.ENTER)"
   ]
  },
  {
   "cell_type": "code",
   "execution_count": 90,
   "id": "4b5d4cfb",
   "metadata": {},
   "outputs": [
    {
     "ename": "TypeError",
     "evalue": "'<' not supported between instances of 'tuple' and 'int'",
     "output_type": "error",
     "traceback": [
      "\u001b[1;31m---------------------------------------------------------------------------\u001b[0m",
      "\u001b[1;31mTypeError\u001b[0m                                 Traceback (most recent call last)",
      "\u001b[1;32m<ipython-input-90-080dc7313c88>\u001b[0m in \u001b[0;36m<module>\u001b[1;34m\u001b[0m\n\u001b[0;32m      7\u001b[0m \u001b[0mhypers\u001b[0m \u001b[1;33m=\u001b[0m \u001b[0mdriver\u001b[0m\u001b[1;33m.\u001b[0m\u001b[0mfind_elements_by_tag_name\u001b[0m\u001b[1;33m(\u001b[0m\u001b[1;34m'a'\u001b[0m\u001b[1;33m)\u001b[0m\u001b[1;33m\u001b[0m\u001b[1;33m\u001b[0m\u001b[0m\n\u001b[0;32m      8\u001b[0m \u001b[1;32mfor\u001b[0m \u001b[0mhyper\u001b[0m \u001b[1;32min\u001b[0m \u001b[0menumerate\u001b[0m\u001b[1;33m(\u001b[0m\u001b[0mhypers\u001b[0m\u001b[1;33m)\u001b[0m\u001b[1;33m:\u001b[0m\u001b[1;33m\u001b[0m\u001b[1;33m\u001b[0m\u001b[0m\n\u001b[1;32m----> 9\u001b[1;33m     \u001b[1;32mif\u001b[0m \u001b[0mhyper\u001b[0m \u001b[1;33m<\u001b[0m \u001b[1;36m5\u001b[0m\u001b[1;33m:\u001b[0m\u001b[1;33m\u001b[0m\u001b[1;33m\u001b[0m\u001b[0m\n\u001b[0m\u001b[0;32m     10\u001b[0m         \u001b[0mprint\u001b[0m\u001b[1;33m(\u001b[0m\u001b[0mhyper\u001b[0m\u001b[1;33m.\u001b[0m\u001b[0mget_attribute\u001b[0m\u001b[1;33m(\u001b[0m\u001b[1;34m'href'\u001b[0m\u001b[1;33m)\u001b[0m\u001b[1;33m)\u001b[0m\u001b[1;33m\u001b[0m\u001b[1;33m\u001b[0m\u001b[0m\n\u001b[0;32m     11\u001b[0m     \u001b[1;32melse\u001b[0m\u001b[1;33m:\u001b[0m\u001b[1;33m\u001b[0m\u001b[1;33m\u001b[0m\u001b[0m\n",
      "\u001b[1;31mTypeError\u001b[0m: '<' not supported between instances of 'tuple' and 'int'"
     ]
    }
   ],
   "source": [
    "# a tag\n",
    "hyper = driver.find_element_by_tag_name('a')\n",
    "hyper\n",
    "\n",
    "# 모든 a tag의 href 속성\n",
    "# 속성 get_attribute()\n",
    "hypers = driver.find_elements_by_tag_name('a')\n",
    "for hyper in enumerate(hypers):\n",
    "    if hyper < 5:\n",
    "        print(hyper.get_attribute('href'))\n",
    "    else:\n",
    "        pass\n",
    "    \n",
    "    "
   ]
  },
  {
   "cell_type": "code",
   "execution_count": 95,
   "id": "61332bf5",
   "metadata": {},
   "outputs": [],
   "source": [
    "from selenium import webdriver\n",
    "import time\n",
    "from selenium.webdriver.common.keys import Keys\n",
    "url = 'https://daum.net'\n",
    "driver = webdriver.Chrome('C:/tool/chromedriver.exe')\n",
    "driver.get(url)\n",
    "search_ = driver.find_element_by_name('q')\n",
    "search_.send_keys('빅데이터')\n",
    "search_.send_keys(Keys.ENTER)"
   ]
  },
  {
   "cell_type": "code",
   "execution_count": 99,
   "id": "4c698a66",
   "metadata": {},
   "outputs": [],
   "source": [
    "driver.back()"
   ]
  },
  {
   "cell_type": "code",
   "execution_count": 101,
   "id": "061ea9a1",
   "metadata": {},
   "outputs": [],
   "source": [
    "search_ = driver.find_element_by_name('q')\n",
    "search_.send_keys('빅데이터')\n",
    "button_click = driver.find_element_by_xpath('//*[@id=\"daumSearch\"]/fieldset/div/div/button[2]').click()"
   ]
  },
  {
   "cell_type": "code",
   "execution_count": 112,
   "id": "de5971ac",
   "metadata": {},
   "outputs": [],
   "source": [
    "driver.refresh()"
   ]
  },
  {
   "cell_type": "code",
   "execution_count": 109,
   "id": "8abd3b9a",
   "metadata": {},
   "outputs": [
    {
     "data": {
      "text/plain": [
       "'[기고] 빅데이터 통합플랫폼으로 재난 대비해야'"
      ]
     },
     "execution_count": 109,
     "metadata": {},
     "output_type": "execute_result"
    }
   ],
   "source": [
    "news = driver.find_element_by_css_selector('#container > li:nth-child(1) > div.wrap_cont > a')\n",
    "news.text"
   ]
  },
  {
   "cell_type": "code",
   "execution_count": 114,
   "id": "721f17df",
   "metadata": {},
   "outputs": [
    {
     "name": "stdout",
     "output_type": "stream",
     "text": [
      "[기고] 빅데이터 통합플랫폼으로 재난 대비해야\n",
      "미래에셋 2021 금융 빅데이터 페스티벌 개최\n",
      "은마아파트 빅데이터..어떻게 집값 떨어졌나 봤더니\n",
      "\"상금 5000만원에 인턴쉽 기회\".. 미래에셋 '금융 빅데이터 페스티벌'\n"
     ]
    }
   ],
   "source": [
    "newslist = driver.find_elements_by_css_selector('#container > li > div.wrap_cont > a')\n",
    "for news in newslist:\n",
    "    print(news.text)"
   ]
  },
  {
   "cell_type": "code",
   "execution_count": 118,
   "id": "1d688985",
   "metadata": {},
   "outputs": [
    {
     "name": "stdout",
     "output_type": "stream",
     "text": [
      "http://v.media.daum.net/v/20210712105402540?f=o\n"
     ]
    }
   ],
   "source": [
    "#link\n",
    "newslink = driver.find_element_by_class_name('tit_main.ff_dot')\n",
    "print(newslink.get_attribute('href'))"
   ]
  },
  {
   "cell_type": "code",
   "execution_count": 117,
   "id": "090c0dd6",
   "metadata": {
    "scrolled": true
   },
   "outputs": [
    {
     "name": "stdout",
     "output_type": "stream",
     "text": [
      "http://v.media.daum.net/v/20210712105402540?f=o\n",
      "http://v.media.daum.net/v/20210712103849876?f=o\n",
      "http://v.media.daum.net/v/20210712090129402?f=o\n",
      "http://v.media.daum.net/v/20210712110045909?f=o\n"
     ]
    }
   ],
   "source": [
    "#links\n",
    "newslinks = driver.find_elements_by_class_name('tit_main.ff_dot')\n",
    "for newslink in newslinks:\n",
    "    print(newslink.get_attribute('href'))"
   ]
  },
  {
   "cell_type": "code",
   "execution_count": 123,
   "id": "068f41bc",
   "metadata": {},
   "outputs": [],
   "source": [
    "from selenium import webdriver\n",
    "url = \"https://www.naver.com\"\n",
    "driver = webdriver.Chrome('C:/tool/chromedriver.exe')\n",
    "driver.get(url)"
   ]
  },
  {
   "cell_type": "code",
   "execution_count": null,
   "id": "2a48664f",
   "metadata": {},
   "outputs": [],
   "source": []
  },
  {
   "cell_type": "code",
   "execution_count": null,
   "id": "79cff865",
   "metadata": {},
   "outputs": [],
   "source": [
    "<a href=\"https://blog.naver.com/iconms1/222301595227\" class=\"api_txt_lines total_tit\" data-recommend=\"1\" target=\"_blank\" onclick=\"return goOtherCR(this, 'a=rvw*b.link&amp;r=1&amp;i=90000003_0000000000000033C235265B&amp;u='+urlencode(this.href))\">c# <mark>selenium</mark> 웹브라우저 명령 셀레니움 사용하기 <mark>selenium</mark> web browser control MS IE11, IE앳지...</a>"
   ]
  },
  {
   "cell_type": "code",
   "execution_count": null,
   "id": "64f323d0",
   "metadata": {},
   "outputs": [],
   "source": []
  },
  {
   "cell_type": "code",
   "execution_count": null,
   "id": "f8c1de93",
   "metadata": {},
   "outputs": [],
   "source": []
  },
  {
   "cell_type": "code",
   "execution_count": null,
   "id": "d2db4a50",
   "metadata": {},
   "outputs": [],
   "source": []
  }
 ],
 "metadata": {
  "kernelspec": {
   "display_name": "Python 3",
   "language": "python",
   "name": "python3"
  },
  "language_info": {
   "codemirror_mode": {
    "name": "ipython",
    "version": 3
   },
   "file_extension": ".py",
   "mimetype": "text/x-python",
   "name": "python",
   "nbconvert_exporter": "python",
   "pygments_lexer": "ipython3",
   "version": "3.8.10"
  }
 },
 "nbformat": 4,
 "nbformat_minor": 5
}
