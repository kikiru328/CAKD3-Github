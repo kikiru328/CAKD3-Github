{
 "cells": [
  {
   "cell_type": "markdown",
   "id": "1841b71b",
   "metadata": {},
   "source": [
    "##### Selenium module\n",
    "- 웹 어플리케이션 테스트를 위한 프레임워크 : 홈페이지 테스트용으로 사용.\n",
    "- 사용자가 아닌 프로그램이 웹 브라우저를 제어할 수 있도록 지원\n",
    "- 웹 브라우저마다 클라이언트 프로그램 (Web Driver)이 별도로 필요하다. (웹 브라우저 <=> 프로그램간 통신 목적.)\n",
    "- 크롤링 보다는 웹을 제어하는 목적이 더 크다.\n",
    "- pip install selenium\n",
    "- web driver 설치 (크롬 버전 확인): https://chromedriver.chromium.org/downloads\n",
    "- 압축 해제한 후 chromedriver.exe.를 적당한 경로로 이동\n",
    "- selenium 모듈 호출 후 설치한 web driver 경로를 지정 (c://tool)\n",
    "\n",
    "이벤트로 제어하기: 브라우저를 직접 제어하기 때문에 직접 컨트롤하여 마우스 클릭, 키보드 입력, 자바 스크립트 이벤트 처리 가능.\n",
    "- 마우스 클릭 : click()\n",
    "- 키보드 입력 : send_keys()\n",
    "- 자바스크립트 삽입 : execute_script()\n",
    "- 입력 양식 전송 : submit()\n",
    "- 스크린샷 : screenshot(파일이름)\n",
    "- 글자지움 : clear()\n",
    "- 뒤로가기 : back()\n",
    "- 앞으로가기 : forward()\n",
    "\n",
    "Selenium 함수\n",
    "\n",
    "    find_element_by_id : id 속성을 사용하여 접근\n",
    "    find_element(s)_by_class_name : 클래스를 사용하여 접근\n",
    "    find_element(s)_by_name : 속성을 사용하여 접근\n",
    "    find_element(s)_by_xpath : xpath 속성을 사용하여 접근\n",
    "    find_element(s)_by_link_text : 앵커태그( a tag )에 사용되는 텍스트로 접근\n",
    "    find_element(s)_by_partial_link_text :  앵커태그 ( a tag )에 사용되는 일부 텍스트로 접근\n",
    "    find_element(s)_by_tag_name : 태그를 사용하여 접근\n",
    "    find_element(s)_by_css_selector : CSS 선택자를 사용하여 접근\n",
    "    "
   ]
  },
  {
   "cell_type": "code",
   "execution_count": 2,
   "id": "f332bedc",
   "metadata": {},
   "outputs": [
    {
     "name": "stdout",
     "output_type": "stream",
     "text": [
      "Collecting selenium\n",
      "  Downloading selenium-3.141.0-py2.py3-none-any.whl (904 kB)\n",
      "Requirement already satisfied: urllib3 in c:\\tool\\envs\\cakd3\\lib\\site-packages (from selenium) (1.26.4)\n",
      "Installing collected packages: selenium\n",
      "Successfully installed selenium-3.141.0\n"
     ]
    }
   ],
   "source": [
    "!pip install selenium"
   ]
  },
  {
   "cell_type": "code",
   "execution_count": 19,
   "id": "7701f5db",
   "metadata": {},
   "outputs": [],
   "source": [
    "import selenium\n",
    "from selenium import webdriver\n",
    "\n",
    "url = \"https://naver.com\"\n",
    "path = 'C:/tool/chromedriver.exe' #절대경로\n",
    "driver = webdriver.Chrome(path)\n",
    "driver.get(url)"
   ]
  },
  {
   "cell_type": "code",
   "execution_count": 18,
   "id": "b8098c54",
   "metadata": {},
   "outputs": [],
   "source": [
    "# driver.maximize_window() #최대화\n",
    "# driver.minimize_window() #최소화\n",
    "# driver.close() #창 종료"
   ]
  },
  {
   "cell_type": "code",
   "execution_count": 21,
   "id": "635fef32",
   "metadata": {},
   "outputs": [
    {
     "data": {
      "text/plain": [
       "'https://www.naver.com/'"
      ]
     },
     "execution_count": 21,
     "metadata": {},
     "output_type": "execute_result"
    }
   ],
   "source": [
    "driver.current_url #현재 url 출력"
   ]
  },
  {
   "cell_type": "code",
   "execution_count": 44,
   "id": "8a8c5cfa",
   "metadata": {},
   "outputs": [
    {
     "name": "stdout",
     "output_type": "stream",
     "text": [
      "빅 데이터 정의 | Oracle 대한민국\n",
      "서울특별시 빅데이터 캠퍼스\n",
      "빅데이터(big data) 이해 - 정의, 분석, 기술, 특징, 사례 연구\n",
      "빅데이터란? | 고급 빅 데이터 분석 | SAP Insights\n",
      "K-ICT 빅데이터센터\n",
      "빅 데이터란 무엇인가 - 대한당뇨병학회\n"
     ]
    }
   ],
   "source": [
    "from selenium import webdriver\n",
    "import time\n",
    "from selenium.webdriver.common.keys import Keys\n",
    "url = 'https://www.google.com'\n",
    "driver = webdriver.Chrome('C:/tool/chromedriver.exe') #드라이버 객체 설정 #path 변수 설정 가능\n",
    "driver.get(url)\n",
    "search_box = driver.find_element_by_xpath('/html/body/div[1]/div[3]/form/div[1]/div[1]/div[1]/div/div[2]/input')\n",
    "search_box.send_keys('빅데이터')\n",
    "search_box.send_keys(Keys.RETURN)\n",
    "elements = driver.find_elements_by_xpath('//*[@id=\"rso\"]/div/div/div/div/a/h3') #div 중복 번호 제거\n",
    "for e in elements:\n",
    "    print(e.text)\n",
    "    print(e.text, file=open('test_sel.txt','a', encoding='utf-8'))\n",
    "time.sleep(3)\n",
    "driver.close()"
   ]
  },
  {
   "cell_type": "markdown",
   "id": "834cef9c",
   "metadata": {},
   "source": [
    "구글 검색에서 '이대역 맛집'을 찾아 출력 및 저장하세요 상위 10개"
   ]
  },
  {
   "cell_type": "code",
   "execution_count": 54,
   "id": "67b37d18",
   "metadata": {},
   "outputs": [
    {
     "data": {
      "text/plain": [
       "list"
      ]
     },
     "execution_count": 54,
     "metadata": {},
     "output_type": "execute_result"
    }
   ],
   "source": [
    "from selenium import webdriver\n",
    "import time\n",
    "from selenium.webdriver.common.keys import Keys\n",
    "url = 'https://www.google.com'\n",
    "driver = webdriver.Chrome('C:/tool/chromedriver.exe')\n",
    "driver.get(url)\n",
    "search_box = driver.find_element_by_xpath('/html/body/div[1]/div[3]/form/div[1]/div[1]/div[1]/div/div[2]/input')\n",
    "search_box.send_keys('이대역 맛집')\n",
    "search_box.send_keys(Keys.RETURN)\n",
    "searching = driver.find_element_by_xpath('//*[@id=\"rso\"]/div[1]/div/div/div/div/div[5]/div/g-more-link/a/div')\n",
    "searching.click()\n",
    "elements = driver.find_elements_by_xpath('//*/div/div/a/div/div/div')\n",
    "for i,e in enumerate(elements):\n",
    "    print(i,e.text)\n",
    "    print(i,e.text, file=open('taste.txt','a',encoding='utf-8'))\n",
    "time.sleep(2)\n",
    "driver.close()\n",
    "type(elements)"
   ]
  },
  {
   "cell_type": "code",
   "execution_count": null,
   "id": "57c49f54",
   "metadata": {},
   "outputs": [],
   "source": []
  }
 ],
 "metadata": {
  "kernelspec": {
   "display_name": "Python 3",
   "language": "python",
   "name": "python3"
  },
  "language_info": {
   "codemirror_mode": {
    "name": "ipython",
    "version": 3
   },
   "file_extension": ".py",
   "mimetype": "text/x-python",
   "name": "python",
   "nbconvert_exporter": "python",
   "pygments_lexer": "ipython3",
   "version": "3.8.10"
  }
 },
 "nbformat": 4,
 "nbformat_minor": 5
}
