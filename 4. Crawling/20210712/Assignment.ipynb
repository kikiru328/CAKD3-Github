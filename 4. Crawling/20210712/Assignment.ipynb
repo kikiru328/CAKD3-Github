{
 "cells": [
  {
   "cell_type": "code",
   "execution_count": 41,
   "id": "3a63f04d",
   "metadata": {},
   "outputs": [],
   "source": [
    "from selenium import webdriver\n",
    "import time\n",
    "from selenium.webdriver.common.keys import Keys\n",
    "url = 'https://www.naver.com'\n",
    "driver = webdriver.Chrome('C:/tool/chromedriver.exe') #드라이버 객체 설정 #path 변수 설정 가능\n",
    "driver.get(url)"
   ]
  },
  {
   "cell_type": "code",
   "execution_count": 42,
   "id": "d4055846",
   "metadata": {},
   "outputs": [
    {
     "name": "stdout",
     "output_type": "stream",
     "text": [
      "제값 주고 사면 아깝잖아!\n",
      "0 https://shopping.naver.com/#lnb\n",
      "1 https://shopping.naver.com/#content\n",
      "2 http://www.naver.com/\n",
      "3 https://order.pay.naver.com/home?frm=s_logo\n",
      "4 https://shopping.naver.com/cart\n",
      "5 https://shopping.naver.com/home/p/index.nhn\n",
      "6 https://shoppinglive.naver.com/home\n",
      "7 https://shopping.naver.com/#\n",
      "8 https://shopping.naver.com/#\n",
      "9 https://help.pay.naver.com/faq/alias/keywords01.help\n"
     ]
    }
   ],
   "source": [
    "move_shopping = driver.find_element_by_class_name('nav.shop').click()\n",
    "text = driver.find_element_by_xpath('//*[@id=\"t138394\"]/div[1]/h3/strong')\n",
    "print(text.text)\n",
    "links = driver.find_elements_by_tag_name('a')\n",
    "for i in range(10):\n",
    "    print(i,links[i].get_attribute('href'))\n",
    "driver.close()"
   ]
  },
  {
   "cell_type": "code",
   "execution_count": null,
   "id": "03e29961",
   "metadata": {},
   "outputs": [],
   "source": []
  },
  {
   "cell_type": "code",
   "execution_count": 9,
   "id": "48de149b",
   "metadata": {},
   "outputs": [],
   "source": []
  },
  {
   "cell_type": "code",
   "execution_count": null,
   "id": "406bdcbd",
   "metadata": {},
   "outputs": [],
   "source": []
  }
 ],
 "metadata": {
  "kernelspec": {
   "display_name": "Python 3",
   "language": "python",
   "name": "python3"
  },
  "language_info": {
   "codemirror_mode": {
    "name": "ipython",
    "version": 3
   },
   "file_extension": ".py",
   "mimetype": "text/x-python",
   "name": "python",
   "nbconvert_exporter": "python",
   "pygments_lexer": "ipython3",
   "version": "3.8.10"
  }
 },
 "nbformat": 4,
 "nbformat_minor": 5
}
