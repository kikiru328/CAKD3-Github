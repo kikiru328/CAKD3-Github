{
 "cells": [
  {
   "cell_type": "markdown",
   "id": "f8240c27",
   "metadata": {},
   "source": [
    "Q1"
   ]
  },
  {
   "cell_type": "code",
   "execution_count": 1,
   "id": "0b000ba3",
   "metadata": {},
   "outputs": [
    {
     "name": "stdout",
     "output_type": "stream",
     "text": [
      "\n",
      "국가기술자격\n",
      "\n",
      "\n",
      "관련 근거\n",
      "\n",
      "국가기술자격법 및 동법 시행령\n",
      "\n",
      "\n",
      "\n",
      "빅데이터분석기사 정의\n",
      "\n",
      "빅데이터 이해를 기반으로 빅데이터 분석 기획, 빅데이터 수집·저장·처리, 빅데이터 분석 및 시각화를 수행하는 실무자를 말한다.\n",
      "\n",
      "\n",
      "\n",
      "빅데이터분석기사의 필요성\n",
      "\n",
      "전 세계적으로 빅데이터가 미래성장동력으로 인식돼, 각국 정부에서는 관련 기업투자를 끌어내는 등 국가·기업의 주요 전략분야로 부상하고 있다.\n",
      " 국가와 기업의 경쟁력 확보를 위해 빅데이터 분석 전문가의 수요는 증가하고 있으나, 수요 대비 공급 부족으로 인력 확보에 어려움이 높은 실정이다. \n",
      "이에 정부차원에서 빅데이터 분석 전문가 양성과 함께 체계적으로 역량을 검증할 수 있는 국가기술자격 수요가 높은 편이다.\n",
      "\n",
      "\n",
      "\n",
      "빅데이터분석기사의 직무\n",
      "\n",
      "대용량의 데이터 집합으로부터 유용한 정보를 찾고 결과를 예측하기 위해 목적에 따라 분석기술과 방법론을 기반으로 정형/비정형 대용량 데이터를 구축, 탐색, 분석하고 시각화를 수행하는 업무를 수행한다.\n",
      "\n",
      "\n",
      "\n",
      "\n"
     ]
    }
   ],
   "source": [
    "import urllib.request as req\n",
    "from bs4 import BeautifulSoup as b_s\n",
    "url = 'https://www.dataq.or.kr/www/sub/a_07.do'\n",
    "\n",
    "import requests\n",
    "from bs4 import BeautifulSoup\n",
    "\n",
    "data = requests.get(url).text\n",
    "\n",
    "bs = BeautifulSoup(data, 'html.parser')\n",
    "\n",
    "data1 = bs.find('div', id = 'tab1' )\n",
    "print (data1.text)\n"
   ]
  },
  {
   "cell_type": "code",
   "execution_count": 2,
   "id": "a4591487",
   "metadata": {},
   "outputs": [],
   "source": [
    "# 과제(자바스크립트 사용)\n",
    "# Q. 한빛 네트워크 로그인 후 공지사항 가져와서 출력하기"
   ]
  },
  {
   "cell_type": "code",
   "execution_count": 13,
   "id": "fc556a67",
   "metadata": {},
   "outputs": [
    {
     "name": "stdout",
     "output_type": "stream",
     "text": [
      "2,000 점\n"
     ]
    },
    {
     "ename": "AttributeError",
     "evalue": "'WebDriver' object has no attribute 'findElement'",
     "output_type": "error",
     "traceback": [
      "\u001b[1;31m---------------------------------------------------------------------------\u001b[0m",
      "\u001b[1;31mAttributeError\u001b[0m                            Traceback (most recent call last)",
      "\u001b[1;32m<ipython-input-13-279c7da2e982>\u001b[0m in \u001b[0;36m<module>\u001b[1;34m\u001b[0m\n\u001b[0;32m     24\u001b[0m \u001b[0mprint\u001b[0m\u001b[1;33m(\u001b[0m\u001b[0ma\u001b[0m\u001b[1;33m.\u001b[0m\u001b[0mtext\u001b[0m\u001b[1;33m,\u001b[0m\u001b[1;34m'점'\u001b[0m\u001b[1;33m)\u001b[0m\u001b[1;33m\u001b[0m\u001b[1;33m\u001b[0m\u001b[0m\n\u001b[0;32m     25\u001b[0m \u001b[0mtime\u001b[0m\u001b[1;33m.\u001b[0m\u001b[0msleep\u001b[0m\u001b[1;33m(\u001b[0m\u001b[1;36m3\u001b[0m\u001b[1;33m)\u001b[0m\u001b[1;33m\u001b[0m\u001b[1;33m\u001b[0m\u001b[0m\n\u001b[1;32m---> 26\u001b[1;33m \u001b[0mdriver\u001b[0m\u001b[1;33m.\u001b[0m\u001b[0mfindElement\u001b[0m\u001b[1;33m(\u001b[0m\u001b[0mBy\u001b[0m\u001b[1;33m.\u001b[0m\u001b[0mclassname\u001b[0m\u001b[1;33m(\u001b[0m\u001b[1;34m\"SUPPORT\"\u001b[0m\u001b[1;33m)\u001b[0m\u001b[1;33m)\u001b[0m\u001b[1;33m.\u001b[0m\u001b[0mclick\u001b[0m\u001b[1;33m(\u001b[0m\u001b[1;33m)\u001b[0m\u001b[1;33m\u001b[0m\u001b[1;33m\u001b[0m\u001b[0m\n\u001b[0m\u001b[0;32m     27\u001b[0m \u001b[1;31m# driver.close()\u001b[0m\u001b[1;33m\u001b[0m\u001b[1;33m\u001b[0m\u001b[1;33m\u001b[0m\u001b[0m\n",
      "\u001b[1;31mAttributeError\u001b[0m: 'WebDriver' object has no attribute 'findElement'"
     ]
    }
   ],
   "source": [
    "#과제 한빛네트워크\n",
    "import selenium\n",
    "from selenium import webdriver\n",
    "import time\n",
    "from bs4 import BeautifulSoup as b_s\n",
    "from selenium.webdriver.common.keys import Keys\n",
    "url = 'https://www.hanbit.co.kr/index.html'\n",
    "driver = webdriver.Chrome('D:/Tools/chromedriver.exe')\n",
    "driver.get(url)\n",
    "driver.find_element_by_class_name('login').click()\n",
    "m_id = 'kikiru328'\n",
    "m_passwd = '1a2s3d4f5g'\n",
    "ID = driver.find_element_by_name('m_id')\n",
    "time.sleep(1)\n",
    "ID.send_keys(m_id)\n",
    "PW = driver.find_element_by_id('m_passwd')\n",
    "PW.send_keys(m_passwd)\n",
    "time.sleep(1)\n",
    "driver.find_element_by_name('login_btn').click()\n",
    "driver.get('https://www.hanbit.co.kr/myhanbit/myhanbit.html')\n",
    "source = driver.page_source\n",
    "bs = BeautifulSoup(source, 'html.parser')\n",
    "a = bs.select_one('#container > div > div.sm_mymileage > dl.mileage_section1 > dd > span')\n",
    "print(a.text,'점')\n",
    "time.sleep(3)\n",
    "driver.findElement(By.classname(\"SUPPORT\")).click()\n",
    "# driver.close()"
   ]
  },
  {
   "cell_type": "code",
   "execution_count": null,
   "id": "1dae32f4",
   "metadata": {},
   "outputs": [],
   "source": [
    "# 과제\n",
    "# Q. 네이버 로그인 후 메일 목록 10개 가져오기(execute_script 사용)"
   ]
  },
  {
   "cell_type": "code",
   "execution_count": 25,
   "id": "3a43f705",
   "metadata": {},
   "outputs": [
    {
     "name": "stdout",
     "output_type": "stream",
     "text": [
      "Collecting pyperclip\n",
      "  Downloading pyperclip-1.8.2.tar.gz (20 kB)\n",
      "Building wheels for collected packages: pyperclip\n",
      "  Building wheel for pyperclip (setup.py): started\n",
      "  Building wheel for pyperclip (setup.py): finished with status 'done'\n",
      "  Created wheel for pyperclip: filename=pyperclip-1.8.2-py3-none-any.whl size=11107 sha256=ef84058e730ddcf69231ccbbae16ab17366442c154e0bf2bdb161e4ad4b0f428\n",
      "  Stored in directory: c:\\users\\kikir\\appdata\\local\\pip\\cache\\wheels\\7f\\1a\\65\\84ff8c386bec21fca6d220ea1f5498a0367883a78dd5ba6122\n",
      "Successfully built pyperclip\n",
      "Installing collected packages: pyperclip\n",
      "Successfully installed pyperclip-1.8.2\n"
     ]
    }
   ],
   "source": [
    "!pip install pyperclip"
   ]
  },
  {
   "cell_type": "code",
   "execution_count": 1,
   "id": "0d0c78fd",
   "metadata": {
    "scrolled": true
   },
   "outputs": [],
   "source": [
    "import selenium\n",
    "from selenium import webdriver\n",
    "import time\n",
    "from bs4 import BeautifulSoup as b_s\n",
    "from selenium.webdriver.common.keys import Keys\n",
    "import pyperclip\n",
    "\n",
    "options = webdriver.ChromeOptions()\n",
    "options.add_argument('headless')\n",
    "options.add_argument('Mozilla/5.0 (Windows NT 10.0; Win64; x64) AppleWebKit/537.36 (KHTML, like Gecko) Chrome/91.0.4472.124 Safari/537.36')\n",
    "options.add_argument('wiundow-size=1920x1080')\n",
    "options.add_argument('disable-gpu')\n",
    "options.add_argument(\"Chrome/91.0.4472.124\")\n",
    "options.add_argument('lang=ko_KR')\n",
    "driver = webdriver.Chrome('D:/Tools/chromedriver.exe',options=options)\n",
    "\n",
    "\n",
    "n_ID = 'kikiru328'\n",
    "n_PW = '!kkh9328'\n",
    "url = 'https://www.naver.com'\n",
    "\n",
    "driver.get(url)\n",
    "driver.implicitly_wait(5)\n",
    "\n",
    "login = driver.find_element_by_class_name('link_login').click()\n",
    "# id_box = driver.find_element_by_id('id')\n",
    "# id_box.click()\n",
    "driver.execute_script(\"document.getElementsByName('id')[0].value=\\'\"+n_ID+\"\\'\")\n",
    "time.sleep(3)\n",
    "# pyperclip.copy(n_ID)\n",
    "# time.sleep(1)\n",
    "# pw_box = driver.find_element_by_name('pw')\n",
    "# pw_box.click()\n",
    "# time.sleep(3)\n",
    "# pyperclip.copy(n_PW)\n",
    "driver.execute_script(\"document.getElementsByName('pw')[0].value=\\'\"+n_PW+\"\\'\")\n",
    "time.sleep(1)\n",
    "\n",
    "lgin_bt = driver.find_element_by_id('log.login').click()\n",
    "time.sleep(3)\n",
    "\n",
    "texts1=driver.find_element_by_id('idinquiry')\n",
    "print(texts1.text)\n",
    "\n",
    "# texts = driver.find_element_by_class_name('link_newsstand')\n",
    "# print(texts.text)\n",
    "driver.quit()\n"
   ]
  },
  {
   "cell_type": "code",
   "execution_count": null,
   "id": "e8416b6d",
   "metadata": {},
   "outputs": [],
   "source": [
    "from selenium import webdriver\n",
    "from selenium.webdriver.common.keys import Keys\n",
    "import time\n",
    "import pyperclip\n",
    "\n",
    "driver = webdriver.Chrome(\"D:/Tools/chromedriver.exe\")\n",
    "# url = 'https://nid.naver.com/nidlogin.login?mode=form&url=https%3A%2F%2Fwww.naver.com'\n",
    "url = 'http://www.naver.com'\n",
    "uid = 'kikiru328'\n",
    "upw = '!kkh9328'\n",
    "\n",
    "driver.get(url)\n",
    "time.sleep(2)\n",
    "login = driver.find_element_by_class_name('link_login')\n",
    "login.click()\n",
    "time.sleep(2)\n",
    "\n",
    "\n",
    "tag_id = driver.find_element_by_name('id')\n",
    "tag_pw = driver.find_element_by_name('pw')\n",
    "\n",
    "tag_id.click()\n",
    "pyperclip.copy(uid)\n",
    "tag_id.send_keys(Keys.CONTROL, 'v')\n",
    "time.sleep(1)\n",
    "\n",
    "tag_pw.click()\n",
    "pyperclip.copy(upw)\n",
    "tag_pw.send_keys(Keys.CONTROL, 'v')\n",
    "time.sleep(1)\n",
    "\n",
    "login_btn = driver.find_element_by_id('log.login')\n",
    "login_btn.click()\n",
    "time.sleep(2)"
   ]
  },
  {
   "cell_type": "code",
   "execution_count": 7,
   "id": "c460c55f",
   "metadata": {},
   "outputs": [],
   "source": [
    "from selenium import webdriver\n",
    "from bs4 import BeautifulSoup as bs\n",
    "import time\n",
    " \n",
    "# chromedriver의 위치 지정\n",
    "driver = webdriver.Chrome(\"D:/Tools/chromedriver.exe\")\n",
    " \n",
    "url = 'http://www.naver.com'\n",
    "driver.get(url)\n",
    "time.sleep(2)\n",
    "login = driver.find_element_by_class_name('link_login')\n",
    "login.click()\n",
    "time.sleep(2)\n",
    " \n",
    "## 네이버 로그인 우회 \n",
    " \n",
    "id_ = \"kikiru328\"\n",
    "pw = \"!kkh9328\"\n",
    " \n",
    "# execute_script 함수 사용 (자바스크립트로 아이디, 패스워드를 넘겨주는 형태)\n",
    "driver.execute_script(\"document.getElementsByName('id')[0].value=\\'\"+id_+\"\\'\")\n",
    "time.sleep(1)\n",
    "driver.execute_script(\"document.getElementsByName('pw')[0].value=\\'\"+pw+\"\\'\")\n",
    "time.sleep(1) \n",
    "driver.find_element_by_xpath('//*[@id=\"frmNIDLogin\"]/fieldset/input').click()\n",
    " \n",
    "time.sleep(2)\n",
    "# driver.close()"
   ]
  },
  {
   "cell_type": "code",
   "execution_count": null,
   "id": "19c92c5b",
   "metadata": {},
   "outputs": [],
   "source": []
  },
  {
   "cell_type": "code",
   "execution_count": null,
   "id": "a50744a4",
   "metadata": {},
   "outputs": [],
   "source": []
  },
  {
   "cell_type": "code",
   "execution_count": null,
   "id": "27a499f2",
   "metadata": {},
   "outputs": [],
   "source": []
  },
  {
   "cell_type": "code",
   "execution_count": null,
   "id": "2618482d",
   "metadata": {},
   "outputs": [],
   "source": []
  },
  {
   "cell_type": "code",
   "execution_count": null,
   "id": "80209535",
   "metadata": {},
   "outputs": [],
   "source": []
  },
  {
   "cell_type": "code",
   "execution_count": null,
   "id": "0d3cb420",
   "metadata": {},
   "outputs": [],
   "source": []
  },
  {
   "cell_type": "code",
   "execution_count": null,
   "id": "450bdfc0",
   "metadata": {},
   "outputs": [],
   "source": []
  },
  {
   "cell_type": "code",
   "execution_count": null,
   "id": "a23cbc65",
   "metadata": {},
   "outputs": [],
   "source": []
  },
  {
   "cell_type": "code",
   "execution_count": null,
   "id": "b3e37cbf",
   "metadata": {},
   "outputs": [],
   "source": []
  },
  {
   "cell_type": "code",
   "execution_count": null,
   "id": "2126e0a1",
   "metadata": {},
   "outputs": [],
   "source": []
  },
  {
   "cell_type": "code",
   "execution_count": null,
   "id": "d03b7fe3",
   "metadata": {},
   "outputs": [],
   "source": []
  },
  {
   "cell_type": "code",
   "execution_count": null,
   "id": "a17234b4",
   "metadata": {},
   "outputs": [],
   "source": []
  },
  {
   "cell_type": "code",
   "execution_count": null,
   "id": "352e50a7",
   "metadata": {},
   "outputs": [],
   "source": []
  },
  {
   "cell_type": "code",
   "execution_count": null,
   "id": "c324f96e",
   "metadata": {},
   "outputs": [],
   "source": []
  },
  {
   "cell_type": "code",
   "execution_count": null,
   "id": "c94b4401",
   "metadata": {},
   "outputs": [],
   "source": [
    "# 과제\n",
    "# Q. 할인된 가격이 적용되는 영화만 출력(할인 전 가격, 할인 후 가격, 링크)\n",
    "\n",
    "제목 : 삼국지: 무신 조자룡\n",
    "할인 전 금액 : ₩10,000\n",
    "할인 후 금액 : ₩5,000\n",
    "링크 :  https://play.google.com/store/movies/details/%EC%82%BC%EA%B5%AD%EC%A7%80_%EB%AC%B4%EC%8B%A0_%EC%A1%B0%EC%9E%90%EB%A3%A1?id=BliyeZrAeRc.P\n",
    "---------------------------------------------------------------------------------------------------------"
   ]
  }
 ],
 "metadata": {
  "kernelspec": {
   "display_name": "Python 3",
   "language": "python",
   "name": "python3"
  },
  "language_info": {
   "codemirror_mode": {
    "name": "ipython",
    "version": 3
   },
   "file_extension": ".py",
   "mimetype": "text/x-python",
   "name": "python",
   "nbconvert_exporter": "python",
   "pygments_lexer": "ipython3",
   "version": "3.8.10"
  }
 },
 "nbformat": 4,
 "nbformat_minor": 5
}
