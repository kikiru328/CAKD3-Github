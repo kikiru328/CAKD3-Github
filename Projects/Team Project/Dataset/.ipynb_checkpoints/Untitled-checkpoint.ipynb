{
 "cells": [
  {
   "cell_type": "code",
   "execution_count": 1,
   "id": "745e254f-fc3f-43c2-a877-01e1b3857a01",
   "metadata": {},
   "outputs": [],
   "source": [
    "import pandas as pd"
   ]
  },
  {
   "cell_type": "code",
   "execution_count": 2,
   "id": "04193efe-a325-4cb2-9f40-eee6e34aff49",
   "metadata": {},
   "outputs": [],
   "source": [
    "data = pd.read_csv('전국스마트가로등표준데이터.csv',encoding='cp949')"
   ]
  },
  {
   "cell_type": "code",
   "execution_count": 3,
   "id": "4848d6d3-2bc1-479d-bfe4-e1d65d688729",
   "metadata": {},
   "outputs": [
    {
     "data": {
      "text/plain": [
       "Index(['스마트가로등유형', '시도명', '시군구명', '도로명', '소재지도로명주소', '소재지지번주소', '위도', '경도',\n",
       "       '스마트가로등형태', '점등상태여부', '센서종류', '센싱정보서비스', 'CCTV유무', 'WiFi유무', 'GPS수신기유무',\n",
       "       '비콘유무', '조명제어여부', '위급상황신고가능여부', '앱서비스명', '앱서비스제공내용', '기타서비스', '설치연도',\n",
       "       '관리기관명', '관리기관전화번호', '데이터기준일자', '제공기관코드', '제공기관명'],\n",
       "      dtype='object')"
      ]
     },
     "execution_count": 3,
     "metadata": {},
     "output_type": "execute_result"
    }
   ],
   "source": [
    "data.columns"
   ]
  },
  {
   "cell_type": "code",
   "execution_count": 4,
   "id": "a5b50953-ae92-46bf-a535-de5f2db9ca80",
   "metadata": {},
   "outputs": [
    {
     "data": {
      "text/plain": [
       "전라남도     695\n",
       "충청남도     630\n",
       "경기도      528\n",
       "광주광역시    381\n",
       "강원도      342\n",
       "서울특별시    247\n",
       "부산광역시    183\n",
       "충청북도     121\n",
       "전라북도     116\n",
       "14         5\n",
       "Name: 시도명, dtype: int64"
      ]
     },
     "execution_count": 4,
     "metadata": {},
     "output_type": "execute_result"
    }
   ],
   "source": [
    "data['시도명'].value_counts()"
   ]
  },
  {
   "cell_type": "code",
   "execution_count": 5,
   "id": "370d2844-2654-4d8c-ac20-f51eb6df2a82",
   "metadata": {},
   "outputs": [
    {
     "data": {
      "text/plain": [
       "array([], dtype=object)"
      ]
     },
     "execution_count": 5,
     "metadata": {},
     "output_type": "execute_result"
    }
   ],
   "source": [
    "data[data['시도명']==' ']['시군구명'].unique()"
   ]
  },
  {
   "cell_type": "code",
   "execution_count": 6,
   "id": "6558c06d-59c9-40a6-92bd-b54c426413c1",
   "metadata": {},
   "outputs": [],
   "source": [
    "cn = data[data['시도명']=='충청남도']"
   ]
  },
  {
   "cell_type": "code",
   "execution_count": 8,
   "id": "263ba9e4-7e7b-4a2c-9f2f-a28466b52076",
   "metadata": {},
   "outputs": [
    {
     "ename": "NameError",
     "evalue": "name '싳cn' is not defined",
     "output_type": "error",
     "traceback": [
      "\u001b[1;31m---------------------------------------------------------------------------\u001b[0m",
      "\u001b[1;31mNameError\u001b[0m                                 Traceback (most recent call last)",
      "\u001b[1;32m<ipython-input-8-020cb0886a46>\u001b[0m in \u001b[0;36m<module>\u001b[1;34m\u001b[0m\n\u001b[1;32m----> 1\u001b[1;33m \u001b[0mcn\u001b[0m\u001b[1;33m[\u001b[0m\u001b[0m싳cn\u001b[0m\u001b[1;33m[\u001b[0m\u001b[1;34m'시군구명'\u001b[0m\u001b[1;33m]\u001b[0m\u001b[1;33m==\u001b[0m\u001b[1;34m'아산'\u001b[0m\u001b[1;33m]\u001b[0m\u001b[1;33m\u001b[0m\u001b[1;33m\u001b[0m\u001b[0m\n\u001b[0m",
      "\u001b[1;31mNameError\u001b[0m: name '싳cn' is not defined"
     ]
    }
   ],
   "source": [
    "cn[싳cn['시군구명']=='아산']"
   ]
  },
  {
   "cell_type": "code",
   "execution_count": null,
   "id": "4eff501c-f889-4729-8fa0-813fab75a4cf",
   "metadata": {},
   "outputs": [],
   "source": [
    "jb[jb['시군구명']=='고창군'][li]"
   ]
  },
  {
   "cell_type": "code",
   "execution_count": null,
   "id": "b7030bc1-7d42-4418-a360-5800e1f509e5",
   "metadata": {},
   "outputs": [],
   "source": []
  },
  {
   "cell_type": "code",
   "execution_count": null,
   "id": "17ee4fff-a919-4b55-8c23-5c099d801f59",
   "metadata": {},
   "outputs": [],
   "source": []
  },
  {
   "cell_type": "code",
   "execution_count": null,
   "id": "eebaeb9b-f112-4a0a-b510-1569f032b64c",
   "metadata": {},
   "outputs": [],
   "source": []
  },
  {
   "cell_type": "code",
   "execution_count": null,
   "id": "98b93fcd-d74d-4cfc-959d-4af9efc703a6",
   "metadata": {},
   "outputs": [],
   "source": []
  },
  {
   "cell_type": "code",
   "execution_count": null,
   "id": "653ef108-1b86-43b7-b978-14cc44886bc0",
   "metadata": {},
   "outputs": [],
   "source": [
    "gj = data[(data['시도명']=='광주광역시') & (data['시군구명']=='남구')]"
   ]
  },
  {
   "cell_type": "code",
   "execution_count": null,
   "id": "3aebb2cd-e472-4cdc-b3a3-918bb7a31696",
   "metadata": {},
   "outputs": [],
   "source": [
    "gj[gj['위급상황신고가능여부']=='Y']"
   ]
  },
  {
   "cell_type": "code",
   "execution_count": null,
   "id": "3bcf2159-750e-41c4-9283-e2d114bc873c",
   "metadata": {},
   "outputs": [],
   "source": []
  },
  {
   "cell_type": "code",
   "execution_count": null,
   "id": "974dea38-ed5c-4eec-8206-015ce017be69",
   "metadata": {},
   "outputs": [],
   "source": []
  },
  {
   "cell_type": "code",
   "execution_count": null,
   "id": "19faa1c9-e345-4da7-bfa7-ac6424c28c85",
   "metadata": {},
   "outputs": [],
   "source": []
  },
  {
   "cell_type": "code",
   "execution_count": null,
   "id": "7cc45f3a-bb48-4ab2-a34f-d64492c13731",
   "metadata": {},
   "outputs": [],
   "source": []
  },
  {
   "cell_type": "code",
   "execution_count": null,
   "id": "49570961-ab00-4a72-870f-54e670372a8a",
   "metadata": {},
   "outputs": [],
   "source": []
  },
  {
   "cell_type": "code",
   "execution_count": null,
   "id": "aef6b6d4-7a93-40e5-bb71-4a8a8e5ff659",
   "metadata": {},
   "outputs": [],
   "source": []
  },
  {
   "cell_type": "code",
   "execution_count": null,
   "id": "8ccd471c-d787-403f-b264-ba35f88d7f16",
   "metadata": {},
   "outputs": [],
   "source": []
  },
  {
   "cell_type": "code",
   "execution_count": null,
   "id": "2081775e-ebc6-4312-b58e-1b1f480b0a82",
   "metadata": {},
   "outputs": [],
   "source": []
  },
  {
   "cell_type": "code",
   "execution_count": null,
   "id": "07ef19ad-6203-4889-b2f6-51f4f9acb390",
   "metadata": {},
   "outputs": [],
   "source": []
  },
  {
   "cell_type": "code",
   "execution_count": null,
   "id": "f2232ed3-15e1-4078-814c-9aa96c72a021",
   "metadata": {},
   "outputs": [],
   "source": []
  },
  {
   "cell_type": "code",
   "execution_count": null,
   "id": "10e95ac9-1e44-4aa9-b0df-a25d5800b340",
   "metadata": {},
   "outputs": [],
   "source": []
  },
  {
   "cell_type": "code",
   "execution_count": null,
   "id": "6bfad1e4-6916-461b-98c4-d8546fd37894",
   "metadata": {},
   "outputs": [],
   "source": [
    "li = ['센서종류', '센싱정보서비스', 'CCTV유무', 'WiFi유무', 'GPS수신기유무',\n",
    "       '비콘유무', '조명제어여부', '위급상황신고가능여부', '앱서비스명', '앱서비스제공내용', '기타서비스']"
   ]
  },
  {
   "cell_type": "code",
   "execution_count": null,
   "id": "7f69496b-d821-4a52-904b-d630d47a0b7d",
   "metadata": {},
   "outputs": [],
   "source": []
  },
  {
   "cell_type": "code",
   "execution_count": null,
   "id": "5acff0ea-b44f-4a56-b5f0-75cafaeebcac",
   "metadata": {},
   "outputs": [],
   "source": []
  },
  {
   "cell_type": "code",
   "execution_count": null,
   "id": "159f25b2-427a-4fa5-a8b0-64e7f4cf81e8",
   "metadata": {},
   "outputs": [],
   "source": [
    "cb.equals(ccb)"
   ]
  },
  {
   "cell_type": "code",
   "execution_count": null,
   "id": "97a8ddf7-74d0-471f-bf79-1c6974bd4b7a",
   "metadata": {},
   "outputs": [],
   "source": []
  },
  {
   "cell_type": "code",
   "execution_count": null,
   "id": "a8beb0bb-6154-406a-b5fe-0b47a12b79a2",
   "metadata": {},
   "outputs": [],
   "source": [
    "ccb = pd.read_csv('충청북도_진천군_스마트가로등_20180831.csv',encoding='cp949')"
   ]
  },
  {
   "cell_type": "code",
   "execution_count": null,
   "id": "d3961d57-81a0-4a1b-bff8-8badbe6e13dd",
   "metadata": {},
   "outputs": [],
   "source": [
    "ccb"
   ]
  },
  {
   "cell_type": "code",
   "execution_count": null,
   "id": "90ba52c3-dedd-44a4-b642-0ca3cd380e53",
   "metadata": {},
   "outputs": [],
   "source": []
  }
 ],
 "metadata": {
  "kernelspec": {
   "display_name": "Python 3",
   "language": "python",
   "name": "python3"
  },
  "language_info": {
   "codemirror_mode": {
    "name": "ipython",
    "version": 3
   },
   "file_extension": ".py",
   "mimetype": "text/x-python",
   "name": "python",
   "nbconvert_exporter": "python",
   "pygments_lexer": "ipython3",
   "version": "3.8.8"
  }
 },
 "nbformat": 4,
 "nbformat_minor": 5
}
