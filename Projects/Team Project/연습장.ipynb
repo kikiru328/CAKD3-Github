{
 "cells": [
  {
   "cell_type": "code",
   "execution_count": 1,
   "id": "f50c935c",
   "metadata": {},
   "outputs": [],
   "source": [
    "import re"
   ]
  },
  {
   "cell_type": "code",
   "execution_count": 2,
   "id": "5607f41e",
   "metadata": {},
   "outputs": [],
   "source": [
    "a = '가양1동'                                                                                                             "
   ]
  },
  {
   "cell_type": "code",
   "execution_count": 20,
   "id": "b1d39d51",
   "metadata": {},
   "outputs": [],
   "source": [
    "p = re.compile('[가-힣]+[^0-9+]')"
   ]
  },
  {
   "cell_type": "code",
   "execution_count": 21,
   "id": "9df115c2",
   "metadata": {},
   "outputs": [
    {
     "data": {
      "text/plain": [
       "<re.Match object; span=(0, 3), match='가양1'>"
      ]
     },
     "execution_count": 21,
     "metadata": {},
     "output_type": "execute_result"
    }
   ],
   "source": [
    "p1 = p.search(a)\n",
    "p1"
   ]
  },
  {
   "cell_type": "code",
   "execution_count": 48,
   "id": "c7571c7a",
   "metadata": {},
   "outputs": [],
   "source": [
    "def C8(x):\n",
    "    import re\n",
    "\n",
    "    p = re.compile('[가-힣]+(d|)+(읍|면|동|가|리)')\n",
    "\n",
    "    r = p.findall(x)\n",
    "    \n",
    "    return ''.join(r)\n"
   ]
  },
  {
   "cell_type": "code",
   "execution_count": null,
   "id": "cc60bcb6",
   "metadata": {},
   "outputs": [],
   "source": [
    "def dong(x):\n",
    "    import re\n",
    "\n",
    "    p = re.compile('[가-힣]\\S*[0-9]{1}[읍면동가]')\n",
    "\n",
    "    r = p.findall(x)\n",
    "    \n",
    "    return ''.join(r)\n"
   ]
  },
  {
   "cell_type": "code",
   "execution_count": null,
   "id": "5981e95d",
   "metadata": {},
   "outputs": [],
   "source": [
    "([가-힣]+(d|)+(읍|면|동|가|리))"
   ]
  },
  {
   "cell_type": "code",
   "execution_count": 24,
   "id": "eec1a23e",
   "metadata": {},
   "outputs": [],
   "source": [
    "import pandas as pd"
   ]
  },
  {
   "cell_type": "code",
   "execution_count": 29,
   "id": "9e2d2fdf",
   "metadata": {
    "scrolled": true
   },
   "outputs": [],
   "source": [
    "practice = pd.read_csv('Dataset/human/서울.csv',index_col=0)"
   ]
  },
  {
   "cell_type": "code",
   "execution_count": 30,
   "id": "6f618505",
   "metadata": {},
   "outputs": [
    {
     "data": {
      "text/html": [
       "<div>\n",
       "<style scoped>\n",
       "    .dataframe tbody tr th:only-of-type {\n",
       "        vertical-align: middle;\n",
       "    }\n",
       "\n",
       "    .dataframe tbody tr th {\n",
       "        vertical-align: top;\n",
       "    }\n",
       "\n",
       "    .dataframe thead th {\n",
       "        text-align: right;\n",
       "    }\n",
       "</style>\n",
       "<table border=\"1\" class=\"dataframe\">\n",
       "  <thead>\n",
       "    <tr style=\"text-align: right;\">\n",
       "      <th></th>\n",
       "      <th>시군구</th>\n",
       "      <th>읍면동</th>\n",
       "    </tr>\n",
       "  </thead>\n",
       "  <tbody>\n",
       "    <tr>\n",
       "      <th>0</th>\n",
       "      <td>강남구</td>\n",
       "      <td>개포동</td>\n",
       "    </tr>\n",
       "    <tr>\n",
       "      <th>13</th>\n",
       "      <td>강남구</td>\n",
       "      <td>청담동</td>\n",
       "    </tr>\n",
       "    <tr>\n",
       "      <th>12</th>\n",
       "      <td>강남구</td>\n",
       "      <td>자곡동</td>\n",
       "    </tr>\n",
       "    <tr>\n",
       "      <th>10</th>\n",
       "      <td>강남구</td>\n",
       "      <td>율현동</td>\n",
       "    </tr>\n",
       "    <tr>\n",
       "      <th>9</th>\n",
       "      <td>강남구</td>\n",
       "      <td>역삼동</td>\n",
       "    </tr>\n",
       "    <tr>\n",
       "      <th>...</th>\n",
       "      <td>...</td>\n",
       "      <td>...</td>\n",
       "    </tr>\n",
       "    <tr>\n",
       "      <th>401</th>\n",
       "      <td>중랑구</td>\n",
       "      <td>망우동</td>\n",
       "    </tr>\n",
       "    <tr>\n",
       "      <th>402</th>\n",
       "      <td>중랑구</td>\n",
       "      <td>면목동</td>\n",
       "    </tr>\n",
       "    <tr>\n",
       "      <th>403</th>\n",
       "      <td>중랑구</td>\n",
       "      <td>묵동</td>\n",
       "    </tr>\n",
       "    <tr>\n",
       "      <th>404</th>\n",
       "      <td>중랑구</td>\n",
       "      <td>상봉동</td>\n",
       "    </tr>\n",
       "    <tr>\n",
       "      <th>406</th>\n",
       "      <td>중랑구</td>\n",
       "      <td>중화동</td>\n",
       "    </tr>\n",
       "  </tbody>\n",
       "</table>\n",
       "<p>407 rows × 2 columns</p>\n",
       "</div>"
      ],
      "text/plain": [
       "     시군구  읍면동\n",
       "0    강남구  개포동\n",
       "13   강남구  청담동\n",
       "12   강남구  자곡동\n",
       "10   강남구  율현동\n",
       "9    강남구  역삼동\n",
       "..   ...  ...\n",
       "401  중랑구  망우동\n",
       "402  중랑구  면목동\n",
       "403  중랑구   묵동\n",
       "404  중랑구  상봉동\n",
       "406  중랑구  중화동\n",
       "\n",
       "[407 rows x 2 columns]"
      ]
     },
     "execution_count": 30,
     "metadata": {},
     "output_type": "execute_result"
    }
   ],
   "source": [
    "practice"
   ]
  },
  {
   "cell_type": "code",
   "execution_count": 38,
   "id": "896c490e",
   "metadata": {},
   "outputs": [],
   "source": [
    "practice['연습'] = practice['읍면동'].apply(dong)"
   ]
  },
  {
   "cell_type": "code",
   "execution_count": 40,
   "id": "12a890d0",
   "metadata": {},
   "outputs": [
    {
     "data": {
      "text/html": [
       "<div>\n",
       "<style scoped>\n",
       "    .dataframe tbody tr th:only-of-type {\n",
       "        vertical-align: middle;\n",
       "    }\n",
       "\n",
       "    .dataframe tbody tr th {\n",
       "        vertical-align: top;\n",
       "    }\n",
       "\n",
       "    .dataframe thead th {\n",
       "        text-align: right;\n",
       "    }\n",
       "</style>\n",
       "<table border=\"1\" class=\"dataframe\">\n",
       "  <thead>\n",
       "    <tr style=\"text-align: right;\">\n",
       "      <th></th>\n",
       "      <th>시군구</th>\n",
       "      <th>읍면동</th>\n",
       "      <th>연습</th>\n",
       "    </tr>\n",
       "  </thead>\n",
       "  <tbody>\n",
       "    <tr>\n",
       "      <th>0</th>\n",
       "      <td>강남구</td>\n",
       "      <td>개포동</td>\n",
       "      <td></td>\n",
       "    </tr>\n",
       "    <tr>\n",
       "      <th>13</th>\n",
       "      <td>강남구</td>\n",
       "      <td>청담동</td>\n",
       "      <td></td>\n",
       "    </tr>\n",
       "    <tr>\n",
       "      <th>12</th>\n",
       "      <td>강남구</td>\n",
       "      <td>자곡동</td>\n",
       "      <td></td>\n",
       "    </tr>\n",
       "    <tr>\n",
       "      <th>10</th>\n",
       "      <td>강남구</td>\n",
       "      <td>율현동</td>\n",
       "      <td></td>\n",
       "    </tr>\n",
       "    <tr>\n",
       "      <th>9</th>\n",
       "      <td>강남구</td>\n",
       "      <td>역삼동</td>\n",
       "      <td></td>\n",
       "    </tr>\n",
       "    <tr>\n",
       "      <th>...</th>\n",
       "      <td>...</td>\n",
       "      <td>...</td>\n",
       "      <td>...</td>\n",
       "    </tr>\n",
       "    <tr>\n",
       "      <th>401</th>\n",
       "      <td>중랑구</td>\n",
       "      <td>망우동</td>\n",
       "      <td></td>\n",
       "    </tr>\n",
       "    <tr>\n",
       "      <th>402</th>\n",
       "      <td>중랑구</td>\n",
       "      <td>면목동</td>\n",
       "      <td></td>\n",
       "    </tr>\n",
       "    <tr>\n",
       "      <th>403</th>\n",
       "      <td>중랑구</td>\n",
       "      <td>묵동</td>\n",
       "      <td></td>\n",
       "    </tr>\n",
       "    <tr>\n",
       "      <th>404</th>\n",
       "      <td>중랑구</td>\n",
       "      <td>상봉동</td>\n",
       "      <td></td>\n",
       "    </tr>\n",
       "    <tr>\n",
       "      <th>406</th>\n",
       "      <td>중랑구</td>\n",
       "      <td>중화동</td>\n",
       "      <td></td>\n",
       "    </tr>\n",
       "  </tbody>\n",
       "</table>\n",
       "<p>407 rows × 3 columns</p>\n",
       "</div>"
      ],
      "text/plain": [
       "     시군구  읍면동 연습\n",
       "0    강남구  개포동   \n",
       "13   강남구  청담동   \n",
       "12   강남구  자곡동   \n",
       "10   강남구  율현동   \n",
       "9    강남구  역삼동   \n",
       "..   ...  ... ..\n",
       "401  중랑구  망우동   \n",
       "402  중랑구  면목동   \n",
       "403  중랑구   묵동   \n",
       "404  중랑구  상봉동   \n",
       "406  중랑구  중화동   \n",
       "\n",
       "[407 rows x 3 columns]"
      ]
     },
     "execution_count": 40,
     "metadata": {},
     "output_type": "execute_result"
    }
   ],
   "source": [
    "practice"
   ]
  },
  {
   "cell_type": "code",
   "execution_count": 116,
   "id": "07fe4497",
   "metadata": {},
   "outputs": [],
   "source": [
    "A = ['유훈1가','기범1동','승혜동1가','광훈1동1가','교동']"
   ]
  },
  {
   "cell_type": "code",
   "execution_count": 117,
   "id": "5fa0d7c7",
   "metadata": {},
   "outputs": [],
   "source": [
    "a = pd.DataFrame(A)"
   ]
  },
  {
   "cell_type": "code",
   "execution_count": 123,
   "id": "1ddf9f1c",
   "metadata": {},
   "outputs": [],
   "source": [
    "a = a.rename(columns={0:'B'})"
   ]
  },
  {
   "cell_type": "code",
   "execution_count": 124,
   "id": "9114ef8a",
   "metadata": {},
   "outputs": [
    {
     "data": {
      "text/html": [
       "<div>\n",
       "<style scoped>\n",
       "    .dataframe tbody tr th:only-of-type {\n",
       "        vertical-align: middle;\n",
       "    }\n",
       "\n",
       "    .dataframe tbody tr th {\n",
       "        vertical-align: top;\n",
       "    }\n",
       "\n",
       "    .dataframe thead th {\n",
       "        text-align: right;\n",
       "    }\n",
       "</style>\n",
       "<table border=\"1\" class=\"dataframe\">\n",
       "  <thead>\n",
       "    <tr style=\"text-align: right;\">\n",
       "      <th></th>\n",
       "      <th>B</th>\n",
       "    </tr>\n",
       "  </thead>\n",
       "  <tbody>\n",
       "    <tr>\n",
       "      <th>0</th>\n",
       "      <td>유훈1가</td>\n",
       "    </tr>\n",
       "    <tr>\n",
       "      <th>1</th>\n",
       "      <td>기범1동</td>\n",
       "    </tr>\n",
       "    <tr>\n",
       "      <th>2</th>\n",
       "      <td>승혜동1가</td>\n",
       "    </tr>\n",
       "    <tr>\n",
       "      <th>3</th>\n",
       "      <td>광훈1동1가</td>\n",
       "    </tr>\n",
       "    <tr>\n",
       "      <th>4</th>\n",
       "      <td>교동</td>\n",
       "    </tr>\n",
       "  </tbody>\n",
       "</table>\n",
       "</div>"
      ],
      "text/plain": [
       "        B\n",
       "0    유훈1가\n",
       "1    기범1동\n",
       "2   승혜동1가\n",
       "3  광훈1동1가\n",
       "4      교동"
      ]
     },
     "execution_count": 124,
     "metadata": {},
     "output_type": "execute_result"
    }
   ],
   "source": [
    "a"
   ]
  },
  {
   "cell_type": "code",
   "execution_count": 125,
   "id": "2566ebcc",
   "metadata": {},
   "outputs": [],
   "source": [
    "def dong(x):\n",
    "    import re\n",
    "\n",
    "    p = re.compile(\"[가-힣][^(구\\s)]+동[^1-9|가]\")\n",
    "\n",
    "    r = p.findall(x)\n",
    "    \n",
    "    return ''.join(r)\n"
   ]
  },
  {
   "cell_type": "code",
   "execution_count": 126,
   "id": "b342af17",
   "metadata": {},
   "outputs": [],
   "source": [
    "# [가-힣][^(구\\s)]+동[^1-9|가]"
   ]
  },
  {
   "cell_type": "code",
   "execution_count": null,
   "id": "99c9de3f",
   "metadata": {},
   "outputs": [],
   "source": [
    "a = '종로1가1동'\n",
    "\n",
    "import re\n",
    "data = '종로1가1동'\n",
    "results = re.split(r'\\d+',data)\n",
    "\n",
    "print(results[0])\n",
    "print(results[-1])"
   ]
  },
  {
   "cell_type": "code",
   "execution_count": 127,
   "id": "52a810f4",
   "metadata": {},
   "outputs": [],
   "source": [
    "def ga(x):\n",
    "    import re\n",
    "\n",
    "    p = re.compile(\"[가-힣]+\\s?[1-9]가\")\n",
    "\n",
    "    r = p.findall(x)\n",
    "    \n",
    "    return ''.join(r)\n"
   ]
  },
  {
   "cell_type": "code",
   "execution_count": 131,
   "id": "db856a61",
   "metadata": {},
   "outputs": [],
   "source": [
    "a['C'] = a['B'].apply(ga)"
   ]
  },
  {
   "cell_type": "code",
   "execution_count": 132,
   "id": "92a2f3de",
   "metadata": {},
   "outputs": [
    {
     "data": {
      "text/html": [
       "<div>\n",
       "<style scoped>\n",
       "    .dataframe tbody tr th:only-of-type {\n",
       "        vertical-align: middle;\n",
       "    }\n",
       "\n",
       "    .dataframe tbody tr th {\n",
       "        vertical-align: top;\n",
       "    }\n",
       "\n",
       "    .dataframe thead th {\n",
       "        text-align: right;\n",
       "    }\n",
       "</style>\n",
       "<table border=\"1\" class=\"dataframe\">\n",
       "  <thead>\n",
       "    <tr style=\"text-align: right;\">\n",
       "      <th></th>\n",
       "      <th>B</th>\n",
       "      <th>C</th>\n",
       "    </tr>\n",
       "  </thead>\n",
       "  <tbody>\n",
       "    <tr>\n",
       "      <th>0</th>\n",
       "      <td>유훈1가</td>\n",
       "      <td>유훈1가</td>\n",
       "    </tr>\n",
       "    <tr>\n",
       "      <th>1</th>\n",
       "      <td>기범1동</td>\n",
       "      <td></td>\n",
       "    </tr>\n",
       "    <tr>\n",
       "      <th>2</th>\n",
       "      <td>승혜동1가</td>\n",
       "      <td>승혜동1가</td>\n",
       "    </tr>\n",
       "    <tr>\n",
       "      <th>3</th>\n",
       "      <td>광훈1동1가</td>\n",
       "      <td>동1가</td>\n",
       "    </tr>\n",
       "    <tr>\n",
       "      <th>4</th>\n",
       "      <td>교동</td>\n",
       "      <td></td>\n",
       "    </tr>\n",
       "  </tbody>\n",
       "</table>\n",
       "</div>"
      ],
      "text/plain": [
       "        B      C\n",
       "0    유훈1가   유훈1가\n",
       "1    기범1동       \n",
       "2   승혜동1가  승혜동1가\n",
       "3  광훈1동1가    동1가\n",
       "4      교동       "
      ]
     },
     "execution_count": 132,
     "metadata": {},
     "output_type": "execute_result"
    }
   ],
   "source": [
    "a"
   ]
  },
  {
   "cell_type": "code",
   "execution_count": null,
   "id": "2c6c8f86",
   "metadata": {},
   "outputs": [],
   "source": []
  },
  {
   "cell_type": "code",
   "execution_count": null,
   "id": "26a0ecee",
   "metadata": {},
   "outputs": [],
   "source": []
  },
  {
   "cell_type": "code",
   "execution_count": null,
   "id": "048e8b48",
   "metadata": {},
   "outputs": [],
   "source": []
  },
  {
   "cell_type": "code",
   "execution_count": 90,
   "id": "fa11af92",
   "metadata": {},
   "outputs": [
    {
     "data": {
      "text/plain": [
       "array(['', '충정로3가', '충정로2가', '성수동2가', '금호동1가', '금호동2가', '성수동1가', '금호동4가',\n",
       "       '금호동3가', '삼선동1가', '삼선동2가', '안암동1가', '안암동3가', '안암동4가', '보문동7가',\n",
       "       '안암동2가', '안암동5가', '보문동5가', '보문동4가', '동선동1가', '보문동6가', '동선동4가',\n",
       "       '동소문동1가', '동선동3가', '동소문동4가', '동소문동5가', '동소문동6가', '동소문동7가', '보문동1가',\n",
       "       '보문동2가', '동소문동2가', '양평동2가', '양평동4가', '양평동5가', '양평동6가', '영등포동6가',\n",
       "       '영등포동2가', '영등포동3가', '영등포동4가', '양평동1가', '영등포동7가', '영등포동8가',\n",
       "       '영등포동1가', '양평동3가', '문래동6가', '당산동1가', '당산동2가', '당산동3가', '당산동4가',\n",
       "       '당산동6가', '문래동1가', '문래동2가', '문래동3가', '문래동4가', '문래동5가', '원효로4가',\n",
       "       '청파동1가', '청파동2가', '한강로2가', '한강로1가', '한강로3가', '원효로2가', '청파동3가',\n",
       "       '원효로1가', '원효로3가', '용산동5가', '용산동2가', '용산동4가', '용산동6가', '종로3가',\n",
       "       '종로2가', '종로4가', '종로5가', '신문로1가', '명륜2가', '명륜1가', '명륜3가', '명륜4가',\n",
       "       '을지로6가', '을지로7가', '의주로2가', '인현동2가', '장충동1가', '장충동2가', '저동2가',\n",
       "       '인현동1가', '태평로2가', '충무로2가', '충무로3가', '충무로4가', '충무로5가', '태평로1가',\n",
       "       '필동2가', '필동3가', '회현동1가', '을지로5가', '을지로4가', '봉래동2가', '을지로2가',\n",
       "       '광희동1가', '광희동2가', '남대문로1가', '남대문로3가', '남대문로5가', '남산동2가', '을지로3가',\n",
       "       '명동2가', '명동1가', '을지로1가'], dtype=object)"
      ]
     },
     "execution_count": 90,
     "metadata": {},
     "output_type": "execute_result"
    }
   ],
   "source": [
    "b['c8'].unique()"
   ]
  },
  {
   "cell_type": "code",
   "execution_count": null,
   "id": "3721f914",
   "metadata": {},
   "outputs": [],
   "source": [
    "practice = pd.read_csv('Dataset/human/서울.csv',index_col=0)"
   ]
  }
 ],
 "metadata": {
  "kernelspec": {
   "display_name": "Python 3",
   "language": "python",
   "name": "python3"
  },
  "language_info": {
   "codemirror_mode": {
    "name": "ipython",
    "version": 3
   },
   "file_extension": ".py",
   "mimetype": "text/x-python",
   "name": "python",
   "nbconvert_exporter": "python",
   "pygments_lexer": "ipython3",
   "version": "3.8.10"
  }
 },
 "nbformat": 4,
 "nbformat_minor": 5
}
