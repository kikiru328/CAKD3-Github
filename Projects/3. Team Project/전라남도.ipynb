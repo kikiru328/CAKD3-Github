{
 "cells": [
  {
   "cell_type": "code",
   "execution_count": 1,
   "id": "74d7446a",
   "metadata": {},
   "outputs": [],
   "source": [
    "import pandas as pd"
   ]
  },
  {
   "cell_type": "code",
   "execution_count": 2,
   "id": "36c028c5",
   "metadata": {},
   "outputs": [],
   "source": [
    "data = pd.read_csv('Dataset/전국스마트가로등표준데이터.csv',encoding='cp949')"
   ]
  },
  {
   "cell_type": "code",
   "execution_count": 3,
   "id": "765d1ac7",
   "metadata": {},
   "outputs": [
    {
     "data": {
      "text/plain": [
       "스마트가로등유형         0\n",
       "시도명              0\n",
       "시군구명             0\n",
       "도로명              0\n",
       "소재지도로명주소      1212\n",
       "소재지지번주소        797\n",
       "위도             104\n",
       "경도             107\n",
       "스마트가로등형태         0\n",
       "점등상태여부           0\n",
       "센서종류             0\n",
       "센싱정보서비스       2652\n",
       "CCTV유무           0\n",
       "WiFi유무           0\n",
       "GPS수신기유무         0\n",
       "비콘유무             0\n",
       "조명제어여부           0\n",
       "위급상황신고가능여부       0\n",
       "앱서비스명         2488\n",
       "앱서비스제공내용      2507\n",
       "기타서비스         2921\n",
       "설치연도          1796\n",
       "관리기관명            0\n",
       "관리기관전화번호         0\n",
       "데이터기준일자          0\n",
       "제공기관코드           0\n",
       "제공기관명            0\n",
       "dtype: int64"
      ]
     },
     "execution_count": 3,
     "metadata": {},
     "output_type": "execute_result"
    }
   ],
   "source": [
    "data.isnull().sum()"
   ]
  },
  {
   "cell_type": "code",
   "execution_count": 4,
   "id": "c98129f3",
   "metadata": {},
   "outputs": [
    {
     "data": {
      "text/plain": [
       "Index(['스마트가로등유형', '시도명', '시군구명', '도로명', '소재지도로명주소', '소재지지번주소', '위도', '경도',\n",
       "       '스마트가로등형태', '점등상태여부', '센서종류', '센싱정보서비스', 'CCTV유무', 'WiFi유무', 'GPS수신기유무',\n",
       "       '비콘유무', '조명제어여부', '위급상황신고가능여부', '앱서비스명', '앱서비스제공내용', '기타서비스', '설치연도',\n",
       "       '관리기관명', '관리기관전화번호', '데이터기준일자', '제공기관코드', '제공기관명'],\n",
       "      dtype='object')"
      ]
     },
     "execution_count": 4,
     "metadata": {},
     "output_type": "execute_result"
    }
   ],
   "source": [
    "data.columns"
   ]
  },
  {
   "cell_type": "code",
   "execution_count": 5,
   "id": "825cad29",
   "metadata": {},
   "outputs": [
    {
     "data": {
      "text/plain": [
       "array(['충청남도', '경기도', '전라남도', '광주광역시', '전라북도', '서울특별시', '강원도', '부산광역시',\n",
       "       '14', '충청북도'], dtype=object)"
      ]
     },
     "execution_count": 5,
     "metadata": {},
     "output_type": "execute_result"
    }
   ],
   "source": [
    "data['시도명'].unique()"
   ]
  },
  {
   "cell_type": "code",
   "execution_count": 6,
   "id": "c8d99805",
   "metadata": {},
   "outputs": [],
   "source": [
    "data['시도명'] = data['시도명'].replace('14','전라남도')"
   ]
  },
  {
   "cell_type": "code",
   "execution_count": 7,
   "id": "7de6ddbf",
   "metadata": {},
   "outputs": [
    {
     "data": {
      "text/plain": [
       "array(['장성군', '화순군', '순천시', '영광군', '신안군'], dtype=object)"
      ]
     },
     "execution_count": 7,
     "metadata": {},
     "output_type": "execute_result"
    }
   ],
   "source": [
    "data[data['시도명']=='전라남도']['시군구명'].unique()"
   ]
  },
  {
   "cell_type": "code",
   "execution_count": 8,
   "id": "75fad663",
   "metadata": {},
   "outputs": [],
   "source": [
    "jl = data[data['시도명']=='전라남도']"
   ]
  },
  {
   "cell_type": "code",
   "execution_count": 9,
   "id": "f5de3d74",
   "metadata": {},
   "outputs": [],
   "source": [
    "sinan = jl[jl['시군구명']=='신안군']"
   ]
  },
  {
   "cell_type": "code",
   "execution_count": 10,
   "id": "b4d74c47",
   "metadata": {
    "scrolled": true
   },
   "outputs": [],
   "source": [
    "cols = ['시도명','시군구명','']"
   ]
  },
  {
   "cell_type": "code",
   "execution_count": 11,
   "id": "be0b95c6",
   "metadata": {},
   "outputs": [],
   "source": [
    "import re\n",
    "def dong(x):\n",
    "    dong = re.sub('전라남도 신안군',\"\",x)\n",
    "    dong = dong.lstrip()\n",
    "    comp = re.compile('[가-힣]+')\n",
    "    dong = comp.match(dong)\n",
    "    dong = dong.group()\n",
    "    return dong"
   ]
  },
  {
   "cell_type": "code",
   "execution_count": 12,
   "id": "78465628",
   "metadata": {},
   "outputs": [
    {
     "name": "stderr",
     "output_type": "stream",
     "text": [
      "<ipython-input-12-cd3c8357c9a4>:1: SettingWithCopyWarning: \n",
      "A value is trying to be set on a copy of a slice from a DataFrame.\n",
      "Try using .loc[row_indexer,col_indexer] = value instead\n",
      "\n",
      "See the caveats in the documentation: https://pandas.pydata.org/pandas-docs/stable/user_guide/indexing.html#returning-a-view-versus-a-copy\n",
      "  sinan['동'] = sinan['소재지지번주소'].apply(lambda x : dong(x))\n"
     ]
    }
   ],
   "source": [
    "sinan['동'] = sinan['소재지지번주소'].apply(lambda x : dong(x))"
   ]
  },
  {
   "cell_type": "code",
   "execution_count": 13,
   "id": "37b42e33",
   "metadata": {},
   "outputs": [
    {
     "data": {
      "text/plain": [
       "Index(['스마트가로등유형', '시도명', '시군구명', '도로명', '소재지도로명주소', '소재지지번주소', '위도', '경도',\n",
       "       '스마트가로등형태', '점등상태여부', '센서종류', '센싱정보서비스', 'CCTV유무', 'WiFi유무', 'GPS수신기유무',\n",
       "       '비콘유무', '조명제어여부', '위급상황신고가능여부', '앱서비스명', '앱서비스제공내용', '기타서비스', '설치연도',\n",
       "       '관리기관명', '관리기관전화번호', '데이터기준일자', '제공기관코드', '제공기관명', '동'],\n",
       "      dtype='object')"
      ]
     },
     "execution_count": 13,
     "metadata": {},
     "output_type": "execute_result"
    }
   ],
   "source": [
    "sinan.columns"
   ]
  },
  {
   "cell_type": "code",
   "execution_count": 14,
   "id": "3eab919b",
   "metadata": {},
   "outputs": [],
   "source": [
    "fuc = ['센싱정보서비스', 'CCTV유무', 'WiFi유무', 'GPS수신기유무',\n",
    "       '비콘유무', '조명제어여부', '위급상황신고가능여부', '앱서비스명', '앱서비스제공내용', '기타서비스']"
   ]
  },
  {
   "cell_type": "code",
   "execution_count": 15,
   "id": "31a9baa3",
   "metadata": {},
   "outputs": [],
   "source": [
    "cols = ['시도명','시군구명','동'] + fuc"
   ]
  },
  {
   "cell_type": "code",
   "execution_count": 16,
   "id": "c5bcb904",
   "metadata": {},
   "outputs": [
    {
     "name": "stderr",
     "output_type": "stream",
     "text": [
      "<ipython-input-16-fc8bc8585e79>:1: SettingWithCopyWarning: \n",
      "A value is trying to be set on a copy of a slice from a DataFrame.\n",
      "Try using .loc[row_indexer,col_indexer] = value instead\n",
      "\n",
      "See the caveats in the documentation: https://pandas.pydata.org/pandas-docs/stable/user_guide/indexing.html#returning-a-view-versus-a-copy\n",
      "  sinan['설치유무'] = 1\n"
     ]
    }
   ],
   "source": [
    "sinan['설치유무'] = 1"
   ]
  },
  {
   "cell_type": "code",
   "execution_count": 17,
   "id": "80d35102",
   "metadata": {},
   "outputs": [],
   "source": [
    "all_sinan_dong = ['지도읍','압해읍','증도면','임자면','자은면','비금면','도초면','흑산면','하의면','신의면','장산면','안좌면','팔금면','암태면']"
   ]
  },
  {
   "cell_type": "code",
   "execution_count": 18,
   "id": "efbef341",
   "metadata": {},
   "outputs": [],
   "source": [
    "sinan_dong = sinan['동'].unique().tolist()"
   ]
  },
  {
   "cell_type": "code",
   "execution_count": null,
   "id": "03611cba",
   "metadata": {},
   "outputs": [],
   "source": [
    "no = []\n",
    "for i in all_sinan_dong:\n",
    "    if (sinan[i])"
   ]
  },
  {
   "cell_type": "code",
   "execution_count": null,
   "id": "dd380142",
   "metadata": {},
   "outputs": [],
   "source": []
  }
 ],
 "metadata": {
  "kernelspec": {
   "display_name": "Python 3",
   "language": "python",
   "name": "python3"
  },
  "language_info": {
   "codemirror_mode": {
    "name": "ipython",
    "version": 3
   },
   "file_extension": ".py",
   "mimetype": "text/x-python",
   "name": "python",
   "nbconvert_exporter": "python",
   "pygments_lexer": "ipython3",
   "version": "3.8.10"
  }
 },
 "nbformat": 4,
 "nbformat_minor": 5
}
