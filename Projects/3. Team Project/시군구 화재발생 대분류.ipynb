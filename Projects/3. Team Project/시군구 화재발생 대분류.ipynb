{
 "cells": [
  {
   "cell_type": "code",
   "execution_count": 1,
   "id": "20557c85",
   "metadata": {},
   "outputs": [],
   "source": [
    "import pandas as pd\n",
    "import numpy as np\n",
    "import seaborn as sns\n",
    "import matplotlib.pyplot as plt\n",
    "%matplotlib inline\n",
    "plt.style.use('seaborn-dark')\n",
    "%config InlineBackend.figure_format = 'retina'\n",
    "pd.options.display.max_rows = 20\n",
    "pd.options.display.max_columns = 20\n",
    "\n",
    "plt.rcParams[\"figure.figsize\"] = (14,4)\n",
    "plt.rcParams['lines.linewidth'] = 2\n",
    "plt.rcParams['lines.color'] = 'r'\n",
    "plt.rcParams['axes.grid'] = True"
   ]
  },
  {
   "cell_type": "markdown",
   "id": "eb6b1036",
   "metadata": {},
   "source": [
    "데이터셋 - 화재통계"
   ]
  },
  {
   "cell_type": "code",
   "execution_count": 2,
   "id": "df26fcbf",
   "metadata": {},
   "outputs": [
    {
     "name": "stdout",
     "output_type": "stream",
     "text": [
      "<class 'pandas.core.frame.DataFrame'>\n",
      "Int64Index: 44178 entries, 1 to 44178\n",
      "Data columns (total 13 columns):\n",
      " #   Column     Non-Null Count  Dtype  \n",
      "---  ------     --------------  -----  \n",
      " 0   사망         44178 non-null  int64  \n",
      " 1   부상         44178 non-null  int64  \n",
      " 2   인명피해(명)소계  44178 non-null  int64  \n",
      " 3   화재발생년월일    44178 non-null  object \n",
      " 4   시도         44178 non-null  object \n",
      " 5   시군구        44178 non-null  object \n",
      " 6   읍면동        44164 non-null  object \n",
      " 7   재산피해소계     44178 non-null  int64  \n",
      " 8   부동산        40320 non-null  float64\n",
      " 9   동산         40320 non-null  float64\n",
      " 10  장소대분류      44178 non-null  object \n",
      " 11  장소중분류      44178 non-null  object \n",
      " 12  장소소분류      44178 non-null  object \n",
      "dtypes: float64(2), int64(4), object(7)\n",
      "memory usage: 4.7+ MB\n"
     ]
    },
    {
     "data": {
      "text/plain": [
       "사망              0\n",
       "부상              0\n",
       "인명피해(명)소계       0\n",
       "화재발생년월일         0\n",
       "시도              0\n",
       "시군구             0\n",
       "읍면동            14\n",
       "재산피해소계          0\n",
       "부동산          3858\n",
       "동산           3858\n",
       "장소대분류           0\n",
       "장소중분류           0\n",
       "장소소분류           0\n",
       "dtype: int64"
      ]
     },
     "execution_count": 2,
     "metadata": {},
     "output_type": "execute_result"
    }
   ],
   "source": [
    "fire_data = pd.read_csv('Dataset/화재발생정보.csv', encoding='cp949',index_col='연번')\n",
    "fdf = fire_data.copy()\n",
    "\n",
    "fdf.info()\n",
    "fdf.isnull().sum()\n",
    "# 읍면동 14/ 부동산/동산 3858"
   ]
  },
  {
   "cell_type": "markdown",
   "id": "7470d8e2",
   "metadata": {},
   "source": [
    "결측값 처리"
   ]
  },
  {
   "cell_type": "code",
   "execution_count": 3,
   "id": "c4129d61",
   "metadata": {},
   "outputs": [],
   "source": [
    "fdf = fdf.drop(['부동산','동산'],axis=1)\n",
    "\n",
    "fdf['읍면동'].isnull().sum()\n",
    "fdf_null = fdf[fdf['읍면동'].isnull()==1]\n",
    "fdf_null # 모두 경기도 부천시 <<\n",
    "fdf = fdf.drop(fdf_null.index)"
   ]
  },
  {
   "cell_type": "code",
   "execution_count": 4,
   "id": "7f182a4a",
   "metadata": {},
   "outputs": [
    {
     "ename": "NameError",
     "evalue": "name 'fdf_seoul' is not defined",
     "output_type": "error",
     "traceback": [
      "\u001b[1;31m---------------------------------------------------------------------------\u001b[0m",
      "\u001b[1;31mNameError\u001b[0m                                 Traceback (most recent call last)",
      "\u001b[1;32m<ipython-input-4-c6baf7ac7134>\u001b[0m in \u001b[0;36m<module>\u001b[1;34m\u001b[0m\n\u001b[1;32m----> 1\u001b[1;33m \u001b[0mfdf_seoul_location\u001b[0m \u001b[1;33m=\u001b[0m \u001b[0mfdf_seoul\u001b[0m\u001b[1;33m[\u001b[0m\u001b[1;33m[\u001b[0m\u001b[1;34m'시군구'\u001b[0m\u001b[1;33m,\u001b[0m\u001b[1;34m'장소대분류'\u001b[0m\u001b[1;33m,\u001b[0m\u001b[1;34m'장소중분류'\u001b[0m\u001b[1;33m]\u001b[0m\u001b[1;33m]\u001b[0m\u001b[1;33m\u001b[0m\u001b[1;33m\u001b[0m\u001b[0m\n\u001b[0m",
      "\u001b[1;31mNameError\u001b[0m: name 'fdf_seoul' is not defined"
     ]
    }
   ],
   "source": [
    "fdf_seoul_location = fdf_seoul[['시군구','장소대분류','장소중분류']]"
   ]
  },
  {
   "cell_type": "code",
   "execution_count": null,
   "id": "4c338b42",
   "metadata": {},
   "outputs": [],
   "source": [
    "fire_loc_seoul = pd.pivot_table(fdf_seoul_location,index=['시군구'],columns=['장소대분류'],aggfunc='count',fill_value=0)\n",
    "fire_loc_seoul"
   ]
  },
  {
   "cell_type": "code",
   "execution_count": null,
   "id": "dc83d02b",
   "metadata": {},
   "outputs": [],
   "source": []
  }
 ],
 "metadata": {
  "kernelspec": {
   "display_name": "Python 3",
   "language": "python",
   "name": "python3"
  },
  "language_info": {
   "codemirror_mode": {
    "name": "ipython",
    "version": 3
   },
   "file_extension": ".py",
   "mimetype": "text/x-python",
   "name": "python",
   "nbconvert_exporter": "python",
   "pygments_lexer": "ipython3",
   "version": "3.8.10"
  }
 },
 "nbformat": 4,
 "nbformat_minor": 5
}
