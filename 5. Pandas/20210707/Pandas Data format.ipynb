{
 "cells": [
  {
   "cell_type": "markdown",
   "id": "99defd34",
   "metadata": {},
   "source": [
    "### Pandas\n",
    "    - 판다스는 구조화 된 데이터 형식을 제공. Series = 1차원 배열. DataFrame = 2차원 배열.\n",
    "    - 라이브러리는 여러 종류의 class와 다양한 내장 함수로 구성. Series 와 DataFrame 대표적인 클래스 객체.\n",
    "    - 시리즈 인덱스는 데이터 값과 1:1대응. 파이썬 딕셔너리와 비슷한 구조. pandas.Series(dictionary)\n",
    "\n",
    "* Contents\n",
    "* Series(변환,인덱스 구조, 원소 선택)\n",
    "* DataFrame(변환, 행인덱스/열이름 지정, 삭제, 선택, 추가, 변경, 전치 , 인덱스활용 )"
   ]
  },
  {
   "cell_type": "markdown",
   "id": "6ade3197",
   "metadata": {},
   "source": [
    "#### Import pandas"
   ]
  },
  {
   "cell_type": "code",
   "execution_count": 3,
   "id": "6bd74bdb",
   "metadata": {},
   "outputs": [],
   "source": [
    "import pandas as pd"
   ]
  },
  {
   "cell_type": "markdown",
   "id": "3232a403",
   "metadata": {},
   "source": [
    "###### Series class"
   ]
  },
  {
   "cell_type": "code",
   "execution_count": 10,
   "id": "3c587c2a",
   "metadata": {},
   "outputs": [
    {
     "name": "stdout",
     "output_type": "stream",
     "text": [
      "<class 'pandas.core.series.Series'>\n",
      "a    1\n",
      "b    2\n",
      "c    3\n",
      "dtype: int64\n"
     ]
    }
   ],
   "source": [
    "# K : V 를 갖는 DICT 를 만들고 변수 dict_data 에 저장\n",
    "dict_data = {'a':1,'b':2,'c':3}\n",
    "srD = pd.Series(dict_data) #자동 index 설정\n",
    "print(type(srD)) \n",
    "print(srD)"
   ]
  },
  {
   "cell_type": "code",
   "execution_count": 19,
   "id": "da4a7ebf",
   "metadata": {},
   "outputs": [
    {
     "name": "stdout",
     "output_type": "stream",
     "text": [
      "<class 'pandas.core.series.Series'>\n",
      "a    2019-07-02\n",
      "b          3.14\n",
      "c           ABC\n",
      "d           100\n",
      "e          True\n",
      "dtype: object\n"
     ]
    }
   ],
   "source": [
    "# LIST to Series\n",
    "List_data = ['2019-07-02',3.14,'ABC',100,True]\n",
    "srL = pd.Series(List_data,index=list('abcde')) # index 설정.    #list('문자열') - 문자열을 나눔.\n",
    "print(type(srL))\n",
    "print(srL)"
   ]
  },
  {
   "cell_type": "code",
   "execution_count": 21,
   "id": "bdac69e1",
   "metadata": {},
   "outputs": [
    {
     "name": "stdout",
     "output_type": "stream",
     "text": [
      "Index(['a', 'b', 'c', 'd', 'e'], dtype='object')\n",
      "['2019-07-02' 3.14 'ABC' 100 True]\n"
     ]
    }
   ],
   "source": [
    "# index / value\n",
    "idx = srL.index\n",
    "val = srL.values\n",
    "print(idx)\n",
    "print(val)"
   ]
  },
  {
   "cell_type": "code",
   "execution_count": null,
   "id": "10d01d2c",
   "metadata": {},
   "outputs": [],
   "source": []
  }
 ],
 "metadata": {
  "kernelspec": {
   "display_name": "Python 3",
   "language": "python",
   "name": "python3"
  },
  "language_info": {
   "codemirror_mode": {
    "name": "ipython",
    "version": 3
   },
   "file_extension": ".py",
   "mimetype": "text/x-python",
   "name": "python",
   "nbconvert_exporter": "python",
   "pygments_lexer": "ipython3",
   "version": "3.8.10"
  }
 },
 "nbformat": 4,
 "nbformat_minor": 5
}
