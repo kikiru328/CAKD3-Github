{
 "cells": [
  {
   "cell_type": "markdown",
   "id": "c8f7c898",
   "metadata": {},
   "source": [
    "### Pandas\n",
    "    - 판다스는 구조화 된 데이터 형식을 제공. Series = 1차원 배열. DataFrame = 2차원 배열.\n",
    "    - 라이브러리는 여러 종류의 class와 다양한 내장 함수로 구성. Series 와 DataFrame 대표적인 클래스 객체.\n",
    "    - 시리즈 인덱스는 데이터 값과 1:1대응. 파이썬 딕셔너리와 비슷한 구조. pandas.Series(dictionary)\n",
    "\n",
    "* Contents\n",
    "* Series(변환,인덱스 구조, 원소 선택)\n",
    "* DataFrame(변환, 행인덱스/열이름 지정, 삭제, 선택, 추가, 변경, 전치 , 인덱스활용 )"
   ]
  },
  {
   "cell_type": "markdown",
   "id": "95ff1c9f",
   "metadata": {},
   "source": [
    "#### Import pandas"
   ]
  },
  {
   "cell_type": "code",
   "execution_count": 3,
   "id": "093d99a4",
   "metadata": {},
   "outputs": [],
   "source": [
    "import pandas as pd"
   ]
  },
  {
   "cell_type": "markdown",
   "id": "96adddf9",
   "metadata": {},
   "source": [
    "#### Series class"
   ]
  },
  {
   "cell_type": "code",
   "execution_count": 68,
   "id": "f31c44b3",
   "metadata": {},
   "outputs": [
    {
     "name": "stdout",
     "output_type": "stream",
     "text": [
      "<class 'pandas.core.series.Series'>\n",
      "a    1\n",
      "b    2\n",
      "c    3\n",
      "dtype: int64\n"
     ]
    }
   ],
   "source": [
    "# K : V 를 갖는 DICT 를 만들고 변수 dict_data 에 저장\n",
    "dict_data = {'a':1,'b':2,'c':3}\n",
    "srD = pd.Series(dict_data) #자동 index 설정\n",
    "print(type(srD)) \n",
    "print(srD)"
   ]
  },
  {
   "cell_type": "code",
   "execution_count": 30,
   "id": "5c391ef7",
   "metadata": {},
   "outputs": [
    {
     "name": "stdout",
     "output_type": "stream",
     "text": [
      "<class 'pandas.core.series.Series'>\n",
      "a    2019-07-02\n",
      "b          3.14\n",
      "c           ABC\n",
      "d           100\n",
      "e          True\n",
      "dtype: object\n",
      "\n",
      "\n",
      "Index(['a', 'b', 'c', 'd', 'e'], dtype='object')\n",
      "['2019-07-02' 3.14 'ABC' 100 True]\n"
     ]
    }
   ],
   "source": [
    "# LIST to Series\n",
    "List_data = ['2019-07-02',3.14,'ABC',100,True]\n",
    "srL = pd.Series(List_data,index=list('abcde')) # index 설정.    #list('문자열') - 문자열을 나눔.\n",
    "print(type(srL))\n",
    "print(srL)\n",
    "\n",
    "print('\\n')\n",
    "# index / value\n",
    "idx = srL.index\n",
    "val = srL.values\n",
    "print(idx)\n",
    "print(val)"
   ]
  },
  {
   "cell_type": "code",
   "execution_count": 69,
   "id": "e8ee1b45",
   "metadata": {},
   "outputs": [
    {
     "name": "stdout",
     "output_type": "stream",
     "text": [
      "<class 'pandas.core.series.Series'>\n",
      "이름           Kevin\n",
      "생년월일    2021-07-07\n",
      "성별               남\n",
      "학생여부          True\n",
      "dtype: object\n",
      "\n",
      "\n",
      "Kevin\n",
      "Kevin\n",
      "생년월일    2021-07-07\n",
      "성별               남\n",
      "dtype: object\n"
     ]
    }
   ],
   "source": [
    "# Tuple to Seires\n",
    "tup_data = ('Kevin','2021-07-07','남',True)\n",
    "srT = pd.Series(tup_data, index = ['이름','생년월일','성별','학생여부'])\n",
    "print(type(srT))\n",
    "print(srT)\n",
    "#open API json으로 불러왔을떈 DICT 포맷. --> Series/DataFrame변경가능\n",
    "print('\\n')\n",
    "\n",
    "#indexing\n",
    "print(srT[0])\n",
    "print(srT['이름'])\n",
    "print(srT[[1,2]]) #색인시 [[]]"
   ]
  },
  {
   "cell_type": "markdown",
   "id": "f1919a56",
   "metadata": {},
   "source": [
    "#### Numpy"
   ]
  },
  {
   "cell_type": "code",
   "execution_count": 47,
   "id": "bd026e86",
   "metadata": {},
   "outputs": [
    {
     "name": "stdout",
     "output_type": "stream",
     "text": [
      "<class 'numpy.ndarray'> [11 12 13 14 15]\n",
      "\n",
      "\n",
      "<class 'pandas.core.series.Series'> 0    11\n",
      "1    12\n",
      "2    13\n",
      "3    14\n",
      "4    15\n",
      "dtype: int32\n",
      "\n",
      "\n",
      "<class 'list'> [11, 12, 13, 14, 15]\n"
     ]
    }
   ],
   "source": [
    "import numpy as np\n",
    "\n",
    "npA = np.arange(11,16)\n",
    "print(type(s1),s1) #numpy.ndarray\n",
    "print('\\n')\n",
    "\n",
    "srA = pd.Series(npA)\n",
    "print(type(srA),srA)\n",
    "print('\\n')\n",
    "\n",
    "sL = s1.tolist()\n",
    "print(type(sL),sL)"
   ]
  },
  {
   "cell_type": "markdown",
   "id": "c3732d8e",
   "metadata": {},
   "source": [
    "Q.\n",
    "       \n",
    "    밑과 같이 출력하시오"
   ]
  },
  {
   "cell_type": "code",
   "execution_count": 84,
   "id": "acb59b1b",
   "metadata": {},
   "outputs": [
    {
     "name": "stdout",
     "output_type": "stream",
     "text": [
      "state\n",
      "California    1000\n",
      "Ohio          2000\n",
      "Oregon        3000\n",
      "Texas         4000\n",
      "Name: population, dtype: int32\n",
      "\n",
      "\n",
      "state\n",
      "California       NaN\n",
      "Ohio          2000.0\n",
      "Oregon        3000.0\n",
      "Texas         4000.0\n",
      "Name: population, dtype: float64\n",
      "\n",
      "\n",
      "state\n",
      "California     True\n",
      "Ohio          False\n",
      "Oregon        False\n",
      "Texas         False\n",
      "Name: population, dtype: bool\n",
      "\n",
      "\n",
      "1\n"
     ]
    }
   ],
   "source": [
    "Val = np.arange(1000,5000,1000)\n",
    "\n",
    "Answer = pd.Series(Val , index=[\"California\",\"Ohio\",\"Oregon\",\"Texas\"], name=\"population\")\n",
    "Answer.index.name = 'state'\n",
    "print(Answer)\n",
    "print('\\n')\n",
    "\n",
    "Answer.California = np.nan\n",
    "print(Answer)\n",
    "print('\\n')\n",
    "\n",
    "print(Answer.isnull()) #결측치 확인\n",
    "print('\\n')\n",
    "print(Answer.isnull().sum()) # True = 1 , False = 0"
   ]
  },
  {
   "cell_type": "markdown",
   "id": "48d98f87",
   "metadata": {},
   "source": [
    "#### DataFrame\n",
    "    DataFrame은 2차원 배열, R의 DataFrame에서 유래.\n",
    "    DataFrame의 열은 각각 시리즈 개체\n",
    "    시리즈를 열벡터(col.vector)라고 하면 DataFrame은 여러개의 열벡터(col.vector)들이 같은 row.index를 기준으로\n",
    "    줄지어 결합된 2차원 vector 또는 핼렬(metrix)라고 함\n",
    "    선형대수학에서 열 벡터 (m x 1 행렬)는 m 원소들의 단일 열 행렬\n",
    "    행 벡터 (1 x m 행렬)은 m 원소들의 단일 행 행렬.\n",
    "    LIST, DICT, ndarry등 다양한 데이터로부터 생성됨.\n",
    "    반대로 LIST, DICT, ndarry 등으로 변환 될 수 있음."
   ]
  },
  {
   "cell_type": "code",
   "execution_count": null,
   "id": "6567c922",
   "metadata": {},
   "outputs": [],
   "source": []
  },
  {
   "cell_type": "code",
   "execution_count": null,
   "id": "b9b3cd57",
   "metadata": {},
   "outputs": [],
   "source": []
  },
  {
   "cell_type": "code",
   "execution_count": null,
   "id": "fa8375d8",
   "metadata": {},
   "outputs": [],
   "source": []
  },
  {
   "cell_type": "code",
   "execution_count": null,
   "id": "b555d047",
   "metadata": {},
   "outputs": [],
   "source": []
  },
  {
   "cell_type": "code",
   "execution_count": null,
   "id": "dc18a840",
   "metadata": {},
   "outputs": [],
   "source": []
  },
  {
   "cell_type": "code",
   "execution_count": null,
   "id": "096fd474",
   "metadata": {},
   "outputs": [],
   "source": []
  },
  {
   "cell_type": "code",
   "execution_count": null,
   "id": "4ed659bc",
   "metadata": {},
   "outputs": [],
   "source": []
  },
  {
   "cell_type": "code",
   "execution_count": null,
   "id": "1f324233",
   "metadata": {},
   "outputs": [],
   "source": []
  },
  {
   "cell_type": "code",
   "execution_count": null,
   "id": "748840ed",
   "metadata": {},
   "outputs": [],
   "source": []
  },
  {
   "cell_type": "code",
   "execution_count": null,
   "id": "84d77356",
   "metadata": {},
   "outputs": [],
   "source": []
  },
  {
   "cell_type": "code",
   "execution_count": null,
   "id": "fb9afa96",
   "metadata": {},
   "outputs": [],
   "source": []
  },
  {
   "cell_type": "code",
   "execution_count": null,
   "id": "a91335f3",
   "metadata": {},
   "outputs": [],
   "source": []
  },
  {
   "cell_type": "code",
   "execution_count": null,
   "id": "60e12772",
   "metadata": {},
   "outputs": [],
   "source": []
  },
  {
   "cell_type": "code",
   "execution_count": null,
   "id": "bb325157",
   "metadata": {},
   "outputs": [],
   "source": []
  },
  {
   "cell_type": "code",
   "execution_count": null,
   "id": "24966dc2",
   "metadata": {},
   "outputs": [],
   "source": []
  },
  {
   "cell_type": "code",
   "execution_count": null,
   "id": "7296d976",
   "metadata": {},
   "outputs": [],
   "source": []
  },
  {
   "cell_type": "code",
   "execution_count": null,
   "id": "94eb6d74",
   "metadata": {},
   "outputs": [],
   "source": []
  },
  {
   "cell_type": "code",
   "execution_count": null,
   "id": "a45ff573",
   "metadata": {},
   "outputs": [],
   "source": []
  }
 ],
 "metadata": {
  "kernelspec": {
   "display_name": "Python 3",
   "language": "python",
   "name": "python3"
  },
  "language_info": {
   "codemirror_mode": {
    "name": "ipython",
    "version": 3
   },
   "file_extension": ".py",
   "mimetype": "text/x-python",
   "name": "python",
   "nbconvert_exporter": "python",
   "pygments_lexer": "ipython3",
   "version": "3.8.10"
  }
 },
 "nbformat": 4,
 "nbformat_minor": 5
}
