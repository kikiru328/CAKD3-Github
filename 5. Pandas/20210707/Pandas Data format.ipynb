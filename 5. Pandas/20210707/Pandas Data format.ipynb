{
 "cells": [
  {
   "cell_type": "markdown",
   "id": "4cdbb60e",
   "metadata": {},
   "source": [
    "### Pandas\n",
    "    - 판다스는 구조화 된 데이터 형식을 제공. Series = 1차원 배열. DataFrame = 2차원 배열.\n",
    "    - 라이브러리는 여러 종류의 class와 다양한 내장 함수로 구성. Series 와 DataFrame 대표적인 클래스 객체.\n",
    "    - 시리즈 인덱스는 데이터 값과 1:1대응. 파이썬 딕셔너리와 비슷한 구조. pandas.Series(dictionary)\n",
    "\n",
    "* Contents\n",
    "* Series(변환,인덱스 구조, 원소 선택)\n",
    "* DataFrame(변환, 행인덱스/열이름 지정, 삭제, 선택, 추가, 변경, 전치 , 인덱스활용 )\n",
    "\n",
    "* axis = 중심선. axis = 0 : Row / axis = 1 column\n",
    "\n",
    "\n",
    "* When inplace = True , the data is modified in place, which means it will return nothing and the dataframe is now updated. When inplace = False , which is the default, then the operation is performed and it returns a copy of the object. You then need to save it to something."
   ]
  },
  {
   "cell_type": "markdown",
   "id": "c1dee4e7",
   "metadata": {},
   "source": [
    "#### Import pandas"
   ]
  },
  {
   "cell_type": "code",
   "execution_count": 1,
   "id": "3db84d2b",
   "metadata": {},
   "outputs": [],
   "source": [
    "import pandas as pd"
   ]
  },
  {
   "cell_type": "markdown",
   "id": "6ede0cdc",
   "metadata": {},
   "source": [
    "#### Series class"
   ]
  },
  {
   "cell_type": "code",
   "execution_count": 2,
   "id": "efa6bfe1",
   "metadata": {},
   "outputs": [
    {
     "name": "stdout",
     "output_type": "stream",
     "text": [
      "<class 'pandas.core.series.Series'>\n",
      "a    1\n",
      "b    2\n",
      "c    3\n",
      "dtype: int64\n"
     ]
    }
   ],
   "source": [
    "# K : V 를 갖는 DICT 를 만들고 변수 dict_data 에 저장\n",
    "dict_data = {'a':1,'b':2,'c':3}\n",
    "srD = pd.Series(dict_data) #자동 index 설정\n",
    "print(type(srD)) \n",
    "print(srD)"
   ]
  },
  {
   "cell_type": "code",
   "execution_count": 3,
   "id": "dcf4abe0",
   "metadata": {},
   "outputs": [
    {
     "name": "stdout",
     "output_type": "stream",
     "text": [
      "<class 'pandas.core.series.Series'>\n",
      "a    2019-07-02\n",
      "b          3.14\n",
      "c           ABC\n",
      "d           100\n",
      "e          True\n",
      "dtype: object\n",
      "\n",
      "\n",
      "Index(['a', 'b', 'c', 'd', 'e'], dtype='object')\n",
      "['2019-07-02' 3.14 'ABC' 100 True]\n"
     ]
    }
   ],
   "source": [
    "# LIST to Series\n",
    "List_data = ['2019-07-02',3.14,'ABC',100,True]\n",
    "srL = pd.Series(List_data,index=list('abcde')) # index 설정.    #list('문자열') - 문자열을 나눔.\n",
    "print(type(srL))\n",
    "print(srL)\n",
    "\n",
    "print('\\n')\n",
    "# index / value\n",
    "idx = srL.index\n",
    "val = srL.values\n",
    "print(idx)\n",
    "print(val)"
   ]
  },
  {
   "cell_type": "code",
   "execution_count": 4,
   "id": "3fae4811",
   "metadata": {},
   "outputs": [
    {
     "name": "stdout",
     "output_type": "stream",
     "text": [
      "<class 'pandas.core.series.Series'>\n",
      "이름           Kevin\n",
      "생년월일    2021-07-07\n",
      "성별               남\n",
      "학생여부          True\n",
      "dtype: object\n",
      "\n",
      "\n",
      "Kevin\n",
      "Kevin\n",
      "생년월일    2021-07-07\n",
      "성별               남\n",
      "dtype: object\n"
     ]
    }
   ],
   "source": [
    "# Tuple to Seires\n",
    "tup_data = ('Kevin','2021-07-07','남',True)\n",
    "srT = pd.Series(tup_data, index = ['이름','생년월일','성별','학생여부'])\n",
    "print(type(srT))\n",
    "print(srT)\n",
    "#open API json으로 불러왔을떈 DICT 포맷. --> Series/DataFrame변경가능\n",
    "print('\\n')\n",
    "\n",
    "#indexing\n",
    "print(srT[0])\n",
    "print(srT['이름'])\n",
    "print(srT[[1,2]]) #색인시 [[]]"
   ]
  },
  {
   "cell_type": "markdown",
   "id": "e0afa830",
   "metadata": {},
   "source": [
    "#### Numpy"
   ]
  },
  {
   "cell_type": "code",
   "execution_count": 5,
   "id": "3f37bbe8",
   "metadata": {},
   "outputs": [
    {
     "name": "stdout",
     "output_type": "stream",
     "text": [
      "<class 'numpy.ndarray'> [11 12 13 14 15]\n",
      "\n",
      "\n",
      "<class 'pandas.core.series.Series'> 0    11\n",
      "1    12\n",
      "2    13\n",
      "3    14\n",
      "4    15\n",
      "dtype: int32\n",
      "\n",
      "\n",
      "<class 'list'> [11, 12, 13, 14, 15]\n"
     ]
    }
   ],
   "source": [
    "import numpy as np\n",
    "\n",
    "npA = np.arange(11,16)\n",
    "print(type(npA),npA) #numpy.ndarray\n",
    "print('\\n')\n",
    "\n",
    "srA = pd.Series(npA)\n",
    "print(type(srA),srA)\n",
    "print('\\n')\n",
    "\n",
    "sL = npA.tolist()\n",
    "print(type(sL),sL)"
   ]
  },
  {
   "cell_type": "markdown",
   "id": "ba5358a1",
   "metadata": {},
   "source": [
    "Q.\n",
    "       \n",
    "    밑과 같이 출력하시오"
   ]
  },
  {
   "cell_type": "code",
   "execution_count": 6,
   "id": "34808085",
   "metadata": {},
   "outputs": [
    {
     "name": "stdout",
     "output_type": "stream",
     "text": [
      "state\n",
      "California    1000\n",
      "Ohio          2000\n",
      "Oregon        3000\n",
      "Texas         4000\n",
      "Name: population, dtype: int32\n",
      "\n",
      "\n",
      "state\n",
      "California       NaN\n",
      "Ohio          2000.0\n",
      "Oregon        3000.0\n",
      "Texas         4000.0\n",
      "Name: population, dtype: float64\n",
      "\n",
      "\n",
      "state\n",
      "California     True\n",
      "Ohio          False\n",
      "Oregon        False\n",
      "Texas         False\n",
      "Name: population, dtype: bool\n",
      "\n",
      "\n",
      "1\n"
     ]
    }
   ],
   "source": [
    "Val = np.arange(1000,5000,1000)\n",
    "\n",
    "Answer = pd.Series(Val , index=[\"California\",\"Ohio\",\"Oregon\",\"Texas\"], name=\"population\")\n",
    "Answer.index.name = 'state'\n",
    "print(Answer)\n",
    "print('\\n')\n",
    "\n",
    "Answer.California = np.nan\n",
    "print(Answer)\n",
    "print('\\n')\n",
    "\n",
    "print(Answer.isnull()) #결측치 확인\n",
    "print('\\n')\n",
    "print(Answer.isnull().sum()) # True = 1 , False = 0"
   ]
  },
  {
   "cell_type": "markdown",
   "id": "24eb38e2",
   "metadata": {},
   "source": [
    "#### DataFrame\n",
    "    DataFrame은 2차원 배열, R의 DataFrame에서 유래.\n",
    "    DataFrame의 열은 각각 시리즈 개체\n",
    "    시리즈를 열벡터(col.vector)라고 하면 DataFrame은 여러개의 열벡터(col.vector)들이 같은 row.index를 기준으로\n",
    "    줄지어 결합된 2차원 vector 또는 핼렬(metrix)라고 함\n",
    "    선형대수학에서 열 벡터 (m x 1 행렬)는 m 원소들의 단일 열 행렬\n",
    "    행 벡터 (1 x m 행렬)은 m 원소들의 단일 행 행렬.\n",
    "    LIST, DICT, ndarry등 다양한 데이터로부터 생성됨.\n",
    "    반대로 LIST, DICT, ndarry 등으로 변환 될 수 있음."
   ]
  },
  {
   "cell_type": "code",
   "execution_count": 7,
   "id": "8f27b8ff",
   "metadata": {},
   "outputs": [
    {
     "name": "stdout",
     "output_type": "stream",
     "text": [
      "[[110 108 115]\n",
      " [115 102 118]\n",
      " [107 115 111]] <class 'numpy.ndarray'>\n",
      "\n",
      "\n",
      "<class 'pandas.core.frame.DataFrame'>\n"
     ]
    },
    {
     "data": {
      "text/html": [
       "<div>\n",
       "<style scoped>\n",
       "    .dataframe tbody tr th:only-of-type {\n",
       "        vertical-align: middle;\n",
       "    }\n",
       "\n",
       "    .dataframe tbody tr th {\n",
       "        vertical-align: top;\n",
       "    }\n",
       "\n",
       "    .dataframe thead th {\n",
       "        text-align: right;\n",
       "    }\n",
       "</style>\n",
       "<table border=\"1\" class=\"dataframe\">\n",
       "  <thead>\n",
       "    <tr style=\"text-align: right;\">\n",
       "      <th></th>\n",
       "      <th>pd</th>\n",
       "      <th>sales</th>\n",
       "      <th>inv</th>\n",
       "    </tr>\n",
       "  </thead>\n",
       "  <tbody>\n",
       "    <tr>\n",
       "      <th>d1</th>\n",
       "      <td>110</td>\n",
       "      <td>108</td>\n",
       "      <td>115</td>\n",
       "    </tr>\n",
       "    <tr>\n",
       "      <th>d2</th>\n",
       "      <td>115</td>\n",
       "      <td>102</td>\n",
       "      <td>118</td>\n",
       "    </tr>\n",
       "    <tr>\n",
       "      <th>d3</th>\n",
       "      <td>107</td>\n",
       "      <td>115</td>\n",
       "      <td>111</td>\n",
       "    </tr>\n",
       "  </tbody>\n",
       "</table>\n",
       "</div>"
      ],
      "text/plain": [
       "     pd  sales  inv\n",
       "d1  110    108  115\n",
       "d2  115    102  118\n",
       "d3  107    115  111"
      ]
     },
     "execution_count": 7,
     "metadata": {},
     "output_type": "execute_result"
    }
   ],
   "source": [
    "#Array to DataFrame\n",
    "data = np.random.randint(100,120,size=(3,3)) #3행 3열 9개.\n",
    "print(data,type(data))\n",
    "df = pd.DataFrame(data,index=['d1','d2','d3'],columns =['pd','sales','inv'])\n",
    "print('\\n')\n",
    "print(type(df))\n",
    "df"
   ]
  },
  {
   "cell_type": "code",
   "execution_count": 8,
   "id": "d09cffa7",
   "metadata": {},
   "outputs": [
    {
     "name": "stdout",
     "output_type": "stream",
     "text": [
      "pd       115\n",
      "sales    102\n",
      "inv      118\n",
      "Name: d2, dtype: int32 \n",
      " <class 'pandas.core.series.Series'> \n",
      "\n",
      "pd       115\n",
      "sales    102\n",
      "inv      118\n",
      "Name: d2, dtype: int32 \n",
      " <class 'pandas.core.series.Series'>\n",
      "\n",
      "\n",
      "102\n",
      "102\n"
     ]
    }
   ],
   "source": [
    "#pandas indexing : iloc 정수 인덱스, loc 이름 인덱스\n",
    "\n",
    "np.random.seed(2) #안에는 아무거나 넣어도 됨.\n",
    "\n",
    "print(df.iloc[1],'\\n',type(df.iloc[1]),'\\n') #Serues\n",
    "print(df.loc['d2'],'\\n',type(df.iloc[1]))\n",
    "print('\\n')\n",
    "\n",
    "print(df.iloc[1][1])\n",
    "print(df.loc['d2','sales'])"
   ]
  },
  {
   "cell_type": "code",
   "execution_count": 9,
   "id": "f4f77396",
   "metadata": {},
   "outputs": [
    {
     "data": {
      "text/plain": [
       "d1    115\n",
       "d2    118\n",
       "d3    111\n",
       "Name: inv, dtype: int32"
      ]
     },
     "execution_count": 9,
     "metadata": {},
     "output_type": "execute_result"
    }
   ],
   "source": [
    "df.loc[:,'inv']"
   ]
  },
  {
   "cell_type": "code",
   "execution_count": 10,
   "id": "526c2de6",
   "metadata": {
    "scrolled": true
   },
   "outputs": [],
   "source": [
    "id = np.arange(1,1001)\n",
    "gender = np.random.randint(2,size=1000)\n",
    "age = np.random.randint(1,100,size=1000)\n",
    "region = np.random.randint(1,11,size=1000)"
   ]
  },
  {
   "cell_type": "code",
   "execution_count": 11,
   "id": "9d682d5c",
   "metadata": {},
   "outputs": [],
   "source": [
    "ID = pd.Series(id,name ='Id')\n",
    "Gender = pd.Series(gender,name='Gender')\n",
    "Age = pd.Series(age,name='Age')\n",
    "Region = pd.Series(region,name='Region')\n",
    "\n",
    "df = pd.concat([ID,Gender,Age,Region],axis=1,names = 'data')\n",
    "# df.rename(columns={0:'ID',1:\"Gender\",2:\"Age\",3:\"region\"},inplace=True)\n"
   ]
  },
  {
   "cell_type": "code",
   "execution_count": 19,
   "id": "724a1346",
   "metadata": {},
   "outputs": [
    {
     "name": "stdout",
     "output_type": "stream",
     "text": [
      "[[4, 2, 1, 4, 3], [2, 3, 4, 2, 4], [2, 1, 1, 2, 2], [2, 4, 3, 4, 3], [1, 1, 3, 1, 3], [4, 1, 2, 1, 4], [4, 2, 1, 1, 3], [2, 3, 3, 4, 1], [1, 1, 3, 2, 3], [3, 2, 4, 2, 3]] <class 'list'>\n",
      "   c1  c2  c3  c4  c5\n",
      "0   4   2   1   4   3\n",
      "1   2   3   4   2   4\n",
      "2   2   1   1   2   2\n",
      "3   2   4   3   4   3\n",
      "4   1   1   3   1   3\n",
      "5   4   1   2   1   4\n",
      "6   4   2   1   1   3\n",
      "7   2   3   3   4   1\n",
      "8   1   1   3   2   3\n",
      "9   3   2   4   2   3\n"
     ]
    }
   ],
   "source": [
    "#2차원 리스트를 DataFrame으로 변환\n",
    "# list1 = a.tolist()\n",
    "a = np.random.randint(1,5,size=(10,5))\n",
    "# print(a,type(a))\n",
    "list1 = a.tolist()\n",
    "print(list1,type(list1))\n",
    "\n",
    "df1  = pd.DataFrame(list1,columns=['c1','c2','c3','c4','c5'])\n",
    "print(df1)"
   ]
  },
  {
   "cell_type": "code",
   "execution_count": 31,
   "id": "16c6db4c",
   "metadata": {},
   "outputs": [
    {
     "name": "stdout",
     "output_type": "stream",
     "text": [
      "[[4 2 1 4 3]\n",
      " [2 3 4 2 4]\n",
      " [2 1 1 2 2]\n",
      " [2 4 3 4 3]\n",
      " [1 1 3 1 3]\n",
      " [4 1 2 1 4]\n",
      " [4 2 1 1 3]\n",
      " [2 3 3 4 1]\n",
      " [1 1 3 2 3]\n",
      " [3 2 4 2 3]] <class 'numpy.ndarray'>\n",
      "\n",
      "[[4, 2, 1, 4, 3], [2, 3, 4, 2, 4], [2, 1, 1, 2, 2], [2, 4, 3, 4, 3], [1, 1, 3, 1, 3], [4, 1, 2, 1, 4], [4, 2, 1, 1, 3], [2, 3, 3, 4, 1], [1, 1, 3, 2, 3], [3, 2, 4, 2, 3]] <class 'list'>\n",
      "\n",
      "{'c1': [4, 2, 2, 2, 1, 4, 4, 2, 1, 3], 'c2': [2, 3, 1, 4, 1, 1, 2, 3, 1, 2], 'c3': [1, 4, 1, 3, 3, 2, 1, 3, 3, 4], 'c4': [4, 2, 2, 4, 1, 1, 1, 4, 2, 2], 'c5': [3, 4, 2, 3, 3, 4, 3, 1, 3, 3]} <class 'dict'>\n"
     ]
    }
   ],
   "source": [
    "# DataFrame을  Array, LIST, DICT로 변환\n",
    "Ar = df1.values\n",
    "print(Ar,type(Ar))\n",
    "print()\n",
    "Li = Ar.tolist()\n",
    "print(Li,type(Li))\n",
    "print()\n",
    "DICT = df1.to_dict('list')\n",
    "print(DICT,type(DICT))"
   ]
  },
  {
   "cell_type": "code",
   "execution_count": 33,
   "id": "0e5e89b2",
   "metadata": {},
   "outputs": [
    {
     "name": "stdout",
     "output_type": "stream",
     "text": [
      "   col1 col2\n",
      "0     1    A\n",
      "1     2    A\n",
      "2     3    B\n",
      "3     4    B\n",
      "4     5    C\n",
      "5     6    C\n"
     ]
    }
   ],
   "source": [
    "#file 생성\n",
    "file_data = pd.DataFrame({\n",
    "    'col1':[1,2,3,4,5,6],\n",
    "    'col2':['A','A','B','B','C','C']\n",
    "})\n",
    "print(file_data)"
   ]
  },
  {
   "cell_type": "code",
   "execution_count": 36,
   "id": "4af7b165",
   "metadata": {},
   "outputs": [],
   "source": [
    "#file data 저장\n",
    "file_data.to_csv('../Data/file_data.csv',index=None)"
   ]
  },
  {
   "cell_type": "code",
   "execution_count": 38,
   "id": "9010ba91",
   "metadata": {},
   "outputs": [],
   "source": [
    "#file 불러오기\n",
    "file_data=pd.read_csv(\"../Data/file_data.csv\")"
   ]
  },
  {
   "cell_type": "code",
   "execution_count": 40,
   "id": "8fd6ecdb",
   "metadata": {},
   "outputs": [],
   "source": [
    "df_1 = pd.DataFrame({\n",
    "    'col1':np.array([1,2,3]),\n",
    "    'col2':np.array(['A','B','C'])\n",
    "})\n",
    "df_2 = pd.DataFrame({\n",
    "    'col1':np.array([4,5,6]),\n",
    "    'col2':np.array(['D','E','F'])\n",
    "})"
   ]
  },
  {
   "cell_type": "markdown",
   "id": "c857b32f",
   "metadata": {},
   "source": [
    "Q. df_1과 df_2를 행방향과 열방향으로 병합하세요.="
   ]
  },
  {
   "cell_type": "code",
   "execution_count": 44,
   "id": "15a88288",
   "metadata": {},
   "outputs": [
    {
     "name": "stdout",
     "output_type": "stream",
     "text": [
      "   col1 col2  col1 col2\n",
      "0     1    A     4    D\n",
      "1     2    B     5    E\n",
      "2     3    C     6    F\n",
      "\n",
      "   col1 col2\n",
      "0     1    A\n",
      "1     2    B\n",
      "2     3    C\n",
      "0     4    D\n",
      "1     5    E\n",
      "2     6    F\n"
     ]
    }
   ],
   "source": [
    "df_3 = pd.concat([df_1,df_2],axis=1)\n",
    "df_4 = pd.concat([df_1,df_2])\n",
    "print(df_3)\n",
    "print()\n",
    "print(df_4)"
   ]
  },
  {
   "cell_type": "code",
   "execution_count": 60,
   "id": "e0cd80d2",
   "metadata": {
    "collapsed": true
   },
   "outputs": [
    {
     "name": "stdout",
     "output_type": "stream",
     "text": [
      "0    A\n",
      "1    B\n",
      "2    C\n",
      "0    D\n",
      "1    E\n",
      "2    F\n",
      "Name: col2, dtype: object\n",
      "0    A\n",
      "1    B\n",
      "2    C\n",
      "0    D\n",
      "1    E\n",
      "2    F\n",
      "Name: col2, dtype: object\n"
     ]
    },
    {
     "data": {
      "text/html": [
       "<div>\n",
       "<style scoped>\n",
       "    .dataframe tbody tr th:only-of-type {\n",
       "        vertical-align: middle;\n",
       "    }\n",
       "\n",
       "    .dataframe tbody tr th {\n",
       "        vertical-align: top;\n",
       "    }\n",
       "\n",
       "    .dataframe thead th {\n",
       "        text-align: right;\n",
       "    }\n",
       "</style>\n",
       "<table border=\"1\" class=\"dataframe\">\n",
       "  <thead>\n",
       "    <tr style=\"text-align: right;\">\n",
       "      <th></th>\n",
       "      <th>col2</th>\n",
       "      <th>col1</th>\n",
       "    </tr>\n",
       "  </thead>\n",
       "  <tbody>\n",
       "    <tr>\n",
       "      <th>0</th>\n",
       "      <td>A</td>\n",
       "      <td>1</td>\n",
       "    </tr>\n",
       "    <tr>\n",
       "      <th>1</th>\n",
       "      <td>B</td>\n",
       "      <td>2</td>\n",
       "    </tr>\n",
       "    <tr>\n",
       "      <th>2</th>\n",
       "      <td>C</td>\n",
       "      <td>3</td>\n",
       "    </tr>\n",
       "    <tr>\n",
       "      <th>0</th>\n",
       "      <td>D</td>\n",
       "      <td>4</td>\n",
       "    </tr>\n",
       "    <tr>\n",
       "      <th>1</th>\n",
       "      <td>E</td>\n",
       "      <td>5</td>\n",
       "    </tr>\n",
       "    <tr>\n",
       "      <th>2</th>\n",
       "      <td>F</td>\n",
       "      <td>6</td>\n",
       "    </tr>\n",
       "  </tbody>\n",
       "</table>\n",
       "</div>"
      ],
      "text/plain": [
       "  col2  col1\n",
       "0    A     1\n",
       "1    B     2\n",
       "2    C     3\n",
       "0    D     4\n",
       "1    E     5\n",
       "2    F     6"
      ]
     },
     "execution_count": 60,
     "metadata": {},
     "output_type": "execute_result"
    }
   ],
   "source": [
    "#데이터 추출\n",
    "print(df_4.col2)\n",
    "print(df_4['col2'])\n",
    "# pd.DataFrame(df_4['col2']\n",
    "df_4[['col2','col1']]"
   ]
  },
  {
   "cell_type": "code",
   "execution_count": 68,
   "id": "95272368",
   "metadata": {},
   "outputs": [
    {
     "data": {
      "text/html": [
       "<div>\n",
       "<style scoped>\n",
       "    .dataframe tbody tr th:only-of-type {\n",
       "        vertical-align: middle;\n",
       "    }\n",
       "\n",
       "    .dataframe tbody tr th {\n",
       "        vertical-align: top;\n",
       "    }\n",
       "\n",
       "    .dataframe thead th {\n",
       "        text-align: right;\n",
       "    }\n",
       "</style>\n",
       "<table border=\"1\" class=\"dataframe\">\n",
       "  <thead>\n",
       "    <tr style=\"text-align: right;\">\n",
       "      <th></th>\n",
       "      <th>c2</th>\n",
       "      <th>c3</th>\n",
       "      <th>c4</th>\n",
       "      <th>c5</th>\n",
       "    </tr>\n",
       "  </thead>\n",
       "  <tbody>\n",
       "    <tr>\n",
       "      <th>0</th>\n",
       "      <td>2</td>\n",
       "      <td>1</td>\n",
       "      <td>4</td>\n",
       "      <td>3</td>\n",
       "    </tr>\n",
       "    <tr>\n",
       "      <th>1</th>\n",
       "      <td>3</td>\n",
       "      <td>4</td>\n",
       "      <td>2</td>\n",
       "      <td>4</td>\n",
       "    </tr>\n",
       "    <tr>\n",
       "      <th>2</th>\n",
       "      <td>1</td>\n",
       "      <td>1</td>\n",
       "      <td>2</td>\n",
       "      <td>2</td>\n",
       "    </tr>\n",
       "    <tr>\n",
       "      <th>3</th>\n",
       "      <td>4</td>\n",
       "      <td>3</td>\n",
       "      <td>4</td>\n",
       "      <td>3</td>\n",
       "    </tr>\n",
       "    <tr>\n",
       "      <th>4</th>\n",
       "      <td>1</td>\n",
       "      <td>3</td>\n",
       "      <td>1</td>\n",
       "      <td>3</td>\n",
       "    </tr>\n",
       "  </tbody>\n",
       "</table>\n",
       "</div>"
      ],
      "text/plain": [
       "   c2  c3  c4  c5\n",
       "0   2   1   4   3\n",
       "1   3   4   2   4\n",
       "2   1   1   2   2\n",
       "3   4   3   4   3\n",
       "4   1   3   1   3"
      ]
     },
     "execution_count": 68,
     "metadata": {},
     "output_type": "execute_result"
    }
   ],
   "source": [
    "df = df1.copy()\n",
    "df_dc_c = df.drop('c1',axis=1)\n",
    "df_dc_c.head()"
   ]
  },
  {
   "cell_type": "code",
   "execution_count": 83,
   "id": "20772737",
   "metadata": {},
   "outputs": [
    {
     "data": {
      "text/html": [
       "<div>\n",
       "<style scoped>\n",
       "    .dataframe tbody tr th:only-of-type {\n",
       "        vertical-align: middle;\n",
       "    }\n",
       "\n",
       "    .dataframe tbody tr th {\n",
       "        vertical-align: top;\n",
       "    }\n",
       "\n",
       "    .dataframe thead th {\n",
       "        text-align: right;\n",
       "    }\n",
       "</style>\n",
       "<table border=\"1\" class=\"dataframe\">\n",
       "  <thead>\n",
       "    <tr style=\"text-align: right;\">\n",
       "      <th></th>\n",
       "      <th>c1</th>\n",
       "      <th>c2</th>\n",
       "      <th>c3</th>\n",
       "      <th>c4</th>\n",
       "      <th>c5</th>\n",
       "    </tr>\n",
       "  </thead>\n",
       "  <tbody>\n",
       "    <tr>\n",
       "      <th>1</th>\n",
       "      <td>2</td>\n",
       "      <td>3</td>\n",
       "      <td>4</td>\n",
       "      <td>2</td>\n",
       "      <td>4</td>\n",
       "    </tr>\n",
       "    <tr>\n",
       "      <th>2</th>\n",
       "      <td>2</td>\n",
       "      <td>1</td>\n",
       "      <td>1</td>\n",
       "      <td>2</td>\n",
       "      <td>2</td>\n",
       "    </tr>\n",
       "    <tr>\n",
       "      <th>5</th>\n",
       "      <td>4</td>\n",
       "      <td>1</td>\n",
       "      <td>2</td>\n",
       "      <td>1</td>\n",
       "      <td>4</td>\n",
       "    </tr>\n",
       "    <tr>\n",
       "      <th>8</th>\n",
       "      <td>1</td>\n",
       "      <td>1</td>\n",
       "      <td>3</td>\n",
       "      <td>2</td>\n",
       "      <td>3</td>\n",
       "    </tr>\n",
       "    <tr>\n",
       "      <th>9</th>\n",
       "      <td>3</td>\n",
       "      <td>2</td>\n",
       "      <td>4</td>\n",
       "      <td>2</td>\n",
       "      <td>3</td>\n",
       "    </tr>\n",
       "  </tbody>\n",
       "</table>\n",
       "</div>"
      ],
      "text/plain": [
       "   c1  c2  c3  c4  c5\n",
       "1   2   3   4   2   4\n",
       "2   2   1   1   2   2\n",
       "5   4   1   2   1   4\n",
       "8   1   1   3   2   3\n",
       "9   3   2   4   2   3"
      ]
     },
     "execution_count": 83,
     "metadata": {},
     "output_type": "execute_result"
    }
   ],
   "source": [
    "#query : 조회\n",
    "df.query('index==0')\n",
    "df.query('c3==3 & c4==2')\n",
    "df.query('c3==2 | c4==2')"
   ]
  },
  {
   "cell_type": "code",
   "execution_count": 85,
   "id": "26e2ec83",
   "metadata": {},
   "outputs": [
    {
     "data": {
      "text/html": [
       "<div>\n",
       "<style scoped>\n",
       "    .dataframe tbody tr th:only-of-type {\n",
       "        vertical-align: middle;\n",
       "    }\n",
       "\n",
       "    .dataframe tbody tr th {\n",
       "        vertical-align: top;\n",
       "    }\n",
       "\n",
       "    .dataframe thead th {\n",
       "        text-align: right;\n",
       "    }\n",
       "</style>\n",
       "<table border=\"1\" class=\"dataframe\">\n",
       "  <thead>\n",
       "    <tr style=\"text-align: right;\">\n",
       "      <th></th>\n",
       "      <th>c3</th>\n",
       "      <th>c4</th>\n",
       "    </tr>\n",
       "  </thead>\n",
       "  <tbody>\n",
       "    <tr>\n",
       "      <th>3</th>\n",
       "      <td>3</td>\n",
       "      <td>4</td>\n",
       "    </tr>\n",
       "    <tr>\n",
       "      <th>4</th>\n",
       "      <td>3</td>\n",
       "      <td>1</td>\n",
       "    </tr>\n",
       "    <tr>\n",
       "      <th>7</th>\n",
       "      <td>3</td>\n",
       "      <td>4</td>\n",
       "    </tr>\n",
       "    <tr>\n",
       "      <th>8</th>\n",
       "      <td>3</td>\n",
       "      <td>2</td>\n",
       "    </tr>\n",
       "  </tbody>\n",
       "</table>\n",
       "</div>"
      ],
      "text/plain": [
       "   c3  c4\n",
       "3   3   4\n",
       "4   3   1\n",
       "7   3   4\n",
       "8   3   2"
      ]
     },
     "execution_count": 85,
     "metadata": {},
     "output_type": "execute_result"
    }
   ],
   "source": [
    "#특정 열만 추출\n",
    "df.query('c3==3')[['c3','c4']]"
   ]
  },
  {
   "cell_type": "code",
   "execution_count": 97,
   "id": "813a3576",
   "metadata": {},
   "outputs": [
    {
     "data": {
      "text/html": [
       "<div>\n",
       "<style scoped>\n",
       "    .dataframe tbody tr th:only-of-type {\n",
       "        vertical-align: middle;\n",
       "    }\n",
       "\n",
       "    .dataframe tbody tr th {\n",
       "        vertical-align: top;\n",
       "    }\n",
       "\n",
       "    .dataframe thead th {\n",
       "        text-align: right;\n",
       "    }\n",
       "</style>\n",
       "<table border=\"1\" class=\"dataframe\">\n",
       "  <thead>\n",
       "    <tr style=\"text-align: right;\">\n",
       "      <th></th>\n",
       "      <th>Korean</th>\n",
       "      <th>English</th>\n",
       "      <th>Math</th>\n",
       "      <th>Science</th>\n",
       "      <th>Society</th>\n",
       "    </tr>\n",
       "  </thead>\n",
       "  <tbody>\n",
       "    <tr>\n",
       "      <th>A</th>\n",
       "      <td>4</td>\n",
       "      <td>2</td>\n",
       "      <td>1</td>\n",
       "      <td>4</td>\n",
       "      <td>3</td>\n",
       "    </tr>\n",
       "    <tr>\n",
       "      <th>B</th>\n",
       "      <td>2</td>\n",
       "      <td>3</td>\n",
       "      <td>4</td>\n",
       "      <td>2</td>\n",
       "      <td>4</td>\n",
       "    </tr>\n",
       "    <tr>\n",
       "      <th>C</th>\n",
       "      <td>2</td>\n",
       "      <td>1</td>\n",
       "      <td>1</td>\n",
       "      <td>2</td>\n",
       "      <td>2</td>\n",
       "    </tr>\n",
       "    <tr>\n",
       "      <th>D</th>\n",
       "      <td>2</td>\n",
       "      <td>4</td>\n",
       "      <td>3</td>\n",
       "      <td>4</td>\n",
       "      <td>3</td>\n",
       "    </tr>\n",
       "    <tr>\n",
       "      <th>E</th>\n",
       "      <td>1</td>\n",
       "      <td>1</td>\n",
       "      <td>3</td>\n",
       "      <td>1</td>\n",
       "      <td>3</td>\n",
       "    </tr>\n",
       "    <tr>\n",
       "      <th>F</th>\n",
       "      <td>4</td>\n",
       "      <td>1</td>\n",
       "      <td>2</td>\n",
       "      <td>1</td>\n",
       "      <td>4</td>\n",
       "    </tr>\n",
       "    <tr>\n",
       "      <th>G</th>\n",
       "      <td>4</td>\n",
       "      <td>2</td>\n",
       "      <td>1</td>\n",
       "      <td>1</td>\n",
       "      <td>3</td>\n",
       "    </tr>\n",
       "    <tr>\n",
       "      <th>H</th>\n",
       "      <td>2</td>\n",
       "      <td>3</td>\n",
       "      <td>3</td>\n",
       "      <td>4</td>\n",
       "      <td>1</td>\n",
       "    </tr>\n",
       "    <tr>\n",
       "      <th>I</th>\n",
       "      <td>1</td>\n",
       "      <td>1</td>\n",
       "      <td>3</td>\n",
       "      <td>2</td>\n",
       "      <td>3</td>\n",
       "    </tr>\n",
       "    <tr>\n",
       "      <th>J</th>\n",
       "      <td>3</td>\n",
       "      <td>2</td>\n",
       "      <td>4</td>\n",
       "      <td>2</td>\n",
       "      <td>3</td>\n",
       "    </tr>\n",
       "  </tbody>\n",
       "</table>\n",
       "</div>"
      ],
      "text/plain": [
       "   Korean  English  Math  Science  Society\n",
       "A       4        2     1        4        3\n",
       "B       2        3     4        2        4\n",
       "C       2        1     1        2        2\n",
       "D       2        4     3        4        3\n",
       "E       1        1     3        1        3\n",
       "F       4        1     2        1        4\n",
       "G       4        2     1        1        3\n",
       "H       2        3     3        4        1\n",
       "I       1        1     3        2        3\n",
       "J       3        2     4        2        3"
      ]
     },
     "execution_count": 97,
     "metadata": {},
     "output_type": "execute_result"
    }
   ],
   "source": [
    "df.rename(columns = {'c1':'Korean','c2':'English','c3':'Math','c4':'Science','c5':'Society'},\n",
    "          index={0:\"A\",1:\"B\",2:\"C\",3:\"D\",4:\"E\",5:\"F\",6:\"G\",7:\"H\",8:\"I\",9:\"J\"},inplace =True)\n",
    "df"
   ]
  },
  {
   "cell_type": "code",
   "execution_count": 98,
   "id": "3553eb31",
   "metadata": {},
   "outputs": [],
   "source": [
    "# import Warnings\n",
    "# warnings.filterwarnings('ignore')"
   ]
  },
  {
   "cell_type": "code",
   "execution_count": 103,
   "id": "56724e96",
   "metadata": {},
   "outputs": [
    {
     "data": {
      "text/plain": [
       "3"
      ]
     },
     "execution_count": 103,
     "metadata": {},
     "output_type": "execute_result"
    }
   ],
   "source": [
    "df.loc['A','Society']\n",
    "df.iloc[0,4]"
   ]
  },
  {
   "cell_type": "code",
   "execution_count": null,
   "id": "51d2e0ba",
   "metadata": {},
   "outputs": [],
   "source": []
  },
  {
   "cell_type": "code",
   "execution_count": null,
   "id": "8eb6c285",
   "metadata": {},
   "outputs": [],
   "source": []
  },
  {
   "cell_type": "code",
   "execution_count": null,
   "id": "d1afa88b",
   "metadata": {},
   "outputs": [],
   "source": []
  },
  {
   "cell_type": "code",
   "execution_count": null,
   "id": "1e3a2ae3",
   "metadata": {},
   "outputs": [],
   "source": []
  },
  {
   "cell_type": "code",
   "execution_count": null,
   "id": "def22e6b",
   "metadata": {},
   "outputs": [],
   "source": []
  },
  {
   "cell_type": "code",
   "execution_count": null,
   "id": "41d17eb7",
   "metadata": {},
   "outputs": [],
   "source": []
  },
  {
   "cell_type": "code",
   "execution_count": null,
   "id": "1c9bac05",
   "metadata": {},
   "outputs": [],
   "source": []
  },
  {
   "cell_type": "code",
   "execution_count": null,
   "id": "da742788",
   "metadata": {},
   "outputs": [],
   "source": []
  },
  {
   "cell_type": "code",
   "execution_count": null,
   "id": "009fa6d2",
   "metadata": {},
   "outputs": [],
   "source": []
  },
  {
   "cell_type": "code",
   "execution_count": null,
   "id": "618799e3",
   "metadata": {},
   "outputs": [],
   "source": []
  },
  {
   "cell_type": "code",
   "execution_count": null,
   "id": "079d5dbb",
   "metadata": {},
   "outputs": [],
   "source": []
  },
  {
   "cell_type": "code",
   "execution_count": null,
   "id": "5818fd82",
   "metadata": {},
   "outputs": [],
   "source": []
  },
  {
   "cell_type": "code",
   "execution_count": null,
   "id": "f6f2ddba",
   "metadata": {},
   "outputs": [],
   "source": []
  },
  {
   "cell_type": "code",
   "execution_count": null,
   "id": "9cf6d3c2",
   "metadata": {},
   "outputs": [],
   "source": []
  },
  {
   "cell_type": "code",
   "execution_count": null,
   "id": "c212abfa",
   "metadata": {},
   "outputs": [],
   "source": []
  }
 ],
 "metadata": {
  "kernelspec": {
   "display_name": "Python 3",
   "language": "python",
   "name": "python3"
  },
  "language_info": {
   "codemirror_mode": {
    "name": "ipython",
    "version": 3
   },
   "file_extension": ".py",
   "mimetype": "text/x-python",
   "name": "python",
   "nbconvert_exporter": "python",
   "pygments_lexer": "ipython3",
   "version": "3.8.10"
  }
 },
 "nbformat": 4,
 "nbformat_minor": 5
}
