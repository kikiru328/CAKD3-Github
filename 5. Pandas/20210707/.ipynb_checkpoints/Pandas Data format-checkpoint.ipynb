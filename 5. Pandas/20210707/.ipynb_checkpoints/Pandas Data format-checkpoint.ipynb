{
 "cells": [
  {
   "cell_type": "markdown",
   "id": "4cdbb60e",
   "metadata": {},
   "source": [
    "### Pandas\n",
    "    - 판다스는 구조화 된 데이터 형식을 제공. Series = 1차원 배열. DataFrame = 2차원 배열.\n",
    "    - 라이브러리는 여러 종류의 class와 다양한 내장 함수로 구성. Series 와 DataFrame 대표적인 클래스 객체.\n",
    "    - 시리즈 인덱스는 데이터 값과 1:1대응. 파이썬 딕셔너리와 비슷한 구조. pandas.Series(dictionary)\n",
    "\n",
    "* Contents\n",
    "* Series(변환,인덱스 구조, 원소 선택)\n",
    "* DataFrame(변환, 행인덱스/열이름 지정, 삭제, 선택, 추가, 변경, 전치 , 인덱스활용 )"
   ]
  },
  {
   "cell_type": "markdown",
   "id": "c1dee4e7",
   "metadata": {},
   "source": [
    "#### Import pandas"
   ]
  },
  {
   "cell_type": "code",
   "execution_count": 1,
   "id": "3db84d2b",
   "metadata": {},
   "outputs": [],
   "source": [
    "import pandas as pd"
   ]
  },
  {
   "cell_type": "markdown",
   "id": "6ede0cdc",
   "metadata": {},
   "source": [
    "#### Series class"
   ]
  },
  {
   "cell_type": "code",
   "execution_count": 2,
   "id": "efa6bfe1",
   "metadata": {},
   "outputs": [
    {
     "name": "stdout",
     "output_type": "stream",
     "text": [
      "<class 'pandas.core.series.Series'>\n",
      "a    1\n",
      "b    2\n",
      "c    3\n",
      "dtype: int64\n"
     ]
    }
   ],
   "source": [
    "# K : V 를 갖는 DICT 를 만들고 변수 dict_data 에 저장\n",
    "dict_data = {'a':1,'b':2,'c':3}\n",
    "srD = pd.Series(dict_data) #자동 index 설정\n",
    "print(type(srD)) \n",
    "print(srD)"
   ]
  },
  {
   "cell_type": "code",
   "execution_count": 3,
   "id": "dcf4abe0",
   "metadata": {},
   "outputs": [
    {
     "name": "stdout",
     "output_type": "stream",
     "text": [
      "<class 'pandas.core.series.Series'>\n",
      "a    2019-07-02\n",
      "b          3.14\n",
      "c           ABC\n",
      "d           100\n",
      "e          True\n",
      "dtype: object\n",
      "\n",
      "\n",
      "Index(['a', 'b', 'c', 'd', 'e'], dtype='object')\n",
      "['2019-07-02' 3.14 'ABC' 100 True]\n"
     ]
    }
   ],
   "source": [
    "# LIST to Series\n",
    "List_data = ['2019-07-02',3.14,'ABC',100,True]\n",
    "srL = pd.Series(List_data,index=list('abcde')) # index 설정.    #list('문자열') - 문자열을 나눔.\n",
    "print(type(srL))\n",
    "print(srL)\n",
    "\n",
    "print('\\n')\n",
    "# index / value\n",
    "idx = srL.index\n",
    "val = srL.values\n",
    "print(idx)\n",
    "print(val)"
   ]
  },
  {
   "cell_type": "code",
   "execution_count": 4,
   "id": "3fae4811",
   "metadata": {},
   "outputs": [
    {
     "name": "stdout",
     "output_type": "stream",
     "text": [
      "<class 'pandas.core.series.Series'>\n",
      "이름           Kevin\n",
      "생년월일    2021-07-07\n",
      "성별               남\n",
      "학생여부          True\n",
      "dtype: object\n",
      "\n",
      "\n",
      "Kevin\n",
      "Kevin\n",
      "생년월일    2021-07-07\n",
      "성별               남\n",
      "dtype: object\n"
     ]
    }
   ],
   "source": [
    "# Tuple to Seires\n",
    "tup_data = ('Kevin','2021-07-07','남',True)\n",
    "srT = pd.Series(tup_data, index = ['이름','생년월일','성별','학생여부'])\n",
    "print(type(srT))\n",
    "print(srT)\n",
    "#open API json으로 불러왔을떈 DICT 포맷. --> Series/DataFrame변경가능\n",
    "print('\\n')\n",
    "\n",
    "#indexing\n",
    "print(srT[0])\n",
    "print(srT['이름'])\n",
    "print(srT[[1,2]]) #색인시 [[]]"
   ]
  },
  {
   "cell_type": "markdown",
   "id": "e0afa830",
   "metadata": {},
   "source": [
    "#### Numpy"
   ]
  },
  {
   "cell_type": "code",
   "execution_count": 5,
   "id": "3f37bbe8",
   "metadata": {},
   "outputs": [
    {
     "name": "stdout",
     "output_type": "stream",
     "text": [
      "<class 'numpy.ndarray'> [11 12 13 14 15]\n",
      "\n",
      "\n",
      "<class 'pandas.core.series.Series'> 0    11\n",
      "1    12\n",
      "2    13\n",
      "3    14\n",
      "4    15\n",
      "dtype: int32\n",
      "\n",
      "\n",
      "<class 'list'> [11, 12, 13, 14, 15]\n"
     ]
    }
   ],
   "source": [
    "import numpy as np\n",
    "\n",
    "npA = np.arange(11,16)\n",
    "print(type(npA),npA) #numpy.ndarray\n",
    "print('\\n')\n",
    "\n",
    "srA = pd.Series(npA)\n",
    "print(type(srA),srA)\n",
    "print('\\n')\n",
    "\n",
    "sL = npA.tolist()\n",
    "print(type(sL),sL)"
   ]
  },
  {
   "cell_type": "markdown",
   "id": "ba5358a1",
   "metadata": {},
   "source": [
    "Q.\n",
    "       \n",
    "    밑과 같이 출력하시오"
   ]
  },
  {
   "cell_type": "code",
   "execution_count": 6,
   "id": "34808085",
   "metadata": {},
   "outputs": [
    {
     "name": "stdout",
     "output_type": "stream",
     "text": [
      "state\n",
      "California    1000\n",
      "Ohio          2000\n",
      "Oregon        3000\n",
      "Texas         4000\n",
      "Name: population, dtype: int32\n",
      "\n",
      "\n",
      "state\n",
      "California       NaN\n",
      "Ohio          2000.0\n",
      "Oregon        3000.0\n",
      "Texas         4000.0\n",
      "Name: population, dtype: float64\n",
      "\n",
      "\n",
      "state\n",
      "California     True\n",
      "Ohio          False\n",
      "Oregon        False\n",
      "Texas         False\n",
      "Name: population, dtype: bool\n",
      "\n",
      "\n",
      "1\n"
     ]
    }
   ],
   "source": [
    "Val = np.arange(1000,5000,1000)\n",
    "\n",
    "Answer = pd.Series(Val , index=[\"California\",\"Ohio\",\"Oregon\",\"Texas\"], name=\"population\")\n",
    "Answer.index.name = 'state'\n",
    "print(Answer)\n",
    "print('\\n')\n",
    "\n",
    "Answer.California = np.nan\n",
    "print(Answer)\n",
    "print('\\n')\n",
    "\n",
    "print(Answer.isnull()) #결측치 확인\n",
    "print('\\n')\n",
    "print(Answer.isnull().sum()) # True = 1 , False = 0"
   ]
  },
  {
   "cell_type": "markdown",
   "id": "24eb38e2",
   "metadata": {},
   "source": [
    "#### DataFrame\n",
    "    DataFrame은 2차원 배열, R의 DataFrame에서 유래.\n",
    "    DataFrame의 열은 각각 시리즈 개체\n",
    "    시리즈를 열벡터(col.vector)라고 하면 DataFrame은 여러개의 열벡터(col.vector)들이 같은 row.index를 기준으로\n",
    "    줄지어 결합된 2차원 vector 또는 핼렬(metrix)라고 함\n",
    "    선형대수학에서 열 벡터 (m x 1 행렬)는 m 원소들의 단일 열 행렬\n",
    "    행 벡터 (1 x m 행렬)은 m 원소들의 단일 행 행렬.\n",
    "    LIST, DICT, ndarry등 다양한 데이터로부터 생성됨.\n",
    "    반대로 LIST, DICT, ndarry 등으로 변환 될 수 있음."
   ]
  },
  {
   "cell_type": "code",
   "execution_count": 7,
   "id": "8f27b8ff",
   "metadata": {},
   "outputs": [
    {
     "name": "stdout",
     "output_type": "stream",
     "text": [
      "[[110 108 115]\n",
      " [115 102 118]\n",
      " [107 115 111]] <class 'numpy.ndarray'>\n",
      "\n",
      "\n",
      "<class 'pandas.core.frame.DataFrame'>\n"
     ]
    },
    {
     "data": {
      "text/html": [
       "<div>\n",
       "<style scoped>\n",
       "    .dataframe tbody tr th:only-of-type {\n",
       "        vertical-align: middle;\n",
       "    }\n",
       "\n",
       "    .dataframe tbody tr th {\n",
       "        vertical-align: top;\n",
       "    }\n",
       "\n",
       "    .dataframe thead th {\n",
       "        text-align: right;\n",
       "    }\n",
       "</style>\n",
       "<table border=\"1\" class=\"dataframe\">\n",
       "  <thead>\n",
       "    <tr style=\"text-align: right;\">\n",
       "      <th></th>\n",
       "      <th>pd</th>\n",
       "      <th>sales</th>\n",
       "      <th>inv</th>\n",
       "    </tr>\n",
       "  </thead>\n",
       "  <tbody>\n",
       "    <tr>\n",
       "      <th>d1</th>\n",
       "      <td>110</td>\n",
       "      <td>108</td>\n",
       "      <td>115</td>\n",
       "    </tr>\n",
       "    <tr>\n",
       "      <th>d2</th>\n",
       "      <td>115</td>\n",
       "      <td>102</td>\n",
       "      <td>118</td>\n",
       "    </tr>\n",
       "    <tr>\n",
       "      <th>d3</th>\n",
       "      <td>107</td>\n",
       "      <td>115</td>\n",
       "      <td>111</td>\n",
       "    </tr>\n",
       "  </tbody>\n",
       "</table>\n",
       "</div>"
      ],
      "text/plain": [
       "     pd  sales  inv\n",
       "d1  110    108  115\n",
       "d2  115    102  118\n",
       "d3  107    115  111"
      ]
     },
     "execution_count": 7,
     "metadata": {},
     "output_type": "execute_result"
    }
   ],
   "source": [
    "#Array to DataFrame\n",
    "data = np.random.randint(100,120,size=(3,3)) #3행 3열 9개.\n",
    "print(data,type(data))\n",
    "df = pd.DataFrame(data,index=['d1','d2','d3'],columns =['pd','sales','inv'])\n",
    "print('\\n')\n",
    "print(type(df))\n",
    "df"
   ]
  },
  {
   "cell_type": "code",
   "execution_count": 8,
   "id": "d09cffa7",
   "metadata": {},
   "outputs": [
    {
     "name": "stdout",
     "output_type": "stream",
     "text": [
      "pd       115\n",
      "sales    102\n",
      "inv      118\n",
      "Name: d2, dtype: int32 \n",
      " <class 'pandas.core.series.Series'> \n",
      "\n",
      "pd       115\n",
      "sales    102\n",
      "inv      118\n",
      "Name: d2, dtype: int32 \n",
      " <class 'pandas.core.series.Series'>\n",
      "\n",
      "\n",
      "102\n",
      "102\n"
     ]
    }
   ],
   "source": [
    "#pandas indexing : iloc 정수 인덱스, loc 이름 인덱스\n",
    "\n",
    "np.random.seed(2) #안에는 아무거나 넣어도 됨.\n",
    "\n",
    "print(df.iloc[1],'\\n',type(df.iloc[1]),'\\n') #Serues\n",
    "print(df.loc['d2'],'\\n',type(df.iloc[1]))\n",
    "print('\\n')\n",
    "\n",
    "print(df.iloc[1][1])\n",
    "print(df.loc['d2','sales'])"
   ]
  },
  {
   "cell_type": "code",
   "execution_count": 9,
   "id": "f4f77396",
   "metadata": {},
   "outputs": [
    {
     "data": {
      "text/plain": [
       "d1    115\n",
       "d2    118\n",
       "d3    111\n",
       "Name: inv, dtype: int32"
      ]
     },
     "execution_count": 9,
     "metadata": {},
     "output_type": "execute_result"
    }
   ],
   "source": [
    "df.loc[:,'inv']"
   ]
  },
  {
   "cell_type": "code",
   "execution_count": 10,
   "id": "526c2de6",
   "metadata": {
    "scrolled": true
   },
   "outputs": [],
   "source": [
    "id = np.arange(1,1001)\n",
    "gender = np.random.randint(2,size=1000)\n",
    "age = np.random.randint(1,100,size=1000)\n",
    "region = np.random.randint(1,11,size=1000)"
   ]
  },
  {
   "cell_type": "code",
   "execution_count": 11,
   "id": "9d682d5c",
   "metadata": {},
   "outputs": [],
   "source": [
    "ID = pd.Series(id,name ='Id')\n",
    "Gender = pd.Series(gender,name='Gender')\n",
    "Age = pd.Series(age,name='Age')\n",
    "Region = pd.Series(region,name='Region')\n",
    "\n",
    "df = pd.concat([ID,Gender,Age,Region],axis=1,names = 'data')\n",
    "# df.rename(columns={0:'ID',1:\"Gender\",2:\"Age\",3:\"region\"},inplace=True)\n"
   ]
  },
  {
   "cell_type": "markdown",
   "id": "b71fb859",
   "metadata": {
    "slideshow": {
     "slide_type": "-"
    }
   },
   "source": [
    "Q 과제 (위 데이터에 적합한 컬럼 5개를 추가하여 출력하세요"
   ]
  },
  {
   "cell_type": "code",
   "execution_count": 12,
   "id": "829c7372",
   "metadata": {},
   "outputs": [],
   "source": [
    "#랜덤 적용된 성별 0 ->male / 1 -> female 로 변경\n",
    "df['Gender'].replace({0:'male',1:'female'},inplace=True)\n",
    "\n",
    "#추가 1"
   ]
  },
  {
   "cell_type": "code",
   "execution_count": 13,
   "id": "724a1346",
   "metadata": {},
   "outputs": [
    {
     "ename": "NameError",
     "evalue": "name 'a' is not defined",
     "output_type": "error",
     "traceback": [
      "\u001b[1;31m---------------------------------------------------------------------------\u001b[0m",
      "\u001b[1;31mNameError\u001b[0m                                 Traceback (most recent call last)",
      "\u001b[1;32m<ipython-input-13-8e7c9b97e0ec>\u001b[0m in \u001b[0;36m<module>\u001b[1;34m\u001b[0m\n\u001b[0;32m      1\u001b[0m \u001b[1;31m#2차원 리스트를 DataFrame으로 변환\u001b[0m\u001b[1;33m\u001b[0m\u001b[1;33m\u001b[0m\u001b[1;33m\u001b[0m\u001b[0m\n\u001b[1;32m----> 2\u001b[1;33m \u001b[0mlist1\u001b[0m \u001b[1;33m=\u001b[0m \u001b[0ma\u001b[0m\u001b[1;33m.\u001b[0m\u001b[0mtolist\u001b[0m\u001b[1;33m(\u001b[0m\u001b[1;33m)\u001b[0m\u001b[1;33m\u001b[0m\u001b[1;33m\u001b[0m\u001b[0m\n\u001b[0m",
      "\u001b[1;31mNameError\u001b[0m: name 'a' is not defined"
     ]
    }
   ],
   "source": [
    "#2차원 리스트를 DataFrame으로 변환\n",
    "list1 = a.tolist()"
   ]
  },
  {
   "cell_type": "code",
   "execution_count": null,
   "id": "16c6db4c",
   "metadata": {},
   "outputs": [],
   "source": []
  },
  {
   "cell_type": "code",
   "execution_count": null,
   "id": "0e5e89b2",
   "metadata": {},
   "outputs": [],
   "source": []
  },
  {
   "cell_type": "code",
   "execution_count": null,
   "id": "4af7b165",
   "metadata": {},
   "outputs": [],
   "source": []
  },
  {
   "cell_type": "code",
   "execution_count": null,
   "id": "9010ba91",
   "metadata": {},
   "outputs": [],
   "source": []
  },
  {
   "cell_type": "code",
   "execution_count": null,
   "id": "8fd6ecdb",
   "metadata": {},
   "outputs": [],
   "source": []
  },
  {
   "cell_type": "code",
   "execution_count": null,
   "id": "24c7215e",
   "metadata": {},
   "outputs": [],
   "source": []
  },
  {
   "cell_type": "code",
   "execution_count": null,
   "id": "87e0daab",
   "metadata": {},
   "outputs": [],
   "source": []
  }
 ],
 "metadata": {
  "kernelspec": {
   "display_name": "Python 3",
   "language": "python",
   "name": "python3"
  },
  "language_info": {
   "codemirror_mode": {
    "name": "ipython",
    "version": 3
   },
   "file_extension": ".py",
   "mimetype": "text/x-python",
   "name": "python",
   "nbconvert_exporter": "python",
   "pygments_lexer": "ipython3",
   "version": "3.8.10"
  }
 },
 "nbformat": 4,
 "nbformat_minor": 5
}
