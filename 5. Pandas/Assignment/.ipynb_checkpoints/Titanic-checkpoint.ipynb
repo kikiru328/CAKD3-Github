{
 "cells": [
  {
   "cell_type": "code",
   "execution_count": 1,
   "id": "3c75982b",
   "metadata": {},
   "outputs": [],
   "source": [
    "# module import\n",
    "import pandas as pd # DF 처리할 때 사용\n",
    "import numpy as np # nan값 처리할 때 사용\n",
    "import seaborn as sns # 시각화 \n",
    "import matplotlib.pyplot as plt #시각화\n",
    "%matplotlib inline"
   ]
  },
  {
   "cell_type": "raw",
   "id": "64dfc090",
   "metadata": {},
   "source": [
    "이번에 전처리 하고 분석해야 할 내용은 '타이타닉' 입니다.\n",
    "타이타닉 사건은 1912년 영국 Southhampton에서 출발해 미국 뉴욕으로 항해 도중 약 2,224명 탑승객 중 1,500명 이상이 사망한\n",
    "사건입니다. 당시 타이타닉은 부유층들과 아메리칸 드림을 꿈꾸는 사람들까지 모두 태우고 있어서 더욱더 안타까운 사건입니다.\n",
    "타이타닉의 이동은 Southhampton을 출발한 후, 프랑스의 Cherbourg, 아일랜드의 Queenstown에 정박, 이후 뉴욕으로 출발합니다.\n",
    "하지만 타이타닉호는 선체의 우현에 빙하와 충돌한 후, 바닷물에 노출되었습니다.\n",
    "당시 1912년 배경과, 타이타닉의 구명정 탑승 규칙인 '여성과 아이들 먼저 (ladies and child first)' 로 많은 남성들은\n",
    "구명정을 타지 못하고 높은 확률로 사망하였습니다.\n",
    "\n",
    "타이타닉은 총 10층으로 구성되어 층별로 다른 시설들이 존재했다고 합니다.\n",
    "\n",
    "- 최상층에 위치한 The Boat Deck. 구명정이 설치되어 있던 층이며, 합교,조타실, 선장실이 있던 층입니다.\n",
    "- 1등실의 산책로, 객실, 라운지, 등등 1등실 승객만을 위한 층인 'A deck',\n",
    "- 1등실의 개인 산책로와 초호화객실 'B deck',\n",
    "- 1등실의 대다수 객실과 2등실의 도서관, 3등실의 산책로와 선원의 숙소, 3등실 승객의 라운지로 여러가지가 존재한 'C deck',\n",
    "- 1등실 연회실, 식당, 2등실 식당으로 구성된 'D deck'\n",
    "- 2등실의 승객과 선원들의 객실이 포함된 'E deck'\n",
    "- 2,3등실 객실과 선원 생활공간, 3등실 식당이 포함된 'F deck'\n",
    "- 선원 및 승객들이 사용하는 다양한 생활공간인 'G deck'\n",
    "- |최하층 갑판인 'Orlop Deck'\n",
    "- 그 아래 보일러, 엔진 시설이 있는 'Tank Top'\n",
    "\n",
    "타이타닉의 경우 '3등실' 이용객들을 배의 양 끝에 나누어서 타게 하고, \n",
    "1인 남성승객은 배의 앞쪽에, 1인 여성승객과 결혼한 커플, 가족들은 뒤로 타게하여 프라이버시를 위한 분리조치를 실행했습니다.\n",
    "\n"
   ]
  },
  {
   "cell_type": "markdown",
   "id": "c6d07adf",
   "metadata": {},
   "source": [
    "    DATA LOADING"
   ]
  },
  {
   "cell_type": "code",
   "execution_count": 2,
   "id": "87dffeb5",
   "metadata": {},
   "outputs": [
    {
     "data": {
      "text/html": [
       "<div>\n",
       "<style scoped>\n",
       "    .dataframe tbody tr th:only-of-type {\n",
       "        vertical-align: middle;\n",
       "    }\n",
       "\n",
       "    .dataframe tbody tr th {\n",
       "        vertical-align: top;\n",
       "    }\n",
       "\n",
       "    .dataframe thead th {\n",
       "        text-align: right;\n",
       "    }\n",
       "</style>\n",
       "<table border=\"1\" class=\"dataframe\">\n",
       "  <thead>\n",
       "    <tr style=\"text-align: right;\">\n",
       "      <th></th>\n",
       "      <th>PassengerId</th>\n",
       "      <th>Survived</th>\n",
       "      <th>Pclass</th>\n",
       "      <th>Name</th>\n",
       "      <th>Sex</th>\n",
       "      <th>Age</th>\n",
       "      <th>SibSp</th>\n",
       "      <th>Parch</th>\n",
       "      <th>Ticket</th>\n",
       "      <th>Fare</th>\n",
       "      <th>Cabin</th>\n",
       "      <th>Embarked</th>\n",
       "    </tr>\n",
       "  </thead>\n",
       "  <tbody>\n",
       "    <tr>\n",
       "      <th>0</th>\n",
       "      <td>1</td>\n",
       "      <td>0</td>\n",
       "      <td>3</td>\n",
       "      <td>Braund, Mr. Owen Harris</td>\n",
       "      <td>male</td>\n",
       "      <td>22.0</td>\n",
       "      <td>1</td>\n",
       "      <td>0</td>\n",
       "      <td>A/5 21171</td>\n",
       "      <td>7.2500</td>\n",
       "      <td>NaN</td>\n",
       "      <td>S</td>\n",
       "    </tr>\n",
       "    <tr>\n",
       "      <th>1</th>\n",
       "      <td>2</td>\n",
       "      <td>1</td>\n",
       "      <td>1</td>\n",
       "      <td>Cumings, Mrs. John Bradley (Florence Briggs Th...</td>\n",
       "      <td>female</td>\n",
       "      <td>38.0</td>\n",
       "      <td>1</td>\n",
       "      <td>0</td>\n",
       "      <td>PC 17599</td>\n",
       "      <td>71.2833</td>\n",
       "      <td>C85</td>\n",
       "      <td>C</td>\n",
       "    </tr>\n",
       "    <tr>\n",
       "      <th>2</th>\n",
       "      <td>3</td>\n",
       "      <td>1</td>\n",
       "      <td>3</td>\n",
       "      <td>Heikkinen, Miss. Laina</td>\n",
       "      <td>female</td>\n",
       "      <td>26.0</td>\n",
       "      <td>0</td>\n",
       "      <td>0</td>\n",
       "      <td>STON/O2. 3101282</td>\n",
       "      <td>7.9250</td>\n",
       "      <td>NaN</td>\n",
       "      <td>S</td>\n",
       "    </tr>\n",
       "    <tr>\n",
       "      <th>3</th>\n",
       "      <td>4</td>\n",
       "      <td>1</td>\n",
       "      <td>1</td>\n",
       "      <td>Futrelle, Mrs. Jacques Heath (Lily May Peel)</td>\n",
       "      <td>female</td>\n",
       "      <td>35.0</td>\n",
       "      <td>1</td>\n",
       "      <td>0</td>\n",
       "      <td>113803</td>\n",
       "      <td>53.1000</td>\n",
       "      <td>C123</td>\n",
       "      <td>S</td>\n",
       "    </tr>\n",
       "    <tr>\n",
       "      <th>4</th>\n",
       "      <td>5</td>\n",
       "      <td>0</td>\n",
       "      <td>3</td>\n",
       "      <td>Allen, Mr. William Henry</td>\n",
       "      <td>male</td>\n",
       "      <td>35.0</td>\n",
       "      <td>0</td>\n",
       "      <td>0</td>\n",
       "      <td>373450</td>\n",
       "      <td>8.0500</td>\n",
       "      <td>NaN</td>\n",
       "      <td>S</td>\n",
       "    </tr>\n",
       "  </tbody>\n",
       "</table>\n",
       "</div>"
      ],
      "text/plain": [
       "   PassengerId  Survived  Pclass  \\\n",
       "0            1         0       3   \n",
       "1            2         1       1   \n",
       "2            3         1       3   \n",
       "3            4         1       1   \n",
       "4            5         0       3   \n",
       "\n",
       "                                                Name     Sex   Age  SibSp  \\\n",
       "0                            Braund, Mr. Owen Harris    male  22.0      1   \n",
       "1  Cumings, Mrs. John Bradley (Florence Briggs Th...  female  38.0      1   \n",
       "2                             Heikkinen, Miss. Laina  female  26.0      0   \n",
       "3       Futrelle, Mrs. Jacques Heath (Lily May Peel)  female  35.0      1   \n",
       "4                           Allen, Mr. William Henry    male  35.0      0   \n",
       "\n",
       "   Parch            Ticket     Fare Cabin Embarked  \n",
       "0      0         A/5 21171   7.2500   NaN        S  \n",
       "1      0          PC 17599  71.2833   C85        C  \n",
       "2      0  STON/O2. 3101282   7.9250   NaN        S  \n",
       "3      0            113803  53.1000  C123        S  \n",
       "4      0            373450   8.0500   NaN        S  "
      ]
     },
     "execution_count": 2,
     "metadata": {},
     "output_type": "execute_result"
    }
   ],
   "source": [
    "raw_data = pd.read_csv('../Data/train.csv')\n",
    "data = raw_data.copy() # copy를 사용해서 raw_data를 변경하지 않도록!\n",
    "data.head() # data 형태를 확인해봅시다."
   ]
  },
  {
   "cell_type": "code",
   "execution_count": 3,
   "id": "ec3475ce",
   "metadata": {},
   "outputs": [
    {
     "name": "stdout",
     "output_type": "stream",
     "text": [
      "<class 'pandas.core.frame.DataFrame'>\n",
      "RangeIndex: 891 entries, 0 to 890\n",
      "Data columns (total 12 columns):\n",
      " #   Column       Non-Null Count  Dtype  \n",
      "---  ------       --------------  -----  \n",
      " 0   PassengerId  891 non-null    int64  \n",
      " 1   Survived     891 non-null    int64  \n",
      " 2   Pclass       891 non-null    int64  \n",
      " 3   Name         891 non-null    object \n",
      " 4   Sex          891 non-null    object \n",
      " 5   Age          714 non-null    float64\n",
      " 6   SibSp        891 non-null    int64  \n",
      " 7   Parch        891 non-null    int64  \n",
      " 8   Ticket       891 non-null    object \n",
      " 9   Fare         891 non-null    float64\n",
      " 10  Cabin        204 non-null    object \n",
      " 11  Embarked     889 non-null    object \n",
      "dtypes: float64(2), int64(5), object(5)\n",
      "memory usage: 83.7+ KB\n"
     ]
    }
   ],
   "source": [
    "data.info() # data의 정보 확인"
   ]
  },
  {
   "cell_type": "raw",
   "id": "95958d2e",
   "metadata": {},
   "source": [
    "data 는 총 891 x 12 dataframe 형태를 가지고 있습니다. \n",
    "12개의 컬럼은 병합 혹은 분할을 통해서 가치있는 열을 찾아야 할 것 입니다"
   ]
  },
  {
   "cell_type": "markdown",
   "id": "ab503405",
   "metadata": {},
   "source": [
    "    데이터 처리 과정에서 가장 첫번째로 고민해야 할 부분은 '결측값'처리 인 것 같습니다.\n",
    "    data의 열(columns)에 결측값이 있는지 확인해봅시다."
   ]
  },
  {
   "cell_type": "code",
   "execution_count": 4,
   "id": "00e0c3bb",
   "metadata": {},
   "outputs": [
    {
     "data": {
      "text/plain": [
       "PassengerId      0\n",
       "Survived         0\n",
       "Pclass           0\n",
       "Name             0\n",
       "Sex              0\n",
       "Age            177\n",
       "SibSp            0\n",
       "Parch            0\n",
       "Ticket           0\n",
       "Fare             0\n",
       "Cabin          687\n",
       "Embarked         2\n",
       "dtype: int64"
      ]
     },
     "execution_count": 4,
     "metadata": {},
     "output_type": "execute_result"
    }
   ],
   "source": [
    "data.isnull().sum() #data에 null값이 있으면 1로 반환하고 더합니다."
   ]
  },
  {
   "cell_type": "raw",
   "id": "c181b4a6",
   "metadata": {},
   "source": [
    "- Age 값과 Cabin , Embared 열에는 결측값이 많이 존재합니다.\n",
    "- 특히 Cabin의 경우 결측값이 상대적으로 훨씬 많기 때문에 결측값 처리 기준을 잘 세워야 할 것 같습니다.\n",
    "  그게 아니라면 제거하는 것도 방법일 것 같습니다.\n",
    "- Embarked 열의 경우에는 2개의 결측값이 있고, 이 값들은 총 891개의 값 중 2개 ffill/bfill 등을 이용해\n",
    "  결측값을 처리해도 크게 문제되지 않을 것 같습니다."
   ]
  },
  {
   "cell_type": "code",
   "execution_count": null,
   "id": "041d3f82",
   "metadata": {},
   "outputs": [],
   "source": []
  },
  {
   "cell_type": "code",
   "execution_count": null,
   "id": "8cd09835",
   "metadata": {},
   "outputs": [],
   "source": []
  },
  {
   "cell_type": "code",
   "execution_count": null,
   "id": "491f4f50",
   "metadata": {},
   "outputs": [],
   "source": []
  }
 ],
 "metadata": {
  "kernelspec": {
   "display_name": "Python 3",
   "language": "python",
   "name": "python3"
  },
  "language_info": {
   "codemirror_mode": {
    "name": "ipython",
    "version": 3
   },
   "file_extension": ".py",
   "mimetype": "text/x-python",
   "name": "python",
   "nbconvert_exporter": "python",
   "pygments_lexer": "ipython3",
   "version": "3.8.10"
  }
 },
 "nbformat": 4,
 "nbformat_minor": 5
}
