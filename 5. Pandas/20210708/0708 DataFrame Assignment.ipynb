{
 "cells": [
  {
   "cell_type": "markdown",
   "id": "a41b5070",
   "metadata": {},
   "source": [
    "Q1. 리스트, 배열, 사전 형태의 데이터를 DataFrame으로 변환\n",
    "- 5행 5열\n",
    "- 가급적 의미있는 data\n",
    "- 리스트 - 빙고 (25)\n",
    "- 배열 - 점수\n",
    "- 사전 - 탑승객"
   ]
  },
  {
   "cell_type": "code",
   "execution_count": null,
   "id": "b969ce3a",
   "metadata": {},
   "outputs": [],
   "source": [
    "data_list_c = []"
   ]
  },
  {
   "cell_type": "markdown",
   "id": "dc9f1c54",
   "metadata": {},
   "source": [
    "Q2. 위에서 변환한 데이터 프레임에서 데이터 변경, 삭제, 전치, 인덱스 등 처리를 한 후 \n",
    "    다시 리스트, 배열, 사전 형태로 변환하여 출력하세요"
   ]
  },
  {
   "cell_type": "code",
   "execution_count": null,
   "id": "c392ee57",
   "metadata": {},
   "outputs": [],
   "source": []
  },
  {
   "cell_type": "code",
   "execution_count": null,
   "id": "8660378f",
   "metadata": {},
   "outputs": [],
   "source": []
  },
  {
   "cell_type": "code",
   "execution_count": null,
   "id": "127ef28f",
   "metadata": {},
   "outputs": [],
   "source": []
  },
  {
   "cell_type": "code",
   "execution_count": null,
   "id": "6c81248e",
   "metadata": {},
   "outputs": [],
   "source": []
  },
  {
   "cell_type": "code",
   "execution_count": null,
   "id": "dfe21f96",
   "metadata": {},
   "outputs": [],
   "source": []
  },
  {
   "cell_type": "code",
   "execution_count": null,
   "id": "b156dfea",
   "metadata": {},
   "outputs": [],
   "source": []
  },
  {
   "cell_type": "code",
   "execution_count": null,
   "id": "d9a8f75c",
   "metadata": {},
   "outputs": [],
   "source": []
  },
  {
   "cell_type": "code",
   "execution_count": null,
   "id": "a02b3d20",
   "metadata": {},
   "outputs": [],
   "source": []
  },
  {
   "cell_type": "code",
   "execution_count": null,
   "id": "c8d53b55",
   "metadata": {},
   "outputs": [],
   "source": []
  }
 ],
 "metadata": {
  "kernelspec": {
   "display_name": "Python 3",
   "language": "python",
   "name": "python3"
  },
  "language_info": {
   "codemirror_mode": {
    "name": "ipython",
    "version": 3
   },
   "file_extension": ".py",
   "mimetype": "text/x-python",
   "name": "python",
   "nbconvert_exporter": "python",
   "pygments_lexer": "ipython3",
   "version": "3.8.10"
  }
 },
 "nbformat": 4,
 "nbformat_minor": 5
}
