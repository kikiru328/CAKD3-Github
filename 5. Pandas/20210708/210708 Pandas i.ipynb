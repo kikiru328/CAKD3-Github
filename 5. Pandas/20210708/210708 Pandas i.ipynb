{
 "cells": [
  {
   "cell_type": "code",
   "execution_count": 1,
   "id": "a4870ae5",
   "metadata": {},
   "outputs": [],
   "source": [
    "import numpy as np\n",
    "import pandas as pd\n"
   ]
  },
  {
   "cell_type": "code",
   "execution_count": 19,
   "id": "352e3415",
   "metadata": {},
   "outputs": [],
   "source": [
    "ar1 = np.arange(10).reshape(2,5)\n",
    "df = pd.DataFrame(ar1,columns=list('abcde'))\n",
    "df.to_csv('../Data/test.csv')"
   ]
  },
  {
   "cell_type": "code",
   "execution_count": 20,
   "id": "eeab2f65",
   "metadata": {},
   "outputs": [],
   "source": [
    "data = pd.read_csv('../Data/test.csv',index_col=0)\n",
    "data1 = data.copy()\n",
    "data1 = data1.rename(columns={'a':'Name','b':'Age','c':'job_code','d':'Salary','e':'home_location'})"
   ]
  },
  {
   "cell_type": "code",
   "execution_count": 21,
   "id": "9e973b6e",
   "metadata": {},
   "outputs": [],
   "source": [
    "data1['alive'] = np.random.choice([0,1])\n",
    "data1.set_index('Name')\n",
    "data1 = data1.rename(index={0:'A',1:'B'})"
   ]
  },
  {
   "cell_type": "code",
   "execution_count": 22,
   "id": "520410ff",
   "metadata": {},
   "outputs": [],
   "source": [
    "data1.loc['C']=0\n",
    "data1.loc['D']=0"
   ]
  },
  {
   "cell_type": "code",
   "execution_count": 23,
   "id": "0b62384c",
   "metadata": {},
   "outputs": [],
   "source": [
    "data1.to_csv('../Data/test1.csv')\n",
    "data1 = pd.read_csv('../Data/test1.csv',index_col=0)\n",
    "#data1.to_csv('../Data/test1.csv',index=False)"
   ]
  },
  {
   "cell_type": "code",
   "execution_count": 24,
   "id": "8a13fb49",
   "metadata": {},
   "outputs": [
    {
     "data": {
      "text/html": [
       "<div>\n",
       "<style scoped>\n",
       "    .dataframe tbody tr th:only-of-type {\n",
       "        vertical-align: middle;\n",
       "    }\n",
       "\n",
       "    .dataframe tbody tr th {\n",
       "        vertical-align: top;\n",
       "    }\n",
       "\n",
       "    .dataframe thead th {\n",
       "        text-align: right;\n",
       "    }\n",
       "</style>\n",
       "<table border=\"1\" class=\"dataframe\">\n",
       "  <thead>\n",
       "    <tr style=\"text-align: right;\">\n",
       "      <th></th>\n",
       "      <th>Name</th>\n",
       "      <th>Age</th>\n",
       "      <th>job_code</th>\n",
       "      <th>Salary</th>\n",
       "      <th>home_location</th>\n",
       "      <th>alive</th>\n",
       "    </tr>\n",
       "  </thead>\n",
       "  <tbody>\n",
       "    <tr>\n",
       "      <th>A</th>\n",
       "      <td>0</td>\n",
       "      <td>1</td>\n",
       "      <td>2</td>\n",
       "      <td>3</td>\n",
       "      <td>4</td>\n",
       "      <td>1</td>\n",
       "    </tr>\n",
       "    <tr>\n",
       "      <th>B</th>\n",
       "      <td>5</td>\n",
       "      <td>6</td>\n",
       "      <td>7</td>\n",
       "      <td>8</td>\n",
       "      <td>9</td>\n",
       "      <td>1</td>\n",
       "    </tr>\n",
       "    <tr>\n",
       "      <th>C</th>\n",
       "      <td>0</td>\n",
       "      <td>0</td>\n",
       "      <td>0</td>\n",
       "      <td>0</td>\n",
       "      <td>0</td>\n",
       "      <td>0</td>\n",
       "    </tr>\n",
       "    <tr>\n",
       "      <th>D</th>\n",
       "      <td>0</td>\n",
       "      <td>0</td>\n",
       "      <td>0</td>\n",
       "      <td>0</td>\n",
       "      <td>0</td>\n",
       "      <td>0</td>\n",
       "    </tr>\n",
       "  </tbody>\n",
       "</table>\n",
       "</div>"
      ],
      "text/plain": [
       "   Name  Age  job_code  Salary  home_location  alive\n",
       "A     0    1         2       3              4      1\n",
       "B     5    6         7       8              9      1\n",
       "C     0    0         0       0              0      0\n",
       "D     0    0         0       0              0      0"
      ]
     },
     "execution_count": 24,
     "metadata": {},
     "output_type": "execute_result"
    }
   ],
   "source": [
    "data1"
   ]
  },
  {
   "cell_type": "code",
   "execution_count": 31,
   "id": "7ab86d7e",
   "metadata": {},
   "outputs": [],
   "source": [
    "# json file  \n",
    "#json DICT 형식으로 저장됨 -- {key:value}"
   ]
  },
  {
   "cell_type": "code",
   "execution_count": 32,
   "id": "de1c782f",
   "metadata": {},
   "outputs": [],
   "source": [
    "data1.iloc[2]=1\n",
    "data1.iloc[3]=2"
   ]
  },
  {
   "cell_type": "code",
   "execution_count": 33,
   "id": "70314c51",
   "metadata": {},
   "outputs": [
    {
     "data": {
      "text/html": [
       "<div>\n",
       "<style scoped>\n",
       "    .dataframe tbody tr th:only-of-type {\n",
       "        vertical-align: middle;\n",
       "    }\n",
       "\n",
       "    .dataframe tbody tr th {\n",
       "        vertical-align: top;\n",
       "    }\n",
       "\n",
       "    .dataframe thead th {\n",
       "        text-align: right;\n",
       "    }\n",
       "</style>\n",
       "<table border=\"1\" class=\"dataframe\">\n",
       "  <thead>\n",
       "    <tr style=\"text-align: right;\">\n",
       "      <th></th>\n",
       "      <th>Name</th>\n",
       "      <th>Age</th>\n",
       "      <th>job_code</th>\n",
       "      <th>Salary</th>\n",
       "      <th>home_location</th>\n",
       "      <th>alive</th>\n",
       "    </tr>\n",
       "  </thead>\n",
       "  <tbody>\n",
       "    <tr>\n",
       "      <th>A</th>\n",
       "      <td>0</td>\n",
       "      <td>1</td>\n",
       "      <td>2</td>\n",
       "      <td>3</td>\n",
       "      <td>4</td>\n",
       "      <td>1</td>\n",
       "    </tr>\n",
       "    <tr>\n",
       "      <th>B</th>\n",
       "      <td>5</td>\n",
       "      <td>6</td>\n",
       "      <td>7</td>\n",
       "      <td>8</td>\n",
       "      <td>9</td>\n",
       "      <td>1</td>\n",
       "    </tr>\n",
       "    <tr>\n",
       "      <th>C</th>\n",
       "      <td>1</td>\n",
       "      <td>1</td>\n",
       "      <td>1</td>\n",
       "      <td>1</td>\n",
       "      <td>1</td>\n",
       "      <td>1</td>\n",
       "    </tr>\n",
       "    <tr>\n",
       "      <th>D</th>\n",
       "      <td>2</td>\n",
       "      <td>2</td>\n",
       "      <td>2</td>\n",
       "      <td>2</td>\n",
       "      <td>2</td>\n",
       "      <td>2</td>\n",
       "    </tr>\n",
       "  </tbody>\n",
       "</table>\n",
       "</div>"
      ],
      "text/plain": [
       "   Name  Age  job_code  Salary  home_location  alive\n",
       "A     0    1         2       3              4      1\n",
       "B     5    6         7       8              9      1\n",
       "C     1    1         1       1              1      1\n",
       "D     2    2         2       2              2      2"
      ]
     },
     "execution_count": 33,
     "metadata": {},
     "output_type": "execute_result"
    }
   ],
   "source": [
    "data1.to_json('../Data/test2.json')\n",
    "data_J = pd.read_json('../Data/test2.json')\n",
    "data_J"
   ]
  },
  {
   "cell_type": "code",
   "execution_count": null,
   "id": "515bd972",
   "metadata": {},
   "outputs": [],
   "source": []
  }
 ],
 "metadata": {
  "kernelspec": {
   "display_name": "Python 3",
   "language": "python",
   "name": "python3"
  },
  "language_info": {
   "codemirror_mode": {
    "name": "ipython",
    "version": 3
   },
   "file_extension": ".py",
   "mimetype": "text/x-python",
   "name": "python",
   "nbconvert_exporter": "python",
   "pygments_lexer": "ipython3",
   "version": "3.8.10"
  }
 },
 "nbformat": 4,
 "nbformat_minor": 5
}
