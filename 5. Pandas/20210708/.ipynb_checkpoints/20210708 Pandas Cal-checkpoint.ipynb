{
 "cells": [
  {
   "cell_type": "markdown",
   "id": "9c17acee",
   "metadata": {},
   "source": [
    "##### 연산\n",
    "    행/열 인덱스를 기준으로 모든 원소를 정렬한다\n",
    "    동일한 위치에 있는 원소끼리 일대일 대응시킨다\n",
    "    일대일 대응이 되는 원소끼리 연산을 처리한다"
   ]
  },
  {
   "cell_type": "code",
   "execution_count": 5,
   "id": "68935e04",
   "metadata": {},
   "outputs": [
    {
     "name": "stdout",
     "output_type": "stream",
     "text": [
      "국어    100\n",
      "영어     90\n",
      "수학     80\n",
      "dtype: int64\n",
      "국어    90\n",
      "영어    80\n",
      "수학    80\n",
      "dtype: int64\n"
     ]
    }
   ],
   "source": [
    "import pandas as pd\n",
    "St1 = pd.Series({'국어':100,'영어':90,'수학':80})\n",
    "St2 = pd.Series({'국어':90,'영어':80,'수학':80})\n",
    "print(St1)\n",
    "print(St2)"
   ]
  },
  {
   "cell_type": "markdown",
   "id": "c799ebe7",
   "metadata": {},
   "source": [
    "Series 간 연산"
   ]
  },
  {
   "cell_type": "code",
   "execution_count": 9,
   "id": "e976f011",
   "metadata": {},
   "outputs": [
    {
     "name": "stdout",
     "output_type": "stream",
     "text": [
      "국어    190\n",
      "영어    170\n",
      "수학    160\n",
      "dtype: int64\n"
     ]
    }
   ],
   "source": [
    "add = St1 + St2\n",
    "sub = St1 - St2\n",
    "mul = St1 * St2\n",
    "div = round((St1 / St2),2)\n",
    "print(add)"
   ]
  },
  {
   "cell_type": "code",
   "execution_count": 15,
   "id": "c23beab7",
   "metadata": {},
   "outputs": [
    {
     "data": {
      "text/html": [
       "<div>\n",
       "<style scoped>\n",
       "    .dataframe tbody tr th:only-of-type {\n",
       "        vertical-align: middle;\n",
       "    }\n",
       "\n",
       "    .dataframe tbody tr th {\n",
       "        vertical-align: top;\n",
       "    }\n",
       "\n",
       "    .dataframe thead th {\n",
       "        text-align: right;\n",
       "    }\n",
       "</style>\n",
       "<table border=\"1\" class=\"dataframe\">\n",
       "  <thead>\n",
       "    <tr style=\"text-align: right;\">\n",
       "      <th></th>\n",
       "      <th>Sum</th>\n",
       "      <th>Sub</th>\n",
       "      <th>Mul</th>\n",
       "      <th>Div</th>\n",
       "    </tr>\n",
       "  </thead>\n",
       "  <tbody>\n",
       "    <tr>\n",
       "      <th>국어</th>\n",
       "      <td>190</td>\n",
       "      <td>10</td>\n",
       "      <td>9000</td>\n",
       "      <td>1.11</td>\n",
       "    </tr>\n",
       "    <tr>\n",
       "      <th>영어</th>\n",
       "      <td>170</td>\n",
       "      <td>10</td>\n",
       "      <td>7200</td>\n",
       "      <td>1.12</td>\n",
       "    </tr>\n",
       "    <tr>\n",
       "      <th>수학</th>\n",
       "      <td>160</td>\n",
       "      <td>0</td>\n",
       "      <td>6400</td>\n",
       "      <td>1.00</td>\n",
       "    </tr>\n",
       "  </tbody>\n",
       "</table>\n",
       "</div>"
      ],
      "text/plain": [
       "    Sum  Sub   Mul   Div\n",
       "국어  190   10  9000  1.11\n",
       "영어  170   10  7200  1.12\n",
       "수학  160    0  6400  1.00"
      ]
     },
     "execution_count": 15,
     "metadata": {},
     "output_type": "execute_result"
    }
   ],
   "source": [
    "df = pd.concat([add,sub,mul,div],axis = 1)\n",
    "df_rn = df.rename(columns={0:'Sum',1:'Sub',2:'Mul',3:'Div'})\n",
    "df_rn"
   ]
  },
  {
   "cell_type": "code",
   "execution_count": null,
   "id": "4c30fb30",
   "metadata": {},
   "outputs": [],
   "source": []
  }
 ],
 "metadata": {
  "kernelspec": {
   "display_name": "Python 3",
   "language": "python",
   "name": "python3"
  },
  "language_info": {
   "codemirror_mode": {
    "name": "ipython",
    "version": 3
   },
   "file_extension": ".py",
   "mimetype": "text/x-python",
   "name": "python",
   "nbconvert_exporter": "python",
   "pygments_lexer": "ipython3",
   "version": "3.8.10"
  }
 },
 "nbformat": 4,
 "nbformat_minor": 5
}
