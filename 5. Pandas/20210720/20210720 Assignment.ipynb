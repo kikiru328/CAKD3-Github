{
 "cells": [
  {
   "cell_type": "code",
   "execution_count": 5,
   "id": "810a1683",
   "metadata": {},
   "outputs": [],
   "source": [
    "#Module import\n",
    "import pandas as pd\n",
    "import numpy as np\n",
    "import datetime as dt\n",
    "from datetime import timedelta\n",
    "import time\n",
    "from pandas.tseries.offsets import Hour,Minute"
   ]
  },
  {
   "cell_type": "markdown",
   "id": "5985583b",
   "metadata": {},
   "source": [
    "Data"
   ]
  },
  {
   "cell_type": "code",
   "execution_count": 3,
   "id": "cc4e4e24",
   "metadata": {},
   "outputs": [
    {
     "name": "stdout",
     "output_type": "stream",
     "text": [
      "2000-01-15   -1.383507\n",
      "2000-01-19   -1.198089\n",
      "2000-01-23    0.892605\n",
      "2000-01-27   -1.453420\n",
      "2000-01-31   -0.724054\n",
      "2000-02-04    0.438180\n",
      "2000-02-08   -0.091508\n",
      "2000-02-12    1.402378\n",
      "2000-02-16   -2.418270\n",
      "2000-02-20   -0.945236\n",
      "2000-02-24   -0.631343\n",
      "2000-02-28   -1.162314\n",
      "2000-03-03    1.480139\n",
      "2000-03-07   -2.065745\n",
      "2000-03-11    1.400004\n",
      "2000-03-15    0.028180\n",
      "2000-03-19   -0.954511\n",
      "2000-03-23   -0.640349\n",
      "2000-03-27    1.419450\n",
      "2000-03-31    0.926426\n",
      "Freq: 4D, dtype: float64\n"
     ]
    }
   ],
   "source": [
    "ts =pd.Series(np.random.randn(20),\n",
    "             index=pd.date_range('1/15/2000',periods=20,freq='4d'))\n",
    "print(ts)"
   ]
  },
  {
   "cell_type": "markdown",
   "id": "4d4e03a9",
   "metadata": {},
   "source": [
    "    offset.rollforward 기준으로 그룹화를 진행 후 그룹별 평균값을 출력하세요"
   ]
  },
  {
   "cell_type": "code",
   "execution_count": 6,
   "id": "a1bcd64a",
   "metadata": {},
   "outputs": [
    {
     "ename": "AttributeError",
     "evalue": "'Series' object has no attribute 'offset'",
     "output_type": "error",
     "traceback": [
      "\u001b[1;31m---------------------------------------------------------------------------\u001b[0m",
      "\u001b[1;31mAttributeError\u001b[0m                            Traceback (most recent call last)",
      "\u001b[1;32m<ipython-input-6-58859a2a4c46>\u001b[0m in \u001b[0;36m<module>\u001b[1;34m\u001b[0m\n\u001b[1;32m----> 1\u001b[1;33m \u001b[0mts\u001b[0m\u001b[1;33m.\u001b[0m\u001b[0moffset\u001b[0m\u001b[1;33m.\u001b[0m\u001b[0mrollfoward\u001b[0m\u001b[1;33m(\u001b[0m\u001b[1;33m)\u001b[0m\u001b[1;33m\u001b[0m\u001b[1;33m\u001b[0m\u001b[0m\n\u001b[0m",
      "\u001b[1;32mC:\\tool\\envs\\cakd3\\lib\\site-packages\\pandas\\core\\generic.py\u001b[0m in \u001b[0;36m__getattr__\u001b[1;34m(self, name)\u001b[0m\n\u001b[0;32m   5463\u001b[0m             \u001b[1;32mif\u001b[0m \u001b[0mself\u001b[0m\u001b[1;33m.\u001b[0m\u001b[0m_info_axis\u001b[0m\u001b[1;33m.\u001b[0m\u001b[0m_can_hold_identifiers_and_holds_name\u001b[0m\u001b[1;33m(\u001b[0m\u001b[0mname\u001b[0m\u001b[1;33m)\u001b[0m\u001b[1;33m:\u001b[0m\u001b[1;33m\u001b[0m\u001b[1;33m\u001b[0m\u001b[0m\n\u001b[0;32m   5464\u001b[0m                 \u001b[1;32mreturn\u001b[0m \u001b[0mself\u001b[0m\u001b[1;33m[\u001b[0m\u001b[0mname\u001b[0m\u001b[1;33m]\u001b[0m\u001b[1;33m\u001b[0m\u001b[1;33m\u001b[0m\u001b[0m\n\u001b[1;32m-> 5465\u001b[1;33m             \u001b[1;32mreturn\u001b[0m \u001b[0mobject\u001b[0m\u001b[1;33m.\u001b[0m\u001b[0m__getattribute__\u001b[0m\u001b[1;33m(\u001b[0m\u001b[0mself\u001b[0m\u001b[1;33m,\u001b[0m \u001b[0mname\u001b[0m\u001b[1;33m)\u001b[0m\u001b[1;33m\u001b[0m\u001b[1;33m\u001b[0m\u001b[0m\n\u001b[0m\u001b[0;32m   5466\u001b[0m \u001b[1;33m\u001b[0m\u001b[0m\n\u001b[0;32m   5467\u001b[0m     \u001b[1;32mdef\u001b[0m \u001b[0m__setattr__\u001b[0m\u001b[1;33m(\u001b[0m\u001b[0mself\u001b[0m\u001b[1;33m,\u001b[0m \u001b[0mname\u001b[0m\u001b[1;33m:\u001b[0m \u001b[0mstr\u001b[0m\u001b[1;33m,\u001b[0m \u001b[0mvalue\u001b[0m\u001b[1;33m)\u001b[0m \u001b[1;33m->\u001b[0m \u001b[1;32mNone\u001b[0m\u001b[1;33m:\u001b[0m\u001b[1;33m\u001b[0m\u001b[1;33m\u001b[0m\u001b[0m\n",
      "\u001b[1;31mAttributeError\u001b[0m: 'Series' object has no attribute 'offset'"
     ]
    }
   ],
   "source": [
    "# offset.rollforward "
   ]
  },
  {
   "cell_type": "markdown",
   "id": "0489c813",
   "metadata": {},
   "source": [
    "    상기 문제를 resample 을 사용하여 수행하세요"
   ]
  },
  {
   "cell_type": "markdown",
   "id": "9070c3d9",
   "metadata": {},
   "source": [
    "날짜 데이터를 인덱스로 하는 5가지 이상의 컬럼을 포함하고 있는 데이터 셋을 생성하세요.\n",
    "\n",
    "    단 각 컬럼은 인덱스 별 의미있는 값을 갖도록 만든 후 다음을 수행하세요\n",
    "    1. 특정 연별, 월별, 일별 특정 컬럼 값 집계\n",
    "    2. 인덱스를 실수형으로 변환 (timestamp) 후 다시 datetime 으로 변환\n",
    "    3. 인덱스의 포멧으로 변환"
   ]
  },
  {
   "cell_type": "code",
   "execution_count": null,
   "id": "38ffb9b6",
   "metadata": {},
   "outputs": [],
   "source": []
  }
 ],
 "metadata": {
  "kernelspec": {
   "display_name": "Python 3",
   "language": "python",
   "name": "python3"
  },
  "language_info": {
   "codemirror_mode": {
    "name": "ipython",
    "version": 3
   },
   "file_extension": ".py",
   "mimetype": "text/x-python",
   "name": "python",
   "nbconvert_exporter": "python",
   "pygments_lexer": "ipython3",
   "version": "3.8.10"
  }
 },
 "nbformat": 4,
 "nbformat_minor": 5
}
