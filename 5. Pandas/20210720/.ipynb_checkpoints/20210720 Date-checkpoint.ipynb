{
 "cells": [
  {
   "cell_type": "code",
   "execution_count": 5,
   "id": "928947c4",
   "metadata": {},
   "outputs": [],
   "source": [
    "import pandas as pd\n",
    "import numpy as np\n",
    "import seaborn as sns"
   ]
  },
  {
   "cell_type": "code",
   "execution_count": 5,
   "id": "77e1b26f",
   "metadata": {},
   "outputs": [],
   "source": [
    "# python, numpy, pandas 날짜 타입 비교 및 정리\n",
    "# https://ellun.tistory.com/320"
   ]
  },
  {
   "cell_type": "markdown",
   "id": "3fd8091b",
   "metadata": {},
   "source": [
    "### python"
   ]
  },
  {
   "cell_type": "markdown",
   "id": "ad77475c",
   "metadata": {},
   "source": [
    "    time\n",
    "    timestamp to string"
   ]
  },
  {
   "cell_type": "code",
   "execution_count": 21,
   "id": "ec5d58b3",
   "metadata": {},
   "outputs": [
    {
     "name": "stdout",
     "output_type": "stream",
     "text": [
      "1626747369.6643426 <class 'float'>\n",
      "1626747369.6643426 <class 'str'>\n"
     ]
    }
   ],
   "source": [
    "# timestamp\n",
    "import time\n",
    "print(time.time(),type(time.time()))\n",
    "#float 형식 1970/01/01부터 지금까지 1초단위 / #float 형식으로 가져감.\n",
    "timestamp = time.time()\n",
    "s = str(timestamp)\n",
    "print(s,type(s))\n",
    "# time.time() 실수형을 문자열화 시킨게 끝. "
   ]
  },
  {
   "cell_type": "markdown",
   "id": "48cd412d",
   "metadata": {},
   "source": [
    "    datetime.\n",
    "    datetime to string"
   ]
  },
  {
   "cell_type": "code",
   "execution_count": 20,
   "id": "eefde911",
   "metadata": {},
   "outputs": [
    {
     "name": "stdout",
     "output_type": "stream",
     "text": [
      "2021-07-20 11:13:44.295436 <class 'datetime.datetime'>\n",
      "2021-07-20 11:13:44 <class 'str'>\n"
     ]
    }
   ],
   "source": [
    "#datetime => string\n",
    "from datetime import datetime\n",
    "s = datetime.now()\n",
    "print(s,type(s))\n",
    "# datetime 자체가 모듈(datetime)으로 취급.\n",
    "s1 = datetime.now().strftime('%Y-%m-%d %H:%M:%S') # str + f (format) + time (time module)\n",
    "print(s1,type(s1))\n",
    "# datetime 모듈에서 strftime (문자열화) 했을때, 조건을 맞춰줘서 나타남.\n",
    "# 대신 string 상태에서 날짜 계산식 불가. \n"
   ]
  },
  {
   "cell_type": "markdown",
   "id": "e28ffd1a",
   "metadata": {},
   "source": [
    "    datetime.\n",
    "    string to datetime"
   ]
  },
  {
   "cell_type": "code",
   "execution_count": 24,
   "id": "68bd72e1",
   "metadata": {},
   "outputs": [
    {
     "name": "stdout",
     "output_type": "stream",
     "text": [
      "2021-07-20 11:13:44 <class 'datetime.datetime'>\n"
     ]
    }
   ],
   "source": [
    "from datetime import datetime\n",
    "s = '2021-07-20 11:13:44'\n",
    "d = datetime.strptime(s,'%Y-%m-%d %H:%M:%S' )\n",
    "# str + p (parsing) + time # 문자열을 time (time module)로 파싱.\n",
    "print(d, type(d))"
   ]
  },
  {
   "cell_type": "markdown",
   "id": "f431b0f5",
   "metadata": {},
   "source": [
    "    timestamp\n",
    "    str to timestamp"
   ]
  },
  {
   "cell_type": "code",
   "execution_count": 29,
   "id": "f4d41cdb",
   "metadata": {},
   "outputs": [
    {
     "name": "stdout",
     "output_type": "stream",
     "text": [
      "1626747224.0 <class 'float'>\n"
     ]
    }
   ],
   "source": [
    "s = '2021-07-20 11:13:44'\n",
    "timestamp = time.mktime(datetime.strptime(s,'%Y-%m-%d %H:%M:%S').timetuple())\n",
    "print(timestamp, type(timestamp))\n",
    "#mktime <-> localtime()\n",
    "#timetuple"
   ]
  },
  {
   "cell_type": "markdown",
   "id": "a65a8be3",
   "metadata": {},
   "source": [
    "Q. datetime.today() -> timetuple"
   ]
  },
  {
   "cell_type": "code",
   "execution_count": 224,
   "id": "ff48e665",
   "metadata": {},
   "outputs": [
    {
     "name": "stdout",
     "output_type": "stream",
     "text": [
      "<class 'datetime.datetime'>\n",
      "1626769173.0 <class 'float'>\n"
     ]
    }
   ],
   "source": [
    "today = datetime.today()\n",
    "print(type(today))\n",
    "timestamp  = time.mktime(today.timetuple())\n",
    "print(timestamp,type(timestamp))"
   ]
  },
  {
   "cell_type": "markdown",
   "id": "e9f9e86f",
   "metadata": {},
   "source": [
    "Q. timestamp -> datetime"
   ]
  },
  {
   "cell_type": "code",
   "execution_count": 129,
   "id": "907ec563",
   "metadata": {},
   "outputs": [
    {
     "name": "stdout",
     "output_type": "stream",
     "text": [
      "1626751478.3545685 <class 'float'>\n",
      "2021-07-20 12:24:38.354568 <class 'datetime.datetime'>\n",
      "1626751478.3545685 <class 'str'>\n"
     ]
    }
   ],
   "source": [
    "from datetime import datetime\n",
    "f = time.time()\n",
    "t = str(f)\n",
    "d = datetime.fromtimestamp(f)\n",
    "print(f,type(f))\n",
    "print(d,type(d))\n",
    "print(t,type(t))"
   ]
  },
  {
   "cell_type": "markdown",
   "id": "75b4ef9d",
   "metadata": {},
   "source": [
    "    판다스 to_datetime"
   ]
  },
  {
   "cell_type": "code",
   "execution_count": 134,
   "id": "32cf1a2f",
   "metadata": {},
   "outputs": [
    {
     "name": "stdout",
     "output_type": "stream",
     "text": [
      "1626751521.781677 <class 'float'>\n",
      "2021-07-20 03:25:21.781677056 <class 'pandas._libs.tslibs.timestamps.Timestamp'>\n"
     ]
    }
   ],
   "source": [
    "from datetime import datetime\n",
    "f = time.time()\n",
    "print(f,type(f))\n",
    "pd_date = pd.to_datetime(f,unit='s') #판다스는 datetime을 timestamp라고 함\n",
    "print(pd_date,type(pd_date))\n"
   ]
  },
  {
   "cell_type": "markdown",
   "id": "a8fdc5ab",
   "metadata": {},
   "source": [
    "    1년전 datetime 값"
   ]
  },
  {
   "cell_type": "code",
   "execution_count": 61,
   "id": "14f67495",
   "metadata": {},
   "outputs": [
    {
     "name": "stdout",
     "output_type": "stream",
     "text": [
      "-365 days, 0:00:00 <class 'datetime.timedelta'>\n"
     ]
    },
    {
     "data": {
      "text/plain": [
       "datetime.datetime(2020, 7, 20, 11, 32, 40, 183691)"
      ]
     },
     "execution_count": 61,
     "metadata": {},
     "output_type": "execute_result"
    }
   ],
   "source": [
    "from datetime import timedelta\n",
    "import time\n",
    "datetime_now = datetime.now() #현재날짜 저장\n",
    "delta_datetime_past = timedelta(days=-365) #날짜 차이 계산\n",
    "print(delta_datetime_past,type(delta_datetime_past))\n",
    "datetime_now + delta_datetime_past #현재날짜 - 작년"
   ]
  },
  {
   "cell_type": "markdown",
   "id": "683b1f5a",
   "metadata": {},
   "source": [
    "    두 날짜간의 일수 구하기"
   ]
  },
  {
   "cell_type": "code",
   "execution_count": 64,
   "id": "e4f9af92",
   "metadata": {},
   "outputs": [
    {
     "name": "stdout",
     "output_type": "stream",
     "text": [
      "30 days, 0:00:00 <class 'datetime.timedelta'>\n"
     ]
    }
   ],
   "source": [
    "since_timestamp = datetime.strptime('20180301','%Y%m%d')\n",
    "until_timestamp = datetime.strptime('20180331','%Y%m%d')\n",
    "result = until_timestamp - since_timestamp\n",
    "print(result,type(result))"
   ]
  },
  {
   "cell_type": "markdown",
   "id": "cd7160d1",
   "metadata": {},
   "source": [
    "    특정일 구하기"
   ]
  },
  {
   "cell_type": "code",
   "execution_count": 77,
   "id": "d0de4642",
   "metadata": {},
   "outputs": [
    {
     "name": "stdout",
     "output_type": "stream",
     "text": [
      "TUE\n",
      "1\n"
     ]
    }
   ],
   "source": [
    "import datetime\n",
    "def get_day(y,m,d):\n",
    "    days = ['MON','TUE','WED','THU','FRI','SAT','SUN']\n",
    "    return days[datetime.date(y,m,d).weekday()]\n",
    "print(get_day(2021,7,20))\n",
    "print(datetime.datetime.now().weekday())"
   ]
  },
  {
   "cell_type": "markdown",
   "id": "54379578",
   "metadata": {},
   "source": [
    "    Pandas Timestamp"
   ]
  },
  {
   "cell_type": "code",
   "execution_count": 107,
   "id": "04f4c620",
   "metadata": {},
   "outputs": [
    {
     "name": "stdout",
     "output_type": "stream",
     "text": [
      "1626750575.6901581\n",
      "2021-07-20 12:09:35.690158129+09:00 <class 'pandas._libs.tslibs.timestamps.Timestamp'>\n"
     ]
    }
   ],
   "source": [
    "import pandas as pd\n",
    "print(time.time())\n",
    "date = pd.Timestamp(time.time(),unit='s',tz='Asia/Seoul') #units = seconds / tz= location\n",
    "print(date,type(date))"
   ]
  },
  {
   "cell_type": "markdown",
   "id": "d8c82ff6",
   "metadata": {},
   "source": [
    "    Pandas time in DF"
   ]
  },
  {
   "cell_type": "code",
   "execution_count": 108,
   "id": "d1223428",
   "metadata": {},
   "outputs": [
    {
     "data": {
      "text/html": [
       "<div>\n",
       "<style scoped>\n",
       "    .dataframe tbody tr th:only-of-type {\n",
       "        vertical-align: middle;\n",
       "    }\n",
       "\n",
       "    .dataframe tbody tr th {\n",
       "        vertical-align: top;\n",
       "    }\n",
       "\n",
       "    .dataframe thead th {\n",
       "        text-align: right;\n",
       "    }\n",
       "</style>\n",
       "<table border=\"1\" class=\"dataframe\">\n",
       "  <thead>\n",
       "    <tr style=\"text-align: right;\">\n",
       "      <th></th>\n",
       "      <th>Date</th>\n",
       "      <th>Close</th>\n",
       "      <th>Start</th>\n",
       "      <th>High</th>\n",
       "      <th>Low</th>\n",
       "      <th>Volume</th>\n",
       "    </tr>\n",
       "  </thead>\n",
       "  <tbody>\n",
       "    <tr>\n",
       "      <th>0</th>\n",
       "      <td>2018-07-02</td>\n",
       "      <td>10100</td>\n",
       "      <td>10850</td>\n",
       "      <td>10900</td>\n",
       "      <td>10000</td>\n",
       "      <td>137977</td>\n",
       "    </tr>\n",
       "  </tbody>\n",
       "</table>\n",
       "</div>"
      ],
      "text/plain": [
       "         Date  Close  Start   High    Low  Volume\n",
       "0  2018-07-02  10100  10850  10900  10000  137977"
      ]
     },
     "execution_count": 108,
     "metadata": {},
     "output_type": "execute_result"
    }
   ],
   "source": [
    "df = pd.read_csv('../Data/stock-data.csv')\n",
    "df.head(1)"
   ]
  },
  {
   "cell_type": "code",
   "execution_count": 109,
   "id": "51f62326",
   "metadata": {},
   "outputs": [
    {
     "name": "stdout",
     "output_type": "stream",
     "text": [
      "<class 'pandas.core.frame.DataFrame'>\n",
      "RangeIndex: 20 entries, 0 to 19\n",
      "Data columns (total 2 columns):\n",
      " #   Column    Non-Null Count  Dtype         \n",
      "---  ------    --------------  -----         \n",
      " 0   Date      20 non-null     object        \n",
      " 1   New_Date  20 non-null     datetime64[ns]\n",
      "dtypes: datetime64[ns](1), object(1)\n",
      "memory usage: 448.0+ bytes\n"
     ]
    }
   ],
   "source": [
    "df['New_Date'] = pd.to_datetime(df['Date'])\n",
    "df[['Date','New_Date']].info()"
   ]
  },
  {
   "cell_type": "code",
   "execution_count": 110,
   "id": "d7755962",
   "metadata": {},
   "outputs": [],
   "source": [
    "df.drop('Date',axis=1,inplace=True)\n",
    "df['year'] = df['New_Date'].dt.year\n",
    "df['month'] = df['New_Date'].dt.month\n",
    "df['day'] = df['New_Date'].dt.day"
   ]
  },
  {
   "cell_type": "code",
   "execution_count": 114,
   "id": "be25b028",
   "metadata": {},
   "outputs": [
    {
     "name": "stdout",
     "output_type": "stream",
     "text": [
      "<class 'pandas.core.frame.DataFrame'>\n",
      "RangeIndex: 20 entries, 0 to 19\n",
      "Data columns (total 4 columns):\n",
      " #   Column    Non-Null Count  Dtype         \n",
      "---  ------    --------------  -----         \n",
      " 0   New_Date  20 non-null     datetime64[ns]\n",
      " 1   year      20 non-null     int64         \n",
      " 2   month     20 non-null     int64         \n",
      " 3   day       20 non-null     int64         \n",
      "dtypes: datetime64[ns](1), int64(3)\n",
      "memory usage: 768.0 bytes\n"
     ]
    }
   ],
   "source": [
    "df[['New_Date','year','month','day']].head(1)\n",
    "df[['New_Date','year','month','day']].info()"
   ]
  },
  {
   "cell_type": "code",
   "execution_count": 116,
   "id": "0b1f215a",
   "metadata": {},
   "outputs": [
    {
     "data": {
      "text/html": [
       "<div>\n",
       "<style scoped>\n",
       "    .dataframe tbody tr th:only-of-type {\n",
       "        vertical-align: middle;\n",
       "    }\n",
       "\n",
       "    .dataframe tbody tr th {\n",
       "        vertical-align: top;\n",
       "    }\n",
       "\n",
       "    .dataframe thead th {\n",
       "        text-align: right;\n",
       "    }\n",
       "</style>\n",
       "<table border=\"1\" class=\"dataframe\">\n",
       "  <thead>\n",
       "    <tr style=\"text-align: right;\">\n",
       "      <th></th>\n",
       "      <th>Close</th>\n",
       "      <th>Start</th>\n",
       "      <th>High</th>\n",
       "      <th>Low</th>\n",
       "      <th>Volume</th>\n",
       "      <th>year</th>\n",
       "      <th>month</th>\n",
       "      <th>day</th>\n",
       "    </tr>\n",
       "    <tr>\n",
       "      <th>New_Date</th>\n",
       "      <th></th>\n",
       "      <th></th>\n",
       "      <th></th>\n",
       "      <th></th>\n",
       "      <th></th>\n",
       "      <th></th>\n",
       "      <th></th>\n",
       "      <th></th>\n",
       "    </tr>\n",
       "  </thead>\n",
       "  <tbody>\n",
       "    <tr>\n",
       "      <th>2018-07-02</th>\n",
       "      <td>10100</td>\n",
       "      <td>10850</td>\n",
       "      <td>10900</td>\n",
       "      <td>10000</td>\n",
       "      <td>137977</td>\n",
       "      <td>2018</td>\n",
       "      <td>7</td>\n",
       "      <td>2</td>\n",
       "    </tr>\n",
       "  </tbody>\n",
       "</table>\n",
       "</div>"
      ],
      "text/plain": [
       "            Close  Start   High    Low  Volume  year  month  day\n",
       "New_Date                                                        \n",
       "2018-07-02  10100  10850  10900  10000  137977  2018      7    2"
      ]
     },
     "execution_count": 116,
     "metadata": {},
     "output_type": "execute_result"
    }
   ],
   "source": [
    "df.set_index('New_Date',inplace=True)\n",
    "df.head(1)"
   ]
  },
  {
   "cell_type": "code",
   "execution_count": 117,
   "id": "c4523977",
   "metadata": {},
   "outputs": [
    {
     "data": {
      "text/plain": [
       "DatetimeIndex(['2018-07-02', '2018-06-29', '2018-06-28', '2018-06-27',\n",
       "               '2018-06-26', '2018-06-25', '2018-06-22', '2018-06-21',\n",
       "               '2018-06-20', '2018-06-19', '2018-06-18', '2018-06-15',\n",
       "               '2018-06-14', '2018-06-12', '2018-06-11', '2018-06-08',\n",
       "               '2018-06-07', '2018-06-05', '2018-06-04', '2018-06-01'],\n",
       "              dtype='datetime64[ns]', name='New_Date', freq=None)"
      ]
     },
     "execution_count": 117,
     "metadata": {},
     "output_type": "execute_result"
    }
   ],
   "source": [
    "df.index"
   ]
  },
  {
   "cell_type": "code",
   "execution_count": 119,
   "id": "f78ddf7b",
   "metadata": {},
   "outputs": [
    {
     "data": {
      "text/html": [
       "<div>\n",
       "<style scoped>\n",
       "    .dataframe tbody tr th:only-of-type {\n",
       "        vertical-align: middle;\n",
       "    }\n",
       "\n",
       "    .dataframe tbody tr th {\n",
       "        vertical-align: top;\n",
       "    }\n",
       "\n",
       "    .dataframe thead th {\n",
       "        text-align: right;\n",
       "    }\n",
       "</style>\n",
       "<table border=\"1\" class=\"dataframe\">\n",
       "  <thead>\n",
       "    <tr style=\"text-align: right;\">\n",
       "      <th></th>\n",
       "      <th>Close</th>\n",
       "      <th>Start</th>\n",
       "      <th>High</th>\n",
       "      <th>Low</th>\n",
       "      <th>Volume</th>\n",
       "      <th>year</th>\n",
       "      <th>month</th>\n",
       "      <th>day</th>\n",
       "    </tr>\n",
       "    <tr>\n",
       "      <th>New_Date</th>\n",
       "      <th></th>\n",
       "      <th></th>\n",
       "      <th></th>\n",
       "      <th></th>\n",
       "      <th></th>\n",
       "      <th></th>\n",
       "      <th></th>\n",
       "      <th></th>\n",
       "    </tr>\n",
       "  </thead>\n",
       "  <tbody>\n",
       "    <tr>\n",
       "      <th>2018-06-29</th>\n",
       "      <td>10700</td>\n",
       "      <td>10550</td>\n",
       "      <td>10900</td>\n",
       "      <td>9990</td>\n",
       "      <td>170253</td>\n",
       "      <td>2018</td>\n",
       "      <td>6</td>\n",
       "      <td>29</td>\n",
       "    </tr>\n",
       "    <tr>\n",
       "      <th>2018-06-28</th>\n",
       "      <td>10400</td>\n",
       "      <td>10900</td>\n",
       "      <td>10950</td>\n",
       "      <td>10150</td>\n",
       "      <td>155769</td>\n",
       "      <td>2018</td>\n",
       "      <td>6</td>\n",
       "      <td>28</td>\n",
       "    </tr>\n",
       "    <tr>\n",
       "      <th>2018-06-27</th>\n",
       "      <td>10900</td>\n",
       "      <td>10800</td>\n",
       "      <td>11050</td>\n",
       "      <td>10500</td>\n",
       "      <td>133548</td>\n",
       "      <td>2018</td>\n",
       "      <td>6</td>\n",
       "      <td>27</td>\n",
       "    </tr>\n",
       "    <tr>\n",
       "      <th>2018-06-26</th>\n",
       "      <td>10800</td>\n",
       "      <td>10900</td>\n",
       "      <td>11000</td>\n",
       "      <td>10700</td>\n",
       "      <td>63039</td>\n",
       "      <td>2018</td>\n",
       "      <td>6</td>\n",
       "      <td>26</td>\n",
       "    </tr>\n",
       "  </tbody>\n",
       "</table>\n",
       "</div>"
      ],
      "text/plain": [
       "            Close  Start   High    Low  Volume  year  month  day\n",
       "New_Date                                                        \n",
       "2018-06-29  10700  10550  10900   9990  170253  2018      6   29\n",
       "2018-06-28  10400  10900  10950  10150  155769  2018      6   28\n",
       "2018-06-27  10900  10800  11050  10500  133548  2018      6   27\n",
       "2018-06-26  10800  10900  11000  10700   63039  2018      6   26"
      ]
     },
     "execution_count": 119,
     "metadata": {},
     "output_type": "execute_result"
    }
   ],
   "source": [
    "df_ymd_range = df['2018-06-29':'2018-06-26'] #index 범위 지정.\n",
    "df_ymd_range"
   ]
  },
  {
   "cell_type": "code",
   "execution_count": 123,
   "id": "119415a4",
   "metadata": {},
   "outputs": [
    {
     "data": {
      "text/html": [
       "<div>\n",
       "<style scoped>\n",
       "    .dataframe tbody tr th:only-of-type {\n",
       "        vertical-align: middle;\n",
       "    }\n",
       "\n",
       "    .dataframe tbody tr th {\n",
       "        vertical-align: top;\n",
       "    }\n",
       "\n",
       "    .dataframe thead th {\n",
       "        text-align: right;\n",
       "    }\n",
       "</style>\n",
       "<table border=\"1\" class=\"dataframe\">\n",
       "  <thead>\n",
       "    <tr style=\"text-align: right;\">\n",
       "      <th></th>\n",
       "      <th>Start</th>\n",
       "      <th>High</th>\n",
       "    </tr>\n",
       "    <tr>\n",
       "      <th>New_Date</th>\n",
       "      <th></th>\n",
       "      <th></th>\n",
       "    </tr>\n",
       "  </thead>\n",
       "  <tbody>\n",
       "    <tr>\n",
       "      <th>2018-07-02</th>\n",
       "      <td>10850</td>\n",
       "      <td>10900</td>\n",
       "    </tr>\n",
       "  </tbody>\n",
       "</table>\n",
       "</div>"
      ],
      "text/plain": [
       "            Start   High\n",
       "New_Date                \n",
       "2018-07-02  10850  10900"
      ]
     },
     "execution_count": 123,
     "metadata": {},
     "output_type": "execute_result"
    }
   ],
   "source": [
    "df_ym = df.loc['2018-07','Start':'High']\n",
    "df_ym"
   ]
  },
  {
   "cell_type": "markdown",
   "id": "6cac0324",
   "metadata": {},
   "source": [
    "### Time Series Basics"
   ]
  },
  {
   "cell_type": "code",
   "execution_count": 140,
   "id": "97eba516",
   "metadata": {},
   "outputs": [
    {
     "data": {
      "text/plain": [
       "DatetimeIndex(['2011-01-02', '2011-01-05', '2011-01-07', '2011-01-08',\n",
       "               '2011-01-10', '2011-01-12'],\n",
       "              dtype='datetime64[ns]', freq=None)"
      ]
     },
     "execution_count": 140,
     "metadata": {},
     "output_type": "execute_result"
    }
   ],
   "source": [
    "from datetime import datetime\n",
    "import numpy as np\n",
    "dates = [datetime(2011,1,2),datetime(2011,1,5),datetime(2011,1,7),\n",
    "        datetime(2011,1,8),datetime(2011,1,10),datetime(2011,1,12)]\n",
    "ts = pd.Series(np.random.randn(6),index=dates)\n",
    "ts.index"
   ]
  },
  {
   "cell_type": "code",
   "execution_count": 138,
   "id": "47e1a5d7",
   "metadata": {},
   "outputs": [
    {
     "data": {
      "text/plain": [
       "2011-01-02   -0.357293\n",
       "2011-01-07    0.559147\n",
       "2011-01-10    0.950449\n",
       "dtype: float64"
      ]
     },
     "execution_count": 138,
     "metadata": {},
     "output_type": "execute_result"
    }
   ],
   "source": [
    "ts[::2]"
   ]
  },
  {
   "cell_type": "code",
   "execution_count": 141,
   "id": "559f9737",
   "metadata": {},
   "outputs": [
    {
     "data": {
      "text/plain": [
       "2011-01-02    1.139851\n",
       "2011-01-05         NaN\n",
       "2011-01-07   -1.205383\n",
       "2011-01-08         NaN\n",
       "2011-01-10    1.073133\n",
       "2011-01-12         NaN\n",
       "dtype: float64"
      ]
     },
     "execution_count": 141,
     "metadata": {},
     "output_type": "execute_result"
    }
   ],
   "source": [
    "ts + ts[::2]"
   ]
  },
  {
   "cell_type": "code",
   "execution_count": 142,
   "id": "f6b0967c",
   "metadata": {},
   "outputs": [
    {
     "data": {
      "text/plain": [
       "2011-01-02    1.139851\n",
       "2011-01-05    0.596404\n",
       "2011-01-07   -1.205383\n",
       "2011-01-08    0.137053\n",
       "2011-01-10    1.073133\n",
       "2011-01-12   -1.543877\n",
       "dtype: float64"
      ]
     },
     "execution_count": 142,
     "metadata": {},
     "output_type": "execute_result"
    }
   ],
   "source": [
    "ts.add(ts[::2], fill_value=0)"
   ]
  },
  {
   "cell_type": "code",
   "execution_count": 143,
   "id": "8e0e2ee2",
   "metadata": {},
   "outputs": [
    {
     "data": {
      "text/plain": [
       "Timestamp('2011-01-02 00:00:00')"
      ]
     },
     "execution_count": 143,
     "metadata": {},
     "output_type": "execute_result"
    }
   ],
   "source": [
    "ts.index[0]"
   ]
  },
  {
   "cell_type": "code",
   "execution_count": 144,
   "id": "35f3716f",
   "metadata": {},
   "outputs": [
    {
     "data": {
      "text/plain": [
       "-0.6026913334885606"
      ]
     },
     "execution_count": 144,
     "metadata": {},
     "output_type": "execute_result"
    }
   ],
   "source": [
    "#indexing, Selection, Subsetting\n",
    "stamp = ts.index[2]\n",
    "ts[stamp]"
   ]
  },
  {
   "cell_type": "code",
   "execution_count": 146,
   "id": "d4b43e44",
   "metadata": {},
   "outputs": [
    {
     "name": "stdout",
     "output_type": "stream",
     "text": [
      "0.536566637548335\n"
     ]
    },
    {
     "data": {
      "text/plain": [
       "numpy.float64"
      ]
     },
     "execution_count": 146,
     "metadata": {},
     "output_type": "execute_result"
    }
   ],
   "source": [
    "# 2011-01-10    1.073133 \n",
    "print(ts['1/10/2011'])\n",
    "type(ts['20110110'])"
   ]
  },
  {
   "cell_type": "code",
   "execution_count": 147,
   "id": "11866fae",
   "metadata": {
    "scrolled": true
   },
   "outputs": [
    {
     "name": "stdout",
     "output_type": "stream",
     "text": [
      "2000-01-01    0.299371\n",
      "2000-01-02    0.698035\n",
      "2000-01-03   -0.078351\n",
      "2000-01-04    0.114912\n",
      "2000-01-05   -0.577710\n",
      "                ...   \n",
      "2002-09-22   -1.628428\n",
      "2002-09-23    0.717430\n",
      "2002-09-24    2.088773\n",
      "2002-09-25    0.676793\n",
      "2002-09-26   -0.616937\n",
      "Freq: D, Length: 1000, dtype: float64 \n",
      "\n"
     ]
    }
   ],
   "source": [
    "longer_ts = pd.Series(np.random.randn(1000),index=pd.date_range('1/1/2000',periods=1000))\n",
    "print(longer_ts,'\\n')"
   ]
  },
  {
   "cell_type": "code",
   "execution_count": 148,
   "id": "10522711",
   "metadata": {},
   "outputs": [
    {
     "data": {
      "text/plain": [
       "2001-01-01   -0.563070\n",
       "2001-01-02    0.419074\n",
       "2001-01-03   -0.023112\n",
       "2001-01-04    0.551708\n",
       "2001-01-05    0.338630\n",
       "                ...   \n",
       "2001-12-27   -0.337755\n",
       "2001-12-28    0.784725\n",
       "2001-12-29   -0.983565\n",
       "2001-12-30    1.255768\n",
       "2001-12-31    0.513851\n",
       "Freq: D, Length: 365, dtype: float64"
      ]
     },
     "execution_count": 148,
     "metadata": {},
     "output_type": "execute_result"
    }
   ],
   "source": [
    "longer_ts['2001']"
   ]
  },
  {
   "cell_type": "code",
   "execution_count": 151,
   "id": "7705ab21",
   "metadata": {},
   "outputs": [
    {
     "data": {
      "text/plain": [
       "2001-05-01    0.742810\n",
       "2001-05-02    1.805203\n",
       "2001-05-03   -1.292204\n",
       "2001-05-04   -0.441197\n",
       "2001-05-05    1.080103\n",
       "Freq: D, dtype: float64"
      ]
     },
     "execution_count": 151,
     "metadata": {},
     "output_type": "execute_result"
    }
   ],
   "source": [
    "longer_ts['2001-05'][:5]"
   ]
  },
  {
   "cell_type": "code",
   "execution_count": 152,
   "id": "0233cf1a",
   "metadata": {},
   "outputs": [
    {
     "data": {
      "text/plain": [
       "2011-01-02    0.569926\n",
       "2011-01-05    0.596404\n",
       "2011-01-07   -0.602691\n",
       "2011-01-08    0.137053\n",
       "2011-01-10    0.536567\n",
       "2011-01-12   -1.543877\n",
       "dtype: float64"
      ]
     },
     "execution_count": 152,
     "metadata": {},
     "output_type": "execute_result"
    }
   ],
   "source": [
    "ts"
   ]
  },
  {
   "cell_type": "code",
   "execution_count": 153,
   "id": "c4ce6305",
   "metadata": {},
   "outputs": [
    {
     "data": {
      "text/plain": [
       "2011-01-07   -0.602691\n",
       "2011-01-08    0.137053\n",
       "2011-01-10    0.536567\n",
       "2011-01-12   -1.543877\n",
       "dtype: float64"
      ]
     },
     "execution_count": 153,
     "metadata": {},
     "output_type": "execute_result"
    }
   ],
   "source": [
    "ts[datetime(2011,1,7):]"
   ]
  },
  {
   "cell_type": "markdown",
   "id": "8f416208",
   "metadata": {},
   "source": [
    "#### truncate"
   ]
  },
  {
   "cell_type": "code",
   "execution_count": 155,
   "id": "a6d5135b",
   "metadata": {},
   "outputs": [
    {
     "name": "stdout",
     "output_type": "stream",
     "text": [
      "2011-01-05    0.596404\n",
      "2011-01-07   -0.602691\n",
      "dtype: float64\n"
     ]
    }
   ],
   "source": [
    "print(ts.truncate(before='2011-01-05',after='2011-01-07'))"
   ]
  },
  {
   "cell_type": "code",
   "execution_count": 157,
   "id": "6964ad76",
   "metadata": {},
   "outputs": [
    {
     "name": "stdout",
     "output_type": "stream",
     "text": [
      "2011-01-02    0.569926\n",
      "2011-01-05    0.596404\n",
      "2011-01-07   -0.602691\n",
      "2011-01-08    0.137053\n",
      "dtype: float64\n"
     ]
    }
   ],
   "source": [
    "print(ts.truncate(after='1/9/2011'))"
   ]
  },
  {
   "cell_type": "code",
   "execution_count": 158,
   "id": "02c414c7",
   "metadata": {},
   "outputs": [
    {
     "data": {
      "text/plain": [
       "DatetimeIndex(['2020-10-07', '2020-10-08', '2020-10-09', '2020-10-10',\n",
       "               '2020-10-11', '2020-10-12', '2020-10-13', '2020-10-14',\n",
       "               '2020-10-15', '2020-10-16', '2020-10-17', '2020-10-18',\n",
       "               '2020-10-19', '2020-10-20'],\n",
       "              dtype='datetime64[ns]', freq='D')"
      ]
     },
     "execution_count": 158,
     "metadata": {},
     "output_type": "execute_result"
    }
   ],
   "source": [
    "pd.date_range('2020-10-7','2020-10-20')"
   ]
  },
  {
   "cell_type": "code",
   "execution_count": 162,
   "id": "3ee8305c",
   "metadata": {},
   "outputs": [
    {
     "data": {
      "text/plain": [
       "DatetimeIndex(['2021-07-20 14:12:19.754201', '2021-07-21 14:12:19.754201',\n",
       "               '2021-07-22 14:12:19.754201', '2021-07-23 14:12:19.754201',\n",
       "               '2021-07-24 14:12:19.754201', '2021-07-25 14:12:19.754201',\n",
       "               '2021-07-26 14:12:19.754201', '2021-07-27 14:12:19.754201',\n",
       "               '2021-07-28 14:12:19.754201', '2021-07-29 14:12:19.754201',\n",
       "               '2021-07-30 14:12:19.754201', '2021-07-31 14:12:19.754201',\n",
       "               '2021-08-01 14:12:19.754201', '2021-08-02 14:12:19.754201',\n",
       "               '2021-08-03 14:12:19.754201'],\n",
       "              dtype='datetime64[ns]', freq='D')"
      ]
     },
     "execution_count": 162,
     "metadata": {},
     "output_type": "execute_result"
    }
   ],
   "source": [
    "from datetime import datetime\n",
    "from datetime import timedelta\n",
    "now = datetime.now()\n",
    "in_two_weeks = now + timedelta(weeks=2) #8/3\n",
    "pd.date_range(now,in_two_weeks) # 오늘까지 포함 15개"
   ]
  },
  {
   "cell_type": "code",
   "execution_count": 166,
   "id": "4e57cff4",
   "metadata": {},
   "outputs": [
    {
     "data": {
      "text/plain": [
       "DatetimeIndex(['2020-10-01 00:00:00', '2020-10-04 19:12:00',\n",
       "               '2020-10-08 14:24:00', '2020-10-12 09:36:00',\n",
       "               '2020-10-16 04:48:00', '2020-10-20 00:00:00'],\n",
       "              dtype='datetime64[ns]', freq=None)"
      ]
     },
     "execution_count": 166,
     "metadata": {},
     "output_type": "execute_result"
    }
   ],
   "source": [
    "# periods 매개변수는 date_ragnge 함수에 전달된 시작날짜와 종료날짜를\n",
    "# periods 매개변수에 전달된 기준의 수만큼  동일하게 나누어 출력\n",
    "pd.date_range(start='2020-10-01',end='2020-10-20',periods=6) "
   ]
  },
  {
   "cell_type": "code",
   "execution_count": 171,
   "id": "4e775fcd",
   "metadata": {},
   "outputs": [
    {
     "name": "stdout",
     "output_type": "stream",
     "text": [
      "DatetimeIndex(['2012-05-02 12:56:31', '2012-05-03 12:56:31',\n",
      "               '2012-05-04 12:56:31', '2012-05-05 12:56:31',\n",
      "               '2012-05-06 12:56:31'],\n",
      "              dtype='datetime64[ns]', freq='D')\n",
      "DatetimeIndex(['2012-05-02', '2012-05-03', '2012-05-04', '2012-05-05',\n",
      "               '2012-05-06'],\n",
      "              dtype='datetime64[ns]', freq='D')\n"
     ]
    }
   ],
   "source": [
    "print(pd.date_range('2012-05-02 12:56:31', periods = 5))\n",
    "print(pd.date_range('2012-05-02 12:56:31', periods = 5, normalize=True)) #날짜만 출력"
   ]
  },
  {
   "cell_type": "markdown",
   "id": "36f4f466",
   "metadata": {},
   "source": [
    "freq 매개변수에 사용되는 Frequncy strings\n",
    "- A >> calendar year end frequency\n",
    "- B\t>> business day frequency\n",
    "- C\t>> custom business day frequency\n",
    "- D\t>> calendar day frequency\n",
    "- W\t>> weekly frequency\n",
    "- M\t>> month end frequency\n",
    "- SM >> semi-month end frequency (15th and end of month)\n",
    "- BM >> business month end frequency\n",
    "- CBM >> custom business month end frequency\n",
    "- MS >> month start frequency\n",
    "- SMS >> semi-month start frequency (1st and 15th)\n",
    "- BMS >> business month start frequency\n",
    "- CBMS >> custom business month start frequency\n",
    "- Q >> quarter end frequency"
   ]
  },
  {
   "cell_type": "code",
   "execution_count": 176,
   "id": "40d622f8",
   "metadata": {
    "collapsed": true
   },
   "outputs": [
    {
     "name": "stdout",
     "output_type": "stream",
     "text": [
      "DatetimeIndex(['2000-01-05', '2000-01-12', '2000-01-19', '2000-01-26',\n",
      "               '2000-02-02', '2000-02-09', '2000-02-16', '2000-02-23',\n",
      "               '2000-03-01', '2000-03-08', '2000-03-15', '2000-03-22',\n",
      "               '2000-03-29', '2000-04-05', '2000-04-12', '2000-04-19',\n",
      "               '2000-04-26', '2000-05-03', '2000-05-10', '2000-05-17',\n",
      "               '2000-05-24', '2000-05-31', '2000-06-07', '2000-06-14',\n",
      "               '2000-06-21', '2000-06-28', '2000-07-05', '2000-07-12',\n",
      "               '2000-07-19', '2000-07-26', '2000-08-02', '2000-08-09',\n",
      "               '2000-08-16', '2000-08-23', '2000-08-30', '2000-09-06',\n",
      "               '2000-09-13', '2000-09-20', '2000-09-27', '2000-10-04',\n",
      "               '2000-10-11', '2000-10-18', '2000-10-25', '2000-11-01',\n",
      "               '2000-11-08', '2000-11-15', '2000-11-22', '2000-11-29',\n",
      "               '2000-12-06', '2000-12-13', '2000-12-20', '2000-12-27',\n",
      "               '2001-01-03', '2001-01-10', '2001-01-17', '2001-01-24',\n",
      "               '2001-01-31', '2001-02-07', '2001-02-14', '2001-02-21',\n",
      "               '2001-02-28', '2001-03-07', '2001-03-14', '2001-03-21',\n",
      "               '2001-03-28', '2001-04-04', '2001-04-11', '2001-04-18',\n",
      "               '2001-04-25', '2001-05-02', '2001-05-09', '2001-05-16',\n",
      "               '2001-05-23', '2001-05-30', '2001-06-06', '2001-06-13',\n",
      "               '2001-06-20', '2001-06-27', '2001-07-04', '2001-07-11',\n",
      "               '2001-07-18', '2001-07-25', '2001-08-01', '2001-08-08',\n",
      "               '2001-08-15', '2001-08-22', '2001-08-29', '2001-09-05',\n",
      "               '2001-09-12', '2001-09-19', '2001-09-26', '2001-10-03',\n",
      "               '2001-10-10', '2001-10-17', '2001-10-24', '2001-10-31',\n",
      "               '2001-11-07', '2001-11-14', '2001-11-21', '2001-11-28'],\n",
      "              dtype='datetime64[ns]', freq='W-WED')\n"
     ]
    }
   ],
   "source": [
    "import numpy as np\n",
    "dates = pd.date_range('1/1/2000',periods=100,freq='W-WED')\n",
    "print(dates)\n"
   ]
  },
  {
   "cell_type": "code",
   "execution_count": 177,
   "id": "3c91fa53",
   "metadata": {},
   "outputs": [
    {
     "name": "stdout",
     "output_type": "stream",
     "text": [
      "            Colorado     Texas  New York      Ohio\n",
      "2000-01-05 -2.231223  0.177305  1.218429 -1.246758\n",
      "2000-01-12  0.521902  0.889470 -0.282613 -1.202206\n",
      "2000-01-19 -0.592107  0.473255 -0.693282 -2.058320\n",
      "2000-01-26 -0.184924  0.363399  0.027204 -0.390524\n",
      "2000-02-02 -0.940962  2.072415  0.238208  0.596927\n",
      "...              ...       ...       ...       ...\n",
      "2001-10-31 -1.925500 -0.200730 -1.672724  0.786115\n",
      "2001-11-07 -0.369155  1.286824  1.455193 -0.881482\n",
      "2001-11-14 -1.242672 -0.594487  0.539410 -2.463120\n",
      "2001-11-21  1.866679 -0.782967 -1.179629  1.103679\n",
      "2001-11-28  0.166093  2.003901  0.116562  0.118289\n",
      "\n",
      "[100 rows x 4 columns] \n",
      "\n"
     ]
    },
    {
     "data": {
      "text/html": [
       "<div>\n",
       "<style scoped>\n",
       "    .dataframe tbody tr th:only-of-type {\n",
       "        vertical-align: middle;\n",
       "    }\n",
       "\n",
       "    .dataframe tbody tr th {\n",
       "        vertical-align: top;\n",
       "    }\n",
       "\n",
       "    .dataframe thead th {\n",
       "        text-align: right;\n",
       "    }\n",
       "</style>\n",
       "<table border=\"1\" class=\"dataframe\">\n",
       "  <thead>\n",
       "    <tr style=\"text-align: right;\">\n",
       "      <th></th>\n",
       "      <th>Colorado</th>\n",
       "      <th>Texas</th>\n",
       "      <th>New York</th>\n",
       "      <th>Ohio</th>\n",
       "    </tr>\n",
       "  </thead>\n",
       "  <tbody>\n",
       "    <tr>\n",
       "      <th>2001-06-06</th>\n",
       "      <td>0.759689</td>\n",
       "      <td>1.718915</td>\n",
       "      <td>-1.071291</td>\n",
       "      <td>-0.462408</td>\n",
       "    </tr>\n",
       "    <tr>\n",
       "      <th>2001-06-13</th>\n",
       "      <td>0.446772</td>\n",
       "      <td>-0.474984</td>\n",
       "      <td>-0.652845</td>\n",
       "      <td>-0.996712</td>\n",
       "    </tr>\n",
       "    <tr>\n",
       "      <th>2001-06-20</th>\n",
       "      <td>1.196830</td>\n",
       "      <td>0.261817</td>\n",
       "      <td>1.305259</td>\n",
       "      <td>0.720479</td>\n",
       "    </tr>\n",
       "    <tr>\n",
       "      <th>2001-06-27</th>\n",
       "      <td>-0.327528</td>\n",
       "      <td>0.962417</td>\n",
       "      <td>-0.830529</td>\n",
       "      <td>0.548519</td>\n",
       "    </tr>\n",
       "  </tbody>\n",
       "</table>\n",
       "</div>"
      ],
      "text/plain": [
       "            Colorado     Texas  New York      Ohio\n",
       "2001-06-06  0.759689  1.718915 -1.071291 -0.462408\n",
       "2001-06-13  0.446772 -0.474984 -0.652845 -0.996712\n",
       "2001-06-20  1.196830  0.261817  1.305259  0.720479\n",
       "2001-06-27 -0.327528  0.962417 -0.830529  0.548519"
      ]
     },
     "execution_count": 177,
     "metadata": {},
     "output_type": "execute_result"
    }
   ],
   "source": [
    "import numpy as np\n",
    "long_df = pd.DataFrame(np.random.randn(100,4),\n",
    "                      index=dates,\n",
    "                      columns=['Colorado','Texas','New York','Ohio'])\n",
    "print(long_df,'\\n')\n",
    "long_df.loc['2001-06']"
   ]
  },
  {
   "cell_type": "code",
   "execution_count": 183,
   "id": "e60dc45e",
   "metadata": {},
   "outputs": [
    {
     "data": {
      "text/plain": [
       "2000-01-01    0\n",
       "2000-01-02    1\n",
       "2000-01-02    2\n",
       "2000-01-02    3\n",
       "2000-01-03    4\n",
       "dtype: int32"
      ]
     },
     "execution_count": 183,
     "metadata": {},
     "output_type": "execute_result"
    }
   ],
   "source": [
    "dates = pd.DatetimeIndex(['1/1/2000','1/2/2000','1/2/2000','1/2/2000',\n",
    "                         '1/3/2000'])\n",
    "dup_ts =pd.Series(np.arange(5),index = dates)\n",
    "dup_ts"
   ]
  },
  {
   "cell_type": "code",
   "execution_count": 186,
   "id": "a9c5b314",
   "metadata": {},
   "outputs": [
    {
     "data": {
      "text/plain": [
       "False"
      ]
     },
     "execution_count": 186,
     "metadata": {},
     "output_type": "execute_result"
    }
   ],
   "source": [
    "dup_ts.index.is_unique #데이터가 많고 확인할때"
   ]
  },
  {
   "cell_type": "code",
   "execution_count": 194,
   "id": "69537f54",
   "metadata": {},
   "outputs": [
    {
     "name": "stdout",
     "output_type": "stream",
     "text": [
      "4 \n",
      "\n",
      "2000-01-02    1\n",
      "2000-01-02    2\n",
      "2000-01-02    3\n",
      "dtype: int32\n"
     ]
    }
   ],
   "source": [
    "print(dup_ts['1/3/2000'],'\\n') #not_duplicated : 스칼라 값 도출.\n",
    "print(dup_ts['1/2/2000']) #duplicated : 슬라이스 출력"
   ]
  },
  {
   "cell_type": "code",
   "execution_count": 189,
   "id": "35821dd7",
   "metadata": {},
   "outputs": [
    {
     "data": {
      "text/plain": [
       "2000-01-02    1\n",
       "2000-01-02    2\n",
       "2000-01-02    3\n",
       "dtype: int32"
      ]
     },
     "execution_count": 189,
     "metadata": {},
     "output_type": "execute_result"
    }
   ],
   "source": []
  },
  {
   "cell_type": "code",
   "execution_count": 197,
   "id": "ff2cb652",
   "metadata": {},
   "outputs": [
    {
     "name": "stdout",
     "output_type": "stream",
     "text": [
      "2000-01-01    0\n",
      "2000-01-02    2\n",
      "2000-01-03    4\n",
      "dtype: int32\n"
     ]
    },
    {
     "data": {
      "text/plain": [
       "2000-01-01    1\n",
       "2000-01-02    3\n",
       "2000-01-03    1\n",
       "dtype: int64"
      ]
     },
     "execution_count": 197,
     "metadata": {},
     "output_type": "execute_result"
    }
   ],
   "source": [
    "grouped = dup_ts.groupby(level=0) #level = 0 / index 기준\n",
    "print(grouped.mean())\n",
    "grouped.count()"
   ]
  },
  {
   "cell_type": "code",
   "execution_count": 199,
   "id": "c4735aad",
   "metadata": {},
   "outputs": [
    {
     "data": {
      "text/plain": [
       "DatetimeIndex(['2000-01-01 00:00:00', '2000-01-01 04:00:00',\n",
       "               '2000-01-01 08:00:00', '2000-01-01 12:00:00',\n",
       "               '2000-01-01 16:00:00', '2000-01-01 20:00:00',\n",
       "               '2000-01-02 00:00:00', '2000-01-02 04:00:00',\n",
       "               '2000-01-02 08:00:00', '2000-01-02 12:00:00',\n",
       "               ...\n",
       "               '2001-02-28 08:00:00', '2001-02-28 12:00:00',\n",
       "               '2001-02-28 16:00:00', '2001-02-28 20:00:00',\n",
       "               '2001-03-01 00:00:00', '2001-03-01 04:00:00',\n",
       "               '2001-03-01 08:00:00', '2001-03-01 12:00:00',\n",
       "               '2001-03-01 16:00:00', '2001-03-01 20:00:00'],\n",
       "              dtype='datetime64[ns]', length=2556, freq='4H')"
      ]
     },
     "execution_count": 199,
     "metadata": {},
     "output_type": "execute_result"
    }
   ],
   "source": [
    "pd.date_range('2000-01-01','2001-03 23:59',freq='4h') #4시간 마다"
   ]
  },
  {
   "cell_type": "code",
   "execution_count": 204,
   "id": "40a3015b",
   "metadata": {},
   "outputs": [
    {
     "data": {
      "text/plain": [
       "<150 * Minutes>"
      ]
     },
     "execution_count": 204,
     "metadata": {},
     "output_type": "execute_result"
    }
   ],
   "source": [
    "from pandas.tseries.offsets import Hour,Minute\n",
    "Hour(2) + Minute(30)"
   ]
  },
  {
   "cell_type": "code",
   "execution_count": 207,
   "id": "82358106",
   "metadata": {},
   "outputs": [
    {
     "data": {
      "text/plain": [
       "DatetimeIndex(['2000-01-01 01:00:00', '2000-01-01 02:30:00',\n",
       "               '2000-01-01 04:00:00', '2000-01-01 05:30:00',\n",
       "               '2000-01-01 07:00:00', '2000-01-01 08:30:00',\n",
       "               '2000-01-01 10:00:00', '2000-01-01 11:30:00',\n",
       "               '2000-01-01 13:00:00', '2000-01-01 14:30:00'],\n",
       "              dtype='datetime64[ns]', freq='90T')"
      ]
     },
     "execution_count": 207,
     "metadata": {},
     "output_type": "execute_result"
    }
   ],
   "source": [
    "pd.date_range('2000-1-01-01', periods=10, freq='1h30min')"
   ]
  },
  {
   "cell_type": "code",
   "execution_count": 210,
   "id": "c38e1344",
   "metadata": {},
   "outputs": [
    {
     "data": {
      "text/plain": [
       "[Timestamp('2001-01-19 00:00:00', freq='WOM-3FRI'),\n",
       " Timestamp('2001-02-16 00:00:00', freq='WOM-3FRI'),\n",
       " Timestamp('2001-03-16 00:00:00', freq='WOM-3FRI'),\n",
       " Timestamp('2001-04-20 00:00:00', freq='WOM-3FRI'),\n",
       " Timestamp('2001-05-18 00:00:00', freq='WOM-3FRI'),\n",
       " Timestamp('2001-06-15 00:00:00', freq='WOM-3FRI'),\n",
       " Timestamp('2001-07-20 00:00:00', freq='WOM-3FRI'),\n",
       " Timestamp('2001-08-17 00:00:00', freq='WOM-3FRI'),\n",
       " Timestamp('2001-09-21 00:00:00', freq='WOM-3FRI'),\n",
       " Timestamp('2001-10-19 00:00:00', freq='WOM-3FRI'),\n",
       " Timestamp('2001-11-16 00:00:00', freq='WOM-3FRI'),\n",
       " Timestamp('2001-12-21 00:00:00', freq='WOM-3FRI'),\n",
       " Timestamp('2002-01-18 00:00:00', freq='WOM-3FRI'),\n",
       " Timestamp('2002-02-15 00:00:00', freq='WOM-3FRI'),\n",
       " Timestamp('2002-03-15 00:00:00', freq='WOM-3FRI'),\n",
       " Timestamp('2002-04-19 00:00:00', freq='WOM-3FRI'),\n",
       " Timestamp('2002-05-17 00:00:00', freq='WOM-3FRI'),\n",
       " Timestamp('2002-06-21 00:00:00', freq='WOM-3FRI'),\n",
       " Timestamp('2002-07-19 00:00:00', freq='WOM-3FRI'),\n",
       " Timestamp('2002-08-16 00:00:00', freq='WOM-3FRI'),\n",
       " Timestamp('2002-09-20 00:00:00', freq='WOM-3FRI'),\n",
       " Timestamp('2002-10-18 00:00:00', freq='WOM-3FRI'),\n",
       " Timestamp('2002-11-15 00:00:00', freq='WOM-3FRI'),\n",
       " Timestamp('2002-12-20 00:00:00', freq='WOM-3FRI'),\n",
       " Timestamp('2003-01-17 00:00:00', freq='WOM-3FRI'),\n",
       " Timestamp('2003-02-21 00:00:00', freq='WOM-3FRI'),\n",
       " Timestamp('2003-03-21 00:00:00', freq='WOM-3FRI'),\n",
       " Timestamp('2003-04-18 00:00:00', freq='WOM-3FRI'),\n",
       " Timestamp('2003-05-16 00:00:00', freq='WOM-3FRI'),\n",
       " Timestamp('2003-06-20 00:00:00', freq='WOM-3FRI'),\n",
       " Timestamp('2003-07-18 00:00:00', freq='WOM-3FRI'),\n",
       " Timestamp('2003-08-15 00:00:00', freq='WOM-3FRI'),\n",
       " Timestamp('2003-09-19 00:00:00', freq='WOM-3FRI'),\n",
       " Timestamp('2003-10-17 00:00:00', freq='WOM-3FRI'),\n",
       " Timestamp('2003-11-21 00:00:00', freq='WOM-3FRI'),\n",
       " Timestamp('2003-12-19 00:00:00', freq='WOM-3FRI'),\n",
       " Timestamp('2004-01-16 00:00:00', freq='WOM-3FRI'),\n",
       " Timestamp('2004-02-20 00:00:00', freq='WOM-3FRI'),\n",
       " Timestamp('2004-03-19 00:00:00', freq='WOM-3FRI'),\n",
       " Timestamp('2004-04-16 00:00:00', freq='WOM-3FRI'),\n",
       " Timestamp('2004-05-21 00:00:00', freq='WOM-3FRI'),\n",
       " Timestamp('2004-06-18 00:00:00', freq='WOM-3FRI'),\n",
       " Timestamp('2004-07-16 00:00:00', freq='WOM-3FRI'),\n",
       " Timestamp('2004-08-20 00:00:00', freq='WOM-3FRI'),\n",
       " Timestamp('2004-09-17 00:00:00', freq='WOM-3FRI'),\n",
       " Timestamp('2004-10-15 00:00:00', freq='WOM-3FRI'),\n",
       " Timestamp('2004-11-19 00:00:00', freq='WOM-3FRI'),\n",
       " Timestamp('2004-12-17 00:00:00', freq='WOM-3FRI'),\n",
       " Timestamp('2005-01-21 00:00:00', freq='WOM-3FRI'),\n",
       " Timestamp('2005-02-18 00:00:00', freq='WOM-3FRI'),\n",
       " Timestamp('2005-03-18 00:00:00', freq='WOM-3FRI'),\n",
       " Timestamp('2005-04-15 00:00:00', freq='WOM-3FRI'),\n",
       " Timestamp('2005-05-20 00:00:00', freq='WOM-3FRI'),\n",
       " Timestamp('2005-06-17 00:00:00', freq='WOM-3FRI'),\n",
       " Timestamp('2005-07-15 00:00:00', freq='WOM-3FRI'),\n",
       " Timestamp('2005-08-19 00:00:00', freq='WOM-3FRI'),\n",
       " Timestamp('2005-09-16 00:00:00', freq='WOM-3FRI'),\n",
       " Timestamp('2005-10-21 00:00:00', freq='WOM-3FRI'),\n",
       " Timestamp('2005-11-18 00:00:00', freq='WOM-3FRI'),\n",
       " Timestamp('2005-12-16 00:00:00', freq='WOM-3FRI'),\n",
       " Timestamp('2006-01-20 00:00:00', freq='WOM-3FRI'),\n",
       " Timestamp('2006-02-17 00:00:00', freq='WOM-3FRI'),\n",
       " Timestamp('2006-03-17 00:00:00', freq='WOM-3FRI'),\n",
       " Timestamp('2006-04-21 00:00:00', freq='WOM-3FRI'),\n",
       " Timestamp('2006-05-19 00:00:00', freq='WOM-3FRI'),\n",
       " Timestamp('2006-06-16 00:00:00', freq='WOM-3FRI'),\n",
       " Timestamp('2006-07-21 00:00:00', freq='WOM-3FRI'),\n",
       " Timestamp('2006-08-18 00:00:00', freq='WOM-3FRI'),\n",
       " Timestamp('2006-09-15 00:00:00', freq='WOM-3FRI'),\n",
       " Timestamp('2006-10-20 00:00:00', freq='WOM-3FRI'),\n",
       " Timestamp('2006-11-17 00:00:00', freq='WOM-3FRI'),\n",
       " Timestamp('2006-12-15 00:00:00', freq='WOM-3FRI'),\n",
       " Timestamp('2007-01-19 00:00:00', freq='WOM-3FRI'),\n",
       " Timestamp('2007-02-16 00:00:00', freq='WOM-3FRI'),\n",
       " Timestamp('2007-03-16 00:00:00', freq='WOM-3FRI'),\n",
       " Timestamp('2007-04-20 00:00:00', freq='WOM-3FRI'),\n",
       " Timestamp('2007-05-18 00:00:00', freq='WOM-3FRI'),\n",
       " Timestamp('2007-06-15 00:00:00', freq='WOM-3FRI'),\n",
       " Timestamp('2007-07-20 00:00:00', freq='WOM-3FRI'),\n",
       " Timestamp('2007-08-17 00:00:00', freq='WOM-3FRI'),\n",
       " Timestamp('2007-09-21 00:00:00', freq='WOM-3FRI'),\n",
       " Timestamp('2007-10-19 00:00:00', freq='WOM-3FRI'),\n",
       " Timestamp('2007-11-16 00:00:00', freq='WOM-3FRI'),\n",
       " Timestamp('2007-12-21 00:00:00', freq='WOM-3FRI'),\n",
       " Timestamp('2008-01-18 00:00:00', freq='WOM-3FRI'),\n",
       " Timestamp('2008-02-15 00:00:00', freq='WOM-3FRI'),\n",
       " Timestamp('2008-03-21 00:00:00', freq='WOM-3FRI'),\n",
       " Timestamp('2008-04-18 00:00:00', freq='WOM-3FRI'),\n",
       " Timestamp('2008-05-16 00:00:00', freq='WOM-3FRI'),\n",
       " Timestamp('2008-06-20 00:00:00', freq='WOM-3FRI'),\n",
       " Timestamp('2008-07-18 00:00:00', freq='WOM-3FRI'),\n",
       " Timestamp('2008-08-15 00:00:00', freq='WOM-3FRI'),\n",
       " Timestamp('2008-09-19 00:00:00', freq='WOM-3FRI'),\n",
       " Timestamp('2008-10-17 00:00:00', freq='WOM-3FRI'),\n",
       " Timestamp('2008-11-21 00:00:00', freq='WOM-3FRI'),\n",
       " Timestamp('2008-12-19 00:00:00', freq='WOM-3FRI'),\n",
       " Timestamp('2009-01-16 00:00:00', freq='WOM-3FRI'),\n",
       " Timestamp('2009-02-20 00:00:00', freq='WOM-3FRI'),\n",
       " Timestamp('2009-03-20 00:00:00', freq='WOM-3FRI'),\n",
       " Timestamp('2009-04-17 00:00:00', freq='WOM-3FRI'),\n",
       " Timestamp('2009-05-15 00:00:00', freq='WOM-3FRI'),\n",
       " Timestamp('2009-06-19 00:00:00', freq='WOM-3FRI'),\n",
       " Timestamp('2009-07-17 00:00:00', freq='WOM-3FRI'),\n",
       " Timestamp('2009-08-21 00:00:00', freq='WOM-3FRI'),\n",
       " Timestamp('2009-09-18 00:00:00', freq='WOM-3FRI'),\n",
       " Timestamp('2009-10-16 00:00:00', freq='WOM-3FRI'),\n",
       " Timestamp('2009-11-20 00:00:00', freq='WOM-3FRI'),\n",
       " Timestamp('2009-12-18 00:00:00', freq='WOM-3FRI'),\n",
       " Timestamp('2010-01-15 00:00:00', freq='WOM-3FRI'),\n",
       " Timestamp('2010-02-19 00:00:00', freq='WOM-3FRI'),\n",
       " Timestamp('2010-03-19 00:00:00', freq='WOM-3FRI'),\n",
       " Timestamp('2010-04-16 00:00:00', freq='WOM-3FRI'),\n",
       " Timestamp('2010-05-21 00:00:00', freq='WOM-3FRI'),\n",
       " Timestamp('2010-06-18 00:00:00', freq='WOM-3FRI'),\n",
       " Timestamp('2010-07-16 00:00:00', freq='WOM-3FRI'),\n",
       " Timestamp('2010-08-20 00:00:00', freq='WOM-3FRI'),\n",
       " Timestamp('2010-09-17 00:00:00', freq='WOM-3FRI'),\n",
       " Timestamp('2010-10-15 00:00:00', freq='WOM-3FRI'),\n",
       " Timestamp('2010-11-19 00:00:00', freq='WOM-3FRI'),\n",
       " Timestamp('2010-12-17 00:00:00', freq='WOM-3FRI'),\n",
       " Timestamp('2011-01-21 00:00:00', freq='WOM-3FRI'),\n",
       " Timestamp('2011-02-18 00:00:00', freq='WOM-3FRI'),\n",
       " Timestamp('2011-03-18 00:00:00', freq='WOM-3FRI'),\n",
       " Timestamp('2011-04-15 00:00:00', freq='WOM-3FRI'),\n",
       " Timestamp('2011-05-20 00:00:00', freq='WOM-3FRI'),\n",
       " Timestamp('2011-06-17 00:00:00', freq='WOM-3FRI'),\n",
       " Timestamp('2011-07-15 00:00:00', freq='WOM-3FRI'),\n",
       " Timestamp('2011-08-19 00:00:00', freq='WOM-3FRI'),\n",
       " Timestamp('2011-09-16 00:00:00', freq='WOM-3FRI'),\n",
       " Timestamp('2011-10-21 00:00:00', freq='WOM-3FRI'),\n",
       " Timestamp('2011-11-18 00:00:00', freq='WOM-3FRI'),\n",
       " Timestamp('2011-12-16 00:00:00', freq='WOM-3FRI'),\n",
       " Timestamp('2012-01-20 00:00:00', freq='WOM-3FRI'),\n",
       " Timestamp('2012-02-17 00:00:00', freq='WOM-3FRI'),\n",
       " Timestamp('2012-03-16 00:00:00', freq='WOM-3FRI'),\n",
       " Timestamp('2012-04-20 00:00:00', freq='WOM-3FRI'),\n",
       " Timestamp('2012-05-18 00:00:00', freq='WOM-3FRI'),\n",
       " Timestamp('2012-06-15 00:00:00', freq='WOM-3FRI'),\n",
       " Timestamp('2012-07-20 00:00:00', freq='WOM-3FRI'),\n",
       " Timestamp('2012-08-17 00:00:00', freq='WOM-3FRI'),\n",
       " Timestamp('2012-09-21 00:00:00', freq='WOM-3FRI'),\n",
       " Timestamp('2012-10-19 00:00:00', freq='WOM-3FRI'),\n",
       " Timestamp('2012-11-16 00:00:00', freq='WOM-3FRI'),\n",
       " Timestamp('2012-12-21 00:00:00', freq='WOM-3FRI'),\n",
       " Timestamp('2013-01-18 00:00:00', freq='WOM-3FRI'),\n",
       " Timestamp('2013-02-15 00:00:00', freq='WOM-3FRI'),\n",
       " Timestamp('2013-03-15 00:00:00', freq='WOM-3FRI'),\n",
       " Timestamp('2013-04-19 00:00:00', freq='WOM-3FRI'),\n",
       " Timestamp('2013-05-17 00:00:00', freq='WOM-3FRI'),\n",
       " Timestamp('2013-06-21 00:00:00', freq='WOM-3FRI'),\n",
       " Timestamp('2013-07-19 00:00:00', freq='WOM-3FRI'),\n",
       " Timestamp('2013-08-16 00:00:00', freq='WOM-3FRI'),\n",
       " Timestamp('2013-09-20 00:00:00', freq='WOM-3FRI'),\n",
       " Timestamp('2013-10-18 00:00:00', freq='WOM-3FRI'),\n",
       " Timestamp('2013-11-15 00:00:00', freq='WOM-3FRI'),\n",
       " Timestamp('2013-12-20 00:00:00', freq='WOM-3FRI'),\n",
       " Timestamp('2014-01-17 00:00:00', freq='WOM-3FRI'),\n",
       " Timestamp('2014-02-21 00:00:00', freq='WOM-3FRI'),\n",
       " Timestamp('2014-03-21 00:00:00', freq='WOM-3FRI'),\n",
       " Timestamp('2014-04-18 00:00:00', freq='WOM-3FRI'),\n",
       " Timestamp('2014-05-16 00:00:00', freq='WOM-3FRI'),\n",
       " Timestamp('2014-06-20 00:00:00', freq='WOM-3FRI'),\n",
       " Timestamp('2014-07-18 00:00:00', freq='WOM-3FRI'),\n",
       " Timestamp('2014-08-15 00:00:00', freq='WOM-3FRI'),\n",
       " Timestamp('2014-09-19 00:00:00', freq='WOM-3FRI'),\n",
       " Timestamp('2014-10-17 00:00:00', freq='WOM-3FRI'),\n",
       " Timestamp('2014-11-21 00:00:00', freq='WOM-3FRI'),\n",
       " Timestamp('2014-12-19 00:00:00', freq='WOM-3FRI'),\n",
       " Timestamp('2015-01-16 00:00:00', freq='WOM-3FRI'),\n",
       " Timestamp('2015-02-20 00:00:00', freq='WOM-3FRI'),\n",
       " Timestamp('2015-03-20 00:00:00', freq='WOM-3FRI'),\n",
       " Timestamp('2015-04-17 00:00:00', freq='WOM-3FRI'),\n",
       " Timestamp('2015-05-15 00:00:00', freq='WOM-3FRI'),\n",
       " Timestamp('2015-06-19 00:00:00', freq='WOM-3FRI'),\n",
       " Timestamp('2015-07-17 00:00:00', freq='WOM-3FRI'),\n",
       " Timestamp('2015-08-21 00:00:00', freq='WOM-3FRI'),\n",
       " Timestamp('2015-09-18 00:00:00', freq='WOM-3FRI'),\n",
       " Timestamp('2015-10-16 00:00:00', freq='WOM-3FRI'),\n",
       " Timestamp('2015-11-20 00:00:00', freq='WOM-3FRI'),\n",
       " Timestamp('2015-12-18 00:00:00', freq='WOM-3FRI'),\n",
       " Timestamp('2016-01-15 00:00:00', freq='WOM-3FRI'),\n",
       " Timestamp('2016-02-19 00:00:00', freq='WOM-3FRI'),\n",
       " Timestamp('2016-03-18 00:00:00', freq='WOM-3FRI'),\n",
       " Timestamp('2016-04-15 00:00:00', freq='WOM-3FRI'),\n",
       " Timestamp('2016-05-20 00:00:00', freq='WOM-3FRI'),\n",
       " Timestamp('2016-06-17 00:00:00', freq='WOM-3FRI'),\n",
       " Timestamp('2016-07-15 00:00:00', freq='WOM-3FRI'),\n",
       " Timestamp('2016-08-19 00:00:00', freq='WOM-3FRI'),\n",
       " Timestamp('2016-09-16 00:00:00', freq='WOM-3FRI'),\n",
       " Timestamp('2016-10-21 00:00:00', freq='WOM-3FRI'),\n",
       " Timestamp('2016-11-18 00:00:00', freq='WOM-3FRI'),\n",
       " Timestamp('2016-12-16 00:00:00', freq='WOM-3FRI'),\n",
       " Timestamp('2017-01-20 00:00:00', freq='WOM-3FRI'),\n",
       " Timestamp('2017-02-17 00:00:00', freq='WOM-3FRI'),\n",
       " Timestamp('2017-03-17 00:00:00', freq='WOM-3FRI'),\n",
       " Timestamp('2017-04-21 00:00:00', freq='WOM-3FRI'),\n",
       " Timestamp('2017-05-19 00:00:00', freq='WOM-3FRI'),\n",
       " Timestamp('2017-06-16 00:00:00', freq='WOM-3FRI'),\n",
       " Timestamp('2017-07-21 00:00:00', freq='WOM-3FRI'),\n",
       " Timestamp('2017-08-18 00:00:00', freq='WOM-3FRI'),\n",
       " Timestamp('2017-09-15 00:00:00', freq='WOM-3FRI'),\n",
       " Timestamp('2017-10-20 00:00:00', freq='WOM-3FRI'),\n",
       " Timestamp('2017-11-17 00:00:00', freq='WOM-3FRI'),\n",
       " Timestamp('2017-12-15 00:00:00', freq='WOM-3FRI'),\n",
       " Timestamp('2018-01-19 00:00:00', freq='WOM-3FRI'),\n",
       " Timestamp('2018-02-16 00:00:00', freq='WOM-3FRI'),\n",
       " Timestamp('2018-03-16 00:00:00', freq='WOM-3FRI'),\n",
       " Timestamp('2018-04-20 00:00:00', freq='WOM-3FRI'),\n",
       " Timestamp('2018-05-18 00:00:00', freq='WOM-3FRI'),\n",
       " Timestamp('2018-06-15 00:00:00', freq='WOM-3FRI'),\n",
       " Timestamp('2018-07-20 00:00:00', freq='WOM-3FRI'),\n",
       " Timestamp('2018-08-17 00:00:00', freq='WOM-3FRI'),\n",
       " Timestamp('2018-09-21 00:00:00', freq='WOM-3FRI'),\n",
       " Timestamp('2018-10-19 00:00:00', freq='WOM-3FRI'),\n",
       " Timestamp('2018-11-16 00:00:00', freq='WOM-3FRI'),\n",
       " Timestamp('2018-12-21 00:00:00', freq='WOM-3FRI'),\n",
       " Timestamp('2019-01-18 00:00:00', freq='WOM-3FRI'),\n",
       " Timestamp('2019-02-15 00:00:00', freq='WOM-3FRI'),\n",
       " Timestamp('2019-03-15 00:00:00', freq='WOM-3FRI'),\n",
       " Timestamp('2019-04-19 00:00:00', freq='WOM-3FRI'),\n",
       " Timestamp('2019-05-17 00:00:00', freq='WOM-3FRI'),\n",
       " Timestamp('2019-06-21 00:00:00', freq='WOM-3FRI'),\n",
       " Timestamp('2019-07-19 00:00:00', freq='WOM-3FRI'),\n",
       " Timestamp('2019-08-16 00:00:00', freq='WOM-3FRI'),\n",
       " Timestamp('2019-09-20 00:00:00', freq='WOM-3FRI'),\n",
       " Timestamp('2019-10-18 00:00:00', freq='WOM-3FRI'),\n",
       " Timestamp('2019-11-15 00:00:00', freq='WOM-3FRI'),\n",
       " Timestamp('2019-12-20 00:00:00', freq='WOM-3FRI'),\n",
       " Timestamp('2020-01-17 00:00:00', freq='WOM-3FRI'),\n",
       " Timestamp('2020-02-21 00:00:00', freq='WOM-3FRI'),\n",
       " Timestamp('2020-03-20 00:00:00', freq='WOM-3FRI'),\n",
       " Timestamp('2020-04-17 00:00:00', freq='WOM-3FRI'),\n",
       " Timestamp('2020-05-15 00:00:00', freq='WOM-3FRI'),\n",
       " Timestamp('2020-06-19 00:00:00', freq='WOM-3FRI'),\n",
       " Timestamp('2020-07-17 00:00:00', freq='WOM-3FRI'),\n",
       " Timestamp('2020-08-21 00:00:00', freq='WOM-3FRI'),\n",
       " Timestamp('2020-09-18 00:00:00', freq='WOM-3FRI'),\n",
       " Timestamp('2020-10-16 00:00:00', freq='WOM-3FRI'),\n",
       " Timestamp('2020-11-20 00:00:00', freq='WOM-3FRI'),\n",
       " Timestamp('2020-12-18 00:00:00', freq='WOM-3FRI'),\n",
       " Timestamp('2021-01-15 00:00:00', freq='WOM-3FRI'),\n",
       " Timestamp('2021-02-19 00:00:00', freq='WOM-3FRI'),\n",
       " Timestamp('2021-03-19 00:00:00', freq='WOM-3FRI'),\n",
       " Timestamp('2021-04-16 00:00:00', freq='WOM-3FRI'),\n",
       " Timestamp('2021-05-21 00:00:00', freq='WOM-3FRI'),\n",
       " Timestamp('2021-06-18 00:00:00', freq='WOM-3FRI'),\n",
       " Timestamp('2021-07-16 00:00:00', freq='WOM-3FRI'),\n",
       " Timestamp('2021-08-20 00:00:00', freq='WOM-3FRI'),\n",
       " Timestamp('2021-09-17 00:00:00', freq='WOM-3FRI'),\n",
       " Timestamp('2021-10-15 00:00:00', freq='WOM-3FRI'),\n",
       " Timestamp('2021-11-19 00:00:00', freq='WOM-3FRI'),\n",
       " Timestamp('2021-12-17 00:00:00', freq='WOM-3FRI'),\n",
       " Timestamp('2022-01-21 00:00:00', freq='WOM-3FRI'),\n",
       " Timestamp('2022-02-18 00:00:00', freq='WOM-3FRI'),\n",
       " Timestamp('2022-03-18 00:00:00', freq='WOM-3FRI'),\n",
       " Timestamp('2022-04-15 00:00:00', freq='WOM-3FRI'),\n",
       " Timestamp('2022-05-20 00:00:00', freq='WOM-3FRI'),\n",
       " Timestamp('2022-06-17 00:00:00', freq='WOM-3FRI'),\n",
       " Timestamp('2022-07-15 00:00:00', freq='WOM-3FRI'),\n",
       " Timestamp('2022-08-19 00:00:00', freq='WOM-3FRI'),\n",
       " Timestamp('2022-09-16 00:00:00', freq='WOM-3FRI'),\n",
       " Timestamp('2022-10-21 00:00:00', freq='WOM-3FRI'),\n",
       " Timestamp('2022-11-18 00:00:00', freq='WOM-3FRI'),\n",
       " Timestamp('2022-12-16 00:00:00', freq='WOM-3FRI'),\n",
       " Timestamp('2023-01-20 00:00:00', freq='WOM-3FRI'),\n",
       " Timestamp('2023-02-17 00:00:00', freq='WOM-3FRI'),\n",
       " Timestamp('2023-03-17 00:00:00', freq='WOM-3FRI'),\n",
       " Timestamp('2023-04-21 00:00:00', freq='WOM-3FRI'),\n",
       " Timestamp('2023-05-19 00:00:00', freq='WOM-3FRI'),\n",
       " Timestamp('2023-06-16 00:00:00', freq='WOM-3FRI'),\n",
       " Timestamp('2023-07-21 00:00:00', freq='WOM-3FRI'),\n",
       " Timestamp('2023-08-18 00:00:00', freq='WOM-3FRI'),\n",
       " Timestamp('2023-09-15 00:00:00', freq='WOM-3FRI'),\n",
       " Timestamp('2023-10-20 00:00:00', freq='WOM-3FRI'),\n",
       " Timestamp('2023-11-17 00:00:00', freq='WOM-3FRI'),\n",
       " Timestamp('2023-12-15 00:00:00', freq='WOM-3FRI'),\n",
       " Timestamp('2024-01-19 00:00:00', freq='WOM-3FRI'),\n",
       " Timestamp('2024-02-16 00:00:00', freq='WOM-3FRI'),\n",
       " Timestamp('2024-03-15 00:00:00', freq='WOM-3FRI'),\n",
       " Timestamp('2024-04-19 00:00:00', freq='WOM-3FRI'),\n",
       " Timestamp('2024-05-17 00:00:00', freq='WOM-3FRI'),\n",
       " Timestamp('2024-06-21 00:00:00', freq='WOM-3FRI'),\n",
       " Timestamp('2024-07-19 00:00:00', freq='WOM-3FRI'),\n",
       " Timestamp('2024-08-16 00:00:00', freq='WOM-3FRI'),\n",
       " Timestamp('2024-09-20 00:00:00', freq='WOM-3FRI'),\n",
       " Timestamp('2024-10-18 00:00:00', freq='WOM-3FRI'),\n",
       " Timestamp('2024-11-15 00:00:00', freq='WOM-3FRI'),\n",
       " Timestamp('2024-12-20 00:00:00', freq='WOM-3FRI'),\n",
       " Timestamp('2025-01-17 00:00:00', freq='WOM-3FRI'),\n",
       " Timestamp('2025-02-21 00:00:00', freq='WOM-3FRI'),\n",
       " Timestamp('2025-03-21 00:00:00', freq='WOM-3FRI'),\n",
       " Timestamp('2025-04-18 00:00:00', freq='WOM-3FRI'),\n",
       " Timestamp('2025-05-16 00:00:00', freq='WOM-3FRI'),\n",
       " Timestamp('2025-06-20 00:00:00', freq='WOM-3FRI'),\n",
       " Timestamp('2025-07-18 00:00:00', freq='WOM-3FRI'),\n",
       " Timestamp('2025-08-15 00:00:00', freq='WOM-3FRI'),\n",
       " Timestamp('2025-09-19 00:00:00', freq='WOM-3FRI'),\n",
       " Timestamp('2025-10-17 00:00:00', freq='WOM-3FRI'),\n",
       " Timestamp('2025-11-21 00:00:00', freq='WOM-3FRI'),\n",
       " Timestamp('2025-12-19 00:00:00', freq='WOM-3FRI'),\n",
       " Timestamp('2026-01-16 00:00:00', freq='WOM-3FRI'),\n",
       " Timestamp('2026-02-20 00:00:00', freq='WOM-3FRI'),\n",
       " Timestamp('2026-03-20 00:00:00', freq='WOM-3FRI'),\n",
       " Timestamp('2026-04-17 00:00:00', freq='WOM-3FRI'),\n",
       " Timestamp('2026-05-15 00:00:00', freq='WOM-3FRI'),\n",
       " Timestamp('2026-06-19 00:00:00', freq='WOM-3FRI'),\n",
       " Timestamp('2026-07-17 00:00:00', freq='WOM-3FRI'),\n",
       " Timestamp('2026-08-21 00:00:00', freq='WOM-3FRI'),\n",
       " Timestamp('2026-09-18 00:00:00', freq='WOM-3FRI'),\n",
       " Timestamp('2026-10-16 00:00:00', freq='WOM-3FRI'),\n",
       " Timestamp('2026-11-20 00:00:00', freq='WOM-3FRI'),\n",
       " Timestamp('2026-12-18 00:00:00', freq='WOM-3FRI'),\n",
       " Timestamp('2027-01-15 00:00:00', freq='WOM-3FRI'),\n",
       " Timestamp('2027-02-19 00:00:00', freq='WOM-3FRI'),\n",
       " Timestamp('2027-03-19 00:00:00', freq='WOM-3FRI'),\n",
       " Timestamp('2027-04-16 00:00:00', freq='WOM-3FRI'),\n",
       " Timestamp('2027-05-21 00:00:00', freq='WOM-3FRI'),\n",
       " Timestamp('2027-06-18 00:00:00', freq='WOM-3FRI'),\n",
       " Timestamp('2027-07-16 00:00:00', freq='WOM-3FRI'),\n",
       " Timestamp('2027-08-20 00:00:00', freq='WOM-3FRI'),\n",
       " Timestamp('2027-09-17 00:00:00', freq='WOM-3FRI'),\n",
       " Timestamp('2027-10-15 00:00:00', freq='WOM-3FRI'),\n",
       " Timestamp('2027-11-19 00:00:00', freq='WOM-3FRI'),\n",
       " Timestamp('2027-12-17 00:00:00', freq='WOM-3FRI'),\n",
       " Timestamp('2028-01-21 00:00:00', freq='WOM-3FRI'),\n",
       " Timestamp('2028-02-18 00:00:00', freq='WOM-3FRI'),\n",
       " Timestamp('2028-03-17 00:00:00', freq='WOM-3FRI'),\n",
       " Timestamp('2028-04-21 00:00:00', freq='WOM-3FRI'),\n",
       " Timestamp('2028-05-19 00:00:00', freq='WOM-3FRI'),\n",
       " Timestamp('2028-06-16 00:00:00', freq='WOM-3FRI'),\n",
       " Timestamp('2028-07-21 00:00:00', freq='WOM-3FRI'),\n",
       " Timestamp('2028-08-18 00:00:00', freq='WOM-3FRI'),\n",
       " Timestamp('2028-09-15 00:00:00', freq='WOM-3FRI'),\n",
       " Timestamp('2028-10-20 00:00:00', freq='WOM-3FRI'),\n",
       " Timestamp('2028-11-17 00:00:00', freq='WOM-3FRI'),\n",
       " Timestamp('2028-12-15 00:00:00', freq='WOM-3FRI'),\n",
       " Timestamp('2029-01-19 00:00:00', freq='WOM-3FRI'),\n",
       " Timestamp('2029-02-16 00:00:00', freq='WOM-3FRI'),\n",
       " Timestamp('2029-03-16 00:00:00', freq='WOM-3FRI'),\n",
       " Timestamp('2029-04-20 00:00:00', freq='WOM-3FRI'),\n",
       " Timestamp('2029-05-18 00:00:00', freq='WOM-3FRI'),\n",
       " Timestamp('2029-06-15 00:00:00', freq='WOM-3FRI'),\n",
       " Timestamp('2029-07-20 00:00:00', freq='WOM-3FRI'),\n",
       " Timestamp('2029-08-17 00:00:00', freq='WOM-3FRI')]"
      ]
     },
     "execution_count": 210,
     "metadata": {},
     "output_type": "execute_result"
    }
   ],
   "source": [
    "rng = pd.date_range('2001-01-01','2029-09-01',freq='WOM-3FRI')\n",
    "list(rng)"
   ]
  },
  {
   "cell_type": "code",
   "execution_count": 220,
   "id": "e8bbb922",
   "metadata": {},
   "outputs": [
    {
     "name": "stdout",
     "output_type": "stream",
     "text": [
      "2000-01-15   -0.056106\n",
      "2000-01-19   -0.104629\n",
      "2000-01-23   -0.997449\n",
      "2000-01-27    1.362902\n",
      "2000-01-31    0.805789\n",
      "2000-02-04   -1.870387\n",
      "2000-02-08    1.994415\n",
      "2000-02-12   -2.058094\n",
      "2000-02-16   -2.180404\n",
      "2000-02-20   -1.883472\n",
      "2000-02-24   -2.258760\n",
      "2000-02-28    0.606042\n",
      "2000-03-03    0.165601\n",
      "2000-03-07    0.239344\n",
      "2000-03-11   -1.034304\n",
      "2000-03-15    0.767986\n",
      "2000-03-19    1.175717\n",
      "2000-03-23    0.440406\n",
      "2000-03-27    1.046466\n",
      "2000-03-31    0.109292\n",
      "Freq: 4D, dtype: float64\n"
     ]
    }
   ],
   "source": [
    "ts =pd.Series(np.random.randn(20),\n",
    "             index=pd.date_range('1/15/2000',periods=20,freq='4d'))\n",
    "print(ts)"
   ]
  },
  {
   "cell_type": "code",
   "execution_count": 1,
   "id": "6f32fcab",
   "metadata": {},
   "outputs": [
    {
     "data": {
      "text/plain": [
       "Period('2007', 'A-DEC')"
      ]
     },
     "execution_count": 1,
     "metadata": {},
     "output_type": "execute_result"
    }
   ],
   "source": [
    "import pandas as pd\n",
    "p = pd.Period(2007,freq='A-DEC')\n",
    "p"
   ]
  },
  {
   "cell_type": "code",
   "execution_count": 2,
   "id": "c9a23f3b",
   "metadata": {},
   "outputs": [
    {
     "name": "stdout",
     "output_type": "stream",
     "text": [
      "2012\n"
     ]
    }
   ],
   "source": [
    "print(p+5)"
   ]
  },
  {
   "cell_type": "code",
   "execution_count": 3,
   "id": "40187739",
   "metadata": {},
   "outputs": [
    {
     "data": {
      "text/plain": [
       "Period('2005', 'A-DEC')"
      ]
     },
     "execution_count": 3,
     "metadata": {},
     "output_type": "execute_result"
    }
   ],
   "source": [
    "p-2"
   ]
  },
  {
   "cell_type": "code",
   "execution_count": 7,
   "id": "27a86cc9",
   "metadata": {},
   "outputs": [
    {
     "name": "stdout",
     "output_type": "stream",
     "text": [
      "2000-01   -0.854387\n",
      "2000-02   -0.358582\n",
      "2000-03    1.764138\n",
      "2000-04    1.066236\n",
      "2000-05   -0.179756\n",
      "2000-06   -0.068951\n",
      "Freq: M, dtype: float64 \n",
      "\n"
     ]
    },
    {
     "data": {
      "text/plain": [
       "2000-01-31 23:59:59.999999999   -0.854387\n",
       "2000-02-29 23:59:59.999999999   -0.358582\n",
       "2000-03-31 23:59:59.999999999    1.764138\n",
       "2000-04-30 23:59:59.999999999    1.066236\n",
       "2000-05-31 23:59:59.999999999   -0.179756\n",
       "2000-06-30 23:59:59.999999999   -0.068951\n",
       "dtype: float64"
      ]
     },
     "execution_count": 7,
     "metadata": {},
     "output_type": "execute_result"
    }
   ],
   "source": [
    "rng = pd.period_range('2000-01-01','2000-06-30', freq='M') \n",
    "ts = pd.Series(np.random.randn(6),index=rng) #randn 6개의 표준편차로 나눔. \n",
    "print(ts, '\\n')\n",
    "ts.to_timestamp(how='end')"
   ]
  },
  {
   "cell_type": "code",
   "execution_count": 11,
   "id": "42921705",
   "metadata": {},
   "outputs": [
    {
     "data": {
      "text/plain": [
       "2001-01-01 00:00:00     0\n",
       "2001-01-01 00:01:00     1\n",
       "2001-01-01 00:02:00     2\n",
       "2001-01-01 00:03:00     3\n",
       "2001-01-01 00:04:00     4\n",
       "2001-01-01 00:05:00     5\n",
       "2001-01-01 00:06:00     6\n",
       "2001-01-01 00:07:00     7\n",
       "2001-01-01 00:08:00     8\n",
       "2001-01-01 00:09:00     9\n",
       "2001-01-01 00:10:00    10\n",
       "2001-01-01 00:11:00    11\n",
       "Freq: T, dtype: int32"
      ]
     },
     "execution_count": 11,
     "metadata": {},
     "output_type": "execute_result"
    }
   ],
   "source": [
    "rng = pd.date_range('2001-01-01',periods=12,freq='T') # T : 분단위\n",
    "ts = pd.Series(np.arange(12),index=rng)\n",
    "ts"
   ]
  },
  {
   "cell_type": "code",
   "execution_count": 12,
   "id": "7c769df7",
   "metadata": {},
   "outputs": [
    {
     "data": {
      "text/plain": [
       "2000-12-31 23:55:00     0\n",
       "2001-01-01 00:00:00    15\n",
       "2001-01-01 00:05:00    40\n",
       "2001-01-01 00:10:00    11\n",
       "Freq: 5T, dtype: int32"
      ]
     },
     "execution_count": 12,
     "metadata": {},
     "output_type": "execute_result"
    }
   ],
   "source": [
    "ts.resample('5min',closed='right').sum()"
   ]
  },
  {
   "cell_type": "code",
   "execution_count": 14,
   "id": "56dce316",
   "metadata": {},
   "outputs": [
    {
     "data": {
      "text/html": [
       "<div>\n",
       "<style scoped>\n",
       "    .dataframe tbody tr th:only-of-type {\n",
       "        vertical-align: middle;\n",
       "    }\n",
       "\n",
       "    .dataframe tbody tr th {\n",
       "        vertical-align: top;\n",
       "    }\n",
       "\n",
       "    .dataframe thead th {\n",
       "        text-align: right;\n",
       "    }\n",
       "</style>\n",
       "<table border=\"1\" class=\"dataframe\">\n",
       "  <thead>\n",
       "    <tr style=\"text-align: right;\">\n",
       "      <th></th>\n",
       "      <th>open</th>\n",
       "      <th>high</th>\n",
       "      <th>low</th>\n",
       "      <th>close</th>\n",
       "    </tr>\n",
       "  </thead>\n",
       "  <tbody>\n",
       "    <tr>\n",
       "      <th>2001-01-01 00:00:00</th>\n",
       "      <td>0</td>\n",
       "      <td>4</td>\n",
       "      <td>0</td>\n",
       "      <td>4</td>\n",
       "    </tr>\n",
       "    <tr>\n",
       "      <th>2001-01-01 00:05:00</th>\n",
       "      <td>5</td>\n",
       "      <td>9</td>\n",
       "      <td>5</td>\n",
       "      <td>9</td>\n",
       "    </tr>\n",
       "    <tr>\n",
       "      <th>2001-01-01 00:10:00</th>\n",
       "      <td>10</td>\n",
       "      <td>11</td>\n",
       "      <td>10</td>\n",
       "      <td>11</td>\n",
       "    </tr>\n",
       "  </tbody>\n",
       "</table>\n",
       "</div>"
      ],
      "text/plain": [
       "                     open  high  low  close\n",
       "2001-01-01 00:00:00     0     4    0      4\n",
       "2001-01-01 00:05:00     5     9    5      9\n",
       "2001-01-01 00:10:00    10    11   10     11"
      ]
     },
     "execution_count": 14,
     "metadata": {},
     "output_type": "execute_result"
    }
   ],
   "source": [
    "ts.resample('5min').ohlc()"
   ]
  },
  {
   "cell_type": "code",
   "execution_count": 16,
   "id": "19770f21",
   "metadata": {},
   "outputs": [
    {
     "data": {
      "text/html": [
       "<div>\n",
       "<style scoped>\n",
       "    .dataframe tbody tr th:only-of-type {\n",
       "        vertical-align: middle;\n",
       "    }\n",
       "\n",
       "    .dataframe tbody tr th {\n",
       "        vertical-align: top;\n",
       "    }\n",
       "\n",
       "    .dataframe thead th {\n",
       "        text-align: right;\n",
       "    }\n",
       "</style>\n",
       "<table border=\"1\" class=\"dataframe\">\n",
       "  <thead>\n",
       "    <tr style=\"text-align: right;\">\n",
       "      <th></th>\n",
       "      <th>Colorado</th>\n",
       "      <th>Texas</th>\n",
       "      <th>New York</th>\n",
       "      <th>Ohio</th>\n",
       "    </tr>\n",
       "  </thead>\n",
       "  <tbody>\n",
       "    <tr>\n",
       "      <th>2000-01-05</th>\n",
       "      <td>-1.106547</td>\n",
       "      <td>0.836049</td>\n",
       "      <td>2.488088</td>\n",
       "      <td>0.334840</td>\n",
       "    </tr>\n",
       "    <tr>\n",
       "      <th>2000-01-12</th>\n",
       "      <td>1.411272</td>\n",
       "      <td>0.322086</td>\n",
       "      <td>0.438220</td>\n",
       "      <td>0.328941</td>\n",
       "    </tr>\n",
       "  </tbody>\n",
       "</table>\n",
       "</div>"
      ],
      "text/plain": [
       "            Colorado     Texas  New York      Ohio\n",
       "2000-01-05 -1.106547  0.836049  2.488088  0.334840\n",
       "2000-01-12  1.411272  0.322086  0.438220  0.328941"
      ]
     },
     "execution_count": 16,
     "metadata": {},
     "output_type": "execute_result"
    }
   ],
   "source": [
    "frame = pd.DataFrame(np.random.randn(2,4),\n",
    "                    index=pd.date_range('1/1/2000',periods=2,\n",
    "                                       freq='W-WED'),\n",
    "                    columns=['Colorado','Texas','New York','Ohio'])\n",
    "frame\n"
   ]
  },
  {
   "cell_type": "code",
   "execution_count": 17,
   "id": "9d23d6f8",
   "metadata": {},
   "outputs": [
    {
     "data": {
      "text/html": [
       "<div>\n",
       "<style scoped>\n",
       "    .dataframe tbody tr th:only-of-type {\n",
       "        vertical-align: middle;\n",
       "    }\n",
       "\n",
       "    .dataframe tbody tr th {\n",
       "        vertical-align: top;\n",
       "    }\n",
       "\n",
       "    .dataframe thead th {\n",
       "        text-align: right;\n",
       "    }\n",
       "</style>\n",
       "<table border=\"1\" class=\"dataframe\">\n",
       "  <thead>\n",
       "    <tr style=\"text-align: right;\">\n",
       "      <th></th>\n",
       "      <th>Colorado</th>\n",
       "      <th>Texas</th>\n",
       "      <th>New York</th>\n",
       "      <th>Ohio</th>\n",
       "    </tr>\n",
       "  </thead>\n",
       "  <tbody>\n",
       "    <tr>\n",
       "      <th>2000-01-05</th>\n",
       "      <td>-1.106547</td>\n",
       "      <td>0.836049</td>\n",
       "      <td>2.488088</td>\n",
       "      <td>0.334840</td>\n",
       "    </tr>\n",
       "    <tr>\n",
       "      <th>2000-01-06</th>\n",
       "      <td>NaN</td>\n",
       "      <td>NaN</td>\n",
       "      <td>NaN</td>\n",
       "      <td>NaN</td>\n",
       "    </tr>\n",
       "    <tr>\n",
       "      <th>2000-01-07</th>\n",
       "      <td>NaN</td>\n",
       "      <td>NaN</td>\n",
       "      <td>NaN</td>\n",
       "      <td>NaN</td>\n",
       "    </tr>\n",
       "    <tr>\n",
       "      <th>2000-01-08</th>\n",
       "      <td>NaN</td>\n",
       "      <td>NaN</td>\n",
       "      <td>NaN</td>\n",
       "      <td>NaN</td>\n",
       "    </tr>\n",
       "    <tr>\n",
       "      <th>2000-01-09</th>\n",
       "      <td>NaN</td>\n",
       "      <td>NaN</td>\n",
       "      <td>NaN</td>\n",
       "      <td>NaN</td>\n",
       "    </tr>\n",
       "    <tr>\n",
       "      <th>2000-01-10</th>\n",
       "      <td>NaN</td>\n",
       "      <td>NaN</td>\n",
       "      <td>NaN</td>\n",
       "      <td>NaN</td>\n",
       "    </tr>\n",
       "    <tr>\n",
       "      <th>2000-01-11</th>\n",
       "      <td>NaN</td>\n",
       "      <td>NaN</td>\n",
       "      <td>NaN</td>\n",
       "      <td>NaN</td>\n",
       "    </tr>\n",
       "    <tr>\n",
       "      <th>2000-01-12</th>\n",
       "      <td>1.411272</td>\n",
       "      <td>0.322086</td>\n",
       "      <td>0.438220</td>\n",
       "      <td>0.328941</td>\n",
       "    </tr>\n",
       "  </tbody>\n",
       "</table>\n",
       "</div>"
      ],
      "text/plain": [
       "            Colorado     Texas  New York      Ohio\n",
       "2000-01-05 -1.106547  0.836049  2.488088  0.334840\n",
       "2000-01-06       NaN       NaN       NaN       NaN\n",
       "2000-01-07       NaN       NaN       NaN       NaN\n",
       "2000-01-08       NaN       NaN       NaN       NaN\n",
       "2000-01-09       NaN       NaN       NaN       NaN\n",
       "2000-01-10       NaN       NaN       NaN       NaN\n",
       "2000-01-11       NaN       NaN       NaN       NaN\n",
       "2000-01-12  1.411272  0.322086  0.438220  0.328941"
      ]
     },
     "execution_count": 17,
     "metadata": {},
     "output_type": "execute_result"
    }
   ],
   "source": [
    "df_daily = frame.resample('D').asfreq()\n",
    "df_daily"
   ]
  },
  {
   "cell_type": "code",
   "execution_count": 20,
   "id": "4aa74b8a",
   "metadata": {},
   "outputs": [
    {
     "data": {
      "text/html": [
       "<div>\n",
       "<style scoped>\n",
       "    .dataframe tbody tr th:only-of-type {\n",
       "        vertical-align: middle;\n",
       "    }\n",
       "\n",
       "    .dataframe tbody tr th {\n",
       "        vertical-align: top;\n",
       "    }\n",
       "\n",
       "    .dataframe thead th {\n",
       "        text-align: right;\n",
       "    }\n",
       "</style>\n",
       "<table border=\"1\" class=\"dataframe\">\n",
       "  <thead>\n",
       "    <tr style=\"text-align: right;\">\n",
       "      <th></th>\n",
       "      <th>Colorado</th>\n",
       "      <th>Texas</th>\n",
       "      <th>New York</th>\n",
       "      <th>Ohio</th>\n",
       "    </tr>\n",
       "  </thead>\n",
       "  <tbody>\n",
       "    <tr>\n",
       "      <th>2000-01-05</th>\n",
       "      <td>-1.106547</td>\n",
       "      <td>0.836049</td>\n",
       "      <td>2.488088</td>\n",
       "      <td>0.334840</td>\n",
       "    </tr>\n",
       "    <tr>\n",
       "      <th>2000-01-06</th>\n",
       "      <td>-1.106547</td>\n",
       "      <td>0.836049</td>\n",
       "      <td>2.488088</td>\n",
       "      <td>0.334840</td>\n",
       "    </tr>\n",
       "    <tr>\n",
       "      <th>2000-01-07</th>\n",
       "      <td>-1.106547</td>\n",
       "      <td>0.836049</td>\n",
       "      <td>2.488088</td>\n",
       "      <td>0.334840</td>\n",
       "    </tr>\n",
       "    <tr>\n",
       "      <th>2000-01-08</th>\n",
       "      <td>-1.106547</td>\n",
       "      <td>0.836049</td>\n",
       "      <td>2.488088</td>\n",
       "      <td>0.334840</td>\n",
       "    </tr>\n",
       "    <tr>\n",
       "      <th>2000-01-09</th>\n",
       "      <td>-1.106547</td>\n",
       "      <td>0.836049</td>\n",
       "      <td>2.488088</td>\n",
       "      <td>0.334840</td>\n",
       "    </tr>\n",
       "    <tr>\n",
       "      <th>2000-01-10</th>\n",
       "      <td>-1.106547</td>\n",
       "      <td>0.836049</td>\n",
       "      <td>2.488088</td>\n",
       "      <td>0.334840</td>\n",
       "    </tr>\n",
       "    <tr>\n",
       "      <th>2000-01-11</th>\n",
       "      <td>-1.106547</td>\n",
       "      <td>0.836049</td>\n",
       "      <td>2.488088</td>\n",
       "      <td>0.334840</td>\n",
       "    </tr>\n",
       "    <tr>\n",
       "      <th>2000-01-12</th>\n",
       "      <td>1.411272</td>\n",
       "      <td>0.322086</td>\n",
       "      <td>0.438220</td>\n",
       "      <td>0.328941</td>\n",
       "    </tr>\n",
       "  </tbody>\n",
       "</table>\n",
       "</div>"
      ],
      "text/plain": [
       "            Colorado     Texas  New York      Ohio\n",
       "2000-01-05 -1.106547  0.836049  2.488088  0.334840\n",
       "2000-01-06 -1.106547  0.836049  2.488088  0.334840\n",
       "2000-01-07 -1.106547  0.836049  2.488088  0.334840\n",
       "2000-01-08 -1.106547  0.836049  2.488088  0.334840\n",
       "2000-01-09 -1.106547  0.836049  2.488088  0.334840\n",
       "2000-01-10 -1.106547  0.836049  2.488088  0.334840\n",
       "2000-01-11 -1.106547  0.836049  2.488088  0.334840\n",
       "2000-01-12  1.411272  0.322086  0.438220  0.328941"
      ]
     },
     "execution_count": 20,
     "metadata": {},
     "output_type": "execute_result"
    }
   ],
   "source": [
    "frame.resample('D').ffill()"
   ]
  },
  {
   "cell_type": "code",
   "execution_count": 22,
   "id": "cb3093c1",
   "metadata": {},
   "outputs": [
    {
     "data": {
      "text/html": [
       "<div>\n",
       "<style scoped>\n",
       "    .dataframe tbody tr th:only-of-type {\n",
       "        vertical-align: middle;\n",
       "    }\n",
       "\n",
       "    .dataframe tbody tr th {\n",
       "        vertical-align: top;\n",
       "    }\n",
       "\n",
       "    .dataframe thead th {\n",
       "        text-align: right;\n",
       "    }\n",
       "</style>\n",
       "<table border=\"1\" class=\"dataframe\">\n",
       "  <thead>\n",
       "    <tr style=\"text-align: right;\">\n",
       "      <th></th>\n",
       "      <th>Colorado</th>\n",
       "      <th>Texas</th>\n",
       "      <th>New York</th>\n",
       "      <th>Ohio</th>\n",
       "    </tr>\n",
       "  </thead>\n",
       "  <tbody>\n",
       "    <tr>\n",
       "      <th>2000-01-05</th>\n",
       "      <td>-1.106547</td>\n",
       "      <td>0.836049</td>\n",
       "      <td>2.488088</td>\n",
       "      <td>0.334840</td>\n",
       "    </tr>\n",
       "    <tr>\n",
       "      <th>2000-01-06</th>\n",
       "      <td>-1.106547</td>\n",
       "      <td>0.836049</td>\n",
       "      <td>2.488088</td>\n",
       "      <td>0.334840</td>\n",
       "    </tr>\n",
       "    <tr>\n",
       "      <th>2000-01-07</th>\n",
       "      <td>-1.106547</td>\n",
       "      <td>0.836049</td>\n",
       "      <td>2.488088</td>\n",
       "      <td>0.334840</td>\n",
       "    </tr>\n",
       "    <tr>\n",
       "      <th>2000-01-08</th>\n",
       "      <td>NaN</td>\n",
       "      <td>NaN</td>\n",
       "      <td>NaN</td>\n",
       "      <td>NaN</td>\n",
       "    </tr>\n",
       "    <tr>\n",
       "      <th>2000-01-09</th>\n",
       "      <td>NaN</td>\n",
       "      <td>NaN</td>\n",
       "      <td>NaN</td>\n",
       "      <td>NaN</td>\n",
       "    </tr>\n",
       "    <tr>\n",
       "      <th>2000-01-10</th>\n",
       "      <td>1.411272</td>\n",
       "      <td>0.322086</td>\n",
       "      <td>0.438220</td>\n",
       "      <td>0.328941</td>\n",
       "    </tr>\n",
       "    <tr>\n",
       "      <th>2000-01-11</th>\n",
       "      <td>1.411272</td>\n",
       "      <td>0.322086</td>\n",
       "      <td>0.438220</td>\n",
       "      <td>0.328941</td>\n",
       "    </tr>\n",
       "    <tr>\n",
       "      <th>2000-01-12</th>\n",
       "      <td>1.411272</td>\n",
       "      <td>0.322086</td>\n",
       "      <td>0.438220</td>\n",
       "      <td>0.328941</td>\n",
       "    </tr>\n",
       "  </tbody>\n",
       "</table>\n",
       "</div>"
      ],
      "text/plain": [
       "            Colorado     Texas  New York      Ohio\n",
       "2000-01-05 -1.106547  0.836049  2.488088  0.334840\n",
       "2000-01-06 -1.106547  0.836049  2.488088  0.334840\n",
       "2000-01-07 -1.106547  0.836049  2.488088  0.334840\n",
       "2000-01-08       NaN       NaN       NaN       NaN\n",
       "2000-01-09       NaN       NaN       NaN       NaN\n",
       "2000-01-10  1.411272  0.322086  0.438220  0.328941\n",
       "2000-01-11  1.411272  0.322086  0.438220  0.328941\n",
       "2000-01-12  1.411272  0.322086  0.438220  0.328941"
      ]
     },
     "execution_count": 22,
     "metadata": {},
     "output_type": "execute_result"
    }
   ],
   "source": [
    "frame.resample('D').ffill(limit=2).bfill(limit=2)"
   ]
  },
  {
   "cell_type": "code",
   "execution_count": null,
   "id": "7513ac12",
   "metadata": {},
   "outputs": [],
   "source": []
  }
 ],
 "metadata": {
  "kernelspec": {
   "display_name": "Python 3",
   "language": "python",
   "name": "python3"
  },
  "language_info": {
   "codemirror_mode": {
    "name": "ipython",
    "version": 3
   },
   "file_extension": ".py",
   "mimetype": "text/x-python",
   "name": "python",
   "nbconvert_exporter": "python",
   "pygments_lexer": "ipython3",
   "version": "3.8.10"
  }
 },
 "nbformat": 4,
 "nbformat_minor": 5
}
