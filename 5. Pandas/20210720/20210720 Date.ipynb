{
 "cells": [
  {
   "cell_type": "code",
   "execution_count": 2,
   "id": "928947c4",
   "metadata": {},
   "outputs": [],
   "source": [
    "import pandas as pd\n",
    "import numpy as np\n",
    "import seaborn as sns"
   ]
  },
  {
   "cell_type": "code",
   "execution_count": 5,
   "id": "77e1b26f",
   "metadata": {},
   "outputs": [],
   "source": [
    "# python, numpy, pandas 날짜 타입 비교 및 정리\n",
    "# https://ellun.tistory.com/320"
   ]
  },
  {
   "cell_type": "markdown",
   "id": "d9f2e9f9",
   "metadata": {},
   "source": [
    "### python"
   ]
  },
  {
   "cell_type": "markdown",
   "id": "54fc7127",
   "metadata": {},
   "source": [
    "    time\n",
    "    timestamp to string"
   ]
  },
  {
   "cell_type": "code",
   "execution_count": 21,
   "id": "aac265c8",
   "metadata": {},
   "outputs": [
    {
     "name": "stdout",
     "output_type": "stream",
     "text": [
      "1626747369.6643426 <class 'float'>\n",
      "1626747369.6643426 <class 'str'>\n"
     ]
    }
   ],
   "source": [
    "# timestamp\n",
    "import time\n",
    "print(time.time(),type(time.time()))\n",
    "#float 형식 1970/01/01부터 지금까지 1초단위 / #float 형식으로 가져감.\n",
    "timestamp = time.time()\n",
    "s = str(timestamp)\n",
    "print(s,type(s))\n",
    "# time.time() 실수형을 문자열화 시킨게 끝. "
   ]
  },
  {
   "cell_type": "markdown",
   "id": "5ebd5d7b",
   "metadata": {},
   "source": [
    "    datetime.\n",
    "    datetime to string"
   ]
  },
  {
   "cell_type": "code",
   "execution_count": 20,
   "id": "d34e0574",
   "metadata": {},
   "outputs": [
    {
     "name": "stdout",
     "output_type": "stream",
     "text": [
      "2021-07-20 11:13:44.295436 <class 'datetime.datetime'>\n",
      "2021-07-20 11:13:44 <class 'str'>\n"
     ]
    }
   ],
   "source": [
    "#datetime => string\n",
    "from datetime import datetime\n",
    "s = datetime.now()\n",
    "print(s,type(s))\n",
    "# datetime 자체가 모듈(datetime)으로 취급.\n",
    "s1 = datetime.now().strftime('%Y-%m-%d %H:%M:%S') # str + f (format) + time (time module)\n",
    "print(s1,type(s1))\n",
    "# datetime 모듈에서 strftime (문자열화) 했을때, 조건을 맞춰줘서 나타남.\n",
    "# 대신 string 상태에서 날짜 계산식 불가. \n"
   ]
  },
  {
   "cell_type": "markdown",
   "id": "72bbb2d5",
   "metadata": {},
   "source": [
    "    datetime.\n",
    "    string to datetime"
   ]
  },
  {
   "cell_type": "code",
   "execution_count": 24,
   "id": "9bb89a46",
   "metadata": {},
   "outputs": [
    {
     "name": "stdout",
     "output_type": "stream",
     "text": [
      "2021-07-20 11:13:44 <class 'datetime.datetime'>\n"
     ]
    }
   ],
   "source": [
    "from datetime import datetime\n",
    "s = '2021-07-20 11:13:44'\n",
    "d = datetime.strptime(s,'%Y-%m-%d %H:%M:%S' )\n",
    "# str + p (parsing) + time # 문자열을 time (time module)로 파싱.\n",
    "print(d, type(d))"
   ]
  },
  {
   "cell_type": "markdown",
   "id": "5e462b2d",
   "metadata": {},
   "source": [
    "    timestamp\n",
    "    str to timestamp"
   ]
  },
  {
   "cell_type": "code",
   "execution_count": 29,
   "id": "d36da527",
   "metadata": {},
   "outputs": [
    {
     "name": "stdout",
     "output_type": "stream",
     "text": [
      "1626747224.0 <class 'float'>\n"
     ]
    }
   ],
   "source": [
    "s = '2021-07-20 11:13:44'\n",
    "timestamp = time.mktime(datetime.strptime(s,'%Y-%m-%d %H:%M:%S').timetuple())\n",
    "print(timestamp, type(timestamp))\n",
    "#mktime <-> localtime()\n",
    "#timetuple"
   ]
  },
  {
   "cell_type": "markdown",
   "id": "53128351",
   "metadata": {},
   "source": [
    "Q. datetime.today() -> timetuple"
   ]
  },
  {
   "cell_type": "code",
   "execution_count": 42,
   "id": "7251f67b",
   "metadata": {},
   "outputs": [
    {
     "name": "stdout",
     "output_type": "stream",
     "text": [
      "1626747982.0 <class 'float'>\n"
     ]
    }
   ],
   "source": [
    "today = datetime.today()\n",
    "timestamp  = time.mktime(today.timetuple())\n",
    "print(timestamp,type(timestamp))"
   ]
  },
  {
   "cell_type": "markdown",
   "id": "24ed1b0d",
   "metadata": {},
   "source": [
    "Q. timestamp -> datetime"
   ]
  },
  {
   "cell_type": "code",
   "execution_count": 53,
   "id": "23ce55b1",
   "metadata": {},
   "outputs": [
    {
     "name": "stdout",
     "output_type": "stream",
     "text": [
      "1626748172.3250551 <class 'float'>\n",
      "2021-07-20 11:29:32.325055 <class 'datetime.datetime'>\n",
      "1626748172.3250551 <class 'str'>\n"
     ]
    }
   ],
   "source": [
    "f = time.time()\n",
    "t = str(f)\n",
    "d = datetime.fromtimestamp(f)\n",
    "print(f,type(f))\n",
    "print(d,type(d))\n",
    "print(t,type(t))"
   ]
  },
  {
   "cell_type": "markdown",
   "id": "75b6248c",
   "metadata": {},
   "source": [
    "    1년전 datetime 값"
   ]
  },
  {
   "cell_type": "code",
   "execution_count": 61,
   "id": "a4b3ddd1",
   "metadata": {},
   "outputs": [
    {
     "name": "stdout",
     "output_type": "stream",
     "text": [
      "-365 days, 0:00:00 <class 'datetime.timedelta'>\n"
     ]
    },
    {
     "data": {
      "text/plain": [
       "datetime.datetime(2020, 7, 20, 11, 32, 40, 183691)"
      ]
     },
     "execution_count": 61,
     "metadata": {},
     "output_type": "execute_result"
    }
   ],
   "source": [
    "from datetime import timedelta\n",
    "import time\n",
    "datetime_now = datetime.now() #현재날짜 저장\n",
    "delta_datetime_past = timedelta(days=-365) #날짜 차이 계산\n",
    "print(delta_datetime_past,type(delta_datetime_past))\n",
    "datetime_now + delta_datetime_past #현재날짜 - 작년"
   ]
  },
  {
   "cell_type": "markdown",
   "id": "7f1ab717",
   "metadata": {},
   "source": [
    "    두 날짜간의 일수 구하기"
   ]
  },
  {
   "cell_type": "code",
   "execution_count": 64,
   "id": "b3e14775",
   "metadata": {},
   "outputs": [
    {
     "name": "stdout",
     "output_type": "stream",
     "text": [
      "30 days, 0:00:00 <class 'datetime.timedelta'>\n"
     ]
    }
   ],
   "source": [
    "since_timestamp = datetime.strptime('20180301','%Y%m%d')\n",
    "until_timestamp = datetime.strptime('20180331','%Y%m%d')\n",
    "result = until_timestamp - since_timestamp\n",
    "print(result,type(result))"
   ]
  },
  {
   "cell_type": "markdown",
   "id": "a53dba4b",
   "metadata": {},
   "source": [
    "    특정일 구하기"
   ]
  },
  {
   "cell_type": "code",
   "execution_count": 77,
   "id": "733b0151",
   "metadata": {},
   "outputs": [
    {
     "name": "stdout",
     "output_type": "stream",
     "text": [
      "TUE\n",
      "1\n"
     ]
    }
   ],
   "source": [
    "import datetime\n",
    "def get_day(y,m,d):\n",
    "    days = ['MON','TUE','WED','THU','FRI','SAT','SUN']\n",
    "    return days[datetime.date(y,m,d).weekday()]\n",
    "print(get_day(2021,7,20))\n",
    "print(datetime.datetime.now().weekday())"
   ]
  },
  {
   "cell_type": "markdown",
   "id": "560d1c97",
   "metadata": {},
   "source": [
    "    Pandas Timestamp"
   ]
  },
  {
   "cell_type": "code",
   "execution_count": 86,
   "id": "ac5bbe8b",
   "metadata": {},
   "outputs": [
    {
     "name": "stdout",
     "output_type": "stream",
     "text": [
      "1626749058.9529831\n",
      "2021-07-20 11:44:18.952983141+09:00 <class 'pandas._libs.tslibs.timestamps.Timestamp'>\n"
     ]
    }
   ],
   "source": [
    "import pandas as pd\n",
    "print(time.time())\n",
    "date = pd.Timestamp(time.time(),unit='s',tz='Asia/Seoul') #units = seconds / tz= location\n",
    "print(date,type(date))"
   ]
  },
  {
   "cell_type": "markdown",
   "id": "3ddc117c",
   "metadata": {},
   "source": [
    "    Pandas time in DF"
   ]
  },
  {
   "cell_type": "code",
   "execution_count": 88,
   "id": "1b57f9e5",
   "metadata": {},
   "outputs": [
    {
     "data": {
      "text/html": [
       "<div>\n",
       "<style scoped>\n",
       "    .dataframe tbody tr th:only-of-type {\n",
       "        vertical-align: middle;\n",
       "    }\n",
       "\n",
       "    .dataframe tbody tr th {\n",
       "        vertical-align: top;\n",
       "    }\n",
       "\n",
       "    .dataframe thead th {\n",
       "        text-align: right;\n",
       "    }\n",
       "</style>\n",
       "<table border=\"1\" class=\"dataframe\">\n",
       "  <thead>\n",
       "    <tr style=\"text-align: right;\">\n",
       "      <th></th>\n",
       "      <th>Date</th>\n",
       "      <th>Close</th>\n",
       "      <th>Start</th>\n",
       "      <th>High</th>\n",
       "      <th>Low</th>\n",
       "      <th>Volume</th>\n",
       "    </tr>\n",
       "  </thead>\n",
       "  <tbody>\n",
       "    <tr>\n",
       "      <th>0</th>\n",
       "      <td>2018-07-02</td>\n",
       "      <td>10100</td>\n",
       "      <td>10850</td>\n",
       "      <td>10900</td>\n",
       "      <td>10000</td>\n",
       "      <td>137977</td>\n",
       "    </tr>\n",
       "    <tr>\n",
       "      <th>1</th>\n",
       "      <td>2018-06-29</td>\n",
       "      <td>10700</td>\n",
       "      <td>10550</td>\n",
       "      <td>10900</td>\n",
       "      <td>9990</td>\n",
       "      <td>170253</td>\n",
       "    </tr>\n",
       "    <tr>\n",
       "      <th>2</th>\n",
       "      <td>2018-06-28</td>\n",
       "      <td>10400</td>\n",
       "      <td>10900</td>\n",
       "      <td>10950</td>\n",
       "      <td>10150</td>\n",
       "      <td>155769</td>\n",
       "    </tr>\n",
       "    <tr>\n",
       "      <th>3</th>\n",
       "      <td>2018-06-27</td>\n",
       "      <td>10900</td>\n",
       "      <td>10800</td>\n",
       "      <td>11050</td>\n",
       "      <td>10500</td>\n",
       "      <td>133548</td>\n",
       "    </tr>\n",
       "    <tr>\n",
       "      <th>4</th>\n",
       "      <td>2018-06-26</td>\n",
       "      <td>10800</td>\n",
       "      <td>10900</td>\n",
       "      <td>11000</td>\n",
       "      <td>10700</td>\n",
       "      <td>63039</td>\n",
       "    </tr>\n",
       "  </tbody>\n",
       "</table>\n",
       "</div>"
      ],
      "text/plain": [
       "         Date  Close  Start   High    Low  Volume\n",
       "0  2018-07-02  10100  10850  10900  10000  137977\n",
       "1  2018-06-29  10700  10550  10900   9990  170253\n",
       "2  2018-06-28  10400  10900  10950  10150  155769\n",
       "3  2018-06-27  10900  10800  11050  10500  133548\n",
       "4  2018-06-26  10800  10900  11000  10700   63039"
      ]
     },
     "execution_count": 88,
     "metadata": {},
     "output_type": "execute_result"
    }
   ],
   "source": [
    "df = pd.read_csv('../Data/stock-data.csv')\n",
    "df.head()"
   ]
  },
  {
   "cell_type": "code",
   "execution_count": 93,
   "id": "da07184e",
   "metadata": {},
   "outputs": [
    {
     "name": "stdout",
     "output_type": "stream",
     "text": [
      "<class 'pandas.core.frame.DataFrame'>\n",
      "RangeIndex: 20 entries, 0 to 19\n",
      "Data columns (total 6 columns):\n",
      " #   Column  Non-Null Count  Dtype \n",
      "---  ------  --------------  ----- \n",
      " 0   Date    20 non-null     object\n",
      " 1   Close   20 non-null     int64 \n",
      " 2   Start   20 non-null     int64 \n",
      " 3   High    20 non-null     int64 \n",
      " 4   Low     20 non-null     int64 \n",
      " 5   Volume  20 non-null     int64 \n",
      "dtypes: int64(5), object(1)\n",
      "memory usage: 1.1+ KB\n"
     ]
    }
   ],
   "source": [
    "df.info()"
   ]
  },
  {
   "cell_type": "code",
   "execution_count": 94,
   "id": "53eb82b5",
   "metadata": {},
   "outputs": [
    {
     "data": {
      "text/plain": [
       "0     2018-07-02\n",
       "1     2018-06-29\n",
       "2     2018-06-28\n",
       "3     2018-06-27\n",
       "4     2018-06-26\n",
       "5     2018-06-25\n",
       "6     2018-06-22\n",
       "7     2018-06-21\n",
       "8     2018-06-20\n",
       "9     2018-06-19\n",
       "10    2018-06-18\n",
       "11    2018-06-15\n",
       "12    2018-06-14\n",
       "13    2018-06-12\n",
       "14    2018-06-11\n",
       "15    2018-06-08\n",
       "16    2018-06-07\n",
       "17    2018-06-05\n",
       "18    2018-06-04\n",
       "19    2018-06-01\n",
       "Name: Date, dtype: object"
      ]
     },
     "execution_count": 94,
     "metadata": {},
     "output_type": "execute_result"
    }
   ],
   "source": [
    "df['Date'].astype(str)"
   ]
  },
  {
   "cell_type": "code",
   "execution_count": null,
   "id": "fedeea6e",
   "metadata": {},
   "outputs": [],
   "source": []
  }
 ],
 "metadata": {
  "kernelspec": {
   "display_name": "Python 3",
   "language": "python",
   "name": "python3"
  },
  "language_info": {
   "codemirror_mode": {
    "name": "ipython",
    "version": 3
   },
   "file_extension": ".py",
   "mimetype": "text/x-python",
   "name": "python",
   "nbconvert_exporter": "python",
   "pygments_lexer": "ipython3",
   "version": "3.8.10"
  }
 },
 "nbformat": 4,
 "nbformat_minor": 5
}
