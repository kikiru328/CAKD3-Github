{
 "cells": [
  {
   "cell_type": "code",
   "execution_count": 1,
   "id": "af9276f9",
   "metadata": {},
   "outputs": [],
   "source": [
    "import pandas as pd\n",
    "import numpy as np\n",
    "import seaborn as sns\n",
    "import matplotlib.pyplot as plt\n",
    "%matplotlib inline"
   ]
  },
  {
   "cell_type": "code",
   "execution_count": 2,
   "id": "57eab45a",
   "metadata": {},
   "outputs": [],
   "source": [
    "plt.style.use('seaborn-dark')\n",
    "%config InlineBackend.figure_format = 'retina'\n",
    "pd.options.display.max_rows = 20\n",
    "pd.options.display.max_columns = 20"
   ]
  },
  {
   "cell_type": "markdown",
   "id": "173e07a0",
   "metadata": {},
   "source": [
    "#### Q1. index를 기준으로 3개 그룹으로 구분하여 a:평균, b:최대값, c:합계를 각각 계산하여 출력하세요."
   ]
  },
  {
   "cell_type": "code",
   "execution_count": 3,
   "id": "0b968c59",
   "metadata": {},
   "outputs": [
    {
     "data": {
      "text/html": [
       "<div>\n",
       "<style scoped>\n",
       "    .dataframe tbody tr th:only-of-type {\n",
       "        vertical-align: middle;\n",
       "    }\n",
       "\n",
       "    .dataframe tbody tr th {\n",
       "        vertical-align: top;\n",
       "    }\n",
       "\n",
       "    .dataframe thead th {\n",
       "        text-align: right;\n",
       "    }\n",
       "</style>\n",
       "<table border=\"1\" class=\"dataframe\">\n",
       "  <thead>\n",
       "    <tr style=\"text-align: right;\">\n",
       "      <th></th>\n",
       "      <th>index</th>\n",
       "      <th>a</th>\n",
       "      <th>b</th>\n",
       "      <th>c</th>\n",
       "    </tr>\n",
       "  </thead>\n",
       "  <tbody>\n",
       "    <tr>\n",
       "      <th>0</th>\n",
       "      <td>1</td>\n",
       "      <td>1</td>\n",
       "      <td>2</td>\n",
       "      <td>3</td>\n",
       "    </tr>\n",
       "    <tr>\n",
       "      <th>1</th>\n",
       "      <td>1</td>\n",
       "      <td>4</td>\n",
       "      <td>5</td>\n",
       "      <td>6</td>\n",
       "    </tr>\n",
       "    <tr>\n",
       "      <th>2</th>\n",
       "      <td>2</td>\n",
       "      <td>7</td>\n",
       "      <td>8</td>\n",
       "      <td>9</td>\n",
       "    </tr>\n",
       "    <tr>\n",
       "      <th>3</th>\n",
       "      <td>2</td>\n",
       "      <td>10</td>\n",
       "      <td>11</td>\n",
       "      <td>12</td>\n",
       "    </tr>\n",
       "    <tr>\n",
       "      <th>4</th>\n",
       "      <td>3</td>\n",
       "      <td>13</td>\n",
       "      <td>14</td>\n",
       "      <td>15</td>\n",
       "    </tr>\n",
       "    <tr>\n",
       "      <th>5</th>\n",
       "      <td>3</td>\n",
       "      <td>16</td>\n",
       "      <td>17</td>\n",
       "      <td>18</td>\n",
       "    </tr>\n",
       "    <tr>\n",
       "      <th>6</th>\n",
       "      <td>3</td>\n",
       "      <td>19</td>\n",
       "      <td>20</td>\n",
       "      <td>21</td>\n",
       "    </tr>\n",
       "  </tbody>\n",
       "</table>\n",
       "</div>"
      ],
      "text/plain": [
       "  index   a   b   c\n",
       "0     1   1   2   3\n",
       "1     1   4   5   6\n",
       "2     2   7   8   9\n",
       "3     2  10  11  12\n",
       "4     3  13  14  15\n",
       "5     3  16  17  18\n",
       "6     3  19  20  21"
      ]
     },
     "execution_count": 3,
     "metadata": {},
     "output_type": "execute_result"
    }
   ],
   "source": [
    "data = np.arange(1,22).reshape(7,3)\n",
    "df = pd.DataFrame(data,columns = list('abc'),index=list('1122333'))\n",
    "df.reset_index(inplace=True)\n",
    "df"
   ]
  },
  {
   "cell_type": "code",
   "execution_count": 4,
   "id": "eb74737d",
   "metadata": {},
   "outputs": [
    {
     "data": {
      "text/html": [
       "<div>\n",
       "<style scoped>\n",
       "    .dataframe tbody tr th:only-of-type {\n",
       "        vertical-align: middle;\n",
       "    }\n",
       "\n",
       "    .dataframe tbody tr th {\n",
       "        vertical-align: top;\n",
       "    }\n",
       "\n",
       "    .dataframe thead tr th {\n",
       "        text-align: left;\n",
       "    }\n",
       "\n",
       "    .dataframe thead tr:last-of-type th {\n",
       "        text-align: right;\n",
       "    }\n",
       "</style>\n",
       "<table border=\"1\" class=\"dataframe\">\n",
       "  <thead>\n",
       "    <tr>\n",
       "      <th></th>\n",
       "      <th>a</th>\n",
       "      <th>b</th>\n",
       "      <th>c</th>\n",
       "    </tr>\n",
       "    <tr>\n",
       "      <th></th>\n",
       "      <th>mean</th>\n",
       "      <th>max</th>\n",
       "      <th>sum</th>\n",
       "    </tr>\n",
       "    <tr>\n",
       "      <th>index</th>\n",
       "      <th></th>\n",
       "      <th></th>\n",
       "      <th></th>\n",
       "    </tr>\n",
       "  </thead>\n",
       "  <tbody>\n",
       "    <tr>\n",
       "      <th>1</th>\n",
       "      <td>2.5</td>\n",
       "      <td>5</td>\n",
       "      <td>9</td>\n",
       "    </tr>\n",
       "    <tr>\n",
       "      <th>2</th>\n",
       "      <td>8.5</td>\n",
       "      <td>11</td>\n",
       "      <td>21</td>\n",
       "    </tr>\n",
       "    <tr>\n",
       "      <th>3</th>\n",
       "      <td>16.0</td>\n",
       "      <td>20</td>\n",
       "      <td>54</td>\n",
       "    </tr>\n",
       "  </tbody>\n",
       "</table>\n",
       "</div>"
      ],
      "text/plain": [
       "          a   b   c\n",
       "       mean max sum\n",
       "index              \n",
       "1       2.5   5   9\n",
       "2       8.5  11  21\n",
       "3      16.0  20  54"
      ]
     },
     "execution_count": 4,
     "metadata": {},
     "output_type": "execute_result"
    }
   ],
   "source": [
    "df_grouped = df.groupby('index').agg({'a':['mean'],'b':['max'],'c':['sum']}) #[] -- 함수 + 열 추가이름(?)\n",
    "df_grouped"
   ]
  },
  {
   "cell_type": "markdown",
   "id": "bd9c870b",
   "metadata": {},
   "source": [
    "#### Q2. deck 열의 NaN 갯수를 계산하세요."
   ]
  },
  {
   "cell_type": "code",
   "execution_count": 5,
   "id": "9ea00971",
   "metadata": {},
   "outputs": [
    {
     "ename": "ValueError",
     "evalue": "'../Data/titanic' is not one of the example datasets.",
     "output_type": "error",
     "traceback": [
      "\u001b[1;31m---------------------------------------------------------------------------\u001b[0m",
      "\u001b[1;31mValueError\u001b[0m                                Traceback (most recent call last)",
      "\u001b[1;32m<ipython-input-5-6c8216e6922c>\u001b[0m in \u001b[0;36m<module>\u001b[1;34m\u001b[0m\n\u001b[1;32m----> 1\u001b[1;33m \u001b[0mtitanic_df\u001b[0m \u001b[1;33m=\u001b[0m \u001b[0msns\u001b[0m\u001b[1;33m.\u001b[0m\u001b[0mload_dataset\u001b[0m\u001b[1;33m(\u001b[0m\u001b[1;34m'../Data/titanic'\u001b[0m\u001b[1;33m)\u001b[0m\u001b[1;33m\u001b[0m\u001b[1;33m\u001b[0m\u001b[0m\n\u001b[0m\u001b[0;32m      2\u001b[0m \u001b[0mtitanic_df\u001b[0m\u001b[1;33m.\u001b[0m\u001b[0mhead\u001b[0m\u001b[1;33m(\u001b[0m\u001b[1;33m)\u001b[0m\u001b[1;33m\u001b[0m\u001b[1;33m\u001b[0m\u001b[0m\n",
      "\u001b[1;32mC:\\tool\\envs\\cakd3\\lib\\site-packages\\seaborn\\utils.py\u001b[0m in \u001b[0;36mload_dataset\u001b[1;34m(name, cache, data_home, **kws)\u001b[0m\n\u001b[0;32m    484\u001b[0m         \u001b[1;32mif\u001b[0m \u001b[1;32mnot\u001b[0m \u001b[0mos\u001b[0m\u001b[1;33m.\u001b[0m\u001b[0mpath\u001b[0m\u001b[1;33m.\u001b[0m\u001b[0mexists\u001b[0m\u001b[1;33m(\u001b[0m\u001b[0mcache_path\u001b[0m\u001b[1;33m)\u001b[0m\u001b[1;33m:\u001b[0m\u001b[1;33m\u001b[0m\u001b[1;33m\u001b[0m\u001b[0m\n\u001b[0;32m    485\u001b[0m             \u001b[1;32mif\u001b[0m \u001b[0mname\u001b[0m \u001b[1;32mnot\u001b[0m \u001b[1;32min\u001b[0m \u001b[0mget_dataset_names\u001b[0m\u001b[1;33m(\u001b[0m\u001b[1;33m)\u001b[0m\u001b[1;33m:\u001b[0m\u001b[1;33m\u001b[0m\u001b[1;33m\u001b[0m\u001b[0m\n\u001b[1;32m--> 486\u001b[1;33m                 \u001b[1;32mraise\u001b[0m \u001b[0mValueError\u001b[0m\u001b[1;33m(\u001b[0m\u001b[1;34mf\"'{name}' is not one of the example datasets.\"\u001b[0m\u001b[1;33m)\u001b[0m\u001b[1;33m\u001b[0m\u001b[1;33m\u001b[0m\u001b[0m\n\u001b[0m\u001b[0;32m    487\u001b[0m             \u001b[0murlretrieve\u001b[0m\u001b[1;33m(\u001b[0m\u001b[0mfull_path\u001b[0m\u001b[1;33m,\u001b[0m \u001b[0mcache_path\u001b[0m\u001b[1;33m)\u001b[0m\u001b[1;33m\u001b[0m\u001b[1;33m\u001b[0m\u001b[0m\n\u001b[0;32m    488\u001b[0m         \u001b[0mfull_path\u001b[0m \u001b[1;33m=\u001b[0m \u001b[0mcache_path\u001b[0m\u001b[1;33m\u001b[0m\u001b[1;33m\u001b[0m\u001b[0m\n",
      "\u001b[1;31mValueError\u001b[0m: '../Data/titanic' is not one of the example datasets."
     ]
    }
   ],
   "source": [
    "titanic_df = sns.load_dataset('../Data/titanic') \n",
    "titanic_df.head()"
   ]
  },
  {
   "cell_type": "code",
   "execution_count": null,
   "id": "3adf2474",
   "metadata": {},
   "outputs": [],
   "source": [
    "find_total_nan = titanic_df.isnull().sum()\n",
    "# survived         0\n",
    "# pclass           0\n",
    "# sex              0\n",
    "# age            177\n",
    "# sibsp            0\n",
    "# parch            0\n",
    "# fare             0\n",
    "# embarked         2\n",
    "# class            0\n",
    "# who              0\n",
    "# adult_male       0\n",
    "# deck           688         # deck의 nan값.\n",
    "# embark_town      2\n",
    "# alive            0\n",
    "# alone            0\n",
    "#total : 869\n",
    "find_deck_nan = titanic_df['deck'].isnull().sum()\n",
    "print(find_deck_nan)\n",
    "print()\n",
    "print(find_total_nan)"
   ]
  },
  {
   "cell_type": "markdown",
   "id": "1d8fc34c",
   "metadata": {},
   "source": [
    "#### Q3. titanic_df의 처음 5개 행에서 null 값을 찾아 출력하세요.(True, False로)"
   ]
  },
  {
   "cell_type": "code",
   "execution_count": null,
   "id": "891578ca",
   "metadata": {},
   "outputs": [],
   "source": [
    "th = titanic_df.head()\n",
    "null_TF = th.isnull()\n",
    "# print(null_TF)\n",
    "null_True = null_TF['deck'] == True\n",
    "print(null_True)"
   ]
  },
  {
   "cell_type": "markdown",
   "id": "8df70f2c",
   "metadata": {},
   "source": [
    "#### Q4. titanic_df의 각 칼럼별 null의 갯수를 for 반복문을 사용해서 구한 후 출력하세요. \n",
    "- (missing_count는 예외 처리하고 처리 방식은 0을 출력함 null 값이 없으면 0  )"
   ]
  },
  {
   "cell_type": "code",
   "execution_count": null,
   "id": "ea8ea2dd",
   "metadata": {},
   "outputs": [],
   "source": [
    "for a in titanic_df:\n",
    "    print(a, titanic_df[a].isnull().sum())"
   ]
  },
  {
   "cell_type": "markdown",
   "id": "72deef33",
   "metadata": {},
   "source": [
    "#### Q5. 'mpg'를 'kpl' 로 환산하여 새로운 열을 생성하고 \n",
    "#### 처음 3개 행을 소수점 아래 둘째 자리에서 반올림하여 출력하세요."
   ]
  },
  {
   "cell_type": "code",
   "execution_count": null,
   "id": "b2251115",
   "metadata": {},
   "outputs": [],
   "source": [
    "auto_df = pd.read_csv('../Data/auto-mpg.csv')\n",
    "auto_df.head(3)\n",
    "auto_df['kpl'] = auto_df['mpg'] * 0.425144\n",
    "auto_df.head(3)\n",
    "auto_df['kpl'] = auto_df['kpl'].round(1)\n",
    "auto_df.head(3)"
   ]
  },
  {
   "cell_type": "markdown",
   "id": "7f7c1347",
   "metadata": {},
   "source": [
    "#### Q6. titanic_df 데이터 셋을 전처리하고 탐색하여 데이터 셋에 대한 설명 및 \n",
    "#### 분석 과제를 기술하세요 (전처리 최소 5개 이상) "
   ]
  },
  {
   "cell_type": "markdown",
   "id": "7185f4bb",
   "metadata": {},
   "source": [
    "    우선 titanic_df 의 데이터는 raw_data로 새로운 df 를 만들어 활용합니다."
   ]
  },
  {
   "cell_type": "code",
   "execution_count": null,
   "id": "1a052e6a",
   "metadata": {},
   "outputs": [],
   "source": [
    "t_clean = titanic_df.copy()"
   ]
  },
  {
   "cell_type": "markdown",
   "id": "213edc6e",
   "metadata": {},
   "source": [
    "    타이타닉 데이터 셋을 보면 여러가지의 column 값 들이 있음."
   ]
  },
  {
   "cell_type": "code",
   "execution_count": null,
   "id": "d23ec60e",
   "metadata": {},
   "outputs": [],
   "source": [
    "t_clean.head()"
   ]
  },
  {
   "cell_type": "markdown",
   "id": "b7e70fe2",
   "metadata": {},
   "source": [
    "    <1> 가장 처음에 나온 survived 컬럼과 alive 컬럼을 비교해봅시다"
   ]
  },
  {
   "cell_type": "code",
   "execution_count": null,
   "id": "0152adf6",
   "metadata": {},
   "outputs": [],
   "source": [
    "t_clean[['survived','alive']].head()"
   ]
  },
  {
   "cell_type": "markdown",
   "id": "6ee662a4",
   "metadata": {},
   "source": [
    "    survived 열의 값은 0 , 1 // alive 열의 값은 no 와 yes로 구성되어 있는데,\n",
    "    이 값을 잘 보면 survived == 1 일때 alive == yes 로 \n",
    "    둘다 '살아있음'의 값을 갖습니다.\n",
    "    즉, 둘이 같은 값을 갖는 열이라는 얘기가 됩니다."
   ]
  },
  {
   "cell_type": "code",
   "execution_count": null,
   "id": "9ebe8d35",
   "metadata": {},
   "outputs": [],
   "source": [
    "#우선 nan값을 확인합니다\n",
    "print(t_clean['alive'].isnull().sum())\n",
    "print(t_clean['alive'].isnull().sum())"
   ]
  },
  {
   "cell_type": "code",
   "execution_count": null,
   "id": "73528aa9",
   "metadata": {},
   "outputs": [],
   "source": [
    "# 정말로 같은 값을 갖고 있는지 확인해봅시다. (혹시나 다르면 안되니까)\n",
    "# alive열의 값 replace('yes',1) , replace('no',0) 으로 바꿔서 같은지 확인해봅시다.\n",
    "t_clean['alive'] = t_clean['alive'].replace('yes',1).replace('no',0)\n",
    "t_clean['alive'].equals(t_clean['survived']) #euals -- 두 열이 같은지 확인하는 함수\n",
    "#따라서 t_clean['survived'] == t_clean['alive']\n",
    "#그래서 하나를 지워줍니다! 바꾼 alive를 drop"
   ]
  },
  {
   "cell_type": "code",
   "execution_count": null,
   "id": "2de683e8",
   "metadata": {},
   "outputs": [],
   "source": [
    "# alive 열을 삭제!\n",
    "t_clean.drop('alive',axis=1,inplace=True)"
   ]
  },
  {
   "cell_type": "code",
   "execution_count": null,
   "id": "db6ce340",
   "metadata": {},
   "outputs": [],
   "source": [
    "t_clean.head()"
   ]
  },
  {
   "cell_type": "markdown",
   "id": "791b0ccf",
   "metadata": {},
   "source": [
    "    <2> 다음엔 pclass를 비교해봅시다.\n",
    "    pclass는 현재 무엇인지 모르는 상태이지만 class 와 비교했을때 같은 의미의 열인지 확인이 가능합니다."
   ]
  },
  {
   "cell_type": "code",
   "execution_count": null,
   "id": "55a40db5",
   "metadata": {},
   "outputs": [],
   "source": [
    "print(t_clean['pclass'].unique())\n",
    "print(t_clean['class'].unique())\n",
    "# pclass의 int값과 class의 str 값이 의미가 동일 한 것 처럼 확인됩니다.\n",
    "# 이를 아까와 같이 문자열을 바꿔서 확인해봅시다\n",
    "print()\n",
    "\n",
    "t_clean['class'] = t_clean['class'].replace({'First':1,'Second':2,'Third':3}) #한 줄로 써보기\n",
    "\n",
    "print(t_clean['class'].equals(t_clean['pclass']))\n",
    "print()\n",
    "\n",
    "df1 = pd.DataFrame(t_clean,columns =['class','pclass'])\n",
    "df1['different'] = df1['class'] - df1['pclass']\n",
    "print(df1[['different']].head())\n",
    "print(df1[['different']].value_counts())\n",
    "\n",
    "# 이러한 방식으로도 확인이 가능합니다.\n",
    "# DF에서 두 열을 뽑았을때 (int)\n",
    "# 0이 아닌 값이 나온다면 다르다는것.\n"
   ]
  },
  {
   "cell_type": "code",
   "execution_count": null,
   "id": "9699c622",
   "metadata": {},
   "outputs": [],
   "source": [
    "# 따라서 'pclass'의 int 요소를 str의 의미로 바꾼것이 class이기 때문에\n",
    "# class를 삭제해줍니다. \n",
    "t_clean.drop('class',axis=1,inplace=True)"
   ]
  },
  {
   "cell_type": "code",
   "execution_count": null,
   "id": "48d8c414",
   "metadata": {},
   "outputs": [],
   "source": [
    "t_clean"
   ]
  },
  {
   "cell_type": "markdown",
   "id": "62f12e89",
   "metadata": {},
   "source": [
    "    <3> 다음은 sex 열을 비교해봅시다. sex열과 who 열은 male과 female로 같아보이지만, who열의 요소값을 보면 'child' 값이 포함되어 둘이 다른 값을 보여줍니다."
   ]
  },
  {
   "cell_type": "code",
   "execution_count": null,
   "id": "880593ff",
   "metadata": {},
   "outputs": [],
   "source": [
    "print(t_clean['who'].unique())\n",
    "print(t_clean['sex'].unique())\n",
    "# 따라서 'who' 열은 이후 'age' 와 'adult_male' 과 함께 비교하는 것이 조금더 옳다 생각됩니다."
   ]
  },
  {
   "cell_type": "markdown",
   "id": "4915cdd6",
   "metadata": {},
   "source": [
    "    <4> 다음은 age열 입니다.\n",
    "    우선 age열의 요소들을 확인해봅니다. (결측값)"
   ]
  },
  {
   "cell_type": "code",
   "execution_count": null,
   "id": "e7dd14cf",
   "metadata": {},
   "outputs": [],
   "source": [
    "t_clean['age'].isnull().sum()"
   ]
  },
  {
   "cell_type": "markdown",
   "id": "9380b367",
   "metadata": {},
   "source": [
    "    # 약 177개의 결측값이 있습니다.\n",
    "    age의 경우 결측값을 0 혹은 1로 지정할 수 없으니 (나이가 0/1살?)\n",
    "    age의 평균값으로 결측값을 채워줍니다."
   ]
  },
  {
   "cell_type": "code",
   "execution_count": null,
   "id": "7c000761",
   "metadata": {},
   "outputs": [],
   "source": [
    "t_clean['age']"
   ]
  },
  {
   "cell_type": "markdown",
   "id": "de19e068",
   "metadata": {},
   "source": [
    "    평균값을 결측치로 채웠을 경우에, 실수형식으로 입력됩니다.\n",
    "    따라서 나이라는 요소를 감안하여 반올림처리를 한 후에\n",
    "    실수값이 아닌 int값으로 변환해줍니다."
   ]
  },
  {
   "cell_type": "code",
   "execution_count": null,
   "id": "7c5f2876",
   "metadata": {},
   "outputs": [],
   "source": [
    "t_clean['age'] = t_clean['age'].fillna(t_clean['age'].mean().round(0))\n",
    "t_clean['age'] = t_clean['age'].astype(int)\n",
    "t_clean.head()\n",
    "\n",
    "# 깔.끔."
   ]
  },
  {
   "cell_type": "code",
   "execution_count": null,
   "id": "a99dc5e8",
   "metadata": {},
   "outputs": [],
   "source": [
    "#결측값이 없고, 잘 되었는지 확인해봅니다.\n",
    "print(t_clean['age'].isnull().sum())\n",
    "sns.histplot(x=t_clean['age'])\n"
   ]
  },
  {
   "cell_type": "markdown",
   "id": "c5f54f97",
   "metadata": {},
   "source": [
    "    <5> 다음은 sibsp 과 parch 입니다.\n",
    "    sibsp 는 sibilings/spouses 의 약자로 형제/자매 그리고 배우자를 의미합니다\n",
    "    parch 는 parents / children 의 약자로 부모/자식 을 의미합니다. \n",
    "    즉 두 열은 '가족관계'를 의미한다고 파악됩니다.\n",
    "    그렇다면 sibsp 과 parch 를 합친다면\n",
    "    \"탑승자의 가족 총 인원수\" 를 출력할 수 있습니다.\n",
    "    * 더하기전에 중요한 점은, 1인 가족도 있다는 점 입니다. \n",
    "    다른 가족관계 탑승객이 없을 시 요소값이 0 혹은 null이 되지 않도록 1을 더해줍니다"
   ]
  },
  {
   "cell_type": "code",
   "execution_count": null,
   "id": "cc1a0dc9",
   "metadata": {},
   "outputs": [],
   "source": [
    "t_clean['family'] = t_clean['sibsp'] + t_clean['parch'] + 1\n",
    "t_clean.head()"
   ]
  },
  {
   "cell_type": "markdown",
   "id": "2cdbfe62",
   "metadata": {},
   "source": [
    "    여기서 볼 수 있드시, family 의 요소값이 1일 경우엔 alone 열의 값이 True인 것을 확인 할 수 있습니다.\n",
    "    따라서 alone의 값 (True) 값은 family의 값 (1)에서 추출해 낼 수 있다고 판단이 가능합니다. \n",
    "    따라서 alone의 열을 제거합니다"
   ]
  },
  {
   "cell_type": "code",
   "execution_count": null,
   "id": "049035e2",
   "metadata": {},
   "outputs": [],
   "source": [
    "t_clean.drop('alone',axis=1,inplace=True)\n",
    "t_clean.head()"
   ]
  },
  {
   "cell_type": "markdown",
   "id": "0710e7f3",
   "metadata": {},
   "source": [
    "    다시 분석하기 앞서, 상관관계를 파악합니다"
   ]
  },
  {
   "cell_type": "code",
   "execution_count": null,
   "id": "9d535f57",
   "metadata": {},
   "outputs": [],
   "source": [
    "t_clean.corr()\n",
    "#상관관계는 int/float의 형태로 분석이 가능하기 때문에, 다른 열의 요소값들도 int/float형식으로 바꾸어줍니다."
   ]
  },
  {
   "cell_type": "markdown",
   "id": "4c3e8b26",
   "metadata": {},
   "source": [
    "    <6> 다음은 embarked 입니다. *fare는 상관계수 파악후..!\n",
    "    embarked와 가장 비슷한 embark_town을 나란히 두고 보겠습니다\n",
    "   "
   ]
  },
  {
   "cell_type": "code",
   "execution_count": null,
   "id": "c70ee35f",
   "metadata": {},
   "outputs": [],
   "source": [
    "t_clean[['embarked','embark_town']]"
   ]
  },
  {
   "cell_type": "markdown",
   "id": "31be1ff4",
   "metadata": {},
   "source": [
    "    확인해보면, embark_town의 앞글자가 embarked의 요소가 된 것 처럼 보입니다.\n",
    "    우선 결측값이 있는지 확인해보겠습니다."
   ]
  },
  {
   "cell_type": "code",
   "execution_count": null,
   "id": "743fb66e",
   "metadata": {},
   "outputs": [],
   "source": [
    "print(t_clean[['embarked','embark_town']].isnull().sum())\n",
    "# 요소값이 있는 것으로 확인됩니다."
   ]
  },
  {
   "cell_type": "code",
   "execution_count": null,
   "id": "755c5e89",
   "metadata": {},
   "outputs": [],
   "source": [
    "#embarked 와 embark_town의 요소값은 다음과 같습니다.\n",
    "print(t_clean['embarked'].unique())\n",
    "print(t_clean['embark_town'].unique())\n",
    "\n",
    "# 빈 두가지의 요소는 같은 값인 S 와 Southampton 로 임의로 지정해둡니다.\n",
    "t_clean['embarked'] = t_clean['embarked'].fillna('S')\n",
    "t_clean['embark_town'] = t_clean['embark_town'].fillna('Southampton')"
   ]
  },
  {
   "cell_type": "code",
   "execution_count": null,
   "id": "39eb05be",
   "metadata": {},
   "outputs": [],
   "source": [
    "#결측값이 모두 채워졌는지 확인합니다.\n",
    "print(t_clean[['embarked','embark_town']].isnull().sum())"
   ]
  },
  {
   "cell_type": "markdown",
   "id": "85fa6608",
   "metadata": {},
   "source": [
    "    결측값이 모두 채워진 상태에서 비교를 해보자면, \n",
    "    embark_town의 앞글자가 embarked의 요소와 동일하다는 것을 가정하에,\n",
    "    두 열이 같은지 비교합니다."
   ]
  },
  {
   "cell_type": "code",
   "execution_count": null,
   "id": "ff4e050a",
   "metadata": {},
   "outputs": [],
   "source": [
    "# 새로운 Title열을 생성해서 embark_town의 앞자리만 가져옵니다. \n",
    "# Title열과 embarked 열과 동일하다면, 가정이 맞음을 인지하고 Title과 embark_town을 삭제합니다.\n",
    "t_clean['Title'] = [x[0] for x in t_clean['embark_town']]"
   ]
  },
  {
   "cell_type": "code",
   "execution_count": null,
   "id": "8ac41209",
   "metadata": {},
   "outputs": [],
   "source": [
    "print(t_clean[['embarked','embark_town','Title']].head())\n",
    "t_clean['embarked'].equals(t_clean['Title'])\n",
    "\n",
    "# True값이 반환되었으니 embarked 요소를 int 1,2,3으로 바꾸고,\n",
    "# Title과 embark_town을 삭제합니다.\n",
    "t_clean['embarked'] = t_clean['embarked'].replace({'S':1,'C':2,'Q':3})"
   ]
  },
  {
   "cell_type": "code",
   "execution_count": null,
   "id": "636065b2",
   "metadata": {},
   "outputs": [],
   "source": [
    "t_clean.drop(['Title','embark_town'],axis=1,inplace=True)\n",
    "t_clean.head()"
   ]
  },
  {
   "cell_type": "markdown",
   "id": "ef711a30",
   "metadata": {},
   "source": [
    "    앞서 상관관계를 분석하기 위해선 모든 요소는 int/float (숫자)형식을 따라야 합니다.\n",
    "    따라서 sex,who,adult_male,deck을 int/float 형식으로 전환합니다."
   ]
  },
  {
   "cell_type": "code",
   "execution_count": null,
   "id": "c80617b6",
   "metadata": {},
   "outputs": [],
   "source": [
    "#sex의 요소값\n",
    "print(t_clean['sex'].unique())\n",
    "#요소값 변화\n",
    "t_clean['sex'] = t_clean['sex'].replace({'male':1,'female':0})"
   ]
  },
  {
   "cell_type": "code",
   "execution_count": null,
   "id": "9b5743bb",
   "metadata": {},
   "outputs": [],
   "source": [
    "#who의 요소값\n",
    "print(t_clean['who'].unique())\n",
    "#요소값 변화\n",
    "t_clean['who'] = t_clean['who'].replace({'man':1,'woman':0,'child':2})"
   ]
  },
  {
   "cell_type": "code",
   "execution_count": null,
   "id": "c4e1b07c",
   "metadata": {},
   "outputs": [],
   "source": [
    "#adult_male 요소값\n",
    "print(t_clean['adult_male'].unique())\n",
    "#요소값 변화\n",
    "t_clean['adult_male'] = t_clean['adult_male'].replace({True:1,False:0})"
   ]
  },
  {
   "cell_type": "markdown",
   "id": "0df57058",
   "metadata": {},
   "source": [
    "    deck 열은 남다르게 결측값을 많이 가지고 있습니다.\n",
    "    우선 결측값부터 확인합니다"
   ]
  },
  {
   "cell_type": "code",
   "execution_count": null,
   "id": "404f2000",
   "metadata": {},
   "outputs": [],
   "source": [
    "print(t_clean['deck'].size) #series의 length 구하는 함수\n",
    "# dataframe 의 총 행의 개수는 891.  deck의 요소도 891개.\n",
    "\n",
    "print(t_clean['deck'].isnull().sum())\n",
    "#약 688 개의 결측값을 갖습니다.\n",
    "\n",
    "print(t_clean['deck'].value_counts())\n",
    "# deck의 열을보면, A~G 까지는 deck의 의미가 있고, 688개의 결측값이 있는 것을 확인할 수 있습니다.\n",
    "# 그럼 deck의 의미는 무엇일까 짐작해보면, 객실의 종류임을 알 수 있습니다.\n",
    "# 탑승객의 688명의 사용한 객실은 알 수 없으며 타 객실의 위치는 대략 확인할 수 있습니다.\n",
    "# 따라서 688이라는 많은 수치이긴 하지만, 알수 없다는 Unknown의 약자 'U' 로 채워줍니다\n",
    "\n",
    "# 사실 891개 중 688개를 모두 임의 지정하면 통계의 의미가 없지만..\n",
    "t_clean['deck'] = t_clean['deck'].fillna('U')"
   ]
  },
  {
   "cell_type": "code",
   "execution_count": null,
   "id": "0b4e323b",
   "metadata": {},
   "outputs": [],
   "source": [
    "#결측값을 확인해봅니다.\n",
    "print(t_clean['deck'].isnull().sum())\n",
    "\n",
    "#요소값을 추출합니다.\n",
    "print(t_clean['deck'].value_counts())\n",
    "#U class가 압도적으로 많아 의미가 없어보입니다.\n",
    "\n",
    "sns.histplot(x=t_clean['deck'])"
   ]
  },
  {
   "cell_type": "code",
   "execution_count": null,
   "id": "65f68a80",
   "metadata": {
    "scrolled": true
   },
   "outputs": [],
   "source": [
    "sns.barplot(x=t_clean['deck'],y=t_clean['survived'])\n",
    "# x축을 deck, Y축을 survived\n"
   ]
  },
  {
   "cell_type": "code",
   "execution_count": null,
   "id": "9eed847b",
   "metadata": {},
   "outputs": [],
   "source": [
    "sns.barplot(x=t_clean['deck'],y=t_clean['fare'])"
   ]
  },
  {
   "cell_type": "code",
   "execution_count": null,
   "id": "8cee2718",
   "metadata": {
    "scrolled": true
   },
   "outputs": [],
   "source": [
    "sns.barplot(x=t_clean['deck'],y=t_clean['pclass'])"
   ]
  },
  {
   "cell_type": "code",
   "execution_count": null,
   "id": "3236f8a1",
   "metadata": {},
   "outputs": [],
   "source": [
    "sns.barplot(x=t_clean['pclass'],y=t_clean['survived'])"
   ]
  },
  {
   "cell_type": "markdown",
   "id": "496cbb46",
   "metadata": {},
   "source": [
    "    하지만, x축을 deck, y축을 survived로 놓았을때,\n",
    "    U class 에 있던 688명의 생존확률은 다른 deck class에 비해 떨어진다는 것을 확인 할 수 있습니다.\n",
    "    \n",
    "   \n",
    "    \n",
    "    또한 y축을 fare로 놓았을때\n",
    "    C와 B class에 있던 사람들은 더 높은 값을 지불했다고 볼 수 있습니다.\n",
    "    \n",
    "    따라서 y축을 pclass (1 - First) 로 놓았을때\n",
    "    A,B,C 는 First class로 추출됩니다.\n",
    "    \n",
    "    이를 비롯하여 해석해보면,\n",
    "    deck A,B,C는 pclass의 First, 1등석에 포함되어 있으며,\n",
    "    B와 C는 높은 fare를 지불했다고 볼 수 있습니다.\n",
    "    A는 1등석임에도 불구하고 fare가 낮고, 요소값도 적은것을 미루어보아 \n",
    "    titanic 관계자가 머무르는 곳이라고 생각됩니다.\n",
    "    \n",
    "    D,E,F는 1~2.5 pclass에 있음을 보여 A,B,C 와는 다르게\n",
    "    2등석이라고 볼 수 있습니다..만\n",
    "    D,E,F는 fare와 pclass의 반비례를 보이기 때문에,\n",
    "    2등석 내에도 차등석이 있음을 확인할 수 있습니다.\n",
    "    따라 생존 확률도 1등석과 가까운 D,E가 B,C와 같이 높고, F도 2등석인 만큼 생존확률을 보여주고 있습니다.\n",
    "    \n",
    "    G는 pclass 가 3임으로 3등석에 위치한다고 볼 수 있고,\n",
    "    이는 fare에서 가장 적은 값을 지불하고 탑승한 것으로 볼 수 있습니다. \n",
    "    따라 G deck 생존확률이 낮은것을 확인할 수 있습니다.\n",
    "    이는 U 의 대부분이 G에 속해있음을 가정할 수 있다고 봅니다..(하지만 결측값이 너무 큼 ㅜ)\n",
    "\n"
   ]
  },
  {
   "cell_type": "markdown",
   "id": "8aa19b70",
   "metadata": {},
   "source": [
    "\n",
    "    다른 열들의 요소 값들을 (True/False = 1,0) 1,2,3 으로 변환했기 때문에,\n",
    "    deck도 1,2,3으로 변환합니다.\n",
    "    위의 내용을 참고하여\n",
    "    A,B,C = 1\n",
    "    D,E,F = 2\n",
    "    G, U = 3\n",
    "    으로 변환합니다.\n",
    "    (U class의 요소값이 매우 높기 떄문에 큰 의미는 못가질 것 같습니다..만 해보는게 좋겠죠)"
   ]
  },
  {
   "cell_type": "code",
   "execution_count": null,
   "id": "bc698b7b",
   "metadata": {},
   "outputs": [],
   "source": [
    "t_clean['deck'] = t_clean['deck'].replace({'A':1,'B':1,'C':1,'D':2,'E':2,'F':2,'G':3,'U':3})\n",
    "t_clean.head()"
   ]
  },
  {
   "cell_type": "markdown",
   "id": "b8c7f974",
   "metadata": {},
   "source": [
    "    상관계수를 확인합니다"
   ]
  },
  {
   "cell_type": "code",
   "execution_count": null,
   "id": "b35198b5",
   "metadata": {},
   "outputs": [],
   "source": [
    "t_clean.corr()"
   ]
  },
  {
   "cell_type": "code",
   "execution_count": null,
   "id": "512f3b45",
   "metadata": {},
   "outputs": [],
   "source": [
    "sns.heatmap(t_clean.corr(), annot = True, cmap = 'viridis')"
   ]
  },
  {
   "cell_type": "markdown",
   "id": "daacf0ca",
   "metadata": {},
   "source": [
    "    따라서 'who' 열은 이후 'age' 와 'adult_male' 과 함께 비교하는 것이 조금더 옳다 생각됩니다.\n",
    "    라고 했지만, 상관계수 히트맵을 보면 who값은 age보단 sex열과\n",
    "    sex열은 who와 adult_male과 가장 관련이 깊다는 것을 볼 수 있습니다."
   ]
  },
  {
   "cell_type": "code",
   "execution_count": null,
   "id": "17d7daf0",
   "metadata": {},
   "outputs": [],
   "source": [
    "#여기까지.. 현재시각 03:21 졸려요"
   ]
  }
 ],
 "metadata": {
  "kernelspec": {
   "display_name": "Python 3",
   "language": "python",
   "name": "python3"
  },
  "language_info": {
   "codemirror_mode": {
    "name": "ipython",
    "version": 3
   },
   "file_extension": ".py",
   "mimetype": "text/x-python",
   "name": "python",
   "nbconvert_exporter": "python",
   "pygments_lexer": "ipython3",
   "version": "3.8.10"
  }
 },
 "nbformat": 4,
 "nbformat_minor": 5
}
