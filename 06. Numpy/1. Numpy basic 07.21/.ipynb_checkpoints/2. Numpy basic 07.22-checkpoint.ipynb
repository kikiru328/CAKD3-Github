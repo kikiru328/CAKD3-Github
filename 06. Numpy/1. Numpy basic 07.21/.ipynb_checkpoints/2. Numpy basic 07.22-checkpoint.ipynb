{
 "cells": [
  {
   "cell_type": "code",
   "execution_count": 1,
   "id": "8ada2f3a",
   "metadata": {},
   "outputs": [],
   "source": [
    "import numpy as np"
   ]
  },
  {
   "cell_type": "code",
   "execution_count": 2,
   "id": "b945f226",
   "metadata": {},
   "outputs": [],
   "source": [
    "#Boolen Indexing"
   ]
  },
  {
   "cell_type": "code",
   "execution_count": 3,
   "id": "9d6d4813",
   "metadata": {},
   "outputs": [
    {
     "name": "stdout",
     "output_type": "stream",
     "text": [
      "[1 2 3 4 5 6 7 8 9]\n",
      "[False False False False False  True  True  True  True]\n",
      "[6 7 8 9]\n"
     ]
    }
   ],
   "source": [
    "ar1 = np.arange(1,10)\n",
    "print(ar1)\n",
    "print(ar1>5)\n",
    "ar2 = ar1[ar1>5]\n",
    "print(ar2)"
   ]
  },
  {
   "cell_type": "code",
   "execution_count": 4,
   "id": "30c55cc9",
   "metadata": {},
   "outputs": [
    {
     "data": {
      "text/plain": [
       "array([6, 7, 8, 9])"
      ]
     },
     "execution_count": 4,
     "metadata": {},
     "output_type": "execute_result"
    }
   ],
   "source": [
    "indexes = np.array([5,6,7,8])\n",
    "ar3 = ar1[indexes]\n",
    "ar3"
   ]
  },
  {
   "cell_type": "markdown",
   "id": "31cb13c5",
   "metadata": {},
   "source": [
    "Q. 1~14까지 ndarray를 만들어 array_e로 저장하고 (array_e / 2) >5 를 만족하는 불린 인덱스로 출력하세요"
   ]
  },
  {
   "cell_type": "markdown",
   "id": "fac668b9",
   "metadata": {},
   "source": []
  },
  {
   "cell_type": "code",
   "execution_count": 5,
   "id": "1fb2a1ef",
   "metadata": {},
   "outputs": [
    {
     "name": "stdout",
     "output_type": "stream",
     "text": [
      "[ 1  2  3  4  5  6  7  8  9 10 11 12 13 14]\n"
     ]
    },
    {
     "data": {
      "text/plain": [
       "array([11, 12, 13, 14])"
      ]
     },
     "execution_count": 5,
     "metadata": {},
     "output_type": "execute_result"
    }
   ],
   "source": [
    "array_e = np.arange(1,15)\n",
    "print(array_e)\n",
    "find = (array_e/2) > 5\n",
    "answer = array_e[find]\n",
    "answer"
   ]
  },
  {
   "cell_type": "code",
   "execution_count": 6,
   "id": "9998b719",
   "metadata": {},
   "outputs": [
    {
     "data": {
      "text/plain": [
       "array([False, False, False, False, False, False, False, False, False,\n",
       "       False,  True,  True,  True,  True])"
      ]
     },
     "execution_count": 6,
     "metadata": {},
     "output_type": "execute_result"
    }
   ],
   "source": [
    "find"
   ]
  },
  {
   "cell_type": "code",
   "execution_count": 7,
   "id": "1d0dcb6d",
   "metadata": {},
   "outputs": [
    {
     "name": "stdout",
     "output_type": "stream",
     "text": [
      "['Bob' 'Joe' 'Will' 'Bob' 'Will' 'Joe' 'Joe'] \n",
      "\n",
      "[[-0.05150796  0.58001872  2.47531577  0.18673255]\n",
      " [-0.60387192 -0.91948971  0.7775043  -1.39836015]\n",
      " [ 1.17669963  0.08425142  0.75007856  0.58611271]\n",
      " [-1.44996199  0.41176641 -0.22894475 -0.41998396]\n",
      " [-0.58323734  2.44344973  1.04789772  0.82070602]\n",
      " [ 0.62605648 -0.16241381 -1.22581946  2.05328004]\n",
      " [-0.6658823  -1.13749698 -0.43122047 -0.80596376]]\n"
     ]
    }
   ],
   "source": [
    "names = np.array([\"Bob\",\"Joe\",\"Will\",\"Bob\",\"Will\",\"Joe\",\"Joe\"])\n",
    "data  = np.random.randn(7,4)\n",
    "print(names,'\\n')\n",
    "print(data)"
   ]
  },
  {
   "cell_type": "code",
   "execution_count": 8,
   "id": "92d2657a",
   "metadata": {},
   "outputs": [
    {
     "data": {
      "text/plain": [
       "array([ True, False, False,  True, False, False, False])"
      ]
     },
     "execution_count": 8,
     "metadata": {},
     "output_type": "execute_result"
    }
   ],
   "source": [
    "names == 'Bob'"
   ]
  },
  {
   "cell_type": "code",
   "execution_count": 9,
   "id": "803c5bab",
   "metadata": {},
   "outputs": [
    {
     "data": {
      "text/plain": [
       "array([[-0.05150796,  0.58001872,  2.47531577,  0.18673255],\n",
       "       [-1.44996199,  0.41176641, -0.22894475, -0.41998396]])"
      ]
     },
     "execution_count": 9,
     "metadata": {},
     "output_type": "execute_result"
    }
   ],
   "source": [
    "data[names=='Bob']"
   ]
  },
  {
   "cell_type": "code",
   "execution_count": 10,
   "id": "49859111",
   "metadata": {},
   "outputs": [
    {
     "data": {
      "text/plain": [
       "array([[ 2.47531577,  0.18673255],\n",
       "       [-0.22894475, -0.41998396]])"
      ]
     },
     "execution_count": 10,
     "metadata": {},
     "output_type": "execute_result"
    }
   ],
   "source": [
    "data[names =='Bob',2:]"
   ]
  },
  {
   "cell_type": "code",
   "execution_count": 11,
   "id": "dc75df2d",
   "metadata": {},
   "outputs": [
    {
     "data": {
      "text/plain": [
       "array([[-0.60387192, -0.91948971,  0.7775043 , -1.39836015],\n",
       "       [ 1.17669963,  0.08425142,  0.75007856,  0.58611271],\n",
       "       [-0.58323734,  2.44344973,  1.04789772,  0.82070602],\n",
       "       [ 0.62605648, -0.16241381, -1.22581946,  2.05328004],\n",
       "       [-0.6658823 , -1.13749698, -0.43122047, -0.80596376]])"
      ]
     },
     "execution_count": 11,
     "metadata": {},
     "output_type": "execute_result"
    }
   ],
   "source": [
    "data[names != 'Bob']"
   ]
  },
  {
   "cell_type": "code",
   "execution_count": 12,
   "id": "261020ef",
   "metadata": {},
   "outputs": [
    {
     "data": {
      "text/plain": [
       "array([[-0.05150796,  0.58001872,  2.47531577,  0.18673255],\n",
       "       [ 1.17669963,  0.08425142,  0.75007856,  0.58611271],\n",
       "       [-1.44996199,  0.41176641, -0.22894475, -0.41998396],\n",
       "       [-0.58323734,  2.44344973,  1.04789772,  0.82070602]])"
      ]
     },
     "execution_count": 12,
     "metadata": {},
     "output_type": "execute_result"
    }
   ],
   "source": [
    "mask = (names == 'Bob') | (names == 'Will')\n",
    "data[mask]"
   ]
  },
  {
   "cell_type": "code",
   "execution_count": 13,
   "id": "6a3e234e",
   "metadata": {},
   "outputs": [
    {
     "data": {
      "text/plain": [
       "array([[0.        , 0.58001872, 2.47531577, 0.18673255],\n",
       "       [0.        , 0.        , 0.7775043 , 0.        ],\n",
       "       [1.17669963, 0.08425142, 0.75007856, 0.58611271],\n",
       "       [0.        , 0.41176641, 0.        , 0.        ],\n",
       "       [0.        , 2.44344973, 1.04789772, 0.82070602],\n",
       "       [0.62605648, 0.        , 0.        , 2.05328004],\n",
       "       [0.        , 0.        , 0.        , 0.        ]])"
      ]
     },
     "execution_count": 13,
     "metadata": {},
     "output_type": "execute_result"
    }
   ],
   "source": [
    "data[data<0] = 0\n",
    "data"
   ]
  },
  {
   "cell_type": "code",
   "execution_count": 14,
   "id": "d4701f1d",
   "metadata": {},
   "outputs": [
    {
     "data": {
      "text/plain": [
       "array([[7.        , 7.        , 7.        , 7.        ],\n",
       "       [0.        , 0.        , 0.7775043 , 0.        ],\n",
       "       [7.        , 7.        , 7.        , 7.        ],\n",
       "       [7.        , 7.        , 7.        , 7.        ],\n",
       "       [7.        , 7.        , 7.        , 7.        ],\n",
       "       [0.62605648, 0.        , 0.        , 2.05328004],\n",
       "       [0.        , 0.        , 0.        , 0.        ]])"
      ]
     },
     "execution_count": 14,
     "metadata": {},
     "output_type": "execute_result"
    }
   ],
   "source": [
    "data[names != 'Joe'] = 7\n",
    "data"
   ]
  },
  {
   "cell_type": "code",
   "execution_count": 15,
   "id": "fe4da9a6",
   "metadata": {},
   "outputs": [
    {
     "data": {
      "text/plain": [
       "array([[ 0,  1,  2,  3,  4],\n",
       "       [ 5,  6,  7,  8,  9],\n",
       "       [10, 11, 12, 13, 14]])"
      ]
     },
     "execution_count": 15,
     "metadata": {},
     "output_type": "execute_result"
    }
   ],
   "source": [
    "#배열의 전치와 축 바꾸기\n",
    "ar = np.arange(15).reshape(3,5)\n",
    "ar"
   ]
  },
  {
   "cell_type": "code",
   "execution_count": 16,
   "id": "49e2f6a1",
   "metadata": {},
   "outputs": [],
   "source": [
    "ar_t = ar.T"
   ]
  },
  {
   "cell_type": "code",
   "execution_count": 17,
   "id": "0e8dd240",
   "metadata": {},
   "outputs": [
    {
     "data": {
      "text/plain": [
       "array([[ 0,  1,  2,  3,  4],\n",
       "       [ 5,  6,  7,  8,  9],\n",
       "       [10, 11, 12, 13, 14]])"
      ]
     },
     "execution_count": 17,
     "metadata": {},
     "output_type": "execute_result"
    }
   ],
   "source": [
    "ar = ar_t.T\n",
    "ar"
   ]
  },
  {
   "cell_type": "markdown",
   "id": "46af980e",
   "metadata": {},
   "source": [
    "6행 3열짜리 난수로 된"
   ]
  },
  {
   "cell_type": "code",
   "execution_count": 18,
   "id": "589b0e4c",
   "metadata": {},
   "outputs": [
    {
     "data": {
      "text/plain": [
       "array([[ 1.76405235,  0.40015721,  0.97873798],\n",
       "       [ 2.2408932 ,  1.86755799, -0.97727788],\n",
       "       [ 0.95008842, -0.15135721, -0.10321885],\n",
       "       [ 0.4105985 ,  0.14404357,  1.45427351],\n",
       "       [ 0.76103773,  0.12167502,  0.44386323],\n",
       "       [ 0.33367433,  1.49407907, -0.20515826]])"
      ]
     },
     "execution_count": 18,
     "metadata": {},
     "output_type": "execute_result"
    }
   ],
   "source": [
    "np.random.seed(0)\n",
    "ar = np.random.randn(6,3)\n",
    "ar"
   ]
  },
  {
   "cell_type": "code",
   "execution_count": 19,
   "id": "ceb4f84e",
   "metadata": {},
   "outputs": [],
   "source": [
    "ar = np.arange(1,101)"
   ]
  },
  {
   "cell_type": "code",
   "execution_count": 20,
   "id": "e01587db",
   "metadata": {},
   "outputs": [],
   "source": [
    "ans1 = ar[ar % 3 == 0]\n",
    "ans2 = ar[(ar%3 == 0) | (ar%5 ==0)]\n",
    "ans3 = ar[(ar%3 ==0) & (ar%5 == 0 )]"
   ]
  },
  {
   "cell_type": "code",
   "execution_count": 21,
   "id": "23a69cf0",
   "metadata": {},
   "outputs": [],
   "source": [
    "ar = np.random.randn(5,4)"
   ]
  },
  {
   "cell_type": "code",
   "execution_count": 22,
   "id": "1c491175",
   "metadata": {},
   "outputs": [
    {
     "data": {
      "text/plain": [
       "0.0632"
      ]
     },
     "execution_count": 22,
     "metadata": {},
     "output_type": "execute_result"
    }
   ],
   "source": [
    "#반올림\n",
    "ar.mean().round(4)"
   ]
  },
  {
   "cell_type": "code",
   "execution_count": 23,
   "id": "1fb277a7",
   "metadata": {},
   "outputs": [
    {
     "data": {
      "text/plain": [
       "1.2636"
      ]
     },
     "execution_count": 23,
     "metadata": {},
     "output_type": "execute_result"
    }
   ],
   "source": [
    "ar.sum().round(4)"
   ]
  },
  {
   "cell_type": "code",
   "execution_count": 24,
   "id": "e6a0ea7c",
   "metadata": {},
   "outputs": [
    {
     "name": "stdout",
     "output_type": "stream",
     "text": [
      "[1 2 3 4 5 6 7 8] \n",
      "\n"
     ]
    },
    {
     "data": {
      "text/plain": [
       "array([ 1,  3,  6, 10, 15, 21, 28, 36], dtype=int32)"
      ]
     },
     "execution_count": 24,
     "metadata": {},
     "output_type": "execute_result"
    }
   ],
   "source": [
    "ar = np.arange(1,9)\n",
    "print(ar,'\\n')\n",
    "ar.cumsum() #누적합계"
   ]
  },
  {
   "cell_type": "code",
   "execution_count": 25,
   "id": "7a9fa812",
   "metadata": {},
   "outputs": [
    {
     "name": "stdout",
     "output_type": "stream",
     "text": [
      "[[0 1 2]\n",
      " [3 4 5]\n",
      " [6 7 8]] \n",
      "\n"
     ]
    },
    {
     "data": {
      "text/plain": [
       "array([[ 0,  1,  3],\n",
       "       [ 3,  7, 12],\n",
       "       [ 6, 13, 21]], dtype=int32)"
      ]
     },
     "execution_count": 25,
     "metadata": {},
     "output_type": "execute_result"
    }
   ],
   "source": [
    "ar =  np.arange(9).reshape(3,3)\n",
    "print(ar,'\\n')\n",
    "ar.cumsum(axis=1)"
   ]
  },
  {
   "cell_type": "code",
   "execution_count": 26,
   "id": "1dfb62a1",
   "metadata": {},
   "outputs": [
    {
     "name": "stdout",
     "output_type": "stream",
     "text": [
      "[ 1.76405235  0.40015721  0.97873798  2.2408932   1.86755799 -0.97727788\n",
      "  0.95008842 -0.15135721 -0.10321885  0.4105985 ] \n",
      "\n"
     ]
    },
    {
     "data": {
      "text/plain": [
       "7"
      ]
     },
     "execution_count": 26,
     "metadata": {},
     "output_type": "execute_result"
    }
   ],
   "source": [
    "np.random.seed(0)\n",
    "ar = np.random.randn(10)\n",
    "print(ar,'\\n')\n",
    "(ar>0).sum()\n",
    "len(ar[ar>0])"
   ]
  },
  {
   "cell_type": "code",
   "execution_count": 27,
   "id": "aae280f9",
   "metadata": {},
   "outputs": [
    {
     "data": {
      "text/plain": [
       "True"
      ]
     },
     "execution_count": 27,
     "metadata": {},
     "output_type": "execute_result"
    }
   ],
   "source": [
    "bools = np.array([False,False,True,True])\n",
    "bools.any() # 요소 중 하나가 True인지"
   ]
  },
  {
   "cell_type": "code",
   "execution_count": 28,
   "id": "ace647ef",
   "metadata": {},
   "outputs": [
    {
     "data": {
      "text/plain": [
       "False"
      ]
     },
     "execution_count": 28,
     "metadata": {},
     "output_type": "execute_result"
    }
   ],
   "source": [
    "bools.all() # 요소 전체가 True인지"
   ]
  },
  {
   "cell_type": "code",
   "execution_count": 29,
   "id": "40443776",
   "metadata": {},
   "outputs": [
    {
     "name": "stdout",
     "output_type": "stream",
     "text": [
      "[[ 0.14404357  1.45427351  0.76103773  0.12167502]\n",
      " [ 0.44386323  0.33367433  1.49407907 -0.20515826]\n",
      " [ 0.3130677  -0.85409574 -2.55298982  0.6536186 ]\n",
      " [ 0.8644362  -0.74216502  2.26975462 -1.45436567]]\n"
     ]
    },
    {
     "data": {
      "text/plain": [
       "array([[ 2,  2,  2,  2],\n",
       "       [ 2,  2,  2, -2],\n",
       "       [ 2, -2, -2,  2],\n",
       "       [ 2, -2,  2, -2]])"
      ]
     },
     "execution_count": 29,
     "metadata": {},
     "output_type": "execute_result"
    }
   ],
   "source": [
    "#삼항식의 벡터화버전 (조건,a,b)\n",
    "ar = np.random.randn(4,4)\n",
    "print(ar)\n",
    "np.where(ar>0,2,-2) # where( 조건, 맞을때 리턴값, 아닐때 리턴값)"
   ]
  },
  {
   "cell_type": "markdown",
   "id": "d6bd71a4",
   "metadata": {},
   "source": [
    "Q. ar에서 모든 양수를 2로 바꾼 뒤 출력하세요."
   ]
  },
  {
   "cell_type": "code",
   "execution_count": 30,
   "id": "11364fe7",
   "metadata": {},
   "outputs": [
    {
     "data": {
      "text/plain": [
       "array([[ 2.        ,  2.        ,  2.        ,  2.        ],\n",
       "       [ 2.        ,  2.        ,  2.        , -0.20515826],\n",
       "       [ 2.        , -0.85409574, -2.55298982,  2.        ],\n",
       "       [ 2.        , -0.74216502,  2.        , -1.45436567]])"
      ]
     },
     "execution_count": 30,
     "metadata": {},
     "output_type": "execute_result"
    }
   ],
   "source": [
    "np.where(ar>0,2,ar) # 그대로 반환"
   ]
  },
  {
   "cell_type": "code",
   "execution_count": 31,
   "id": "02607cab",
   "metadata": {},
   "outputs": [
    {
     "name": "stdout",
     "output_type": "stream",
     "text": [
      "[ 0.04575852 -0.18718385  1.53277921  1.46935877  0.15494743] \n",
      "\n",
      "[-0.18718385  0.04575852  0.15494743  1.46935877  1.53277921]\n",
      "[ 0.04575852 -0.18718385  1.53277921  1.46935877  0.15494743]\n"
     ]
    }
   ],
   "source": [
    "#Np.sort9)\n",
    "ar = np.random.randn(5)\n",
    "print(ar,'\\n')\n",
    "print(np.sort(ar)) #만영이 되지 않는다. \n",
    "print(ar)"
   ]
  },
  {
   "cell_type": "markdown",
   "id": "ad6919ac",
   "metadata": {},
   "source": [
    "행렬이 2차원 이상일 경우 axis 축 값 설정을 통해 행, 열, 방향으로 정렬 수행"
   ]
  },
  {
   "cell_type": "code",
   "execution_count": 34,
   "id": "07c11ed8",
   "metadata": {},
   "outputs": [
    {
     "name": "stdout",
     "output_type": "stream",
     "text": [
      "[[ 7  1]\n",
      " [ 8 12]] \n",
      "\n",
      "[[ 8 12]\n",
      " [ 1  7]]\n"
     ]
    }
   ],
   "source": [
    "ar2 = np.array([[8,12],\n",
    "                [7,1]])\n",
    "sort_sr2_a0 = np.sort(ar2,axis=0)\n",
    "print(sort_sr2_a0,'\\n')\n",
    "sort_sr2_a1 = np.sort(ar2,axis=1)\n",
    "print(sort_sr2_a1)\n",
    "    "
   ]
  },
  {
   "cell_type": "code",
   "execution_count": 39,
   "id": "d075614c",
   "metadata": {},
   "outputs": [
    {
     "name": "stdout",
     "output_type": "stream",
     "text": [
      "[ 0.42833187  0.06651722  0.3024719  -0.63432209 -0.36274117 -0.67246045] \n",
      "\n",
      "[-0.67246045 -0.63432209 -0.36274117  0.06651722  0.3024719   0.42833187]\n"
     ]
    }
   ],
   "source": [
    "# ndarray.sort() : 원본 반영\n",
    "ar = np.random.randn(6)\n",
    "print(ar,'\\n')\n",
    "ar.sort()\n",
    "print(ar)"
   ]
  },
  {
   "cell_type": "code",
   "execution_count": 40,
   "id": "90361f3a",
   "metadata": {},
   "outputs": [
    {
     "name": "stdout",
     "output_type": "stream",
     "text": [
      "[[-0.35955316 -0.81314628 -1.7262826 ]\n",
      " [ 0.17742614 -0.40178094 -1.63019835]\n",
      " [ 0.46278226 -0.90729836  0.0519454 ]\n",
      " [ 0.72909056  0.12898291  1.13940068]\n",
      " [-1.23482582  0.40234164 -0.68481009]] \n",
      "\n",
      "[[-1.23482582 -0.90729836 -1.7262826 ]\n",
      " [-0.35955316 -0.81314628 -1.63019835]\n",
      " [ 0.17742614 -0.40178094 -0.68481009]\n",
      " [ 0.46278226  0.12898291  0.0519454 ]\n",
      " [ 0.72909056  0.40234164  1.13940068]]\n"
     ]
    }
   ],
   "source": [
    "ar2 = np.random.randn(5,3)\n",
    "print(ar2,'\\n')\n",
    "ar2.sort(0)\n",
    "print(ar2)"
   ]
  },
  {
   "cell_type": "code",
   "execution_count": 41,
   "id": "737e4a3f",
   "metadata": {},
   "outputs": [
    {
     "name": "stdout",
     "output_type": "stream",
     "text": [
      "[[ 1.76405235  0.40015721  0.97873798]\n",
      " [ 2.2408932   1.86755799 -0.97727788]\n",
      " [ 0.95008842 -0.15135721 -0.10321885]\n",
      " [ 0.4105985   0.14404357  1.45427351]\n",
      " [ 0.76103773  0.12167502  0.44386323]]\n",
      "[[ 0.40015721  0.97873798  1.76405235]\n",
      " [-0.97727788  1.86755799  2.2408932 ]\n",
      " [-0.15135721 -0.10321885  0.95008842]\n",
      " [ 0.14404357  0.4105985   1.45427351]\n",
      " [ 0.12167502  0.44386323  0.76103773]]\n",
      "[[ 0.40015721  0.97873798  1.76405235]\n",
      " [-0.97727788  1.86755799  2.2408932 ]\n",
      " [-0.15135721 -0.10321885  0.95008842]\n",
      " [ 0.14404357  0.4105985   1.45427351]\n",
      " [ 0.12167502  0.44386323  0.76103773]]\n"
     ]
    }
   ],
   "source": [
    "np.random.seed(0)\n",
    "ar2 = np.random.randn(5,3)\n",
    "print(ar2)\n",
    "ar2.sort(-1)\n",
    "print(ar2)\n",
    "ar2.sort()\n",
    "print(ar2)"
   ]
  },
  {
   "cell_type": "code",
   "execution_count": 46,
   "id": "96b4f027",
   "metadata": {},
   "outputs": [
    {
     "data": {
      "text/plain": [
       "array([1, 2, 3])"
      ]
     },
     "execution_count": 46,
     "metadata": {},
     "output_type": "execute_result"
    }
   ],
   "source": [
    "ar = np.array([3,3,2,2,1,1])\n",
    "np.unique(ar)"
   ]
  },
  {
   "cell_type": "code",
   "execution_count": 47,
   "id": "b00b2708",
   "metadata": {},
   "outputs": [
    {
     "data": {
      "text/plain": [
       "array([ True, False, False,  True,  True, False,  True])"
      ]
     },
     "execution_count": 47,
     "metadata": {},
     "output_type": "execute_result"
    }
   ],
   "source": [
    "values = np.array([6,0,0,3,2,5,6])\n",
    "np.in1d(values,[2,3,6]) #numpy in 1 dimension"
   ]
  },
  {
   "cell_type": "code",
   "execution_count": 49,
   "id": "e67465cc",
   "metadata": {},
   "outputs": [
    {
     "data": {
      "text/plain": [
       "array([0, 1, 2, 3, 4, 5, 6, 7, 8, 9])"
      ]
     },
     "execution_count": 49,
     "metadata": {},
     "output_type": "execute_result"
    }
   ],
   "source": [
    "# 배열 데이터의 입출력 : np.save, np.load.npy 형식\n",
    "arr = np.arange(10)\n",
    "np.save('../Data/some_array',arr)\n",
    "np.load('../Data/some_array.npy')"
   ]
  },
  {
   "cell_type": "markdown",
   "id": "a761a35a",
   "metadata": {},
   "source": [
    "<img src = '../Data/내적.jpg' STYLE = 'width:1500px;'>\n",
    "\n",
    "벡터 a를 벡터 b와 같은 방향의 성분과 그렇지 않은 성분으로 분해한다고 할 때 $|a|cosθ$의 길이는 벡터 b와 같은 방향의 성분 길이와 같다.  \n",
    "\n",
    "벡터 a와 b의 내적은 벡터 b의 길이와 벡터 a에서 벡터 b와 같은 방향의 성분 길이를 곱한 것이다.\n",
    "\n",
    "- 행렬 내적은 행렬 곱이며 두 행렬 A와 B의 내적은 np.dot()을 이용해 계산이 가능\n",
    "- 행렬 내적의 특성으로 왼쪽 행렬의 열개수와 오른쪽 행렬의 행개수가 동일해야 내적 연산 가능\n"
   ]
  },
  {
   "cell_type": "code",
   "execution_count": 53,
   "id": "e5f5318b",
   "metadata": {},
   "outputs": [
    {
     "name": "stdout",
     "output_type": "stream",
     "text": [
      "[[1 2 3]\n",
      " [4 5 6]]\n",
      "[[ 6. 23.]\n",
      " [-1.  7.]\n",
      " [ 8.  9.]]\n"
     ]
    },
    {
     "data": {
      "text/plain": [
       "array([[ 28.,  64.],\n",
       "       [ 67., 181.]])"
      ]
     },
     "execution_count": 53,
     "metadata": {},
     "output_type": "execute_result"
    }
   ],
   "source": [
    "# 행렬 곱 : dot 함수. x.dot(y) , np.dot(x,y)\n",
    "x = np.arange(1,7).reshape(2,3)\n",
    "y = np.array([[6.,23],[-1,7],[8,9]])\n",
    "print(x)\n",
    "print(y)\n",
    "np.dot(x,y)"
   ]
  },
  {
   "cell_type": "markdown",
   "id": "dc4d4726",
   "metadata": {},
   "source": [
    "<img src = '../Data/행렬곱.jpg' STYLE = 'width:500px;'>"
   ]
  },
  {
   "cell_type": "code",
   "execution_count": 58,
   "id": "24115ec5",
   "metadata": {},
   "outputs": [
    {
     "name": "stdout",
     "output_type": "stream",
     "text": [
      "[[1 2 1]\n",
      " [2 2 3]\n",
      " [1 3 1]]\n",
      "[[ 7. -1. -4.]\n",
      " [-1.  0.  1.]\n",
      " [-4.  1.  2.]]\n"
     ]
    }
   ],
   "source": [
    "#역행렬: 어떤 행렬 a와 곱했을 때 곱셈에 대한 항등원인 단위행렬 E가 나오는 행렬.\n",
    "#이떄의 행렬을 행렬 a의 역행렬이라 함. np.linalg.inv()\n",
    "np.random.seed(0)\n",
    "mt1 = np.random.randint(1,4,size=(3,3))\n",
    "print(mt1)\n",
    "mt2 = np.linalg.inv(mt1)\n",
    "print(mt2)"
   ]
  },
  {
   "cell_type": "code",
   "execution_count": 59,
   "id": "83f3858f",
   "metadata": {},
   "outputs": [],
   "source": [
    "mta = mt1.dot(mt2)"
   ]
  },
  {
   "cell_type": "code",
   "execution_count": 60,
   "id": "3f9d417c",
   "metadata": {},
   "outputs": [
    {
     "data": {
      "text/plain": [
       "array([[1., 0., 0.],\n",
       "       [0., 1., 0.],\n",
       "       [0., 0., 1.]])"
      ]
     },
     "execution_count": 60,
     "metadata": {},
     "output_type": "execute_result"
    }
   ],
   "source": [
    "mta"
   ]
  },
  {
   "cell_type": "markdown",
   "id": "f1c167fb",
   "metadata": {},
   "source": [
    "Q. 아래 두행렬을 np.arange, reshape 를 이용해서 생성 \n",
    "- 각각  a1, b1 으로 저장하고 행렬 내적을 계산한 결과를 출력하세요."
   ]
  },
  {
   "cell_type": "code",
   "execution_count": 66,
   "id": "e1339d0c",
   "metadata": {},
   "outputs": [
    {
     "name": "stdout",
     "output_type": "stream",
     "text": [
      "[[ 76  82]\n",
      " [184 199]]\n"
     ]
    }
   ],
   "source": [
    "ar1 = np.arange(1,7).reshape(2,3)\n",
    "ar2 = np.arange(10,16).reshape(3,2)\n",
    "A12 = np.dot(ar1,ar2)\n",
    "print(A12)"
   ]
  },
  {
   "cell_type": "code",
   "execution_count": null,
   "id": "4e8f2db1",
   "metadata": {},
   "outputs": [],
   "source": []
  }
 ],
 "metadata": {
  "kernelspec": {
   "display_name": "Python 3",
   "language": "python",
   "name": "python3"
  },
  "language_info": {
   "codemirror_mode": {
    "name": "ipython",
    "version": 3
   },
   "file_extension": ".py",
   "mimetype": "text/x-python",
   "name": "python",
   "nbconvert_exporter": "python",
   "pygments_lexer": "ipython3",
   "version": "3.8.10"
  }
 },
 "nbformat": 4,
 "nbformat_minor": 5
}
