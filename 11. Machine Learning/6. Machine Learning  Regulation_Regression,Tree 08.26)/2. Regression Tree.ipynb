{
 "cells": [
  {
   "cell_type": "markdown",
   "id": "def5e0cb-c645-4da9-b321-b789b57b7f78",
   "metadata": {},
   "source": [
    "# 회귀 트리\n",
    "- 회귀 함수를 기반으로 하지 않고 결정 트리과 같이 트리를 기반으로 하는 회귀 방식\n",
    "- 회귀를 위한 트리를 생성하고 이를 기반으로 회귀 예측\n",
    "- 리프 노드에서 예측 결정 값을 만드는 과정에서 분류 트리가 특정 클래스 레이브를 결정하는 것과 달리 회귀 트리는 리프노드에 속한 데이터 값의 평균값을 구해 회귀 예측값을 계산\n",
    "- 결정트리, 랜덤 포레스트 , GBM, XGBOOST, LIGHTGBM등 트리 기반의 알고리즘은 분류뿐만 아니라 회귀도 가능한데 트리 생성이 CART(Classification And Regression Trees)에 기반하고 있기 때문이며 CART는 분류 뿐만 아니라 회귀도 가능하게 해주는 트리 생성 알고리즘이다."
   ]
  },
  {
   "cell_type": "markdown",
   "id": "acdc5e77-c118-4093-a68f-2e481a776611",
   "metadata": {},
   "source": [
    "#### EX"
   ]
  },
  {
   "cell_type": "markdown",
   "id": "83a67a91-31b9-418c-9886-176c671e6d61",
   "metadata": {},
   "source": [
    "##### module import"
   ]
  },
  {
   "cell_type": "code",
   "execution_count": 15,
   "id": "6b248ebb-9a61-4d00-880d-0d9bd9c983e9",
   "metadata": {},
   "outputs": [],
   "source": [
    "from sklearn.datasets import load_boston\n",
    "from sklearn.model_selection import cross_val_score\n",
    "from sklearn.ensemble import GradientBoostingRegressor\n",
    "from sklearn.tree import DecisionTreeRegressor\n",
    "from sklearn.ensemble import RandomForestRegressor\n",
    "from xgboost import XGBRegressor\n",
    "from lightgbm import LGBMRegressor\n",
    "import pandas as pd\n",
    "import numpy as np"
   ]
  },
  {
   "cell_type": "markdown",
   "id": "a20423f2-5762-49c2-8473-630d58a67c67",
   "metadata": {},
   "source": [
    "###### load_dataset"
   ]
  },
  {
   "cell_type": "code",
   "execution_count": 2,
   "id": "b5bc0fe9-4852-4e55-9a8f-4e30d51f45a0",
   "metadata": {},
   "outputs": [
    {
     "data": {
      "text/html": [
       "<div>\n",
       "<style scoped>\n",
       "    .dataframe tbody tr th:only-of-type {\n",
       "        vertical-align: middle;\n",
       "    }\n",
       "\n",
       "    .dataframe tbody tr th {\n",
       "        vertical-align: top;\n",
       "    }\n",
       "\n",
       "    .dataframe thead th {\n",
       "        text-align: right;\n",
       "    }\n",
       "</style>\n",
       "<table border=\"1\" class=\"dataframe\">\n",
       "  <thead>\n",
       "    <tr style=\"text-align: right;\">\n",
       "      <th></th>\n",
       "      <th>CRIM</th>\n",
       "      <th>ZN</th>\n",
       "      <th>INDUS</th>\n",
       "      <th>CHAS</th>\n",
       "      <th>NOX</th>\n",
       "      <th>RM</th>\n",
       "      <th>AGE</th>\n",
       "      <th>DIS</th>\n",
       "      <th>RAD</th>\n",
       "      <th>TAX</th>\n",
       "      <th>PTRATIO</th>\n",
       "      <th>B</th>\n",
       "      <th>LSTAT</th>\n",
       "      <th>Price</th>\n",
       "    </tr>\n",
       "  </thead>\n",
       "  <tbody>\n",
       "    <tr>\n",
       "      <th>0</th>\n",
       "      <td>0.00632</td>\n",
       "      <td>18.0</td>\n",
       "      <td>2.31</td>\n",
       "      <td>0.0</td>\n",
       "      <td>0.538</td>\n",
       "      <td>6.575</td>\n",
       "      <td>65.2</td>\n",
       "      <td>4.0900</td>\n",
       "      <td>1.0</td>\n",
       "      <td>296.0</td>\n",
       "      <td>15.3</td>\n",
       "      <td>396.90</td>\n",
       "      <td>4.98</td>\n",
       "      <td>24.0</td>\n",
       "    </tr>\n",
       "    <tr>\n",
       "      <th>1</th>\n",
       "      <td>0.02731</td>\n",
       "      <td>0.0</td>\n",
       "      <td>7.07</td>\n",
       "      <td>0.0</td>\n",
       "      <td>0.469</td>\n",
       "      <td>6.421</td>\n",
       "      <td>78.9</td>\n",
       "      <td>4.9671</td>\n",
       "      <td>2.0</td>\n",
       "      <td>242.0</td>\n",
       "      <td>17.8</td>\n",
       "      <td>396.90</td>\n",
       "      <td>9.14</td>\n",
       "      <td>21.6</td>\n",
       "    </tr>\n",
       "    <tr>\n",
       "      <th>2</th>\n",
       "      <td>0.02729</td>\n",
       "      <td>0.0</td>\n",
       "      <td>7.07</td>\n",
       "      <td>0.0</td>\n",
       "      <td>0.469</td>\n",
       "      <td>7.185</td>\n",
       "      <td>61.1</td>\n",
       "      <td>4.9671</td>\n",
       "      <td>2.0</td>\n",
       "      <td>242.0</td>\n",
       "      <td>17.8</td>\n",
       "      <td>392.83</td>\n",
       "      <td>4.03</td>\n",
       "      <td>34.7</td>\n",
       "    </tr>\n",
       "    <tr>\n",
       "      <th>3</th>\n",
       "      <td>0.03237</td>\n",
       "      <td>0.0</td>\n",
       "      <td>2.18</td>\n",
       "      <td>0.0</td>\n",
       "      <td>0.458</td>\n",
       "      <td>6.998</td>\n",
       "      <td>45.8</td>\n",
       "      <td>6.0622</td>\n",
       "      <td>3.0</td>\n",
       "      <td>222.0</td>\n",
       "      <td>18.7</td>\n",
       "      <td>394.63</td>\n",
       "      <td>2.94</td>\n",
       "      <td>33.4</td>\n",
       "    </tr>\n",
       "    <tr>\n",
       "      <th>4</th>\n",
       "      <td>0.06905</td>\n",
       "      <td>0.0</td>\n",
       "      <td>2.18</td>\n",
       "      <td>0.0</td>\n",
       "      <td>0.458</td>\n",
       "      <td>7.147</td>\n",
       "      <td>54.2</td>\n",
       "      <td>6.0622</td>\n",
       "      <td>3.0</td>\n",
       "      <td>222.0</td>\n",
       "      <td>18.7</td>\n",
       "      <td>396.90</td>\n",
       "      <td>5.33</td>\n",
       "      <td>36.2</td>\n",
       "    </tr>\n",
       "  </tbody>\n",
       "</table>\n",
       "</div>"
      ],
      "text/plain": [
       "      CRIM    ZN  INDUS  CHAS    NOX     RM   AGE     DIS  RAD    TAX  \\\n",
       "0  0.00632  18.0   2.31   0.0  0.538  6.575  65.2  4.0900  1.0  296.0   \n",
       "1  0.02731   0.0   7.07   0.0  0.469  6.421  78.9  4.9671  2.0  242.0   \n",
       "2  0.02729   0.0   7.07   0.0  0.469  7.185  61.1  4.9671  2.0  242.0   \n",
       "3  0.03237   0.0   2.18   0.0  0.458  6.998  45.8  6.0622  3.0  222.0   \n",
       "4  0.06905   0.0   2.18   0.0  0.458  7.147  54.2  6.0622  3.0  222.0   \n",
       "\n",
       "   PTRATIO       B  LSTAT  Price  \n",
       "0     15.3  396.90   4.98   24.0  \n",
       "1     17.8  396.90   9.14   21.6  \n",
       "2     17.8  392.83   4.03   34.7  \n",
       "3     18.7  394.63   2.94   33.4  \n",
       "4     18.7  396.90   5.33   36.2  "
      ]
     },
     "execution_count": 2,
     "metadata": {},
     "output_type": "execute_result"
    }
   ],
   "source": [
    "boston = load_boston()\n",
    "boston_df = pd.DataFrame(boston.data, columns = boston.feature_names)\n",
    "boston_df['Price'] = boston.target\n",
    "boston_df.head()"
   ]
  },
  {
   "cell_type": "code",
   "execution_count": 3,
   "id": "3d2bd720-7b4f-4620-bf8b-873ed40df1a8",
   "metadata": {},
   "outputs": [],
   "source": [
    "# seperate\n",
    "y = boston_df.Price\n",
    "X = boston_df.iloc[:,:-1]"
   ]
  },
  {
   "cell_type": "code",
   "execution_count": 10,
   "id": "33cf278d-4ab6-47de-adf8-1c68010a4b62",
   "metadata": {},
   "outputs": [],
   "source": [
    "# model\n",
    "rf = RandomForestRegressor(random_state=1, n_estimators=1000)"
   ]
  },
  {
   "cell_type": "code",
   "execution_count": 11,
   "id": "936c127d-e1ad-4983-95dc-71f6226ec4ae",
   "metadata": {},
   "outputs": [
    {
     "name": "stdout",
     "output_type": "stream",
     "text": [
      "5 folds independent Negative MSE scores: [ -8.09 -13.41 -21.32 -46.42 -18.84]\n",
      "5 folds in denpendent RMSE scores: [2.84 3.66 4.62 6.81 4.34]\n",
      "5 folds Mean RMSE: 4.456\n"
     ]
    }
   ],
   "source": [
    "# validation\n",
    "neg_mean_score = cross_val_score(rf,X,y,scoring='neg_mean_squared_error',cv=5)\n",
    "rmse_score = np.sqrt(-1*neg_mean_score)\n",
    "avg_rmse = np.mean(rmse_score)\n",
    "print('5 folds independent Negative MSE scores:', np.round(neg_mean_score,2))\n",
    "print('5 folds in denpendent RMSE scores:', np.round(rmse_score,2))\n",
    "print('5 folds Mean RMSE: {:.3f}'.format(avg_rmse))"
   ]
  },
  {
   "cell_type": "markdown",
   "id": "84ea08cb-42df-4fa3-8b76-0c0ffe7cd6c4",
   "metadata": {},
   "source": [
    "- dt max_depth = 4\n",
    "- rf n_estimators = 1000\n",
    "- gb n_estimators = 1000\n",
    "- xgb n_estimators = 1000\n",
    "- lgb n_estimators = 1000"
   ]
  },
  {
   "cell_type": "code",
   "execution_count": 48,
   "id": "750bc050-6b88-443e-851d-de10ec43d441",
   "metadata": {},
   "outputs": [],
   "source": [
    "dt = DecisionTreeRegressor(max_depth=4)\n",
    "rf = RandomForestRegressor(n_estimators=1000)\n",
    "gb = GradientBoostingRegressor(n_estimators=1000)\n",
    "xgb = XGBRegressor(n_estimators=1000,validate_parameters=True)\n",
    "lgb = LGBMRegressor(n_estimators=1000)\n"
   ]
  },
  {
   "cell_type": "code",
   "execution_count": 49,
   "id": "d772e3df-f313-4b91-8dc8-5a9c26c81b14",
   "metadata": {},
   "outputs": [],
   "source": [
    "# Cross_val_score\n",
    "def Cross_val_score_eval(model_name,X,y,n_cv):\n",
    "    neg_mse_score = cross_val_score(model_name,X,y,scoring=\"neg_mean_squared_error\",cv=n_cv)\n",
    "    rmse_score = np.sqrt(-1*neg_mse_score)\n",
    "    avg_rmse=np.mean(rmse_score)\n",
    "    print('[model]:',model_name,'\\n')\n",
    "    print('5 folds independent Negative MSE scores:', np.round(neg_mse_score,2))\n",
    "    print('5 folds in denpendent RMSE scores:', np.round(rmse_score,2))\n",
    "    print('5 folds Mean RMSE: {:.3f}'.format(avg_rmse))\n",
    "    print('---' * 30)"
   ]
  },
  {
   "cell_type": "code",
   "execution_count": 50,
   "id": "7428397a-7062-47a9-a3c5-2aa134127fbd",
   "metadata": {},
   "outputs": [
    {
     "name": "stdout",
     "output_type": "stream",
     "text": [
      "[model]: DecisionTreeRegressor(max_depth=4) \n",
      "\n",
      "5 folds independent Negative MSE scores: [-11.94 -36.98 -33.48 -46.05 -58.12]\n",
      "5 folds in denpendent RMSE scores: [3.46 6.08 5.79 6.79 7.62]\n",
      "5 folds Mean RMSE: 5.947\n",
      "------------------------------------------------------------------------------------------\n",
      "[model]: RandomForestRegressor(n_estimators=1000) \n",
      "\n",
      "5 folds independent Negative MSE scores: [ -8.12 -13.25 -21.36 -46.24 -19.16]\n",
      "5 folds in denpendent RMSE scores: [2.85 3.64 4.62 6.8  4.38]\n",
      "5 folds Mean RMSE: 4.458\n",
      "------------------------------------------------------------------------------------------\n",
      "[model]: GradientBoostingRegressor(n_estimators=1000) \n",
      "\n",
      "5 folds independent Negative MSE scores: [ -7.47 -14.95 -18.76 -39.24 -15.51]\n",
      "5 folds in denpendent RMSE scores: [2.73 3.87 4.33 6.26 3.94]\n",
      "5 folds Mean RMSE: 4.227\n",
      "------------------------------------------------------------------------------------------\n",
      "[model]: XGBRegressor(base_score=None, booster=None, colsample_bylevel=None,\n",
      "             colsample_bynode=None, colsample_bytree=None, gamma=None,\n",
      "             gpu_id=None, importance_type='gain', interaction_constraints=None,\n",
      "             learning_rate=None, max_delta_step=None, max_depth=None,\n",
      "             min_child_weight=None, missing=nan, monotone_constraints=None,\n",
      "             n_estimators=1000, n_jobs=None, num_parallel_tree=None,\n",
      "             random_state=None, reg_alpha=None, reg_lambda=None,\n",
      "             scale_pos_weight=None, subsample=None, tree_method=None,\n",
      "             validate_parameters=True, verbosity=None) \n",
      "\n",
      "5 folds independent Negative MSE scores: [ -9.17 -13.74 -13.95 -41.76 -18.69]\n",
      "5 folds in denpendent RMSE scores: [3.03 3.71 3.73 6.46 4.32]\n",
      "5 folds Mean RMSE: 4.251\n",
      "------------------------------------------------------------------------------------------\n",
      "[model]: LGBMRegressor(n_estimators=1000) \n",
      "\n",
      "5 folds independent Negative MSE scores: [ -8.96 -18.58 -17.05 -43.71 -26.92]\n",
      "5 folds in denpendent RMSE scores: [2.99 4.31 4.13 6.61 5.19]\n",
      "5 folds Mean RMSE: 4.646\n",
      "------------------------------------------------------------------------------------------\n"
     ]
    }
   ],
   "source": [
    "Cross_val_score_eval(dt,X,y,5)\n",
    "Cross_val_score_eval(rf,X,y,5)\n",
    "Cross_val_score_eval(gb,X,y,5)\n",
    "Cross_val_score_eval(xgb,X,y,5)\n",
    "Cross_val_score_eval(lgb,X,y,5)"
   ]
  },
  {
   "cell_type": "code",
   "execution_count": null,
   "id": "39b940a1-32d8-4243-8079-6b8cc1ff80f6",
   "metadata": {},
   "outputs": [],
   "source": [
    "# basic module\n",
    "import numpy as np\n",
    "import pandas as pd\n",
    "import matplotlib.pyplot as plt\n",
    "import seaborn as sns\n",
    "\n",
    "# sepearte module\n",
    "from sklearn.model_selection import train_test_split\n",
    "\n",
    "# machine Learning modules (Regression)\n",
    "from sklearn.linear_model import LinearRegression\n",
    "from sklearn.linear_model import LogisticRegression\n",
    "from sklearn.linear_model import Ridge\n",
    "from sklearn.linear_model import Lasso\n",
    "from sklearn.linear_model import ElasticNet\n",
    "\n",
    "# machine Learning modules (Regression-trees)\n",
    "from sklearn.tree import DecisionTreeRegressor\n",
    "from sklearn.ensemble import RandomForestRegressor\n",
    "from sklearn.ensemble import GradientBoostingRegressor\n",
    "from xgboost import XGBRegressor\n",
    "from lightgbm import LGBMRegressor"
   ]
  }
 ],
 "metadata": {
  "kernelspec": {
   "display_name": "Python 3",
   "language": "python",
   "name": "python3"
  },
  "language_info": {
   "codemirror_mode": {
    "name": "ipython",
    "version": 3
   },
   "file_extension": ".py",
   "mimetype": "text/x-python",
   "name": "python",
   "nbconvert_exporter": "python",
   "pygments_lexer": "ipython3",
   "version": "3.8.11"
  },
  "widgets": {
   "application/vnd.jupyter.widget-state+json": {
    "state": {},
    "version_major": 2,
    "version_minor": 0
   }
  }
 },
 "nbformat": 4,
 "nbformat_minor": 5
}
