{
 "cells": [
  {
   "cell_type": "markdown",
   "id": "721ba8b1-f2de-4092-9600-7f33c2770b28",
   "metadata": {},
   "source": [
    "# [과제]\n",
    "'dataset/Online_Retail.xlsx' 데이터셋을 불러와서 고객 세그먼테이션을 위한 군집분석을 아래와 같이 수행하세요.\n",
    "- 전처리 후 실루엣 스코어를 이용하여 평가 및 시각화\n",
    "- 의미없는 데이터 삭제\n",
    "- country가 영국인 경우만 선택\n",
    "- RFM 기반 데이터 가공\n",
    "    - 고객 분류는 고객의 어떤 요소를 기반으로 군집화할 것인가를 결정하는 것이 중요하며,\n",
    "        Recency(R), Frequency(F), Monetary Value(M)을 의미하는 RFM 기법이 있다.\n",
    "        - Recency : 가장 최근 상품 구입일에서 오늘까지의 기간\\\n",
    "        - Frequency : 상품 구매 횟수\n",
    "        - Monetary Value : 총 구매 금액\n",
    "    - 군집 개수는 3\n",
    "    - 여러개의 클러스터링 갯수(2,3,4,5)를 List로 입력 받아 각각의 실루엣 계수를 면적으로 시각화한 함수 작성.\n",
    "    - 데이터 분포의 왜곡을 해결하기 위한 로그 변환 후 평가 및 시각화"
   ]
  },
  {
   "cell_type": "markdown",
   "id": "52bdb9e5-92e1-40a2-93fc-b8263bfec69f",
   "metadata": {},
   "source": [
    "###### module import"
   ]
  },
  {
   "cell_type": "code",
   "execution_count": 53,
   "id": "ac4b9ef8-cc02-4f6d-b3e8-f61ea5368112",
   "metadata": {},
   "outputs": [],
   "source": [
    "# basic module\n",
    "import pandas as pd\n",
    "import numpy as np\n",
    "import seaborn as sns\n",
    "import matplotlib.pyplot as plt\n",
    "%matplotlib inline\n",
    "import datetime as dt\n",
    "\n",
    "# scale module\n",
    "from sklearn.preprocessing import StandardScaler\n",
    "\n",
    "# cluster module\n",
    "from sklearn.cluster import KMeans\n",
    "\n",
    "# silhouette evaluation module\n",
    "from sklearn.metrics import silhouette_score\n",
    "from sklearn.metrics import silhouette_samples\n",
    "\n",
    "# visualize module\n",
    "from sklearn.datasets import make_blobs\n",
    "import matplotlib.pyplot as plt\n",
    "import matplotlib.cm as cm\n",
    "import math"
   ]
  },
  {
   "cell_type": "markdown",
   "id": "43e3be8a-a3fc-4e3f-bfb8-d98f3922cb92",
   "metadata": {},
   "source": [
    "## Data Load"
   ]
  },
  {
   "cell_type": "code",
   "execution_count": 2,
   "id": "13cb4e14-ecd1-404b-b99e-be776deb6349",
   "metadata": {},
   "outputs": [
    {
     "data": {
      "text/html": [
       "<div>\n",
       "<style scoped>\n",
       "    .dataframe tbody tr th:only-of-type {\n",
       "        vertical-align: middle;\n",
       "    }\n",
       "\n",
       "    .dataframe tbody tr th {\n",
       "        vertical-align: top;\n",
       "    }\n",
       "\n",
       "    .dataframe thead th {\n",
       "        text-align: right;\n",
       "    }\n",
       "</style>\n",
       "<table border=\"1\" class=\"dataframe\">\n",
       "  <thead>\n",
       "    <tr style=\"text-align: right;\">\n",
       "      <th></th>\n",
       "      <th>InvoiceNo</th>\n",
       "      <th>StockCode</th>\n",
       "      <th>Description</th>\n",
       "      <th>Quantity</th>\n",
       "      <th>InvoiceDate</th>\n",
       "      <th>UnitPrice</th>\n",
       "      <th>CustomerID</th>\n",
       "      <th>Country</th>\n",
       "    </tr>\n",
       "  </thead>\n",
       "  <tbody>\n",
       "    <tr>\n",
       "      <th>0</th>\n",
       "      <td>536365</td>\n",
       "      <td>85123A</td>\n",
       "      <td>WHITE HANGING HEART T-LIGHT HOLDER</td>\n",
       "      <td>6</td>\n",
       "      <td>2010-12-01 08:26:00</td>\n",
       "      <td>2.55</td>\n",
       "      <td>17850.0</td>\n",
       "      <td>United Kingdom</td>\n",
       "    </tr>\n",
       "    <tr>\n",
       "      <th>1</th>\n",
       "      <td>536365</td>\n",
       "      <td>71053</td>\n",
       "      <td>WHITE METAL LANTERN</td>\n",
       "      <td>6</td>\n",
       "      <td>2010-12-01 08:26:00</td>\n",
       "      <td>3.39</td>\n",
       "      <td>17850.0</td>\n",
       "      <td>United Kingdom</td>\n",
       "    </tr>\n",
       "    <tr>\n",
       "      <th>2</th>\n",
       "      <td>536365</td>\n",
       "      <td>84406B</td>\n",
       "      <td>CREAM CUPID HEARTS COAT HANGER</td>\n",
       "      <td>8</td>\n",
       "      <td>2010-12-01 08:26:00</td>\n",
       "      <td>2.75</td>\n",
       "      <td>17850.0</td>\n",
       "      <td>United Kingdom</td>\n",
       "    </tr>\n",
       "    <tr>\n",
       "      <th>3</th>\n",
       "      <td>536365</td>\n",
       "      <td>84029G</td>\n",
       "      <td>KNITTED UNION FLAG HOT WATER BOTTLE</td>\n",
       "      <td>6</td>\n",
       "      <td>2010-12-01 08:26:00</td>\n",
       "      <td>3.39</td>\n",
       "      <td>17850.0</td>\n",
       "      <td>United Kingdom</td>\n",
       "    </tr>\n",
       "    <tr>\n",
       "      <th>4</th>\n",
       "      <td>536365</td>\n",
       "      <td>84029E</td>\n",
       "      <td>RED WOOLLY HOTTIE WHITE HEART.</td>\n",
       "      <td>6</td>\n",
       "      <td>2010-12-01 08:26:00</td>\n",
       "      <td>3.39</td>\n",
       "      <td>17850.0</td>\n",
       "      <td>United Kingdom</td>\n",
       "    </tr>\n",
       "  </tbody>\n",
       "</table>\n",
       "</div>"
      ],
      "text/plain": [
       "  InvoiceNo StockCode                          Description  Quantity  \\\n",
       "0    536365    85123A   WHITE HANGING HEART T-LIGHT HOLDER         6   \n",
       "1    536365     71053                  WHITE METAL LANTERN         6   \n",
       "2    536365    84406B       CREAM CUPID HEARTS COAT HANGER         8   \n",
       "3    536365    84029G  KNITTED UNION FLAG HOT WATER BOTTLE         6   \n",
       "4    536365    84029E       RED WOOLLY HOTTIE WHITE HEART.         6   \n",
       "\n",
       "          InvoiceDate  UnitPrice  CustomerID         Country  \n",
       "0 2010-12-01 08:26:00       2.55     17850.0  United Kingdom  \n",
       "1 2010-12-01 08:26:00       3.39     17850.0  United Kingdom  \n",
       "2 2010-12-01 08:26:00       2.75     17850.0  United Kingdom  \n",
       "3 2010-12-01 08:26:00       3.39     17850.0  United Kingdom  \n",
       "4 2010-12-01 08:26:00       3.39     17850.0  United Kingdom  "
      ]
     },
     "execution_count": 2,
     "metadata": {},
     "output_type": "execute_result"
    }
   ],
   "source": [
    "retail = pd.read_excel('Data/Online_Retail.xlsx')\n",
    "df = retail.copy()\n",
    "df.head()"
   ]
  },
  {
   "cell_type": "markdown",
   "id": "424ec36f-809b-4caa-9f66-69d37cd3ec51",
   "metadata": {},
   "source": [
    "### data info"
   ]
  },
  {
   "cell_type": "code",
   "execution_count": 3,
   "id": "8c6601ad-48c3-4092-821d-fde606f3ce39",
   "metadata": {},
   "outputs": [
    {
     "data": {
      "text/html": [
       "<div>\n",
       "<style scoped>\n",
       "    .dataframe tbody tr th:only-of-type {\n",
       "        vertical-align: middle;\n",
       "    }\n",
       "\n",
       "    .dataframe tbody tr th {\n",
       "        vertical-align: top;\n",
       "    }\n",
       "\n",
       "    .dataframe thead th {\n",
       "        text-align: right;\n",
       "    }\n",
       "</style>\n",
       "<table border=\"1\" class=\"dataframe\">\n",
       "  <thead>\n",
       "    <tr style=\"text-align: right;\">\n",
       "      <th></th>\n",
       "      <th>InvoiceNo</th>\n",
       "      <th>StockCode</th>\n",
       "      <th>Description</th>\n",
       "      <th>Quantity</th>\n",
       "      <th>InvoiceDate</th>\n",
       "      <th>UnitPrice</th>\n",
       "      <th>CustomerID</th>\n",
       "      <th>Country</th>\n",
       "    </tr>\n",
       "  </thead>\n",
       "  <tbody>\n",
       "    <tr>\n",
       "      <th>0</th>\n",
       "      <td>536365</td>\n",
       "      <td>85123A</td>\n",
       "      <td>WHITE HANGING HEART T-LIGHT HOLDER</td>\n",
       "      <td>6</td>\n",
       "      <td>2010-12-01 08:26:00</td>\n",
       "      <td>2.55</td>\n",
       "      <td>17850.0</td>\n",
       "      <td>United Kingdom</td>\n",
       "    </tr>\n",
       "    <tr>\n",
       "      <th>1</th>\n",
       "      <td>536365</td>\n",
       "      <td>71053</td>\n",
       "      <td>WHITE METAL LANTERN</td>\n",
       "      <td>6</td>\n",
       "      <td>2010-12-01 08:26:00</td>\n",
       "      <td>3.39</td>\n",
       "      <td>17850.0</td>\n",
       "      <td>United Kingdom</td>\n",
       "    </tr>\n",
       "  </tbody>\n",
       "</table>\n",
       "</div>"
      ],
      "text/plain": [
       "  InvoiceNo StockCode                         Description  Quantity  \\\n",
       "0    536365    85123A  WHITE HANGING HEART T-LIGHT HOLDER         6   \n",
       "1    536365     71053                 WHITE METAL LANTERN         6   \n",
       "\n",
       "          InvoiceDate  UnitPrice  CustomerID         Country  \n",
       "0 2010-12-01 08:26:00       2.55     17850.0  United Kingdom  \n",
       "1 2010-12-01 08:26:00       3.39     17850.0  United Kingdom  "
      ]
     },
     "metadata": {},
     "output_type": "display_data"
    },
    {
     "name": "stdout",
     "output_type": "stream",
     "text": [
      "[shape] :  (541909, 8)\n",
      "[rows] : 541909 , [columns] : 8 \n",
      "\n",
      "[house_value_counts] :  object            4\n",
      "float64           2\n",
      "int64             1\n",
      "datetime64[ns]    1\n",
      "dtype: int64 \n",
      "\n",
      "[columns] :  Index(['InvoiceNo', 'StockCode', 'Description', 'Quantity', 'InvoiceDate',\n",
      "       'UnitPrice', 'CustomerID', 'Country'],\n",
      "      dtype='object') \n",
      "\n",
      "[Null_values] :  \n",
      " CustomerID     135080\n",
      "Description      1454\n",
      "dtype: int64\n",
      "[Null_columns] :  \n",
      " ['Description', 'CustomerID']\n"
     ]
    }
   ],
   "source": [
    "def data_info(df,null_count_standard):\n",
    "    display(df.head(2))\n",
    "    print('[shape] : ',df.shape)\n",
    "    print('[rows] : {} , [columns] : {}'.format(df.shape[0],df.shape[1]),'\\n')\n",
    "    print('[house_value_counts] : ',df.dtypes.value_counts(),'\\n')\n",
    "    print('[columns] : ' ,df.columns,'\\n')\n",
    "    nl_v = df.isnull().sum()\n",
    "    print('[Null_values] : ','\\n',nl_v[nl_v>null_count_standard].sort_values(ascending=False))\n",
    "    print('[Null_columns] : ','\\n', list(nl_v[nl_v>null_count_standard].keys()))\n",
    "data_info(df,0)"
   ]
  },
  {
   "cell_type": "markdown",
   "id": "d1079ca4-8e38-45c2-a6c5-409c11914885",
   "metadata": {},
   "source": [
    "## Data Preprocessing"
   ]
  },
  {
   "cell_type": "markdown",
   "id": "46bd0a08-bfbf-4067-a0be-35a4c976ca5b",
   "metadata": {},
   "source": [
    "### Data condition"
   ]
  },
  {
   "cell_type": "code",
   "execution_count": 4,
   "id": "75c6d19e-d7cc-46ec-b2fd-c773fe7c2b74",
   "metadata": {},
   "outputs": [
    {
     "data": {
      "text/plain": [
       "array(['United Kingdom'], dtype=object)"
      ]
     },
     "execution_count": 4,
     "metadata": {},
     "output_type": "execute_result"
    }
   ],
   "source": [
    "df['Country'].unique()\n",
    "df_uk = df[df['Country']=='United Kingdom']\n",
    "df_uk['Country'].unique()"
   ]
  },
  {
   "cell_type": "markdown",
   "id": "7723e69d-4ad1-4e84-814d-e03e126d9e9b",
   "metadata": {},
   "source": [
    "### Data unique"
   ]
  },
  {
   "cell_type": "code",
   "execution_count": 15,
   "id": "1664c434-de5c-487c-93de-609aac12fdff",
   "metadata": {},
   "outputs": [],
   "source": [
    "# Quantity\n",
    "df_uk['Quantity'].unique() # - value\n",
    "df_uk = df_uk[ df_uk['Quantity'] > 0 ]\n",
    "\n",
    "# UnitPrice\n",
    "df_uk = df_uk[ df_uk['UnitPrice'] > 0 ]"
   ]
  },
  {
   "cell_type": "markdown",
   "id": "a5a28eaf-1ed2-404f-a4a0-e0cd3742a7f6",
   "metadata": {},
   "source": [
    "### Delete rows with null values"
   ]
  },
  {
   "cell_type": "code",
   "execution_count": 16,
   "id": "6271394a-0f5d-4139-95bb-461b8e96de7d",
   "metadata": {},
   "outputs": [],
   "source": [
    "def del_rows_null(df,columns):\n",
    "    rows_with_nan = [index for index, row in df[[columns]].iterrows() if row.isnull().any()]\n",
    "    for i in rows_with_nan:\n",
    "        df = df.drop(i)"
   ]
  },
  {
   "cell_type": "markdown",
   "id": "91f3c41b-df3a-4167-bbb5-d54b807d4da4",
   "metadata": {},
   "source": [
    "### after preprocessing data info"
   ]
  },
  {
   "cell_type": "code",
   "execution_count": 17,
   "id": "95ff7568-faf9-48a9-9c7e-4f5418af04fc",
   "metadata": {},
   "outputs": [
    {
     "data": {
      "text/html": [
       "<div>\n",
       "<style scoped>\n",
       "    .dataframe tbody tr th:only-of-type {\n",
       "        vertical-align: middle;\n",
       "    }\n",
       "\n",
       "    .dataframe tbody tr th {\n",
       "        vertical-align: top;\n",
       "    }\n",
       "\n",
       "    .dataframe thead th {\n",
       "        text-align: right;\n",
       "    }\n",
       "</style>\n",
       "<table border=\"1\" class=\"dataframe\">\n",
       "  <thead>\n",
       "    <tr style=\"text-align: right;\">\n",
       "      <th></th>\n",
       "      <th>InvoiceNo</th>\n",
       "      <th>StockCode</th>\n",
       "      <th>Description</th>\n",
       "      <th>Quantity</th>\n",
       "      <th>InvoiceDate</th>\n",
       "      <th>UnitPrice</th>\n",
       "      <th>CustomerID</th>\n",
       "      <th>Country</th>\n",
       "    </tr>\n",
       "  </thead>\n",
       "  <tbody>\n",
       "    <tr>\n",
       "      <th>0</th>\n",
       "      <td>536365</td>\n",
       "      <td>85123A</td>\n",
       "      <td>WHITE HANGING HEART T-LIGHT HOLDER</td>\n",
       "      <td>6</td>\n",
       "      <td>2010-12-01 08:26:00</td>\n",
       "      <td>2.55</td>\n",
       "      <td>17850.0</td>\n",
       "      <td>United Kingdom</td>\n",
       "    </tr>\n",
       "    <tr>\n",
       "      <th>1</th>\n",
       "      <td>536365</td>\n",
       "      <td>71053</td>\n",
       "      <td>WHITE METAL LANTERN</td>\n",
       "      <td>6</td>\n",
       "      <td>2010-12-01 08:26:00</td>\n",
       "      <td>3.39</td>\n",
       "      <td>17850.0</td>\n",
       "      <td>United Kingdom</td>\n",
       "    </tr>\n",
       "  </tbody>\n",
       "</table>\n",
       "</div>"
      ],
      "text/plain": [
       "  InvoiceNo StockCode                         Description  Quantity  \\\n",
       "0    536365    85123A  WHITE HANGING HEART T-LIGHT HOLDER         6   \n",
       "1    536365     71053                 WHITE METAL LANTERN         6   \n",
       "\n",
       "          InvoiceDate  UnitPrice  CustomerID         Country  \n",
       "0 2010-12-01 08:26:00       2.55     17850.0  United Kingdom  \n",
       "1 2010-12-01 08:26:00       3.39     17850.0  United Kingdom  "
      ]
     },
     "metadata": {},
     "output_type": "display_data"
    },
    {
     "name": "stdout",
     "output_type": "stream",
     "text": [
      "[shape] :  (354321, 8)\n",
      "[rows] : 354321 , [columns] : 8 \n",
      "\n",
      "[house_value_counts] :  object            4\n",
      "float64           2\n",
      "int64             1\n",
      "datetime64[ns]    1\n",
      "dtype: int64 \n",
      "\n",
      "[columns] :  Index(['InvoiceNo', 'StockCode', 'Description', 'Quantity', 'InvoiceDate',\n",
      "       'UnitPrice', 'CustomerID', 'Country'],\n",
      "      dtype='object') \n",
      "\n",
      "[Null_values] :  \n",
      " Series([], dtype: int64)\n",
      "[Null_columns] :  \n",
      " []\n"
     ]
    }
   ],
   "source": [
    "data_info(df_uk,0)"
   ]
  },
  {
   "cell_type": "markdown",
   "id": "9d5922b4-822c-44fa-951d-f49e09e74d40",
   "metadata": {},
   "source": [
    "## RFM"
   ]
  },
  {
   "cell_type": "markdown",
   "id": "8fc7453a-5332-49b0-9f11-23a269ce7264",
   "metadata": {},
   "source": [
    "### convert to int"
   ]
  },
  {
   "cell_type": "code",
   "execution_count": 21,
   "id": "13e3a321-357d-4830-8153-d190ea35e2f6",
   "metadata": {},
   "outputs": [],
   "source": [
    "df_uk['amount'] = df_uk['Quantity'] * df_uk['UnitPrice']\n",
    "df_uk['CustomerID'] = df_uk['CustomerID'].astype(int)"
   ]
  },
  {
   "cell_type": "markdown",
   "id": "5bd8d7bd-af21-410a-9472-842f7998e392",
   "metadata": {},
   "source": [
    "### RFM"
   ]
  },
  {
   "cell_type": "markdown",
   "id": "fe778b8f-6cc4-4ca7-8398-92ad43fa44bf",
   "metadata": {},
   "source": [
    "Recency(R), Frequency(F), Monetary Value(M)"
   ]
  },
  {
   "cell_type": "code",
   "execution_count": 26,
   "id": "d380e5a4-0e98-483e-8750-9fe128203f99",
   "metadata": {},
   "outputs": [
    {
     "data": {
      "text/html": [
       "<div>\n",
       "<style scoped>\n",
       "    .dataframe tbody tr th:only-of-type {\n",
       "        vertical-align: middle;\n",
       "    }\n",
       "\n",
       "    .dataframe tbody tr th {\n",
       "        vertical-align: top;\n",
       "    }\n",
       "\n",
       "    .dataframe thead th {\n",
       "        text-align: right;\n",
       "    }\n",
       "</style>\n",
       "<table border=\"1\" class=\"dataframe\">\n",
       "  <thead>\n",
       "    <tr style=\"text-align: right;\">\n",
       "      <th></th>\n",
       "      <th>CustomerID</th>\n",
       "      <th>Recency</th>\n",
       "      <th>Frequency</th>\n",
       "      <th>Monetary_value</th>\n",
       "    </tr>\n",
       "  </thead>\n",
       "  <tbody>\n",
       "    <tr>\n",
       "      <th>0</th>\n",
       "      <td>12346</td>\n",
       "      <td>2011-01-18 10:01:00</td>\n",
       "      <td>1</td>\n",
       "      <td>77183.60</td>\n",
       "    </tr>\n",
       "    <tr>\n",
       "      <th>1</th>\n",
       "      <td>12747</td>\n",
       "      <td>2011-12-07 14:34:00</td>\n",
       "      <td>103</td>\n",
       "      <td>4196.01</td>\n",
       "    </tr>\n",
       "    <tr>\n",
       "      <th>2</th>\n",
       "      <td>12748</td>\n",
       "      <td>2011-12-09 12:20:00</td>\n",
       "      <td>4595</td>\n",
       "      <td>33719.73</td>\n",
       "    </tr>\n",
       "    <tr>\n",
       "      <th>3</th>\n",
       "      <td>12749</td>\n",
       "      <td>2011-12-06 09:56:00</td>\n",
       "      <td>199</td>\n",
       "      <td>4090.88</td>\n",
       "    </tr>\n",
       "    <tr>\n",
       "      <th>4</th>\n",
       "      <td>12820</td>\n",
       "      <td>2011-12-06 15:12:00</td>\n",
       "      <td>59</td>\n",
       "      <td>942.34</td>\n",
       "    </tr>\n",
       "  </tbody>\n",
       "</table>\n",
       "</div>"
      ],
      "text/plain": [
       "   CustomerID             Recency  Frequency  Monetary_value\n",
       "0       12346 2011-01-18 10:01:00          1        77183.60\n",
       "1       12747 2011-12-07 14:34:00        103         4196.01\n",
       "2       12748 2011-12-09 12:20:00       4595        33719.73\n",
       "3       12749 2011-12-06 09:56:00        199         4090.88\n",
       "4       12820 2011-12-06 15:12:00         59          942.34"
      ]
     },
     "execution_count": 26,
     "metadata": {},
     "output_type": "execute_result"
    }
   ],
   "source": [
    "# Recency - InvoiceData - MAX()\n",
    "# Frequency - InvocieNo - count()\n",
    "# Monetary Value - amount - sum()\n",
    "\n",
    "agg_ = {\n",
    "    'InvoiceDate' : 'max',\n",
    "    'InvoiceNo' : 'count',\n",
    "    'amount' : 'sum'\n",
    "}\n",
    "\n",
    "# apply\n",
    "cust_df = df_uk.groupby('CustomerID').agg(agg_)\n",
    "\n",
    "# rename\n",
    "cust_df = cust_df.rename(columns={\n",
    "    'InvoiceDate' : 'Recency',\n",
    "    'InvoiceNo' : 'Frequency',\n",
    "    'amount' : 'Monetary_value'\n",
    "})\n",
    "\n",
    "# reset_index\n",
    "cust_df = cust_df.reset_index()\n",
    "\n",
    "cust_df.head()"
   ]
  },
  {
   "cell_type": "markdown",
   "id": "2a376afb-ac95-482b-9224-f90b68b2f5ce",
   "metadata": {},
   "source": [
    "#### Recency data"
   ]
  },
  {
   "cell_type": "code",
   "execution_count": 30,
   "id": "a1ea69b0-4461-41ec-b38d-115cd38aad91",
   "metadata": {},
   "outputs": [
    {
     "data": {
      "text/html": [
       "<div>\n",
       "<style scoped>\n",
       "    .dataframe tbody tr th:only-of-type {\n",
       "        vertical-align: middle;\n",
       "    }\n",
       "\n",
       "    .dataframe tbody tr th {\n",
       "        vertical-align: top;\n",
       "    }\n",
       "\n",
       "    .dataframe thead th {\n",
       "        text-align: right;\n",
       "    }\n",
       "</style>\n",
       "<table border=\"1\" class=\"dataframe\">\n",
       "  <thead>\n",
       "    <tr style=\"text-align: right;\">\n",
       "      <th></th>\n",
       "      <th>CustomerID</th>\n",
       "      <th>Recency</th>\n",
       "      <th>Frequency</th>\n",
       "      <th>Monetary_value</th>\n",
       "    </tr>\n",
       "  </thead>\n",
       "  <tbody>\n",
       "    <tr>\n",
       "      <th>0</th>\n",
       "      <td>12346</td>\n",
       "      <td>326</td>\n",
       "      <td>1</td>\n",
       "      <td>77183.60</td>\n",
       "    </tr>\n",
       "    <tr>\n",
       "      <th>1</th>\n",
       "      <td>12747</td>\n",
       "      <td>3</td>\n",
       "      <td>103</td>\n",
       "      <td>4196.01</td>\n",
       "    </tr>\n",
       "    <tr>\n",
       "      <th>2</th>\n",
       "      <td>12748</td>\n",
       "      <td>1</td>\n",
       "      <td>4595</td>\n",
       "      <td>33719.73</td>\n",
       "    </tr>\n",
       "    <tr>\n",
       "      <th>3</th>\n",
       "      <td>12749</td>\n",
       "      <td>4</td>\n",
       "      <td>199</td>\n",
       "      <td>4090.88</td>\n",
       "    </tr>\n",
       "    <tr>\n",
       "      <th>4</th>\n",
       "      <td>12820</td>\n",
       "      <td>4</td>\n",
       "      <td>59</td>\n",
       "      <td>942.34</td>\n",
       "    </tr>\n",
       "  </tbody>\n",
       "</table>\n",
       "</div>"
      ],
      "text/plain": [
       "   CustomerID  Recency  Frequency  Monetary_value\n",
       "0       12346      326          1        77183.60\n",
       "1       12747        3        103         4196.01\n",
       "2       12748        1       4595        33719.73\n",
       "3       12749        4        199         4090.88\n",
       "4       12820        4         59          942.34"
      ]
     },
     "execution_count": 30,
     "metadata": {},
     "output_type": "execute_result"
    }
   ],
   "source": [
    "# today : 2011/12/10\n",
    "\n",
    "# Recency = today - recent purchase date\n",
    "cust_df['Recency'] = dt.datetime(2011,12,10) - cust_df['Recency']\n",
    "\n",
    "# no zero value --> days + 1\n",
    "cust_df['Recency'] =  cust_df['Recency'].apply(lambda x: x.days+1)\n",
    "cust_df.head()"
   ]
  },
  {
   "cell_type": "markdown",
   "id": "729c093d-a7f2-4f61-8fb4-e567107dafaa",
   "metadata": {},
   "source": [
    "## Clustering"
   ]
  },
  {
   "cell_type": "markdown",
   "id": "716c2cce-03f3-482a-81ab-22ce59e3d21c",
   "metadata": {},
   "source": [
    "### RFM columns"
   ]
  },
  {
   "cell_type": "code",
   "execution_count": 39,
   "id": "fb5d9c66-06f0-4918-85f7-cc928388f94e",
   "metadata": {},
   "outputs": [],
   "source": [
    "cust_df.columns\n",
    "RFM = ['Recency', 'Frequency', 'Monetary_value']"
   ]
  },
  {
   "cell_type": "markdown",
   "id": "26404349-949f-4eb4-9a14-927dc8c02a9d",
   "metadata": {},
   "source": [
    "### Scaling"
   ]
  },
  {
   "cell_type": "code",
   "execution_count": 44,
   "id": "102541d6-70ee-4874-a12a-8e52ccd2f7ac",
   "metadata": {},
   "outputs": [
    {
     "data": {
      "text/plain": [
       "array([[ 2.3438109 , -0.41044983, 10.06690642]])"
      ]
     },
     "execution_count": 44,
     "metadata": {},
     "output_type": "execute_result"
    }
   ],
   "source": [
    "scaler = StandardScaler()\n",
    "X = cust_df[RFM]\n",
    "X_scd = scaler.fit_transform(X.values)\n",
    "X_scd[:1]"
   ]
  },
  {
   "cell_type": "markdown",
   "id": "6795b7d2-5cd5-4b01-8faa-8615b75637e0",
   "metadata": {},
   "source": [
    "### KMeans\n",
    "- n_clusters = 3"
   ]
  },
  {
   "cell_type": "code",
   "execution_count": 48,
   "id": "c288b978-d0cd-42a0-ab6f-489f22b9f44f",
   "metadata": {},
   "outputs": [
    {
     "data": {
      "text/plain": [
       "array([0, 1, 0, ..., 1, 1, 1])"
      ]
     },
     "execution_count": 48,
     "metadata": {},
     "output_type": "execute_result"
    }
   ],
   "source": [
    "km = KMeans(n_clusters=3, random_state=0)\n",
    "km_label = km.fit_predict(X_scd)\n",
    "km_label"
   ]
  },
  {
   "cell_type": "markdown",
   "id": "0c13bb12-b9c8-469e-a963-bdb55d94cd17",
   "metadata": {},
   "source": [
    "### return to or_df"
   ]
  },
  {
   "cell_type": "code",
   "execution_count": 50,
   "id": "5afe8834-3881-41b4-be1b-371c209fddfe",
   "metadata": {},
   "outputs": [
    {
     "data": {
      "text/plain": [
       "0    0\n",
       "Name: km_label, dtype: int32"
      ]
     },
     "execution_count": 50,
     "metadata": {},
     "output_type": "execute_result"
    }
   ],
   "source": [
    "cust_df['km_label'] = km_label\n",
    "cust_df['km_label'].head(1)"
   ]
  },
  {
   "cell_type": "markdown",
   "id": "092b4d71-8fe7-4515-965d-88c8555a991d",
   "metadata": {},
   "source": [
    "### silhouette evaluation"
   ]
  },
  {
   "cell_type": "code",
   "execution_count": 52,
   "id": "46cb4f9f-982e-4c1b-a398-5bb752e672c9",
   "metadata": {},
   "outputs": [
    {
     "name": "stdout",
     "output_type": "stream",
     "text": [
      "silhouette : 0.592\n"
     ]
    }
   ],
   "source": [
    "print('silhouette : {0:.3f}'.format(silhouette_score(X_scd,km_label)))"
   ]
  },
  {
   "cell_type": "markdown",
   "id": "2cc1a2b1-8f24-456a-88ad-a02de21b356f",
   "metadata": {},
   "source": [
    "## silhouette visualization definition"
   ]
  },
  {
   "cell_type": "code",
   "execution_count": null,
   "id": "3479987f-ac77-434f-8ef3-1d73f85dd60d",
   "metadata": {},
   "outputs": [],
   "source": [
    "def visualize_silhouette(cluster_lists, X_features): \n",
    "    \n",
    "    # 입력값으로 클러스터링 갯수들을 리스트로 받아서, 각 갯수별로 클러스터링을 적용하고 실루엣 개수를 구함\n",
    "    n_cols = len(cluster_lists)\n",
    "    \n",
    "    # plt.subplots()으로 리스트에 기재된 클러스터링 수만큼의 sub figures를 가지는 axs 생성 \n",
    "    fig, axs = plt.subplots(figsize=(4*n_cols, 4), nrows=1, ncols=n_cols)\n",
    "    \n",
    "    # 리스트에 기재된 클러스터링 갯수들을 차례로 iteration 수행하면서 실루엣 개수 시각화\n",
    "    for ind, n_cluster in enumerate(cluster_lists):\n",
    "        \n",
    "        # KMeans 클러스터링 수행하고, 실루엣 스코어와 개별 데이터의 실루엣 값 계산. \n",
    "        clusterer = KMeans(n_clusters = n_cluster, max_iter=500, random_state=0)\n",
    "        cluster_labels = clusterer.fit_predict(X_features)\n",
    "        \n",
    "        sil_avg = silhouette_score(X_features, cluster_labels)\n",
    "        sil_values = silhouette_samples(X_features, cluster_labels)\n",
    "        \n",
    "        y_lower = 10\n",
    "        axs[ind].set_title('Number of Cluster : '+ str(n_cluster)+'\\n' \\\n",
    "                          'Silhouette Score :' + str(round(sil_avg,3)) )\n",
    "        axs[ind].set_xlabel(\"The silhouette coefficient values\")\n",
    "        axs[ind].set_ylabel(\"Cluster label\")\n",
    "        axs[ind].set_xlim([-0.1, 1])\n",
    "        axs[ind].set_ylim([0, len(X_features) + (n_cluster + 1) * 10])\n",
    "        axs[ind].set_yticks([])  # Clear the yaxis labels / ticks\n",
    "        axs[ind].set_xticks([0, 0.2, 0.4, 0.6, 0.8, 1])\n",
    "        \n",
    "        # 클러스터링 갯수별로 fill_betweenx( )형태의 막대 그래프 표현. \n",
    "        for i in range(n_cluster):\n",
    "            ith_cluster_sil_values = sil_values[cluster_labels==i]\n",
    "            ith_cluster_sil_values.sort()\n",
    "            \n",
    "            size_cluster_i = ith_cluster_sil_values.shape[0]\n",
    "            y_upper = y_lower + size_cluster_i\n",
    "            \n",
    "            color = cm.nipy_spectral(float(i) / n_cluster)\n",
    "            axs[ind].fill_betweenx(np.arange(y_lower, y_upper), 0, ith_cluster_sil_values, \\\n",
    "                                facecolor=color, edgecolor=color, alpha=0.7)\n",
    "            axs[ind].text(-0.05, y_lower + 0.5 * size_cluster_i, str(i))\n",
    "            y_lower = y_upper + 10\n",
    "            \n",
    "        axs[ind].axvline(x=sil_avg, color=\"red\", linestyle=\"--\")"
   ]
  }
 ],
 "metadata": {
  "kernelspec": {
   "display_name": "Python 3",
   "language": "python",
   "name": "python3"
  },
  "language_info": {
   "codemirror_mode": {
    "name": "ipython",
    "version": 3
   },
   "file_extension": ".py",
   "mimetype": "text/x-python",
   "name": "python",
   "nbconvert_exporter": "python",
   "pygments_lexer": "ipython3",
   "version": "3.8.11"
  }
 },
 "nbformat": 4,
 "nbformat_minor": 5
}
