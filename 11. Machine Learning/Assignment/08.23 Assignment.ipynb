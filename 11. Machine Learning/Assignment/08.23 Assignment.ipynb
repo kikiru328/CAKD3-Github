{
 "cells": [
  {
   "cell_type": "code",
   "execution_count": 1,
   "id": "863cc247",
   "metadata": {},
   "outputs": [],
   "source": [
    "# 6개 알고리즘에 대한 요약\n",
    "# 6개 알고리즘 적용. 학습/예측/평가 수행"
   ]
  },
  {
   "cell_type": "code",
   "execution_count": null,
   "id": "9a0ab272",
   "metadata": {},
   "outputs": [],
   "source": [
    "import pandas as pd\n",
    "from sklearn. "
   ]
  }
 ],
 "metadata": {
  "kernelspec": {
   "display_name": "Python 3",
   "language": "python",
   "name": "python3"
  },
  "language_info": {
   "codemirror_mode": {
    "name": "ipython",
    "version": 3
   },
   "file_extension": ".py",
   "mimetype": "text/x-python",
   "name": "python",
   "nbconvert_exporter": "python",
   "pygments_lexer": "ipython3",
   "version": "3.8.11"
  }
 },
 "nbformat": 4,
 "nbformat_minor": 5
}
