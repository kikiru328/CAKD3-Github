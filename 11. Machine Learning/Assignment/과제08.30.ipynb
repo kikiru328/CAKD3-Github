{
 "cells": [
  {
   "cell_type": "markdown",
   "id": "dd8ddabc-e97a-4da8-a06d-4444d1785c38",
   "metadata": {},
   "source": [
    "[도전 과제]\n",
    "\n",
    "캐글의 자전거 대여 수요 예측을 아래와 같이 수행하세요\n",
    "- 데이터는 https://www.kaggle.com/c/bike-sharing-demand/data 에서 train.csv를 다운로드 받아 이용\n",
    "- 문자열을 datetime 타입으로 변경\n",
    "- 종속변수 정규성 개선위한 로그 변환\n",
    "- 평가지표 : RMSLE, RMSE, MAE\n",
    "- 'year', 'month', 'day', 'hour' 등의 피러들을 OneHotEncoding 하여 회귀모델의 예측 성능 비교"
   ]
  },
  {
   "cell_type": "code",
   "execution_count": null,
   "id": "2d705874-e026-4899-bee1-f5ea053b3d0b",
   "metadata": {},
   "outputs": [],
   "source": []
  }
 ],
 "metadata": {
  "kernelspec": {
   "display_name": "Python 3",
   "language": "python",
   "name": "python3"
  },
  "language_info": {
   "codemirror_mode": {
    "name": "ipython",
    "version": 3
   },
   "file_extension": ".py",
   "mimetype": "text/x-python",
   "name": "python",
   "nbconvert_exporter": "python",
   "pygments_lexer": "ipython3",
   "version": "3.8.10"
  },
  "widgets": {
   "application/vnd.jupyter.widget-state+json": {
    "state": {},
    "version_major": 2,
    "version_minor": 0
   }
  }
 },
 "nbformat": 4,
 "nbformat_minor": 5
}
