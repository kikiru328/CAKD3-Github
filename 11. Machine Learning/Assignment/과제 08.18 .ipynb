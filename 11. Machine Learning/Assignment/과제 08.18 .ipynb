{
 "cells": [
  {
   "cell_type": "code",
   "execution_count": 1,
   "id": "817d2164-8cf7-40fb-9424-e21f5da2a6a1",
   "metadata": {},
   "outputs": [],
   "source": [
    "# 과제\n",
    "# Q. itesms를 pd.get_dummies()를 사용하여 원핫인코딩 하세요\n",
    "# items = ['TV','냉장고','전자랜지','컴퓨터','선풍기','선풍기',\n",
    "#          '믹서','믹서']"
   ]
  },
  {
   "cell_type": "code",
   "execution_count": 2,
   "id": "7b58ffee-099a-4284-8713-17abf13acf48",
   "metadata": {},
   "outputs": [],
   "source": [
    "# 과제\n",
    "# Q. 붓꼿 데이터 셋의 독립변수들을 2가지 방법으로 스케일링 한 후 \n",
    "# 평균 값과 분산 값을 출력하세요.\n",
    "# - 0과 1사이의 범위로 스케일링\n",
    "# - 평균 0, 표준편차 1인 분포로 스케일링"
   ]
  },
  {
   "cell_type": "code",
   "execution_count": null,
   "id": "6db6269a-7f99-4d2e-98c0-6baeb0516a95",
   "metadata": {},
   "outputs": [],
   "source": []
  }
 ],
 "metadata": {
  "kernelspec": {
   "display_name": "Python 3",
   "language": "python",
   "name": "python3"
  },
  "language_info": {
   "codemirror_mode": {
    "name": "ipython",
    "version": 3
   },
   "file_extension": ".py",
   "mimetype": "text/x-python",
   "name": "python",
   "nbconvert_exporter": "python",
   "pygments_lexer": "ipython3",
   "version": "3.8.11"
  }
 },
 "nbformat": 4,
 "nbformat_minor": 5
}
