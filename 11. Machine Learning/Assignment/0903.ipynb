{
 "cells": [
  {
   "cell_type": "code",
   "execution_count": 1,
   "id": "65af88dd-e32c-432b-b8aa-75562b1e9a1a",
   "metadata": {},
   "outputs": [],
   "source": [
    "#modul\n",
    "import pandas as pd\n",
    "import numpy as np\n",
    "import seaborn as sns\n",
    "import matplotlib.pyplot as plt\n",
    "%matplotlib inline"
   ]
  },
  {
   "cell_type": "markdown",
   "id": "97fcdbd3-d9ef-4f11-97c1-897b4bc34b6f",
   "metadata": {},
   "source": [
    "# Q1"
   ]
  },
  {
   "cell_type": "code",
   "execution_count": 3,
   "id": "2ca7efc2-8890-42c8-8a91-6a680c724239",
   "metadata": {},
   "outputs": [
    {
     "name": "stdout",
     "output_type": "stream",
     "text": [
      "[model]: DecisionTreeClassifier() \n",
      "\n",
      "\n",
      "[confusion_matrix]\n",
      "\n",
      "         pred:0  pred:1  pred:2\n",
      "true:0      10       0       0\n",
      "true:1       0      12       1\n",
      "true:2       0       0       7 \n",
      "\n",
      "[accuracy]: 0.9667\n",
      "----------------------------------------------------------------------\n"
     ]
    }
   ],
   "source": [
    "from sklearn.datasets import load_iris\n",
    "iris = load_iris()\n",
    "\n",
    "df = pd.DataFrame(iris.data,columns=iris.feature_names)\n",
    "df['class'] = iris.target\n",
    "\n",
    "from sklearn.model_selection import train_test_split\n",
    "from sklearn.tree import DecisionTreeClassifier\n",
    "from sklearn.metrics import confusion_matrix\n",
    "from sklearn.metrics import accuracy_score\n",
    "from sklearn.metrics import precision_score\n",
    "from sklearn.metrics import recall_score\n",
    "from sklearn.metrics import f1_score\n",
    "from sklearn.metrics import roc_auc_score\n",
    "\n",
    "def get_eval(model,y_test,prediction,proba):\n",
    "    Label = np.unique([y_test, prediction])\n",
    "    confusion= pd.DataFrame(confusion_matrix(y_test, prediction, labels=Label), \n",
    "                            index=['true:{:}'.format(x) for x in Label], \n",
    "                            columns=['pred:{:}'.format(x) for x in Label])\n",
    "    accuracy = accuracy_score(y_test,prediction)\n",
    "#     precision = precision_score(y_test,prediction)\n",
    "#     recall = recall_score(y_test,prediction)\n",
    "#     f1 = f1_score(y_test,prediction)\n",
    "#     roc_auc = roc_auc_score(y_test,proba)\n",
    "    print('[model]:', model,'\\n')\n",
    "    print('\\n[confusion_matrix]\\n\\n', confusion,'\\n')\n",
    "    print('[accuracy]: {:.4f}'.format(accuracy))\n",
    "#     print('[precision]: {:.4f}'.format(accuracy))\n",
    "#     print('[recall]: {:.4f}'.format(recall))\n",
    "#     print('[f1_score]: {:.4f}'.format(f1))\n",
    "#     print('[roc_auc]: {:.4f}'.format(roc_auc))\n",
    "    print('-------'*10)\n",
    "    \n",
    "X = df.drop('class',axis=1)\n",
    "y = df['class']\n",
    "\n",
    "X_train,X_test,y_train,y_test = train_test_split(X,y,test_size=0.2,random_state=10)\n",
    "\n",
    "dt = DecisionTreeClassifier()\n",
    "dt.fit(X_train,y_train)\n",
    "\n",
    "dt_pred = dt.predict(X_test)\n",
    "dt_proba = dt.predict_proba(X_test)[:,1]\n",
    "\n",
    "get_eval(dt, y_test, dt_pred, dt_proba)\n"
   ]
  },
  {
   "cell_type": "code",
   "execution_count": null,
   "id": "4909fe10-ef8e-47f7-ad5f-f627d78143dc",
   "metadata": {},
   "outputs": [],
   "source": []
  }
 ],
 "metadata": {
  "kernelspec": {
   "display_name": "Python 3",
   "language": "python",
   "name": "python3"
  },
  "language_info": {
   "codemirror_mode": {
    "name": "ipython",
    "version": 3
   },
   "file_extension": ".py",
   "mimetype": "text/x-python",
   "name": "python",
   "nbconvert_exporter": "python",
   "pygments_lexer": "ipython3",
   "version": "3.8.11"
  }
 },
 "nbformat": 4,
 "nbformat_minor": 5
}
