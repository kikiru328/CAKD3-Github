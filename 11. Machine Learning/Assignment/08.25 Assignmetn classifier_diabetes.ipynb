{
 "cells": [
  {
   "cell_type": "markdown",
   "id": "3ca814c7-4313-4aae-865f-8d30aef4c73a",
   "metadata": {},
   "source": [
    "[과제]\n",
    "diabetes.csv 데이터 세트를 이용해 다음사항을 수행하여 당뇨병 여부를 판단하는 머신러닝 예측 모델을 작성하고 평가하세요.\n",
    "\n",
    "        - SkinThickness와 Insulin의 0 값은 상당히 많기 때문에 일괄 삭제가 어려우며 평균값으로 대체\n",
    "        - 정확도, 정밀도, 재현율, f1_score,Roc_auc_score를 포함하는 평가지표 사용자 함수 작성\n",
    "        - 정밀도와 재현율의 임곗값에 따른 값 변화를 곡선 형태로 시각화\n",
    "        - 전체적인 성능 평가 지표를 유지하면서 재현율을 약간 향상시키는 임계값 산출.\n",
    "        - 산출된 임계값을 적용한 평가\n",
    "        \n",
    "* 피처 정보\n",
    "'Pregnancies'(임신 횟수), 'Glucose'(포도당 부하 검사 수치), 'BloodPressure'(혈압), 'SkinThickness'(팔 삼두근 뒤쪽의 피하지방 측정값), 'Insulin'(혈청 인슐린), 'BMI'(체질량 지수),'DiabetesPedigreeFunction'(당뇨 내력 가중치 값),\n",
    "'Age','Outcomd'\n"
   ]
  },
  {
   "cell_type": "code",
   "execution_count": 95,
   "id": "29ba56a8-c6fb-4026-9991-f2e2d83fb5de",
   "metadata": {},
   "outputs": [],
   "source": [
    "# module import\n",
    "import pandas as pd\n",
    "import numpy as np\n",
    "import seaborn as sns\n",
    "import matplotlib.pyplot as plt\n",
    "%matplotlib inline\n",
    "from sklearn.preprocessing import StandardScaler\n",
    "from sklearn.preprocessing import Binarizer\n",
    "\n",
    "# Seperate module\n",
    "from sklearn.model_selection import train_test_split\n",
    "\n",
    "# Machine Learning module\n",
    "from sklearn.tree import DecisionTreeClassifier\n",
    "from sklearn.linear_model import LogisticRegression\n",
    "from sklearn.ensemble import RandomForestClassifier\n",
    "from sklearn.svm import SVC\n",
    "\n",
    "# Evaluation module\n",
    "from sklearn.metrics import accuracy_score\n",
    "from sklearn.metrics import precision_score\n",
    "from sklearn.metrics import recall_score\n",
    "from sklearn.metrics import confusion_matrix\n",
    "from sklearn.metrics import f1_score\n",
    "from sklearn.metrics import roc_curve\n",
    "from sklearn.metrics import roc_auc_score\n",
    "\n",
    "\n",
    "# tune module\n",
    "from sklearn.model_selection import GridSearchCV\n",
    "\n",
    "#warings\n",
    "import warnings\n",
    "warnings.filterwarnings('ignore')\n"
   ]
  },
  {
   "cell_type": "code",
   "execution_count": 2,
   "id": "50ce4a5d-2dfc-495e-909c-99e9a8c8385f",
   "metadata": {},
   "outputs": [
    {
     "name": "stdout",
     "output_type": "stream",
     "text": [
      "0\n"
     ]
    }
   ],
   "source": [
    "# Dataset EDA\n",
    "\n",
    "# load Dataset\n",
    "diabetes = pd.read_csv('../Data/diabetes.csv')\n",
    "data = diabetes.copy()\n",
    "\n",
    "# data null\n",
    "print(data.isnull().sum().sum())  # 0\n",
    "\n",
    "# replace 0 to mean\n",
    "data['SkinThickness'] = data['SkinThickness'].replace(0,data['SkinThickness'].mean())\n",
    "data['Insulin'] = data['Insulin'].replace(0,data['Insulin'].mean())\n",
    "data['Glucose'] = data['Glucose'].replace(0,data['Glucose'].mean())\n",
    "data['BloodPressure'] = data['BloodPressure'].replace(0,data['BloodPressure'].mean())\n",
    "data['BMI'] = data['BMI'].replace(0,data['BMI'].mean())"
   ]
  },
  {
   "cell_type": "code",
   "execution_count": 3,
   "id": "ea4ff8da-492e-43ba-b7ae-0c5a4cec5bee",
   "metadata": {},
   "outputs": [
    {
     "name": "stdout",
     "output_type": "stream",
     "text": [
      "<class 'pandas.core.frame.DataFrame'>\n",
      "RangeIndex: 768 entries, 0 to 767\n",
      "Data columns (total 9 columns):\n",
      " #   Column                    Non-Null Count  Dtype  \n",
      "---  ------                    --------------  -----  \n",
      " 0   Pregnancies               768 non-null    int64  \n",
      " 1   Glucose                   768 non-null    float64\n",
      " 2   BloodPressure             768 non-null    float64\n",
      " 3   SkinThickness             768 non-null    float64\n",
      " 4   Insulin                   768 non-null    float64\n",
      " 5   BMI                       768 non-null    float64\n",
      " 6   DiabetesPedigreeFunction  768 non-null    float64\n",
      " 7   Age                       768 non-null    int64  \n",
      " 8   Outcome                   768 non-null    int64  \n",
      "dtypes: float64(6), int64(3)\n",
      "memory usage: 54.1 KB\n"
     ]
    }
   ],
   "source": [
    "data.info()"
   ]
  },
  {
   "cell_type": "code",
   "execution_count": 48,
   "id": "bde33ad1-290f-4dcc-abd2-1e53dc713d8f",
   "metadata": {},
   "outputs": [],
   "source": [
    "# Data Seperate\n",
    "X = data.iloc[:,:-1]\n",
    "y = data.iloc[:,-1]\n",
    "\n",
    "# Standardscale\n",
    "scaler = StandardScaler()\n",
    "X = scaler.fit_transform(X)\n",
    "\n",
    "X_train, X_test, y_train, y_test = train_test_split( X, y, test_size=0.3, random_state=156)"
   ]
  },
  {
   "cell_type": "code",
   "execution_count": 49,
   "id": "310dbd37-3a81-4083-ad69-1e6b5afde9b3",
   "metadata": {},
   "outputs": [],
   "source": [
    "# Model variation\n",
    "dclf = DecisionTreeClassifier()\n",
    "lgr = LogisticRegression()\n",
    "rclf = RandomForestClassifier()"
   ]
  },
  {
   "cell_type": "code",
   "execution_count": 50,
   "id": "f70b8e18-97cd-43ea-a5a1-a2765b423b8c",
   "metadata": {},
   "outputs": [],
   "source": [
    "#fit\n",
    "models = [dclf,lgr,rclf]\n",
    "for model in models:\n",
    "    model.fit(X_train,y_train)"
   ]
  },
  {
   "cell_type": "code",
   "execution_count": 51,
   "id": "43d78277-c4b6-4135-8fed-1172ea1b6b74",
   "metadata": {},
   "outputs": [],
   "source": [
    "# predict\n",
    "dclf_pred = dclf.predict(X_test)\n",
    "lgr_pred = lgr.predict(X_test)\n",
    "rclf_pred = rclf.predict(X_test)\n",
    "\n",
    "dclf_proba = dclf.predict_proba(X_test)[:,1]\n",
    "lgr_proba = lgr.predict_proba(X_test)[:,1]\n",
    "rclf_proba = rclf.predict_proba(X_test)[:,1]\n"
   ]
  },
  {
   "cell_type": "code",
   "execution_count": 52,
   "id": "ec0a9d17-0331-4e1d-a615-0b4e2c395b26",
   "metadata": {},
   "outputs": [
    {
     "name": "stdout",
     "output_type": "stream",
     "text": [
      "dclf 0.7229437229437229\n",
      "lgr 0.7272727272727273\n",
      "rclf 0.7532467532467533\n"
     ]
    }
   ],
   "source": [
    "# Accuracy\n",
    "print(\"dclf\" , accuracy_score(y_test,dclf_pred))\n",
    "print(\"lgr\" , accuracy_score(y_test,lgr_pred))\n",
    "print(\"rclf\" , accuracy_score(y_test,rclf_pred))"
   ]
  },
  {
   "cell_type": "code",
   "execution_count": 53,
   "id": "5b38d851-4b9b-4e23-b066-39443824996d",
   "metadata": {},
   "outputs": [],
   "source": [
    "# 1st evaluation\n",
    "def get_clf_eval(y_test, predictions, proba):\n",
    "    \n",
    "    # confusion matrix\n",
    "    confusion = confusion_matrix(y_test, predictions)\n",
    "    # accuracy_score\n",
    "    accuracy = accuracy_score(y_test, predictions)\n",
    "    # precions\n",
    "    precision = precision_score(y_test, predictions)\n",
    "#     # recall\n",
    "    recall = recall_score(y_test, predictions)\n",
    "    # f1_score\n",
    "    f1 = f1_score(y_test, predictions)\n",
    "    # roc_auc\n",
    "    roc_auc = roc_auc_score(y_test, proba)\n",
    "    \n",
    "    print('confusion matrix')\n",
    "    print(confusion)\n",
    "    print('정확도: {0:.4f}, 정밀도: {1:.4f}, 재현율: {2:.4f},F1: {3:.4f}, AUC:{4:.4f}'.format(accuracy, precision, recall, f1, roc_auc))"
   ]
  },
  {
   "cell_type": "code",
   "execution_count": 54,
   "id": "fa3ecf1c-9616-45a7-a72f-e121fcbe3f39",
   "metadata": {},
   "outputs": [
    {
     "name": "stdout",
     "output_type": "stream",
     "text": [
      "[dclf]\n",
      "\n",
      "confusion matrix\n",
      "[[109  38]\n",
      " [ 26  58]]\n",
      "정확도: 0.7229, 정밀도: 0.6042, 재현율: 0.6905,F1: 0.6444, AUC:0.7160\n",
      "\n",
      "[lgr]\n",
      "\n",
      "confusion matrix\n",
      "[[125  22]\n",
      " [ 41  43]]\n",
      "정확도: 0.7273, 정밀도: 0.6615, 재현율: 0.5119,F1: 0.5772, AUC:0.8162\n",
      "\n",
      "[rclf]\n",
      "\n",
      "confusion matrix\n",
      "[[127  20]\n",
      " [ 37  47]]\n",
      "정확도: 0.7532, 정밀도: 0.7015, 재현율: 0.5595,F1: 0.6225, AUC:0.8016\n"
     ]
    }
   ],
   "source": [
    "print('[dclf]\\n')\n",
    "get_clf_eval(y_test,dclf_pred,dclf_proba)\n",
    "print()\n",
    "print('[lgr]\\n')\n",
    "get_clf_eval(y_test,lgr_pred,lgr_proba)\n",
    "print()\n",
    "print('[rclf]\\n')\n",
    "get_clf_eval(y_test,rclf_pred,rclf_proba)"
   ]
  },
  {
   "cell_type": "code",
   "execution_count": 55,
   "id": "f3615769-3a59-4b71-93f3-7b76edc03bb5",
   "metadata": {},
   "outputs": [
    {
     "name": "stdout",
     "output_type": "stream",
     "text": [
      "[1.]\n",
      "[0.69]\n",
      "[0.26]\n",
      "[1]\n"
     ]
    }
   ],
   "source": [
    "# threshold & curve visualization\n",
    "dclf_tprs,dclf_fprs,dclf_thresholds = roc_curve(y_test,dclf_proba)\n",
    "d_thr_index = np.arange(1,dclf_thresholds.shape[0],5)\n",
    "print(np.round(dclf_thresholds[d_thr_index],2))\n",
    "print(np.round(dclf_fprs[d_thr_index],2))\n",
    "print(np.round(dclf_tprs[d_thr_index],2))\n",
    "print(d_thr_index)\n"
   ]
  },
  {
   "cell_type": "code",
   "execution_count": 60,
   "id": "776fc69e-9d2e-4426-9eed-31026583179f",
   "metadata": {},
   "outputs": [],
   "source": [
    "def roc_curve_plot(y_test,proba):\n",
    "    fprs,tprs,thresholds = roc_curve(y_test,proba)\n",
    "    plt.plot(fprs,tprs,label='ROC')\n",
    "    plt.plot([0,1],[0,1], 'k--', label = \"Random\")\n",
    "    \n",
    "    start, end = plt.xlim()\n",
    "    plt.xticks(np.round(np.arange(start,end,0.1),2)) #축 단위 뽑음\n",
    "    plt.xlim(0,1) \n",
    "    plt.ylim(0,1)\n",
    "    plt.xlabel('FPR(1-specificity)')\n",
    "    plt.ylabel('TPR(Recall)')\n",
    "    plt.legend()\n",
    "    plt.show()\n",
    "\n",
    "def AUC(y_test,proba):\n",
    "    roc_auc = roc_auc_score(y_test, proba)\n",
    "    print('AUC:{4:.4f}'.format(AUC))"
   ]
  },
  {
   "cell_type": "code",
   "execution_count": 66,
   "id": "3e245629-92d0-4c28-a26e-c25c85ab72e8",
   "metadata": {},
   "outputs": [
    {
     "name": "stdout",
     "output_type": "stream",
     "text": [
      "DecisionTree\n"
     ]
    },
    {
     "data": {
      "image/png": "[encoded data removed]",
      "text/plain": [
       "<Figure size 432x288 with 1 Axes>"
      ]
     },
     "metadata": {
      "needs_background": "light"
     },
     "output_type": "display_data"
    },
    {
     "name": "stdout",
     "output_type": "stream",
     "text": [
      "confusion matrix\n",
      "[[109  38]\n",
      " [ 26  58]]\n",
      "정확도: 0.7229, 정밀도: 0.6042, 재현율: 0.6905,F1: 0.6444, AUC:0.7160\n",
      "LogistricRegression\n"
     ]
    },
    {
     "data": {
      "image/png": "[encoded data removed]",
      "text/plain": [
       "<Figure size 432x288 with 1 Axes>"
      ]
     },
     "metadata": {
      "needs_background": "light"
     },
     "output_type": "display_data"
    },
    {
     "name": "stdout",
     "output_type": "stream",
     "text": [
      "confusion matrix\n",
      "[[125  22]\n",
      " [ 41  43]]\n",
      "정확도: 0.7273, 정밀도: 0.6615, 재현율: 0.5119,F1: 0.5772, AUC:0.8162\n",
      "RandomForest\n"
     ]
    },
    {
     "data": {
      "image/png": "[encoded data removed]",
      "text/plain": [
       "<Figure size 432x288 with 1 Axes>"
      ]
     },
     "metadata": {
      "needs_background": "light"
     },
     "output_type": "display_data"
    },
    {
     "name": "stdout",
     "output_type": "stream",
     "text": [
      "confusion matrix\n",
      "[[127  20]\n",
      " [ 37  47]]\n",
      "정확도: 0.7532, 정밀도: 0.7015, 재현율: 0.5595,F1: 0.6225, AUC:0.8016\n"
     ]
    }
   ],
   "source": [
    "print('DecisionTree')\n",
    "roc_curve_plot(y_test,dclf_proba)\n",
    "get_clf_eval(y_test,dclf_pred,dclf_proba)\n",
    "print('LogistricRegression')\n",
    "roc_curve_plot(y_test,lgr_proba)\n",
    "get_clf_eval(y_test,lgr_pred,lgr_proba)\n",
    "print('RandomForest')\n",
    "roc_curve_plot(y_test,rclf_proba)\n",
    "get_clf_eval(y_test,rclf_pred,rclf_proba)"
   ]
  },
  {
   "cell_type": "code",
   "execution_count": 79,
   "id": "a89166b9-310b-4040-95b3-4e882372668c",
   "metadata": {},
   "outputs": [],
   "source": [
    "def get_eval_by_threshold(y_test,proba,thresholds):\n",
    "    #thresholds list 객체내의 값을 차례로 iteration하면서 evaluation 수행.\n",
    "    for custom_threshold in thresholds:\n",
    "        binarizer = Binarizer(threshold=custom_threshold).fit(proba)\n",
    "        custom_predict = binarizer.transform(proba)\n",
    "        print('임계값', custom_threshold)\n",
    "        get_clf_eval(y_test,custom_predict)\n",
    "        print()"
   ]
  },
  {
   "cell_type": "code",
   "execution_count": 99,
   "id": "3b61eb10-fa3d-4250-a45d-a7adb7cf1ee7",
   "metadata": {},
   "outputs": [
    {
     "name": "stdout",
     "output_type": "stream",
     "text": [
      "임계값 0.4\n"
     ]
    },
    {
     "ename": "TypeError",
     "evalue": "get_clf_eval() missing 1 required positional argument: 'proba'",
     "output_type": "error",
     "traceback": [
      "\u001b[1;31m---------------------------------------------------------------------------\u001b[0m",
      "\u001b[1;31mTypeError\u001b[0m                                 Traceback (most recent call last)",
      "\u001b[1;32m<ipython-input-99-cb09434d7027>\u001b[0m in \u001b[0;36m<module>\u001b[1;34m\u001b[0m\n\u001b[0;32m      1\u001b[0m \u001b[0mthresholds\u001b[0m \u001b[1;33m=\u001b[0m \u001b[1;33m[\u001b[0m\u001b[1;36m0.4\u001b[0m\u001b[1;33m,\u001b[0m\u001b[1;36m0.45\u001b[0m\u001b[1;33m,\u001b[0m\u001b[1;36m0.50\u001b[0m\u001b[1;33m,\u001b[0m\u001b[1;36m0.55\u001b[0m\u001b[1;33m,\u001b[0m\u001b[1;36m0.60\u001b[0m\u001b[1;33m]\u001b[0m\u001b[1;33m\u001b[0m\u001b[1;33m\u001b[0m\u001b[0m\n\u001b[1;32m----> 2\u001b[1;33m \u001b[0mget_eval_by_threshold\u001b[0m\u001b[1;33m(\u001b[0m\u001b[0my_test\u001b[0m\u001b[1;33m,\u001b[0m \u001b[0mdclf_proba\u001b[0m\u001b[1;33m.\u001b[0m\u001b[0mreshape\u001b[0m\u001b[1;33m(\u001b[0m\u001b[1;33m-\u001b[0m\u001b[1;36m1\u001b[0m\u001b[1;33m,\u001b[0m\u001b[1;36m1\u001b[0m\u001b[1;33m)\u001b[0m\u001b[1;33m,\u001b[0m\u001b[0mthresholds\u001b[0m\u001b[1;33m)\u001b[0m\u001b[1;33m\u001b[0m\u001b[1;33m\u001b[0m\u001b[0m\n\u001b[0m",
      "\u001b[1;32m<ipython-input-93-edebf499db26>\u001b[0m in \u001b[0;36mget_eval_by_threshold\u001b[1;34m(y_test, proba, thresholds)\u001b[0m\n\u001b[0;32m      5\u001b[0m         \u001b[0mcustom_predict\u001b[0m \u001b[1;33m=\u001b[0m \u001b[0mbinarizer\u001b[0m\u001b[1;33m.\u001b[0m\u001b[0mtransform\u001b[0m\u001b[1;33m(\u001b[0m\u001b[0mproba\u001b[0m\u001b[1;33m)\u001b[0m\u001b[1;33m\u001b[0m\u001b[1;33m\u001b[0m\u001b[0m\n\u001b[0;32m      6\u001b[0m         \u001b[0mprint\u001b[0m\u001b[1;33m(\u001b[0m\u001b[1;34m'임계값'\u001b[0m\u001b[1;33m,\u001b[0m \u001b[0mcustom_threshold\u001b[0m\u001b[1;33m)\u001b[0m\u001b[1;33m\u001b[0m\u001b[1;33m\u001b[0m\u001b[0m\n\u001b[1;32m----> 7\u001b[1;33m         \u001b[0mget_clf_eval\u001b[0m\u001b[1;33m(\u001b[0m\u001b[0my_test\u001b[0m\u001b[1;33m,\u001b[0m\u001b[0mcustom_predict\u001b[0m\u001b[1;33m)\u001b[0m\u001b[1;33m\u001b[0m\u001b[1;33m\u001b[0m\u001b[0m\n\u001b[0m\u001b[0;32m      8\u001b[0m         \u001b[0mprint\u001b[0m\u001b[1;33m(\u001b[0m\u001b[1;33m)\u001b[0m\u001b[1;33m\u001b[0m\u001b[1;33m\u001b[0m\u001b[0m\n",
      "\u001b[1;31mTypeError\u001b[0m: get_clf_eval() missing 1 required positional argument: 'proba'"
     ]
    }
   ],
   "source": [
    "thresholds = [0.4,0.45,0.50,0.55,0.60]\n",
    "get_eval_by_threshold(y_test, dclf_proba.reshape(-1,1),thresholds)"
   ]
  },
  {
   "cell_type": "code",
   "execution_count": null,
   "id": "226512f8-312b-4ca1-90ec-988bca132ff6",
   "metadata": {},
   "outputs": [],
   "source": []
  }
 ],
 "metadata": {
  "kernelspec": {
   "display_name": "Python 3",
   "language": "python",
   "name": "python3"
  },
  "language_info": {
   "codemirror_mode": {
    "name": "ipython",
    "version": 3
   },
   "file_extension": ".py",
   "mimetype": "text/x-python",
   "name": "python",
   "nbconvert_exporter": "python",
   "pygments_lexer": "ipython3",
   "version": "3.8.10"
  },
  "widgets": {
   "application/vnd.jupyter.widget-state+json": {
    "state": {},
    "version_major": 2,
    "version_minor": 0
   }
  }
 },
 "nbformat": 4,
 "nbformat_minor": 5
}
