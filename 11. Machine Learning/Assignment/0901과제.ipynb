{
 "cells": [
  {
   "cell_type": "markdown",
   "id": "686e8567-466e-47f4-8cc2-e3b0fbfbb5f2",
   "metadata": {
    "tags": []
   },
   "source": [
    "# [과제] \n",
    "\n",
    "신용카드 데이터 세트는 30000개의 레코드와 24개의 속성을 가지고 있으며 'default payment next month' 속성이 Target 값으로 연체일 경우 1, 정상납부가 0임.\n",
    "PCA 데이터 세트에 기반한 신용카드 고객 연체 여부 분류 예측을 아래와 같이 수행하세요.\n",
    "- 독립변수간 상관도를 시각화\n",
    "- 독립변수간 상관도가 0.9인 속성 6개를 2개의 PCA 컴포넌트 변환 뒤 교차 검증(CV=3) 하여 변환 후 이전의 정확도와 비교\n",
    "        \n",
    "        변수 6개 만 선택하여 그걸 2개의 pCA컴포넌트로 변환. 그러면 두개로 바뀌는까 그것들을 교참검증해라\n",
    "- 6개의 PCA컴포넌트 변환 뒤 교차검정(cv=3)하여 변환 후 이전의 정확도와 비교"
   ]
  },
  {
   "cell_type": "markdown",
   "id": "b7971c69-459d-404a-9853-c3f09be19777",
   "metadata": {},
   "source": [
    "###### module import"
   ]
  },
  {
   "cell_type": "code",
   "execution_count": 1,
   "id": "b0d1601f-f051-4486-bee5-4139354d5bca",
   "metadata": {},
   "outputs": [],
   "source": [
    "# basic module\n",
    "import numpy as np\n",
    "import pandas as pd\n",
    "import matplotlib.pyplot as plt\n",
    "import seaborn as sns\n",
    "%matplotlib inline\n",
    "\n",
    "# sepearte module\n",
    "from sklearn.model_selection import train_test_split\n",
    "\n",
    "# preprocessing module\n",
    "from sklearn.decomposition import PCA\n",
    "from sklearn.preprocessing import StandardScaler\n",
    "\n",
    "# machine Learning modules (classification)\n",
    "from sklearn.ensemble import RandomForestClassifier\n",
    "\n",
    "# machine Learning evaluation\n",
    "\n",
    "from sklearn.model_selection import cross_val_score\n",
    "\n",
    "# Developing\n",
    "from sklearn.model_selection import GridSearchCV"
   ]
  },
  {
   "cell_type": "markdown",
   "id": "e8bf6f37-6abc-4390-bc80-2593281a60d6",
   "metadata": {},
   "source": [
    "## Load data"
   ]
  },
  {
   "cell_type": "code",
   "execution_count": 2,
   "id": "2e977c95-c354-4bfe-a02e-af857b242d3c",
   "metadata": {},
   "outputs": [
    {
     "data": {
      "text/html": [
       "<div>\n",
       "<style scoped>\n",
       "    .dataframe tbody tr th:only-of-type {\n",
       "        vertical-align: middle;\n",
       "    }\n",
       "\n",
       "    .dataframe tbody tr th {\n",
       "        vertical-align: top;\n",
       "    }\n",
       "\n",
       "    .dataframe thead th {\n",
       "        text-align: right;\n",
       "    }\n",
       "</style>\n",
       "<table border=\"1\" class=\"dataframe\">\n",
       "  <thead>\n",
       "    <tr style=\"text-align: right;\">\n",
       "      <th></th>\n",
       "      <th>LIMIT_BAL</th>\n",
       "      <th>SEX</th>\n",
       "      <th>EDUCATION</th>\n",
       "      <th>MARRIAGE</th>\n",
       "      <th>AGE</th>\n",
       "      <th>PAY_0</th>\n",
       "      <th>PAY_2</th>\n",
       "      <th>PAY_3</th>\n",
       "      <th>PAY_4</th>\n",
       "      <th>PAY_5</th>\n",
       "      <th>...</th>\n",
       "      <th>BILL_AMT4</th>\n",
       "      <th>BILL_AMT5</th>\n",
       "      <th>BILL_AMT6</th>\n",
       "      <th>PAY_AMT1</th>\n",
       "      <th>PAY_AMT2</th>\n",
       "      <th>PAY_AMT3</th>\n",
       "      <th>PAY_AMT4</th>\n",
       "      <th>PAY_AMT5</th>\n",
       "      <th>PAY_AMT6</th>\n",
       "      <th>default payment next month</th>\n",
       "    </tr>\n",
       "  </thead>\n",
       "  <tbody>\n",
       "    <tr>\n",
       "      <th>0</th>\n",
       "      <td>20000</td>\n",
       "      <td>2</td>\n",
       "      <td>2</td>\n",
       "      <td>1</td>\n",
       "      <td>24</td>\n",
       "      <td>2</td>\n",
       "      <td>2</td>\n",
       "      <td>-1</td>\n",
       "      <td>-1</td>\n",
       "      <td>-2</td>\n",
       "      <td>...</td>\n",
       "      <td>0</td>\n",
       "      <td>0</td>\n",
       "      <td>0</td>\n",
       "      <td>0</td>\n",
       "      <td>689</td>\n",
       "      <td>0</td>\n",
       "      <td>0</td>\n",
       "      <td>0</td>\n",
       "      <td>0</td>\n",
       "      <td>1</td>\n",
       "    </tr>\n",
       "    <tr>\n",
       "      <th>1</th>\n",
       "      <td>120000</td>\n",
       "      <td>2</td>\n",
       "      <td>2</td>\n",
       "      <td>2</td>\n",
       "      <td>26</td>\n",
       "      <td>-1</td>\n",
       "      <td>2</td>\n",
       "      <td>0</td>\n",
       "      <td>0</td>\n",
       "      <td>0</td>\n",
       "      <td>...</td>\n",
       "      <td>3272</td>\n",
       "      <td>3455</td>\n",
       "      <td>3261</td>\n",
       "      <td>0</td>\n",
       "      <td>1000</td>\n",
       "      <td>1000</td>\n",
       "      <td>1000</td>\n",
       "      <td>0</td>\n",
       "      <td>2000</td>\n",
       "      <td>1</td>\n",
       "    </tr>\n",
       "    <tr>\n",
       "      <th>2</th>\n",
       "      <td>90000</td>\n",
       "      <td>2</td>\n",
       "      <td>2</td>\n",
       "      <td>2</td>\n",
       "      <td>34</td>\n",
       "      <td>0</td>\n",
       "      <td>0</td>\n",
       "      <td>0</td>\n",
       "      <td>0</td>\n",
       "      <td>0</td>\n",
       "      <td>...</td>\n",
       "      <td>14331</td>\n",
       "      <td>14948</td>\n",
       "      <td>15549</td>\n",
       "      <td>1518</td>\n",
       "      <td>1500</td>\n",
       "      <td>1000</td>\n",
       "      <td>1000</td>\n",
       "      <td>1000</td>\n",
       "      <td>5000</td>\n",
       "      <td>0</td>\n",
       "    </tr>\n",
       "    <tr>\n",
       "      <th>3</th>\n",
       "      <td>50000</td>\n",
       "      <td>2</td>\n",
       "      <td>2</td>\n",
       "      <td>1</td>\n",
       "      <td>37</td>\n",
       "      <td>0</td>\n",
       "      <td>0</td>\n",
       "      <td>0</td>\n",
       "      <td>0</td>\n",
       "      <td>0</td>\n",
       "      <td>...</td>\n",
       "      <td>28314</td>\n",
       "      <td>28959</td>\n",
       "      <td>29547</td>\n",
       "      <td>2000</td>\n",
       "      <td>2019</td>\n",
       "      <td>1200</td>\n",
       "      <td>1100</td>\n",
       "      <td>1069</td>\n",
       "      <td>1000</td>\n",
       "      <td>0</td>\n",
       "    </tr>\n",
       "    <tr>\n",
       "      <th>4</th>\n",
       "      <td>50000</td>\n",
       "      <td>1</td>\n",
       "      <td>2</td>\n",
       "      <td>1</td>\n",
       "      <td>57</td>\n",
       "      <td>-1</td>\n",
       "      <td>0</td>\n",
       "      <td>-1</td>\n",
       "      <td>0</td>\n",
       "      <td>0</td>\n",
       "      <td>...</td>\n",
       "      <td>20940</td>\n",
       "      <td>19146</td>\n",
       "      <td>19131</td>\n",
       "      <td>2000</td>\n",
       "      <td>36681</td>\n",
       "      <td>10000</td>\n",
       "      <td>9000</td>\n",
       "      <td>689</td>\n",
       "      <td>679</td>\n",
       "      <td>0</td>\n",
       "    </tr>\n",
       "    <tr>\n",
       "      <th>...</th>\n",
       "      <td>...</td>\n",
       "      <td>...</td>\n",
       "      <td>...</td>\n",
       "      <td>...</td>\n",
       "      <td>...</td>\n",
       "      <td>...</td>\n",
       "      <td>...</td>\n",
       "      <td>...</td>\n",
       "      <td>...</td>\n",
       "      <td>...</td>\n",
       "      <td>...</td>\n",
       "      <td>...</td>\n",
       "      <td>...</td>\n",
       "      <td>...</td>\n",
       "      <td>...</td>\n",
       "      <td>...</td>\n",
       "      <td>...</td>\n",
       "      <td>...</td>\n",
       "      <td>...</td>\n",
       "      <td>...</td>\n",
       "      <td>...</td>\n",
       "    </tr>\n",
       "    <tr>\n",
       "      <th>29995</th>\n",
       "      <td>220000</td>\n",
       "      <td>1</td>\n",
       "      <td>3</td>\n",
       "      <td>1</td>\n",
       "      <td>39</td>\n",
       "      <td>0</td>\n",
       "      <td>0</td>\n",
       "      <td>0</td>\n",
       "      <td>0</td>\n",
       "      <td>0</td>\n",
       "      <td>...</td>\n",
       "      <td>88004</td>\n",
       "      <td>31237</td>\n",
       "      <td>15980</td>\n",
       "      <td>8500</td>\n",
       "      <td>20000</td>\n",
       "      <td>5003</td>\n",
       "      <td>3047</td>\n",
       "      <td>5000</td>\n",
       "      <td>1000</td>\n",
       "      <td>0</td>\n",
       "    </tr>\n",
       "    <tr>\n",
       "      <th>29996</th>\n",
       "      <td>150000</td>\n",
       "      <td>1</td>\n",
       "      <td>3</td>\n",
       "      <td>2</td>\n",
       "      <td>43</td>\n",
       "      <td>-1</td>\n",
       "      <td>-1</td>\n",
       "      <td>-1</td>\n",
       "      <td>-1</td>\n",
       "      <td>0</td>\n",
       "      <td>...</td>\n",
       "      <td>8979</td>\n",
       "      <td>5190</td>\n",
       "      <td>0</td>\n",
       "      <td>1837</td>\n",
       "      <td>3526</td>\n",
       "      <td>8998</td>\n",
       "      <td>129</td>\n",
       "      <td>0</td>\n",
       "      <td>0</td>\n",
       "      <td>0</td>\n",
       "    </tr>\n",
       "    <tr>\n",
       "      <th>29997</th>\n",
       "      <td>30000</td>\n",
       "      <td>1</td>\n",
       "      <td>2</td>\n",
       "      <td>2</td>\n",
       "      <td>37</td>\n",
       "      <td>4</td>\n",
       "      <td>3</td>\n",
       "      <td>2</td>\n",
       "      <td>-1</td>\n",
       "      <td>0</td>\n",
       "      <td>...</td>\n",
       "      <td>20878</td>\n",
       "      <td>20582</td>\n",
       "      <td>19357</td>\n",
       "      <td>0</td>\n",
       "      <td>0</td>\n",
       "      <td>22000</td>\n",
       "      <td>4200</td>\n",
       "      <td>2000</td>\n",
       "      <td>3100</td>\n",
       "      <td>1</td>\n",
       "    </tr>\n",
       "    <tr>\n",
       "      <th>29998</th>\n",
       "      <td>80000</td>\n",
       "      <td>1</td>\n",
       "      <td>3</td>\n",
       "      <td>1</td>\n",
       "      <td>41</td>\n",
       "      <td>1</td>\n",
       "      <td>-1</td>\n",
       "      <td>0</td>\n",
       "      <td>0</td>\n",
       "      <td>0</td>\n",
       "      <td>...</td>\n",
       "      <td>52774</td>\n",
       "      <td>11855</td>\n",
       "      <td>48944</td>\n",
       "      <td>85900</td>\n",
       "      <td>3409</td>\n",
       "      <td>1178</td>\n",
       "      <td>1926</td>\n",
       "      <td>52964</td>\n",
       "      <td>1804</td>\n",
       "      <td>1</td>\n",
       "    </tr>\n",
       "    <tr>\n",
       "      <th>29999</th>\n",
       "      <td>50000</td>\n",
       "      <td>1</td>\n",
       "      <td>2</td>\n",
       "      <td>1</td>\n",
       "      <td>46</td>\n",
       "      <td>0</td>\n",
       "      <td>0</td>\n",
       "      <td>0</td>\n",
       "      <td>0</td>\n",
       "      <td>0</td>\n",
       "      <td>...</td>\n",
       "      <td>36535</td>\n",
       "      <td>32428</td>\n",
       "      <td>15313</td>\n",
       "      <td>2078</td>\n",
       "      <td>1800</td>\n",
       "      <td>1430</td>\n",
       "      <td>1000</td>\n",
       "      <td>1000</td>\n",
       "      <td>1000</td>\n",
       "      <td>1</td>\n",
       "    </tr>\n",
       "  </tbody>\n",
       "</table>\n",
       "<p>30000 rows × 24 columns</p>\n",
       "</div>"
      ],
      "text/plain": [
       "       LIMIT_BAL  SEX  EDUCATION  MARRIAGE  AGE  PAY_0  PAY_2  PAY_3  PAY_4  \\\n",
       "0          20000    2          2         1   24      2      2     -1     -1   \n",
       "1         120000    2          2         2   26     -1      2      0      0   \n",
       "2          90000    2          2         2   34      0      0      0      0   \n",
       "3          50000    2          2         1   37      0      0      0      0   \n",
       "4          50000    1          2         1   57     -1      0     -1      0   \n",
       "...          ...  ...        ...       ...  ...    ...    ...    ...    ...   \n",
       "29995     220000    1          3         1   39      0      0      0      0   \n",
       "29996     150000    1          3         2   43     -1     -1     -1     -1   \n",
       "29997      30000    1          2         2   37      4      3      2     -1   \n",
       "29998      80000    1          3         1   41      1     -1      0      0   \n",
       "29999      50000    1          2         1   46      0      0      0      0   \n",
       "\n",
       "       PAY_5  ...  BILL_AMT4  BILL_AMT5  BILL_AMT6  PAY_AMT1  PAY_AMT2  \\\n",
       "0         -2  ...          0          0          0         0       689   \n",
       "1          0  ...       3272       3455       3261         0      1000   \n",
       "2          0  ...      14331      14948      15549      1518      1500   \n",
       "3          0  ...      28314      28959      29547      2000      2019   \n",
       "4          0  ...      20940      19146      19131      2000     36681   \n",
       "...      ...  ...        ...        ...        ...       ...       ...   \n",
       "29995      0  ...      88004      31237      15980      8500     20000   \n",
       "29996      0  ...       8979       5190          0      1837      3526   \n",
       "29997      0  ...      20878      20582      19357         0         0   \n",
       "29998      0  ...      52774      11855      48944     85900      3409   \n",
       "29999      0  ...      36535      32428      15313      2078      1800   \n",
       "\n",
       "       PAY_AMT3  PAY_AMT4  PAY_AMT5  PAY_AMT6  default payment next month  \n",
       "0             0         0         0         0                           1  \n",
       "1          1000      1000         0      2000                           1  \n",
       "2          1000      1000      1000      5000                           0  \n",
       "3          1200      1100      1069      1000                           0  \n",
       "4         10000      9000       689       679                           0  \n",
       "...         ...       ...       ...       ...                         ...  \n",
       "29995      5003      3047      5000      1000                           0  \n",
       "29996      8998       129         0         0                           0  \n",
       "29997     22000      4200      2000      3100                           1  \n",
       "29998      1178      1926     52964      1804                           1  \n",
       "29999      1430      1000      1000      1000                           1  \n",
       "\n",
       "[30000 rows x 24 columns]"
      ]
     },
     "execution_count": 2,
     "metadata": {},
     "output_type": "execute_result"
    }
   ],
   "source": [
    "credit = pd.read_excel('Data/credit_card.xls',header=1).iloc[0:,1:]\n",
    "credit"
   ]
  },
  {
   "cell_type": "markdown",
   "id": "52022e2f-f384-413a-b2ba-ae937be75377",
   "metadata": {},
   "source": [
    "### data_info"
   ]
  },
  {
   "cell_type": "code",
   "execution_count": 3,
   "id": "ad5594b2-2b8e-40f7-80c4-d437c83064ca",
   "metadata": {},
   "outputs": [
    {
     "data": {
      "text/html": [
       "<div>\n",
       "<style scoped>\n",
       "    .dataframe tbody tr th:only-of-type {\n",
       "        vertical-align: middle;\n",
       "    }\n",
       "\n",
       "    .dataframe tbody tr th {\n",
       "        vertical-align: top;\n",
       "    }\n",
       "\n",
       "    .dataframe thead th {\n",
       "        text-align: right;\n",
       "    }\n",
       "</style>\n",
       "<table border=\"1\" class=\"dataframe\">\n",
       "  <thead>\n",
       "    <tr style=\"text-align: right;\">\n",
       "      <th></th>\n",
       "      <th>LIMIT_BAL</th>\n",
       "      <th>SEX</th>\n",
       "      <th>EDUCATION</th>\n",
       "      <th>MARRIAGE</th>\n",
       "      <th>AGE</th>\n",
       "      <th>PAY_0</th>\n",
       "      <th>PAY_2</th>\n",
       "      <th>PAY_3</th>\n",
       "      <th>PAY_4</th>\n",
       "      <th>PAY_5</th>\n",
       "      <th>...</th>\n",
       "      <th>BILL_AMT4</th>\n",
       "      <th>BILL_AMT5</th>\n",
       "      <th>BILL_AMT6</th>\n",
       "      <th>PAY_AMT1</th>\n",
       "      <th>PAY_AMT2</th>\n",
       "      <th>PAY_AMT3</th>\n",
       "      <th>PAY_AMT4</th>\n",
       "      <th>PAY_AMT5</th>\n",
       "      <th>PAY_AMT6</th>\n",
       "      <th>default payment next month</th>\n",
       "    </tr>\n",
       "  </thead>\n",
       "  <tbody>\n",
       "    <tr>\n",
       "      <th>0</th>\n",
       "      <td>20000</td>\n",
       "      <td>2</td>\n",
       "      <td>2</td>\n",
       "      <td>1</td>\n",
       "      <td>24</td>\n",
       "      <td>2</td>\n",
       "      <td>2</td>\n",
       "      <td>-1</td>\n",
       "      <td>-1</td>\n",
       "      <td>-2</td>\n",
       "      <td>...</td>\n",
       "      <td>0</td>\n",
       "      <td>0</td>\n",
       "      <td>0</td>\n",
       "      <td>0</td>\n",
       "      <td>689</td>\n",
       "      <td>0</td>\n",
       "      <td>0</td>\n",
       "      <td>0</td>\n",
       "      <td>0</td>\n",
       "      <td>1</td>\n",
       "    </tr>\n",
       "    <tr>\n",
       "      <th>1</th>\n",
       "      <td>120000</td>\n",
       "      <td>2</td>\n",
       "      <td>2</td>\n",
       "      <td>2</td>\n",
       "      <td>26</td>\n",
       "      <td>-1</td>\n",
       "      <td>2</td>\n",
       "      <td>0</td>\n",
       "      <td>0</td>\n",
       "      <td>0</td>\n",
       "      <td>...</td>\n",
       "      <td>3272</td>\n",
       "      <td>3455</td>\n",
       "      <td>3261</td>\n",
       "      <td>0</td>\n",
       "      <td>1000</td>\n",
       "      <td>1000</td>\n",
       "      <td>1000</td>\n",
       "      <td>0</td>\n",
       "      <td>2000</td>\n",
       "      <td>1</td>\n",
       "    </tr>\n",
       "  </tbody>\n",
       "</table>\n",
       "<p>2 rows × 24 columns</p>\n",
       "</div>"
      ],
      "text/plain": [
       "   LIMIT_BAL  SEX  EDUCATION  MARRIAGE  AGE  PAY_0  PAY_2  PAY_3  PAY_4  \\\n",
       "0      20000    2          2         1   24      2      2     -1     -1   \n",
       "1     120000    2          2         2   26     -1      2      0      0   \n",
       "\n",
       "   PAY_5  ...  BILL_AMT4  BILL_AMT5  BILL_AMT6  PAY_AMT1  PAY_AMT2  PAY_AMT3  \\\n",
       "0     -2  ...          0          0          0         0       689         0   \n",
       "1      0  ...       3272       3455       3261         0      1000      1000   \n",
       "\n",
       "   PAY_AMT4  PAY_AMT5  PAY_AMT6  default payment next month  \n",
       "0         0         0         0                           1  \n",
       "1      1000         0      2000                           1  \n",
       "\n",
       "[2 rows x 24 columns]"
      ]
     },
     "metadata": {},
     "output_type": "display_data"
    },
    {
     "name": "stdout",
     "output_type": "stream",
     "text": [
      "[shape] :  (30000, 24)\n",
      "[rows] : 30000 , [columns] : 24 \n",
      "\n",
      "[house_value_counts] :  int64    24\n",
      "dtype: int64 \n",
      "\n",
      "[columns] :  Index(['LIMIT_BAL', 'SEX', 'EDUCATION', 'MARRIAGE', 'AGE', 'PAY_0', 'PAY_2',\n",
      "       'PAY_3', 'PAY_4', 'PAY_5', 'PAY_6', 'BILL_AMT1', 'BILL_AMT2',\n",
      "       'BILL_AMT3', 'BILL_AMT4', 'BILL_AMT5', 'BILL_AMT6', 'PAY_AMT1',\n",
      "       'PAY_AMT2', 'PAY_AMT3', 'PAY_AMT4', 'PAY_AMT5', 'PAY_AMT6',\n",
      "       'default payment next month'],\n",
      "      dtype='object') \n",
      "\n",
      "[Null_values] :  Series([], dtype: int64)\n"
     ]
    }
   ],
   "source": [
    "def data_info(df):\n",
    "    display(df.head(2))\n",
    "    print('[shape] : ',df.shape)\n",
    "    print('[rows] : {} , [columns] : {}'.format(df.shape[0],df.shape[1]),'\\n')\n",
    "    print('[house_value_counts] : ',df.dtypes.value_counts(),'\\n')\n",
    "    print('[columns] : ' ,df.columns,'\\n')\n",
    "    nl_v = df.isnull().sum()\n",
    "    print('[Null_values] : ',nl_v[nl_v>0].sort_values(ascending=False))\n",
    "    \n",
    "data_info(credit)"
   ]
  },
  {
   "cell_type": "markdown",
   "id": "dc68828f-5365-4ea0-b7d4-fd52a41d4b4f",
   "metadata": {},
   "source": [
    "### get_corr_"
   ]
  },
  {
   "cell_type": "code",
   "execution_count": 4,
   "id": "29319bb5-0780-4701-b5b7-f51bc9ca9281",
   "metadata": {},
   "outputs": [
    {
     "name": "stdout",
     "output_type": "stream",
     "text": [
      "AxesSubplot(0.125,0.125;0.62x0.755)\n",
      "MARRIAGE                    AGE                          -0.414170\n",
      "AGE                         MARRIAGE                     -0.414170\n",
      "PAY_2                       LIMIT_BAL                    -0.296382\n",
      "LIMIT_BAL                   PAY_2                        -0.296382\n",
      "                            PAY_3                        -0.286123\n",
      "                                                            ...   \n",
      "PAY_AMT2                    PAY_AMT2                      1.000000\n",
      "PAY_AMT3                    PAY_AMT3                      1.000000\n",
      "PAY_AMT4                    PAY_AMT4                      1.000000\n",
      "BILL_AMT1                   BILL_AMT1                     1.000000\n",
      "default payment next month  default payment next month    1.000000\n",
      "Length: 576, dtype: float64\n",
      "\n",
      " MARRIAGE                    AGE                          -0.414170\n",
      "AGE                         MARRIAGE                     -0.414170\n",
      "PAY_2                       LIMIT_BAL                    -0.296382\n",
      "LIMIT_BAL                   PAY_2                        -0.296382\n",
      "                            PAY_3                        -0.286123\n",
      "                                                            ...   \n",
      "PAY_AMT2                    PAY_AMT2                      1.000000\n",
      "PAY_AMT3                    PAY_AMT3                      1.000000\n",
      "PAY_AMT4                    PAY_AMT4                      1.000000\n",
      "BILL_AMT1                   BILL_AMT1                     1.000000\n",
      "default payment next month  default payment next month    1.000000\n",
      "Length: 576, dtype: float64 \n",
      "\n",
      "dict_keys(['BILL_AMT6', 'BILL_AMT4', 'BILL_AMT3', 'BILL_AMT2', 'BILL_AMT5', 'BILL_AMT1'])\n"
     ]
    },
    {
     "data": {
      "image/png": "[encoded data removed]",
      "text/plain": [
       "<Figure size 720x720 with 2 Axes>"
      ]
     },
     "metadata": {
      "needs_background": "light"
     },
     "output_type": "display_data"
    }
   ],
   "source": [
    "def get_corr(df, upper_condition_n, most_up_condition_n):\n",
    "    cr = df.corr()\n",
    "    plt.figure(figsize=(10,10))\n",
    "    print(sns.heatmap(cr,annot=True))\n",
    "    cr_p = cr.unstack()\n",
    "    cr_v = cr_p.sort_values()\n",
    "    print(cr_v)\n",
    "    print('\\n',cr_v,'\\n')\n",
    "    cond = cr_v[(upper_condition_n<abs(cr_v)) & (most_up_condition_n > abs(cr_v))].keys()\n",
    "    print(dict(cond).keys())\n",
    "get_corr(credit,0.9,1)"
   ]
  },
  {
   "cell_type": "markdown",
   "id": "c1618999-e700-4891-bba2-d637b4d5b7a7",
   "metadata": {},
   "source": [
    "### Preprocessing"
   ]
  },
  {
   "cell_type": "code",
   "execution_count": 5,
   "id": "eff0b082-08bb-44a6-a9ea-0c5381e277d2",
   "metadata": {},
   "outputs": [
    {
     "data": {
      "text/plain": [
       "0        1\n",
       "1        1\n",
       "2        0\n",
       "3        0\n",
       "4        0\n",
       "        ..\n",
       "29995    0\n",
       "29996    0\n",
       "29997    1\n",
       "29998    1\n",
       "29999    1\n",
       "Name: target, Length: 30000, dtype: int64"
      ]
     },
     "execution_count": 5,
     "metadata": {},
     "output_type": "execute_result"
    }
   ],
   "source": [
    "credit = credit.rename(columns={'default payment next month':'target'})\n",
    "credit['target']"
   ]
  },
  {
   "cell_type": "markdown",
   "id": "0801d76b-b50e-4e2f-86ae-5a799519c763",
   "metadata": {},
   "source": [
    "## Seperate"
   ]
  },
  {
   "cell_type": "code",
   "execution_count": 6,
   "id": "df34abfe-b6b1-4081-93f9-d575c13f6c1e",
   "metadata": {},
   "outputs": [],
   "source": [
    "X = credit.drop('target',axis=1)\n",
    "y = credit['target']"
   ]
  },
  {
   "cell_type": "code",
   "execution_count": 7,
   "id": "e7766db6-4699-40b2-af58-e0f470f8f1c1",
   "metadata": {},
   "outputs": [],
   "source": [
    "bils_list = ['BILL_AMT6', 'BILL_AMT4', 'BILL_AMT3', 'BILL_AMT2', 'BILL_AMT5', 'BILL_AMT1']\n",
    "X_l = X[bils_list]"
   ]
  },
  {
   "cell_type": "markdown",
   "id": "1d8a9e26-268a-4d8e-ad14-dce91c1038bd",
   "metadata": {},
   "source": [
    "## Q_1"
   ]
  },
  {
   "cell_type": "markdown",
   "id": "93e92aa3-c69e-4c4b-b448-f04e04a3da64",
   "metadata": {},
   "source": [
    "### Non_pca"
   ]
  },
  {
   "cell_type": "markdown",
   "id": "e25fb36d-c34b-4f3e-b7cf-45adc982339c",
   "metadata": {},
   "source": [
    "#### visualization"
   ]
  },
  {
   "cell_type": "code",
   "execution_count": 8,
   "id": "bb9c64c8-256d-47fe-a038-218e353d8f4f",
   "metadata": {},
   "outputs": [
    {
     "data": {
      "image/png": "[encoded data removed]",
      "text/plain": [
       "<Figure size 432x288 with 1 Axes>"
      ]
     },
     "metadata": {
      "needs_background": "light"
     },
     "output_type": "display_data"
    }
   ],
   "source": [
    "markers = ['s','o','^','P','D','H','X']\n",
    "target_list=[0,1]\n",
    "for target in target_list:\n",
    "    x_axis_data = credit[credit.target==target]['BILL_AMT1']\n",
    "    y_axis_data = credit[credit.target==target]['BILL_AMT5']\n",
    "    plt.scatter(x_axis_data,y_axis_data,marker=markers[target])"
   ]
  },
  {
   "cell_type": "markdown",
   "id": "192a7226-c7ad-46e8-b953-61c982d903bf",
   "metadata": {},
   "source": [
    "#### train_test_split "
   ]
  },
  {
   "cell_type": "code",
   "execution_count": 9,
   "id": "74e0fe3c-2e01-4565-8ee7-4f8b5bcd3b4f",
   "metadata": {},
   "outputs": [],
   "source": [
    "X_train, X_test, y_train, y_test = train_test_split(X_l,y,test_size=0.3,random_state=156)"
   ]
  },
  {
   "cell_type": "markdown",
   "id": "38960828-9236-442b-a03d-fda16fabb830",
   "metadata": {},
   "source": [
    "#### Machine Learning model import"
   ]
  },
  {
   "cell_type": "code",
   "execution_count": 10,
   "id": "35b504fd-3701-4db7-bc61-51437c1030fd",
   "metadata": {},
   "outputs": [],
   "source": [
    "rf = RandomForestClassifier()"
   ]
  },
  {
   "cell_type": "markdown",
   "id": "3c9188e3-ac48-46fc-9a6f-f7f572481e88",
   "metadata": {},
   "source": [
    "#### Fitting"
   ]
  },
  {
   "cell_type": "code",
   "execution_count": 11,
   "id": "41520ccd-855b-4c1a-9fbc-1c9a3d392f82",
   "metadata": {},
   "outputs": [
    {
     "data": {
      "text/plain": [
       "RandomForestClassifier()"
      ]
     },
     "execution_count": 11,
     "metadata": {},
     "output_type": "execute_result"
    }
   ],
   "source": [
    "rf.fit(X_train,y_train)"
   ]
  },
  {
   "cell_type": "markdown",
   "id": "e9df3125-9463-431f-aae4-d1ee9b93571d",
   "metadata": {},
   "source": [
    "#### Predicting"
   ]
  },
  {
   "cell_type": "code",
   "execution_count": 12,
   "id": "ea0cac66-bb2e-43d0-8d80-36736c218fc5",
   "metadata": {},
   "outputs": [],
   "source": [
    "rf_pred = rf.predict(X_test)"
   ]
  },
  {
   "cell_type": "markdown",
   "id": "a9239192-b76f-4de8-81b2-a6c69835cc2f",
   "metadata": {},
   "source": [
    "#### Evaluation"
   ]
  },
  {
   "cell_type": "code",
   "execution_count": 13,
   "id": "3b28f865-c400-436e-9c11-b2b4c968a8b2",
   "metadata": {},
   "outputs": [
    {
     "name": "stdout",
     "output_type": "stream",
     "text": [
      "[model]: RandomForestClassifier() \n",
      "\n",
      "3 folds independent Negative MSE scores: [-0.23 -0.23 -0.22]\n",
      "3 folds in denpendent RMSE scores: [0.48 0.48 0.47]\n",
      "3 folds Mean RMSE: 0.478\n",
      "------------------------------------------------------------------------------------------\n",
      "accuracy [0.7706 0.7716 0.7737]\n",
      "mean_accuracy 0.7719666666666667\n",
      "==========================================================================================\n"
     ]
    }
   ],
   "source": [
    "def Cross_val_score_eval(model_name,X,y,n_cv):\n",
    "    neg_mse_score = cross_val_score(model_name,X,y,scoring=\"neg_mean_squared_error\",cv=n_cv)\n",
    "    rmse_score = np.sqrt(-1*neg_mse_score)\n",
    "    avg_rmse=np.mean(rmse_score)\n",
    "    print('[model]:',model_name,'\\n')\n",
    "    print(f'{n_cv} folds independent Negative MSE scores:', np.round(neg_mse_score,2))\n",
    "    print(f'{n_cv} folds in denpendent RMSE scores:', np.round(rmse_score,2))\n",
    "    print('{} folds Mean RMSE: {:.3f}'.format(n_cv,avg_rmse))\n",
    "    print('---' * 30)\n",
    "    score = cross_val_score(model_name,X,y,scoring='accuracy',cv=n_cv)\n",
    "    print('accuracy', score)\n",
    "    print('mean_accuracy',np.mean(score))\n",
    "    print('===' * 30)\n",
    "    \n",
    "Cross_val_score_eval(rf,X_l,y,3)"
   ]
  },
  {
   "cell_type": "markdown",
   "id": "db8a111d-46bb-459e-a387-b47ba7d93c1b",
   "metadata": {},
   "source": [
    "### Pca"
   ]
  },
  {
   "cell_type": "code",
   "execution_count": 14,
   "id": "08b01910-f661-46c5-8049-27bb18bcb6a9",
   "metadata": {},
   "outputs": [
    {
     "name": "stdout",
     "output_type": "stream",
     "text": [
      "(30000, 2)\n",
      "pca_component_1 :  0.9055525253986833\n",
      "pca_component_2 :  0.05098670119241613\n"
     ]
    },
    {
     "data": {
      "text/plain": [
       "array([[-1.54759523, -0.06234401],\n",
       "       [-1.03587378,  0.01125622],\n",
       "       [-0.25071237,  0.17437371],\n",
       "       [-0.96895076, -0.21303188]])"
      ]
     },
     "execution_count": 14,
     "metadata": {},
     "output_type": "execute_result"
    }
   ],
   "source": [
    "def pca_standard(X_features,n_pca):\n",
    "    from sklearn.preprocessing import StandardScaler\n",
    "    from sklearn.decomposition import PCA\n",
    "    scaler = StandardScaler()\n",
    "    df_scd = scaler.fit_transform(X_features)\n",
    "    pca = PCA(n_components=n_pca)\n",
    "    global df_pca\n",
    "    df_pca = pca.fit_transform(df_scd)\n",
    "    print(df_pca.shape)\n",
    "    evr = pca.explained_variance_ratio_\n",
    "    print('pca_component_1 : ', evr[0])\n",
    "    print('pca_component_2 : ', evr[1])\n",
    "    \n",
    "    \n",
    "pca_standard(X_l,2)\n",
    "\n",
    "df_pca[1:5]"
   ]
  },
  {
   "cell_type": "markdown",
   "id": "f76bee72-4091-4967-8426-e256b427957a",
   "metadata": {},
   "source": [
    "#### pca_DF"
   ]
  },
  {
   "cell_type": "code",
   "execution_count": 15,
   "id": "9d891514-6510-4a2a-bfc2-906e93846bda",
   "metadata": {},
   "outputs": [
    {
     "data": {
      "text/html": [
       "<div>\n",
       "<style scoped>\n",
       "    .dataframe tbody tr th:only-of-type {\n",
       "        vertical-align: middle;\n",
       "    }\n",
       "\n",
       "    .dataframe tbody tr th {\n",
       "        vertical-align: top;\n",
       "    }\n",
       "\n",
       "    .dataframe thead th {\n",
       "        text-align: right;\n",
       "    }\n",
       "</style>\n",
       "<table border=\"1\" class=\"dataframe\">\n",
       "  <thead>\n",
       "    <tr style=\"text-align: right;\">\n",
       "      <th></th>\n",
       "      <th>pca_component_1</th>\n",
       "      <th>pca_component_2</th>\n",
       "      <th>target</th>\n",
       "    </tr>\n",
       "  </thead>\n",
       "  <tbody>\n",
       "    <tr>\n",
       "      <th>0</th>\n",
       "      <td>-1.611148</td>\n",
       "      <td>0.012479</td>\n",
       "      <td>1</td>\n",
       "    </tr>\n",
       "  </tbody>\n",
       "</table>\n",
       "</div>"
      ],
      "text/plain": [
       "   pca_component_1  pca_component_2  target\n",
       "0        -1.611148         0.012479       1"
      ]
     },
     "execution_count": 15,
     "metadata": {},
     "output_type": "execute_result"
    }
   ],
   "source": [
    "pca_columns= ['pca_component_1','pca_component_2']\n",
    "df_Pca= pd.DataFrame(df_pca, columns=pca_columns)\n",
    "df_Pca['target']= credit.target\n",
    "df_Pca.head(1)"
   ]
  },
  {
   "cell_type": "markdown",
   "id": "180e487f-c492-43ff-ab12-8c370a576ec0",
   "metadata": {},
   "source": [
    "#### pca_Visualization"
   ]
  },
  {
   "cell_type": "code",
   "execution_count": 16,
   "id": "22c517f6-b5f5-42f2-ab68-5a66333a303d",
   "metadata": {},
   "outputs": [
    {
     "data": {
      "image/png": "[encoded data removed]",
      "text/plain": [
       "<Figure size 432x288 with 1 Axes>"
      ]
     },
     "metadata": {
      "needs_background": "light"
     },
     "output_type": "display_data"
    }
   ],
   "source": [
    "markers = ['s','o']\n",
    "for i,marker in enumerate(markers):\n",
    "    x_axis_data = df_Pca[df_Pca.target==i]['pca_component_1']\n",
    "    y_axis_data = df_Pca[df_Pca.target==i]['pca_component_2']\n",
    "    plt.scatter(x_axis_data,y_axis_data,marker=marker)"
   ]
  },
  {
   "cell_type": "markdown",
   "id": "a87ea10e-92d6-4e18-a8eb-7ee8b59a76c8",
   "metadata": {},
   "source": [
    "#### pca_seperate"
   ]
  },
  {
   "cell_type": "code",
   "execution_count": 17,
   "id": "1b54bf91-aee7-4c21-80e8-89f2185f89d1",
   "metadata": {},
   "outputs": [],
   "source": [
    "X_pca = df_Pca.drop('target',axis=1)\n",
    "y_pca = df_Pca['target']"
   ]
  },
  {
   "cell_type": "markdown",
   "id": "95f7a48b-d2af-4ab8-a03d-8ae5ea2a7739",
   "metadata": {},
   "source": [
    "#### pca_train_test_split"
   ]
  },
  {
   "cell_type": "code",
   "execution_count": 18,
   "id": "dc2bbd8d-4bc2-4f9e-8d2a-1825dd7b3924",
   "metadata": {},
   "outputs": [],
   "source": [
    "X_train_pca, X_test_pca, y_train_pca, y_test_pca = train_test_split(X_pca,y_pca,test_size=0.3,random_state=156)"
   ]
  },
  {
   "cell_type": "markdown",
   "id": "0d83a089-60c7-4f22-b9ad-bff32787e4b8",
   "metadata": {},
   "source": [
    "#### machine Learning model - RandomForest"
   ]
  },
  {
   "cell_type": "code",
   "execution_count": 19,
   "id": "5bbb00bb-e72a-445f-a55c-086058aaae80",
   "metadata": {},
   "outputs": [],
   "source": [
    "pc_rf = RandomForestClassifier()"
   ]
  },
  {
   "cell_type": "markdown",
   "id": "ea433310-4174-444c-bdfd-5e721c764a33",
   "metadata": {},
   "source": [
    "#### pca_fitting"
   ]
  },
  {
   "cell_type": "code",
   "execution_count": 20,
   "id": "64dca8cc-8012-4007-9b21-b784f5943b8b",
   "metadata": {},
   "outputs": [
    {
     "data": {
      "text/plain": [
       "RandomForestClassifier()"
      ]
     },
     "execution_count": 20,
     "metadata": {},
     "output_type": "execute_result"
    }
   ],
   "source": [
    "pc_rf.fit(X_train_pca,y_train_pca)"
   ]
  },
  {
   "cell_type": "markdown",
   "id": "0a911ce0-ce41-48ca-9d5a-7665d513e2cb",
   "metadata": {},
   "source": [
    "#### pca_predicting"
   ]
  },
  {
   "cell_type": "code",
   "execution_count": 21,
   "id": "9c86f5f7-8af0-4de1-8473-22365665c579",
   "metadata": {},
   "outputs": [],
   "source": [
    "pc_rf_pred = pc_rf.predict(X_test_pca)"
   ]
  },
  {
   "cell_type": "markdown",
   "id": "33afdf2e-e72d-42bf-81a9-ce5266f56c7a",
   "metadata": {},
   "source": [
    "#### pca_evaluation"
   ]
  },
  {
   "cell_type": "code",
   "execution_count": 22,
   "id": "05822395-0c35-45e2-9639-43850746cee9",
   "metadata": {},
   "outputs": [
    {
     "name": "stdout",
     "output_type": "stream",
     "text": [
      "[model]: RandomForestClassifier() \n",
      "\n",
      "3 folds independent Negative MSE scores: [-0.25 -0.25 -0.25]\n",
      "3 folds in denpendent RMSE scores: [0.5 0.5 0.5]\n",
      "3 folds Mean RMSE: 0.501\n",
      "------------------------------------------------------------------------------------------\n",
      "accuracy [0.7456 0.7516 0.7508]\n",
      "mean_accuracy 0.7493333333333334\n",
      "==========================================================================================\n"
     ]
    }
   ],
   "source": [
    "Cross_val_score_eval(pc_rf,X_pca,y_pca,3)"
   ]
  },
  {
   "cell_type": "markdown",
   "id": "0821ba36-4ad3-4905-b171-b41742be29f6",
   "metadata": {},
   "source": [
    "### Conclusion"
   ]
  },
  {
   "cell_type": "markdown",
   "id": "239deaa8-a050-4d48-a75b-b0f52349d8b2",
   "metadata": {},
   "source": [
    "- original\n",
    "[mean_accuracy 0.7722333333333333]\n",
    "- after PCA\n",
    "[mean_accuracy 0.7482333333333333]"
   ]
  },
  {
   "cell_type": "markdown",
   "id": "d65b470a-362b-4d88-a0ea-6ccda32f56c7",
   "metadata": {},
   "source": [
    "## Q_2"
   ]
  },
  {
   "cell_type": "markdown",
   "id": "85a9ee82-99a9-4f40-89c7-2ee4498c2091",
   "metadata": {},
   "source": [
    "### orginal columns"
   ]
  },
  {
   "cell_type": "markdown",
   "id": "c91a3200-03bc-44de-bb3c-0846f6043698",
   "metadata": {},
   "source": [
    "#### og_visualization"
   ]
  },
  {
   "cell_type": "code",
   "execution_count": 23,
   "id": "99484216-a971-4619-bc72-d2eb91ba6659",
   "metadata": {},
   "outputs": [
    {
     "data": {
      "image/png": "[encoded data removed]",
      "text/plain": [
       "<Figure size 432x288 with 1 Axes>"
      ]
     },
     "metadata": {
      "needs_background": "light"
     },
     "output_type": "display_data"
    }
   ],
   "source": [
    "markers = ['s','o']\n",
    "for i,marker in enumerate(markers):\n",
    "    x_axis_data = credit[credit.target==i]['AGE']\n",
    "    y_axis_data = credit[credit.target==i]['LIMIT_BAL']\n",
    "    plt.scatter(x_axis_data,y_axis_data,marker=marker)"
   ]
  },
  {
   "cell_type": "markdown",
   "id": "955691e5-31c6-4faf-9799-9ca38ef7fb4f",
   "metadata": {},
   "source": [
    "#### og_train_test_split"
   ]
  },
  {
   "cell_type": "code",
   "execution_count": 24,
   "id": "98e1819e-c610-4bca-a182-a17139326130",
   "metadata": {},
   "outputs": [],
   "source": [
    "X_train_og,X_test_og,y_train_og,y_test_og = train_test_split(X,y,test_size=0.3,random_state=156)"
   ]
  },
  {
   "cell_type": "markdown",
   "id": "66e59bb3-028b-47a5-b1c7-64d87a473613",
   "metadata": {},
   "source": [
    "#### machine Learning model RandomForeset"
   ]
  },
  {
   "cell_type": "code",
   "execution_count": 25,
   "id": "2f857c34-2b1f-48ee-a929-fb841da4d2f9",
   "metadata": {},
   "outputs": [],
   "source": [
    "og_rf = RandomForestClassifier()"
   ]
  },
  {
   "cell_type": "markdown",
   "id": "d82a3426-bd66-4f3a-9299-7d2ca897b9c3",
   "metadata": {},
   "source": [
    "#### Fitting"
   ]
  },
  {
   "cell_type": "code",
   "execution_count": 26,
   "id": "59f2ebec-ffb4-43e1-9990-0b91cef307c4",
   "metadata": {},
   "outputs": [
    {
     "data": {
      "text/plain": [
       "RandomForestClassifier()"
      ]
     },
     "execution_count": 26,
     "metadata": {},
     "output_type": "execute_result"
    }
   ],
   "source": [
    "og_rf.fit(X_train_og,y_train_og)"
   ]
  },
  {
   "cell_type": "markdown",
   "id": "b72aa791-292a-4e70-bd33-82a8861f3c6e",
   "metadata": {},
   "source": [
    "#### Predicting"
   ]
  },
  {
   "cell_type": "code",
   "execution_count": 27,
   "id": "a992a38f-a90c-43db-b9d8-fb57401e9954",
   "metadata": {},
   "outputs": [],
   "source": [
    "og_rf_pred = og_rf.predict(X_test_og)"
   ]
  },
  {
   "cell_type": "markdown",
   "id": "5a565c32-68ba-4072-bf41-15c359148dc2",
   "metadata": {},
   "source": [
    "#### Evaluation"
   ]
  },
  {
   "cell_type": "code",
   "execution_count": 28,
   "id": "3807b458-15ba-4496-9ce0-a72899db6392",
   "metadata": {},
   "outputs": [
    {
     "name": "stdout",
     "output_type": "stream",
     "text": [
      "[model]: RandomForestClassifier() \n",
      "\n",
      "3 folds independent Negative MSE scores: [-0.19 -0.18 -0.18]\n",
      "3 folds in denpendent RMSE scores: [0.44 0.42 0.42]\n",
      "3 folds Mean RMSE: 0.428\n",
      "------------------------------------------------------------------------------------------\n",
      "accuracy [0.8095 0.8198 0.8221]\n",
      "mean_accuracy 0.8171333333333334\n",
      "==========================================================================================\n"
     ]
    }
   ],
   "source": [
    "Cross_val_score_eval(og_rf,X,y,3)"
   ]
  },
  {
   "cell_type": "markdown",
   "id": "b6431712-1fc1-4479-b32e-884c21ad034b",
   "metadata": {},
   "source": [
    "### pca"
   ]
  },
  {
   "cell_type": "code",
   "execution_count": 29,
   "id": "2fe339a8-7779-4e0a-b077-1f600b2596d5",
   "metadata": {},
   "outputs": [
    {
     "name": "stdout",
     "output_type": "stream",
     "text": [
      "(30000, 6)\n",
      "pca_component_1 :  0.28448214525609977\n",
      "pca_component_2 :  0.1781881698470555\n"
     ]
    },
    {
     "data": {
      "text/plain": [
       "array([[-0.76469658, -2.10925691,  1.09892444, -0.48335551,  0.85455619,\n",
       "        -0.23133586],\n",
       "       [-0.84740796, -1.07217673,  0.41230032, -0.43355359,  0.77010478,\n",
       "         0.01902905],\n",
       "       [-0.19658869, -0.80901805, -0.81845915,  0.29289118,  0.90889246,\n",
       "        -0.28422253],\n",
       "       [-0.84093442, -0.07252585, -1.00474979,  2.32807061, -1.02511992,\n",
       "         0.7964718 ]])"
      ]
     },
     "execution_count": 29,
     "metadata": {},
     "output_type": "execute_result"
    }
   ],
   "source": [
    "def pca_standard(X_features,n_pca):\n",
    "    from sklearn.preprocessing import StandardScaler\n",
    "    from sklearn.decomposition import PCA\n",
    "    scaler = StandardScaler()\n",
    "    df_scd = scaler.fit_transform(X_features)\n",
    "    pca = PCA(n_components=n_pca)\n",
    "    global df_pca # 변수 사용 됨.\n",
    "    df_pca = pca.fit_transform(df_scd)\n",
    "    print(df_pca.shape)\n",
    "    evr = pca.explained_variance_ratio_\n",
    "    print('pca_component_1 : ', evr[0])\n",
    "    print('pca_component_2 : ', evr[1])\n",
    "    \n",
    "    \n",
    "pca_standard(X,6)\n",
    "\n",
    "df_pca[1:5]"
   ]
  },
  {
   "cell_type": "markdown",
   "id": "cf6925ba-61be-4c1d-9452-a32e05c100fc",
   "metadata": {},
   "source": [
    "#### pca_DF"
   ]
  },
  {
   "cell_type": "code",
   "execution_count": 30,
   "id": "92cf4568-adb1-44db-afbc-35885c61a5a5",
   "metadata": {},
   "outputs": [
    {
     "data": {
      "text/html": [
       "<div>\n",
       "<style scoped>\n",
       "    .dataframe tbody tr th:only-of-type {\n",
       "        vertical-align: middle;\n",
       "    }\n",
       "\n",
       "    .dataframe tbody tr th {\n",
       "        vertical-align: top;\n",
       "    }\n",
       "\n",
       "    .dataframe thead th {\n",
       "        text-align: right;\n",
       "    }\n",
       "</style>\n",
       "<table border=\"1\" class=\"dataframe\">\n",
       "  <thead>\n",
       "    <tr style=\"text-align: right;\">\n",
       "      <th></th>\n",
       "      <th>pca_component_1</th>\n",
       "      <th>pca_component_2</th>\n",
       "      <th>pca_component_3</th>\n",
       "      <th>pca_component_4</th>\n",
       "      <th>pca_component_5</th>\n",
       "      <th>pca_component_6</th>\n",
       "      <th>target</th>\n",
       "    </tr>\n",
       "  </thead>\n",
       "  <tbody>\n",
       "    <tr>\n",
       "      <th>0</th>\n",
       "      <td>-1.887963</td>\n",
       "      <td>-0.906105</td>\n",
       "      <td>-0.487796</td>\n",
       "      <td>-0.539989</td>\n",
       "      <td>0.997426</td>\n",
       "      <td>0.044761</td>\n",
       "      <td>1</td>\n",
       "    </tr>\n",
       "  </tbody>\n",
       "</table>\n",
       "</div>"
      ],
      "text/plain": [
       "   pca_component_1  pca_component_2  pca_component_3  pca_component_4  \\\n",
       "0        -1.887963        -0.906105        -0.487796        -0.539989   \n",
       "\n",
       "   pca_component_5  pca_component_6  target  \n",
       "0         0.997426         0.044761       1  "
      ]
     },
     "execution_count": 30,
     "metadata": {},
     "output_type": "execute_result"
    }
   ],
   "source": [
    "pca_columns= ['pca_component_1','pca_component_2','pca_component_3',\n",
    "             'pca_component_4','pca_component_5','pca_component_6']\n",
    "df_Pca= pd.DataFrame(df_pca, columns=pca_columns)\n",
    "df_Pca['target']= credit.target\n",
    "df_Pca.head(1)"
   ]
  },
  {
   "cell_type": "markdown",
   "id": "98ce71e9-f447-45eb-853f-bd7c72665dfe",
   "metadata": {
    "tags": []
   },
   "source": [
    "#### pca_visualization"
   ]
  },
  {
   "cell_type": "code",
   "execution_count": 31,
   "id": "38b4b280-c96f-4c56-9049-216b5229b513",
   "metadata": {},
   "outputs": [
    {
     "data": {
      "image/png": "[encoded data removed]",
      "text/plain": [
       "<Figure size 432x288 with 1 Axes>"
      ]
     },
     "metadata": {
      "needs_background": "light"
     },
     "output_type": "display_data"
    }
   ],
   "source": [
    "markers = ['s','o']\n",
    "for i,marker in enumerate(markers):\n",
    "    x_axis_data = df_Pca[df_Pca.target==i]['pca_component_1']\n",
    "    y_axis_data = df_Pca[df_Pca.target==i]['pca_component_2']\n",
    "    plt.scatter(x_axis_data,y_axis_data,marker=marker)"
   ]
  },
  {
   "cell_type": "markdown",
   "id": "60e1823f-a779-4b05-9cc7-2c5cda2aae5e",
   "metadata": {},
   "source": [
    "#### pca_seperate"
   ]
  },
  {
   "cell_type": "code",
   "execution_count": 32,
   "id": "04b56c92-508d-4aa2-ba99-eda2b30889a4",
   "metadata": {},
   "outputs": [],
   "source": [
    "X_pca = df_Pca.drop('target',axis=1)\n",
    "y_pca = df_Pca['target']"
   ]
  },
  {
   "cell_type": "markdown",
   "id": "5403761f-4e95-40d4-ba97-b47f6c1dd4f4",
   "metadata": {},
   "source": [
    "#### pca_train_test_split"
   ]
  },
  {
   "cell_type": "code",
   "execution_count": 33,
   "id": "638f0475-85fd-4b99-b262-5ee98f6206b6",
   "metadata": {},
   "outputs": [],
   "source": [
    "X_train_pca, X_test_pca, y_train_pca, y_test_pca = train_test_split(X_pca, y_pca,\n",
    "                                                                   test_size=0.3,\n",
    "                                                                   random_state=156)"
   ]
  },
  {
   "cell_type": "markdown",
   "id": "b5b03d7c-91af-4470-84e4-03b22c7eb628",
   "metadata": {},
   "source": [
    "#### machine Learning model Randomforest"
   ]
  },
  {
   "cell_type": "code",
   "execution_count": 34,
   "id": "c4a9df71-9394-4a47-9257-594d64621e8c",
   "metadata": {},
   "outputs": [],
   "source": [
    "pc_rf = RandomForestClassifier()"
   ]
  },
  {
   "cell_type": "markdown",
   "id": "0424cb93-8064-4207-a163-3a78314d2d00",
   "metadata": {},
   "source": [
    "#### Fitting"
   ]
  },
  {
   "cell_type": "code",
   "execution_count": 35,
   "id": "76f49d70-e265-439b-9934-00bcffb2bd7b",
   "metadata": {},
   "outputs": [
    {
     "data": {
      "text/plain": [
       "RandomForestClassifier()"
      ]
     },
     "execution_count": 35,
     "metadata": {},
     "output_type": "execute_result"
    }
   ],
   "source": [
    "pc_rf.fit(X_train_pca, y_train_pca)"
   ]
  },
  {
   "cell_type": "markdown",
   "id": "8dff7e9e-d40f-4932-ab07-66a6caea7fce",
   "metadata": {},
   "source": [
    "#### Predicting"
   ]
  },
  {
   "cell_type": "code",
   "execution_count": 36,
   "id": "68993627-95ed-49d7-bdc5-287f0b8f3ee1",
   "metadata": {},
   "outputs": [],
   "source": [
    "pc_rf_pred = pc_rf.predict(X_test_pca)"
   ]
  },
  {
   "cell_type": "markdown",
   "id": "794d5c7d-423d-45e7-b5c1-e7791e020b37",
   "metadata": {},
   "source": [
    "#### Evaluation"
   ]
  },
  {
   "cell_type": "code",
   "execution_count": 37,
   "id": "79a052ff-dafd-48d9-8c6d-4a7374f32bb7",
   "metadata": {},
   "outputs": [
    {
     "name": "stdout",
     "output_type": "stream",
     "text": [
      "[model]: RandomForestClassifier() \n",
      "\n",
      "3 folds independent Negative MSE scores: [-0.21 -0.2  -0.2 ]\n",
      "3 folds in denpendent RMSE scores: [0.46 0.45 0.45]\n",
      "3 folds Mean RMSE: 0.451\n",
      "------------------------------------------------------------------------------------------\n",
      "accuracy [0.7903 0.7972 0.7993]\n",
      "mean_accuracy 0.7956\n",
      "==========================================================================================\n"
     ]
    }
   ],
   "source": [
    "Cross_val_score_eval(pc_rf,X_pca,y_pca,3)"
   ]
  },
  {
   "cell_type": "markdown",
   "id": "8edde1ee-5831-42e1-9bdd-d3a6f7d13401",
   "metadata": {},
   "source": [
    "### Conclusion"
   ]
  },
  {
   "cell_type": "markdown",
   "id": "7d1db7f8-e599-4ce2-8568-4a020358a813",
   "metadata": {},
   "source": [
    "- original\n",
    "[mean_accuracy 0.8169333333333334]\n",
    "- after PCA\n",
    "[mean_accuracy 0.7953000000000001]"
   ]
  },
  {
   "cell_type": "markdown",
   "id": "bb8d0f27-be9f-485f-afb3-6d37a8d2de6e",
   "metadata": {},
   "source": [
    "# [과제2]\n",
    "아래 dataset으로 연관성 분석을 수행하세요."
   ]
  },
  {
   "cell_type": "markdown",
   "id": "a220ae20-59c0-439f-829e-9afeea4c57d7",
   "metadata": {},
   "source": [
    "###### module import"
   ]
  },
  {
   "cell_type": "code",
   "execution_count": 38,
   "id": "91e1af6e-91b8-40ce-9f0f-ff1da919e4b6",
   "metadata": {},
   "outputs": [],
   "source": [
    "from mlxtend.preprocessing import TransactionEncoder\n",
    "from mlxtend.frequent_patterns import apriori\n",
    "from mlxtend.frequent_patterns import association_rules"
   ]
  },
  {
   "cell_type": "markdown",
   "id": "d44553c8-bad0-4985-9431-c33d45c1d2db",
   "metadata": {},
   "source": [
    "## Dataset"
   ]
  },
  {
   "cell_type": "code",
   "execution_count": 39,
   "id": "3bce1264-343e-4c13-aaf8-a54c2b7cffd4",
   "metadata": {},
   "outputs": [],
   "source": [
    "dataset = [['Milk', 'Onion', 'Nutmeg', 'Eggs', 'Yogurt'],\n",
    "           ['Onion', 'Nutmeg', 'Eggs', 'Yogurt'],\n",
    "           ['Milk', 'Apple', 'Eggs'],\n",
    "           ['Milk', 'Unicorn', 'Corn', 'Yogurt'],\n",
    "           ['Corn', 'Onion', 'Onion', 'Ice cream', 'Eggs']]"
   ]
  },
  {
   "cell_type": "markdown",
   "id": "72989fcb-7923-4552-b73b-0132287cfa1f",
   "metadata": {},
   "source": [
    "## Encoder module import"
   ]
  },
  {
   "cell_type": "code",
   "execution_count": 40,
   "id": "73fe64d5-45a2-4c54-8664-c760a88a9461",
   "metadata": {},
   "outputs": [],
   "source": [
    "te = TransactionEncoder()"
   ]
  },
  {
   "cell_type": "markdown",
   "id": "03524afb-b2d8-4ba1-b524-17112e93b853",
   "metadata": {},
   "source": [
    "## fitting"
   ]
  },
  {
   "cell_type": "code",
   "execution_count": 41,
   "id": "24bde43e-ebc1-4022-a36f-a26e53a0317e",
   "metadata": {},
   "outputs": [],
   "source": [
    "te_ary = te.fit_transform(dataset)"
   ]
  },
  {
   "cell_type": "markdown",
   "id": "f4dcc207-d0f1-49ed-825d-1dab8eabb49f",
   "metadata": {},
   "source": [
    "## Dataframe"
   ]
  },
  {
   "cell_type": "code",
   "execution_count": 42,
   "id": "0c561ef3-5fd9-461a-b013-7c24f7e337d3",
   "metadata": {},
   "outputs": [
    {
     "data": {
      "text/html": [
       "<div>\n",
       "<style scoped>\n",
       "    .dataframe tbody tr th:only-of-type {\n",
       "        vertical-align: middle;\n",
       "    }\n",
       "\n",
       "    .dataframe tbody tr th {\n",
       "        vertical-align: top;\n",
       "    }\n",
       "\n",
       "    .dataframe thead th {\n",
       "        text-align: right;\n",
       "    }\n",
       "</style>\n",
       "<table border=\"1\" class=\"dataframe\">\n",
       "  <thead>\n",
       "    <tr style=\"text-align: right;\">\n",
       "      <th></th>\n",
       "      <th>Apple</th>\n",
       "      <th>Corn</th>\n",
       "      <th>Eggs</th>\n",
       "      <th>Ice cream</th>\n",
       "      <th>Milk</th>\n",
       "      <th>Nutmeg</th>\n",
       "      <th>Onion</th>\n",
       "      <th>Unicorn</th>\n",
       "      <th>Yogurt</th>\n",
       "    </tr>\n",
       "  </thead>\n",
       "  <tbody>\n",
       "    <tr>\n",
       "      <th>0</th>\n",
       "      <td>False</td>\n",
       "      <td>False</td>\n",
       "      <td>True</td>\n",
       "      <td>False</td>\n",
       "      <td>True</td>\n",
       "      <td>True</td>\n",
       "      <td>True</td>\n",
       "      <td>False</td>\n",
       "      <td>True</td>\n",
       "    </tr>\n",
       "    <tr>\n",
       "      <th>1</th>\n",
       "      <td>False</td>\n",
       "      <td>False</td>\n",
       "      <td>True</td>\n",
       "      <td>False</td>\n",
       "      <td>False</td>\n",
       "      <td>True</td>\n",
       "      <td>True</td>\n",
       "      <td>False</td>\n",
       "      <td>True</td>\n",
       "    </tr>\n",
       "    <tr>\n",
       "      <th>2</th>\n",
       "      <td>True</td>\n",
       "      <td>False</td>\n",
       "      <td>True</td>\n",
       "      <td>False</td>\n",
       "      <td>True</td>\n",
       "      <td>False</td>\n",
       "      <td>False</td>\n",
       "      <td>False</td>\n",
       "      <td>False</td>\n",
       "    </tr>\n",
       "    <tr>\n",
       "      <th>3</th>\n",
       "      <td>False</td>\n",
       "      <td>True</td>\n",
       "      <td>False</td>\n",
       "      <td>False</td>\n",
       "      <td>True</td>\n",
       "      <td>False</td>\n",
       "      <td>False</td>\n",
       "      <td>True</td>\n",
       "      <td>True</td>\n",
       "    </tr>\n",
       "    <tr>\n",
       "      <th>4</th>\n",
       "      <td>False</td>\n",
       "      <td>True</td>\n",
       "      <td>True</td>\n",
       "      <td>True</td>\n",
       "      <td>False</td>\n",
       "      <td>False</td>\n",
       "      <td>True</td>\n",
       "      <td>False</td>\n",
       "      <td>False</td>\n",
       "    </tr>\n",
       "  </tbody>\n",
       "</table>\n",
       "</div>"
      ],
      "text/plain": [
       "   Apple   Corn   Eggs  Ice cream   Milk  Nutmeg  Onion  Unicorn  Yogurt\n",
       "0  False  False   True      False   True    True   True    False    True\n",
       "1  False  False   True      False  False    True   True    False    True\n",
       "2   True  False   True      False   True   False  False    False   False\n",
       "3  False   True  False      False   True   False  False     True    True\n",
       "4  False   True   True       True  False   False   True    False   False"
      ]
     },
     "execution_count": 42,
     "metadata": {},
     "output_type": "execute_result"
    }
   ],
   "source": [
    "df = pd.DataFrame(te_ary,columns=te.columns_)\n",
    "df"
   ]
  },
  {
   "cell_type": "markdown",
   "id": "12aa6775-2889-4864-9aab-283ec249b246",
   "metadata": {
    "tags": []
   },
   "source": [
    "## support 0.5"
   ]
  },
  {
   "cell_type": "code",
   "execution_count": 43,
   "id": "3e6a0cd1-227d-4cf4-aa8f-25123a6ed790",
   "metadata": {},
   "outputs": [
    {
     "data": {
      "text/html": [
       "<div>\n",
       "<style scoped>\n",
       "    .dataframe tbody tr th:only-of-type {\n",
       "        vertical-align: middle;\n",
       "    }\n",
       "\n",
       "    .dataframe tbody tr th {\n",
       "        vertical-align: top;\n",
       "    }\n",
       "\n",
       "    .dataframe thead th {\n",
       "        text-align: right;\n",
       "    }\n",
       "</style>\n",
       "<table border=\"1\" class=\"dataframe\">\n",
       "  <thead>\n",
       "    <tr style=\"text-align: right;\">\n",
       "      <th></th>\n",
       "      <th>support</th>\n",
       "      <th>itemsets</th>\n",
       "    </tr>\n",
       "  </thead>\n",
       "  <tbody>\n",
       "    <tr>\n",
       "      <th>0</th>\n",
       "      <td>0.8</td>\n",
       "      <td>(Eggs)</td>\n",
       "    </tr>\n",
       "    <tr>\n",
       "      <th>1</th>\n",
       "      <td>0.6</td>\n",
       "      <td>(Milk)</td>\n",
       "    </tr>\n",
       "    <tr>\n",
       "      <th>2</th>\n",
       "      <td>0.6</td>\n",
       "      <td>(Onion)</td>\n",
       "    </tr>\n",
       "    <tr>\n",
       "      <th>3</th>\n",
       "      <td>0.6</td>\n",
       "      <td>(Yogurt)</td>\n",
       "    </tr>\n",
       "    <tr>\n",
       "      <th>4</th>\n",
       "      <td>0.6</td>\n",
       "      <td>(Onion, Eggs)</td>\n",
       "    </tr>\n",
       "  </tbody>\n",
       "</table>\n",
       "</div>"
      ],
      "text/plain": [
       "   support       itemsets\n",
       "0      0.8         (Eggs)\n",
       "1      0.6         (Milk)\n",
       "2      0.6        (Onion)\n",
       "3      0.6       (Yogurt)\n",
       "4      0.6  (Onion, Eggs)"
      ]
     },
     "execution_count": 43,
     "metadata": {},
     "output_type": "execute_result"
    }
   ],
   "source": [
    "frequent_itemsets = apriori(df,min_support=0.5,use_colnames=True)\n",
    "frequent_itemsets"
   ]
  },
  {
   "cell_type": "markdown",
   "id": "e3622d0c-5528-4632-b5de-bf33dce095b3",
   "metadata": {},
   "source": [
    "## Confidence 0.3"
   ]
  },
  {
   "cell_type": "code",
   "execution_count": 44,
   "id": "28b9bf40-fef6-42b8-b62a-5ec788652266",
   "metadata": {},
   "outputs": [
    {
     "data": {
      "text/html": [
       "<div>\n",
       "<style scoped>\n",
       "    .dataframe tbody tr th:only-of-type {\n",
       "        vertical-align: middle;\n",
       "    }\n",
       "\n",
       "    .dataframe tbody tr th {\n",
       "        vertical-align: top;\n",
       "    }\n",
       "\n",
       "    .dataframe thead th {\n",
       "        text-align: right;\n",
       "    }\n",
       "</style>\n",
       "<table border=\"1\" class=\"dataframe\">\n",
       "  <thead>\n",
       "    <tr style=\"text-align: right;\">\n",
       "      <th></th>\n",
       "      <th>antecedents</th>\n",
       "      <th>consequents</th>\n",
       "      <th>antecedent support</th>\n",
       "      <th>consequent support</th>\n",
       "      <th>support</th>\n",
       "      <th>confidence</th>\n",
       "      <th>lift</th>\n",
       "      <th>leverage</th>\n",
       "      <th>conviction</th>\n",
       "    </tr>\n",
       "  </thead>\n",
       "  <tbody>\n",
       "    <tr>\n",
       "      <th>0</th>\n",
       "      <td>(Onion)</td>\n",
       "      <td>(Eggs)</td>\n",
       "      <td>0.6</td>\n",
       "      <td>0.8</td>\n",
       "      <td>0.6</td>\n",
       "      <td>1.00</td>\n",
       "      <td>1.25</td>\n",
       "      <td>0.12</td>\n",
       "      <td>inf</td>\n",
       "    </tr>\n",
       "    <tr>\n",
       "      <th>1</th>\n",
       "      <td>(Eggs)</td>\n",
       "      <td>(Onion)</td>\n",
       "      <td>0.8</td>\n",
       "      <td>0.6</td>\n",
       "      <td>0.6</td>\n",
       "      <td>0.75</td>\n",
       "      <td>1.25</td>\n",
       "      <td>0.12</td>\n",
       "      <td>1.6</td>\n",
       "    </tr>\n",
       "  </tbody>\n",
       "</table>\n",
       "</div>"
      ],
      "text/plain": [
       "  antecedents consequents  antecedent support  consequent support  support  \\\n",
       "0     (Onion)      (Eggs)                 0.6                 0.8      0.6   \n",
       "1      (Eggs)     (Onion)                 0.8                 0.6      0.6   \n",
       "\n",
       "   confidence  lift  leverage  conviction  \n",
       "0        1.00  1.25      0.12         inf  \n",
       "1        0.75  1.25      0.12         1.6  "
      ]
     },
     "execution_count": 44,
     "metadata": {},
     "output_type": "execute_result"
    }
   ],
   "source": [
    "association_rules(frequent_itemsets,metric='confidence',min_threshold=0.3)"
   ]
  },
  {
   "cell_type": "code",
   "execution_count": null,
   "id": "44e9fdfa-7c4e-422c-ad47-0cdc8365c2eb",
   "metadata": {},
   "outputs": [],
   "source": []
  },
  {
   "cell_type": "code",
   "execution_count": null,
   "id": "5889314a-a730-41e5-85cc-396676b206ae",
   "metadata": {},
   "outputs": [],
   "source": []
  },
  {
   "cell_type": "code",
   "execution_count": null,
   "id": "99009e35-53fc-4b5d-ab94-e1a6e3ccd571",
   "metadata": {},
   "outputs": [],
   "source": []
  },
  {
   "cell_type": "code",
   "execution_count": null,
   "id": "e655ba2d-c22c-4447-a19b-4063ae50dbb6",
   "metadata": {},
   "outputs": [],
   "source": []
  },
  {
   "cell_type": "code",
   "execution_count": null,
   "id": "07e6a621-c043-4058-91ec-c1186b96bb3e",
   "metadata": {},
   "outputs": [],
   "source": []
  },
  {
   "cell_type": "code",
   "execution_count": null,
   "id": "3ad9fd94-c9ae-4e52-bade-72622ee8c07a",
   "metadata": {},
   "outputs": [],
   "source": []
  },
  {
   "cell_type": "code",
   "execution_count": null,
   "id": "ae88b436-3df1-42c5-b4d8-5976a27e42fc",
   "metadata": {},
   "outputs": [],
   "source": []
  },
  {
   "cell_type": "code",
   "execution_count": null,
   "id": "caab20b7-457b-4ea0-a41a-7a9f73448394",
   "metadata": {},
   "outputs": [],
   "source": []
  }
 ],
 "metadata": {
  "kernelspec": {
   "display_name": "Python 3",
   "language": "python",
   "name": "python3"
  },
  "language_info": {
   "codemirror_mode": {
    "name": "ipython",
    "version": 3
   },
   "file_extension": ".py",
   "mimetype": "text/x-python",
   "name": "python",
   "nbconvert_exporter": "python",
   "pygments_lexer": "ipython3",
   "version": "3.8.11"
  },
  "toc-autonumbering": true
 },
 "nbformat": 4,
 "nbformat_minor": 5
}
