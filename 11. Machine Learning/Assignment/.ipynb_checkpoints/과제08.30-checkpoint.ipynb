{
 "cells": [
  {
   "cell_type": "markdown",
   "id": "9c19276d-d572-4a5a-b9a9-04aa0c95fa1f",
   "metadata": {},
   "source": [
    "# [과제]\n",
    "- 다중공선성, 과적합, 종속변수의 정규성 등을 고려하여 전처리 후 회귀분석 모델링, 학습 및 평가를 수행하세요.\n",
    "- 모델링은 하이퍼 파라미터 옵션 포함하여 학습한 모든 방법 고려하여 수행"
   ]
  },
  {
   "cell_type": "markdown",
   "id": "2c90921e-4d59-4023-8aa1-b35d60ea33c9",
   "metadata": {},
   "source": [
    "### imported modules"
   ]
  },
  {
   "cell_type": "code",
   "execution_count": 67,
   "id": "bb391222-89a4-4aec-8554-48cbde4c487c",
   "metadata": {},
   "outputs": [],
   "source": [
    "# basic module\n",
    "import numpy as np\n",
    "import pandas as pd\n",
    "import matplotlib.pyplot as plt\n",
    "import seaborn as sns\n",
    "%matplotlib inline\n",
    "# sepearte module\n",
    "from sklearn.model_selection import train_test_split\n",
    "\n",
    "# machine Learning modules (Regression)\n",
    "from sklearn.linear_model import LinearRegression\n",
    "from sklearn.linear_model import LogisticRegression\n",
    "from sklearn.linear_model import Ridge\n",
    "from sklearn.linear_model import Lasso\n",
    "from sklearn.linear_model import ElasticNet\n",
    "\n",
    "# machine Learning modules (Regression-trees)\n",
    "from sklearn.tree import DecisionTreeRegressor\n",
    "from sklearn.ensemble import RandomForestRegressor\n",
    "from sklearn.ensemble import GradientBoostingRegressor\n",
    "from xgboost import XGBRegressor\n",
    "from lightgbm import LGBMRegressor\n",
    "\n",
    "# machine Learning evaluation\n",
    "from sklearn.metrics import mean_squared_error\n",
    "from sklearn.metrics import r2_score\n",
    "from sklearn.model_selection import cross_val_score\n",
    "\n",
    "# Developing\n",
    "from sklearn.model_selection import GridSearchCV"
   ]
  },
  {
   "cell_type": "markdown",
   "id": "4f13256e-ecad-41f5-b1e9-ef35cad28556",
   "metadata": {},
   "source": [
    "### data load"
   ]
  },
  {
   "cell_type": "code",
   "execution_count": 2,
   "id": "094bd048-ea3a-42aa-aa26-4a4f898c9918",
   "metadata": {},
   "outputs": [
    {
     "data": {
      "text/html": [
       "<div>\n",
       "<style scoped>\n",
       "    .dataframe tbody tr th:only-of-type {\n",
       "        vertical-align: middle;\n",
       "    }\n",
       "\n",
       "    .dataframe tbody tr th {\n",
       "        vertical-align: top;\n",
       "    }\n",
       "\n",
       "    .dataframe thead th {\n",
       "        text-align: right;\n",
       "    }\n",
       "</style>\n",
       "<table border=\"1\" class=\"dataframe\">\n",
       "  <thead>\n",
       "    <tr style=\"text-align: right;\">\n",
       "      <th></th>\n",
       "      <th>CRIM</th>\n",
       "      <th>ZN</th>\n",
       "      <th>INDUS</th>\n",
       "      <th>CHAS</th>\n",
       "      <th>NOX</th>\n",
       "      <th>RM</th>\n",
       "      <th>AGE</th>\n",
       "      <th>DIS</th>\n",
       "      <th>RAD</th>\n",
       "      <th>TAX</th>\n",
       "      <th>PTRATIO</th>\n",
       "      <th>B</th>\n",
       "      <th>LSTAT</th>\n",
       "      <th>PRICE</th>\n",
       "    </tr>\n",
       "  </thead>\n",
       "  <tbody>\n",
       "    <tr>\n",
       "      <th>0</th>\n",
       "      <td>0.00632</td>\n",
       "      <td>18.0</td>\n",
       "      <td>2.31</td>\n",
       "      <td>0.0</td>\n",
       "      <td>0.538</td>\n",
       "      <td>6.575</td>\n",
       "      <td>65.2</td>\n",
       "      <td>4.0900</td>\n",
       "      <td>1.0</td>\n",
       "      <td>296.0</td>\n",
       "      <td>15.3</td>\n",
       "      <td>396.90</td>\n",
       "      <td>4.98</td>\n",
       "      <td>24.0</td>\n",
       "    </tr>\n",
       "    <tr>\n",
       "      <th>1</th>\n",
       "      <td>0.02731</td>\n",
       "      <td>0.0</td>\n",
       "      <td>7.07</td>\n",
       "      <td>0.0</td>\n",
       "      <td>0.469</td>\n",
       "      <td>6.421</td>\n",
       "      <td>78.9</td>\n",
       "      <td>4.9671</td>\n",
       "      <td>2.0</td>\n",
       "      <td>242.0</td>\n",
       "      <td>17.8</td>\n",
       "      <td>396.90</td>\n",
       "      <td>9.14</td>\n",
       "      <td>21.6</td>\n",
       "    </tr>\n",
       "    <tr>\n",
       "      <th>2</th>\n",
       "      <td>0.02729</td>\n",
       "      <td>0.0</td>\n",
       "      <td>7.07</td>\n",
       "      <td>0.0</td>\n",
       "      <td>0.469</td>\n",
       "      <td>7.185</td>\n",
       "      <td>61.1</td>\n",
       "      <td>4.9671</td>\n",
       "      <td>2.0</td>\n",
       "      <td>242.0</td>\n",
       "      <td>17.8</td>\n",
       "      <td>392.83</td>\n",
       "      <td>4.03</td>\n",
       "      <td>34.7</td>\n",
       "    </tr>\n",
       "    <tr>\n",
       "      <th>3</th>\n",
       "      <td>0.03237</td>\n",
       "      <td>0.0</td>\n",
       "      <td>2.18</td>\n",
       "      <td>0.0</td>\n",
       "      <td>0.458</td>\n",
       "      <td>6.998</td>\n",
       "      <td>45.8</td>\n",
       "      <td>6.0622</td>\n",
       "      <td>3.0</td>\n",
       "      <td>222.0</td>\n",
       "      <td>18.7</td>\n",
       "      <td>394.63</td>\n",
       "      <td>2.94</td>\n",
       "      <td>33.4</td>\n",
       "    </tr>\n",
       "    <tr>\n",
       "      <th>4</th>\n",
       "      <td>0.06905</td>\n",
       "      <td>0.0</td>\n",
       "      <td>2.18</td>\n",
       "      <td>0.0</td>\n",
       "      <td>0.458</td>\n",
       "      <td>7.147</td>\n",
       "      <td>54.2</td>\n",
       "      <td>6.0622</td>\n",
       "      <td>3.0</td>\n",
       "      <td>222.0</td>\n",
       "      <td>18.7</td>\n",
       "      <td>396.90</td>\n",
       "      <td>5.33</td>\n",
       "      <td>36.2</td>\n",
       "    </tr>\n",
       "  </tbody>\n",
       "</table>\n",
       "</div>"
      ],
      "text/plain": [
       "      CRIM    ZN  INDUS  CHAS    NOX     RM   AGE     DIS  RAD    TAX  \\\n",
       "0  0.00632  18.0   2.31   0.0  0.538  6.575  65.2  4.0900  1.0  296.0   \n",
       "1  0.02731   0.0   7.07   0.0  0.469  6.421  78.9  4.9671  2.0  242.0   \n",
       "2  0.02729   0.0   7.07   0.0  0.469  7.185  61.1  4.9671  2.0  242.0   \n",
       "3  0.03237   0.0   2.18   0.0  0.458  6.998  45.8  6.0622  3.0  222.0   \n",
       "4  0.06905   0.0   2.18   0.0  0.458  7.147  54.2  6.0622  3.0  222.0   \n",
       "\n",
       "   PTRATIO       B  LSTAT  PRICE  \n",
       "0     15.3  396.90   4.98   24.0  \n",
       "1     17.8  396.90   9.14   21.6  \n",
       "2     17.8  392.83   4.03   34.7  \n",
       "3     18.7  394.63   2.94   33.4  \n",
       "4     18.7  396.90   5.33   36.2  "
      ]
     },
     "execution_count": 2,
     "metadata": {},
     "output_type": "execute_result"
    }
   ],
   "source": [
    "from sklearn.datasets import load_boston\n",
    "house = load_boston()\n",
    "house.keys()\n",
    "\n",
    "house_df = pd.DataFrame(house.data, columns= house.feature_names)\n",
    "house_df.to_pickle('../Data/house_df.pkl')\n",
    "house_df = pd.read_pickle('../Data/house_df.pkl')\n",
    "house_df['PRICE'] = house.target\n",
    "house_df.head()"
   ]
  },
  {
   "cell_type": "markdown",
   "id": "76bfccd5-7bfd-4c37-84cf-125d4b36ffad",
   "metadata": {},
   "source": [
    "### EDA"
   ]
  },
  {
   "cell_type": "code",
   "execution_count": 3,
   "id": "298aaad1-6829-4856-bb7e-472bcd1b3ef3",
   "metadata": {},
   "outputs": [
    {
     "data": {
      "text/plain": [
       "(506, 14)"
      ]
     },
     "metadata": {},
     "output_type": "display_data"
    },
    {
     "name": "stdout",
     "output_type": "stream",
     "text": [
      "<class 'pandas.core.frame.DataFrame'>\n",
      "RangeIndex: 506 entries, 0 to 505\n",
      "Data columns (total 14 columns):\n",
      " #   Column   Non-Null Count  Dtype  \n",
      "---  ------   --------------  -----  \n",
      " 0   CRIM     506 non-null    float64\n",
      " 1   ZN       506 non-null    float64\n",
      " 2   INDUS    506 non-null    float64\n",
      " 3   CHAS     506 non-null    float64\n",
      " 4   NOX      506 non-null    float64\n",
      " 5   RM       506 non-null    float64\n",
      " 6   AGE      506 non-null    float64\n",
      " 7   DIS      506 non-null    float64\n",
      " 8   RAD      506 non-null    float64\n",
      " 9   TAX      506 non-null    float64\n",
      " 10  PTRATIO  506 non-null    float64\n",
      " 11  B        506 non-null    float64\n",
      " 12  LSTAT    506 non-null    float64\n",
      " 13  PRICE    506 non-null    float64\n",
      "dtypes: float64(14)\n",
      "memory usage: 55.5 KB\n"
     ]
    }
   ],
   "source": [
    "display(house_df.shape)\n",
    "house_df.info()"
   ]
  },
  {
   "cell_type": "code",
   "execution_count": 4,
   "id": "c597d081-8758-4787-884d-9383a04ff74f",
   "metadata": {},
   "outputs": [
    {
     "data": {
      "text/plain": [
       "<AxesSubplot:>"
      ]
     },
     "execution_count": 4,
     "metadata": {},
     "output_type": "execute_result"
    }
   ],
   "source": [
    "hc = house_df.corr()\n",
    "plt.figure(figsize=(10,10))\n",
    "sns.heatmap(hc,annot=True)"
   ]
  },
  {
   "cell_type": "code",
   "execution_count": 5,
   "id": "1ffb0180-6189-4cd0-a244-307128c90af9",
   "metadata": {},
   "outputs": [],
   "source": [
    "X = house_df.iloc[:,:-1]\n",
    "y = house_df.iloc[:,-1]"
   ]
  },
  {
   "cell_type": "markdown",
   "id": "35cc56d7-060a-4730-a4a7-a40ff8ce97ed",
   "metadata": {},
   "source": [
    "### collinearity"
   ]
  },
  {
   "cell_type": "code",
   "execution_count": 6,
   "id": "bd11fce8-1344-4e96-945e-33a860df06a4",
   "metadata": {},
   "outputs": [
    {
     "name": "stdout",
     "output_type": "stream",
     "text": [
      "                            OLS Regression Results                            \n",
      "==============================================================================\n",
      "Dep. Variable:                  PRICE   R-squared:                       1.000\n",
      "Model:                            OLS   Adj. R-squared:                  1.000\n",
      "Method:                 Least Squares   F-statistic:                 1.716e+30\n",
      "Date:                Tue, 31 Aug 2021   Prob (F-statistic):               0.00\n",
      "Time:                        10:01:34   Log-Likelihood:                 14873.\n",
      "No. Observations:                 506   AIC:                        -2.972e+04\n",
      "Df Residuals:                     491   BIC:                        -2.965e+04\n",
      "Df Model:                          14                                         \n",
      "Covariance Type:            nonrobust                                         \n",
      "==============================================================================\n",
      "                 coef    std err          t      P>|t|      [0.025      0.975]\n",
      "------------------------------------------------------------------------------\n",
      "Intercept  -2.301e-14   4.76e-14     -0.483      0.629   -1.17e-13    7.06e-14\n",
      "CRIM         -6.8e-16   2.95e-16     -2.304      0.022   -1.26e-15      -1e-16\n",
      "ZN         -3.832e-16   1.23e-16     -3.106      0.002   -6.26e-16   -1.41e-16\n",
      "INDUS      -2.498e-16   5.46e-16     -0.457      0.648   -1.32e-15    8.24e-16\n",
      "CHAS       -3.109e-14   7.73e-15     -4.021      0.000   -4.63e-14   -1.59e-14\n",
      "NOX        -5.773e-15   3.47e-14     -0.166      0.868   -7.39e-14    6.24e-14\n",
      "RM         -8.243e-15   4.01e-15     -2.053      0.041   -1.61e-14   -3.55e-16\n",
      "AGE        -1.032e-16   1.17e-16     -0.879      0.380   -3.34e-16    1.27e-16\n",
      "DIS        -8.327e-16   1.87e-15     -0.446      0.656    -4.5e-15    2.84e-15\n",
      "RAD        -3.331e-16   6.02e-16     -0.553      0.580   -1.52e-15     8.5e-16\n",
      "TAX         1.908e-17   3.38e-17      0.565      0.572   -4.73e-17    8.54e-17\n",
      "PTRATIO     1.388e-17   1.22e-15      0.011      0.991   -2.39e-15    2.42e-15\n",
      "B           5.811e-17   2.42e-17      2.406      0.017    1.07e-17    1.06e-16\n",
      "LSTAT      -6.453e-16   4.97e-16     -1.298      0.195   -1.62e-15    3.32e-16\n",
      "PRICE          1.0000   4.01e-16    2.5e+15      0.000       1.000       1.000\n",
      "==============================================================================\n",
      "Omnibus:                       23.186   Durbin-Watson:                   0.212\n",
      "Prob(Omnibus):                  0.000   Jarque-Bera (JB):               29.499\n",
      "Skew:                           0.423   Prob(JB):                     3.93e-07\n",
      "Kurtosis:                       3.827   Cond. No.                     1.59e+04\n",
      "==============================================================================\n",
      "\n",
      "Notes:\n",
      "[1] Standard Errors assume that the covariance matrix of the errors is correctly specified.\n",
      "[2] The condition number is large, 1.59e+04. This might indicate that there are\n",
      "strong multicollinearity or other numerical problems.\n"
     ]
    }
   ],
   "source": [
    "import statsmodels.formula.api as smf\n",
    "model = smf.ols(formula='PRICE ~ ' + '+'.join(house_df.columns),data=house_df).fit()\n",
    "print(model.summary())"
   ]
  },
  {
   "cell_type": "code",
   "execution_count": 29,
   "id": "f1890f98-581e-4640-9119-1fcc6c13291f",
   "metadata": {},
   "outputs": [],
   "source": [
    "# Strong multicollinerity"
   ]
  },
  {
   "cell_type": "code",
   "execution_count": 30,
   "id": "2f6e8254-400c-47c3-9a31-d3ef180ff9cd",
   "metadata": {},
   "outputs": [],
   "source": [
    "X = house_df.drop(['DIS','PRICE'],axis=1)\n",
    "y = house_df['PRICE']"
   ]
  },
  {
   "cell_type": "markdown",
   "id": "8ce4b2cb-d588-4cec-a8b1-e1bb3101d31b",
   "metadata": {},
   "source": [
    "### sepearte"
   ]
  },
  {
   "cell_type": "code",
   "execution_count": 31,
   "id": "5dec09ab-5502-46ec-b0d0-2d387212720c",
   "metadata": {},
   "outputs": [],
   "source": [
    "X_train, X_test, y_train, y_test = train_test_split(X,y,test_size=0.3,random_state=0)"
   ]
  },
  {
   "cell_type": "markdown",
   "id": "89b02195-d780-4f95-8e67-5f51fea09999",
   "metadata": {},
   "source": [
    "### Machine Learning models"
   ]
  },
  {
   "cell_type": "markdown",
   "id": "98f924a7-d836-4a15-9abd-5137fcbe9a39",
   "metadata": {},
   "source": [
    "#### Regression"
   ]
  },
  {
   "cell_type": "code",
   "execution_count": 32,
   "id": "563f1136-e1a4-4a5a-bb63-d8298c7e2ab5",
   "metadata": {},
   "outputs": [],
   "source": [
    "# Linear_\n",
    "lr = LinearRegression()\n",
    "\n",
    "# Regulation_\n",
    "ridge = Ridge()\n",
    "lasso = Lasso()\n",
    "ela = ElasticNet()"
   ]
  },
  {
   "cell_type": "markdown",
   "id": "f7c3431d-4d1d-4802-8b64-ef6580c531c3",
   "metadata": {},
   "source": [
    "#### Regression Tree"
   ]
  },
  {
   "cell_type": "code",
   "execution_count": 33,
   "id": "02925982-4d45-4ac5-990a-7196a2589736",
   "metadata": {},
   "outputs": [],
   "source": [
    "dt = DecisionTreeRegressor()\n",
    "rf = RandomForestRegressor()\n",
    "gbr = GradientBoostingRegressor()\n",
    "xgb = XGBRegressor()\n",
    "lgb = LGBMRegressor()"
   ]
  },
  {
   "cell_type": "markdown",
   "id": "a1d3a86d-d742-44b3-aef4-d9c72c99e8e2",
   "metadata": {},
   "source": [
    "### Fitting"
   ]
  },
  {
   "cell_type": "code",
   "execution_count": 34,
   "id": "63b9e096-3c3f-4ffb-a41c-b9879041216d",
   "metadata": {},
   "outputs": [],
   "source": [
    "models = [lr,ridge,lasso,ela,dt,rf,gbr,xgb,lgb]\n",
    "for model in models:\n",
    "    model.fit(X_train,y_train)"
   ]
  },
  {
   "cell_type": "markdown",
   "id": "c1456f44-3d8d-454b-9464-91613f4a7fd5",
   "metadata": {},
   "source": [
    "### predict"
   ]
  },
  {
   "cell_type": "code",
   "execution_count": 35,
   "id": "3d2b4fd2-49b5-464d-b87c-c1be948322fa",
   "metadata": {},
   "outputs": [],
   "source": [
    "lr_pred = lr.predict(X_test)\n",
    "ridge_pred = ridge.predict(X_test)\n",
    "lasso_pred = lasso.predict(X_test)\n",
    "ela_pred = ela.predict(X_test)\n",
    "\n",
    "dt_pred = dt.predict(X_test)\n",
    "rf_pred = rf.predict(X_test)\n",
    "gbr_pred = gbr.predict(X_test)\n",
    "xgb_pred = xgb.predict(X_test)\n",
    "lgb_pred = lgb.predict(X_test)\n"
   ]
  },
  {
   "cell_type": "markdown",
   "id": "f4c65080-7fe7-42b7-ab5c-0420b237fd48",
   "metadata": {},
   "source": [
    "### Evaluation"
   ]
  },
  {
   "cell_type": "code",
   "execution_count": 36,
   "id": "ff47d372-2188-4687-90b3-eb314ac2ec9c",
   "metadata": {},
   "outputs": [],
   "source": [
    "def evaluation(model_name,y_test,prediction,n_cv):\n",
    "    mse = mean_squared_error(y_test,prediction)\n",
    "    rmse = np.sqrt(mse)\n",
    "    r2 = r2_score(y_test,prediction)\n",
    "    np.set_printoptions(precision=6, suppress=True)\n",
    "    print('[model]:',model_name,'\\n')\n",
    "    print('[MSE] : {:.4f}, [RMSE] : {:.4f}, [r2] : {:.4f}'.format(mse,rmse,r2))\n",
    "    print('[Intercept]:', lr.intercept_)\n",
    "    print('[Coef_]:', np.round(lr.coef_,2),'\\n')\n",
    "    \n",
    "    neg_mse_score = cross_val_score(model_name, X, y,scoring='neg_mean_squared_error',cv=n_cv)\n",
    "    rmse_score = np.sqrt(-1*neg_mse_score)\n",
    "    avg_rmse = np.mean(rmse_score)\n",
    "    print('5 folds independent Negative MSE scores:', np.round(neg_mse_score,2))\n",
    "    print('5 folds indenpendent RMSE scores:', np.round(rmse_score,2))\n",
    "    print('5 folds Mean RMSE: {:.3f}'.format(avg_rmse))\n",
    "    print('---' * 30)"
   ]
  },
  {
   "cell_type": "markdown",
   "id": "af1215ba-4352-4168-a503-5d5dd0ebd35c",
   "metadata": {},
   "source": [
    "#### Linear_Regression evaulation"
   ]
  },
  {
   "cell_type": "code",
   "execution_count": 37,
   "id": "4f7c186e-afda-41ea-9eec-3ce169882b90",
   "metadata": {},
   "outputs": [],
   "source": [
    "# a = [1,2,3,4,5]\n",
    "# b = [6,7,8,9,10]\n",
    "# for x,y in zip(a,b):\n",
    "#     print(x,y)"
   ]
  },
  {
   "cell_type": "code",
   "execution_count": 38,
   "id": "eb088f15-23a3-42d4-bc46-9a7606784a71",
   "metadata": {},
   "outputs": [
    {
     "name": "stdout",
     "output_type": "stream",
     "text": [
      "[model]: LinearRegression() \n",
      "\n",
      "[MSE] : 30.1148, [RMSE] : 5.4877, [r2] : 0.6383\n",
      "[Intercept]: 25.063717601256283\n",
      "[Coef_]: [-0.09  0.    0.11  2.63 -9.13  4.34  0.02  0.24 -0.01 -1.18  0.01 -0.48] \n",
      "\n",
      "5 folds independent Negative MSE scores: [-12.15 -25.62 -38.6  -86.86 -36.76]\n",
      "5 folds indenpendent RMSE scores: [3.49 5.06 6.21 9.32 6.06]\n",
      "5 folds Mean RMSE: 6.029\n",
      "------------------------------------------------------------------------------------------\n",
      "[model]: Ridge() \n",
      "\n",
      "[MSE] : 30.2871, [RMSE] : 5.5034, [r2] : 0.6363\n",
      "[Intercept]: 25.063717601256283\n",
      "[Coef_]: [-0.09  0.    0.11  2.63 -9.13  4.34  0.02  0.24 -0.01 -1.18  0.01 -0.48] \n",
      "\n",
      "5 folds independent Negative MSE scores: [-11.37 -26.1  -35.16 -86.1  -35.53]\n",
      "5 folds indenpendent RMSE scores: [3.37 5.11 5.93 9.28 5.96]\n",
      "5 folds Mean RMSE: 5.930\n",
      "------------------------------------------------------------------------------------------\n",
      "[model]: Lasso() \n",
      "\n",
      "[MSE] : 33.8173, [RMSE] : 5.8153, [r2] : 0.5939\n",
      "[Intercept]: 25.063717601256283\n",
      "[Coef_]: [-0.09  0.    0.11  2.63 -9.13  4.34  0.02  0.24 -0.01 -1.18  0.01 -0.48] \n",
      "\n",
      "5 folds independent Negative MSE scores: [-16.78 -34.57 -56.37 -59.87 -20.7 ]\n",
      "5 folds indenpendent RMSE scores: [4.1  5.88 7.51 7.74 4.55]\n",
      "5 folds Mean RMSE: 5.954\n",
      "------------------------------------------------------------------------------------------\n",
      "[model]: ElasticNet() \n",
      "\n",
      "[MSE] : 33.5993, [RMSE] : 5.7965, [r2] : 0.5965\n",
      "[Intercept]: 25.063717601256283\n",
      "[Coef_]: [-0.09  0.    0.11  2.63 -9.13  4.34  0.02  0.24 -0.01 -1.18  0.01 -0.48] \n",
      "\n",
      "5 folds independent Negative MSE scores: [-16.81 -32.53 -52.3  -50.61 -20.74]\n",
      "5 folds indenpendent RMSE scores: [4.1  5.7  7.23 7.11 4.55]\n",
      "5 folds Mean RMSE: 5.741\n",
      "------------------------------------------------------------------------------------------\n"
     ]
    }
   ],
   "source": [
    "models = [lr,ridge,lasso,ela]\n",
    "predictions = [lr_pred,ridge_pred,lasso_pred,ela_pred]\n",
    "\n",
    "for a,b in zip(models,predictions):\n",
    "    evaluation(a, y_test, b, 5)"
   ]
  },
  {
   "cell_type": "markdown",
   "id": "169060cc-a8e0-4acd-bdfe-e75990b89287",
   "metadata": {
    "tags": []
   },
   "source": [
    "##### Linear_Regression"
   ]
  },
  {
   "cell_type": "code",
   "execution_count": 39,
   "id": "b7811f5d-758b-427a-9ff7-4a5fddf9d6c9",
   "metadata": {},
   "outputs": [
    {
     "name": "stdout",
     "output_type": "stream",
     "text": [
      "[model]: LinearRegression() \n",
      "\n",
      "[MSE] : 30.1148, [RMSE] : 5.4877, [r2] : 0.6383\n",
      "[Intercept]: 25.063717601256283\n",
      "[Coef_]: [-0.09  0.    0.11  2.63 -9.13  4.34  0.02  0.24 -0.01 -1.18  0.01 -0.48] \n",
      "\n",
      "5 folds independent Negative MSE scores: [-12.15 -25.62 -38.6  -86.86 -36.76]\n",
      "5 folds indenpendent RMSE scores: [3.49 5.06 6.21 9.32 6.06]\n",
      "5 folds Mean RMSE: 6.029\n",
      "------------------------------------------------------------------------------------------\n"
     ]
    }
   ],
   "source": [
    "evaluation(lr,y_test,lr_pred,5)"
   ]
  },
  {
   "cell_type": "markdown",
   "id": "09fb8fe8-da86-4c5d-b1ed-4feceafbe134",
   "metadata": {},
   "source": [
    "##### regulation_Linear_regression"
   ]
  },
  {
   "cell_type": "code",
   "execution_count": 40,
   "id": "20f2ead0-d9a7-47a5-a691-d008dd982cba",
   "metadata": {},
   "outputs": [],
   "source": [
    "def reg_evaluation(model_name, params=None, X_data_n=None, y_target_n=None,verbose=True):\n",
    "    coeff_df = pd.DataFrame()\n",
    "    if verbose : print('[model] :' ,model_name , '\\n')\n",
    "    for param in params:\n",
    "        if model_name == 'Ridge': model = Ridge(alpha=param)\n",
    "        elif model_name == 'Lasso': model = Lasso(alpha=param)\n",
    "        elif model_name == 'ElasticNet': model = ElasticNet(alpha=param, l1_ratio=0.7)\n",
    "        \n",
    "        neg_mean_scores = cross_val_score(model,X_data_n,y_target_n, scoring='neg_mean_squared_error',cv=5)\n",
    "        avg_rmse = np.mean(np.sqrt(-1*neg_mean_scores))\n",
    "        \n",
    "        print('alpha : {}  (5 folds) RMSE means : {:.4f}'.format(param,avg_rmse))\n",
    "        model.fit(X_data_n, y_target_n)\n",
    "        \n",
    "        coeff = pd.Series(data=model.coef_, index=X_data_n.columns)\n",
    "        colname= 'alpha:' + str(param)\n",
    "        coeff_df[colname] = coeff\n",
    "    return coeff_df"
   ]
  },
  {
   "cell_type": "markdown",
   "id": "c23607db-86ca-4d7b-8c24-4424dd0807e8",
   "metadata": {},
   "source": [
    "###### ridge"
   ]
  },
  {
   "cell_type": "code",
   "execution_count": 41,
   "id": "fa8bbccf-872a-4164-a3bd-71f8f09d3a29",
   "metadata": {},
   "outputs": [
    {
     "name": "stdout",
     "output_type": "stream",
     "text": [
      "[model]: Ridge() \n",
      "\n",
      "alpha : 0 | (5 folds) RMSE means : 6.0285\n",
      "------------------------------------------------------------\n",
      "alpha : 0.1 | (5 folds) RMSE means : 6.0116\n",
      "------------------------------------------------------------\n",
      "alpha : 1 | (5 folds) RMSE means : 5.9298\n",
      "------------------------------------------------------------\n",
      "alpha : 10 | (5 folds) RMSE means : 5.7884\n",
      "------------------------------------------------------------\n",
      "alpha : 100 | (5 folds) RMSE means : 5.6032\n",
      "------------------------------------------------------------\n"
     ]
    }
   ],
   "source": [
    "alphas = [0,0.1,1,10,100]\n",
    "print('[model]: Ridge() \\n')\n",
    "for alpha in alphas:\n",
    "    ridge = Ridge(alpha=alpha)\n",
    "    neg_mean_score = cross_val_score(ridge,X,y,scoring=\"neg_mean_squared_error\",cv =5)\n",
    "    avg_rmse=np.mean(np.sqrt(-1*neg_mean_score))\n",
    "    print('alpha : {} | (5 folds) RMSE means : {:.4f}'.format(alpha,avg_rmse))\n",
    "    print('---' * 20)"
   ]
  },
  {
   "cell_type": "markdown",
   "id": "333e56b9-0017-4b6f-b42a-2d1670bfa5b2",
   "metadata": {},
   "source": [
    "###### Lasso & ElasticNet"
   ]
  },
  {
   "cell_type": "code",
   "execution_count": 42,
   "id": "e5fe8b7f-05c5-4bd1-9859-b86970c34bd0",
   "metadata": {},
   "outputs": [
    {
     "name": "stdout",
     "output_type": "stream",
     "text": [
      "[model] : Lasso \n",
      "\n",
      "alpha : 0.07  (5 folds) RMSE means : 5.8775\n",
      "alpha : 0.1  (5 folds) RMSE means : 5.8857\n",
      "alpha : 0.5  (5 folds) RMSE means : 5.9157\n",
      "alpha : 1  (5 folds) RMSE means : 5.9544\n",
      "alpha : 3  (5 folds) RMSE means : 6.1888\n"
     ]
    },
    {
     "data": {
      "text/html": [
       "<div>\n",
       "<style scoped>\n",
       "    .dataframe tbody tr th:only-of-type {\n",
       "        vertical-align: middle;\n",
       "    }\n",
       "\n",
       "    .dataframe tbody tr th {\n",
       "        vertical-align: top;\n",
       "    }\n",
       "\n",
       "    .dataframe thead th {\n",
       "        text-align: right;\n",
       "    }\n",
       "</style>\n",
       "<table border=\"1\" class=\"dataframe\">\n",
       "  <thead>\n",
       "    <tr style=\"text-align: right;\">\n",
       "      <th></th>\n",
       "      <th>alpha:0.07</th>\n",
       "      <th>alpha:0.1</th>\n",
       "      <th>alpha:0.5</th>\n",
       "      <th>alpha:1</th>\n",
       "      <th>alpha:3</th>\n",
       "    </tr>\n",
       "  </thead>\n",
       "  <tbody>\n",
       "    <tr>\n",
       "      <th>RM</th>\n",
       "      <td>4.074027</td>\n",
       "      <td>3.982371</td>\n",
       "      <td>2.682478</td>\n",
       "      <td>1.071938</td>\n",
       "      <td>0.000000</td>\n",
       "    </tr>\n",
       "    <tr>\n",
       "      <th>CHAS</th>\n",
       "      <td>1.596071</td>\n",
       "      <td>1.124633</td>\n",
       "      <td>0.000000</td>\n",
       "      <td>0.000000</td>\n",
       "      <td>0.000000</td>\n",
       "    </tr>\n",
       "    <tr>\n",
       "      <th>RAD</th>\n",
       "      <td>0.291803</td>\n",
       "      <td>0.294006</td>\n",
       "      <td>0.278107</td>\n",
       "      <td>0.260734</td>\n",
       "      <td>0.061902</td>\n",
       "    </tr>\n",
       "    <tr>\n",
       "      <th>INDUS</th>\n",
       "      <td>0.060858</td>\n",
       "      <td>0.060736</td>\n",
       "      <td>0.014954</td>\n",
       "      <td>0.000000</td>\n",
       "      <td>-0.000000</td>\n",
       "    </tr>\n",
       "    <tr>\n",
       "      <th>AGE</th>\n",
       "      <td>0.019323</td>\n",
       "      <td>0.020587</td>\n",
       "      <td>0.031913</td>\n",
       "      <td>0.041847</td>\n",
       "      <td>0.042495</td>\n",
       "    </tr>\n",
       "    <tr>\n",
       "      <th>ZN</th>\n",
       "      <td>0.011932</td>\n",
       "      <td>0.012230</td>\n",
       "      <td>0.016022</td>\n",
       "      <td>0.024280</td>\n",
       "      <td>0.037231</td>\n",
       "    </tr>\n",
       "    <tr>\n",
       "      <th>B</th>\n",
       "      <td>0.010241</td>\n",
       "      <td>0.010232</td>\n",
       "      <td>0.009323</td>\n",
       "      <td>0.008107</td>\n",
       "      <td>0.006511</td>\n",
       "    </tr>\n",
       "    <tr>\n",
       "      <th>NOX</th>\n",
       "      <td>-0.000000</td>\n",
       "      <td>-0.000000</td>\n",
       "      <td>-0.000000</td>\n",
       "      <td>-0.000000</td>\n",
       "      <td>0.000000</td>\n",
       "    </tr>\n",
       "    <tr>\n",
       "      <th>TAX</th>\n",
       "      <td>-0.013911</td>\n",
       "      <td>-0.014046</td>\n",
       "      <td>-0.013163</td>\n",
       "      <td>-0.013111</td>\n",
       "      <td>-0.008603</td>\n",
       "    </tr>\n",
       "    <tr>\n",
       "      <th>CRIM</th>\n",
       "      <td>-0.077231</td>\n",
       "      <td>-0.077264</td>\n",
       "      <td>-0.067989</td>\n",
       "      <td>-0.052772</td>\n",
       "      <td>-0.000000</td>\n",
       "    </tr>\n",
       "    <tr>\n",
       "      <th>LSTAT</th>\n",
       "      <td>-0.565015</td>\n",
       "      <td>-0.572579</td>\n",
       "      <td>-0.655883</td>\n",
       "      <td>-0.759652</td>\n",
       "      <td>-0.807678</td>\n",
       "    </tr>\n",
       "    <tr>\n",
       "      <th>PTRATIO</th>\n",
       "      <td>-0.922335</td>\n",
       "      <td>-0.926107</td>\n",
       "      <td>-0.890185</td>\n",
       "      <td>-0.817861</td>\n",
       "      <td>-0.265081</td>\n",
       "    </tr>\n",
       "  </tbody>\n",
       "</table>\n",
       "</div>"
      ],
      "text/plain": [
       "         alpha:0.07  alpha:0.1  alpha:0.5   alpha:1   alpha:3\n",
       "RM         4.074027   3.982371   2.682478  1.071938  0.000000\n",
       "CHAS       1.596071   1.124633   0.000000  0.000000  0.000000\n",
       "RAD        0.291803   0.294006   0.278107  0.260734  0.061902\n",
       "INDUS      0.060858   0.060736   0.014954  0.000000 -0.000000\n",
       "AGE        0.019323   0.020587   0.031913  0.041847  0.042495\n",
       "ZN         0.011932   0.012230   0.016022  0.024280  0.037231\n",
       "B          0.010241   0.010232   0.009323  0.008107  0.006511\n",
       "NOX       -0.000000  -0.000000  -0.000000 -0.000000  0.000000\n",
       "TAX       -0.013911  -0.014046  -0.013163 -0.013111 -0.008603\n",
       "CRIM      -0.077231  -0.077264  -0.067989 -0.052772 -0.000000\n",
       "LSTAT     -0.565015  -0.572579  -0.655883 -0.759652 -0.807678\n",
       "PTRATIO   -0.922335  -0.926107  -0.890185 -0.817861 -0.265081"
      ]
     },
     "execution_count": 42,
     "metadata": {},
     "output_type": "execute_result"
    }
   ],
   "source": [
    "lasso_alphas = [0.07,0.1,0.5,1,3]\n",
    "coeff_lasso_df = reg_evaluation('Lasso',params=lasso_alphas,X_data_n=X,y_target_n=y)\n",
    "sort_column ='alpha:' + str(lasso_alphas[0])\n",
    "coeff_lasso_df.sort_values(by=sort_column, ascending=False)"
   ]
  },
  {
   "cell_type": "code",
   "execution_count": 43,
   "id": "b994f006-394e-4298-972a-0ae8d4908570",
   "metadata": {},
   "outputs": [
    {
     "name": "stdout",
     "output_type": "stream",
     "text": [
      "[model] : ElasticNet \n",
      "\n",
      "alpha : 0.07  (5 folds) RMSE means : 5.8047\n",
      "alpha : 0.1  (5 folds) RMSE means : 5.7912\n",
      "alpha : 0.5  (5 folds) RMSE means : 5.7292\n",
      "alpha : 1  (5 folds) RMSE means : 5.8026\n",
      "alpha : 3  (5 folds) RMSE means : 6.0778\n"
     ]
    },
    {
     "data": {
      "text/html": [
       "<div>\n",
       "<style scoped>\n",
       "    .dataframe tbody tr th:only-of-type {\n",
       "        vertical-align: middle;\n",
       "    }\n",
       "\n",
       "    .dataframe tbody tr th {\n",
       "        vertical-align: top;\n",
       "    }\n",
       "\n",
       "    .dataframe thead th {\n",
       "        text-align: right;\n",
       "    }\n",
       "</style>\n",
       "<table border=\"1\" class=\"dataframe\">\n",
       "  <thead>\n",
       "    <tr style=\"text-align: right;\">\n",
       "      <th></th>\n",
       "      <th>alpha:0.07</th>\n",
       "      <th>alpha:0.1</th>\n",
       "      <th>alpha:0.5</th>\n",
       "      <th>alpha:1</th>\n",
       "      <th>alpha:3</th>\n",
       "    </tr>\n",
       "  </thead>\n",
       "  <tbody>\n",
       "    <tr>\n",
       "      <th>RM</th>\n",
       "      <td>3.843115</td>\n",
       "      <td>3.669934</td>\n",
       "      <td>2.052707</td>\n",
       "      <td>1.003266</td>\n",
       "      <td>0.000000</td>\n",
       "    </tr>\n",
       "    <tr>\n",
       "      <th>CHAS</th>\n",
       "      <td>1.447499</td>\n",
       "      <td>1.089848</td>\n",
       "      <td>0.000000</td>\n",
       "      <td>0.000000</td>\n",
       "      <td>0.000000</td>\n",
       "    </tr>\n",
       "    <tr>\n",
       "      <th>RAD</th>\n",
       "      <td>0.301119</td>\n",
       "      <td>0.305222</td>\n",
       "      <td>0.309306</td>\n",
       "      <td>0.286982</td>\n",
       "      <td>0.146801</td>\n",
       "    </tr>\n",
       "    <tr>\n",
       "      <th>INDUS</th>\n",
       "      <td>0.061149</td>\n",
       "      <td>0.059867</td>\n",
       "      <td>0.020567</td>\n",
       "      <td>0.000000</td>\n",
       "      <td>-0.000000</td>\n",
       "    </tr>\n",
       "    <tr>\n",
       "      <th>AGE</th>\n",
       "      <td>0.021229</td>\n",
       "      <td>0.022971</td>\n",
       "      <td>0.036700</td>\n",
       "      <td>0.043647</td>\n",
       "      <td>0.044476</td>\n",
       "    </tr>\n",
       "    <tr>\n",
       "      <th>ZN</th>\n",
       "      <td>0.013031</td>\n",
       "      <td>0.013720</td>\n",
       "      <td>0.019969</td>\n",
       "      <td>0.025749</td>\n",
       "      <td>0.037166</td>\n",
       "    </tr>\n",
       "    <tr>\n",
       "      <th>B</th>\n",
       "      <td>0.010121</td>\n",
       "      <td>0.010045</td>\n",
       "      <td>0.008964</td>\n",
       "      <td>0.008111</td>\n",
       "      <td>0.007008</td>\n",
       "    </tr>\n",
       "    <tr>\n",
       "      <th>NOX</th>\n",
       "      <td>-0.000000</td>\n",
       "      <td>-0.000000</td>\n",
       "      <td>-0.000000</td>\n",
       "      <td>-0.000000</td>\n",
       "      <td>-0.000000</td>\n",
       "    </tr>\n",
       "    <tr>\n",
       "      <th>TAX</th>\n",
       "      <td>-0.014290</td>\n",
       "      <td>-0.014478</td>\n",
       "      <td>-0.014515</td>\n",
       "      <td>-0.014043</td>\n",
       "      <td>-0.011329</td>\n",
       "    </tr>\n",
       "    <tr>\n",
       "      <th>CRIM</th>\n",
       "      <td>-0.078296</td>\n",
       "      <td>-0.078430</td>\n",
       "      <td>-0.072790</td>\n",
       "      <td>-0.062105</td>\n",
       "      <td>-0.018573</td>\n",
       "    </tr>\n",
       "    <tr>\n",
       "      <th>LSTAT</th>\n",
       "      <td>-0.581689</td>\n",
       "      <td>-0.594423</td>\n",
       "      <td>-0.700591</td>\n",
       "      <td>-0.763988</td>\n",
       "      <td>-0.800732</td>\n",
       "    </tr>\n",
       "    <tr>\n",
       "      <th>PTRATIO</th>\n",
       "      <td>-0.936499</td>\n",
       "      <td>-0.942334</td>\n",
       "      <td>-0.923535</td>\n",
       "      <td>-0.835717</td>\n",
       "      <td>-0.426736</td>\n",
       "    </tr>\n",
       "  </tbody>\n",
       "</table>\n",
       "</div>"
      ],
      "text/plain": [
       "         alpha:0.07  alpha:0.1  alpha:0.5   alpha:1   alpha:3\n",
       "RM         3.843115   3.669934   2.052707  1.003266  0.000000\n",
       "CHAS       1.447499   1.089848   0.000000  0.000000  0.000000\n",
       "RAD        0.301119   0.305222   0.309306  0.286982  0.146801\n",
       "INDUS      0.061149   0.059867   0.020567  0.000000 -0.000000\n",
       "AGE        0.021229   0.022971   0.036700  0.043647  0.044476\n",
       "ZN         0.013031   0.013720   0.019969  0.025749  0.037166\n",
       "B          0.010121   0.010045   0.008964  0.008111  0.007008\n",
       "NOX       -0.000000  -0.000000  -0.000000 -0.000000 -0.000000\n",
       "TAX       -0.014290  -0.014478  -0.014515 -0.014043 -0.011329\n",
       "CRIM      -0.078296  -0.078430  -0.072790 -0.062105 -0.018573\n",
       "LSTAT     -0.581689  -0.594423  -0.700591 -0.763988 -0.800732\n",
       "PTRATIO   -0.936499  -0.942334  -0.923535 -0.835717 -0.426736"
      ]
     },
     "execution_count": 43,
     "metadata": {},
     "output_type": "execute_result"
    }
   ],
   "source": [
    "ela_alphas = [0.07,0.1,0.5,1,3]\n",
    "coeff_lasso_df = reg_evaluation('ElasticNet',params=ela_alphas,X_data_n=X,y_target_n=y)\n",
    "sort_column ='alpha:' + str(ela_alphas[0])\n",
    "coeff_lasso_df.sort_values(by=sort_column, ascending=False)"
   ]
  },
  {
   "cell_type": "markdown",
   "id": "8f6f9b22-004d-4676-9ee1-9760d2368683",
   "metadata": {},
   "source": [
    "##### Regression_Tree "
   ]
  },
  {
   "cell_type": "code",
   "execution_count": 44,
   "id": "9ffbb1ae-dd61-4df1-8979-c4c2d30e4566",
   "metadata": {},
   "outputs": [
    {
     "name": "stdout",
     "output_type": "stream",
     "text": [
      "[model]: DecisionTreeRegressor() \n",
      "\n",
      "[MSE] : 25.1309, [RMSE] : 5.0131, [r2] : 0.6982\n",
      "[Intercept]: 25.063717601256283\n",
      "[Coef_]: [-0.09  0.    0.11  2.63 -9.13  4.34  0.02  0.24 -0.01 -1.18  0.01 -0.48] \n",
      "\n",
      "5 folds independent Negative MSE scores: [-11.22 -32.66 -25.99 -55.84 -66.06]\n",
      "5 folds indenpendent RMSE scores: [3.35 5.72 5.1  7.47 8.13]\n",
      "5 folds Mean RMSE: 5.953\n",
      "------------------------------------------------------------------------------------------\n",
      "[model]: RandomForestRegressor() \n",
      "\n",
      "[MSE] : 16.8828, [RMSE] : 4.1089, [r2] : 0.7972\n",
      "[Intercept]: 25.063717601256283\n",
      "[Coef_]: [-0.09  0.    0.11  2.63 -9.13  4.34  0.02  0.24 -0.01 -1.18  0.01 -0.48] \n",
      "\n",
      "5 folds independent Negative MSE scores: [ -7.48 -13.2  -21.66 -47.72 -20.57]\n",
      "5 folds indenpendent RMSE scores: [2.74 3.63 4.65 6.91 4.54]\n",
      "5 folds Mean RMSE: 4.494\n",
      "------------------------------------------------------------------------------------------\n",
      "[model]: GradientBoostingRegressor() \n",
      "\n",
      "[MSE] : 14.7410, [RMSE] : 3.8394, [r2] : 0.8230\n",
      "[Intercept]: 25.063717601256283\n",
      "[Coef_]: [-0.09  0.    0.11  2.63 -9.13  4.34  0.02  0.24 -0.01 -1.18  0.01 -0.48] \n",
      "\n",
      "5 folds independent Negative MSE scores: [ -7.29 -13.6  -19.74 -46.05 -18.34]\n",
      "5 folds indenpendent RMSE scores: [2.7  3.69 4.44 6.79 4.28]\n",
      "5 folds Mean RMSE: 4.380\n",
      "------------------------------------------------------------------------------------------\n",
      "[model]: XGBRegressor(base_score=0.5, booster='gbtree', colsample_bylevel=1,\n",
      "             colsample_bynode=1, colsample_bytree=1, gamma=0, gpu_id=-1,\n",
      "             importance_type='gain', interaction_constraints='',\n",
      "             learning_rate=0.300000012, max_delta_step=0, max_depth=6,\n",
      "             min_child_weight=1, missing=nan, monotone_constraints='()',\n",
      "             n_estimators=100, n_jobs=12, num_parallel_tree=1, random_state=0,\n",
      "             reg_alpha=0, reg_lambda=1, scale_pos_weight=1, subsample=1,\n",
      "             tree_method='exact', validate_parameters=1, verbosity=None) \n",
      "\n",
      "[MSE] : 18.3144, [RMSE] : 4.2795, [r2] : 0.7800\n",
      "[Intercept]: 25.063717601256283\n",
      "[Coef_]: [-0.09  0.    0.11  2.63 -9.13  4.34  0.02  0.24 -0.01 -1.18  0.01 -0.48] \n",
      "\n",
      "5 folds independent Negative MSE scores: [-11.69 -12.05 -14.64 -46.37 -25.45]\n",
      "5 folds indenpendent RMSE scores: [3.42 3.47 3.83 6.81 5.05]\n",
      "5 folds Mean RMSE: 4.514\n",
      "------------------------------------------------------------------------------------------\n",
      "[model]: LGBMRegressor() \n",
      "\n",
      "[MSE] : 18.3952, [RMSE] : 4.2890, [r2] : 0.7791\n",
      "[Intercept]: 25.063717601256283\n",
      "[Coef_]: [-0.09  0.    0.11  2.63 -9.13  4.34  0.02  0.24 -0.01 -1.18  0.01 -0.48] \n",
      "\n",
      "5 folds independent Negative MSE scores: [ -8.03 -13.47 -20.81 -45.08 -33.31]\n",
      "5 folds indenpendent RMSE scores: [2.83 3.67 4.56 6.71 5.77]\n",
      "5 folds Mean RMSE: 4.710\n",
      "------------------------------------------------------------------------------------------\n"
     ]
    }
   ],
   "source": [
    "models = [dt,rf,gbr,xgb,lgb]\n",
    "predictions = [dt_pred,rf_pred,gbr_pred,xgb_pred,lgb_pred]\n",
    "\n",
    "for a,b in zip(models,predictions):\n",
    "    evaluation(a, y_test, b, 5)"
   ]
  },
  {
   "cell_type": "markdown",
   "id": "da8a74ee-64bd-4d8f-8244-7eb419aed8f9",
   "metadata": {},
   "source": [
    "###### lasso / alpha 3 RMSE : 6.0681"
   ]
  },
  {
   "cell_type": "markdown",
   "id": "82b8a632-da59-4c72-a9c4-130ceae332f2",
   "metadata": {},
   "source": [
    "### Best_parmas"
   ]
  },
  {
   "cell_type": "code",
   "execution_count": 45,
   "id": "85c1818e-39ca-43ed-b3bf-f1b0055675be",
   "metadata": {},
   "outputs": [],
   "source": [
    "# alpha = 3\n",
    "lr_params = Lasso(alpha=3)\n",
    "\n",
    "lr_params.fit(X_train,y_train)\n",
    "lr_params_pred = lr_params.predict(X_test)"
   ]
  },
  {
   "cell_type": "code",
   "execution_count": 46,
   "id": "b6da439a-6f80-4f49-8045-96bbef794143",
   "metadata": {},
   "outputs": [
    {
     "name": "stdout",
     "output_type": "stream",
     "text": [
      "[model]: Lasso(alpha=3) \n",
      "\n",
      "[MSE] : 38.2387, [RMSE] : 6.1837, [r2] : 0.5408\n",
      "[Intercept]: 25.063717601256283\n",
      "[Coef_]: [-0.09  0.    0.11  2.63 -9.13  4.34  0.02  0.24 -0.01 -1.18  0.01 -0.48] \n",
      "\n",
      "5 folds independent Negative MSE scores: [-22.75 -36.89 -71.6  -52.54 -19.27]\n",
      "5 folds indenpendent RMSE scores: [4.77 6.07 8.46 7.25 4.39]\n",
      "5 folds Mean RMSE: 6.189\n",
      "------------------------------------------------------------------------------------------\n"
     ]
    }
   ],
   "source": [
    "evaluation(lr_params,y_test,lr_params_pred,5)"
   ]
  },
  {
   "cell_type": "markdown",
   "id": "9cd597e5-ec00-48e0-b8a9-fee4911aee77",
   "metadata": {},
   "source": [
    "### conclusion"
   ]
  },
  {
   "cell_type": "markdown",
   "id": "b1f4fda7-302a-4e9b-a32f-02aa8762ee40",
   "metadata": {},
   "source": [
    "Default Lasso - 6.0681\n",
    "alpha 3 Lasso - 6.189"
   ]
  },
  {
   "cell_type": "code",
   "execution_count": null,
   "id": "0d06b68d-58f0-4754-b098-7576ef1640c5",
   "metadata": {},
   "outputs": [],
   "source": []
  },
  {
   "cell_type": "markdown",
   "id": "dd8ddabc-e97a-4da8-a06d-4444d1785c38",
   "metadata": {
    "tags": []
   },
   "source": [
    "# [도전 과제]\n",
    "\n",
    "캐글의 자전거 대여 수요 예측을 아래와 같이 수행하세요\n",
    "- 데이터는 https://www.kaggle.com/c/bike-sharing-demand/data 에서 train.csv를 다운로드 받아 이용\n",
    "- 문자열을 datetime 타입으로 변경\n",
    "- 종속변수 정규성 개선위한 로그 변환\n",
    "- 평가지표 : RMSLE, RMSE, MAE\n",
    "- 'year', 'month', 'day', 'hour' 등의 피러들을 OneHotEncoding 하여 회귀모델의 예측 성능 비교"
   ]
  },
  {
   "cell_type": "markdown",
   "id": "62836946-2b1b-4a3a-be40-8e5a7dcf6865",
   "metadata": {},
   "source": [
    "### module import"
   ]
  },
  {
   "cell_type": "code",
   "execution_count": null,
   "id": "0929b34c-d3a6-4015-a4fc-9821b7f2daa3",
   "metadata": {},
   "outputs": [],
   "source": [
    "# basic module\n",
    "import numpy as np\n",
    "import pandas as pd\n",
    "import matplotlib.pyplot as plt\n",
    "import seaborn as sns\n",
    "\n",
    "# sepearte module\n",
    "from sklearn.model_selection import train_test_split\n",
    "\n",
    "# machine Learning modules (Regression)\n",
    "from sklearn.linear_model import LinearRegression\n",
    "from sklearn.linear_model import LogisticRegression\n",
    "from sklearn.linear_model import Ridge\n",
    "from sklearn.linear_model import Lasso\n",
    "from sklearn.linear_model import ElasticNet\n",
    "\n",
    "# machine Learning modules (Regression-trees)\n",
    "from sklearn.tree import DecisionTreeRegressor\n",
    "from sklearn.ensemble import RandomForestRegressor\n",
    "from sklearn.ensemble import GradientBoostingRegressor\n",
    "from xgboost import XGBRegressor\n",
    "from lightgbm import LGBMRegressor\n",
    "\n",
    "# machine Learning evaluation\n",
    "from sklearn.metrics import mean_squared_error\n",
    "from sklearn.metrics import r2_score\n",
    "from sklearn.model_selection import cross_val_score\n",
    "\n",
    "# Developing\n",
    "from sklearn.model_selection import GridSearchCV"
   ]
  },
  {
   "cell_type": "markdown",
   "id": "64836525-0e44-4b20-938a-a3b08261782b",
   "metadata": {},
   "source": [
    "### Data load"
   ]
  },
  {
   "cell_type": "code",
   "execution_count": null,
   "id": "4c6f3fcc-0fd4-422b-981b-879d47f56f76",
   "metadata": {},
   "outputs": [],
   "source": [
    "bike = pd.read_csv('Data/train.csv')\n",
    "display(bike.head())\n",
    "print(bike.info())\n",
    "print()\n",
    "print(bike.isnull().sum())"
   ]
  },
  {
   "cell_type": "markdown",
   "id": "c0715c68-458a-4ac5-b7c3-c58e85e88b8b",
   "metadata": {},
   "source": [
    "### Preprocessing"
   ]
  },
  {
   "cell_type": "code",
   "execution_count": null,
   "id": "a49d7f8a-d678-4c09-95df-f24c8c196f93",
   "metadata": {},
   "outputs": [],
   "source": [
    "# str to datetime\n",
    "bike[\"datetime\"] = pd.to_datetime(bike[\"datetime\"])\n",
    "\n",
    "# seperate\n",
    "bike[\"year\"] = bike[\"datetime\"].dt.year\n",
    "bike[\"month\"] = bike[\"datetime\"].dt.month\n",
    "bike[\"day\"] = bike[\"datetime\"].dt.day\n",
    "bike[\"hour\"] = bike[\"datetime\"].dt.hour\n",
    "bike[\"minute\"] = bike[\"datetime\"].dt.minute\n",
    "bike[\"second\"] = bike[\"datetime\"].dt.second\n",
    "\n",
    "# sort\n",
    "bike[[\"datetime\", \"year\", \"month\", \"day\", \"hour\", \"minute\", \"second\"]].head()\n",
    "\n",
    "print(bike.info())"
   ]
  },
  {
   "cell_type": "markdown",
   "id": "a6a3fac7-abdc-486a-aeeb-1be653dffca2",
   "metadata": {},
   "source": [
    "### EDA"
   ]
  },
  {
   "cell_type": "code",
   "execution_count": null,
   "id": "9c8da280-6207-4a89-b6a4-1a1ed661bd87",
   "metadata": {},
   "outputs": [],
   "source": [
    "plt.figure(figsize=(20,20))\n",
    "sns.heatmap(bike.corr(),annot = True)"
   ]
  },
  {
   "cell_type": "code",
   "execution_count": null,
   "id": "25a96e81-e241-4664-beb1-d2a8f6cd6dca",
   "metadata": {},
   "outputs": [],
   "source": [
    "import statsmodels.formula.api as smf\n",
    "model = smf.ols(formula='count ~ ' + '+'.join(bike.columns),data=bike).fit()\n",
    "print(model.summary())"
   ]
  },
  {
   "cell_type": "code",
   "execution_count": null,
   "id": "bdae0799-1fc2-4dc8-8b73-5ccf23ab9ea1",
   "metadata": {},
   "outputs": [],
   "source": [
    "sns.displot(bike['count'])\n",
    "sns.displot(np.log1p(bike['count']))"
   ]
  },
  {
   "cell_type": "code",
   "execution_count": null,
   "id": "988d6964-91b7-4942-bd08-b63d4b183db4",
   "metadata": {},
   "outputs": [],
   "source": []
  }
 ],
 "metadata": {
  "kernelspec": {
   "display_name": "Python 3",
   "language": "python",
   "name": "python3"
  },
  "language_info": {
   "codemirror_mode": {
    "name": "ipython",
    "version": 3
   },
   "file_extension": ".py",
   "mimetype": "text/x-python",
   "name": "python",
   "nbconvert_exporter": "python",
   "pygments_lexer": "ipython3",
   "version": "3.8.11"
  },
  "toc-autonumbering": true,
  "toc-showtags": false,
  "widgets": {
   "application/vnd.jupyter.widget-state+json": {
    "state": {},
    "version_major": 2,
    "version_minor": 0
   }
  }
 },
 "nbformat": 4,
 "nbformat_minor": 5
}
