{
 "cells": [
  {
   "cell_type": "markdown",
   "id": "4153c6fc-718c-4a6a-ad79-29e9638606be",
   "metadata": {},
   "source": [
    "# 차원축소\n",
    "- 매우 많은 피처로 구성된 다차원 데이터 세트의 차원을 축소해 새로운 차원의 데이터 세트를 생성하는 것\n",
    "- 차원이 증가할 수록 데이터 포인트 간의 거리가 기하급수적으로 멀어지게 되고 희소한 구조를 가지며 예측 신뢰도가 떨어짐\n",
    "- 선형 모델에서는 입력 변수 간의 상관관계가 높을 경우 다중 공선성 문제로 모델의 예측 성능이 저하된다.\n",
    "- 다차원의 피처를 차원 축소해 치러 수를 줄이면 더 직관적으로 데이터를 해석할 수 있음\n",
    "- 차원 축소는 피처 선택과 피처 추출로 나눌 수 있음\n",
    "- 피처 선택은 특정 피처에 종속성이 강한 불필요한 피처는 제거하고 데이터의 특징을 잘 나타내는 주요 피처만 선택\n",
    "- 피처 추출은 기존 피처를 저차원의 중요 피처로 압푹해서 추출, 기존의 피처가 압축된 것이므로 기존 피쳐와는 다른 값이 된다.\n",
    "- 차원 축소를 통해 좀 더 데이터를 잘 설명할 수 있는 잠재적인 요소를 추출하며 PCA, SCD, NMF은 대표적인 차원 축소 알고리즘이다."
   ]
  },
  {
   "cell_type": "code",
   "execution_count": 1,
   "id": "a042179c-3aca-412f-9842-9d9b50bb308c",
   "metadata": {},
   "outputs": [],
   "source": [
    "# module import\n",
    "import pandas as pd\n",
    "import numpy as np\n",
    "import seaborn as sns\n",
    "import matplotlib.pyplot as plt\n",
    "%matplotlib inline"
   ]
  },
  {
   "cell_type": "code",
   "execution_count": 36,
   "id": "a6d62372-5bd0-4b65-928c-1aa2a467787c",
   "metadata": {},
   "outputs": [
    {
     "data": {
      "text/html": [
       "<div>\n",
       "<style scoped>\n",
       "    .dataframe tbody tr th:only-of-type {\n",
       "        vertical-align: middle;\n",
       "    }\n",
       "\n",
       "    .dataframe tbody tr th {\n",
       "        vertical-align: top;\n",
       "    }\n",
       "\n",
       "    .dataframe thead th {\n",
       "        text-align: right;\n",
       "    }\n",
       "</style>\n",
       "<table border=\"1\" class=\"dataframe\">\n",
       "  <thead>\n",
       "    <tr style=\"text-align: right;\">\n",
       "      <th></th>\n",
       "      <th>sepal_length</th>\n",
       "      <th>sepal_width</th>\n",
       "      <th>petal_length</th>\n",
       "      <th>petal_width</th>\n",
       "      <th>target</th>\n",
       "    </tr>\n",
       "  </thead>\n",
       "  <tbody>\n",
       "    <tr>\n",
       "      <th>0</th>\n",
       "      <td>5.1</td>\n",
       "      <td>3.5</td>\n",
       "      <td>1.4</td>\n",
       "      <td>0.2</td>\n",
       "      <td>0</td>\n",
       "    </tr>\n",
       "    <tr>\n",
       "      <th>1</th>\n",
       "      <td>4.9</td>\n",
       "      <td>3.0</td>\n",
       "      <td>1.4</td>\n",
       "      <td>0.2</td>\n",
       "      <td>0</td>\n",
       "    </tr>\n",
       "    <tr>\n",
       "      <th>2</th>\n",
       "      <td>4.7</td>\n",
       "      <td>3.2</td>\n",
       "      <td>1.3</td>\n",
       "      <td>0.2</td>\n",
       "      <td>0</td>\n",
       "    </tr>\n",
       "    <tr>\n",
       "      <th>3</th>\n",
       "      <td>4.6</td>\n",
       "      <td>3.1</td>\n",
       "      <td>1.5</td>\n",
       "      <td>0.2</td>\n",
       "      <td>0</td>\n",
       "    </tr>\n",
       "    <tr>\n",
       "      <th>4</th>\n",
       "      <td>5.0</td>\n",
       "      <td>3.6</td>\n",
       "      <td>1.4</td>\n",
       "      <td>0.2</td>\n",
       "      <td>0</td>\n",
       "    </tr>\n",
       "  </tbody>\n",
       "</table>\n",
       "</div>"
      ],
      "text/plain": [
       "   sepal_length  sepal_width  petal_length  petal_width  target\n",
       "0           5.1          3.5           1.4          0.2       0\n",
       "1           4.9          3.0           1.4          0.2       0\n",
       "2           4.7          3.2           1.3          0.2       0\n",
       "3           4.6          3.1           1.5          0.2       0\n",
       "4           5.0          3.6           1.4          0.2       0"
      ]
     },
     "execution_count": 36,
     "metadata": {},
     "output_type": "execute_result"
    }
   ],
   "source": [
    "# data load\n",
    "from sklearn.datasets import load_iris\n",
    "iris = load_iris()\n",
    "columns = iris.feature_names\n",
    "columns = ['sepal_length','sepal_width','petal_length','petal_width']\n",
    "df_iris= pd.DataFrame(iris.data ,columns=columns)\n",
    "df_iris['target'] = iris.target\n",
    "df_iris.head()"
   ]
  },
  {
   "cell_type": "code",
   "execution_count": 37,
   "id": "0b8ab188-ff08-4283-a37f-9ba11f2ae5f9",
   "metadata": {},
   "outputs": [
    {
     "data": {
      "image/png": "[encoded data removed]",
      "text/plain": [
       "<Figure size 432x288 with 1 Axes>"
      ]
     },
     "metadata": {
      "needs_background": "light"
     },
     "output_type": "display_data"
    }
   ],
   "source": [
    "markers = ['^','s','o']\n",
    "for i, marker in enumerate(markers):\n",
    "    x_axis_data = df_iris[df_iris.target==i]['sepal_length']\n",
    "    y_axis_data = df_iris[df_iris.target==i]['sepal_width']\n",
    "    plt.scatter(x_axis_data,y_axis_data,marker=marker,label=iris.target_names[i])\n",
    "    plt.legend()\n",
    "    plt.xlabel('sepal_length')\n",
    "    plt.ylabel('sepal_width')"
   ]
  },
  {
   "cell_type": "code",
   "execution_count": 38,
   "id": "20634ec8-ae7b-436b-abfb-379399c0152e",
   "metadata": {},
   "outputs": [],
   "source": [
    "df_iris1 = df_iris.drop('target',axis=1)"
   ]
  },
  {
   "cell_type": "code",
   "execution_count": 39,
   "id": "8f2109fe-5a78-42a8-90c4-83a28883a7fb",
   "metadata": {},
   "outputs": [],
   "source": [
    "# pca로 4개 속성을 2개로 압축\n",
    "# Standardscaler를 이용, 평균 0, 표준편차 1인 표준정규분포로 모든 속성 값을 변환"
   ]
  },
  {
   "cell_type": "code",
   "execution_count": 40,
   "id": "49c67db0-12f9-4284-be83-281fa1c1cde8",
   "metadata": {},
   "outputs": [],
   "source": [
    "from sklearn.preprocessing import StandardScaler\n",
    "iris_scaled = StandardScaler().fit_transform(df_iris1)"
   ]
  },
  {
   "cell_type": "code",
   "execution_count": 41,
   "id": "b646a83b-6543-4a72-998c-f9a29c938c3c",
   "metadata": {},
   "outputs": [
    {
     "data": {
      "text/plain": [
       "(150, 4)"
      ]
     },
     "execution_count": 41,
     "metadata": {},
     "output_type": "execute_result"
    }
   ],
   "source": [
    "iris_scaled.shape"
   ]
  },
  {
   "cell_type": "code",
   "execution_count": 42,
   "id": "45c20e44-e948-4c0f-99db-0c71565c576a",
   "metadata": {},
   "outputs": [
    {
     "data": {
      "text/plain": [
       "(150, 2)"
      ]
     },
     "execution_count": 42,
     "metadata": {},
     "output_type": "execute_result"
    }
   ],
   "source": [
    "from sklearn.decomposition import PCA\n",
    "pca = PCA(n_components=2)\n",
    "iris_pca = pca.fit_transform(iris_scaled)\n",
    "iris_pca.shape"
   ]
  },
  {
   "cell_type": "code",
   "execution_count": 19,
   "id": "5ed21d45-5ea1-40e8-855c-b8050dae9416",
   "metadata": {},
   "outputs": [
    {
     "data": {
      "text/html": [
       "<div>\n",
       "<style scoped>\n",
       "    .dataframe tbody tr th:only-of-type {\n",
       "        vertical-align: middle;\n",
       "    }\n",
       "\n",
       "    .dataframe tbody tr th {\n",
       "        vertical-align: top;\n",
       "    }\n",
       "\n",
       "    .dataframe thead th {\n",
       "        text-align: right;\n",
       "    }\n",
       "</style>\n",
       "<table border=\"1\" class=\"dataframe\">\n",
       "  <thead>\n",
       "    <tr style=\"text-align: right;\">\n",
       "      <th></th>\n",
       "      <th>pca_componenet_1</th>\n",
       "      <th>pca_componenet_2</th>\n",
       "      <th>target</th>\n",
       "    </tr>\n",
       "  </thead>\n",
       "  <tbody>\n",
       "    <tr>\n",
       "      <th>0</th>\n",
       "      <td>-2.264703</td>\n",
       "      <td>0.480027</td>\n",
       "      <td>0</td>\n",
       "    </tr>\n",
       "    <tr>\n",
       "      <th>1</th>\n",
       "      <td>-2.080961</td>\n",
       "      <td>-0.674134</td>\n",
       "      <td>0</td>\n",
       "    </tr>\n",
       "    <tr>\n",
       "      <th>2</th>\n",
       "      <td>-2.364229</td>\n",
       "      <td>-0.341908</td>\n",
       "      <td>0</td>\n",
       "    </tr>\n",
       "    <tr>\n",
       "      <th>3</th>\n",
       "      <td>-2.299384</td>\n",
       "      <td>-0.597395</td>\n",
       "      <td>0</td>\n",
       "    </tr>\n",
       "    <tr>\n",
       "      <th>4</th>\n",
       "      <td>-2.389842</td>\n",
       "      <td>0.646835</td>\n",
       "      <td>0</td>\n",
       "    </tr>\n",
       "  </tbody>\n",
       "</table>\n",
       "</div>"
      ],
      "text/plain": [
       "   pca_componenet_1  pca_componenet_2  target\n",
       "0         -2.264703          0.480027       0\n",
       "1         -2.080961         -0.674134       0\n",
       "2         -2.364229         -0.341908       0\n",
       "3         -2.299384         -0.597395       0\n",
       "4         -2.389842          0.646835       0"
      ]
     },
     "execution_count": 19,
     "metadata": {},
     "output_type": "execute_result"
    }
   ],
   "source": [
    "pca_columns = ['pca_componenet_1','pca_componenet_2']\n",
    "df_iris_pca = pd.DataFrame(iris_pca,columns=pca_columns)\n",
    "df_iris_pca['target'] = iris.target\n",
    "df_iris_pca.head()\n",
    "               "
   ]
  },
  {
   "cell_type": "code",
   "execution_count": 22,
   "id": "d1160df0-9ea2-48a3-a01e-667771f070de",
   "metadata": {},
   "outputs": [
    {
     "data": {
      "image/png": "[encoded data removed]",
      "text/plain": [
       "<Figure size 432x288 with 1 Axes>"
      ]
     },
     "metadata": {
      "needs_background": "light"
     },
     "output_type": "display_data"
    }
   ],
   "source": [
    "markers = ['^','s','o']\n",
    "for i, marker in enumerate(markers):\n",
    "    x_axis_data = df_iris_pca[df_iris_pca.target==i]['pca_componenet_1']\n",
    "    y_axis_data = df_iris_pca[df_iris_pca.target==i]['pca_componenet_2']\n",
    "    plt.scatter(x_axis_data,y_axis_data,marker=marker,label=iris.target_names[i])\n",
    "    plt.legend()\n",
    "    plt.xlabel('pca_componenet_1')\n",
    "    plt.ylabel('pca_componenet_2')"
   ]
  },
  {
   "cell_type": "code",
   "execution_count": 24,
   "id": "32bbb842-82d3-4ec0-bea1-873e91acafa0",
   "metadata": {},
   "outputs": [],
   "source": [
    "# PCA 객체의 explanied_variance_ratio_ 속성은 \n",
    "# 전체 변동성에서 개별 PCA 컴포넌트별로 차지하는 변동성 비율을 제공"
   ]
  },
  {
   "cell_type": "code",
   "execution_count": 25,
   "id": "64a49b41-ab07-40de-87f7-fd6bb6c6c2d3",
   "metadata": {},
   "outputs": [
    {
     "data": {
      "text/plain": [
       "array([0.72962445, 0.22850762])"
      ]
     },
     "execution_count": 25,
     "metadata": {},
     "output_type": "execute_result"
    }
   ],
   "source": [
    "pca.explained_variance_ratio_"
   ]
  },
  {
   "cell_type": "code",
   "execution_count": 26,
   "id": "88f0db7a-951d-4301-b580-e244a50a4533",
   "metadata": {},
   "outputs": [],
   "source": [
    "# 기존 변수로 분류 모델링 및 평가 / CV=3 평가지표 accuracy"
   ]
  },
  {
   "cell_type": "code",
   "execution_count": 30,
   "id": "9ec73b71-7017-44e0-864d-8fb67575648a",
   "metadata": {},
   "outputs": [],
   "source": [
    "from sklearn.model_selection import train_test_split"
   ]
  },
  {
   "cell_type": "code",
   "execution_count": 31,
   "id": "32392282-094a-4068-b3cb-b4377706b064",
   "metadata": {},
   "outputs": [],
   "source": [
    "og_X = df_iris.drop('target',axis=1)\n",
    "og_y = df_iris['target']\n",
    "\n",
    "X_train,X_test,y_train,y_test = train_test_split(og_X,og_y,test_size=0.3,random_state=156)"
   ]
  },
  {
   "cell_type": "code",
   "execution_count": 35,
   "id": "fbea78d4-7ed1-4c1f-b0b4-278dcef259a2",
   "metadata": {},
   "outputs": [
    {
     "name": "stdout",
     "output_type": "stream",
     "text": [
      "accuracy [0.98 0.94 0.96]\n",
      "mean_accuracy 0.96\n"
     ]
    }
   ],
   "source": [
    "from sklearn.ensemble import RandomForestClassifier\n",
    "from sklearn.model_selection import cross_val_score\n",
    "\n",
    "rf = RandomForestClassifier()\n",
    "cv_score = cross_val_score(rf,og_X,og_y,scoring='accuracy',cv=3)\n",
    "print('accuracy', cv_score)\n",
    "print('mean_accuracy', np.mean(cv_score))"
   ]
  },
  {
   "cell_type": "code",
   "execution_count": 28,
   "id": "e678e0a3-0213-4b71-b837-5f756e23dfc9",
   "metadata": {},
   "outputs": [],
   "source": [
    "# PCA 변환 데이터로 분류 모델링 및 평가"
   ]
  },
  {
   "cell_type": "code",
   "execution_count": 44,
   "id": "7e605cfc-a64b-4de9-ba44-3042030a35bc",
   "metadata": {},
   "outputs": [
    {
     "name": "stdout",
     "output_type": "stream",
     "text": [
      "pc_accuracy [0.9  0.88 0.88]\n",
      "mean_pc_accuracy 0.8866666666666667\n"
     ]
    }
   ],
   "source": [
    "pc_X = df_iris_pca.drop('target',axis=1)\n",
    "pc_y = df_iris_pca['target']\n",
    "\n",
    "pc_score = cross_val_score(rf,pc_X,pc_y,scoring='accuracy',cv=3)\n",
    "print('pc_accuracy',pc_score)\n",
    "print('mean_pc_accuracy',np.mean(pc_score))"
   ]
  },
  {
   "cell_type": "code",
   "execution_count": null,
   "id": "fb5d2d4c-06f2-4cf7-91ad-1770fe6e1325",
   "metadata": {},
   "outputs": [],
   "source": []
  }
 ],
 "metadata": {
  "kernelspec": {
   "display_name": "Python 3",
   "language": "python",
   "name": "python3"
  },
  "language_info": {
   "codemirror_mode": {
    "name": "ipython",
    "version": 3
   },
   "file_extension": ".py",
   "mimetype": "text/x-python",
   "name": "python",
   "nbconvert_exporter": "python",
   "pygments_lexer": "ipython3",
   "version": "3.8.11"
  }
 },
 "nbformat": 4,
 "nbformat_minor": 5
}
