{
 "cells": [
  {
   "cell_type": "markdown",
   "id": "f5df3ae6",
   "metadata": {},
   "source": [
    "### 회귀\n",
    "- 소득이 증가하면 소비도 증가. 어떤 변수가 다른 변수에 영향을 준다면 두 변수 사이에 선형관계가 있다고 할 수 있다.\n",
    "- 두 변수 사이에 일대일로 대응되는 확률적, 통계적 상관성을 찾는 알고리즘을  Simple Linear Regression이라고 함. (지도학습)\n",
    "- 변수 X와 Y에 대한 정보를 가지고 일차 방정식의 계수 a,b를 찾는 과정이 단순회귀분석 알고리즘이라고 한다."
   ]
  },
  {
   "cell_type": "code",
   "execution_count": 1,
   "id": "d4bd6c97",
   "metadata": {},
   "outputs": [],
   "source": [
    "import statsmodels.formula.api as smf\n",
    "import statsmodels.api as sm\n",
    "\n",
    "import pandas as pd\n",
    "import numpy as np\n",
    "import seaborn as sns\n",
    "import matplotlib.pyplot as plt\n",
    "%matplotlib inline\n",
    "plt.style.use('seaborn-dark')\n",
    "%config InlineBackend.figure_format = 'retina'\n",
    "pd.options.display.max_rows = 20\n",
    "pd.options.display.max_columns = 20\n",
    "\n",
    "# plt.rcParams[\"figure.figsize\"] = (14,4)\n",
    "plt.rcParams['lines.linewidth'] = 2\n",
    "plt.rcParams['lines.color'] = 'r'\n",
    "plt.rcParams['axes.grid'] = True \n",
    "import warnings\n",
    "warnings.filterwarnings('ignore')"
   ]
  },
  {
   "cell_type": "code",
   "execution_count": 2,
   "id": "b341eea7",
   "metadata": {},
   "outputs": [
    {
     "data": {
      "text/html": [
       "<div>\n",
       "<style scoped>\n",
       "    .dataframe tbody tr th:only-of-type {\n",
       "        vertical-align: middle;\n",
       "    }\n",
       "\n",
       "    .dataframe tbody tr th {\n",
       "        vertical-align: top;\n",
       "    }\n",
       "\n",
       "    .dataframe thead th {\n",
       "        text-align: right;\n",
       "    }\n",
       "</style>\n",
       "<table border=\"1\" class=\"dataframe\">\n",
       "  <thead>\n",
       "    <tr style=\"text-align: right;\">\n",
       "      <th></th>\n",
       "      <th>mpg</th>\n",
       "      <th>cylinders</th>\n",
       "      <th>displacement</th>\n",
       "      <th>horsepower</th>\n",
       "      <th>weight</th>\n",
       "      <th>acceleration</th>\n",
       "      <th>model year</th>\n",
       "      <th>origin</th>\n",
       "      <th>car name</th>\n",
       "    </tr>\n",
       "  </thead>\n",
       "  <tbody>\n",
       "    <tr>\n",
       "      <th>0</th>\n",
       "      <td>18.0</td>\n",
       "      <td>8</td>\n",
       "      <td>307.0</td>\n",
       "      <td>130</td>\n",
       "      <td>3504</td>\n",
       "      <td>12.0</td>\n",
       "      <td>70</td>\n",
       "      <td>1</td>\n",
       "      <td>chevrolet chevelle malibu</td>\n",
       "    </tr>\n",
       "    <tr>\n",
       "      <th>1</th>\n",
       "      <td>15.0</td>\n",
       "      <td>8</td>\n",
       "      <td>350.0</td>\n",
       "      <td>165</td>\n",
       "      <td>3693</td>\n",
       "      <td>11.5</td>\n",
       "      <td>70</td>\n",
       "      <td>1</td>\n",
       "      <td>buick skylark 320</td>\n",
       "    </tr>\n",
       "    <tr>\n",
       "      <th>2</th>\n",
       "      <td>18.0</td>\n",
       "      <td>8</td>\n",
       "      <td>318.0</td>\n",
       "      <td>150</td>\n",
       "      <td>3436</td>\n",
       "      <td>11.0</td>\n",
       "      <td>70</td>\n",
       "      <td>1</td>\n",
       "      <td>plymouth satellite</td>\n",
       "    </tr>\n",
       "    <tr>\n",
       "      <th>3</th>\n",
       "      <td>16.0</td>\n",
       "      <td>8</td>\n",
       "      <td>304.0</td>\n",
       "      <td>150</td>\n",
       "      <td>3433</td>\n",
       "      <td>12.0</td>\n",
       "      <td>70</td>\n",
       "      <td>1</td>\n",
       "      <td>amc rebel sst</td>\n",
       "    </tr>\n",
       "    <tr>\n",
       "      <th>4</th>\n",
       "      <td>17.0</td>\n",
       "      <td>8</td>\n",
       "      <td>302.0</td>\n",
       "      <td>140</td>\n",
       "      <td>3449</td>\n",
       "      <td>10.5</td>\n",
       "      <td>70</td>\n",
       "      <td>1</td>\n",
       "      <td>ford torino</td>\n",
       "    </tr>\n",
       "  </tbody>\n",
       "</table>\n",
       "</div>"
      ],
      "text/plain": [
       "    mpg  cylinders  displacement horsepower  weight  acceleration  model year  \\\n",
       "0  18.0          8         307.0        130    3504          12.0          70   \n",
       "1  15.0          8         350.0        165    3693          11.5          70   \n",
       "2  18.0          8         318.0        150    3436          11.0          70   \n",
       "3  16.0          8         304.0        150    3433          12.0          70   \n",
       "4  17.0          8         302.0        140    3449          10.5          70   \n",
       "\n",
       "   origin                   car name  \n",
       "0       1  chevrolet chevelle malibu  \n",
       "1       1          buick skylark 320  \n",
       "2       1         plymouth satellite  \n",
       "3       1              amc rebel sst  \n",
       "4       1                ford torino  "
      ]
     },
     "execution_count": 2,
     "metadata": {},
     "output_type": "execute_result"
    }
   ],
   "source": [
    "df = pd.read_excel('../Data/auto-mpg.xlsx')\n",
    "df.head()"
   ]
  },
  {
   "cell_type": "code",
   "execution_count": 3,
   "id": "4509c03e",
   "metadata": {},
   "outputs": [
    {
     "data": {
      "text/html": [
       "<div>\n",
       "<style scoped>\n",
       "    .dataframe tbody tr th:only-of-type {\n",
       "        vertical-align: middle;\n",
       "    }\n",
       "\n",
       "    .dataframe tbody tr th {\n",
       "        vertical-align: top;\n",
       "    }\n",
       "\n",
       "    .dataframe thead th {\n",
       "        text-align: right;\n",
       "    }\n",
       "</style>\n",
       "<table border=\"1\" class=\"dataframe\">\n",
       "  <thead>\n",
       "    <tr style=\"text-align: right;\">\n",
       "      <th></th>\n",
       "      <th>mpg</th>\n",
       "      <th>cylinders</th>\n",
       "      <th>horsepower</th>\n",
       "      <th>weight</th>\n",
       "    </tr>\n",
       "  </thead>\n",
       "  <tbody>\n",
       "    <tr>\n",
       "      <th>0</th>\n",
       "      <td>18.0</td>\n",
       "      <td>8</td>\n",
       "      <td>130</td>\n",
       "      <td>3504</td>\n",
       "    </tr>\n",
       "    <tr>\n",
       "      <th>1</th>\n",
       "      <td>15.0</td>\n",
       "      <td>8</td>\n",
       "      <td>165</td>\n",
       "      <td>3693</td>\n",
       "    </tr>\n",
       "    <tr>\n",
       "      <th>2</th>\n",
       "      <td>18.0</td>\n",
       "      <td>8</td>\n",
       "      <td>150</td>\n",
       "      <td>3436</td>\n",
       "    </tr>\n",
       "    <tr>\n",
       "      <th>3</th>\n",
       "      <td>16.0</td>\n",
       "      <td>8</td>\n",
       "      <td>150</td>\n",
       "      <td>3433</td>\n",
       "    </tr>\n",
       "    <tr>\n",
       "      <th>4</th>\n",
       "      <td>17.0</td>\n",
       "      <td>8</td>\n",
       "      <td>140</td>\n",
       "      <td>3449</td>\n",
       "    </tr>\n",
       "  </tbody>\n",
       "</table>\n",
       "</div>"
      ],
      "text/plain": [
       "    mpg  cylinders horsepower  weight\n",
       "0  18.0          8        130    3504\n",
       "1  15.0          8        165    3693\n",
       "2  18.0          8        150    3436\n",
       "3  16.0          8        150    3433\n",
       "4  17.0          8        140    3449"
      ]
     },
     "execution_count": 3,
     "metadata": {},
     "output_type": "execute_result"
    }
   ],
   "source": [
    "ndf = df[['mpg','cylinders','horsepower','weight']]\n",
    "ndf.head()"
   ]
  },
  {
   "cell_type": "code",
   "execution_count": 4,
   "id": "aba8c50c",
   "metadata": {},
   "outputs": [
    {
     "name": "stdout",
     "output_type": "stream",
     "text": [
      "<class 'pandas.core.frame.DataFrame'>\n",
      "Int64Index: 392 entries, 0 to 397\n",
      "Data columns (total 4 columns):\n",
      " #   Column      Non-Null Count  Dtype  \n",
      "---  ------      --------------  -----  \n",
      " 0   mpg         392 non-null    float64\n",
      " 1   cylinders   392 non-null    int64  \n",
      " 2   horsepower  392 non-null    float64\n",
      " 3   weight      392 non-null    int64  \n",
      "dtypes: float64(2), int64(2)\n",
      "memory usage: 15.3 KB\n"
     ]
    }
   ],
   "source": [
    "ndf['horsepower'] = ndf['horsepower'].replace('?',np.nan)\n",
    "ndf.dropna(subset=['horsepower'],axis=0,inplace=True)\n",
    "ndf.info()\n"
   ]
  },
  {
   "cell_type": "code",
   "execution_count": null,
   "id": "abbd42d3",
   "metadata": {},
   "outputs": [],
   "source": [
    "sns.pairplot(ndf)"
   ]
  },
  {
   "cell_type": "code",
   "execution_count": null,
   "id": "3d8c8450",
   "metadata": {},
   "outputs": [],
   "source": [
    "# 변수(속성) 선택\n",
    "\n",
    "X = ndf[['weight']] # 독립변수\n",
    "y = ndf['mpg'] # 종속변수\n",
    "\n",
    "from sklearn.model_selection import train_test_split\n",
    "X_train, X_test, y_train, y_test = train_test_split(X,y, test_size = 0.3 , random_state=11)"
   ]
  },
  {
   "cell_type": "code",
   "execution_count": null,
   "id": "de7446dc",
   "metadata": {},
   "outputs": [],
   "source": [
    "from sklearn.linear_model import LinearRegression # 선형회귀\n",
    "\n",
    "lr = LinearRegression()\n",
    "lr.fit(X_train, y_train)\n",
    "y_preds = lr.predict(X_test)\n",
    "y_preds[:5]"
   ]
  },
  {
   "cell_type": "markdown",
   "id": "58cd9bf4",
   "metadata": {},
   "source": [
    "### 회귀 평가 지표\n",
    "- MAE : 실제값과 예측값의 차이를 절대값으로 변환해 평균한 것\n",
    "- MSE : 실제값과 예측값의 차이를 제곱해 평균한 것\n",
    "- RMSE : MSE에 루트를 씌운 것 (실제 오류 평균보다 커지는 것 보정)\n",
    "- R square : 분산 기반으로 예측 성능을 평가. 실제값의 분산 대비 예측값의 분산 비율을 지표로 함"
   ]
  },
  {
   "cell_type": "code",
   "execution_count": null,
   "id": "632570b8",
   "metadata": {},
   "outputs": [],
   "source": [
    "from sklearn.metrics import mean_squared_error, r2_score # MSE\n",
    "mse = mean_squared_error(y_test, y_preds)\n",
    "rmse = np.sqrt(mse)\n",
    "r2 = r2_score(y_test,y_preds)\n",
    "print('MSE:{:.3f}, RMSE:{:.3f}, R2 score:{:.3f}'.format(mse,rmse,r2))"
   ]
  },
  {
   "cell_type": "code",
   "execution_count": null,
   "id": "f99de5c4",
   "metadata": {},
   "outputs": [],
   "source": [
    "lr.coef_"
   ]
  },
  {
   "cell_type": "code",
   "execution_count": null,
   "id": "7d53e607",
   "metadata": {},
   "outputs": [],
   "source": [
    "print('기울기 a :' ,lr.coef_)\n",
    "print('절편 b :',lr.intercept_)"
   ]
  },
  {
   "cell_type": "code",
   "execution_count": null,
   "id": "6f0e7008",
   "metadata": {},
   "outputs": [],
   "source": [
    "y.plot(kind='hist')"
   ]
  },
  {
   "cell_type": "code",
   "execution_count": null,
   "id": "86ecc4f2",
   "metadata": {},
   "outputs": [],
   "source": [
    "y_hat = lr.predict(X)\n",
    "pd.DataFrame(y_hat).plot(kind='hist')"
   ]
  },
  {
   "cell_type": "code",
   "execution_count": null,
   "id": "48b8f0d4",
   "metadata": {},
   "outputs": [],
   "source": [
    "plt.figure(figsize=(10,5))\n",
    "ax1 = sns.distplot(y,hist=False, label = \"y\")\n",
    "ax2 = sns.distplot(y_hat,hist=False,label='y_hat')"
   ]
  },
  {
   "cell_type": "markdown",
   "id": "ae9c883f",
   "metadata": {},
   "source": [
    "### 다항회귀분석\n",
    "- 직선보다 곡선으로 설명하는 것이 적합할 경우 다항 함수를 사용하면 복잡한 곡선형태의 회귀선을 표현할 수 있다.\n",
    "- 2차 함수 이상의 다항 함수를 이용하여 두 변수 간의 선형관계를 설명하는 알고리즘.\n",
    "- 다항 회귀도 선형회쉬이다. 선형/비선형 회귀를 나누는 기준은 회귀계수가 선형/비선형인지에 따르며 독립변수의 선형/비선형 여부와는 무관하다."
   ]
  },
  {
   "cell_type": "code",
   "execution_count": null,
   "id": "68cae380",
   "metadata": {},
   "outputs": [],
   "source": [
    "# 변수(속성) 선택\n",
    "\n",
    "X = ndf[['weight']] # 독립변수\n",
    "y = ndf['mpg'] # 종속변수\n",
    "\n",
    "from sklearn.model_selection import train_test_split\n",
    "X_train, X_test, y_train, y_test = train_test_split(X,y, test_size = 0.3 , random_state=11)"
   ]
  },
  {
   "cell_type": "code",
   "execution_count": null,
   "id": "2c8577f0",
   "metadata": {},
   "outputs": [],
   "source": [
    "from sklearn.preprocessing import PolynomialFeatures #다항식 변환\n",
    "poly = PolynomialFeatures(degree=2) # 2차항 적용\n",
    "X_train_poly = poly.fit_transform(X_train) # X_train 데이터를 2차항으로 변환.\n",
    "print(X_train.shape)\n",
    "print(X_train_poly.shape)\n",
    "print(X_train_poly[:5])"
   ]
  },
  {
   "cell_type": "code",
   "execution_count": null,
   "id": "dd9261f7",
   "metadata": {},
   "outputs": [],
   "source": [
    "pr = LinearRegression()\n",
    "pr.fit(X_train_poly,y_train)\n",
    "X_test_poly = poly.fit_transform(X_test)\n",
    "r_square = pr.score(X_test_poly,y_test)\n",
    "r_square"
   ]
  },
  {
   "cell_type": "code",
   "execution_count": null,
   "id": "c6705c7c",
   "metadata": {},
   "outputs": [],
   "source": [
    "y_hat_test = pr.predict(X_test_poly)\n",
    "\n",
    "fig = plt.figure(figsize=(10,5))\n",
    "ax = fig.add_subplot(1,1,1)\n",
    "ax.plot(X_train, y_train, 'o', label ='Train Data')\n",
    "ax.plot(X_test,y_hat_test, 'r+', label = \"Predicted Value\")\n",
    "ax.legend(loc='best')\n",
    "plt.xlabel('weight')\n",
    "plt.ylabel('mpg')"
   ]
  },
  {
   "cell_type": "code",
   "execution_count": null,
   "id": "5803f634",
   "metadata": {},
   "outputs": [],
   "source": [
    "from sklearn.metrics import mean_squared_error, r2_score # MSE\n",
    "pr = LinearRegression()\n",
    "pr.fit(X_train_poly, y_train)\n",
    "\n",
    "X_test_poly = poly.fit_transform(X_test)\n",
    "y_preds_poly = pr.predict(X_test_poly)\n",
    "r2_square = r2_score(y_test,y_preds_poly)\n",
    "r2_square\n"
   ]
  },
  {
   "cell_type": "code",
   "execution_count": null,
   "id": "60db6abf",
   "metadata": {},
   "outputs": [],
   "source": [
    "X_poly = poly.fit_transform(X)\n",
    "y_hat = pr.predict(X_poly)\n",
    "\n",
    "plt.figure(figsize=(10,5))\n",
    "ax1 = sns.distplot(y,hist=False, label='y')\n",
    "ax2 = sns.distplot(y_hat, hist=False, label='y_hat')\n"
   ]
  },
  {
   "cell_type": "markdown",
   "id": "a55959d2",
   "metadata": {},
   "source": [
    "### 다중 회귀분석\n",
    "- 여러 개의 독립 변수가 종속 변수에 영향을 주고 선형 관계를 갖는 경우에 다중회귀분석을 사용\n",
    "- 다중 회귀분석 알고리즘은 각 독립 변수의 계수와 상수항에 적절한 값들을 찾아서 모형을 완성. 지도학습을 의미."
   ]
  },
  {
   "cell_type": "code",
   "execution_count": null,
   "id": "2338334b",
   "metadata": {},
   "outputs": [],
   "source": [
    "ndf.head()"
   ]
  },
  {
   "cell_type": "code",
   "execution_count": null,
   "id": "4d98aa5c",
   "metadata": {},
   "outputs": [],
   "source": [
    "X=ndf[['cylinders','horsepower','weight']]\n",
    "y=ndf['mpg']\n",
    "\n",
    "X_train, X_test, y_train, y_test = train_test_split(X,y,\n",
    "                                                   test_size=0.3,\n",
    "                                                   random_state=0)\n",
    "lr= LinearRegression()\n",
    "lr.fit(X_train, y_train)\n",
    "y_preds= lr.predict(X_test)\n",
    "\n",
    "r2= r2_score(y_test,y_preds)\n",
    "mse= mean_squared_error(y_test,y_preds)\n",
    "rmse= np.sqrt(mse)\n",
    "\n",
    "print('MSE:{:.3f}, RMSE:{:.3f}, R2 score:{:.3f}'.format(mse,rmse,r2))"
   ]
  },
  {
   "cell_type": "code",
   "execution_count": null,
   "id": "12232d4d",
   "metadata": {},
   "outputs": [],
   "source": [
    "print('X변수의 계수:',lr.coef_)\n",
    "print('절편:',lr.intercept_)"
   ]
  },
  {
   "cell_type": "code",
   "execution_count": null,
   "id": "65a2e553",
   "metadata": {},
   "outputs": [],
   "source": [
    "y_hat= lr.predict(X_test)\n",
    "\n",
    "plt.figure(figsize=(10,5))\n",
    "ax1= sns.distplot(y_test, hist=False, label='y_test')\n",
    "ax2= sns.distplot(y_hat, hist=False, label='y_hat')"
   ]
  },
  {
   "cell_type": "code",
   "execution_count": null,
   "id": "b018cf35",
   "metadata": {},
   "outputs": [],
   "source": [
    "from sklearn.preprocessing import MinMaxScaler\n",
    "scaler = MinMaxScaler()\n",
    "ndf_ms = scaler.fit_transform(ndf)\n",
    "ndf_ms_df = pd.DataFrame(data=ndf_ms, columns =ndf.columns)\n",
    "ndf_ms_df.head()"
   ]
  },
  {
   "cell_type": "code",
   "execution_count": null,
   "id": "e026852e",
   "metadata": {},
   "outputs": [],
   "source": [
    "# R-squared 구하기\n",
    "X = ndf_ms_df[['cylinders', 'horsepower', 'weight']]\n",
    "y = ndf_ms_df['mpg']\n",
    "X_train,X_test,y_train,y_test = train_test_split(X,y,test_size=0.3, random_state=0)\n",
    "lr = LinearRegression()\n",
    "lr.fit(X_train, y_train)\n",
    "r2 = lr.score(X_test, y_test)\n",
    "mse = mean_squared_error(y_test,y_preds)\n",
    "rmse = np.sqrt(mse)\n",
    "\n",
    "print(f'MSE:{mse:.3f}, RMSE:{rmse:.3f}, R2 score:{r2:.3f}')\n"
   ]
  },
  {
   "cell_type": "code",
   "execution_count": null,
   "id": "b49c6b21-3235-48f1-b314-b6625a1eacc8",
   "metadata": {},
   "outputs": [],
   "source": [
    "X = ndf_ms_df[['cylinders','horsepower','weight']]\n",
    "y = ndf_ms_df['mpg']\n",
    "\n",
    "X_train, X_test, y_train, y_test = train_test_split(X, y, \n",
    "                                                    test_size=0.3, \n",
    "                                                    random_state=0)\n",
    "lr=LinearRegression()\n",
    "lr.fit(X_train,y_train)\n",
    "y_preds = lr.predict(X_test)\n",
    "r2 = r2_score(y_test, y_preds)\n",
    "mse = mean_squared_error(y_test, y_preds)\n",
    "rmse = np.sqrt(mse)\n",
    "\n",
    "print(f'MSE: {mse:.3f}, RMSE: {rmse:.3f}, R2 score: {r2:.3f}')\n"
   ]
  },
  {
   "cell_type": "code",
   "execution_count": null,
   "id": "01a9c58c",
   "metadata": {},
   "outputs": [],
   "source": [
    "from sklearn.preprocessing import StandardScaler\n",
    "scaler = StandardScaler()\n",
    "ndf_ms = scaler.fit_transform(ndf)\n",
    "ndf_ms_df = pd.DataFrame(data=ndf_ms,columns=ndf.columns)\n",
    "plt.title('Standard Transformed npg histogram')\n",
    "sns.distplot(ndf_ms_df.mpg)"
   ]
  },
  {
   "cell_type": "code",
   "execution_count": null,
   "id": "cb1b85e8",
   "metadata": {},
   "outputs": [],
   "source": [
    "log_mpg = np.log1p(ndf['mpg'])\n",
    "sns.distplot(log_mpg)"
   ]
  },
  {
   "cell_type": "code",
   "execution_count": null,
   "id": "3f9a9383",
   "metadata": {},
   "outputs": [],
   "source": []
  },
  {
   "cell_type": "code",
   "execution_count": null,
   "id": "d4126383",
   "metadata": {},
   "outputs": [],
   "source": [
    "# 곡선그래프를 그려라... numpy \n",
    "\n",
    "import numpy as np\n",
    "import matplotlib.pyplot as plt\n",
    "\n",
    "x= [1,2,3,4,5,6,7,8,9,10,11,12,13,14,15,16,17,18,19,20]\n",
    "y= [1,2,3,4,5,6,7,8,9,10,10,9,8,7,6,5,4,3,2,1]\n",
    "\n",
    "curve = np.polyfit(x,y,2)  # 2차원으로 바꿔주는것 ... 2차식의 계수?\n",
    "poly= np.poly1d(curve)  \n",
    "\n",
    "print(curve)\n",
    "print(poly)\n",
    "\n",
    "new_x= []\n",
    "new_y= []\n",
    "\n",
    "for i in range(20):\n",
    "    new_x.append(i+1)\n",
    "    calc= poly(i+1)\n",
    "    new_y.append(calc)\n",
    "\n",
    "plt.scatter(x,y)\n",
    "plt.plot(new_x,new_y)"
   ]
  },
  {
   "cell_type": "code",
   "execution_count": null,
   "id": "9872f45c",
   "metadata": {},
   "outputs": [],
   "source": []
  },
  {
   "cell_type": "code",
   "execution_count": null,
   "id": "615734e8",
   "metadata": {},
   "outputs": [],
   "source": []
  },
  {
   "cell_type": "code",
   "execution_count": null,
   "id": "82ae1a57",
   "metadata": {},
   "outputs": [],
   "source": []
  },
  {
   "cell_type": "code",
   "execution_count": null,
   "id": "9a90e819",
   "metadata": {},
   "outputs": [],
   "source": []
  },
  {
   "cell_type": "code",
   "execution_count": null,
   "id": "59a9dd8b",
   "metadata": {},
   "outputs": [],
   "source": []
  },
  {
   "cell_type": "code",
   "execution_count": null,
   "id": "88ed4779",
   "metadata": {},
   "outputs": [],
   "source": []
  },
  {
   "cell_type": "code",
   "execution_count": null,
   "id": "35a455b2",
   "metadata": {},
   "outputs": [],
   "source": []
  },
  {
   "cell_type": "code",
   "execution_count": null,
   "id": "9fc3f1fd",
   "metadata": {},
   "outputs": [],
   "source": []
  },
  {
   "cell_type": "code",
   "execution_count": null,
   "id": "d81c972c",
   "metadata": {},
   "outputs": [],
   "source": []
  },
  {
   "cell_type": "code",
   "execution_count": null,
   "id": "d0462a83",
   "metadata": {},
   "outputs": [],
   "source": []
  },
  {
   "cell_type": "code",
   "execution_count": null,
   "id": "68b56711",
   "metadata": {},
   "outputs": [],
   "source": []
  },
  {
   "cell_type": "code",
   "execution_count": null,
   "id": "453de58a",
   "metadata": {},
   "outputs": [],
   "source": []
  },
  {
   "cell_type": "code",
   "execution_count": null,
   "id": "d5405d95",
   "metadata": {},
   "outputs": [],
   "source": []
  }
 ],
 "metadata": {
  "kernelspec": {
   "display_name": "Python 3",
   "language": "python",
   "name": "python3"
  },
  "language_info": {
   "codemirror_mode": {
    "name": "ipython",
    "version": 3
   },
   "file_extension": ".py",
   "mimetype": "text/x-python",
   "name": "python",
   "nbconvert_exporter": "python",
   "pygments_lexer": "ipython3",
   "version": "3.8.11"
  },
  "varInspector": {
   "cols": {
    "lenName": 16,
    "lenType": 16,
    "lenVar": 40
   },
   "kernels_config": {
    "python": {
     "delete_cmd_postfix": "",
     "delete_cmd_prefix": "del ",
     "library": "var_list.py",
     "varRefreshCmd": "print(var_dic_list())"
    },
    "r": {
     "delete_cmd_postfix": ") ",
     "delete_cmd_prefix": "rm(",
     "library": "var_list.r",
     "varRefreshCmd": "cat(var_dic_list()) "
    }
   },
   "types_to_exclude": [
    "module",
    "function",
    "builtin_function_or_method",
    "instance",
    "_Feature"
   ],
   "window_display": false
  }
 },
 "nbformat": 4,
 "nbformat_minor": 5
}
