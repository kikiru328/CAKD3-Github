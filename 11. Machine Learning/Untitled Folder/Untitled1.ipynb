{
 "cells": [
  {
   "cell_type": "markdown",
   "id": "6c111e9b-a5f7-4bc5-b460-16640ec13297",
   "metadata": {},
   "source": [
    "# Santander Customer Satisfaction"
   ]
  },
  {
   "cell_type": "code",
   "execution_count": 1,
   "id": "c85d0c73-1749-462b-b9aa-aaab3b4631f4",
   "metadata": {},
   "outputs": [],
   "source": [
    "# module import\n",
    "\n",
    "# EDA\n",
    "import numpy as np\n",
    "import pandas as pd\n",
    "import matplotlib.pyplot as plt\n",
    "%matplotlib inline\n",
    "\n",
    "# Seperate\n",
    "from sklearn.model_selection import train_test_split\n",
    "\n",
    "# models\n",
    "from sklearn.metrics import roc_auc_score\n",
    "from xgboost import XGBClassifier\n",
    "from lightgbm import LGBMClassifier\n",
    "\n",
    "# validation\n",
    "from sklearn.model_selection import GridSearchCV\n",
    "# ETC\n",
    "import warnings\n",
    "warnings.filterwarnings('ignore')\n",
    "\n"
   ]
  },
  {
   "cell_type": "code",
   "execution_count": 2,
   "id": "b614d2fa-b35a-418a-b29d-bee7e04819c8",
   "metadata": {},
   "outputs": [
    {
     "name": "stdout",
     "output_type": "stream",
     "text": [
      "0    73012\n",
      "1     3008\n",
      "Name: TARGET, dtype: int64\n",
      "unsatisfied ratio > 0.04\n"
     ]
    }
   ],
   "source": [
    "# Load data\n",
    "cust_data = pd.read_csv('../Data/train.csv')\n",
    "cust_data.head(1)\n",
    "print(cust_data['TARGET'].value_counts())\n",
    "unsatisfied_cnt = cust_data[cust_data['TARGET']==1][\"TARGET\"].count()\n",
    "total_cnt = cust_data['TARGET'].count()\n",
    "print(\"unsatisfied ratio > {:.2f}\".format((unsatisfied_cnt/total_cnt)))"
   ]
  },
  {
   "cell_type": "code",
   "execution_count": 3,
   "id": "5a73e06d-8af2-445e-b14b-0da35d6085be",
   "metadata": {},
   "outputs": [],
   "source": [
    "cust_data.describe() # var 3 min == -9999999999\n",
    "cust_data['var3'] = cust_data['var3'].replace(-999999.000000, 2 ) \n",
    "cust_data.drop('ID',axis=1,inplace=True)"
   ]
  },
  {
   "cell_type": "code",
   "execution_count": 4,
   "id": "5045dffb-b249-4521-a130-ede6f7d5c09e",
   "metadata": {},
   "outputs": [
    {
     "name": "stdout",
     "output_type": "stream",
     "text": [
      "(60816, 369) (15204, 369)\n",
      "학습 분포 비율:\n",
      " 0    0.960701\n",
      "1    0.039299\n",
      "Name: TARGET, dtype: float64\n",
      "\n",
      " 테스트 분포 비율:\n",
      " 0    0.959353\n",
      "1    0.040647\n",
      "Name: TARGET, dtype: float64\n"
     ]
    }
   ],
   "source": [
    "# seperate\n",
    "X = cust_data.iloc[:,:-1]\n",
    "y = cust_data.iloc[:,-1]\n",
    "\n",
    "X_train, X_test, y_train, y_test =  train_test_split(X,y,\n",
    "                                                    test_size=0.2,\n",
    "                                                    random_state=150)\n",
    "\n",
    "train_cnt = y_train.count()\n",
    "test_cnt = y_test.count()\n",
    "print(X_train.shape,X_test.shape)\n",
    "print('학습 분포 비율:\\n',y_train.value_counts()/train_cnt)\n",
    "print('\\n 테스트 분포 비율:\\n', y_test.value_counts()/test_cnt)"
   ]
  },
  {
   "cell_type": "markdown",
   "id": "e29a47ab-0027-4495-a5dd-4ad268864798",
   "metadata": {},
   "source": [
    "### XGBoost Model"
   ]
  },
  {
   "cell_type": "code",
   "execution_count": 5,
   "id": "1c30bdae-3eff-4b2c-9eac-08a5661daff9",
   "metadata": {},
   "outputs": [],
   "source": [
    "# models\n",
    "xgb_clf = XGBClassifier(n_estimators=500, random_state=150)"
   ]
  },
  {
   "cell_type": "code",
   "execution_count": 6,
   "id": "bfd9d5ee-2bfd-4af5-90e2-dffc1c5f6785",
   "metadata": {
    "collapsed": true,
    "jupyter": {
     "outputs_hidden": true
    },
    "tags": []
   },
   "outputs": [
    {
     "name": "stdout",
     "output_type": "stream",
     "text": [
      "[0]\tvalidation_0-auc:0.82496\tvalidation_1-auc:0.81473\n",
      "[1]\tvalidation_0-auc:0.83359\tvalidation_1-auc:0.82282\n",
      "[2]\tvalidation_0-auc:0.84137\tvalidation_1-auc:0.82665\n",
      "[3]\tvalidation_0-auc:0.84633\tvalidation_1-auc:0.82918\n",
      "[4]\tvalidation_0-auc:0.84861\tvalidation_1-auc:0.82973\n",
      "[5]\tvalidation_0-auc:0.85185\tvalidation_1-auc:0.83182\n",
      "[6]\tvalidation_0-auc:0.85599\tvalidation_1-auc:0.83561\n",
      "[7]\tvalidation_0-auc:0.85908\tvalidation_1-auc:0.83554\n",
      "[8]\tvalidation_0-auc:0.86367\tvalidation_1-auc:0.83485\n",
      "[9]\tvalidation_0-auc:0.86616\tvalidation_1-auc:0.83632\n",
      "[10]\tvalidation_0-auc:0.86949\tvalidation_1-auc:0.83733\n",
      "[11]\tvalidation_0-auc:0.87153\tvalidation_1-auc:0.83751\n",
      "[12]\tvalidation_0-auc:0.87418\tvalidation_1-auc:0.83832\n",
      "[13]\tvalidation_0-auc:0.87696\tvalidation_1-auc:0.83890\n",
      "[14]\tvalidation_0-auc:0.87867\tvalidation_1-auc:0.83840\n",
      "[15]\tvalidation_0-auc:0.88074\tvalidation_1-auc:0.83924\n",
      "[16]\tvalidation_0-auc:0.88313\tvalidation_1-auc:0.84013\n",
      "[17]\tvalidation_0-auc:0.88407\tvalidation_1-auc:0.83973\n",
      "[18]\tvalidation_0-auc:0.88514\tvalidation_1-auc:0.83974\n",
      "[19]\tvalidation_0-auc:0.88679\tvalidation_1-auc:0.83927\n",
      "[20]\tvalidation_0-auc:0.88816\tvalidation_1-auc:0.84015\n",
      "[21]\tvalidation_0-auc:0.88908\tvalidation_1-auc:0.84012\n",
      "[22]\tvalidation_0-auc:0.89114\tvalidation_1-auc:0.83992\n",
      "[23]\tvalidation_0-auc:0.89141\tvalidation_1-auc:0.84014\n",
      "[24]\tvalidation_0-auc:0.89189\tvalidation_1-auc:0.83981\n",
      "[25]\tvalidation_0-auc:0.89420\tvalidation_1-auc:0.83860\n",
      "[26]\tvalidation_0-auc:0.89496\tvalidation_1-auc:0.83811\n",
      "[27]\tvalidation_0-auc:0.89614\tvalidation_1-auc:0.83832\n",
      "[28]\tvalidation_0-auc:0.89631\tvalidation_1-auc:0.83840\n",
      "[29]\tvalidation_0-auc:0.89750\tvalidation_1-auc:0.83834\n",
      "[30]\tvalidation_0-auc:0.89810\tvalidation_1-auc:0.83830\n",
      "[31]\tvalidation_0-auc:0.89935\tvalidation_1-auc:0.83862\n",
      "[32]\tvalidation_0-auc:0.90033\tvalidation_1-auc:0.83843\n",
      "[33]\tvalidation_0-auc:0.90117\tvalidation_1-auc:0.83762\n",
      "[34]\tvalidation_0-auc:0.90220\tvalidation_1-auc:0.83865\n",
      "[35]\tvalidation_0-auc:0.90292\tvalidation_1-auc:0.83840\n",
      "[36]\tvalidation_0-auc:0.90323\tvalidation_1-auc:0.83828\n",
      "[37]\tvalidation_0-auc:0.90370\tvalidation_1-auc:0.83836\n",
      "[38]\tvalidation_0-auc:0.90409\tvalidation_1-auc:0.83876\n",
      "[39]\tvalidation_0-auc:0.90524\tvalidation_1-auc:0.83782\n",
      "[40]\tvalidation_0-auc:0.90542\tvalidation_1-auc:0.83781\n",
      "[41]\tvalidation_0-auc:0.90558\tvalidation_1-auc:0.83783\n",
      "[42]\tvalidation_0-auc:0.90643\tvalidation_1-auc:0.83785\n",
      "[43]\tvalidation_0-auc:0.90662\tvalidation_1-auc:0.83759\n",
      "[44]\tvalidation_0-auc:0.90698\tvalidation_1-auc:0.83742\n",
      "[45]\tvalidation_0-auc:0.90714\tvalidation_1-auc:0.83719\n",
      "[46]\tvalidation_0-auc:0.90755\tvalidation_1-auc:0.83719\n",
      "[47]\tvalidation_0-auc:0.90875\tvalidation_1-auc:0.83760\n",
      "[48]\tvalidation_0-auc:0.90926\tvalidation_1-auc:0.83770\n",
      "[49]\tvalidation_0-auc:0.90948\tvalidation_1-auc:0.83780\n",
      "[50]\tvalidation_0-auc:0.90964\tvalidation_1-auc:0.83753\n",
      "[51]\tvalidation_0-auc:0.90987\tvalidation_1-auc:0.83724\n",
      "[52]\tvalidation_0-auc:0.91063\tvalidation_1-auc:0.83688\n",
      "[53]\tvalidation_0-auc:0.91178\tvalidation_1-auc:0.83534\n",
      "[54]\tvalidation_0-auc:0.91343\tvalidation_1-auc:0.83500\n",
      "[55]\tvalidation_0-auc:0.91353\tvalidation_1-auc:0.83491\n",
      "[56]\tvalidation_0-auc:0.91371\tvalidation_1-auc:0.83493\n",
      "[57]\tvalidation_0-auc:0.91464\tvalidation_1-auc:0.83442\n",
      "[58]\tvalidation_0-auc:0.91473\tvalidation_1-auc:0.83460\n",
      "[59]\tvalidation_0-auc:0.91483\tvalidation_1-auc:0.83460\n",
      "[60]\tvalidation_0-auc:0.91589\tvalidation_1-auc:0.83396\n",
      "[61]\tvalidation_0-auc:0.91613\tvalidation_1-auc:0.83384\n",
      "[62]\tvalidation_0-auc:0.91642\tvalidation_1-auc:0.83327\n",
      "[63]\tvalidation_0-auc:0.91648\tvalidation_1-auc:0.83313\n",
      "[64]\tvalidation_0-auc:0.91662\tvalidation_1-auc:0.83304\n",
      "[65]\tvalidation_0-auc:0.91739\tvalidation_1-auc:0.83303\n",
      "[66]\tvalidation_0-auc:0.91890\tvalidation_1-auc:0.83276\n",
      "[67]\tvalidation_0-auc:0.91925\tvalidation_1-auc:0.83262\n",
      "[68]\tvalidation_0-auc:0.91956\tvalidation_1-auc:0.83245\n",
      "[69]\tvalidation_0-auc:0.92039\tvalidation_1-auc:0.83198\n",
      "[70]\tvalidation_0-auc:0.92049\tvalidation_1-auc:0.83177\n",
      "[71]\tvalidation_0-auc:0.92056\tvalidation_1-auc:0.83172\n",
      "[72]\tvalidation_0-auc:0.92069\tvalidation_1-auc:0.83182\n",
      "[73]\tvalidation_0-auc:0.92157\tvalidation_1-auc:0.83099\n",
      "[74]\tvalidation_0-auc:0.92171\tvalidation_1-auc:0.83076\n",
      "[75]\tvalidation_0-auc:0.92193\tvalidation_1-auc:0.83014\n",
      "[76]\tvalidation_0-auc:0.92272\tvalidation_1-auc:0.82976\n",
      "[77]\tvalidation_0-auc:0.92288\tvalidation_1-auc:0.82997\n",
      "[78]\tvalidation_0-auc:0.92319\tvalidation_1-auc:0.82997\n",
      "[79]\tvalidation_0-auc:0.92443\tvalidation_1-auc:0.82962\n",
      "[80]\tvalidation_0-auc:0.92566\tvalidation_1-auc:0.82923\n",
      "[81]\tvalidation_0-auc:0.92632\tvalidation_1-auc:0.82905\n",
      "[82]\tvalidation_0-auc:0.92658\tvalidation_1-auc:0.82896\n",
      "[83]\tvalidation_0-auc:0.92721\tvalidation_1-auc:0.82881\n",
      "[84]\tvalidation_0-auc:0.92788\tvalidation_1-auc:0.82880\n",
      "[85]\tvalidation_0-auc:0.92802\tvalidation_1-auc:0.82866\n",
      "[86]\tvalidation_0-auc:0.92851\tvalidation_1-auc:0.82840\n",
      "[87]\tvalidation_0-auc:0.92874\tvalidation_1-auc:0.82839\n",
      "[88]\tvalidation_0-auc:0.92897\tvalidation_1-auc:0.82815\n",
      "[89]\tvalidation_0-auc:0.92992\tvalidation_1-auc:0.82726\n",
      "[90]\tvalidation_0-auc:0.93028\tvalidation_1-auc:0.82656\n",
      "[91]\tvalidation_0-auc:0.93096\tvalidation_1-auc:0.82626\n",
      "[92]\tvalidation_0-auc:0.93167\tvalidation_1-auc:0.82617\n",
      "[93]\tvalidation_0-auc:0.93173\tvalidation_1-auc:0.82615\n",
      "[94]\tvalidation_0-auc:0.93186\tvalidation_1-auc:0.82572\n",
      "[95]\tvalidation_0-auc:0.93216\tvalidation_1-auc:0.82579\n",
      "[96]\tvalidation_0-auc:0.93224\tvalidation_1-auc:0.82571\n",
      "[97]\tvalidation_0-auc:0.93239\tvalidation_1-auc:0.82521\n",
      "[98]\tvalidation_0-auc:0.93258\tvalidation_1-auc:0.82508\n",
      "[99]\tvalidation_0-auc:0.93265\tvalidation_1-auc:0.82501\n",
      "[100]\tvalidation_0-auc:0.93301\tvalidation_1-auc:0.82431\n",
      "[101]\tvalidation_0-auc:0.93350\tvalidation_1-auc:0.82388\n",
      "[102]\tvalidation_0-auc:0.93364\tvalidation_1-auc:0.82354\n",
      "[103]\tvalidation_0-auc:0.93416\tvalidation_1-auc:0.82337\n",
      "[104]\tvalidation_0-auc:0.93469\tvalidation_1-auc:0.82317\n",
      "[105]\tvalidation_0-auc:0.93497\tvalidation_1-auc:0.82367\n",
      "[106]\tvalidation_0-auc:0.93539\tvalidation_1-auc:0.82312\n",
      "[107]\tvalidation_0-auc:0.93557\tvalidation_1-auc:0.82296\n",
      "[108]\tvalidation_0-auc:0.93592\tvalidation_1-auc:0.82273\n",
      "[109]\tvalidation_0-auc:0.93606\tvalidation_1-auc:0.82256\n",
      "[110]\tvalidation_0-auc:0.93658\tvalidation_1-auc:0.82210\n",
      "[111]\tvalidation_0-auc:0.93668\tvalidation_1-auc:0.82191\n",
      "[112]\tvalidation_0-auc:0.93741\tvalidation_1-auc:0.82081\n",
      "[113]\tvalidation_0-auc:0.93749\tvalidation_1-auc:0.82065\n",
      "[114]\tvalidation_0-auc:0.93763\tvalidation_1-auc:0.82051\n",
      "[115]\tvalidation_0-auc:0.93765\tvalidation_1-auc:0.82043\n",
      "[116]\tvalidation_0-auc:0.93782\tvalidation_1-auc:0.82041\n",
      "[117]\tvalidation_0-auc:0.93784\tvalidation_1-auc:0.82035\n",
      "[118]\tvalidation_0-auc:0.93789\tvalidation_1-auc:0.82035\n",
      "[119]\tvalidation_0-auc:0.93807\tvalidation_1-auc:0.82056\n"
     ]
    },
    {
     "data": {
      "text/plain": [
       "XGBClassifier(base_score=0.5, booster='gbtree', colsample_bylevel=1,\n",
       "              colsample_bynode=1, colsample_bytree=1, gamma=0, gpu_id=-1,\n",
       "              importance_type='gain', interaction_constraints='',\n",
       "              learning_rate=0.300000012, max_delta_step=0, max_depth=6,\n",
       "              min_child_weight=1, missing=nan, monotone_constraints='()',\n",
       "              n_estimators=500, n_jobs=12, num_parallel_tree=1,\n",
       "              random_state=150, reg_alpha=0, reg_lambda=1, scale_pos_weight=1,\n",
       "              subsample=1, tree_method='exact', validate_parameters=1,\n",
       "              verbosity=None)"
      ]
     },
     "execution_count": 6,
     "metadata": {},
     "output_type": "execute_result"
    }
   ],
   "source": [
    "# fit\n",
    "evals = [(X_train,y_train),(X_test,y_test)]\n",
    "xgb_clf.fit(X_train,y_train,early_stopping_rounds=100,eval_metric=\"auc\",eval_set=evals)"
   ]
  },
  {
   "cell_type": "code",
   "execution_count": 7,
   "id": "32fa7f46-ac56-4577-afd4-4aeb13efa006",
   "metadata": {
    "jupyter": {
     "source_hidden": true
    },
    "tags": []
   },
   "outputs": [],
   "source": [
    "# predict\n",
    "xgb_clf_preds = xgb_clf.predict(X_test)\n",
    "xgb_clf_proba = xgb_clf.predict_proba(X_test)[:,1]"
   ]
  },
  {
   "cell_type": "code",
   "execution_count": 8,
   "id": "f4b89215-2230-45fa-850a-c8d64ed9fde7",
   "metadata": {},
   "outputs": [
    {
     "name": "stdout",
     "output_type": "stream",
     "text": [
      "roc_auc : 0.8402\n"
     ]
    }
   ],
   "source": [
    "# roc_auc\n",
    "xgb_clf_auc = roc_auc_score(y_test, xgb_clf_proba, average='macro')\n",
    "print(\"roc_auc : {0:.4f}\".format(xgb_clf_auc))"
   ]
  },
  {
   "cell_type": "code",
   "execution_count": 9,
   "id": "33d94483-cac2-4150-b98d-ef45d8d8110a",
   "metadata": {
    "collapsed": true,
    "jupyter": {
     "outputs_hidden": true
    },
    "tags": []
   },
   "outputs": [
    {
     "name": "stdout",
     "output_type": "stream",
     "text": [
      "[0]\tvalidation_0-auc:0.80729\tvalidation_1-auc:0.79441\n",
      "[1]\tvalidation_0-auc:0.81724\tvalidation_1-auc:0.80286\n",
      "[2]\tvalidation_0-auc:0.82363\tvalidation_1-auc:0.81132\n",
      "[3]\tvalidation_0-auc:0.82988\tvalidation_1-auc:0.81728\n",
      "[4]\tvalidation_0-auc:0.83261\tvalidation_1-auc:0.82028\n",
      "[5]\tvalidation_0-auc:0.83461\tvalidation_1-auc:0.81962\n",
      "[6]\tvalidation_0-auc:0.83276\tvalidation_1-auc:0.81758\n",
      "[7]\tvalidation_0-auc:0.84359\tvalidation_1-auc:0.82437\n",
      "[8]\tvalidation_0-auc:0.84671\tvalidation_1-auc:0.82665\n",
      "[9]\tvalidation_0-auc:0.84815\tvalidation_1-auc:0.82362\n",
      "[10]\tvalidation_0-auc:0.84744\tvalidation_1-auc:0.82007\n",
      "[11]\tvalidation_0-auc:0.84790\tvalidation_1-auc:0.81824\n",
      "[12]\tvalidation_0-auc:0.85346\tvalidation_1-auc:0.82656\n",
      "[13]\tvalidation_0-auc:0.85699\tvalidation_1-auc:0.82975\n",
      "[14]\tvalidation_0-auc:0.85938\tvalidation_1-auc:0.83134\n",
      "[15]\tvalidation_0-auc:0.86102\tvalidation_1-auc:0.83040\n",
      "[16]\tvalidation_0-auc:0.86258\tvalidation_1-auc:0.83243\n",
      "[17]\tvalidation_0-auc:0.86442\tvalidation_1-auc:0.83319\n",
      "[18]\tvalidation_0-auc:0.86512\tvalidation_1-auc:0.83277\n",
      "[19]\tvalidation_0-auc:0.86584\tvalidation_1-auc:0.83425\n",
      "[20]\tvalidation_0-auc:0.86640\tvalidation_1-auc:0.83451\n",
      "[21]\tvalidation_0-auc:0.86758\tvalidation_1-auc:0.83358\n",
      "[22]\tvalidation_0-auc:0.86843\tvalidation_1-auc:0.83453\n",
      "[23]\tvalidation_0-auc:0.86949\tvalidation_1-auc:0.83423\n",
      "[24]\tvalidation_0-auc:0.87012\tvalidation_1-auc:0.83488\n",
      "[25]\tvalidation_0-auc:0.87073\tvalidation_1-auc:0.83458\n",
      "[26]\tvalidation_0-auc:0.87097\tvalidation_1-auc:0.83467\n",
      "[27]\tvalidation_0-auc:0.87133\tvalidation_1-auc:0.83486\n",
      "[28]\tvalidation_0-auc:0.87149\tvalidation_1-auc:0.83483\n",
      "[29]\tvalidation_0-auc:0.87259\tvalidation_1-auc:0.83452\n",
      "[30]\tvalidation_0-auc:0.87407\tvalidation_1-auc:0.83296\n",
      "[31]\tvalidation_0-auc:0.87435\tvalidation_1-auc:0.83325\n",
      "[32]\tvalidation_0-auc:0.87469\tvalidation_1-auc:0.83285\n",
      "[33]\tvalidation_0-auc:0.87484\tvalidation_1-auc:0.83260\n",
      "[34]\tvalidation_0-auc:0.87498\tvalidation_1-auc:0.83264\n",
      "[35]\tvalidation_0-auc:0.87534\tvalidation_1-auc:0.83225\n",
      "[36]\tvalidation_0-auc:0.87562\tvalidation_1-auc:0.83223\n",
      "[37]\tvalidation_0-auc:0.87648\tvalidation_1-auc:0.83181\n",
      "[38]\tvalidation_0-auc:0.87718\tvalidation_1-auc:0.83184\n",
      "[39]\tvalidation_0-auc:0.87800\tvalidation_1-auc:0.83204\n",
      "[40]\tvalidation_0-auc:0.87810\tvalidation_1-auc:0.83213\n",
      "[41]\tvalidation_0-auc:0.87845\tvalidation_1-auc:0.83186\n",
      "[42]\tvalidation_0-auc:0.87873\tvalidation_1-auc:0.83170\n",
      "[43]\tvalidation_0-auc:0.87886\tvalidation_1-auc:0.83143\n",
      "[44]\tvalidation_0-auc:0.87966\tvalidation_1-auc:0.83096\n",
      "[45]\tvalidation_0-auc:0.87986\tvalidation_1-auc:0.83096\n",
      "[46]\tvalidation_0-auc:0.88033\tvalidation_1-auc:0.83077\n",
      "[47]\tvalidation_0-auc:0.88150\tvalidation_1-auc:0.83040\n",
      "[48]\tvalidation_0-auc:0.88169\tvalidation_1-auc:0.83007\n",
      "[49]\tvalidation_0-auc:0.88226\tvalidation_1-auc:0.83009\n",
      "[50]\tvalidation_0-auc:0.88235\tvalidation_1-auc:0.83025\n",
      "[51]\tvalidation_0-auc:0.88249\tvalidation_1-auc:0.82993\n",
      "[52]\tvalidation_0-auc:0.88277\tvalidation_1-auc:0.82950\n",
      "[53]\tvalidation_0-auc:0.88284\tvalidation_1-auc:0.82971\n",
      "[54]\tvalidation_0-auc:0.88316\tvalidation_1-auc:0.82917\n",
      "[0]\tvalidation_0-auc:0.79994\tvalidation_1-auc:0.79114\n",
      "[1]\tvalidation_0-auc:0.81614\tvalidation_1-auc:0.80134\n",
      "[2]\tvalidation_0-auc:0.83056\tvalidation_1-auc:0.81865\n",
      "[3]\tvalidation_0-auc:0.83290\tvalidation_1-auc:0.82046\n",
      "[4]\tvalidation_0-auc:0.83473\tvalidation_1-auc:0.82190\n",
      "[5]\tvalidation_0-auc:0.83478\tvalidation_1-auc:0.82054\n",
      "[6]\tvalidation_0-auc:0.83311\tvalidation_1-auc:0.82040\n",
      "[7]\tvalidation_0-auc:0.84057\tvalidation_1-auc:0.82455\n",
      "[8]\tvalidation_0-auc:0.84646\tvalidation_1-auc:0.82868\n",
      "[9]\tvalidation_0-auc:0.84657\tvalidation_1-auc:0.82484\n",
      "[10]\tvalidation_0-auc:0.84666\tvalidation_1-auc:0.82089\n",
      "[11]\tvalidation_0-auc:0.84601\tvalidation_1-auc:0.81809\n",
      "[12]\tvalidation_0-auc:0.85287\tvalidation_1-auc:0.82820\n",
      "[13]\tvalidation_0-auc:0.85704\tvalidation_1-auc:0.83300\n",
      "[14]\tvalidation_0-auc:0.85878\tvalidation_1-auc:0.83506\n",
      "[15]\tvalidation_0-auc:0.85925\tvalidation_1-auc:0.83415\n",
      "[16]\tvalidation_0-auc:0.86065\tvalidation_1-auc:0.83587\n",
      "[17]\tvalidation_0-auc:0.86293\tvalidation_1-auc:0.83646\n",
      "[18]\tvalidation_0-auc:0.86462\tvalidation_1-auc:0.83617\n",
      "[19]\tvalidation_0-auc:0.86571\tvalidation_1-auc:0.83732\n",
      "[20]\tvalidation_0-auc:0.86652\tvalidation_1-auc:0.83776\n",
      "[21]\tvalidation_0-auc:0.86735\tvalidation_1-auc:0.83749\n",
      "[22]\tvalidation_0-auc:0.86805\tvalidation_1-auc:0.83762\n",
      "[23]\tvalidation_0-auc:0.86876\tvalidation_1-auc:0.83756\n",
      "[24]\tvalidation_0-auc:0.86925\tvalidation_1-auc:0.83826\n",
      "[25]\tvalidation_0-auc:0.86977\tvalidation_1-auc:0.83981\n",
      "[26]\tvalidation_0-auc:0.87057\tvalidation_1-auc:0.83871\n",
      "[27]\tvalidation_0-auc:0.87119\tvalidation_1-auc:0.83906\n",
      "[28]\tvalidation_0-auc:0.87160\tvalidation_1-auc:0.83894\n",
      "[29]\tvalidation_0-auc:0.87227\tvalidation_1-auc:0.83891\n",
      "[30]\tvalidation_0-auc:0.87288\tvalidation_1-auc:0.83898\n",
      "[31]\tvalidation_0-auc:0.87301\tvalidation_1-auc:0.83907\n",
      "[32]\tvalidation_0-auc:0.87337\tvalidation_1-auc:0.83867\n",
      "[33]\tvalidation_0-auc:0.87357\tvalidation_1-auc:0.83912\n",
      "[34]\tvalidation_0-auc:0.87438\tvalidation_1-auc:0.83898\n",
      "[35]\tvalidation_0-auc:0.87530\tvalidation_1-auc:0.83985\n",
      "[36]\tvalidation_0-auc:0.87644\tvalidation_1-auc:0.83931\n",
      "[37]\tvalidation_0-auc:0.87692\tvalidation_1-auc:0.83872\n",
      "[38]\tvalidation_0-auc:0.87726\tvalidation_1-auc:0.83903\n",
      "[39]\tvalidation_0-auc:0.87752\tvalidation_1-auc:0.83880\n",
      "[40]\tvalidation_0-auc:0.87770\tvalidation_1-auc:0.83877\n",
      "[41]\tvalidation_0-auc:0.87796\tvalidation_1-auc:0.83850\n",
      "[42]\tvalidation_0-auc:0.87826\tvalidation_1-auc:0.83867\n",
      "[43]\tvalidation_0-auc:0.87837\tvalidation_1-auc:0.83886\n",
      "[44]\tvalidation_0-auc:0.87847\tvalidation_1-auc:0.83894\n",
      "[45]\tvalidation_0-auc:0.87869\tvalidation_1-auc:0.83889\n",
      "[46]\tvalidation_0-auc:0.87884\tvalidation_1-auc:0.83890\n",
      "[47]\tvalidation_0-auc:0.87970\tvalidation_1-auc:0.83899\n",
      "[48]\tvalidation_0-auc:0.87988\tvalidation_1-auc:0.83835\n",
      "[49]\tvalidation_0-auc:0.88042\tvalidation_1-auc:0.83809\n",
      "[50]\tvalidation_0-auc:0.88052\tvalidation_1-auc:0.83766\n",
      "[51]\tvalidation_0-auc:0.88066\tvalidation_1-auc:0.83764\n",
      "[52]\tvalidation_0-auc:0.88100\tvalidation_1-auc:0.83719\n",
      "[53]\tvalidation_0-auc:0.88121\tvalidation_1-auc:0.83700\n",
      "[54]\tvalidation_0-auc:0.88133\tvalidation_1-auc:0.83710\n",
      "[55]\tvalidation_0-auc:0.88196\tvalidation_1-auc:0.83698\n",
      "[56]\tvalidation_0-auc:0.88208\tvalidation_1-auc:0.83696\n",
      "[57]\tvalidation_0-auc:0.88218\tvalidation_1-auc:0.83678\n",
      "[58]\tvalidation_0-auc:0.88240\tvalidation_1-auc:0.83666\n",
      "[59]\tvalidation_0-auc:0.88249\tvalidation_1-auc:0.83645\n",
      "[60]\tvalidation_0-auc:0.88266\tvalidation_1-auc:0.83629\n",
      "[61]\tvalidation_0-auc:0.88339\tvalidation_1-auc:0.83589\n",
      "[62]\tvalidation_0-auc:0.88418\tvalidation_1-auc:0.83554\n",
      "[63]\tvalidation_0-auc:0.88458\tvalidation_1-auc:0.83544\n",
      "[64]\tvalidation_0-auc:0.88498\tvalidation_1-auc:0.83527\n",
      "[65]\tvalidation_0-auc:0.88508\tvalidation_1-auc:0.83525\n",
      "[0]\tvalidation_0-auc:0.79832\tvalidation_1-auc:0.78700\n",
      "[1]\tvalidation_0-auc:0.82126\tvalidation_1-auc:0.81188\n",
      "[2]\tvalidation_0-auc:0.83036\tvalidation_1-auc:0.81928\n",
      "[3]\tvalidation_0-auc:0.83342\tvalidation_1-auc:0.82588\n",
      "[4]\tvalidation_0-auc:0.83805\tvalidation_1-auc:0.82618\n",
      "[5]\tvalidation_0-auc:0.83965\tvalidation_1-auc:0.82661\n",
      "[6]\tvalidation_0-auc:0.83767\tvalidation_1-auc:0.82510\n",
      "[7]\tvalidation_0-auc:0.84501\tvalidation_1-auc:0.82884\n",
      "[8]\tvalidation_0-auc:0.84807\tvalidation_1-auc:0.83096\n",
      "[9]\tvalidation_0-auc:0.84962\tvalidation_1-auc:0.82886\n",
      "[10]\tvalidation_0-auc:0.84950\tvalidation_1-auc:0.82602\n",
      "[11]\tvalidation_0-auc:0.84992\tvalidation_1-auc:0.82559\n",
      "[12]\tvalidation_0-auc:0.85437\tvalidation_1-auc:0.83068\n",
      "[13]\tvalidation_0-auc:0.85732\tvalidation_1-auc:0.83421\n",
      "[14]\tvalidation_0-auc:0.85905\tvalidation_1-auc:0.83628\n",
      "[15]\tvalidation_0-auc:0.86021\tvalidation_1-auc:0.83485\n",
      "[16]\tvalidation_0-auc:0.86150\tvalidation_1-auc:0.83643\n",
      "[17]\tvalidation_0-auc:0.86206\tvalidation_1-auc:0.83659\n",
      "[18]\tvalidation_0-auc:0.86290\tvalidation_1-auc:0.83567\n",
      "[19]\tvalidation_0-auc:0.86417\tvalidation_1-auc:0.83585\n",
      "[20]\tvalidation_0-auc:0.86499\tvalidation_1-auc:0.83608\n",
      "[21]\tvalidation_0-auc:0.86528\tvalidation_1-auc:0.83591\n",
      "[22]\tvalidation_0-auc:0.86625\tvalidation_1-auc:0.83620\n",
      "[23]\tvalidation_0-auc:0.86666\tvalidation_1-auc:0.83548\n",
      "[24]\tvalidation_0-auc:0.86713\tvalidation_1-auc:0.83546\n",
      "[25]\tvalidation_0-auc:0.86801\tvalidation_1-auc:0.83538\n",
      "[26]\tvalidation_0-auc:0.86892\tvalidation_1-auc:0.83575\n",
      "[27]\tvalidation_0-auc:0.86938\tvalidation_1-auc:0.83585\n",
      "[28]\tvalidation_0-auc:0.86968\tvalidation_1-auc:0.83527\n",
      "[29]\tvalidation_0-auc:0.86996\tvalidation_1-auc:0.83501\n",
      "[30]\tvalidation_0-auc:0.87021\tvalidation_1-auc:0.83456\n",
      "[31]\tvalidation_0-auc:0.87141\tvalidation_1-auc:0.83464\n",
      "[32]\tvalidation_0-auc:0.87191\tvalidation_1-auc:0.83419\n",
      "[33]\tvalidation_0-auc:0.87211\tvalidation_1-auc:0.83443\n",
      "[34]\tvalidation_0-auc:0.87314\tvalidation_1-auc:0.83371\n",
      "[35]\tvalidation_0-auc:0.87323\tvalidation_1-auc:0.83361\n",
      "[36]\tvalidation_0-auc:0.87411\tvalidation_1-auc:0.83377\n",
      "[37]\tvalidation_0-auc:0.87470\tvalidation_1-auc:0.83428\n",
      "[38]\tvalidation_0-auc:0.87539\tvalidation_1-auc:0.83364\n",
      "[39]\tvalidation_0-auc:0.87581\tvalidation_1-auc:0.83336\n",
      "[40]\tvalidation_0-auc:0.87598\tvalidation_1-auc:0.83341\n",
      "[41]\tvalidation_0-auc:0.87604\tvalidation_1-auc:0.83322\n",
      "[42]\tvalidation_0-auc:0.87694\tvalidation_1-auc:0.83321\n",
      "[43]\tvalidation_0-auc:0.87713\tvalidation_1-auc:0.83300\n",
      "[44]\tvalidation_0-auc:0.87723\tvalidation_1-auc:0.83303\n",
      "[45]\tvalidation_0-auc:0.87723\tvalidation_1-auc:0.83297\n",
      "[46]\tvalidation_0-auc:0.87758\tvalidation_1-auc:0.83225\n",
      "[47]\tvalidation_0-auc:0.87791\tvalidation_1-auc:0.83233\n",
      "[0]\tvalidation_0-auc:0.80805\tvalidation_1-auc:0.79559\n",
      "[1]\tvalidation_0-auc:0.81760\tvalidation_1-auc:0.80196\n",
      "[2]\tvalidation_0-auc:0.82816\tvalidation_1-auc:0.81577\n",
      "[3]\tvalidation_0-auc:0.83167\tvalidation_1-auc:0.81756\n",
      "[4]\tvalidation_0-auc:0.83462\tvalidation_1-auc:0.81978\n",
      "[5]\tvalidation_0-auc:0.83588\tvalidation_1-auc:0.81939\n",
      "[6]\tvalidation_0-auc:0.83422\tvalidation_1-auc:0.81775\n",
      "[7]\tvalidation_0-auc:0.84335\tvalidation_1-auc:0.82412\n",
      "[8]\tvalidation_0-auc:0.84725\tvalidation_1-auc:0.82642\n",
      "[9]\tvalidation_0-auc:0.84804\tvalidation_1-auc:0.82288\n",
      "[10]\tvalidation_0-auc:0.84731\tvalidation_1-auc:0.81926\n",
      "[11]\tvalidation_0-auc:0.84684\tvalidation_1-auc:0.81798\n",
      "[12]\tvalidation_0-auc:0.85197\tvalidation_1-auc:0.82535\n",
      "[13]\tvalidation_0-auc:0.85592\tvalidation_1-auc:0.82911\n",
      "[14]\tvalidation_0-auc:0.85740\tvalidation_1-auc:0.83131\n",
      "[15]\tvalidation_0-auc:0.85899\tvalidation_1-auc:0.83011\n",
      "[16]\tvalidation_0-auc:0.86055\tvalidation_1-auc:0.83259\n",
      "[17]\tvalidation_0-auc:0.86173\tvalidation_1-auc:0.83302\n"
     ]
    },
    {
     "ename": "KeyboardInterrupt",
     "evalue": "",
     "output_type": "error",
     "traceback": [
      "\u001b[1;31m---------------------------------------------------------------------------\u001b[0m",
      "\u001b[1;31mKeyboardInterrupt\u001b[0m                         Traceback (most recent call last)",
      "\u001b[1;32m<ipython-input-9-22e7ca62269d>\u001b[0m in \u001b[0;36m<module>\u001b[1;34m\u001b[0m\n\u001b[0;32m      5\u001b[0m          'colsample_bytree':[0.5,0.75]}\n\u001b[0;32m      6\u001b[0m \u001b[0mgridcv\u001b[0m \u001b[1;33m=\u001b[0m \u001b[0mGridSearchCV\u001b[0m\u001b[1;33m(\u001b[0m\u001b[0mxgb_clf\u001b[0m\u001b[1;33m,\u001b[0m\u001b[0mparam_grid\u001b[0m\u001b[1;33m=\u001b[0m\u001b[0mparams\u001b[0m\u001b[1;33m,\u001b[0m\u001b[0mcv\u001b[0m\u001b[1;33m=\u001b[0m\u001b[1;36m3\u001b[0m\u001b[1;33m)\u001b[0m\u001b[1;33m\u001b[0m\u001b[1;33m\u001b[0m\u001b[0m\n\u001b[1;32m----> 7\u001b[1;33m gridcv.fit(X_train,y_train,early_stopping_rounds=30,\n\u001b[0m\u001b[0;32m      8\u001b[0m            \u001b[0meval_metric\u001b[0m\u001b[1;33m=\u001b[0m\u001b[1;34m'auc'\u001b[0m\u001b[1;33m,\u001b[0m\u001b[1;33m\u001b[0m\u001b[1;33m\u001b[0m\u001b[0m\n\u001b[0;32m      9\u001b[0m           eval_set=[(X_train,y_train),(X_test,y_test)])\n",
      "\u001b[1;32mC:\\tool\\envs\\cakd3\\lib\\site-packages\\sklearn\\utils\\validation.py\u001b[0m in \u001b[0;36minner_f\u001b[1;34m(*args, **kwargs)\u001b[0m\n\u001b[0;32m     61\u001b[0m             \u001b[0mextra_args\u001b[0m \u001b[1;33m=\u001b[0m \u001b[0mlen\u001b[0m\u001b[1;33m(\u001b[0m\u001b[0margs\u001b[0m\u001b[1;33m)\u001b[0m \u001b[1;33m-\u001b[0m \u001b[0mlen\u001b[0m\u001b[1;33m(\u001b[0m\u001b[0mall_args\u001b[0m\u001b[1;33m)\u001b[0m\u001b[1;33m\u001b[0m\u001b[1;33m\u001b[0m\u001b[0m\n\u001b[0;32m     62\u001b[0m             \u001b[1;32mif\u001b[0m \u001b[0mextra_args\u001b[0m \u001b[1;33m<=\u001b[0m \u001b[1;36m0\u001b[0m\u001b[1;33m:\u001b[0m\u001b[1;33m\u001b[0m\u001b[1;33m\u001b[0m\u001b[0m\n\u001b[1;32m---> 63\u001b[1;33m                 \u001b[1;32mreturn\u001b[0m \u001b[0mf\u001b[0m\u001b[1;33m(\u001b[0m\u001b[1;33m*\u001b[0m\u001b[0margs\u001b[0m\u001b[1;33m,\u001b[0m \u001b[1;33m**\u001b[0m\u001b[0mkwargs\u001b[0m\u001b[1;33m)\u001b[0m\u001b[1;33m\u001b[0m\u001b[1;33m\u001b[0m\u001b[0m\n\u001b[0m\u001b[0;32m     64\u001b[0m \u001b[1;33m\u001b[0m\u001b[0m\n\u001b[0;32m     65\u001b[0m             \u001b[1;31m# extra_args > 0\u001b[0m\u001b[1;33m\u001b[0m\u001b[1;33m\u001b[0m\u001b[1;33m\u001b[0m\u001b[0m\n",
      "\u001b[1;32mC:\\tool\\envs\\cakd3\\lib\\site-packages\\sklearn\\model_selection\\_search.py\u001b[0m in \u001b[0;36mfit\u001b[1;34m(self, X, y, groups, **fit_params)\u001b[0m\n\u001b[0;32m    839\u001b[0m                 \u001b[1;32mreturn\u001b[0m \u001b[0mresults\u001b[0m\u001b[1;33m\u001b[0m\u001b[1;33m\u001b[0m\u001b[0m\n\u001b[0;32m    840\u001b[0m \u001b[1;33m\u001b[0m\u001b[0m\n\u001b[1;32m--> 841\u001b[1;33m             \u001b[0mself\u001b[0m\u001b[1;33m.\u001b[0m\u001b[0m_run_search\u001b[0m\u001b[1;33m(\u001b[0m\u001b[0mevaluate_candidates\u001b[0m\u001b[1;33m)\u001b[0m\u001b[1;33m\u001b[0m\u001b[1;33m\u001b[0m\u001b[0m\n\u001b[0m\u001b[0;32m    842\u001b[0m \u001b[1;33m\u001b[0m\u001b[0m\n\u001b[0;32m    843\u001b[0m             \u001b[1;31m# multimetric is determined here because in the case of a callable\u001b[0m\u001b[1;33m\u001b[0m\u001b[1;33m\u001b[0m\u001b[1;33m\u001b[0m\u001b[0m\n",
      "\u001b[1;32mC:\\tool\\envs\\cakd3\\lib\\site-packages\\sklearn\\model_selection\\_search.py\u001b[0m in \u001b[0;36m_run_search\u001b[1;34m(self, evaluate_candidates)\u001b[0m\n\u001b[0;32m   1294\u001b[0m     \u001b[1;32mdef\u001b[0m \u001b[0m_run_search\u001b[0m\u001b[1;33m(\u001b[0m\u001b[0mself\u001b[0m\u001b[1;33m,\u001b[0m \u001b[0mevaluate_candidates\u001b[0m\u001b[1;33m)\u001b[0m\u001b[1;33m:\u001b[0m\u001b[1;33m\u001b[0m\u001b[1;33m\u001b[0m\u001b[0m\n\u001b[0;32m   1295\u001b[0m         \u001b[1;34m\"\"\"Search all candidates in param_grid\"\"\"\u001b[0m\u001b[1;33m\u001b[0m\u001b[1;33m\u001b[0m\u001b[0m\n\u001b[1;32m-> 1296\u001b[1;33m         \u001b[0mevaluate_candidates\u001b[0m\u001b[1;33m(\u001b[0m\u001b[0mParameterGrid\u001b[0m\u001b[1;33m(\u001b[0m\u001b[0mself\u001b[0m\u001b[1;33m.\u001b[0m\u001b[0mparam_grid\u001b[0m\u001b[1;33m)\u001b[0m\u001b[1;33m)\u001b[0m\u001b[1;33m\u001b[0m\u001b[1;33m\u001b[0m\u001b[0m\n\u001b[0m\u001b[0;32m   1297\u001b[0m \u001b[1;33m\u001b[0m\u001b[0m\n\u001b[0;32m   1298\u001b[0m \u001b[1;33m\u001b[0m\u001b[0m\n",
      "\u001b[1;32mC:\\tool\\envs\\cakd3\\lib\\site-packages\\sklearn\\model_selection\\_search.py\u001b[0m in \u001b[0;36mevaluate_candidates\u001b[1;34m(candidate_params, cv, more_results)\u001b[0m\n\u001b[0;32m    793\u001b[0m                               n_splits, n_candidates, n_candidates * n_splits))\n\u001b[0;32m    794\u001b[0m \u001b[1;33m\u001b[0m\u001b[0m\n\u001b[1;32m--> 795\u001b[1;33m                 out = parallel(delayed(_fit_and_score)(clone(base_estimator),\n\u001b[0m\u001b[0;32m    796\u001b[0m                                                        \u001b[0mX\u001b[0m\u001b[1;33m,\u001b[0m \u001b[0my\u001b[0m\u001b[1;33m,\u001b[0m\u001b[1;33m\u001b[0m\u001b[1;33m\u001b[0m\u001b[0m\n\u001b[0;32m    797\u001b[0m                                                        \u001b[0mtrain\u001b[0m\u001b[1;33m=\u001b[0m\u001b[0mtrain\u001b[0m\u001b[1;33m,\u001b[0m \u001b[0mtest\u001b[0m\u001b[1;33m=\u001b[0m\u001b[0mtest\u001b[0m\u001b[1;33m,\u001b[0m\u001b[1;33m\u001b[0m\u001b[1;33m\u001b[0m\u001b[0m\n",
      "\u001b[1;32mC:\\tool\\envs\\cakd3\\lib\\site-packages\\joblib\\parallel.py\u001b[0m in \u001b[0;36m__call__\u001b[1;34m(self, iterable)\u001b[0m\n\u001b[0;32m   1042\u001b[0m                 \u001b[0mself\u001b[0m\u001b[1;33m.\u001b[0m\u001b[0m_iterating\u001b[0m \u001b[1;33m=\u001b[0m \u001b[0mself\u001b[0m\u001b[1;33m.\u001b[0m\u001b[0m_original_iterator\u001b[0m \u001b[1;32mis\u001b[0m \u001b[1;32mnot\u001b[0m \u001b[1;32mNone\u001b[0m\u001b[1;33m\u001b[0m\u001b[1;33m\u001b[0m\u001b[0m\n\u001b[0;32m   1043\u001b[0m \u001b[1;33m\u001b[0m\u001b[0m\n\u001b[1;32m-> 1044\u001b[1;33m             \u001b[1;32mwhile\u001b[0m \u001b[0mself\u001b[0m\u001b[1;33m.\u001b[0m\u001b[0mdispatch_one_batch\u001b[0m\u001b[1;33m(\u001b[0m\u001b[0miterator\u001b[0m\u001b[1;33m)\u001b[0m\u001b[1;33m:\u001b[0m\u001b[1;33m\u001b[0m\u001b[1;33m\u001b[0m\u001b[0m\n\u001b[0m\u001b[0;32m   1045\u001b[0m                 \u001b[1;32mpass\u001b[0m\u001b[1;33m\u001b[0m\u001b[1;33m\u001b[0m\u001b[0m\n\u001b[0;32m   1046\u001b[0m \u001b[1;33m\u001b[0m\u001b[0m\n",
      "\u001b[1;32mC:\\tool\\envs\\cakd3\\lib\\site-packages\\joblib\\parallel.py\u001b[0m in \u001b[0;36mdispatch_one_batch\u001b[1;34m(self, iterator)\u001b[0m\n\u001b[0;32m    857\u001b[0m                 \u001b[1;32mreturn\u001b[0m \u001b[1;32mFalse\u001b[0m\u001b[1;33m\u001b[0m\u001b[1;33m\u001b[0m\u001b[0m\n\u001b[0;32m    858\u001b[0m             \u001b[1;32melse\u001b[0m\u001b[1;33m:\u001b[0m\u001b[1;33m\u001b[0m\u001b[1;33m\u001b[0m\u001b[0m\n\u001b[1;32m--> 859\u001b[1;33m                 \u001b[0mself\u001b[0m\u001b[1;33m.\u001b[0m\u001b[0m_dispatch\u001b[0m\u001b[1;33m(\u001b[0m\u001b[0mtasks\u001b[0m\u001b[1;33m)\u001b[0m\u001b[1;33m\u001b[0m\u001b[1;33m\u001b[0m\u001b[0m\n\u001b[0m\u001b[0;32m    860\u001b[0m                 \u001b[1;32mreturn\u001b[0m \u001b[1;32mTrue\u001b[0m\u001b[1;33m\u001b[0m\u001b[1;33m\u001b[0m\u001b[0m\n\u001b[0;32m    861\u001b[0m \u001b[1;33m\u001b[0m\u001b[0m\n",
      "\u001b[1;32mC:\\tool\\envs\\cakd3\\lib\\site-packages\\joblib\\parallel.py\u001b[0m in \u001b[0;36m_dispatch\u001b[1;34m(self, batch)\u001b[0m\n\u001b[0;32m    775\u001b[0m         \u001b[1;32mwith\u001b[0m \u001b[0mself\u001b[0m\u001b[1;33m.\u001b[0m\u001b[0m_lock\u001b[0m\u001b[1;33m:\u001b[0m\u001b[1;33m\u001b[0m\u001b[1;33m\u001b[0m\u001b[0m\n\u001b[0;32m    776\u001b[0m             \u001b[0mjob_idx\u001b[0m \u001b[1;33m=\u001b[0m \u001b[0mlen\u001b[0m\u001b[1;33m(\u001b[0m\u001b[0mself\u001b[0m\u001b[1;33m.\u001b[0m\u001b[0m_jobs\u001b[0m\u001b[1;33m)\u001b[0m\u001b[1;33m\u001b[0m\u001b[1;33m\u001b[0m\u001b[0m\n\u001b[1;32m--> 777\u001b[1;33m             \u001b[0mjob\u001b[0m \u001b[1;33m=\u001b[0m \u001b[0mself\u001b[0m\u001b[1;33m.\u001b[0m\u001b[0m_backend\u001b[0m\u001b[1;33m.\u001b[0m\u001b[0mapply_async\u001b[0m\u001b[1;33m(\u001b[0m\u001b[0mbatch\u001b[0m\u001b[1;33m,\u001b[0m \u001b[0mcallback\u001b[0m\u001b[1;33m=\u001b[0m\u001b[0mcb\u001b[0m\u001b[1;33m)\u001b[0m\u001b[1;33m\u001b[0m\u001b[1;33m\u001b[0m\u001b[0m\n\u001b[0m\u001b[0;32m    778\u001b[0m             \u001b[1;31m# A job can complete so quickly than its callback is\u001b[0m\u001b[1;33m\u001b[0m\u001b[1;33m\u001b[0m\u001b[1;33m\u001b[0m\u001b[0m\n\u001b[0;32m    779\u001b[0m             \u001b[1;31m# called before we get here, causing self._jobs to\u001b[0m\u001b[1;33m\u001b[0m\u001b[1;33m\u001b[0m\u001b[1;33m\u001b[0m\u001b[0m\n",
      "\u001b[1;32mC:\\tool\\envs\\cakd3\\lib\\site-packages\\joblib\\_parallel_backends.py\u001b[0m in \u001b[0;36mapply_async\u001b[1;34m(self, func, callback)\u001b[0m\n\u001b[0;32m    206\u001b[0m     \u001b[1;32mdef\u001b[0m \u001b[0mapply_async\u001b[0m\u001b[1;33m(\u001b[0m\u001b[0mself\u001b[0m\u001b[1;33m,\u001b[0m \u001b[0mfunc\u001b[0m\u001b[1;33m,\u001b[0m \u001b[0mcallback\u001b[0m\u001b[1;33m=\u001b[0m\u001b[1;32mNone\u001b[0m\u001b[1;33m)\u001b[0m\u001b[1;33m:\u001b[0m\u001b[1;33m\u001b[0m\u001b[1;33m\u001b[0m\u001b[0m\n\u001b[0;32m    207\u001b[0m         \u001b[1;34m\"\"\"Schedule a func to be run\"\"\"\u001b[0m\u001b[1;33m\u001b[0m\u001b[1;33m\u001b[0m\u001b[0m\n\u001b[1;32m--> 208\u001b[1;33m         \u001b[0mresult\u001b[0m \u001b[1;33m=\u001b[0m \u001b[0mImmediateResult\u001b[0m\u001b[1;33m(\u001b[0m\u001b[0mfunc\u001b[0m\u001b[1;33m)\u001b[0m\u001b[1;33m\u001b[0m\u001b[1;33m\u001b[0m\u001b[0m\n\u001b[0m\u001b[0;32m    209\u001b[0m         \u001b[1;32mif\u001b[0m \u001b[0mcallback\u001b[0m\u001b[1;33m:\u001b[0m\u001b[1;33m\u001b[0m\u001b[1;33m\u001b[0m\u001b[0m\n\u001b[0;32m    210\u001b[0m             \u001b[0mcallback\u001b[0m\u001b[1;33m(\u001b[0m\u001b[0mresult\u001b[0m\u001b[1;33m)\u001b[0m\u001b[1;33m\u001b[0m\u001b[1;33m\u001b[0m\u001b[0m\n",
      "\u001b[1;32mC:\\tool\\envs\\cakd3\\lib\\site-packages\\joblib\\_parallel_backends.py\u001b[0m in \u001b[0;36m__init__\u001b[1;34m(self, batch)\u001b[0m\n\u001b[0;32m    570\u001b[0m         \u001b[1;31m# Don't delay the application, to avoid keeping the input\u001b[0m\u001b[1;33m\u001b[0m\u001b[1;33m\u001b[0m\u001b[1;33m\u001b[0m\u001b[0m\n\u001b[0;32m    571\u001b[0m         \u001b[1;31m# arguments in memory\u001b[0m\u001b[1;33m\u001b[0m\u001b[1;33m\u001b[0m\u001b[1;33m\u001b[0m\u001b[0m\n\u001b[1;32m--> 572\u001b[1;33m         \u001b[0mself\u001b[0m\u001b[1;33m.\u001b[0m\u001b[0mresults\u001b[0m \u001b[1;33m=\u001b[0m \u001b[0mbatch\u001b[0m\u001b[1;33m(\u001b[0m\u001b[1;33m)\u001b[0m\u001b[1;33m\u001b[0m\u001b[1;33m\u001b[0m\u001b[0m\n\u001b[0m\u001b[0;32m    573\u001b[0m \u001b[1;33m\u001b[0m\u001b[0m\n\u001b[0;32m    574\u001b[0m     \u001b[1;32mdef\u001b[0m \u001b[0mget\u001b[0m\u001b[1;33m(\u001b[0m\u001b[0mself\u001b[0m\u001b[1;33m)\u001b[0m\u001b[1;33m:\u001b[0m\u001b[1;33m\u001b[0m\u001b[1;33m\u001b[0m\u001b[0m\n",
      "\u001b[1;32mC:\\tool\\envs\\cakd3\\lib\\site-packages\\joblib\\parallel.py\u001b[0m in \u001b[0;36m__call__\u001b[1;34m(self)\u001b[0m\n\u001b[0;32m    260\u001b[0m         \u001b[1;31m# change the default number of processes to -1\u001b[0m\u001b[1;33m\u001b[0m\u001b[1;33m\u001b[0m\u001b[1;33m\u001b[0m\u001b[0m\n\u001b[0;32m    261\u001b[0m         \u001b[1;32mwith\u001b[0m \u001b[0mparallel_backend\u001b[0m\u001b[1;33m(\u001b[0m\u001b[0mself\u001b[0m\u001b[1;33m.\u001b[0m\u001b[0m_backend\u001b[0m\u001b[1;33m,\u001b[0m \u001b[0mn_jobs\u001b[0m\u001b[1;33m=\u001b[0m\u001b[0mself\u001b[0m\u001b[1;33m.\u001b[0m\u001b[0m_n_jobs\u001b[0m\u001b[1;33m)\u001b[0m\u001b[1;33m:\u001b[0m\u001b[1;33m\u001b[0m\u001b[1;33m\u001b[0m\u001b[0m\n\u001b[1;32m--> 262\u001b[1;33m             return [func(*args, **kwargs)\n\u001b[0m\u001b[0;32m    263\u001b[0m                     for func, args, kwargs in self.items]\n\u001b[0;32m    264\u001b[0m \u001b[1;33m\u001b[0m\u001b[0m\n",
      "\u001b[1;32mC:\\tool\\envs\\cakd3\\lib\\site-packages\\joblib\\parallel.py\u001b[0m in \u001b[0;36m<listcomp>\u001b[1;34m(.0)\u001b[0m\n\u001b[0;32m    260\u001b[0m         \u001b[1;31m# change the default number of processes to -1\u001b[0m\u001b[1;33m\u001b[0m\u001b[1;33m\u001b[0m\u001b[1;33m\u001b[0m\u001b[0m\n\u001b[0;32m    261\u001b[0m         \u001b[1;32mwith\u001b[0m \u001b[0mparallel_backend\u001b[0m\u001b[1;33m(\u001b[0m\u001b[0mself\u001b[0m\u001b[1;33m.\u001b[0m\u001b[0m_backend\u001b[0m\u001b[1;33m,\u001b[0m \u001b[0mn_jobs\u001b[0m\u001b[1;33m=\u001b[0m\u001b[0mself\u001b[0m\u001b[1;33m.\u001b[0m\u001b[0m_n_jobs\u001b[0m\u001b[1;33m)\u001b[0m\u001b[1;33m:\u001b[0m\u001b[1;33m\u001b[0m\u001b[1;33m\u001b[0m\u001b[0m\n\u001b[1;32m--> 262\u001b[1;33m             return [func(*args, **kwargs)\n\u001b[0m\u001b[0;32m    263\u001b[0m                     for func, args, kwargs in self.items]\n\u001b[0;32m    264\u001b[0m \u001b[1;33m\u001b[0m\u001b[0m\n",
      "\u001b[1;32mC:\\tool\\envs\\cakd3\\lib\\site-packages\\sklearn\\utils\\fixes.py\u001b[0m in \u001b[0;36m__call__\u001b[1;34m(self, *args, **kwargs)\u001b[0m\n\u001b[0;32m    220\u001b[0m     \u001b[1;32mdef\u001b[0m \u001b[0m__call__\u001b[0m\u001b[1;33m(\u001b[0m\u001b[0mself\u001b[0m\u001b[1;33m,\u001b[0m \u001b[1;33m*\u001b[0m\u001b[0margs\u001b[0m\u001b[1;33m,\u001b[0m \u001b[1;33m**\u001b[0m\u001b[0mkwargs\u001b[0m\u001b[1;33m)\u001b[0m\u001b[1;33m:\u001b[0m\u001b[1;33m\u001b[0m\u001b[1;33m\u001b[0m\u001b[0m\n\u001b[0;32m    221\u001b[0m         \u001b[1;32mwith\u001b[0m \u001b[0mconfig_context\u001b[0m\u001b[1;33m(\u001b[0m\u001b[1;33m**\u001b[0m\u001b[0mself\u001b[0m\u001b[1;33m.\u001b[0m\u001b[0mconfig\u001b[0m\u001b[1;33m)\u001b[0m\u001b[1;33m:\u001b[0m\u001b[1;33m\u001b[0m\u001b[1;33m\u001b[0m\u001b[0m\n\u001b[1;32m--> 222\u001b[1;33m             \u001b[1;32mreturn\u001b[0m \u001b[0mself\u001b[0m\u001b[1;33m.\u001b[0m\u001b[0mfunction\u001b[0m\u001b[1;33m(\u001b[0m\u001b[1;33m*\u001b[0m\u001b[0margs\u001b[0m\u001b[1;33m,\u001b[0m \u001b[1;33m**\u001b[0m\u001b[0mkwargs\u001b[0m\u001b[1;33m)\u001b[0m\u001b[1;33m\u001b[0m\u001b[1;33m\u001b[0m\u001b[0m\n\u001b[0m",
      "\u001b[1;32mC:\\tool\\envs\\cakd3\\lib\\site-packages\\sklearn\\model_selection\\_validation.py\u001b[0m in \u001b[0;36m_fit_and_score\u001b[1;34m(estimator, X, y, scorer, train, test, verbose, parameters, fit_params, return_train_score, return_parameters, return_n_test_samples, return_times, return_estimator, split_progress, candidate_progress, error_score)\u001b[0m\n\u001b[0;32m    596\u001b[0m             \u001b[0mestimator\u001b[0m\u001b[1;33m.\u001b[0m\u001b[0mfit\u001b[0m\u001b[1;33m(\u001b[0m\u001b[0mX_train\u001b[0m\u001b[1;33m,\u001b[0m \u001b[1;33m**\u001b[0m\u001b[0mfit_params\u001b[0m\u001b[1;33m)\u001b[0m\u001b[1;33m\u001b[0m\u001b[1;33m\u001b[0m\u001b[0m\n\u001b[0;32m    597\u001b[0m         \u001b[1;32melse\u001b[0m\u001b[1;33m:\u001b[0m\u001b[1;33m\u001b[0m\u001b[1;33m\u001b[0m\u001b[0m\n\u001b[1;32m--> 598\u001b[1;33m             \u001b[0mestimator\u001b[0m\u001b[1;33m.\u001b[0m\u001b[0mfit\u001b[0m\u001b[1;33m(\u001b[0m\u001b[0mX_train\u001b[0m\u001b[1;33m,\u001b[0m \u001b[0my_train\u001b[0m\u001b[1;33m,\u001b[0m \u001b[1;33m**\u001b[0m\u001b[0mfit_params\u001b[0m\u001b[1;33m)\u001b[0m\u001b[1;33m\u001b[0m\u001b[1;33m\u001b[0m\u001b[0m\n\u001b[0m\u001b[0;32m    599\u001b[0m \u001b[1;33m\u001b[0m\u001b[0m\n\u001b[0;32m    600\u001b[0m     \u001b[1;32mexcept\u001b[0m \u001b[0mException\u001b[0m \u001b[1;32mas\u001b[0m \u001b[0me\u001b[0m\u001b[1;33m:\u001b[0m\u001b[1;33m\u001b[0m\u001b[1;33m\u001b[0m\u001b[0m\n",
      "\u001b[1;32mC:\\tool\\envs\\cakd3\\lib\\site-packages\\xgboost\\core.py\u001b[0m in \u001b[0;36minner_f\u001b[1;34m(*args, **kwargs)\u001b[0m\n\u001b[0;32m    420\u001b[0m         \u001b[1;32mfor\u001b[0m \u001b[0mk\u001b[0m\u001b[1;33m,\u001b[0m \u001b[0marg\u001b[0m \u001b[1;32min\u001b[0m \u001b[0mzip\u001b[0m\u001b[1;33m(\u001b[0m\u001b[0msig\u001b[0m\u001b[1;33m.\u001b[0m\u001b[0mparameters\u001b[0m\u001b[1;33m,\u001b[0m \u001b[0margs\u001b[0m\u001b[1;33m)\u001b[0m\u001b[1;33m:\u001b[0m\u001b[1;33m\u001b[0m\u001b[1;33m\u001b[0m\u001b[0m\n\u001b[0;32m    421\u001b[0m             \u001b[0mkwargs\u001b[0m\u001b[1;33m[\u001b[0m\u001b[0mk\u001b[0m\u001b[1;33m]\u001b[0m \u001b[1;33m=\u001b[0m \u001b[0marg\u001b[0m\u001b[1;33m\u001b[0m\u001b[1;33m\u001b[0m\u001b[0m\n\u001b[1;32m--> 422\u001b[1;33m         \u001b[1;32mreturn\u001b[0m \u001b[0mf\u001b[0m\u001b[1;33m(\u001b[0m\u001b[1;33m**\u001b[0m\u001b[0mkwargs\u001b[0m\u001b[1;33m)\u001b[0m\u001b[1;33m\u001b[0m\u001b[1;33m\u001b[0m\u001b[0m\n\u001b[0m\u001b[0;32m    423\u001b[0m \u001b[1;33m\u001b[0m\u001b[0m\n\u001b[0;32m    424\u001b[0m     \u001b[1;32mreturn\u001b[0m \u001b[0minner_f\u001b[0m\u001b[1;33m\u001b[0m\u001b[1;33m\u001b[0m\u001b[0m\n",
      "\u001b[1;32mC:\\tool\\envs\\cakd3\\lib\\site-packages\\xgboost\\sklearn.py\u001b[0m in \u001b[0;36mfit\u001b[1;34m(self, X, y, sample_weight, base_margin, eval_set, eval_metric, early_stopping_rounds, verbose, xgb_model, sample_weight_eval_set, feature_weights, callbacks)\u001b[0m\n\u001b[0;32m    907\u001b[0m             eval_group=None, label_transform=label_transform)\n\u001b[0;32m    908\u001b[0m \u001b[1;33m\u001b[0m\u001b[0m\n\u001b[1;32m--> 909\u001b[1;33m         self._Booster = train(xgb_options, train_dmatrix,\n\u001b[0m\u001b[0;32m    910\u001b[0m                               \u001b[0mself\u001b[0m\u001b[1;33m.\u001b[0m\u001b[0mget_num_boosting_rounds\u001b[0m\u001b[1;33m(\u001b[0m\u001b[1;33m)\u001b[0m\u001b[1;33m,\u001b[0m\u001b[1;33m\u001b[0m\u001b[1;33m\u001b[0m\u001b[0m\n\u001b[0;32m    911\u001b[0m                               \u001b[0mevals\u001b[0m\u001b[1;33m=\u001b[0m\u001b[0mevals\u001b[0m\u001b[1;33m,\u001b[0m\u001b[1;33m\u001b[0m\u001b[1;33m\u001b[0m\u001b[0m\n",
      "\u001b[1;32mC:\\tool\\envs\\cakd3\\lib\\site-packages\\xgboost\\training.py\u001b[0m in \u001b[0;36mtrain\u001b[1;34m(params, dtrain, num_boost_round, evals, obj, feval, maximize, early_stopping_rounds, evals_result, verbose_eval, xgb_model, callbacks)\u001b[0m\n\u001b[0;32m    225\u001b[0m     \u001b[0mBooster\u001b[0m \u001b[1;33m:\u001b[0m \u001b[0ma\u001b[0m \u001b[0mtrained\u001b[0m \u001b[0mbooster\u001b[0m \u001b[0mmodel\u001b[0m\u001b[1;33m\u001b[0m\u001b[1;33m\u001b[0m\u001b[0m\n\u001b[0;32m    226\u001b[0m     \"\"\"\n\u001b[1;32m--> 227\u001b[1;33m     bst = _train_internal(params, dtrain,\n\u001b[0m\u001b[0;32m    228\u001b[0m                           \u001b[0mnum_boost_round\u001b[0m\u001b[1;33m=\u001b[0m\u001b[0mnum_boost_round\u001b[0m\u001b[1;33m,\u001b[0m\u001b[1;33m\u001b[0m\u001b[1;33m\u001b[0m\u001b[0m\n\u001b[0;32m    229\u001b[0m                           \u001b[0mevals\u001b[0m\u001b[1;33m=\u001b[0m\u001b[0mevals\u001b[0m\u001b[1;33m,\u001b[0m\u001b[1;33m\u001b[0m\u001b[1;33m\u001b[0m\u001b[0m\n",
      "\u001b[1;32mC:\\tool\\envs\\cakd3\\lib\\site-packages\\xgboost\\training.py\u001b[0m in \u001b[0;36m_train_internal\u001b[1;34m(params, dtrain, num_boost_round, evals, obj, feval, xgb_model, callbacks, evals_result, maximize, verbose_eval, early_stopping_rounds)\u001b[0m\n\u001b[0;32m    100\u001b[0m         \u001b[1;31m# Skip the first update if it is a recovery step.\u001b[0m\u001b[1;33m\u001b[0m\u001b[1;33m\u001b[0m\u001b[1;33m\u001b[0m\u001b[0m\n\u001b[0;32m    101\u001b[0m         \u001b[1;32mif\u001b[0m \u001b[0mversion\u001b[0m \u001b[1;33m%\u001b[0m \u001b[1;36m2\u001b[0m \u001b[1;33m==\u001b[0m \u001b[1;36m0\u001b[0m\u001b[1;33m:\u001b[0m\u001b[1;33m\u001b[0m\u001b[1;33m\u001b[0m\u001b[0m\n\u001b[1;32m--> 102\u001b[1;33m             \u001b[0mbst\u001b[0m\u001b[1;33m.\u001b[0m\u001b[0mupdate\u001b[0m\u001b[1;33m(\u001b[0m\u001b[0mdtrain\u001b[0m\u001b[1;33m,\u001b[0m \u001b[0mi\u001b[0m\u001b[1;33m,\u001b[0m \u001b[0mobj\u001b[0m\u001b[1;33m)\u001b[0m\u001b[1;33m\u001b[0m\u001b[1;33m\u001b[0m\u001b[0m\n\u001b[0m\u001b[0;32m    103\u001b[0m             \u001b[0mbst\u001b[0m\u001b[1;33m.\u001b[0m\u001b[0msave_rabit_checkpoint\u001b[0m\u001b[1;33m(\u001b[0m\u001b[1;33m)\u001b[0m\u001b[1;33m\u001b[0m\u001b[1;33m\u001b[0m\u001b[0m\n\u001b[0;32m    104\u001b[0m             \u001b[0mversion\u001b[0m \u001b[1;33m+=\u001b[0m \u001b[1;36m1\u001b[0m\u001b[1;33m\u001b[0m\u001b[1;33m\u001b[0m\u001b[0m\n",
      "\u001b[1;32mC:\\tool\\envs\\cakd3\\lib\\site-packages\\xgboost\\core.py\u001b[0m in \u001b[0;36mupdate\u001b[1;34m(self, dtrain, iteration, fobj)\u001b[0m\n\u001b[0;32m   1278\u001b[0m \u001b[1;33m\u001b[0m\u001b[0m\n\u001b[0;32m   1279\u001b[0m         \u001b[1;32mif\u001b[0m \u001b[0mfobj\u001b[0m \u001b[1;32mis\u001b[0m \u001b[1;32mNone\u001b[0m\u001b[1;33m:\u001b[0m\u001b[1;33m\u001b[0m\u001b[1;33m\u001b[0m\u001b[0m\n\u001b[1;32m-> 1280\u001b[1;33m             _check_call(_LIB.XGBoosterUpdateOneIter(self.handle,\n\u001b[0m\u001b[0;32m   1281\u001b[0m                                                     \u001b[0mctypes\u001b[0m\u001b[1;33m.\u001b[0m\u001b[0mc_int\u001b[0m\u001b[1;33m(\u001b[0m\u001b[0miteration\u001b[0m\u001b[1;33m)\u001b[0m\u001b[1;33m,\u001b[0m\u001b[1;33m\u001b[0m\u001b[1;33m\u001b[0m\u001b[0m\n\u001b[0;32m   1282\u001b[0m                                                     dtrain.handle))\n",
      "\u001b[1;31mKeyboardInterrupt\u001b[0m: "
     ]
    }
   ],
   "source": [
    "# 2nd validation\n",
    "from sklearn.model_selection import GridSearchCV\n",
    "xgb_clf = XGBClassifier(n_estimators=100)\n",
    "params = {'max_depth':[5,7],'min_child_weight':[1,3],\n",
    "         'colsample_bytree':[0.5,0.75]}\n",
    "gridcv = GridSearchCV(xgb_clf,param_grid=params,cv=3)\n",
    "gridcv.fit(X_train,y_train,early_stopping_rounds=30,\n",
    "           eval_metric='auc',\n",
    "          eval_set=[(X_train,y_train),(X_test,y_test)])\n",
    "print('GV 최적 파라미터:', gridcv.best_params_)\n",
    "xgb_roc_score = roc_auc_score(y_test,gridcv.predict_proba(X_test)[:,1])\n",
    "print('AUC:{:.4f}'.format(xgb_roc_score))"
   ]
  },
  {
   "cell_type": "code",
   "execution_count": null,
   "id": "f64924f7-7b3c-449c-9a00-13d1dc6fc335",
   "metadata": {
    "tags": []
   },
   "outputs": [],
   "source": [
    "print('GV 최적 파라미터:', gridcv.best_params_)\n",
    "xgb_roc_score = roc_auc_score(y_test,gridcv.predict_proba(X_test)[:,1])\n",
    "print('AUC:{:.4f}'.format(xgb_roc_score))"
   ]
  },
  {
   "cell_type": "code",
   "execution_count": null,
   "id": "345f4fa6-18d9-46c9-bf0a-72c567faf7b8",
   "metadata": {
    "tags": []
   },
   "outputs": [],
   "source": [
    "# refit\n",
    "xgb_clf = XGBClassifier(n_estimators=1000,random_state=150,colsample_bytes=0.75, max_depth=5,\n",
    "                        min_child_weight=1, reg_alpha=0.02)\n",
    "xgb_clf.fit(X_train,y_train,early_stopping_rounds=200,eval_metric='auc',eval_set=evals)"
   ]
  },
  {
   "cell_type": "code",
   "execution_count": null,
   "id": "c61e59cb-afb8-4266-b2bb-3513602c75b4",
   "metadata": {},
   "outputs": [],
   "source": [
    "xgb_roc_score = roc_auc_score(y_test,xgb_clf.predict_proba(X_test)[:,1])\n",
    "print('AUC:{:.4f}'.format(xgb_roc_score))"
   ]
  },
  {
   "cell_type": "code",
   "execution_count": null,
   "id": "f320973a-85d8-4390-9971-f26c0a1d3072",
   "metadata": {},
   "outputs": [],
   "source": []
  },
  {
   "cell_type": "code",
   "execution_count": null,
   "id": "4ad3b873-b53e-4412-b651-a197beca8419",
   "metadata": {},
   "outputs": [],
   "source": [
    "# models\n",
    "lgbm_wrapper = LGBMClassifier(n_estimators=500, random_state=150)"
   ]
  },
  {
   "cell_type": "code",
   "execution_count": null,
   "id": "5c17e33b-4284-4ebe-9dcf-7655835bf1d1",
   "metadata": {
    "tags": []
   },
   "outputs": [],
   "source": [
    "# fit\n",
    "evals=[(X_test,y_test),(X_test,y_test)]\n",
    "lgbm_wrapper.fit(X_train,y_train,early_stopping_rounds=100, eval_metric='auc',eval_set=evals,verbose=True)"
   ]
  },
  {
   "cell_type": "code",
   "execution_count": null,
   "id": "3ab6d431-dc6c-4ef7-9b73-ff0fb421c4ec",
   "metadata": {
    "jupyter": {
     "source_hidden": true
    },
    "tags": []
   },
   "outputs": [],
   "source": [
    "# predict\n",
    "lgbm_wrapper_preds = lgbm_wrapper.predict(X_test)\n",
    "lgbm_wrapper_proba = lgbm_wrapper.predict_proba(X_test)[:,1]"
   ]
  },
  {
   "cell_type": "code",
   "execution_count": null,
   "id": "a9c66927-f9a1-4c3c-bab1-4d325aa2daf0",
   "metadata": {},
   "outputs": [],
   "source": [
    "# AUC\n",
    "lgb_roc_score = roc_auc_score(y_test,lgbm_wrapper_proba,average='macro')\n",
    "print(\"roc_auc : {0:.4f}\".format(lgb_roc_score))"
   ]
  },
  {
   "cell_type": "code",
   "execution_count": null,
   "id": "65b70ccf-485b-4c79-8c80-98882c5ab509",
   "metadata": {},
   "outputs": [],
   "source": [
    "# 2nd Validation\n",
    "grid_lgb_clf = LGBMClassifier()\n",
    "print(grid_lgb_clf.get_params())\n",
    "params = {max_depth:[]}"
   ]
  },
  {
   "cell_type": "code",
   "execution_count": null,
   "id": "a3f8fcd0-43ed-4d09-b94b-4bb73b5183df",
   "metadata": {},
   "outputs": [],
   "source": []
  }
 ],
 "metadata": {
  "kernelspec": {
   "display_name": "Python 3",
   "language": "python",
   "name": "python3"
  },
  "language_info": {
   "codemirror_mode": {
    "name": "ipython",
    "version": 3
   },
   "file_extension": ".py",
   "mimetype": "text/x-python",
   "name": "python",
   "nbconvert_exporter": "python",
   "pygments_lexer": "ipython3",
   "version": "3.8.10"
  },
  "toc-autonumbering": true,
  "toc-showcode": false,
  "toc-showmarkdowntxt": false,
  "varInspector": {
   "cols": {
    "lenName": 16,
    "lenType": 16,
    "lenVar": 40
   },
   "kernels_config": {
    "python": {
     "delete_cmd_postfix": "",
     "delete_cmd_prefix": "del ",
     "library": "var_list.py",
     "varRefreshCmd": "print(var_dic_list())"
    },
    "r": {
     "delete_cmd_postfix": ") ",
     "delete_cmd_prefix": "rm(",
     "library": "var_list.r",
     "varRefreshCmd": "cat(var_dic_list()) "
    }
   },
   "types_to_exclude": [
    "module",
    "function",
    "builtin_function_or_method",
    "instance",
    "_Feature"
   ],
   "window_display": false
  },
  "widgets": {
   "application/vnd.jupyter.widget-state+json": {
    "state": {},
    "version_major": 2,
    "version_minor": 0
   }
  }
 },
 "nbformat": 4,
 "nbformat_minor": 5
}
