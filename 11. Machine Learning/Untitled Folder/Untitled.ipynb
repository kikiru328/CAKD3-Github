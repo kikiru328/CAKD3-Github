{
 "cells": [
  {
   "cell_type": "markdown",
   "id": "482599c4",
   "metadata": {},
   "source": [
    "데이터 분할\n",
    "- 의미 있는 분석 결과 도출을 위해서는 수집된 데이터를 분석을 위한 데이터로 전 처리 작업이 필요하다.\n",
    "- 전 처리 과정은 필요 없는 변수나 문제가 있는 이상치를 제거한다.\n",
    "- 데이터가 너무 크거나 모형을 만들거나 검증을 위해서는 데이터를 분할한다.\n",
    "- 데이터 분할에는 학습/테스트 데이터 분할과 변수를 줄이는 차원 축소 등이 있다.\n",
    "- 학습 데이터로 모델을 학습시키고 이렇게 학습된 모델을 통해서 예측이나 분석한다.\n",
    "- 시행을 통해서 얻은 결과값 혹은 예측 값을 실제 결과값과 비교하여 모델의 성능을 평가한다.\n",
    "- 데이터 분할을 위해서는 학습/테스트 데이터의 크기과 랜덤 샘플링 여부 등을 결정한다.\n",
    "- 일반적으로 학습 데이터와 테스트 데이터의 크기는 7:3, 8:2 로 분리한다.\n",
    "- 학습 데이터를 다시 분할해서 학습 데이터와 학습된 모델을 일차 검증하는 검증 데이터 3가지로 분할한다."
   ]
  },
  {
   "cell_type": "markdown",
   "id": "0c836e2b",
   "metadata": {},
   "source": [
    "overfitting 단순한 잡음을 반영\n",
    "undefitting 중요한 조건 미반영"
   ]
  },
  {
   "cell_type": "code",
   "execution_count": null,
   "id": "39a49ac6",
   "metadata": {},
   "outputs": [],
   "source": []
  }
 ],
 "metadata": {
  "kernelspec": {
   "display_name": "Python 3",
   "language": "python",
   "name": "python3"
  },
  "language_info": {
   "codemirror_mode": {
    "name": "ipython",
    "version": 3
   },
   "file_extension": ".py",
   "mimetype": "text/x-python",
   "name": "python",
   "nbconvert_exporter": "python",
   "pygments_lexer": "ipython3",
   "version": "3.8.11"
  }
 },
 "nbformat": 4,
 "nbformat_minor": 5
}
