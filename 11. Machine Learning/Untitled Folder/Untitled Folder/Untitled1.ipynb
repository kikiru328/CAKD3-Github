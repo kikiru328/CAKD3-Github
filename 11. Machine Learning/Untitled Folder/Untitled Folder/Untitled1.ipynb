{
 "cells": [
  {
   "cell_type": "code",
   "execution_count": 56,
   "id": "4d4658e8-dc2d-45fd-9dde-1ae49b5a3efa",
   "metadata": {},
   "outputs": [],
   "source": [
    "# module import\n",
    "from sklearn.datasets import load_iris\n",
    "from sklearn.metrics import accuracy_score\n",
    "from sklearn.linear_model import LogisticRegression\n",
    "from sklearn.ensemble import RandomForestClassifier\n",
    "from sklearn.svm import SVC\n",
    "from sklearn.model_selection import train_test_split\n",
    "from sklearn.model_selection import GridSearchCV\n",
    "\n",
    "#\n",
    "import warnings\n",
    "warnings.filterwarnings('ignore')"
   ]
  },
  {
   "cell_type": "code",
   "execution_count": 2,
   "id": "5f0dd8e7-3989-43e6-8e6b-ebd6191958fe",
   "metadata": {},
   "outputs": [
    {
     "name": "stdout",
     "output_type": "stream",
     "text": [
      "dict_keys(['data', 'target', 'frame', 'target_names', 'DESCR', 'feature_names', 'filename'])\n"
     ]
    }
   ],
   "source": [
    "# Load data\n",
    "\n",
    "iris  = load_iris()\n",
    "print(iris.keys())"
   ]
  },
  {
   "cell_type": "code",
   "execution_count": 3,
   "id": "fcad6bd4-3005-4949-a28c-7461f81ced3d",
   "metadata": {},
   "outputs": [
    {
     "data": {
      "text/plain": [
       "array([[5.1, 3.5, 1.4, 0.2],\n",
       "       [4.9, 3. , 1.4, 0.2],\n",
       "       [4.7, 3.2, 1.3, 0.2],\n",
       "       [4.6, 3.1, 1.5, 0.2],\n",
       "       [5. , 3.6, 1.4, 0.2]])"
      ]
     },
     "metadata": {},
     "output_type": "display_data"
    },
    {
     "data": {
      "text/plain": [
       "array([0, 0, 0, 0, 0])"
      ]
     },
     "metadata": {},
     "output_type": "display_data"
    }
   ],
   "source": [
    "X = iris.data\n",
    "display(X[:5])\n",
    "Y = iris.target\n",
    "display(Y[:5])"
   ]
  },
  {
   "cell_type": "code",
   "execution_count": 4,
   "id": "de01b746-de25-4e55-90f0-1c72acbf6780",
   "metadata": {},
   "outputs": [
    {
     "name": "stdout",
     "output_type": "stream",
     "text": [
      "rfc 0.9333333333333333\n",
      "lrc 0.9555555555555556\n",
      "svc 0.9555555555555556\n"
     ]
    }
   ],
   "source": [
    "# seperate\n",
    "\n",
    "X_train, X_test, y_train, y_test = train_test_split(iris.data,\n",
    "                                                   iris.target,\n",
    "                                                   test_size = 0.3,\n",
    "                                                   random_state = 121)\n",
    "# model\n",
    "\n",
    "#rf\n",
    "rfc = RandomForestClassifier()\n",
    "\n",
    "#LR\n",
    "lrc = LogisticRegression()\n",
    "\n",
    "#svc\n",
    "svc = SVC()\n",
    "\n",
    "\n",
    "# fit 각각 학습\n",
    "models = [rfc,lrc,svc]\n",
    "\n",
    "for model in models:\n",
    "    model.fit(X_train,y_train)\n",
    "    \n",
    "# predict\n",
    "rfc_pred = rfc.predict(X_test)\n",
    "lrc_pred = lrc.predict(X_test)\n",
    "svc_pred = svc.predict(X_test)\n",
    "\n",
    "\n",
    "print(\"rfc\" , accuracy_score(y_test,rfc_pred))\n",
    "print(\"lrc\" , accuracy_score(y_test,lrc_pred))\n",
    "print(\"svc\" , accuracy_score(y_test,svc_pred))"
   ]
  },
  {
   "cell_type": "code",
   "execution_count": 5,
   "id": "c60735da-eaf3-4192-821f-01a2cb43e7c0",
   "metadata": {},
   "outputs": [
    {
     "data": {
      "text/plain": [
       "{'bootstrap': True,\n",
       " 'ccp_alpha': 0.0,\n",
       " 'class_weight': None,\n",
       " 'criterion': 'gini',\n",
       " 'max_depth': None,\n",
       " 'max_features': 'auto',\n",
       " 'max_leaf_nodes': None,\n",
       " 'max_samples': None,\n",
       " 'min_impurity_decrease': 0.0,\n",
       " 'min_impurity_split': None,\n",
       " 'min_samples_leaf': 1,\n",
       " 'min_samples_split': 2,\n",
       " 'min_weight_fraction_leaf': 0.0,\n",
       " 'n_estimators': 100,\n",
       " 'n_jobs': None,\n",
       " 'oob_score': False,\n",
       " 'random_state': None,\n",
       " 'verbose': 0,\n",
       " 'warm_start': False}"
      ]
     },
     "execution_count": 5,
     "metadata": {},
     "output_type": "execute_result"
    }
   ],
   "source": [
    "rfc.get_params()"
   ]
  },
  {
   "cell_type": "code",
   "execution_count": 6,
   "id": "185deb7a-e0c6-4a6d-aba5-99c8011a0bfe",
   "metadata": {},
   "outputs": [],
   "source": [
    "# parameters\n",
    "# RandomForestClassifier() == Decision Tree parameter와 동일\n"
   ]
  },
  {
   "cell_type": "code",
   "execution_count": 20,
   "id": "4a83119f-ce28-48ec-8ee0-79d479ede29b",
   "metadata": {},
   "outputs": [
    {
     "name": "stdout",
     "output_type": "stream",
     "text": [
      "GridSearchCV(cv=5, estimator=RandomForestClassifier(),\n",
      "             param_grid={'max_depth': [2, 3, 5, 10],\n",
      "                         'min_samples_leaf': [1, 5, 8],\n",
      "                         'min_samples_split': [2, 3, 5]},\n",
      "             scoring='accuracy')\n",
      "최적 파라미터는 ? >> {'max_depth': 2, 'min_samples_leaf': 5, 'min_samples_split': 5}\n",
      "최고 정확도는 ? >> 0.9714\n"
     ]
    }
   ],
   "source": [
    "# 2차 검증 GridSearchCV\n",
    "\n",
    "#module import\n",
    "from sklearn.metrics import precision_score,recall_score,confusion_matrix,f1_score,roc_auc_score\n",
    "\n",
    "#rfc\n",
    "\n",
    "parameters = {'max_depth':[2,3,5,10], 'min_samples_split':[2,3,5],\n",
    "              'min_samples_leaf':[1,5,8]}\n",
    "\n",
    "grid_rfc = GridSearchCV(rfc, param_grid=parameters, scoring='accuracy', cv=5, refit=True)\n",
    "\n",
    "grid_rfc.fit(X_train,y_train)\n",
    "\n",
    "#output\n",
    "print(grid_rfc)\n",
    "print(\"최적 파라미터는 ? >>\", grid_rfc.best_params_)\n",
    "print(\"최고 정확도는 ? >> {0:.4f}\".format(grid_rfc.best_score_))"
   ]
  },
  {
   "cell_type": "code",
   "execution_count": 23,
   "id": "9b21385d-aa1e-45b3-8574-69d2e1485c5e",
   "metadata": {},
   "outputs": [
    {
     "name": "stdout",
     "output_type": "stream",
     "text": [
      "RandomForestClassifier(max_depth=2, min_samples_leaf=5, min_samples_split=5)\n",
      "grid 예측 정확도는? >>  0.9333333333333333\n"
     ]
    }
   ],
   "source": [
    "# 성능 개선\n",
    "\n",
    "best_rfc = grid_rfc.best_estimator_\n",
    "print(best_rfc)\n",
    "\n",
    "# 예측값\n",
    "rfc_predictions = best_rfc.predict(X_test)\n",
    "# 예측 확률\n",
    "rfc_proba = best_rfc.predict_proba(X_test)[:,1]\n",
    "\n",
    "#정확도\n",
    "accuracy = accuracy_score(y_test, rfc_predictions)\n",
    "print(\"grid 예측 정확도는? >> \", accuracy)\n"
   ]
  },
  {
   "cell_type": "code",
   "execution_count": 25,
   "id": "da69aee0-cf9f-499d-bee8-eb7321e51577",
   "metadata": {},
   "outputs": [
    {
     "name": "stdout",
     "output_type": "stream",
     "text": [
      "              precision    recall  f1-score   support\n",
      "\n",
      "           0       1.00      1.00      1.00        14\n",
      "           1       0.94      0.88      0.91        17\n",
      "           2       0.87      0.93      0.90        14\n",
      "\n",
      "    accuracy                           0.93        45\n",
      "   macro avg       0.93      0.94      0.94        45\n",
      "weighted avg       0.93      0.93      0.93        45\n",
      "\n"
     ]
    }
   ],
   "source": [
    "from sklearn.metrics import classification_report\n",
    "print(classification_report(rfc_predictions, y_test))"
   ]
  },
  {
   "cell_type": "code",
   "execution_count": 46,
   "id": "c8d413dd-eead-4716-a7d1-528fe05c6161",
   "metadata": {
    "tags": []
   },
   "outputs": [],
   "source": [
    "# # 다른 검증값\n",
    "# def get_clf_eval(y_test, rfc_predictions, rfc_proba):\n",
    "    \n",
    "#     #오차행렬\n",
    "#     confusion = confusion_matrix(y_test, rfc_predictions)\n",
    "    \n",
    "#     #정확도\n",
    "#     accuracy = accuracy_score(y_test, rfc_predictions)\n",
    "    \n",
    "# #     정밀도 precision\n",
    "#     precision = precision_score(y_test, rfc_predictions, average=None)\n",
    "    \n",
    "# #     재현율 recall\n",
    "#     recall = recall_score(y_test, rfc_predictions, average=None)\n",
    "    \n",
    "# #     F1\n",
    "# #     정밀도 (precision) 와 재현율(recall) 과의 \"조화평균\"\n",
    "#     f1 = f1_score(y_test, rfc_predictions, average=None)\n",
    "    \n",
    "# #     #roc_auc\n",
    "#     roc_auc = roc_auc_score(y_test, rfc_proba)\n",
    "    \n",
    "#     print('오차 행렬')\n",
    "#     print(confusion)\n",
    "#     print()    \n",
    "#     print('정확도: {0:.4f}, 정밀도: {1:.4f}, 재현율: {2:.4f}, F1: {3:.4f}'.format(accuracy, precision, recall, f1))\n",
    "\n",
    "# # 다중분류에 대한 검증 "
   ]
  },
  {
   "cell_type": "code",
   "execution_count": 47,
   "id": "b4786ff1-670d-4abc-b554-a5557602bbdd",
   "metadata": {},
   "outputs": [
    {
     "data": {
      "text/plain": [
       "{'C': 1.0,\n",
       " 'class_weight': None,\n",
       " 'dual': False,\n",
       " 'fit_intercept': True,\n",
       " 'intercept_scaling': 1,\n",
       " 'l1_ratio': None,\n",
       " 'max_iter': 100,\n",
       " 'multi_class': 'auto',\n",
       " 'n_jobs': None,\n",
       " 'penalty': 'l2',\n",
       " 'random_state': None,\n",
       " 'solver': 'lbfgs',\n",
       " 'tol': 0.0001,\n",
       " 'verbose': 0,\n",
       " 'warm_start': False}"
      ]
     },
     "execution_count": 47,
     "metadata": {},
     "output_type": "execute_result"
    }
   ],
   "source": [
    "lrc.get_params()"
   ]
  },
  {
   "cell_type": "code",
   "execution_count": null,
   "id": "b1dc4914-9c39-4444-a2da-fd02786289b5",
   "metadata": {},
   "outputs": [],
   "source": [
    "solvers = ['newton-cg', 'lbfgs', 'liblinear']\n",
    "penalty = ['l2']\n",
    "c_values = [100, 10, 1.0, 0.1, 0.01]"
   ]
  },
  {
   "cell_type": "code",
   "execution_count": 62,
   "id": "b70421cb-bb67-4555-948c-435e2d27267d",
   "metadata": {},
   "outputs": [
    {
     "name": "stdout",
     "output_type": "stream",
     "text": [
      "GridSearchCV(cv=3, estimator=LogisticRegression(),\n",
      "             param_grid={'C': [50, 10, 1.0, 0.1, 0.01], 'penalty': ['l2'],\n",
      "                         'solver': ['newton-cg', 'lbfgs', 'liblinear']},\n",
      "             scoring='accuracy')\n",
      "최적 파라미터는 ? >> {'C': 50, 'penalty': 'l2', 'solver': 'liblinear'}\n",
      "최고 정확도는 ? >> 0.9714\n"
     ]
    }
   ],
   "source": [
    "# 2차 검증 GridSearchCV\n",
    "\n",
    "#module import\n",
    "from sklearn.metrics import precision_score,recall_score,confusion_matrix,f1_score,roc_auc_score\n",
    "\n",
    "#lrc\n",
    "\n",
    "parameters = {'solver' : ['newton-cg','lbfgs','liblinear'],'penalty' :['l2'],'C' : [50, 10, 1.0, 0.1, 0.01]}\n",
    "\n",
    "grid_lrc = GridSearchCV(lrc, param_grid=parameters, scoring='accuracy', cv=3, refit=True)\n",
    "\n",
    "grid_lrc.fit(X_train,y_train)\n",
    "\n",
    "#output\n",
    "print(grid_lrc)\n",
    "print(\"최적 파라미터는 ? >>\", grid_lrc.best_params_)\n",
    "print(\"최고 정확도는 ? >> {0:.4f}\".format(grid_lrc.best_score_))"
   ]
  },
  {
   "cell_type": "code",
   "execution_count": 58,
   "id": "ea082e3b-2a30-4e72-90d4-32f8890a70e8",
   "metadata": {},
   "outputs": [
    {
     "data": {
      "text/plain": [
       "{'C': 1.0,\n",
       " 'break_ties': False,\n",
       " 'cache_size': 200,\n",
       " 'class_weight': None,\n",
       " 'coef0': 0.0,\n",
       " 'decision_function_shape': 'ovr',\n",
       " 'degree': 3,\n",
       " 'gamma': 'scale',\n",
       " 'kernel': 'rbf',\n",
       " 'max_iter': -1,\n",
       " 'probability': False,\n",
       " 'random_state': None,\n",
       " 'shrinking': True,\n",
       " 'tol': 0.001,\n",
       " 'verbose': False}"
      ]
     },
     "execution_count": 58,
     "metadata": {},
     "output_type": "execute_result"
    }
   ],
   "source": [
    "svc.get_params()"
   ]
  },
  {
   "cell_type": "code",
   "execution_count": 59,
   "id": "44ca65c0-38cc-46d6-afbc-ab8c0406dae2",
   "metadata": {},
   "outputs": [
    {
     "name": "stdout",
     "output_type": "stream",
     "text": [
      "GridSearchCV(cv=3, estimator=SVC(),\n",
      "             param_grid={'C': [50, 10, 1.0, 0.1, 0.01],\n",
      "                         'kernel': ['linear', 'poly', 'rbf', 'sigmoid']},\n",
      "             scoring='accuracy')\n",
      "최적 파라미터는 ? >> {'C': 50, 'kernel': 'rbf'}\n",
      "최고 정확도는 ? >> 0.9714\n"
     ]
    }
   ],
   "source": [
    "# 2차 검증 GridSearchCV\n",
    "\n",
    "#module import\n",
    "from sklearn.metrics import precision_score,recall_score,confusion_matrix,f1_score,roc_auc_score\n",
    "\n",
    "#svc\n",
    "\n",
    "parameters = {'kernel' : ['linear','poly', 'rbf', 'sigmoid'],'C':[50, 10, 1.0, 0.1, 0.01]}\n",
    "\n",
    "grid_svc = GridSearchCV(svc, param_grid=parameters, scoring='accuracy', cv=3, refit=True)\n",
    "\n",
    "grid_svc.fit(X_train,y_train)\n",
    "\n",
    "#output\n",
    "print(grid_svc)\n",
    "print(\"최적 파라미터는 ? >>\", grid_svc.best_params_)\n",
    "print(\"최고 정확도는 ? >> {0:.4f}\".format(grid_svc.best_score_))"
   ]
  },
  {
   "cell_type": "code",
   "execution_count": null,
   "id": "27e8a539-82e0-4535-97b7-6427d7df1bef",
   "metadata": {},
   "outputs": [],
   "source": []
  },
  {
   "cell_type": "code",
   "execution_count": 63,
   "id": "e9937700-d217-4166-9134-3bc201c29ecc",
   "metadata": {},
   "outputs": [
    {
     "name": "stdout",
     "output_type": "stream",
     "text": [
      "LogisticRegression(C=50, solver='liblinear')\n",
      " grid 예측 정확도 >> 0.9777777777777777\n"
     ]
    }
   ],
   "source": [
    "# 성능 개선 lrc\n",
    "best_lrc = grid_lrc.best_estimator_ # model/ fit/ predict \n",
    "print(best_lrc)\n",
    "\n",
    "# 예측을 확인 \n",
    "lrc_predictions = best_lrc.predict(X_test)  # 예측값\n",
    "lrc_proba = best_lrc.predict_proba(X_test)[:,1]  # 예측확률\n",
    "accuracy= accuracy_score(y_test, lrc_predictions) # 정확도\n",
    "\n",
    "print(' grid 예측 정확도 >>', accuracy)\n"
   ]
  },
  {
   "cell_type": "code",
   "execution_count": 65,
   "id": "0d57343e-e677-4ef9-b029-17350626e9b5",
   "metadata": {},
   "outputs": [
    {
     "name": "stdout",
     "output_type": "stream",
     "text": [
      "SVC(C=50)\n",
      "grid 예측 정확도는? >>  0.9777777777777777\n"
     ]
    }
   ],
   "source": [
    "# 성능 개선 svc\n",
    "\n",
    "best_svc = grid_svc.best_estimator_\n",
    "print(best_svc)\n",
    "\n",
    "# 예측값\n",
    "svc_predictions = best_svc.predict(X_test)\n",
    "# 예측 확률\n",
    "# svc_proba = best_svc.predict_proba(X_test)[:,1]\n",
    "\n",
    "#정확도\n",
    "accuracy = accuracy_score(y_test, svc_predictions)\n",
    "print(\"grid 예측 정확도는? >> \", accuracy)\n"
   ]
  },
  {
   "cell_type": "code",
   "execution_count": null,
   "id": "b417b362-d6b4-40b1-a3db-81aedea88ef6",
   "metadata": {},
   "outputs": [],
   "source": [
    "방사 기저 함수(RBF: Radial Bias Function)"
   ]
  }
 ],
 "metadata": {
  "kernelspec": {
   "display_name": "Python 3",
   "language": "python",
   "name": "python3"
  },
  "language_info": {
   "codemirror_mode": {
    "name": "ipython",
    "version": 3
   },
   "file_extension": ".py",
   "mimetype": "text/x-python",
   "name": "python",
   "nbconvert_exporter": "python",
   "pygments_lexer": "ipython3",
   "version": "3.8.11"
  }
 },
 "nbformat": 4,
 "nbformat_minor": 5
}
