{
 "cells": [
  {
   "cell_type": "code",
   "execution_count": 1,
   "id": "e08f5c03",
   "metadata": {},
   "outputs": [
    {
     "name": "stdout",
     "output_type": "stream",
     "text": [
      "2\n",
      "1\n"
     ]
    }
   ],
   "source": [
    "#Q 5를 2로 나누었을 때의 몫과 나머지를 구하시오\n",
    "a = 5\n",
    "b = 2\n",
    "\n",
    "몫 = a // b\n",
    "나머지 = a % b\n",
    "\n",
    "print(몫)\n",
    "print(나머지)"
   ]
  },
  {
   "cell_type": "code",
   "execution_count": 2,
   "id": "878476c9",
   "metadata": {},
   "outputs": [
    {
     "data": {
      "text/plain": [
       "1030301"
      ]
     },
     "execution_count": 2,
     "metadata": {},
     "output_type": "execute_result"
    }
   ],
   "source": [
    "#Q. 101의 3승을 구하세요\n",
    "101 ** 3"
   ]
  },
  {
   "cell_type": "code",
   "execution_count": 4,
   "id": "5e2a1a49",
   "metadata": {},
   "outputs": [
    {
     "name": "stdout",
     "output_type": "stream",
     "text": [
      "Python 3.8.3\n"
     ]
    }
   ],
   "source": [
    "#Q. Python과 3.8.3을 합쳐서 Python 3.8.3 으로 출력하세요\n",
    "a = \"Python \"\n",
    "b = \"3.8.3\"\n",
    "print(a+b)"
   ]
  },
  {
   "cell_type": "code",
   "execution_count": 5,
   "id": "fc1bee51",
   "metadata": {},
   "outputs": [
    {
     "name": "stdout",
     "output_type": "stream",
     "text": [
      "<class 'int'>\n",
      "<class 'str'>\n",
      "<class 'int'>\n"
     ]
    }
   ],
   "source": [
    "#Q. a=5 a='10' a = 15 일때 a의 자료형은 무엇인가 \n",
    "a = 5\n",
    "print(type(a))\n",
    "a = '10'\n",
    "print(type(a))\n",
    "a = 15\n",
    "print(type(a))"
   ]
  },
  {
   "cell_type": "code",
   "execution_count": 52,
   "id": "6792ba52",
   "metadata": {},
   "outputs": [
    {
     "data": {
      "text/plain": [
       "2"
      ]
     },
     "execution_count": 52,
     "metadata": {},
     "output_type": "execute_result"
    }
   ],
   "source": [
    "# 5의 3승을 3으로 나누었을때의 나머지를 복합 대입 연산자를 이용해서 구하세요.\n",
    "5**3%3"
   ]
  },
  {
   "cell_type": "code",
   "execution_count": 13,
   "id": "7f3007b5",
   "metadata": {},
   "outputs": [
    {
     "name": "stdout",
     "output_type": "stream",
     "text": [
      "이름을 입력하세요 : 홍길동\n",
      "홍길동\n"
     ]
    }
   ],
   "source": [
    "#Q. 이름을 물어보고 답하는 내용을 출력하세요\n",
    "Name = input(\"이름을 입력하세요 : \")\n",
    "print(Name)"
   ]
  },
  {
   "cell_type": "code",
   "execution_count": 14,
   "id": "1c1eaa79",
   "metadata": {},
   "outputs": [
    {
     "name": "stdout",
     "output_type": "stream",
     "text": [
      "첫번째 숫자 : 2\n",
      "두번째 숫자 : 2\n",
      "세번째 숫자 : 2\n",
      "2\n"
     ]
    }
   ],
   "source": [
    "# 숫자 3개를 입력해서 첫번째 숫자를 두번째 숫자 승한 뒤에 세번째 숫자로 \n",
    "# 나누었을 때 몫을 구하세요.\n",
    "\n",
    "a = int(input(\"첫번째 숫자 : \"))\n",
    "b = int(input(\"두번째 숫자 : \"))\n",
    "c = int(input(\"세번째 숫자 : \"))\n",
    "\n",
    "print(a**b//c)"
   ]
  },
  {
   "cell_type": "code",
   "execution_count": 15,
   "id": "ec410e72",
   "metadata": {},
   "outputs": [
    {
     "name": "stdout",
     "output_type": "stream",
     "text": [
      "입력하세요 : 1\n",
      "입력하세요 : 2\n",
      "입력하세요 : 3\n",
      "입력하세요 : 4\n",
      "입력하세요 : 5\n",
      "12345\n"
     ]
    }
   ],
   "source": [
    "# 1부터 5까지 입력해서 12345를 출력하세요\n",
    "a = input(\"입력하세요 : \")\n",
    "b = input(\"입력하세요 : \")\n",
    "c = input(\"입력하세요 : \")\n",
    "d = input(\"입력하세요 : \")\n",
    "e = input(\"입력하세요 : \")\n",
    "\n",
    "print(a+b+c+d+e)"
   ]
  },
  {
   "cell_type": "code",
   "execution_count": 21,
   "id": "b3000855",
   "metadata": {},
   "outputs": [
    {
     "name": "stdout",
     "output_type": "stream",
     "text": [
      "[0, 1, 2, 3, 4, 5, 6, 7, 8, 'b', 'c']\n"
     ]
    }
   ],
   "source": [
    "# [0, 1, 2, 3, 4, 5, 6, 7, 8, 9, 'a', 'b', 'c']에서 9와 'a'를 삭제 후 \n",
    "# 리스트로 출력하세요\n",
    "\n",
    "Li = [0, 1, 2, 3, 4, 5, 6, 7, 8, 9, 'a', 'b', 'c']\n",
    "del Li[-4]\n",
    "del Li[-3]\n",
    "print(Li)"
   ]
  },
  {
   "cell_type": "code",
   "execution_count": 22,
   "id": "dec9252e",
   "metadata": {},
   "outputs": [
    {
     "name": "stdout",
     "output_type": "stream",
     "text": [
      "[0, 1, 2, 3, 4, 5, 6, 7, 8, 'b']\n"
     ]
    }
   ],
   "source": [
    "# [0, 1, 2, 3, 4, 5, 6, 7, 8, 'b', 'c']에서 'c'를 삭제 후 출력하세요.\n",
    "Li = [0, 1, 2, 3, 4, 5, 6, 7, 8, 'b', 'c']\n",
    "del Li[-1]\n",
    "print(Li)"
   ]
  },
  {
   "cell_type": "code",
   "execution_count": 33,
   "id": "1ad9b0c1",
   "metadata": {},
   "outputs": [
    {
     "name": "stdout",
     "output_type": "stream",
     "text": [
      "[9, 9, 8, 8, 5, 4, 4, 4, 3, 1]\n",
      "[9, 9, 8, 8, 5, 4, 4, 4, 3, 1]\n"
     ]
    }
   ],
   "source": [
    "# [4, 8, 5, 4, 8, 4, 3, 9, 1, 9]를 내림차순으로 정렬하세요\n",
    "Li = [4, 8, 5, 4, 8, 4, 3, 9, 1, 9]\n",
    "Li = sorted(Li, reverse = True)\n",
    "print(Li)\n",
    "Li_another = [4, 8, 5, 4, 8, 4, 3, 9, 1, 9]\n",
    "Li_another.sort()\n",
    "Li_another.reverse()\n",
    "print(Li_another)"
   ]
  },
  {
   "cell_type": "code",
   "execution_count": 39,
   "id": "8ae26cfc",
   "metadata": {},
   "outputs": [
    {
     "name": "stdout",
     "output_type": "stream",
     "text": [
      " 태어난 연도를 입력하세요 ex)1993 :2021\n",
      "소\n"
     ]
    }
   ],
   "source": [
    "# Q. 태어난 연도를 입력받아 띠를 출력하는 프로그램을 작성하세요\n",
    "# 원숭이, 닭, 개, 돼지, 쥐, 소, 범, 토끼, 용, 뱀, 말, 양띠\n",
    "\n",
    "Year = int(input(\" 태어난 연도를 입력하세요 ex)1993 :\"))\n",
    "\n",
    "# 태어난 연도 % 12 == 0 일때 원숭이 띠가 됨. 따라서 각각 나머지가 0~11일 경우 순서대로\n",
    "# 띠를 출력함\n",
    "\n",
    "if Year % 12 == 0:\n",
    "    print(\"원숭이\")\n",
    "elif Year % 12 == 1:\n",
    "    print(\"닭\")\n",
    "elif Year % 12 == 2:\n",
    "    print(\"개\")\n",
    "elif Year % 12 == 3:\n",
    "    print(\"돼지\")\n",
    "elif Year % 12 == 4:\n",
    "    print(\"쥐\")\n",
    "elif Year % 12 == 5:\n",
    "    print(\"소\")\n",
    "elif Year % 12 == 6:\n",
    "    print(\"범\")\n",
    "elif Year % 12 == 7:\n",
    "    print(\"토끼\")\n",
    "elif Year % 12 == 8:\n",
    "    print(\"용\")\n",
    "elif Year % 12 == 9:\n",
    "    print(\"뱀\")\n",
    "elif Year % 12 == 10:\n",
    "    print(\"말\")\n",
    "else:\n",
    "    print(\"양\")\n"
   ]
  },
  {
   "cell_type": "markdown",
   "id": "ca657fc8",
   "metadata": {},
   "source": [
    "Q. 계절 구분 프로그램\n",
    "- 시나리오 : 3 ~ 5월은 봄, 6 ~ 8월은 여름, 9 ~ 11월은 가을, 12 ~ 2월은 겨울로 구분. 지금 계절을 알려주는 프로그램\n",
    "- 각 계절별 출력 멘트는 계절에 맞게 창작\n",
    "- if 조건문으로 datetime모듈을 import해서 datetime.now함수를 작성해서 완성"
   ]
  },
  {
   "cell_type": "code",
   "execution_count": 54,
   "id": "f27b6acd",
   "metadata": {},
   "outputs": [
    {
     "name": "stdout",
     "output_type": "stream",
     "text": [
      "여름소리\n"
     ]
    }
   ],
   "source": [
    "import datetime as dt\n",
    "Date = dt.datetime.now()\n",
    "if Date.month in [3,4,5]:\n",
    "    print(\"벚꽃엔딩\")\n",
    "elif Date.month in [6,7,8]:\n",
    "    print(\"여름소리\")\n",
    "elif Date.month in [9,10,11]:\n",
    "    print(\"맑은하늘\")\n",
    "else:\n",
    "    print(\"군고구마\")"
   ]
  },
  {
   "cell_type": "code",
   "execution_count": null,
   "id": "3b1fe51b",
   "metadata": {},
   "outputs": [],
   "source": []
  },
  {
   "cell_type": "code",
   "execution_count": null,
   "id": "69f0e71e",
   "metadata": {},
   "outputs": [],
   "source": []
  }
 ],
 "metadata": {
  "kernelspec": {
   "display_name": "Python 3",
   "language": "python",
   "name": "python3"
  },
  "language_info": {
   "codemirror_mode": {
    "name": "ipython",
    "version": 3
   },
   "file_extension": ".py",
   "mimetype": "text/x-python",
   "name": "python",
   "nbconvert_exporter": "python",
   "pygments_lexer": "ipython3",
   "version": "3.8.10"
  }
 },
 "nbformat": 4,
 "nbformat_minor": 5
}
