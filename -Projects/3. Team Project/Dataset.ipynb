{
 "cells": [
  {
   "cell_type": "code",
   "execution_count": 1,
   "id": "6c0d0e2d-ffaf-4e54-8b58-46312ccf31b5",
   "metadata": {},
   "outputs": [],
   "source": [
    "import pandas as pd\n",
    "import numpy as np\n",
    "import seaborn as sns\n",
    "import matplotlib.pyplot as plt\n",
    "\n",
    "import warnings\n",
    "warnings.filterwarnings('ignore')\n",
    "\n",
    "from matplotlib import font_manager, rc\n",
    "rc('font',family=\"AppleGothic\")\n",
    "plt.rcParams[\"font.family\"]=\"AppleGothic\" #plt 한글꺠짐\n",
    "plt.rcParams[\"font.family\"]=\"Arial\" #외국어꺠짐\n",
    "plt.rcParams['axes.unicode_minus'] = False # 마이너스 부호 출력 설정\n",
    "plt.rc('figure', figsize=(10,8))\n",
    "\n",
    "sns.set(font=\"AppleGothic\", \n",
    "        rc={\"axes.unicode_minus\":False},\n",
    "        style='darkgrid') #sns 한글깨짐\n",
    "#그래프 세팅\n",
    "font = {'family': 'serif',\n",
    "        'color':  'white',\n",
    "        'weight': 'normal',\n",
    "        'size': 20,\n",
    "        }\n",
    "\n",
    "#마이너스 폰트\n",
    "plt.rc('axes', unicode_minus=False) # 마이너스 폰트 설정\n",
    "\n",
    "#시각화?\n",
    "import platform\n",
    "platform.system()\n",
    "\n",
    "# 운영체제별 한글 폰트 설정\n",
    "if platform.system() == 'Darwin': # Mac 환경 폰트 설정\n",
    "    plt.rc('font', family='AppleGothic')\n",
    "elif platform.system() == 'Windows': # Windows 환경 폰트 설정\n",
    "    plt.rc('font', family='Malgun Gothic')\n",
    "\n",
    "\n"
   ]
  },
  {
   "cell_type": "code",
   "execution_count": 120,
   "id": "364cd37f-8f49-4b1d-9f7c-f5a7867564d9",
   "metadata": {},
   "outputs": [],
   "source": [
    "import pandas as pd"
   ]
  },
  {
   "cell_type": "code",
   "execution_count": 121,
   "id": "fabf8edb-ad9c-44f6-b7d6-a71b49e3e16e",
   "metadata": {},
   "outputs": [],
   "source": [
    "Total = pd.read_csv('Dataset/total/찐최종.csv')"
   ]
  },
  {
   "cell_type": "code",
   "execution_count": 122,
   "id": "8a28b55c-ce99-4946-8f8f-7bba19586b90",
   "metadata": {},
   "outputs": [],
   "source": [
    "Total = Total.drop(['인구밀도','범죄발생비율'],axis=1)"
   ]
  },
  {
   "cell_type": "code",
   "execution_count": 123,
   "id": "1f4ff39f-782a-4d12-af98-e273f3843550",
   "metadata": {},
   "outputs": [
    {
     "data": {
      "text/html": [
       "<div>\n",
       "<style scoped>\n",
       "    .dataframe tbody tr th:only-of-type {\n",
       "        vertical-align: middle;\n",
       "    }\n",
       "\n",
       "    .dataframe tbody tr th {\n",
       "        vertical-align: top;\n",
       "    }\n",
       "\n",
       "    .dataframe thead th {\n",
       "        text-align: right;\n",
       "    }\n",
       "</style>\n",
       "<table border=\"1\" class=\"dataframe\">\n",
       "  <thead>\n",
       "    <tr style=\"text-align: right;\">\n",
       "      <th></th>\n",
       "      <th>시도명</th>\n",
       "      <th>시군구명</th>\n",
       "      <th>읍/면/동</th>\n",
       "      <th>설치유무</th>\n",
       "      <th>등록인구수</th>\n",
       "      <th>어린이보호구역개수</th>\n",
       "      <th>화재발생횟수</th>\n",
       "      <th>범죄총계(구)</th>\n",
       "      <th>관광지개수</th>\n",
       "    </tr>\n",
       "  </thead>\n",
       "  <tbody>\n",
       "    <tr>\n",
       "      <th>0</th>\n",
       "      <td>강원도</td>\n",
       "      <td>강릉시</td>\n",
       "      <td>주문진읍</td>\n",
       "      <td>1.0</td>\n",
       "      <td>17085.0</td>\n",
       "      <td>8.0</td>\n",
       "      <td>0.0</td>\n",
       "      <td>328.0</td>\n",
       "      <td>1.0</td>\n",
       "    </tr>\n",
       "  </tbody>\n",
       "</table>\n",
       "</div>"
      ],
      "text/plain": [
       "   시도명 시군구명 읍/면/동  설치유무    등록인구수  어린이보호구역개수  화재발생횟수  범죄총계(구)  관광지개수\n",
       "0  강원도  강릉시  주문진읍   1.0  17085.0        8.0     0.0    328.0    1.0"
      ]
     },
     "execution_count": 123,
     "metadata": {},
     "output_type": "execute_result"
    }
   ],
   "source": [
    "Total.head(1)"
   ]
  },
  {
   "cell_type": "code",
   "execution_count": 124,
   "id": "7040c3ca-96a2-41e6-8330-b0df58844a5b",
   "metadata": {},
   "outputs": [],
   "source": [
    "Total.to_csv('Dataset/F_Dataset/데이터원본.csv',index=0)"
   ]
  },
  {
   "cell_type": "code",
   "execution_count": 125,
   "id": "0da655de-eefd-4635-9b6e-65ed1a1f4f14",
   "metadata": {},
   "outputs": [
    {
     "data": {
      "text/html": [
       "<div>\n",
       "<style scoped>\n",
       "    .dataframe tbody tr th:only-of-type {\n",
       "        vertical-align: middle;\n",
       "    }\n",
       "\n",
       "    .dataframe tbody tr th {\n",
       "        vertical-align: top;\n",
       "    }\n",
       "\n",
       "    .dataframe thead th {\n",
       "        text-align: right;\n",
       "    }\n",
       "</style>\n",
       "<table border=\"1\" class=\"dataframe\">\n",
       "  <thead>\n",
       "    <tr style=\"text-align: right;\">\n",
       "      <th></th>\n",
       "      <th>시도명</th>\n",
       "      <th>시군구명</th>\n",
       "      <th>읍/면/동</th>\n",
       "      <th>설치유무</th>\n",
       "      <th>등록인구수</th>\n",
       "      <th>어린이보호구역개수</th>\n",
       "      <th>화재발생횟수</th>\n",
       "      <th>범죄총계(구)</th>\n",
       "      <th>관광지개수</th>\n",
       "    </tr>\n",
       "  </thead>\n",
       "  <tbody>\n",
       "    <tr>\n",
       "      <th>0</th>\n",
       "      <td>강원도</td>\n",
       "      <td>강릉시</td>\n",
       "      <td>주문진읍</td>\n",
       "      <td>1.0</td>\n",
       "      <td>17085.0</td>\n",
       "      <td>8.0</td>\n",
       "      <td>0.0</td>\n",
       "      <td>328.0</td>\n",
       "      <td>1.0</td>\n",
       "    </tr>\n",
       "    <tr>\n",
       "      <th>1</th>\n",
       "      <td>강원도</td>\n",
       "      <td>강릉시</td>\n",
       "      <td>성산면</td>\n",
       "      <td>0.0</td>\n",
       "      <td>3393.0</td>\n",
       "      <td>3.0</td>\n",
       "      <td>0.0</td>\n",
       "      <td>328.0</td>\n",
       "      <td>1.0</td>\n",
       "    </tr>\n",
       "    <tr>\n",
       "      <th>2</th>\n",
       "      <td>강원도</td>\n",
       "      <td>강릉시</td>\n",
       "      <td>왕산면</td>\n",
       "      <td>0.0</td>\n",
       "      <td>1648.0</td>\n",
       "      <td>2.0</td>\n",
       "      <td>0.0</td>\n",
       "      <td>328.0</td>\n",
       "      <td>0.0</td>\n",
       "    </tr>\n",
       "    <tr>\n",
       "      <th>3</th>\n",
       "      <td>강원도</td>\n",
       "      <td>강릉시</td>\n",
       "      <td>구정면</td>\n",
       "      <td>0.0</td>\n",
       "      <td>4096.0</td>\n",
       "      <td>5.0</td>\n",
       "      <td>0.0</td>\n",
       "      <td>328.0</td>\n",
       "      <td>0.0</td>\n",
       "    </tr>\n",
       "    <tr>\n",
       "      <th>4</th>\n",
       "      <td>강원도</td>\n",
       "      <td>강릉시</td>\n",
       "      <td>강동면</td>\n",
       "      <td>1.0</td>\n",
       "      <td>4690.0</td>\n",
       "      <td>3.0</td>\n",
       "      <td>0.0</td>\n",
       "      <td>328.0</td>\n",
       "      <td>0.0</td>\n",
       "    </tr>\n",
       "    <tr>\n",
       "      <th>...</th>\n",
       "      <td>...</td>\n",
       "      <td>...</td>\n",
       "      <td>...</td>\n",
       "      <td>...</td>\n",
       "      <td>...</td>\n",
       "      <td>...</td>\n",
       "      <td>...</td>\n",
       "      <td>...</td>\n",
       "      <td>...</td>\n",
       "    </tr>\n",
       "    <tr>\n",
       "      <th>638</th>\n",
       "      <td>충청북도</td>\n",
       "      <td>진천군</td>\n",
       "      <td>초평면</td>\n",
       "      <td>1.0</td>\n",
       "      <td>3508.0</td>\n",
       "      <td>4.0</td>\n",
       "      <td>0.0</td>\n",
       "      <td>980.0</td>\n",
       "      <td>0.0</td>\n",
       "    </tr>\n",
       "    <tr>\n",
       "      <th>639</th>\n",
       "      <td>충청북도</td>\n",
       "      <td>진천군</td>\n",
       "      <td>문백면</td>\n",
       "      <td>1.0</td>\n",
       "      <td>4147.0</td>\n",
       "      <td>4.0</td>\n",
       "      <td>0.0</td>\n",
       "      <td>980.0</td>\n",
       "      <td>0.0</td>\n",
       "    </tr>\n",
       "    <tr>\n",
       "      <th>640</th>\n",
       "      <td>충청북도</td>\n",
       "      <td>진천군</td>\n",
       "      <td>백곡면</td>\n",
       "      <td>1.0</td>\n",
       "      <td>2167.0</td>\n",
       "      <td>2.0</td>\n",
       "      <td>0.0</td>\n",
       "      <td>980.0</td>\n",
       "      <td>0.0</td>\n",
       "    </tr>\n",
       "    <tr>\n",
       "      <th>641</th>\n",
       "      <td>충청북도</td>\n",
       "      <td>진천군</td>\n",
       "      <td>이월면</td>\n",
       "      <td>0.0</td>\n",
       "      <td>8078.0</td>\n",
       "      <td>6.0</td>\n",
       "      <td>0.0</td>\n",
       "      <td>980.0</td>\n",
       "      <td>0.0</td>\n",
       "    </tr>\n",
       "    <tr>\n",
       "      <th>642</th>\n",
       "      <td>충청북도</td>\n",
       "      <td>진천군</td>\n",
       "      <td>광혜원면</td>\n",
       "      <td>1.0</td>\n",
       "      <td>12009.0</td>\n",
       "      <td>3.0</td>\n",
       "      <td>0.0</td>\n",
       "      <td>980.0</td>\n",
       "      <td>0.0</td>\n",
       "    </tr>\n",
       "  </tbody>\n",
       "</table>\n",
       "<p>643 rows × 9 columns</p>\n",
       "</div>"
      ],
      "text/plain": [
       "      시도명 시군구명 읍/면/동  설치유무    등록인구수  어린이보호구역개수  화재발생횟수  범죄총계(구)  관광지개수\n",
       "0     강원도  강릉시  주문진읍   1.0  17085.0        8.0     0.0    328.0    1.0\n",
       "1     강원도  강릉시   성산면   0.0   3393.0        3.0     0.0    328.0    1.0\n",
       "2     강원도  강릉시   왕산면   0.0   1648.0        2.0     0.0    328.0    0.0\n",
       "3     강원도  강릉시   구정면   0.0   4096.0        5.0     0.0    328.0    0.0\n",
       "4     강원도  강릉시   강동면   1.0   4690.0        3.0     0.0    328.0    0.0\n",
       "..    ...  ...   ...   ...      ...        ...     ...      ...    ...\n",
       "638  충청북도  진천군   초평면   1.0   3508.0        4.0     0.0    980.0    0.0\n",
       "639  충청북도  진천군   문백면   1.0   4147.0        4.0     0.0    980.0    0.0\n",
       "640  충청북도  진천군   백곡면   1.0   2167.0        2.0     0.0    980.0    0.0\n",
       "641  충청북도  진천군   이월면   0.0   8078.0        6.0     0.0    980.0    0.0\n",
       "642  충청북도  진천군  광혜원면   1.0  12009.0        3.0     0.0    980.0    0.0\n",
       "\n",
       "[643 rows x 9 columns]"
      ]
     },
     "execution_count": 125,
     "metadata": {},
     "output_type": "execute_result"
    }
   ],
   "source": [
    "pd.read_csv('Dataset/F_Dataset/데이터원본.csv')"
   ]
  },
  {
   "cell_type": "code",
   "execution_count": 126,
   "id": "3ba3b13d-eae3-4662-81d8-7067ed5937a7",
   "metadata": {},
   "outputs": [],
   "source": [
    "Grouped = Total.groupby(['시도명'])[['등록인구수']].sum()"
   ]
  },
  {
   "cell_type": "code",
   "execution_count": 127,
   "id": "a5ec6ac3-506a-4a13-ba8c-4553054ac3ea",
   "metadata": {},
   "outputs": [
    {
     "data": {
      "text/html": [
       "<div>\n",
       "<style scoped>\n",
       "    .dataframe tbody tr th:only-of-type {\n",
       "        vertical-align: middle;\n",
       "    }\n",
       "\n",
       "    .dataframe tbody tr th {\n",
       "        vertical-align: top;\n",
       "    }\n",
       "\n",
       "    .dataframe thead th {\n",
       "        text-align: right;\n",
       "    }\n",
       "</style>\n",
       "<table border=\"1\" class=\"dataframe\">\n",
       "  <thead>\n",
       "    <tr style=\"text-align: right;\">\n",
       "      <th></th>\n",
       "      <th>등록인구수</th>\n",
       "    </tr>\n",
       "    <tr>\n",
       "      <th>시도명</th>\n",
       "      <th></th>\n",
       "    </tr>\n",
       "  </thead>\n",
       "  <tbody>\n",
       "    <tr>\n",
       "      <th>강원도</th>\n",
       "      <td>1561313.0</td>\n",
       "    </tr>\n",
       "  </tbody>\n",
       "</table>\n",
       "</div>"
      ],
      "text/plain": [
       "         등록인구수\n",
       "시도명           \n",
       "강원도  1561313.0"
      ]
     },
     "execution_count": 127,
     "metadata": {},
     "output_type": "execute_result"
    }
   ],
   "source": [
    "Grouped.head(1)"
   ]
  },
  {
   "cell_type": "code",
   "execution_count": 128,
   "id": "b0d77d4d-6cc7-4e4a-b3c9-d4c91e6a5fe6",
   "metadata": {},
   "outputs": [],
   "source": [
    "Grouped = Grouped.reset_index()"
   ]
  },
  {
   "cell_type": "code",
   "execution_count": 129,
   "id": "6d4cd9cf-b39e-4a5a-b9b5-da0ed2d141e1",
   "metadata": {},
   "outputs": [],
   "source": [
    "Grouped = Grouped.rename(columns={'등록인구수':'등록인구수총계(시군구명)'})"
   ]
  },
  {
   "cell_type": "code",
   "execution_count": 130,
   "id": "5890322e-653a-49f1-bfc1-82e64b73d43f",
   "metadata": {},
   "outputs": [
    {
     "data": {
      "text/html": [
       "<div>\n",
       "<style scoped>\n",
       "    .dataframe tbody tr th:only-of-type {\n",
       "        vertical-align: middle;\n",
       "    }\n",
       "\n",
       "    .dataframe tbody tr th {\n",
       "        vertical-align: top;\n",
       "    }\n",
       "\n",
       "    .dataframe thead th {\n",
       "        text-align: right;\n",
       "    }\n",
       "</style>\n",
       "<table border=\"1\" class=\"dataframe\">\n",
       "  <thead>\n",
       "    <tr style=\"text-align: right;\">\n",
       "      <th></th>\n",
       "      <th>시도명</th>\n",
       "      <th>등록인구수총계(시군구명)</th>\n",
       "    </tr>\n",
       "  </thead>\n",
       "  <tbody>\n",
       "    <tr>\n",
       "      <th>0</th>\n",
       "      <td>강원도</td>\n",
       "      <td>1561313.0</td>\n",
       "    </tr>\n",
       "  </tbody>\n",
       "</table>\n",
       "</div>"
      ],
      "text/plain": [
       "   시도명  등록인구수총계(시군구명)\n",
       "0  강원도      1561313.0"
      ]
     },
     "execution_count": 130,
     "metadata": {},
     "output_type": "execute_result"
    }
   ],
   "source": [
    "Grouped.head(1)"
   ]
  },
  {
   "cell_type": "code",
   "execution_count": 131,
   "id": "f3397823-33e7-4b06-807d-7d00624832bf",
   "metadata": {},
   "outputs": [],
   "source": [
    "A = pd.merge(Total,Grouped,on=(['시도명']),how='left')"
   ]
  },
  {
   "cell_type": "code",
   "execution_count": 132,
   "id": "b4fd83cd-bae0-4ad8-89d7-05b0f0215862",
   "metadata": {},
   "outputs": [
    {
     "data": {
      "text/html": [
       "<div>\n",
       "<style scoped>\n",
       "    .dataframe tbody tr th:only-of-type {\n",
       "        vertical-align: middle;\n",
       "    }\n",
       "\n",
       "    .dataframe tbody tr th {\n",
       "        vertical-align: top;\n",
       "    }\n",
       "\n",
       "    .dataframe thead th {\n",
       "        text-align: right;\n",
       "    }\n",
       "</style>\n",
       "<table border=\"1\" class=\"dataframe\">\n",
       "  <thead>\n",
       "    <tr style=\"text-align: right;\">\n",
       "      <th></th>\n",
       "      <th>시도명</th>\n",
       "      <th>시군구명</th>\n",
       "      <th>읍/면/동</th>\n",
       "      <th>설치유무</th>\n",
       "      <th>등록인구수</th>\n",
       "      <th>어린이보호구역개수</th>\n",
       "      <th>화재발생횟수</th>\n",
       "      <th>범죄총계(구)</th>\n",
       "      <th>관광지개수</th>\n",
       "      <th>등록인구수총계(시군구명)</th>\n",
       "    </tr>\n",
       "  </thead>\n",
       "  <tbody>\n",
       "    <tr>\n",
       "      <th>0</th>\n",
       "      <td>강원도</td>\n",
       "      <td>강릉시</td>\n",
       "      <td>주문진읍</td>\n",
       "      <td>1.0</td>\n",
       "      <td>17085.0</td>\n",
       "      <td>8.0</td>\n",
       "      <td>0.0</td>\n",
       "      <td>328.0</td>\n",
       "      <td>1.0</td>\n",
       "      <td>1561313.0</td>\n",
       "    </tr>\n",
       "  </tbody>\n",
       "</table>\n",
       "</div>"
      ],
      "text/plain": [
       "   시도명 시군구명 읍/면/동  설치유무    등록인구수  어린이보호구역개수  화재발생횟수  범죄총계(구)  관광지개수  \\\n",
       "0  강원도  강릉시  주문진읍   1.0  17085.0        8.0     0.0    328.0    1.0   \n",
       "\n",
       "   등록인구수총계(시군구명)  \n",
       "0      1561313.0  "
      ]
     },
     "execution_count": 132,
     "metadata": {},
     "output_type": "execute_result"
    }
   ],
   "source": [
    "A.head(1)"
   ]
  },
  {
   "cell_type": "code",
   "execution_count": 133,
   "id": "c9bef383-777e-405e-96e8-521847a96214",
   "metadata": {},
   "outputs": [],
   "source": [
    "A['인구밀도비율(구)'] = A['등록인구수'] / A['등록인구수총계(시군구명)']"
   ]
  },
  {
   "cell_type": "code",
   "execution_count": 134,
   "id": "5aaaee1f-19ca-43db-b2f0-371202312e96",
   "metadata": {},
   "outputs": [
    {
     "data": {
      "text/html": [
       "<div>\n",
       "<style scoped>\n",
       "    .dataframe tbody tr th:only-of-type {\n",
       "        vertical-align: middle;\n",
       "    }\n",
       "\n",
       "    .dataframe tbody tr th {\n",
       "        vertical-align: top;\n",
       "    }\n",
       "\n",
       "    .dataframe thead th {\n",
       "        text-align: right;\n",
       "    }\n",
       "</style>\n",
       "<table border=\"1\" class=\"dataframe\">\n",
       "  <thead>\n",
       "    <tr style=\"text-align: right;\">\n",
       "      <th></th>\n",
       "      <th>시도명</th>\n",
       "      <th>시군구명</th>\n",
       "      <th>읍/면/동</th>\n",
       "      <th>설치유무</th>\n",
       "      <th>등록인구수</th>\n",
       "      <th>어린이보호구역개수</th>\n",
       "      <th>화재발생횟수</th>\n",
       "      <th>범죄총계(구)</th>\n",
       "      <th>관광지개수</th>\n",
       "      <th>등록인구수총계(시군구명)</th>\n",
       "      <th>인구밀도비율(구)</th>\n",
       "    </tr>\n",
       "  </thead>\n",
       "  <tbody>\n",
       "    <tr>\n",
       "      <th>0</th>\n",
       "      <td>강원도</td>\n",
       "      <td>강릉시</td>\n",
       "      <td>주문진읍</td>\n",
       "      <td>1.0</td>\n",
       "      <td>17085.0</td>\n",
       "      <td>8.0</td>\n",
       "      <td>0.0</td>\n",
       "      <td>328.0</td>\n",
       "      <td>1.0</td>\n",
       "      <td>1561313.0</td>\n",
       "      <td>0.010943</td>\n",
       "    </tr>\n",
       "  </tbody>\n",
       "</table>\n",
       "</div>"
      ],
      "text/plain": [
       "   시도명 시군구명 읍/면/동  설치유무    등록인구수  어린이보호구역개수  화재발생횟수  범죄총계(구)  관광지개수  \\\n",
       "0  강원도  강릉시  주문진읍   1.0  17085.0        8.0     0.0    328.0    1.0   \n",
       "\n",
       "   등록인구수총계(시군구명)  인구밀도비율(구)  \n",
       "0      1561313.0   0.010943  "
      ]
     },
     "execution_count": 134,
     "metadata": {},
     "output_type": "execute_result"
    }
   ],
   "source": [
    "A.head(1)"
   ]
  },
  {
   "cell_type": "code",
   "execution_count": 135,
   "id": "07f5a38c-9fc9-4db7-a818-b62a59b76225",
   "metadata": {},
   "outputs": [],
   "source": [
    "A['예상범죄발생횟수'] = A['인구밀도비율(구)'] * A['범죄총계(구)']"
   ]
  },
  {
   "cell_type": "code",
   "execution_count": 136,
   "id": "357a8dd0-b37b-4d1e-a120-6e9dfe58ca56",
   "metadata": {},
   "outputs": [
    {
     "data": {
      "text/plain": [
       "9.0"
      ]
     },
     "execution_count": 136,
     "metadata": {},
     "output_type": "execute_result"
    }
   ],
   "source": [
    "A['인구밀도비율(구)'].sum()"
   ]
  },
  {
   "cell_type": "code",
   "execution_count": 137,
   "id": "9329eeda-63dd-4bcb-a35e-530ce5bc0ab7",
   "metadata": {},
   "outputs": [
    {
     "data": {
      "text/html": [
       "<div>\n",
       "<style scoped>\n",
       "    .dataframe tbody tr th:only-of-type {\n",
       "        vertical-align: middle;\n",
       "    }\n",
       "\n",
       "    .dataframe tbody tr th {\n",
       "        vertical-align: top;\n",
       "    }\n",
       "\n",
       "    .dataframe thead th {\n",
       "        text-align: right;\n",
       "    }\n",
       "</style>\n",
       "<table border=\"1\" class=\"dataframe\">\n",
       "  <thead>\n",
       "    <tr style=\"text-align: right;\">\n",
       "      <th></th>\n",
       "      <th>시도명</th>\n",
       "      <th>시군구명</th>\n",
       "      <th>읍/면/동</th>\n",
       "      <th>설치유무</th>\n",
       "      <th>등록인구수</th>\n",
       "      <th>어린이보호구역개수</th>\n",
       "      <th>화재발생횟수</th>\n",
       "      <th>범죄총계(구)</th>\n",
       "      <th>관광지개수</th>\n",
       "      <th>등록인구수총계(시군구명)</th>\n",
       "      <th>인구밀도비율(구)</th>\n",
       "      <th>예상범죄발생횟수</th>\n",
       "    </tr>\n",
       "  </thead>\n",
       "  <tbody>\n",
       "    <tr>\n",
       "      <th>0</th>\n",
       "      <td>강원도</td>\n",
       "      <td>강릉시</td>\n",
       "      <td>주문진읍</td>\n",
       "      <td>1.0</td>\n",
       "      <td>17085.0</td>\n",
       "      <td>8.0</td>\n",
       "      <td>0.0</td>\n",
       "      <td>328.0</td>\n",
       "      <td>1.0</td>\n",
       "      <td>1561313.0</td>\n",
       "      <td>0.010943</td>\n",
       "      <td>3.58921</td>\n",
       "    </tr>\n",
       "  </tbody>\n",
       "</table>\n",
       "</div>"
      ],
      "text/plain": [
       "   시도명 시군구명 읍/면/동  설치유무    등록인구수  어린이보호구역개수  화재발생횟수  범죄총계(구)  관광지개수  \\\n",
       "0  강원도  강릉시  주문진읍   1.0  17085.0        8.0     0.0    328.0    1.0   \n",
       "\n",
       "   등록인구수총계(시군구명)  인구밀도비율(구)  예상범죄발생횟수  \n",
       "0      1561313.0   0.010943   3.58921  "
      ]
     },
     "execution_count": 137,
     "metadata": {},
     "output_type": "execute_result"
    }
   ],
   "source": [
    "A.head(1)"
   ]
  },
  {
   "cell_type": "code",
   "execution_count": 138,
   "id": "6e3858ec-1741-42c7-a5e7-c32acb785be4",
   "metadata": {},
   "outputs": [],
   "source": [
    "A.to_csv('Dataset/F_Dataset/파생변수데이터셋.csv',index=0)"
   ]
  },
  {
   "cell_type": "code",
   "execution_count": 139,
   "id": "c3749907-a0a8-4611-be02-b5a517069732",
   "metadata": {},
   "outputs": [
    {
     "data": {
      "text/html": [
       "<div>\n",
       "<style scoped>\n",
       "    .dataframe tbody tr th:only-of-type {\n",
       "        vertical-align: middle;\n",
       "    }\n",
       "\n",
       "    .dataframe tbody tr th {\n",
       "        vertical-align: top;\n",
       "    }\n",
       "\n",
       "    .dataframe thead th {\n",
       "        text-align: right;\n",
       "    }\n",
       "</style>\n",
       "<table border=\"1\" class=\"dataframe\">\n",
       "  <thead>\n",
       "    <tr style=\"text-align: right;\">\n",
       "      <th></th>\n",
       "      <th>시도명</th>\n",
       "      <th>시군구명</th>\n",
       "      <th>읍/면/동</th>\n",
       "      <th>설치유무</th>\n",
       "      <th>등록인구수</th>\n",
       "      <th>어린이보호구역개수</th>\n",
       "      <th>화재발생횟수</th>\n",
       "      <th>범죄총계(구)</th>\n",
       "      <th>관광지개수</th>\n",
       "      <th>등록인구수총계(시군구명)</th>\n",
       "      <th>인구밀도비율(구)</th>\n",
       "      <th>예상범죄발생횟수</th>\n",
       "    </tr>\n",
       "  </thead>\n",
       "  <tbody>\n",
       "    <tr>\n",
       "      <th>0</th>\n",
       "      <td>강원도</td>\n",
       "      <td>강릉시</td>\n",
       "      <td>주문진읍</td>\n",
       "      <td>1.0</td>\n",
       "      <td>17085.0</td>\n",
       "      <td>8.0</td>\n",
       "      <td>0.0</td>\n",
       "      <td>328.0</td>\n",
       "      <td>1.0</td>\n",
       "      <td>1561313.0</td>\n",
       "      <td>0.010943</td>\n",
       "      <td>3.58921</td>\n",
       "    </tr>\n",
       "  </tbody>\n",
       "</table>\n",
       "</div>"
      ],
      "text/plain": [
       "   시도명 시군구명 읍/면/동  설치유무    등록인구수  어린이보호구역개수  화재발생횟수  범죄총계(구)  관광지개수  \\\n",
       "0  강원도  강릉시  주문진읍   1.0  17085.0        8.0     0.0    328.0    1.0   \n",
       "\n",
       "   등록인구수총계(시군구명)  인구밀도비율(구)  예상범죄발생횟수  \n",
       "0      1561313.0   0.010943   3.58921  "
      ]
     },
     "execution_count": 139,
     "metadata": {},
     "output_type": "execute_result"
    }
   ],
   "source": [
    "A.head(1)"
   ]
  },
  {
   "cell_type": "code",
   "execution_count": 140,
   "id": "271f8acc-a7da-4c40-b572-d50fd5edaebd",
   "metadata": {},
   "outputs": [],
   "source": [
    "A = A.drop(['범죄총계(구)','등록인구수총계(시군구명)','인구밀도비율(구)'],axis=1)"
   ]
  },
  {
   "cell_type": "code",
   "execution_count": 141,
   "id": "8f8cab9e-6407-4501-95b4-5b61074e7a9e",
   "metadata": {},
   "outputs": [
    {
     "data": {
      "text/html": [
       "<div>\n",
       "<style scoped>\n",
       "    .dataframe tbody tr th:only-of-type {\n",
       "        vertical-align: middle;\n",
       "    }\n",
       "\n",
       "    .dataframe tbody tr th {\n",
       "        vertical-align: top;\n",
       "    }\n",
       "\n",
       "    .dataframe thead th {\n",
       "        text-align: right;\n",
       "    }\n",
       "</style>\n",
       "<table border=\"1\" class=\"dataframe\">\n",
       "  <thead>\n",
       "    <tr style=\"text-align: right;\">\n",
       "      <th></th>\n",
       "      <th>시도명</th>\n",
       "      <th>시군구명</th>\n",
       "      <th>읍/면/동</th>\n",
       "      <th>설치유무</th>\n",
       "      <th>등록인구수</th>\n",
       "      <th>어린이보호구역개수</th>\n",
       "      <th>화재발생횟수</th>\n",
       "      <th>관광지개수</th>\n",
       "      <th>예상범죄발생횟수</th>\n",
       "    </tr>\n",
       "  </thead>\n",
       "  <tbody>\n",
       "    <tr>\n",
       "      <th>0</th>\n",
       "      <td>강원도</td>\n",
       "      <td>강릉시</td>\n",
       "      <td>주문진읍</td>\n",
       "      <td>1.0</td>\n",
       "      <td>17085.0</td>\n",
       "      <td>8.0</td>\n",
       "      <td>0.0</td>\n",
       "      <td>1.0</td>\n",
       "      <td>3.58921</td>\n",
       "    </tr>\n",
       "  </tbody>\n",
       "</table>\n",
       "</div>"
      ],
      "text/plain": [
       "   시도명 시군구명 읍/면/동  설치유무    등록인구수  어린이보호구역개수  화재발생횟수  관광지개수  예상범죄발생횟수\n",
       "0  강원도  강릉시  주문진읍   1.0  17085.0        8.0     0.0    1.0   3.58921"
      ]
     },
     "execution_count": 141,
     "metadata": {},
     "output_type": "execute_result"
    }
   ],
   "source": [
    "A.head(1)"
   ]
  },
  {
   "cell_type": "code",
   "execution_count": 142,
   "id": "6d3406ad-5097-480b-a123-ae77e596e4af",
   "metadata": {},
   "outputs": [],
   "source": [
    "A.to_csv('Dataset/F_Dataset/파생변수_정리데이터셋.csv',index=0)"
   ]
  },
  {
   "cell_type": "code",
   "execution_count": 143,
   "id": "7a7fe9ae-ce07-414f-a478-7ec1e40584cb",
   "metadata": {},
   "outputs": [
    {
     "data": {
      "text/html": [
       "<div>\n",
       "<style scoped>\n",
       "    .dataframe tbody tr th:only-of-type {\n",
       "        vertical-align: middle;\n",
       "    }\n",
       "\n",
       "    .dataframe tbody tr th {\n",
       "        vertical-align: top;\n",
       "    }\n",
       "\n",
       "    .dataframe thead th {\n",
       "        text-align: right;\n",
       "    }\n",
       "</style>\n",
       "<table border=\"1\" class=\"dataframe\">\n",
       "  <thead>\n",
       "    <tr style=\"text-align: right;\">\n",
       "      <th></th>\n",
       "      <th>시도명</th>\n",
       "      <th>시군구명</th>\n",
       "      <th>읍/면/동</th>\n",
       "      <th>설치유무</th>\n",
       "      <th>등록인구수</th>\n",
       "      <th>어린이보호구역개수</th>\n",
       "      <th>화재발생횟수</th>\n",
       "      <th>관광지개수</th>\n",
       "      <th>예상범죄발생횟수</th>\n",
       "    </tr>\n",
       "  </thead>\n",
       "  <tbody>\n",
       "    <tr>\n",
       "      <th>0</th>\n",
       "      <td>강원도</td>\n",
       "      <td>강릉시</td>\n",
       "      <td>주문진읍</td>\n",
       "      <td>1.0</td>\n",
       "      <td>0.081903</td>\n",
       "      <td>0.1000</td>\n",
       "      <td>0.0</td>\n",
       "      <td>0.2</td>\n",
       "      <td>0.007257</td>\n",
       "    </tr>\n",
       "    <tr>\n",
       "      <th>1</th>\n",
       "      <td>강원도</td>\n",
       "      <td>강릉시</td>\n",
       "      <td>성산면</td>\n",
       "      <td>0.0</td>\n",
       "      <td>0.015829</td>\n",
       "      <td>0.0375</td>\n",
       "      <td>0.0</td>\n",
       "      <td>0.2</td>\n",
       "      <td>0.001387</td>\n",
       "    </tr>\n",
       "  </tbody>\n",
       "</table>\n",
       "</div>"
      ],
      "text/plain": [
       "   시도명 시군구명 읍/면/동  설치유무     등록인구수  어린이보호구역개수  화재발생횟수  관광지개수  예상범죄발생횟수\n",
       "0  강원도  강릉시  주문진읍   1.0  0.081903     0.1000     0.0    0.2  0.007257\n",
       "1  강원도  강릉시   성산면   0.0  0.015829     0.0375     0.0    0.2  0.001387"
      ]
     },
     "execution_count": 143,
     "metadata": {},
     "output_type": "execute_result"
    }
   ],
   "source": [
    "from sklearn.preprocessing import MinMaxScaler\n",
    "scaler = MinMaxScaler()\n",
    "features=[['등록인구수','어린이보호구역개수','화재발생횟수','관광지개수','예상범죄발생횟수']]\n",
    "for feature in features:\n",
    "    A[feature] = scaler.fit_transform(A[feature])\n",
    "A.head(2)"
   ]
  },
  {
   "cell_type": "code",
   "execution_count": 144,
   "id": "4c01e7d2-573b-4485-9fcf-1a266804b986",
   "metadata": {},
   "outputs": [],
   "source": [
    "A.to_csv('Dataset/F_Dataset/최종데이터셋.csv',index=0)"
   ]
  },
  {
   "cell_type": "code",
   "execution_count": 145,
   "id": "691dcc94-7b80-4731-bda7-a755e683cb05",
   "metadata": {},
   "outputs": [],
   "source": [
    "A = pd.read_csv('Dataset/F_Dataset/최종데이터셋.csv')"
   ]
  },
  {
   "cell_type": "code",
   "execution_count": 146,
   "id": "f34730f1-1a1e-4084-bc73-8dbf65c6699a",
   "metadata": {},
   "outputs": [
    {
     "data": {
      "text/html": [
       "<div>\n",
       "<style scoped>\n",
       "    .dataframe tbody tr th:only-of-type {\n",
       "        vertical-align: middle;\n",
       "    }\n",
       "\n",
       "    .dataframe tbody tr th {\n",
       "        vertical-align: top;\n",
       "    }\n",
       "\n",
       "    .dataframe thead th {\n",
       "        text-align: right;\n",
       "    }\n",
       "</style>\n",
       "<table border=\"1\" class=\"dataframe\">\n",
       "  <thead>\n",
       "    <tr style=\"text-align: right;\">\n",
       "      <th></th>\n",
       "      <th>설치유무</th>\n",
       "      <th>등록인구수</th>\n",
       "      <th>어린이보호구역개수</th>\n",
       "      <th>화재발생횟수</th>\n",
       "      <th>관광지개수</th>\n",
       "      <th>예상범죄발생횟수</th>\n",
       "    </tr>\n",
       "  </thead>\n",
       "  <tbody>\n",
       "    <tr>\n",
       "      <th>설치유무</th>\n",
       "      <td>1.000000</td>\n",
       "      <td>-0.094284</td>\n",
       "      <td>-0.006521</td>\n",
       "      <td>-0.096913</td>\n",
       "      <td>0.091346</td>\n",
       "      <td>0.231307</td>\n",
       "    </tr>\n",
       "    <tr>\n",
       "      <th>등록인구수</th>\n",
       "      <td>-0.094284</td>\n",
       "      <td>1.000000</td>\n",
       "      <td>0.811589</td>\n",
       "      <td>0.788874</td>\n",
       "      <td>0.006554</td>\n",
       "      <td>0.235147</td>\n",
       "    </tr>\n",
       "    <tr>\n",
       "      <th>어린이보호구역개수</th>\n",
       "      <td>-0.006521</td>\n",
       "      <td>0.811589</td>\n",
       "      <td>1.000000</td>\n",
       "      <td>0.741144</td>\n",
       "      <td>-0.014155</td>\n",
       "      <td>0.170189</td>\n",
       "    </tr>\n",
       "    <tr>\n",
       "      <th>화재발생횟수</th>\n",
       "      <td>-0.096913</td>\n",
       "      <td>0.788874</td>\n",
       "      <td>0.741144</td>\n",
       "      <td>1.000000</td>\n",
       "      <td>-0.004895</td>\n",
       "      <td>0.080852</td>\n",
       "    </tr>\n",
       "    <tr>\n",
       "      <th>관광지개수</th>\n",
       "      <td>0.091346</td>\n",
       "      <td>0.006554</td>\n",
       "      <td>-0.014155</td>\n",
       "      <td>-0.004895</td>\n",
       "      <td>1.000000</td>\n",
       "      <td>0.078242</td>\n",
       "    </tr>\n",
       "    <tr>\n",
       "      <th>예상범죄발생횟수</th>\n",
       "      <td>0.231307</td>\n",
       "      <td>0.235147</td>\n",
       "      <td>0.170189</td>\n",
       "      <td>0.080852</td>\n",
       "      <td>0.078242</td>\n",
       "      <td>1.000000</td>\n",
       "    </tr>\n",
       "  </tbody>\n",
       "</table>\n",
       "</div>"
      ],
      "text/plain": [
       "               설치유무     등록인구수  어린이보호구역개수    화재발생횟수     관광지개수  예상범죄발생횟수\n",
       "설치유무       1.000000 -0.094284  -0.006521 -0.096913  0.091346  0.231307\n",
       "등록인구수     -0.094284  1.000000   0.811589  0.788874  0.006554  0.235147\n",
       "어린이보호구역개수 -0.006521  0.811589   1.000000  0.741144 -0.014155  0.170189\n",
       "화재발생횟수    -0.096913  0.788874   0.741144  1.000000 -0.004895  0.080852\n",
       "관광지개수      0.091346  0.006554  -0.014155 -0.004895  1.000000  0.078242\n",
       "예상범죄발생횟수   0.231307  0.235147   0.170189  0.080852  0.078242  1.000000"
      ]
     },
     "execution_count": 146,
     "metadata": {},
     "output_type": "execute_result"
    }
   ],
   "source": [
    "A.corr()"
   ]
  },
  {
   "cell_type": "code",
   "execution_count": 220,
   "id": "5ccf8b4e-f9f4-4599-8773-c268b35b61f2",
   "metadata": {},
   "outputs": [],
   "source": [
    "제외내용 = '화재발생횟수제외'"
   ]
  },
  {
   "cell_type": "code",
   "execution_count": 221,
   "id": "3cc0f80e-9cd0-414a-a58d-c06143d43d76",
   "metadata": {},
   "outputs": [],
   "source": [
    "Test3= A[['설치유무','등록인구수','어린이보호구역개수','관광지개수','예상범죄발생횟수']]"
   ]
  },
  {
   "cell_type": "code",
   "execution_count": 222,
   "id": "e9e69c28-34f8-4fac-b7ea-e3df514a2800",
   "metadata": {},
   "outputs": [],
   "source": [
    "Test3.to_csv('Dataset/F_Dataset/머신러닝결과/머신러닝Test3차.csv',index=0)"
   ]
  },
  {
   "cell_type": "code",
   "execution_count": 223,
   "id": "52785060-c248-4ca7-995a-1f7b6abf4303",
   "metadata": {},
   "outputs": [],
   "source": [
    "Test3 = pd.read_csv('Dataset/F_Dataset/머신러닝결과/머신러닝Test3차.csv')"
   ]
  },
  {
   "cell_type": "code",
   "execution_count": 224,
   "id": "0bf5163f-0069-4e34-822f-19e09f510b3e",
   "metadata": {},
   "outputs": [
    {
     "data": {
      "text/plain": [
       "Index(['설치유무', '등록인구수', '어린이보호구역개수', '관광지개수', '예상범죄발생횟수'], dtype='object')"
      ]
     },
     "execution_count": 224,
     "metadata": {},
     "output_type": "execute_result"
    }
   ],
   "source": [
    "Test3.columns"
   ]
  },
  {
   "cell_type": "code",
   "execution_count": 228,
   "id": "12969ef8-58e6-4ed9-9c27-ca94f69761ca",
   "metadata": {},
   "outputs": [
    {
     "name": "stdout",
     "output_type": "stream",
     "text": [
      "(514, 4)\n",
      "(129, 4) \n",
      "\n",
      "Test3(화재발생횟수제외)\n",
      "rf 정확도:0.8914728682170543, lr 정확도:0.875968992248062\n"
     ]
    }
   ],
   "source": [
    "# 모델 평가 준비 작업\n",
    "from sklearn import preprocessing\n",
    "from sklearn.model_selection import train_test_split\n",
    "\n",
    "# 독립변수, 종속변수 분리\n",
    "y_t_df = Test3['설치유무'] # 종속변수\n",
    "X_t_df = Test3.drop('설치유무', axis = 1) # 독립변수\n",
    "\n",
    "# 독립변수 정규화\n",
    "# X_t_df = preprocessing.StandardScaler().fit(X_t_df).transform(X_t_df)\n",
    "\n",
    "# 학습용 데이터와 평가용 데이터를 8:2 혹은 7:3으로 분리\n",
    "X_train, X_test, y_train, y_test = train_test_split(X_t_df, y_t_df, test_size = 0.2,\n",
    "                                                   random_state = 11)\n",
    "\n",
    "print(X_train.shape)\n",
    "print(X_test.shape,'\\n')\n",
    "\n",
    "# 모델 학습 및 평가\n",
    "from sklearn.metrics import accuracy_score\n",
    "from sklearn.linear_model import LogisticRegression\n",
    "from sklearn.ensemble import RandomForestClassifier\n",
    "\n",
    "rf_model = RandomForestClassifier()\n",
    "rf_model.fit(X_train, y_train)\n",
    "rf_pred = rf_model.predict(X_test)\n",
    "accuracy_rf = accuracy_score(y_test, rf_pred)\n",
    "\n",
    "lr_model = LogisticRegression()\n",
    "lr_model.fit(X_train,y_train)\n",
    "lr_pred = lr_model.predict(X_test)\n",
    "accuracy_lr = accuracy_score(y_test,lr_pred)\n",
    "\n",
    "print(f'Test3({제외내용})')\n",
    "print('rf 정확도:{}, lr 정확도:{}'.format(accuracy_rf,accuracy_lr))"
   ]
  },
  {
   "cell_type": "code",
   "execution_count": 232,
   "id": "5fb1ed58-f081-4cf6-84a1-f0b03da44052",
   "metadata": {},
   "outputs": [
    {
     "data": {
      "text/plain": [
       "Text(0.5, 1.0, 'Heatmap of the Dataset')"
      ]
     },
     "execution_count": 232,
     "metadata": {},
     "output_type": "execute_result"
    },
    {
     "data": {
      "image/png": "[encoded data removed]",
      "text/plain": [
       "<Figure size 720x576 with 2 Axes>"
      ]
     },
     "metadata": {},
     "output_type": "display_data"
    }
   ],
   "source": [
    "sns.heatmap(A[['설치유무','등록인구수','어린이보호구역개수','화재발생횟수','관광지개수','예상범죄발생횟수']].corr(),annot=True)\n",
    "plt.title('Heatmap of the Dataset',fontsize=20)"
   ]
  },
  {
   "cell_type": "code",
   "execution_count": 3,
   "id": "5e058c25-444f-44b0-8f16-2ae0cc555171",
   "metadata": {},
   "outputs": [],
   "source": [
    "A = pd.read_csv('Dataset/F_Dataset/최종데이터셋.csv')"
   ]
  },
  {
   "cell_type": "code",
   "execution_count": 7,
   "id": "f5920f72",
   "metadata": {},
   "outputs": [
    {
     "data": {
      "text/plain": [
       "'정규화완료 Dataset'"
      ]
     },
     "metadata": {},
     "output_type": "display_data"
    },
    {
     "data": {
      "text/html": [
       "<div>\n",
       "<style scoped>\n",
       "    .dataframe tbody tr th:only-of-type {\n",
       "        vertical-align: middle;\n",
       "    }\n",
       "\n",
       "    .dataframe tbody tr th {\n",
       "        vertical-align: top;\n",
       "    }\n",
       "\n",
       "    .dataframe thead th {\n",
       "        text-align: right;\n",
       "    }\n",
       "</style>\n",
       "<table border=\"1\" class=\"dataframe\">\n",
       "  <thead>\n",
       "    <tr style=\"text-align: right;\">\n",
       "      <th></th>\n",
       "      <th>시도명</th>\n",
       "      <th>시군구명</th>\n",
       "      <th>읍/면/동</th>\n",
       "      <th>설치유무</th>\n",
       "      <th>등록인구수</th>\n",
       "      <th>어린이보호구역개수</th>\n",
       "      <th>화재발생횟수</th>\n",
       "      <th>관광지개수</th>\n",
       "      <th>예상범죄발생횟수</th>\n",
       "    </tr>\n",
       "  </thead>\n",
       "  <tbody>\n",
       "    <tr>\n",
       "      <th>0</th>\n",
       "      <td>강원도</td>\n",
       "      <td>강릉시</td>\n",
       "      <td>주문진읍</td>\n",
       "      <td>1.0</td>\n",
       "      <td>0.081903</td>\n",
       "      <td>0.1000</td>\n",
       "      <td>0.0</td>\n",
       "      <td>0.2</td>\n",
       "      <td>0.007257</td>\n",
       "    </tr>\n",
       "    <tr>\n",
       "      <th>1</th>\n",
       "      <td>강원도</td>\n",
       "      <td>강릉시</td>\n",
       "      <td>성산면</td>\n",
       "      <td>0.0</td>\n",
       "      <td>0.015829</td>\n",
       "      <td>0.0375</td>\n",
       "      <td>0.0</td>\n",
       "      <td>0.2</td>\n",
       "      <td>0.001387</td>\n",
       "    </tr>\n",
       "    <tr>\n",
       "      <th>2</th>\n",
       "      <td>강원도</td>\n",
       "      <td>강릉시</td>\n",
       "      <td>왕산면</td>\n",
       "      <td>0.0</td>\n",
       "      <td>0.007408</td>\n",
       "      <td>0.0250</td>\n",
       "      <td>0.0</td>\n",
       "      <td>0.0</td>\n",
       "      <td>0.000639</td>\n",
       "    </tr>\n",
       "    <tr>\n",
       "      <th>3</th>\n",
       "      <td>강원도</td>\n",
       "      <td>강릉시</td>\n",
       "      <td>구정면</td>\n",
       "      <td>0.0</td>\n",
       "      <td>0.019221</td>\n",
       "      <td>0.0625</td>\n",
       "      <td>0.0</td>\n",
       "      <td>0.0</td>\n",
       "      <td>0.001688</td>\n",
       "    </tr>\n",
       "    <tr>\n",
       "      <th>4</th>\n",
       "      <td>강원도</td>\n",
       "      <td>강릉시</td>\n",
       "      <td>강동면</td>\n",
       "      <td>1.0</td>\n",
       "      <td>0.022088</td>\n",
       "      <td>0.0375</td>\n",
       "      <td>0.0</td>\n",
       "      <td>0.0</td>\n",
       "      <td>0.001943</td>\n",
       "    </tr>\n",
       "    <tr>\n",
       "      <th>...</th>\n",
       "      <td>...</td>\n",
       "      <td>...</td>\n",
       "      <td>...</td>\n",
       "      <td>...</td>\n",
       "      <td>...</td>\n",
       "      <td>...</td>\n",
       "      <td>...</td>\n",
       "      <td>...</td>\n",
       "      <td>...</td>\n",
       "    </tr>\n",
       "    <tr>\n",
       "      <th>638</th>\n",
       "      <td>충청북도</td>\n",
       "      <td>진천군</td>\n",
       "      <td>초평면</td>\n",
       "      <td>1.0</td>\n",
       "      <td>0.016383</td>\n",
       "      <td>0.0500</td>\n",
       "      <td>0.0</td>\n",
       "      <td>0.0</td>\n",
       "      <td>0.083195</td>\n",
       "    </tr>\n",
       "    <tr>\n",
       "      <th>639</th>\n",
       "      <td>충청북도</td>\n",
       "      <td>진천군</td>\n",
       "      <td>문백면</td>\n",
       "      <td>1.0</td>\n",
       "      <td>0.019467</td>\n",
       "      <td>0.0500</td>\n",
       "      <td>0.0</td>\n",
       "      <td>0.0</td>\n",
       "      <td>0.098362</td>\n",
       "    </tr>\n",
       "    <tr>\n",
       "      <th>640</th>\n",
       "      <td>충청북도</td>\n",
       "      <td>진천군</td>\n",
       "      <td>백곡면</td>\n",
       "      <td>1.0</td>\n",
       "      <td>0.009912</td>\n",
       "      <td>0.0250</td>\n",
       "      <td>0.0</td>\n",
       "      <td>0.0</td>\n",
       "      <td>0.051366</td>\n",
       "    </tr>\n",
       "    <tr>\n",
       "      <th>641</th>\n",
       "      <td>충청북도</td>\n",
       "      <td>진천군</td>\n",
       "      <td>이월면</td>\n",
       "      <td>0.0</td>\n",
       "      <td>0.038437</td>\n",
       "      <td>0.0750</td>\n",
       "      <td>0.0</td>\n",
       "      <td>0.0</td>\n",
       "      <td>0.191664</td>\n",
       "    </tr>\n",
       "    <tr>\n",
       "      <th>642</th>\n",
       "      <td>충청북도</td>\n",
       "      <td>진천군</td>\n",
       "      <td>광혜원면</td>\n",
       "      <td>1.0</td>\n",
       "      <td>0.057407</td>\n",
       "      <td>0.0375</td>\n",
       "      <td>0.0</td>\n",
       "      <td>0.0</td>\n",
       "      <td>0.284967</td>\n",
       "    </tr>\n",
       "  </tbody>\n",
       "</table>\n",
       "<p>643 rows × 9 columns</p>\n",
       "</div>"
      ],
      "text/plain": [
       "      시도명 시군구명 읍/면/동  설치유무     등록인구수  어린이보호구역개수  화재발생횟수  관광지개수  예상범죄발생횟수\n",
       "0     강원도  강릉시  주문진읍   1.0  0.081903     0.1000     0.0    0.2  0.007257\n",
       "1     강원도  강릉시   성산면   0.0  0.015829     0.0375     0.0    0.2  0.001387\n",
       "2     강원도  강릉시   왕산면   0.0  0.007408     0.0250     0.0    0.0  0.000639\n",
       "3     강원도  강릉시   구정면   0.0  0.019221     0.0625     0.0    0.0  0.001688\n",
       "4     강원도  강릉시   강동면   1.0  0.022088     0.0375     0.0    0.0  0.001943\n",
       "..    ...  ...   ...   ...       ...        ...     ...    ...       ...\n",
       "638  충청북도  진천군   초평면   1.0  0.016383     0.0500     0.0    0.0  0.083195\n",
       "639  충청북도  진천군   문백면   1.0  0.019467     0.0500     0.0    0.0  0.098362\n",
       "640  충청북도  진천군   백곡면   1.0  0.009912     0.0250     0.0    0.0  0.051366\n",
       "641  충청북도  진천군   이월면   0.0  0.038437     0.0750     0.0    0.0  0.191664\n",
       "642  충청북도  진천군  광혜원면   1.0  0.057407     0.0375     0.0    0.0  0.284967\n",
       "\n",
       "[643 rows x 9 columns]"
      ]
     },
     "metadata": {},
     "output_type": "display_data"
    }
   ],
   "source": [
    "display('정규화완료 Dataset')\n",
    "display(A)"
   ]
  },
  {
   "cell_type": "code",
   "execution_count": null,
   "id": "ffe79bc1",
   "metadata": {},
   "outputs": [],
   "source": []
  },
  {
   "cell_type": "code",
   "execution_count": 4,
   "id": "8476891e-1dac-42f3-a630-c80dc7ba3212",
   "metadata": {},
   "outputs": [
    {
     "data": {
      "text/plain": [
       "<AxesSubplot:xlabel='등록인구수', ylabel='Count'>"
      ]
     },
     "execution_count": 4,
     "metadata": {},
     "output_type": "execute_result"
    },
    {
     "data": {
      "image/png": "[encoded data removed]",
      "text/plain": [
       "<Figure size 720x576 with 1 Axes>"
      ]
     },
     "metadata": {},
     "output_type": "display_data"
    }
   ],
   "source": [
    "sns.histplot(data=A,x='등록인구수')"
   ]
  },
  {
   "cell_type": "code",
   "execution_count": 13,
   "id": "8c9ee6fc-b906-4ee4-b520-d1f289ad1ab4",
   "metadata": {},
   "outputs": [
    {
     "data": {
      "text/plain": [
       "<seaborn.axisgrid.FacetGrid at 0x18808e2afa0>"
      ]
     },
     "execution_count": 13,
     "metadata": {},
     "output_type": "execute_result"
    },
    {
     "data": {
      "image/png": "[encoded data removed]",
      "text/plain": [
       "<Figure size 416.8x360 with 1 Axes>"
      ]
     },
     "metadata": {},
     "output_type": "display_data"
    }
   ],
   "source": [
    "sns.lmplot(data=A,x='예상범죄발생횟수',y='어린이보호구역개수',hue='설치유무')"
   ]
  },
  {
   "cell_type": "code",
   "execution_count": 14,
   "id": "f91615dc-dd27-4b2c-8889-cd946c6f3cc0",
   "metadata": {},
   "outputs": [
    {
     "data": {
      "text/plain": [
       "<AxesSubplot:xlabel='예상범죄발생횟수', ylabel='Count'>"
      ]
     },
     "execution_count": 14,
     "metadata": {},
     "output_type": "execute_result"
    },
    {
     "data": {
      "image/png": "[encoded data removed]",
      "text/plain": [
       "<Figure size 720x576 with 1 Axes>"
      ]
     },
     "metadata": {},
     "output_type": "display_data"
    }
   ],
   "source": [
    "sns.histplot(data=A, x='예상범죄발생횟수')"
   ]
  },
  {
   "cell_type": "code",
   "execution_count": null,
   "id": "ae513502",
   "metadata": {},
   "outputs": [],
   "source": []
  }
 ],
 "metadata": {
  "kernelspec": {
   "display_name": "Python 3",
   "language": "python",
   "name": "python3"
  },
  "language_info": {
   "codemirror_mode": {
    "name": "ipython",
    "version": 3
   },
   "file_extension": ".py",
   "mimetype": "text/x-python",
   "name": "python",
   "nbconvert_exporter": "python",
   "pygments_lexer": "ipython3",
   "version": "3.8.8"
  }
 },
 "nbformat": 4,
 "nbformat_minor": 5
}
