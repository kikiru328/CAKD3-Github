{
 "cells": [
  {
   "cell_type": "code",
   "execution_count": 1,
   "id": "e817e2ad",
   "metadata": {
    "scrolled": true
   },
   "outputs": [],
   "source": [
    "import urllib.request as req\n",
    "from urllib.parse import unquote\n",
    "import requests\n",
    "from bs4 import BeautifulSoup as bs\n",
    "import pandas as pd\n",
    "import numpy as np\n",
    "import seaborn as sns\n",
    "import matplotlib.pyplot as plt\n",
    "%matplotlib inline\n",
    "import json\n",
    "import xmltodict"
   ]
  },
  {
   "cell_type": "code",
   "execution_count": 2,
   "id": "077ca3ba",
   "metadata": {},
   "outputs": [],
   "source": [
    "url = 'http://api.visitkorea.or.kr/openapi/service/rest/DataLabService/metcoRegnVisitrDDList'\n",
    "params = dict()\n",
    "API_KEY = '0nvWRjDWerwQGQ7dGwJhCm%2FxEkkbYBiWQXfnf%2BJkkO3dkoTpaGvyy44heAG1hY%2BjV7ZQxbK0LlDdoeer2yORHw%3D%3D'\n",
    "KEY = unquote(API_KEY)\n",
    "params['serviceKey'] = KEY\n",
    "params['MobileOS'] = 'ETC'\n",
    "params['MobileApp'] = 'TEST'\n",
    "params['numOfRows'] = 1000\n",
    "params['pageNo'] = 1\n",
    "params['startYmd'] = 20210101\n",
    "params['endYmd'] = 20210701\n",
    "params['touDivCd'] = 1\n",
    "\n",
    "response = requests.get(url,params=params)\n",
    "# http://api.visitkorea.or.kr/openapi/service/rest/DataLabService/metcoRegnVisitrDDList?serviceKey=서비스인증키\n",
    "#     &MobileOS=ETC&MobileApp=AppTest\n",
    "#     &startYmd=20210513&endYmd=2120513"
   ]
  },
  {
   "cell_type": "code",
   "execution_count": 3,
   "id": "6e3d9cf4",
   "metadata": {},
   "outputs": [
    {
     "name": "stdout",
     "output_type": "stream",
     "text": [
      "{'areaCode': '27', 'areaNm': '대구광역시', 'baseYmd': '20210428', 'daywkDivCd': '3', 'daywkDivNm': '수요일', 'touDivCd': '3', 'touDivNm': '외국인(c)', 'touNum': '260.1273705'}\n"
     ]
    }
   ],
   "source": [
    "html = response.text\n",
    "dicts = xmltodict.parse(html)\n",
    "json_obj = json.dumps(dicts)\n",
    "dict_data =json.loads(json_obj)\n",
    "dict_data1 = dict_data['response']['body']['items']['item']\n",
    "print(dict_data1[0])"
   ]
  },
  {
   "cell_type": "code",
   "execution_count": 4,
   "id": "80ec96af",
   "metadata": {},
   "outputs": [],
   "source": [
    "cols = ['시도코드','시도명','기준연월일','요일코드','요일명','관광객구분코드','관광객구분명','관광객수']\n",
    "t_df = pd.DataFrame(columns=cols)\n",
    "idx = 1\n",
    "for i in range(0,len(dict_data1)):\n",
    "    areaCode = dict_data1[i]['areaCode']\n",
    "    areaNm = dict_data1[i]['areaNm']\n",
    "    baseYmd = dict_data1[i]['baseYmd']\n",
    "    daywkDivCd = dict_data1[i]['daywkDivCd']\n",
    "    daywkDivNm = dict_data1[i]['daywkDivNm']\n",
    "    touDivCd = dict_data1[i]['touDivCd']\n",
    "    touDivNm = dict_data1[i]['touDivNm']\n",
    "    touNum = dict_data1[i]['touNum']\n",
    "    t_df.loc[idx] = [areaCode,areaNm,baseYmd,daywkDivCd,daywkDivNm,touDivCd,touDivNm,touNum]\n",
    "    idx += 1"
   ]
  },
  {
   "cell_type": "code",
   "execution_count": null,
   "id": "9004f75a",
   "metadata": {},
   "outputs": [],
   "source": []
  },
  {
   "cell_type": "code",
   "execution_count": 5,
   "id": "d6e02923",
   "metadata": {},
   "outputs": [
    {
     "data": {
      "text/html": [
       "<div>\n",
       "<style scoped>\n",
       "    .dataframe tbody tr th:only-of-type {\n",
       "        vertical-align: middle;\n",
       "    }\n",
       "\n",
       "    .dataframe tbody tr th {\n",
       "        vertical-align: top;\n",
       "    }\n",
       "\n",
       "    .dataframe thead th {\n",
       "        text-align: right;\n",
       "    }\n",
       "</style>\n",
       "<table border=\"1\" class=\"dataframe\">\n",
       "  <thead>\n",
       "    <tr style=\"text-align: right;\">\n",
       "      <th></th>\n",
       "      <th>시도코드</th>\n",
       "      <th>기준연월일</th>\n",
       "      <th>요일코드</th>\n",
       "      <th>요일명</th>\n",
       "      <th>관광객구분코드</th>\n",
       "      <th>관광객구분명</th>\n",
       "      <th>관광객수</th>\n",
       "    </tr>\n",
       "    <tr>\n",
       "      <th>시도명</th>\n",
       "      <th></th>\n",
       "      <th></th>\n",
       "      <th></th>\n",
       "      <th></th>\n",
       "      <th></th>\n",
       "      <th></th>\n",
       "      <th></th>\n",
       "    </tr>\n",
       "  </thead>\n",
       "  <tbody>\n",
       "    <tr>\n",
       "      <th>서울특별시</th>\n",
       "      <td>11</td>\n",
       "      <td>20210429</td>\n",
       "      <td>4</td>\n",
       "      <td>목요일</td>\n",
       "      <td>1</td>\n",
       "      <td>현지인(a)</td>\n",
       "      <td>4492117</td>\n",
       "    </tr>\n",
       "    <tr>\n",
       "      <th>서울특별시</th>\n",
       "      <td>11</td>\n",
       "      <td>20210502</td>\n",
       "      <td>7</td>\n",
       "      <td>일요일</td>\n",
       "      <td>3</td>\n",
       "      <td>외국인(c)</td>\n",
       "      <td>3323.692794</td>\n",
       "    </tr>\n",
       "    <tr>\n",
       "      <th>서울특별시</th>\n",
       "      <td>11</td>\n",
       "      <td>20210502</td>\n",
       "      <td>7</td>\n",
       "      <td>일요일</td>\n",
       "      <td>2</td>\n",
       "      <td>외지인(b)</td>\n",
       "      <td>1211213.5</td>\n",
       "    </tr>\n",
       "    <tr>\n",
       "      <th>서울특별시</th>\n",
       "      <td>11</td>\n",
       "      <td>20210502</td>\n",
       "      <td>7</td>\n",
       "      <td>일요일</td>\n",
       "      <td>1</td>\n",
       "      <td>현지인(a)</td>\n",
       "      <td>4079169.5</td>\n",
       "    </tr>\n",
       "    <tr>\n",
       "      <th>서울특별시</th>\n",
       "      <td>11</td>\n",
       "      <td>20210506</td>\n",
       "      <td>4</td>\n",
       "      <td>목요일</td>\n",
       "      <td>1</td>\n",
       "      <td>현지인(a)</td>\n",
       "      <td>4724202</td>\n",
       "    </tr>\n",
       "    <tr>\n",
       "      <th>...</th>\n",
       "      <td>...</td>\n",
       "      <td>...</td>\n",
       "      <td>...</td>\n",
       "      <td>...</td>\n",
       "      <td>...</td>\n",
       "      <td>...</td>\n",
       "      <td>...</td>\n",
       "    </tr>\n",
       "    <tr>\n",
       "      <th>제주특별자치도</th>\n",
       "      <td>50</td>\n",
       "      <td>20210426</td>\n",
       "      <td>1</td>\n",
       "      <td>월요일</td>\n",
       "      <td>1</td>\n",
       "      <td>현지인(a)</td>\n",
       "      <td>525175</td>\n",
       "    </tr>\n",
       "    <tr>\n",
       "      <th>제주특별자치도</th>\n",
       "      <td>50</td>\n",
       "      <td>20210426</td>\n",
       "      <td>1</td>\n",
       "      <td>월요일</td>\n",
       "      <td>2</td>\n",
       "      <td>외지인(b)</td>\n",
       "      <td>184117.5</td>\n",
       "    </tr>\n",
       "    <tr>\n",
       "      <th>제주특별자치도</th>\n",
       "      <td>50</td>\n",
       "      <td>20210426</td>\n",
       "      <td>1</td>\n",
       "      <td>월요일</td>\n",
       "      <td>3</td>\n",
       "      <td>외국인(c)</td>\n",
       "      <td>1246.437062</td>\n",
       "    </tr>\n",
       "    <tr>\n",
       "      <th>제주특별자치도</th>\n",
       "      <td>50</td>\n",
       "      <td>20210501</td>\n",
       "      <td>6</td>\n",
       "      <td>토요일</td>\n",
       "      <td>1</td>\n",
       "      <td>현지인(a)</td>\n",
       "      <td>519771</td>\n",
       "    </tr>\n",
       "    <tr>\n",
       "      <th>제주특별자치도</th>\n",
       "      <td>50</td>\n",
       "      <td>20210503</td>\n",
       "      <td>1</td>\n",
       "      <td>월요일</td>\n",
       "      <td>2</td>\n",
       "      <td>외지인(b)</td>\n",
       "      <td>156061.5</td>\n",
       "    </tr>\n",
       "  </tbody>\n",
       "</table>\n",
       "<p>1000 rows × 7 columns</p>\n",
       "</div>"
      ],
      "text/plain": [
       "        시도코드     기준연월일 요일코드  요일명 관광객구분코드  관광객구분명         관광객수\n",
       "시도명                                                          \n",
       "서울특별시     11  20210429    4  목요일       1  현지인(a)      4492117\n",
       "서울특별시     11  20210502    7  일요일       3  외국인(c)  3323.692794\n",
       "서울특별시     11  20210502    7  일요일       2  외지인(b)    1211213.5\n",
       "서울특별시     11  20210502    7  일요일       1  현지인(a)    4079169.5\n",
       "서울특별시     11  20210506    4  목요일       1  현지인(a)      4724202\n",
       "...      ...       ...  ...  ...     ...     ...          ...\n",
       "제주특별자치도   50  20210426    1  월요일       1  현지인(a)       525175\n",
       "제주특별자치도   50  20210426    1  월요일       2  외지인(b)     184117.5\n",
       "제주특별자치도   50  20210426    1  월요일       3  외국인(c)  1246.437062\n",
       "제주특별자치도   50  20210501    6  토요일       1  현지인(a)       519771\n",
       "제주특별자치도   50  20210503    1  월요일       2  외지인(b)     156061.5\n",
       "\n",
       "[1000 rows x 7 columns]"
      ]
     },
     "execution_count": 5,
     "metadata": {},
     "output_type": "execute_result"
    }
   ],
   "source": [
    "t_df = t_df.sort_values('시도코드')\n",
    "t_df.set_index('시도명')"
   ]
  },
  {
   "cell_type": "code",
   "execution_count": 7,
   "id": "7c004dfd",
   "metadata": {},
   "outputs": [],
   "source": [
    "from pandas.io.json import json_normalize"
   ]
  },
  {
   "cell_type": "code",
   "execution_count": 8,
   "id": "7413b62a",
   "metadata": {},
   "outputs": [
    {
     "name": "stderr",
     "output_type": "stream",
     "text": [
      "<ipython-input-8-9dadcf69429c>:6: FutureWarning: pandas.io.json.json_normalize is deprecated, use pandas.json_normalize instead\n",
      "  raw_data = json_normalize(json_obj['response']['body']['items']['item'])\n"
     ]
    }
   ],
   "source": [
    "url ='http://api.visitkorea.or.kr/openapi/service/rest/KorService/searchFestival?serviceKey=0nvWRjDWerwQGQ7dGwJhCm%2FxEkkbYBiWQXfnf%2BJkkO3dkoTpaGvyy44heAG1hY%2BjV7ZQxbK0LlDdoeer2yORHw%3D%3D&MobileOS=ETC&MobileApp=AppTest&arrange=A&numOfRows=3000&pageNo=1&listYN=Y&_type=json'\n",
    "response = req.urlopen(url)\n",
    "json_str = response.read().decode('utf-8')\n",
    "json_obj = json.loads(json_str)\n",
    "a = [json_obj['response']['body']['items']['item']]\n",
    "raw_data = json_normalize(json_obj['response']['body']['items']['item'])"
   ]
  },
  {
   "cell_type": "code",
   "execution_count": 10,
   "id": "d88c0929",
   "metadata": {},
   "outputs": [],
   "source": [
    "data = raw_data.copy()"
   ]
  },
  {
   "cell_type": "code",
   "execution_count": 13,
   "id": "861f9e90",
   "metadata": {},
   "outputs": [
    {
     "data": {
      "text/plain": [
       "Index(['addr1', 'areacode', 'cat1', 'cat2', 'cat3', 'contentid',\n",
       "       'contenttypeid', 'createdtime', 'eventenddate', 'eventstartdate',\n",
       "       'firstimage', 'firstimage2', 'mapx', 'mapy', 'mlevel', 'modifiedtime',\n",
       "       'readcount', 'sigungucode', 'tel', 'title', 'addr2'],\n",
       "      dtype='object')"
      ]
     },
     "execution_count": 13,
     "metadata": {},
     "output_type": "execute_result"
    }
   ],
   "source": [
    "data.head()\n",
    "data.columns"
   ]
  },
  {
   "cell_type": "code",
   "execution_count": 16,
   "id": "54645fe1",
   "metadata": {},
   "outputs": [],
   "source": [
    "#column 정리\n",
    "data.drop(['areacode','cat1','cat2','cat3','contentid','contenttypeid','createdtime','firstimage','firstimage2','mlevel'],axis=1,inplace=True)"
   ]
  },
  {
   "cell_type": "code",
   "execution_count": 18,
   "id": "6a75fcfe",
   "metadata": {},
   "outputs": [],
   "source": [
    "data.drop('addr2',axis=1,inplace=True)"
   ]
  },
  {
   "cell_type": "code",
   "execution_count": 20,
   "id": "ee9496c6",
   "metadata": {},
   "outputs": [
    {
     "data": {
      "text/plain": [
       "Index(['addr1', 'eventenddate', 'eventstartdate', 'mapx', 'mapy',\n",
       "       'modifiedtime', 'readcount', 'sigungucode', 'tel', 'title'],\n",
       "      dtype='object')"
      ]
     },
     "execution_count": 20,
     "metadata": {},
     "output_type": "execute_result"
    }
   ],
   "source": [
    "#column 정렬\n",
    "data.columns"
   ]
  },
  {
   "cell_type": "code",
   "execution_count": 26,
   "id": "0566be7b",
   "metadata": {
    "collapsed": true
   },
   "outputs": [
    {
     "ename": "KeyError",
     "evalue": "\"['title'] not in index\"",
     "output_type": "error",
     "traceback": [
      "\u001b[1;31m---------------------------------------------------------------------------\u001b[0m",
      "\u001b[1;31mKeyError\u001b[0m                                  Traceback (most recent call last)",
      "\u001b[1;32m<ipython-input-26-6c7b140c47ed>\u001b[0m in \u001b[0;36m<module>\u001b[1;34m\u001b[0m\n\u001b[0;32m      1\u001b[0m \u001b[0mnew_cols\u001b[0m \u001b[1;33m=\u001b[0m\u001b[1;33m[\u001b[0m\u001b[1;34m'title'\u001b[0m\u001b[1;33m,\u001b[0m \u001b[1;34m'eventstartdate'\u001b[0m\u001b[1;33m,\u001b[0m \u001b[1;34m'eventenddate'\u001b[0m\u001b[1;33m,\u001b[0m\u001b[1;34m'sigungucode'\u001b[0m\u001b[1;33m,\u001b[0m \u001b[1;34m'mapx'\u001b[0m\u001b[1;33m,\u001b[0m \u001b[1;34m'mapy'\u001b[0m\u001b[1;33m,\u001b[0m \u001b[1;34m'tel'\u001b[0m\u001b[1;33m,\u001b[0m \u001b[1;34m'addr1'\u001b[0m\u001b[1;33m,\u001b[0m\u001b[1;34m'readcount'\u001b[0m\u001b[1;33m,\u001b[0m\u001b[1;34m'modifiedtime'\u001b[0m\u001b[1;33m]\u001b[0m\u001b[1;33m\u001b[0m\u001b[1;33m\u001b[0m\u001b[0m\n\u001b[1;32m----> 2\u001b[1;33m \u001b[0mdata\u001b[0m \u001b[1;33m=\u001b[0m \u001b[0mdata\u001b[0m\u001b[1;33m[\u001b[0m\u001b[0mnew_cols\u001b[0m\u001b[1;33m]\u001b[0m\u001b[1;33m\u001b[0m\u001b[1;33m\u001b[0m\u001b[0m\n\u001b[0m\u001b[0;32m      3\u001b[0m \u001b[0mdata\u001b[0m\u001b[1;33m.\u001b[0m\u001b[0mset_index\u001b[0m\u001b[1;33m(\u001b[0m\u001b[1;34m'title'\u001b[0m\u001b[1;33m)\u001b[0m\u001b[1;33m\u001b[0m\u001b[1;33m\u001b[0m\u001b[0m\n",
      "\u001b[1;32mD:\\Tools\\envs\\cakd3\\lib\\site-packages\\pandas\\core\\frame.py\u001b[0m in \u001b[0;36m__getitem__\u001b[1;34m(self, key)\u001b[0m\n\u001b[0;32m   3028\u001b[0m             \u001b[1;32mif\u001b[0m \u001b[0mis_iterator\u001b[0m\u001b[1;33m(\u001b[0m\u001b[0mkey\u001b[0m\u001b[1;33m)\u001b[0m\u001b[1;33m:\u001b[0m\u001b[1;33m\u001b[0m\u001b[1;33m\u001b[0m\u001b[0m\n\u001b[0;32m   3029\u001b[0m                 \u001b[0mkey\u001b[0m \u001b[1;33m=\u001b[0m \u001b[0mlist\u001b[0m\u001b[1;33m(\u001b[0m\u001b[0mkey\u001b[0m\u001b[1;33m)\u001b[0m\u001b[1;33m\u001b[0m\u001b[1;33m\u001b[0m\u001b[0m\n\u001b[1;32m-> 3030\u001b[1;33m             \u001b[0mindexer\u001b[0m \u001b[1;33m=\u001b[0m \u001b[0mself\u001b[0m\u001b[1;33m.\u001b[0m\u001b[0mloc\u001b[0m\u001b[1;33m.\u001b[0m\u001b[0m_get_listlike_indexer\u001b[0m\u001b[1;33m(\u001b[0m\u001b[0mkey\u001b[0m\u001b[1;33m,\u001b[0m \u001b[0maxis\u001b[0m\u001b[1;33m=\u001b[0m\u001b[1;36m1\u001b[0m\u001b[1;33m,\u001b[0m \u001b[0mraise_missing\u001b[0m\u001b[1;33m=\u001b[0m\u001b[1;32mTrue\u001b[0m\u001b[1;33m)\u001b[0m\u001b[1;33m[\u001b[0m\u001b[1;36m1\u001b[0m\u001b[1;33m]\u001b[0m\u001b[1;33m\u001b[0m\u001b[1;33m\u001b[0m\u001b[0m\n\u001b[0m\u001b[0;32m   3031\u001b[0m \u001b[1;33m\u001b[0m\u001b[0m\n\u001b[0;32m   3032\u001b[0m         \u001b[1;31m# take() does not accept boolean indexers\u001b[0m\u001b[1;33m\u001b[0m\u001b[1;33m\u001b[0m\u001b[1;33m\u001b[0m\u001b[0m\n",
      "\u001b[1;32mD:\\Tools\\envs\\cakd3\\lib\\site-packages\\pandas\\core\\indexing.py\u001b[0m in \u001b[0;36m_get_listlike_indexer\u001b[1;34m(self, key, axis, raise_missing)\u001b[0m\n\u001b[0;32m   1264\u001b[0m             \u001b[0mkeyarr\u001b[0m\u001b[1;33m,\u001b[0m \u001b[0mindexer\u001b[0m\u001b[1;33m,\u001b[0m \u001b[0mnew_indexer\u001b[0m \u001b[1;33m=\u001b[0m \u001b[0max\u001b[0m\u001b[1;33m.\u001b[0m\u001b[0m_reindex_non_unique\u001b[0m\u001b[1;33m(\u001b[0m\u001b[0mkeyarr\u001b[0m\u001b[1;33m)\u001b[0m\u001b[1;33m\u001b[0m\u001b[1;33m\u001b[0m\u001b[0m\n\u001b[0;32m   1265\u001b[0m \u001b[1;33m\u001b[0m\u001b[0m\n\u001b[1;32m-> 1266\u001b[1;33m         \u001b[0mself\u001b[0m\u001b[1;33m.\u001b[0m\u001b[0m_validate_read_indexer\u001b[0m\u001b[1;33m(\u001b[0m\u001b[0mkeyarr\u001b[0m\u001b[1;33m,\u001b[0m \u001b[0mindexer\u001b[0m\u001b[1;33m,\u001b[0m \u001b[0maxis\u001b[0m\u001b[1;33m,\u001b[0m \u001b[0mraise_missing\u001b[0m\u001b[1;33m=\u001b[0m\u001b[0mraise_missing\u001b[0m\u001b[1;33m)\u001b[0m\u001b[1;33m\u001b[0m\u001b[1;33m\u001b[0m\u001b[0m\n\u001b[0m\u001b[0;32m   1267\u001b[0m         \u001b[1;32mreturn\u001b[0m \u001b[0mkeyarr\u001b[0m\u001b[1;33m,\u001b[0m \u001b[0mindexer\u001b[0m\u001b[1;33m\u001b[0m\u001b[1;33m\u001b[0m\u001b[0m\n\u001b[0;32m   1268\u001b[0m \u001b[1;33m\u001b[0m\u001b[0m\n",
      "\u001b[1;32mD:\\Tools\\envs\\cakd3\\lib\\site-packages\\pandas\\core\\indexing.py\u001b[0m in \u001b[0;36m_validate_read_indexer\u001b[1;34m(self, key, indexer, axis, raise_missing)\u001b[0m\n\u001b[0;32m   1314\u001b[0m             \u001b[1;32mif\u001b[0m \u001b[0mraise_missing\u001b[0m\u001b[1;33m:\u001b[0m\u001b[1;33m\u001b[0m\u001b[1;33m\u001b[0m\u001b[0m\n\u001b[0;32m   1315\u001b[0m                 \u001b[0mnot_found\u001b[0m \u001b[1;33m=\u001b[0m \u001b[0mlist\u001b[0m\u001b[1;33m(\u001b[0m\u001b[0mset\u001b[0m\u001b[1;33m(\u001b[0m\u001b[0mkey\u001b[0m\u001b[1;33m)\u001b[0m \u001b[1;33m-\u001b[0m \u001b[0mset\u001b[0m\u001b[1;33m(\u001b[0m\u001b[0max\u001b[0m\u001b[1;33m)\u001b[0m\u001b[1;33m)\u001b[0m\u001b[1;33m\u001b[0m\u001b[1;33m\u001b[0m\u001b[0m\n\u001b[1;32m-> 1316\u001b[1;33m                 \u001b[1;32mraise\u001b[0m \u001b[0mKeyError\u001b[0m\u001b[1;33m(\u001b[0m\u001b[1;34mf\"{not_found} not in index\"\u001b[0m\u001b[1;33m)\u001b[0m\u001b[1;33m\u001b[0m\u001b[1;33m\u001b[0m\u001b[0m\n\u001b[0m\u001b[0;32m   1317\u001b[0m \u001b[1;33m\u001b[0m\u001b[0m\n\u001b[0;32m   1318\u001b[0m             \u001b[0mnot_found\u001b[0m \u001b[1;33m=\u001b[0m \u001b[0mkey\u001b[0m\u001b[1;33m[\u001b[0m\u001b[0mmissing_mask\u001b[0m\u001b[1;33m]\u001b[0m\u001b[1;33m\u001b[0m\u001b[1;33m\u001b[0m\u001b[0m\n",
      "\u001b[1;31mKeyError\u001b[0m: \"['title'] not in index\""
     ]
    }
   ],
   "source": [
    "new_cols =['title', 'eventstartdate', 'eventenddate','sigungucode', 'mapx', 'mapy', 'tel', 'addr1','readcount','modifiedtime']\n",
    "data = data[new_cols]\n",
    "data.set_index('title')"
   ]
  },
  {
   "cell_type": "code",
   "execution_count": 29,
   "id": "795700b9",
   "metadata": {},
   "outputs": [
    {
     "data": {
      "text/html": [
       "<div>\n",
       "<style scoped>\n",
       "    .dataframe tbody tr th:only-of-type {\n",
       "        vertical-align: middle;\n",
       "    }\n",
       "\n",
       "    .dataframe tbody tr th {\n",
       "        vertical-align: top;\n",
       "    }\n",
       "\n",
       "    .dataframe thead th {\n",
       "        text-align: right;\n",
       "    }\n",
       "</style>\n",
       "<table border=\"1\" class=\"dataframe\">\n",
       "  <thead>\n",
       "    <tr style=\"text-align: right;\">\n",
       "      <th></th>\n",
       "      <th>eventstartdate</th>\n",
       "      <th>eventenddate</th>\n",
       "      <th>sigungucode</th>\n",
       "      <th>mapx</th>\n",
       "      <th>mapy</th>\n",
       "      <th>tel</th>\n",
       "      <th>addr1</th>\n",
       "      <th>readcount</th>\n",
       "      <th>modifiedtime</th>\n",
       "    </tr>\n",
       "    <tr>\n",
       "      <th>title</th>\n",
       "      <th></th>\n",
       "      <th></th>\n",
       "      <th></th>\n",
       "      <th></th>\n",
       "      <th></th>\n",
       "      <th></th>\n",
       "      <th></th>\n",
       "      <th></th>\n",
       "      <th></th>\n",
       "    </tr>\n",
       "  </thead>\n",
       "  <tbody>\n",
       "    <tr>\n",
       "      <th>영등포 여의도봄꽃축제</th>\n",
       "      <td>20210405</td>\n",
       "      <td>20210430</td>\n",
       "      <td>20.0</td>\n",
       "      <td>126.914133</td>\n",
       "      <td>37.532032</td>\n",
       "      <td>02-2670-3114</td>\n",
       "      <td>서울특별시 영등포구 여의서로</td>\n",
       "      <td>746805.0</td>\n",
       "      <td>20210401172258</td>\n",
       "    </tr>\n",
       "    <tr>\n",
       "      <th>창덕궁 달빛기행</th>\n",
       "      <td>20210429</td>\n",
       "      <td>20210620</td>\n",
       "      <td>23.0</td>\n",
       "      <td>126.991339</td>\n",
       "      <td>37.582825</td>\n",
       "      <td>02-3210-3503</td>\n",
       "      <td>서울특별시 종로구 율곡로</td>\n",
       "      <td>700585.0</td>\n",
       "      <td>20210504164714</td>\n",
       "    </tr>\n",
       "    <tr>\n",
       "      <th>[명예대표축제]진주 남강유등축제 2020</th>\n",
       "      <td>20201001</td>\n",
       "      <td>20201011</td>\n",
       "      <td>13.0</td>\n",
       "      <td>128.080276</td>\n",
       "      <td>35.189746</td>\n",
       "      <td>055-755-9111</td>\n",
       "      <td>경상남도 진주시 남강로 626</td>\n",
       "      <td>685539.0</td>\n",
       "      <td>20201201165059</td>\n",
       "    </tr>\n",
       "    <tr>\n",
       "      <th>오색별빛정원전 2021</th>\n",
       "      <td>20201204</td>\n",
       "      <td>20210314</td>\n",
       "      <td>1.0</td>\n",
       "      <td>127.352585</td>\n",
       "      <td>37.74484</td>\n",
       "      <td>1544-6703</td>\n",
       "      <td>경기도 가평군 상면 수목원로 432</td>\n",
       "      <td>575986.0</td>\n",
       "      <td>20201130161907</td>\n",
       "    </tr>\n",
       "    <tr>\n",
       "      <th>태안 세계튤립꽃박람회</th>\n",
       "      <td>20210409</td>\n",
       "      <td>20210510</td>\n",
       "      <td>14.0</td>\n",
       "      <td>126.33678</td>\n",
       "      <td>36.501102</td>\n",
       "      <td>041-675-5533</td>\n",
       "      <td>충청남도 태안군 안면읍 꽃지해안로 400</td>\n",
       "      <td>564948.0</td>\n",
       "      <td>20210413091916</td>\n",
       "    </tr>\n",
       "    <tr>\n",
       "      <th>...</th>\n",
       "      <td>...</td>\n",
       "      <td>...</td>\n",
       "      <td>...</td>\n",
       "      <td>...</td>\n",
       "      <td>...</td>\n",
       "      <td>...</td>\n",
       "      <td>...</td>\n",
       "      <td>...</td>\n",
       "      <td>...</td>\n",
       "    </tr>\n",
       "    <tr>\n",
       "      <th>기획오페라 &lt;사랑의 묘약&gt; 2021</th>\n",
       "      <td>20210128</td>\n",
       "      <td>20210130</td>\n",
       "      <td>5.0</td>\n",
       "      <td>128.5922570230</td>\n",
       "      <td>35.883507</td>\n",
       "      <td>053-666-6170</td>\n",
       "      <td>대구광역시 북구 호암로 15</td>\n",
       "      <td>0.0</td>\n",
       "      <td>20210128165716</td>\n",
       "    </tr>\n",
       "    <tr>\n",
       "      <th>익산식품대전</th>\n",
       "      <td>20200904</td>\n",
       "      <td>20200910</td>\n",
       "      <td>9.0</td>\n",
       "      <td>127.082922</td>\n",
       "      <td>35.9795610080</td>\n",
       "      <td>NaN</td>\n",
       "      <td>온라인개최</td>\n",
       "      <td>0.0</td>\n",
       "      <td>20210621171209</td>\n",
       "    </tr>\n",
       "    <tr>\n",
       "      <th>국제해양영화제</th>\n",
       "      <td>20210722</td>\n",
       "      <td>20210725</td>\n",
       "      <td>16.0</td>\n",
       "      <td>129.127152</td>\n",
       "      <td>35.17112</td>\n",
       "      <td>051-790-9413</td>\n",
       "      <td>부산광역시 해운대구 수영강변대로 120</td>\n",
       "      <td>NaN</td>\n",
       "      <td>20210715111602</td>\n",
       "    </tr>\n",
       "    <tr>\n",
       "      <th>대한민국 청년미술축제</th>\n",
       "      <td>20210716</td>\n",
       "      <td>20210730</td>\n",
       "      <td>18.0</td>\n",
       "      <td>127.096301</td>\n",
       "      <td>37.502278</td>\n",
       "      <td>070-7938-5480</td>\n",
       "      <td>서울특별시 송파구 백제고분로 270</td>\n",
       "      <td>NaN</td>\n",
       "      <td>20210715173502</td>\n",
       "    </tr>\n",
       "    <tr>\n",
       "      <th>KOREA 월드푸드챔피언십</th>\n",
       "      <td>20211105</td>\n",
       "      <td>20211107</td>\n",
       "      <td>8.0</td>\n",
       "      <td>126.877055</td>\n",
       "      <td>37.480046</td>\n",
       "      <td>02)802-7666/7669</td>\n",
       "      <td>서울특별시 금천구 서부샛길 606</td>\n",
       "      <td>NaN</td>\n",
       "      <td>20210715142058</td>\n",
       "    </tr>\n",
       "  </tbody>\n",
       "</table>\n",
       "<p>734 rows × 9 columns</p>\n",
       "</div>"
      ],
      "text/plain": [
       "                        eventstartdate  eventenddate  sigungucode  \\\n",
       "title                                                               \n",
       "영등포 여의도봄꽃축제                   20210405      20210430         20.0   \n",
       "창덕궁 달빛기행                      20210429      20210620         23.0   \n",
       "[명예대표축제]진주 남강유등축제 2020        20201001      20201011         13.0   \n",
       "오색별빛정원전 2021                  20201204      20210314          1.0   \n",
       "태안 세계튤립꽃박람회                   20210409      20210510         14.0   \n",
       "...                                ...           ...          ...   \n",
       "기획오페라 <사랑의 묘약> 2021           20210128      20210130          5.0   \n",
       "익산식품대전                        20200904      20200910          9.0   \n",
       "국제해양영화제                       20210722      20210725         16.0   \n",
       "대한민국 청년미술축제                   20210716      20210730         18.0   \n",
       "KOREA 월드푸드챔피언십                20211105      20211107          8.0   \n",
       "\n",
       "                                  mapx           mapy               tel  \\\n",
       "title                                                                     \n",
       "영등포 여의도봄꽃축제                 126.914133      37.532032      02-2670-3114   \n",
       "창덕궁 달빛기행                    126.991339      37.582825      02-3210-3503   \n",
       "[명예대표축제]진주 남강유등축제 2020      128.080276      35.189746      055-755-9111   \n",
       "오색별빛정원전 2021                127.352585       37.74484         1544-6703   \n",
       "태안 세계튤립꽃박람회                  126.33678      36.501102      041-675-5533   \n",
       "...                                ...            ...               ...   \n",
       "기획오페라 <사랑의 묘약> 2021     128.5922570230      35.883507      053-666-6170   \n",
       "익산식품대전                      127.082922  35.9795610080               NaN   \n",
       "국제해양영화제                     129.127152       35.17112      051-790-9413   \n",
       "대한민국 청년미술축제                 127.096301      37.502278     070-7938-5480   \n",
       "KOREA 월드푸드챔피언십              126.877055      37.480046  02)802-7666/7669   \n",
       "\n",
       "                                         addr1  readcount    modifiedtime  \n",
       "title                                                                      \n",
       "영등포 여의도봄꽃축제                    서울특별시 영등포구 여의서로   746805.0  20210401172258  \n",
       "창덕궁 달빛기행                         서울특별시 종로구 율곡로   700585.0  20210504164714  \n",
       "[명예대표축제]진주 남강유등축제 2020        경상남도 진주시 남강로 626   685539.0  20201201165059  \n",
       "오색별빛정원전 2021               경기도 가평군 상면 수목원로 432   575986.0  20201130161907  \n",
       "태안 세계튤립꽃박람회             충청남도 태안군 안면읍 꽃지해안로 400   564948.0  20210413091916  \n",
       "...                                        ...        ...             ...  \n",
       "기획오페라 <사랑의 묘약> 2021            대구광역시 북구 호암로 15        0.0  20210128165716  \n",
       "익산식품대전                                   온라인개최        0.0  20210621171209  \n",
       "국제해양영화제                  부산광역시 해운대구 수영강변대로 120        NaN  20210715111602  \n",
       "대한민국 청년미술축제                서울특별시 송파구 백제고분로 270        NaN  20210715173502  \n",
       "KOREA 월드푸드챔피언십              서울특별시 금천구 서부샛길 606        NaN  20210715142058  \n",
       "\n",
       "[734 rows x 9 columns]"
      ]
     },
     "execution_count": 29,
     "metadata": {},
     "output_type": "execute_result"
    }
   ],
   "source": [
    "data = data.sort_values('readcount',ascending=False)\n",
    "data"
   ]
  },
  {
   "cell_type": "code",
   "execution_count": 31,
   "id": "e104bfc7",
   "metadata": {},
   "outputs": [
    {
     "name": "stdout",
     "output_type": "stream",
     "text": [
      "<class 'pandas.core.frame.DataFrame'>\n",
      "Index: 734 entries, 영등포 여의도봄꽃축제 to KOREA 월드푸드챔피언십\n",
      "Data columns (total 9 columns):\n",
      " #   Column          Non-Null Count  Dtype  \n",
      "---  ------          --------------  -----  \n",
      " 0   eventstartdate  734 non-null    int64  \n",
      " 1   eventenddate    734 non-null    int64  \n",
      " 2   sigungucode     727 non-null    float64\n",
      " 3   mapx            702 non-null    object \n",
      " 4   mapy            702 non-null    object \n",
      " 5   tel             725 non-null    object \n",
      " 6   addr1           733 non-null    object \n",
      " 7   readcount       731 non-null    float64\n",
      " 8   modifiedtime    734 non-null    int64  \n",
      "dtypes: float64(2), int64(3), object(4)\n",
      "memory usage: 57.3+ KB\n"
     ]
    }
   ],
   "source": [
    "#결측값 확인\n",
    "data.info()"
   ]
  },
  {
   "cell_type": "code",
   "execution_count": 32,
   "id": "d6bcea45",
   "metadata": {},
   "outputs": [
    {
     "data": {
      "text/plain": [
       "eventstartdate     0\n",
       "eventenddate       0\n",
       "sigungucode        7\n",
       "mapx              32\n",
       "mapy              32\n",
       "tel                9\n",
       "addr1              1\n",
       "readcount          3\n",
       "modifiedtime       0\n",
       "dtype: int64"
      ]
     },
     "execution_count": 32,
     "metadata": {},
     "output_type": "execute_result"
    }
   ],
   "source": [
    "data.isnull().sum()"
   ]
  },
  {
   "cell_type": "code",
   "execution_count": 50,
   "id": "b0857c80",
   "metadata": {},
   "outputs": [
    {
     "data": {
      "text/plain": [
       "[731, 732, 733]"
      ]
     },
     "execution_count": 50,
     "metadata": {},
     "output_type": "execute_result"
    }
   ],
   "source": [
    "# 결측값 인덱스 색출 - reset_index 후 색출\n",
    "# data = data.reset_index()\n",
    "rows_with_nan = [index for index, row in data[['readcount']].iterrows() if row.isnull().any()]\n",
    "rows_with_nan"
   ]
  },
  {
   "cell_type": "code",
   "execution_count": 47,
   "id": "645f4762",
   "metadata": {},
   "outputs": [],
   "source": [
    "#sigungucode [526, 600, 640, 642, 668, 700, 711]\n",
    "#mapx/y 39,54 ~ 711\n",
    "#tel [246, 317, 466, 497, 555, 604, 646, 674, 730]\n",
    "#addr1 526\n",
    "#readcount [731, 732, 733]"
   ]
  },
  {
   "cell_type": "code",
   "execution_count": 66,
   "id": "154ce897",
   "metadata": {},
   "outputs": [],
   "source": [
    "# fill nan\n",
    "data['readcount'] = data['readcount'].fillna(0).round(0)\n",
    "data['readcount'] = data['readcount'].astype('int')"
   ]
  },
  {
   "cell_type": "code",
   "execution_count": 89,
   "id": "b475f5fd",
   "metadata": {
    "scrolled": true
   },
   "outputs": [
    {
     "name": "stdout",
     "output_type": "stream",
     "text": [
      "level_0                               526\n",
      "index                                 526\n",
      "title             궁궐활용 온라인 프로젝트 '궁온' 2020\n",
      "eventstartdate                   20201123\n",
      "eventenddate                     20201231\n",
      "sigungucode                           0.0\n",
      "mapx                                    0\n",
      "mapy                                    0\n",
      "tel                        02-3210-4806~7\n",
      "addr1                              online\n",
      "readcount                               0\n",
      "modifiedtime               20210517163126\n",
      "Name: 526, dtype: object\n"
     ]
    },
    {
     "name": "stderr",
     "output_type": "stream",
     "text": [
      "<ipython-input-89-7048a3f88df4>:6: SettingWithCopyWarning: \n",
      "A value is trying to be set on a copy of a slice from a DataFrame\n",
      "\n",
      "See the caveats in the documentation: https://pandas.pydata.org/pandas-docs/stable/user_guide/indexing.html#returning-a-view-versus-a-copy\n",
      "  data['mapx'][526] = 0\n",
      "<ipython-input-89-7048a3f88df4>:7: SettingWithCopyWarning: \n",
      "A value is trying to be set on a copy of a slice from a DataFrame\n",
      "\n",
      "See the caveats in the documentation: https://pandas.pydata.org/pandas-docs/stable/user_guide/indexing.html#returning-a-view-versus-a-copy\n",
      "  data['mapy'][526] = 0\n",
      "<ipython-input-89-7048a3f88df4>:8: SettingWithCopyWarning: \n",
      "A value is trying to be set on a copy of a slice from a DataFrame\n",
      "\n",
      "See the caveats in the documentation: https://pandas.pydata.org/pandas-docs/stable/user_guide/indexing.html#returning-a-view-versus-a-copy\n",
      "  data['sigungucode'][526] = 0\n"
     ]
    }
   ],
   "source": [
    "print(data.iloc[526])\n",
    "#'index 526 in online'\n",
    "# fill in addr1 = online\n",
    "# fill mapx mapy = 0,0\n",
    "data['addr1'] = data['addr1'].fillna('online')\n",
    "data['mapx'][526] = 0\n",
    "data['mapy'][526] = 0\n",
    "data['sigungucode'][526] = 0"
   ]
  },
  {
   "cell_type": "code",
   "execution_count": 90,
   "id": "bbfbee3b",
   "metadata": {
    "scrolled": true
   },
   "outputs": [
    {
     "name": "stdout",
     "output_type": "stream",
     "text": [
      "level_0                               526\n",
      "index                                 526\n",
      "title             궁궐활용 온라인 프로젝트 '궁온' 2020\n",
      "eventstartdate                   20201123\n",
      "eventenddate                     20201231\n",
      "sigungucode                           0.0\n",
      "mapx                                    0\n",
      "mapy                                    0\n",
      "tel                        02-3210-4806~7\n",
      "addr1                              online\n",
      "readcount                               0\n",
      "modifiedtime               20210517163126\n",
      "Name: 526, dtype: object\n"
     ]
    }
   ],
   "source": [
    "print(data.iloc[526])"
   ]
  },
  {
   "cell_type": "code",
   "execution_count": 106,
   "id": "bf97fae2",
   "metadata": {},
   "outputs": [],
   "source": [
    "def findxy(x):\n",
    "    if data['addr1'] == True and data['mapx'] == np.nan and data['mapy'] == np.nan:\n",
    "        url = 'https://dapi.kakao.com/v2/local/search/keyword.json?query={}'.format(data['addr1'])\n",
    "        headers = {\"Authorization\": \"KakaoAK ac29d0b5ff83ba31f85e0d6f9f38e797\"}\n",
    "        p_s_places = requests.get(url, headers = headers).json()['documents']\n",
    "        x = float(p_s_places[0]['y'])\n",
    "        y = float(p_s_places[0]['x'])\n",
    "        return data['mapx'].append(x) , data['mapy'].append(y)\n",
    "\n",
    "    "
   ]
  },
  {
   "cell_type": "code",
   "execution_count": 110,
   "id": "4c684423",
   "metadata": {},
   "outputs": [
    {
     "ename": "ValueError",
     "evalue": "The truth value of a Series is ambiguous. Use a.empty, a.bool(), a.item(), a.any() or a.all().",
     "output_type": "error",
     "traceback": [
      "\u001b[1;31m---------------------------------------------------------------------------\u001b[0m",
      "\u001b[1;31mValueError\u001b[0m                                Traceback (most recent call last)",
      "\u001b[1;32m<ipython-input-110-f1a00e9b8ada>\u001b[0m in \u001b[0;36m<module>\u001b[1;34m\u001b[0m\n\u001b[1;32m----> 1\u001b[1;33m \u001b[0msample\u001b[0m \u001b[1;33m=\u001b[0m \u001b[0mdata\u001b[0m\u001b[1;33m.\u001b[0m\u001b[0mapply\u001b[0m\u001b[1;33m(\u001b[0m\u001b[0mfindxy\u001b[0m\u001b[1;33m,\u001b[0m \u001b[0maxis\u001b[0m\u001b[1;33m=\u001b[0m\u001b[1;36m1\u001b[0m\u001b[1;33m)\u001b[0m\u001b[1;33m\u001b[0m\u001b[1;33m\u001b[0m\u001b[0m\n\u001b[0m",
      "\u001b[1;32mD:\\Tools\\envs\\cakd3\\lib\\site-packages\\pandas\\core\\frame.py\u001b[0m in \u001b[0;36mapply\u001b[1;34m(self, func, axis, raw, result_type, args, **kwds)\u001b[0m\n\u001b[0;32m   7766\u001b[0m             \u001b[0mkwds\u001b[0m\u001b[1;33m=\u001b[0m\u001b[0mkwds\u001b[0m\u001b[1;33m,\u001b[0m\u001b[1;33m\u001b[0m\u001b[1;33m\u001b[0m\u001b[0m\n\u001b[0;32m   7767\u001b[0m         )\n\u001b[1;32m-> 7768\u001b[1;33m         \u001b[1;32mreturn\u001b[0m \u001b[0mop\u001b[0m\u001b[1;33m.\u001b[0m\u001b[0mget_result\u001b[0m\u001b[1;33m(\u001b[0m\u001b[1;33m)\u001b[0m\u001b[1;33m\u001b[0m\u001b[1;33m\u001b[0m\u001b[0m\n\u001b[0m\u001b[0;32m   7769\u001b[0m \u001b[1;33m\u001b[0m\u001b[0m\n\u001b[0;32m   7770\u001b[0m     \u001b[1;32mdef\u001b[0m \u001b[0mapplymap\u001b[0m\u001b[1;33m(\u001b[0m\u001b[0mself\u001b[0m\u001b[1;33m,\u001b[0m \u001b[0mfunc\u001b[0m\u001b[1;33m,\u001b[0m \u001b[0mna_action\u001b[0m\u001b[1;33m:\u001b[0m \u001b[0mOptional\u001b[0m\u001b[1;33m[\u001b[0m\u001b[0mstr\u001b[0m\u001b[1;33m]\u001b[0m \u001b[1;33m=\u001b[0m \u001b[1;32mNone\u001b[0m\u001b[1;33m)\u001b[0m \u001b[1;33m->\u001b[0m \u001b[0mDataFrame\u001b[0m\u001b[1;33m:\u001b[0m\u001b[1;33m\u001b[0m\u001b[1;33m\u001b[0m\u001b[0m\n",
      "\u001b[1;32mD:\\Tools\\envs\\cakd3\\lib\\site-packages\\pandas\\core\\apply.py\u001b[0m in \u001b[0;36mget_result\u001b[1;34m(self)\u001b[0m\n\u001b[0;32m    183\u001b[0m             \u001b[1;32mreturn\u001b[0m \u001b[0mself\u001b[0m\u001b[1;33m.\u001b[0m\u001b[0mapply_raw\u001b[0m\u001b[1;33m(\u001b[0m\u001b[1;33m)\u001b[0m\u001b[1;33m\u001b[0m\u001b[1;33m\u001b[0m\u001b[0m\n\u001b[0;32m    184\u001b[0m \u001b[1;33m\u001b[0m\u001b[0m\n\u001b[1;32m--> 185\u001b[1;33m         \u001b[1;32mreturn\u001b[0m \u001b[0mself\u001b[0m\u001b[1;33m.\u001b[0m\u001b[0mapply_standard\u001b[0m\u001b[1;33m(\u001b[0m\u001b[1;33m)\u001b[0m\u001b[1;33m\u001b[0m\u001b[1;33m\u001b[0m\u001b[0m\n\u001b[0m\u001b[0;32m    186\u001b[0m \u001b[1;33m\u001b[0m\u001b[0m\n\u001b[0;32m    187\u001b[0m     \u001b[1;32mdef\u001b[0m \u001b[0mapply_empty_result\u001b[0m\u001b[1;33m(\u001b[0m\u001b[0mself\u001b[0m\u001b[1;33m)\u001b[0m\u001b[1;33m:\u001b[0m\u001b[1;33m\u001b[0m\u001b[1;33m\u001b[0m\u001b[0m\n",
      "\u001b[1;32mD:\\Tools\\envs\\cakd3\\lib\\site-packages\\pandas\\core\\apply.py\u001b[0m in \u001b[0;36mapply_standard\u001b[1;34m(self)\u001b[0m\n\u001b[0;32m    274\u001b[0m \u001b[1;33m\u001b[0m\u001b[0m\n\u001b[0;32m    275\u001b[0m     \u001b[1;32mdef\u001b[0m \u001b[0mapply_standard\u001b[0m\u001b[1;33m(\u001b[0m\u001b[0mself\u001b[0m\u001b[1;33m)\u001b[0m\u001b[1;33m:\u001b[0m\u001b[1;33m\u001b[0m\u001b[1;33m\u001b[0m\u001b[0m\n\u001b[1;32m--> 276\u001b[1;33m         \u001b[0mresults\u001b[0m\u001b[1;33m,\u001b[0m \u001b[0mres_index\u001b[0m \u001b[1;33m=\u001b[0m \u001b[0mself\u001b[0m\u001b[1;33m.\u001b[0m\u001b[0mapply_series_generator\u001b[0m\u001b[1;33m(\u001b[0m\u001b[1;33m)\u001b[0m\u001b[1;33m\u001b[0m\u001b[1;33m\u001b[0m\u001b[0m\n\u001b[0m\u001b[0;32m    277\u001b[0m \u001b[1;33m\u001b[0m\u001b[0m\n\u001b[0;32m    278\u001b[0m         \u001b[1;31m# wrap results\u001b[0m\u001b[1;33m\u001b[0m\u001b[1;33m\u001b[0m\u001b[1;33m\u001b[0m\u001b[0m\n",
      "\u001b[1;32mD:\\Tools\\envs\\cakd3\\lib\\site-packages\\pandas\\core\\apply.py\u001b[0m in \u001b[0;36mapply_series_generator\u001b[1;34m(self)\u001b[0m\n\u001b[0;32m    288\u001b[0m             \u001b[1;32mfor\u001b[0m \u001b[0mi\u001b[0m\u001b[1;33m,\u001b[0m \u001b[0mv\u001b[0m \u001b[1;32min\u001b[0m \u001b[0menumerate\u001b[0m\u001b[1;33m(\u001b[0m\u001b[0mseries_gen\u001b[0m\u001b[1;33m)\u001b[0m\u001b[1;33m:\u001b[0m\u001b[1;33m\u001b[0m\u001b[1;33m\u001b[0m\u001b[0m\n\u001b[0;32m    289\u001b[0m                 \u001b[1;31m# ignore SettingWithCopy here in case the user mutates\u001b[0m\u001b[1;33m\u001b[0m\u001b[1;33m\u001b[0m\u001b[1;33m\u001b[0m\u001b[0m\n\u001b[1;32m--> 290\u001b[1;33m                 \u001b[0mresults\u001b[0m\u001b[1;33m[\u001b[0m\u001b[0mi\u001b[0m\u001b[1;33m]\u001b[0m \u001b[1;33m=\u001b[0m \u001b[0mself\u001b[0m\u001b[1;33m.\u001b[0m\u001b[0mf\u001b[0m\u001b[1;33m(\u001b[0m\u001b[0mv\u001b[0m\u001b[1;33m)\u001b[0m\u001b[1;33m\u001b[0m\u001b[1;33m\u001b[0m\u001b[0m\n\u001b[0m\u001b[0;32m    291\u001b[0m                 \u001b[1;32mif\u001b[0m \u001b[0misinstance\u001b[0m\u001b[1;33m(\u001b[0m\u001b[0mresults\u001b[0m\u001b[1;33m[\u001b[0m\u001b[0mi\u001b[0m\u001b[1;33m]\u001b[0m\u001b[1;33m,\u001b[0m \u001b[0mABCSeries\u001b[0m\u001b[1;33m)\u001b[0m\u001b[1;33m:\u001b[0m\u001b[1;33m\u001b[0m\u001b[1;33m\u001b[0m\u001b[0m\n\u001b[0;32m    292\u001b[0m                     \u001b[1;31m# If we have a view on v, we need to make a copy because\u001b[0m\u001b[1;33m\u001b[0m\u001b[1;33m\u001b[0m\u001b[1;33m\u001b[0m\u001b[0m\n",
      "\u001b[1;32m<ipython-input-106-987f7dc80a1f>\u001b[0m in \u001b[0;36mfindxy\u001b[1;34m(x)\u001b[0m\n\u001b[0;32m      1\u001b[0m \u001b[1;32mdef\u001b[0m \u001b[0mfindxy\u001b[0m\u001b[1;33m(\u001b[0m\u001b[0mx\u001b[0m\u001b[1;33m)\u001b[0m\u001b[1;33m:\u001b[0m\u001b[1;33m\u001b[0m\u001b[1;33m\u001b[0m\u001b[0m\n\u001b[1;32m----> 2\u001b[1;33m     \u001b[1;32mif\u001b[0m \u001b[0mdata\u001b[0m\u001b[1;33m[\u001b[0m\u001b[1;34m'addr1'\u001b[0m\u001b[1;33m]\u001b[0m \u001b[1;33m==\u001b[0m \u001b[1;32mTrue\u001b[0m \u001b[1;32mand\u001b[0m \u001b[0mdata\u001b[0m\u001b[1;33m[\u001b[0m\u001b[1;34m'mapx'\u001b[0m\u001b[1;33m]\u001b[0m \u001b[1;33m==\u001b[0m \u001b[0mnp\u001b[0m\u001b[1;33m.\u001b[0m\u001b[0mnan\u001b[0m \u001b[1;32mand\u001b[0m \u001b[0mdata\u001b[0m\u001b[1;33m[\u001b[0m\u001b[1;34m'mapy'\u001b[0m\u001b[1;33m]\u001b[0m \u001b[1;33m==\u001b[0m \u001b[0mnp\u001b[0m\u001b[1;33m.\u001b[0m\u001b[0mnan\u001b[0m\u001b[1;33m:\u001b[0m\u001b[1;33m\u001b[0m\u001b[1;33m\u001b[0m\u001b[0m\n\u001b[0m\u001b[0;32m      3\u001b[0m         \u001b[0murl\u001b[0m \u001b[1;33m=\u001b[0m \u001b[1;34m'https://dapi.kakao.com/v2/local/search/keyword.json?query={}'\u001b[0m\u001b[1;33m.\u001b[0m\u001b[0mformat\u001b[0m\u001b[1;33m(\u001b[0m\u001b[0mdata\u001b[0m\u001b[1;33m[\u001b[0m\u001b[1;34m'addr1'\u001b[0m\u001b[1;33m]\u001b[0m\u001b[1;33m)\u001b[0m\u001b[1;33m\u001b[0m\u001b[1;33m\u001b[0m\u001b[0m\n\u001b[0;32m      4\u001b[0m         \u001b[0mheaders\u001b[0m \u001b[1;33m=\u001b[0m \u001b[1;33m{\u001b[0m\u001b[1;34m\"Authorization\"\u001b[0m\u001b[1;33m:\u001b[0m \u001b[1;34m\"KakaoAK ac29d0b5ff83ba31f85e0d6f9f38e797\"\u001b[0m\u001b[1;33m}\u001b[0m\u001b[1;33m\u001b[0m\u001b[1;33m\u001b[0m\u001b[0m\n\u001b[0;32m      5\u001b[0m         \u001b[0mp_s_places\u001b[0m \u001b[1;33m=\u001b[0m \u001b[0mrequests\u001b[0m\u001b[1;33m.\u001b[0m\u001b[0mget\u001b[0m\u001b[1;33m(\u001b[0m\u001b[0murl\u001b[0m\u001b[1;33m,\u001b[0m \u001b[0mheaders\u001b[0m \u001b[1;33m=\u001b[0m \u001b[0mheaders\u001b[0m\u001b[1;33m)\u001b[0m\u001b[1;33m.\u001b[0m\u001b[0mjson\u001b[0m\u001b[1;33m(\u001b[0m\u001b[1;33m)\u001b[0m\u001b[1;33m[\u001b[0m\u001b[1;34m'documents'\u001b[0m\u001b[1;33m]\u001b[0m\u001b[1;33m\u001b[0m\u001b[1;33m\u001b[0m\u001b[0m\n",
      "\u001b[1;32mD:\\Tools\\envs\\cakd3\\lib\\site-packages\\pandas\\core\\generic.py\u001b[0m in \u001b[0;36m__nonzero__\u001b[1;34m(self)\u001b[0m\n\u001b[0;32m   1440\u001b[0m     \u001b[1;33m@\u001b[0m\u001b[0mfinal\u001b[0m\u001b[1;33m\u001b[0m\u001b[1;33m\u001b[0m\u001b[0m\n\u001b[0;32m   1441\u001b[0m     \u001b[1;32mdef\u001b[0m \u001b[0m__nonzero__\u001b[0m\u001b[1;33m(\u001b[0m\u001b[0mself\u001b[0m\u001b[1;33m)\u001b[0m\u001b[1;33m:\u001b[0m\u001b[1;33m\u001b[0m\u001b[1;33m\u001b[0m\u001b[0m\n\u001b[1;32m-> 1442\u001b[1;33m         raise ValueError(\n\u001b[0m\u001b[0;32m   1443\u001b[0m             \u001b[1;34mf\"The truth value of a {type(self).__name__} is ambiguous. \"\u001b[0m\u001b[1;33m\u001b[0m\u001b[1;33m\u001b[0m\u001b[0m\n\u001b[0;32m   1444\u001b[0m             \u001b[1;34m\"Use a.empty, a.bool(), a.item(), a.any() or a.all().\"\u001b[0m\u001b[1;33m\u001b[0m\u001b[1;33m\u001b[0m\u001b[0m\n",
      "\u001b[1;31mValueError\u001b[0m: The truth value of a Series is ambiguous. Use a.empty, a.bool(), a.item(), a.any() or a.all()."
     ]
    }
   ],
   "source": [
    "sample = data.apply(findxy, axis=1)"
   ]
  },
  {
   "cell_type": "code",
   "execution_count": null,
   "id": "c7a03dcb",
   "metadata": {},
   "outputs": [],
   "source": []
  },
  {
   "cell_type": "code",
   "execution_count": null,
   "id": "56fde6f4",
   "metadata": {},
   "outputs": [],
   "source": []
  },
  {
   "cell_type": "code",
   "execution_count": null,
   "id": "64cf94f8",
   "metadata": {},
   "outputs": [],
   "source": []
  },
  {
   "cell_type": "code",
   "execution_count": null,
   "id": "361d7d76",
   "metadata": {},
   "outputs": [],
   "source": []
  },
  {
   "cell_type": "code",
   "execution_count": null,
   "id": "fa2903dd",
   "metadata": {},
   "outputs": [],
   "source": []
  },
  {
   "cell_type": "code",
   "execution_count": null,
   "id": "68d263e3",
   "metadata": {},
   "outputs": [],
   "source": []
  },
  {
   "cell_type": "code",
   "execution_count": null,
   "id": "aba5372e",
   "metadata": {},
   "outputs": [],
   "source": []
  },
  {
   "cell_type": "code",
   "execution_count": null,
   "id": "96932807",
   "metadata": {},
   "outputs": [],
   "source": []
  },
  {
   "cell_type": "code",
   "execution_count": null,
   "id": "8be57efc",
   "metadata": {},
   "outputs": [],
   "source": []
  },
  {
   "cell_type": "code",
   "execution_count": null,
   "id": "79872f12",
   "metadata": {},
   "outputs": [],
   "source": []
  },
  {
   "cell_type": "code",
   "execution_count": null,
   "id": "f1b78815",
   "metadata": {},
   "outputs": [],
   "source": []
  },
  {
   "cell_type": "code",
   "execution_count": null,
   "id": "236f7782",
   "metadata": {},
   "outputs": [],
   "source": []
  },
  {
   "cell_type": "code",
   "execution_count": null,
   "id": "26bec86c",
   "metadata": {},
   "outputs": [],
   "source": []
  },
  {
   "cell_type": "code",
   "execution_count": null,
   "id": "c70181f2",
   "metadata": {},
   "outputs": [],
   "source": []
  },
  {
   "cell_type": "code",
   "execution_count": null,
   "id": "d969cfb3",
   "metadata": {},
   "outputs": [],
   "source": []
  },
  {
   "cell_type": "code",
   "execution_count": null,
   "id": "828f7eca",
   "metadata": {},
   "outputs": [],
   "source": []
  },
  {
   "cell_type": "code",
   "execution_count": null,
   "id": "a49d6d77",
   "metadata": {},
   "outputs": [],
   "source": []
  },
  {
   "cell_type": "code",
   "execution_count": null,
   "id": "572e008e",
   "metadata": {},
   "outputs": [],
   "source": []
  },
  {
   "cell_type": "code",
   "execution_count": null,
   "id": "abeb516b",
   "metadata": {},
   "outputs": [],
   "source": []
  },
  {
   "cell_type": "code",
   "execution_count": null,
   "id": "6856b5ef",
   "metadata": {},
   "outputs": [],
   "source": []
  },
  {
   "cell_type": "code",
   "execution_count": null,
   "id": "c780e75d",
   "metadata": {},
   "outputs": [],
   "source": []
  },
  {
   "cell_type": "code",
   "execution_count": null,
   "id": "330ecb9e",
   "metadata": {},
   "outputs": [],
   "source": []
  },
  {
   "cell_type": "code",
   "execution_count": null,
   "id": "c2e541ab",
   "metadata": {},
   "outputs": [],
   "source": []
  },
  {
   "cell_type": "code",
   "execution_count": null,
   "id": "8f2761fd",
   "metadata": {},
   "outputs": [],
   "source": []
  },
  {
   "cell_type": "code",
   "execution_count": null,
   "id": "ac2b78b8",
   "metadata": {},
   "outputs": [],
   "source": []
  },
  {
   "cell_type": "code",
   "execution_count": null,
   "id": "243a241a",
   "metadata": {},
   "outputs": [],
   "source": []
  },
  {
   "cell_type": "code",
   "execution_count": null,
   "id": "36d1a104",
   "metadata": {},
   "outputs": [],
   "source": []
  },
  {
   "cell_type": "code",
   "execution_count": null,
   "id": "82428657",
   "metadata": {},
   "outputs": [],
   "source": []
  },
  {
   "cell_type": "code",
   "execution_count": 24,
   "id": "7c6e56d3",
   "metadata": {},
   "outputs": [
    {
     "ename": "KeyError",
     "evalue": "'mapx'",
     "output_type": "error",
     "traceback": [
      "\u001b[1;31m---------------------------------------------------------------------------\u001b[0m",
      "\u001b[1;31mKeyError\u001b[0m                                  Traceback (most recent call last)",
      "\u001b[1;32m<ipython-input-24-4d0c9d576cc3>\u001b[0m in \u001b[0;36m<module>\u001b[1;34m\u001b[0m\n\u001b[0;32m     16\u001b[0m     \u001b[0mfirstimage\u001b[0m \u001b[1;33m=\u001b[0m \u001b[0mdd\u001b[0m\u001b[1;33m[\u001b[0m\u001b[0mi\u001b[0m\u001b[1;33m]\u001b[0m\u001b[1;33m[\u001b[0m\u001b[1;34m'firstimage'\u001b[0m\u001b[1;33m]\u001b[0m\u001b[1;33m\u001b[0m\u001b[1;33m\u001b[0m\u001b[0m\n\u001b[0;32m     17\u001b[0m     \u001b[0mfirstimage2\u001b[0m \u001b[1;33m=\u001b[0m \u001b[0mdd\u001b[0m\u001b[1;33m[\u001b[0m\u001b[0mi\u001b[0m\u001b[1;33m]\u001b[0m\u001b[1;33m[\u001b[0m\u001b[1;34m'firstimage2'\u001b[0m\u001b[1;33m]\u001b[0m\u001b[1;33m\u001b[0m\u001b[1;33m\u001b[0m\u001b[0m\n\u001b[1;32m---> 18\u001b[1;33m     \u001b[0mmapx\u001b[0m \u001b[1;33m=\u001b[0m \u001b[0mdd\u001b[0m\u001b[1;33m[\u001b[0m\u001b[0mi\u001b[0m\u001b[1;33m]\u001b[0m\u001b[1;33m[\u001b[0m\u001b[1;34m'mapx'\u001b[0m\u001b[1;33m]\u001b[0m\u001b[1;33m\u001b[0m\u001b[1;33m\u001b[0m\u001b[0m\n\u001b[0m\u001b[0;32m     19\u001b[0m     \u001b[0mmapy\u001b[0m \u001b[1;33m=\u001b[0m \u001b[0mdd\u001b[0m\u001b[1;33m[\u001b[0m\u001b[0mi\u001b[0m\u001b[1;33m]\u001b[0m\u001b[1;33m[\u001b[0m\u001b[1;34m'mapy'\u001b[0m\u001b[1;33m]\u001b[0m\u001b[1;33m\u001b[0m\u001b[1;33m\u001b[0m\u001b[0m\n\u001b[0;32m     20\u001b[0m     \u001b[0mmlevel\u001b[0m \u001b[1;33m=\u001b[0m \u001b[0mdd\u001b[0m\u001b[1;33m[\u001b[0m\u001b[0mi\u001b[0m\u001b[1;33m]\u001b[0m\u001b[1;33m[\u001b[0m\u001b[1;34m'mlevel'\u001b[0m\u001b[1;33m]\u001b[0m\u001b[1;33m\u001b[0m\u001b[1;33m\u001b[0m\u001b[0m\n",
      "\u001b[1;31mKeyError\u001b[0m: 'mapx'"
     ]
    }
   ],
   "source": [
    "cols = ['주소','지역코드','대분류','중분류','소분류','콘텐츠ID','콘텐츠타입ID','등록일','행사종료일','행사시작일','대표이미지',\n",
    "       '썸네일','X좌표','Y좌표','지도레벨','수정일','조회수','시군구코드','전화번호','제목']\n",
    "raw_data = pd.DataFrame(columns=cols)\n",
    "idx = 1\n",
    "for i in range(0,len(dd)):\n",
    "    addr1 = dd[i]['addr1']\n",
    "    areacode = dd[i]['areacode']\n",
    "    cat1= dd[i]['cat1']\n",
    "    cat2 = dd[i]['cat2']\n",
    "    cat3 = dd[i]['cat3']\n",
    "    contentid = dd[i]['contentid']\n",
    "    contenttypeid = dd[i]['contenttypeid']\n",
    "    createdtime = dd[i]['createdtime']\n",
    "    eventenddate = dd[i]['eventenddate']\n",
    "    eventstartdate = dd[i]['eventstartdate']\n",
    "    firstimage = dd[i]['firstimage']\n",
    "    firstimage2 = dd[i]['firstimage2']\n",
    "    mapx = dd[i]['mapx']\n",
    "    mapy = dd[i]['mapy']\n",
    "    mlevel = dd[i]['mlevel']\n",
    "    modifiedtime = dd[i]['modifiedtime']\n",
    "    readcount = dd[i]['readcount']\n",
    "    sigungucode = dd[i]['sigungucode']\n",
    "    tel = dd[i]['tel']\n",
    "    title = dd[i]['title']\n",
    "\n",
    "    raw_data.loc[idx] = [addr1,areacode,cat1,cat2,cat3,contentid,contenttypeid,createdtime,eventenddate,eventstartdate,\n",
    "                         firstimage,firstimage2,mapx,mapy,mlevel,modifiedtime,readcount,sigungucode,\n",
    "                         tel,title]\n",
    "    idx += 1"
   ]
  },
  {
   "cell_type": "code",
   "execution_count": null,
   "id": "cbaea343",
   "metadata": {},
   "outputs": [],
   "source": []
  },
  {
   "cell_type": "code",
   "execution_count": null,
   "id": "9442a745",
   "metadata": {},
   "outputs": [],
   "source": []
  },
  {
   "cell_type": "code",
   "execution_count": null,
   "id": "73a569fd",
   "metadata": {},
   "outputs": [],
   "source": []
  },
  {
   "cell_type": "code",
   "execution_count": null,
   "id": "289c96ed",
   "metadata": {},
   "outputs": [],
   "source": []
  },
  {
   "cell_type": "code",
   "execution_count": null,
   "id": "fc57ceb9",
   "metadata": {},
   "outputs": [],
   "source": []
  }
 ],
 "metadata": {
  "kernelspec": {
   "display_name": "Python 3",
   "language": "python",
   "name": "python3"
  },
  "language_info": {
   "codemirror_mode": {
    "name": "ipython",
    "version": 3
   },
   "file_extension": ".py",
   "mimetype": "text/x-python",
   "name": "python",
   "nbconvert_exporter": "python",
   "pygments_lexer": "ipython3",
   "version": "3.8.10"
  }
 },
 "nbformat": 4,
 "nbformat_minor": 5
}
