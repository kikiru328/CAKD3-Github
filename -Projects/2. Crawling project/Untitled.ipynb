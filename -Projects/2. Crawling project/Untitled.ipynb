{
 "cells": [
  {
   "cell_type": "code",
   "execution_count": 1,
   "id": "6c26f62e",
   "metadata": {},
   "outputs": [
    {
     "name": "stdout",
     "output_type": "stream",
     "text": [
      "Please visit this URL to authorize this application: https://accounts.google.com/o/oauth2/auth?response_type=code&client_id=578855974307-gvb4d608q59865s6pb7fo2ejhlshdiij.apps.googleusercontent.com&redirect_uri=http%3A%2F%2Flocalhost%3A58771%2F&scope=https%3A%2F%2Fwww.googleapis.com%2Fauth%2Fcalendar&state=GFOqdvL6T8rt789e4RWVzhbe0IvzZg&access_type=offline\n"
     ]
    }
   ],
   "source": [
    "# 1. 구글 API 인증\n",
    "from google_auth_oauthlib.flow import InstalledAppFlow\n",
    "\n",
    "# 구글 OAuth 클라이언트 ID Json 파일\n",
    "gcreds_filename = 'Credit.json'\n",
    "# 캘린더에서 사용할 권한\n",
    "SCOPES = ['https://www.googleapis.com/auth/calendar']\n",
    "\n",
    "# 새로운 창에서 로그인 하시면 인증 정보를 얻게 됩니다.\n",
    "flow = InstalledAppFlow.from_client_secrets_file(gcreds_filename, SCOPES)\n",
    "gcreds = flow.run_local_server(port=0)"
   ]
  },
  {
   "cell_type": "code",
   "execution_count": 2,
   "id": "cfa3a4c9",
   "metadata": {},
   "outputs": [],
   "source": [
    "import datetime\n",
    "import requests\n",
    "import urllib\n",
    "import json\n",
    "\n",
    "# 구글 캘린더 API 서비스 객체 생성\n",
    "from googleapiclient.discovery import build\n",
    "\n",
    "service = build('calendar', 'v3', credentials=gcreds)\n",
    "\n",
    "# 조회에 사용될 요청 변수 지정\n",
    "calendar_id = 'primary'                   # 사용할 캘린더 ID\n",
    "today = datetime.date.today().isoformat()\n",
    "time_min = today + 'T00:00:00+09:00'      # 일정을 조회할 최소 날짜\n",
    "time_max = today + 'T23:59:59+09:00'      # 일정을 조회할 최대 날짜\n",
    "max_results = 1                           # 일정을 조회할 최대 개수\n",
    "is_single_events = True                   # 반복 일정의 여부\n",
    "orderby = 'startTime'                     # 일정 정렬\n",
    "\n",
    "# 오늘 일정 가져오기\n",
    "events_result = service.events().list(calendarId = calendar_id,\n",
    "                                      timeMin = time_min,\n",
    "                                      timeMax = time_max,\n",
    "                                      maxResults = max_results,\n",
    "                                      singleEvents = is_single_events,\n",
    "                                      orderBy = orderby).execute()"
   ]
  },
  {
   "cell_type": "code",
   "execution_count": null,
   "id": "8dd142d5",
   "metadata": {},
   "outputs": [],
   "source": []
  }
 ],
 "metadata": {
  "kernelspec": {
   "display_name": "Python 3",
   "language": "python",
   "name": "python3"
  },
  "language_info": {
   "codemirror_mode": {
    "name": "ipython",
    "version": 3
   },
   "file_extension": ".py",
   "mimetype": "text/x-python",
   "name": "python",
   "nbconvert_exporter": "python",
   "pygments_lexer": "ipython3",
   "version": "3.8.10"
  }
 },
 "nbformat": 4,
 "nbformat_minor": 5
}
