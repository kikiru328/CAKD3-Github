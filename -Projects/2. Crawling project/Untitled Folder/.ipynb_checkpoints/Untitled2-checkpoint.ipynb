{
 "cells": [
  {
   "cell_type": "code",
   "execution_count": 1,
   "id": "534fd7ec",
   "metadata": {},
   "outputs": [],
   "source": [
    "import requests\n",
    "import urllib\n",
    "import urllib.request as req\n",
    "from bs4 import BeautifulSoup as bs\n",
    "import selenium\n",
    "from selenium import webdriver\n",
    "from IPython.display import display\n",
    "import pandas as pd\n",
    "import numpy as np\n",
    "import os\n",
    "import datetime\n",
    "import time\n",
    "from googleapiclient.discovery import build\n",
    "from google_auth_oauthlib.flow import InstalledAppFlow\n",
    "from apiclient.discovery import build\n",
    "import random\n",
    "import json\n",
    "import pickle"
   ]
  },
  {
   "cell_type": "code",
   "execution_count": 2,
   "id": "fff8d61a",
   "metadata": {},
   "outputs": [],
   "source": [
    "#오늘 날씨 reminder\n",
    "#네이버 크롤링\n",
    "html = requests.get('https://search.naver.com/search.naver?where=nexearch&sm=top_hty&fbm=1&ie=utf8&query=%EB%82%A0%EC%94%A8')\n",
    "soup = bs(html.text,'html.parser')\n",
    "Wdata = soup.find('div', {'class':'weather_box'})\n",
    "find_lc = Wdata.find('span',{'class':'btn_select'}).text #현위치\n",
    "find_ct = Wdata.find('span',{'class':'todaytemp'}).text  #현재온도\n",
    "find_ht = Wdata.select_one('span.max>span.num').text #최고온도\n",
    "find_lt = Wdata.select_one('span.min>span.num').text  #최저온도\n",
    "find_ft = Wdata.select_one('span.sensible>em>span.num').text#체감온도\n",
    "find_dt = Wdata.select_one('div.today_area._mainTabContent > div.main_info > div > ul > li:nth-child(1) > p').text  #차이\n",
    "find_am_hm = Wdata.select_one('li>span.point_time.morning>span.rain_rate>span.num').text #오전강우확률\n",
    "find_pm_hm = Wdata.select_one('li>span.point_time.afternoon>span.rain_rate>span.num').text #오후강우확률\n",
    "\n",
    "#미세먼지\n",
    "html = requests.get('https://search.naver.com/search.naver?where=nexearch&sm=top_hty&fbm=1&ie=utf8&query=%EB%82%A0%EC%94%A8')\n",
    "soupd = bs(html.text,'html.parser')\n",
    "Ddata = soupd.find('div', {'class':'weather_box'})\n",
    "find_du = Ddata.select_one('dl.indicator>dd>span.num').text\n",
    "\n",
    "ev_du = int(find_du.strip('㎍/㎥'))\n",
    "if ev_du <= 30:\n",
    "    ev_dust = \"좋음\"\n",
    "elif 30 <ev_du<= 80:\n",
    "    ev_dust = \"보통\"\n",
    "elif 80 <ev_du<= 150:\n",
    "    ev_dust = \"나쁨\"\n",
    "else:\n",
    "    ev_dust = \"매우나쁨\"\n",
    "\n",
    "find_M_du = Ddata.select('dl.indicator>dd>span.num')[1].text\n",
    "ev_M_du = find_M_du.strip('㎍/㎥')\n",
    "\n",
    "try: \n",
    "    ev_M_du = int(ev_M_du)\n",
    "    if ev_M_du <= 15:\n",
    "        ev_M_dust = \"좋음\"\n",
    "    elif 15 <ev_M_du<= 50:\n",
    "        ev_M_dust = \"보통\"\n",
    "    elif 51 <ev_M_du<= 100:\n",
    "        ev_M_dust = \"나쁨\"\n",
    "    else:\n",
    "        ev_M_dust = \"매우나쁨\"\n",
    "except ValueError as exception:\n",
    "    ev_M_dust = \"너무좋음\"\n",
    "    \n",
    "t_dust = str(ev_du)\n",
    "u_dust = str(ev_M_du)\n",
    "\n",
    "av_rain = (int(find_am_hm) + int(find_pm_hm))/2\n",
    "av_rain = int(av_rain)\n",
    "av_rain # 비오는날 측정 평균값. 70% 이상 비온다고 판단. \n",
    "\n",
    "c_state = find_dt.split(',')[0] #현재 기상상황\n",
    "d_temp = find_dt.split(',')[1].strip() #어제와다름"
   ]
  },
  {
   "cell_type": "code",
   "execution_count": 3,
   "id": "50bc564c",
   "metadata": {},
   "outputs": [],
   "source": [
    "options = webdriver.ChromeOptions()\n",
    "options.headless = True\n",
    "options.add_argument('window-size-1920x1080')\n",
    "url = 'https://weather.naver.com/'\n",
    "driver = webdriver.Chrome('D:/Tools/chromedriver.exe',options=options)\n",
    "driver.get(url)"
   ]
  },
  {
   "cell_type": "code",
   "execution_count": 4,
   "id": "09b75e7e",
   "metadata": {},
   "outputs": [
    {
     "data": {
      "text/plain": [
       "'높음'"
      ]
     },
     "execution_count": 4,
     "metadata": {},
     "output_type": "execute_result"
    }
   ],
   "source": [
    "uv_st = driver.find_element_by_xpath('//*[@id=\"lifeIndex\"]/div[1]/ul/li[1]/div[1]/strong').text\n",
    "uv_st"
   ]
  },
  {
   "cell_type": "code",
   "execution_count": 5,
   "id": "8476b4b6",
   "metadata": {},
   "outputs": [
    {
     "data": {
      "text/plain": [
       "{'tmp': '25°',\n",
       " 'h_tmp': '34°',\n",
       " 'L_tmp': '24°',\n",
       " 'f_tmp': '27°',\n",
       " 'c_sta': '비',\n",
       " 'd_temp': '어제보다 0˚ 높아요',\n",
       " 'm_rain': '20%',\n",
       " 'd_rain': '60%',\n",
       " 't_dust': '16㎍/㎥',\n",
       " 't_dust_s': '좋음',\n",
       " 'u_dust': '12㎍/㎥',\n",
       " 'u_dust_s': '좋음',\n",
       " 't_uv': '높음'}"
      ]
     },
     "execution_count": 5,
     "metadata": {},
     "output_type": "execute_result"
    }
   ],
   "source": [
    "weather = {}\n",
    "weather['tmp'] = find_ct +\"°\"  #현재기온\n",
    "weather['h_tmp'] = find_ht +\"°\" #오늘 최고기온\n",
    "weather['L_tmp'] = find_lt +\"°\" #오늘 최저기온\n",
    "weather['f_tmp'] = find_ft +\"°\"# 현재 체감온도\n",
    "weather['c_sta'] = c_state # 어제와 다른\n",
    "weather['d_temp'] = d_temp #어제와 다른 온도\n",
    "weather['m_rain'] = find_am_hm + \"%\" # 오전 강우확률\n",
    "weather['d_rain'] = find_pm_hm + \"%\" # 오후 강우확률\n",
    "weather['t_dust'] = t_dust + \"㎍/㎥\"  #오늘 미세먼지\n",
    "weather['t_dust_s'] = ev_dust\n",
    "weather['u_dust'] = u_dust + \"㎍/㎥\"#오늘 초 미세먼지\n",
    "weather['u_dust_s'] = ev_M_dust \n",
    "weather['t_uv'] = uv_st # 자외선지수\n",
    "weather"
   ]
  },
  {
   "cell_type": "code",
   "execution_count": 6,
   "id": "1feb395d",
   "metadata": {},
   "outputs": [
    {
     "data": {
      "text/plain": [
       "'2021-07-18'"
      ]
     },
     "execution_count": 6,
     "metadata": {},
     "output_type": "execute_result"
    }
   ],
   "source": [
    "#오늘 일자\n",
    "today = datetime.date.today().isoformat()\n",
    "today"
   ]
  },
  {
   "cell_type": "code",
   "execution_count": 7,
   "id": "45360264",
   "metadata": {},
   "outputs": [],
   "source": [
    "#날씨정보\n",
    "weather_text = f'''\\\n",
    "오늘의 날씨({today})\n",
    "현재온도 : {weather['tmp']}\n",
    "최고/최저 : {weather['h_tmp']+'/'+weather['L_tmp']}\n",
    "체감온도 : {weather['f_tmp']}\n",
    "현재상황 : {weather['c_sta']}\n",
    "어제비교 : {weather['d_temp']}\n",
    "오전 강우확률 : {weather['m_rain']}\n",
    "오후 강우확률 : {weather['d_rain']}\n",
    "미세먼지 : {weather['t_dust'] , weather['t_dust_s']}\n",
    "초미세먼지 : {weather['u_dust'], weather['u_dust_s']}\n",
    "자외선 : {weather['t_uv']}\n",
    "'''"
   ]
  },
  {
   "cell_type": "code",
   "execution_count": 8,
   "id": "c0d56b2c",
   "metadata": {},
   "outputs": [
    {
     "data": {
      "text/plain": [
       "\"오늘의 날씨(2021-07-18)\\n현재온도 : 25°\\n최고/최저 : 34°/24°\\n체감온도 : 27°\\n현재상황 : 비\\n어제비교 : 어제보다 0˚ 높아요\\n오전 강우확률 : 20%\\n오후 강우확률 : 60%\\n미세먼지 : ('16㎍/㎥', '좋음')\\n초미세먼지 : ('12㎍/㎥', '좋음')\\n자외선 : 높음\\n\""
      ]
     },
     "execution_count": 8,
     "metadata": {},
     "output_type": "execute_result"
    }
   ],
   "source": [
    "weather_text"
   ]
  },
  {
   "cell_type": "code",
   "execution_count": 10,
   "id": "f508745c",
   "metadata": {},
   "outputs": [],
   "source": [
    "kcreds = {\n",
    "    \"access_token\" : \"n_NN-K6IhSjKOVyikLktmmq1oYrm2l9EjLPgigo9dVsAAAF6uh_s0w\"\n",
    "}\n",
    "kheaders = {\n",
    "    \"Authorization\": \"Bearer \" + kcreds.get('access_token')\n",
    "}"
   ]
  },
  {
   "cell_type": "code",
   "execution_count": null,
   "id": "1126cc7f",
   "metadata": {},
   "outputs": [],
   "source": []
  }
 ],
 "metadata": {
  "kernelspec": {
   "display_name": "Python 3",
   "language": "python",
   "name": "python3"
  },
  "language_info": {
   "codemirror_mode": {
    "name": "ipython",
    "version": 3
   },
   "file_extension": ".py",
   "mimetype": "text/x-python",
   "name": "python",
   "nbconvert_exporter": "python",
   "pygments_lexer": "ipython3",
   "version": "3.8.10"
  }
 },
 "nbformat": 4,
 "nbformat_minor": 5
}
