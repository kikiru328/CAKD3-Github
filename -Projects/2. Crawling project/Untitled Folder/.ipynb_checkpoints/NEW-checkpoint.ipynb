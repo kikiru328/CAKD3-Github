{
 "cells": [
  {
   "cell_type": "code",
   "execution_count": 10,
   "id": "8127564a",
   "metadata": {},
   "outputs": [],
   "source": [
    "import pandas as pd"
   ]
  },
  {
   "cell_type": "code",
   "execution_count": 58,
   "id": "22d3a8f0",
   "metadata": {},
   "outputs": [],
   "source": [
    "# Map TO Grid\n",
    "import math\n",
    "NX = 149            ## X축 격자점 수\n",
    "NY = 253            ## Y축 격자점 수\n",
    "\n",
    "Re = 6371.00877     ##  지도반경\n",
    "grid = 5.0          ##  격자간격 (km)\n",
    "slat1 = 30.0        ##  표준위도 1\n",
    "slat2 = 60.0        ##  표준위도 2\n",
    "olon = 126.0        ##  기준점 경도\n",
    "olat = 38.0         ##  기준점 위도\n",
    "xo = 210 / grid     ##  기준점 X좌표\n",
    "yo = 675 / grid     ##  기준점 Y좌표\n",
    "first = 0\n",
    "\n",
    "if first == 0 :\n",
    "    PI = math.asin(1.0) * 2.0\n",
    "    DEGRAD = PI/ 180.0\n",
    "    RADDEG = 180.0 / PI\n",
    "\n",
    "\n",
    "    re = Re / grid\n",
    "    slat1 = slat1 * DEGRAD\n",
    "    slat2 = slat2 * DEGRAD\n",
    "    olon = olon * DEGRAD\n",
    "    olat = olat * DEGRAD\n",
    "\n",
    "    sn = math.tan(PI * 0.25 + slat2 * 0.5) / math.tan(PI * 0.25 + slat1 * 0.5)\n",
    "    sn = math.log(math.cos(slat1) / math.cos(slat2)) / math.log(sn)\n",
    "    sf = math.tan(PI * 0.25 + slat1 * 0.5)\n",
    "    sf = math.pow(sf, sn) * math.cos(slat1) / sn\n",
    "    ro = math.tan(PI * 0.25 + olat * 0.5)\n",
    "    ro = re * sf / math.pow(ro, sn)\n",
    "    first = 1\n",
    "\n",
    "def mapToGrid(lat, lon, code = 0 ):\n",
    "    ra = math.tan(PI * 0.25 + lat * DEGRAD * 0.5)\n",
    "    ra = re * sf / pow(ra, sn)\n",
    "    theta = lon * DEGRAD - olon\n",
    "    if theta > PI :\n",
    "        theta -= 2.0 * PI\n",
    "    if theta < -PI :\n",
    "        theta += 2.0 * PI\n",
    "    theta *= sn\n",
    "    x = (ra * math.sin(theta)) + xo\n",
    "    y = (ro - ra * math.cos(theta)) + yo\n",
    "    x = int(x + 1.5)\n",
    "    y = int(y + 1.5)\n",
    "    return x, y\n",
    "\n",
    "def gridToMap(x, y, code = 1):\n",
    "    x = x - 1\n",
    "    y = y - 1\n",
    "    xn = x - xo\n",
    "    yn = ro - y + yo\n",
    "    ra = math.sqrt(xn * xn + yn * yn)\n",
    "    if sn < 0.0 :\n",
    "        ra = -ra\n",
    "    alat = math.pow((re * sf / ra), (1.0 / sn))\n",
    "    alat = 2.0 * math.atan(alat) - PI * 0.5\n",
    "    if math.fabs(xn) <= 0.0 :\n",
    "        theta = 0.0\n",
    "    else :\n",
    "        if math.fabs(yn) <= 0.0 :\n",
    "            theta = PI * 0.5\n",
    "            if xn < 0.0 :\n",
    "                theta = -theta\n",
    "        else :\n",
    "            theta = math.atan2(xn, yn)\n",
    "    alon = theta / sn + olon\n",
    "    lat = alat * RADDEG\n",
    "    lon = alon * RADDEG\n",
    "\n",
    "    return lat, lon\n",
    "\n",
    "#https://gist.github.com/fronteer-kr/14d7f779d52a21ac2f16/revisions 진짜 사랑합니다"
   ]
  },
  {
   "cell_type": "code",
   "execution_count": 59,
   "id": "8f7ae71b",
   "metadata": {},
   "outputs": [],
   "source": [
    "def getLatLng(x):\n",
    "    import requests\n",
    "    url = 'https://dapi.kakao.com/v2/local/search/keyword.json?query={}'.format(x)\n",
    "    headers = {\"Authorization\": \"KakaoAK ac29d0b5ff83ba31f85e0d6f9f38e797\"}\n",
    "    p_s_places = requests.get(url, headers = headers).json()['documents']\n",
    "\n",
    "    # print(p_s_place) # 리스트내 사전이 여러개가 있을때, 줄바꿈해서 출력방법 모름 --> 알면 UI 상승할 듯\n",
    "    # select_number = int(input('몇 번째 주소인지 입력하세요 : '))\n",
    "    # float(p_s_places[select_number]) ~\n",
    "    p_s_Lat = float(p_s_places[0]['y'])  #위도\n",
    "    p_s_Lng = float(p_s_places[0]['x'])  #경도\n",
    "    return p_s_Lat, p_s_Lng"
   ]
  },
  {
   "cell_type": "code",
   "execution_count": 50,
   "id": "4587db74",
   "metadata": {},
   "outputs": [
    {
     "name": "stdout",
     "output_type": "stream",
     "text": [
      "60 127\n"
     ]
    },
    {
     "data": {
      "text/plain": [
       "str"
      ]
     },
     "execution_count": 50,
     "metadata": {},
     "output_type": "execute_result"
    }
   ],
   "source": [
    "x = '서울 소공동'\n",
    "getLatLng(x)\n",
    "grid = mapToGrid(getLatLng(x)[0],getLatLng(x)[1])\n",
    "gridx = str(grid[0])\n",
    "gridy = str(grid[1])\n",
    "print(gridx,gridy)\n",
    "type(gridx)"
   ]
  },
  {
   "cell_type": "code",
   "execution_count": 85,
   "id": "bafb3bb6",
   "metadata": {},
   "outputs": [],
   "source": [
    "import requests\n",
    "import json\n",
    "import datetime as dt\n",
    "\n",
    "x = '김포 걸포동'\n",
    "getLatLng(x)\n",
    "grid = mapToGrid(getLatLng(x)[0],getLatLng(x)[1])\n",
    "gridx = str(grid[0])\n",
    "gridy = str(grid[1])\n",
    "\n",
    "w_url = \"http://apis.data.go.kr/1360000/VilageFcstInfoService_2.0/getVilageFcst?\"\n",
    "s_key = \"0nvWRjDWerwQGQ7dGwJhCm%2FxEkkbYBiWQXfnf%2BJkkO3dkoTpaGvyy44heAG1hY%2BjV7ZQxbK0LlDdoeer2yORHw%3D%3D\"\n",
    "\n",
    "today = dt.datetime.today()\n",
    "base_date = today.strftime(\"%Y%m%d\")\n",
    "base_time = \"0800\"\n",
    "\n",
    "nx = gridx\n",
    "ny = gridy\n",
    "\n",
    "params = \"serviceKey=\" + s_key + \"&\" + \"numOfRows = 10\" + \"&\" + \"pageNo = 1\" + \"&\" + \"base_date=\" + base_date + \"&\" +\\\n",
    "    \"base_time=\" + base_time + \"&\" + \"nx=\" + nx + \"&\" + \"ny=\" + ny  + \"&\" + \"dataType=json\"\n",
    "\n",
    "res = requests.get(w_url + params)\n",
    "data = res.json()['response']['body']['items']['item']\n"
   ]
  },
  {
   "cell_type": "code",
   "execution_count": 88,
   "id": "7ca448ea",
   "metadata": {},
   "outputs": [
    {
     "ename": "NameError",
     "evalue": "name 'weather_data' is not defined",
     "output_type": "error",
     "traceback": [
      "\u001b[1;31m---------------------------------------------------------------------------\u001b[0m",
      "\u001b[1;31mNameError\u001b[0m                                 Traceback (most recent call last)",
      "\u001b[1;32m<ipython-input-88-27188865ae15>\u001b[0m in \u001b[0;36m<module>\u001b[1;34m\u001b[0m\n\u001b[0;32m      4\u001b[0m         \u001b[0mweather_data\u001b[0m\u001b[1;33m[\u001b[0m\u001b[1;34m'tmp'\u001b[0m\u001b[1;33m]\u001b[0m \u001b[1;33m=\u001b[0m \u001b[0mcat\u001b[0m\u001b[1;33m[\u001b[0m\u001b[1;34m'fcstValue'\u001b[0m\u001b[1;33m]\u001b[0m\u001b[1;33m\u001b[0m\u001b[1;33m\u001b[0m\u001b[0m\n\u001b[0;32m      5\u001b[0m \u001b[1;33m\u001b[0m\u001b[0m\n\u001b[1;32m----> 6\u001b[1;33m \u001b[0md\u001b[0m\u001b[1;33m[\u001b[0m\u001b[1;34m'weather'\u001b[0m\u001b[1;33m]\u001b[0m \u001b[1;33m=\u001b[0m \u001b[0mweather_data\u001b[0m\u001b[1;33m\u001b[0m\u001b[1;33m\u001b[0m\u001b[0m\n\u001b[0m",
      "\u001b[1;31mNameError\u001b[0m: name 'weather_data' is not defined"
     ]
    }
   ],
   "source": [
    "d = {}\n",
    "for cat in data:\n",
    "    if cat['category'] == 'T3H':\n",
    "        weather_data['tmp'] = cat['fcstValue']\n",
    "\n",
    "d['weather'] = weather_data\n"
   ]
  },
  {
   "cell_type": "code",
   "execution_count": null,
   "id": "33646ee0",
   "metadata": {},
   "outputs": [],
   "source": []
  }
 ],
 "metadata": {
  "kernelspec": {
   "display_name": "Python 3",
   "language": "python",
   "name": "python3"
  },
  "language_info": {
   "codemirror_mode": {
    "name": "ipython",
    "version": 3
   },
   "file_extension": ".py",
   "mimetype": "text/x-python",
   "name": "python",
   "nbconvert_exporter": "python",
   "pygments_lexer": "ipython3",
   "version": "3.8.10"
  }
 },
 "nbformat": 4,
 "nbformat_minor": 5
}
