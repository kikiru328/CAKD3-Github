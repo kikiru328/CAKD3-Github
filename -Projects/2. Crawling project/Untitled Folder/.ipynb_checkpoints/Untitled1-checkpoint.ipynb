{
 "cells": [
  {
   "cell_type": "code",
   "execution_count": 1,
   "id": "5d55b755",
   "metadata": {},
   "outputs": [],
   "source": [
    "import tkinter"
   ]
  },
  {
   "cell_type": "code",
   "execution_count": 34,
   "id": "2fb5f174",
   "metadata": {},
   "outputs": [],
   "source": [
    "def countUP():\n",
    "    global count\n",
    "    count +=1\n",
    "    label.config(text=str(count))\n",
    "    \n",
    "def calc(event):\n",
    "    label.config(text=\"결과=\"+str(eval(entry.get())))\n",
    "    \n",
    "# entry=tkinter.Entry(win)\n",
    "# entry.bind(\"<Return>\", calc)\n",
    "# entry.pack()\n",
    "\n"
   ]
  },
  {
   "cell_type": "code",
   "execution_count": 38,
   "id": "61422ac7",
   "metadata": {},
   "outputs": [],
   "source": [
    "win = tkinter.Tk()\n",
    "win.title(\"API공부하다사망\")\n",
    "win.geometry(\"640x400+100+100\")\n",
    "win.resizable(False,False)\n",
    "\n",
    "\n",
    "\n",
    "listbox = tkinter.Listbox(win, selectmode='extended', height=0)\n",
    "listbox.insert(0, \"1번\")\n",
    "listbox.insert(1, \"2번\")\n",
    "listbox.insert(2, \"2번\")\n",
    "listbox.insert(3, \"2번\")\n",
    "listbox.insert(4, \"3번\")\n",
    "listbox.delete(1, 2)\n",
    "listbox.pack()\n",
    "\n",
    "\n",
    "\n",
    "\n",
    "label=tkinter.Label(win, text=\"파이썬\", width=10, height=2, fg=\"black\", relief=\"flat\")\n",
    "label.pack()\n",
    "\n",
    "button = tkinter.Button(win, overrelief=\"solid\", width=15, command=countUP, repeatdelay=1000, repeatinterval=100)\n",
    "button.pack()\n",
    "\n",
    "win.mainloop()"
   ]
  },
  {
   "cell_type": "markdown",
   "id": "fef0068f",
   "metadata": {},
   "source": [
    "###### "
   ]
  }
 ],
 "metadata": {
  "kernelspec": {
   "display_name": "Python 3",
   "language": "python",
   "name": "python3"
  },
  "language_info": {
   "codemirror_mode": {
    "name": "ipython",
    "version": 3
   },
   "file_extension": ".py",
   "mimetype": "text/x-python",
   "name": "python",
   "nbconvert_exporter": "python",
   "pygments_lexer": "ipython3",
   "version": "3.8.10"
  }
 },
 "nbformat": 4,
 "nbformat_minor": 5
}
