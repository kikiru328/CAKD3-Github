{
 "cells": [
  {
   "cell_type": "code",
   "execution_count": 21,
   "id": "5d55b755",
   "metadata": {},
   "outputs": [],
   "source": [
    "from tkinter import *\n",
    "from tkinter import ttk"
   ]
  },
  {
   "cell_type": "code",
   "execution_count": null,
   "id": "ef99991a",
   "metadata": {},
   "outputs": [],
   "source": [
    "def keys():\n",
    "    if ent1\n",
    "    "
   ]
  },
  {
   "cell_type": "code",
   "execution_count": null,
   "id": "e226b310",
   "metadata": {},
   "outputs": [],
   "source": []
  },
  {
   "cell_type": "code",
   "execution_count": null,
   "id": "e3edde6c",
   "metadata": {},
   "outputs": [],
   "source": []
  },
  {
   "cell_type": "code",
   "execution_count": null,
   "id": "cfbd181a",
   "metadata": {},
   "outputs": [],
   "source": []
  },
  {
   "cell_type": "code",
   "execution_count": 42,
   "id": "33ec6675",
   "metadata": {},
   "outputs": [],
   "source": [
    "prog =Tk()\n",
    "prog.title('API공부하다 죽은 귀신, 떼깔또한 좋지 않다')\n",
    "prog.geometry('320x100')\n",
    "prog.resizable(False,False)\n",
    "\n",
    "btn1 = Button(prog,text='오늘의 날씨가 궁금하십니까?')\n",
    "btn1.pack()\n",
    "\n",
    "btn2 = Button(prog,text='오늘의 음식이 궁금하십니까?')\n",
    "btn2.pack()\n",
    "\n",
    "btn3 = Button(prog,text='오늘 뭐하셔야할지 궁금하십니까?')\n",
    "btn3.pack()\n",
    "\n",
    "prog.mainloop()"
   ]
  },
  {
   "cell_type": "code",
   "execution_count": null,
   "id": "a8d71c63",
   "metadata": {},
   "outputs": [],
   "source": []
  },
  {
   "cell_type": "code",
   "execution_count": null,
   "id": "615c349c",
   "metadata": {},
   "outputs": [],
   "source": []
  }
 ],
 "metadata": {
  "kernelspec": {
   "display_name": "Python 3",
   "language": "python",
   "name": "python3"
  },
  "language_info": {
   "codemirror_mode": {
    "name": "ipython",
    "version": 3
   },
   "file_extension": ".py",
   "mimetype": "text/x-python",
   "name": "python",
   "nbconvert_exporter": "python",
   "pygments_lexer": "ipython3",
   "version": "3.8.10"
  }
 },
 "nbformat": 4,
 "nbformat_minor": 5
}
