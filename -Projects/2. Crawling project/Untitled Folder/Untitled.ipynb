{
 "cells": [
  {
   "cell_type": "code",
   "execution_count": 2,
   "id": "d7fe94ff",
   "metadata": {},
   "outputs": [],
   "source": [
    "import requests\n",
    "import urllib\n",
    "import urllib.request as req\n",
    "from bs4 import BeautifulSoup as bs\n",
    "import selenium\n",
    "from selenium import webdriver\n",
    "from IPython.display import display\n",
    "import pandas as pd\n",
    "import numpy as np\n",
    "import os\n",
    "import datetime\n",
    "import time\n",
    "from googleapiclient.discovery import build\n",
    "from google_auth_oauthlib.flow import InstalledAppFlow\n",
    "from apiclient.discovery import build\n",
    "import random\n",
    "import json\n",
    "import pickle"
   ]
  },
  {
   "cell_type": "code",
   "execution_count": 3,
   "id": "e88d99c8",
   "metadata": {},
   "outputs": [],
   "source": [
    "#오늘 날씨 reminder\n",
    "#네이버 크롤링\n",
    "html = requests.get('https://search.naver.com/search.naver?where=nexearch&sm=top_hty&fbm=1&ie=utf8&query=%EB%82%A0%EC%94%A8')\n",
    "soup = bs(html.text,'html.parser')\n",
    "Wdata = soup.find('div', {'class':'weather_box'})\n",
    "find_lc = Wdata.find('span',{'class':'btn_select'}).text #현위치\n",
    "find_ct = Wdata.find('span',{'class':'todaytemp'}).text  #현재온도\n",
    "find_ht = Wdata.select_one('span.max>span.num').text #최고온도\n",
    "find_lt = Wdata.select_one('span.min>span.num').text  #최저온도\n",
    "find_ft = Wdata.select_one('span.sensible>em>span.num').text#체감온도\n",
    "find_dt = Wdata.select_one('div.today_area._mainTabContent > div.main_info > div > ul > li:nth-child(1) > p').text  #차이\n",
    "find_am_hm = Wdata.select_one('li>span.point_time.morning>span.rain_rate>span.num').text #오전강우확률\n",
    "find_pm_hm = Wdata.select_one('li>span.point_time.afternoon>span.rain_rate>span.num').text #오후강우확률\n",
    "\n",
    "#미세먼지\n",
    "html = requests.get('https://search.naver.com/search.naver?where=nexearch&sm=top_hty&fbm=1&ie=utf8&query=%EB%82%A0%EC%94%A8')\n",
    "soupd = bs(html.text,'html.parser')\n",
    "Ddata = soupd.find('div', {'class':'weather_box'})\n",
    "find_du = Ddata.select_one('dl.indicator>dd>span.num').text\n",
    "\n",
    "ev_du = int(find_du.strip('㎍/㎥'))\n",
    "if ev_du <= 30:\n",
    "    ev_dust = \"좋음\"\n",
    "elif 30 <ev_du<= 80:\n",
    "    ev_dust = \"보통\"\n",
    "elif 80 <ev_du<= 150:\n",
    "    ev_dust = \"나쁨\"\n",
    "else:\n",
    "    ev_dust = \"매우나쁨\"\n",
    "\n",
    "find_M_du = Ddata.select('dl.indicator>dd>span.num')[1].text\n",
    "ev_M_du = find_M_du.strip('㎍/㎥')\n",
    "\n",
    "try: \n",
    "    ev_M_du = int(ev_M_du)\n",
    "    if ev_M_du <= 15:\n",
    "        ev_M_dust = \"좋음\"\n",
    "    elif 15 <ev_M_du<= 50:\n",
    "        ev_M_dust = \"보통\"\n",
    "    elif 51 <ev_M_du<= 100:\n",
    "        ev_M_dust = \"나쁨\"\n",
    "    else:\n",
    "        ev_M_dust = \"매우나쁨\"\n",
    "except ValueError as exception:\n",
    "    ev_M_dust = \"너무좋음\"\n",
    "    \n",
    "t_dust = str(ev_du)\n",
    "u_dust = str(ev_M_du)\n",
    "\n",
    "av_rain = (int(find_am_hm) + int(find_pm_hm))/2\n",
    "av_rain = int(av_rain)\n",
    "av_rain # 비오는날 측정 평균값. 70% 이상 비온다고 판단. \n",
    "\n",
    "c_state = find_dt.split(',')[0] #현재 기상상황\n",
    "d_temp = find_dt.split(',')[1].strip() #어제와다름"
   ]
  },
  {
   "cell_type": "code",
   "execution_count": 4,
   "id": "93179196",
   "metadata": {},
   "outputs": [],
   "source": [
    "options = webdriver.ChromeOptions()\n",
    "options.headless = True\n",
    "options.add_argument('window-size-1920x1080')\n",
    "url = 'https://weather.naver.com/'\n",
    "driver = webdriver.Chrome('D:/Tools/chromedriver.exe',options=options)\n",
    "driver.get(url)"
   ]
  },
  {
   "cell_type": "code",
   "execution_count": 5,
   "id": "09f097f9",
   "metadata": {},
   "outputs": [
    {
     "data": {
      "text/plain": [
       "'보통'"
      ]
     },
     "execution_count": 5,
     "metadata": {},
     "output_type": "execute_result"
    }
   ],
   "source": [
    "uv_st = driver.find_element_by_xpath('//*[@id=\"lifeIndex\"]/div[1]/ul/li[1]/div[1]/strong').text\n",
    "uv_st"
   ]
  },
  {
   "cell_type": "code",
   "execution_count": 6,
   "id": "c07ecdda",
   "metadata": {},
   "outputs": [
    {
     "data": {
      "text/plain": [
       "{'tmp': '24°',\n",
       " 'h_tmp': '33°',\n",
       " 'L_tmp': '25°',\n",
       " 'f_tmp': '26°',\n",
       " 'c_sta': '비',\n",
       " 'd_temp': '어제보다 1˚ 낮아요',\n",
       " 'm_rain': '60%',\n",
       " 'd_rain': '60%',\n",
       " 't_dust': '2㎍/㎥',\n",
       " 't_dust_s': '좋음',\n",
       " 'u_dust': '2㎍/㎥',\n",
       " 'u_dust_s': '좋음',\n",
       " 't_uv': '보통'}"
      ]
     },
     "execution_count": 6,
     "metadata": {},
     "output_type": "execute_result"
    }
   ],
   "source": [
    "weather = {}\n",
    "weather['tmp'] = find_ct +\"°\"  #현재기온\n",
    "weather['h_tmp'] = find_ht +\"°\" #오늘 최고기온\n",
    "weather['L_tmp'] = find_lt +\"°\" #오늘 최저기온\n",
    "weather['f_tmp'] = find_ft +\"°\"# 현재 체감온도\n",
    "weather['c_sta'] = c_state # 어제와 다른\n",
    "weather['d_temp'] = d_temp #어제와 다른 온도\n",
    "weather['m_rain'] = find_am_hm + \"%\" # 오전 강우확률\n",
    "weather['d_rain'] = find_pm_hm + \"%\" # 오후 강우확률\n",
    "weather['t_dust'] = t_dust + \"㎍/㎥\"  #오늘 미세먼지\n",
    "weather['t_dust_s'] = ev_dust\n",
    "weather['u_dust'] = u_dust + \"㎍/㎥\"#오늘 초 미세먼지\n",
    "weather['u_dust_s'] = ev_M_dust \n",
    "weather['t_uv'] = uv_st # 자외선지수\n",
    "weather"
   ]
  },
  {
   "cell_type": "code",
   "execution_count": 7,
   "id": "2296e492",
   "metadata": {},
   "outputs": [
    {
     "data": {
      "text/plain": [
       "'2021-07-19'"
      ]
     },
     "execution_count": 7,
     "metadata": {},
     "output_type": "execute_result"
    }
   ],
   "source": [
    "#오늘 일자\n",
    "today = datetime.date.today().isoformat()\n",
    "today"
   ]
  },
  {
   "cell_type": "code",
   "execution_count": 8,
   "id": "7826f0c9",
   "metadata": {},
   "outputs": [],
   "source": [
    "#날씨정보\n",
    "weather_text = f'''\\\n",
    "오늘의 날씨({today})\n",
    "현재온도 : {weather['tmp']}\n",
    "최고/최저 : {weather['h_tmp']+'/'+weather['L_tmp']}\n",
    "체감온도 : {weather['f_tmp']}\n",
    "현재상황 : {weather['c_sta']}\n",
    "어제비교 : {weather['d_temp']}\n",
    "오전 강우확률 : {weather['m_rain']}\n",
    "오후 강우확률 : {weather['d_rain']}\n",
    "미세먼지 : {weather['t_dust'] , weather['t_dust_s']}\n",
    "초미세먼지 : {weather['u_dust'], weather['u_dust_s']}\n",
    "자외선 : {weather['t_uv']}\n",
    "'''"
   ]
  },
  {
   "cell_type": "code",
   "execution_count": 9,
   "id": "c11e1c18",
   "metadata": {},
   "outputs": [
    {
     "data": {
      "text/plain": [
       "\"오늘의 날씨(2021-07-19)\\n현재온도 : 24°\\n최고/최저 : 33°/25°\\n체감온도 : 26°\\n현재상황 : 비\\n어제비교 : 어제보다 1˚ 낮아요\\n오전 강우확률 : 60%\\n오후 강우확률 : 60%\\n미세먼지 : ('2㎍/㎥', '좋음')\\n초미세먼지 : ('2㎍/㎥', '좋음')\\n자외선 : 보통\\n\""
      ]
     },
     "execution_count": 9,
     "metadata": {},
     "output_type": "execute_result"
    }
   ],
   "source": [
    "weather_text"
   ]
  },
  {
   "cell_type": "code",
   "execution_count": null,
   "id": "82fa2de2",
   "metadata": {},
   "outputs": [],
   "source": []
  },
  {
   "cell_type": "code",
   "execution_count": null,
   "id": "91227d34",
   "metadata": {},
   "outputs": [],
   "source": [
    "#구글 캘린더 api\n",
    "#엑세스 요청사항\n",
    "gcred_file = '../Credit.json'\n",
    "scope = ['https://www.googleapis.com/auth/calendar']\n",
    "flow = InstalledAppFlow.from_client_secrets_file(gcred_file, scope)\n",
    "gcreds = flow.run_local_server()"
   ]
  },
  {
   "cell_type": "code",
   "execution_count": null,
   "id": "f02d68d2",
   "metadata": {},
   "outputs": [],
   "source": [
    "service = build('calendar','v3',credentials=gcreds)\n",
    "calendar_id = 'o9s9ke801ob4e8lkojmqefoe8k@group.calendar.google.com' # 사용할 캘린더 id\n",
    "today = datetime.date.today().isoformat()\n",
    "time_min = today + 'T00:00:00+09:00'\n",
    "time_max = today + 'T23:59:59+09:00'\n",
    "max_results = 1 #일정 조회 최대 개수\n",
    "is_single_events = True #반복일정여부\n",
    "orderby = 'startTime' #일정 정렬\n",
    "\n",
    "#오늘 일정 가져오기\n",
    "events_result = service.events().list(calendarId = calendar_id,\n",
    "                                     timeMin = time_min,\n",
    "                                     timeMax = time_max,\n",
    "                                     maxResults = max_results,\n",
    "                                     singleEvents = is_single_events,\n",
    "                                     orderBy = orderby).execute()\n"
   ]
  },
  {
   "cell_type": "code",
   "execution_count": null,
   "id": "fc39fb2f",
   "metadata": {},
   "outputs": [],
   "source": [
    "items = events_result.get('items')\n",
    "item = items[0]"
   ]
  },
  {
   "cell_type": "code",
   "execution_count": null,
   "id": "97682480",
   "metadata": {},
   "outputs": [],
   "source": [
    "start_date = item['start']['dateTime']\n",
    "s_day = start_date.split('T')[0]\n",
    "s_time = start_date.split('T')[1]\n",
    "s_time = s_time.split('+')[0]\n",
    "\n",
    "end_date = item['end']['dateTime']\n",
    "e_day = end_date.split('T')[0]\n",
    "e_time = end_date.split('T')[1]\n",
    "e_time = e_time.split('+')[0]"
   ]
  },
  {
   "cell_type": "code",
   "execution_count": null,
   "id": "e26f5e50",
   "metadata": {},
   "outputs": [],
   "source": [
    "location = item['location'].split(',')[0].strip()"
   ]
  },
  {
   "cell_type": "code",
   "execution_count": null,
   "id": "29e91f8a",
   "metadata": {},
   "outputs": [],
   "source": [
    "schedule = {}\n",
    "\n",
    "schedule['title'] = item.get('summary')\n",
    "schedule['category'] = item['organizer']['displayName']\n",
    "schedule['details'] = item.get('description')\n",
    "schedule['location'] = item.get('location')\n",
    "schedule['s_day'] = s_day\n",
    "schedule['s_time'] = s_time\n",
    "schedule['e_day'] = e_day\n",
    "schedule['e_time'] = e_time\n"
   ]
  },
  {
   "cell_type": "code",
   "execution_count": null,
   "id": "60cb7959",
   "metadata": {},
   "outputs": [],
   "source": [
    "schedule"
   ]
  },
  {
   "cell_type": "code",
   "execution_count": null,
   "id": "b6ce4d62",
   "metadata": {},
   "outputs": [],
   "source": [
    "schedule_text =f'''\\\n",
    "#오늘의 해야할것 : {schedule['title']}\n",
    "스케쥴 카테고리 : {schedule['category']}\n",
    "스케쥴 세부사항 : {schedule['details']}\n",
    "스케쥴 위치 : {schedule['location']}\n",
    "시작일시 : {schedule['s_day'],schedule['s_time']}\n",
    "종료일시 : {schedule['e_day'],schedule['e_time']}\n",
    "'''"
   ]
  },
  {
   "cell_type": "code",
   "execution_count": null,
   "id": "6cba201d",
   "metadata": {},
   "outputs": [],
   "source": [
    "schedule_text"
   ]
  },
  {
   "cell_type": "code",
   "execution_count": 10,
   "id": "b061575c",
   "metadata": {},
   "outputs": [],
   "source": [
    "#음식추천"
   ]
  },
  {
   "cell_type": "code",
   "execution_count": 11,
   "id": "56fc4b5c",
   "metadata": {},
   "outputs": [],
   "source": [
    "ncreds = {\n",
    "    'client_id' : \"IS7Lmhp7lT6z4uFNjEG5\",\n",
    "    \"client_secret\" : \"05CLjBMpLC\"    \n",
    "}\n",
    "nheaders = {\n",
    "    \"X-Naver-Client-Id\" : ncreds.get('client_id'),\n",
    "    \"X-Naver-Client-Secret\" : ncreds.get('client_secret')\n",
    "}"
   ]
  },
  {
   "cell_type": "code",
   "execution_count": 12,
   "id": "bd926038",
   "metadata": {},
   "outputs": [],
   "source": [
    "#기온별 음식\n",
    "low_temp = \"부대찌개,해물탕,칼국수,국밥,마라탕,우동,청국장,된장찌개,김치찌개,국수,소주\".split(',')\n",
    "high_temp = \"냉면,소바,비빔국수,맥주,밀면,샐러드,베이글,돈까스,카레,짜장면\".split(',')\n",
    "rain = '파전,빈대떡,전'.split(',')"
   ]
  },
  {
   "cell_type": "code",
   "execution_count": 13,
   "id": "ce00f552",
   "metadata": {},
   "outputs": [],
   "source": [
    "if 25 <= int(find_ct):\n",
    "    weather = 'high'\n",
    "elif 18 > int(find_ct):\n",
    "    weather = 'low'\n",
    "elif 70 < av_rain:\n",
    "    weather = 'rain'\n",
    "else:\n",
    "    weather = 'fine'\n",
    "    \n",
    "    "
   ]
  },
  {
   "cell_type": "code",
   "execution_count": 14,
   "id": "3c59c436",
   "metadata": {},
   "outputs": [
    {
     "data": {
      "text/plain": [
       "['']"
      ]
     },
     "execution_count": 14,
     "metadata": {},
     "output_type": "execute_result"
    }
   ],
   "source": [
    "import random\n",
    "foods = None #아무 것도 없는 변수 생성\n",
    "if weather == 'high' :\n",
    "    foods = random.sample(high_temp,k=len(high_temp))\n",
    "elif weather == 'low' :\n",
    "    foods = random.sample(low_temp,k=len(low_temp))\n",
    "elif weather == 'rain':\n",
    "    foods = random.sample(rain,k=len(rain))\n",
    "else:\n",
    "    foods=['']\n",
    "    \n",
    "foods"
   ]
  },
  {
   "cell_type": "code",
   "execution_count": 15,
   "id": "6e3c9255",
   "metadata": {},
   "outputs": [],
   "source": [
    "location1= find_lc"
   ]
  },
  {
   "cell_type": "code",
   "execution_count": 16,
   "id": "136d2b45",
   "metadata": {},
   "outputs": [],
   "source": [
    "params_format = \"sort=comment&query=\"\n",
    "naver_url = \"https://openapi.naver.com/v1/search/local.json?\"\n",
    "params_format = 'sort=comment&query='\n",
    "recommands = []\n",
    "location = location1\n",
    "for food in foods:\n",
    "    query = location1 + \" \" + food + '맛집'\n",
    "    params = params_format + query + '&display=' + '5'\n",
    "    res = requests.get(naver_url+params, headers=nheaders)\n",
    "    result = res.json().get('items')\n",
    "    \n",
    "    if weather == 'fine':\n",
    "        for i in range(0,3):\n",
    "            recommands.append(result[i])\n",
    "        break\n",
    "        \n",
    "    if result:\n",
    "        recommands.append(result[0])\n",
    "        if len(recommands) >= 3:\n",
    "            break"
   ]
  },
  {
   "cell_type": "code",
   "execution_count": 17,
   "id": "bab5a870",
   "metadata": {},
   "outputs": [
    {
     "data": {
      "text/plain": [
       "[{'title': '금포칼국수',\n",
       "  'link': '',\n",
       "  'category': '한식>칼국수,만두',\n",
       "  'description': '',\n",
       "  'telephone': '',\n",
       "  'address': '경기도 김포시 장기동 2023-1',\n",
       "  'roadAddress': '경기도 김포시 김포한강2로23번길 60 1층',\n",
       "  'mapx': '283687',\n",
       "  'mapy': '560631'},\n",
       " {'title': '빵선생 운양점',\n",
       "  'link': 'http://www.bbangsseam.com/',\n",
       "  'category': '카페,디저트>베이커리',\n",
       "  'description': '',\n",
       "  'telephone': '',\n",
       "  'address': '경기도 김포시 운양동 1298-3 헤리움타운 1층',\n",
       "  'roadAddress': '경기도 김포시 김포한강1로 247 헤리움타운 1층',\n",
       "  'mapx': '284127',\n",
       "  'mapy': '562127'},\n",
       " {'title': '쿠우쿠우 김포운양점',\n",
       "  'link': 'http://www.qooqoo.co.kr/',\n",
       "  'category': '음식점>일식,초밥뷔페',\n",
       "  'description': '',\n",
       "  'telephone': '',\n",
       "  'address': '경기도 김포시 운양동 1307-3',\n",
       "  'roadAddress': '경기도 김포시 김포한강1로 250 골든타임 9층',\n",
       "  'mapx': '284171',\n",
       "  'mapy': '562035'}]"
      ]
     },
     "execution_count": 17,
     "metadata": {},
     "output_type": "execute_result"
    }
   ],
   "source": [
    "recommands"
   ]
  },
  {
   "cell_type": "code",
   "execution_count": 18,
   "id": "bc18b1b5",
   "metadata": {},
   "outputs": [],
   "source": [
    "kcreds = {\n",
    "    \"access_token\" : \"VuisqIwpcFVb13bVd0O4MS4qlAV2QQpP_LNEUQopcNEAAAF6uit4-w\"\n",
    "}\n",
    "kheaders = {\n",
    "    \"Authorization\": \"Bearer \" + kcreds.get('access_token')\n",
    "}"
   ]
  },
  {
   "cell_type": "code",
   "execution_count": 19,
   "id": "5ebd229b",
   "metadata": {},
   "outputs": [
    {
     "name": "stdout",
     "output_type": "stream",
     "text": [
      "메시지를 성공적으로 보냈습니다.\n"
     ]
    }
   ],
   "source": [
    "import json\n",
    "\n",
    "# 카카오톡 URL 주소\n",
    "kakaotalk_template_url = \"https://kapi.kakao.com/v2/api/talk/memo/default/send\"\n",
    "\n",
    "# 날씨 상세 정보 URL\n",
    "weather_url = \"https://search.naver.com/search.naver?sm=top_hty&fbm=0&ie=utf8&query=%EB%82%A0%EC%94%A8\"\n",
    "\n",
    "# 날씨 정보 만들기 \n",
    "text = weather_text\n",
    "\n",
    "# 텍스트 템플릿 형식 만들기\n",
    "template = {\n",
    "  \"object_type\": \"text\",\n",
    "  \"text\": text,\n",
    "  \"link\": {\n",
    "    \"web_url\": weather_url,\n",
    "    \"mobile_web_url\": weather_url\n",
    "  },\n",
    "  \"button_title\": \"날씨 상세보기\"\n",
    "}\n",
    "\n",
    "# JSON 형식 -> 문자열 변환\n",
    "payload = {\n",
    "    \"template_object\" : json.dumps(template)\n",
    "}\n",
    "\n",
    "# 카카오톡 보내기\n",
    "res = requests.post(kakaotalk_template_url, data=payload, headers=kheaders)\n",
    "\n",
    "if res.json().get('result_code') == 0:\n",
    "    print('메시지를 성공적으로 보냈습니다.')\n",
    "else:\n",
    "    print('메시지를 성공적으로 보내지 못했습니다. 오류메시지 : ' + str(res.json()))"
   ]
  },
  {
   "cell_type": "code",
   "execution_count": null,
   "id": "2bbd4651",
   "metadata": {},
   "outputs": [],
   "source": [
    "import json\n",
    "\n",
    "# 카카오톡 URL 주소\n",
    "kakaotalk_template_url = \"https://kapi.kakao.com/v2/api/talk/memo/default/send\"\n",
    "\n",
    "# 스케쥴 상세 정보 URL\n",
    "schedule_url = \"https://search.naver.com/search.naver?where=nexearch&sm=top_hty&fbm=0&ie=utf8&query=%EA%B5%AC%EA%B8%80%EC%BA%98%EB%A6%B0%EB%8D%94\"\n",
    "\n",
    "# 스케쥴 정보 만들기 \n",
    "text = schedule_text\n",
    "\n",
    "# 텍스트 템플릿 형식 만들기\n",
    "template = {\n",
    "  \"object_type\": \"text\",\n",
    "  \"text\": text,\n",
    "  \"link\": {\n",
    "    \"web_url\": schedule_url,\n",
    "    \"mobile_web_url\": schedule_url\n",
    "  },\n",
    "  \"button_title\": \"스케쥴 상세보기\"\n",
    "}\n",
    "\n",
    "# JSON 형식 -> 문자열 변환\n",
    "payload = {\n",
    "    \"template_object\" : json.dumps(template)\n",
    "}\n",
    "\n",
    "# 카카오톡 보내기\n",
    "res = requests.post(kakaotalk_template_url, data=payload, headers=kheaders)\n",
    "\n",
    "if res.json().get('result_code') == 0:\n",
    "    print('메시지를 성공적으로 보냈습니다.')\n",
    "else:\n",
    "    print('메시지를 성공적으로 보내지 못했습니다. 오류메시지 : ' + str(res.json()))"
   ]
  },
  {
   "cell_type": "code",
   "execution_count": 20,
   "id": "d009ca81",
   "metadata": {},
   "outputs": [
    {
     "name": "stdout",
     "output_type": "stream",
     "text": [
      "메시지를 성공적으로 보냈습니다.\n"
     ]
    }
   ],
   "source": [
    "contents = []\n",
    "template = {\n",
    "    \"object_type\" : \"list\",\n",
    "    \"header_title\" : \"현재 날씨에 따른 음식 추천\",\n",
    "    \"header_link\" : {\n",
    "        \"web_url\": weather_url,\n",
    "        \"mobile_web_url\" : weather_url\n",
    "    },\n",
    "    \"contents\" : contents,\n",
    "    \"buttons\" : [\n",
    "        {\n",
    "            \"title\" : \"날씨 정보 상세보기\",\n",
    "            \"link\" : {\n",
    "                \"web_url\": weather_url,\n",
    "                \"mobile_web_url\" : weather_url\n",
    "            }\n",
    "        }\n",
    "    ],\n",
    "}\n",
    "\n",
    "# contents 만들기\n",
    "for place in recommands:\n",
    "    title = place.get('title')  # 장소 이름\n",
    "    # title : 태극쿵푸<b>마라탕</b>\n",
    "    # html 태그 제거\n",
    "    title = title.replace('<b>','').replace('</b>','')\n",
    "    \n",
    "    category = place.get('category')  # 장소 카테고리\n",
    "    telephone = place.get('telephone')  # 장소 전화번호\n",
    "    address = place.get('address')  # 장소 지번 주소\n",
    "\n",
    "    # 각 장소를 클릭할 때 네이버 검색으로 연결해주기 위해 작성된 코드\n",
    "    enc_address = urllib.parse.quote(address + ' ' + title)\n",
    "    query = \"query=\" + enc_address\n",
    "\n",
    "    # 장소 카테고리가 카페이면 카페 이미지\n",
    "    # 이외에는 음식 이미지\n",
    "    if '카페' in category:\n",
    "        image_url = \"https://freesvg.org/img/pitr_Coffee_cup_icon.png\"\n",
    "    else:\n",
    "        image_url = \"https://freesvg.org/img/bentolunch.png?w=150&h=150&fit=fill\"\n",
    "\n",
    "    # 전화번호가 있다면 제목과 함께 넣어줍니다.\n",
    "    if telephone:\n",
    "        title = title + \"\\ntel) \" + telephone\n",
    "\n",
    "    # 카카오톡 리스트 템플릿 형식에 맞춰줍니다.\n",
    "    content = {\n",
    "        \"title\": \"[\" + category + \"] \" + title,\n",
    "        \"description\": ' '.join(address.split()[1:]),\n",
    "        \"image_url\": image_url,\n",
    "        \"image_width\": 50, \"image_height\": 50,\n",
    "        \"link\": {\n",
    "            \"web_url\": \"https://search.naver.com/search.naver?\" + query,\n",
    "            \"mobile_web_url\": \"https://search.naver.com/search.naver?\" + query\n",
    "        }\n",
    "    }\n",
    "    \n",
    "    contents.append(content)\n",
    "\n",
    "# JSON 형식 -> 문자열 변환\n",
    "payload = {\n",
    "    \"template_object\" : json.dumps(template)\n",
    "}\n",
    "\n",
    "# 카카오톡 보내기\n",
    "res = requests.post(kakaotalk_template_url, data=payload, headers=kheaders)\n",
    "\n",
    "if res.json().get('result_code') == 0:\n",
    "    print('메시지를 성공적으로 보냈습니다.')\n",
    "else:\n",
    "    print('메시지를 성공적으로 보내지 못했습니다. 오류메시지 : ' + str(res.json()))"
   ]
  },
  {
   "cell_type": "code",
   "execution_count": null,
   "id": "fb07d9d2",
   "metadata": {},
   "outputs": [],
   "source": [
    "gejofuYWaKXSlVs6mMsplq9urTlBOW8h0Vean3p2kESik7QO2H72zPLN155v7SGHqNXntwopdSkAAAF6uYXwwg"
   ]
  },
  {
   "cell_type": "code",
   "execution_count": 35,
   "id": "90644a34",
   "metadata": {},
   "outputs": [
    {
     "name": "stdout",
     "output_type": "stream",
     "text": [
      "{'access_token': 'ZDsbSPtkDlObJX4r89G_rqPG_C7L0lSs69LBLQopyV8AAAF6uYgB2A', 'token_type': 'bearer', 'refresh_token': 'Qakw1dLIKtDHUhJ5HFx01pWPSJ0NlmtoiHH1cwopyV8AAAF6uYgB1g', 'expires_in': 21599, 'scope': 'account_email profile_image talk_message profile_nickname', 'refresh_token_expires_in': 5183999}\n"
     ]
    }
   ],
   "source": [
    "import requests\n",
    "import json\n",
    "\n",
    "url = \"https://kauth.kakao.com/oauth/token\"\n",
    "\n",
    "data = {\n",
    "    \"grant_type\" : \"authorization_code\",\n",
    "    \"client_id\" : \"6f6887a7f4c56636b244ffbe9c9017dc\",\n",
    "    \"redirect_uri\" : \"https://localhost.com\",\n",
    "    \"code\"         : \"gejofuYWaKXSlVs6mMsplq9urTlBOW8h0Vean3p2kESik7QO2H72zPLN155v7SGHqNXntwopdSkAAAF6uYXwwg\"\n",
    "    \n",
    "}\n",
    "response = requests.post(url, data=data)\n",
    "\n",
    "tokens = response.json()\n",
    "\n",
    "print(tokens)\n"
   ]
  },
  {
   "cell_type": "code",
   "execution_count": null,
   "id": "43cb6d51",
   "metadata": {},
   "outputs": [],
   "source": []
  }
 ],
 "metadata": {
  "kernelspec": {
   "display_name": "Python 3",
   "language": "python",
   "name": "python3"
  },
  "language_info": {
   "codemirror_mode": {
    "name": "ipython",
    "version": 3
   },
   "file_extension": ".py",
   "mimetype": "text/x-python",
   "name": "python",
   "nbconvert_exporter": "python",
   "pygments_lexer": "ipython3",
   "version": "3.8.10"
  }
 },
 "nbformat": 4,
 "nbformat_minor": 5
}
