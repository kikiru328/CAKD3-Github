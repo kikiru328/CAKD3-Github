{
 "cells": [
  {
   "cell_type": "code",
   "execution_count": 2,
   "id": "3bc2b087",
   "metadata": {},
   "outputs": [],
   "source": [
    "import firebase_admin\n",
    "from firebase_admin import credentials\n",
    "from firebase_admin import db"
   ]
  },
  {
   "cell_type": "code",
   "execution_count": 3,
   "id": "bb525fc2",
   "metadata": {},
   "outputs": [],
   "source": [
    "cred = credentials.Certificate('FBkey.json')\n",
    "firebase_admin.initialize_app(cred,{\n",
    "    'databaseURL' : 'https://myfirstproject-34576-default-rtdb.firebaseio.com/'\n",
    "})\n",
    "\n",
    "ref = db.reference()\n",
    "ref.update({'이름':'김광훈'})"
   ]
  },
  {
   "cell_type": "code",
   "execution_count": null,
   "id": "e250a66e",
   "metadata": {},
   "outputs": [],
   "source": []
  }
 ],
 "metadata": {
  "kernelspec": {
   "display_name": "Python 3",
   "language": "python",
   "name": "python3"
  },
  "language_info": {
   "codemirror_mode": {
    "name": "ipython",
    "version": 3
   },
   "file_extension": ".py",
   "mimetype": "text/x-python",
   "name": "python",
   "nbconvert_exporter": "python",
   "pygments_lexer": "ipython3",
   "version": "3.8.10"
  }
 },
 "nbformat": 4,
 "nbformat_minor": 5
}
