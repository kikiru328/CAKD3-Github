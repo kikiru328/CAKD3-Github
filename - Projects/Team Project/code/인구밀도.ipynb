{
 "cells": [
  {
   "cell_type": "code",
   "execution_count": 22,
   "id": "704803a8-b91a-4ccc-bc3f-fe4a8bfc23de",
   "metadata": {},
   "outputs": [
    {
     "name": "stdout",
     "output_type": "stream",
     "text": [
      "<class 'pandas.core.frame.DataFrame'>\n",
      "RangeIndex: 451 entries, 0 to 450\n",
      "Data columns (total 3 columns):\n",
      " #   Column  Non-Null Count  Dtype  \n",
      "---  ------  --------------  -----  \n",
      " 0   자치구     451 non-null    object \n",
      " 1   인구      451 non-null    float64\n",
      " 2   인구밀도    451 non-null    float64\n",
      "dtypes: float64(2), object(1)\n",
      "memory usage: 10.7+ KB\n"
     ]
    }
   ],
   "source": [
    "import pandas as pd\n",
    "file = pd.read_csv('Dataset/서울시동별인구.txt', delimiter = '\\t')\n",
    "file.drop(['기간','동','면적'],axis=1,inplace=True)\n",
    "\n",
    "def re_compile(x):\n",
    "    import re\n",
    "    new=re.sub(',',\"\",x)\n",
    "    new=float(new)\n",
    "    return new\n",
    "\n",
    "file['인구'] = file['인구'].apply(lambda x : re_compile(x))\n",
    "file['인구밀도'] = file['인구밀도'].apply(lambda x : re_compile(x))\n",
    "\n",
    "file.head(1)\n",
    "\n",
    "file.info()"
   ]
  },
  {
   "cell_type": "code",
   "execution_count": null,
   "id": "7a29cbc6-1a0e-4902-9971-49fdfbcdcd21",
   "metadata": {},
   "outputs": [],
   "source": []
  }
 ],
 "metadata": {
  "kernelspec": {
   "display_name": "Python 3",
   "language": "python",
   "name": "python3"
  },
  "language_info": {
   "codemirror_mode": {
    "name": "ipython",
    "version": 3
   },
   "file_extension": ".py",
   "mimetype": "text/x-python",
   "name": "python",
   "nbconvert_exporter": "python",
   "pygments_lexer": "ipython3",
   "version": "3.8.8"
  }
 },
 "nbformat": 4,
 "nbformat_minor": 5
}
