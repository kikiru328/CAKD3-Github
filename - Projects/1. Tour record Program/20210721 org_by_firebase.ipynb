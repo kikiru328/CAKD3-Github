{
 "cells": [
  {
   "cell_type": "code",
   "execution_count": null,
   "id": "e51cde8a",
   "metadata": {},
   "outputs": [],
   "source": [
    "# diction 형태로 받아줘야 함.\n",
    "# method 함수는 그대로 적용됨.\n",
    "p_date = input(\"여행날짜 ex)20210701 : \")\n",
    "# f_p_date = m.fr_date(p_date)\n",
    "\n",
    "p_type = input(\"관광 유형을 고르세요. 도시/바다/캠핑/등 : \")\n",
    "p_start = input(\"출발 장소를 입력하세요 : \")\n",
    "p_dn_name = input(\"여행목적지(관광지명) : \")\n",
    "\n",
    "#r_s_d 값\n",
    "# r_s_d = m.getLatLng(p_start,p_dn_name)\n",
    "\n",
    "p_transportation = input(\"이동수단을 고르세요. 도보/지역버스(지하철)/자동차/고속버스/전철(KTX)/비행기 : \")\n",
    "p_length_of_stay = int(input(\"총 여행 기간 : __ 일 : \"))\n",
    "p_cost = int(input(\"총 지출 금액 : __ 원 : \"))\n",
    "p_satisfaction = float(input(\"관광만족도는 어떠셧습니까? <매우좋았음:5 ~ 비추천:1> : \"))\n",
    "\n",
    "#상기 확인 값 -> tkinter 출력값 따로 저장 X\n",
    "input_data = {\n",
    "    \"여행날짜\":f_p_date,\n",
    "    '관광유형':p_type,\n",
    "    '출발지':p_start,\n",
    "    '관광지명':p_dn_name,\n",
    "    '이동수단':p_transportation,\n",
    "    '관광기간':p_length_of_stay,\n",
    "    '총비용':p_cost,\n",
    "    '만족도':p_satisfaction\n",
    "}\n",
    "\n",
    "#평가 데이터 기록값\n",
    "ev_c = m.evalue_costs(p_cost,p_length_of_stay)\n",
    "ev_d = m.evalue_by_distance(p_transportation,r_s_d)\n",
    "ev_s = m.evalue_by_satisfaction(p_satisfaction)\n",
    "\n",
    "#추가 평가값\n",
    "input_value = {\n",
    "    '지출비용평가점수':ev_c,\n",
    "    '이동비율평가점수':ev_d,\n",
    "    '만족도평가점수':ev_s\n",
    "}\n",
    "\n",
    "# 출력값이 맞을시\n",
    "correct = input(\"이 기록이 맞으시면 '예', 아니면 '아니오' 을 눌러주세요 : \")\n",
    "try:\n",
    "    if correct == \"예\":\n",
    "        print('기록하신 내용이 저장됩니다.') # tkinter 출력값\n",
    "        \n"
   ]
  }
 ],
 "metadata": {
  "kernelspec": {
   "display_name": "Python 3",
   "language": "python",
   "name": "python3"
  },
  "language_info": {
   "codemirror_mode": {
    "name": "ipython",
    "version": 3
   },
   "file_extension": ".py",
   "mimetype": "text/x-python",
   "name": "python",
   "nbconvert_exporter": "python",
   "pygments_lexer": "ipython3",
   "version": "3.8.10"
  }
 },
 "nbformat": 4,
 "nbformat_minor": 5
}
