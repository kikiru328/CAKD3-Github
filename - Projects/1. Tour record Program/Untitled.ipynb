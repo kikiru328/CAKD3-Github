{
 "cells": [
  {
   "cell_type": "code",
   "execution_count": 5,
   "id": "77dc08b6-cb08-407b-b56b-a51fb57b41ba",
   "metadata": {},
   "outputs": [
    {
     "name": "stdout",
     "output_type": "stream",
     "text": [
      "[]\n"
     ]
    },
    {
     "ename": "IndexError",
     "evalue": "list index out of range",
     "output_type": "error",
     "traceback": [
      "\u001b[1;31m---------------------------------------------------------------------------\u001b[0m",
      "\u001b[1;31mIndexError\u001b[0m                                Traceback (most recent call last)",
      "\u001b[1;32m<ipython-input-5-ae32341cb362>\u001b[0m in \u001b[0;36m<module>\u001b[1;34m\u001b[0m\n\u001b[0;32m      8\u001b[0m \u001b[1;31m# float(p_s_places[select_number])\u001b[0m\u001b[1;33m\u001b[0m\u001b[1;33m\u001b[0m\u001b[1;33m\u001b[0m\u001b[0m\n\u001b[0;32m      9\u001b[0m \u001b[1;33m\u001b[0m\u001b[0m\n\u001b[1;32m---> 10\u001b[1;33m \u001b[0mp_s_Lat\u001b[0m \u001b[1;33m=\u001b[0m \u001b[0mfloat\u001b[0m\u001b[1;33m(\u001b[0m\u001b[0mp_s_places\u001b[0m\u001b[1;33m[\u001b[0m\u001b[1;36m0\u001b[0m\u001b[1;33m]\u001b[0m\u001b[1;33m[\u001b[0m\u001b[1;34m'y'\u001b[0m\u001b[1;33m]\u001b[0m\u001b[1;33m)\u001b[0m\u001b[1;33m\u001b[0m\u001b[1;33m\u001b[0m\u001b[0m\n\u001b[0m\u001b[0;32m     11\u001b[0m \u001b[1;31m# p_s_Lng = float(p_s_places[0]['x'])\u001b[0m\u001b[1;33m\u001b[0m\u001b[1;33m\u001b[0m\u001b[1;33m\u001b[0m\u001b[0m\n\u001b[0;32m     12\u001b[0m \u001b[1;31m# p_s_LatLng=(p_s_Lat,p_s_Lng)\u001b[0m\u001b[1;33m\u001b[0m\u001b[1;33m\u001b[0m\u001b[1;33m\u001b[0m\u001b[0m\n",
      "\u001b[1;31mIndexError\u001b[0m: list index out of range"
     ]
    }
   ],
   "source": [
    "import requests\n",
    "url = 'https://dapi.kakao.com/v2/local/search/keyword.json?query={}'.format('부산광역시 서구 천마로 200-2')\n",
    "headers = {\"Authorization\": \"KakaoAK ac29d0b5ff83ba31f85e0d6f9f38e797\"}\n",
    "p_s_places = requests.get(url, headers = headers).json()['documents']\n",
    "\n",
    "print(p_s_places) # 리스트내 사전이 여러개가 있을때, 줄바꿈해서 출력방법 모름 --> 알면 UI 상승할 듯\n",
    "# select_number = int(input('몇 번째 주소인지 입력하세요 : '))\n",
    "# float(p_s_places[select_number])\n",
    "\n",
    "p_s_Lat = float(p_s_places[0]['y'])\n",
    "# p_s_Lng = float(p_s_places[0]['x'])\n",
    "# p_s_LatLng=(p_s_Lat,p_s_Lng)\n",
    "\n",
    "# url = 'https://dapi.kakao.com/v2/local/search/keyword.json?query={}'.format(p_dn_name)\n",
    "# headers = {\"Authorization\": \"KakaoAK ac29d0b5ff83ba31f85e0d6f9f38e797\"}\n",
    "# p_d_places = requests.get(url, headers = headers).json()['documents']\n",
    "\n",
    "# # print(p_s_place) # 리스트내 사전이 여러개가 있을때, 줄바꿈해서 출력방법 모름 --> 알면 UI 상승할 듯\n",
    "# # select_number = int(input('몇 번째 주소인지 입력하세요 : '))\n",
    "# # float(p_s_places[select_number]) ~\n",
    "\n",
    "# p_d_Lat = float(p_d_places[0]['y'])\n",
    "# p_d_Lng = float(p_d_places[0]['x'])\n",
    "# p_d_LatLng=(p_d_Lat,p_d_Lng)\n",
    "\n",
    "# #위경도 차이 구하기 -- float값에서 직선거리 int로 변환 후 \n",
    "# #상대적 직선거리 (relative straight distance 변수에 지정)\n",
    "# from haversine import haversine\n",
    "# r_s_d = int(haversine(p_s_LatLng,p_d_LatLng))\n",
    "# return r_s_d\n",
    "    \n",
    "\n",
    "\n",
    "# select_number = int(input('몇 번째 주소인지 입력하세요 : '))\n",
    "\n",
    "# print(places[select_number])\n",
    "    "
   ]
  },
  {
   "cell_type": "code",
   "execution_count": null,
   "id": "9a81b333-178c-41ef-9496-134ff2d8fd78",
   "metadata": {},
   "outputs": [],
   "source": []
  }
 ],
 "metadata": {
  "kernelspec": {
   "display_name": "Python 3",
   "language": "python",
   "name": "python3"
  },
  "language_info": {
   "codemirror_mode": {
    "name": "ipython",
    "version": 3
   },
   "file_extension": ".py",
   "mimetype": "text/x-python",
   "name": "python",
   "nbconvert_exporter": "python",
   "pygments_lexer": "ipython3",
   "version": "3.8.10"
  }
 },
 "nbformat": 4,
 "nbformat_minor": 5
}
