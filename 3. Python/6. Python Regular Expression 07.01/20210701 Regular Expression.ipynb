{
 "cells": [
  {
   "cell_type": "code",
   "execution_count": 8,
   "id": "2c3b5db8",
   "metadata": {},
   "outputs": [
    {
     "data": {
      "text/plain": [
       "'python '"
      ]
     },
     "execution_count": 8,
     "metadata": {},
     "output_type": "execute_result"
    }
   ],
   "source": [
    "import re\n",
    "text = 'python python'\n",
    "p = re.compile('[a-z]+\\s')  #whitespace \\s  스페이스까지 포함됨.\n",
    "m = p.match(text)\n",
    "m #<re.Match object; span=(0, 7), match='python '> 0번부터 7번까지 index \n",
    "m.group()"
   ]
  },
  {
   "cell_type": "code",
   "execution_count": 14,
   "id": "653093f6",
   "metadata": {},
   "outputs": [
    {
     "data": {
      "text/plain": [
       "['python', 'python']"
      ]
     },
     "execution_count": 14,
     "metadata": {},
     "output_type": "execute_result"
    }
   ],
   "source": [
    "import re\n",
    "text = 'python python'\n",
    "p = re.compile('[a-z]+')\n",
    "m = p.findall(text) #전부다 LIST로 뽑아준다.\n",
    "m\n"
   ]
  },
  {
   "cell_type": "code",
   "execution_count": 16,
   "id": "f36358cd",
   "metadata": {},
   "outputs": [
    {
     "name": "stdout",
     "output_type": "stream",
     "text": [
      "None\n"
     ]
    }
   ],
   "source": [
    "m = p.match('3python')\n",
    "print(m)"
   ]
  },
  {
   "cell_type": "code",
   "execution_count": 19,
   "id": "e348e147",
   "metadata": {},
   "outputs": [
    {
     "data": {
      "text/plain": [
       "'python'"
      ]
     },
     "execution_count": 19,
     "metadata": {},
     "output_type": "execute_result"
    }
   ],
   "source": [
    "m = p.search('3python')\n",
    "m.group()"
   ]
  },
  {
   "cell_type": "code",
   "execution_count": 21,
   "id": "bd8a3b4a",
   "metadata": {},
   "outputs": [
    {
     "name": "stdout",
     "output_type": "stream",
     "text": [
      "<re.Match object; span=(1, 6), match='anker'>\n",
      "<re.Match object; span=(0, 6), match='banker'>\n"
     ]
    }
   ],
   "source": [
    "p = re.compile('[a-z]+')\n",
    "p1 = p.search('Banker')\n",
    "p2 = p.search('banker')\n",
    "print(p1)\n",
    "print(p2)"
   ]
  },
  {
   "cell_type": "code",
   "execution_count": 23,
   "id": "451afe3d",
   "metadata": {},
   "outputs": [
    {
     "name": "stdout",
     "output_type": "stream",
     "text": [
      "<re.Match object; span=(5, 6), match='a'>\n"
     ]
    }
   ],
   "source": [
    "p = re.compile('[a]+')\n",
    "text = '12345abc'\n",
    "p1 = p.search(text)\n",
    "print(p1)"
   ]
  },
  {
   "cell_type": "code",
   "execution_count": 24,
   "id": "b06cf08f",
   "metadata": {},
   "outputs": [
    {
     "name": "stdout",
     "output_type": "stream",
     "text": [
      "<re.Match object; span=(5, 6), match='a'>\n"
     ]
    }
   ],
   "source": [
    "# Answer\n",
    "text = '12345abc'\n",
    "m = re.compile('[a]')\n",
    "p = m.search(text)\n",
    "print(p)"
   ]
  },
  {
   "cell_type": "code",
   "execution_count": 32,
   "id": "ae508d10",
   "metadata": {},
   "outputs": [
    {
     "name": "stdout",
     "output_type": "stream",
     "text": [
      "<re.Match object; span=(8, 9), match='A'>\n"
     ]
    }
   ],
   "source": [
    "text = 'abc12345AVVVBBBbc'\n",
    "p = re.compile('[A]')\n",
    "p1 = p.search(text)\n",
    "print(p1)"
   ]
  },
  {
   "cell_type": "code",
   "execution_count": 34,
   "id": "654e18c5",
   "metadata": {},
   "outputs": [
    {
     "name": "stdout",
     "output_type": "stream",
     "text": [
      "<re.Match object; span=(6, 7), match='대'>\n"
     ]
    }
   ],
   "source": [
    "text = \"KOREA 대한민국\"\n",
    "p = re.compile('[대]')\n",
    "p1 = p.search(text)\n",
    "print(p1)"
   ]
  },
  {
   "cell_type": "code",
   "execution_count": 35,
   "id": "e657778c",
   "metadata": {},
   "outputs": [
    {
     "name": "stdout",
     "output_type": "stream",
     "text": [
      "<re.Match object; span=(6, 7), match='대'>\n"
     ]
    }
   ],
   "source": [
    "text = \"KOREA 대한민국\"\n",
    "p = re.compile('[가-힣]')\n",
    "p1 = p.search(text)\n",
    "print(p1)"
   ]
  },
  {
   "cell_type": "code",
   "execution_count": 36,
   "id": "14d914fc",
   "metadata": {},
   "outputs": [
    {
     "name": "stdout",
     "output_type": "stream",
     "text": [
      "<re.Match object; span=(0, 7), match='122333c'>\n"
     ]
    }
   ],
   "source": [
    "text = '122333c'\n",
    "p = re.compile('[0-9]+[a-z]+')\n",
    "p1 = p.search(text)\n",
    "print(p1)"
   ]
  },
  {
   "cell_type": "code",
   "execution_count": null,
   "id": "6c268389",
   "metadata": {},
   "outputs": [],
   "source": [
    "text = \"KOREA 대한민국\"\n",
    "p = re.compile('[가-힣]')\n",
    "p1 = p.search(text)\n",
    "print(p1)\n"
   ]
  },
  {
   "cell_type": "code",
   "execution_count": 37,
   "id": "c5404eb4",
   "metadata": {},
   "outputs": [
    {
     "name": "stdout",
     "output_type": "stream",
     "text": [
      "<re.Match object; span=(6, 10), match='대한민국'>\n"
     ]
    }
   ],
   "source": [
    "text = \"KOREA 대한민국\"\n",
    "p = re.compile('[가-힣]+')\n",
    "p1 = p.search(text)\n",
    "print(p1)"
   ]
  },
  {
   "cell_type": "code",
   "execution_count": 41,
   "id": "61937472",
   "metadata": {},
   "outputs": [
    {
     "name": "stdout",
     "output_type": "stream",
     "text": [
      "<re.Match object; span=(4, 10), match='A 대한민국'>\n"
     ]
    }
   ],
   "source": [
    "text = \"KOREA 대한민국\"\n",
    "p = re.compile('[^a-z][^A-Z]+')\n",
    "p1 = p.search(text)\n",
    "print(p1)"
   ]
  },
  {
   "cell_type": "code",
   "execution_count": 39,
   "id": "10d1e1c4",
   "metadata": {},
   "outputs": [
    {
     "name": "stdout",
     "output_type": "stream",
     "text": [
      "<re.Match object; span=(5, 10), match=' 대한민국'>\n"
     ]
    }
   ],
   "source": [
    "text = \"korea 대한민국\"\n",
    "p = re.compile('[^a-z]+')\n",
    "p1 = p.search(text)\n",
    "print(p1)\n"
   ]
  },
  {
   "cell_type": "code",
   "execution_count": 42,
   "id": "99943ca4",
   "metadata": {},
   "outputs": [
    {
     "data": {
      "text/plain": [
       "'1222222333c'"
      ]
     },
     "execution_count": 42,
     "metadata": {},
     "output_type": "execute_result"
    }
   ],
   "source": [
    "text = '1222222333c'\n",
    "import re\n",
    "p = re.compile('12{6}3{3}c')\n",
    "m = p.search(text)\n",
    "m.group()"
   ]
  },
  {
   "cell_type": "code",
   "execution_count": 43,
   "id": "526fcbf8",
   "metadata": {},
   "outputs": [
    {
     "data": {
      "text/plain": [
       "'aaaaBBBcccDDDeee'"
      ]
     },
     "execution_count": 43,
     "metadata": {},
     "output_type": "execute_result"
    }
   ],
   "source": [
    "text = 'aaaaBBBcccDDDeee'\n",
    "import re\n",
    "p = re.compile('a{4}B{3}c{3}D{3}e{3}')\n",
    "p1 = p.search(text)\n",
    "p1.group()"
   ]
  },
  {
   "cell_type": "code",
   "execution_count": 52,
   "id": "3640e172",
   "metadata": {},
   "outputs": [
    {
     "name": "stdout",
     "output_type": "stream",
     "text": [
      "<re.Match object; span=(1, 2), match='C'>\n",
      "<re.Match object; span=(0, 1), match='C'>\n",
      "<re.Match object; span=(2, 3), match='C'>\n"
     ]
    }
   ],
   "source": [
    "# BC,CC,ABC 모두 C가 출력되는 정규 표현식을 ()에 작성하세요\n",
    "pattern = re.compile('A?C') #? 는 바로 앞 글자\n",
    "text1 = 'BC'\n",
    "text2 = 'CC'\n",
    "text3 = 'ABC'\n",
    "p1 = pattern.search(text1)\n",
    "p2 = pattern.search(text2)\n",
    "p3 = pattern.search(text3)\n",
    "print(p1)\n",
    "print(p2)\n",
    "print(p3)"
   ]
  },
  {
   "cell_type": "code",
   "execution_count": 54,
   "id": "2215e842",
   "metadata": {},
   "outputs": [
    {
     "name": "stdout",
     "output_type": "stream",
     "text": [
      "['life', 'is', 'too', 'short']\n"
     ]
    }
   ],
   "source": [
    "text = 'life is too short'\n",
    "p = re.compile('[a-z]+')\n",
    "p1= p.findall(text)\n",
    "print(p1)"
   ]
  },
  {
   "cell_type": "code",
   "execution_count": 56,
   "id": "da382549",
   "metadata": {},
   "outputs": [
    {
     "name": "stdout",
     "output_type": "stream",
     "text": [
      "life\n",
      "is\n",
      "too\n",
      "short\n"
     ]
    }
   ],
   "source": [
    "results = p.finditer(text)\n",
    "for r in results: print(r.group())"
   ]
  },
  {
   "cell_type": "code",
   "execution_count": 59,
   "id": "7dd13166",
   "metadata": {},
   "outputs": [
    {
     "name": "stdout",
     "output_type": "stream",
     "text": [
      "['1', '2', '3', '4', '1', '2', '3', '4']\n"
     ]
    }
   ],
   "source": [
    "text = '1234a1234'#에서 '1','2','3','4'를 모두 출력하세요\n",
    "p = re.compile('[0-9]') #\\d = only digits\n",
    "answer = p.findall(text)\n",
    "print(answer)"
   ]
  },
  {
   "cell_type": "code",
   "execution_count": 60,
   "id": "98380d5b",
   "metadata": {},
   "outputs": [
    {
     "name": "stdout",
     "output_type": "stream",
     "text": [
      "['Python', 'is', 'very', 'good', 'programming', 'language']\n"
     ]
    }
   ],
   "source": [
    "# Q. 'Python3 is very good programming language!' \n",
    "\n",
    "Question = 'Python3 is very good programming language!' \n",
    "p = re.compile('[A-Za-z]+')  #\\w => 숫자/문자 (특수문자제외)\n",
    "answer = p.findall(Question)\n",
    "print(answer)\n"
   ]
  },
  {
   "cell_type": "code",
   "execution_count": 65,
   "id": "1c63e5cc",
   "metadata": {},
   "outputs": [
    {
     "name": "stdout",
     "output_type": "stream",
     "text": [
      "<re.Match object; span=(0, 4), match='life'>\n",
      "<re.Match object; span=(0, 2), match='is'>\n",
      "<re.Match object; span=(0, 3), match='too'>\n",
      "<re.Match object; span=(0, 5), match='short'>\n"
     ]
    }
   ],
   "source": [
    "text = 'life is too short'\n",
    "p = re.compile('[a-z]+')\n",
    "l = p.match('life')\n",
    "i = p.match('is')\n",
    "t = p.match('too')\n",
    "s = p.match('short')\n",
    "print(l)\n",
    "print(i)\n",
    "print(t)\n",
    "print(s)"
   ]
  },
  {
   "cell_type": "code",
   "execution_count": 73,
   "id": "14c52aab",
   "metadata": {},
   "outputs": [
    {
     "name": "stdout",
     "output_type": "stream",
     "text": [
      "python\n",
      "0\n",
      "6\n",
      "(0, 6)\n"
     ]
    }
   ],
   "source": [
    "#match 객체의 Method\n",
    "import re\n",
    "p = re.compile('[a-z]+')\n",
    "m = p.match('python')\n",
    "print(m.group())\n",
    "print(m.start())\n",
    "print(m.end())\n",
    "print(m.span())"
   ]
  },
  {
   "cell_type": "code",
   "execution_count": 71,
   "id": "19c4b27f",
   "metadata": {},
   "outputs": [
    {
     "name": "stdout",
     "output_type": "stream",
     "text": [
      "python\n",
      "2\n",
      "8\n",
      "(2, 8)\n"
     ]
    }
   ],
   "source": [
    "#search 객체의 Method\n",
    "import re\n",
    "p = re.compile('[a-z]+')\n",
    "m = p.search('3 python')\n",
    "print(m.group())\n",
    "print(m.start())\n",
    "print(m.end()) #range와 같음\n",
    "print(m.span())"
   ]
  },
  {
   "cell_type": "code",
   "execution_count": 75,
   "id": "58445e16",
   "metadata": {},
   "outputs": [
    {
     "data": {
      "text/plain": [
       "'python'"
      ]
     },
     "execution_count": 75,
     "metadata": {},
     "output_type": "execute_result"
    }
   ],
   "source": [
    "#Module 단위\n",
    "m = re.match('[a-z]+', 'python') #내부에 조건적용\n",
    "m.group()"
   ]
  },
  {
   "cell_type": "code",
   "execution_count": 81,
   "id": "c9d10095",
   "metadata": {},
   "outputs": [
    {
     "name": "stdout",
     "output_type": "stream",
     "text": [
      "None\n",
      "<re.Match object; span=(0, 3), match='acb'>\n",
      "<re.Match object; span=(0, 7), match='a12?!Ab'>\n"
     ]
    }
   ],
   "source": [
    "# Dot(.) 메타 문자는 개행 (\\n)문자를 제외한 모든 문자와 매치된다\n",
    "import re\n",
    "p = re.compile('a.+b') #개행문자를 제외하고 어떤문자든지 하나 #a와 b사이에 여러가지 문자가 가능함\n",
    "m1 = p.match('a\\nb')\n",
    "m2 = p.match('acb')\n",
    "m3 = p.match('a12?!Ab')\n",
    "print(m1)\n",
    "print(m2)\n",
    "print(m3)"
   ]
  },
  {
   "cell_type": "code",
   "execution_count": null,
   "id": "6008f43d",
   "metadata": {},
   "outputs": [],
   "source": [
    "# re.DOTALL 옵션은 개행 문자와 상관없이 검색시 사용 가능."
   ]
  },
  {
   "cell_type": "code",
   "execution_count": 82,
   "id": "9e4dcfd4",
   "metadata": {},
   "outputs": [
    {
     "name": "stdout",
     "output_type": "stream",
     "text": [
      "<re.Match object; span=(0, 3), match='a\\nb'>\n",
      "<re.Match object; span=(0, 3), match='acb'>\n",
      "<re.Match object; span=(0, 7), match='a12?!Ab'>\n"
     ]
    }
   ],
   "source": [
    "import re\n",
    "p = re.compile('a.+b',re.DOTALL)\n",
    "m1 = p.match('a\\nb')\n",
    "m2 = p.match('acb')\n",
    "m3 = p.match('a12?!Ab')\n",
    "print(m1)\n",
    "print(m2)\n",
    "print(m3)"
   ]
  },
  {
   "cell_type": "code",
   "execution_count": 90,
   "id": "02395a04",
   "metadata": {},
   "outputs": [
    {
     "name": "stdout",
     "output_type": "stream",
     "text": [
      "<re.Match object; span=(0, 53), match='what are you doing?\\nit is going to be late for s>\n"
     ]
    }
   ],
   "source": [
    "text = 'what are you doing?\\nit is going to be late for school'\n",
    "p = re.compile('w.+',re.DOTALL)\n",
    "a = p.match(text)\n",
    "print(a)"
   ]
  },
  {
   "cell_type": "code",
   "execution_count": 95,
   "id": "893d047a",
   "metadata": {},
   "outputs": [
    {
     "name": "stdout",
     "output_type": "stream",
     "text": [
      "<re.Match object; span=(0, 6), match='python'>\n",
      "<re.Match object; span=(0, 6), match='PYTHON'>\n",
      "<re.Match object; span=(0, 6), match='PyThOn'>\n",
      "<re.Match object; span=(2, 8), match='python'>\n",
      "<re.Match object; span=(2, 8), match='PYTHON'>\n",
      "<re.Match object; span=(2, 8), match='PyThOn'>\n"
     ]
    }
   ],
   "source": [
    "# re.IGNORECASE 혹은 re.I (Ignore) 옵션은 대소문자 구분없이 매치를 수행한---------다\n",
    "p = re.compile('[a-z]+',re.I)\n",
    "print(p.match('python'))\n",
    "print(p.match('PYTHON'))\n",
    "print(p.match('PyThOn'))\n",
    "print(p.search('3 python'))\n",
    "print(p.search('3 PYTHON'))\n",
    "print(p.search('3 PyThOn'))"
   ]
  },
  {
   "cell_type": "code",
   "execution_count": 111,
   "id": "afe002d9",
   "metadata": {},
   "outputs": [
    {
     "name": "stdout",
     "output_type": "stream",
     "text": [
      "Friend\n",
      "fRiend\n",
      "friEnd\n",
      "FRIEND\n"
     ]
    }
   ],
   "source": [
    "text = 'Friend fRiend friEnd FRIEND'\n",
    "p = re.compile('[a-z]+',re.I)\n",
    "m = p.findall(text)\n",
    "for i in m:\n",
    "    print(i)"
   ]
  },
  {
   "cell_type": "code",
   "execution_count": 115,
   "id": "b1628596",
   "metadata": {},
   "outputs": [
    {
     "data": {
      "text/plain": [
       "['python one']"
      ]
     },
     "execution_count": 115,
     "metadata": {},
     "output_type": "execute_result"
    }
   ],
   "source": [
    "#시작 시점의 문자열을 지정, 끝나는 시점의 문자열을 지정함\n",
    "import re\n",
    "p = re.compile('^python\\s\\w+') #시작되는 부분만 나옴   python one\n",
    "data =\"\"\"python one \n",
    "life is too short\n",
    "python two\n",
    "you need python\n",
    "ptyhon three\"\"\"\n",
    "p.findall(data)\n"
   ]
  },
  {
   "cell_type": "code",
   "execution_count": 118,
   "id": "2514bf38",
   "metadata": {},
   "outputs": [
    {
     "data": {
      "text/plain": [
       "['python one', 'python two', 'python three']"
      ]
     },
     "execution_count": 118,
     "metadata": {},
     "output_type": "execute_result"
    }
   ],
   "source": [
    "# re.MULTILINE 혹은 re.M *각 줄에 옵션을 적용함. ^ 메타문자를 각 라인의 처음으로 인식시킬 수 있다.\n",
    "#시작 시점의 문자열을 지정, 끝나는 시점의 문자열을 지정함\n",
    "import re\n",
    "p = re.compile('^python\\s\\w+',re.M) #Multiline적용 \n",
    "data =\"\"\"python one \n",
    "life is too short\n",
    "python two\n",
    "you need python\n",
    "python three\"\"\"\n",
    "p.findall(data)\n"
   ]
  },
  {
   "cell_type": "code",
   "execution_count": 127,
   "id": "ddda1655",
   "metadata": {},
   "outputs": [
    {
     "data": {
      "text/plain": [
       "['\\\\section', '\\\\section']"
      ]
     },
     "execution_count": 127,
     "metadata": {},
     "output_type": "execute_result"
    }
   ],
   "source": [
    "# Raw String : 정규식 문자열 앞에 r 문자를 삽입하면 \\ 2개 대신 1개 사용\n",
    "p = re.compile(r'\\\\section')\n",
    "p.match('\\section')\n",
    "p.findall('\\section\\section')"
   ]
  },
  {
   "cell_type": "code",
   "execution_count": 135,
   "id": "8c788eed",
   "metadata": {},
   "outputs": [
    {
     "name": "stdout",
     "output_type": "stream",
     "text": [
      "<re.Match object; span=(0, 4), match='Crow'>\n",
      "\n",
      "<re.Match object; span=(0, 4), match='Life'>\n",
      "None\n",
      "\n",
      "None\n",
      "<re.Match object; span=(3, 7), match='Life'>\n"
     ]
    }
   ],
   "source": [
    "# | (or와 동일한 의미), ^(문자열의 맨 처음), $(문자열의 맨 끝)\n",
    "p = re.compile('Crow|Servo') #두개 다 포함하는거\n",
    "m = p.match('CrowHello')\n",
    "print(m)\n",
    "print()\n",
    "print(re.search('^Life','Life is too short'))\n",
    "print(re.search('^Life','My Life'))\n",
    "print()\n",
    "print(re.search('Life$','Life is too short'))\n",
    "print(re.search('Life$','My Life'))"
   ]
  },
  {
   "cell_type": "code",
   "execution_count": 149,
   "id": "93c8a758",
   "metadata": {},
   "outputs": [
    {
     "name": "stdout",
     "output_type": "stream",
     "text": [
      "['Life']\n",
      "['good']\n"
     ]
    }
   ],
   "source": [
    "# \\A (re.M Multiline옵션 사용해도 전체 문자열의 처음 만 매치된다. 텍스트 시작부분에서 가장 첫번째 문자열만)\n",
    "# \\Z (re.M Multiline옵션 사용해도 전체 문자열의 끝 만 매친된다. 텍스트 시작부분에서 가장 마지막 문자열만)\n",
    "import re\n",
    "pA = re.compile('\\ALife',re.M)\n",
    "data = '''Life is Life are Life Life too short\n",
    "Life is good\n",
    "Life is valuable'''\n",
    "print(pA.findall(data))\n",
    "pZ = re.compile('good\\Z',re.M)\n",
    "data =  \"\"\"Life is too short\n",
    "Life is good\n",
    "Life is very good\"\"\"\n",
    "print(pZ.findall(data))"
   ]
  },
  {
   "cell_type": "code",
   "execution_count": 150,
   "id": "511a6e24",
   "metadata": {},
   "outputs": [
    {
     "name": "stdout",
     "output_type": "stream",
     "text": [
      "['home']\n"
     ]
    }
   ],
   "source": [
    "text = 'we are going home'\n",
    "pZ = re.compile('home\\Z')\n",
    "print(pZ.findall(text))"
   ]
  },
  {
   "cell_type": "code",
   "execution_count": 155,
   "id": "f74f856e",
   "metadata": {},
   "outputs": [
    {
     "name": "stdout",
     "output_type": "stream",
     "text": [
      "['Life']\n",
      "['good']\n"
     ]
    }
   ],
   "source": [
    "import re\n",
    "p=re.compile('\\ALife', re.M)\n",
    "data= '''Life is too short\n",
    "Life is valuable\n",
    "Life is good '''\n",
    "print(p.findall(data))\n",
    "\n",
    "p1= re.compile('good\\Z',re.M)\n",
    "data1= ''' Life is too short\n",
    "Life is good\n",
    "Life is very good'''\n",
    "print(p1.findall(data1))\n"
   ]
  },
  {
   "cell_type": "code",
   "execution_count": 156,
   "id": "b0ff5a57",
   "metadata": {},
   "outputs": [
    {
     "name": "stdout",
     "output_type": "stream",
     "text": [
      "['home']\n",
      "['home']\n"
     ]
    }
   ],
   "source": [
    "data ='home sweet'\n",
    "a1=re.compile('\\Ahome')\n",
    "a2=re.compile('^home')\n",
    "print(a1.findall(data))\n",
    "print(a2.findall(data))"
   ]
  },
  {
   "cell_type": "code",
   "execution_count": 165,
   "id": "108dcbfd",
   "metadata": {},
   "outputs": [
    {
     "name": "stdout",
     "output_type": "stream",
     "text": [
      "['199305']\n",
      "<re.Match object; span=(0, 6), match='199305'>\n"
     ]
    }
   ],
   "source": [
    "data ='199305, 1923A, a93247'\n",
    "com = re.compile('^[0-9]+')\n",
    "print(com.findall(data))\n",
    "\n",
    "com2 = re.compile('\\d+')\n",
    "print(com2.search(data))"
   ]
  },
  {
   "cell_type": "code",
   "execution_count": 179,
   "id": "7fadcfb1",
   "metadata": {},
   "outputs": [
    {
     "name": "stdout",
     "output_type": "stream",
     "text": [
      "<re.Match object; span=(0, 9), match='99food234'>\n"
     ]
    }
   ],
   "source": [
    "Q = '99food234, a93256\\n, a9356ba'\n",
    "com = re.compile('\\w+')\n",
    "#p = re.compile('^\\w+')\n",
    "#p1 = re.compile('^\\w+\\d')\n",
    "print(com.search(Q))"
   ]
  },
  {
   "cell_type": "code",
   "execution_count": 188,
   "id": "1f08f670",
   "metadata": {},
   "outputs": [
    {
     "name": "stdout",
     "output_type": "stream",
     "text": [
      "<re.Match object; span=(3, 8), match='class'>\n",
      "None\n",
      "\n",
      "None\n",
      "<re.Match object; span=(6, 11), match='class'>\n"
     ]
    }
   ],
   "source": [
    "# \\b whitespace 에 의한 구분 ex) the class is\n",
    "# \\B whitespace로 구분된 단어가 아니니 경우에만 매치 ex) Multiclasses (class가 Multi/es 로 구분이 안되있음)\n",
    "p = re.compile(r'\\bclass\\b')\n",
    "print(p.search('no class at all'))\n",
    "print(p.search('the declassified algorithem'))\n",
    "print()\n",
    "q = re.compile(r'\\Bclass\\B')\n",
    "print(q.search('no class at all'))\n",
    "print(q.search('the declassified algorithem'))"
   ]
  },
  {
   "cell_type": "code",
   "execution_count": 199,
   "id": "6ab2c59d",
   "metadata": {},
   "outputs": [
    {
     "name": "stdout",
     "output_type": "stream",
     "text": [
      "<re.Match object; span=(10, 22), match='032-232-3245'>\n"
     ]
    }
   ],
   "source": [
    "#정규표현식을 사용하여 test에서 전화번호만 출력하세요\n",
    "text = '문의사항이 있으면 032-232-3245 으로 연락주시기 바랍니다.'\n",
    "p = re.compile(r'\\b[0-9-]+\\b') #[0-9-] 0~9까지 혹은 - 까지 있는지 확인함.\n",
    "# p = re.compile('\\d+-\\d+-\\d+')\n",
    "print(p.search(text))"
   ]
  },
  {
   "cell_type": "code",
   "execution_count": 209,
   "id": "79ede6a3",
   "metadata": {},
   "outputs": [
    {
     "name": "stdout",
     "output_type": "stream",
     "text": [
      "['에러 1122', '에러 1033', '에러 xxx']\n"
     ]
    }
   ],
   "source": [
    "#정규표현식을 사용하여 text에서 에러가 들어간 부분만 포함하는 리스트를 출력하세요\n",
    "text = \"에러 1122, 레퍼런스 오류, 에러 1033, 아규먼트 오류, 에러 xxx\"\n",
    "p = re.compile('에러\\s\\w+')\n",
    "print(p.findall(text))"
   ]
  },
  {
   "cell_type": "code",
   "execution_count": 227,
   "id": "f283bb99",
   "metadata": {},
   "outputs": [
    {
     "name": "stdout",
     "output_type": "stream",
     "text": [
      "['1 apple', '5 oranges', '3 boys', '4 girls', '10 army', '11 mr']\n"
     ]
    }
   ],
   "source": [
    "import re\n",
    "Q = '1 apple, 5 oranges, 3 boys, 4 girls; 10 army| 11 mr'\n",
    "regex = re.compile('\\d+\\s\\w+')\n",
    "text = regex.findall(Q)\n",
    "print(text)"
   ]
  },
  {
   "cell_type": "code",
   "execution_count": 237,
   "id": "89444531",
   "metadata": {},
   "outputs": [
    {
     "name": "stdout",
     "output_type": "stream",
     "text": [
      "['e', 'l', 'l', 'o', ' ', 'm', 'y', ' ', 'f', 'r', 'i', 'e', 'n', 'd', '!', ' ', 'L', 'i', 'f', 'e', ' ', 'i', 's', ' ', 's', 'o', 'r', 't', ' ', 'y', 'o', 'u', ' ', 'n', 'e', 'e', 'd', ' ', 'P', 'y', 't', 'o', 'n']\n"
     ]
    }
   ],
   "source": [
    "# H h 를 출력\n",
    "Q = 'Hello my friend! Life is short you need Python'\n",
    "regex = re.compile('[^hH]')\n",
    "text = regex.findall(Q)\n",
    "print(text)"
   ]
  },
  {
   "cell_type": "code",
   "execution_count": 238,
   "id": "861aecab",
   "metadata": {},
   "outputs": [],
   "source": [
    "# grouping : 매치된 문자열중에서 특정 부분의 문자열만 뽑아내는 경우 ()으로 만들어 준다."
   ]
  },
  {
   "cell_type": "code",
   "execution_count": 246,
   "id": "b5d9c81c",
   "metadata": {},
   "outputs": [
    {
     "name": "stdout",
     "output_type": "stream",
     "text": [
      "<re.Match object; span=(0, 9), match='ABCABCABC'>\n",
      "ABC\n",
      "ABCABCABC\n"
     ]
    }
   ],
   "source": [
    "p = re.compile('(ABC)+')\n",
    "m = p.search('ABCABCABC, OK?')\n",
    "print(m)\n",
    "print(m.group(1))\n",
    "print(m.group(0)) # 0 입력시 전체 출력"
   ]
  },
  {
   "cell_type": "code",
   "execution_count": 253,
   "id": "14b4109b",
   "metadata": {},
   "outputs": [
    {
     "name": "stdout",
     "output_type": "stream",
     "text": [
      "<re.Match object; span=(3, 9), match='ABCDEF'>\n",
      "ABCDEF\n",
      "AB\n",
      "CD\n",
      "EF\n",
      "ABCDEF\n"
     ]
    }
   ],
   "source": [
    "p = re.compile('((AB)(CD)(EF))+')\n",
    "m = p.search('DEFABCDEFDEFABCDEF, OK?')\n",
    "print(m) #m(0)와 같음 그룸의 제일 바깥이 1번. 왼쪽무터 2 3 4\n",
    "print(m.group(1))\n",
    "print(m.group(2))\n",
    "print(m.group(3))\n",
    "print(m.group(4))\n",
    "print(m.group(0))\n",
    "\n"
   ]
  },
  {
   "cell_type": "code",
   "execution_count": 255,
   "id": "b37d3c9c",
   "metadata": {},
   "outputs": [
    {
     "name": "stdout",
     "output_type": "stream",
     "text": [
      "color socks and color shoes and color pants\n"
     ]
    }
   ],
   "source": [
    "import re\n",
    "p = re.compile('(blue|white|red)')\n",
    "print(p.sub('color','blue socks and red shoes and white pants'))  #sub는 바꾼다는 의미."
   ]
  },
  {
   "cell_type": "code",
   "execution_count": 257,
   "id": "efd0f6e1",
   "metadata": {},
   "outputs": [
    {
     "name": "stdout",
     "output_type": "stream",
     "text": [
      "abc\n"
     ]
    }
   ],
   "source": [
    "text = '12345abc'\n",
    "p = re.compile('[0-9]+')\n",
    "print(p.sub('',text))"
   ]
  },
  {
   "cell_type": "code",
   "execution_count": null,
   "id": "5683deb5",
   "metadata": {},
   "outputs": [],
   "source": [
    "text = '녹번동 · 불광1동 · 불광2동 '\n",
    "import re\n",
    "a = re.sub('·')\n"
   ]
  },
  {
   "cell_type": "code",
   "execution_count": null,
   "id": "09c7fd3f",
   "metadata": {},
   "outputs": [],
   "source": [
    "import re\n",
    "def asas(x):\n",
    "    new=re.sub('·',\"\",x)\n",
    "    new=float(new)\n",
    "    return new"
   ]
  },
  {
   "cell_type": "code",
   "execution_count": null,
   "id": "9a307e97",
   "metadata": {},
   "outputs": [],
   "source": []
  },
  {
   "cell_type": "code",
   "execution_count": null,
   "id": "230d5ee7",
   "metadata": {},
   "outputs": [],
   "source": []
  },
  {
   "cell_type": "code",
   "execution_count": null,
   "id": "37f3c2eb",
   "metadata": {},
   "outputs": [],
   "source": []
  },
  {
   "cell_type": "code",
   "execution_count": null,
   "id": "fd9a38e0",
   "metadata": {},
   "outputs": [],
   "source": []
  },
  {
   "cell_type": "code",
   "execution_count": null,
   "id": "5aefce7c",
   "metadata": {},
   "outputs": [],
   "source": []
  },
  {
   "cell_type": "code",
   "execution_count": null,
   "id": "4b91c0ec",
   "metadata": {},
   "outputs": [],
   "source": []
  },
  {
   "cell_type": "code",
   "execution_count": null,
   "id": "2ef45fa2",
   "metadata": {},
   "outputs": [],
   "source": []
  },
  {
   "cell_type": "code",
   "execution_count": null,
   "id": "cc3f73b9",
   "metadata": {},
   "outputs": [],
   "source": []
  },
  {
   "cell_type": "code",
   "execution_count": null,
   "id": "f40763b1",
   "metadata": {},
   "outputs": [],
   "source": []
  },
  {
   "cell_type": "code",
   "execution_count": null,
   "id": "4a9353b7",
   "metadata": {},
   "outputs": [],
   "source": []
  },
  {
   "cell_type": "code",
   "execution_count": null,
   "id": "c9afb50b",
   "metadata": {},
   "outputs": [],
   "source": []
  },
  {
   "cell_type": "code",
   "execution_count": null,
   "id": "ad5d7c6d",
   "metadata": {},
   "outputs": [],
   "source": []
  },
  {
   "cell_type": "code",
   "execution_count": null,
   "id": "82997b15",
   "metadata": {},
   "outputs": [],
   "source": []
  },
  {
   "cell_type": "code",
   "execution_count": null,
   "id": "9a5cb673",
   "metadata": {},
   "outputs": [],
   "source": []
  },
  {
   "cell_type": "code",
   "execution_count": null,
   "id": "a07080bd",
   "metadata": {},
   "outputs": [],
   "source": []
  },
  {
   "cell_type": "code",
   "execution_count": null,
   "id": "726c8495",
   "metadata": {},
   "outputs": [],
   "source": []
  },
  {
   "cell_type": "code",
   "execution_count": null,
   "id": "293cbeaf",
   "metadata": {},
   "outputs": [],
   "source": []
  },
  {
   "cell_type": "code",
   "execution_count": null,
   "id": "222a5233",
   "metadata": {},
   "outputs": [],
   "source": []
  },
  {
   "cell_type": "code",
   "execution_count": null,
   "id": "2ddedf94",
   "metadata": {},
   "outputs": [],
   "source": []
  },
  {
   "cell_type": "code",
   "execution_count": null,
   "id": "58ec8616",
   "metadata": {},
   "outputs": [],
   "source": []
  },
  {
   "cell_type": "code",
   "execution_count": null,
   "id": "3982c697",
   "metadata": {},
   "outputs": [],
   "source": []
  },
  {
   "cell_type": "code",
   "execution_count": null,
   "id": "581c48fa",
   "metadata": {},
   "outputs": [],
   "source": []
  },
  {
   "cell_type": "code",
   "execution_count": null,
   "id": "c14b20ac",
   "metadata": {},
   "outputs": [],
   "source": []
  },
  {
   "cell_type": "code",
   "execution_count": null,
   "id": "645f8210",
   "metadata": {},
   "outputs": [],
   "source": []
  },
  {
   "cell_type": "code",
   "execution_count": null,
   "id": "0736ba05",
   "metadata": {},
   "outputs": [],
   "source": []
  },
  {
   "cell_type": "code",
   "execution_count": null,
   "id": "9811f89f",
   "metadata": {},
   "outputs": [],
   "source": []
  },
  {
   "cell_type": "code",
   "execution_count": null,
   "id": "2228cc46",
   "metadata": {},
   "outputs": [],
   "source": []
  },
  {
   "cell_type": "code",
   "execution_count": null,
   "id": "9a811b23",
   "metadata": {},
   "outputs": [],
   "source": []
  }
 ],
 "metadata": {
  "kernelspec": {
   "display_name": "Python 3",
   "language": "python",
   "name": "python3"
  },
  "language_info": {
   "codemirror_mode": {
    "name": "ipython",
    "version": 3
   },
   "file_extension": ".py",
   "mimetype": "text/x-python",
   "name": "python",
   "nbconvert_exporter": "python",
   "pygments_lexer": "ipython3",
   "version": "3.8.10"
  }
 },
 "nbformat": 4,
 "nbformat_minor": 5
}
