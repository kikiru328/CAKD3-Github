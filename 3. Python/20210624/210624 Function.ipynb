{
 "cells": [
  {
   "cell_type": "markdown",
   "id": "f2b9b529",
   "metadata": {},
   "source": [
    "###### 입력값이 없고 결과값만 있는 함수"
   ]
  },
  {
   "cell_type": "code",
   "execution_count": 2,
   "id": "54ecdd4d",
   "metadata": {},
   "outputs": [
    {
     "name": "stdout",
     "output_type": "stream",
     "text": [
      "Hi\n"
     ]
    }
   ],
   "source": [
    "def say():\n",
    "    return 'Hi' #반환값 return\n",
    "\n",
    "a = say()\n",
    "print(a)"
   ]
  },
  {
   "cell_type": "markdown",
   "id": "0d74bb07",
   "metadata": {},
   "source": [
    "###### 결과값 (retrun) 없는 함수"
   ]
  },
  {
   "cell_type": "code",
   "execution_count": 4,
   "id": "6da20872",
   "metadata": {},
   "outputs": [
    {
     "name": "stdout",
     "output_type": "stream",
     "text": [
      "5\n"
     ]
    }
   ],
   "source": [
    "def add(a,b):\n",
    "    print(a + b)\n",
    "add(2,3)    "
   ]
  },
  {
   "cell_type": "markdown",
   "id": "4395ff27",
   "metadata": {},
   "source": [
    "###### 입력값 과 결과값 둘 다 없는 함수"
   ]
  },
  {
   "cell_type": "code",
   "execution_count": 5,
   "id": "f1a88916",
   "metadata": {},
   "outputs": [
    {
     "name": "stdout",
     "output_type": "stream",
     "text": [
      "Hi\n"
     ]
    }
   ],
   "source": [
    "def say():\n",
    "    print('Hi')\n",
    "say()"
   ]
  },
  {
   "cell_type": "markdown",
   "id": "78bfb7b1",
   "metadata": {},
   "source": [
    "###### 여러 개의 입력값을 받는 함수"
   ]
  },
  {
   "cell_type": "code",
   "execution_count": 8,
   "id": "324ce9cc",
   "metadata": {},
   "outputs": [
    {
     "data": {
      "text/plain": [
       "15"
      ]
     },
     "execution_count": 8,
     "metadata": {},
     "output_type": "execute_result"
    }
   ],
   "source": [
    "def sum_many(*args): #arguments : The special syntax *args in function definitions \n",
    "                     #in python is used to pass a variable number of arguments to a function. \n",
    "                     #It is used to pass a non-key worded, variable-length argument list.\n",
    "    sum = 0\n",
    "    for i in args:\n",
    "        sum += i\n",
    "    return sum\n",
    "\n",
    "sum_many(1,2,3,4,5)"
   ]
  },
  {
   "cell_type": "markdown",
   "id": "e8288b83",
   "metadata": {},
   "source": [
    "###### 함수의 반환(결과값:return)은 언제나 하나임 - 결과값으로 튜플 값 하나로 처리됨"
   ]
  },
  {
   "cell_type": "code",
   "execution_count": 2,
   "id": "eabd7c9f",
   "metadata": {},
   "outputs": [
    {
     "name": "stdout",
     "output_type": "stream",
     "text": [
      "(7, 12)\n",
      "<class 'tuple'>\n"
     ]
    }
   ],
   "source": [
    "def add_and_mul(a,b):\n",
    "    return a + b, a * b\n",
    "result = add_and_mul(3,4)\n",
    "print(result)\n",
    "print(type(result))"
   ]
  },
  {
   "cell_type": "code",
   "execution_count": 31,
   "id": "679e73a6",
   "metadata": {},
   "outputs": [
    {
     "name": "stdout",
     "output_type": "stream",
     "text": [
      "15\n"
     ]
    },
    {
     "data": {
      "text/plain": [
       "120"
      ]
     },
     "execution_count": 31,
     "metadata": {},
     "output_type": "execute_result"
    }
   ],
   "source": [
    "#Q. add_mul()함수를 정의하여 1,2,3,4,5를 입력값으로 적용해 덧셈, 곱셈 연산을 수행\n",
    "#입력값으로 연산방법과 숫자를 입력\n",
    "\n",
    "def add_mul(a,*args):\n",
    "    if a == \"add\":\n",
    "        sum = 0\n",
    "        for i in args:\n",
    "            sum += i\n",
    "        return sum\n",
    "    if a == \"mul\":\n",
    "        mul = 1 \n",
    "        for i in args:\n",
    "            mul *= i\n",
    "        return mul\n",
    "\n",
    "def add_mul2(*args):\n",
    "    a = input(\"add/mul ?\")\n",
    "    if a == \"add\":\n",
    "        sum = 0\n",
    "        for i in args:\n",
    "            sum += i\n",
    "        return sum\n",
    "    if a == \"mul\":\n",
    "        mul = 1 \n",
    "        for i in args:\n",
    "            mul *= i\n",
    "        return mul\n",
    "    \n",
    "#강사님\n",
    "def add_mul_Answer(choice,*args):\n",
    "    if choice == 'add':\n",
    "        result = 0\n",
    "        for i in args:\n",
    "            result += i\n",
    "    elif choice == 'mul':\n",
    "        result = 1\n",
    "        for i in args:\n",
    "            result *= i\n",
    "    return result\n",
    "print(add_mul('add',1,2,3,4,5))\n",
    "add_mul('mul',1,2,3,4,5)"
   ]
  },
  {
   "cell_type": "code",
   "execution_count": 42,
   "id": "70ac972b",
   "metadata": {},
   "outputs": [
    {
     "name": "stdout",
     "output_type": "stream",
     "text": [
      "5\n",
      "5 6\n"
     ]
    }
   ],
   "source": [
    "def add_and_mul(a,b):\n",
    "    return a+b\n",
    "    return a*b #Ignore\n",
    "result = add_and_mul(2,3)\n",
    "print(result)\n",
    "\n",
    "#하나의 튜플 값을 2 개의 결과값처럼 출력.\n",
    "def add_and_mul2(a,b):\n",
    "    return a+b , a*b\n",
    "result1,result2 = add_and_mul2(2,3)\n",
    "print(result1,result2)"
   ]
  },
  {
   "cell_type": "markdown",
   "id": "87824144",
   "metadata": {},
   "source": [
    "###### 문자열을 출력한다는 것과 리턴 값이 있다는 것은 전혀 다른 것이다."
   ]
  },
  {
   "cell_type": "code",
   "execution_count": 46,
   "id": "f2ebfad8",
   "metadata": {},
   "outputs": [
    {
     "name": "stdout",
     "output_type": "stream",
     "text": [
      "나의 별명은 멍청이입니다\n"
     ]
    },
    {
     "data": {
      "text/plain": [
       "'아니야!'"
      ]
     },
     "execution_count": 46,
     "metadata": {},
     "output_type": "execute_result"
    }
   ],
   "source": [
    "def say_nick(nick):\n",
    "    if nick == \"바보\":\n",
    "        return \"아니야!\"\n",
    "    print(\"나의 별명은 %s입니다\" %nick)\n",
    "    \n",
    "say_nick(\"멍청이\")\n",
    "say_nick(\"바보\")"
   ]
  },
  {
   "cell_type": "markdown",
   "id": "9e8c41bd",
   "metadata": {},
   "source": [
    "###### 입력 인수에 초기값을 미리 설정할 수 있다."
   ]
  },
  {
   "cell_type": "code",
   "execution_count": 3,
   "id": "8d27aa12",
   "metadata": {
    "collapsed": true
   },
   "outputs": [
    {
     "ename": "SyntaxError",
     "evalue": "non-default argument follows default argument (<ipython-input-3-b689c7ffa16f>, line 15)",
     "output_type": "error",
     "traceback": [
      "\u001b[1;36m  File \u001b[1;32m\"<ipython-input-3-b689c7ffa16f>\"\u001b[1;36m, line \u001b[1;32m15\u001b[0m\n\u001b[1;33m    def self_introduce(name,man=True,age): #gender(man) 초기값 미리 설정\u001b[0m\n\u001b[1;37m                       ^\u001b[0m\n\u001b[1;31mSyntaxError\u001b[0m\u001b[1;31m:\u001b[0m non-default argument follows default argument\n"
     ]
    }
   ],
   "source": [
    "def self_introduce(name,age,man=True): #gender(man) 초기값 미리 설정 (반드시 뒤에 있어야함.)\n",
    "    print(\"나의 이름은 %s입니다.\" %name)\n",
    "    print(\"나이는 %d세 입니다.\" %age)\n",
    "    if man:\n",
    "        print(\"남자입니다\")\n",
    "    else:\n",
    "        print(\"여자입니다\")\n",
    "\n",
    "self_introduce(\"홍길동\",29) #man=True 로 초기값 미리 설정했으니 결과값 출력.\n",
    "self_introduce(\"홍길동\",29,True) # 같은 초기값\n",
    "self_introduce(\"홍길순\",29,False) # 초기값 설정에 대한 변경\n",
    "\n",
    "# 초기값 순서 오류 (초기값 설정시 가장 맨 뒤에 두어야함.) : error 발생\n",
    "# 초기값을 설정 인수 뒤에 초기값 설정하지 않은 입력 인수는 사용할 수 없다.\n",
    "def self_introduce(name,man=True,age): #gender(man) 초기값 미리 설정\n",
    "    print(\"나의 이름은 %s입니다.\" %name)\n",
    "    print(\"나이는 %d세 입니다.\" %age)\n",
    "    if man:\n",
    "        print(\"남자입니다\")\n",
    "    else:\n",
    "        print(\"여자입니다\")"
   ]
  },
  {
   "cell_type": "code",
   "execution_count": 69,
   "id": "2c77565a",
   "metadata": {},
   "outputs": [
    {
     "name": "stdout",
     "output_type": "stream",
     "text": [
      "첫번째 None 1\n",
      "두번째 2 1\n",
      "세번째 2\n",
      "네번째 2\n"
     ]
    }
   ],
   "source": [
    "a = 1 #힘수 밖에 있으면 전역변수(global )\n",
    "def vartest(a): #a 변수가 설정되지 않음.\n",
    "    a = a + 1\n",
    "print(\"첫번째\",vartest(1), a)\n",
    "\n",
    "\n",
    "#함수 안에서 선언된 변수의 효력 범위\n",
    "a = 1 \n",
    "def vartest(a): #a 변수가 설정되지 않음.\n",
    "    a = 1 # a 변수 설정 (지역변수)\n",
    "    return a + 1\n",
    "print('두번째',vartest(1),a)\n",
    "\n",
    "#함수 안에서 함수 밖의 변수를 변경하는 방법\n",
    "a = 1\n",
    "def vartest(a):\n",
    "    a = a + 1\n",
    "    return a  # retrun 함수를 이용해서 함수 밖의 전역변수를 받아서 사용이 가능함.\n",
    "a = vartest(a)\n",
    "print(\"세번째\", a)\n",
    "\n",
    "#global 명령어를 이용하는 방법\n",
    "a = 1\n",
    "def vartest():\n",
    "    global a  # global 함수를 이용해서 전역변수를 사용할 수 있음.\n",
    "    a = a + 1\n",
    "vartest()\n",
    "print(\"네번째\", a)"
   ]
  },
  {
   "cell_type": "markdown",
   "id": "7b438235",
   "metadata": {},
   "source": [
    "###### 파일 읽고 쓰기"
   ]
  },
  {
   "cell_type": "code",
   "execution_count": 96,
   "id": "4844321c",
   "metadata": {},
   "outputs": [
    {
     "name": "stdout",
     "output_type": "stream",
     "text": [
      "한 줄 읽어오기 1번째 줄 입니다.\n",
      "\n",
      "모든 줄 읽어오기 1번째 줄 입니다.\n",
      "\n",
      "모든 줄 읽어오기 2번째 줄 입니다.\n",
      "\n",
      "1번째 줄 입니다.\n",
      "2번째 줄 입니다.\n",
      "\n",
      "1번째 줄 입니다.\n",
      "2번째 줄 입니다.\n",
      "4번째 줄 입니다.\n",
      "5번째 줄 입니다.\n",
      "6번째 줄 입니다.\n",
      "\n",
      "파이썬을 배웁시다.\n"
     ]
    }
   ],
   "source": [
    "file = open('test1.txt','w') # 파일을 만들어서 쓰기. w : write\n",
    "file.close() # 파일 닫기\n",
    "\n",
    "# for 문 활용해서 쓰기\n",
    "file = open('test1.txt','w')\n",
    "for i in range(1,3):\n",
    "    data = '%d번째 줄 입니다.\\n' % i  # 쓸 문장 정리 (변수에 저장)\n",
    "    file.write(data) # 파일에 변수에 저장된 문장을 씀\n",
    "file.close()\n",
    "\n",
    "#읽어오기\n",
    "file = open('test1.txt','r') # r : read\n",
    "line = file.readline()\n",
    "print(\"한 줄 읽어오기\", line)\n",
    "file.close()\n",
    "\n",
    "#전체 읽어오기 (while)\n",
    "file = open('test1.txt','r')\n",
    "while True:\n",
    "    line = file.readline()\n",
    "    if not line:\n",
    "        break\n",
    "    print(\"모든 줄 읽어오기\", line)\n",
    "file.close()\n",
    "\n",
    "#file.read() 는 파일 내용 전체를 문자열로 반환한다.\n",
    "file = open('test1.txt','r')\n",
    "data = file.read()\n",
    "print(data)\n",
    "file.close()\n",
    "\n",
    "#추가하기 Append ('a')\n",
    "file = open('test1.txt','a')\n",
    "for i in range(4,7):\n",
    "    data = '%d번째 줄 입니다.\\n' %i\n",
    "    file.write(data)\n",
    "file.close()\n",
    "\n",
    "#확인 불러오기 \n",
    "file=open('test1.txt','r')\n",
    "data=file.read()\n",
    "print(data)\n",
    "file.close()\n",
    "\n",
    "#with 문과 같이 사용\n",
    "#file = open('with_text.txt','w')\n",
    "with open('with_test.txt','w') as file:   #with 문을 사용할 시 close() 를 생략 가능.\n",
    "    file.write(\"파이썬을 배웁시다.\")\n",
    "\n",
    "with open('with_test.txt','r') as file:\n",
    "    data = file.read()\n",
    "    print(data)"
   ]
  },
  {
   "cell_type": "code",
   "execution_count": 162,
   "id": "d457f858",
   "metadata": {},
   "outputs": [
    {
     "name": "stdout",
     "output_type": "stream",
     "text": [
      "배가 1만큼 고픕니다.\n",
      "\n",
      "배가 2만큼 고픕니다.\n",
      "\n",
      "for문 구성문 입니다. \n",
      "for 임의 변수 in 리스트:\n",
      "    원하는 출력 수식값 ( i = i + 1) \n",
      "\n",
      "while문 구성문 입니다. \n",
      " 변수 값\n",
      "while True:\n",
      "    무한 루프로 돌리고 싶은 수식값\n",
      "    추가적 조건 if 수식구\n",
      "break설정\n",
      "1 번째 with활용한 줄 입니다\n",
      "2 번째 with활용한 줄 입니다\n",
      "3 번째 with활용한 줄 입니다\n",
      "4 번째 with활용한 줄 입니다\n",
      "5 번째 with활용한 줄 입니다\n",
      "6번째 with활용한 줄 입니다\n",
      "7번째 with활용한 줄 입니다\n",
      "8번째 with활용한 줄 입니다\n",
      "9번째 with활용한 줄 입니다\n",
      "10번째 with활용한 줄 입니다\n",
      "\n"
     ]
    }
   ],
   "source": [
    "#예제\n",
    "file2 = open('test2.txt','w')\n",
    "for i in range(1,3):\n",
    "    data2 = '배가 %d만큼 고픕니다.\\n' %i\n",
    "    file2.write(data2)\n",
    "file2.close()\n",
    "file2 = open('test2.txt','r')\n",
    "while True:\n",
    "    line2 = file2.readline()\n",
    "    if not line2:\n",
    "        break\n",
    "    print(line2)\n",
    "file2.close()\n",
    "\n",
    "#과제\n",
    "with open(\"Assignment.txt\",'w') as file:\n",
    "    s = \"for문 구성문 입니다. \\n\"\n",
    "    l = [\"for 임의 변수 in 리스트:\\n\", \"    원하는 출력 수식값 ( i = i + 1) \\n\"]\n",
    "    t = \"\\n\"\n",
    "    w = \"while문 구성문 입니다. \\n \"\n",
    "    f = [\"변수 값\\n\",\"while True:\\n\",\"    무한 루프로 돌리고 싶은 수식값\\n\", \"    추가적 조건 if 수식구\\n\", \"break설정\"]\n",
    "\n",
    "    file.write(s)\n",
    "    file.writelines(l)\n",
    "    file.write(t)\n",
    "    file.write(w)\n",
    "    file.writelines(f)\n",
    "\n",
    "with open(\"Assignment.txt\",\"r\") as file:\n",
    "    data = file.read()\n",
    "    print(data)\n",
    "    \n",
    "    \n",
    "#with 예제\n",
    "with open(\"with_test_2.txt\",'w') as file:\n",
    "    for i in range(1,6):\n",
    "        data = \"%d 번째 with활용한 줄 입니다\\n\" %i\n",
    "        file.write(data)\n",
    "\n",
    "with open(\"with_test_2.txt\",'a') as file:\n",
    "    for i in range(6,11):\n",
    "        data = \"%d번째 with활용한 줄 입니다\\n\" %i\n",
    "        file.write(data)\n",
    "    \n",
    "with open(\"with_test_2.txt\",'r') as file:\n",
    "    data = file.read()\n",
    "    print(data)"
   ]
  },
  {
   "cell_type": "markdown",
   "id": "b5e97919",
   "metadata": {},
   "source": [
    "###### 내장함수 : 소괄호 있는 것들\n",
    "- https://docs.python.org/ko/3/library/functions.html"
   ]
  },
  {
   "cell_type": "code",
   "execution_count": 1,
   "id": "b16cdfd5",
   "metadata": {},
   "outputs": [
    {
     "name": "stdout",
     "output_type": "stream",
     "text": [
      "절대값 : abs = 3\n",
      "모두가 참? 하나라도 거짓? : all =  False\n",
      "하나라도 참? 모두가 거짓? : any =  True\n",
      "유니코드/아스키코드 : chr =  a\n",
      "11\n",
      "7 30\n",
      "요소값 개수 구하기 : len = 6 3 3\n",
      "리스트 내 요소를 하나씩 출력 : list = ['p', 'y', 't', 'h', 'o', 'n']\n",
      "튜플을 리스트로 변경 : list(튜플) = [1, 2, 3]\n",
      "range함수를 사용한 요소를 리스트로 출력 : list(range()) = [0, 1, 2, 3, 4] list(range(특정범위)) = [5, 6, 7, 8] list(range(시작,종료, 간격))= [1, 3, 5, 7, 9]\n"
     ]
    }
   ],
   "source": [
    "#값에 대한 평가\n",
    "print(\"절대값 : abs =\", abs(-3)) #absolute : 절대값\n",
    "print(\"모두가 참? 하나라도 거짓? : all = \", all([1,2,3,0])) #x가 모두 참이면 True, 거짓이 하나라도 있으면 False\n",
    "print(\"하나라도 참? 모두가 거짓? : any = \", any([1,0,0,0,0])) #x가 하나라도 참이면 True, 모두가 거짓이면 False\n",
    "\n",
    "# 아스키 코드 : 컴퓨터가 작동할 수 있게 하는 코드 \n",
    "print(\"유니코드/아스키코드 : chr = \", chr(97)) #아스키 코드 출력\n",
    "\n",
    "#lambda함수\n",
    "sum = lambda a,b : a + b\n",
    "print(sum(1,10))\n",
    "\n",
    "myList = [lambda a,b : a+b, lambda a,b:a*b]\n",
    "print(myList[0](3,4), myList[1](5,6))\n",
    "\n",
    "#len함수 Length\n",
    "print(\"요소값 개수 구하기 : len =\", len(\"python\"), len([1,2,3]), len([1,2,'a']))\n",
    "\n",
    "#list함수 list\n",
    "print(\"리스트 내 요소를 하나씩 출력 : list =\", list('python'))\n",
    "print(\"튜플을 리스트로 변경 : list(튜플) =\", list((1,2,3)))\n",
    "print(\"range함수를 사용한 요소를 리스트로 출력 : list(range()) =\", list(range(5)), \"list(range(특정범위)) =\", list(range(5,9)),\n",
    "      \"list(range(시작,종료, 간격))=\",list(range(1,10,2)))"
   ]
  },
  {
   "cell_type": "code",
   "execution_count": 149,
   "id": "eec6bc35",
   "metadata": {},
   "outputs": [
    {
     "data": {
      "text/plain": [
       "[0, -1, -2, -3, -4, -5, -6, -7, -8, -9]"
      ]
     },
     "execution_count": 149,
     "metadata": {},
     "output_type": "execute_result"
    }
   ],
   "source": [
    "list(range(0,-10,-1))"
   ]
  },
  {
   "cell_type": "markdown",
   "id": "e42620b9",
   "metadata": {},
   "source": [
    "###### 외장함수 : Import 해서 쓰는 것\n",
    "- https://yganalyst.github.io/data_handling/Py_study17/"
   ]
  },
  {
   "cell_type": "markdown",
   "id": "9e93e6be",
   "metadata": {},
   "source": [
    "- 어떤 일을 할 때 어떤 라이브러리를 사용하는지 알면 된다.\n",
    "- 전 세계의 파이썬 사용자들이 만든 유용한 프로그램을 모아 놓은 것이 바로 파이썬 라이브러리.\n",
    "- 파이썬 라이브러리는 파이썬을 설치할 때 자동으로 컴퓨터에 설치가 된다. "
   ]
  },
  {
   "cell_type": "code",
   "execution_count": 40,
   "id": "f6b023c5",
   "metadata": {},
   "outputs": [
    {
     "name": "stdout",
     "output_type": "stream",
     "text": [
      "{1: 'python', 2: 'you need'}\n",
      "\n",
      "\n",
      "C:\\tool\\envs\\cakd3;C:\\tool\\envs\\cakd3\\Library\\mingw-w64\\bin;C:\\tool\\envs\\cakd3\\Library\\usr\\bin;C:\\tool\\envs\\cakd3\\Library\\bin;C:\\tool\\envs\\cakd3\\Scripts;C:\\WINDOWS\\system32;C:\\WINDOWS;C:\\WINDOWS\\System32\\Wbem;C:\\WINDOWS\\System32\\WindowsPowerShell\\v1.0\\;C:\\WINDOWS\\System32\\OpenSSH\\;C:\\tool;C:\\tool\\Library\\mingw-w64\\bin;C:\\tool\\Library\\bin;C:\\tool\\Scripts;C:\\Users\\admin\\AppData\\Local\\Microsoft\\WindowsApps;C:\\Users\\admin\\AppData\\Local\\GitHubDesktop\\bin\n",
      "\n",
      "\n",
      "\n",
      "\n",
      "현재 폴더 위치 파악: import os // os.getcwd = C:\\Workspace\\CAKD3-Github\\20210624\n",
      "\n",
      "\n"
     ]
    },
    {
     "data": {
      "text/plain": [
       "['C:/Workspace/CAKD3-Github/20210624\\\\210624 Function.ipynb']"
      ]
     },
     "execution_count": 40,
     "metadata": {},
     "output_type": "execute_result"
    }
   ],
   "source": [
    "# 코딩 도중 저장을 할 때 binary(2진법)으로 저장하여 데이터 용량을 최소화 하는 방법 : pickle 함수 사용\n",
    "# pickle은 객체의 형태를 유지하면서 파일에 저장하고 불러올 수 있게 하는 모듈\n",
    "import pickle\n",
    "p = open('test.txt','wb') #binary로 wb를 씀\n",
    "data = {1:'python',2:'you need'}\n",
    "pickle.dump(data,p)\n",
    "p.close()\n",
    "\n",
    "import pickle\n",
    "p = open('test.txt','rb')\n",
    "data = pickle.load(p)\n",
    "print(data)\n",
    "p.close()\n",
    "\n",
    "print(\"\\n\")\n",
    "\n",
    "#os : \n",
    "import os\n",
    "print(os.environ['PATH'])\n",
    "\n",
    "print(\"\\n\")\n",
    "\n",
    "#pwd\n",
    "%pwd\n",
    "\n",
    "print(\"\\n\")\n",
    "\n",
    "#import os\n",
    "#os.chdir('C:/workspace/cakd3') : Directory 변환 가능\n",
    "#현재 폴더 위치 파악\n",
    "import os\n",
    "print(\"현재 폴더 위치 파악: import os // os.getcwd =\",os.getcwd())\n",
    "\n",
    "\n",
    "print(\"\\n\")\n",
    "#파일명 변경\n",
    "#os.rename('test.txt','test_new.txt')\n",
    "\n",
    "import glob\n",
    "glob.glob(\"C:/Workspace/CAKD3-Github/20210624/*.ipynb\")"
   ]
  },
  {
   "cell_type": "markdown",
   "id": "f09ac612",
   "metadata": {},
   "source": [
    "- 시간관련 외장함수"
   ]
  },
  {
   "cell_type": "code",
   "execution_count": 56,
   "id": "ff491a0f",
   "metadata": {},
   "outputs": [
    {
     "name": "stdout",
     "output_type": "stream",
     "text": [
      "1970.01.01 부터 지금까지 초단위로 나눴을때 : import time // time.time()  1624513795.2610817\n",
      "localtime: 시간 구조 : import time // time.localtime() time.struct_time(tm_year=2021, tm_mon=6, tm_mday=24, tm_hour=14, tm_min=49, tm_sec=55, tm_wday=3, tm_yday=175, tm_isdst=0)\n",
      "asctime: 표준 시간 구조형 : import time // time.asctime(time.localtime(time.time())) =  Thu Jun 24 14:49:55 2021\n",
      "sleep : 일정한 시간 간격을 두고 루프를 실행할 수 있음 : import time // time.sleep()\n",
      "0\n",
      "1\n",
      "2\n",
      "\n",
      "\n",
      "     June 2021\n",
      "Mo Tu We Th Fr Sa Su\n",
      "    1  2  3  4  5  6\n",
      " 7  8  9 10 11 12 13\n",
      "14 15 16 17 18 19 20\n",
      "21 22 23 24 25 26 27\n",
      "28 29 30\n",
      "달력: time.calender =  None\n",
      "\n",
      "\n",
      "요일검색(월요일을 0으로 시작): calendar.weekday = 4 금요일\n",
      "해당 달의 1일의 요일, 날수: calendar.monthrange(년,월) (1, 30) 6월1일 화요일, 총 30일\n"
     ]
    }
   ],
   "source": [
    "import time\n",
    "print(\"1970.01.01 부터 지금까지 초단위로 나눴을때 : import time // time.time() \", time.time())\n",
    "print(\"localtime: 시간 구조 : import time // time.localtime()\", time.localtime())\n",
    "print(\"asctime: 표준 시간 구조형 : import time // time.asctime(time.localtime(time.time())) = \",time.asctime(time.localtime(time.time())))\n",
    "print(\"sleep : 일정한 시간 간격을 두고 루프를 실행할 수 있음 : import time // time.sleep()\")\n",
    "import time\n",
    "for i in range(3):\n",
    "    print(i)\n",
    "    time.sleep(0.1) #0.1초 pause\n",
    "    \n",
    "print(\"\\n\")\n",
    "\n",
    "import calendar\n",
    "print(\"달력: time.calender = \",calendar.prmonth(2021,6))\n",
    "print(\"\\n\")\n",
    "print(\"요일검색(월요일을 0으로 시작): calendar.weekday =\",calendar.weekday(2021,12,31),\"금요일\")\n",
    "print(\"해당 달의 1일의 요일, 날수: calendar.monthrange(년,월)\", calendar.monthrange(2021,6),\"6월1일 화요일, 총 30일\")"
   ]
  },
  {
   "cell_type": "markdown",
   "id": "548d2ec3",
   "metadata": {},
   "source": [
    "- 브라우저 함수"
   ]
  },
  {
   "cell_type": "code",
   "execution_count": 59,
   "id": "81e4ccbb",
   "metadata": {},
   "outputs": [
    {
     "data": {
      "text/plain": [
       "True"
      ]
     },
     "execution_count": 59,
     "metadata": {},
     "output_type": "execute_result"
    }
   ],
   "source": [
    "import webbrowser\n",
    "webbrowser.open('http://google.com')"
   ]
  },
  {
   "cell_type": "markdown",
   "id": "560347b9",
   "metadata": {},
   "source": [
    "- 필터"
   ]
  },
  {
   "cell_type": "code",
   "execution_count": 16,
   "id": "32d1f00b",
   "metadata": {},
   "outputs": [
    {
     "name": "stdout",
     "output_type": "stream",
     "text": [
      "[1, 4, 9, 16, 25]\n",
      "[1, 2]\n",
      "\n",
      "\n",
      "[1, 2, 6]\n"
     ]
    }
   ],
   "source": [
    "a = [1,2,3,4,5]\n",
    "b = list(map(lambda i : i ** 2,a))\n",
    "print(b)\n",
    "c = list(filter(lambda x : x < 3, a)) #조건을 만족하는 것을 필터해주는 함수\n",
    "print(c)\n",
    "\n",
    "print(\"\\n\")\n",
    "\n",
    "#Q [1,-3,2,0,-5,6] 에서 양수만 필터링해서 출력하세요 #사용자함수 이용\n",
    "a_1=[1,-3,2,0,-5,6]\n",
    "def filt(x):\n",
    "    return x >0\n",
    "d = list(filter(filt,a_1))\n",
    "print(d)"
   ]
  },
  {
   "cell_type": "code",
   "execution_count": 33,
   "id": "60752465",
   "metadata": {},
   "outputs": [
    {
     "name": "stdout",
     "output_type": "stream",
     "text": [
      "[(1, 4), (2, 5), (3, 6)]\n",
      "[(1, 4, 7), (2, 5, 8), (3, 6, 9)]\n",
      "[('a', 'd'), ('b', 'e'), ('c', 'f')]\n"
     ]
    }
   ],
   "source": [
    "#Q. 내장함수를 이용해서 동일한 개수로 이루어진 자료형을 화살표 좌측에서 우측으로 변환하세요\n",
    "#[1,2,3],[4,5,6] -> [(1,4),(2,5),(3,6)]\n",
    "#[1,2,3],[4,5,6],[7,8,9] ->[(1,4,7),(2,5,8),(3,6,9)]\n",
    "#('abc','def') -> [('a','d'),('b','e'),('c','f')]\n",
    "\n",
    "print(list(zip([1,2,3],[4,5,6])))\n",
    "print(list(zip([1,2,3],[4,5,6],[7,8,9])))\n",
    "print(list(zip('abc','def')))"
   ]
  },
  {
   "cell_type": "code",
   "execution_count": 34,
   "id": "0d103862",
   "metadata": {},
   "outputs": [
    {
     "name": "stdout",
     "output_type": "stream",
     "text": [
      "(1, 'a')\n",
      "(2, 'b')\n",
      "(3, 'c')\n"
     ]
    }
   ],
   "source": [
    "num = [1,2,3]\n",
    "ltr = ['a','b','c']\n",
    "for pair in zip(num, ltr):\n",
    "    print(pair)"
   ]
  },
  {
   "cell_type": "code",
   "execution_count": 36,
   "id": "074e1175",
   "metadata": {
    "scrolled": true
   },
   "outputs": [
    {
     "data": {
      "text/plain": [
       "2.0"
      ]
     },
     "execution_count": 36,
     "metadata": {},
     "output_type": "execute_result"
    }
   ],
   "source": [
    "# 입력으로 들어오는 모든 수의 평균 값을 계산해 주는 함수를 작성한 후 1,2,3을 입력한 결과를 출력\n",
    "def cal_average(*args):\n",
    "    return sum(args) / len(args)\n",
    "cal_average(1,2,3)"
   ]
  },
  {
   "cell_type": "code",
   "execution_count": 38,
   "id": "11707164",
   "metadata": {},
   "outputs": [
    {
     "data": {
      "text/plain": [
       "2.0"
      ]
     },
     "execution_count": 38,
     "metadata": {},
     "output_type": "execute_result"
    }
   ],
   "source": [
    "def av(*args):\n",
    "    result = 0\n",
    "    for i in args:\n",
    "        result += i\n",
    "    return result / len(args)\n",
    "av(1,2,3)"
   ]
  },
  {
   "cell_type": "code",
   "execution_count": 5,
   "id": "64d9a5be",
   "metadata": {},
   "outputs": [
    {
     "data": {
      "text/plain": [
       "['ababa', 'aaaa', 'bar', 'ca', 'a']"
      ]
     },
     "execution_count": 5,
     "metadata": {},
     "output_type": "execute_result"
    }
   ],
   "source": [
    "# Q. strings를 문자의 크기 순서로 내림차순 정렬하세요\n",
    "strings = ['a','ca','bar','aaaa','ababa']\n",
    "strings.sort(key=len, reverse = True)\n",
    "strings"
   ]
  },
  {
   "cell_type": "code",
   "execution_count": 22,
   "id": "da1a980b",
   "metadata": {},
   "outputs": [
    {
     "data": {
      "text/plain": [
       "['card', 'bar', 'abab', 'aaaa', 'a']"
      ]
     },
     "execution_count": 22,
     "metadata": {},
     "output_type": "execute_result"
    }
   ],
   "source": [
    "string = ['a','card','bar','aaaa','abab']\n",
    "string.sort(key = lambda x: len(set(x)))   #int를 반환할 수 없는 key값에 int를 반환하려고 할때\n",
    "                                           #비슷한 경우라면 lambda 의 간편한 함수식을 이용\n",
    "string[::-1]"
   ]
  },
  {
   "cell_type": "code",
   "execution_count": 31,
   "id": "5781b372",
   "metadata": {},
   "outputs": [
    {
     "data": {
      "text/plain": [
       "['card', 'bar', 'abab', 'aaaa', 'a']"
      ]
     },
     "execution_count": 31,
     "metadata": {},
     "output_type": "execute_result"
    }
   ],
   "source": [
    "# Q. 튜플 형태인 strings를 다양한 문자가 포함된 순서로 정렬하세요\n",
    "strings = ('a','card','bar','aaaa','abab')\n",
    "lists = list(strings)\n",
    "lists.sort(key=lambda x : len(set(x)))\n",
    "lists[::-1]"
   ]
  },
  {
   "cell_type": "code",
   "execution_count": 1,
   "id": "7655e104",
   "metadata": {},
   "outputs": [
    {
     "name": "stdout",
     "output_type": "stream",
     "text": [
      "게시물의 총 건수를 입력하세요 : 1000\n",
      "한 페이지에 보여 줄 게시물 수를 입력하세요 : 30\n",
      "총 페이지 수는 : 34장 입니다.\n"
     ]
    }
   ],
   "source": [
    "#Q. 게시물의 총 건수와 한 페이지에 보여 줄 게시물 수를 입력시 총 페이지 수를 출력하는 프로그램\n",
    "def total_page_counts():\n",
    "    Total_count = int(input(\"게시물의 총 건수를 입력하세요 : \"))\n",
    "    Show_board = int(input(\"한 페이지에 보여 줄 게시물 수를 입력하세요 : \"))\n",
    "    total_pages = Total_count // Show_board\n",
    "    if Total_count % Show_board != 0:\n",
    "        total_pages += 1\n",
    "    return print(\"총 페이지 수는 : %d장 입니다.\" %(total_pages))\n",
    "\n",
    "total_page_counts()"
   ]
  },
  {
   "cell_type": "code",
   "execution_count": 2,
   "id": "53e22550",
   "metadata": {},
   "outputs": [],
   "source": [
    "def getTotalPage(m,n):\n",
    "    if m % n == 0 :\n",
    "        return m // n\n",
    "    else:\n",
    "        return m // n + 1"
   ]
  },
  {
   "cell_type": "code",
   "execution_count": null,
   "id": "3cd52b29",
   "metadata": {},
   "outputs": [],
   "source": []
  },
  {
   "cell_type": "code",
   "execution_count": null,
   "id": "685cb4d0",
   "metadata": {},
   "outputs": [],
   "source": []
  },
  {
   "cell_type": "code",
   "execution_count": null,
   "id": "fe214740",
   "metadata": {},
   "outputs": [],
   "source": []
  },
  {
   "cell_type": "code",
   "execution_count": null,
   "id": "e7581be8",
   "metadata": {},
   "outputs": [],
   "source": []
  },
  {
   "cell_type": "code",
   "execution_count": null,
   "id": "930f256c",
   "metadata": {},
   "outputs": [],
   "source": []
  },
  {
   "cell_type": "code",
   "execution_count": null,
   "id": "15609c57",
   "metadata": {},
   "outputs": [],
   "source": []
  },
  {
   "cell_type": "code",
   "execution_count": null,
   "id": "16ae9c90",
   "metadata": {},
   "outputs": [],
   "source": []
  },
  {
   "cell_type": "code",
   "execution_count": null,
   "id": "5803acc9",
   "metadata": {},
   "outputs": [],
   "source": []
  },
  {
   "cell_type": "code",
   "execution_count": null,
   "id": "226ffacb",
   "metadata": {},
   "outputs": [],
   "source": []
  },
  {
   "cell_type": "code",
   "execution_count": null,
   "id": "52bba58a",
   "metadata": {},
   "outputs": [],
   "source": []
  },
  {
   "cell_type": "code",
   "execution_count": null,
   "id": "48fc0117",
   "metadata": {},
   "outputs": [],
   "source": []
  },
  {
   "cell_type": "code",
   "execution_count": null,
   "id": "b2bd8c52",
   "metadata": {},
   "outputs": [],
   "source": []
  },
  {
   "cell_type": "code",
   "execution_count": null,
   "id": "0846740b",
   "metadata": {},
   "outputs": [],
   "source": []
  },
  {
   "cell_type": "code",
   "execution_count": null,
   "id": "0d408eb6",
   "metadata": {},
   "outputs": [],
   "source": []
  },
  {
   "cell_type": "code",
   "execution_count": null,
   "id": "4b506313",
   "metadata": {},
   "outputs": [],
   "source": []
  },
  {
   "cell_type": "code",
   "execution_count": null,
   "id": "85156905",
   "metadata": {},
   "outputs": [],
   "source": []
  },
  {
   "cell_type": "code",
   "execution_count": null,
   "id": "4e21562a",
   "metadata": {},
   "outputs": [],
   "source": []
  },
  {
   "cell_type": "code",
   "execution_count": null,
   "id": "4fee9f2f",
   "metadata": {},
   "outputs": [],
   "source": []
  },
  {
   "cell_type": "code",
   "execution_count": null,
   "id": "77c27c72",
   "metadata": {},
   "outputs": [],
   "source": []
  },
  {
   "cell_type": "code",
   "execution_count": null,
   "id": "f7b5b883",
   "metadata": {},
   "outputs": [],
   "source": []
  },
  {
   "cell_type": "code",
   "execution_count": null,
   "id": "8f08d659",
   "metadata": {},
   "outputs": [],
   "source": []
  },
  {
   "cell_type": "code",
   "execution_count": null,
   "id": "dca08f51",
   "metadata": {},
   "outputs": [],
   "source": []
  },
  {
   "cell_type": "code",
   "execution_count": null,
   "id": "a382ef65",
   "metadata": {},
   "outputs": [],
   "source": []
  },
  {
   "cell_type": "code",
   "execution_count": null,
   "id": "50695511",
   "metadata": {},
   "outputs": [],
   "source": []
  },
  {
   "cell_type": "code",
   "execution_count": null,
   "id": "6647b972",
   "metadata": {},
   "outputs": [],
   "source": []
  },
  {
   "cell_type": "code",
   "execution_count": null,
   "id": "29d38ad0",
   "metadata": {},
   "outputs": [],
   "source": []
  },
  {
   "cell_type": "code",
   "execution_count": null,
   "id": "f301bc10",
   "metadata": {},
   "outputs": [],
   "source": []
  },
  {
   "cell_type": "code",
   "execution_count": null,
   "id": "3de68eec",
   "metadata": {},
   "outputs": [],
   "source": []
  }
 ],
 "metadata": {
  "kernelspec": {
   "display_name": "Python 3",
   "language": "python",
   "name": "python3"
  },
  "language_info": {
   "codemirror_mode": {
    "name": "ipython",
    "version": 3
   },
   "file_extension": ".py",
   "mimetype": "text/x-python",
   "name": "python",
   "nbconvert_exporter": "python",
   "pygments_lexer": "ipython3",
   "version": "3.8.10"
  }
 },
 "nbformat": 4,
 "nbformat_minor": 5
}
