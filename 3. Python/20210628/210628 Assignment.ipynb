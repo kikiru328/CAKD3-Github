{
 "cells": [
  {
   "cell_type": "markdown",
   "id": "c0687a71",
   "metadata": {},
   "source": [
    "###### Q1. 아래 코드를 모든 예외를 처리할 수 있도록 보완하세요 "
   ]
  },
  {
   "cell_type": "code",
   "execution_count": 87,
   "id": "350a3917",
   "metadata": {
    "collapsed": true
   },
   "outputs": [
    {
     "name": "stdout",
     "output_type": "stream",
     "text": [
      "정수 입력> 1\n",
      "1번째 요소: 273\n",
      "모든 예외 처리\n"
     ]
    },
    {
     "ename": "NameError",
     "evalue": "name '예외' is not defined",
     "output_type": "error",
     "traceback": [
      "\u001b[1;31m---------------------------------------------------------------------------\u001b[0m",
      "\u001b[1;31mNameError\u001b[0m                                 Traceback (most recent call last)",
      "\u001b[1;32m<ipython-input-87-550fbd5901be>\u001b[0m in \u001b[0;36m<module>\u001b[1;34m\u001b[0m\n\u001b[0;32m      3\u001b[0m     \u001b[0mnum_input\u001b[0m \u001b[1;33m=\u001b[0m \u001b[0mint\u001b[0m\u001b[1;33m(\u001b[0m\u001b[0minput\u001b[0m\u001b[1;33m(\u001b[0m\u001b[1;34m'정수 입력> '\u001b[0m\u001b[1;33m)\u001b[0m\u001b[1;33m)\u001b[0m\u001b[1;33m\u001b[0m\u001b[1;33m\u001b[0m\u001b[0m\n\u001b[0;32m      4\u001b[0m     \u001b[0mprint\u001b[0m\u001b[1;33m(\u001b[0m\u001b[1;34m'{}번째 요소: {}'\u001b[0m\u001b[1;33m.\u001b[0m\u001b[0mformat\u001b[0m\u001b[1;33m(\u001b[0m\u001b[0mnum_input\u001b[0m\u001b[1;33m,\u001b[0m \u001b[0mlist_num\u001b[0m\u001b[1;33m[\u001b[0m\u001b[0mnum_input\u001b[0m\u001b[1;33m]\u001b[0m\u001b[1;33m)\u001b[0m\u001b[1;33m)\u001b[0m\u001b[1;33m\u001b[0m\u001b[1;33m\u001b[0m\u001b[0m\n\u001b[1;32m----> 5\u001b[1;33m     \u001b[0m예외\u001b[0m\u001b[1;33m.\u001b[0m\u001b[0m발생\u001b[0m\u001b[1;33m(\u001b[0m\u001b[1;33m)\u001b[0m\u001b[1;33m\u001b[0m\u001b[1;33m\u001b[0m\u001b[0m\n\u001b[0m\u001b[0;32m      6\u001b[0m \u001b[1;32mexcept\u001b[0m \u001b[0mValueError\u001b[0m \u001b[1;32mas\u001b[0m \u001b[0mexception\u001b[0m\u001b[1;33m:\u001b[0m\u001b[1;33m\u001b[0m\u001b[1;33m\u001b[0m\u001b[0m\n\u001b[0;32m      7\u001b[0m     \u001b[0mprint\u001b[0m\u001b[1;33m(\u001b[0m\u001b[1;34m'정수를 입력해 주세요.'\u001b[0m\u001b[1;33m)\u001b[0m\u001b[1;33m\u001b[0m\u001b[1;33m\u001b[0m\u001b[0m\n",
      "\u001b[1;31mNameError\u001b[0m: name '예외' is not defined"
     ]
    }
   ],
   "source": [
    "list_num = [52,273,32,72,100]\n",
    "try:\n",
    "    num_input = int(input('정수 입력> '))\n",
    "    print('{}번째 요소: {}'.format(num_input, list_num[num_input]))\n",
    "    예외.발생()\n",
    "except ValueError as exception:\n",
    "    print('정수를 입력해 주세요.')\n",
    "    print(type(exception),exception)\n",
    "except IndexError as exception:\n",
    "    print('리스트의 인덱스를 벗어났어요.')\n",
    "    print(type(exception),exception)\n",
    "finally:\n",
    "    print('모든 예외 처리')"
   ]
  },
  {
   "cell_type": "code",
   "execution_count": 93,
   "id": "1f6acc7f",
   "metadata": {},
   "outputs": [
    {
     "name": "stdout",
     "output_type": "stream",
     "text": [
      "정수 입력> 1\n",
      "1번째 요소: 273\n",
      "'예외.발생()' 값이 지정되지 않았습니다.\n",
      "<class 'NameError'> name '예외' is not defined\n",
      "모든 예외 처리\n"
     ]
    }
   ],
   "source": [
    "list_num = [52,273,32,72,100]\n",
    "try:\n",
    "    num_input = int(input('정수 입력> '))\n",
    "    print('{}번째 요소: {}'.format(num_input, list_num[num_input]))\n",
    "    예외.발생()\n",
    "except ValueError as exception:\n",
    "    print('정수를 입력해 주세요.')\n",
    "    print(type(exception),exception)\n",
    "except IndexError as exception:\n",
    "    print('리스트의 인덱스를 벗어났어요.')\n",
    "    print(type(exception),exception)\n",
    "except NameError as exception:\n",
    "    print(\"'예외.발생()' 값이 지정되지 않았습니다.\")\n",
    "    print(type(exception),exception)\n",
    "finally:\n",
    "    print('모든 예외 처리')"
   ]
  },
  {
   "cell_type": "markdown",
   "id": "e8c60e45",
   "metadata": {},
   "source": [
    "###### Q2. 기본가격 1000원인 3개의 상품에 대하여 임의의 추가 가격을 인수로 대입시 더한 가격을 산출하세요 (클래스이용)"
   ]
  },
  {
   "cell_type": "code",
   "execution_count": 1,
   "id": "1dcb9890",
   "metadata": {},
   "outputs": [
    {
     "name": "stdout",
     "output_type": "stream",
     "text": [
      "추가값을 입력하세요1000\n",
      "Menu's New price : 2000\n",
      "Menu's New price : 2000\n",
      "Menu's New price : 2000\n"
     ]
    }
   ],
   "source": [
    "add_price = int(input(\"추가값을 입력하세요\"))\n",
    "class Price:\n",
    "    def __init__(self):\n",
    "        global add_price\n",
    "        self.add_price = add_price\n",
    "        \n",
    "    def Menu(self):\n",
    "        original_price = 1000\n",
    "        New_price = original_price + self.add_price\n",
    "        return print(\"Menu's New price : %s\"%New_price)\n",
    "    \n",
    "#     def Menu2(self):\n",
    "#         original_price = 1000\n",
    "#         New_price = original_price + self.add_price\n",
    "#         return print(\"Menu2's New price : %s\"%New_price)\n",
    "        \n",
    "    \n",
    "#     def Menu3(self):\n",
    "#         original_price = 1000\n",
    "#         New_price = original_price + self.add_price\n",
    "#         return print(\"Menu3's New price : %s\"%New_price)\n",
    "       \n",
    "            \n",
    "Pri = Price()\n",
    "Pri.Menu()\n",
    "Pri.Menu()\n",
    "Pri.Menu()"
   ]
  },
  {
   "cell_type": "markdown",
   "id": "58dfc2b1",
   "metadata": {},
   "source": [
    "###### Q3. 기본가격 1000원인 2개의 상품에 대하여 임의의 추가 가격을 입력시 아래 두개의 방식으로 산출하세요(class이용)\n",
    "- price 1 : 기본가격 + 추가가격\n",
    "- price 2 : (기본가격 + 추가가격) * 90%"
   ]
  },
  {
   "cell_type": "code",
   "execution_count": 4,
   "id": "a9d3e521",
   "metadata": {},
   "outputs": [
    {
     "name": "stdout",
     "output_type": "stream",
     "text": [
      "추가 가격을 입력하세요:1000\n",
      "2000\n",
      "1800\n"
     ]
    }
   ],
   "source": [
    "op1 = 1000\n",
    "op2 = 1000\n",
    "price = int(input(\"추가 가격을 입력하세요:\"))\n",
    "class Getprice:\n",
    "    def Add_price(self):\n",
    "        global op1\n",
    "        op1 += price\n",
    "        return op1\n",
    "    \n",
    "    def Discount_price(self):\n",
    "        global op2\n",
    "        result_Discount_price = int((op2 + price) * 0.9)\n",
    "        return result_Discount_price\n",
    "        \n",
    "Answer1 = Getprice()\n",
    "print(Answer1.Add_price())\n",
    "Answer2 = Getprice()\n",
    "print(Answer2.Discount_price())"
   ]
  },
  {
   "cell_type": "markdown",
   "id": "397b56d1",
   "metadata": {},
   "source": [
    "###### Q4. 임의의 클래스를 작성한 후 인스턴스를 생성하고 그것의 타입을 확인하세요"
   ]
  },
  {
   "cell_type": "code",
   "execution_count": 3,
   "id": "2241fb1a",
   "metadata": {},
   "outputs": [
    {
     "name": "stdout",
     "output_type": "stream",
     "text": [
      "Dum\n"
     ]
    },
    {
     "data": {
      "text/plain": [
       "__main__.Class"
      ]
     },
     "execution_count": 3,
     "metadata": {},
     "output_type": "execute_result"
    }
   ],
   "source": [
    "class Class:\n",
    "    def __init__(self,name):\n",
    "        self.name = name\n",
    "        \n",
    "    def Who(self):\n",
    "        print(self.name)\n",
    "        \n",
    "    def with_whom(self):\n",
    "        print(\"same with %s\" %self.name)\n",
    "        \n",
    "A3 = Class(\"Dum\")\n",
    "A3.Who()\n",
    "type(A3)\n",
    "\n",
    "#isinstance()"
   ]
  },
  {
   "cell_type": "markdown",
   "id": "eb8e3f7b",
   "metadata": {},
   "source": [
    "###### Q5 4칙 연산 기능을 포함한 Cal4 클래스(생성자이용)를 작성하고 이 클래스를 이용하여 cal1계산기 객체를 만든 후 두개의 수 5,3에 대한 사칙연산을 수행하세요"
   ]
  },
  {
   "cell_type": "code",
   "execution_count": 6,
   "id": "67947fd2",
   "metadata": {},
   "outputs": [
    {
     "name": "stdout",
     "output_type": "stream",
     "text": [
      "5\n",
      "5\n",
      "0\n",
      "Cannot divide 0\n",
      "None\n"
     ]
    }
   ],
   "source": [
    "class Cal4:\n",
    "    def __init__(self,a,b): #생성자 생성시 인자값 필수입력\n",
    "        self.a = a\n",
    "        self.b = b\n",
    "    \n",
    "    def sum(self):\n",
    "        result_sum = self.a + self.b\n",
    "        return result_sum\n",
    "    \n",
    "    def sub(self):\n",
    "        result_sub = self.a - self.b\n",
    "        return result_sub\n",
    "    \n",
    "    def mul(self):\n",
    "        result_mul =  self.a * self.b\n",
    "        return result_mul\n",
    "    \n",
    "    def div(self): #Round 처리!\n",
    "        if self.b == 0:\n",
    "            print(\"Cannot divide 0\")\n",
    "        else:\n",
    "            result_div =  self.a / self.b\n",
    "            return result_div\n",
    "cal1 = Cal4(5,0)\n",
    "print('sum:{}, sub:{}, mul')"
   ]
  },
  {
   "cell_type": "markdown",
   "id": "c633b7e2",
   "metadata": {},
   "source": [
    "###### Q6. Order 클래스를 상속받아 extraorder 클래스를 작성하고 extraCustomer의 주문가격을 다음과 같이 산출하였다. ㄷextraOrder클래스를 작성하세요"
   ]
  },
  {
   "cell_type": "code",
   "execution_count": 7,
   "id": "fa7305ad",
   "metadata": {},
   "outputs": [
    {
     "name": "stdout",
     "output_type": "stream",
     "text": [
      "1000\n"
     ]
    }
   ],
   "source": [
    "class Order:\n",
    "    def __init__(self,name):\n",
    "        self.customer = 0\n",
    "        self.name = name\n",
    "    def order(self,price):\n",
    "        self.customer += price\n",
    "        return self.customer\n",
    "    \n",
    "class ExtraOrder(Order):\n",
    "    pass\n",
    "\n",
    "extraCustomer =ExtraOrder('Kevin')\n",
    "print(extraCustomer.order(1000))"
   ]
  },
  {
   "cell_type": "markdown",
   "id": "3b03600e",
   "metadata": {},
   "source": [
    "###### Q7. Order 클래스를 상속받아 extraOrder 클래스에서 메소드 오버라이딩하여 출력가격에 '원'이 추가되도록 출력하세요"
   ]
  },
  {
   "cell_type": "code",
   "execution_count": 8,
   "id": "5d96570e",
   "metadata": {},
   "outputs": [
    {
     "name": "stdout",
     "output_type": "stream",
     "text": [
      "가격은 1000원입니다.\n",
      "None\n"
     ]
    }
   ],
   "source": [
    "# method를 '원'이 추가되도록\n",
    "class Order:\n",
    "    def __init__(self,name):\n",
    "        self.customer = 0\n",
    "        self.name = name\n",
    "    def order(self,price):\n",
    "        self.customer += price\n",
    "        return self.customer\n",
    "    \n",
    "class ExtraOrder(Order):\n",
    "    def order(self,price):\n",
    "        self.customer += price\n",
    "        return print(\"가격은 {}{}입니다.\".format(self.customer,\"원\"))\n",
    "\n",
    "extraCustomer =ExtraOrder('Kevin')\n",
    "print(extraCustomer.order(1000))"
   ]
  },
  {
   "cell_type": "markdown",
   "id": "d3cd63dd",
   "metadata": {},
   "source": [
    "###### Q8. 업무미팅이 2시임을 알려주는 자동 이메일을 클래스  AutoEmail을 작성하여 아래와 같이 출력하세요.\n",
    "- 안녕하세요 Kevin님\n",
    "- 업무미팅은 2시 입니다."
   ]
  },
  {
   "cell_type": "code",
   "execution_count": 51,
   "id": "bf24189f",
   "metadata": {},
   "outputs": [
    {
     "name": "stdout",
     "output_type": "stream",
     "text": [
      "안녕하세요,Kevin님\n",
      "업무미팅시간이 아닙니다.\n",
      "업무미팅시간은 2시에 예정되어 있습니다.\n",
      "현재시각은 10입니다.\n"
     ]
    }
   ],
   "source": [
    "class AutoEmail:\n",
    "    def __init__(self,name):\n",
    "        self.name = name\n",
    "        return print( \"안녕하세요,%s님\" %name)\n",
    "    def Meeting(self):\n",
    "        import datetime as dt\n",
    "        if dt.datetime.hour == 14:\n",
    "            print(\"업무미팅시간입니다. 현재 시각은 {}시 입니다.\".format(dt.datetetime.hour))\n",
    "        else:\n",
    "            print(\"업무미팅시간이 아닙니다.\")\n",
    "            print(\"업무미팅시간은 %d시에 예정되어 있습니다.\" %2)\n",
    "            print(\"현재시각은 {}입니다.\".format(dt.datetime.now().hour))\n",
    "email = AutoEmail('Kevin')\n",
    "email.Meeting()"
   ]
  },
  {
   "cell_type": "markdown",
   "id": "9a0d9797",
   "metadata": {},
   "source": [
    "######  Q9. 1609160537.371015를 \"Sat Jun 26 08:35:03 2021\" 포맷으로 출력하세요"
   ]
  },
  {
   "cell_type": "code",
   "execution_count": 10,
   "id": "e268f9b8",
   "metadata": {},
   "outputs": [
    {
     "data": {
      "text/plain": [
       "'Mon Dec 28 22:02:17 2020'"
      ]
     },
     "execution_count": 10,
     "metadata": {},
     "output_type": "execute_result"
    }
   ],
   "source": [
    "import time\n",
    "time.strftime('%c',time.localtime(1609160537.371015))"
   ]
  },
  {
   "cell_type": "code",
   "execution_count": 4,
   "id": "4c06ec64",
   "metadata": {},
   "outputs": [
    {
     "data": {
      "text/plain": [
       "'Mon Dec 28 22:02:17 2020'"
      ]
     },
     "execution_count": 4,
     "metadata": {},
     "output_type": "execute_result"
    }
   ],
   "source": [
    "import time\n",
    "t= time.localtime(1609160537.371015)\n",
    "time.asctime(t)"
   ]
  },
  {
   "cell_type": "markdown",
   "id": "67e3b59a",
   "metadata": {},
   "source": [
    "###### Q10. 현재 날짜와 시간을 \"Sat Jun 26 08:35:03 2021\"  포맷으로 출력하세요"
   ]
  },
  {
   "cell_type": "code",
   "execution_count": 11,
   "id": "212a579a",
   "metadata": {},
   "outputs": [
    {
     "name": "stdout",
     "output_type": "stream",
     "text": [
      "1624868451.6040964\n",
      "Mon Jun 28 17:20:51 2021\n"
     ]
    }
   ],
   "source": [
    "import time\n",
    "nowtime = time.time() #현재시간\n",
    "print(nowtime)\n",
    "clean_nowtime = time.strftime('%c',time.localtime(time.time()))\n",
    "print(clean_nowtime)"
   ]
  },
  {
   "cell_type": "code",
   "execution_count": 8,
   "id": "ce1c9b88",
   "metadata": {},
   "outputs": [
    {
     "name": "stdout",
     "output_type": "stream",
     "text": [
      "1624927436.835112\n",
      "2021-06-29 09:43:56\n"
     ]
    }
   ],
   "source": [
    "import time\n",
    "nowtime_1 = time.time()\n",
    "print(nowtime_1)\n",
    "clean_nowtime_1 = time.strftime(\"%Y-%m-%d %X\",time.localtime(nowtime_1))\n",
    "print(clean_nowtime_1)"
   ]
  },
  {
   "cell_type": "code",
   "execution_count": 11,
   "id": "20c9f68e",
   "metadata": {},
   "outputs": [
    {
     "name": "stdout",
     "output_type": "stream",
     "text": [
      "2021-06-29 09:45:10\n"
     ]
    }
   ],
   "source": [
    "from time import strftime\n",
    "nowtime_2 = time.time()\n",
    "clean_nowtime_2 = strftime(\"%Y-%m-%d %X\",time.localtime(nowtime_2))\n",
    "print(clean_nowtime_2)"
   ]
  },
  {
   "cell_type": "markdown",
   "id": "cbbe79a1",
   "metadata": {},
   "source": [
    "###### Q11. 현재 시간을 년-월-일 시:분:초로 출력하세요"
   ]
  },
  {
   "cell_type": "code",
   "execution_count": 12,
   "id": "40d6644b",
   "metadata": {},
   "outputs": [
    {
     "name": "stdout",
     "output_type": "stream",
     "text": [
      "2021-06-28 17:20:52.665045\n"
     ]
    }
   ],
   "source": [
    "import datetime as dt\n",
    "now = dt.datetime.now()\n",
    "print(now)"
   ]
  },
  {
   "cell_type": "markdown",
   "id": "3b3c8699",
   "metadata": {},
   "source": [
    "###### Q12. 올해 경과된 날짜수 계산하세요"
   ]
  },
  {
   "cell_type": "code",
   "execution_count": 13,
   "id": "9deef42e",
   "metadata": {
    "scrolled": true
   },
   "outputs": [
    {
     "name": "stdout",
     "output_type": "stream",
     "text": [
      "2021-06-28 17:20:53.575435\n",
      "2021-01-01 00:00:00\n",
      "178 days, 17:20:53.575435\n"
     ]
    },
    {
     "data": {
      "text/plain": [
       "178"
      ]
     },
     "execution_count": 13,
     "metadata": {},
     "output_type": "execute_result"
    }
   ],
   "source": [
    "from datetime import datetime as dt\n",
    "now = dt.now()\n",
    "print(now)\n",
    "\n",
    "now_compare = dt.strptime(\"20210101\",\"%Y%m%d\")\n",
    "print(now_compare)\n",
    "\n",
    "compare_date_difference = now - now_compare\n",
    "print(compare_date_difference)\n",
    "\n",
    "compare_date_difference.days"
   ]
  },
  {
   "cell_type": "code",
   "execution_count": 12,
   "id": "3c025138",
   "metadata": {},
   "outputs": [
    {
     "data": {
      "text/plain": [
       "datetime.timedelta(days=178)"
      ]
     },
     "execution_count": 12,
     "metadata": {},
     "output_type": "execute_result"
    }
   ],
   "source": [
    "import datetime\n",
    "datetime.datetime(2021,6,28) - datetime.datetime(2021,1,1)"
   ]
  },
  {
   "cell_type": "markdown",
   "id": "e493bb7b",
   "metadata": {},
   "source": [
    "###### Q13. 현재 요일을 \"2021-6-26 오늘은 토요일입니다.\"와 같은 형식으로 출력하세요"
   ]
  },
  {
   "cell_type": "code",
   "execution_count": 15,
   "id": "c678d5a4",
   "metadata": {},
   "outputs": [
    {
     "name": "stdout",
     "output_type": "stream",
     "text": [
      "2021-06-28, Today: Monday \n"
     ]
    }
   ],
   "source": [
    "import datetime as dt\n",
    "def print_time_now_english():\n",
    "    t =dt.datetime.now()\n",
    "    print(t.strftime(\"%Y-%m-%d, Today: %A \"))\n",
    "    \n",
    "print_time_now_english()"
   ]
  },
  {
   "cell_type": "code",
   "execution_count": 21,
   "id": "c7942b9c",
   "metadata": {},
   "outputs": [
    {
     "name": "stdout",
     "output_type": "stream",
     "text": [
      "2021-06-28, 오늘은 월요일 입니다\n"
     ]
    }
   ],
   "source": [
    "import datetime as dt\n",
    "import locale #국제화서비스 함수\n",
    "locale.setlocale(locale.LC_ALL, 'ko_KR.UTF-8') #유니코드 인코딩\n",
    "def print_time_now_korean():\n",
    "    t = dt.datetime.now()\n",
    "    print(t.strftime(\"%Y-%m-%d, 오늘은 %A 입니다\"))\n",
    "    \n",
    "\n",
    "print_time_now_korean()"
   ]
  },
  {
   "cell_type": "markdown",
   "id": "e6abbd8b",
   "metadata": {},
   "source": [
    "###### Q14. 1에서 백만까지 더하는데 걸리는 프로그램 실행 시간을 밀리초(ms) 단위로 구하세요\n",
    "- 1000 밀리초(ms) = 1초."
   ]
  },
  {
   "cell_type": "code",
   "execution_count": 42,
   "id": "24098e3d",
   "metadata": {},
   "outputs": [
    {
     "name": "stdout",
     "output_type": "stream",
     "text": [
      "0.10676920000003065\n"
     ]
    }
   ],
   "source": [
    "import timeit\n",
    "time_start = timeit.default_timer()\n",
    "for i in range(1,1000001):\n",
    "    i += 1\n",
    "time_stop = timeit.default_timer()\n",
    "print(time_stop-time_start)"
   ]
  },
  {
   "cell_type": "code",
   "execution_count": 18,
   "id": "a5e1a46a",
   "metadata": {},
   "outputs": [
    {
     "name": "stdout",
     "output_type": "stream",
     "text": [
      "108\n"
     ]
    }
   ],
   "source": [
    "import time\n",
    "starttime = time.time()\n",
    "for i in range(1,1000001):\n",
    "    i += 1\n",
    "stoptime = time.time()\n",
    "program_time = stoptime-starttime\n",
    "print('{:.0f}'.format(program_time*1000))"
   ]
  },
  {
   "cell_type": "markdown",
   "id": "918cd038",
   "metadata": {},
   "source": [
    "###### Q15. Bonus\n",
    "name = ['고영남', '김광훈', '김동일', '김진', '박기범', '박민아', '박시우', '배송이', '송유빈', '신인철',\n",
    "       '양인석','오수문','우동주','이덕재','이민찬','이범준','이슬','이원진','이종현','임희진',\n",
    "       '정하림','조경림','조현정','진유훈','채승혜','최윤진','최한결','최혜정','하도원','안아름']\n",
    "- 발표할 인원을 입력하면 랜덤으로 발표자를 리스트로 출력해주는 프로그램을  작성하세요.(중복 허용하지 않음)"
   ]
  },
  {
   "cell_type": "code",
   "execution_count": 62,
   "id": "145d38a1",
   "metadata": {},
   "outputs": [],
   "source": [
    "import random\n",
    "name = ['고영남', '김광훈', '김동일', '김진', '박기범',\n",
    "        '박민아', '박시우', '배송이', '송유빈', '신인철',\n",
    "        '양인석','오수문','우동주','이덕재','이민찬','이범준',\n",
    "        '이슬','이원진','이종현','임희진', '정하림','조경림','조현정',\n",
    "        '진유훈','채승혜','최윤진','최한결','최혜정','하도원','안아름']\n",
    "#random_pick = random.sample(name,2)\n",
    "#print(random_pick)\n",
    "#type(random_pick)"
   ]
  },
  {
   "cell_type": "code",
   "execution_count": 85,
   "id": "359a9949",
   "metadata": {},
   "outputs": [],
   "source": [
    "name = ['고영남', '김광훈', '김동일', '김진', '박기범',\n",
    "        '박민아', '박시우', '배송이', '송유빈', '신인철',\n",
    "        '양인석','오수문','우동주','이덕재','이민찬','이범준',\n",
    "        '이슬','이원진','이종현','임희진', '정하림','조경림','조현정',\n",
    "        '진유훈','채승혜','최윤진','최한결','최혜정','하도원','안아름']\n",
    "def today_presenters():\n",
    "    global name\n",
    "    name_clean= list(set(name))\n",
    "    already = []\n",
    "    counts = int(input(\"오늘의 발표자는 몇 명? : \"))\n",
    "    if counts > len(name_clean):\n",
    "        print(\"학생보다 많습니다. 다시 입력해주세요:\")\n",
    "        return today_presenters()\n",
    "    Shuffle = input(\"섞을까요? Y/N : \")\n",
    "    if Shuffle == \"Y\":\n",
    "        random.shuffle(name_clean)\n",
    "    else:\n",
    "        pass\n",
    "    choiced_presenter = random.sample(name_clean, counts)\n",
    "    return print(choiced_presenter)"
   ]
  },
  {
   "cell_type": "code",
   "execution_count": 86,
   "id": "819ca644",
   "metadata": {},
   "outputs": [
    {
     "name": "stdout",
     "output_type": "stream",
     "text": [
      "오늘의 발표자는 몇 명? : 2\n",
      "섞을까요? Y/N : Y\n",
      "['하도원', '배송이']\n"
     ]
    }
   ],
   "source": [
    "today_presenters()"
   ]
  },
  {
   "cell_type": "code",
   "execution_count": null,
   "id": "253d52b9",
   "metadata": {},
   "outputs": [],
   "source": []
  }
 ],
 "metadata": {
  "kernelspec": {
   "display_name": "Python 3",
   "language": "python",
   "name": "python3"
  },
  "language_info": {
   "codemirror_mode": {
    "name": "ipython",
    "version": 3
   },
   "file_extension": ".py",
   "mimetype": "text/x-python",
   "name": "python",
   "nbconvert_exporter": "python",
   "pygments_lexer": "ipython3",
   "version": "3.8.10"
  }
 },
 "nbformat": 4,
 "nbformat_minor": 5
}
