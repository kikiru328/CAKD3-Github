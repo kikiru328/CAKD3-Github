{
 "cells": [
  {
   "cell_type": "markdown",
   "id": "5b3b2fa2",
   "metadata": {},
   "source": [
    "#### Scenario"
   ]
  },
  {
   "cell_type": "markdown",
   "id": "951093d4",
   "metadata": {},
   "source": [
    "1. 기준값적용 (평가기준값)\n",
    " - 기준값 지정 (총 5점)\n",
    " - 평가값을 받는 것 = \n",
    " \n",
    " \n",
    "    133,000*2.1%이하 5점\n",
    "    133,000*2.1%초과 133,000*13.6%이하 4점 \n",
    "    133,000*13.6% 초과 133,000*50%이하 3점\n",
    "    133.000*50% 초과 133,000*84.1% 이하 3점\n",
    "    133,000*84.1%초과 133,000*97.7%이하 2점 \n",
    "    133,000*97.7%이상 1점\n",
    "\n",
    "    --> 평균값 133,000원 정확한 범위 분배해서 1~5점 설정.\n",
    "\n",
    "========================================================\n",
    "기록\n",
    "1. 관광지 날짜/이름/타입\\\n",
    "관광지 인덱스 내용 /이동수단/비용/거리(*계산식 고민)\n",
    "/다녀온 관광지(*데이터 int,count값)\n",
    "2. 데이터 세트를 각 txt파일에 저장.\n",
    "3. txt파일 누적으로 저장\n",
    "\n",
    "평가\n",
    " 인풋된 데이터와 비교\n",
    "2. 기준 인풋 데이터를 토대로(평가) 관광지에 대한 평가 평균값을 계산.\n",
    "3. Top 레이팅을 평가.\n",
    "------------------------------------------\n",
    "탐색\n",
    "1. 이름/탐색 기준으로 key 값 지정\n",
    "2. 평균값 내림차순으로 Key값에 의한 sort\n",
    "3. 원하는 지역 탐색시 도메인 + 쿼리에 검색내용 추가 : 링크로 이동할 수 있게끔 도와줌\n",
    "4. \n",
    "\n",
    "              "
   ]
  },
  {
   "cell_type": "markdown",
   "id": "9b77af0f",
   "metadata": {},
   "source": [
    "###### 1. Program begins"
   ]
  },
  {
   "cell_type": "code",
   "execution_count": 46,
   "id": "c4db179c",
   "metadata": {},
   "outputs": [],
   "source": [
    "# class tour_programm(self):"
   ]
  },
  {
   "cell_type": "markdown",
   "id": "8934b447",
   "metadata": {},
   "source": [
    "###### 2. Program data set"
   ]
  },
  {
   "cell_type": "markdown",
   "id": "1e816de3",
   "metadata": {},
   "source": [
    "2-0 ALL IMPORT LIBRARY"
   ]
  },
  {
   "cell_type": "code",
   "execution_count": 47,
   "id": "09533392",
   "metadata": {},
   "outputs": [],
   "source": [
    "#import Record\n",
    "# !pip install haversine\n",
    "#import haversine"
   ]
  },
  {
   "cell_type": "markdown",
   "id": "8bb876dc",
   "metadata": {},
   "source": [
    "2-1 Data record"
   ]
  },
  {
   "cell_type": "code",
   "execution_count": 131,
   "id": "74e2a9e1",
   "metadata": {},
   "outputs": [],
   "source": [
    "#class import\n",
    "a = Record()"
   ]
  },
  {
   "cell_type": "code",
   "execution_count": 140,
   "id": "e770435a",
   "metadata": {},
   "outputs": [],
   "source": [
    "class Record:\n",
    "    def first_record(self):\n",
    "        with open(\"Dummy.txt\",\"w\") as data:    \n",
    "            print(\"첫번째 기록입니다.\")\n",
    "            while True:\n",
    "                p_date = int(input(\"여행날짜 : \")) #datetime 정규식으로 나눌것\n",
    "                p_dn_name = input(\"여행목적지(관광지이름) : \")\n",
    "                p_type = input(\"관광지유형을 고르세요. 도시/바다/캠핑/등\")\n",
    "                p_start = input(\"출발 장소를 입력하세요 : \")\n",
    "                p_transportation = input(\"이동수단을 고르세요. 도보/지역버스/자차/고속버스/전철\")\n",
    "                p_length_of_stay = int(input(\"총 여행 기간 : __ 일\"))\n",
    "                p_cost = int(input(\"총 지출 금액 : __ 원\"))\n",
    "                past_data = [{'여행날짜':p_date},\n",
    "                             {'관광지이름':p_dn_name},\n",
    "                             {'관광유형':p_type},\n",
    "                             {'출발지':p_start},\n",
    "                             {'이동수단':p_transportation},\n",
    "                             {'관광기간':p_length_of_stay},\n",
    "                             {'총비용':p_cost}]\n",
    "                past_data = str(past_data)\n",
    "                data.write(past_data+',''\\n')\n",
    "                Question_end = input(\"다른 여행지를 기록하시겠습니까? 예/아니오 : \")\n",
    "                if Question_end == '예':\n",
    "                    continue\n",
    "                else:\n",
    "                    print(\"기록이 종료됩니다.\")\n",
    "                    print(\"기록된 내용입니다. \")\n",
    "                    break\n",
    "        with open(\"Dummy.txt\",'r') as data_r: data_r = data_r.read()\n",
    "        return print(data_r,sep='\\n')\n",
    "                    \n",
    "                        \n",
    "                    \n",
    "    def another_record(self):\n",
    "        with open(\"Dummy.txt\",\"a\") as data:    \n",
    "            print(\"기존 데이터에 기록합니다.\")\n",
    "            while True:\n",
    "                p_date = int(input(\"여행날짜 : \")) #datetime 정규식으로 나눌것\n",
    "                p_dn_name = input(\"여행목적지(관광지이름) : \")\n",
    "                p_type = input(\"관광지유형을 고르세요. 도시/바다/캠핑/등\")\n",
    "                p_start = input(\"출발 장소를 입력하세요 : \")\n",
    "                p_transportation = input(\"이동수단을 고르세요. 도보/지역버스/자차/고속버스/전철\")\n",
    "                p_length_of_stay = int(input(\"총 여행 기간 : __ 일\"))\n",
    "                p_cost = int(input(\"총 지출 금액 : __ 원\"))\n",
    "#                 past_data = [p_date,p_dn_name,p_type,p_start,p_transportation,p_length_of_stay,p_cost]\n",
    "                past_data = [{'여행날짜':p_date},\n",
    "                             {'관광지이름':p_dn_name},\n",
    "                             {'관광유형':p_type},\n",
    "                             {'출발지':p_start},\n",
    "                             {'이동수단':p_transportation},\n",
    "                             {'관광기간':p_length_of_stay},\n",
    "                             {'총비용':p_cost}]\n",
    "                past_data = str(past_data)\n",
    "                data.write(past_data+',''\\n')\n",
    "                Question_end = input(\"다른 여행지를 기록하시겠습니까? 예/아니오 : \")\n",
    "                if Question_end == '예':\n",
    "                    continue\n",
    "                else:\n",
    "                    print(\"기록이 종료되었습니다.\")\n",
    "                    print(\"추가 기록된 내용입니다.\")\n",
    "                    break\n",
    "        return print(past_data)\n",
    "                    "
   ]
  },
  {
   "cell_type": "code",
   "execution_count": 139,
   "id": "998e5023",
   "metadata": {},
   "outputs": [
    {
     "name": "stdout",
     "output_type": "stream",
     "text": [
      "처음 기록합니까?  예/아니오 : 아니오\n",
      "기존 데이터에 기록하겠습니까? 예/아니오 : 예\n",
      "기존 데이터에 기록합니다.\n",
      "여행날짜 : 22\n",
      "여행목적지(관광지이름) : 3\n",
      "관광지유형을 고르세요. 도시/바다/캠핑/등3\n",
      "출발 장소를 입력하세요 : 3\n",
      "이동수단을 고르세요. 도보/지역버스/자차/고속버스/전철3\n",
      "총 여행 기간 : __ 일3\n",
      "총 지출 금액 : __ 원3\n",
      "다른 여행지를 기록하시겠습니까? 예/아니오 : 아니오\n",
      "기록이 종료되었습니다.\n",
      "[{'여행날짜': 22}, {'관광지이름': '3'}, {'관광유형': '3'}, {'출발지': '3'}, {'이동수단': '3'}, {'관광기간': 3}, {'총비용': 3}]\n"
     ]
    }
   ],
   "source": [
    "a = Record()\n",
    "\n",
    "Question = input(\"처음 기록합니까?  예/아니오 : \")\n",
    "if Question == \"예\":\n",
    "    a.first_record()\n",
    "else:\n",
    "    Another_Question = input(\"기존 데이터에 기록하겠습니까? 예/아니오 : \")\n",
    "    if Another_Question == \"예\":\n",
    "        a.another_record()"
   ]
  },
  {
   "cell_type": "markdown",
   "id": "4368cf53",
   "metadata": {},
   "source": [
    "5\n",
    "##### 5\n",
    "##### "
   ]
  },
  {
   "cell_type": "code",
   "execution_count": null,
   "id": "fd67c2e3",
   "metadata": {},
   "outputs": [],
   "source": []
  },
  {
   "cell_type": "markdown",
   "id": "f8ea5bd8",
   "metadata": {},
   "source": [
    "## "
   ]
  },
  {
   "cell_type": "code",
   "execution_count": 104,
   "id": "62f2c142",
   "metadata": {},
   "outputs": [
    {
     "name": "stdout",
     "output_type": "stream",
     "text": [
      "[1, '1', '1', '1', '1', 1, 1],\n",
      "\n"
     ]
    }
   ],
   "source": [
    "with open(\"Dummy.txt\",'r') as data_r:\n",
    "                        data_r = data_r.read()\n",
    "                        print(data_r)"
   ]
  },
  {
   "cell_type": "code",
   "execution_count": 25,
   "id": "f6153d7c",
   "metadata": {},
   "outputs": [
    {
     "data": {
      "text/plain": [
       "str"
      ]
     },
     "execution_count": 25,
     "metadata": {},
     "output_type": "execute_result"
    }
   ],
   "source": [
    "with open (\"past_data.txt\",'r') as file:\n",
    "    data = file.read()\n",
    "type(data)"
   ]
  },
  {
   "cell_type": "markdown",
   "id": "a9558a30",
   "metadata": {},
   "source": [
    "2-2. Data Calucation sp)L_S_D"
   ]
  },
  {
   "cell_type": "markdown",
   "id": "e2bc90dc",
   "metadata": {},
   "source": [
    "###### 주소 가져오기 \n",
    "간단한 명칭만 넣으면 주소를 가져옴"
   ]
  },
  {
   "cell_type": "code",
   "execution_count": 13,
   "id": "d00d8014",
   "metadata": {},
   "outputs": [],
   "source": [
    "class Cal_Distance:\n",
    "    def getLatLng(self):\n",
    "        import requests\n",
    "        p_start = input(\"출발 장소(도로명주소) 를 입력하세요 : \")\n",
    "        url = 'https://dapi.kakao.com/v2/local/search/keyword.json?query={}'.format(p_start)\n",
    "        headers = {\"Authorization\": \"KakaoAK ac29d0b5ff83ba31f85e0d6f9f38e797\"}\n",
    "        p_s_places = requests.get(url, headers = headers).json()['documents']\n",
    "        \n",
    "        # print(p_s_place) # 리스트내 사전이 여러개가 있을때, 줄바꿈해서 출력방법 모름 --> 알면 UI 상승할 듯\n",
    "        # select_number = int(input('몇 번째 주소인지 입력하세요 : '))\n",
    "        # float(p_s_places[select_number]) ~\n",
    "        \n",
    "        p_s_Lat = float(p_s_places[0]['y'])\n",
    "        p_s_Lng = float(p_s_places[0]['x'])\n",
    "        p_s_LatLng=(p_s_Lat,p_s_Lng)\n",
    "\n",
    "        p_dn_name = input(\"여행목적지(관광지이름) : \")\n",
    "        url = 'https://dapi.kakao.com/v2/local/search/keyword.json?query={}'.format(p_dn_name)\n",
    "        headers = {\"Authorization\": \"KakaoAK ac29d0b5ff83ba31f85e0d6f9f38e797\"}\n",
    "        p_d_places = requests.get(url, headers = headers).json()['documents']\n",
    "        \n",
    "        # print(p_s_place) # 리스트내 사전이 여러개가 있을때, 줄바꿈해서 출력방법 모름 --> 알면 UI 상승할 듯\n",
    "        # select_number = int(input('몇 번째 주소인지 입력하세요 : '))\n",
    "        # float(p_s_places[select_number]) ~\n",
    "        \n",
    "        p_d_Lat = float(p_d_places[0]['y'])\n",
    "        p_d_Lng = float(p_d_places[0]['x'])\n",
    "        p_d_LatLng=(p_d_Lat,p_d_Lng)\n",
    "\n",
    "        #위경도 차이 구하기 -- float값에서 직선거리 int로 변환 후 \n",
    "        #상대적 직선거리 (relative straight distance 변수에 지정)\n",
    "        from haversine import haversine\n",
    "        r_s_d = int(haversine(p_s_LatLng,p_d_LatLng))\n",
    "        print(type(r_s_d))\n",
    "        return r_s_d\n",
    "\n",
    "    \n",
    "\n",
    "\n",
    "# select_number = int(input('몇 번째 주소인지 입력하세요 : '))\n",
    "\n",
    "# print(places[select_number])\n",
    "    "
   ]
  },
  {
   "cell_type": "code",
   "execution_count": 14,
   "id": "1f55c7da",
   "metadata": {},
   "outputs": [
    {
     "name": "stdout",
     "output_type": "stream",
     "text": [
      "출발 장소(도로명주소) 를 입력하세요 : 걸포 오스타파라곤 2단지\n",
      "여행목적지(관광지이름) : 서울역\n",
      "<class 'int'>\n"
     ]
    },
    {
     "data": {
      "text/plain": [
       "24"
      ]
     },
     "execution_count": 14,
     "metadata": {},
     "output_type": "execute_result"
    }
   ],
   "source": [
    "#Dummy\n",
    "A = Cal_Distance()\n",
    "A.getLatLng()"
   ]
  },
  {
   "cell_type": "markdown",
   "id": "dc6189d6",
   "metadata": {},
   "source": [
    "2-2. Data Standard \"Evauation\""
   ]
  },
  {
   "cell_type": "code",
   "execution_count": 150,
   "id": "09368fca",
   "metadata": {},
   "outputs": [],
   "source": [
    "#  기준값적용 (평가기준값)\n",
    "#  - 기준값 지정 (총 5점)\n",
    "#  - 평가값을 받는 것 = 이동수단 / 비용 / 거리 ** 서울역 기준 /   \n",
    "\n",
    "class evaluation:\n",
    "    \n",
    "    def evalue_costs(self,p_cost): #관광데이터랩 1회 평균 국내여행지출 금액 133,000원 정규분포도 활용\n",
    "        if p_cost/p_length_of_stay <= 133000*0.5: #665000\n",
    "            return 5\n",
    "        elif 133000*0.5 < p_cost/p_length_of_stay <= 133000*0.8: #665000~106400\n",
    "            return 4\n",
    "        elif 133000*0.8 < p_cost/p_length_of_stay <= 133000*1.1: #106400  #~ 1463000\n",
    "            return 3\n",
    "        elif 133000*1.1 < p_cost/p_length_of_stay <= 133000*1.3: #146300 ~ 172900\n",
    "            return 2\n",
    "        else: #172900\n",
    "            return 1\n",
    "        \n",
    "    def evalue_by_distance(self): #이동수단을 직선거리로 평가.\n",
    "        if p_transportation == \"도보\":\n",
    "            if r_s_d < 1:\n",
    "                return 5\n",
    "            elif r_s_d < 2:\n",
    "                return 4\n",
    "            elif r_s_d < 3:\n",
    "                return 3\n",
    "            elif r_s_d < 4:\n",
    "                return 2\n",
    "            else:\n",
    "                return 1\n",
    "            \n",
    "        elif p_transportation == \"지역버스\":\n",
    "            if r_s_d < 5:\n",
    "                return 5\n",
    "            elif r_s_d < 15:\n",
    "                return 4\n",
    "            elif r_s_d < 25:\n",
    "                return 3\n",
    "            elif r_s_d < 35:\n",
    "                return 2\n",
    "            else:\n",
    "                return 1\n",
    "            \n",
    "        elif p_transportation == \"자동차\":\n",
    "            if r_s_d < 10:\n",
    "                return 5\n",
    "            elif r_s_d < 30:\n",
    "                return 4\n",
    "            elif r_s_d < 50:\n",
    "                return 3\n",
    "            elif r_s_d < 70:\n",
    "                return 2\n",
    "            else:\n",
    "                return 1\n",
    "            \n",
    "        elif p_transportation == \"고속버스\":\n",
    "            if r_s_d < 20:\n",
    "                return 5\n",
    "            elif r_s_d < 50:\n",
    "                return 4\n",
    "            elif r_s_d < 80:\n",
    "                return 3\n",
    "            elif r_s_d < 110:\n",
    "                return 2\n",
    "            else:\n",
    "                return 1\n",
    "            \n",
    "        elif p_transportation == \"전철\":\n",
    "            if r_s_d < 40:\n",
    "                return 5\n",
    "            elif r_s_d < 70:\n",
    "                return 4\n",
    "            elif r_s_d < 100:\n",
    "                return 3\n",
    "            elif r_s_d < 130:\n",
    "                return 2\n",
    "            else:\n",
    "                return 1\n",
    "        \n",
    "    def evalue_by_satisfaction(self): #관광만족도 개인 평가 \n",
    "        if p_satisfaction <= 1: #665000\n",
    "            return 1\n",
    "        elif 1 < p_satisfaction <= 2: #665000~106400\n",
    "            return 2\n",
    "        elif 2 < p_satisfaction <= 3: #106400  #~ 1463000\n",
    "            return 3\n",
    "        elif 3 < p_satisfaction <= 4: #146300 ~ 172900\n",
    "            return 4\n",
    "        else: #172900\n",
    "            return 5\n",
    "        \n",
    "    \n",
    "            \n",
    "        "
   ]
  },
  {
   "cell_type": "markdown",
   "id": "1076acd5",
   "metadata": {},
   "source": [
    "2-2. Record"
   ]
  },
  {
   "cell_type": "code",
   "execution_count": 57,
   "id": "68b3d197",
   "metadata": {},
   "outputs": [],
   "source": [
    "# class Record:\n",
    "#     def record_tour_data(self):\n",
    "#         Question = input(\"처음 기록하십니까? Y/N\")\n",
    "#         if Question == Y:\n",
    "#             p_date = int(input(\"여행날짜 : \")) #datetime 정규식으로 나눌것\n",
    "#             p_name = input(\"여행목적지(관광지이름) : \")\n",
    "#             p_type = input(\"관광지유형을 고르세요. 도시/바다/캠핑/등\")\n",
    "#             p_start = input(\"출발지 : \")\n",
    "#             p_transportation = input(\"이동수단을 고르세요. 도보/지역버스/자차/고속버스/전철\")\n",
    "#             p_length_of_stay = int(input(\"총 여행 기간 : __ 일\"))\n",
    "#             p_cost = int(input(\"총 지출 금액 : __ 원\"))\n",
    "#             past_data =[p_date,p_name,p_type,p_start,p_transportation,p_length_of_stay,p_cost]\n",
    "#             past_data = str(past_data)\n",
    "#             with open (\"past_data.txt\",'w') as p_d:\n",
    "#                 p_d.write(past_data)\n",
    "            \n",
    "#         else:\n",
    "#             Answer_Q = print(\"다음 여행을 기록합니다.\")\n",
    "            \n",
    "            \n",
    "\n",
    "        \n",
    " # While       "
   ]
  },
  {
   "cell_type": "code",
   "execution_count": 43,
   "id": "e6b90291",
   "metadata": {},
   "outputs": [],
   "source": [
    "class Record:\n",
    "    \n",
    "    def record_tour_data(self):\n",
    "        \n",
    "        while True:\n",
    "            Question = input(\"처음 기록하십니까? Y/N : \")\n",
    "            if Question == \"Y\":\n",
    "                p_date = int(input(\"여행날짜 : \")) #datetime 정규식으로 나눌것\n",
    "                p_name = input(\"여행목적지(관광지이름) : \")\n",
    "                p_type = input(\"관광지유형을 고르세요. 도시/바다/캠핑/등\")\n",
    "                p_start = input(\"출발지 : \")\n",
    "                p_transportation = input(\"이동수단을 고르세요. 도보/지역버스/자차/고속버스/전철\")\n",
    "                p_length_of_stay = int(input(\"총 여행 기간 : __ 일\"))\n",
    "                p_cost = int(input(\"총 지출 금액 : __ 원\"))\n",
    "                past_data =(p_date,p_name,p_type,p_start,p_transportation,p_length_of_stay,p_cost)\n",
    "                past_data =list(past_data)\n",
    "                past_data = str(past_data)\n",
    "                with open (\"past_data.txt\",\"w\") as p_d:\n",
    "                    p_d.write(past_data)\n",
    "                Question_end = input(\"다른 여행지를 기록하시겠습니까? Y/N : \")\n",
    "                if Question_end == \"Y\":\n",
    "                    with open(\"past_data.txt\",\"a\") as p_da:\n",
    "                        p_da.write(past_data)\n",
    "                else:\n",
    "                    print(\"데이터 기록을 종료합니다.\")\n",
    "            else:\n",
    "                break\n",
    "            \n",
    "            \n",
    "    \n",
    "            \n",
    "            \n",
    "        \n",
    " # While       "
   ]
  },
  {
   "cell_type": "markdown",
   "id": "b9176699",
   "metadata": {},
   "source": [
    "###### 위도경도 차이 구하기"
   ]
  },
  {
   "cell_type": "code",
   "execution_count": 151,
   "id": "7591fd71",
   "metadata": {
    "scrolled": true
   },
   "outputs": [
    {
     "name": "stdout",
     "output_type": "stream",
     "text": [
      "Requirement already satisfied: haversine in d:\\tools\\envs\\cakd3\\lib\\site-packages (2.3.1)\n",
      "<class 'float'>\n",
      "833 km\n"
     ]
    }
   ],
   "source": [
    "!pip install haversine\n",
    "from haversine import haversine\n",
    "k = (37.504030,127.024099)\n",
    "g = (37.497175,127.027926)\n",
    "print(type(k[0]))\n",
    "print(int(haversine(k,g)*1000),'km')"
   ]
  },
  {
   "cell_type": "code",
   "execution_count": 3,
   "id": "a4bbe69f",
   "metadata": {},
   "outputs": [],
   "source": [
    "def getLatLng():\n",
    "    import requests\n",
    "    p_start = input(\"출발 장소(도로명주소) 를 입력하세요 : \")\n",
    "    url = 'https://dapi.kakao.com/v2/local/search/keyword.json?query={}'.format(p_start)\n",
    "    headers = {\"Authorization\": \"KakaoAK ac29d0b5ff83ba31f85e0d6f9f38e797\"}\n",
    "    p_s_places = requests.get(url, headers = headers).json()['documents']\n",
    "    p_s_Lat = float(p_s_places[0]['y'])\n",
    "    p_s_Lng = float(p_s_places[0]['x'])\n",
    "    p_s_LatLng=(p_s_Lat,p_s_Lng)\n",
    "    \n",
    "    p_destination = input(\"중요 관광지(도로명주소)를 입력하세요 : \")\n",
    "    url = 'https://dapi.kakao.com/v2/local/search/keyword.json?query={}'.format(p_destination)\n",
    "    headers = {\"Authorization\": \"KakaoAK ac29d0b5ff83ba31f85e0d6f9f38e797\"}\n",
    "    p_d_places = requests.get(url, headers = headers).json()['documents']\n",
    "    p_d_Lat = float(p_d_places[0]['y'])\n",
    "    p_d_Lng = float(p_d_places[0]['x'])\n",
    "    p_d_LatLng=(p_d_Lat,p_d_Lng)\n",
    "    \n",
    "    #위경도 차이 구하기 -- float값에서 직선거리 int로 변환 후 \n",
    "    #상대적 직선거리 (relative straight distance 변수에 지정)\n",
    "    from haversine import haversine\n",
    "    r_s_d = int(haversine(p_s_LatLng,p_d_LatLng))\n",
    "    print(type(r_s_d))\n",
    "    return r_s_d\n",
    "    \n",
    "    \n",
    "\n",
    "\n",
    "# select_number = int(input('몇 번째 주소인지 입력하세요 : '))\n",
    "\n",
    "# print(places[select_number])\n",
    "    "
   ]
  },
  {
   "cell_type": "code",
   "execution_count": null,
   "id": "ae4119a5",
   "metadata": {},
   "outputs": [],
   "source": [
    "class Distance:\n",
    "    def getLatLng(self):\n",
    "        #모듈 다운로드\n",
    "#         !pip install haversine\n",
    "        #출발장소 도로명주소 위/경도로 변환 --float값으로 변환\n",
    "        addr_1 = input(\"출발 장소(도로명주소) 를 입력하세요 : \")\n",
    "        url = 'https://dapi.kakao.com/v2/local/search/address.json?query=' + addr_1\n",
    "        headers = {\"Authorization\": \"KakaoAK ac29d0b5ff83ba31f85e0d6f9f38e797\"}\n",
    "        result = json.loads(str(requests.get(url, headers=headers).text))\n",
    "#         match_first = result['documents'][0]['address']\n",
    "#         first_destination_Lat = float(match_first['y'])\n",
    "#         first_destination_Lng = float(match_first['x'])\n",
    "#         first_LatLng = (first_destination_Lat,first_destination_Lng)\n",
    "        print(result)\n",
    "\n",
    "#         addr_2 = input(\"여행 장소(도로명주소) 를 입력하세요 : \")\n",
    "#         url = 'https://dapi.kakao.com/v2/local/search/address.json?query=' + addr_2\n",
    "#         headers = {\"Authorization\" : \"KakaoAK ac29d0b5ff83ba31f85e0d6f9f38e797\"}\n",
    "#         result = json.loads(str(requests.get(url, headers=headers).text))\n",
    "#         match_second = result['documents'][0]['address']\n",
    "#         second_destination_Lat = float(match_second['y'])\n",
    "#         second_destination_Lng = float(match_second['x'])\n",
    "#         second_LatLng = (second_destination_Lat,second_destination_Lng)\n",
    "\n",
    "#         #위경도 차이 구하기 -- float값에서 직선거리 int로 변환 후 \n",
    "#         #상대적 직선거리 (relative straight distance 변수에 지정)\n",
    "#         from haversine import haversine\n",
    "#         r_s_d = int(haversine(first_LatLng,second_LatLng))\n",
    "#         print(type(r_s_d))\n",
    "#         return r_s_d\n"
   ]
  },
  {
   "cell_type": "code",
   "execution_count": null,
   "id": "6f2db2b7",
   "metadata": {},
   "outputs": [],
   "source": []
  },
  {
   "cell_type": "code",
   "execution_count": null,
   "id": "7e0359f4",
   "metadata": {},
   "outputs": [],
   "source": []
  },
  {
   "cell_type": "code",
   "execution_count": null,
   "id": "ebd14de9",
   "metadata": {},
   "outputs": [],
   "source": []
  },
  {
   "cell_type": "code",
   "execution_count": null,
   "id": "d48f5986",
   "metadata": {},
   "outputs": [],
   "source": []
  },
  {
   "cell_type": "code",
   "execution_count": null,
   "id": "748473a6",
   "metadata": {},
   "outputs": [],
   "source": []
  },
  {
   "cell_type": "code",
   "execution_count": null,
   "id": "a4c035b3",
   "metadata": {},
   "outputs": [],
   "source": []
  },
  {
   "cell_type": "code",
   "execution_count": null,
   "id": "aec91c33",
   "metadata": {},
   "outputs": [],
   "source": []
  },
  {
   "cell_type": "code",
   "execution_count": null,
   "id": "9f779ad5",
   "metadata": {},
   "outputs": [],
   "source": []
  },
  {
   "cell_type": "code",
   "execution_count": null,
   "id": "7c963e43",
   "metadata": {},
   "outputs": [],
   "source": []
  },
  {
   "cell_type": "code",
   "execution_count": null,
   "id": "f0c4f7cd",
   "metadata": {},
   "outputs": [],
   "source": []
  },
  {
   "cell_type": "code",
   "execution_count": null,
   "id": "523df42d",
   "metadata": {},
   "outputs": [],
   "source": []
  },
  {
   "cell_type": "code",
   "execution_count": null,
   "id": "27adcfec",
   "metadata": {},
   "outputs": [],
   "source": []
  },
  {
   "cell_type": "code",
   "execution_count": null,
   "id": "4fbf47d7",
   "metadata": {},
   "outputs": [],
   "source": []
  },
  {
   "cell_type": "code",
   "execution_count": null,
   "id": "f4806e42",
   "metadata": {},
   "outputs": [],
   "source": []
  },
  {
   "cell_type": "code",
   "execution_count": null,
   "id": "430c0840",
   "metadata": {},
   "outputs": [],
   "source": []
  },
  {
   "cell_type": "code",
   "execution_count": null,
   "id": "13b9a847",
   "metadata": {},
   "outputs": [],
   "source": []
  },
  {
   "cell_type": "code",
   "execution_count": null,
   "id": "7858b127",
   "metadata": {},
   "outputs": [],
   "source": []
  },
  {
   "cell_type": "code",
   "execution_count": null,
   "id": "6b54fa0c",
   "metadata": {},
   "outputs": [],
   "source": []
  },
  {
   "cell_type": "code",
   "execution_count": null,
   "id": "01972c85",
   "metadata": {},
   "outputs": [],
   "source": []
  },
  {
   "cell_type": "code",
   "execution_count": null,
   "id": "84bfde6d",
   "metadata": {},
   "outputs": [],
   "source": []
  },
  {
   "cell_type": "code",
   "execution_count": null,
   "id": "f5cd5f75",
   "metadata": {},
   "outputs": [],
   "source": []
  },
  {
   "cell_type": "code",
   "execution_count": null,
   "id": "4e8596aa",
   "metadata": {},
   "outputs": [],
   "source": []
  },
  {
   "cell_type": "code",
   "execution_count": null,
   "id": "3d1d496f",
   "metadata": {},
   "outputs": [],
   "source": []
  },
  {
   "cell_type": "code",
   "execution_count": null,
   "id": "7b445a41",
   "metadata": {},
   "outputs": [],
   "source": []
  },
  {
   "cell_type": "code",
   "execution_count": null,
   "id": "0c469ae3",
   "metadata": {},
   "outputs": [],
   "source": []
  },
  {
   "cell_type": "code",
   "execution_count": null,
   "id": "2eff9355",
   "metadata": {},
   "outputs": [],
   "source": []
  },
  {
   "cell_type": "code",
   "execution_count": 191,
   "id": "95c64fc1",
   "metadata": {},
   "outputs": [],
   "source": [
    "# from urllib.parse import quote_plus, urlencode\n",
    "# from urllib.request import urlopen, Request\n",
    "# import xml.etree.ElementTree as ET\n",
    "# import json\n",
    "\n",
    "\n",
    "# print('도로명주소 검색API 서비스를 이용한 주소검색결과를 보여줍니다.')\n",
    "# keystr = input('검색어를 입력하세요. : ')\n",
    "# resulttype = input('result type을 입력하세요(0 => xml, 1=> json) : ')\n",
    "\n",
    "# if resulttype=='1':\n",
    "#     resulttype= 'json'\n",
    "# else:\n",
    "#     resulttype = 'xml'\n",
    "\n",
    "# #print(resulttype)\n",
    "\n",
    "# url = 'http://www.juso.go.kr/addrlink/addrLinkApi.do'\n",
    "# queryParams = '?' + urlencode({ quote_plus('currentPage') : '1' , \n",
    "#                                quote_plus('countPerPage') : '10', \n",
    "#                                quote_plus('resultType') : resulttype, \n",
    "#                                quote_plus('keyword') : keystr, \n",
    "#                                quote_plus('confmKey') : 'devU01TX0FVVEgyMDIxMDcwMTE3Mzg0NDExMTM0Nzk='})\n",
    "\n",
    "# request = Request(url + queryParams)\n",
    "# request.get_method = lambda: 'GET'\n",
    "# response_body = urlopen(request).read()\n",
    "\n",
    "# #print(response_body.decode('utf-8'))\n",
    "\n",
    "# print(\"url = \" + url)\n",
    "# print(\"keyword = \" + keystr)\n",
    "# print(\"=\"*100)\n",
    "\n",
    "\n",
    "# if resulttype=='json':\n",
    "#     root_json = json.loads(response_body)\n",
    "#     print('<< results >>')\n",
    "#     print('totalCount   : ' + root_json['results']['common']['totalCount'])\n",
    "#     print('currentPage  : ' + root_json['results']['common']['currentPage'])\n",
    "#     print('countPerPage : ' + root_json['results']['common']['countPerPage'])\n",
    "#     print('errorCode    : ' + root_json['results']['common']['errorCode'])\n",
    "#     print('errorMessage : ' + root_json['results']['common']['errorMessage'])\n",
    "#     for child in root_json['results']['juso']:\n",
    "#         print('-'*100)\n",
    "#         print('[' + child['zipNo'] + '] ' + child['roadAddr'])\n",
    "#         print('    지번주소     = ' + child['jibunAddr'])\n",
    "#         print('    영문주소     = ' + child['engAddr'])\n",
    "#         print('    도로명코드   = ' + child['rnMgtSn'])\n",
    "#         print('    건물관리번호 = ' + child['bdMgtSn'])\n",
    "#         print('    법정동코드   = ' + child['admCd'])\n",
    "#         print('    상세건물명   = ' + child['detBdNmList'])\n",
    "#         print('')\n",
    "    \n",
    "\n",
    "# else:\n",
    "#     root_xml = ET.fromstring(response_body)\n",
    "\n",
    "#     print('<< ' + root_xml.tag + ' >>')\n",
    "\n",
    "#     print('totalCount   : ' + root_xml.find('common').findtext('totalCount'))\n",
    "#     print('currentPage  : ' + root_xml.find('common').findtext('currentPage'))\n",
    "#     print('countPerPage : ' + root_xml.find('common').findtext('countPerPage'))\n",
    "#     print('errorCode    : ' + root_xml.find('common').findtext('errorCode'))\n",
    "#     print('errorMessage : ' + root_xml.find('common').findtext('errorMessage'))\n",
    "\n",
    "#     for child in root_xml.findall('juso'):\n",
    "#         print('-'*100)\n",
    "#         print('[' + child.findtext('zipNo') + '] ' + child.findtext('roadAddr'))\n",
    "#         print('    지번주소     = ' + child.findtext('jibunAddr'))\n",
    "#         print('    영문주소     = ' + child.findtext('engAddr'))\n",
    "#         print('    도로명코드   = ' + child.findtext('rnMgtSn'))\n",
    "#         print('    건물관리번호 = ' + child.findtext('bdMgtSn'))\n",
    "#         print('    법정동코드   = ' + child.findtext('admCd'))\n",
    "#         print('    상세건물명   = ' + child.findtext('detBdNmList'))\n",
    "#         print('')"
   ]
  },
  {
   "cell_type": "code",
   "execution_count": null,
   "id": "278ce9e6",
   "metadata": {},
   "outputs": [],
   "source": []
  }
 ],
 "metadata": {
  "kernelspec": {
   "display_name": "Python 3",
   "language": "python",
   "name": "python3"
  },
  "language_info": {
   "codemirror_mode": {
    "name": "ipython",
    "version": 3
   },
   "file_extension": ".py",
   "mimetype": "text/x-python",
   "name": "python",
   "nbconvert_exporter": "python",
   "pygments_lexer": "ipython3",
   "version": "3.8.10"
  }
 },
 "nbformat": 4,
 "nbformat_minor": 5
}
