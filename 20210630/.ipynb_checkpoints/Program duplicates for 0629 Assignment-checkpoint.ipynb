{
 "cells": [
  {
   "cell_type": "markdown",
   "id": "2bce7ed1",
   "metadata": {},
   "source": [
    "Q1"
   ]
  },
  {
   "cell_type": "code",
   "execution_count": 2,
   "id": "798bb0fa",
   "metadata": {},
   "outputs": [
    {
     "name": "stdout",
     "output_type": "stream",
     "text": [
      "Lotto counts5\n",
      "[30, 23, 17, 21, 43, 11]\n",
      "[45, 1, 44, 23, 8, 4]\n",
      "[20, 21, 42, 40, 22, 16]\n",
      "[9, 10, 40, 44, 24, 12]\n",
      "[11, 24, 13, 44, 1, 16]\n"
     ]
    }
   ],
   "source": [
    "import random\n",
    "a = []\n",
    "for i in range(1,46):\n",
    "    a.append(i)\n",
    "x = int(input(\"Lotto counts\"))\n",
    "\n",
    "i = 0\n",
    "while i < x:\n",
    "    i +=1\n",
    "    print(random.sample(a,6))\n",
    "    #unique 한 원소 6개\n",
    "    #pop의 빈칸에 요소가 없으면 리스트에서 맨 마지막 요소를 뽑아오고 삭제함.\n",
    "    #중복을 없앰\n",
    "    "
   ]
  },
  {
   "cell_type": "code",
   "execution_count": 22,
   "id": "0b63e886",
   "metadata": {
    "scrolled": true
   },
   "outputs": [
    {
     "name": "stdout",
     "output_type": "stream",
     "text": [
      "[1, 2, 3, 4, 5, 6, 7, 8, 9, 10, 11, 12, 13, 14, 15, 16, 17, 18, 19, 20, 21, 22, 23, 24, 25, 26, 27, 28, 29, 30, 31, 32, 33, 34, 35, 36, 37, 38, 39, 40, 41, 42, 43, 44, 45]\n",
      "[18, 16, 10, 3, 45, 43]\n",
      "[25, 34, 42, 12, 19, 11]\n",
      "[4, 11, 39, 5, 7, 30]\n",
      "[17, 19, 2, 36, 14, 34]\n",
      "[7, 24, 26, 21, 36, 41]\n",
      "[34, 17, 42, 38, 6, 5]\n"
     ]
    }
   ],
   "source": [
    "import random\n",
    "r = list(range(1,46))\n",
    "print(r)\n",
    "for i in range(6):\n",
    "    it = random.sample(r,6)\n",
    "    print(it)"
   ]
  },
  {
   "cell_type": "code",
   "execution_count": 23,
   "id": "38cce5e4",
   "metadata": {},
   "outputs": [
    {
     "ename": "SyntaxError",
     "evalue": "invalid syntax (<ipython-input-23-1c390d9a3308>, line 5)",
     "output_type": "error",
     "traceback": [
      "\u001b[1;36m  File \u001b[1;32m\"<ipython-input-23-1c390d9a3308>\"\u001b[1;36m, line \u001b[1;32m5\u001b[0m\n\u001b[1;33m    for i in range(gn):\u001b[0m\n\u001b[1;37m                      ^\u001b[0m\n\u001b[1;31mSyntaxError\u001b[0m\u001b[1;31m:\u001b[0m invalid syntax\n"
     ]
    }
   ],
   "source": [
    "from random import shuffle #1chrksrur\n",
    "\n",
    "\n",
    "#while stripp fol \n",
    "from time import sleep\n",
    "\n",
    "gn = int(input(\"팬치들 꺼져):\")\n",
    "for i in range(gn):\n",
    "    it=[x+1 for x in range(45)]\n",
    "    ret = []\n",
    "         for j in range(6):\n",
    "         shuffle (it))\n",
    "        "
   ]
  },
  {
   "cell_type": "markdown",
   "id": "2deff622",
   "metadata": {},
   "source": [
    "Q2"
   ]
  },
  {
   "cell_type": "code",
   "execution_count": 3,
   "id": "c457716b",
   "metadata": {},
   "outputs": [
    {
     "name": "stdout",
     "output_type": "stream",
     "text": [
      "(5, 'd')\n",
      "(3, 'c')\n",
      "(4, 'a')\n",
      "(1, 'b')\n",
      "(2, 'e')\n"
     ]
    }
   ],
   "source": [
    "A = [1,2,3,4,5]\n",
    "B = ['a','b','c','d','e']\n",
    "\n",
    "import random\n",
    "random.shuffle(A)\n",
    "random.shuffle(B)\n",
    "\n",
    "i = 0\n",
    "while i <5:\n",
    "    C=A[i], B[i]\n",
    "    print(C)\n",
    "    i += 1"
   ]
  },
  {
   "cell_type": "markdown",
   "id": "302b762d",
   "metadata": {},
   "source": [
    "Q2_1"
   ]
  },
  {
   "cell_type": "code",
   "execution_count": 7,
   "id": "ccd9b720",
   "metadata": {},
   "outputs": [
    {
     "data": {
      "text/plain": [
       "[(5, 'c'), (1, 'a'), (4, 'b'), (2, 'd'), (3, 'e')]"
      ]
     },
     "execution_count": 7,
     "metadata": {},
     "output_type": "execute_result"
    }
   ],
   "source": [
    "A = [1,2,3,4,5]\n",
    "B = ['a','b','c','d','e']\n",
    "\n",
    "import random\n",
    "random.shuffle(A)     #지정 안했을시 [(1, 'a'), (2, 'b'), (3, 'c'), (4, 'd'), (5, 'e')]\n",
    "random.shuffle(B)\n",
    "\n",
    "\n",
    "C=list(zip(A,B))\n",
    "C"
   ]
  },
  {
   "cell_type": "markdown",
   "id": "cb7f3ea6",
   "metadata": {},
   "source": [
    "Q3"
   ]
  },
  {
   "cell_type": "code",
   "execution_count": 9,
   "id": "e11c2d96",
   "metadata": {},
   "outputs": [
    {
     "name": "stdout",
     "output_type": "stream",
     "text": [
      "Stringabc\n",
      "bca\n"
     ]
    }
   ],
   "source": [
    "Q = input('String')\n",
    "print(Q[1:]+Q[0])"
   ]
  },
  {
   "cell_type": "markdown",
   "id": "08089c14",
   "metadata": {},
   "source": [
    "Q4"
   ]
  },
  {
   "cell_type": "code",
   "execution_count": 14,
   "id": "235cc0d3",
   "metadata": {},
   "outputs": [
    {
     "name": "stdout",
     "output_type": "stream",
     "text": [
      "news.naver.com\n"
     ]
    }
   ],
   "source": [
    "url = 'http://news.naver.com/main/read.nhn?mode=LSD&mid=shm&sid1=105&oid=028&aid=0002334601'\n",
    "clean_url = url.split('/')\n",
    "host_domain = clean_url[2]\n",
    "print(host_domain)"
   ]
  },
  {
   "cell_type": "markdown",
   "id": "dd22f60f",
   "metadata": {},
   "source": [
    "Q5"
   ]
  },
  {
   "cell_type": "markdown",
   "id": "55eeddde",
   "metadata": {},
   "source": [
    "Q6"
   ]
  },
  {
   "cell_type": "code",
   "execution_count": 17,
   "id": "182fb5d7",
   "metadata": {},
   "outputs": [],
   "source": [
    "with open('../Data/mydata.txt','r') as file:\n",
    "    data = file.read()\n",
    "    "
   ]
  },
  {
   "cell_type": "code",
   "execution_count": 20,
   "id": "d5e06699",
   "metadata": {},
   "outputs": [
    {
     "name": "stdout",
     "output_type": "stream",
     "text": [
      "213\n"
     ]
    }
   ],
   "source": [
    "with open('../Data/mydata.txt','r') as file:\n",
    "    data =file.read()\n",
    "    word=data.split()\n",
    "    print(len(word))"
   ]
  },
  {
   "cell_type": "markdown",
   "id": "a548e3b2",
   "metadata": {},
   "source": [
    "Q11"
   ]
  },
  {
   "cell_type": "code",
   "execution_count": null,
   "id": "90b0d45f",
   "metadata": {},
   "outputs": [],
   "source": [
    "def Birth_data(): #Sort할 생각을 해봐야함. sort(key- )\n",
    "    \n",
    "    for year in range(1880,2016):\n",
    "        \n",
    "        with open(\"../Data/names/yob%d.txt\"%year) as raw_data:\n",
    "            \n",
    "            for data in raw_data:\n",
    "                \n",
    "                if data[-1] == '/n':\n",
    "                    data = data.replace('\\n',',')\n",
    "                    clean_data = data.split(',')\n",
    "                    name = clean_data[0]\n",
    "                    gender = clean_data[1]\n",
    "                    birth = clean_data[2]\n",
    "                    \n",
    "#                   print(data)\n",
    "                \n",
    "                \n",
    "Birth_data()"
   ]
  },
  {
   "cell_type": "code",
   "execution_count": null,
   "id": "aa612657",
   "metadata": {},
   "outputs": [],
   "source": []
  },
  {
   "cell_type": "code",
   "execution_count": null,
   "id": "68161661",
   "metadata": {},
   "outputs": [],
   "source": []
  },
  {
   "cell_type": "code",
   "execution_count": null,
   "id": "b5ecf34e",
   "metadata": {},
   "outputs": [],
   "source": []
  },
  {
   "cell_type": "code",
   "execution_count": null,
   "id": "fed9aff5",
   "metadata": {},
   "outputs": [],
   "source": []
  },
  {
   "cell_type": "code",
   "execution_count": null,
   "id": "69570e58",
   "metadata": {},
   "outputs": [],
   "source": []
  },
  {
   "cell_type": "code",
   "execution_count": null,
   "id": "c08dc8c8",
   "metadata": {},
   "outputs": [],
   "source": []
  },
  {
   "cell_type": "code",
   "execution_count": null,
   "id": "fa9107f1",
   "metadata": {},
   "outputs": [],
   "source": []
  },
  {
   "cell_type": "code",
   "execution_count": null,
   "id": "ca2abf21",
   "metadata": {},
   "outputs": [],
   "source": []
  },
  {
   "cell_type": "code",
   "execution_count": null,
   "id": "956cea4b",
   "metadata": {},
   "outputs": [],
   "source": []
  },
  {
   "cell_type": "code",
   "execution_count": null,
   "id": "14d8ce72",
   "metadata": {},
   "outputs": [],
   "source": []
  },
  {
   "cell_type": "code",
   "execution_count": null,
   "id": "a0914900",
   "metadata": {},
   "outputs": [],
   "source": []
  },
  {
   "cell_type": "code",
   "execution_count": null,
   "id": "9cbcf958",
   "metadata": {},
   "outputs": [],
   "source": []
  },
  {
   "cell_type": "code",
   "execution_count": null,
   "id": "0a7cfc02",
   "metadata": {},
   "outputs": [],
   "source": []
  },
  {
   "cell_type": "code",
   "execution_count": null,
   "id": "08411353",
   "metadata": {},
   "outputs": [],
   "source": []
  },
  {
   "cell_type": "markdown",
   "id": "7a1cc9c3",
   "metadata": {},
   "source": [
    "Population by name/gender/birth"
   ]
  },
  {
   "cell_type": "code",
   "execution_count": 5,
   "id": "3db808c4",
   "metadata": {},
   "outputs": [],
   "source": [
    "from os.path import exists\n",
    "\n",
    "def getTop10BabyName(year):\n",
    "    nameF = {}\n",
    "    nameM = {}  #딕셔너리로 저장\n",
    "\n",
    "    filename = '../Data/names/yob%s.txt'%year\n",
    "    if not exists(filename):\n",
    "        print('[%s] 파일이 존재하지 않습니다.'%filename)  \n",
    "        return None  #일단 오류를 처리 \n",
    "\n",
    "    with open(filename, 'r') as f:\n",
    "        data = f.readlines()   #전체 데이터 라인 모두 읽음.\n",
    "        for d in data:\n",
    "            if d[-1] == '\\n':  #줄의 마지막(개행이 있으면)\n",
    "                d = d[:-1]     #개행을 제외함. (개행 앞까지만)\n",
    "            tmp = d.split(',') #이름/성별/수를 ','로 나눔\n",
    "            name = tmp[0]      #인덱스별로 이름/성별/수로 변수를 setting\n",
    "            sex = tmp[1]\n",
    "            birth = tmp[2]\n",
    "\n",
    "            if sex == 'F':     #조건처리: Gender == 여자  (ret은 임의 변수)\n",
    "                ret = nameF    #nameF는 딕셔너리, 따라서 키와 값이 필요함.\n",
    "                               #name가 key, birth 가 value 로 저장됨\n",
    "\n",
    "            else:\n",
    "                ret = nameM\n",
    "\n",
    "            if name in ret:    #임의변수 ret에서 name(key)이 있으면 birth 추가.\n",
    "                ret[name] += int(birth)\n",
    "            else:\n",
    "                ret[name] = int(birth)\n",
    "    retF = sorted(nameF.items(), key=lambda x:x[1], reverse=True) #사전형에서 item() \n",
    "                                                                  #키와 값을 튜플로 색출\n",
    "    retM = sorted(nameM.items(), key=lambda x:x[1], reverse=True) #x:x[1] 로 사전형의 값, \n",
    "                                                                  #value여기선 birth를 기준\n",
    "\n",
    "    for i, name in enumerate(retF): #index와 요소를 같이 개전. \"enumerate\"\n",
    "        if i > 9: #내림차순이 되어 있기 때문에 index가 10이 넘어가면 x. 따라서 break (0~9)\n",
    "            break\n",
    "        print('TOP_%d 여자아기 이름:%s'%(i+1,name))\n",
    "    for i, name in enumerate(retM):\n",
    "        if i > 9:\n",
    "            break\n",
    "        print('TOP_%d 남자아기 이름:%s'%(i+1,name))\n"
   ]
  },
  {
   "cell_type": "code",
   "execution_count": 6,
   "id": "d27676d6",
   "metadata": {},
   "outputs": [
    {
     "name": "stdout",
     "output_type": "stream",
     "text": [
      "TOP_1 여자아기 이름:('Mary', 7065)\n",
      "TOP_2 여자아기 이름:('Anna', 2604)\n",
      "TOP_3 여자아기 이름:('Emma', 2003)\n",
      "TOP_4 여자아기 이름:('Elizabeth', 1939)\n",
      "TOP_5 여자아기 이름:('Minnie', 1746)\n",
      "TOP_6 여자아기 이름:('Margaret', 1578)\n",
      "TOP_7 여자아기 이름:('Ida', 1472)\n",
      "TOP_8 여자아기 이름:('Alice', 1414)\n",
      "TOP_9 여자아기 이름:('Bertha', 1320)\n",
      "TOP_10 여자아기 이름:('Sarah', 1288)\n",
      "TOP_1 남자아기 이름:('John', 9655)\n",
      "TOP_2 남자아기 이름:('William', 9532)\n",
      "TOP_3 남자아기 이름:('James', 5927)\n",
      "TOP_4 남자아기 이름:('Charles', 5348)\n",
      "TOP_5 남자아기 이름:('George', 5126)\n",
      "TOP_6 남자아기 이름:('Frank', 3242)\n",
      "TOP_7 남자아기 이름:('Joseph', 2632)\n",
      "TOP_8 남자아기 이름:('Thomas', 2534)\n",
      "TOP_9 남자아기 이름:('Henry', 2444)\n",
      "TOP_10 남자아기 이름:('Robert', 2415)\n"
     ]
    }
   ],
   "source": [
    "getTop10BabyName(1880)"
   ]
  },
  {
   "cell_type": "code",
   "execution_count": null,
   "id": "06890791",
   "metadata": {},
   "outputs": [],
   "source": []
  }
 ],
 "metadata": {
  "kernelspec": {
   "display_name": "Python 3",
   "language": "python",
   "name": "python3"
  },
  "language_info": {
   "codemirror_mode": {
    "name": "ipython",
    "version": 3
   },
   "file_extension": ".py",
   "mimetype": "text/x-python",
   "name": "python",
   "nbconvert_exporter": "python",
   "pygments_lexer": "ipython3",
   "version": "3.8.10"
  }
 },
 "nbformat": 4,
 "nbformat_minor": 5
}
