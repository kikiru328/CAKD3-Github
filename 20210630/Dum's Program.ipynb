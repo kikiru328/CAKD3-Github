{
 "cells": [
  {
   "cell_type": "markdown",
   "id": "5b3b2fa2",
   "metadata": {},
   "source": [
    "#### Scenario"
   ]
  },
  {
   "cell_type": "markdown",
   "id": "951093d4",
   "metadata": {},
   "source": [
    "1. 기준값적용 (평가기준값)\n",
    " - 기준값 지정 (총 5점)\n",
    " - 평가값을 받는 것 = \n",
    "이동수단 ~ 거리 ** 출발지점기준~관광지거리 / \n",
    "체류기간~비용/\n",
    "개인만족도\n",
    "x) 기준 값 이동수단 도보5점 / 버스 4점 /자동차  3점 / 전철 2점 / 비행기 1점)\n",
    "               비용 (5만원 5점 / 10만원 4점 / 15만원 3점 / 20만원 2점 / 20만원 이상 1점)\n",
    "               거리 (서울역: 좌표 기준 -> 해당 관광지 좌표 인풋시 직선거리 계산)\n",
    "                     15km 간격으로 5 4 3 2 1점 계산 (from haversine import haversine)\n",
    "\n",
    "\n",
    "거리에 대한 이동수단 평가 --> 구글맵..위경도설정 이거 가능한거 맞냐 안될 것 같은데\n",
    "\n",
    "도보 \n",
    "거리 1km 미만 - 5점\n",
    "거리 2km - 4점\n",
    "거리 3km - 3점\n",
    "거리 4km - 2점\n",
    "거리 5km 이상- 1점\n",
    "\n",
    "지역버스\n",
    "거리 5km 미만 - 5점\n",
    "거리 15km - 4점\n",
    "거리 25km - 3점\n",
    "거리 35km - 2점\n",
    "거리 45km이상 -1점\n",
    "\n",
    "자차\n",
    "거리 10km 미만 -5점\n",
    "거리 30km 4점\n",
    "거리 50km 3점\n",
    "거리 70km 2점\n",
    "거리 90km 1점\n",
    "\n",
    "고속버스\n",
    "거리 20km 미만 -5점\n",
    "거리 50km 4점\n",
    "거리 80km 3점\n",
    "거리 110km 2점\n",
    "거리 140km 1점\n",
    "\n",
    "전철\n",
    "거리 40km 미만 -5점\n",
    "거리 70km 4점\n",
    "거리 100km 3점\n",
    "거리 130km 2점\n",
    "거리 160km 1점\n",
    "\n",
    "\n",
    "#체류기간에 대한 비용값 평가 (비용->1일 체류기간에 대한 평균 지출금액)\n",
    "(평균 비용 일 133,000원 관광데이터랩 1회 평균 국내여행지출)\n",
    "133,000원 평균 값 = 5점 만점\n",
    "\n",
    "133,000*2.1%이하 5점\n",
    "133,000*2.1%초과 133,000*13.6%이하 4점 \n",
    "133,000*13.6% 초과 133,000*50%이하 3점\n",
    "133.000*50% 초과 133,000*84.1% 이하 3점\n",
    "133,000*84.1%초과 133,000*97.7%이하 2점 \n",
    "133,000*97.7%이상 1점\n",
    "\n",
    "--> 평균값 133,000원 정확한 범위 분배해서 1~5점 설정.\n",
    "\n",
    "#개인만족도 (5점 만점)\n",
    "\n",
    "\n",
    "\n",
    "========================================================\n",
    "기록\n",
    "1. 관광지 날짜/이름/타입\\\n",
    "관광지 인덱스 내용 /이동수단/비용/거리(*계산식 고민)\n",
    "/다녀온 관광지(*데이터 int,count값)\n",
    "2. 데이터 세트를 각 txt파일에 저장.\n",
    "3. txt파일 누적으로 저장\n",
    "4. 파일은 다음과 같음\n",
    "일자 이름  타입 이동수단 (평가) 비용(평가) 거리(평가)   \n",
    "06   서울  도시   자차             만원        3점  \n",
    "\n",
    "평가\n",
    " 인풋된 데이터와 비교\n",
    "https://mizykk.tistory.com/21\n",
    "2. 기준 인풋 데이터를 토대로(평가) 관광지에 대한 평가 평균값을 계산.\n",
    "3. Top 레이팅을 평가.\n",
    "------------------------------------------\n",
    "탐색\n",
    "1. 이름/탐색 기준으로 key 값 지정\n",
    "2. 평균값 내림차순으로 Key값에 의한 sort\n",
    "3. 원하는 지역 탐색시 도메인 + 쿼리에 검색내용 추가 : 링크로 이동할 수 있게끔 도와줌\n",
    "4. \n",
    "\n",
    "              "
   ]
  },
  {
   "cell_type": "markdown",
   "id": "9b77af0f",
   "metadata": {},
   "source": [
    "###### 1. Program begins"
   ]
  },
  {
   "cell_type": "code",
   "execution_count": null,
   "id": "c4db179c",
   "metadata": {},
   "outputs": [],
   "source": []
  },
  {
   "cell_type": "markdown",
   "id": "8934b447",
   "metadata": {},
   "source": [
    "###### 2. Program data set"
   ]
  },
  {
   "cell_type": "markdown",
   "id": "dc6189d6",
   "metadata": {},
   "source": [
    "2-1. Data Standard \"Evauation\""
   ]
  },
  {
   "cell_type": "code",
   "execution_count": 42,
   "id": "09368fca",
   "metadata": {},
   "outputs": [],
   "source": [
    "#  기준값적용 (평가기준값)\n",
    "#  - 기준값 지정 (총 5점)\n",
    "#  - 평가값을 받는 것 = 이동수단 / 비용 / 거리 ** 서울역 기준 /   \n",
    "\n",
    "# class evaluation:\n",
    "    \n",
    "#     def evalue_costs(self,cost): #관광데이터랩 1회 평균 국내여행지출 금액 133,000원 정규분포도 활용\n",
    "#         if cost/length_of_stay <= 133000*0.5: #665000\n",
    "#             return 5\n",
    "#         elif 133000*0.5 < cost/length_of_stay <= 133000*0.8: #665000~106400\n",
    "#             return 4\n",
    "#         elif 133000*0.8 < cost/length_of_stay <= 133000*1.1: #106400  #~ 1463000\n",
    "#             return 3\n",
    "#         elif 133000*1.1 < cost/length_of_stay <= 133000*1.3: #146300 ~ 172900\n",
    "#             return 2\n",
    "#         else: #172900\n",
    "#             return 1\n",
    "        \n",
    "#     def evalue_transportation(self,transportation):\n",
    "#         from haversine import haversine\n",
    "   \n",
    "        \n",
    "#         if transportation == \"도보\":\n",
    "#             return 5\n",
    "#         elif transportation == "
   ]
  },
  {
   "cell_type": "markdown",
   "id": "1076acd5",
   "metadata": {},
   "source": [
    "2-2. Record"
   ]
  },
  {
   "cell_type": "code",
   "execution_count": 57,
   "id": "68b3d197",
   "metadata": {},
   "outputs": [],
   "source": [
    "class Record:\n",
    "    def record_tour_data(self):\n",
    "        Question = input(\"처음 기록하십니까? Y/N\")\n",
    "        if Question == Y:\n",
    "            p_date = int(input(\"여행날짜 : \")) #datetime 정규식으로 나눌것\n",
    "            p_name = input(\"여행목적지(관광지이름) : \")\n",
    "            p_type = input(\"관광지유형을 고르세요. 도시/바다/캠핑/등\")\n",
    "            p_start = input(\"출발지 : \")\n",
    "            p_transportation = input(\"이동수단을 고르세요. 도보/지역버스/자차/고속버스/전철\")\n",
    "            p_length_of_stay = int(input(\"총 여행 기간 : __ 일\"))\n",
    "            p_cost = int(input(\"총 지출 금액 : __ 원\"))\n",
    "            past_data =[p_date,p_name,p_type,p_start,p_transportation,p_length_of_stay,p_cost]\n",
    "            past_data = str(past_data)\n",
    "            with open (\"past_data.txt\",'w') as p_d:\n",
    "                p_d.write(past_data)\n",
    "            \n",
    "        else:\n",
    "            Answer_Q = print(\"다음 여행을 기록합니다.\")\n",
    "            \n",
    "            \n",
    "\n",
    "        \n",
    " # While       "
   ]
  },
  {
   "cell_type": "code",
   "execution_count": 37,
   "id": "e6b90291",
   "metadata": {},
   "outputs": [],
   "source": [
    "class Record:\n",
    "    \n",
    "    def record_tour_data(self):\n",
    "        \n",
    "        while True:\n",
    "            Question = input(\"처음 기록하십니까? Y/N : \")\n",
    "            \n",
    "            \n",
    "            if Question == \"Y\":\n",
    "                while True:\n",
    "#                 p_date = int(input(\"여행날짜 : \")) #datetime 정규식으로 나눌것\n",
    "#                 p_name = input(\"여행목적지(관광지이름) : \")\n",
    "#                 p_type = input(\"관광지유형을 고르세요. 도시/바다/캠핑/등\")\n",
    "#                 p_start = input(\"출발지 : \")\n",
    "#                 p_transportation = input(\"이동수단을 고르세요. 도보/지역버스/자차/고속버스/전철\")\n",
    "#                 p_length_of_stay = int(input(\"총 여행 기간 : __ 일\"))\n",
    "                    p_cost = int(input(\"총 지출 금액 : __ 원\"))\n",
    "#                 past_data =[p_date,p_name,p_type,p_start,p_transportation,p_length_of_stay,p_cost]\n",
    "                    past_data =[p_cost]\n",
    "                    past_data = str(past_data)\n",
    "                \n",
    "                    with open (\"past_data.txt\",\"w\") as p_d:\n",
    "                        p_d.write(past_data)\n",
    "                \n",
    "                Question_end = input(\"다른 여행지를 기록하시겠습니까? Y/N : \")\n",
    "                if Question_end == \"Y\":\n",
    "                    with open(\"past_data.txt\",\"a\") as p_da:\n",
    "                        p_da.write(past_data)\n",
    "                \n",
    "            \n",
    "            \n",
    "    \n",
    "            \n",
    "            \n",
    "        \n",
    " # While       "
   ]
  },
  {
   "cell_type": "code",
   "execution_count": null,
   "id": "26def4ce",
   "metadata": {},
   "outputs": [
    {
     "name": "stdout",
     "output_type": "stream",
     "text": [
      "처음 기록하십니까? Y/N : Y\n",
      "총 지출 금액 : __ 원1\n",
      "총 지출 금액 : __ 원2\n",
      "총 지출 금액 : __ 원3\n"
     ]
    }
   ],
   "source": [
    "Dummy = Record()\n",
    "Dummy.record_tour_data()"
   ]
  },
  {
   "cell_type": "code",
   "execution_count": null,
   "id": "c7f2c6ff",
   "metadata": {},
   "outputs": [],
   "source": []
  }
 ],
 "metadata": {
  "kernelspec": {
   "display_name": "Python 3",
   "language": "python",
   "name": "python3"
  },
  "language_info": {
   "codemirror_mode": {
    "name": "ipython",
    "version": 3
   },
   "file_extension": ".py",
   "mimetype": "text/x-python",
   "name": "python",
   "nbconvert_exporter": "python",
   "pygments_lexer": "ipython3",
   "version": "3.8.10"
  }
 },
 "nbformat": 4,
 "nbformat_minor": 5
}
