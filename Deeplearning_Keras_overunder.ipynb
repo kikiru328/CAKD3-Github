{
  "nbformat": 4,
  "nbformat_minor": 0,
  "metadata": {
    "colab": {
      "name": "Deeplearning_Keras_overunder.ipynb",
      "provenance": [],
      "machine_shape": "hm",
      "authorship_tag": "ABX9TyN/hSQdBSab8lm1OYCHa1Mf",
      "include_colab_link": true
    },
    "kernelspec": {
      "name": "python3",
      "display_name": "Python 3"
    },
    "language_info": {
      "name": "python"
    },
    "accelerator": "GPU"
  },
  "cells": [
    {
      "cell_type": "markdown",
      "metadata": {
        "id": "view-in-github",
        "colab_type": "text"
      },
      "source": [
        "<a href=\"https://colab.research.google.com/github/kikiru328/CAKD3-Github/blob/main/Deeplearning_Keras_overunder.ipynb\" target=\"_parent\"><img src=\"https://colab.research.google.com/assets/colab-badge.svg\" alt=\"Open In Colab\"/></a>"
      ]
    },
    {
      "cell_type": "code",
      "metadata": {
        "colab": {
          "base_uri": "https://localhost:8080/"
        },
        "id": "Or0yJaHwQJ19",
        "outputId": "d355eb15-dbe2-42b4-b77e-218eb79d3143"
      },
      "source": [
        "  # colab drive mount\n",
        "\n",
        "import os, sys\n",
        "from google.colab import drive\n",
        "drive.mount('/content/drive')\n",
        "my_path = '/content/notebooks'\n",
        "os.symlink('/content/drive/My Drive/Colab Notebooks', my_path)\n",
        "sys.path.insert(0,my_path)\n"
      ],
      "execution_count": null,
      "outputs": [
        {
          "output_type": "stream",
          "name": "stdout",
          "text": [
            "Mounted at /content/drive\n"
          ]
        }
      ]
    },
    {
      "cell_type": "code",
      "metadata": {
        "colab": {
          "base_uri": "https://localhost:8080/"
        },
        "id": "Lx-dD5kvQEc2",
        "outputId": "7c6068a9-173c-44d0-93a9-1b11412a0e97"
      },
      "source": [
        "from keras.datasets import imdb\n",
        "import numpy as np\n",
        "\n",
        "(train_data, train_labels), (test_data, test_labels) = imdb.load_data(num_words=10000)\n",
        "\n",
        "def vectorize_sequences(sequences, dimension=10000):\n",
        "    # 크기가 (len(sequences), dimension))이고 모든 원소가 0인 행렬을 만듭니다\n",
        "    results = np.zeros((len(sequences), dimension))\n",
        "    for i, sequence in enumerate(sequences):\n",
        "        results[i, sequence] = 1.  # results[i]에서 특정 인덱스의 위치를 1로 만듭니다\n",
        "    return results\n",
        "\n",
        "# 훈련 데이터를 벡터로 변환합니다\n",
        "x_train = vectorize_sequences(train_data)\n",
        "# 테스트 데이터를 벡터로 변환합니다\n",
        "x_test = vectorize_sequences(test_data)\n",
        "# 레이블을 벡터로 변환합니다\n",
        "y_train = np.asarray(train_labels).astype('float32')\n",
        "y_test = np.asarray(test_labels).astype('float32')\n"
      ],
      "execution_count": null,
      "outputs": [
        {
          "output_type": "stream",
          "name": "stdout",
          "text": [
            "Downloading data from https://storage.googleapis.com/tensorflow/tf-keras-datasets/imdb.npz\n",
            "17465344/17464789 [==============================] - 1s 0us/step\n",
            "17473536/17464789 [==============================] - 1s 0us/step\n"
          ]
        }
      ]
    },
    {
      "cell_type": "code",
      "metadata": {
        "id": "IZ7QtCh-dtzH"
      },
      "source": [
        "from tensorflow.keras import models\n",
        "from tensorflow.keras import layers"
      ],
      "execution_count": null,
      "outputs": []
    },
    {
      "cell_type": "code",
      "metadata": {
        "id": "etVh4J6EQXca"
      },
      "source": [
        "from tensorflow.keras import models\n",
        "from tensorflow.keras import layers\n",
        "\n",
        "og_model = models.Sequential()\n",
        "og_model.add(layers.Dense(16, activation = 'relu', input_shape = (10000,)))\n",
        "og_model.add(layers.Dense(16, activation = 'relu'))\n",
        "og_model.add(layers.Dense(1, activation = 'sigmoid'))\n",
        "\n",
        "og_model.compile(optimizer = 'rmsprop', loss = 'binary_crossentropy', metrics=['acc'])"
      ],
      "execution_count": null,
      "outputs": []
    },
    {
      "cell_type": "code",
      "metadata": {
        "colab": {
          "base_uri": "https://localhost:8080/"
        },
        "id": "ATNYW-lNUc6s",
        "outputId": "e21d9e57-ae93-4fdc-aeca-3f1487f81e1f"
      },
      "source": [
        "og_x_val = x_train[:10000]\n",
        "og_p_x_train = x_train[10000:]\n",
        "og_y_val = y_train[:10000]\n",
        "og_p_y_train = y_train[10000:]\n",
        "\n",
        "og_history = og_model.fit(og_p_x_train,\n",
        "                       og_p_y_train,\n",
        "                       epochs = 20,\n",
        "                       batch_size=512,\n",
        "                       validation_data = (og_x_val, og_y_val))"
      ],
      "execution_count": null,
      "outputs": [
        {
          "output_type": "stream",
          "name": "stdout",
          "text": [
            "Epoch 1/20\n",
            "30/30 [==============================] - 1s 26ms/step - loss: 0.5184 - acc: 0.7832 - val_loss: 0.3953 - val_acc: 0.8659\n",
            "Epoch 2/20\n",
            "30/30 [==============================] - 0s 14ms/step - loss: 0.3206 - acc: 0.8995 - val_loss: 0.3175 - val_acc: 0.8844\n",
            "Epoch 3/20\n",
            "30/30 [==============================] - 0s 13ms/step - loss: 0.2340 - acc: 0.9275 - val_loss: 0.3214 - val_acc: 0.8691\n",
            "Epoch 4/20\n",
            "30/30 [==============================] - 0s 13ms/step - loss: 0.1833 - acc: 0.9443 - val_loss: 0.2765 - val_acc: 0.8891\n",
            "Epoch 5/20\n",
            "30/30 [==============================] - 0s 13ms/step - loss: 0.1522 - acc: 0.9517 - val_loss: 0.2802 - val_acc: 0.8877\n",
            "Epoch 6/20\n",
            "30/30 [==============================] - 0s 14ms/step - loss: 0.1235 - acc: 0.9641 - val_loss: 0.3214 - val_acc: 0.8763\n",
            "Epoch 7/20\n",
            "30/30 [==============================] - 0s 13ms/step - loss: 0.1036 - acc: 0.9702 - val_loss: 0.3162 - val_acc: 0.8823\n",
            "Epoch 8/20\n",
            "30/30 [==============================] - 0s 13ms/step - loss: 0.0864 - acc: 0.9761 - val_loss: 0.3210 - val_acc: 0.8807\n",
            "Epoch 9/20\n",
            "30/30 [==============================] - 0s 13ms/step - loss: 0.0717 - acc: 0.9806 - val_loss: 0.3445 - val_acc: 0.8787\n",
            "Epoch 10/20\n",
            "30/30 [==============================] - 0s 13ms/step - loss: 0.0606 - acc: 0.9841 - val_loss: 0.3661 - val_acc: 0.8772\n",
            "Epoch 11/20\n",
            "30/30 [==============================] - 0s 13ms/step - loss: 0.0483 - acc: 0.9897 - val_loss: 0.4007 - val_acc: 0.8733\n",
            "Epoch 12/20\n",
            "30/30 [==============================] - 0s 13ms/step - loss: 0.0411 - acc: 0.9907 - val_loss: 0.4273 - val_acc: 0.8735\n",
            "Epoch 13/20\n",
            "30/30 [==============================] - 0s 13ms/step - loss: 0.0344 - acc: 0.9921 - val_loss: 0.4522 - val_acc: 0.8736\n",
            "Epoch 14/20\n",
            "30/30 [==============================] - 0s 13ms/step - loss: 0.0250 - acc: 0.9954 - val_loss: 0.4723 - val_acc: 0.8736\n",
            "Epoch 15/20\n",
            "30/30 [==============================] - 0s 13ms/step - loss: 0.0200 - acc: 0.9969 - val_loss: 0.5051 - val_acc: 0.8715\n",
            "Epoch 16/20\n",
            "30/30 [==============================] - 0s 14ms/step - loss: 0.0161 - acc: 0.9978 - val_loss: 0.5418 - val_acc: 0.8698\n",
            "Epoch 17/20\n",
            "30/30 [==============================] - 0s 13ms/step - loss: 0.0124 - acc: 0.9988 - val_loss: 0.6200 - val_acc: 0.8602\n",
            "Epoch 18/20\n",
            "30/30 [==============================] - 0s 13ms/step - loss: 0.0130 - acc: 0.9975 - val_loss: 0.6191 - val_acc: 0.8657\n",
            "Epoch 19/20\n",
            "30/30 [==============================] - 0s 13ms/step - loss: 0.0065 - acc: 0.9997 - val_loss: 0.6461 - val_acc: 0.8639\n",
            "Epoch 20/20\n",
            "30/30 [==============================] - 0s 13ms/step - loss: 0.0087 - acc: 0.9982 - val_loss: 0.6723 - val_acc: 0.8660\n"
          ]
        }
      ]
    },
    {
      "cell_type": "code",
      "metadata": {
        "colab": {
          "base_uri": "https://localhost:8080/",
          "height": 294
        },
        "id": "iblL8_eeXJgq",
        "outputId": "ef8fe799-853e-4347-dec8-35df2bd0b783"
      },
      "source": [
        "import matplotlib.pyplot as plt\n",
        "og_loss = og_history.history['loss']\n",
        "og_val_loss = og_history.history['val_loss']\n",
        "\n",
        "epochs = range(1, len(loss)+1)\n",
        "\n",
        "plt.plot(epochs, loss, 'bo', label='Training loss')\n",
        "plt.plot(epochs, val_loss,'b', label='Validation loss')\n",
        "plt.title('Training and validation loss')\n",
        "plt.xlabel('Epochs')\n",
        "plt.ylabel('Loss')\n",
        "plt.legend()\n",
        "\n",
        "plt.show()"
      ],
      "execution_count": null,
      "outputs": [
        {
          "output_type": "display_data",
          "data": {
            "image/png": "[encoded data removed]",
            "text/plain": [
              "<Figure size 432x288 with 1 Axes>"
            ]
          },
          "metadata": {
            "needs_background": "light"
          }
        }
      ]
    },
    {
      "cell_type": "code",
      "metadata": {
        "id": "TRyc_J79RMrw"
      },
      "source": [
        "s_model = models.Sequential()\n",
        "s_model.add(layers.Dense(6, activation = 'relu', input_shape = (10000,)))\n",
        "s_model.add(layers.Dense(16, activation = 'relu'))\n",
        "s_model.add(layers.Dense(1, activation = 'sigmoid'))\n",
        "\n",
        "s_model.compile(optimizer = 'rmsprop', loss = 'binary_crossentropy', metrics=['acc'])"
      ],
      "execution_count": null,
      "outputs": []
    },
    {
      "cell_type": "code",
      "metadata": {
        "colab": {
          "base_uri": "https://localhost:8080/"
        },
        "id": "TFO2UGsWXN-4",
        "outputId": "cdde8e90-69dc-4297-e640-501b07d63a51"
      },
      "source": [
        "s_x_val = x_train[:10000]\n",
        "s_p_x_train = x_train[10000:]\n",
        "s_y_val = y_train[:10000]\n",
        "s_p_y_train = y_train[10000:]\n",
        "\n",
        "s_history = s_model.fit(s_p_x_train,\n",
        "                       s_p_y_train,\n",
        "                       epochs = 20,\n",
        "                       batch_size=512,\n",
        "                       validation_data = (s_x_val, s_y_val))"
      ],
      "execution_count": null,
      "outputs": [
        {
          "output_type": "stream",
          "name": "stdout",
          "text": [
            "Epoch 1/20\n",
            "30/30 [==============================] - 1s 26ms/step - loss: 0.5413 - acc: 0.7821 - val_loss: 0.4324 - val_acc: 0.8616\n",
            "Epoch 2/20\n",
            "30/30 [==============================] - 0s 13ms/step - loss: 0.3520 - acc: 0.8987 - val_loss: 0.3413 - val_acc: 0.8794\n",
            "Epoch 3/20\n",
            "30/30 [==============================] - 0s 13ms/step - loss: 0.2607 - acc: 0.9244 - val_loss: 0.3034 - val_acc: 0.8833\n",
            "Epoch 4/20\n",
            "30/30 [==============================] - 0s 14ms/step - loss: 0.2055 - acc: 0.9373 - val_loss: 0.2795 - val_acc: 0.8886\n",
            "Epoch 5/20\n",
            "30/30 [==============================] - 0s 13ms/step - loss: 0.1692 - acc: 0.9475 - val_loss: 0.3184 - val_acc: 0.8712\n",
            "Epoch 6/20\n",
            "30/30 [==============================] - 0s 13ms/step - loss: 0.1420 - acc: 0.9568 - val_loss: 0.2832 - val_acc: 0.8868\n",
            "Epoch 7/20\n",
            "30/30 [==============================] - 0s 13ms/step - loss: 0.1194 - acc: 0.9653 - val_loss: 0.2978 - val_acc: 0.8843\n",
            "Epoch 8/20\n",
            "30/30 [==============================] - 0s 13ms/step - loss: 0.1007 - acc: 0.9713 - val_loss: 0.2998 - val_acc: 0.8863\n",
            "Epoch 9/20\n",
            "30/30 [==============================] - 0s 13ms/step - loss: 0.0857 - acc: 0.9787 - val_loss: 0.3211 - val_acc: 0.8785\n",
            "Epoch 10/20\n",
            "30/30 [==============================] - 0s 13ms/step - loss: 0.0713 - acc: 0.9822 - val_loss: 0.3336 - val_acc: 0.8827\n",
            "Epoch 11/20\n",
            "30/30 [==============================] - 0s 13ms/step - loss: 0.0599 - acc: 0.9862 - val_loss: 0.3591 - val_acc: 0.8806\n",
            "Epoch 12/20\n",
            "30/30 [==============================] - 0s 13ms/step - loss: 0.0498 - acc: 0.9891 - val_loss: 0.3751 - val_acc: 0.8790\n",
            "Epoch 13/20\n",
            "30/30 [==============================] - 0s 14ms/step - loss: 0.0410 - acc: 0.9923 - val_loss: 0.4030 - val_acc: 0.8724\n",
            "Epoch 14/20\n",
            "30/30 [==============================] - 0s 13ms/step - loss: 0.0338 - acc: 0.9932 - val_loss: 0.4723 - val_acc: 0.8606\n",
            "Epoch 15/20\n",
            "30/30 [==============================] - 0s 13ms/step - loss: 0.0266 - acc: 0.9959 - val_loss: 0.4596 - val_acc: 0.8699\n",
            "Epoch 16/20\n",
            "30/30 [==============================] - 0s 13ms/step - loss: 0.0217 - acc: 0.9972 - val_loss: 0.4782 - val_acc: 0.8708\n",
            "Epoch 17/20\n",
            "30/30 [==============================] - 0s 13ms/step - loss: 0.0180 - acc: 0.9981 - val_loss: 0.5082 - val_acc: 0.8690\n",
            "Epoch 18/20\n",
            "30/30 [==============================] - 0s 13ms/step - loss: 0.0138 - acc: 0.9986 - val_loss: 0.5591 - val_acc: 0.8671\n",
            "Epoch 19/20\n",
            "30/30 [==============================] - 0s 13ms/step - loss: 0.0112 - acc: 0.9993 - val_loss: 0.5671 - val_acc: 0.8687\n",
            "Epoch 20/20\n",
            "30/30 [==============================] - 0s 12ms/step - loss: 0.0083 - acc: 0.9996 - val_loss: 0.5996 - val_acc: 0.8687\n"
          ]
        }
      ]
    },
    {
      "cell_type": "code",
      "metadata": {
        "colab": {
          "base_uri": "https://localhost:8080/",
          "height": 282
        },
        "id": "ufpoo6DMXWg2",
        "outputId": "87a12ae1-4bcc-4153-c616-19a8852a20c1"
      },
      "source": [
        "import matplotlib.pyplot as plt\n",
        "s_loss = s_history.history['loss']\n",
        "s_val_loss = s_history.history['val_loss']\n",
        "\n",
        "epochs = range(1, len(loss)+1)\n",
        "\n",
        "plt.plot(epochs, og_loss, 'b+', label='og_model')\n",
        "plt.plot(epochs, val_loss,'bo', label='smaller_model')\n",
        "plt.xlabel('Epochs')\n",
        "plt.ylabel('Traning Loss')\n",
        "plt.legend()\n",
        "\n",
        "plt.show()"
      ],
      "execution_count": null,
      "outputs": [
        {
          "output_type": "display_data",
          "data": {
            "image/png": "[encoded data removed]",
            "text/plain": [
              "<Figure size 432x288 with 1 Axes>"
            ]
          },
          "metadata": {
            "needs_background": "light"
          }
        }
      ]
    },
    {
      "cell_type": "code",
      "metadata": {
        "id": "-pasRw6ATwyU"
      },
      "source": [
        "B_model = models.Sequential()\n",
        "B_model.add(layers.Dense(1024, activation = 'relu', input_shape = (10000,)))\n",
        "B_model.add(layers.Dense(1024, activation = 'relu'))\n",
        "B_model.add(layers.Dense(1, activation = 'sigmoid'))\n",
        "B_model.compile(optimizer = 'rmsprop', loss = 'binary_crossentropy', metrics=['acc'])"
      ],
      "execution_count": null,
      "outputs": []
    },
    {
      "cell_type": "code",
      "metadata": {
        "colab": {
          "base_uri": "https://localhost:8080/"
        },
        "id": "pdeqiLdSShGZ",
        "outputId": "cd415d99-5cf0-4cda-f739-fd5a92688d42"
      },
      "source": [
        "B_x_val = x_train[:10000]\n",
        "B_p_x_train = x_train[10000:]\n",
        "B_y_val = y_train[:10000]\n",
        "B_p_y_train = y_train[10000:]\n",
        "\n",
        "B_history = B_model.fit(B_p_x_train,\n",
        "                       B_p_y_train,\n",
        "                       epochs = 20,\n",
        "                       batch_size=512,\n",
        "                       validation_data = (B_x_val, B_y_val))"
      ],
      "execution_count": null,
      "outputs": [
        {
          "output_type": "stream",
          "name": "stdout",
          "text": [
            "Epoch 1/20\n",
            "30/30 [==============================] - 1s 33ms/step - loss: 0.6604 - acc: 0.7341 - val_loss: 0.3112 - val_acc: 0.8762\n",
            "Epoch 2/20\n",
            "30/30 [==============================] - 1s 18ms/step - loss: 0.2655 - acc: 0.8953 - val_loss: 0.2659 - val_acc: 0.8894\n",
            "Epoch 3/20\n",
            "30/30 [==============================] - 1s 19ms/step - loss: 0.1551 - acc: 0.9438 - val_loss: 0.2680 - val_acc: 0.8912\n",
            "Epoch 4/20\n",
            "30/30 [==============================] - 1s 18ms/step - loss: 0.0922 - acc: 0.9747 - val_loss: 0.3056 - val_acc: 0.8891\n",
            "Epoch 5/20\n",
            "30/30 [==============================] - 1s 19ms/step - loss: 0.0064 - acc: 0.9990 - val_loss: 0.4594 - val_acc: 0.8896\n",
            "Epoch 6/20\n",
            "30/30 [==============================] - 1s 19ms/step - loss: 3.9707e-04 - acc: 0.9999 - val_loss: 0.5881 - val_acc: 0.8898\n",
            "Epoch 7/20\n",
            "30/30 [==============================] - 1s 18ms/step - loss: 3.8214e-05 - acc: 1.0000 - val_loss: 0.6871 - val_acc: 0.8893\n",
            "Epoch 8/20\n",
            "30/30 [==============================] - 1s 19ms/step - loss: 7.2681e-06 - acc: 1.0000 - val_loss: 0.7762 - val_acc: 0.8892\n",
            "Epoch 9/20\n",
            "30/30 [==============================] - 1s 18ms/step - loss: 1.6742e-06 - acc: 1.0000 - val_loss: 0.8594 - val_acc: 0.8882\n",
            "Epoch 10/20\n",
            "30/30 [==============================] - 1s 19ms/step - loss: 4.9085e-07 - acc: 1.0000 - val_loss: 0.9363 - val_acc: 0.8879\n",
            "Epoch 11/20\n",
            "30/30 [==============================] - 1s 19ms/step - loss: 1.6511e-07 - acc: 1.0000 - val_loss: 1.0119 - val_acc: 0.8884\n",
            "Epoch 12/20\n",
            "30/30 [==============================] - 1s 18ms/step - loss: 6.2340e-08 - acc: 1.0000 - val_loss: 1.0660 - val_acc: 0.8891\n",
            "Epoch 13/20\n",
            "30/30 [==============================] - 1s 18ms/step - loss: 2.9766e-08 - acc: 1.0000 - val_loss: 1.1050 - val_acc: 0.8890\n",
            "Epoch 14/20\n",
            "30/30 [==============================] - 1s 18ms/step - loss: 1.8146e-08 - acc: 1.0000 - val_loss: 1.1277 - val_acc: 0.8887\n",
            "Epoch 15/20\n",
            "30/30 [==============================] - 1s 19ms/step - loss: 1.3121e-08 - acc: 1.0000 - val_loss: 1.1461 - val_acc: 0.8888\n",
            "Epoch 16/20\n",
            "30/30 [==============================] - 1s 18ms/step - loss: 1.0232e-08 - acc: 1.0000 - val_loss: 1.1596 - val_acc: 0.8888\n",
            "Epoch 17/20\n",
            "30/30 [==============================] - 1s 18ms/step - loss: 8.4372e-09 - acc: 1.0000 - val_loss: 1.1711 - val_acc: 0.8886\n",
            "Epoch 18/20\n",
            "30/30 [==============================] - 1s 18ms/step - loss: 7.1635e-09 - acc: 1.0000 - val_loss: 1.1799 - val_acc: 0.8887\n",
            "Epoch 19/20\n",
            "30/30 [==============================] - 1s 19ms/step - loss: 6.2442e-09 - acc: 1.0000 - val_loss: 1.1874 - val_acc: 0.8888\n",
            "Epoch 20/20\n",
            "30/30 [==============================] - 1s 18ms/step - loss: 5.5422e-09 - acc: 1.0000 - val_loss: 1.1942 - val_acc: 0.8891\n"
          ]
        }
      ]
    },
    {
      "cell_type": "code",
      "metadata": {
        "colab": {
          "base_uri": "https://localhost:8080/",
          "height": 282
        },
        "id": "IOskwhLkXfrI",
        "outputId": "42c8fff1-1252-46bb-d160-3a72431a4d50"
      },
      "source": [
        "import matplotlib.pyplot as plt\n",
        "B_loss = B_history.history['loss']\n",
        "B_val_loss = B_history.history['val_loss']\n",
        "\n",
        "epochs = range(1, len(loss)+1)\n",
        "\n",
        "plt.plot(epochs, og_loss, 'b+', label='og_model')\n",
        "plt.plot(epochs, val_loss,'bo', label='Validation loss')\n",
        "plt.xlabel('Epochs')\n",
        "\n",
        "plt.ylabel('Traning Loss')\n",
        "plt.legend()\n",
        "\n",
        "plt.show()"
      ],
      "execution_count": null,
      "outputs": [
        {
          "output_type": "display_data",
          "data": {
            "image/png": "[encoded data removed]",
            "text/plain": [
              "<Figure size 432x288 with 1 Axes>"
            ]
          },
          "metadata": {
            "needs_background": "light"
          }
        }
      ]
    },
    {
      "cell_type": "markdown",
      "metadata": {
        "id": "lPQbkKsCXi1Q"
      },
      "source": [
        "용량이 큰 네트웤크는 훈련 손실이 빠르게 0에 가까워진다., 용량이 많은 네트워크 일수록 더 빠르게 훈련 데이터를 모델링할 수 있어서 훈련 손실이 낮아진다. 하지만 더욱 과대적합에 민감해진다. (훈련과 검증 손실 사이에 큰 차이가 발생)"
      ]
    },
    {
      "cell_type": "code",
      "metadata": {
        "id": "ezaX7Eb3bJHW"
      },
      "source": [
        "from keras import regularizers\n",
        "rg2_model = models.Sequential()\n",
        "rg2_model.add(layers.Dense(16,kernel_regularizer=regularizers.l2(0.001),\n",
        "                       activation='relu',\n",
        "                       input_shape=(10000,)))\n",
        "rg2_model.add(layers.Dense(16,kernel_regularizer=regularizers.l2(0.001),\n",
        "                       activation='relu'))\n",
        "rg2_model.add(layers.Dense(1,activation='sigmoid'))"
      ],
      "execution_count": null,
      "outputs": []
    },
    {
      "cell_type": "code",
      "metadata": {
        "id": "br8tOlijdiMq"
      },
      "source": [
        "rg2_model.compile(optimizer = 'rmsprop', loss = 'binary_crossentropy', metrics=['acc'])"
      ],
      "execution_count": null,
      "outputs": []
    },
    {
      "cell_type": "code",
      "metadata": {
        "colab": {
          "base_uri": "https://localhost:8080/"
        },
        "id": "MNtWG6O9eCMX",
        "outputId": "b37e00a8-d2f7-4529-86d1-40df67e821db"
      },
      "source": [
        "rg2_model_hist = rg2_model.fit(x_train, y_train,\n",
        "                               epochs=20,\n",
        "                               batch_size=512,\n",
        "                               validation_data=(x_test,y_test))"
      ],
      "execution_count": null,
      "outputs": [
        {
          "output_type": "stream",
          "name": "stdout",
          "text": [
            "Epoch 1/20\n",
            "49/49 [==============================] - 4s 44ms/step - loss: 0.4934 - acc: 0.8236 - val_loss: 0.3922 - val_acc: 0.8696\n",
            "Epoch 2/20\n",
            "49/49 [==============================] - 1s 15ms/step - loss: 0.3152 - acc: 0.9038 - val_loss: 0.3499 - val_acc: 0.8788\n",
            "Epoch 3/20\n",
            "49/49 [==============================] - 1s 16ms/step - loss: 0.2693 - acc: 0.9215 - val_loss: 0.3547 - val_acc: 0.8754\n",
            "Epoch 4/20\n",
            "49/49 [==============================] - 1s 16ms/step - loss: 0.2506 - acc: 0.9277 - val_loss: 0.3361 - val_acc: 0.8856\n",
            "Epoch 5/20\n",
            "49/49 [==============================] - 1s 16ms/step - loss: 0.2355 - acc: 0.9329 - val_loss: 0.3630 - val_acc: 0.8751\n",
            "Epoch 6/20\n",
            "49/49 [==============================] - 1s 16ms/step - loss: 0.2278 - acc: 0.9370 - val_loss: 0.3736 - val_acc: 0.8723\n",
            "Epoch 7/20\n",
            "49/49 [==============================] - 1s 15ms/step - loss: 0.2215 - acc: 0.9382 - val_loss: 0.3626 - val_acc: 0.8782\n",
            "Epoch 8/20\n",
            "49/49 [==============================] - 1s 15ms/step - loss: 0.2175 - acc: 0.9419 - val_loss: 0.3810 - val_acc: 0.8735\n",
            "Epoch 9/20\n",
            "49/49 [==============================] - 1s 16ms/step - loss: 0.2110 - acc: 0.9440 - val_loss: 0.3709 - val_acc: 0.8754\n",
            "Epoch 10/20\n",
            "49/49 [==============================] - 1s 16ms/step - loss: 0.2076 - acc: 0.9464 - val_loss: 0.3755 - val_acc: 0.8762\n",
            "Epoch 11/20\n",
            "49/49 [==============================] - 1s 15ms/step - loss: 0.2039 - acc: 0.9469 - val_loss: 0.3828 - val_acc: 0.8748\n",
            "Epoch 12/20\n",
            "49/49 [==============================] - 1s 16ms/step - loss: 0.2016 - acc: 0.9462 - val_loss: 0.3952 - val_acc: 0.8716\n",
            "Epoch 13/20\n",
            "49/49 [==============================] - 1s 16ms/step - loss: 0.1963 - acc: 0.9488 - val_loss: 0.3962 - val_acc: 0.8714\n",
            "Epoch 14/20\n",
            "49/49 [==============================] - 1s 15ms/step - loss: 0.1949 - acc: 0.9485 - val_loss: 0.4052 - val_acc: 0.8696\n",
            "Epoch 15/20\n",
            "49/49 [==============================] - 1s 16ms/step - loss: 0.1920 - acc: 0.9494 - val_loss: 0.4062 - val_acc: 0.8694\n",
            "Epoch 16/20\n",
            "49/49 [==============================] - 1s 16ms/step - loss: 0.1876 - acc: 0.9517 - val_loss: 0.4273 - val_acc: 0.8674\n",
            "Epoch 17/20\n",
            "49/49 [==============================] - 1s 16ms/step - loss: 0.1843 - acc: 0.9543 - val_loss: 0.4143 - val_acc: 0.8695\n",
            "Epoch 18/20\n",
            "49/49 [==============================] - 1s 16ms/step - loss: 0.1849 - acc: 0.9532 - val_loss: 0.4126 - val_acc: 0.8709\n",
            "Epoch 19/20\n",
            "49/49 [==============================] - 1s 16ms/step - loss: 0.1811 - acc: 0.9550 - val_loss: 0.4152 - val_acc: 0.8708\n",
            "Epoch 20/20\n",
            "49/49 [==============================] - 1s 16ms/step - loss: 0.1765 - acc: 0.9557 - val_loss: 0.4353 - val_acc: 0.8651\n"
          ]
        }
      ]
    },
    {
      "cell_type": "code",
      "metadata": {
        "id": "9p5u8In-eKWF"
      },
      "source": [
        "rg2_model_val_loss = rg2_model_hist.history['val_loss']"
      ],
      "execution_count": null,
      "outputs": []
    },
    {
      "cell_type": "code",
      "metadata": {
        "colab": {
          "base_uri": "https://localhost:8080/",
          "height": 278
        },
        "id": "NCnqajtWej3T",
        "outputId": "4044cdd9-a344-4876-e3d1-f41ab56862d7"
      },
      "source": [
        "plt.plot(epochs, og_val_loss, 'b+', label='Original model')\n",
        "plt.plot(epochs, s_val_loss, 'r^', label='Smaller model')\n",
        "plt.plot(epochs, B_val_loss, 'g+', label='Bigger model')\n",
        "plt.plot(epochs, rg2_model_val_loss, 'bo', label = 'L2_regularized model')\n",
        "plt.xlabel('Epochs')\n",
        "plt.ylabel('Validation loss')\n",
        "plt.legend()\n",
        "plt.show()"
      ],
      "execution_count": null,
      "outputs": [
        {
          "output_type": "display_data",
          "data": {
            "image/png": "[encoded data removed]",
            "text/plain": [
              "<Figure size 432x288 with 1 Axes>"
            ]
          },
          "metadata": {
            "needs_background": "light"
          }
        }
      ]
    },
    {
      "cell_type": "markdown",
      "metadata": {
        "id": "A_fiw1K2e9hU"
      },
      "source": [
        "두 모델이 동일한 파라미터 수를 가지고 있더라도 L2 규제를 사용한 모델이 기본 모델보다 훨씬 더 과대적합에 잘 견디고 있다."
      ]
    },
    {
      "cell_type": "code",
      "metadata": {
        "id": "NTqIoPFbfcmz"
      },
      "source": [
        "# dropout\n",
        "from tensorflow.keras import models\n",
        "from tensorflow.keras import layers\n",
        "dpt_model = models.Sequential()\n",
        "dpt_model.add(layers.Dense(16,activation='relu', input_shape=(10000,)))\n",
        "dpt_model.add(layers.Dropout(0.5))\n",
        "dpt_model.add(layers.Dense(16,activation='relu'))\n",
        "dpt_model.add(layers.Dropout(0.5))\n",
        "dpt_model.add(layers.Dense(1, activation='sigmoid'))\n",
        "\n",
        "dpt_model.compile(optimizer = 'rmsprop', loss = 'binary_crossentropy', metrics=['acc'])"
      ],
      "execution_count": null,
      "outputs": []
    },
    {
      "cell_type": "code",
      "metadata": {
        "colab": {
          "base_uri": "https://localhost:8080/"
        },
        "id": "nC7T3CZNiSLf",
        "outputId": "6546e354-0af0-4ef7-c823-ab2203c24061"
      },
      "source": [
        "dpt_model_hist = dpt_model.fit(x_train, y_train,\n",
        "                               epochs=20,\n",
        "                               batch_size=512,\n",
        "                               validation_data=(x_test,y_test))"
      ],
      "execution_count": null,
      "outputs": [
        {
          "output_type": "stream",
          "name": "stdout",
          "text": [
            "Epoch 1/20\n",
            "49/49 [==============================] - 2s 35ms/step - loss: 0.6247 - acc: 0.6564 - val_loss: 0.5113 - val_acc: 0.8606\n",
            "Epoch 2/20\n",
            "49/49 [==============================] - 1s 15ms/step - loss: 0.5051 - acc: 0.7821 - val_loss: 0.3910 - val_acc: 0.8791\n",
            "Epoch 3/20\n",
            "49/49 [==============================] - 1s 15ms/step - loss: 0.4067 - acc: 0.8446 - val_loss: 0.3229 - val_acc: 0.8870\n",
            "Epoch 4/20\n",
            "49/49 [==============================] - 1s 15ms/step - loss: 0.3367 - acc: 0.8756 - val_loss: 0.2915 - val_acc: 0.8906\n",
            "Epoch 5/20\n",
            "49/49 [==============================] - 1s 15ms/step - loss: 0.2968 - acc: 0.8951 - val_loss: 0.2780 - val_acc: 0.8910\n",
            "Epoch 6/20\n",
            "49/49 [==============================] - 1s 15ms/step - loss: 0.2592 - acc: 0.9086 - val_loss: 0.2945 - val_acc: 0.8836\n",
            "Epoch 7/20\n",
            "49/49 [==============================] - 1s 16ms/step - loss: 0.2295 - acc: 0.9220 - val_loss: 0.2889 - val_acc: 0.8884\n",
            "Epoch 8/20\n",
            "49/49 [==============================] - 1s 15ms/step - loss: 0.2052 - acc: 0.9309 - val_loss: 0.3086 - val_acc: 0.8862\n",
            "Epoch 9/20\n",
            "49/49 [==============================] - 1s 15ms/step - loss: 0.1937 - acc: 0.9365 - val_loss: 0.3193 - val_acc: 0.8826\n",
            "Epoch 10/20\n",
            "49/49 [==============================] - 1s 16ms/step - loss: 0.1754 - acc: 0.9418 - val_loss: 0.3496 - val_acc: 0.8823\n",
            "Epoch 11/20\n",
            "49/49 [==============================] - 1s 15ms/step - loss: 0.1650 - acc: 0.9442 - val_loss: 0.3552 - val_acc: 0.8816\n",
            "Epoch 12/20\n",
            "49/49 [==============================] - 1s 16ms/step - loss: 0.1522 - acc: 0.9500 - val_loss: 0.3893 - val_acc: 0.8808\n",
            "Epoch 13/20\n",
            "49/49 [==============================] - 1s 15ms/step - loss: 0.1456 - acc: 0.9532 - val_loss: 0.3971 - val_acc: 0.8798\n",
            "Epoch 14/20\n",
            "49/49 [==============================] - 1s 15ms/step - loss: 0.1373 - acc: 0.9545 - val_loss: 0.4370 - val_acc: 0.8766\n",
            "Epoch 15/20\n",
            "49/49 [==============================] - 1s 15ms/step - loss: 0.1315 - acc: 0.9572 - val_loss: 0.4727 - val_acc: 0.8744\n",
            "Epoch 16/20\n",
            "49/49 [==============================] - 1s 15ms/step - loss: 0.1268 - acc: 0.9574 - val_loss: 0.4820 - val_acc: 0.8758\n",
            "Epoch 17/20\n",
            "49/49 [==============================] - 1s 15ms/step - loss: 0.1180 - acc: 0.9631 - val_loss: 0.4998 - val_acc: 0.8760\n",
            "Epoch 18/20\n",
            "49/49 [==============================] - 1s 16ms/step - loss: 0.1130 - acc: 0.9644 - val_loss: 0.5365 - val_acc: 0.8738\n",
            "Epoch 19/20\n",
            "49/49 [==============================] - 1s 16ms/step - loss: 0.1161 - acc: 0.9646 - val_loss: 0.5550 - val_acc: 0.8723\n",
            "Epoch 20/20\n",
            "49/49 [==============================] - 1s 15ms/step - loss: 0.1120 - acc: 0.9658 - val_loss: 0.6209 - val_acc: 0.8664\n"
          ]
        }
      ]
    },
    {
      "cell_type": "code",
      "metadata": {
        "id": "ugp6kz0njFZ3"
      },
      "source": [
        "dpt_model_val_loss = dpt_model_hist.history['val_loss']"
      ],
      "execution_count": null,
      "outputs": []
    },
    {
      "cell_type": "code",
      "metadata": {
        "colab": {
          "base_uri": "https://localhost:8080/",
          "height": 278
        },
        "id": "ypM8aD-qi3uC",
        "outputId": "0ebffedf-afe2-4c1a-a905-834141026283"
      },
      "source": [
        "plt.plot(epochs, og_val_loss, 'b--', label='Original model')\n",
        "plt.plot(epochs, s_val_loss, 'rv', label='Smaller model')\n",
        "plt.plot(epochs, B_val_loss, 'g^', label='Bigger model')\n",
        "plt.plot(epochs, rg2_model_val_loss, 'm-.', label = 'L2_regularized model')\n",
        "plt.plot(epochs, dpt_model_val_loss, 'c:', label = 'Dropout model')\n",
        "plt.xlabel('Epochs')\n",
        "plt.ylabel('Validation loss')\n",
        "plt.legend()\n",
        "plt.show()"
      ],
      "execution_count": null,
      "outputs": [
        {
          "output_type": "display_data",
          "data": {
            "image/png": "[encoded data removed]",
            "text/plain": [
              "<Figure size 432x288 with 1 Axes>"
            ]
          },
          "metadata": {
            "needs_background": "light"
          }
        }
      ]
    },
    {
      "cell_type": "markdown",
      "metadata": {
        "id": "pNc7UAqJjCXc"
      },
      "source": [
        "신경망에서 과대적합을 방지하기 위한 방법\n",
        "- 훈련 데이터를 더 모은다.\n",
        "- 네트워크의 용량을 감소 시킨다\n",
        "- 가중치 규제를 추가한다\n",
        "- 드롭아웃을 추가한다."
      ]
    },
    {
      "cell_type": "code",
      "metadata": {
        "id": "maYtDVwUjdri"
      },
      "source": [
        ""
      ],
      "execution_count": null,
      "outputs": []
    }
  ]
}