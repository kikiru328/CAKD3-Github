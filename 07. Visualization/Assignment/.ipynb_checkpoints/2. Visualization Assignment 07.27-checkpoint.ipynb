{
 "cells": [
  {
   "cell_type": "code",
   "execution_count": 1,
   "id": "cfc6df06",
   "metadata": {},
   "outputs": [],
   "source": [
    "import pandas as pd\n",
    "import numpy as np\n",
    "import seaborn as sns\n",
    "import matplotlib.pyplot as plt\n",
    "%matplotlib inline\n",
    "plt.style.use('seaborn-dark')\n",
    "%config InlineBackend.figure_format = 'retina'\n",
    "pd.options.display.max_rows = 20\n",
    "pd.options.display.max_columns = 20\n",
    "\n",
    "plt.rcParams[\"figure.figsize\"] = (6,4)\n",
    "plt.rcParams['lines.linewidth'] = 2\n",
    "plt.rcParams['lines.color'] = 'r'\n",
    "plt.rcParams['axes.grid'] = True\n",
    "\n",
    "import warnings\n",
    "warnings.filterwarnings('ignore')"
   ]
  },
  {
   "cell_type": "markdown",
   "id": "08b087f0",
   "metadata": {},
   "source": [
    "    과제 \n",
    "    A B 그룹의 Box Plot을 그리고 이상치를 구하세요"
   ]
  },
  {
   "cell_type": "markdown",
   "id": "295d217d",
   "metadata": {},
   "source": [
    "- data load"
   ]
  },
  {
   "cell_type": "code",
   "execution_count": 2,
   "id": "4c06242b",
   "metadata": {},
   "outputs": [
    {
     "data": {
      "text/plain": [
       "<AxesSubplot:xlabel='species', ylabel='length'>"
      ]
     },
     "execution_count": 2,
     "metadata": {},
     "output_type": "execute_result"
    },
    {
     "data": {
      "image/png": "[encoded data removed]",
      "text/plain": [
       "<Figure size 432x288 with 1 Axes>"
      ]
     },
     "metadata": {
      "image/png": {
       "height": 258,
       "width": 377
      }
     },
     "output_type": "display_data"
    }
   ],
   "source": [
    "fish_multi = pd.read_csv('../Data/4_fm2.csv')\n",
    "fish_multi.iloc[5,1] = 10\n",
    "# #test\n",
    "# fish_multi.iloc[3,1] = 30\n",
    "fish_multi.iloc[10,1] = 2\n",
    "fish_multi.groupby('species').describe()\n",
    "sns.boxplot(x='species',y='length',data=fish_multi,color='skyblue')"
   ]
  },
  {
   "cell_type": "code",
   "execution_count": 3,
   "id": "37e3f630",
   "metadata": {},
   "outputs": [
    {
     "data": {
      "text/html": [
       "<div>\n",
       "<style scoped>\n",
       "    .dataframe tbody tr th:only-of-type {\n",
       "        vertical-align: middle;\n",
       "    }\n",
       "\n",
       "    .dataframe tbody tr th {\n",
       "        vertical-align: top;\n",
       "    }\n",
       "\n",
       "    .dataframe thead th {\n",
       "        text-align: right;\n",
       "    }\n",
       "</style>\n",
       "<table border=\"1\" class=\"dataframe\">\n",
       "  <thead>\n",
       "    <tr style=\"text-align: right;\">\n",
       "      <th></th>\n",
       "      <th>species</th>\n",
       "      <th>length</th>\n",
       "    </tr>\n",
       "  </thead>\n",
       "  <tbody>\n",
       "    <tr>\n",
       "      <th>0</th>\n",
       "      <td>A</td>\n",
       "      <td>10</td>\n",
       "    </tr>\n",
       "    <tr>\n",
       "      <th>1</th>\n",
       "      <td>B</td>\n",
       "      <td>2</td>\n",
       "    </tr>\n",
       "  </tbody>\n",
       "</table>\n",
       "</div>"
      ],
      "text/plain": [
       "  species  length\n",
       "0       A      10\n",
       "1       B       2"
      ]
     },
     "execution_count": 3,
     "metadata": {},
     "output_type": "execute_result"
    }
   ],
   "source": [
    "#풀어쓰기\n",
    "test1 = fish_multi.groupby('species')\n",
    "A =test1.get_group('A')\n",
    "B =test1.get_group('B')\n",
    "\n",
    "a_Q1 = A.length.describe()['25%']\n",
    "a_Q3 = A.length.describe()['75%']\n",
    "b_Q1 = B.length.describe()['25%']\n",
    "b_Q3 = B.length.describe()['75%']\n",
    "\n",
    "a_IQR = a_Q3 - a_Q1\n",
    "b_IQR = b_Q3 - b_Q1\n",
    "\n",
    "A_ol=A[(A['length']<(a_Q1 - 1.5*a_IQR)) | (A['length'] > (a_Q3 + 1.5*a_IQR))]\n",
    "B_ol=B[(B['length']<(b_Q1 - 1.5*b_IQR)) | (B['length'] > (b_Q3 + 1.5*b_IQR))]\n",
    "\n",
    "Fish_outlier = A_ol.merge(B_ol,how='outer')\n",
    "Fish_outlier"
   ]
  },
  {
   "cell_type": "code",
   "execution_count": 4,
   "id": "3aa263d7",
   "metadata": {},
   "outputs": [
    {
     "data": {
      "text/html": [
       "<div>\n",
       "<style scoped>\n",
       "    .dataframe tbody tr th:only-of-type {\n",
       "        vertical-align: middle;\n",
       "    }\n",
       "\n",
       "    .dataframe tbody tr th {\n",
       "        vertical-align: top;\n",
       "    }\n",
       "\n",
       "    .dataframe thead th {\n",
       "        text-align: right;\n",
       "    }\n",
       "</style>\n",
       "<table border=\"1\" class=\"dataframe\">\n",
       "  <thead>\n",
       "    <tr style=\"text-align: right;\">\n",
       "      <th></th>\n",
       "      <th>length</th>\n",
       "    </tr>\n",
       "    <tr>\n",
       "      <th>species</th>\n",
       "      <th></th>\n",
       "    </tr>\n",
       "  </thead>\n",
       "  <tbody>\n",
       "    <tr>\n",
       "      <th>A</th>\n",
       "      <td>[10]</td>\n",
       "    </tr>\n",
       "    <tr>\n",
       "      <th>B</th>\n",
       "      <td>[2]</td>\n",
       "    </tr>\n",
       "  </tbody>\n",
       "</table>\n",
       "</div>"
      ],
      "text/plain": [
       "        length\n",
       "species       \n",
       "A         [10]\n",
       "B          [2]"
      ]
     },
     "execution_count": 4,
     "metadata": {},
     "output_type": "execute_result"
    }
   ],
   "source": [
    "#사용자 함수 생성 by 아름님\n",
    "def find_outlier(x):\n",
    "    Q1,Q3 = np.percentile(x,[25,75])\n",
    "    IQR = Q3 - Q1\n",
    "    outlier = x.loc[(x < (Q1 - 1.5*IQR)) | (x > (Q3 + 1.5 * IQR))].tolist()\n",
    "    return outlier\n",
    "\n",
    "fish_multi.groupby('species').agg(find_outlier)"
   ]
  },
  {
   "cell_type": "markdown",
   "id": "e30d92c1",
   "metadata": {},
   "source": [
    "    과제 - 추가 decoration / 막대그래프\n"
   ]
  },
  {
   "cell_type": "code",
   "execution_count": 5,
   "id": "7946163b",
   "metadata": {},
   "outputs": [
    {
     "name": "stdout",
     "output_type": "stream",
     "text": [
      "range(0, 10)\n",
      "[7 5 5 8 2 8 9 6 6 7]\n"
     ]
    },
    {
     "data": {
      "text/plain": [
       "Text(0.5, 0, 'x')"
      ]
     },
     "execution_count": 5,
     "metadata": {},
     "output_type": "execute_result"
    },
    {
     "data": {
      "image/png": "[encoded data removed]",
      "text/plain": [
       "<Figure size 576x288 with 1 Axes>"
      ]
     },
     "metadata": {
      "image/png": {
       "height": 258,
       "width": 483
      }
     },
     "output_type": "display_data"
    }
   ],
   "source": [
    "# 문제 값\n",
    "y = np.random.randint(2,10,size=10)\n",
    "x = range(len(y))\n",
    "print(x)\n",
    "print(y)\n",
    "plt.figure(figsize=(8,4))\n",
    "plt.bar(x,y,width=0.8,color='skyblue')\n",
    "plt.ylabel('y')\n",
    "plt.xlabel('x')\n"
   ]
  },
  {
   "cell_type": "code",
   "execution_count": 6,
   "id": "31cbd57a",
   "metadata": {},
   "outputs": [
    {
     "name": "stderr",
     "output_type": "stream",
     "text": [
      "No handles with labels found to put in legend.\n"
     ]
    },
    {
     "name": "stdout",
     "output_type": "stream",
     "text": [
      "range(0, 10)\n",
      "[2 9 3 5 4 7 8 6 8 6]\n"
     ]
    },
    {
     "data": {
      "text/plain": [
       "<matplotlib.legend.Legend at 0x27ce3bc98e0>"
      ]
     },
     "execution_count": 6,
     "metadata": {},
     "output_type": "execute_result"
    },
    {
     "data": {
      "image/png": "[encoded data removed]",
      "text/plain": [
       "<Figure size 576x288 with 1 Axes>"
      ]
     },
     "metadata": {
      "image/png": {
       "height": 286,
       "width": 491
      }
     },
     "output_type": "display_data"
    }
   ],
   "source": [
    "# 결과값\n",
    "y = np.random.randint(2,10,size=10)\n",
    "x = range(len(y))\n",
    "print(x)\n",
    "print(y)\n",
    "plt.figure(figsize=(8,4))\n",
    "# 1. 폰트 크기 변경\n",
    "plt.ylabel('y',fontsize=20) \n",
    "plt.xlabel('x',fontsize=20)\n",
    "# 2. Title생성\n",
    "plt.title('Decoration',fontsize=20)\n",
    "plt.bar(x,y,width=0.8,align='edge',color='Green',alpha=0.6) #한쪽 끝으로 정렬\n",
    "plt.legend()\n",
    "# 3. font\n",
    "# plt.xticks(index,label,fontsize=15)"
   ]
  },
  {
   "cell_type": "markdown",
   "id": "a16fccf8",
   "metadata": {},
   "source": [
    "    과제\n",
    "    Q. hist, line, bar, scatter 그래프 4개를 서브플록으로 출력하세요"
   ]
  },
  {
   "cell_type": "code",
   "execution_count": 7,
   "id": "061dc24f",
   "metadata": {},
   "outputs": [],
   "source": [
    "data =pd.read_excel('../Data/한국관광수지_210727111801.xls')"
   ]
  },
  {
   "cell_type": "code",
   "execution_count": 8,
   "id": "fc0b866d",
   "metadata": {},
   "outputs": [
    {
     "data": {
      "text/html": [
       "<div>\n",
       "<style scoped>\n",
       "    .dataframe tbody tr th:only-of-type {\n",
       "        vertical-align: middle;\n",
       "    }\n",
       "\n",
       "    .dataframe tbody tr th {\n",
       "        vertical-align: top;\n",
       "    }\n",
       "\n",
       "    .dataframe thead th {\n",
       "        text-align: right;\n",
       "    }\n",
       "</style>\n",
       "<table border=\"1\" class=\"dataframe\">\n",
       "  <thead>\n",
       "    <tr style=\"text-align: right;\">\n",
       "      <th></th>\n",
       "      <th>연도</th>\n",
       "      <th>계</th>\n",
       "      <th>1월</th>\n",
       "      <th>2월</th>\n",
       "      <th>3월</th>\n",
       "      <th>4월</th>\n",
       "      <th>5월</th>\n",
       "      <th>6월</th>\n",
       "      <th>7월</th>\n",
       "      <th>8월</th>\n",
       "      <th>9월</th>\n",
       "      <th>10월</th>\n",
       "      <th>11월</th>\n",
       "      <th>12월</th>\n",
       "    </tr>\n",
       "  </thead>\n",
       "  <tbody>\n",
       "    <tr>\n",
       "      <th>0</th>\n",
       "      <td>2017년(1,000 US$)</td>\n",
       "      <td>13263900</td>\n",
       "      <td>1176700</td>\n",
       "      <td>1272600</td>\n",
       "      <td>1125600</td>\n",
       "      <td>988400</td>\n",
       "      <td>988100</td>\n",
       "      <td>1008700</td>\n",
       "      <td>956000</td>\n",
       "      <td>1375500</td>\n",
       "      <td>1216400</td>\n",
       "      <td>1045000</td>\n",
       "      <td>1081200</td>\n",
       "      <td>1029700</td>\n",
       "    </tr>\n",
       "    <tr>\n",
       "      <th>1</th>\n",
       "      <td>2018년(1,000 US$)</td>\n",
       "      <td>18461800</td>\n",
       "      <td>1241100</td>\n",
       "      <td>1276900</td>\n",
       "      <td>1590700</td>\n",
       "      <td>1713400</td>\n",
       "      <td>1615300</td>\n",
       "      <td>1669600</td>\n",
       "      <td>1487400</td>\n",
       "      <td>1562000</td>\n",
       "      <td>1521900</td>\n",
       "      <td>1850400</td>\n",
       "      <td>1401900</td>\n",
       "      <td>1531200</td>\n",
       "    </tr>\n",
       "    <tr>\n",
       "      <th>2</th>\n",
       "      <td>2019년(1,000 US$)</td>\n",
       "      <td>20744900</td>\n",
       "      <td>1446000</td>\n",
       "      <td>1450000</td>\n",
       "      <td>2062200</td>\n",
       "      <td>2014000</td>\n",
       "      <td>1850700</td>\n",
       "      <td>1519300</td>\n",
       "      <td>1695700</td>\n",
       "      <td>1767600</td>\n",
       "      <td>1624700</td>\n",
       "      <td>1745300</td>\n",
       "      <td>1733600</td>\n",
       "      <td>1835800</td>\n",
       "    </tr>\n",
       "    <tr>\n",
       "      <th>3</th>\n",
       "      <td>2020년(1,000 US$)</td>\n",
       "      <td>10436200</td>\n",
       "      <td>1459100</td>\n",
       "      <td>1054200</td>\n",
       "      <td>889300</td>\n",
       "      <td>631600</td>\n",
       "      <td>663900</td>\n",
       "      <td>681000</td>\n",
       "      <td>815100</td>\n",
       "      <td>884400</td>\n",
       "      <td>862200</td>\n",
       "      <td>851800</td>\n",
       "      <td>856900</td>\n",
       "      <td>786700</td>\n",
       "    </tr>\n",
       "  </tbody>\n",
       "</table>\n",
       "</div>"
      ],
      "text/plain": [
       "                 연도         계       1월       2월       3월       4월       5월  \\\n",
       "0  2017년(1,000 US$)  13263900  1176700  1272600  1125600   988400   988100   \n",
       "1  2018년(1,000 US$)  18461800  1241100  1276900  1590700  1713400  1615300   \n",
       "2  2019년(1,000 US$)  20744900  1446000  1450000  2062200  2014000  1850700   \n",
       "3  2020년(1,000 US$)  10436200  1459100  1054200   889300   631600   663900   \n",
       "\n",
       "        6월       7월       8월       9월      10월      11월      12월  \n",
       "0  1008700   956000  1375500  1216400  1045000  1081200  1029700  \n",
       "1  1669600  1487400  1562000  1521900  1850400  1401900  1531200  \n",
       "2  1519300  1695700  1767600  1624700  1745300  1733600  1835800  \n",
       "3   681000   815100   884400   862200   851800   856900   786700  "
      ]
     },
     "execution_count": 8,
     "metadata": {},
     "output_type": "execute_result"
    }
   ],
   "source": [
    "data"
   ]
  },
  {
   "cell_type": "markdown",
   "id": "0858010b",
   "metadata": {},
   "source": [
    "과제\n",
    "Q. 시각화 탐색을 통하여 df의 각 칼럼에 대한 인사이틀 기술하세요(5개 이상)\n",
    "\n",
    "    - 의미없는 변수 제거\n",
    "    - 변수 분포\n",
    "    - 종속변수인 survived와 독립변수간 상관관계\n",
    "    - 독립변수간 상관관계\n",
    "    - 분석에 의미있는 파생변수 도출"
   ]
  },
  {
   "cell_type": "code",
   "execution_count": 9,
   "id": "48f01ffd",
   "metadata": {},
   "outputs": [
    {
     "data": {
      "text/html": [
       "<div>\n",
       "<style scoped>\n",
       "    .dataframe tbody tr th:only-of-type {\n",
       "        vertical-align: middle;\n",
       "    }\n",
       "\n",
       "    .dataframe tbody tr th {\n",
       "        vertical-align: top;\n",
       "    }\n",
       "\n",
       "    .dataframe thead th {\n",
       "        text-align: right;\n",
       "    }\n",
       "</style>\n",
       "<table border=\"1\" class=\"dataframe\">\n",
       "  <thead>\n",
       "    <tr style=\"text-align: right;\">\n",
       "      <th></th>\n",
       "      <th>survived</th>\n",
       "      <th>pclass</th>\n",
       "      <th>sex</th>\n",
       "      <th>age</th>\n",
       "      <th>sibsp</th>\n",
       "      <th>parch</th>\n",
       "      <th>fare</th>\n",
       "      <th>embarked</th>\n",
       "      <th>class</th>\n",
       "      <th>who</th>\n",
       "      <th>adult_male</th>\n",
       "      <th>deck</th>\n",
       "      <th>embark_town</th>\n",
       "      <th>alive</th>\n",
       "      <th>alone</th>\n",
       "    </tr>\n",
       "  </thead>\n",
       "  <tbody>\n",
       "    <tr>\n",
       "      <th>0</th>\n",
       "      <td>0</td>\n",
       "      <td>3</td>\n",
       "      <td>male</td>\n",
       "      <td>22.0</td>\n",
       "      <td>1</td>\n",
       "      <td>0</td>\n",
       "      <td>7.2500</td>\n",
       "      <td>S</td>\n",
       "      <td>Third</td>\n",
       "      <td>man</td>\n",
       "      <td>True</td>\n",
       "      <td>NaN</td>\n",
       "      <td>Southampton</td>\n",
       "      <td>no</td>\n",
       "      <td>False</td>\n",
       "    </tr>\n",
       "    <tr>\n",
       "      <th>1</th>\n",
       "      <td>1</td>\n",
       "      <td>1</td>\n",
       "      <td>female</td>\n",
       "      <td>38.0</td>\n",
       "      <td>1</td>\n",
       "      <td>0</td>\n",
       "      <td>71.2833</td>\n",
       "      <td>C</td>\n",
       "      <td>First</td>\n",
       "      <td>woman</td>\n",
       "      <td>False</td>\n",
       "      <td>C</td>\n",
       "      <td>Cherbourg</td>\n",
       "      <td>yes</td>\n",
       "      <td>False</td>\n",
       "    </tr>\n",
       "  </tbody>\n",
       "</table>\n",
       "</div>"
      ],
      "text/plain": [
       "   survived  pclass     sex   age  sibsp  parch     fare embarked  class  \\\n",
       "0         0       3    male  22.0      1      0   7.2500        S  Third   \n",
       "1         1       1  female  38.0      1      0  71.2833        C  First   \n",
       "\n",
       "     who  adult_male deck  embark_town alive  alone  \n",
       "0    man        True  NaN  Southampton    no  False  \n",
       "1  woman       False    C    Cherbourg   yes  False  "
      ]
     },
     "execution_count": 9,
     "metadata": {},
     "output_type": "execute_result"
    }
   ],
   "source": [
    "import seaborn as sns\n",
    "df = sns.load_dataset('titanic')\n",
    "t_clean = df.copy()\n",
    "t_clean.head(2)"
   ]
  },
  {
   "cell_type": "markdown",
   "id": "39e76e75",
   "metadata": {},
   "source": [
    "변수 탐색\n",
    "        \n",
    "        변수 의미 / 정리"
   ]
  },
  {
   "cell_type": "code",
   "execution_count": 10,
   "id": "21d59183",
   "metadata": {},
   "outputs": [],
   "source": [
    "\n",
    "t_clean['alive'] = t_clean['alive'].replace('yes',1).replace('no',0)\n",
    "t_clean['alive'].equals(t_clean['survived'])\n",
    "t_clean = t_clean.drop('alive',axis=1)\n",
    "\n",
    "t_clean['class'] = t_clean['class'].replace({'First':1,'Second':2,'Third':3})\n",
    "t_clean['class'].equals(t_clean['pclass'])\n",
    "t_clean = t_clean.drop('class',axis=1)\n",
    "\n",
    "t_clean['family'] = t_clean['sibsp'] + t_clean['parch'] + 1\n",
    "t_clean = t_clean.drop('alone',axis=1)\n",
    "\n",
    "t_clean['embarked'] = t_clean['embarked'].fillna('S')\n",
    "t_clean['embark_town'] = t_clean['embark_town'].fillna('Southampton')\n",
    "t_clean['Title'] = [x[0] for x in t_clean['embark_town']]\n",
    "t_clean['embarked'].equals(t_clean['Title'])\n",
    "t_clean['embarked'] = t_clean['embarked'].replace({'S':1,'C':2,'Q':3})\n",
    "t_clean = t_clean.drop(['Title','embark_town'],axis=1)\n",
    "\n",
    "t_clean = t_clean.drop('deck',axis = 1)\n",
    "\n",
    "t_clean['adult_male'] = t_clean['adult_male'].replace({True:1,False:0})\n",
    "\n",
    "\n",
    "from sklearn.preprocessing import LabelEncoder\n",
    "le = LabelEncoder()\n",
    "features = ['sex']\n",
    "for feature in features:\n",
    "    t_clean['sex_E'] = le.fit_transform(t_clean['sex'])\n",
    "t_clean = t_clean.drop('sex',axis=1)\n",
    "\n",
    "from sklearn.preprocessing import LabelEncoder\n",
    "le = LabelEncoder()\n",
    "features = ['who']\n",
    "for feature in features:\n",
    "    t_clean['who_E'] = le.fit_transform(t_clean['who'])\n",
    "t_clean = t_clean.drop('who',axis=1)"
   ]
  },
  {
   "cell_type": "code",
   "execution_count": 11,
   "id": "8f217b00",
   "metadata": {},
   "outputs": [
    {
     "data": {
      "text/html": [
       "<div>\n",
       "<style scoped>\n",
       "    .dataframe tbody tr th:only-of-type {\n",
       "        vertical-align: middle;\n",
       "    }\n",
       "\n",
       "    .dataframe tbody tr th {\n",
       "        vertical-align: top;\n",
       "    }\n",
       "\n",
       "    .dataframe thead th {\n",
       "        text-align: right;\n",
       "    }\n",
       "</style>\n",
       "<table border=\"1\" class=\"dataframe\">\n",
       "  <thead>\n",
       "    <tr style=\"text-align: right;\">\n",
       "      <th></th>\n",
       "      <th>survived</th>\n",
       "      <th>pclass</th>\n",
       "      <th>age</th>\n",
       "      <th>sibsp</th>\n",
       "      <th>parch</th>\n",
       "      <th>fare</th>\n",
       "      <th>embarked</th>\n",
       "      <th>adult_male</th>\n",
       "      <th>family</th>\n",
       "      <th>sex_E</th>\n",
       "      <th>who_E</th>\n",
       "    </tr>\n",
       "  </thead>\n",
       "  <tbody>\n",
       "    <tr>\n",
       "      <th>0</th>\n",
       "      <td>0</td>\n",
       "      <td>3</td>\n",
       "      <td>22.0</td>\n",
       "      <td>1</td>\n",
       "      <td>0</td>\n",
       "      <td>7.25</td>\n",
       "      <td>1</td>\n",
       "      <td>1</td>\n",
       "      <td>2</td>\n",
       "      <td>1</td>\n",
       "      <td>1</td>\n",
       "    </tr>\n",
       "  </tbody>\n",
       "</table>\n",
       "</div>"
      ],
      "text/plain": [
       "   survived  pclass   age  sibsp  parch  fare  embarked  adult_male  family  \\\n",
       "0         0       3  22.0      1      0  7.25         1           1       2   \n",
       "\n",
       "   sex_E  who_E  \n",
       "0      1      1  "
      ]
     },
     "execution_count": 11,
     "metadata": {},
     "output_type": "execute_result"
    }
   ],
   "source": [
    "t_clean.head(1)"
   ]
  },
  {
   "cell_type": "code",
   "execution_count": 19,
   "id": "899a619a",
   "metadata": {},
   "outputs": [
    {
     "data": {
      "text/plain": [
       "<AxesSubplot:xlabel='pclass', ylabel='age'>"
      ]
     },
     "execution_count": 19,
     "metadata": {},
     "output_type": "execute_result"
    },
    {
     "data": {
      "image/png": "[encoded data removed]",
      "text/plain": [
       "<Figure size 432x288 with 1 Axes>"
      ]
     },
     "metadata": {
      "image/png": {
       "height": 258,
       "width": 377
      }
     },
     "output_type": "display_data"
    }
   ],
   "source": [
    "sns.lineplot(data=t_clean,x='pclass',y='age',hue='survived')"
   ]
  },
  {
   "cell_type": "markdown",
   "id": "8976db5b",
   "metadata": {},
   "source": [
    "시각화 탐색\n",
    "        \n",
    "        변수분포"
   ]
  },
  {
   "cell_type": "code",
   "execution_count": null,
   "id": "b699ac39",
   "metadata": {},
   "outputs": [],
   "source": []
  },
  {
   "cell_type": "markdown",
   "id": "f1732c0b",
   "metadata": {},
   "source": [
    "시각화 탐색\n",
    "        \n",
    "        종속변수인 survived와 독립변수간 상관관계"
   ]
  },
  {
   "cell_type": "markdown",
   "id": "93196bc0",
   "metadata": {},
   "source": [
    "시각화 탐색\n",
    "        \n",
    "        독립변수간 상관관계"
   ]
  },
  {
   "cell_type": "markdown",
   "id": "744b71ce",
   "metadata": {},
   "source": [
    "시각화 탐색\n",
    "        \n",
    "        분석에 의미있는 파생변수 도출\n"
   ]
  }
 ],
 "metadata": {
  "kernelspec": {
   "display_name": "Python 3",
   "language": "python",
   "name": "python3"
  },
  "language_info": {
   "codemirror_mode": {
    "name": "ipython",
    "version": 3
   },
   "file_extension": ".py",
   "mimetype": "text/x-python",
   "name": "python",
   "nbconvert_exporter": "python",
   "pygments_lexer": "ipython3",
   "version": "3.8.10"
  }
 },
 "nbformat": 4,
 "nbformat_minor": 5
}
