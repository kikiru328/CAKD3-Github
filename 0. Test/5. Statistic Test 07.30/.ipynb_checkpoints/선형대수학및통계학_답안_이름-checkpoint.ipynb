{
 "cells": [
  {
   "cell_type": "markdown",
   "metadata": {},
   "source": [
    "## 빅데이터 기반 AI 응용 솔루션 개발자 전문과정\n",
    "\n",
    "### 교과목명 : 선형대수학 및 통계학\n",
    "- 평가일 : 21.7.30\n",
    "- 성명 :\n",
    "- 점수 :"
   ]
  },
  {
   "cell_type": "markdown",
   "metadata": {},
   "source": [
    "Q1. 평균이 10, 표준편차가 3인 정규분포의 확률밀도함수를 그래프로 표현하세요.  \n",
    "x축은 np.arange(0,20,0.1) "
   ]
  },
  {
   "cell_type": "code",
   "execution_count": null,
   "metadata": {},
   "outputs": [],
   "source": [
    "# A.\n",
    "import numpy as np\n",
    "import pandas as pd\n",
    "from scipy import stats\n",
    "import matplotlib.pyplot as plt\n",
    "x_plot = np.arange(0,20,0.1)\n",
    "len(x_plot)\n",
    "plt.plot(x_plot,stats.norm.pdf(x=x_plot,loc=10,scale=3),color='k')"
   ]
  },
  {
   "cell_type": "markdown",
   "metadata": {},
   "source": [
    "Q2. 평균이 1, 표준편차가 2인 정규분포의 누적분포함수를 그래프로 표현하세요.  \n",
    "x축 : np.arange(-3,8,0.1)"
   ]
  },
  {
   "cell_type": "code",
   "execution_count": null,
   "metadata": {},
   "outputs": [],
   "source": [
    "# A.\n",
    "x_plot = np.arange(-3,8,0.1)\n",
    "plt.plot(x_plot,stats.norm.cdf(x=x_plot,loc=1,scale=2),color='black')"
   ]
  },
  {
   "cell_type": "markdown",
   "metadata": {},
   "source": [
    "Q3. \"dataset/5_2_fm.csv\"을 df1으로 불러와서 다음사항을 수행하세요.\n",
    "- df1을 df2 이름으로 복사한 후 df2의 species의 A, B를 C,D로 변경하세요.\n",
    "- df의 length를 species가 C인 것은 2배로 d인 것은 3배로 변경하여 df1과 df2를 행방향으로 결합, df 생성 \n",
    "- df를 species 칼럼을 기준으로 그룹별 평균과 표준편차를 산출"
   ]
  },
  {
   "cell_type": "code",
   "execution_count": null,
   "metadata": {},
   "outputs": [],
   "source": [
    "df1 = pd.read_csv('dataset/5_2_fm.csv')"
   ]
  },
  {
   "cell_type": "code",
   "execution_count": null,
   "metadata": {},
   "outputs": [],
   "source": [
    "# A1.\n",
    "df2=df1.copy()\n",
    "print(df2)\n",
    "df2.species.replace({'A':'C','B':'D'},inplace=True)\n",
    "df2"
   ]
  },
  {
   "cell_type": "code",
   "execution_count": null,
   "metadata": {},
   "outputs": [],
   "source": [
    "# A2.\n",
    "def change(a,b):\n",
    "    if a == 'C':\n",
    "        return b*2\n",
    "    else:\n",
    "        return b*3\n",
    "\n",
    "df2['len'] = df2.apply(lambda x : change(x['species'],x['length']),axis=1)\n",
    "df2.length = df2.len\n",
    "df2.drop('len',axis=1,inplace=True)\n",
    "df = pd.concat([df1,df2])\n",
    "df.reset_index(inplace=True)\n",
    "df.drop('index',axis=1,inplace=True)\n",
    "df"
   ]
  },
  {
   "cell_type": "code",
   "execution_count": null,
   "metadata": {},
   "outputs": [],
   "source": [
    "# A3.\n",
    "m = df.groupby('species').mean()\n",
    "std = df.groupby('species').std()\n",
    "print(m,'\\n')\n",
    "print(std)"
   ]
  },
  {
   "cell_type": "markdown",
   "metadata": {},
   "source": [
    "Q4. \"./dataset/5_2_shoes.csv\" 을 데이터프레임으로 불러와서 아래작업을 수행하세요.\n",
    "- 4행 3열을 복사 후 추가하여 8행 3열로 작성하세요. \n",
    "- 피벗테이블을 이용, 교차분석표를 만드세요(values='sales',aggfunc='sum', index= 'store', columns = 'color')"
   ]
  },
  {
   "cell_type": "code",
   "execution_count": null,
   "metadata": {},
   "outputs": [],
   "source": [
    "import pandas as pd\n",
    "shoes = pd.read_csv(\"./dataset/5_2_shoes.csv\")"
   ]
  },
  {
   "cell_type": "code",
   "execution_count": null,
   "metadata": {},
   "outputs": [],
   "source": [
    "# A1.\n",
    "shoes1=shoes.copy()\n",
    "df = pd.concat([shoes,shoes1],ignore_index=True)\n",
    "df "
   ]
  },
  {
   "cell_type": "code",
   "execution_count": null,
   "metadata": {},
   "outputs": [],
   "source": [
    "# A2. 교차 분석표\n",
    "cross = pd.pivot_table(data = df, values='sales',aggfunc='sum', index= 'store', columns = 'color')\n",
    "cross"
   ]
  },
  {
   "cell_type": "markdown",
   "metadata": {},
   "source": [
    "Q5. 주어진 fish 데이터로 다음사항을 수행하세요.\n",
    "- 모평균의 점추정, 모분산의 점추정\n",
    "- 자유도, 표준오차\n",
    "- 신뢰구간 계산 "
   ]
  },
  {
   "cell_type": "code",
   "execution_count": null,
   "metadata": {},
   "outputs": [],
   "source": [
    "df = pd.read_csv('dataset/5_7_fl.csv')\n",
    "fish = df['length']\n",
    "fish"
   ]
  },
  {
   "cell_type": "code",
   "execution_count": null,
   "metadata": {},
   "outputs": [],
   "source": [
    "# A1.\n",
    "mu = np.mean(fish)\n",
    "print('평균:',round(mu,2))\n",
    "sigma_2 = np.var(fish, ddof=1)\n",
    "print('분산:',round(sigma_2,2))"
   ]
  },
  {
   "cell_type": "code",
   "execution_count": null,
   "metadata": {},
   "outputs": [],
   "source": [
    "# A2.\n",
    "df = len(fish) - 1\n",
    "print('자유도:',df)\n",
    "sigma = np.std(fish,ddof=1)\n",
    "se = sigma/np.sqrt(len(fish))\n",
    "print('표준오차:',round(se,2))"
   ]
  },
  {
   "cell_type": "code",
   "execution_count": null,
   "metadata": {},
   "outputs": [],
   "source": [
    "# A3.\n",
    "from scipy import stats\n",
    "interval = stats.t.interval(\n",
    "    alpha=0.95, df=df, loc=mu, scale=se)\n",
    "print('신뢰구간:',interval)"
   ]
  },
  {
   "cell_type": "markdown",
   "metadata": {},
   "source": [
    "Q6. 'dataset/titanic3.csv'을 불러와서 pclass 와 sex 칼럼을 각각 인덱스, 칼럼으로 하고 values는 survived, 함수는 mean을 적용하여 pivot_table을 만든 후 히트맵으로 시각화 및 인사이트를 기술하세요"
   ]
  },
  {
   "cell_type": "code",
   "execution_count": null,
   "metadata": {},
   "outputs": [],
   "source": [
    "titanic = pd.read_csv('dataset/titanic3.csv')\n",
    "titanic.head(2)"
   ]
  },
  {
   "cell_type": "code",
   "execution_count": null,
   "metadata": {},
   "outputs": [],
   "source": [
    "# A. 여성, 일등석의 승객 생존율은 96% 인 반면 남성, 삼등석 승객 생존율은 15%\n",
    "import seaborn as sns\n",
    "import matplotlib.pyplot as plt\n",
    "table = titanic.pivot_table(index=['sex'],columns=['pclass'],values=['survived'],\\\n",
    "                        aggfunc='mean')\n",
    "table\n",
    "plt.figure(figsize=(8,6))\n",
    "sns.heatmap(table,\n",
    "           annot=True, fmt='f',\n",
    "           cmap='YlGnBu',\n",
    "           linewidth=.5,\n",
    "           cbar=True)"
   ]
  },
  {
   "cell_type": "markdown",
   "metadata": {},
   "source": [
    "Q7. 4행 5열 배열과 5행 3열 배열을 생성하여 a, b 이름으로 저장 후 a, b의 행렬 곱을 구하세요. (출력 결과는 4행 3열 배열)"
   ]
  },
  {
   "cell_type": "code",
   "execution_count": null,
   "metadata": {},
   "outputs": [],
   "source": [
    "# A.\n",
    "import numpy as np\n",
    "import pandas as pd\n",
    "\n",
    "a = np.arange(20).reshape(4,5)\n",
    "b = np.arange(15).reshape(5,3)\n",
    "\n",
    "np.dot(a,b)"
   ]
  },
  {
   "cell_type": "markdown",
   "metadata": {},
   "source": [
    "Q8. Q. fish_multi 데이터프레임으로 다음을 수행하세요.\n",
    "- A, B 두개의 그룹의 Box Plot을 그리고 이상치를 구하세요.\n",
    "- 이상치를 제거한 후 Box Plot으로 이상치 여부를 확인하세요.\n",
    "- 바이올린 플롯을 표현하세요."
   ]
  },
  {
   "cell_type": "code",
   "execution_count": null,
   "metadata": {},
   "outputs": [],
   "source": [
    "import pandas as pd\n",
    "fish_multi = pd.read_csv(\"dataset/4_fm2.csv\")\n",
    "fish_multi.iloc[5,1] = 10\n",
    "fish_multi.iloc[10,1] = 2\n",
    "print(fish_multi)"
   ]
  },
  {
   "cell_type": "code",
   "execution_count": null,
   "metadata": {},
   "outputs": [],
   "source": [
    "# A1.\n",
    "import seaborn as sns\n",
    "sns.boxplot(x = \"species\", y  = \"length\", \n",
    "            data = fish_multi, color = 'gray')\n",
    "import numpy as np\n",
    "groupA = fish_multi.groupby('species').get_group('A')['length']\n",
    "groupB = fish_multi.groupby('species').get_group('B')['length']\n",
    "\n",
    "# 사용자 함수\n",
    "def outlier(x):\n",
    "#     q1, q3 = np.quantile(x, [0.25, 0.75])\n",
    "    q1 = x.describe()['25%']\n",
    "    q3 = x.describe()['75%']\n",
    "    iqr = q3 - q1\n",
    "    ucheck = q3 + iqr * 1.5\n",
    "    lcheck = q1 - iqr * 1.5\n",
    "    uw = x [ x < ucheck ].max()\n",
    "    lw = x [ x > lcheck ].min()\n",
    "    outlier = x [(x > uw) | (x < lw)]\n",
    "\n",
    "    print(f'이상치: {sorted(outlier.values)}')    \n",
    "   \n",
    "outlier(groupA)\n",
    "outlier(groupB)"
   ]
  },
  {
   "cell_type": "code",
   "execution_count": null,
   "metadata": {},
   "outputs": [],
   "source": [
    "# A2.\n",
    "index_fm = fish_multi[((fish_multi.length==10) & (fish_multi.species =='A')) | \\\n",
    "                      ((fish_multi.length==2) & (fish_multi.species =='B'))].index\n",
    "fm2 = fish_multi.drop(index_fm)\n",
    "print(fm2)\n",
    "sns.boxplot(x = \"species\", y  = \"length\", \n",
    "            data = fm2, color = 'gray')"
   ]
  },
  {
   "cell_type": "code",
   "execution_count": null,
   "metadata": {},
   "outputs": [],
   "source": [
    "# A3.\n",
    "sns.violinplot(x='species',y='length',\n",
    "              data = fm2, color= 'skyblue')"
   ]
  },
  {
   "cell_type": "markdown",
   "metadata": {},
   "source": [
    "Q9. df_auto mpg 컬럼과 weight 컬럼에 대하여 산점도, 회귀선, 히스토그램을 \n",
    "그래프로 같이 표현하여 탐색 후 인사이트를 기술하세요."
   ]
  },
  {
   "cell_type": "code",
   "execution_count": null,
   "metadata": {},
   "outputs": [],
   "source": [
    "import pandas as pd\n",
    "df_auto = pd.read_excel('dataset/auto-mpg.xlsx')\n",
    "df_auto.head()"
   ]
  },
  {
   "cell_type": "code",
   "execution_count": null,
   "metadata": {},
   "outputs": [],
   "source": [
    "# A.\n",
    "import warnings\n",
    "warnings.filterwarnings('ignore')\n",
    "sns.jointplot('mpg','weight',data=df_auto,kind='reg')"
   ]
  },
  {
   "cell_type": "markdown",
   "metadata": {},
   "source": [
    "Q10. 샘플사이즈가 크면 불편분산은 모분산에 가까워진다는 것을 그래프로 증명하세요. 단, 모분산은 아래 모집단으로 부터 도출된다."
   ]
  },
  {
   "cell_type": "code",
   "execution_count": null,
   "metadata": {},
   "outputs": [],
   "source": [
    "population = stats.norm(loc = 4, scale = 0.8)"
   ]
  },
  {
   "cell_type": "code",
   "execution_count": null,
   "metadata": {},
   "outputs": [],
   "source": [
    "# A.\n",
    "size_array = np.arange(10,100100,100)\n",
    "unbias_var_array_size=np.zeros(len(size_array))\n",
    "\n",
    "np.random.seed(1)\n",
    "for i in range(0,len(size_array)):\n",
    "    sample = population.rvs(size=size_array[i])\n",
    "    unbias_var_array_size[i] = np.var(sample,ddof=1)\n",
    "plt.plot(size_array,unbias_var_array_size, color='black')\n",
    "plt.xlabel('sample size')\n",
    "plt.ylabel('unbias var')"
   ]
  }
 ],
 "metadata": {
  "kernelspec": {
   "display_name": "Python 3",
   "language": "python",
   "name": "python3"
  },
  "language_info": {
   "codemirror_mode": {
    "name": "ipython",
    "version": 3
   },
   "file_extension": ".py",
   "mimetype": "text/x-python",
   "name": "python",
   "nbconvert_exporter": "python",
   "pygments_lexer": "ipython3",
   "version": "3.8.10"
  }
 },
 "nbformat": 4,
 "nbformat_minor": 4
}
