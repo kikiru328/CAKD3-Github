{
 "cells": [
  {
   "cell_type": "markdown",
   "metadata": {
    "id": "tY5McOI3HC-K"
   },
   "source": [
    "## 빅데이터 기반 AI 응용 솔루션 개발자 전문과정\n",
    "\n",
    "#### 교과목명 : Python 분석라이브러리 활용\n",
    "\n",
    "- 평가일 : 21.7.23\n",
    "- 성명 : \n",
    "- 점수 :"
   ]
  },
  {
   "cell_type": "markdown",
   "metadata": {
    "id": "XI0pISi2HC-M"
   },
   "source": [
    "### Q1. arange(), reshape() 이용 1차원 2차원 3차원 배열을 아래와 같이 생성하세요.\n",
    "[0 1 2 3 4 5 6 7 8 9]  \n",
    "\n",
    "[[0 1 2 3 4]  \n",
    " [5 6 7 8 9]]  \n",
    " \n",
    "[[[0 1 2 3 4]  \n",
    "  [5 6 7 8 9]]]"
   ]
  },
  {
   "cell_type": "code",
   "execution_count": null,
   "metadata": {
    "colab": {
     "base_uri": "https://localhost:8080/"
    },
    "executionInfo": {
     "elapsed": 8,
     "status": "ok",
     "timestamp": 1626938945609,
     "user": {
      "displayName": "kevin park",
      "photoUrl": "",
      "userId": "02703084888761299921"
     },
     "user_tz": -540
    },
    "id": "ng21pB7BHC-M",
    "outputId": "196e0511-5d74-48b7-ee7b-810f81d2822f"
   },
   "outputs": [
    {
     "name": "stdout",
     "output_type": "stream",
     "text": [
      "[0 1 2 3 4 5 6 7 8 9]\n",
      "[[0 1 2 3 4]\n",
      " [5 6 7 8 9]]\n",
      "[[[0 1 2 3 4]\n",
      "  [5 6 7 8 9]]]\n"
     ]
    }
   ],
   "source": [
    "# A.\n",
    "import numpy as np\n",
    "ar = np.arange(10)\n",
    "ar1 = ar.reshape(-1,)\n",
    "ar2 = ar.reshape(2,-1)\n",
    "ar3 = ar.reshape(-1,2,5)\n",
    "print(ar1)\n",
    "print(ar2)\n",
    "print(ar3)"
   ]
  },
  {
   "cell_type": "markdown",
   "metadata": {
    "id": "6Nx5jp3SHC-N"
   },
   "source": [
    "### Q2. 1 ~ 100 까지 배열에서 3과 7의 공배수인 것만을 출력하세요."
   ]
  },
  {
   "cell_type": "code",
   "execution_count": null,
   "metadata": {
    "colab": {
     "base_uri": "https://localhost:8080/"
    },
    "executionInfo": {
     "elapsed": 426,
     "status": "ok",
     "timestamp": 1627118775412,
     "user": {
      "displayName": "kevin park",
      "photoUrl": "",
      "userId": "02703084888761299921"
     },
     "user_tz": -540
    },
    "id": "iYek2V-bHC-N",
    "outputId": "dc6ef94f-9849-4a94-80cf-272812b9f28b"
   },
   "outputs": [
    {
     "data": {
      "text/plain": [
       "array([21, 42, 63, 84])"
      ]
     },
     "execution_count": 2,
     "metadata": {
      "tags": []
     },
     "output_type": "execute_result"
    }
   ],
   "source": [
    "# A.\n",
    "import numpy as np\n",
    "a1 = np.arange(1, 101)\n",
    "a1 = a1[(a1 % 3 ==0) & (a1 % 7==0)]\n",
    "a1"
   ]
  },
  {
   "cell_type": "markdown",
   "metadata": {
    "id": "j0Y2-fjaHC-O"
   },
   "source": [
    "### Q3. 아래 3차원 배열을 생성하여 출력한 후 1차원으로 변환하여 출력하세요.(reshape() 사용)\n",
    "\n",
    "[[[ 0  1  2  3  4]  \n",
    "  [ 5  6  7  8  9]]\n",
    "\n",
    " [[10 11 12 13 14]  \n",
    "   [15 16 17 18 19]]\n",
    "\n",
    " [[20 21 22 23 24]  \n",
    "   [25 26 27 28 29]]]"
   ]
  },
  {
   "cell_type": "code",
   "execution_count": null,
   "metadata": {
    "colab": {
     "base_uri": "https://localhost:8080/"
    },
    "executionInfo": {
     "elapsed": 289,
     "status": "ok",
     "timestamp": 1626939149524,
     "user": {
      "displayName": "kevin park",
      "photoUrl": "",
      "userId": "02703084888761299921"
     },
     "user_tz": -540
    },
    "id": "A-HibdKnHC-O",
    "outputId": "1d770316-aa6a-4b78-a083-598fe1db932c"
   },
   "outputs": [
    {
     "name": "stdout",
     "output_type": "stream",
     "text": [
      "[[[ 0  1  2  3  4]\n",
      "  [ 5  6  7  8  9]]\n",
      "\n",
      " [[10 11 12 13 14]\n",
      "  [15 16 17 18 19]]\n",
      "\n",
      " [[20 21 22 23 24]\n",
      "  [25 26 27 28 29]]]\n"
     ]
    },
    {
     "data": {
      "text/plain": [
       "array([ 0,  1,  2,  3,  4,  5,  6,  7,  8,  9, 10, 11, 12, 13, 14, 15, 16,\n",
       "       17, 18, 19, 20, 21, 22, 23, 24, 25, 26, 27, 28, 29])"
      ]
     },
     "execution_count": 3,
     "metadata": {
      "tags": []
     },
     "output_type": "execute_result"
    }
   ],
   "source": [
    "# A.\n",
    "arr3d = np.arange(30).reshape(3,2,5)\n",
    "print(arr3d)\n",
    "arr1d = arr3d.reshape(-1,)\n",
    "arr1d"
   ]
  },
  {
   "cell_type": "markdown",
   "metadata": {
    "id": "rUH1MC13HC-P"
   },
   "source": [
    "### Q4. array2d에서 인덱스를 이용해서 값을 선택하고 리스트로 아래와 같이 출력하세요.\n",
    "arr2d = np.arange(1,10).reshape(3,3)\n",
    "\n",
    "[3, 6]  \n",
    "\n",
    "[[1, 2],  \n",
    "[4, 5]]\n",
    "\n",
    "[[1, 2, 3]  \n",
    "[4, 5, 6]]"
   ]
  },
  {
   "cell_type": "code",
   "execution_count": null,
   "metadata": {
    "colab": {
     "base_uri": "https://localhost:8080/"
    },
    "executionInfo": {
     "elapsed": 296,
     "status": "ok",
     "timestamp": 1626939164958,
     "user": {
      "displayName": "kevin park",
      "photoUrl": "",
      "userId": "02703084888761299921"
     },
     "user_tz": -540
    },
    "id": "NCmXog0iHC-P",
    "outputId": "6975a091-cb2d-4d2f-b96e-0caa7a6a656b"
   },
   "outputs": [
    {
     "name": "stdout",
     "output_type": "stream",
     "text": [
      "[[1 2 3]\n",
      " [4 5 6]\n",
      " [7 8 9]]\n",
      "[3 6]\n",
      "[[1 2]\n",
      " [4 5]]\n",
      "[[1 2 3]\n",
      " [4 5 6]]\n"
     ]
    }
   ],
   "source": [
    "# A.\n",
    "arr2d = np.arange(1,10).reshape(3,3)\n",
    "print(arr2d)\n",
    "print(arr2d[[0,1],2])\n",
    "print(arr2d[[0,1],0:2])\n",
    "print(arr2d[[0,1],:])"
   ]
  },
  {
   "cell_type": "markdown",
   "metadata": {
    "id": "eDxJ0qSWHC-P"
   },
   "source": [
    "### Q5. 아래 두행렬을 np.arange, reshape를 이용해서 생성 각각 a1, b1으로 저장하고 행렬 내적을 계산한 결과를 출력하세요.\n",
    "\n",
    "[[1 2 3]  \n",
    " [4 5 6]  \n",
    " [7 8 9]]\n",
    "\n",
    "[[10 11 12]  \n",
    " [13 14 15]  \n",
    " [16 17 18]]"
   ]
  },
  {
   "cell_type": "code",
   "execution_count": null,
   "metadata": {
    "colab": {
     "base_uri": "https://localhost:8080/"
    },
    "executionInfo": {
     "elapsed": 286,
     "status": "ok",
     "timestamp": 1626941851442,
     "user": {
      "displayName": "kevin park",
      "photoUrl": "",
      "userId": "02703084888761299921"
     },
     "user_tz": -540
    },
    "id": "G6C-9TwtHC-Q",
    "outputId": "73a9c336-59dc-4466-8cd4-9b2a10cf5b49"
   },
   "outputs": [
    {
     "name": "stdout",
     "output_type": "stream",
     "text": [
      "[[1 2 3]\n",
      " [4 5 6]\n",
      " [7 8 9]] \n",
      "\n",
      "[[10 11 12]\n",
      " [13 14 15]\n",
      " [16 17 18]] \n",
      "\n",
      "[[ 84  90  96]\n",
      " [201 216 231]\n",
      " [318 342 366]]\n"
     ]
    }
   ],
   "source": [
    "# A.\n",
    "import numpy as np\n",
    "a = np.arange(1, 10).reshape(3,3)\n",
    "b = np.arange(10, 19).reshape(3,3)\n",
    "ab_product = np.dot(a,b)\n",
    "print(a,'\\n')\n",
    "print(b,'\\n')\n",
    "print(ab_product)"
   ]
  },
  {
   "cell_type": "markdown",
   "metadata": {
    "id": "BpyEMQN4KHGV"
   },
   "source": [
    "### Q6. ar의 역행렬을 출력하고 검증을 수행하세요."
   ]
  },
  {
   "cell_type": "code",
   "execution_count": null,
   "metadata": {
    "colab": {
     "base_uri": "https://localhost:8080/"
    },
    "executionInfo": {
     "elapsed": 288,
     "status": "ok",
     "timestamp": 1626942071071,
     "user": {
      "displayName": "kevin park",
      "photoUrl": "",
      "userId": "02703084888761299921"
     },
     "user_tz": -540
    },
    "id": "ZGaut0JELlbO",
    "outputId": "5db944e8-53f2-483f-ccc8-902f334b604e"
   },
   "outputs": [
    {
     "data": {
      "text/plain": [
       "array([[2, 1, 1],\n",
       "       [2, 2, 1],\n",
       "       [1, 2, 1]])"
      ]
     },
     "execution_count": 28,
     "metadata": {
      "tags": []
     },
     "output_type": "execute_result"
    }
   ],
   "source": [
    "np.random.seed(1)\n",
    "ar = np.random.randint(1,4,size=(3,3))\n",
    "ar"
   ]
  },
  {
   "cell_type": "code",
   "execution_count": null,
   "metadata": {
    "colab": {
     "base_uri": "https://localhost:8080/"
    },
    "executionInfo": {
     "elapsed": 318,
     "status": "ok",
     "timestamp": 1626942115789,
     "user": {
      "displayName": "kevin park",
      "photoUrl": "",
      "userId": "02703084888761299921"
     },
     "user_tz": -540
    },
    "id": "-FiweSFvIvlz",
    "outputId": "16fb0cc7-4542-4227-b5d7-4ee3bf61eed4"
   },
   "outputs": [
    {
     "name": "stdout",
     "output_type": "stream",
     "text": [
      "[[-3.33066907e-16  1.00000000e+00 -1.00000000e+00]\n",
      " [-1.00000000e+00  1.00000000e+00 -1.48029737e-16]\n",
      " [ 2.00000000e+00 -3.00000000e+00  2.00000000e+00]] \n",
      "\n"
     ]
    },
    {
     "data": {
      "text/plain": [
       "array([[ 1.0000000e+00,  0.0000000e+00,  0.0000000e+00],\n",
       "       [ 0.0000000e+00,  1.0000000e+00, -4.4408921e-16],\n",
       "       [ 0.0000000e+00,  0.0000000e+00,  1.0000000e+00]])"
      ]
     },
     "execution_count": 29,
     "metadata": {
      "tags": []
     },
     "output_type": "execute_result"
    }
   ],
   "source": [
    "# A.\n",
    "rar = np.linalg.inv(ar)\n",
    "print(rar,'\\n')\n",
    "np.dot(ar,rar)"
   ]
  },
  {
   "cell_type": "markdown",
   "metadata": {
    "id": "TROM0oGHHC-Q"
   },
   "source": [
    "### Q7. 10 ~ 20 사이의 정수 난수로 10행 5열 2차원 배열을 생성하고 저장한 후 다시 불러내서 출력하세요."
   ]
  },
  {
   "cell_type": "code",
   "execution_count": null,
   "metadata": {
    "colab": {
     "base_uri": "https://localhost:8080/"
    },
    "executionInfo": {
     "elapsed": 348,
     "status": "ok",
     "timestamp": 1626942581409,
     "user": {
      "displayName": "kevin park",
      "photoUrl": "",
      "userId": "02703084888761299921"
     },
     "user_tz": -540
    },
    "id": "0bXi8uC1HC-Q",
    "outputId": "6e0b1ce8-4068-433b-ea8b-286c137ebf97"
   },
   "outputs": [
    {
     "data": {
      "text/plain": [
       "array([[15, 10, 13, 13, 17],\n",
       "       [19, 13, 15, 12, 14],\n",
       "       [17, 16, 18, 18, 11],\n",
       "       [16, 17, 17, 18, 11],\n",
       "       [15, 19, 18, 19, 14],\n",
       "       [13, 10, 13, 15, 10],\n",
       "       [12, 13, 18, 11, 13],\n",
       "       [13, 13, 17, 10, 11],\n",
       "       [19, 19, 10, 14, 17],\n",
       "       [13, 12, 17, 12, 10]])"
      ]
     },
     "execution_count": 31,
     "metadata": {
      "tags": []
     },
     "output_type": "execute_result"
    }
   ],
   "source": [
    "# A.\n",
    "import numpy as np\n",
    "import pandas as pd\n",
    "np.random.seed(0)\n",
    "ar = np.random.randint(10,20,size=(10,5))\n",
    "np.save('ar_test',ar)\n",
    "np.load('ar_test.npy')"
   ]
  },
  {
   "cell_type": "markdown",
   "metadata": {
    "id": "a84R9HqSHC-R"
   },
   "source": [
    "### Q8. df = sns.load_dataset('titanic')로 불러와서 다음 작업을 수행한 후 출력하세요.\n",
    "- 전체 칼럼중 'survived'외에 모든 칼럼을 포함한 df_x를 산출한 후 dataset/df_x.pkl로 저장한다.\n",
    "- df_x.pkl을 데이터프레임 df_x 이름으로 불러온 후 앞 5개 행을 출력한다. "
   ]
  },
  {
   "cell_type": "code",
   "execution_count": null,
   "metadata": {
    "id": "zYJnMlY7HC-R",
    "outputId": "932376d5-dba0-4ca9-c6bd-1ca606369636"
   },
   "outputs": [
    {
     "data": {
      "text/html": [
       "<div>\n",
       "<style scoped>\n",
       "    .dataframe tbody tr th:only-of-type {\n",
       "        vertical-align: middle;\n",
       "    }\n",
       "\n",
       "    .dataframe tbody tr th {\n",
       "        vertical-align: top;\n",
       "    }\n",
       "\n",
       "    .dataframe thead th {\n",
       "        text-align: right;\n",
       "    }\n",
       "</style>\n",
       "<table border=\"1\" class=\"dataframe\">\n",
       "  <thead>\n",
       "    <tr style=\"text-align: right;\">\n",
       "      <th></th>\n",
       "      <th>pclass</th>\n",
       "      <th>sex</th>\n",
       "      <th>age</th>\n",
       "      <th>sibsp</th>\n",
       "      <th>parch</th>\n",
       "      <th>fare</th>\n",
       "      <th>embarked</th>\n",
       "      <th>class</th>\n",
       "      <th>who</th>\n",
       "      <th>adult_male</th>\n",
       "      <th>deck</th>\n",
       "      <th>embark_town</th>\n",
       "      <th>alive</th>\n",
       "      <th>alone</th>\n",
       "    </tr>\n",
       "  </thead>\n",
       "  <tbody>\n",
       "    <tr>\n",
       "      <th>0</th>\n",
       "      <td>3</td>\n",
       "      <td>male</td>\n",
       "      <td>22.0</td>\n",
       "      <td>1</td>\n",
       "      <td>0</td>\n",
       "      <td>7.2500</td>\n",
       "      <td>S</td>\n",
       "      <td>Third</td>\n",
       "      <td>man</td>\n",
       "      <td>True</td>\n",
       "      <td>NaN</td>\n",
       "      <td>Southampton</td>\n",
       "      <td>no</td>\n",
       "      <td>False</td>\n",
       "    </tr>\n",
       "    <tr>\n",
       "      <th>1</th>\n",
       "      <td>1</td>\n",
       "      <td>female</td>\n",
       "      <td>38.0</td>\n",
       "      <td>1</td>\n",
       "      <td>0</td>\n",
       "      <td>71.2833</td>\n",
       "      <td>C</td>\n",
       "      <td>First</td>\n",
       "      <td>woman</td>\n",
       "      <td>False</td>\n",
       "      <td>C</td>\n",
       "      <td>Cherbourg</td>\n",
       "      <td>yes</td>\n",
       "      <td>False</td>\n",
       "    </tr>\n",
       "    <tr>\n",
       "      <th>2</th>\n",
       "      <td>3</td>\n",
       "      <td>female</td>\n",
       "      <td>26.0</td>\n",
       "      <td>0</td>\n",
       "      <td>0</td>\n",
       "      <td>7.9250</td>\n",
       "      <td>S</td>\n",
       "      <td>Third</td>\n",
       "      <td>woman</td>\n",
       "      <td>False</td>\n",
       "      <td>NaN</td>\n",
       "      <td>Southampton</td>\n",
       "      <td>yes</td>\n",
       "      <td>True</td>\n",
       "    </tr>\n",
       "    <tr>\n",
       "      <th>3</th>\n",
       "      <td>1</td>\n",
       "      <td>female</td>\n",
       "      <td>35.0</td>\n",
       "      <td>1</td>\n",
       "      <td>0</td>\n",
       "      <td>53.1000</td>\n",
       "      <td>S</td>\n",
       "      <td>First</td>\n",
       "      <td>woman</td>\n",
       "      <td>False</td>\n",
       "      <td>C</td>\n",
       "      <td>Southampton</td>\n",
       "      <td>yes</td>\n",
       "      <td>False</td>\n",
       "    </tr>\n",
       "    <tr>\n",
       "      <th>4</th>\n",
       "      <td>3</td>\n",
       "      <td>male</td>\n",
       "      <td>35.0</td>\n",
       "      <td>0</td>\n",
       "      <td>0</td>\n",
       "      <td>8.0500</td>\n",
       "      <td>S</td>\n",
       "      <td>Third</td>\n",
       "      <td>man</td>\n",
       "      <td>True</td>\n",
       "      <td>NaN</td>\n",
       "      <td>Southampton</td>\n",
       "      <td>no</td>\n",
       "      <td>True</td>\n",
       "    </tr>\n",
       "  </tbody>\n",
       "</table>\n",
       "</div>"
      ],
      "text/plain": [
       "   pclass     sex   age  sibsp  parch     fare embarked  class    who  \\\n",
       "0       3    male  22.0      1      0   7.2500        S  Third    man   \n",
       "1       1  female  38.0      1      0  71.2833        C  First  woman   \n",
       "2       3  female  26.0      0      0   7.9250        S  Third  woman   \n",
       "3       1  female  35.0      1      0  53.1000        S  First  woman   \n",
       "4       3    male  35.0      0      0   8.0500        S  Third    man   \n",
       "\n",
       "   adult_male deck  embark_town alive  alone  \n",
       "0        True  NaN  Southampton    no  False  \n",
       "1       False    C    Cherbourg   yes  False  \n",
       "2       False  NaN  Southampton   yes   True  \n",
       "3       False    C  Southampton   yes  False  \n",
       "4        True  NaN  Southampton    no   True  "
      ]
     },
     "execution_count": 2,
     "metadata": {
      "tags": []
     },
     "output_type": "execute_result"
    }
   ],
   "source": [
    "# A.\n",
    "import seaborn as sns\n",
    "import pandas as pd\n",
    "\n",
    "# titanic 데이터셋 가져오기\n",
    "df = sns.load_dataset('titanic')\n",
    "df_x = df.drop('survived',axis=1)\n",
    "df_x.to_pickle('dataset/df_x.pkl')\n",
    "df_x = pd.read_pickle('dataset/df_x.pkl')\n",
    "df_x.head()"
   ]
  },
  {
   "cell_type": "code",
   "execution_count": null,
   "metadata": {
    "id": "FqrtYVKDdKe_"
   },
   "outputs": [],
   "source": [
    "from google.colab import drive\n",
    "drive.mount('/content/drive')"
   ]
  },
  {
   "cell_type": "markdown",
   "metadata": {
    "id": "mISN4DIwHC-R"
   },
   "source": [
    "### Q9. df = sns.load_dataset('titanic')로 불러와서 deck 열에서 NaN 갯수를 계산하세요."
   ]
  },
  {
   "cell_type": "code",
   "execution_count": null,
   "metadata": {
    "id": "wyhPJQEEHC-R",
    "outputId": "79206e09-a730-4602-f9d7-623e81f02240"
   },
   "outputs": [
    {
     "name": "stdout",
     "output_type": "stream",
     "text": [
      "688\n"
     ]
    }
   ],
   "source": [
    "# A.\n",
    "# deck 열의 NaN 개수 계산하기\n",
    "df = sns.load_dataset('titanic')\n",
    "print(df['deck'].isnull().sum(axis=0))"
   ]
  },
  {
   "cell_type": "markdown",
   "metadata": {
    "id": "M1XTNSYAHC-S"
   },
   "source": [
    "### Q10. Q9의 df에서 각 칼럼별 null 개수와 df 전체의 null 개수를 구하세요."
   ]
  },
  {
   "cell_type": "code",
   "execution_count": null,
   "metadata": {
    "id": "i2mM1AmDHC-S",
    "outputId": "e09b4866-4740-4614-d66e-c2f08dfbd031"
   },
   "outputs": [
    {
     "name": "stdout",
     "output_type": "stream",
     "text": [
      "survived         0\n",
      "pclass           0\n",
      "sex              0\n",
      "age            177\n",
      "sibsp            0\n",
      "parch            0\n",
      "fare             0\n",
      "embarked         2\n",
      "class            0\n",
      "who              0\n",
      "adult_male       0\n",
      "deck           688\n",
      "embark_town      2\n",
      "alive            0\n",
      "alone            0\n",
      "dtype: int64\n",
      "\n",
      "869\n"
     ]
    }
   ],
   "source": [
    "# A.\n",
    "# 각 칼럼별 null 개수\n",
    "print(df.isnull().sum())\n",
    "print()\n",
    "print(df.isnull().sum(axis=0).sum())"
   ]
  },
  {
   "cell_type": "markdown",
   "metadata": {
    "id": "2gFbo5rvHC-S"
   },
   "source": [
    "### 아래 tdf 데이터프레임에서 Q11 ~ Q12 작업을 수행하세요."
   ]
  },
  {
   "cell_type": "code",
   "execution_count": null,
   "metadata": {
    "colab": {
     "base_uri": "https://localhost:8080/",
     "height": 204
    },
    "executionInfo": {
     "elapsed": 273,
     "status": "ok",
     "timestamp": 1626942724924,
     "user": {
      "displayName": "kevin park",
      "photoUrl": "",
      "userId": "02703084888761299921"
     },
     "user_tz": -540
    },
    "id": "a7UJRdh9HC-S",
    "outputId": "e367193b-e150-4ed2-d475-73e95a5fab2f"
   },
   "outputs": [
    {
     "data": {
      "text/html": [
       "<div>\n",
       "<style scoped>\n",
       "    .dataframe tbody tr th:only-of-type {\n",
       "        vertical-align: middle;\n",
       "    }\n",
       "\n",
       "    .dataframe tbody tr th {\n",
       "        vertical-align: top;\n",
       "    }\n",
       "\n",
       "    .dataframe thead th {\n",
       "        text-align: right;\n",
       "    }\n",
       "</style>\n",
       "<table border=\"1\" class=\"dataframe\">\n",
       "  <thead>\n",
       "    <tr style=\"text-align: right;\">\n",
       "      <th></th>\n",
       "      <th>survived</th>\n",
       "      <th>sex</th>\n",
       "      <th>age</th>\n",
       "      <th>class</th>\n",
       "    </tr>\n",
       "  </thead>\n",
       "  <tbody>\n",
       "    <tr>\n",
       "      <th>0</th>\n",
       "      <td>0</td>\n",
       "      <td>male</td>\n",
       "      <td>22.0</td>\n",
       "      <td>Third</td>\n",
       "    </tr>\n",
       "    <tr>\n",
       "      <th>1</th>\n",
       "      <td>1</td>\n",
       "      <td>female</td>\n",
       "      <td>38.0</td>\n",
       "      <td>First</td>\n",
       "    </tr>\n",
       "    <tr>\n",
       "      <th>2</th>\n",
       "      <td>1</td>\n",
       "      <td>female</td>\n",
       "      <td>26.0</td>\n",
       "      <td>Third</td>\n",
       "    </tr>\n",
       "    <tr>\n",
       "      <th>3</th>\n",
       "      <td>1</td>\n",
       "      <td>female</td>\n",
       "      <td>35.0</td>\n",
       "      <td>First</td>\n",
       "    </tr>\n",
       "    <tr>\n",
       "      <th>4</th>\n",
       "      <td>0</td>\n",
       "      <td>male</td>\n",
       "      <td>35.0</td>\n",
       "      <td>Third</td>\n",
       "    </tr>\n",
       "  </tbody>\n",
       "</table>\n",
       "</div>"
      ],
      "text/plain": [
       "   survived     sex   age  class\n",
       "0         0    male  22.0  Third\n",
       "1         1  female  38.0  First\n",
       "2         1  female  26.0  Third\n",
       "3         1  female  35.0  First\n",
       "4         0    male  35.0  Third"
      ]
     },
     "execution_count": 35,
     "metadata": {
      "tags": []
     },
     "output_type": "execute_result"
    }
   ],
   "source": [
    "import seaborn as sns\n",
    "df = sns.load_dataset('titanic')\n",
    "tdf = df[['survived','sex','age','class']]\n",
    "tdf.head()"
   ]
  },
  {
   "cell_type": "markdown",
   "metadata": {
    "id": "MCvmynmrHC-S"
   },
   "source": [
    "### Q11. age를 7개 카테고리로 구분하는 새로운 칼럼 'cat_age'를 생성하여 출력하세요. 단, 카테고리 구분을 수행하는 사용자 함수를 만들고 그 함수를 age 칼럼에 매핑하여 결과를 tdf1에 저장하고 출력하세요.\n",
    "\n",
    "[카테고리]  \n",
    "age <= 5: cat = 'Baby'  \n",
    "age <= 12: cat = 'Child'  \n",
    "age <= 18: cat = 'Teenager'  \n",
    "age <= 25: cat = 'Student'  \n",
    "age <= 60: cat = 'Adult'  \n",
    "age > 60 : cat = 'Elderly'"
   ]
  },
  {
   "cell_type": "code",
   "execution_count": null,
   "metadata": {
    "colab": {
     "base_uri": "https://localhost:8080/",
     "height": 204
    },
    "executionInfo": {
     "elapsed": 262,
     "status": "ok",
     "timestamp": 1626942732799,
     "user": {
      "displayName": "kevin park",
      "photoUrl": "",
      "userId": "02703084888761299921"
     },
     "user_tz": -540
    },
    "id": "ZRaNwJKjHC-T",
    "outputId": "bff0e457-81f1-496c-83dd-b10632860c38"
   },
   "outputs": [
    {
     "data": {
      "text/html": [
       "<div>\n",
       "<style scoped>\n",
       "    .dataframe tbody tr th:only-of-type {\n",
       "        vertical-align: middle;\n",
       "    }\n",
       "\n",
       "    .dataframe tbody tr th {\n",
       "        vertical-align: top;\n",
       "    }\n",
       "\n",
       "    .dataframe thead th {\n",
       "        text-align: right;\n",
       "    }\n",
       "</style>\n",
       "<table border=\"1\" class=\"dataframe\">\n",
       "  <thead>\n",
       "    <tr style=\"text-align: right;\">\n",
       "      <th></th>\n",
       "      <th>survived</th>\n",
       "      <th>sex</th>\n",
       "      <th>age</th>\n",
       "      <th>class</th>\n",
       "      <th>age_cat</th>\n",
       "    </tr>\n",
       "  </thead>\n",
       "  <tbody>\n",
       "    <tr>\n",
       "      <th>0</th>\n",
       "      <td>0</td>\n",
       "      <td>male</td>\n",
       "      <td>22.0</td>\n",
       "      <td>Third</td>\n",
       "      <td>Student</td>\n",
       "    </tr>\n",
       "    <tr>\n",
       "      <th>1</th>\n",
       "      <td>1</td>\n",
       "      <td>female</td>\n",
       "      <td>38.0</td>\n",
       "      <td>First</td>\n",
       "      <td>Adult</td>\n",
       "    </tr>\n",
       "    <tr>\n",
       "      <th>2</th>\n",
       "      <td>1</td>\n",
       "      <td>female</td>\n",
       "      <td>26.0</td>\n",
       "      <td>Third</td>\n",
       "      <td>Young Adult</td>\n",
       "    </tr>\n",
       "    <tr>\n",
       "      <th>3</th>\n",
       "      <td>1</td>\n",
       "      <td>female</td>\n",
       "      <td>35.0</td>\n",
       "      <td>First</td>\n",
       "      <td>Young Adult</td>\n",
       "    </tr>\n",
       "    <tr>\n",
       "      <th>4</th>\n",
       "      <td>0</td>\n",
       "      <td>male</td>\n",
       "      <td>35.0</td>\n",
       "      <td>Third</td>\n",
       "      <td>Young Adult</td>\n",
       "    </tr>\n",
       "  </tbody>\n",
       "</table>\n",
       "</div>"
      ],
      "text/plain": [
       "   survived     sex   age  class      age_cat\n",
       "0         0    male  22.0  Third      Student\n",
       "1         1  female  38.0  First        Adult\n",
       "2         1  female  26.0  Third  Young Adult\n",
       "3         1  female  35.0  First  Young Adult\n",
       "4         0    male  35.0  Third  Young Adult"
      ]
     },
     "execution_count": 36,
     "metadata": {
      "tags": []
     },
     "output_type": "execute_result"
    }
   ],
   "source": [
    "# A.\n",
    "def cat_age(x):\n",
    "    cat = ''\n",
    "    if x <= 5: cat = 'Baby'\n",
    "    elif x <= 12: cat = 'Child'\n",
    "    elif x <= 18: cat = 'Teenager'\n",
    "    elif x <= 25: cat = 'Student'\n",
    "    elif x <= 35: cat = 'Young Adult'\n",
    "    elif x <= 60: cat = 'Adult'\n",
    "    else : cat = 'Elderly'\n",
    "    \n",
    "    return cat\n",
    "\n",
    "tdf1 = tdf.copy()    \n",
    "tdf1['age_cat'] = tdf.age.apply(cat_age)\n",
    "\n",
    "tdf1.head()"
   ]
  },
  {
   "cell_type": "markdown",
   "metadata": {
    "id": "McORiK0HHC-T"
   },
   "source": [
    "### Q12.  tdf1의 sex, class 칼럼을 '_'으로 연결한 'sc'칼럼을 추가한 후 아래와 같이 출력하세요.\n",
    "\n"
   ]
  },
  {
   "cell_type": "code",
   "execution_count": null,
   "metadata": {
    "id": "9jtLDupvHC-T"
   },
   "outputs": [],
   "source": [
    "# 출력 결과     \n"
   ]
  },
  {
   "cell_type": "code",
   "execution_count": null,
   "metadata": {
    "colab": {
     "base_uri": "https://localhost:8080/",
     "height": 204
    },
    "executionInfo": {
     "elapsed": 303,
     "status": "ok",
     "timestamp": 1626942738982,
     "user": {
      "displayName": "kevin park",
      "photoUrl": "",
      "userId": "02703084888761299921"
     },
     "user_tz": -540
    },
    "id": "cKip9WLvHC-T",
    "outputId": "e555d35a-6ef1-4cdd-e25e-eba8df05d022"
   },
   "outputs": [
    {
     "data": {
      "text/html": [
       "<div>\n",
       "<style scoped>\n",
       "    .dataframe tbody tr th:only-of-type {\n",
       "        vertical-align: middle;\n",
       "    }\n",
       "\n",
       "    .dataframe tbody tr th {\n",
       "        vertical-align: top;\n",
       "    }\n",
       "\n",
       "    .dataframe thead th {\n",
       "        text-align: right;\n",
       "    }\n",
       "</style>\n",
       "<table border=\"1\" class=\"dataframe\">\n",
       "  <thead>\n",
       "    <tr style=\"text-align: right;\">\n",
       "      <th></th>\n",
       "      <th>survived</th>\n",
       "      <th>sex</th>\n",
       "      <th>age</th>\n",
       "      <th>class</th>\n",
       "      <th>age_cat</th>\n",
       "      <th>sc</th>\n",
       "    </tr>\n",
       "  </thead>\n",
       "  <tbody>\n",
       "    <tr>\n",
       "      <th>0</th>\n",
       "      <td>0</td>\n",
       "      <td>male</td>\n",
       "      <td>22.0</td>\n",
       "      <td>Third</td>\n",
       "      <td>Student</td>\n",
       "      <td>male_Third</td>\n",
       "    </tr>\n",
       "    <tr>\n",
       "      <th>1</th>\n",
       "      <td>1</td>\n",
       "      <td>female</td>\n",
       "      <td>38.0</td>\n",
       "      <td>First</td>\n",
       "      <td>Adult</td>\n",
       "      <td>female_First</td>\n",
       "    </tr>\n",
       "    <tr>\n",
       "      <th>2</th>\n",
       "      <td>1</td>\n",
       "      <td>female</td>\n",
       "      <td>26.0</td>\n",
       "      <td>Third</td>\n",
       "      <td>Young Adult</td>\n",
       "      <td>female_Third</td>\n",
       "    </tr>\n",
       "    <tr>\n",
       "      <th>3</th>\n",
       "      <td>1</td>\n",
       "      <td>female</td>\n",
       "      <td>35.0</td>\n",
       "      <td>First</td>\n",
       "      <td>Young Adult</td>\n",
       "      <td>female_First</td>\n",
       "    </tr>\n",
       "    <tr>\n",
       "      <th>4</th>\n",
       "      <td>0</td>\n",
       "      <td>male</td>\n",
       "      <td>35.0</td>\n",
       "      <td>Third</td>\n",
       "      <td>Young Adult</td>\n",
       "      <td>male_Third</td>\n",
       "    </tr>\n",
       "  </tbody>\n",
       "</table>\n",
       "</div>"
      ],
      "text/plain": [
       "   survived     sex   age  class      age_cat            sc\n",
       "0         0    male  22.0  Third      Student    male_Third\n",
       "1         1  female  38.0  First        Adult  female_First\n",
       "2         1  female  26.0  Third  Young Adult  female_Third\n",
       "3         1  female  35.0  First  Young Adult  female_First\n",
       "4         0    male  35.0  Third  Young Adult    male_Third"
      ]
     },
     "execution_count": 37,
     "metadata": {
      "tags": []
     },
     "output_type": "execute_result"
    }
   ],
   "source": [
    "# A.\n",
    "\n",
    "tdf1['sc'] = tdf1[['sex','class']].agg('_'.join,axis=1)\n",
    "tdf1.head()"
   ]
  },
  {
   "cell_type": "markdown",
   "metadata": {
    "id": "NygJ96xhHC-T"
   },
   "source": [
    "### Q13. join() 메소드는 두 데이터프레임의 행 인덱스를 기준으로 결합한다. 2개의 주식데이터를 가져와서 join() 메소드로 아래와 같이 결합한 후 다음 사항을 수행하세요.\n",
    "- df1과 df2의 교집합만 출력되도록 결합하여 df4에 저장하고 출력\n",
    "- df4에서 중복된 칼럼을 삭제한 후 블린 인덱싱을 이용하여 eps가 3000 보다 적거나 stock_name이 이마트인 데이터를 선택하여 데이터프레임을 생성하고 df5 이름으로 저장 및 출력하세요.(단, '<' 와 '==' 를 반드시 사용해야 함)"
   ]
  },
  {
   "cell_type": "code",
   "execution_count": null,
   "metadata": {
    "colab": {
     "base_uri": "https://localhost:8080/",
     "height": 322
    },
    "executionInfo": {
     "elapsed": 961,
     "status": "ok",
     "timestamp": 1626942933121,
     "user": {
      "displayName": "kevin park",
      "photoUrl": "",
      "userId": "02703084888761299921"
     },
     "user_tz": -540
    },
    "id": "frajrZIaHC-U",
    "outputId": "d897fa25-c1fb-40b5-ffb4-810d1dc8e2b1"
   },
   "outputs": [
    {
     "name": "stdout",
     "output_type": "stream",
     "text": [
      "       stock_name          value   price  ...     bps        per       pbr\n",
      "id                                        ...                             \n",
      "130960     CJ E&M   58540.666667   98900  ...   54068  15.695091  1.829178\n",
      "139480        이마트  239230.833333  254500  ...  295780  13.931338  0.860437\n",
      "145990        삼양사   82750.000000   82000  ...  108090  14.283226  0.758627\n",
      "185750        종근당   40293.666667  100500  ...   40684  25.185866  2.470259\n",
      "204210     모두투어리츠    3093.333333    3475  ...    5335  40.802348  0.651359\n",
      "\n",
      "[5 rows x 8 columns]\n",
      "\n"
     ]
    },
    {
     "data": {
      "text/html": [
       "<div>\n",
       "<style scoped>\n",
       "    .dataframe tbody tr th:only-of-type {\n",
       "        vertical-align: middle;\n",
       "    }\n",
       "\n",
       "    .dataframe tbody tr th {\n",
       "        vertical-align: top;\n",
       "    }\n",
       "\n",
       "    .dataframe thead th {\n",
       "        text-align: right;\n",
       "    }\n",
       "</style>\n",
       "<table border=\"1\" class=\"dataframe\">\n",
       "  <thead>\n",
       "    <tr style=\"text-align: right;\">\n",
       "      <th></th>\n",
       "      <th>stock_name</th>\n",
       "      <th>value</th>\n",
       "      <th>price</th>\n",
       "      <th>eps</th>\n",
       "      <th>bps</th>\n",
       "      <th>per</th>\n",
       "      <th>pbr</th>\n",
       "    </tr>\n",
       "    <tr>\n",
       "      <th>id</th>\n",
       "      <th></th>\n",
       "      <th></th>\n",
       "      <th></th>\n",
       "      <th></th>\n",
       "      <th></th>\n",
       "      <th></th>\n",
       "      <th></th>\n",
       "    </tr>\n",
       "  </thead>\n",
       "  <tbody>\n",
       "    <tr>\n",
       "      <th>139480</th>\n",
       "      <td>이마트</td>\n",
       "      <td>239230.833333</td>\n",
       "      <td>254500</td>\n",
       "      <td>18268.166667</td>\n",
       "      <td>295780</td>\n",
       "      <td>13.931338</td>\n",
       "      <td>0.860437</td>\n",
       "    </tr>\n",
       "    <tr>\n",
       "      <th>204210</th>\n",
       "      <td>모두투어리츠</td>\n",
       "      <td>3093.333333</td>\n",
       "      <td>3475</td>\n",
       "      <td>85.166667</td>\n",
       "      <td>5335</td>\n",
       "      <td>40.802348</td>\n",
       "      <td>0.651359</td>\n",
       "    </tr>\n",
       "  </tbody>\n",
       "</table>\n",
       "</div>"
      ],
      "text/plain": [
       "       stock_name          value   price  ...     bps        per       pbr\n",
       "id                                        ...                             \n",
       "139480        이마트  239230.833333  254500  ...  295780  13.931338  0.860437\n",
       "204210     모두투어리츠    3093.333333    3475  ...    5335  40.802348  0.651359\n",
       "\n",
       "[2 rows x 7 columns]"
      ]
     },
     "execution_count": 38,
     "metadata": {
      "tags": []
     },
     "output_type": "execute_result"
    }
   ],
   "source": [
    "# A.\n",
    "\n",
    "df1 = pd.read_excel('drive/MyDrive/cakd3_lecturer/강의/library/pandas/dataset/stock price.xlsx', index_col='id')\n",
    "df2 = pd.read_excel('drive/MyDrive/cakd3_lecturer/강의/library/pandas//dataset/stock valuation.xlsx', index_col='id')\n",
    "df4 = df1.join(df2, how='inner')\n",
    "print(df4)\n",
    "print()\n",
    "df4.drop('name', axis=1, inplace=True)\n",
    "\n",
    "df5 = df4[(df4['eps'] < 3000) | (df4['stock_name'] == '이마트')]\n",
    "df5"
   ]
  },
  {
   "cell_type": "markdown",
   "metadata": {
    "id": "rSUhVfl0HC-U"
   },
   "source": [
    "### Q14. 아래 df에서 drop_duplicates() 메소드를 사용하여 c4, c5열을 기준으로 중복 행을 제거한 후 df3에 저장하고 출력하세요."
   ]
  },
  {
   "cell_type": "code",
   "execution_count": null,
   "metadata": {
    "colab": {
     "base_uri": "https://localhost:8080/"
    },
    "executionInfo": {
     "elapsed": 276,
     "status": "ok",
     "timestamp": 1626943050031,
     "user": {
      "displayName": "kevin park",
      "photoUrl": "",
      "userId": "02703084888761299921"
     },
     "user_tz": -540
    },
    "id": "nUP4c3BaHC-U",
    "outputId": "4192ffe6-b3dc-4825-ef47-742be174b1e5"
   },
   "outputs": [
    {
     "name": "stdout",
     "output_type": "stream",
     "text": [
      "  c1  c2  c3  c4  c5\n",
      "0  a   1   1   1   1\n",
      "1  a   1   1   1   1\n",
      "2  b   1   2   1   2\n",
      "3  a   2   2   2   2\n",
      "4  b   2   2   3   5\n"
     ]
    }
   ],
   "source": [
    "# 중복 데이터를 갖는 데이터프레임 만들기\n",
    "import pandas as pd\n",
    "df = pd.DataFrame({'c1':['a', 'a', 'b', 'a', 'b'],\n",
    "                  'c2':[1, 1, 1, 2, 2],\n",
    "                  'c3':[1, 1, 2, 2, 2],\n",
    "                  'c4':[1, 1, 1, 2, 3],\n",
    "                  'c5':[1, 1, 2, 2, 5]})\n",
    "print(df)"
   ]
  },
  {
   "cell_type": "code",
   "execution_count": null,
   "metadata": {
    "colab": {
     "base_uri": "https://localhost:8080/"
    },
    "executionInfo": {
     "elapsed": 339,
     "status": "ok",
     "timestamp": 1626943130036,
     "user": {
      "displayName": "kevin park",
      "photoUrl": "",
      "userId": "02703084888761299921"
     },
     "user_tz": -540
    },
    "id": "gQVDBNXYHC-U",
    "outputId": "c109cae3-aae6-4aee-91b7-a5a728c1cf2d"
   },
   "outputs": [
    {
     "name": "stdout",
     "output_type": "stream",
     "text": [
      "  c1  c2  c3  c4  c5\n",
      "0  a   1   1   1   1\n",
      "2  b   1   2   1   2\n",
      "3  a   2   2   2   2\n",
      "4  b   2   2   3   5\n"
     ]
    }
   ],
   "source": [
    "# A.\n",
    "# c2, c3열을 기준으로 중복 행을 제거  \n",
    "df3 = df.drop_duplicates(subset=['c4', 'c5'])\n",
    "print(df3)"
   ]
  },
  {
   "cell_type": "markdown",
   "metadata": {
    "id": "u8iEqqkKHC-V"
   },
   "source": [
    "### Q15. 'mpg'를 'kpl' 로 환산하여 새로운 열을 생성하고 반올림하여 소수점 아래 둘째 자리까지 처음 5개행을 출력하세요."
   ]
  },
  {
   "cell_type": "code",
   "execution_count": null,
   "metadata": {
    "colab": {
     "base_uri": "https://localhost:8080/"
    },
    "executionInfo": {
     "elapsed": 734,
     "status": "ok",
     "timestamp": 1626943177078,
     "user": {
      "displayName": "kevin park",
      "photoUrl": "",
      "userId": "02703084888761299921"
     },
     "user_tz": -540
    },
    "id": "4fgY16_0HC-V",
    "outputId": "9c91e967-7201-44be-9800-23c67760114a"
   },
   "outputs": [
    {
     "name": "stdout",
     "output_type": "stream",
     "text": [
      "    mpg  cylinders  displacement  ... model year  origin                       name\n",
      "0  18.0          8         307.0  ...         70       1  chevrolet chevelle malibu\n",
      "1  15.0          8         350.0  ...         70       1          buick skylark 320\n",
      "2  18.0          8         318.0  ...         70       1         plymouth satellite\n",
      "\n",
      "[3 rows x 9 columns]\n"
     ]
    }
   ],
   "source": [
    "# read_csv() 함수로 df 생성\n",
    "import pandas as pd\n",
    "auto_df = pd.read_csv('drive/MyDrive/cakd3_lecturer/강의/library/pandas/dataset/auto-mpg.csv')\n",
    "# 열 이름을 지정\n",
    "auto_df.columns = ['mpg','cylinders','displacement','horsepower','weight',\n",
    "              'acceleration','model year','origin','name'] \n",
    "print(auto_df.head(3)) \n"
   ]
  },
  {
   "cell_type": "code",
   "execution_count": null,
   "metadata": {
    "colab": {
     "base_uri": "https://localhost:8080/"
    },
    "executionInfo": {
     "elapsed": 396,
     "status": "ok",
     "timestamp": 1626943185144,
     "user": {
      "displayName": "kevin park",
      "photoUrl": "",
      "userId": "02703084888761299921"
     },
     "user_tz": -540
    },
    "id": "v-o9s-1QHC-V",
    "outputId": "7aee2773-0143-431f-f0de-bca4dac33d43"
   },
   "outputs": [
    {
     "name": "stdout",
     "output_type": "stream",
     "text": [
      "    mpg  cylinders  displacement  ... origin                       name       kpl\n",
      "0  18.0          8         307.0  ...      1  chevrolet chevelle malibu  7.652571\n",
      "1  15.0          8         350.0  ...      1          buick skylark 320  6.377143\n",
      "2  18.0          8         318.0  ...      1         plymouth satellite  7.652571\n",
      "\n",
      "[3 rows x 10 columns]\n",
      "\n",
      "\n",
      "    mpg  cylinders  displacement  ... origin                       name   kpl\n",
      "0  18.0          8         307.0  ...      1  chevrolet chevelle malibu  7.65\n",
      "1  15.0          8         350.0  ...      1          buick skylark 320  6.38\n",
      "2  18.0          8         318.0  ...      1         plymouth satellite  7.65\n",
      "\n",
      "[3 rows x 10 columns]\n"
     ]
    }
   ],
   "source": [
    "# A.\n",
    "# mpg(mile per gallon)를 kpl(kilometer per liter)로 변환 (mpg_to_kpl = 0.425)\n",
    "mpg_to_kpl = 1.60934 / 3.78541\n",
    "\n",
    "# mpg 열에 0.425를 곱한 결과를 새로운 열(kpl)에 추가\n",
    "auto_df['kpl'] = auto_df['mpg'] * mpg_to_kpl\n",
    "print(auto_df.head(3))    \n",
    "print('\\n')\n",
    "\n",
    "# kpl 열을 소수점 아래 둘째 자리에서 반올림 \n",
    "auto_df['kpl'] = auto_df['kpl'].round(2)\n",
    "print(auto_df.head(3))     "
   ]
  },
  {
   "cell_type": "markdown",
   "metadata": {
    "id": "bta-sR94HC-V"
   },
   "source": [
    "### Q16. './dataset/stock-data.csv'를 데이터프레임으로 불러와서 datetime64 자료형으로 변환한 후에 년, 월, 일로 분리하고 year를 인덱스로 셋팅하여 출력하세요."
   ]
  },
  {
   "cell_type": "code",
   "execution_count": null,
   "metadata": {
    "colab": {
     "base_uri": "https://localhost:8080/",
     "height": 235
    },
    "executionInfo": {
     "elapsed": 577,
     "status": "ok",
     "timestamp": 1626943209436,
     "user": {
      "displayName": "kevin park",
      "photoUrl": "",
      "userId": "02703084888761299921"
     },
     "user_tz": -540
    },
    "id": "3TyfLR0lHC-V",
    "outputId": "0eff2ffb-38ca-4158-ad81-4eb7ea6fa005"
   },
   "outputs": [
    {
     "data": {
      "text/html": [
       "<div>\n",
       "<style scoped>\n",
       "    .dataframe tbody tr th:only-of-type {\n",
       "        vertical-align: middle;\n",
       "    }\n",
       "\n",
       "    .dataframe tbody tr th {\n",
       "        vertical-align: top;\n",
       "    }\n",
       "\n",
       "    .dataframe thead th {\n",
       "        text-align: right;\n",
       "    }\n",
       "</style>\n",
       "<table border=\"1\" class=\"dataframe\">\n",
       "  <thead>\n",
       "    <tr style=\"text-align: right;\">\n",
       "      <th></th>\n",
       "      <th>Close</th>\n",
       "      <th>Start</th>\n",
       "      <th>High</th>\n",
       "      <th>Low</th>\n",
       "      <th>Volume</th>\n",
       "      <th>new_Date</th>\n",
       "      <th>Month</th>\n",
       "      <th>Day</th>\n",
       "    </tr>\n",
       "    <tr>\n",
       "      <th>Year</th>\n",
       "      <th></th>\n",
       "      <th></th>\n",
       "      <th></th>\n",
       "      <th></th>\n",
       "      <th></th>\n",
       "      <th></th>\n",
       "      <th></th>\n",
       "      <th></th>\n",
       "    </tr>\n",
       "  </thead>\n",
       "  <tbody>\n",
       "    <tr>\n",
       "      <th>2018</th>\n",
       "      <td>10100</td>\n",
       "      <td>10850</td>\n",
       "      <td>10900</td>\n",
       "      <td>10000</td>\n",
       "      <td>137977</td>\n",
       "      <td>2018-07-02</td>\n",
       "      <td>7</td>\n",
       "      <td>2</td>\n",
       "    </tr>\n",
       "    <tr>\n",
       "      <th>2018</th>\n",
       "      <td>10700</td>\n",
       "      <td>10550</td>\n",
       "      <td>10900</td>\n",
       "      <td>9990</td>\n",
       "      <td>170253</td>\n",
       "      <td>2018-06-29</td>\n",
       "      <td>6</td>\n",
       "      <td>29</td>\n",
       "    </tr>\n",
       "    <tr>\n",
       "      <th>2018</th>\n",
       "      <td>10400</td>\n",
       "      <td>10900</td>\n",
       "      <td>10950</td>\n",
       "      <td>10150</td>\n",
       "      <td>155769</td>\n",
       "      <td>2018-06-28</td>\n",
       "      <td>6</td>\n",
       "      <td>28</td>\n",
       "    </tr>\n",
       "    <tr>\n",
       "      <th>2018</th>\n",
       "      <td>10900</td>\n",
       "      <td>10800</td>\n",
       "      <td>11050</td>\n",
       "      <td>10500</td>\n",
       "      <td>133548</td>\n",
       "      <td>2018-06-27</td>\n",
       "      <td>6</td>\n",
       "      <td>27</td>\n",
       "    </tr>\n",
       "    <tr>\n",
       "      <th>2018</th>\n",
       "      <td>10800</td>\n",
       "      <td>10900</td>\n",
       "      <td>11000</td>\n",
       "      <td>10700</td>\n",
       "      <td>63039</td>\n",
       "      <td>2018-06-26</td>\n",
       "      <td>6</td>\n",
       "      <td>26</td>\n",
       "    </tr>\n",
       "  </tbody>\n",
       "</table>\n",
       "</div>"
      ],
      "text/plain": [
       "      Close  Start   High    Low  Volume   new_Date  Month  Day\n",
       "Year                                                           \n",
       "2018  10100  10850  10900  10000  137977 2018-07-02      7    2\n",
       "2018  10700  10550  10900   9990  170253 2018-06-29      6   29\n",
       "2018  10400  10900  10950  10150  155769 2018-06-28      6   28\n",
       "2018  10900  10800  11050  10500  133548 2018-06-27      6   27\n",
       "2018  10800  10900  11000  10700   63039 2018-06-26      6   26"
      ]
     },
     "execution_count": 47,
     "metadata": {
      "tags": []
     },
     "output_type": "execute_result"
    }
   ],
   "source": [
    "# A.\n",
    "# 날짜 데이터 분리\n",
    "\n",
    "import pandas as pd\n",
    "\n",
    "# read_csv() 함수로 파일 읽어와서 df로 변환\n",
    "df = pd.read_csv('drive/MyDrive/cakd3_lecturer/강의/library/pandas/dataset/stock-data.csv')\n",
    "\n",
    "# 문자열인 날짜 데이터를 판다스 Timestamp로 변환\n",
    "df['new_Date'] = pd.to_datetime(df['Date'])   #df에 새로운 열로 추가\n",
    "df.drop('Date',axis=1,inplace=True)\n",
    "\n",
    "# dt 속성을 이용하여 new_Date 열의 년월일 정보를 년, 월, 일로 구분\n",
    "df['Year'] = df['new_Date'].dt.year\n",
    "df['Month'] = df['new_Date'].dt.month\n",
    "df['Day'] = df['new_Date'].dt.day\n",
    "df.set_index('Year',inplace=True)\n",
    "df.head()"
   ]
  },
  {
   "cell_type": "code",
   "execution_count": null,
   "metadata": {
    "id": "3UMllSqyQ63n"
   },
   "outputs": [],
   "source": []
  },
  {
   "cell_type": "markdown",
   "metadata": {
    "id": "TnuzG2UrHC-W"
   },
   "source": [
    "### Q17. titanic 데이터셋에서 5개 열을 선택해서 class열을 기준으로 그룹화를 수행한 후 아래와 같이 출력하였다. 다음 사항을 출력하세요.\n",
    "5개 열 : ['age','sex', 'class', 'fare', 'survived']  \n",
    "- 그룹별 평균 출력\n",
    "- 그룹별 최대값 출력"
   ]
  },
  {
   "cell_type": "code",
   "execution_count": null,
   "metadata": {
    "colab": {
     "base_uri": "https://localhost:8080/"
    },
    "executionInfo": {
     "elapsed": 307,
     "status": "ok",
     "timestamp": 1626943248018,
     "user": {
      "displayName": "kevin park",
      "photoUrl": "",
      "userId": "02703084888761299921"
     },
     "user_tz": -540
    },
    "id": "lu-xANLWHC-W",
    "outputId": "06d74448-e272-491a-f38d-36196db035fe"
   },
   "outputs": [
    {
     "name": "stdout",
     "output_type": "stream",
     "text": [
      "    age     sex  class     fare  survived\n",
      "0  22.0    male  Third   7.2500         0\n",
      "1  38.0  female  First  71.2833         1\n",
      "2  26.0  female  Third   7.9250         1\n",
      "3  35.0  female  First  53.1000         1\n",
      "4  35.0    male  Third   8.0500         0\n",
      "\n",
      "그룹별 평균\n",
      "              age       fare  survived\n",
      "class                                 \n",
      "First   38.233441  84.154687  0.629630\n",
      "Second  29.877630  20.662183  0.472826\n",
      "Third   25.140620  13.675550  0.242363\n",
      "\n",
      "그룹별 최대값\n",
      "         age   sex      fare  survived\n",
      "class                                 \n",
      "First   80.0  male  512.3292         1\n",
      "Second  70.0  male   73.5000         1\n",
      "Third   74.0  male   69.5500         1\n"
     ]
    }
   ],
   "source": [
    "# A.\n",
    "import pandas as pd\n",
    "import seaborn as sns\n",
    "\n",
    "# titanic 데이터셋에서 age, sex 등 5개 열을 선택하여 데이터프레임 만들기\n",
    "titanic = sns.load_dataset('titanic')\n",
    "df = titanic.loc[:, ['age','sex', 'class', 'fare', 'survived']]\n",
    "\n",
    "print(df.head())\n",
    "print()\n",
    "# class 열을 기준으로 분할(1개 열을 기준)\n",
    "grouped = df.groupby(['class'])\n",
    "print('그룹별 평균')\n",
    "average = grouped.mean()\n",
    "print(average)\n",
    "print()\n",
    "print('그룹별 최대값')\n",
    "stat = grouped.max()\n",
    "print(stat)"
   ]
  },
  {
   "cell_type": "markdown",
   "metadata": {
    "id": "QaJWKBVfHC-W"
   },
   "source": [
    "### Q18. titanic 데이터셋에서 'Third'그룹만을 선택해서 group3 이름으로 저장하고 통계요약표를 출력하세요."
   ]
  },
  {
   "cell_type": "code",
   "execution_count": null,
   "metadata": {
    "colab": {
     "base_uri": "https://localhost:8080/",
     "height": 297
    },
    "executionInfo": {
     "elapsed": 372,
     "status": "ok",
     "timestamp": 1626943276561,
     "user": {
      "displayName": "kevin park",
      "photoUrl": "",
      "userId": "02703084888761299921"
     },
     "user_tz": -540
    },
    "id": "dPXS6XeYHC-W",
    "outputId": "96991548-c5fe-46b7-a77d-00a6b8d666dc"
   },
   "outputs": [
    {
     "data": {
      "text/html": [
       "<div>\n",
       "<style scoped>\n",
       "    .dataframe tbody tr th:only-of-type {\n",
       "        vertical-align: middle;\n",
       "    }\n",
       "\n",
       "    .dataframe tbody tr th {\n",
       "        vertical-align: top;\n",
       "    }\n",
       "\n",
       "    .dataframe thead th {\n",
       "        text-align: right;\n",
       "    }\n",
       "</style>\n",
       "<table border=\"1\" class=\"dataframe\">\n",
       "  <thead>\n",
       "    <tr style=\"text-align: right;\">\n",
       "      <th></th>\n",
       "      <th>age</th>\n",
       "      <th>fare</th>\n",
       "      <th>survived</th>\n",
       "    </tr>\n",
       "  </thead>\n",
       "  <tbody>\n",
       "    <tr>\n",
       "      <th>count</th>\n",
       "      <td>355.000000</td>\n",
       "      <td>491.000000</td>\n",
       "      <td>491.000000</td>\n",
       "    </tr>\n",
       "    <tr>\n",
       "      <th>mean</th>\n",
       "      <td>25.140620</td>\n",
       "      <td>13.675550</td>\n",
       "      <td>0.242363</td>\n",
       "    </tr>\n",
       "    <tr>\n",
       "      <th>std</th>\n",
       "      <td>12.495398</td>\n",
       "      <td>11.778142</td>\n",
       "      <td>0.428949</td>\n",
       "    </tr>\n",
       "    <tr>\n",
       "      <th>min</th>\n",
       "      <td>0.420000</td>\n",
       "      <td>0.000000</td>\n",
       "      <td>0.000000</td>\n",
       "    </tr>\n",
       "    <tr>\n",
       "      <th>25%</th>\n",
       "      <td>18.000000</td>\n",
       "      <td>7.750000</td>\n",
       "      <td>0.000000</td>\n",
       "    </tr>\n",
       "    <tr>\n",
       "      <th>50%</th>\n",
       "      <td>24.000000</td>\n",
       "      <td>8.050000</td>\n",
       "      <td>0.000000</td>\n",
       "    </tr>\n",
       "    <tr>\n",
       "      <th>75%</th>\n",
       "      <td>32.000000</td>\n",
       "      <td>15.500000</td>\n",
       "      <td>0.000000</td>\n",
       "    </tr>\n",
       "    <tr>\n",
       "      <th>max</th>\n",
       "      <td>74.000000</td>\n",
       "      <td>69.550000</td>\n",
       "      <td>1.000000</td>\n",
       "    </tr>\n",
       "  </tbody>\n",
       "</table>\n",
       "</div>"
      ],
      "text/plain": [
       "              age        fare    survived\n",
       "count  355.000000  491.000000  491.000000\n",
       "mean    25.140620   13.675550    0.242363\n",
       "std     12.495398   11.778142    0.428949\n",
       "min      0.420000    0.000000    0.000000\n",
       "25%     18.000000    7.750000    0.000000\n",
       "50%     24.000000    8.050000    0.000000\n",
       "75%     32.000000   15.500000    0.000000\n",
       "max     74.000000   69.550000    1.000000"
      ]
     },
     "execution_count": 49,
     "metadata": {
      "tags": []
     },
     "output_type": "execute_result"
    }
   ],
   "source": [
    "# A.\n",
    "# 개별 그룹 선택하기\n",
    "group3 = grouped.get_group('Third')\n",
    "group3.describe()"
   ]
  },
  {
   "cell_type": "markdown",
   "metadata": {
    "id": "ogF7XtlWHC-W"
   },
   "source": [
    "### Q19. titanic 데이터셋에서 class 열, sex열 기준으로 그룹화한 후 그룹별 평균과 표준편차를 구하세요."
   ]
  },
  {
   "cell_type": "code",
   "execution_count": null,
   "metadata": {
    "colab": {
     "base_uri": "https://localhost:8080/"
    },
    "executionInfo": {
     "elapsed": 310,
     "status": "ok",
     "timestamp": 1626943293574,
     "user": {
      "displayName": "kevin park",
      "photoUrl": "",
      "userId": "02703084888761299921"
     },
     "user_tz": -540
    },
    "id": "vloVgwqhHC-W",
    "outputId": "b87361ca-fc43-4763-e261-24fcf38dff9f"
   },
   "outputs": [
    {
     "name": "stdout",
     "output_type": "stream",
     "text": [
      "                     age        fare  survived\n",
      "class  sex                                    \n",
      "First  female  34.611765  106.125798  0.968085\n",
      "       male    41.281386   67.226127  0.368852\n",
      "Second female  28.722973   21.970121  0.921053\n",
      "       male    30.740707   19.741782  0.157407\n",
      "Third  female  21.750000   16.118810  0.500000\n",
      "       male    26.507589   12.661633  0.135447\n",
      "\n",
      "                     age       fare  survived\n",
      "class  sex                                   \n",
      "First  female  13.612052  74.259988  0.176716\n",
      "       male    15.139570  77.548021  0.484484\n",
      "Second female  12.872702  10.891796  0.271448\n",
      "       male    14.793894  14.922235  0.365882\n",
      "Third  female  12.729964  11.690314  0.501745\n",
      "       male    12.159514  11.681696  0.342694\n"
     ]
    }
   ],
   "source": [
    "# A.\n",
    "grouped = df.groupby(['class', 'sex']) \n",
    "gdf = grouped.mean()\n",
    "print(gdf)\n",
    "print()\n",
    "gdf = grouped.std()\n",
    "print(gdf)"
   ]
  },
  {
   "cell_type": "code",
   "execution_count": null,
   "metadata": {
    "colab": {
     "base_uri": "https://localhost:8080/"
    },
    "executionInfo": {
     "elapsed": 296,
     "status": "ok",
     "timestamp": 1626943403790,
     "user": {
      "displayName": "kevin park",
      "photoUrl": "",
      "userId": "02703084888761299921"
     },
     "user_tz": -540
    },
    "id": "1H4_De-JHC-X",
    "outputId": "3919c4c1-c994-4d48-c109-98e05f27be57"
   },
   "outputs": [
    {
     "data": {
      "text/html": [
       "<div>\n",
       "<style scoped>\n",
       "    .dataframe tbody tr th:only-of-type {\n",
       "        vertical-align: middle;\n",
       "    }\n",
       "\n",
       "    .dataframe tbody tr th {\n",
       "        vertical-align: top;\n",
       "    }\n",
       "\n",
       "    .dataframe thead th {\n",
       "        text-align: right;\n",
       "    }\n",
       "</style>\n",
       "<table border=\"1\" class=\"dataframe\">\n",
       "  <thead>\n",
       "    <tr style=\"text-align: right;\">\n",
       "      <th></th>\n",
       "      <th>survived</th>\n",
       "      <th>pclass</th>\n",
       "      <th>sex</th>\n",
       "      <th>age</th>\n",
       "      <th>sibsp</th>\n",
       "      <th>parch</th>\n",
       "      <th>fare</th>\n",
       "      <th>embarked</th>\n",
       "      <th>class</th>\n",
       "      <th>who</th>\n",
       "      <th>adult_male</th>\n",
       "      <th>deck</th>\n",
       "      <th>embark_town</th>\n",
       "      <th>alive</th>\n",
       "      <th>alone</th>\n",
       "    </tr>\n",
       "  </thead>\n",
       "  <tbody>\n",
       "    <tr>\n",
       "      <th>0</th>\n",
       "      <td>0</td>\n",
       "      <td>3</td>\n",
       "      <td>male</td>\n",
       "      <td>22.0</td>\n",
       "      <td>1</td>\n",
       "      <td>0</td>\n",
       "      <td>7.2500</td>\n",
       "      <td>S</td>\n",
       "      <td>Third</td>\n",
       "      <td>man</td>\n",
       "      <td>True</td>\n",
       "      <td>NaN</td>\n",
       "      <td>Southampton</td>\n",
       "      <td>no</td>\n",
       "      <td>False</td>\n",
       "    </tr>\n",
       "    <tr>\n",
       "      <th>1</th>\n",
       "      <td>1</td>\n",
       "      <td>1</td>\n",
       "      <td>female</td>\n",
       "      <td>38.0</td>\n",
       "      <td>1</td>\n",
       "      <td>0</td>\n",
       "      <td>71.2833</td>\n",
       "      <td>C</td>\n",
       "      <td>First</td>\n",
       "      <td>woman</td>\n",
       "      <td>False</td>\n",
       "      <td>C</td>\n",
       "      <td>Cherbourg</td>\n",
       "      <td>yes</td>\n",
       "      <td>False</td>\n",
       "    </tr>\n",
       "    <tr>\n",
       "      <th>2</th>\n",
       "      <td>1</td>\n",
       "      <td>3</td>\n",
       "      <td>female</td>\n",
       "      <td>26.0</td>\n",
       "      <td>0</td>\n",
       "      <td>0</td>\n",
       "      <td>7.9250</td>\n",
       "      <td>S</td>\n",
       "      <td>Third</td>\n",
       "      <td>woman</td>\n",
       "      <td>False</td>\n",
       "      <td>NaN</td>\n",
       "      <td>Southampton</td>\n",
       "      <td>yes</td>\n",
       "      <td>True</td>\n",
       "    </tr>\n",
       "    <tr>\n",
       "      <th>3</th>\n",
       "      <td>1</td>\n",
       "      <td>1</td>\n",
       "      <td>female</td>\n",
       "      <td>35.0</td>\n",
       "      <td>1</td>\n",
       "      <td>0</td>\n",
       "      <td>53.1000</td>\n",
       "      <td>S</td>\n",
       "      <td>First</td>\n",
       "      <td>woman</td>\n",
       "      <td>False</td>\n",
       "      <td>C</td>\n",
       "      <td>Southampton</td>\n",
       "      <td>yes</td>\n",
       "      <td>False</td>\n",
       "    </tr>\n",
       "    <tr>\n",
       "      <th>4</th>\n",
       "      <td>0</td>\n",
       "      <td>3</td>\n",
       "      <td>male</td>\n",
       "      <td>35.0</td>\n",
       "      <td>0</td>\n",
       "      <td>0</td>\n",
       "      <td>8.0500</td>\n",
       "      <td>S</td>\n",
       "      <td>Third</td>\n",
       "      <td>man</td>\n",
       "      <td>True</td>\n",
       "      <td>NaN</td>\n",
       "      <td>Southampton</td>\n",
       "      <td>no</td>\n",
       "      <td>True</td>\n",
       "    </tr>\n",
       "  </tbody>\n",
       "</table>\n",
       "</div>"
      ],
      "text/plain": [
       "   survived  pclass     sex   age  sibsp  parch     fare embarked  class  \\\n",
       "0         0       3    male  22.0      1      0   7.2500        S  Third   \n",
       "1         1       1  female  38.0      1      0  71.2833        C  First   \n",
       "2         1       3  female  26.0      0      0   7.9250        S  Third   \n",
       "3         1       1  female  35.0      1      0  53.1000        S  First   \n",
       "4         0       3    male  35.0      0      0   8.0500        S  Third   \n",
       "\n",
       "     who  adult_male deck  embark_town alive  alone  \n",
       "0    man        True  NaN  Southampton    no  False  \n",
       "1  woman       False    C    Cherbourg   yes  False  \n",
       "2  woman       False  NaN  Southampton   yes   True  \n",
       "3  woman       False    C  Southampton   yes  False  \n",
       "4    man        True  NaN  Southampton    no   True  "
      ]
     },
     "execution_count": 1,
     "metadata": {
      "tags": []
     },
     "output_type": "execute_result"
    }
   ],
   "source": [
    "import seaborn as sns\n",
    "df = sns.load_dataset('titanic')\n",
    "df.head()"
   ]
  },
  {
   "cell_type": "markdown",
   "metadata": {
    "id": "4gXj-3p3HC-X"
   },
   "source": [
    "### Q20.  titanic 데이터셋에서 다음 전처리를 수행하세요.\n",
    "1. df에서 중복 칼럼으로 고려할 수 있는 컬럼들(6개 내외)을 삭제한 후 나머지 컬럼들로 구성되는 데이터프레임을 df1 이름으로 저장 후 출력하세요. \n",
    "2. df1에서 null값이 50% 이상인 칼럼을 삭제 후 df2 이름으로 저장하고 출력하세요.\n",
    "3. df2에서 결측값이 있는 age 칼럼에 대해서 평균값으로 대체 처리를 수행하세요. \n",
    "4. df2에서 결측값이 있는 embarked 칼럼에 대해서 앞행의 값으로 대체 처리를 수행하세요. \n",
    "5. df2 문자로 되어있는 칼럼들을 레이블 인코딩 수행하여 숫자로 변환 후 df2.info()를 출력하세요"
   ]
  },
  {
   "cell_type": "code",
   "execution_count": null,
   "metadata": {
    "id": "WbqG11D83sc3"
   },
   "outputs": [],
   "source": []
  },
  {
   "cell_type": "code",
   "execution_count": null,
   "metadata": {
    "colab": {
     "base_uri": "https://localhost:8080/",
     "height": 224
    },
    "executionInfo": {
     "elapsed": 296,
     "status": "ok",
     "timestamp": 1626943406783,
     "user": {
      "displayName": "kevin park",
      "photoUrl": "",
      "userId": "02703084888761299921"
     },
     "user_tz": -540
    },
    "id": "C_ORFL_YHC-X",
    "outputId": "519f9377-62bf-4d22-9a49-5e8c58d226b4"
   },
   "outputs": [
    {
     "data": {
      "text/html": [
       "<div>\n",
       "<style scoped>\n",
       "    .dataframe tbody tr th:only-of-type {\n",
       "        vertical-align: middle;\n",
       "    }\n",
       "\n",
       "    .dataframe tbody tr th {\n",
       "        vertical-align: top;\n",
       "    }\n",
       "\n",
       "    .dataframe thead th {\n",
       "        text-align: right;\n",
       "    }\n",
       "</style>\n",
       "<table border=\"1\" class=\"dataframe\">\n",
       "  <thead>\n",
       "    <tr style=\"text-align: right;\">\n",
       "      <th></th>\n",
       "      <th>survived</th>\n",
       "      <th>pclass</th>\n",
       "      <th>sex</th>\n",
       "      <th>age</th>\n",
       "      <th>sibsp</th>\n",
       "      <th>parch</th>\n",
       "      <th>fare</th>\n",
       "      <th>embarked</th>\n",
       "      <th>class</th>\n",
       "      <th>who</th>\n",
       "      <th>adult_male</th>\n",
       "      <th>deck</th>\n",
       "      <th>embark_town</th>\n",
       "      <th>alive</th>\n",
       "      <th>alone</th>\n",
       "    </tr>\n",
       "  </thead>\n",
       "  <tbody>\n",
       "    <tr>\n",
       "      <th>0</th>\n",
       "      <td>0</td>\n",
       "      <td>3</td>\n",
       "      <td>male</td>\n",
       "      <td>22.0</td>\n",
       "      <td>1</td>\n",
       "      <td>0</td>\n",
       "      <td>7.2500</td>\n",
       "      <td>S</td>\n",
       "      <td>Third</td>\n",
       "      <td>man</td>\n",
       "      <td>True</td>\n",
       "      <td>NaN</td>\n",
       "      <td>Southampton</td>\n",
       "      <td>no</td>\n",
       "      <td>False</td>\n",
       "    </tr>\n",
       "    <tr>\n",
       "      <th>1</th>\n",
       "      <td>1</td>\n",
       "      <td>1</td>\n",
       "      <td>female</td>\n",
       "      <td>38.0</td>\n",
       "      <td>1</td>\n",
       "      <td>0</td>\n",
       "      <td>71.2833</td>\n",
       "      <td>C</td>\n",
       "      <td>First</td>\n",
       "      <td>woman</td>\n",
       "      <td>False</td>\n",
       "      <td>C</td>\n",
       "      <td>Cherbourg</td>\n",
       "      <td>yes</td>\n",
       "      <td>False</td>\n",
       "    </tr>\n",
       "    <tr>\n",
       "      <th>2</th>\n",
       "      <td>1</td>\n",
       "      <td>3</td>\n",
       "      <td>female</td>\n",
       "      <td>26.0</td>\n",
       "      <td>0</td>\n",
       "      <td>0</td>\n",
       "      <td>7.9250</td>\n",
       "      <td>S</td>\n",
       "      <td>Third</td>\n",
       "      <td>woman</td>\n",
       "      <td>False</td>\n",
       "      <td>NaN</td>\n",
       "      <td>Southampton</td>\n",
       "      <td>yes</td>\n",
       "      <td>True</td>\n",
       "    </tr>\n",
       "    <tr>\n",
       "      <th>3</th>\n",
       "      <td>1</td>\n",
       "      <td>1</td>\n",
       "      <td>female</td>\n",
       "      <td>35.0</td>\n",
       "      <td>1</td>\n",
       "      <td>0</td>\n",
       "      <td>53.1000</td>\n",
       "      <td>S</td>\n",
       "      <td>First</td>\n",
       "      <td>woman</td>\n",
       "      <td>False</td>\n",
       "      <td>C</td>\n",
       "      <td>Southampton</td>\n",
       "      <td>yes</td>\n",
       "      <td>False</td>\n",
       "    </tr>\n",
       "    <tr>\n",
       "      <th>4</th>\n",
       "      <td>0</td>\n",
       "      <td>3</td>\n",
       "      <td>male</td>\n",
       "      <td>35.0</td>\n",
       "      <td>0</td>\n",
       "      <td>0</td>\n",
       "      <td>8.0500</td>\n",
       "      <td>S</td>\n",
       "      <td>Third</td>\n",
       "      <td>man</td>\n",
       "      <td>True</td>\n",
       "      <td>NaN</td>\n",
       "      <td>Southampton</td>\n",
       "      <td>no</td>\n",
       "      <td>True</td>\n",
       "    </tr>\n",
       "  </tbody>\n",
       "</table>\n",
       "</div>"
      ],
      "text/plain": [
       "   survived  pclass     sex   age  ...  deck  embark_town  alive  alone\n",
       "0         0       3    male  22.0  ...   NaN  Southampton     no  False\n",
       "1         1       1  female  38.0  ...     C    Cherbourg    yes  False\n",
       "2         1       3  female  26.0  ...   NaN  Southampton    yes   True\n",
       "3         1       1  female  35.0  ...     C  Southampton    yes  False\n",
       "4         0       3    male  35.0  ...   NaN  Southampton     no   True\n",
       "\n",
       "[5 rows x 15 columns]"
      ]
     },
     "execution_count": 52,
     "metadata": {
      "tags": []
     },
     "output_type": "execute_result"
    }
   ],
   "source": [
    "df.head()"
   ]
  },
  {
   "cell_type": "code",
   "execution_count": null,
   "metadata": {
    "colab": {
     "base_uri": "https://localhost:8080/",
     "height": 204
    },
    "executionInfo": {
     "elapsed": 297,
     "status": "ok",
     "timestamp": 1626944179600,
     "user": {
      "displayName": "kevin park",
      "photoUrl": "",
      "userId": "02703084888761299921"
     },
     "user_tz": -540
    },
    "id": "ybm0DCDQHC-X",
    "outputId": "328012d7-3bba-46b5-942c-2d8b82d0e00e"
   },
   "outputs": [
    {
     "data": {
      "text/html": [
       "<div>\n",
       "<style scoped>\n",
       "    .dataframe tbody tr th:only-of-type {\n",
       "        vertical-align: middle;\n",
       "    }\n",
       "\n",
       "    .dataframe tbody tr th {\n",
       "        vertical-align: top;\n",
       "    }\n",
       "\n",
       "    .dataframe thead th {\n",
       "        text-align: right;\n",
       "    }\n",
       "</style>\n",
       "<table border=\"1\" class=\"dataframe\">\n",
       "  <thead>\n",
       "    <tr style=\"text-align: right;\">\n",
       "      <th></th>\n",
       "      <th>survived</th>\n",
       "      <th>pclass</th>\n",
       "      <th>sex</th>\n",
       "      <th>age</th>\n",
       "      <th>sibsp</th>\n",
       "      <th>parch</th>\n",
       "      <th>fare</th>\n",
       "      <th>embarked</th>\n",
       "      <th>deck</th>\n",
       "    </tr>\n",
       "  </thead>\n",
       "  <tbody>\n",
       "    <tr>\n",
       "      <th>0</th>\n",
       "      <td>0</td>\n",
       "      <td>3</td>\n",
       "      <td>male</td>\n",
       "      <td>22.0</td>\n",
       "      <td>1</td>\n",
       "      <td>0</td>\n",
       "      <td>7.2500</td>\n",
       "      <td>S</td>\n",
       "      <td>NaN</td>\n",
       "    </tr>\n",
       "    <tr>\n",
       "      <th>1</th>\n",
       "      <td>1</td>\n",
       "      <td>1</td>\n",
       "      <td>female</td>\n",
       "      <td>38.0</td>\n",
       "      <td>1</td>\n",
       "      <td>0</td>\n",
       "      <td>71.2833</td>\n",
       "      <td>C</td>\n",
       "      <td>C</td>\n",
       "    </tr>\n",
       "    <tr>\n",
       "      <th>2</th>\n",
       "      <td>1</td>\n",
       "      <td>3</td>\n",
       "      <td>female</td>\n",
       "      <td>26.0</td>\n",
       "      <td>0</td>\n",
       "      <td>0</td>\n",
       "      <td>7.9250</td>\n",
       "      <td>S</td>\n",
       "      <td>NaN</td>\n",
       "    </tr>\n",
       "    <tr>\n",
       "      <th>3</th>\n",
       "      <td>1</td>\n",
       "      <td>1</td>\n",
       "      <td>female</td>\n",
       "      <td>35.0</td>\n",
       "      <td>1</td>\n",
       "      <td>0</td>\n",
       "      <td>53.1000</td>\n",
       "      <td>S</td>\n",
       "      <td>C</td>\n",
       "    </tr>\n",
       "    <tr>\n",
       "      <th>4</th>\n",
       "      <td>0</td>\n",
       "      <td>3</td>\n",
       "      <td>male</td>\n",
       "      <td>35.0</td>\n",
       "      <td>0</td>\n",
       "      <td>0</td>\n",
       "      <td>8.0500</td>\n",
       "      <td>S</td>\n",
       "      <td>NaN</td>\n",
       "    </tr>\n",
       "  </tbody>\n",
       "</table>\n",
       "</div>"
      ],
      "text/plain": [
       "   survived  pclass     sex   age  sibsp  parch     fare embarked deck\n",
       "0         0       3    male  22.0      1      0   7.2500        S  NaN\n",
       "1         1       1  female  38.0      1      0  71.2833        C    C\n",
       "2         1       3  female  26.0      0      0   7.9250        S  NaN\n",
       "3         1       1  female  35.0      1      0  53.1000        S    C\n",
       "4         0       3    male  35.0      0      0   8.0500        S  NaN"
      ]
     },
     "execution_count": 57,
     "metadata": {
      "tags": []
     },
     "output_type": "execute_result"
    }
   ],
   "source": [
    "# A-1.\n",
    "df.columns\n",
    "df1 = df[['survived', 'pclass', 'sex', 'age', 'sibsp', 'parch', 'fare',\n",
    "       'embarked', 'deck']]\n",
    "df1.head()"
   ]
  },
  {
   "cell_type": "code",
   "execution_count": null,
   "metadata": {
    "colab": {
     "base_uri": "https://localhost:8080/"
    },
    "executionInfo": {
     "elapsed": 270,
     "status": "ok",
     "timestamp": 1626944206437,
     "user": {
      "displayName": "kevin park",
      "photoUrl": "",
      "userId": "02703084888761299921"
     },
     "user_tz": -540
    },
    "id": "W2zkzAMWbfNf",
    "outputId": "ddd96316-e7b6-4c45-cbf2-2657cb5446cb"
   },
   "outputs": [
    {
     "data": {
      "text/plain": [
       "survived      0\n",
       "pclass        0\n",
       "sex           0\n",
       "age         177\n",
       "sibsp         0\n",
       "parch         0\n",
       "fare          0\n",
       "embarked      2\n",
       "deck        688\n",
       "dtype: int64"
      ]
     },
     "execution_count": 58,
     "metadata": {
      "tags": []
     },
     "output_type": "execute_result"
    }
   ],
   "source": [
    "df1.isnull().sum()"
   ]
  },
  {
   "cell_type": "code",
   "execution_count": null,
   "metadata": {
    "colab": {
     "base_uri": "https://localhost:8080/",
     "height": 204
    },
    "executionInfo": {
     "elapsed": 290,
     "status": "ok",
     "timestamp": 1626944215262,
     "user": {
      "displayName": "kevin park",
      "photoUrl": "",
      "userId": "02703084888761299921"
     },
     "user_tz": -540
    },
    "id": "eFH1FmShHC-Y",
    "outputId": "3ddec969-8d2d-4c94-b036-500b6f317107"
   },
   "outputs": [
    {
     "data": {
      "text/html": [
       "<div>\n",
       "<style scoped>\n",
       "    .dataframe tbody tr th:only-of-type {\n",
       "        vertical-align: middle;\n",
       "    }\n",
       "\n",
       "    .dataframe tbody tr th {\n",
       "        vertical-align: top;\n",
       "    }\n",
       "\n",
       "    .dataframe thead th {\n",
       "        text-align: right;\n",
       "    }\n",
       "</style>\n",
       "<table border=\"1\" class=\"dataframe\">\n",
       "  <thead>\n",
       "    <tr style=\"text-align: right;\">\n",
       "      <th></th>\n",
       "      <th>survived</th>\n",
       "      <th>pclass</th>\n",
       "      <th>sex</th>\n",
       "      <th>age</th>\n",
       "      <th>sibsp</th>\n",
       "      <th>parch</th>\n",
       "      <th>fare</th>\n",
       "      <th>embarked</th>\n",
       "    </tr>\n",
       "  </thead>\n",
       "  <tbody>\n",
       "    <tr>\n",
       "      <th>0</th>\n",
       "      <td>0</td>\n",
       "      <td>3</td>\n",
       "      <td>male</td>\n",
       "      <td>22.0</td>\n",
       "      <td>1</td>\n",
       "      <td>0</td>\n",
       "      <td>7.2500</td>\n",
       "      <td>S</td>\n",
       "    </tr>\n",
       "    <tr>\n",
       "      <th>1</th>\n",
       "      <td>1</td>\n",
       "      <td>1</td>\n",
       "      <td>female</td>\n",
       "      <td>38.0</td>\n",
       "      <td>1</td>\n",
       "      <td>0</td>\n",
       "      <td>71.2833</td>\n",
       "      <td>C</td>\n",
       "    </tr>\n",
       "    <tr>\n",
       "      <th>2</th>\n",
       "      <td>1</td>\n",
       "      <td>3</td>\n",
       "      <td>female</td>\n",
       "      <td>26.0</td>\n",
       "      <td>0</td>\n",
       "      <td>0</td>\n",
       "      <td>7.9250</td>\n",
       "      <td>S</td>\n",
       "    </tr>\n",
       "    <tr>\n",
       "      <th>3</th>\n",
       "      <td>1</td>\n",
       "      <td>1</td>\n",
       "      <td>female</td>\n",
       "      <td>35.0</td>\n",
       "      <td>1</td>\n",
       "      <td>0</td>\n",
       "      <td>53.1000</td>\n",
       "      <td>S</td>\n",
       "    </tr>\n",
       "    <tr>\n",
       "      <th>4</th>\n",
       "      <td>0</td>\n",
       "      <td>3</td>\n",
       "      <td>male</td>\n",
       "      <td>35.0</td>\n",
       "      <td>0</td>\n",
       "      <td>0</td>\n",
       "      <td>8.0500</td>\n",
       "      <td>S</td>\n",
       "    </tr>\n",
       "  </tbody>\n",
       "</table>\n",
       "</div>"
      ],
      "text/plain": [
       "   survived  pclass     sex   age  sibsp  parch     fare embarked\n",
       "0         0       3    male  22.0      1      0   7.2500        S\n",
       "1         1       1  female  38.0      1      0  71.2833        C\n",
       "2         1       3  female  26.0      0      0   7.9250        S\n",
       "3         1       1  female  35.0      1      0  53.1000        S\n",
       "4         0       3    male  35.0      0      0   8.0500        S"
      ]
     },
     "execution_count": 59,
     "metadata": {
      "tags": []
     },
     "output_type": "execute_result"
    }
   ],
   "source": [
    "# A-2.\n",
    "df2 = df1.drop('deck',axis=1)\n",
    "df2.head()"
   ]
  },
  {
   "cell_type": "code",
   "execution_count": null,
   "metadata": {
    "colab": {
     "base_uri": "https://localhost:8080/"
    },
    "executionInfo": {
     "elapsed": 282,
     "status": "ok",
     "timestamp": 1626944270608,
     "user": {
      "displayName": "kevin park",
      "photoUrl": "",
      "userId": "02703084888761299921"
     },
     "user_tz": -540
    },
    "id": "ajO-OmavHC-Y",
    "outputId": "b80271d2-32a5-45c8-ad52-9a352405b068"
   },
   "outputs": [
    {
     "data": {
      "text/plain": [
       "0"
      ]
     },
     "execution_count": 60,
     "metadata": {
      "tags": []
     },
     "output_type": "execute_result"
    }
   ],
   "source": [
    "# A-3.\n",
    "df2.age.isnull().sum()\n",
    "df2.age.fillna(df2.age.mean(),inplace=True)\n",
    "df2.age.isnull().sum()"
   ]
  },
  {
   "cell_type": "code",
   "execution_count": null,
   "metadata": {
    "colab": {
     "base_uri": "https://localhost:8080/"
    },
    "executionInfo": {
     "elapsed": 292,
     "status": "ok",
     "timestamp": 1626944312118,
     "user": {
      "displayName": "kevin park",
      "photoUrl": "",
      "userId": "02703084888761299921"
     },
     "user_tz": -540
    },
    "id": "yjGyQ8IsHC-Y",
    "outputId": "4246ab63-f5b4-490c-ad32-43eaec39aadb"
   },
   "outputs": [
    {
     "data": {
      "text/plain": [
       "0"
      ]
     },
     "execution_count": 61,
     "metadata": {
      "tags": []
     },
     "output_type": "execute_result"
    }
   ],
   "source": [
    "# A-4.\n",
    "df2.embarked.isnull().sum()\n",
    "df2.embarked.fillna(method='ffill',inplace=True)\n",
    "df2.embarked.isnull().sum()"
   ]
  },
  {
   "cell_type": "code",
   "execution_count": null,
   "metadata": {
    "colab": {
     "base_uri": "https://localhost:8080/"
    },
    "executionInfo": {
     "elapsed": 292,
     "status": "ok",
     "timestamp": 1626944334282,
     "user": {
      "displayName": "kevin park",
      "photoUrl": "",
      "userId": "02703084888761299921"
     },
     "user_tz": -540
    },
    "id": "CGxOp2f3HC-Y",
    "outputId": "195c9773-5462-4130-bdaa-c103d5e8949c"
   },
   "outputs": [
    {
     "name": "stdout",
     "output_type": "stream",
     "text": [
      "<class 'pandas.core.frame.DataFrame'>\n",
      "RangeIndex: 891 entries, 0 to 890\n",
      "Data columns (total 8 columns):\n",
      " #   Column    Non-Null Count  Dtype  \n",
      "---  ------    --------------  -----  \n",
      " 0   survived  891 non-null    int64  \n",
      " 1   pclass    891 non-null    int64  \n",
      " 2   sex       891 non-null    int64  \n",
      " 3   age       891 non-null    float64\n",
      " 4   sibsp     891 non-null    int64  \n",
      " 5   parch     891 non-null    int64  \n",
      " 6   fare      891 non-null    float64\n",
      " 7   embarked  891 non-null    int64  \n",
      "dtypes: float64(2), int64(6)\n",
      "memory usage: 55.8 KB\n"
     ]
    }
   ],
   "source": [
    "# A5.\n",
    "from sklearn import preprocessing\n",
    "\n",
    "features = ['sex','embarked']\n",
    "for feature in features:\n",
    "    le = preprocessing.LabelEncoder()\n",
    "    df2[feature] = le.fit_transform(df2[feature])\n",
    "df2.info()"
   ]
  }
 ],
 "metadata": {
  "colab": {
   "collapsed_sections": [],
   "name": "Python분석라이브러리활용_평가_답안.ipynb",
   "provenance": []
  },
  "kernelspec": {
   "display_name": "Python 3",
   "language": "python",
   "name": "python3"
  },
  "language_info": {
   "codemirror_mode": {
    "name": "ipython",
    "version": 3
   },
   "file_extension": ".py",
   "mimetype": "text/x-python",
   "name": "python",
   "nbconvert_exporter": "python",
   "pygments_lexer": "ipython3",
   "version": "3.8.8"
  }
 },
 "nbformat": 4,
 "nbformat_minor": 1
}
