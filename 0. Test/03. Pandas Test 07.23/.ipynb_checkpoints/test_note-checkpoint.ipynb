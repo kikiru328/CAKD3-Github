{
 "cells": [
  {
   "cell_type": "code",
   "execution_count": 1,
   "id": "35f31183",
   "metadata": {},
   "outputs": [
    {
     "name": "stdout",
     "output_type": "stream",
     "text": [
      "[0 1 2 3 4 5 6 7 8 9]\n",
      "[[0 1 2 3 4]\n",
      " [5 6 7 8 9]]\n",
      "[[[0 1 2 3 4]\n",
      "  [5 6 7 8 9]]]\n"
     ]
    }
   ],
   "source": [
    "#1\n",
    "import numpy as np\n",
    "ar1 = np.arange(10)\n",
    "ar2 = np.arange(10).reshape(2,5)\n",
    "ar3 = np.arange(10).reshape(1,2,5)\n",
    "print(ar1)\n",
    "print(ar2)\n",
    "print(ar3)"
   ]
  },
  {
   "cell_type": "code",
   "execution_count": 2,
   "id": "f1ef0223",
   "metadata": {},
   "outputs": [
    {
     "data": {
      "text/plain": [
       "array([21, 42, 63, 84])"
      ]
     },
     "execution_count": 2,
     "metadata": {},
     "output_type": "execute_result"
    }
   ],
   "source": [
    "#2\n",
    "import numpy as np\n",
    "ar = np.arange(1,101)\n",
    "ar[(ar%3==0) & (ar%7==0)]"
   ]
  },
  {
   "cell_type": "code",
   "execution_count": 3,
   "id": "a0551fdb",
   "metadata": {},
   "outputs": [],
   "source": [
    "#3\n",
    "import numpy as np\n",
    "ar = np.arange(10).reshape(1,2,5)\n",
    "ar2 = np.arange(10,20).reshape(1,2,5)\n",
    "ar3 = np.arange(20,30).reshape(1,2,5)\n",
    "\n",
    "n_ar = ar.reshape(-1)\n",
    "n_ar2 = ar2.reshape(-1)\n",
    "n_ar3 = ar3.reshape(-1)"
   ]
  },
  {
   "cell_type": "code",
   "execution_count": 4,
   "id": "3a890fd1",
   "metadata": {},
   "outputs": [],
   "source": [
    "#4\n",
    "import numpy as np\n",
    "arr2d = np.arange(1,10).reshape(3,3)\n",
    "arr2d\n",
    "a1 = arr2d[:2,2:].reshape(-1).tolist()\n",
    "a2 = arr2d[:2,:2].reshape(2,2).tolist()\n",
    "a3 = arr2d[:2,].reshape(2,3).tolist()"
   ]
  },
  {
   "cell_type": "code",
   "execution_count": 5,
   "id": "0b07caa5",
   "metadata": {},
   "outputs": [
    {
     "data": {
      "text/plain": [
       "array([[ 84,  90,  96],\n",
       "       [201, 216, 231],\n",
       "       [318, 342, 366]])"
      ]
     },
     "execution_count": 5,
     "metadata": {},
     "output_type": "execute_result"
    }
   ],
   "source": [
    "#5\n",
    "import numpy as np\n",
    "a1 = np.arange(1,10).reshape(3,3)\n",
    "b1 = np.arange(10,19).reshape(3,3)\n",
    "a1.dot(b1)"
   ]
  },
  {
   "cell_type": "code",
   "execution_count": 17,
   "id": "bf9b812c",
   "metadata": {},
   "outputs": [
    {
     "data": {
      "text/plain": [
       "array([[2, 1, 1],\n",
       "       [2, 2, 1],\n",
       "       [1, 2, 1]])"
      ]
     },
     "execution_count": 17,
     "metadata": {},
     "output_type": "execute_result"
    }
   ],
   "source": [
    "#6          X\n",
    "import numpy as np\n",
    "np.random.seed(1)\n",
    "ar = np.random.randint(1,4,size=(3,3))\n",
    "ar"
   ]
  },
  {
   "cell_type": "code",
   "execution_count": 20,
   "id": "c8b3c110",
   "metadata": {},
   "outputs": [
    {
     "data": {
      "text/plain": [
       "array([[-1.11022302e-16,  1.00000000e+00, -1.00000000e+00],\n",
       "       [-1.00000000e+00,  1.00000000e+00,  0.00000000e+00],\n",
       "       [ 2.00000000e+00, -3.00000000e+00,  2.00000000e+00]])"
      ]
     },
     "execution_count": 20,
     "metadata": {},
     "output_type": "execute_result"
    }
   ],
   "source": [
    "rar = np.linalg.inv(ar)\n",
    "rar"
   ]
  },
  {
   "cell_type": "code",
   "execution_count": 21,
   "id": "70e2ddec",
   "metadata": {},
   "outputs": [
    {
     "data": {
      "text/plain": [
       "array([[ 1.0000000e+00,  0.0000000e+00,  0.0000000e+00],\n",
       "       [-4.4408921e-16,  1.0000000e+00,  0.0000000e+00],\n",
       "       [ 0.0000000e+00,  0.0000000e+00,  1.0000000e+00]])"
      ]
     },
     "execution_count": 21,
     "metadata": {},
     "output_type": "execute_result"
    }
   ],
   "source": [
    "check = ar.dot(rar)\n",
    "check"
   ]
  },
  {
   "cell_type": "code",
   "execution_count": 26,
   "id": "a0890b13",
   "metadata": {},
   "outputs": [
    {
     "data": {
      "text/plain": [
       "array([[13, 12, 14, 14, 10],\n",
       "       [13, 13, 18, 13, 15],\n",
       "       [16, 17, 15, 11, 17],\n",
       "       [10, 12, 18, 12, 11],\n",
       "       [14, 10, 14, 11, 17],\n",
       "       [13, 11, 16, 16, 19],\n",
       "       [16, 19, 16, 10, 10],\n",
       "       [12, 19, 16, 10, 16],\n",
       "       [17, 10, 13, 19, 10],\n",
       "       [13, 14, 17, 15, 13]])"
      ]
     },
     "execution_count": 26,
     "metadata": {},
     "output_type": "execute_result"
    }
   ],
   "source": [
    "#7             X\n",
    "import numpy as np\n",
    "ar = np.random.randint(10,20,size=(10,5))\n",
    "np.save('data',ar)\n",
    "np.load('data.npy')"
   ]
  },
  {
   "cell_type": "code",
   "execution_count": null,
   "id": "ffac390d",
   "metadata": {},
   "outputs": [],
   "source": [
    "#8\n",
    "import seaborn as sns\n",
    "import pandas as pd\n",
    "df =sns.load_dataset('titanic')\n",
    "df.columns\n",
    "new_columns = ['pclass', 'sex', 'age', 'sibsp', 'parch', 'fare',\n",
    "       'embarked', 'class', 'who', 'adult_male', 'deck', 'embark_town',\n",
    "       'alive', 'alone']\n",
    "df_x = df[new_columns]\n",
    "\n",
    "df_x.to_pickle('df_x.pkl')\n",
    "df_x = pd.read_pickle('df_x.pkl')\n",
    "\n",
    "df_x.head()"
   ]
  },
  {
   "cell_type": "code",
   "execution_count": null,
   "id": "bd2c4cc7",
   "metadata": {},
   "outputs": [],
   "source": [
    "#9\n",
    "import pandas as pd\n",
    "import seaborn as sns\n",
    "df = sns.load_dataset('titanic')\n",
    "df['deck'].isnull().sum()"
   ]
  },
  {
   "cell_type": "code",
   "execution_count": null,
   "id": "be67faf7",
   "metadata": {},
   "outputs": [],
   "source": [
    "#10\n",
    "import pandas as pd\n",
    "import seaborn as sns\n",
    "print('각 컬럼별 null 개수', df.isnull().sum(),'\\n')\n",
    "print('df 전체 null 개수', df.isnull().sum().sum())"
   ]
  },
  {
   "cell_type": "code",
   "execution_count": null,
   "id": "b60a595d",
   "metadata": {},
   "outputs": [],
   "source": [
    "#11\n",
    "import pandas as pd\n",
    "import seaborn as sns\n",
    "df = sns.load_dataset('titanic')\n",
    "tdf = df[['survived','sex','age','class']]\n",
    "tdf.head()\n",
    "\n",
    "def age_cat(x):\n",
    "    cat = ''\n",
    "    if x <= 5: \n",
    "        cat = 'Baby'\n",
    "    elif x <= 12:\n",
    "        cat = 'Child'\n",
    "    elif x <= 18:\n",
    "        cat = 'Teenager'\n",
    "    elif x <= 25:\n",
    "        cat = 'Student'\n",
    "    elif x <= 60:\n",
    "        cat = 'Adult'\n",
    "    elif x > 60 :\n",
    "        cat = 'Elderly'\n",
    "    return cat\n",
    "tdf1 = tdf.copy()\n",
    "\n",
    "tdf1['age'] = tdf['age'].apply(lambda x : age_cat(x))\n",
    "tdf1['age']\n",
    "tdf1.head()"
   ]
  },
  {
   "cell_type": "code",
   "execution_count": null,
   "id": "8bdef99b",
   "metadata": {},
   "outputs": [],
   "source": [
    "#12\n",
    "tdf1.info()\n",
    "tdf1['class'] = tdf1['class'].astype('object')\n",
    "tdf1['sc'] = tdf1['sex']+'_'+tdf1['class']\n",
    "tdf1.head()"
   ]
  },
  {
   "cell_type": "code",
   "execution_count": null,
   "id": "3cda5d71",
   "metadata": {},
   "outputs": [],
   "source": [
    "#13\n",
    "df1 = pd.read_excel('stock price.xlsx')\n",
    "df2 = pd.read_excel('stock valuation.xlsx')\n",
    "df4 = df1.merge(df2)\n",
    "display(df4)\n",
    "df4 = df4.drop('name',axis=1)\n",
    "df5 = df4[ (df4['eps']< 3000) | (df4['stock_name']=='이마트')]\n",
    "df5"
   ]
  },
  {
   "cell_type": "code",
   "execution_count": null,
   "id": "d3371a3d",
   "metadata": {},
   "outputs": [],
   "source": [
    "#14\n",
    "import pandas as pd\n",
    "df = pd.DataFrame({'c1':['a', 'a', 'b', 'a', 'b'],\n",
    "                  'c2':[1, 1, 1, 2, 2],\n",
    "                  'c3':[1, 1, 2, 2, 2],\n",
    "                  'c4':[1, 1, 1, 2, 3],\n",
    "                  'c5':[1, 1, 2, 2, 5]})\n",
    "print(df)\n",
    "\n",
    "df3 = df.drop_duplicates(subset=('c4','c5'),keep=False)\n",
    "df3"
   ]
  },
  {
   "cell_type": "code",
   "execution_count": null,
   "id": "35dcb3ef",
   "metadata": {},
   "outputs": [],
   "source": [
    "#15\n",
    "import pandas as pd\n",
    "auto_df = pd.read_csv('auto-mpg.csv')\n",
    "\n",
    "auto_df.columns = ['mpg','cylinders','displacement','horsepower','weight',\n",
    "              'acceleration','model year','origin','name'] \n",
    "print(auto_df.head(3)) \n",
    "\n",
    "mpg_to_kpl = 1.60934 / 3.78541\n",
    "\n",
    "auto_df['kpl'] = auto_df['mpg'] * mpg_to_kpl\n",
    "auto_df['kpl'] = auto_df['kpl'].round(2)\n",
    "\n",
    "print(auto_df['kpl'])"
   ]
  },
  {
   "cell_type": "code",
   "execution_count": null,
   "id": "b9fbbaaf",
   "metadata": {},
   "outputs": [],
   "source": [
    "#16\n",
    "import pandas as pd\n",
    "import datetime as dt\n",
    "import datetime\n",
    "data = pd.read_csv('stock-data.csv')\n",
    "data['Date'] = pd.to_datetime(data['Date']) \n",
    "data['Year'] = data['Date'].dt.year\n",
    "data['Month'] = data['Date'].dt.month\n",
    "data['Day'] = data['Date'].dt.day\n",
    "data = data.set_index('Year')\n",
    "data.head(1)"
   ]
  },
  {
   "cell_type": "code",
   "execution_count": null,
   "id": "3b356e46",
   "metadata": {},
   "outputs": [],
   "source": [
    "#17\n",
    "import pandas as pd\n",
    "import seaborn as sns\n",
    "titanic = sns.load_dataset('titanic')\n",
    "n_titanic = titanic[['age','sex', 'class', 'fare', 'survived']]\n",
    "mean_grouped = n_titanic.groupby('class').mean()\n",
    "max_grouped = n_titanic.groupby('class').max()\n",
    "\n",
    "display('평균',mean_grouped)\n",
    "display('최대값',max_grouped)"
   ]
  },
  {
   "cell_type": "code",
   "execution_count": null,
   "id": "aff527d9",
   "metadata": {},
   "outputs": [],
   "source": [
    "#18\n",
    "grouped = n_titanic.groupby('class')\n",
    "group3 = grouped.get_group('Third')\n",
    "display('Third',group3.describe())"
   ]
  },
  {
   "cell_type": "code",
   "execution_count": null,
   "id": "fcce93b9",
   "metadata": {},
   "outputs": [],
   "source": [
    "#19\n",
    "mean_grouped = n_titanic.groupby(['class','sex']).mean()\n",
    "std_grouped = n_titanic.groupby(['class','sex']).std()\n",
    "\n",
    "display('평균',mean_grouped)\n",
    "display('표준편차',std_grouped)"
   ]
  },
  {
   "cell_type": "code",
   "execution_count": null,
   "id": "7b23ae5e",
   "metadata": {},
   "outputs": [],
   "source": [
    "#20\n",
    "import seaborn as sns\n",
    "df = sns.load_dataset('titanic')\n",
    "df.head()"
   ]
  },
  {
   "cell_type": "markdown",
   "id": "b49e5990",
   "metadata": {},
   "source": [
    "    1. df에서 중복 칼럼으로 고려할 수 있는 컬럼들(6개 내외)을 삭제한 후 나머지 컬럼들로 구성되는 데이터프레임을 df1 이름으로 저장 후 출력하세요. "
   ]
  },
  {
   "cell_type": "code",
   "execution_count": null,
   "id": "a11cfc7a",
   "metadata": {},
   "outputs": [],
   "source": [
    "# pclass , class / survived, alive / embarked , embark_town\n",
    "df1 = df.drop(['class','alive','embark_town'],axis=1)\n",
    "df1.head(1)"
   ]
  },
  {
   "cell_type": "markdown",
   "id": "ebe2fdc5",
   "metadata": {},
   "source": [
    "    2. df1에서 null값이 50% 이상인 칼럼을 삭제 후 df2 이름으로 저장하고 출력하세요."
   ]
  },
  {
   "cell_type": "code",
   "execution_count": null,
   "id": "932a6823",
   "metadata": {},
   "outputs": [],
   "source": [
    "num_null = df1.isnull().sum() /len(df1) #deck column - 0.772166\n",
    "df2 = df1.drop('deck',axis=1)\n",
    "df2.head(1)"
   ]
  },
  {
   "cell_type": "markdown",
   "id": "fefe31f3",
   "metadata": {},
   "source": [
    "    3. df2에서 결측값이 있는 age 칼럼에 대해서 평균값으로 대체 처리를 수행하세요. "
   ]
  },
  {
   "cell_type": "code",
   "execution_count": null,
   "id": "041271b5",
   "metadata": {},
   "outputs": [],
   "source": [
    "print(df2['age'].isnull().sum())\n",
    "df2['age'] = df2['age'].fillna(df2['age'].mean())\n",
    "df2['age'].isnull().sum()"
   ]
  },
  {
   "cell_type": "markdown",
   "id": "834a657c",
   "metadata": {},
   "source": [
    "    4. df2에서 결측값이 있는 embarked 칼럼에 대해서 앞행의 값으로 대체 처리를 수행하세요. "
   ]
  },
  {
   "cell_type": "code",
   "execution_count": null,
   "id": "c8f004e6",
   "metadata": {},
   "outputs": [],
   "source": [
    "print(df2['embarked'].isnull().sum())\n",
    "df2['embarked'] = df2['embarked'].fillna(method='ffill')\n",
    "df2['embarked'].isnull().sum()"
   ]
  },
  {
   "cell_type": "markdown",
   "id": "0d1ee912",
   "metadata": {},
   "source": [
    "    5. df2 문자로 되어있는 칼럼들을 레이블 인코딩 수행하여 숫자로 변환 후 df2.info()를 출력하세요"
   ]
  },
  {
   "cell_type": "code",
   "execution_count": null,
   "id": "e96e32f9",
   "metadata": {},
   "outputs": [],
   "source": [
    "df2.head(1) # sex / who / adult_male/alone\n",
    "from sklearn.preprocessing import LabelEncoder\n",
    "le = LabelEncoder()\n",
    "features = ['sex','who','adult_male','alone']\n",
    "for feature in features:\n",
    "    df2[feature] = le.fit_transform(df2[feature])\n",
    "df2.info()"
   ]
  },
  {
   "cell_type": "code",
   "execution_count": null,
   "id": "1e437176",
   "metadata": {},
   "outputs": [],
   "source": []
  }
 ],
 "metadata": {
  "kernelspec": {
   "display_name": "Python 3",
   "language": "python",
   "name": "python3"
  },
  "language_info": {
   "codemirror_mode": {
    "name": "ipython",
    "version": 3
   },
   "file_extension": ".py",
   "mimetype": "text/x-python",
   "name": "python",
   "nbconvert_exporter": "python",
   "pygments_lexer": "ipython3",
   "version": "3.8.10"
  }
 },
 "nbformat": 4,
 "nbformat_minor": 5
}
