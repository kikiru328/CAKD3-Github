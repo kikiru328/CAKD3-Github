{
 "cells": [
  {
   "cell_type": "markdown",
   "metadata": {},
   "source": [
    "## 빅데이터 기반 AI 응용 솔루션 개발자 전문과정\n",
    "\n",
    "#### 교과목명 : 프로그래밍 언어 활용\n",
    "\n",
    "- 평가일 : 21.07.09\n",
    "- 성명 : 김광훈\n",
    "- 점수 : 97\n",
    "\n",
    "※ 문제당 5점으로 채점"
   ]
  },
  {
   "cell_type": "markdown",
   "metadata": {},
   "source": [
    "#### 1. numbers 리스트에서 5, 6, 7를 출력하세요.(for문과 if 조건 사용 필수)  \n",
    "numbers = [5, 15, 6, 20, 7, 25]"
   ]
  },
  {
   "cell_type": "code",
   "execution_count": 4,
   "metadata": {},
   "outputs": [
    {
     "name": "stdout",
     "output_type": "stream",
     "text": [
      "5 6 7 "
     ]
    }
   ],
   "source": [
    "numbers = [5, 15, 6, 20, 7, 25]\n",
    "for number in numbers:\n",
    "    if number < 9 :\n",
    "        print(number, end = \" \")"
   ]
  },
  {
   "cell_type": "markdown",
   "metadata": {},
   "source": [
    "    정답 5점 + 5"
   ]
  },
  {
   "cell_type": "markdown",
   "metadata": {},
   "source": [
    "#### 2. 아래 사용자 함수, 변수 리스트 및 2개의 내장함수를 각각 이용해서 [12, 14, 16, 18, 20], [6]를 출력하세요.(내장함수 2개 사용 필수) "
   ]
  },
  {
   "cell_type": "code",
   "execution_count": 39,
   "metadata": {},
   "outputs": [
    {
     "name": "stdout",
     "output_type": "stream",
     "text": [
      "[12, 14, 16, 18, 20]\n",
      "[6]\n"
     ]
    }
   ],
   "source": [
    "# 함수를 선언합니다.\n",
    "def power(item):\n",
    "    return item + item\n",
    "def under_7(item):\n",
    "    return item < 7\n",
    "\n",
    "# 변수를 선언합니다.\n",
    "list_input_a = [ 6,  7,  8,  9, 10]\n",
    "\n",
    "result1 = map(power,list_input_a)\n",
    "print(list(result1))\n",
    "\n",
    "result2 = filter(under_7, list_input_a)\n",
    "print(list(result2))"
   ]
  },
  {
   "cell_type": "markdown",
   "metadata": {},
   "source": [
    "    정답 5점 +5"
   ]
  },
  {
   "cell_type": "markdown",
   "metadata": {},
   "source": [
    "#### 3. 정수를 입력하면 3의 배수 여부를 반환해주는 프로그램을 작성하세요.(정수 입력 후 '3의 배수', '3의 배수가 아님'으로 출력). 단 정수를 입력하지 않으면 '정수를 입력해 주세요'라고 출력 "
   ]
  },
  {
   "cell_type": "code",
   "execution_count": 2,
   "metadata": {},
   "outputs": [
    {
     "name": "stdout",
     "output_type": "stream",
     "text": [
      "정수를 입력하세요 : 5\n",
      "3의 배수가 아닙\n"
     ]
    }
   ],
   "source": [
    "try:\n",
    "    input_int = int(input(\"정수를 입력하세요 : \"))\n",
    "    if input_int % 3 == 0 :\n",
    "        print('3의 배수')\n",
    "    else:\n",
    "        print('3의 배수가 아닙')\n",
    "except ValueError:\n",
    "    print('정수를 입력하세요')"
   ]
  },
  {
   "cell_type": "markdown",
   "metadata": {},
   "source": [
    "    정답 5점 +5"
   ]
  },
  {
   "cell_type": "markdown",
   "metadata": {},
   "source": [
    "#### 4. 람다 함수를 이용해서 a의 b제곱에서 a x b를 더한 수를 구하는 식을 만들고 그 식을 이용해서  a, b가 아래와 같이 주어졌을 때 각각의 값을 구하세요. \n",
    "a = 2, b = 5 \\\n",
    "a= 5, b = 2"
   ]
  },
  {
   "cell_type": "code",
   "execution_count": 36,
   "metadata": {},
   "outputs": [
    {
     "name": "stdout",
     "output_type": "stream",
     "text": [
      "42\n",
      "35\n"
     ]
    }
   ],
   "source": [
    "A= lambda a,b : (a ** b) + (a * b)\n",
    "print(A(2,5))\n",
    "print(A(5,2))"
   ]
  },
  {
   "cell_type": "markdown",
   "metadata": {},
   "source": [
    "    정답 5점 +5"
   ]
  },
  {
   "cell_type": "markdown",
   "metadata": {},
   "source": [
    "#### 5. 10자리 정수를 입력한 후  콤마로 천단위를 구분하여 출력하세요."
   ]
  },
  {
   "cell_type": "code",
   "execution_count": 44,
   "metadata": {},
   "outputs": [
    {
     "name": "stdout",
     "output_type": "stream",
     "text": [
      "10자리 정수를 입력하세요 : a\n",
      "정수가 아닙니다\n"
     ]
    }
   ],
   "source": [
    "input_number = input('10자리 정수를 입력하세요 : ')\n",
    "\n",
    "if input_number.isdigit():\n",
    "    input_number = input_number[::-1]\n",
    "    result = ''\n",
    "    for i, x in enumerate(input_number):\n",
    "        i += 1\n",
    "        if i != len(input_number) and i % 3 == 0 :\n",
    "            result += (x + ',')\n",
    "        else:\n",
    "            result += x\n",
    "    result = result[::-1]\n",
    "    print(result)\n",
    "else:\n",
    "    print(\"정수가 아닙니다\")\n",
    "\n",
    "    "
   ]
  },
  {
   "cell_type": "markdown",
   "metadata": {},
   "source": [
    "    정답 5점 +5"
   ]
  },
  {
   "cell_type": "markdown",
   "metadata": {},
   "source": [
    "#### 6. car_lists = [\"마티즈\", \"그랜저\", \"제네시스\"]를 파이썬 내장함수를 이용하여 아래와 같이 출력하세요. \n",
    "1번 차는 마티즈입니다.\\\n",
    "2번 차는 그랜저입니다.\\\n",
    "3번 차는 제네시스입니다."
   ]
  },
  {
   "cell_type": "code",
   "execution_count": 46,
   "metadata": {},
   "outputs": [
    {
     "name": "stdout",
     "output_type": "stream",
     "text": [
      "1번 차는 마티즈입니다.\n",
      "2번 차는 그랜저입니다.\n",
      "3번 차는 제네시스입니다.\n"
     ]
    }
   ],
   "source": [
    "car_lists = [\"마티즈\", \"그랜저\", \"제네시스\"]\n",
    "for i,j in enumerate(car_lists):\n",
    "    print('%d번 차는 %s입니다.' %(i+1,j))"
   ]
  },
  {
   "cell_type": "markdown",
   "metadata": {},
   "source": [
    "    정답 5점 +5"
   ]
  },
  {
   "cell_type": "markdown",
   "metadata": {},
   "source": [
    "#### 7. 100을 37로 나눈 몫과 나머지를 내장함수를 이용하여 구하세요.(튜플로 출력 필수) "
   ]
  },
  {
   "cell_type": "code",
   "execution_count": 47,
   "metadata": {},
   "outputs": [
    {
     "data": {
      "text/plain": [
       "(2, 26)"
      ]
     },
     "execution_count": 47,
     "metadata": {},
     "output_type": "execute_result"
    }
   ],
   "source": [
    "n1,n2 = 100,37\n",
    "divmod(n1,n2)"
   ]
  },
  {
   "cell_type": "markdown",
   "metadata": {},
   "source": [
    "    정답 5점 +5"
   ]
  },
  {
   "cell_type": "markdown",
   "metadata": {},
   "source": [
    "#### 8. list_number = list(np.arange(21,26))로 변수 선언하고 정수를 입력하면 그 정수 인덱스와 리스트에서 해당하는 값을 출력하는 프로그램을 작성하세요. 단, 모든 예외처리를 수행하며 특히 ValueError와 IndexError는 별도 구분해서 예외처리 한 후 '예외처리 완료'를 마지막으로 출력하세요.\n",
    "\n",
    "- 1 ~ 5 정수 입력 \\\n",
    "1~5 정수 입력> 5 \\\n",
    "5번째 요소: 25 \\\n",
    "예외 처리 완료\n",
    "\n",
    "- 문자 입력시 \\\n",
    "정수 입력> 가 \\\n",
    "정수를 입력해 주세요!\n",
    "예외 처리 완료\n",
    "\n",
    "- 6 입력시 \\\n",
    "정수 입력> 6 \\\n",
    "리스트의 인덱스를 벗어났어요!\n",
    "예외 처리 완료"
   ]
  },
  {
   "cell_type": "code",
   "execution_count": 7,
   "metadata": {},
   "outputs": [
    {
     "name": "stdout",
     "output_type": "stream",
     "text": [
      "정수 입력 6\n",
      "정수 입력 > 6\n",
      "리스트의 인덱스를 벗어났어요!\n",
      "예외 처리 완료\n"
     ]
    }
   ],
   "source": [
    "import numpy as np\n",
    "list_number = list(np.arange(21,26))\n",
    "\n",
    "try:\n",
    "    input_num = int(input(\"정수 입력 \"))\n",
    "    print(\"정수 입력 > %d\" %(input_num))\n",
    "    print(\"%d번째 요소 : %d\" %(input_num,list_number[input_num-1]))\n",
    "except ValueError as exception:\n",
    "    print(\"정수를 입력해주세요!\")\n",
    "except IndexError as exception:\n",
    "    print('리스트의 인덱스를 벗어났어요!')\n",
    "finally:\n",
    "    print(\"예외 처리 완료\")"
   ]
  },
  {
   "cell_type": "markdown",
   "metadata": {},
   "source": [
    "    정답 5점 +5"
   ]
  },
  {
   "cell_type": "markdown",
   "metadata": {},
   "source": [
    "#### 9. 사용자로부터 서로 다른 실수 두 개를 입력받고 첫 번째 와 두 번째중 큰 실수를 구하는 프로그램을 수행하세요."
   ]
  },
  {
   "cell_type": "code",
   "execution_count": 63,
   "metadata": {},
   "outputs": [
    {
     "name": "stdout",
     "output_type": "stream",
     "text": [
      " 첫번째 실수를 입력하세요 : 3.5\n",
      " 두번째 실수를 입력하세요 : 1.5\n",
      "3.5\n"
     ]
    }
   ],
   "source": [
    "n1 = float(input(\" 첫번째 실수를 입력하세요 : \"))\n",
    "n2 = float(input(\" 두번째 실수를 입력하세요 : \"))\n",
    "\n",
    "if n1 > n2 :\n",
    "    print(n1)\n",
    "else:\n",
    "    print(n2)\n"
   ]
  },
  {
   "cell_type": "markdown",
   "metadata": {},
   "source": [
    "    정답 5점 +5"
   ]
  },
  {
   "cell_type": "markdown",
   "metadata": {},
   "source": [
    "#### 10. 1부터 1000까지 아래와 같은 방식으로 2개의 수를  곱했을 때 가장 큰 수를 구하세요.\n",
    "\n",
    " (1 * 999),(2 * 998) ...(999 * 1)"
   ]
  },
  {
   "cell_type": "code",
   "execution_count": 64,
   "metadata": {},
   "outputs": [
    {
     "name": "stdout",
     "output_type": "stream",
     "text": [
      "250000\n"
     ]
    }
   ],
   "source": [
    "max_V = 0\n",
    "\n",
    "for i in range(1,1000):\n",
    "    j = 1000 - i\n",
    "    result = i * j\n",
    "    if max_V < result:\n",
    "        max_V = result\n",
    "print(max_V)"
   ]
  },
  {
   "cell_type": "markdown",
   "metadata": {},
   "source": [
    "    정답 5점 +5"
   ]
  },
  {
   "cell_type": "markdown",
   "metadata": {},
   "source": [
    "#### 11. 정규표현식을 사용하여 text에서 지역코드를 제외한 넘버만 출력하세요.\n",
    "text = \"문의사항이 있으면 032-232-3245 으로 연락주시기 바랍니다.\""
   ]
  },
  {
   "cell_type": "code",
   "execution_count": 161,
   "metadata": {},
   "outputs": [
    {
     "name": "stdout",
     "output_type": "stream",
     "text": [
      "232-3245\n"
     ]
    }
   ],
   "source": [
    "text = \"문의사항이 있으면 032-232-3245 으로 연락주시기 바랍니다.\"\n",
    "\n",
    "import re\n",
    "p = re.compile('(\\d{3})-(\\d{4})')\n",
    "Answer = p.search(text)\n",
    "print(Answer.group())"
   ]
  },
  {
   "cell_type": "markdown",
   "metadata": {},
   "source": [
    "    정답 5점 +5"
   ]
  },
  {
   "cell_type": "markdown",
   "metadata": {},
   "source": [
    "#### 12. 'abcdefghij' 에 대하여 중첩을 적용한 서브그룹 5개로 컴파일하여 group()함수를 이용하여 'bcdefgh'와 cdefg'를 출력하세요"
   ]
  },
  {
   "cell_type": "code",
   "execution_count": 75,
   "metadata": {},
   "outputs": [
    {
     "name": "stdout",
     "output_type": "stream",
     "text": [
      "bcdefgh\n",
      "cdefg\n"
     ]
    }
   ],
   "source": [
    "text = 'abcdefghij'\n",
    "p = re.compile('(a(b(c(d(e)f)g)h)i)j')\n",
    "M = p.match(text)\n",
    "print(M.group(2))\n",
    "print(M.group(3))"
   ]
  },
  {
   "cell_type": "markdown",
   "metadata": {},
   "source": [
    "    정답 5점 +5"
   ]
  },
  {
   "cell_type": "markdown",
   "metadata": {},
   "source": [
    "#### 13. [0, 1, 2, 3, 4, 5, 6, 7, 8, 9, 'a', 'b', 'c']에서 알파벳 문자만을 리스트로 출력하세요"
   ]
  },
  {
   "cell_type": "code",
   "execution_count": 85,
   "metadata": {},
   "outputs": [
    {
     "data": {
      "text/plain": [
       "['a', 'b', 'c']"
      ]
     },
     "execution_count": 85,
     "metadata": {},
     "output_type": "execute_result"
    }
   ],
   "source": [
    "t = [0, 1, 2, 3, 4, 5, 6, 7, 8, 9, 'a', 'b', 'c']\n",
    "t[-3:]"
   ]
  },
  {
   "cell_type": "markdown",
   "metadata": {},
   "source": [
    "    정답 5점 +5"
   ]
  },
  {
   "cell_type": "markdown",
   "metadata": {},
   "source": [
    "#### 14. 500 ~ 1000사이의 정수 중 5의 배수이거나  7의 배수인 수의 합을 구하세요"
   ]
  },
  {
   "cell_type": "code",
   "execution_count": 86,
   "metadata": {},
   "outputs": [
    {
     "name": "stdout",
     "output_type": "stream",
     "text": [
      "118394\n"
     ]
    }
   ],
   "source": [
    "cal_sum = 0\n",
    "for i in range(500,1001):\n",
    "    if i % 5 == 0:\n",
    "        cal_sum += i\n",
    "    elif i % 7 == 0 :\n",
    "        cal_sum += i \n",
    "    elif (i % 5 == 0 ) & (i % 7 == 0 ):\n",
    "        cal_sum += i\n",
    "    i += 1 \n",
    "print(cal_sum())\n",
    "    "
   ]
  },
  {
   "cell_type": "code",
   "execution_count": 284,
   "metadata": {},
   "outputs": [
    {
     "name": "stdout",
     "output_type": "stream",
     "text": [
      "118394\n"
     ]
    }
   ],
   "source": [
    "cal_sum = 0\n",
    "for i in range(500,1001):\n",
    "    if i % 5 == 0 or i % 7 == 0:\n",
    "        cal_sum += i\n",
    "    i += 1 \n",
    "print(cal_sum)\n",
    "    "
   ]
  },
  {
   "cell_type": "markdown",
   "metadata": {},
   "source": [
    "    정답 5점 +5"
   ]
  },
  {
   "cell_type": "markdown",
   "metadata": {},
   "source": [
    "#### 15. [    ]을 채워서 아래와 같이 출력하세요.\n",
    "[[3, 6, 9], [1, 4, 7], [2, 5, 8]]"
   ]
  },
  {
   "cell_type": "code",
   "execution_count": 1,
   "metadata": {},
   "outputs": [
    {
     "name": "stdout",
     "output_type": "stream",
     "text": [
      "[[1, 4, 7], [2, 5, 8], [3, 6, 9]]\n"
     ]
    }
   ],
   "source": [
    "numbers = [1,2,3,4,5,6,7,8,9]\n",
    "output = [[], [], []]\n",
    "\n",
    "for number in numbers:\n",
    "    output[ (number+2)%3    ].append(number)\n",
    "print(output)"
   ]
  },
  {
   "cell_type": "markdown",
   "metadata": {},
   "source": [
    "    정답 5점 +5"
   ]
  },
  {
   "cell_type": "markdown",
   "metadata": {},
   "source": [
    "####  16. 반복문으로 팩토리얼을 구하는 사용자 함수를 작성하고 5!, 10!를 구하세요."
   ]
  },
  {
   "cell_type": "code",
   "execution_count": 302,
   "metadata": {},
   "outputs": [
    {
     "name": "stdout",
     "output_type": "stream",
     "text": [
      "120\n",
      "3628800\n"
     ]
    }
   ],
   "source": [
    "def find_fac(n):\n",
    "    fact = 1\n",
    "    for i in range(1,n+1):\n",
    "        fact = fact * i\n",
    "    return fact\n",
    "\n",
    "print(find_fac(5))\n",
    "print(find_fac(10))"
   ]
  },
  {
   "cell_type": "markdown",
   "metadata": {},
   "source": [
    "    정답 5점 +5"
   ]
  },
  {
   "cell_type": "markdown",
   "metadata": {},
   "source": [
    "#### 17. 문자열 리스트 states를 정형화하여 아래와 같이 출력하세요(내장함수 및 정규표현식 사용)"
   ]
  },
  {
   "cell_type": "code",
   "execution_count": 182,
   "metadata": {
    "scrolled": true
   },
   "outputs": [
    {
     "data": {
      "text/plain": [
       "['Alabama',\n",
       " 'Georgia',\n",
       " 'Georgia',\n",
       " 'Georgia',\n",
       " 'Florida',\n",
       " 'South   Carolina',\n",
       " 'West Virginia']"
      ]
     },
     "execution_count": 182,
     "metadata": {},
     "output_type": "execute_result"
    }
   ],
   "source": [
    "states = ['   Alabama ', 'Georgia!', 'Georgia', 'georgia', 'FlOrIda',\n",
    "          'south   carolina##', 'West virginia?']\n",
    "def clear_text(text):\n",
    "    return text.strip(' !#?').title()\n",
    "\n",
    "list(map(lambda x: clear_text(x),states))\n",
    "# [출력]\n",
    "# ['Alabama',\n",
    "#  'Georgia',\n",
    "#  'Georgia',\n",
    "#  'Georgia',\n",
    "#  'Florida',\n",
    "#  'South   Carolina',\n",
    "#  'West Virginia']"
   ]
  },
  {
   "cell_type": "markdown",
   "metadata": {},
   "source": [
    "    부분정답 +3"
   ]
  },
  {
   "cell_type": "markdown",
   "metadata": {},
   "source": [
    "####  18.게시물의 총 건수와 한 페이지에 보여 줄 게시물 수를 입력시 총 페이지 수를 출력하는 프로그램을 작성하세요. 단, 잘못 입력시 예외 처리 필수"
   ]
  },
  {
   "cell_type": "code",
   "execution_count": 18,
   "metadata": {},
   "outputs": [
    {
     "name": "stdout",
     "output_type": "stream",
     "text": [
      "게시물의 총 건수? > 100\n",
      "한 페이지에 보여줄 게시물 수? > 3\n",
      "총 페이지수 34\n"
     ]
    }
   ],
   "source": [
    "def Page(a,b):\n",
    "    if a % b == 0:\n",
    "        pages = a // b\n",
    "    elif a % b != 0:\n",
    "        pages = (a // b) + 1\n",
    "    return pages\n",
    "\n",
    "        \n",
    "try:\n",
    "    a = int(input(\"게시물의 총 건수? > \"))\n",
    "    b = int(input(\"한 페이지에 보여줄 게시물 수? > \"))\n",
    "    Page(a,b)\n",
    "    print('총 페이지수 {}'.format(Page(a,b)))\n",
    "except ValueError as  exception:\n",
    "    print(\"정수를 입력하세요\")\n"
   ]
  },
  {
   "cell_type": "markdown",
   "metadata": {},
   "source": [
    "    정답 5점 +5"
   ]
  },
  {
   "cell_type": "markdown",
   "metadata": {},
   "source": [
    "#### 19. 발표할 인원을 입력하면 랜덤으로 발표자를 리스트로 출력해주는 프로그램을 작성 후 다음을 수행하세요.(중복 허용하지 않음)\n",
    "- 발표자 1명\n",
    "- 발표자 5명\n",
    "- 발표자 28명 전원\n",
    "* Python random을 써야함."
   ]
  },
  {
   "cell_type": "code",
   "execution_count": 20,
   "metadata": {},
   "outputs": [],
   "source": [
    "name = ['고영남', '김광훈', '김동일', '김진', '박기범', '박민아', '박시우', \n",
    "        '배송이', '송유빈', '신인철','오수문','우동주','이민찬','이범준',\n",
    "        '이슬','이원진','이종현','임희진','정하림','조경림','조현정',\n",
    "        '진유훈','채승혜','최윤진','최한결','최혜정','하도원','안아름']"
   ]
  },
  {
   "cell_type": "code",
   "execution_count": 21,
   "metadata": {},
   "outputs": [
    {
     "data": {
      "text/plain": [
       "array(['송유빈'], dtype='<U3')"
      ]
     },
     "execution_count": 21,
     "metadata": {},
     "output_type": "execute_result"
    }
   ],
   "source": [
    "import numpy as np\n",
    "np.random.choice(name,1)\n",
    "\n",
    "#numpy.random => array로 변환."
   ]
  },
  {
   "cell_type": "code",
   "execution_count": 22,
   "metadata": {},
   "outputs": [
    {
     "name": "stdout",
     "output_type": "stream",
     "text": [
      "발표자 수를 입력하세요 > 28\n",
      "['이슬', '조현정', '배송이', '고영남', '이민찬', '하도원', '최혜정', '조경림', '안아름', '우동주', '김광훈', '송유빈', '김진', '정하림', '오수문', '진유훈', '채승혜', '이범준', '박시우', '최윤진', '박민아', '김동일', '최한결', '이종현', '이원진', '신인철', '임희진', '박기범']\n"
     ]
    }
   ],
   "source": [
    "import random\n",
    "P_1 = random.sample(name,1)\n",
    "P_1\n",
    "\n",
    "P_5 = random.sample(name,5)\n",
    "P_5\n",
    "\n",
    "P_28 = random.sample(name,28)\n",
    "P_28\n",
    "\n",
    "def Random_presenter():\n",
    "    num = int(input(\"발표자 수를 입력하세요 > \"))\n",
    "    global name\n",
    "    presenters = random.sample(name,num)\n",
    "    print(presenters)\n",
    "    \n",
    "\n",
    "Random_presenter()"
   ]
  },
  {
   "cell_type": "markdown",
   "metadata": {},
   "source": [
    "    정답 5점 +5"
   ]
  },
  {
   "cell_type": "markdown",
   "metadata": {},
   "source": [
    "#### 20. 네이버 통합검색 사이트에서 빅데이터를 입력한 후 관련 뉴스의 타이틀만 t선택하여 아래 포멧으로 출력하세요."
   ]
  },
  {
   "cell_type": "code",
   "execution_count": null,
   "metadata": {},
   "outputs": [],
   "source": [
    "1.'4년만에'…6개 보험사, 공공의료데이터 받는다(종합)\n",
    "2.부산시 금융 빅데이터 센터 구축 공모사업 선정\n",
    "3.\"중 의료 빅데이터업체 미 상장 보류…당국 규제강화 후 첫사례\"\n",
    "4.소비자원, 빅데이터로 소비자 분쟁 지원...中企 대응력 키운다\n",
    "5.KISA, 사이버보안 8억건 'AI 데이터셋' 구축 추진\n",
    "6.농식품 공공데이터 개방…가격·요리정보 활용 높아\n",
    "7.과학화훈련단 빅데이터 활용한 프로그램 만든다\n",
    "8.세종대, 하계방학 빅데이터 분석실무2급 프로그램 운영\n",
    "9.한국농수산식품유통공사, 범정부 빅데이터 플랫폼 연계 상담회 개최\n",
    "10.KISA, '사이버보안' AI 데이터셋 구축 착수"
   ]
  },
  {
   "cell_type": "code",
   "execution_count": 25,
   "metadata": {},
   "outputs": [],
   "source": [
    "import urllib.request as req\n",
    "from bs4 import BeautifulSoup as b_s"
   ]
  },
  {
   "cell_type": "code",
   "execution_count": 29,
   "metadata": {},
   "outputs": [
    {
     "name": "stdout",
     "output_type": "stream",
     "text": [
      "1 . '교육빅데이터위원회' 출범…교육데이터 개방·활용 논의\n",
      "2 . \"진짜 돈되는 보고서 따로 있다\"…'빅데이터 투자' 특허 출원\n",
      "3 . \"중 의료 빅데이터업체 미 상장 보류…당국 규제강화 후 첫사례\"\n",
      "4 . 부산시 ‘금융 빅데이터 센터’ 구축…디지털혁신 가속화\n",
      "5 . 삼성생명 등 6개 보험사, '공공의료 데이터 활용' 길 열렸다\n",
      "6 . ’Nowcast 포털‘로 빅데이터 기반 경제·사회 속보성 지표 서비스\n",
      "7 . 리서치알음, '빅데이터 투자 시스템' 특허 출원\n",
      "8 . 한전의 '전력 빅데이터'와 하나은행의 '금융 인센티브' 결합\n",
      "9 . 대학교 브랜드평판 6월 빅데이터 분석 1위는 서울대\n",
      "10 . 소비자원, 빅데이터로 소비자 분쟁 지원...中企 대응력 키운다\n"
     ]
    }
   ],
   "source": [
    "url = 'https://search.naver.com/search.naver?where=news&query=%EB%B9%85%EB%8D%B0%EC%9D%B4%ED%84%B0&sm=tab_opt&sort=0&photo=0&field=0&pd=0&ds=&de=&docid=&related=0&mynews=0&office_type=0&office_section_code=0&news_office_checked=&nso=so%3Ar%2Cp%3Aall&is_sug_officeid=0'\n",
    "response = req.urlopen(url)\n",
    "soup = b_s(response,'html.parser')\n",
    "texts = soup.select('.group_news> ul > li > div > div> a')\n",
    "for i in range(len(texts)):\n",
    "    print(i+1,'.',texts[i].text)"
   ]
  },
  {
   "cell_type": "markdown",
   "metadata": {},
   "source": [
    "    정답 5점 +5"
   ]
  },
  {
   "cell_type": "code",
   "execution_count": 35,
   "metadata": {},
   "outputs": [
    {
     "name": "stdout",
     "output_type": "stream",
     "text": [
      "정수 입력>4\n",
      "정수를 입력해주세요\n",
      "예외처리 완료\n"
     ]
    }
   ],
   "source": [
    "import numpy as np\n",
    "\n",
    "list_number=list(np.arange(21,26))\n",
    "\n",
    "try:\n",
    "    a= int(input('정수 입력>'))\n",
    "    print('{}번째 요소:{}'.format(list_number.index(a)+1,a))\n",
    "except ValueError as exception:\n",
    "    print('정수를 입력해주세요')\n",
    "except IndexError as exception:\n",
    "    print('리스트의 인덱스를 벗어났어요!')\n",
    "finally:\n",
    "    print('예외처리 완료')\n"
   ]
  },
  {
   "cell_type": "code",
   "execution_count": 37,
   "metadata": {},
   "outputs": [],
   "source": [
    "list_number=list(np.arange(21,26))"
   ]
  },
  {
   "cell_type": "code",
   "execution_count": 41,
   "metadata": {},
   "outputs": [
    {
     "ename": "ValueError",
     "evalue": "2 is not in list",
     "output_type": "error",
     "traceback": [
      "\u001b[1;31m---------------------------------------------------------------------------\u001b[0m",
      "\u001b[1;31mValueError\u001b[0m                                Traceback (most recent call last)",
      "\u001b[1;32m<ipython-input-41-5164139c394f>\u001b[0m in \u001b[0;36m<module>\u001b[1;34m\u001b[0m\n\u001b[1;32m----> 1\u001b[1;33m \u001b[0mlist_number\u001b[0m\u001b[1;33m.\u001b[0m\u001b[0mindex\u001b[0m\u001b[1;33m(\u001b[0m\u001b[1;36m2\u001b[0m\u001b[1;33m)\u001b[0m\u001b[1;33m\u001b[0m\u001b[1;33m\u001b[0m\u001b[0m\n\u001b[0m",
      "\u001b[1;31mValueError\u001b[0m: 2 is not in list"
     ]
    }
   ],
   "source": [
    "list_number.index(2)"
   ]
  },
  {
   "cell_type": "code",
   "execution_count": 42,
   "metadata": {},
   "outputs": [
    {
     "name": "stdout",
     "output_type": "stream",
     "text": [
      "3\n"
     ]
    }
   ],
   "source": [
    "fruits = [4, 55, 64, 32, 16, 32]\n",
    "\n",
    "x = fruits.index(32)\n",
    "\n",
    "print(x)"
   ]
  },
  {
   "cell_type": "code",
   "execution_count": null,
   "metadata": {},
   "outputs": [],
   "source": []
  },
  {
   "cell_type": "code",
   "execution_count": null,
   "metadata": {},
   "outputs": [],
   "source": []
  },
  {
   "cell_type": "code",
   "execution_count": null,
   "metadata": {},
   "outputs": [],
   "source": []
  },
  {
   "cell_type": "code",
   "execution_count": null,
   "metadata": {},
   "outputs": [],
   "source": []
  },
  {
   "cell_type": "code",
   "execution_count": null,
   "metadata": {},
   "outputs": [],
   "source": []
  },
  {
   "cell_type": "code",
   "execution_count": null,
   "metadata": {},
   "outputs": [],
   "source": []
  },
  {
   "cell_type": "code",
   "execution_count": null,
   "metadata": {},
   "outputs": [],
   "source": []
  },
  {
   "cell_type": "code",
   "execution_count": null,
   "metadata": {},
   "outputs": [],
   "source": []
  }
 ],
 "metadata": {
  "kernelspec": {
   "display_name": "Python 3",
   "language": "python",
   "name": "python3"
  },
  "language_info": {
   "codemirror_mode": {
    "name": "ipython",
    "version": 3
   },
   "file_extension": ".py",
   "mimetype": "text/x-python",
   "name": "python",
   "nbconvert_exporter": "python",
   "pygments_lexer": "ipython3",
   "version": "3.8.10"
  }
 },
 "nbformat": 4,
 "nbformat_minor": 2
}
