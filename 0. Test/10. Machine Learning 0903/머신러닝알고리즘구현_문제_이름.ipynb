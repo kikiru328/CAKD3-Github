{
 "cells": [
  {
   "cell_type": "markdown",
   "metadata": {},
   "source": [
    "## 빅데이터 기반 AI 응용 솔루션 개발자 전문 과정\n",
    "\n",
    "#### 교과목명 : 머신러닝 알고리즘 구현\n",
    "- 평가일 : 09.03\n",
    "- 성명 :\n",
    "- 점수 :"
   ]
  },
  {
   "cell_type": "markdown",
   "metadata": {},
   "source": [
    "Q1. iris data를 불러와서 아래 사항을 수행하세요.\n",
    "- 붓꽃의 종류를 분류하는 결정트리 알고리즘을 사용하여 모델링 및 정확도로 평가를 수행하세요(test_size = 0.2)\n",
    "- 결정트리 모델을 시각화하고 주요한 인사이트를 기술하세요.(tree.plot_tree or tree.export_graphviz 이용)\n",
    "- Feature importance를 추출하고 시각화하세요."
   ]
  },
  {
   "cell_type": "markdown",
   "metadata": {},
   "source": [
    "Q2. 신용카드 사기 검출 분류문제를 아래와 같이 수행하세요.\n",
    "- 'dataset/creditcard.csv'를 불러와서 출력하세요\n",
    "- 인자로 입력받은 DataFrame을 복사한 뒤 Time 칼럼만 삭제하고 복사된 df 반환하는 사용자 함수 생성\n",
    "- 사전 데이터 가공 후 학습과 테스트 데이터 세트를 반환하는 함수(테스트 사이즈 0.3)\n",
    "- 오차행렬, 정확도, 정밀도, 재현율, f1, AUC 평가 함수\n",
    "- 로지스틱 리그레션을 적용한 모델 학습 및 사용자 함수를 이용하여 평가\n",
    "- 인자로 사이킷런의 Estimator 객체와 학습/테스트 데이터 세트를 입력 받아서 학습/예측/평가 수행하는 사용자 함수 생성\n",
    "- 사용자 함수를 사용하여 LightGBM으로 모델을 학습한 뒤 별도의 테스트 데이터 세트에서 예측 평가를 수행.  \n",
    "  단, n_estimators=1000, num_leaves=64 적용\n",
    "  ※ 레이블 값이 극도로 불균형한 분포를 가지고 있는 경우 boost_from_average=False로 파라미터 설정(default=True). default 설정은 재현율, AUC 성능을 매우 크게 저하시킴\n",
    "- 넘파이의 np.log1p( )를 이용하여 Amount를 로그 변환하는 사용자 함수 생성\n",
    "- Amount를 로그 변환 후 로지스틱 회귀 및 LightGBM 수행."
   ]
  },
  {
   "cell_type": "markdown",
   "metadata": {},
   "source": [
    "Q3. Q2 신용카드 사기 검출 분류문제에서 아래를 참고하여 이상치 데이터를 제거하고 모델 학습/예측/평가를 수행하세요.\n",
    "- 히트맵을 이용해 레이블과의 상관성을 시각화 \n",
    "- 레이블과 상관성이 높은 피처를 위주로 이상치 검출하는 사용자 함수 생성\n",
    "- 사용자 함수를 이용하여 이상치 검출\n",
    "- 이상치 제거 사용자 함수를 이용하여 이상치 제거 후 로지스틱 회귀 및 LightGBM 수행 및 평가"
   ]
  },
  {
   "cell_type": "markdown",
   "metadata": {},
   "source": [
    "Q4. 신용카드 사기검출 분류문제를 SMOTE 오버 샘플링 적용 후 LightGBM 모델을 이용하여 학습, 예측, 평가를 수행하세요."
   ]
  },
  {
   "cell_type": "markdown",
   "metadata": {},
   "source": [
    "Q5. 사이킷런에서 제공해주는 load_boston 데이터셋을 가져와서 아래 사항을 수행하세요.\n",
    "- 데이터셋의 타겟 이름을 'PRICE'로 지정한 후 데이터프레임을 생성 pickle 파일('dataset/house_df.pkl')로 저장 후 다시 불어오세요.\n",
    "- 히트맵을 이용하여 타겟과 상관관계가 높은 독립 변수를 선택하세요.\n",
    "- 종속변수를 로그 변환하세요\n",
    "- 위의 사항을 반영하여 선형회귀 모델을 생성 후 평가하고 회귀계수를 출력하세요."
   ]
  },
  {
   "cell_type": "markdown",
   "metadata": {},
   "source": [
    "Q6. Q5에서 cv=5를 적용하여 cross_val_score를 이용한 교차검증을 수행하여 5 folds의 평균 RSME를 구하세요."
   ]
  },
  {
   "cell_type": "markdown",
   "metadata": {},
   "source": [
    "Q7. load_boston('dataset/house_df.pkl') 데이터셋을 불러와서 아래사항을 수행하세요.\n",
    "- alphas = [0, 0.1, 1, 10, 100] 를 적용하여 Ridge 회귀 모델링 및 교차 검증 수행 후 5 폴드 평균 RMSE 출력 \n",
    "- lasso_alphas = [0.07,0.1,0.5,1,3] 를 적용, Lasso 회귀 모델링 및 교차 검증 수행 후 5 폴드 평균 RMSE 출력(def get_linear_reg_eval(model_name,params=None,X_data_n=None, y_target_n=None, verbose=True 사용자 함수 이용) \n",
    "- elastic_alphas = [0.07,0.1,0.5,1,3] 를 적용, ElasticNet 회귀 모델링 및 교차검증 후 5 폴드 평균 RMSE를 출력(사용자 함수 이용)"
   ]
  },
  {
   "cell_type": "markdown",
   "metadata": {},
   "source": [
    "Q8. 'dataset/credit_card.xls' 데이터셋을 불러와서 아래사항을 수행하세요.\n",
    "- 전처리 : PAY_0 칼럼을 PAY_1으로 'default payment next month' 칼럼도 'default'로 칼럼명 변경. ID 삭제.\n",
    "- heatmap을 이용하여 23개의 속성 데이터간 상관관계 탐색 \n",
    "- 전체 23개 속성의 1/4 수준인 6개의 PCA 컴포넌트로 분류 예측하고 cv=3으로 교차 검증 수행"
   ]
  },
  {
   "cell_type": "markdown",
   "metadata": {},
   "source": [
    "Q9. load_iris를 불러와서 군집분석을 수행하세요.\n",
    "- 데이터플레임 생성\n",
    "- KMeans를 이용하여 군집화한 후 cluster 컬럼 추가"
   ]
  },
  {
   "cell_type": "markdown",
   "metadata": {},
   "source": [
    "Q10. 'dataset/bike_train.csv'을 불러와서 아래사항을 수행하세요.\n",
    "- datetime 타입에서 년, 월, 일, 시간 추출 및 불필요한 컬럼  ['datetime','casual','registered'] 삭제\n",
    "- 평가 사용자 함수 작성 및 분류 평가 : RMSLE, RMSE, MAE\n",
    "- 종속변수 정규성 개선위한 로그 변환 및 RMSLE, RMSE, MAE 평가\n",
    "- 각 Featire의 회귀계수 값 시각화"
   ]
  }
 ],
 "metadata": {
  "kernelspec": {
   "display_name": "Python 3",
   "language": "python",
   "name": "python3"
  },
  "language_info": {
   "codemirror_mode": {
    "name": "ipython",
    "version": 3
   },
   "file_extension": ".py",
   "mimetype": "text/x-python",
   "name": "python",
   "nbconvert_exporter": "python",
   "pygments_lexer": "ipython3",
   "version": "3.8.11"
  }
 },
 "nbformat": 4,
 "nbformat_minor": 4
}
