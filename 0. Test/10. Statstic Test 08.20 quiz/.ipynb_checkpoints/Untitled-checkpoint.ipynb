{
 "cells": [
  {
   "cell_type": "markdown",
   "id": "a8c4b765",
   "metadata": {},
   "source": [
    " 확률 변수(random variable)은 확률 실험의 결과에 대한 숫자적 표현입니다. 가령 동전을 던진다고 했을 때 앞면을 1, 뒷면을 0이라고 표현한다고 하면 이는 실험 결과의 숫자적 표현이고 확률 변수입니다. 확률 변수는 그것이 취할 수 있는 값들이 한 개, 두 개 와 같이 셀 수 있으면 이산형 확률 변수 (discrete random variable), 셀 수 없을 경우 연속형 확률 변수 (contiunous random variable)이라 부릅니다. 동전의 경우 나올 수 있는 경우의 수가 앞 면 또는 뒷 면으로 두가지니까 이산형 확률 변수입니다. 그러나 같은 반 아이들의 키 처럼 확률 변수가 가질 수 있는 가지 수가 무한한 경우 연속형 확률 변수에 속하게 됩니다.\n",
    "\n",
    " 확률 변수가 취할 수 있는 값들에는 확률이 대응되어 있고, 이를 확률 분포라고 합니다. 즉 확률 변수들이 어떠한 형태로 놓여있을까, 어떻게 분포해 있을까를 나타내주는 함수입니다. 확률 분포 역시 확률 변수가 이산형 확률 변수이냐, 연속형 확률 변수이냐에 따라서 이산형 확률분포, 연속형 확률분포로 나뉩니다.\n",
    "\n",
    " 포아송분포란 고정된 지역, 시간 또는 부피 등에서 관심 있는 사건의 관찰 수 또는 발생 횟수 X를 표현하는데 사용되는 분포입니다. 예를 들면 하루 동안 서버에 접속한 사용자 수 , 어느 주말 일요잉ㄹ에 발생한 교통사고 사망자 수 등이 있습니다.\n",
    " \n",
    " 평균을 중심으로 좌우가 대칭인 종 모양을 그리는 정규 분포는 표준 편차가 높을 수록 그래프는 완만한 곡선 형태를 띄게 됩니다.\n",
    " \n",
    " 현실 세계의 많은 데이터들은 정규분포를 따르고 있습니다. 하지만 각 집단의 평균과 표준 편차가 모두 다르기 때문에 데이터들을 서로 비교하기가 어렵습니다. 예를 들어 A 반의 수학 점수가 평균은 70점이고 표준 편차는 30점 입니다. 반면 B반은 평균 65점에 표준 편차가 10점이라면 두 반 중 어느 반이 더 수학 점수가 높다고 할 수 있을까요? 이러한 비교를 위해서 전체 데이터를 평균으로 빼주고, 표준 편차로 나누어 주는 표준화(standardizing) 작업을 거치게 됩니다. 그 결과 두 집단의 수학 점수는 동일하게 표준 정규분포를 따르게 되며 평균이 0이고 분산이 1인 정규 분포가 됩니다. 수식으로는 Z = (X-mu)/sigma 로 표현 할 수 있습니다. (변량 - 평균) / 편차 . 표준화를 거친 개별 데이터는 우리는 z-score 라고 부릅니다.\n",
    " \n",
    " t분포는 정규 분포인 모집단의 모평균을 표본 평균을 통해서 추측할 때 사용되는 분포입니다. 정규 분포와 유사한 형태를 갖지만 양 끝단에 데이터가 더 많이 분포하는 형태를 띕니다. 모집단에서 표본을 추출할 경우 표준 편차가 더 커질 것이라는 것을 예상 할 수 있습니다. 이 때문에 곡선의 모양이 더 완만해 지는 것을 t분포로 설명한다고 이해하면 좋습니다.\n",
    " \n",
    " 정규 분포의 경우 그래프의 형태를 표준 편창롸 평균이 결정하였습니다. t분포는 디 둘에 더해 수식 상에서 (n-1)에 해당하는 자유도(degree of freedom)가 그래프의 형태에 영향을 줍니다. 자유도의 정의는 말 그대로 자유스러운 정도로 특정 분포에서 그래프의 모양을 결정하는 모수입니다. 대표적으로 t분포와 카이제곱 분포가 자유도를 모수로 갖습니다.\n",
    " \n",
    " f분포는  f검정이나 분산 분석에서 많이 활용된다고 합니다. f분포는 두 모분산의 비율에 대한 추정을 할 때 사용됩니다.\n",
    " \n",
    " 카이제곱빈도는 관찰된 빈도가 기대 빈도와 통계적으로 다른지를 판단하는 검증방법으로 사용합니다.\n",
    " \n",
    " 모집단의 표본에서 얻은 통계량을 통해 모집단의 통계적 특성을 추측할 수 있습니다. 이러한 과정을 논리적으로 전개하기 위해서 필요한 것이 가설과 검정입니다. 가설 (hypothesis)란 확률 분포에 대한 어떠한 주장이며 이를 증명하는 행위를 검정(testing)이라 합니다. 특히 확률 분포의 모수 값에 대한 가설을 검정하는 것을 모수 검정(parameter testing)이라고 부릅니다.\n",
    " \n",
    " 귀무가설은 처음부터 버릴 것을 예상하는 가설입니다. 기본적으로 참으로 추정되며 이를 거부하기 위해서는 증거가 반드시 필요합니다. 예를 들어 형사가 용의자를 잡았을 경우에도 무죄 추정의 원칙에 따라서 '이 용의자는 무죄일 것이다'라는 가설을 먼저 세우게 됩니다. 귀무가설을 세울 때에는 특별한 증거가 없다면 참으로 여겨지는 가설을 귀무가설(영가설)로 세우게 됩니다.\n",
    " \n",
    " 제 1 종 오류 (type 1 error)란 귀무 가설이 맞는데도 이를 잘못 기각하여 발생하는 오류입니다. 용의자가 무죄가 맞지만 잘못하여 유죄 판결을 내리는 것과 같습니다. 제 2 종 오류 (type 2 error)란 ㄱ대립 가설이 사실임에도 불구하고 귀무가설을 기각하지 못하는 오류를 말합니다. 용의자가 범인이 맞지만 무죄가 아니라는 것을 입증해내지 못하는 것을 말합니다.\n",
    " \n",
    " p-value 란 귀무 가설이 맞다ㅣ고 가정할 때 얻은 결과보다 극단적인 결과가 관측될 확률입니다.\n",
    " \n",
    " 유의수준은 귀무가설을 기각하는 기준이 되는 값입니다.\n",
    " \n",
    " 통계 모델에 사용하는 파라미터를 계수라고 하는 반면에 머신러닝에서는 가중치 라고 표현합니다."
   ]
  },
  {
   "cell_type": "code",
   "execution_count": 1,
   "id": "d52c22c3",
   "metadata": {},
   "outputs": [],
   "source": [
    "# module import\n",
    "import numpy as np\n",
    "import pandas as pd\n",
    "from scipy import stats\n",
    "from matplotlib import pyplot as plt\n",
    "%matplotlib inline\n",
    "import seaborn as sns"
   ]
  },
  {
   "cell_type": "markdown",
   "id": "a391d40b",
   "metadata": {},
   "source": [
    "다음의 확률밀도함수를 그래프로 표현학도 모집단 분포와 비교한 후 t분포의 특징을 기술하세요\n",
    "- 표준정규분포\n",
    "- 표준정규분포인 모집단에서 샘플 10개를 추출한 표본의  t분포\n",
    "- 평균 0, 표준편차 2 인 정규분포\n",
    "- 평균 0, 표준편차 2인 정규분포인 모집단에서 샘플 5개를 추출한 표본의  t분포"
   ]
  },
  {
   "cell_type": "code",
   "execution_count": 8,
   "id": "b5a4c4b3",
   "metadata": {
    "tags": []
   },
   "outputs": [
    {
     "data": {
      "text/plain": [
       "[<matplotlib.lines.Line2D at 0x205e66d29d0>]"
      ]
     },
     "execution_count": 8,
     "metadata": {},
     "output_type": "execute_result"
    },
    {
     "data": {
      "image/png": "[encoded data removed]",
      "text/plain": [
       "<Figure size 432x288 with 1 Axes>"
      ]
     },
     "metadata": {
      "needs_background": "light"
     },
     "output_type": "display_data"
    }
   ],
   "source": [
    "# 정규 분포를 그릴만한 데이터\n",
    "np.random.seed(0)\n",
    "x = np.arange(-4,4,0.001)\n",
    "\n",
    "# 정규 분포 그래프 출력 코드\n",
    "plt.plot(x, stats.norm.pdf(x=x, loc=0, scale=1), color = 'b', linestyle = 'dotted')\n",
    "plt.plot(x, stats.norm.pdf(x=x, loc=0, scale=2), color = 'r', linestyle = 'dotted')\n",
    "\n",
    "# # t분포 출력코드\n",
    "plt.plot(x,stats.t.pdf(x=x, loc=0, scale=1, df=9),color='k') # t분포 stats.t.pdf / 자유도 (n-1) 불편분산 적용\n",
    "plt.plot(x,stats.t.pdf(x=x, loc=0, scale=2, df=4),color='r')"
   ]
  },
  {
   "cell_type": "markdown",
   "id": "5f228bf2-8ed3-4d04-b025-464d9014d841",
   "metadata": {},
   "source": [
    "### 검정과 관련 다음 사항에 대해서 기술하세요\n",
    "- t검정을 사용하는 경우\n",
    "- t검정에 사용하는  t-value 산출 방법\n",
    "- t-value와 z-score간의 의미상 차이"
   ]
  },
  {
   "cell_type": "markdown",
   "id": "609e9fcb-a9a8-4efa-8b3f-b7a306da95fc",
   "metadata": {},
   "source": [
    " t검정의 경우 모집단의 분산이나 표준편차를 알지 못할 때 모집단을 대표하는 표본으로부터 추정된 분산이나 표준편차를 가지고 검정하는 방법으로 \"두 모집단의 평균간의 차이는 없다\"라는 귀무가설과 \"두 모집단의 평균 간에 차이가 있다\" 라는 대립가설 중에 하나를 선택할 수 있도록 하는 통계적 검정방법이다.\n",
    "\n",
    " t값이란 t 검정에 이용되는 검정통계량으로, 두 집단의 차이의 평균(X)를 표준오차(SE)로 나눈 값이다.\n",
    " \n",
    " t값이란 [표준오차]와 [표본평균사이의 차이]의 비율인 반면\n",
    " z -score는 전체 데이터를 평균으로 빼고, 표준 편차로 나누어 준 표준화를 의미한다.\n",
    " Z = (X-mu) / sigma"
   ]
  },
  {
   "cell_type": "markdown",
   "id": "0932a44d-b4af-4420-aec3-dfb3e0492866",
   "metadata": {},
   "source": [
    "//"
   ]
  },
  {
   "cell_type": "markdown",
   "id": "65dcf227-03b6-4e8a-ae5e-50c3363b0bd7",
   "metadata": {},
   "source": [
    "남성 키의 평균 170 표준편차는 5인 모집단 생성(size=2000) 후 그 중 10개를 출력하세요.\n",
    "- 추출한 샘플1, 샘플2로 부터 남성의 평균 키가 170이다 라는 가설을 세우고 검정\n",
    "- 샘플2를 기준으로 표준오차를 구하세요\n",
    "- 샘플2를 기준으로 95% 신뢰수준으로 신뢰구간을 구하세요"
   ]
  },
  {
   "cell_type": "code",
   "execution_count": 9,
   "id": "a610464d-d7ca-4122-b333-d75d56a38402",
   "metadata": {},
   "outputs": [
    {
     "data": {
      "text/plain": [
       "array([178.82026173, 172.00078604, 174.89368992, 181.204466  ,\n",
       "       179.33778995, 165.1136106 , 174.75044209, 169.24321396,\n",
       "       169.48390574, 172.05299251])"
      ]
     },
     "execution_count": 9,
     "metadata": {},
     "output_type": "execute_result"
    }
   ],
   "source": [
    "np.random.seed(0)\n",
    "norm_dist = stats.norm(loc = 170, scale = 5) #정규분포를 만들고\n",
    "data = norm_dist.rvs(size = 2000) #표본(rvs) 2000개를 추출\n",
    "data[:10]"
   ]
  },
  {
   "cell_type": "code",
   "execution_count": 10,
   "id": "aba76746-8639-46a4-82fb-90fd5d2a539e",
   "metadata": {},
   "outputs": [],
   "source": [
    "#가설생성 sample 추출\n",
    "np.random.seed(0)\n",
    "sample1 = np.random.choice(data,20,replace=False)\n",
    "sample2 = data[:20]"
   ]
  },
  {
   "cell_type": "code",
   "execution_count": 11,
   "id": "38237f0b-f5a4-4aad-abe8-9cabb0eb397c",
   "metadata": {},
   "outputs": [
    {
     "name": "stdout",
     "output_type": "stream",
     "text": [
      "169.7142131037363\n",
      "172.84667296472819\n"
     ]
    }
   ],
   "source": [
    "print(sample1.mean())\n",
    "print(sample2.mean())"
   ]
  },
  {
   "cell_type": "code",
   "execution_count": 12,
   "id": "f6ce0c80-d6de-40e0-a097-5e2167347e42",
   "metadata": {},
   "outputs": [
    {
     "name": "stdout",
     "output_type": "stream",
     "text": [
      "Ttest_1sampResult(statistic=-0.24380398738674006, pvalue=0.8099957747088522)\n",
      "Ttest_1sampResult(statistic=2.918986310409787, pvalue=0.008803359459852944)\n"
     ]
    }
   ],
   "source": [
    "#t검정 = stats.ttest_1samp()\n",
    "print(stats.ttest_1samp(sample1,170))\n",
    "print(stats.ttest_1samp(sample2,170))"
   ]
  },
  {
   "cell_type": "code",
   "execution_count": 13,
   "id": "e5cc8ac6-40bf-45a9-9fb3-f64acccc69ef",
   "metadata": {},
   "outputs": [
    {
     "data": {
      "text/plain": [
       "0.98"
      ]
     },
     "execution_count": 13,
     "metadata": {},
     "output_type": "execute_result"
    }
   ],
   "source": [
    "#표준오차\n",
    "sigma = np.std(sample2,ddof=1)\n",
    "se = sigma / np.sqrt(len(sample2))\n",
    "round(se,2)"
   ]
  },
  {
   "cell_type": "code",
   "execution_count": 18,
   "id": "63d4dc65-bad1-470e-b62d-64f5ad4ccda0",
   "metadata": {},
   "outputs": [
    {
     "data": {
      "text/plain": [
       "(172.78470678218451, 172.90863914719816)"
      ]
     },
     "execution_count": 18,
     "metadata": {},
     "output_type": "execute_result"
    }
   ],
   "source": [
    "# 신뢰구간 계산 : stats.interval(alpha 신뢰계수, df, loc, scale)\n",
    "df = len(sample2)-1\n",
    "mu = sample2.mean()\n",
    "interval = stats.t.interval(alpha = 0.05,\n",
    "                          df = df,\n",
    "                          loc = mu,\n",
    "                          scale = se)\n",
    "interval"
   ]
  },
  {
   "cell_type": "code",
   "execution_count": 20,
   "id": "527e72e5-64b8-4422-8110-7ab82bacafc6",
   "metadata": {},
   "outputs": [
    {
     "data": {
      "text/plain": [
       "2.093024054408263"
      ]
     },
     "execution_count": 20,
     "metadata": {},
     "output_type": "execute_result"
    }
   ],
   "source": [
    "#percentatge point function\n",
    "t_975 = stats.t.ppf(q= 0.975, df=df)\n",
    "t_975"
   ]
  },
  {
   "cell_type": "code",
   "execution_count": 26,
   "id": "33494e91-cc11-49cf-bd8b-0ef09439689f",
   "metadata": {},
   "outputs": [
    {
     "data": {
      "text/plain": [
       "170.80550032580157"
      ]
     },
     "execution_count": 26,
     "metadata": {},
     "output_type": "execute_result"
    }
   ],
   "source": [
    "# 하측신뢰관계 \n",
    "lower = mu - t_975*se\n",
    "lower"
   ]
  },
  {
   "cell_type": "code",
   "execution_count": 25,
   "id": "87dc61a0-bccb-4d7a-9795-bc4bbf8b61cf",
   "metadata": {},
   "outputs": [
    {
     "data": {
      "text/plain": [
       "174.8878456036548"
      ]
     },
     "execution_count": 25,
     "metadata": {},
     "output_type": "execute_result"
    }
   ],
   "source": [
    "# 상측신뢰관계\n",
    "upper = mu + t_975*se\n",
    "upper"
   ]
  },
  {
   "cell_type": "code",
   "execution_count": 27,
   "id": "df14db57-925b-4d99-871c-814c74a959c4",
   "metadata": {},
   "outputs": [
    {
     "data": {
      "text/plain": [
       "2.9189863104097875"
      ]
     },
     "execution_count": 27,
     "metadata": {},
     "output_type": "execute_result"
    }
   ],
   "source": [
    "# t값이 크면 유의미한 차이가 있다고 판단\n",
    "t_value = (mu-170) / se\n",
    "t_value"
   ]
  },
  {
   "cell_type": "code",
   "execution_count": 28,
   "id": "3dad8592-b16c-46ee-84c8-d642b64e6a57",
   "metadata": {},
   "outputs": [
    {
     "data": {
      "text/plain": [
       "0.008803359459852889"
      ]
     },
     "execution_count": 28,
     "metadata": {},
     "output_type": "execute_result"
    }
   ],
   "source": [
    "# p값(유의확률)이 유의수준(0.05)보다 작다. 뒤무가설 기각.\n",
    "# 남성의 평균 키가 170이 아니라는 판단이 가능하다\n",
    "alpha = stats.t.cdf(t_value,df=df)\n",
    "(1-alpha) * 2"
   ]
  },
  {
   "cell_type": "code",
   "execution_count": null,
   "id": "48a47584-9d83-49d8-99ab-13911c431822",
   "metadata": {},
   "outputs": [],
   "source": []
  }
 ],
 "metadata": {
  "kernelspec": {
   "display_name": "Python 3",
   "language": "python",
   "name": "python3"
  },
  "language_info": {
   "codemirror_mode": {
    "name": "ipython",
    "version": 3
   },
   "file_extension": ".py",
   "mimetype": "text/x-python",
   "name": "python",
   "nbconvert_exporter": "python",
   "pygments_lexer": "ipython3",
   "version": "3.8.11"
  },
  "varInspector": {
   "cols": {
    "lenName": 16,
    "lenType": 16,
    "lenVar": 40
   },
   "kernels_config": {
    "python": {
     "delete_cmd_postfix": "",
     "delete_cmd_prefix": "del ",
     "library": "var_list.py",
     "varRefreshCmd": "print(var_dic_list())"
    },
    "r": {
     "delete_cmd_postfix": ") ",
     "delete_cmd_prefix": "rm(",
     "library": "var_list.r",
     "varRefreshCmd": "cat(var_dic_list()) "
    }
   },
   "types_to_exclude": [
    "module",
    "function",
    "builtin_function_or_method",
    "instance",
    "_Feature"
   ],
   "window_display": false
  }
 },
 "nbformat": 4,
 "nbformat_minor": 5
}
