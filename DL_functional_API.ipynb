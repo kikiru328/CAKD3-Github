{
  "nbformat": 4,
  "nbformat_minor": 0,
  "metadata": {
    "colab": {
      "name": "DL_functional_API.ipynb",
      "provenance": [],
      "collapsed_sections": [],
      "toc_visible": true,
      "machine_shape": "hm",
      "mount_file_id": "1ykMlqg27YN0xNDMGGa6rg7z8CdzWXIhz",
      "authorship_tag": "ABX9TyOWHBxeTGZXwDhc+NGNy5yA",
      "include_colab_link": true
    },
    "kernelspec": {
      "name": "python3",
      "display_name": "Python 3"
    },
    "language_info": {
      "name": "python"
    },
    "accelerator": "GPU"
  },
  "cells": [
    {
      "cell_type": "markdown",
      "metadata": {
        "id": "view-in-github",
        "colab_type": "text"
      },
      "source": [
        "<a href=\"https://colab.research.google.com/github/kikiru328/CAKD3-Github/blob/main/DL_functional_API.ipynb\" target=\"_parent\"><img src=\"https://colab.research.google.com/assets/colab-badge.svg\" alt=\"Open In Colab\"/></a>"
      ]
    },
    {
      "cell_type": "markdown",
      "metadata": {
        "id": "qVOUv_6nHWv8"
      },
      "source": [
        "# Sequential Model\n",
        "- pg.316"
      ]
    },
    {
      "cell_type": "code",
      "metadata": {
        "colab": {
          "base_uri": "https://localhost:8080/"
        },
        "id": "6_qFeESr9pnm",
        "outputId": "1c504e53-7835-4449-db67-7b30be5d0269"
      },
      "source": [
        "from tensorflow.keras.models import Sequential, Model\n",
        "from tensorflow.keras import layers\n",
        "from tensorflow.keras import Input\n",
        "\n",
        "seq_model = Sequential()\n",
        "seq_model.add(layers.Dense(32, activation = 'relu', input_shape = (64,)))\n",
        "seq_model.add(layers.Dense(32, activation = 'relu'))\n",
        "seq_model.add(layers.Dense(10, activation = 'softmax'))\n",
        "seq_model.summary()"
      ],
      "execution_count": null,
      "outputs": [
        {
          "output_type": "stream",
          "name": "stdout",
          "text": [
            "Model: \"sequential\"\n",
            "_________________________________________________________________\n",
            "Layer (type)                 Output Shape              Param #   \n",
            "=================================================================\n",
            "dense (Dense)                (None, 32)                2080      \n",
            "_________________________________________________________________\n",
            "dense_1 (Dense)              (None, 32)                1056      \n",
            "_________________________________________________________________\n",
            "dense_2 (Dense)              (None, 10)                330       \n",
            "=================================================================\n",
            "Total params: 3,466\n",
            "Trainable params: 3,466\n",
            "Non-trainable params: 0\n",
            "_________________________________________________________________\n"
          ]
        }
      ]
    },
    {
      "cell_type": "markdown",
      "metadata": {
        "id": "G7s_XLlKHYw7"
      },
      "source": [
        "# 함수형 API 모델\n",
        "- Functional API model\n",
        "- pg.315"
      ]
    },
    {
      "cell_type": "code",
      "metadata": {
        "colab": {
          "base_uri": "https://localhost:8080/"
        },
        "id": "uOYVeHixCR-k",
        "outputId": "96b32162-34c2-4f39-e3cc-10308a9f74d4"
      },
      "source": [
        "input_tensor = Input(shape=(64,))\n",
        "x = layers.Dense(32, activation='relu')(input_tensor)\n",
        "x = layers.Dense(32, activation='relu')(x)\n",
        "output_tensor = layers.Dense(10, activation='softmax')(x)\n",
        "\n",
        "model = Model(input_tensor,output_tensor)\n",
        "model.summary()"
      ],
      "execution_count": null,
      "outputs": [
        {
          "output_type": "stream",
          "name": "stdout",
          "text": [
            "Model: \"model\"\n",
            "_________________________________________________________________\n",
            "Layer (type)                 Output Shape              Param #   \n",
            "=================================================================\n",
            "input_2 (InputLayer)         [(None, 64)]              0         \n",
            "_________________________________________________________________\n",
            "dense_4 (Dense)              (None, 32)                2080      \n",
            "_________________________________________________________________\n",
            "dense_5 (Dense)              (None, 32)                1056      \n",
            "_________________________________________________________________\n",
            "dense_6 (Dense)              (None, 10)                330       \n",
            "=================================================================\n",
            "Total params: 3,466\n",
            "Trainable params: 3,466\n",
            "Non-trainable params: 0\n",
            "_________________________________________________________________\n"
          ]
        }
      ]
    },
    {
      "cell_type": "code",
      "metadata": {
        "colab": {
          "base_uri": "https://localhost:8080/"
        },
        "id": "SGt4AfdrD4gM",
        "outputId": "70bedc30-7eab-4d92-c97a-a27898f6e789"
      },
      "source": [
        "import numpy as np\n",
        "np.random.random((1000,64))"
      ],
      "execution_count": null,
      "outputs": [
        {
          "output_type": "execute_result",
          "data": {
            "text/plain": [
              "array([[0.61503183, 0.44229093, 0.74265515, ..., 0.00730233, 0.46532516,\n",
              "        0.47193939],\n",
              "       [0.35764164, 0.63450487, 0.09146057, ..., 0.0595949 , 0.27730135,\n",
              "        0.57764713],\n",
              "       [0.36374721, 0.91782895, 0.39725965, ..., 0.16565633, 0.32781484,\n",
              "        0.98171902],\n",
              "       ...,\n",
              "       [0.51976887, 0.3324092 , 0.02876   , ..., 0.92042992, 0.52900688,\n",
              "        0.59577523],\n",
              "       [0.60952173, 0.7443348 , 0.09911454, ..., 0.80580107, 0.57059065,\n",
              "        0.11770761],\n",
              "       [0.85280002, 0.14355622, 0.23224011, ..., 0.78132565, 0.33173563,\n",
              "        0.12022617]])"
            ]
          },
          "metadata": {},
          "execution_count": 6
        }
      ]
    },
    {
      "cell_type": "code",
      "metadata": {
        "colab": {
          "base_uri": "https://localhost:8080/"
        },
        "id": "0c_u_dHKEDDR",
        "outputId": "c0e7094f-6e44-471b-ff55-b96fa85e3c93"
      },
      "source": [
        "import numpy as np\n",
        "model.compile(optimizer = 'rmsprop', loss='categorical_crossentropy')\n",
        "\n",
        "x_train = np.random.random((1000,64))\n",
        "y_train = np.random.random((1000,10))\n",
        "\n",
        "model.fit(x_train,y_train, epochs=10, batch_size=128)\n",
        "score = model.evaluate(x_train, y_train)"
      ],
      "execution_count": null,
      "outputs": [
        {
          "output_type": "stream",
          "name": "stdout",
          "text": [
            "Epoch 1/10\n",
            "8/8 [==============================] - 2s 3ms/step - loss: 11.6657\n",
            "Epoch 2/10\n",
            "8/8 [==============================] - 0s 3ms/step - loss: 12.3671\n",
            "Epoch 3/10\n",
            "8/8 [==============================] - 0s 3ms/step - loss: 14.0929\n",
            "Epoch 4/10\n",
            "8/8 [==============================] - 0s 3ms/step - loss: 16.2528\n",
            "Epoch 5/10\n",
            "8/8 [==============================] - 0s 3ms/step - loss: 17.6955\n",
            "Epoch 6/10\n",
            "8/8 [==============================] - 0s 3ms/step - loss: 19.5786\n",
            "Epoch 7/10\n",
            "8/8 [==============================] - 0s 3ms/step - loss: 21.6795\n",
            "Epoch 8/10\n",
            "8/8 [==============================] - 0s 3ms/step - loss: 23.6958\n",
            "Epoch 9/10\n",
            "8/8 [==============================] - 0s 3ms/step - loss: 25.8940\n",
            "Epoch 10/10\n",
            "8/8 [==============================] - 0s 3ms/step - loss: 28.1803\n",
            "32/32 [==============================] - 0s 2ms/step - loss: 29.4992\n"
          ]
        }
      ]
    },
    {
      "cell_type": "code",
      "metadata": {
        "colab": {
          "base_uri": "https://localhost:8080/"
        },
        "id": "uhAqyp04EZ1a",
        "outputId": "b503c990-067a-4aab-a020-52e9e3c10f47"
      },
      "source": [
        "score"
      ],
      "execution_count": null,
      "outputs": [
        {
          "output_type": "execute_result",
          "data": {
            "text/plain": [
              "29.499237060546875"
            ]
          },
          "metadata": {},
          "execution_count": 8
        }
      ]
    },
    {
      "cell_type": "markdown",
      "metadata": {
        "id": "besy02TaHcjd"
      },
      "source": [
        "## 다중 입력 모델\n",
        "- pg.318"
      ]
    },
    {
      "cell_type": "markdown",
      "metadata": {
        "id": "DJruOGBvIS0h"
      },
      "source": [
        "### 2개의 입력을 가진 질문-응답 모델의 함수형 API 구현하기"
      ]
    },
    {
      "cell_type": "code",
      "metadata": {
        "id": "YrakMCA4Ec1l"
      },
      "source": [
        "from tensorflow.keras.models import Model\n",
        "from tensorflow.keras import layers\n",
        "from keras import Input\n",
        "text_vocabulary_size = 10000\n",
        "question_vocabulary_size = 10000\n",
        "answer_vocabulary_size = 500\n",
        "\n",
        "text_input = Input(shape=(None,), dtype='int32', name='text')\n",
        "embedded_text = layers.Embedding(text_vocabulary_size,64)(text_input)\n",
        "encoded_text = layers.LSTM(32)(embedded_text)\n",
        "question_input = Input(shape=(None,), dtype='int32', name='question')\n",
        "\n",
        "embedded_question = layers.Embedding(question_vocabulary_size, 32)(question_input)\n",
        "encoded_question = layers.LSTM(16)(embedded_question)\n",
        "\n",
        "concatenated = layers.concatenate([encoded_text,encoded_question], axis=-1)\n",
        "\n",
        "answer = layers.Dense(answer_vocabulary_size, activation='softmax')(concatenated)\n",
        "\n",
        "model = Model([text_input, question_input], answer)\n",
        "model.compile(\n",
        "    optimizer = 'rmsprop',\n",
        "    loss = 'categorical_crossentropy',\n",
        "    metrics = ['acc']\n",
        ")"
      ],
      "execution_count": null,
      "outputs": []
    },
    {
      "cell_type": "markdown",
      "metadata": {
        "id": "BbMIXRE5IOZq"
      },
      "source": [
        "### 다중 입력 모델에 데이터 주입하기"
      ]
    },
    {
      "cell_type": "code",
      "metadata": {
        "colab": {
          "base_uri": "https://localhost:8080/"
        },
        "id": "2AhMFntxFamD",
        "outputId": "754a0d93-8761-4f03-a6da-7ae4ca78fe50"
      },
      "source": [
        "import numpy as np\n",
        "from tensorflow.keras.utils import to_categorical\n",
        "\n",
        "num_samples = 1000\n",
        "max_length = 100\n",
        "\n",
        "text = np.random.randint(1, text_vocabulary_size, size =(num_samples, max_length))\n",
        "question = np.random.randint(1, question_vocabulary_size, size = (num_samples, max_length))\n",
        "answers= np.random.randint(0, answer_vocabulary_size, size = num_samples)\n",
        "answers = to_categorical(answers)\n",
        "\n",
        "model.fit([text,question], answers, epochs=10, batch_size = 128)\n",
        "\n",
        "model.fit({'text':text, 'question':question}, answers, epochs=10, batch_size=128)"
      ],
      "execution_count": null,
      "outputs": [
        {
          "output_type": "stream",
          "name": "stdout",
          "text": [
            "Epoch 1/10\n",
            "8/8 [==============================] - 5s 16ms/step - loss: 6.2144 - acc: 0.0040\n",
            "Epoch 2/10\n",
            "8/8 [==============================] - 0s 15ms/step - loss: 6.1934 - acc: 0.0360\n",
            "Epoch 3/10\n",
            "8/8 [==============================] - 0s 15ms/step - loss: 6.1217 - acc: 0.0030\n",
            "Epoch 4/10\n",
            "8/8 [==============================] - 0s 15ms/step - loss: 6.0474 - acc: 0.0080\n",
            "Epoch 5/10\n",
            "8/8 [==============================] - 0s 14ms/step - loss: 5.9867 - acc: 0.0120\n",
            "Epoch 6/10\n",
            "8/8 [==============================] - 0s 14ms/step - loss: 5.9281 - acc: 0.0100\n",
            "Epoch 7/10\n",
            "8/8 [==============================] - 0s 15ms/step - loss: 5.8529 - acc: 0.0090\n",
            "Epoch 8/10\n",
            "8/8 [==============================] - 0s 14ms/step - loss: 5.7829 - acc: 0.0150\n",
            "Epoch 9/10\n",
            "8/8 [==============================] - 0s 13ms/step - loss: 5.6981 - acc: 0.0110\n",
            "Epoch 10/10\n",
            "8/8 [==============================] - 0s 16ms/step - loss: 5.6166 - acc: 0.0230\n",
            "Epoch 1/10\n",
            "8/8 [==============================] - 2s 15ms/step - loss: 5.5412 - acc: 0.0280\n",
            "Epoch 2/10\n",
            "8/8 [==============================] - 0s 15ms/step - loss: 5.4725 - acc: 0.0300\n",
            "Epoch 3/10\n",
            "8/8 [==============================] - 0s 15ms/step - loss: 5.3966 - acc: 0.0400\n",
            "Epoch 4/10\n",
            "8/8 [==============================] - 0s 15ms/step - loss: 5.3414 - acc: 0.0440\n",
            "Epoch 5/10\n",
            "8/8 [==============================] - 0s 15ms/step - loss: 5.2925 - acc: 0.0460\n",
            "Epoch 6/10\n",
            "8/8 [==============================] - 0s 15ms/step - loss: 5.2332 - acc: 0.0440\n",
            "Epoch 7/10\n",
            "8/8 [==============================] - 0s 16ms/step - loss: 5.1780 - acc: 0.0460\n",
            "Epoch 8/10\n",
            "8/8 [==============================] - 0s 14ms/step - loss: 5.1078 - acc: 0.0590\n",
            "Epoch 9/10\n",
            "8/8 [==============================] - 0s 14ms/step - loss: 5.0760 - acc: 0.0560\n",
            "Epoch 10/10\n",
            "8/8 [==============================] - 0s 16ms/step - loss: 5.0051 - acc: 0.0660\n"
          ]
        },
        {
          "output_type": "execute_result",
          "data": {
            "text/plain": [
              "<keras.callbacks.History at 0x7f6bdb156c50>"
            ]
          },
          "metadata": {},
          "execution_count": 19
        }
      ]
    },
    {
      "cell_type": "code",
      "metadata": {
        "colab": {
          "base_uri": "https://localhost:8080/"
        },
        "id": "HiKTrnutGsGQ",
        "outputId": "0d2f82f1-f6cf-4309-ff3b-617034efc7f5"
      },
      "source": [
        "text.shape"
      ],
      "execution_count": null,
      "outputs": [
        {
          "output_type": "execute_result",
          "data": {
            "text/plain": [
              "(1000, 100)"
            ]
          },
          "metadata": {},
          "execution_count": 20
        }
      ]
    },
    {
      "cell_type": "markdown",
      "metadata": {
        "id": "cNbyZkuhIKV5"
      },
      "source": [
        "## (과제 : 다중 출력모델 )"
      ]
    },
    {
      "cell_type": "markdown",
      "metadata": {
        "id": "CZYC6ZXBL7Dl"
      },
      "source": [
        "- 3개의 출력을 가진 함수형 API 구현하기"
      ]
    },
    {
      "cell_type": "code",
      "metadata": {
        "id": "kpQFl4SFMsxD"
      },
      "source": [
        "from tensorflow.keras import layers\n",
        "from tensorflow.keras import Input\n",
        "from tensorflow.keras.models import model\n",
        "\n",
        "vocabulary_size = 50000\n",
        "num_income_size = 10\n",
        "\n",
        "posts_input = Input(shape = (None,), dtype = 'int32', name = 'posts')\n",
        "embedded_posts = layers.Embedding(vocabulary_size, 256)(posts_input)\n",
        "x = layers.Conv1D(128,5, acitvation = 'relu')(embedded_posts)\n",
        "x = layers.MaxPooling1D(5)(x)\n",
        "x =l"
      ],
      "execution_count": null,
      "outputs": []
    },
    {
      "cell_type": "markdown",
      "metadata": {
        "id": "YhZm9Py6MB8p"
      },
      "source": [
        "## 층으로 구성된 비순환 유향 그래프"
      ]
    },
    {
      "cell_type": "code",
      "metadata": {
        "id": "ohEMKU-LMG6o"
      },
      "source": [
        ""
      ],
      "execution_count": null,
      "outputs": []
    }
  ]
}