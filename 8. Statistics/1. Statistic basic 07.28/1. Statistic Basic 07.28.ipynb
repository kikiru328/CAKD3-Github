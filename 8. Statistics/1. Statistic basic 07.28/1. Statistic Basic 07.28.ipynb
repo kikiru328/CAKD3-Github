{
 "cells": [
  {
   "cell_type": "raw",
   "id": "2e4f59d0",
   "metadata": {},
   "source": []
  },
  {
   "cell_type": "code",
   "execution_count": 1,
   "id": "d1652cbf",
   "metadata": {},
   "outputs": [
    {
     "data": {
      "text/plain": [
       "array([2, 3, 3, 4, 4, 4, 4, 5, 5, 6])"
      ]
     },
     "execution_count": 1,
     "metadata": {},
     "output_type": "execute_result"
    }
   ],
   "source": [
    "import numpy as np\n",
    "import pandas as pd\n",
    "fish_data = np.array([2,3,3,4,4,4,4,5,5,6])\n",
    "fish_data"
   ]
  },
  {
   "cell_type": "code",
   "execution_count": 3,
   "id": "011c5bb9",
   "metadata": {},
   "outputs": [
    {
     "data": {
      "text/plain": [
       "10"
      ]
     },
     "execution_count": 3,
     "metadata": {},
     "output_type": "execute_result"
    }
   ],
   "source": [
    "np.sum(fish_data)\n",
    "len(fish_data)"
   ]
  },
  {
   "cell_type": "code",
   "execution_count": 5,
   "id": "fc8ba874",
   "metadata": {},
   "outputs": [
    {
     "data": {
      "text/plain": [
       "4.0"
      ]
     },
     "execution_count": 5,
     "metadata": {},
     "output_type": "execute_result"
    }
   ],
   "source": [
    "# 평균\n",
    "# 확률변수의 개수 N\n",
    "# 데이터의 총 값 (sum)\n",
    "# 평균 (mu) = 데이터의 총값(sum) / 확률변수의 개수\n",
    "\n",
    "N = len(fish_data)\n",
    "sum_value = np.sum(fish_data)\n",
    "mu = sum_value / N\n",
    "mu"
   ]
  },
  {
   "cell_type": "code",
   "execution_count": 13,
   "id": "61565b0c",
   "metadata": {},
   "outputs": [
    {
     "name": "stdout",
     "output_type": "stream",
     "text": [
      "1.2\n"
     ]
    },
    {
     "data": {
      "text/plain": [
       "1.3333333333333333"
      ]
     },
     "execution_count": 13,
     "metadata": {},
     "output_type": "execute_result"
    }
   ],
   "source": [
    "# 표본분산\n",
    "# 데이터의 각각의 값, 여기선 numeric형 데이터 전체\n",
    "# 에서 평균을 뺴고\n",
    "# 뺀 값을 제곱하고\n",
    "# 그것을 확률변수 총 개수로 나눔\n",
    "# 그게 표본 분산\n",
    "\n",
    "N = len(fish_data)\n",
    "sum_value = np.sum(fish_data)\n",
    "mu = sum_value / N\n",
    "sigma_2_sample = np.sum( ((fish_data - mu) **2) / N )\n",
    "print(sigma_2_sample)\n",
    "\n",
    "np.var(fish_data,ddof=1) #불편분산 (보정 - 값이 커짐.) "
   ]
  },
  {
   "cell_type": "code",
   "execution_count": 15,
   "id": "7f93ef11",
   "metadata": {},
   "outputs": [
    {
     "data": {
      "text/plain": [
       "1.0954451150103321"
      ]
     },
     "execution_count": 15,
     "metadata": {},
     "output_type": "execute_result"
    }
   ],
   "source": [
    "np.std(fish_data) # 표본 통계량 standarad deviation"
   ]
  },
  {
   "cell_type": "code",
   "execution_count": 18,
   "id": "f429d99b",
   "metadata": {},
   "outputs": [
    {
     "data": {
      "text/plain": [
       "1.0954451150103321"
      ]
     },
     "execution_count": 18,
     "metadata": {},
     "output_type": "execute_result"
    }
   ],
   "source": [
    "np.var(fish_data,ddof=0) #ddof = 0 : 표본 분산\n",
    "np.std(fish_data,ddof=0)"
   ]
  },
  {
   "cell_type": "code",
   "execution_count": 19,
   "id": "f258144f",
   "metadata": {},
   "outputs": [
    {
     "data": {
      "text/plain": [
       "1.1547005383792515"
      ]
     },
     "execution_count": 19,
     "metadata": {},
     "output_type": "execute_result"
    }
   ],
   "source": [
    "np.var(fish_data,ddof=1) #ddof = 1 : 불편 편차\n",
    "np.std(fish_data,ddof=1)"
   ]
  },
  {
   "cell_type": "code",
   "execution_count": 21,
   "id": "3cb83d12",
   "metadata": {},
   "outputs": [
    {
     "data": {
      "text/plain": [
       "1.15"
      ]
     },
     "execution_count": 21,
     "metadata": {},
     "output_type": "execute_result"
    }
   ],
   "source": [
    "np.std(fish_data,ddof=1).round(2)\n",
    "std2 = np.std(fish_data,ddof=1)\n",
    "np.round(std2,2)"
   ]
  },
  {
   "cell_type": "code",
   "execution_count": 36,
   "id": "38f3879a",
   "metadata": {},
   "outputs": [
    {
     "name": "stdout",
     "output_type": "stream",
     "text": [
      "mu > 7.0\n",
      "sigma > 18.666666666666664\n",
      "var> 20.0\n",
      "std > 4.47213595499958\n",
      "avg > 0.0\n",
      "[-7. -6. -5. -4. -3. -2. -1.  0.  1.  2.  3.  4.  5.  6.  7.]\n"
     ]
    }
   ],
   "source": [
    "# a의 평균 분산 표준편차 편차의 평균을 구하세요 *분산/표준편차는 n-1, 불편분산 적용\n",
    "a = np.arange(15)\n",
    "\n",
    "#mu\n",
    "N = len(a)\n",
    "sum_value = np.sum(a)\n",
    "mu = sum_value / N\n",
    "print('mu >' ,mu)\n",
    "\n",
    "#sigma\n",
    "sigma = np.sum(((a - mu) ** 2) / N)\n",
    "var = np.var(a,ddof=1)\n",
    "print('sigma >',sigma)\n",
    "print('var>' , var)\n",
    "#표준편차\n",
    "std = np.std(a,ddof=1)\n",
    "print('std >',std )\n",
    "\n",
    "#편차의 평균 -- 편차는 평균과 데이터의 거리를 의미하니까, 평균의 왼쪽의 합(-값,) , 평균의 오른쪽의 합(+값)\n",
    "# 따라서 편차의 평균은 곧 0에 수렴하게 된다. \n",
    "avg = np.mean(a-mu)\n",
    "print('avg >',avg)\n",
    "print(a-mu)\n"
   ]
  },
  {
   "cell_type": "code",
   "execution_count": 38,
   "id": "57eea97d",
   "metadata": {},
   "outputs": [
    {
     "data": {
      "text/plain": [
       "4.75"
      ]
     },
     "execution_count": 38,
     "metadata": {},
     "output_type": "execute_result"
    }
   ],
   "source": [
    "from scipy import stats\n",
    "stats.scoreatpercentile(fish_data,75)"
   ]
  },
  {
   "cell_type": "code",
   "execution_count": 40,
   "id": "b76c0823",
   "metadata": {},
   "outputs": [],
   "source": [
    "fish_data2 = np.array([2,3,3,4,4,4,4,5,5,6,100])"
   ]
  },
  {
   "cell_type": "code",
   "execution_count": 42,
   "id": "88961f43",
   "metadata": {},
   "outputs": [
    {
     "name": "stdout",
     "output_type": "stream",
     "text": [
      "[  2   3   3   4   4   4   4   5   5   6 100]\n",
      "12.727272727272727\n",
      "4.0\n"
     ]
    }
   ],
   "source": [
    "print(fish_data2)\n",
    "print(fish_data2.mean())\n",
    "print(np.median(fish_data2))"
   ]
  },
  {
   "cell_type": "code",
   "execution_count": 43,
   "id": "5fabc51a",
   "metadata": {},
   "outputs": [],
   "source": [
    "import pandas as pd\n",
    "fish_multi = pd.read_csv('../Data/5_2_fm.csv')"
   ]
  },
  {
   "cell_type": "code",
   "execution_count": 51,
   "id": "15431e29",
   "metadata": {},
   "outputs": [
    {
     "data": {
      "text/html": [
       "<div>\n",
       "<style scoped>\n",
       "    .dataframe tbody tr th:only-of-type {\n",
       "        vertical-align: middle;\n",
       "    }\n",
       "\n",
       "    .dataframe tbody tr th {\n",
       "        vertical-align: top;\n",
       "    }\n",
       "\n",
       "    .dataframe thead th {\n",
       "        text-align: right;\n",
       "    }\n",
       "</style>\n",
       "<table border=\"1\" class=\"dataframe\">\n",
       "  <thead>\n",
       "    <tr style=\"text-align: right;\">\n",
       "      <th></th>\n",
       "      <th>length</th>\n",
       "    </tr>\n",
       "    <tr>\n",
       "      <th>species</th>\n",
       "      <th></th>\n",
       "    </tr>\n",
       "  </thead>\n",
       "  <tbody>\n",
       "    <tr>\n",
       "      <th>A</th>\n",
       "      <td>3</td>\n",
       "    </tr>\n",
       "    <tr>\n",
       "      <th>B</th>\n",
       "      <td>8</td>\n",
       "    </tr>\n",
       "  </tbody>\n",
       "</table>\n",
       "</div>"
      ],
      "text/plain": [
       "         length\n",
       "species        \n",
       "A             3\n",
       "B             8"
      ]
     },
     "metadata": {},
     "output_type": "display_data"
    },
    {
     "data": {
      "text/html": [
       "<div>\n",
       "<style scoped>\n",
       "    .dataframe tbody tr th:only-of-type {\n",
       "        vertical-align: middle;\n",
       "    }\n",
       "\n",
       "    .dataframe tbody tr th {\n",
       "        vertical-align: top;\n",
       "    }\n",
       "\n",
       "    .dataframe thead th {\n",
       "        text-align: right;\n",
       "    }\n",
       "</style>\n",
       "<table border=\"1\" class=\"dataframe\">\n",
       "  <thead>\n",
       "    <tr style=\"text-align: right;\">\n",
       "      <th></th>\n",
       "      <th>length</th>\n",
       "    </tr>\n",
       "    <tr>\n",
       "      <th>species</th>\n",
       "      <th></th>\n",
       "    </tr>\n",
       "  </thead>\n",
       "  <tbody>\n",
       "    <tr>\n",
       "      <th>A</th>\n",
       "      <td>1.0</td>\n",
       "    </tr>\n",
       "    <tr>\n",
       "      <th>B</th>\n",
       "      <td>2.0</td>\n",
       "    </tr>\n",
       "  </tbody>\n",
       "</table>\n",
       "</div>"
      ],
      "text/plain": [
       "         length\n",
       "species        \n",
       "A           1.0\n",
       "B           2.0"
      ]
     },
     "metadata": {},
     "output_type": "display_data"
    },
    {
     "data": {
      "text/html": [
       "<div>\n",
       "<style scoped>\n",
       "    .dataframe tbody tr th:only-of-type {\n",
       "        vertical-align: middle;\n",
       "    }\n",
       "\n",
       "    .dataframe tbody tr th {\n",
       "        vertical-align: top;\n",
       "    }\n",
       "\n",
       "    .dataframe thead tr th {\n",
       "        text-align: left;\n",
       "    }\n",
       "\n",
       "    .dataframe thead tr:last-of-type th {\n",
       "        text-align: right;\n",
       "    }\n",
       "</style>\n",
       "<table border=\"1\" class=\"dataframe\">\n",
       "  <thead>\n",
       "    <tr>\n",
       "      <th></th>\n",
       "      <th colspan=\"3\" halign=\"left\">length</th>\n",
       "    </tr>\n",
       "    <tr>\n",
       "      <th></th>\n",
       "      <th>mean</th>\n",
       "      <th>var</th>\n",
       "      <th>std</th>\n",
       "    </tr>\n",
       "    <tr>\n",
       "      <th>species</th>\n",
       "      <th></th>\n",
       "      <th></th>\n",
       "      <th></th>\n",
       "    </tr>\n",
       "  </thead>\n",
       "  <tbody>\n",
       "    <tr>\n",
       "      <th>A</th>\n",
       "      <td>3</td>\n",
       "      <td>1</td>\n",
       "      <td>1.0</td>\n",
       "    </tr>\n",
       "    <tr>\n",
       "      <th>B</th>\n",
       "      <td>8</td>\n",
       "      <td>4</td>\n",
       "      <td>2.0</td>\n",
       "    </tr>\n",
       "  </tbody>\n",
       "</table>\n",
       "</div>"
      ],
      "text/plain": [
       "        length         \n",
       "          mean var  std\n",
       "species                \n",
       "A            3   1  1.0\n",
       "B            8   4  2.0"
      ]
     },
     "metadata": {},
     "output_type": "display_data"
    }
   ],
   "source": [
    "#그룹별 통계량 계산\n",
    "grouped = fish_multi.groupby('species')\n",
    "display(grouped.mean())\n",
    "display(grouped.std())\n",
    "grouped.describe()\n",
    "\n",
    "\n",
    "#제발 짧게 쓰자\n",
    "display(fish_multi.groupby('species').agg(['mean','var','std']))\n"
   ]
  },
  {
   "cell_type": "code",
   "execution_count": 54,
   "id": "dc021cc3",
   "metadata": {},
   "outputs": [
    {
     "data": {
      "text/html": [
       "<div>\n",
       "<style scoped>\n",
       "    .dataframe tbody tr th:only-of-type {\n",
       "        vertical-align: middle;\n",
       "    }\n",
       "\n",
       "    .dataframe tbody tr th {\n",
       "        vertical-align: top;\n",
       "    }\n",
       "\n",
       "    .dataframe thead th {\n",
       "        text-align: right;\n",
       "    }\n",
       "</style>\n",
       "<table border=\"1\" class=\"dataframe\">\n",
       "  <thead>\n",
       "    <tr style=\"text-align: right;\">\n",
       "      <th></th>\n",
       "      <th>x</th>\n",
       "      <th>y</th>\n",
       "    </tr>\n",
       "  </thead>\n",
       "  <tbody>\n",
       "    <tr>\n",
       "      <th>0</th>\n",
       "      <td>18.5</td>\n",
       "      <td>34</td>\n",
       "    </tr>\n",
       "    <tr>\n",
       "      <th>1</th>\n",
       "      <td>18.7</td>\n",
       "      <td>39</td>\n",
       "    </tr>\n",
       "    <tr>\n",
       "      <th>2</th>\n",
       "      <td>19.1</td>\n",
       "      <td>41</td>\n",
       "    </tr>\n",
       "    <tr>\n",
       "      <th>3</th>\n",
       "      <td>19.7</td>\n",
       "      <td>38</td>\n",
       "    </tr>\n",
       "    <tr>\n",
       "      <th>4</th>\n",
       "      <td>21.5</td>\n",
       "      <td>45</td>\n",
       "    </tr>\n",
       "    <tr>\n",
       "      <th>5</th>\n",
       "      <td>21.7</td>\n",
       "      <td>41</td>\n",
       "    </tr>\n",
       "    <tr>\n",
       "      <th>6</th>\n",
       "      <td>21.8</td>\n",
       "      <td>52</td>\n",
       "    </tr>\n",
       "    <tr>\n",
       "      <th>7</th>\n",
       "      <td>22.0</td>\n",
       "      <td>44</td>\n",
       "    </tr>\n",
       "    <tr>\n",
       "      <th>8</th>\n",
       "      <td>23.4</td>\n",
       "      <td>44</td>\n",
       "    </tr>\n",
       "    <tr>\n",
       "      <th>9</th>\n",
       "      <td>23.8</td>\n",
       "      <td>49</td>\n",
       "    </tr>\n",
       "  </tbody>\n",
       "</table>\n",
       "</div>"
      ],
      "text/plain": [
       "      x   y\n",
       "0  18.5  34\n",
       "1  18.7  39\n",
       "2  19.1  41\n",
       "3  19.7  38\n",
       "4  21.5  45\n",
       "5  21.7  41\n",
       "6  21.8  52\n",
       "7  22.0  44\n",
       "8  23.4  44\n",
       "9  23.8  49"
      ]
     },
     "execution_count": 54,
     "metadata": {},
     "output_type": "execute_result"
    }
   ],
   "source": [
    "cov_data = pd.read_csv('../Data/4_cov.csv')\n",
    "cov_data"
   ]
  },
  {
   "cell_type": "code",
   "execution_count": 72,
   "id": "303bf3aa",
   "metadata": {},
   "outputs": [
    {
     "name": "stdout",
     "output_type": "stream",
     "text": [
      "0    2.436000\n",
      "1    0.953778\n",
      "2    0.362667\n",
      "3    0.689333\n",
      "4    0.122667\n",
      "5   -0.128444\n",
      "6    0.806000\n",
      "7    0.141556\n",
      "8    0.343778\n",
      "9    1.946000\n",
      "dtype: float64 \n",
      "\n",
      "simple> 0    2.436000\n",
      "1    0.953778\n",
      "2    0.362667\n",
      "3    0.689333\n",
      "4    0.122667\n",
      "5   -0.128444\n",
      "6    0.806000\n",
      "7    0.141556\n",
      "8    0.343778\n",
      "9    1.946000\n",
      "dtype: float64\n"
     ]
    }
   ],
   "source": [
    "#공분산 x, y / 길이 / 평균\n",
    "# sum((x - x평균) * (y - y평균)) / n-1   \n",
    "tL = len(cov_data)\n",
    "\n",
    "x = cov_data['x']\n",
    "y = cov_data['y']\n",
    "\n",
    "xN = len(x)\n",
    "yN = len(y)\n",
    "\n",
    "x_sum = np.sum(x)\n",
    "y_sum = np.sum(y)\n",
    "\n",
    "\n",
    "x_mu = x_sum / xN\n",
    "y_mu = y_sum / yN\n",
    "\n",
    "cor_v = (( x - x_mu) * ( y - y_mu)) / (tL -1)\n",
    "\n",
    "print(cor_v,'\\n')\n",
    "\n",
    "cor_v_simple = ( (cov_data['x'] - (cov_data['x'].mean())) * (cov_data['y'] -\n",
    "                                                            (cov_data['y'].mean()) ) ) / (len(cov_data)-1)\n",
    "print('simple>',cor_v_simple)"
   ]
  },
  {
   "cell_type": "code",
   "execution_count": 76,
   "id": "dd001a36",
   "metadata": {},
   "outputs": [
    {
     "data": {
      "text/plain": [
       "array([[1.       , 0.7592719],\n",
       "       [0.7592719, 1.       ]])"
      ]
     },
     "execution_count": 76,
     "metadata": {},
     "output_type": "execute_result"
    }
   ],
   "source": [
    "# 공분산 행렬\n",
    "np.cov(cov_data.x,cov_data.y,ddof=1)\n",
    "\n",
    "# 공분산행렬의 상관행렬\n",
    "np.corrcoef(cov_data.x,cov_data.y)"
   ]
  },
  {
   "cell_type": "code",
   "execution_count": null,
   "id": "2ab8f54c",
   "metadata": {},
   "outputs": [],
   "source": []
  }
 ],
 "metadata": {
  "kernelspec": {
   "display_name": "Python 3",
   "language": "python",
   "name": "python3"
  },
  "language_info": {
   "codemirror_mode": {
    "name": "ipython",
    "version": 3
   },
   "file_extension": ".py",
   "mimetype": "text/x-python",
   "name": "python",
   "nbconvert_exporter": "python",
   "pygments_lexer": "ipython3",
   "version": "3.8.10"
  }
 },
 "nbformat": 4,
 "nbformat_minor": 5
}
