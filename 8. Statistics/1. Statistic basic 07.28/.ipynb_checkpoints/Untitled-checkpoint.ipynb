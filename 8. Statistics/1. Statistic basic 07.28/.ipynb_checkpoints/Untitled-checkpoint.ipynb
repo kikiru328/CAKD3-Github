{
 "cells": [
  {
   "cell_type": "raw",
   "id": "2e4f59d0",
   "metadata": {},
   "source": []
  },
  {
   "cell_type": "code",
   "execution_count": 1,
   "id": "d1652cbf",
   "metadata": {},
   "outputs": [
    {
     "data": {
      "text/plain": [
       "array([2, 3, 3, 4, 4, 4, 4, 5, 5, 6])"
      ]
     },
     "execution_count": 1,
     "metadata": {},
     "output_type": "execute_result"
    }
   ],
   "source": [
    "import numpy as np\n",
    "import pandas as pd\n",
    "fish_data = np.array([2,3,3,4,4,4,4,5,5,6])\n",
    "fish_data"
   ]
  },
  {
   "cell_type": "code",
   "execution_count": 3,
   "id": "126ea6e8",
   "metadata": {},
   "outputs": [
    {
     "data": {
      "text/plain": [
       "10"
      ]
     },
     "execution_count": 3,
     "metadata": {},
     "output_type": "execute_result"
    }
   ],
   "source": [
    "np.sum(fish_data)\n",
    "len(fish_data)"
   ]
  },
  {
   "cell_type": "code",
   "execution_count": 5,
   "id": "1fc533ef",
   "metadata": {},
   "outputs": [
    {
     "data": {
      "text/plain": [
       "4.0"
      ]
     },
     "execution_count": 5,
     "metadata": {},
     "output_type": "execute_result"
    }
   ],
   "source": [
    "# 평균\n",
    "# 확률변수의 개수 N\n",
    "# 데이터의 총 값 (sum)\n",
    "# 평균 (mu) = 데이터의 총값(sum) / 확률변수의 개수\n",
    "\n",
    "N = len(fish_data)\n",
    "sum_value = np.sum(fish_data)\n",
    "mu = sum_value / N\n",
    "mu"
   ]
  },
  {
   "cell_type": "code",
   "execution_count": 13,
   "id": "3c9e6cd2",
   "metadata": {},
   "outputs": [
    {
     "name": "stdout",
     "output_type": "stream",
     "text": [
      "1.2\n"
     ]
    },
    {
     "data": {
      "text/plain": [
       "1.3333333333333333"
      ]
     },
     "execution_count": 13,
     "metadata": {},
     "output_type": "execute_result"
    }
   ],
   "source": [
    "# 표본분산\n",
    "# 데이터의 각각의 값, 여기선 numeric형 데이터 전체\n",
    "# 에서 평균을 뺴고\n",
    "# 뺀 값을 제곱하고\n",
    "# 그것을 확률변수 총 개수로 나눔\n",
    "# 그게 표본 분산\n",
    "\n",
    "N = len(fish_data)\n",
    "sum_value = np.sum(fish_data)\n",
    "mu = sum_value / N\n",
    "sigma_2_sample = np.sum( ((fish_data - mu) **2) / N )\n",
    "print(sigma_2_sample)\n",
    "\n",
    "np.var(fish_data,ddof=1) #불편분산 (보정 - 값이 커짐.) "
   ]
  },
  {
   "cell_type": "code",
   "execution_count": 15,
   "id": "6f3b280d",
   "metadata": {},
   "outputs": [
    {
     "data": {
      "text/plain": [
       "1.0954451150103321"
      ]
     },
     "execution_count": 15,
     "metadata": {},
     "output_type": "execute_result"
    }
   ],
   "source": [
    "np.std(fish_data) # 표본 통계량 standarad deviation"
   ]
  },
  {
   "cell_type": "code",
   "execution_count": 18,
   "id": "b2639ecd",
   "metadata": {},
   "outputs": [
    {
     "data": {
      "text/plain": [
       "1.0954451150103321"
      ]
     },
     "execution_count": 18,
     "metadata": {},
     "output_type": "execute_result"
    }
   ],
   "source": [
    "np.var(fish_data,ddof=0) #ddof = 0 : 표본 분산\n",
    "np.std(fish_data,ddof=0)"
   ]
  },
  {
   "cell_type": "code",
   "execution_count": 19,
   "id": "c51ee6b4",
   "metadata": {},
   "outputs": [
    {
     "data": {
      "text/plain": [
       "1.1547005383792515"
      ]
     },
     "execution_count": 19,
     "metadata": {},
     "output_type": "execute_result"
    }
   ],
   "source": [
    "np.var(fish_data,ddof=1) #ddof = 1 : 불편 편차\n",
    "np.std(fish_data,ddof=1)"
   ]
  },
  {
   "cell_type": "code",
   "execution_count": 21,
   "id": "379f25f8",
   "metadata": {},
   "outputs": [
    {
     "data": {
      "text/plain": [
       "1.15"
      ]
     },
     "execution_count": 21,
     "metadata": {},
     "output_type": "execute_result"
    }
   ],
   "source": [
    "np.std(fish_data,ddof=1).round(2)\n",
    "std2 = np.std(fish_data,ddof=1)\n",
    "np.round(std2,2)"
   ]
  },
  {
   "cell_type": "code",
   "execution_count": 36,
   "id": "68d0a234",
   "metadata": {},
   "outputs": [
    {
     "name": "stdout",
     "output_type": "stream",
     "text": [
      "mu > 7.0\n",
      "sigma > 18.666666666666664\n",
      "var> 20.0\n",
      "std > 4.47213595499958\n",
      "avg > 0.0\n",
      "[-7. -6. -5. -4. -3. -2. -1.  0.  1.  2.  3.  4.  5.  6.  7.]\n"
     ]
    }
   ],
   "source": [
    "# a의 평균 분산 표준편차 편차의 평균을 구하세요 *분산/표준편차는 n-1, 불편분산 적용\n",
    "a = np.arange(15)\n",
    "\n",
    "#mu\n",
    "N = len(a)\n",
    "sum_value = np.sum(a)\n",
    "mu = sum_value / N\n",
    "print('mu >' ,mu)\n",
    "\n",
    "#sigma\n",
    "sigma = np.sum(((a - mu) ** 2) / N)\n",
    "var = np.var(a,ddof=1)\n",
    "print('sigma >',sigma)\n",
    "print('var>' , var)\n",
    "#표준편차\n",
    "std = np.std(a,ddof=1)\n",
    "print('std >',std )\n",
    "\n",
    "#편차의 평균 -- 편차는 평균과 데이터의 거리를 의미하니까, 평균의 왼쪽의 합(-값,) , 평균의 오른쪽의 합(+값)\n",
    "# 따라서 편차의 평균은 곧 0에 수렴하게 된다. \n",
    "avg = np.mean(a-mu)\n",
    "print('avg >',avg)\n",
    "print(a-mu)\n"
   ]
  },
  {
   "cell_type": "code",
   "execution_count": null,
   "id": "50b8fbd6",
   "metadata": {},
   "outputs": [],
   "source": []
  }
 ],
 "metadata": {
  "kernelspec": {
   "display_name": "Python 3",
   "language": "python",
   "name": "python3"
  },
  "language_info": {
   "codemirror_mode": {
    "name": "ipython",
    "version": 3
   },
   "file_extension": ".py",
   "mimetype": "text/x-python",
   "name": "python",
   "nbconvert_exporter": "python",
   "pygments_lexer": "ipython3",
   "version": "3.8.10"
  }
 },
 "nbformat": 4,
 "nbformat_minor": 5
}
