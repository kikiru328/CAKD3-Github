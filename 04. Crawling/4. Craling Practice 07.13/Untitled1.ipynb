{
 "cells": [
  {
   "cell_type": "code",
   "execution_count": 16,
   "id": "13f1ec80",
   "metadata": {},
   "outputs": [
    {
     "name": "stdout",
     "output_type": "stream",
     "text": [
      "{'access_token': 'QmcOSQRpg8PIaX-a_3LUlTTawHp9e0p8iYkNHQo9c04AAAF6uOd3_Q', 'token_type': 'bearer', 'refresh_token': '0t1tNcoY0Mg-G-RF0C2iK8GGcautf0G6fqxUJQo9c04AAAF6uOd3_A', 'expires_in': 21599, 'scope': 'account_email profile_image talk_message profile_nickname', 'refresh_token_expires_in': 5183999}\n"
     ]
    }
   ],
   "source": [
    "import requests\n",
    "import json\n",
    "\n",
    "url = \"https://kauth.kakao.com/oauth/token\"\n",
    "\n",
    "data = {\n",
    "    \"grant_type\" : \"authorization_code\",\n",
    "    \"client_id\" : \"aaf83f57591d41bc79976e3295651100\",\n",
    "    \"redirect_uri\" : \"https://localhost.com\",\n",
    "    \"code\"         : \"iN0uRuep1VAgE1VmY06mf3Jz8Z9S1qSbtuF2JUdBwLn8aq4ws6M3d-yfB6PYZnkUjpsHOAo9cpcAAAF6uObfSA\"\n",
    "    \n",
    "}\n",
    "response = requests.post(url, data=data)\n",
    "\n",
    "tokens = response.json()\n",
    "\n",
    "print(tokens)"
   ]
  },
  {
   "cell_type": "code",
   "execution_count": 6,
   "id": "37be2362",
   "metadata": {},
   "outputs": [],
   "source": [
    "with open(\"kakao_token.json\", \"w\") as fp:\n",
    "    json.dump(tokens, fp)"
   ]
  },
  {
   "cell_type": "code",
   "execution_count": 24,
   "id": "8419f09d",
   "metadata": {},
   "outputs": [
    {
     "name": "stdout",
     "output_type": "stream",
     "text": [
      "{'error': 'invalid_client', 'error_description': 'Bad client credentials', 'error_code': 'KOE010'}\n"
     ]
    }
   ],
   "source": [
    "url = \"https://kauth.kakao.com/oauth/token\"\n",
    "data = {\n",
    "    \"grant_type\" : \"aaf83f57591d41bc79976e3295651100\",\n",
    "    \"refresh_token\" : \"QmcOSQRpg8PIaX-a_3LUlTTawHp9e0p8iYkNHQo9c04AAAF6uOd3_Q\"\n",
    "}\n",
    "response = requests.post(url, data=data)\n",
    "\n",
    "print(response.json())"
   ]
  },
  {
   "cell_type": "code",
   "execution_count": 28,
   "id": "2a4ce855",
   "metadata": {},
   "outputs": [
    {
     "name": "stdout",
     "output_type": "stream",
     "text": [
      "401\n",
      "메시지를 성공적으로 보내지 못했습니다. 오류메시지 : {'error': 'invalid_client', 'error_description': 'Bad client credentials', 'error_code': 'KOE010'}\n"
     ]
    }
   ],
   "source": [
    "import json\n",
    "import requests\n",
    "\n",
    "url = \"https://kapi.kakao.com/v2/api/talk/memo/default/send\"\n",
    "\n",
    "# 사용자 토큰\n",
    "headers = {\n",
    "    \"Authorization\": \"Bearer \" + \"nvacn2s7PnRPwZn3lYWDWUJb2mqocnMy3v5_Dgo9dBEAAAF6uPeVMw\"\n",
    "}\n",
    "\n",
    "template = {\n",
    "    \"object_type\" : \"list\",\n",
    "    \"header_title\" : \"초밥 사진\",\n",
    "    \"header_link\" : {\n",
    "        \"web_url\" : \"www.naver.com\",\n",
    "        \"mobile_web_url\" : \"www.naver.com\"\n",
    "    },\n",
    "    \"contents\" : [\n",
    "        {\n",
    "            \"title\" : \"1. 광어초밥\",\n",
    "            \"description\" : \"광어는 맛있다\",\n",
    "            \"image_url\" : \"https://search1.kakaocdn.net/argon/0x200_85_hr/8x5qcdbcQwi\",\n",
    "            \"image_width\" : 50, \"image_height\" : 50,\n",
    "            \"link\" : {\n",
    "                \"web_url\" : \"www.naver.com\",\n",
    "                \"mobile_web_url\" : \"www.naver.com\"\n",
    "            }\n",
    "        },\n",
    "        {\n",
    "            \"title\" : \"2. 참치초밥\",\n",
    "            \"description\" : \"참치는 맛있다\",\n",
    "            \"image_url\" : \"https://search2.kakaocdn.net/argon/0x200_85_hr/IjIToH1S7J1\",\n",
    "            \"image_width\" : 50, \"image_height\" : 50,\n",
    "            \"link\" : {\n",
    "                \"web_url\" : \"www.naver.com\",\n",
    "                \"mobile_web_url\" : \"www.naver.com\"\n",
    "            }\n",
    "        }\n",
    "        \n",
    "    ],\n",
    "    \"buttons\" : [\n",
    "        {\n",
    "            \"title\" : \"웹으로 이동\",\n",
    "            \"link\" : {\n",
    "                \"web_url\" : \"www.naver.com\",\n",
    "                \"mobile_web_url\" : \"www.naver.com\"\n",
    "            }\n",
    "        }\n",
    "    ]\n",
    "    \n",
    "}\n",
    "\n",
    "data = {\n",
    "    \"template_object\" : json.dumps(template)\n",
    "}\n",
    "\n",
    "res = requests.post(url, data=data, headers=headers)\n",
    "print(response.status_code)\n",
    "if response.json().get('result_code') == 0:\n",
    "    print('메시지를 성공적으로 보냈습니다.')\n",
    "else:\n",
    "    print('메시지를 성공적으로 보내지 못했습니다. 오류메시지 : ' + str(response.json()))"
   ]
  },
  {
   "cell_type": "code",
   "execution_count": null,
   "id": "8bb47465",
   "metadata": {},
   "outputs": [],
   "source": []
  },
  {
   "cell_type": "code",
   "execution_count": null,
   "id": "12ad61d9",
   "metadata": {},
   "outputs": [],
   "source": []
  },
  {
   "cell_type": "code",
   "execution_count": null,
   "id": "8615f273",
   "metadata": {},
   "outputs": [],
   "source": []
  },
  {
   "cell_type": "markdown",
   "id": "4a84c05d",
   "metadata": {},
   "source": [
    "###### lQ4Fh_X8UCDFxAuARJv7n3CEUau21Yp-FkMMXAGNtt47xd003qEFM3vawtbaSaD1ft_YzAo9dRkAAAF6uN_uTQ"
   ]
  }
 ],
 "metadata": {
  "kernelspec": {
   "display_name": "Python 3",
   "language": "python",
   "name": "python3"
  },
  "language_info": {
   "codemirror_mode": {
    "name": "ipython",
    "version": 3
   },
   "file_extension": ".py",
   "mimetype": "text/x-python",
   "name": "python",
   "nbconvert_exporter": "python",
   "pygments_lexer": "ipython3",
   "version": "3.8.10"
  }
 },
 "nbformat": 4,
 "nbformat_minor": 5
}
