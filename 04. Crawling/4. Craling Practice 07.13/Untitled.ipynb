{
 "cells": [
  {
   "cell_type": "code",
   "execution_count": 4,
   "id": "52c25a41",
   "metadata": {},
   "outputs": [],
   "source": [
    "from selenium import webdriver\n",
    "from selenium.webdriver.common.keys import Keys\n",
    "import time\n",
    "import pyperclip\n",
    "\n",
    "driver = webdriver.Chrome(\"D:/Tools/chromedriver.exe\")\n",
    "# url = 'https://nid.naver.com/nidlogin.login?mode=form&url=https%3A%2F%2Fwww.naver.com'\n",
    "url = 'http://www.naver.com'\n",
    "uid = 'kikiru328'\n",
    "upw = '!kkh9328'\n",
    "\n",
    "driver.get(url)\n",
    "time.sleep(2)\n",
    "login = driver.find_element_by_class_name('link_login')\n",
    "login.click()\n",
    "time.sleep(2)\n",
    "\n",
    "\n",
    "tag_id = driver.find_element_by_name('id')\n",
    "tag_pw = driver.find_element_by_name('pw')\n",
    "\n",
    "tag_id.click()\n",
    "pyperclip.copy(uid)\n",
    "tag_id.send_keys(Keys.CONTROL, 'v')\n",
    "time.sleep(1)\n",
    "\n",
    "tag_pw.click()\n",
    "pyperclip.copy(upw)\n",
    "tag_pw.send_keys(Keys.CONTROL, 'v')\n",
    "time.sleep(1)\n",
    "\n",
    "login_btn = driver.find_element_by_id('log.login')\n",
    "login_btn.click()\n",
    "time.sleep(2)"
   ]
  },
  {
   "cell_type": "code",
   "execution_count": null,
   "id": "d71f5c97",
   "metadata": {},
   "outputs": [],
   "source": []
  }
 ],
 "metadata": {
  "kernelspec": {
   "display_name": "Python 3",
   "language": "python",
   "name": "python3"
  },
  "language_info": {
   "codemirror_mode": {
    "name": "ipython",
    "version": 3
   },
   "file_extension": ".py",
   "mimetype": "text/x-python",
   "name": "python",
   "nbconvert_exporter": "python",
   "pygments_lexer": "ipython3",
   "version": "3.8.10"
  }
 },
 "nbformat": 4,
 "nbformat_minor": 5
}
