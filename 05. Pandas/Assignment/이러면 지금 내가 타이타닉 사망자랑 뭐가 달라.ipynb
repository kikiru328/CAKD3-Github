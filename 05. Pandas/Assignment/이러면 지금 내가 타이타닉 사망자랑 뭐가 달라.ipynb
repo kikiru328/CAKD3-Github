{
 "cells": [
  {
   "cell_type": "code",
   "execution_count": 1,
   "id": "47dbc23d",
   "metadata": {},
   "outputs": [],
   "source": [
    "import pandas as pd\n",
    "import numpy as np\n",
    "import seaborn as sns\n",
    "import matplotlib.pyplot as plt\n",
    "plt.style.use('seaborn-dark')\n",
    "%config InlineBackend.figure_format = 'retina'\n",
    "pd.options.display.max_rows = 20\n",
    "pd.options.display.max_columns = 20"
   ]
  },
  {
   "cell_type": "markdown",
   "id": "b636e575",
   "metadata": {},
   "source": [
    "##### 타이타닉 전반사"
   ]
  },
  {
   "cell_type": "raw",
   "id": "be612e84",
   "metadata": {},
   "source": [
    "이번에 전처리 하고 분석해야 할 내용은 '타이타닉' 입니다.\n",
    "타이타닉 사건은 1912년 영국 Southhampton에서 출발해 미국 뉴욕으로 항해 도중 약 2,224명 탑승객 중 1,500명 이상이 사망한\n",
    "사건입니다. 당시 타이타닉은 부유층들과 아메리칸 드림을 꿈꾸는 사람들까지 모두 태우고 있어서 더욱더 안타까운 사건입니다.\n",
    "타이타닉의 이동은 Southhampton을 출발한 후, 프랑스의 Cherbourg, 아일랜드의 Queenstown에 정박, 이후 뉴욕으로 출발합니다.\n",
    "하지만 타이타닉호는 선체의 우현에 빙하와 충돌한 후, 바닷물에 노출되었습니다.\n",
    "당시 1912년 배경과, 타이타닉의 구명정 탑승 규칙인 '여성과 아이들 먼저 (ladies and child first)' 로 많은 남성들은\n",
    "구명정을 타지 못하고 높은 확률로 사망하였습니다.\n",
    "\n",
    "타이타닉은 총 10층으로 구성되어 층별로 다른 시설들이 존재했다고 합니다.\n",
    "\n",
    "- 최상층에 위치한 The Boat Deck. 구명정이 설치되어 있던 층이며, 합교,조타실, 선장실이 있던 층입니다.\n",
    "- 1등실의 산책로, 객실, 라운지, 등등 1등실 승객만을 위한 층인 'A deck',\n",
    "- 1등실의 개인 산책로와 초호화객실 'B deck',\n",
    "- 1등실의 대다수 객실과 2등실의 도서관, 3등실의 산책로와 선원의 숙소, 3등실 승객의 라운지로 여러가지가 존재한 'C deck',\n",
    "- 1등실 연회실, 식당, 2등실 식당으로 구성된 'D deck'\n",
    "- 2등실의 승객과 선원들의 객실이 포함된 'E deck'\n",
    "- 2,3등실 객실과 선원 생활공간, 3등실 식당이 포함된 'F deck'\n",
    "- 선원 및 승객들이 사용하는 다양한 생활공간인 'G deck'\n",
    "- 최하층 갑판인 'Orlop Deck'\n",
    "- 그 아래 보일러, 엔진 시설이 있는 'Tank Top'\n",
    "\n",
    "타이타닉의 경우 '3등실' 이용객들을 배의 양 끝에 나누어서 타게 하고, \n",
    "1인 남성승객은 배의 앞쪽에, 1인 여성승객과 결혼한 커플, 가족들은 뒤로 타게하여 프라이버시를 위한 분리조치를 실행했습니다."
   ]
  },
  {
   "cell_type": "markdown",
   "id": "f629532a",
   "metadata": {},
   "source": [
    "    Data Loading"
   ]
  },
  {
   "cell_type": "code",
   "execution_count": 2,
   "id": "3bbe9620",
   "metadata": {},
   "outputs": [
    {
     "data": {
      "text/html": [
       "<div>\n",
       "<style scoped>\n",
       "    .dataframe tbody tr th:only-of-type {\n",
       "        vertical-align: middle;\n",
       "    }\n",
       "\n",
       "    .dataframe tbody tr th {\n",
       "        vertical-align: top;\n",
       "    }\n",
       "\n",
       "    .dataframe thead th {\n",
       "        text-align: right;\n",
       "    }\n",
       "</style>\n",
       "<table border=\"1\" class=\"dataframe\">\n",
       "  <thead>\n",
       "    <tr style=\"text-align: right;\">\n",
       "      <th></th>\n",
       "      <th>PassengerId</th>\n",
       "      <th>Survived</th>\n",
       "      <th>Pclass</th>\n",
       "      <th>Name</th>\n",
       "      <th>Sex</th>\n",
       "      <th>Age</th>\n",
       "      <th>SibSp</th>\n",
       "      <th>Parch</th>\n",
       "      <th>Ticket</th>\n",
       "      <th>Fare</th>\n",
       "      <th>Cabin</th>\n",
       "      <th>Embarked</th>\n",
       "    </tr>\n",
       "  </thead>\n",
       "  <tbody>\n",
       "    <tr>\n",
       "      <th>0</th>\n",
       "      <td>1</td>\n",
       "      <td>0</td>\n",
       "      <td>3</td>\n",
       "      <td>Braund, Mr. Owen Harris</td>\n",
       "      <td>male</td>\n",
       "      <td>22.0</td>\n",
       "      <td>1</td>\n",
       "      <td>0</td>\n",
       "      <td>A/5 21171</td>\n",
       "      <td>7.2500</td>\n",
       "      <td>NaN</td>\n",
       "      <td>S</td>\n",
       "    </tr>\n",
       "    <tr>\n",
       "      <th>1</th>\n",
       "      <td>2</td>\n",
       "      <td>1</td>\n",
       "      <td>1</td>\n",
       "      <td>Cumings, Mrs. John Bradley (Florence Briggs Th...</td>\n",
       "      <td>female</td>\n",
       "      <td>38.0</td>\n",
       "      <td>1</td>\n",
       "      <td>0</td>\n",
       "      <td>PC 17599</td>\n",
       "      <td>71.2833</td>\n",
       "      <td>C85</td>\n",
       "      <td>C</td>\n",
       "    </tr>\n",
       "    <tr>\n",
       "      <th>2</th>\n",
       "      <td>3</td>\n",
       "      <td>1</td>\n",
       "      <td>3</td>\n",
       "      <td>Heikkinen, Miss. Laina</td>\n",
       "      <td>female</td>\n",
       "      <td>26.0</td>\n",
       "      <td>0</td>\n",
       "      <td>0</td>\n",
       "      <td>STON/O2. 3101282</td>\n",
       "      <td>7.9250</td>\n",
       "      <td>NaN</td>\n",
       "      <td>S</td>\n",
       "    </tr>\n",
       "    <tr>\n",
       "      <th>3</th>\n",
       "      <td>4</td>\n",
       "      <td>1</td>\n",
       "      <td>1</td>\n",
       "      <td>Futrelle, Mrs. Jacques Heath (Lily May Peel)</td>\n",
       "      <td>female</td>\n",
       "      <td>35.0</td>\n",
       "      <td>1</td>\n",
       "      <td>0</td>\n",
       "      <td>113803</td>\n",
       "      <td>53.1000</td>\n",
       "      <td>C123</td>\n",
       "      <td>S</td>\n",
       "    </tr>\n",
       "    <tr>\n",
       "      <th>4</th>\n",
       "      <td>5</td>\n",
       "      <td>0</td>\n",
       "      <td>3</td>\n",
       "      <td>Allen, Mr. William Henry</td>\n",
       "      <td>male</td>\n",
       "      <td>35.0</td>\n",
       "      <td>0</td>\n",
       "      <td>0</td>\n",
       "      <td>373450</td>\n",
       "      <td>8.0500</td>\n",
       "      <td>NaN</td>\n",
       "      <td>S</td>\n",
       "    </tr>\n",
       "  </tbody>\n",
       "</table>\n",
       "</div>"
      ],
      "text/plain": [
       "   PassengerId  Survived  Pclass  \\\n",
       "0            1         0       3   \n",
       "1            2         1       1   \n",
       "2            3         1       3   \n",
       "3            4         1       1   \n",
       "4            5         0       3   \n",
       "\n",
       "                                                Name     Sex   Age  SibSp  \\\n",
       "0                            Braund, Mr. Owen Harris    male  22.0      1   \n",
       "1  Cumings, Mrs. John Bradley (Florence Briggs Th...  female  38.0      1   \n",
       "2                             Heikkinen, Miss. Laina  female  26.0      0   \n",
       "3       Futrelle, Mrs. Jacques Heath (Lily May Peel)  female  35.0      1   \n",
       "4                           Allen, Mr. William Henry    male  35.0      0   \n",
       "\n",
       "   Parch            Ticket     Fare Cabin Embarked  \n",
       "0      0         A/5 21171   7.2500   NaN        S  \n",
       "1      0          PC 17599  71.2833   C85        C  \n",
       "2      0  STON/O2. 3101282   7.9250   NaN        S  \n",
       "3      0            113803  53.1000  C123        S  \n",
       "4      0            373450   8.0500   NaN        S  "
      ]
     },
     "execution_count": 2,
     "metadata": {},
     "output_type": "execute_result"
    }
   ],
   "source": [
    "raw_data = pd.read_csv('../Data/train.csv')\n",
    "data = raw_data.copy() # copy를 사용해서 raw_data를 변경하지 않도록!\n",
    "data.head() # data 형태를 확인해봅시다."
   ]
  },
  {
   "cell_type": "code",
   "execution_count": 3,
   "id": "cad4f6e2",
   "metadata": {},
   "outputs": [
    {
     "name": "stdout",
     "output_type": "stream",
     "text": [
      "<class 'pandas.core.frame.DataFrame'>\n",
      "RangeIndex: 891 entries, 0 to 890\n",
      "Data columns (total 12 columns):\n",
      " #   Column       Non-Null Count  Dtype  \n",
      "---  ------       --------------  -----  \n",
      " 0   PassengerId  891 non-null    int64  \n",
      " 1   Survived     891 non-null    int64  \n",
      " 2   Pclass       891 non-null    int64  \n",
      " 3   Name         891 non-null    object \n",
      " 4   Sex          891 non-null    object \n",
      " 5   Age          714 non-null    float64\n",
      " 6   SibSp        891 non-null    int64  \n",
      " 7   Parch        891 non-null    int64  \n",
      " 8   Ticket       891 non-null    object \n",
      " 9   Fare         891 non-null    float64\n",
      " 10  Cabin        204 non-null    object \n",
      " 11  Embarked     889 non-null    object \n",
      "dtypes: float64(2), int64(5), object(5)\n",
      "memory usage: 83.7+ KB\n"
     ]
    }
   ],
   "source": [
    "data.info()"
   ]
  },
  {
   "cell_type": "raw",
   "id": "c4f21bda",
   "metadata": {},
   "source": [
    "data 는 총 891 x 12 dataframe 형태를 가지고 있습니다. \n",
    "12개의 컬럼은 병합 혹은 분할을 통해서 가치있는 열을 찾아야 할 것 입니다"
   ]
  },
  {
   "cell_type": "markdown",
   "id": "3bbc6bb9",
   "metadata": {},
   "source": [
    "    데이터 처리 과정에서 가장 첫번째로 고민해야 할 부분은 '결측값'처리 인 것 같습니다.\n",
    "    data의 열(columns)에 결측값이 있는지 확인해봅시다."
   ]
  },
  {
   "cell_type": "code",
   "execution_count": 4,
   "id": "19a50821",
   "metadata": {},
   "outputs": [
    {
     "data": {
      "text/plain": [
       "PassengerId      0\n",
       "Survived         0\n",
       "Pclass           0\n",
       "Name             0\n",
       "Sex              0\n",
       "Age            177\n",
       "SibSp            0\n",
       "Parch            0\n",
       "Ticket           0\n",
       "Fare             0\n",
       "Cabin          687\n",
       "Embarked         2\n",
       "dtype: int64"
      ]
     },
     "execution_count": 4,
     "metadata": {},
     "output_type": "execute_result"
    }
   ],
   "source": [
    "data.isnull().sum() #data에 null값이 있으면 1로 반환하고 더합니다."
   ]
  },
  {
   "cell_type": "markdown",
   "id": "60f22212",
   "metadata": {},
   "source": [
    "- Age 값과 Cabin , Embared 열에는 결측값이 많이 존재합니다.\n",
    "- 특히 Cabin의 경우 결측값이 상대적으로 훨씬 많기 때문에 결측값 처리 기준을 잘 세워야 할 것 같습니다.\n",
    "  그게 아니라면 제거하는 것도 방법일 것 같습니다.\n",
    "- Embarked 열의 경우에는 2개의 결측값이 있고, 이 값들은 총 891개의 값 중 2개 ffill/bfill 등을 이용해\n",
    "  결측값을 처리해도 크게 문제되지 않을 것 같습니다."
   ]
  },
  {
   "cell_type": "markdown",
   "id": "b937a578",
   "metadata": {},
   "source": [
    "#### Column 별 해석"
   ]
  },
  {
   "cell_type": "code",
   "execution_count": 5,
   "id": "be019d64",
   "metadata": {},
   "outputs": [
    {
     "data": {
      "text/plain": [
       "Index(['PassengerId', 'Survived', 'Pclass', 'Name', 'Sex', 'Age', 'SibSp',\n",
       "       'Parch', 'Ticket', 'Fare', 'Cabin', 'Embarked'],\n",
       "      dtype='object')"
      ]
     },
     "execution_count": 5,
     "metadata": {},
     "output_type": "execute_result"
    }
   ],
   "source": [
    "data.columns"
   ]
  },
  {
   "cell_type": "raw",
   "id": "9b400f14",
   "metadata": {},
   "source": [
    "data의 열은 PassengerID, Survived, Pclass, Name, Sex, Age, Sibsp, parch, ticket, fare, cabin, embared 총 12개로 구성되어 있습니다.\n",
    "모든 컬럼을 해석할땐 종속변수이며 예측해야될 목적인 survived를 기준으로 비교해봅니다."
   ]
  },
  {
   "cell_type": "markdown",
   "id": "5d367748",
   "metadata": {},
   "source": [
    "#### SEX"
   ]
  },
  {
   "cell_type": "code",
   "execution_count": 6,
   "id": "bcdc4156",
   "metadata": {},
   "outputs": [
    {
     "data": {
      "text/plain": [
       "<AxesSubplot:xlabel='Sex', ylabel='count'>"
      ]
     },
     "execution_count": 6,
     "metadata": {},
     "output_type": "execute_result"
    },
    {
     "data": {
      "image/png": "[encoded data removed]",
      "text/plain": [
       "<Figure size 432x288 with 1 Axes>"
      ]
     },
     "metadata": {
      "image/png": {
       "height": 258,
       "width": 382
      }
     },
     "output_type": "display_data"
    }
   ],
   "source": [
    "data['Sex'].head() # 우선 성별에 관련된 내용을 확인합니다.\n",
    "sns.countplot(data=data, x='Sex',hue='Survived')"
   ]
  },
  {
   "cell_type": "raw",
   "id": "fc66e4f3",
   "metadata": {},
   "source": [
    "위 그래프를 보면, 남성승객보다 여성승객의 생존 확률이 높다는 것을 파악할 수 있습니다.\n",
    "타이타닉의 구명정 탑승 규칙인 '여성과 아이들 먼저 (ladies and child first)'가 이유가 될 수 있을 것 같다고 생각됩니다."
   ]
  },
  {
   "cell_type": "code",
   "execution_count": 7,
   "id": "b3526e49",
   "metadata": {},
   "outputs": [
    {
     "data": {
      "text/html": [
       "<div>\n",
       "<style scoped>\n",
       "    .dataframe tbody tr th:only-of-type {\n",
       "        vertical-align: middle;\n",
       "    }\n",
       "\n",
       "    .dataframe tbody tr th {\n",
       "        vertical-align: top;\n",
       "    }\n",
       "\n",
       "    .dataframe thead th {\n",
       "        text-align: right;\n",
       "    }\n",
       "</style>\n",
       "<table border=\"1\" class=\"dataframe\">\n",
       "  <thead>\n",
       "    <tr style=\"text-align: right;\">\n",
       "      <th></th>\n",
       "      <th>Survived</th>\n",
       "    </tr>\n",
       "    <tr>\n",
       "      <th>Sex</th>\n",
       "      <th></th>\n",
       "    </tr>\n",
       "  </thead>\n",
       "  <tbody>\n",
       "    <tr>\n",
       "      <th>female</th>\n",
       "      <td>0.742038</td>\n",
       "    </tr>\n",
       "    <tr>\n",
       "      <th>male</th>\n",
       "      <td>0.188908</td>\n",
       "    </tr>\n",
       "  </tbody>\n",
       "</table>\n",
       "</div>"
      ],
      "text/plain": [
       "        Survived\n",
       "Sex             \n",
       "female  0.742038\n",
       "male    0.188908"
      ]
     },
     "execution_count": 7,
     "metadata": {},
     "output_type": "execute_result"
    }
   ],
   "source": [
    "pd.pivot_table(data, index= 'Sex', values='Survived')\n",
    "# 피벗테이블로 확인 했을때, 여성이 70%이상이 생존하는 것을 알 수 있음!"
   ]
  },
  {
   "cell_type": "markdown",
   "id": "ab21f185",
   "metadata": {},
   "source": [
    "###### Age"
   ]
  },
  {
   "cell_type": "code",
   "execution_count": 8,
   "id": "ec493210",
   "metadata": {},
   "outputs": [
    {
     "data": {
      "text/plain": [
       "177"
      ]
     },
     "execution_count": 8,
     "metadata": {},
     "output_type": "execute_result"
    }
   ],
   "source": [
    "data['Age'].isnull().sum() # 결측값이 177개."
   ]
  },
  {
   "cell_type": "raw",
   "id": "1d93c121",
   "metadata": {},
   "source": [
    "#결측값 처리 - 평균값으로 처리해보자 (2021.07.22)\n",
    "data['Age'] = data['Age'].fillna(data[\"Age\"].mean())\n",
    "data[\"Age\"].isnull().sum()\n",
    "data.Age.unique()\n",
    "data['Age'] = data[\"Age\"].round(2)\n",
    "data['Age']"
   ]
  },
  {
   "cell_type": "code",
   "execution_count": 9,
   "id": "19f2f80b",
   "metadata": {},
   "outputs": [
    {
     "data": {
      "text/plain": [
       "0      22.0\n",
       "1      38.0\n",
       "2      26.0\n",
       "3      35.0\n",
       "4      35.0\n",
       "       ... \n",
       "886    27.0\n",
       "887    19.0\n",
       "888    28.0\n",
       "889    26.0\n",
       "890    32.0\n",
       "Name: Age, Length: 891, dtype: float64"
      ]
     },
     "execution_count": 9,
     "metadata": {},
     "output_type": "execute_result"
    }
   ],
   "source": [
    "#3번째 평균값이 아닌 중간값으로 처리해봄.\n",
    "data['Age'] = data['Age'].fillna(data[\"Age\"].median())\n",
    "data[\"Age\"].isnull().sum()\n",
    "data.Age.unique()\n",
    "data['Age'] = data[\"Age\"].round(2)\n",
    "data['Age']"
   ]
  },
  {
   "cell_type": "code",
   "execution_count": 10,
   "id": "0822e60c",
   "metadata": {},
   "outputs": [
    {
     "name": "stdout",
     "output_type": "stream",
     "text": [
      "[22.   38.   26.   35.   28.   54.    2.   27.   14.    4.   58.   20.\n",
      " 39.   55.   31.   34.   15.    8.   19.   40.   66.   42.   21.   18.\n",
      "  3.    7.   49.   29.   65.   28.5   5.   11.   45.   17.   32.   16.\n",
      " 25.    0.83 30.   33.   23.   24.   46.   59.   71.   37.   47.   14.5\n",
      " 70.5  32.5  12.    9.   36.5  51.   55.5  40.5  44.    1.   61.   56.\n",
      " 50.   36.   45.5  20.5  62.   41.   52.   63.   23.5   0.92 43.   60.\n",
      " 10.   64.   13.   48.    0.75 53.   57.   80.   70.   24.5   6.    0.67\n",
      " 30.5   0.42 34.5  74.  ]\n"
     ]
    }
   ],
   "source": [
    "print(data[\"Age\"].unique())\n",
    "#Age데이터는 값들의 종류가 많아, 종속변수 혹은 다른것들과 함께 봐야할 것 같다."
   ]
  },
  {
   "cell_type": "code",
   "execution_count": 11,
   "id": "2c2a2b0e",
   "metadata": {},
   "outputs": [
    {
     "data": {
      "text/plain": [
       "<AxesSubplot:xlabel='Pclass', ylabel='Age'>"
      ]
     },
     "execution_count": 11,
     "metadata": {},
     "output_type": "execute_result"
    },
    {
     "data": {
      "image/png": "[encoded data removed]",
      "text/plain": [
       "<Figure size 432x288 with 1 Axes>"
      ]
     },
     "metadata": {
      "image/png": {
       "height": 258,
       "width": 377
      }
     },
     "output_type": "display_data"
    }
   ],
   "source": [
    "# 그렇다면 나이별로 어떤 클래스를 많이 탔을까\n",
    "sns.boxplot(data=data, x='Pclass', y='Age')\n",
    "# 1등급을 탄 사람들이 상대적으로 연령이 높다는 것을 알 수 있다."
   ]
  },
  {
   "cell_type": "code",
   "execution_count": 12,
   "id": "04ae6413",
   "metadata": {},
   "outputs": [
    {
     "data": {
      "text/plain": [
       "<seaborn.axisgrid.FacetGrid at 0x24b40ed94c0>"
      ]
     },
     "execution_count": 12,
     "metadata": {},
     "output_type": "execute_result"
    },
    {
     "data": {
      "image/png": "[encoded data removed]",
      "text/plain": [
       "<Figure size 407x360 with 1 Axes>"
      ]
     },
     "metadata": {
      "image/png": {
       "height": 366,
       "width": 414
      }
     },
     "output_type": "display_data"
    }
   ],
   "source": [
    "# 그럼 돈을 어떻게 냈을지 확인해보자.\n",
    "# Age 와 Fare 의 상관관계를 분석합시다.\n",
    "sns.lmplot(data=data, x='Age',y='Fare',hue='Survived',fit_reg=False)"
   ]
  },
  {
   "cell_type": "code",
   "execution_count": 111,
   "id": "73ddd649",
   "metadata": {},
   "outputs": [
    {
     "data": {
      "text/plain": [
       "<AxesSubplot:xlabel='Pclass', ylabel='Age'>"
      ]
     },
     "execution_count": 111,
     "metadata": {},
     "output_type": "execute_result"
    },
    {
     "data": {
      "image/png": "[encoded data removed]",
      "text/plain": [
       "<Figure size 432x288 with 1 Axes>"
      ]
     },
     "metadata": {
      "image/png": {
       "height": 258,
       "width": 377
      }
     },
     "output_type": "display_data"
    }
   ],
   "source": [
    "sns.lineplot(data=data,x='Pclass',y='Age',hue='Survived')"
   ]
  },
  {
   "cell_type": "raw",
   "id": "1582c9c0",
   "metadata": {},
   "source": [
    "위 그래프를 보면 보통적인 Fare에 비해 500 이상의 Fare을 낸 탑승객이 있는것을 확인 할 수 있습니다. 300이하의 Fare에 비해 너무 많이 떨어져있는 데이터라 생각하여 Outlier로 취급, 삭제해줍니다."
   ]
  },
  {
   "cell_type": "code",
   "execution_count": 13,
   "id": "cda2ea60",
   "metadata": {},
   "outputs": [
    {
     "data": {
      "text/plain": [
       "count    891.000000\n",
       "mean      32.204208\n",
       "std       49.693429\n",
       "min        0.000000\n",
       "25%        7.910400\n",
       "50%       14.454200\n",
       "75%       31.000000\n",
       "max      512.329200\n",
       "Name: Fare, dtype: float64"
      ]
     },
     "execution_count": 13,
     "metadata": {},
     "output_type": "execute_result"
    }
   ],
   "source": [
    "data['Fare'].describe()\n",
    "#전체 평균값은 32정도 되고, 최대값은 512로 매우 차이가 많이 나는 것으로 보인다,."
   ]
  },
  {
   "cell_type": "code",
   "execution_count": 14,
   "id": "33245d9c",
   "metadata": {},
   "outputs": [
    {
     "data": {
      "text/plain": [
       "((891, 12), (888, 12))"
      ]
     },
     "execution_count": 14,
     "metadata": {},
     "output_type": "execute_result"
    }
   ],
   "source": [
    "lf = data[data['Fare'] < 500]\n",
    "data.shape , lf.shape #outlier인 3개의 데이터를 삭제해줍니다."
   ]
  },
  {
   "cell_type": "code",
   "execution_count": 15,
   "id": "a1911dd5",
   "metadata": {},
   "outputs": [
    {
     "data": {
      "text/plain": [
       "<seaborn.axisgrid.FacetGrid at 0x24b40f5f8e0>"
      ]
     },
     "execution_count": 15,
     "metadata": {},
     "output_type": "execute_result"
    },
    {
     "data": {
      "image/png": "[encoded data removed]",
      "text/plain": [
       "<Figure size 407x360 with 1 Axes>"
      ]
     },
     "metadata": {
      "image/png": {
       "height": 366,
       "width": 414
      }
     },
     "output_type": "display_data"
    }
   ],
   "source": [
    "sns.lmplot(data=lf, x='Age',y='Fare',hue='Survived',fit_reg=False)"
   ]
  },
  {
   "cell_type": "raw",
   "id": "fc6a6681",
   "metadata": {},
   "source": [
    "그래프를 보면 요금을 더 많이 낸 승객일 수록 생존확률이 높은 것을 확인 할 수 있습니다.\n",
    "아마도 요금을 많이 낸 사람들은 등급의 차이를 예상할 수 있습니다.\n",
    "그리고 요금과 나이에는 크게 상관관계가 없어 보입니다."
   ]
  },
  {
   "cell_type": "markdown",
   "id": "8fe92600",
   "metadata": {},
   "source": [
    "###### SibSp, Parch"
   ]
  },
  {
   "cell_type": "raw",
   "id": "3bf83779",
   "metadata": {},
   "source": [
    "SibSp, Parch는 해당 탑승객과 탑승한 형제/자매와 배우자의 수 , 같이 탄 부모/자식의 수를 의미합니다. 따라서 SibSp + Parch = 가족의 총 인원수로 생각할 수 있다고 봅니다."
   ]
  },
  {
   "cell_type": "code",
   "execution_count": 16,
   "id": "bfe6976c",
   "metadata": {},
   "outputs": [
    {
     "name": "stdout",
     "output_type": "stream",
     "text": [
      "0    2\n",
      "Name: Family, dtype: int64\n"
     ]
    },
    {
     "data": {
      "text/html": [
       "<div>\n",
       "<style scoped>\n",
       "    .dataframe tbody tr th:only-of-type {\n",
       "        vertical-align: middle;\n",
       "    }\n",
       "\n",
       "    .dataframe tbody tr th {\n",
       "        vertical-align: top;\n",
       "    }\n",
       "\n",
       "    .dataframe thead th {\n",
       "        text-align: right;\n",
       "    }\n",
       "</style>\n",
       "<table border=\"1\" class=\"dataframe\">\n",
       "  <thead>\n",
       "    <tr style=\"text-align: right;\">\n",
       "      <th></th>\n",
       "      <th>SibSp</th>\n",
       "      <th>Parch</th>\n",
       "      <th>Family</th>\n",
       "    </tr>\n",
       "  </thead>\n",
       "  <tbody>\n",
       "    <tr>\n",
       "      <th>0</th>\n",
       "      <td>1</td>\n",
       "      <td>0</td>\n",
       "      <td>2</td>\n",
       "    </tr>\n",
       "    <tr>\n",
       "      <th>1</th>\n",
       "      <td>1</td>\n",
       "      <td>0</td>\n",
       "      <td>2</td>\n",
       "    </tr>\n",
       "    <tr>\n",
       "      <th>2</th>\n",
       "      <td>0</td>\n",
       "      <td>0</td>\n",
       "      <td>1</td>\n",
       "    </tr>\n",
       "    <tr>\n",
       "      <th>3</th>\n",
       "      <td>1</td>\n",
       "      <td>0</td>\n",
       "      <td>2</td>\n",
       "    </tr>\n",
       "    <tr>\n",
       "      <th>4</th>\n",
       "      <td>0</td>\n",
       "      <td>0</td>\n",
       "      <td>1</td>\n",
       "    </tr>\n",
       "  </tbody>\n",
       "</table>\n",
       "</div>"
      ],
      "text/plain": [
       "   SibSp  Parch  Family\n",
       "0      1      0       2\n",
       "1      1      0       2\n",
       "2      0      0       1\n",
       "3      1      0       2\n",
       "4      0      0       1"
      ]
     },
     "execution_count": 16,
     "metadata": {},
     "output_type": "execute_result"
    }
   ],
   "source": [
    "#따라서 SibSp와 Parch를 한 컬럼으로 정리합니다.\n",
    "#하지만 SibSp와 Parch가 없이, 단 홀로 탔다고 가정할때,\n",
    "#혼자 탔다고 하면 Family == 1 로 나타나야하니, 1을 더해줍니다.\n",
    "data['Family'] = data['SibSp'] + data['Parch'] + 1\n",
    "print(data['Family'].head(1))\n",
    "data[[\"SibSp\",\"Parch\",\"Family\"]].head()"
   ]
  },
  {
   "cell_type": "markdown",
   "id": "6e9e0355",
   "metadata": {},
   "source": [
    "그렇다면 가족수와 생존관계를 파악해봅니다."
   ]
  },
  {
   "cell_type": "code",
   "execution_count": 17,
   "id": "0608ac8a",
   "metadata": {},
   "outputs": [
    {
     "data": {
      "text/plain": [
       "<AxesSubplot:xlabel='Family', ylabel='count'>"
      ]
     },
     "execution_count": 17,
     "metadata": {},
     "output_type": "execute_result"
    },
    {
     "data": {
      "image/png": "[encoded data removed]",
      "text/plain": [
       "<Figure size 432x288 with 1 Axes>"
      ]
     },
     "metadata": {
      "image/png": {
       "height": 258,
       "width": 382
      }
     },
     "output_type": "display_data"
    }
   ],
   "source": [
    "sns.countplot(data=data,x='Family',hue='Survived')"
   ]
  },
  {
   "cell_type": "code",
   "execution_count": 18,
   "id": "a15f96a1",
   "metadata": {},
   "outputs": [
    {
     "data": {
      "text/html": [
       "<div>\n",
       "<style scoped>\n",
       "    .dataframe tbody tr th:only-of-type {\n",
       "        vertical-align: middle;\n",
       "    }\n",
       "\n",
       "    .dataframe tbody tr th {\n",
       "        vertical-align: top;\n",
       "    }\n",
       "\n",
       "    .dataframe thead th {\n",
       "        text-align: right;\n",
       "    }\n",
       "</style>\n",
       "<table border=\"1\" class=\"dataframe\">\n",
       "  <thead>\n",
       "    <tr style=\"text-align: right;\">\n",
       "      <th></th>\n",
       "      <th>Survived</th>\n",
       "    </tr>\n",
       "    <tr>\n",
       "      <th>Family</th>\n",
       "      <th></th>\n",
       "    </tr>\n",
       "  </thead>\n",
       "  <tbody>\n",
       "    <tr>\n",
       "      <th>1</th>\n",
       "      <td>0.303538</td>\n",
       "    </tr>\n",
       "    <tr>\n",
       "      <th>2</th>\n",
       "      <td>0.552795</td>\n",
       "    </tr>\n",
       "    <tr>\n",
       "      <th>3</th>\n",
       "      <td>0.578431</td>\n",
       "    </tr>\n",
       "    <tr>\n",
       "      <th>4</th>\n",
       "      <td>0.724138</td>\n",
       "    </tr>\n",
       "    <tr>\n",
       "      <th>5</th>\n",
       "      <td>0.200000</td>\n",
       "    </tr>\n",
       "    <tr>\n",
       "      <th>6</th>\n",
       "      <td>0.136364</td>\n",
       "    </tr>\n",
       "    <tr>\n",
       "      <th>7</th>\n",
       "      <td>0.333333</td>\n",
       "    </tr>\n",
       "    <tr>\n",
       "      <th>8</th>\n",
       "      <td>0.000000</td>\n",
       "    </tr>\n",
       "    <tr>\n",
       "      <th>11</th>\n",
       "      <td>0.000000</td>\n",
       "    </tr>\n",
       "  </tbody>\n",
       "</table>\n",
       "</div>"
      ],
      "text/plain": [
       "        Survived\n",
       "Family          \n",
       "1       0.303538\n",
       "2       0.552795\n",
       "3       0.578431\n",
       "4       0.724138\n",
       "5       0.200000\n",
       "6       0.136364\n",
       "7       0.333333\n",
       "8       0.000000\n",
       "11      0.000000"
      ]
     },
     "execution_count": 18,
     "metadata": {},
     "output_type": "execute_result"
    }
   ],
   "source": [
    "data[['Family','Survived']].groupby(['Family']).mean()"
   ]
  },
  {
   "cell_type": "raw",
   "id": "9273ac09",
   "metadata": {},
   "source": [
    "(약간 운좋게 파악됨,,.,)\n",
    "위 그래프를보면 혼자 혼 탑승객의 생존확률은 매우 낮습니다.\n",
    "반면, 같이 탄 가족수가 많아지면 마찬가지로 생존확률이 매우 낮아집니다.\n",
    "생존확률은 2~4까지가 매우 높고, 5~11은 생존확률이 매우 낮습니다.\n",
    "그렇다면 혼자 탑승한 1, 2~4, 5~11로 3가지의 column으로 정리가 가능합니다."
   ]
  },
  {
   "cell_type": "code",
   "execution_count": 19,
   "id": "edb0d07e",
   "metadata": {},
   "outputs": [
    {
     "data": {
      "text/html": [
       "<div>\n",
       "<style scoped>\n",
       "    .dataframe tbody tr th:only-of-type {\n",
       "        vertical-align: middle;\n",
       "    }\n",
       "\n",
       "    .dataframe tbody tr th {\n",
       "        vertical-align: top;\n",
       "    }\n",
       "\n",
       "    .dataframe thead th {\n",
       "        text-align: right;\n",
       "    }\n",
       "</style>\n",
       "<table border=\"1\" class=\"dataframe\">\n",
       "  <thead>\n",
       "    <tr style=\"text-align: right;\">\n",
       "      <th></th>\n",
       "      <th>Family</th>\n",
       "      <th>Family_cat</th>\n",
       "    </tr>\n",
       "  </thead>\n",
       "  <tbody>\n",
       "    <tr>\n",
       "      <th>0</th>\n",
       "      <td>2</td>\n",
       "      <td>Nuclear</td>\n",
       "    </tr>\n",
       "    <tr>\n",
       "      <th>1</th>\n",
       "      <td>2</td>\n",
       "      <td>Nuclear</td>\n",
       "    </tr>\n",
       "    <tr>\n",
       "      <th>2</th>\n",
       "      <td>1</td>\n",
       "      <td>Single</td>\n",
       "    </tr>\n",
       "    <tr>\n",
       "      <th>3</th>\n",
       "      <td>2</td>\n",
       "      <td>Nuclear</td>\n",
       "    </tr>\n",
       "    <tr>\n",
       "      <th>4</th>\n",
       "      <td>1</td>\n",
       "      <td>Single</td>\n",
       "    </tr>\n",
       "  </tbody>\n",
       "</table>\n",
       "</div>"
      ],
      "text/plain": [
       "   Family Family_cat\n",
       "0       2    Nuclear\n",
       "1       2    Nuclear\n",
       "2       1     Single\n",
       "3       2    Nuclear\n",
       "4       1     Single"
      ]
     },
     "execution_count": 19,
     "metadata": {},
     "output_type": "execute_result"
    }
   ],
   "source": [
    "def cat_family(x):\n",
    "    cat=''\n",
    "    if x == 1:\n",
    "        cat = 'Single'\n",
    "    elif 2 <= x <= 4:\n",
    "        cat = 'Nuclear'\n",
    "    else:\n",
    "        cat = 'Big'\n",
    "    return cat\n",
    "\n",
    "data['Family_cat'] = data['Family'].apply(lambda x : cat_family(x))\n",
    "data[['Family','Family_cat']].head()"
   ]
  },
  {
   "cell_type": "code",
   "execution_count": 20,
   "id": "47cd3b6f",
   "metadata": {},
   "outputs": [
    {
     "data": {
      "text/plain": [
       "<AxesSubplot:xlabel='Family_cat', ylabel='count'>"
      ]
     },
     "execution_count": 20,
     "metadata": {},
     "output_type": "execute_result"
    },
    {
     "data": {
      "image/png": "[encoded data removed]",
      "text/plain": [
       "<Figure size 432x288 with 1 Axes>"
      ]
     },
     "metadata": {
      "image/png": {
       "height": 258,
       "width": 382
      }
     },
     "output_type": "display_data"
    }
   ],
   "source": [
    "sns.countplot(data=data,x='Family_cat',hue='Survived')\n",
    "#Single 과 Big 의 관계를 보면, 생존확률이 상대적으로 매우 낮다.\n",
    "#반면 핵가족인 Nuclear를 보면, 생존확률이 높습니다."
   ]
  },
  {
   "cell_type": "code",
   "execution_count": 21,
   "id": "eda0b1ae",
   "metadata": {},
   "outputs": [
    {
     "data": {
      "text/html": [
       "<div>\n",
       "<style scoped>\n",
       "    .dataframe tbody tr th:only-of-type {\n",
       "        vertical-align: middle;\n",
       "    }\n",
       "\n",
       "    .dataframe tbody tr th {\n",
       "        vertical-align: top;\n",
       "    }\n",
       "\n",
       "    .dataframe thead th {\n",
       "        text-align: right;\n",
       "    }\n",
       "</style>\n",
       "<table border=\"1\" class=\"dataframe\">\n",
       "  <thead>\n",
       "    <tr style=\"text-align: right;\">\n",
       "      <th></th>\n",
       "      <th>Survived</th>\n",
       "    </tr>\n",
       "    <tr>\n",
       "      <th>Family_cat</th>\n",
       "      <th></th>\n",
       "    </tr>\n",
       "  </thead>\n",
       "  <tbody>\n",
       "    <tr>\n",
       "      <th>Big</th>\n",
       "      <td>0.161290</td>\n",
       "    </tr>\n",
       "    <tr>\n",
       "      <th>Nuclear</th>\n",
       "      <td>0.578767</td>\n",
       "    </tr>\n",
       "    <tr>\n",
       "      <th>Single</th>\n",
       "      <td>0.303538</td>\n",
       "    </tr>\n",
       "  </tbody>\n",
       "</table>\n",
       "</div>"
      ],
      "text/plain": [
       "            Survived\n",
       "Family_cat          \n",
       "Big         0.161290\n",
       "Nuclear     0.578767\n",
       "Single      0.303538"
      ]
     },
     "execution_count": 21,
     "metadata": {},
     "output_type": "execute_result"
    }
   ],
   "source": [
    "pd.pivot_table(data=data, index='Family_cat', values='Survived')"
   ]
  },
  {
   "cell_type": "markdown",
   "id": "524d652a",
   "metadata": {},
   "source": [
    "###### Pclass"
   ]
  },
  {
   "cell_type": "raw",
   "id": "06fccc0b",
   "metadata": {},
   "source": [
    "Pclass가 생존확률에 큰 영향을 미치는지, 요금을 많이 냈는지, 확인해봅시다."
   ]
  },
  {
   "cell_type": "code",
   "execution_count": 22,
   "id": "3daab20f",
   "metadata": {},
   "outputs": [
    {
     "data": {
      "text/plain": [
       "<AxesSubplot:xlabel='Pclass', ylabel='Fare'>"
      ]
     },
     "execution_count": 22,
     "metadata": {},
     "output_type": "execute_result"
    },
    {
     "data": {
      "image/png": "[encoded data removed]",
      "text/plain": [
       "<Figure size 432x288 with 2 Axes>"
      ]
     },
     "metadata": {
      "image/png": {
       "height": 258,
       "width": 382
      }
     },
     "output_type": "display_data"
    }
   ],
   "source": [
    "fig, ax = plt.subplots(ncols=2)\n",
    "sns.countplot(data=data, x='Pclass',hue='Survived',ax=ax[0])\n",
    "sns.barplot(data=data, x='Pclass',y='Fare',ax=ax[1])\n",
    "#Pclass가 등급이 높을수록 Fare는 높지만, 생존확률이 상대적으로 높은것을 확인됩니다."
   ]
  },
  {
   "cell_type": "markdown",
   "id": "21a97993",
   "metadata": {},
   "source": [
    "###### Embarked"
   ]
  },
  {
   "cell_type": "code",
   "execution_count": 23,
   "id": "26a15b19",
   "metadata": {},
   "outputs": [
    {
     "data": {
      "text/plain": [
       "PassengerId      0\n",
       "Survived         0\n",
       "Pclass           0\n",
       "Name             0\n",
       "Sex              0\n",
       "Age              0\n",
       "SibSp            0\n",
       "Parch            0\n",
       "Ticket           0\n",
       "Fare             0\n",
       "Cabin          687\n",
       "Embarked         0\n",
       "Family           0\n",
       "Family_cat       0\n",
       "dtype: int64"
      ]
     },
     "execution_count": 23,
     "metadata": {},
     "output_type": "execute_result"
    }
   ],
   "source": [
    "data['Embarked'].isnull().sum() # 결측값이 2개 있음.\n",
    "# 891 개 중 2개이고, 가장 많이 탑승한 지역 S << 로 임의로 채워줌.\n",
    "data['Embarked'] = data['Embarked'].fillna('S')\n",
    "data.isnull().sum()"
   ]
  },
  {
   "cell_type": "code",
   "execution_count": 24,
   "id": "c75f0a86",
   "metadata": {},
   "outputs": [
    {
     "data": {
      "text/plain": [
       "<AxesSubplot:xlabel='Embarked', ylabel='count'>"
      ]
     },
     "execution_count": 24,
     "metadata": {},
     "output_type": "execute_result"
    },
    {
     "data": {
      "image/png": "[encoded data removed]",
      "text/plain": [
       "<Figure size 432x288 with 1 Axes>"
      ]
     },
     "metadata": {
      "image/png": {
       "height": 258,
       "width": 382
      }
     },
     "output_type": "display_data"
    }
   ],
   "source": [
    "sns.countplot(data=data,x='Embarked',hue='Survived')"
   ]
  },
  {
   "cell_type": "raw",
   "id": "8d7d65cc",
   "metadata": {},
   "source": [
    "그래프를 보면 C에서 (Cherbourg) 탑승할수록 생존할 확률이 높지만 S에서 탑승할수록 사망할 확률이 높다는 것을 알 수 있습니다.\n",
    "S에서 탑승한 승객이 가장 많지만, 사망자가 생존자의 2배정도를 기록하고 있습니다. \n",
    "Q에서 탑승한 승객은 가장 적지만 사망자가 생존자가 미세하게 많은것으로 보입니다."
   ]
  },
  {
   "cell_type": "code",
   "execution_count": 25,
   "id": "b20bd7b8",
   "metadata": {},
   "outputs": [
    {
     "data": {
      "text/html": [
       "<div>\n",
       "<style scoped>\n",
       "    .dataframe tbody tr th:only-of-type {\n",
       "        vertical-align: middle;\n",
       "    }\n",
       "\n",
       "    .dataframe tbody tr th {\n",
       "        vertical-align: top;\n",
       "    }\n",
       "\n",
       "    .dataframe thead th {\n",
       "        text-align: right;\n",
       "    }\n",
       "</style>\n",
       "<table border=\"1\" class=\"dataframe\">\n",
       "  <thead>\n",
       "    <tr style=\"text-align: right;\">\n",
       "      <th></th>\n",
       "      <th>Survived</th>\n",
       "    </tr>\n",
       "    <tr>\n",
       "      <th>Embarked</th>\n",
       "      <th></th>\n",
       "    </tr>\n",
       "  </thead>\n",
       "  <tbody>\n",
       "    <tr>\n",
       "      <th>C</th>\n",
       "      <td>0.553571</td>\n",
       "    </tr>\n",
       "    <tr>\n",
       "      <th>Q</th>\n",
       "      <td>0.389610</td>\n",
       "    </tr>\n",
       "    <tr>\n",
       "      <th>S</th>\n",
       "      <td>0.339009</td>\n",
       "    </tr>\n",
       "  </tbody>\n",
       "</table>\n",
       "</div>"
      ],
      "text/plain": [
       "          Survived\n",
       "Embarked          \n",
       "C         0.553571\n",
       "Q         0.389610\n",
       "S         0.339009"
      ]
     },
     "execution_count": 25,
     "metadata": {},
     "output_type": "execute_result"
    }
   ],
   "source": [
    "pd.pivot_table(data, index='Embarked',values='Survived')"
   ]
  },
  {
   "cell_type": "markdown",
   "id": "e1504496",
   "metadata": {},
   "source": [
    "###### Name\n",
    "Name 성,호칭(?).이름 으로 구성되어있습니다."
   ]
  },
  {
   "cell_type": "code",
   "execution_count": 26,
   "id": "e2f7990b-ae4a-4aad-b0d2-fec7c6721724",
   "metadata": {},
   "outputs": [],
   "source": [
    "data['Name'].unique()"
   ]
  },
  {
   "cell_type": "code",
   "execution_count": 27,
   "id": "39d98f90",
   "metadata": {},
   "outputs": [
    {
     "data": {
      "text/plain": [
       "0"
      ]
     },
     "execution_count": 27,
     "metadata": {},
     "output_type": "execute_result"
    }
   ],
   "source": [
    "data['Name'].isnull().sum()"
   ]
  },
  {
   "cell_type": "raw",
   "id": "46e8e9d7",
   "metadata": {},
   "source": [
    "성과 이름은 생존확률에 크게 연관은 없어보이지만,\n",
    "호칭에 보이는 Mr Master Miss Mrs 등등은 전처리를 가능 할 것 같다고 생각 했습니다.\n",
    "split을 활용해서 호칭을 뽑는 함수식을 만들어 적용하고 호칭만 출력합니다."
   ]
  },
  {
   "cell_type": "code",
   "execution_count": 28,
   "id": "36ab6d56",
   "metadata": {},
   "outputs": [
    {
     "data": {
      "text/plain": [
       "Mr              517\n",
       "Miss            182\n",
       "Mrs             125\n",
       "Master           40\n",
       "Dr                7\n",
       "Rev               6\n",
       "Col               2\n",
       "Mlle              2\n",
       "Major             2\n",
       "Don               1\n",
       "Ms                1\n",
       "Mme               1\n",
       "Lady              1\n",
       "Capt              1\n",
       "Sir               1\n",
       "the Countess      1\n",
       "Jonkheer          1\n",
       "Name: Name, dtype: int64"
      ]
     },
     "execution_count": 28,
     "metadata": {},
     "output_type": "execute_result"
    }
   ],
   "source": [
    "def get_title(x):\n",
    "    return x.split(', ')[1].split('. ')[0]\n",
    "a = data['Name'].apply(lambda x : get_title(x))\n",
    "a.unique()\n",
    "a.value_counts()"
   ]
  },
  {
   "cell_type": "code",
   "execution_count": 29,
   "id": "1e7e1321",
   "metadata": {},
   "outputs": [],
   "source": [
    "# data. loc [ 행-탐색조건 / 열-새로운열] = (새로운열 + 탐색조건 행 의) 값.\n",
    "data.loc[data['Name'].str.contains('Mr'),'Name_cat'] = \"Mr\"\n",
    "data.loc[data['Name'].str.contains('Master'),'Name_cat'] = \"Master\"\n",
    "data.loc[data['Name'].str.contains('Miss'),'Name_cat'] = \"Miss\"\n",
    "data.loc[data['Name'].str.contains('Mrs'),'Name_cat'] = \"Mrs\""
   ]
  },
  {
   "cell_type": "code",
   "execution_count": 30,
   "id": "78dfa55e",
   "metadata": {},
   "outputs": [],
   "source": [
    "data['Name_cat'].unique()\n",
    "data['Name_cat'].isnull().sum()\n",
    "ix = [index for index, row in data[['Name_cat']].iterrows() if row.isnull().any()]"
   ]
  },
  {
   "cell_type": "code",
   "execution_count": 31,
   "id": "431584dc",
   "metadata": {},
   "outputs": [
    {
     "data": {
      "text/html": [
       "<div>\n",
       "<style scoped>\n",
       "    .dataframe tbody tr th:only-of-type {\n",
       "        vertical-align: middle;\n",
       "    }\n",
       "\n",
       "    .dataframe tbody tr th {\n",
       "        vertical-align: top;\n",
       "    }\n",
       "\n",
       "    .dataframe thead th {\n",
       "        text-align: right;\n",
       "    }\n",
       "</style>\n",
       "<table border=\"1\" class=\"dataframe\">\n",
       "  <thead>\n",
       "    <tr style=\"text-align: right;\">\n",
       "      <th></th>\n",
       "      <th>PassengerId</th>\n",
       "      <th>Survived</th>\n",
       "      <th>Pclass</th>\n",
       "      <th>Name</th>\n",
       "      <th>Sex</th>\n",
       "      <th>Age</th>\n",
       "      <th>SibSp</th>\n",
       "      <th>Parch</th>\n",
       "      <th>Ticket</th>\n",
       "      <th>Fare</th>\n",
       "      <th>Cabin</th>\n",
       "      <th>Embarked</th>\n",
       "      <th>Family</th>\n",
       "      <th>Family_cat</th>\n",
       "      <th>Name_cat</th>\n",
       "    </tr>\n",
       "  </thead>\n",
       "  <tbody>\n",
       "    <tr>\n",
       "      <th>30</th>\n",
       "      <td>31</td>\n",
       "      <td>0</td>\n",
       "      <td>1</td>\n",
       "      <td>Uruchurtu, Don. Manuel E</td>\n",
       "      <td>male</td>\n",
       "      <td>40.0</td>\n",
       "      <td>0</td>\n",
       "      <td>0</td>\n",
       "      <td>PC 17601</td>\n",
       "      <td>27.7208</td>\n",
       "      <td>NaN</td>\n",
       "      <td>C</td>\n",
       "      <td>1</td>\n",
       "      <td>Single</td>\n",
       "      <td>NaN</td>\n",
       "    </tr>\n",
       "  </tbody>\n",
       "</table>\n",
       "</div>"
      ],
      "text/plain": [
       "    PassengerId  Survived  Pclass                      Name   Sex   Age  \\\n",
       "30           31         0       1  Uruchurtu, Don. Manuel E  male  40.0   \n",
       "\n",
       "    SibSp  Parch    Ticket     Fare Cabin Embarked  Family Family_cat Name_cat  \n",
       "30      0      0  PC 17601  27.7208   NaN        C       1     Single      NaN  "
      ]
     },
     "execution_count": 31,
     "metadata": {},
     "output_type": "execute_result"
    }
   ],
   "source": [
    "data.iloc[ix].head(1)"
   ]
  },
  {
   "cell_type": "code",
   "execution_count": 32,
   "id": "4c35553b",
   "metadata": {},
   "outputs": [],
   "source": [
    "data['Name_cat'].unique()\n",
    "data['Name_cat'] = data['Name_cat'].fillna('Other')"
   ]
  },
  {
   "cell_type": "code",
   "execution_count": 33,
   "id": "aed2e489",
   "metadata": {},
   "outputs": [
    {
     "data": {
      "text/html": [
       "<div>\n",
       "<style scoped>\n",
       "    .dataframe tbody tr th:only-of-type {\n",
       "        vertical-align: middle;\n",
       "    }\n",
       "\n",
       "    .dataframe tbody tr th {\n",
       "        vertical-align: top;\n",
       "    }\n",
       "\n",
       "    .dataframe thead th {\n",
       "        text-align: right;\n",
       "    }\n",
       "</style>\n",
       "<table border=\"1\" class=\"dataframe\">\n",
       "  <thead>\n",
       "    <tr style=\"text-align: right;\">\n",
       "      <th></th>\n",
       "      <th>Survived</th>\n",
       "    </tr>\n",
       "    <tr>\n",
       "      <th>Name_cat</th>\n",
       "      <th></th>\n",
       "    </tr>\n",
       "  </thead>\n",
       "  <tbody>\n",
       "    <tr>\n",
       "      <th>Master</th>\n",
       "      <td>0.575000</td>\n",
       "    </tr>\n",
       "    <tr>\n",
       "      <th>Miss</th>\n",
       "      <td>0.700000</td>\n",
       "    </tr>\n",
       "    <tr>\n",
       "      <th>Mr</th>\n",
       "      <td>0.158301</td>\n",
       "    </tr>\n",
       "    <tr>\n",
       "      <th>Mrs</th>\n",
       "      <td>0.790698</td>\n",
       "    </tr>\n",
       "    <tr>\n",
       "      <th>Other</th>\n",
       "      <td>0.375000</td>\n",
       "    </tr>\n",
       "  </tbody>\n",
       "</table>\n",
       "</div>"
      ],
      "text/plain": [
       "          Survived\n",
       "Name_cat          \n",
       "Master    0.575000\n",
       "Miss      0.700000\n",
       "Mr        0.158301\n",
       "Mrs       0.790698\n",
       "Other     0.375000"
      ]
     },
     "execution_count": 33,
     "metadata": {},
     "output_type": "execute_result"
    },
    {
     "data": {
      "image/png": "[encoded data removed]",
      "text/plain": [
       "<Figure size 432x288 with 1 Axes>"
      ]
     },
     "metadata": {
      "image/png": {
       "height": 258,
       "width": 382
      }
     },
     "output_type": "display_data"
    }
   ],
   "source": [
    "sns.countplot(data=data, x='Name_cat',hue='Survived')\n",
    "pd.pivot_table(data, index='Name_cat',values='Survived')"
   ]
  },
  {
   "cell_type": "raw",
   "id": "58304da5",
   "metadata": {},
   "source": [
    "그래프를 보면 Mrs. Miss.의 생존율이 높고, 싱글남자인 Master또한 높습니다. \n",
    "아마 Master는 어린아이~어린남성일 경우가 많다고 생각됩니다."
   ]
  },
  {
   "cell_type": "code",
   "execution_count": 34,
   "id": "dfa36a48",
   "metadata": {},
   "outputs": [
    {
     "data": {
      "text/plain": [
       "count    40.000000\n",
       "mean      6.916750\n",
       "std       7.900328\n",
       "min       0.420000\n",
       "25%       1.750000\n",
       "50%       4.000000\n",
       "75%       9.000000\n",
       "max      28.000000\n",
       "Name: Age, dtype: float64"
      ]
     },
     "execution_count": 34,
     "metadata": {},
     "output_type": "execute_result"
    }
   ],
   "source": [
    "# 검증\n",
    "c_a = data[(data['Name_cat']=='Master') & (data['Age'])]\n",
    "c_a['Age'].describe()"
   ]
  },
  {
   "cell_type": "markdown",
   "id": "773494ef",
   "metadata": {},
   "source": [
    "###### Cabin\n",
    "    일단 넘어가보자 (07/22)"
   ]
  },
  {
   "cell_type": "markdown",
   "id": "93c7da50",
   "metadata": {},
   "source": [
    "# Preprocessing"
   ]
  },
  {
   "cell_type": "code",
   "execution_count": 35,
   "id": "780aa449",
   "metadata": {},
   "outputs": [
    {
     "data": {
      "text/plain": [
       "Index(['PassengerId', 'Survived', 'Pclass', 'Name', 'Sex', 'Age', 'SibSp',\n",
       "       'Parch', 'Ticket', 'Fare', 'Cabin', 'Embarked', 'Family', 'Family_cat',\n",
       "       'Name_cat'],\n",
       "      dtype='object')"
      ]
     },
     "execution_count": 35,
     "metadata": {},
     "output_type": "execute_result"
    }
   ],
   "source": [
    "data.columns"
   ]
  },
  {
   "cell_type": "markdown",
   "id": "a81e6362",
   "metadata": {},
   "source": [
    "###### SEX encoding"
   ]
  },
  {
   "cell_type": "code",
   "execution_count": 36,
   "id": "ab31ce3f",
   "metadata": {},
   "outputs": [
    {
     "data": {
      "text/html": [
       "<div>\n",
       "<style scoped>\n",
       "    .dataframe tbody tr th:only-of-type {\n",
       "        vertical-align: middle;\n",
       "    }\n",
       "\n",
       "    .dataframe tbody tr th {\n",
       "        vertical-align: top;\n",
       "    }\n",
       "\n",
       "    .dataframe thead th {\n",
       "        text-align: right;\n",
       "    }\n",
       "</style>\n",
       "<table border=\"1\" class=\"dataframe\">\n",
       "  <thead>\n",
       "    <tr style=\"text-align: right;\">\n",
       "      <th></th>\n",
       "      <th>Sex</th>\n",
       "      <th>Sex_E</th>\n",
       "    </tr>\n",
       "  </thead>\n",
       "  <tbody>\n",
       "    <tr>\n",
       "      <th>0</th>\n",
       "      <td>male</td>\n",
       "      <td>1</td>\n",
       "    </tr>\n",
       "    <tr>\n",
       "      <th>1</th>\n",
       "      <td>female</td>\n",
       "      <td>0</td>\n",
       "    </tr>\n",
       "    <tr>\n",
       "      <th>2</th>\n",
       "      <td>female</td>\n",
       "      <td>0</td>\n",
       "    </tr>\n",
       "    <tr>\n",
       "      <th>3</th>\n",
       "      <td>female</td>\n",
       "      <td>0</td>\n",
       "    </tr>\n",
       "    <tr>\n",
       "      <th>4</th>\n",
       "      <td>male</td>\n",
       "      <td>1</td>\n",
       "    </tr>\n",
       "  </tbody>\n",
       "</table>\n",
       "</div>"
      ],
      "text/plain": [
       "      Sex  Sex_E\n",
       "0    male      1\n",
       "1  female      0\n",
       "2  female      0\n",
       "3  female      0\n",
       "4    male      1"
      ]
     },
     "execution_count": 36,
     "metadata": {},
     "output_type": "execute_result"
    }
   ],
   "source": [
    "from sklearn.preprocessing import LabelEncoder\n",
    "le = LabelEncoder()\n",
    "features = ['Sex']\n",
    "for feature in features:\n",
    "    data['Sex_E'] = le.fit_transform(data['Sex'])\n",
    "data[['Sex','Sex_E']].head()"
   ]
  },
  {
   "cell_type": "markdown",
   "id": "bd5a0f3b",
   "metadata": {},
   "source": [
    "###### Age"
   ]
  },
  {
   "cell_type": "code",
   "execution_count": 37,
   "id": "e4d5957b",
   "metadata": {},
   "outputs": [
    {
     "data": {
      "text/plain": [
       "<AxesSubplot:xlabel='Age', ylabel='Count'>"
      ]
     },
     "execution_count": 37,
     "metadata": {},
     "output_type": "execute_result"
    },
    {
     "data": {
      "image/png": "[encoded data removed]",
      "text/plain": [
       "<Figure size 432x288 with 1 Axes>"
      ]
     },
     "metadata": {
      "image/png": {
       "height": 258,
       "width": 382
      }
     },
     "output_type": "display_data"
    }
   ],
   "source": [
    "data['Age'].unique()\n",
    "data['Age'].isnull().sum()\n",
    "sns.histplot(data['Age'])"
   ]
  },
  {
   "cell_type": "code",
   "execution_count": 38,
   "id": "ad59b8d9",
   "metadata": {},
   "outputs": [
    {
     "data": {
      "text/html": [
       "<div>\n",
       "<style scoped>\n",
       "    .dataframe tbody tr th:only-of-type {\n",
       "        vertical-align: middle;\n",
       "    }\n",
       "\n",
       "    .dataframe tbody tr th {\n",
       "        vertical-align: top;\n",
       "    }\n",
       "\n",
       "    .dataframe thead th {\n",
       "        text-align: right;\n",
       "    }\n",
       "</style>\n",
       "<table border=\"1\" class=\"dataframe\">\n",
       "  <thead>\n",
       "    <tr style=\"text-align: right;\">\n",
       "      <th></th>\n",
       "      <th>Age_cat</th>\n",
       "      <th>Age</th>\n",
       "    </tr>\n",
       "  </thead>\n",
       "  <tbody>\n",
       "    <tr>\n",
       "      <th>0</th>\n",
       "      <td>Young_adult</td>\n",
       "      <td>22.0</td>\n",
       "    </tr>\n",
       "    <tr>\n",
       "      <th>1</th>\n",
       "      <td>Young_adult</td>\n",
       "      <td>38.0</td>\n",
       "    </tr>\n",
       "    <tr>\n",
       "      <th>2</th>\n",
       "      <td>Young_adult</td>\n",
       "      <td>26.0</td>\n",
       "    </tr>\n",
       "    <tr>\n",
       "      <th>3</th>\n",
       "      <td>Young_adult</td>\n",
       "      <td>35.0</td>\n",
       "    </tr>\n",
       "    <tr>\n",
       "      <th>4</th>\n",
       "      <td>Young_adult</td>\n",
       "      <td>35.0</td>\n",
       "    </tr>\n",
       "    <tr>\n",
       "      <th>...</th>\n",
       "      <td>...</td>\n",
       "      <td>...</td>\n",
       "    </tr>\n",
       "    <tr>\n",
       "      <th>886</th>\n",
       "      <td>Young_adult</td>\n",
       "      <td>27.0</td>\n",
       "    </tr>\n",
       "    <tr>\n",
       "      <th>887</th>\n",
       "      <td>Children</td>\n",
       "      <td>19.0</td>\n",
       "    </tr>\n",
       "    <tr>\n",
       "      <th>888</th>\n",
       "      <td>Young_adult</td>\n",
       "      <td>28.0</td>\n",
       "    </tr>\n",
       "    <tr>\n",
       "      <th>889</th>\n",
       "      <td>Young_adult</td>\n",
       "      <td>26.0</td>\n",
       "    </tr>\n",
       "    <tr>\n",
       "      <th>890</th>\n",
       "      <td>Young_adult</td>\n",
       "      <td>32.0</td>\n",
       "    </tr>\n",
       "  </tbody>\n",
       "</table>\n",
       "<p>891 rows × 2 columns</p>\n",
       "</div>"
      ],
      "text/plain": [
       "         Age_cat   Age\n",
       "0    Young_adult  22.0\n",
       "1    Young_adult  38.0\n",
       "2    Young_adult  26.0\n",
       "3    Young_adult  35.0\n",
       "4    Young_adult  35.0\n",
       "..           ...   ...\n",
       "886  Young_adult  27.0\n",
       "887     Children  19.0\n",
       "888  Young_adult  28.0\n",
       "889  Young_adult  26.0\n",
       "890  Young_adult  32.0\n",
       "\n",
       "[891 rows x 2 columns]"
      ]
     },
     "execution_count": 38,
     "metadata": {},
     "output_type": "execute_result"
    }
   ],
   "source": [
    "def age_cat(x):\n",
    "    cat= ''\n",
    "    if x < 5 :\n",
    "        cat = 'Baby'\n",
    "    elif 5 <= x < 20 :\n",
    "        cat = 'Children'\n",
    "    elif 20 <= x < 40 :\n",
    "        cat = 'Young_adult'\n",
    "    elif 40 <= x < 65:\n",
    "        cat = 'Adult'\n",
    "    else:\n",
    "        cat = 'Elderly'\n",
    "    return cat\n",
    "\n",
    "data['Age_cat'] = data['Age'].apply(lambda x : age_cat(x))\n",
    "data[['Age_cat','Age']]"
   ]
  },
  {
   "cell_type": "code",
   "execution_count": 39,
   "id": "4a11cb3e",
   "metadata": {},
   "outputs": [
    {
     "data": {
      "text/plain": [
       "array(['Young_adult', 'Adult', 'Baby', 'Children', 'Elderly'],\n",
       "      dtype=object)"
      ]
     },
     "execution_count": 39,
     "metadata": {},
     "output_type": "execute_result"
    }
   ],
   "source": [
    "data['Age_cat'].unique()"
   ]
  },
  {
   "cell_type": "code",
   "execution_count": 40,
   "id": "654c8e14",
   "metadata": {},
   "outputs": [
    {
     "data": {
      "text/html": [
       "<div>\n",
       "<style scoped>\n",
       "    .dataframe tbody tr th:only-of-type {\n",
       "        vertical-align: middle;\n",
       "    }\n",
       "\n",
       "    .dataframe tbody tr th {\n",
       "        vertical-align: top;\n",
       "    }\n",
       "\n",
       "    .dataframe thead th {\n",
       "        text-align: right;\n",
       "    }\n",
       "</style>\n",
       "<table border=\"1\" class=\"dataframe\">\n",
       "  <thead>\n",
       "    <tr style=\"text-align: right;\">\n",
       "      <th></th>\n",
       "      <th>PassengerId</th>\n",
       "      <th>Survived</th>\n",
       "      <th>Pclass</th>\n",
       "      <th>Name</th>\n",
       "      <th>Sex</th>\n",
       "      <th>Age</th>\n",
       "      <th>SibSp</th>\n",
       "      <th>Parch</th>\n",
       "      <th>Ticket</th>\n",
       "      <th>Fare</th>\n",
       "      <th>Cabin</th>\n",
       "      <th>Embarked</th>\n",
       "      <th>Family</th>\n",
       "      <th>Family_cat</th>\n",
       "      <th>Name_cat</th>\n",
       "      <th>Sex_E</th>\n",
       "      <th>Age_cat</th>\n",
       "    </tr>\n",
       "  </thead>\n",
       "  <tbody>\n",
       "    <tr>\n",
       "      <th>0</th>\n",
       "      <td>1</td>\n",
       "      <td>0</td>\n",
       "      <td>3</td>\n",
       "      <td>Braund, Mr. Owen Harris</td>\n",
       "      <td>male</td>\n",
       "      <td>22.0</td>\n",
       "      <td>1</td>\n",
       "      <td>0</td>\n",
       "      <td>A/5 21171</td>\n",
       "      <td>7.25</td>\n",
       "      <td>NaN</td>\n",
       "      <td>S</td>\n",
       "      <td>2</td>\n",
       "      <td>Nuclear</td>\n",
       "      <td>Mr</td>\n",
       "      <td>1</td>\n",
       "      <td>Young_adult</td>\n",
       "    </tr>\n",
       "  </tbody>\n",
       "</table>\n",
       "</div>"
      ],
      "text/plain": [
       "   PassengerId  Survived  Pclass                     Name   Sex   Age  SibSp  \\\n",
       "0            1         0       3  Braund, Mr. Owen Harris  male  22.0      1   \n",
       "\n",
       "   Parch     Ticket  Fare Cabin Embarked  Family Family_cat Name_cat  Sex_E  \\\n",
       "0      0  A/5 21171  7.25   NaN        S       2    Nuclear       Mr      1   \n",
       "\n",
       "       Age_cat  \n",
       "0  Young_adult  "
      ]
     },
     "execution_count": 40,
     "metadata": {},
     "output_type": "execute_result"
    }
   ],
   "source": [
    "data.head(1)"
   ]
  },
  {
   "cell_type": "markdown",
   "id": "84b500f9",
   "metadata": {},
   "source": [
    "##### 여기까지 우선  전처리 완료. \n",
    "문자열을 모두 숫자열으로 변환!"
   ]
  },
  {
   "cell_type": "code",
   "execution_count": 41,
   "id": "82d8b654",
   "metadata": {},
   "outputs": [
    {
     "data": {
      "text/html": [
       "<div>\n",
       "<style scoped>\n",
       "    .dataframe tbody tr th:only-of-type {\n",
       "        vertical-align: middle;\n",
       "    }\n",
       "\n",
       "    .dataframe tbody tr th {\n",
       "        vertical-align: top;\n",
       "    }\n",
       "\n",
       "    .dataframe thead th {\n",
       "        text-align: right;\n",
       "    }\n",
       "</style>\n",
       "<table border=\"1\" class=\"dataframe\">\n",
       "  <thead>\n",
       "    <tr style=\"text-align: right;\">\n",
       "      <th></th>\n",
       "      <th>PassengerId</th>\n",
       "      <th>Survived</th>\n",
       "      <th>Pclass</th>\n",
       "      <th>Name</th>\n",
       "      <th>Sex</th>\n",
       "      <th>Age</th>\n",
       "      <th>SibSp</th>\n",
       "      <th>Parch</th>\n",
       "      <th>Ticket</th>\n",
       "      <th>Fare</th>\n",
       "      <th>Cabin</th>\n",
       "      <th>Embarked</th>\n",
       "      <th>Family</th>\n",
       "      <th>Family_cat</th>\n",
       "      <th>Name_cat</th>\n",
       "      <th>Sex_E</th>\n",
       "      <th>Age_cat</th>\n",
       "    </tr>\n",
       "  </thead>\n",
       "  <tbody>\n",
       "    <tr>\n",
       "      <th>0</th>\n",
       "      <td>1</td>\n",
       "      <td>0</td>\n",
       "      <td>3</td>\n",
       "      <td>Braund, Mr. Owen Harris</td>\n",
       "      <td>male</td>\n",
       "      <td>22.0</td>\n",
       "      <td>1</td>\n",
       "      <td>0</td>\n",
       "      <td>A/5 21171</td>\n",
       "      <td>7.2500</td>\n",
       "      <td>NaN</td>\n",
       "      <td>S</td>\n",
       "      <td>2</td>\n",
       "      <td>Nuclear</td>\n",
       "      <td>Mr</td>\n",
       "      <td>1</td>\n",
       "      <td>Young_adult</td>\n",
       "    </tr>\n",
       "    <tr>\n",
       "      <th>1</th>\n",
       "      <td>2</td>\n",
       "      <td>1</td>\n",
       "      <td>1</td>\n",
       "      <td>Cumings, Mrs. John Bradley (Florence Briggs Th...</td>\n",
       "      <td>female</td>\n",
       "      <td>38.0</td>\n",
       "      <td>1</td>\n",
       "      <td>0</td>\n",
       "      <td>PC 17599</td>\n",
       "      <td>71.2833</td>\n",
       "      <td>C85</td>\n",
       "      <td>C</td>\n",
       "      <td>2</td>\n",
       "      <td>Nuclear</td>\n",
       "      <td>Mrs</td>\n",
       "      <td>0</td>\n",
       "      <td>Young_adult</td>\n",
       "    </tr>\n",
       "    <tr>\n",
       "      <th>2</th>\n",
       "      <td>3</td>\n",
       "      <td>1</td>\n",
       "      <td>3</td>\n",
       "      <td>Heikkinen, Miss. Laina</td>\n",
       "      <td>female</td>\n",
       "      <td>26.0</td>\n",
       "      <td>0</td>\n",
       "      <td>0</td>\n",
       "      <td>STON/O2. 3101282</td>\n",
       "      <td>7.9250</td>\n",
       "      <td>NaN</td>\n",
       "      <td>S</td>\n",
       "      <td>1</td>\n",
       "      <td>Single</td>\n",
       "      <td>Miss</td>\n",
       "      <td>0</td>\n",
       "      <td>Young_adult</td>\n",
       "    </tr>\n",
       "    <tr>\n",
       "      <th>3</th>\n",
       "      <td>4</td>\n",
       "      <td>1</td>\n",
       "      <td>1</td>\n",
       "      <td>Futrelle, Mrs. Jacques Heath (Lily May Peel)</td>\n",
       "      <td>female</td>\n",
       "      <td>35.0</td>\n",
       "      <td>1</td>\n",
       "      <td>0</td>\n",
       "      <td>113803</td>\n",
       "      <td>53.1000</td>\n",
       "      <td>C123</td>\n",
       "      <td>S</td>\n",
       "      <td>2</td>\n",
       "      <td>Nuclear</td>\n",
       "      <td>Mrs</td>\n",
       "      <td>0</td>\n",
       "      <td>Young_adult</td>\n",
       "    </tr>\n",
       "    <tr>\n",
       "      <th>4</th>\n",
       "      <td>5</td>\n",
       "      <td>0</td>\n",
       "      <td>3</td>\n",
       "      <td>Allen, Mr. William Henry</td>\n",
       "      <td>male</td>\n",
       "      <td>35.0</td>\n",
       "      <td>0</td>\n",
       "      <td>0</td>\n",
       "      <td>373450</td>\n",
       "      <td>8.0500</td>\n",
       "      <td>NaN</td>\n",
       "      <td>S</td>\n",
       "      <td>1</td>\n",
       "      <td>Single</td>\n",
       "      <td>Mr</td>\n",
       "      <td>1</td>\n",
       "      <td>Young_adult</td>\n",
       "    </tr>\n",
       "  </tbody>\n",
       "</table>\n",
       "</div>"
      ],
      "text/plain": [
       "   PassengerId  Survived  Pclass  \\\n",
       "0            1         0       3   \n",
       "1            2         1       1   \n",
       "2            3         1       3   \n",
       "3            4         1       1   \n",
       "4            5         0       3   \n",
       "\n",
       "                                                Name     Sex   Age  SibSp  \\\n",
       "0                            Braund, Mr. Owen Harris    male  22.0      1   \n",
       "1  Cumings, Mrs. John Bradley (Florence Briggs Th...  female  38.0      1   \n",
       "2                             Heikkinen, Miss. Laina  female  26.0      0   \n",
       "3       Futrelle, Mrs. Jacques Heath (Lily May Peel)  female  35.0      1   \n",
       "4                           Allen, Mr. William Henry    male  35.0      0   \n",
       "\n",
       "   Parch            Ticket     Fare Cabin Embarked  Family Family_cat  \\\n",
       "0      0         A/5 21171   7.2500   NaN        S       2    Nuclear   \n",
       "1      0          PC 17599  71.2833   C85        C       2    Nuclear   \n",
       "2      0  STON/O2. 3101282   7.9250   NaN        S       1     Single   \n",
       "3      0            113803  53.1000  C123        S       2    Nuclear   \n",
       "4      0            373450   8.0500   NaN        S       1     Single   \n",
       "\n",
       "  Name_cat  Sex_E      Age_cat  \n",
       "0       Mr      1  Young_adult  \n",
       "1      Mrs      0  Young_adult  \n",
       "2     Miss      0  Young_adult  \n",
       "3      Mrs      0  Young_adult  \n",
       "4       Mr      1  Young_adult  "
      ]
     },
     "execution_count": 41,
     "metadata": {},
     "output_type": "execute_result"
    }
   ],
   "source": [
    "data.head()"
   ]
  },
  {
   "cell_type": "markdown",
   "id": "bb77fa9a",
   "metadata": {},
   "source": [
    "    필요하지 않은 컬럼 제거.\n",
    "    PassengerId,Name, Age, sex, SibSp, Parch,  Ticket, Cabin, Family"
   ]
  },
  {
   "cell_type": "code",
   "execution_count": 42,
   "id": "055243f8",
   "metadata": {},
   "outputs": [
    {
     "data": {
      "text/plain": [
       "Index(['PassengerId', 'Survived', 'Pclass', 'Name', 'Sex', 'Age', 'SibSp',\n",
       "       'Parch', 'Ticket', 'Fare', 'Cabin', 'Embarked', 'Family', 'Family_cat',\n",
       "       'Name_cat', 'Sex_E', 'Age_cat'],\n",
       "      dtype='object')"
      ]
     },
     "execution_count": 42,
     "metadata": {},
     "output_type": "execute_result"
    }
   ],
   "source": [
    "data.columns"
   ]
  },
  {
   "cell_type": "markdown",
   "id": "32a7b32d",
   "metadata": {},
   "source": [
    "    Embarked/Name_ct/Age_cat 을 숫자로 바꿔보자."
   ]
  },
  {
   "cell_type": "code",
   "execution_count": 43,
   "id": "b9e82309",
   "metadata": {},
   "outputs": [],
   "source": [
    "data['Embarked_clean'] = data['Embarked'].replace({'S':0,'C':1,'Q':2})\n",
    "data['Name_cat'] = data['Name_cat'].replace({'Mr':0,'Master':1,'Mrs':2,'Miss':3,'Other':4})\n",
    "data['Age_cat'] = data['Age_cat'].replace({'Baby':0,'Children':1,'Young_adult':2,'Adult':3,'Elderly':4})\n",
    "# data.drop('Embarked',axis=1,inplace=True)"
   ]
  },
  {
   "cell_type": "code",
   "execution_count": 44,
   "id": "04186d4e",
   "metadata": {},
   "outputs": [
    {
     "data": {
      "text/plain": [
       "Index(['PassengerId', 'Survived', 'Pclass', 'Name', 'Sex', 'Age', 'SibSp',\n",
       "       'Parch', 'Ticket', 'Fare', 'Cabin', 'Embarked', 'Family', 'Family_cat',\n",
       "       'Name_cat', 'Sex_E', 'Age_cat', 'Embarked_clean'],\n",
       "      dtype='object')"
      ]
     },
     "execution_count": 44,
     "metadata": {},
     "output_type": "execute_result"
    }
   ],
   "source": [
    "data.columns"
   ]
  },
  {
   "cell_type": "code",
   "execution_count": 45,
   "id": "c48db77b",
   "metadata": {},
   "outputs": [],
   "source": [
    "train_cols_1 = ['Survived', 'Pclass', 'Age', 'Fare', 'Family', 'Name_cat', 'Sex_E',\n",
    "       'Age_cat', 'Embarked_clean']\n",
    "train_data_1 = data[train_cols_1]"
   ]
  },
  {
   "cell_type": "code",
   "execution_count": 46,
   "id": "10862818",
   "metadata": {},
   "outputs": [
    {
     "data": {
      "text/plain": [
       "Index(['Survived', 'Pclass', 'Age', 'Fare', 'Family', 'Name_cat', 'Sex_E',\n",
       "       'Age_cat', 'Embarked_clean'],\n",
       "      dtype='object')"
      ]
     },
     "execution_count": 46,
     "metadata": {},
     "output_type": "execute_result"
    }
   ],
   "source": [
    "train_data_1.columns"
   ]
  },
  {
   "cell_type": "markdown",
   "id": "67f695b4",
   "metadata": {},
   "source": [
    "    이걸 한번 돌려보자"
   ]
  },
  {
   "cell_type": "code",
   "execution_count": 47,
   "id": "389a3922",
   "metadata": {},
   "outputs": [],
   "source": [
    "from sklearn import preprocessing\n",
    "from sklearn.model_selection import train_test_split\n",
    "y = train_data_1['Survived']\n",
    "X = train_data_1.drop('Survived',axis=1)\n",
    "X_train, X_test, y_train, y_test = train_test_split(X, y, test_size=0.2, random_state=10) "
   ]
  },
  {
   "cell_type": "code",
   "execution_count": 48,
   "id": "838676e0",
   "metadata": {},
   "outputs": [
    {
     "name": "stdout",
     "output_type": "stream",
     "text": [
      "rf 예측 정확도 : 0.8435754189944135\n"
     ]
    }
   ],
   "source": [
    "# Random Forest\n",
    "from sklearn.metrics import accuracy_score\n",
    "from sklearn.ensemble import RandomForestClassifier\n",
    "\n",
    "rf_model = RandomForestClassifier()\n",
    "rf_model.fit(X_train, y_train)\n",
    "rf_pred = rf_model.predict(X_test)\n",
    "\n",
    "rf_accuracy = accuracy_score(y_test, rf_pred)\n",
    "print('rf 예측 정확도 :', rf_accuracy)"
   ]
  },
  {
   "cell_type": "markdown",
   "id": "4595d46b",
   "metadata": {},
   "source": [
    "<img src = 'train_data_1.png' STYLE = 'width:1500px;'>"
   ]
  },
  {
   "cell_type": "markdown",
   "id": "2c0536af",
   "metadata": {},
   "source": [
    "######    age(평균) - 약 86% 정도 나온다. \n",
    "    age(중간) - 약 85%로 크게 차이가 없다. "
   ]
  },
  {
   "cell_type": "markdown",
   "id": "b7cb44e6",
   "metadata": {},
   "source": [
    "#### 조금더 개선을 해볼까\n",
    "    Numeric이 아닌 onehot encoding"
   ]
  },
  {
   "cell_type": "code",
   "execution_count": 49,
   "id": "12393275",
   "metadata": {},
   "outputs": [
    {
     "data": {
      "text/plain": [
       "Index(['PassengerId', 'Survived', 'Pclass', 'Name', 'Sex', 'Age', 'SibSp',\n",
       "       'Parch', 'Ticket', 'Fare', 'Cabin', 'Embarked', 'Family', 'Family_cat',\n",
       "       'Name_cat', 'Sex_E', 'Age_cat', 'Embarked_clean'],\n",
       "      dtype='object')"
      ]
     },
     "execution_count": 49,
     "metadata": {},
     "output_type": "execute_result"
    }
   ],
   "source": [
    "train_data_2 = data.copy()\n",
    "train_data_2.columns"
   ]
  },
  {
   "cell_type": "code",
   "execution_count": 50,
   "id": "1ff57cc1",
   "metadata": {},
   "outputs": [
    {
     "name": "stdout",
     "output_type": "stream",
     "text": [
      "[2 3 0 1 4]\n"
     ]
    },
    {
     "data": {
      "text/plain": [
       "Index(['PassengerId', 'Survived', 'Pclass', 'Name', 'Sex', 'Age', 'SibSp',\n",
       "       'Parch', 'Ticket', 'Fare', 'Cabin', 'Embarked', 'Family', 'Family_cat',\n",
       "       'Name_cat', 'Sex_E', 'Age_cat', 'Embarked_clean', 'Age_Y_OE',\n",
       "       'Age_A_OE', 'Age_B_OE', 'Age_C_OE', 'Age_E_OE'],\n",
       "      dtype='object')"
      ]
     },
     "execution_count": 50,
     "metadata": {},
     "output_type": "execute_result"
    }
   ],
   "source": [
    "print(train_data_2['Age_cat'].unique())\n",
    "age = train_data_2['Age_cat']\n",
    "train_data_2[['Age_Y_OE','Age_A_OE','Age_B_OE','Age_C_OE','Age_E_OE']] = pd.get_dummies(age)\n",
    "train_data_2.columns"
   ]
  },
  {
   "cell_type": "code",
   "execution_count": 51,
   "id": "79ed0187",
   "metadata": {},
   "outputs": [
    {
     "name": "stdout",
     "output_type": "stream",
     "text": [
      "[0 2 3 1 4]\n"
     ]
    },
    {
     "data": {
      "text/plain": [
       "Index(['PassengerId', 'Survived', 'Pclass', 'Name', 'Sex', 'Age', 'SibSp',\n",
       "       'Parch', 'Ticket', 'Fare', 'Cabin', 'Embarked', 'Family', 'Family_cat',\n",
       "       'Name_cat', 'Sex_E', 'Age_cat', 'Embarked_clean', 'Age_Y_OE',\n",
       "       'Age_A_OE', 'Age_B_OE', 'Age_C_OE', 'Age_E_OE', 'Name_Mr_OE',\n",
       "       'Name_Mrs_OE', 'Name_Miss_OE', 'Name_Ma_OE', 'Name_Ot_OE'],\n",
       "      dtype='object')"
      ]
     },
     "execution_count": 51,
     "metadata": {},
     "output_type": "execute_result"
    }
   ],
   "source": [
    "print(train_data_2['Name_cat'].unique())\n",
    "name = train_data_2['Name_cat']\n",
    "train_data_2[['Name_Mr_OE','Name_Mrs_OE','Name_Miss_OE','Name_Ma_OE','Name_Ot_OE']] = pd.get_dummies(name)\n",
    "train_data_2.columns"
   ]
  },
  {
   "cell_type": "code",
   "execution_count": 52,
   "id": "a7fdadd8",
   "metadata": {},
   "outputs": [
    {
     "name": "stdout",
     "output_type": "stream",
     "text": [
      "['Nuclear' 'Single' 'Big']\n"
     ]
    },
    {
     "data": {
      "text/plain": [
       "Index(['PassengerId', 'Survived', 'Pclass', 'Name', 'Sex', 'Age', 'SibSp',\n",
       "       'Parch', 'Ticket', 'Fare', 'Cabin', 'Embarked', 'Family', 'Family_cat',\n",
       "       'Name_cat', 'Sex_E', 'Age_cat', 'Embarked_clean', 'Age_Y_OE',\n",
       "       'Age_A_OE', 'Age_B_OE', 'Age_C_OE', 'Age_E_OE', 'Name_Mr_OE',\n",
       "       'Name_Mrs_OE', 'Name_Miss_OE', 'Name_Ma_OE', 'Name_Ot_OE', 'Fm_S_OE',\n",
       "       'Fm_N_OE', 'Fm_B_OE'],\n",
       "      dtype='object')"
      ]
     },
     "execution_count": 52,
     "metadata": {},
     "output_type": "execute_result"
    }
   ],
   "source": [
    "print(train_data_2['Family_cat'].unique())\n",
    "embarked = train_data_2['Family_cat']\n",
    "train_data_2[['Fm_S_OE','Fm_N_OE','Fm_B_OE']] = pd.get_dummies(embarked)\n",
    "train_data_2.columns"
   ]
  },
  {
   "cell_type": "code",
   "execution_count": 53,
   "id": "8fc27173",
   "metadata": {},
   "outputs": [
    {
     "name": "stdout",
     "output_type": "stream",
     "text": [
      "['S' 'C' 'Q']\n"
     ]
    },
    {
     "data": {
      "text/plain": [
       "Index(['PassengerId', 'Survived', 'Pclass', 'Name', 'Sex', 'Age', 'SibSp',\n",
       "       'Parch', 'Ticket', 'Fare', 'Cabin', 'Embarked', 'Family', 'Family_cat',\n",
       "       'Name_cat', 'Sex_E', 'Age_cat', 'Embarked_clean', 'Age_Y_OE',\n",
       "       'Age_A_OE', 'Age_B_OE', 'Age_C_OE', 'Age_E_OE', 'Name_Mr_OE',\n",
       "       'Name_Mrs_OE', 'Name_Miss_OE', 'Name_Ma_OE', 'Name_Ot_OE', 'Fm_S_OE',\n",
       "       'Fm_N_OE', 'Fm_B_OE', 'Eb_S_OE', 'Eb_C_OE', 'Eb_Q_OE'],\n",
       "      dtype='object')"
      ]
     },
     "execution_count": 53,
     "metadata": {},
     "output_type": "execute_result"
    }
   ],
   "source": [
    "print(train_data_2['Embarked'].unique())\n",
    "embarked = train_data_2['Embarked']\n",
    "train_data_2[['Eb_S_OE','Eb_C_OE','Eb_Q_OE']] = pd.get_dummies(embarked)\n",
    "train_data_2.columns"
   ]
  },
  {
   "cell_type": "code",
   "execution_count": 54,
   "id": "d060cdcf",
   "metadata": {},
   "outputs": [
    {
     "data": {
      "text/plain": [
       "['Survived',\n",
       " 'Pclass',\n",
       " 'Age',\n",
       " 'Fare',\n",
       " 'Family',\n",
       " 'Name_cat',\n",
       " 'Sex_E',\n",
       " 'Age_cat',\n",
       " 'Embarked_clean']"
      ]
     },
     "execution_count": 54,
     "metadata": {},
     "output_type": "execute_result"
    }
   ],
   "source": [
    "train_cols_1"
   ]
  },
  {
   "cell_type": "code",
   "execution_count": 55,
   "id": "c67c5767",
   "metadata": {},
   "outputs": [],
   "source": [
    "train_cols_2 = ['Survived', 'Pclass','Fare','Sex_E', 'Age_Y_OE', 'Age_A_OE', 'Age_B_OE',\n",
    "       'Age_C_OE', 'Age_E_OE', 'Name_Mr_OE', 'Name_Mrs_OE', 'Name_Miss_OE',\n",
    "       'Name_Ma_OE', 'Name_Ot_OE', 'Fm_S_OE', 'Fm_N_OE', 'Fm_B_OE', 'Eb_S_OE',\n",
    "       'Eb_C_OE', 'Eb_Q_OE']\n",
    "train_data_2 = train_data_2[train_cols_2]"
   ]
  },
  {
   "cell_type": "code",
   "execution_count": 56,
   "id": "035ec50a",
   "metadata": {},
   "outputs": [],
   "source": [
    "from sklearn import preprocessing\n",
    "from sklearn.model_selection import train_test_split\n",
    "y = train_data_2['Survived']\n",
    "X = train_data_2.drop('Survived',axis=1)\n",
    "X_train, X_test, y_train, y_test = train_test_split(X, y, test_size=0.2, random_state=10) "
   ]
  },
  {
   "cell_type": "code",
   "execution_count": 57,
   "id": "7f0ba8bc",
   "metadata": {},
   "outputs": [
    {
     "name": "stdout",
     "output_type": "stream",
     "text": [
      "rf 예측 정확도 : 0.7988826815642458\n"
     ]
    }
   ],
   "source": [
    "# Random Forest\n",
    "from sklearn.metrics import accuracy_score\n",
    "from sklearn.ensemble import RandomForestClassifier\n",
    "\n",
    "rf_model = RandomForestClassifier()\n",
    "rf_model.fit(X_train, y_train)\n",
    "rf_pred = rf_model.predict(X_test)\n",
    "\n",
    "rf_accuracy = accuracy_score(y_test, rf_pred)\n",
    "print('rf 예측 정확도 :', rf_accuracy)"
   ]
  },
  {
   "cell_type": "markdown",
   "id": "d61e3d55",
   "metadata": {},
   "source": [
    "<img src = 'train_data_2.png' STYLE = 'width:1500px;'>"
   ]
  },
  {
   "cell_type": "markdown",
   "id": "18f60add",
   "metadata": {},
   "source": [
    "    너무 많은 원 핫 인코딩은 예측률을 더 저하시킨다."
   ]
  },
  {
   "cell_type": "markdown",
   "id": "9d1d9159",
   "metadata": {},
   "source": [
    "#### 조금 더 개선시켜보자."
   ]
  },
  {
   "cell_type": "markdown",
   "id": "38dc2f0a",
   "metadata": {},
   "source": [
    "     cabin"
   ]
  },
  {
   "cell_type": "code",
   "execution_count": 58,
   "id": "904ab926",
   "metadata": {},
   "outputs": [
    {
     "name": "stdout",
     "output_type": "stream",
     "text": [
      "687\n"
     ]
    },
    {
     "data": {
      "text/plain": [
       "array([nan, 'C85', 'C123', 'E46', 'G6', 'C103', 'D56', 'A6',\n",
       "       'C23 C25 C27', 'B78', 'D33', 'B30', 'C52', 'B28', 'C83', 'F33',\n",
       "       'F G73', 'E31', 'A5', 'D10 D12', 'D26', 'C110', 'B58 B60', 'E101',\n",
       "       'F E69', 'D47', 'B86', 'F2', 'C2', 'E33', 'B19', 'A7', 'C49', 'F4',\n",
       "       'A32', 'B4', 'B80', 'A31', 'D36', 'D15', 'C93', 'C78', 'D35',\n",
       "       'C87', 'B77', 'E67', 'B94', 'C125', 'C99', 'C118', 'D7', 'A19',\n",
       "       'B49', 'D', 'C22 C26', 'C106', 'C65', 'E36', 'C54',\n",
       "       'B57 B59 B63 B66', 'C7', 'E34', 'C32', 'B18', 'C124', 'C91', 'E40',\n",
       "       'T', 'C128', 'D37', 'B35', 'E50', 'C82', 'B96 B98', 'E10', 'E44',\n",
       "       'A34', 'C104', 'C111', 'C92', 'E38', 'D21', 'E12', 'E63', 'A14',\n",
       "       'B37', 'C30', 'D20', 'B79', 'E25', 'D46', 'B73', 'C95', 'B38',\n",
       "       'B39', 'B22', 'C86', 'C70', 'A16', 'C101', 'C68', 'A10', 'E68',\n",
       "       'B41', 'A20', 'D19', 'D50', 'D9', 'A23', 'B50', 'A26', 'D48',\n",
       "       'E58', 'C126', 'B71', 'B51 B53 B55', 'D49', 'B5', 'B20', 'F G63',\n",
       "       'C62 C64', 'E24', 'C90', 'C45', 'E8', 'B101', 'D45', 'C46', 'D30',\n",
       "       'E121', 'D11', 'E77', 'F38', 'B3', 'D6', 'B82 B84', 'D17', 'A36',\n",
       "       'B102', 'B69', 'E49', 'C47', 'D28', 'E17', 'A24', 'C50', 'B42',\n",
       "       'C148'], dtype=object)"
      ]
     },
     "execution_count": 58,
     "metadata": {},
     "output_type": "execute_result"
    }
   ],
   "source": [
    "data.columns\n",
    "print(data['Cabin'].isnull().sum())\n",
    "data['Cabin'].unique()"
   ]
  },
  {
   "cell_type": "code",
   "execution_count": 59,
   "id": "45943114",
   "metadata": {},
   "outputs": [
    {
     "data": {
      "text/plain": [
       "G6             4\n",
       "C23 C25 C27    4\n",
       "B96 B98        4\n",
       "E101           3\n",
       "F33            3\n",
       "              ..\n",
       "C49            1\n",
       "B42            1\n",
       "B82 B84        1\n",
       "E68            1\n",
       "A7             1\n",
       "Name: Cabin, Length: 147, dtype: int64"
      ]
     },
     "execution_count": 59,
     "metadata": {},
     "output_type": "execute_result"
    }
   ],
   "source": [
    "data['Cabin'].value_counts()"
   ]
  },
  {
   "cell_type": "markdown",
   "id": "c200e90c",
   "metadata": {},
   "source": [
    "    전과 마찬가지로 cabin 의 모든 부분을 특정 클라스로 지정할 수는 없다.\n",
    "    따라서 티켓뒤 숫자가 아닌 앞 알파벳만 추출해보자"
   ]
  },
  {
   "cell_type": "code",
   "execution_count": 60,
   "id": "8c6a9695",
   "metadata": {},
   "outputs": [
    {
     "name": "stdout",
     "output_type": "stream",
     "text": [
      "[nan 'C' 'E' 'G' 'D' 'A' 'B' 'F' 'T']\n"
     ]
    },
    {
     "data": {
      "text/plain": [
       "687"
      ]
     },
     "execution_count": 60,
     "metadata": {},
     "output_type": "execute_result"
    }
   ],
   "source": [
    "data['Cabin'] = data['Cabin'].str[:1]\n",
    "print(data['Cabin'].unique())\n",
    "data['Cabin'].isnull().sum()"
   ]
  },
  {
   "cell_type": "code",
   "execution_count": 61,
   "id": "58f006d7",
   "metadata": {},
   "outputs": [
    {
     "data": {
      "text/plain": [
       "C    59\n",
       "B    47\n",
       "D    33\n",
       "E    32\n",
       "A    15\n",
       "F    13\n",
       "G     4\n",
       "T     1\n",
       "Name: Cabin, dtype: int64"
      ]
     },
     "execution_count": 61,
     "metadata": {},
     "output_type": "execute_result"
    }
   ],
   "source": [
    "data['Cabin'].value_counts()"
   ]
  },
  {
   "cell_type": "markdown",
   "id": "3a70c5c6",
   "metadata": {},
   "source": [
    "- 최상층에 위치한 The Boat Deck. 구명정이 설치되어 있던 층이며, 합교,조타실, 선장실이 있던 층입니다.\n",
    "- 1등실의 산책로, 객실, 라운지, 등등 1등실 승객만을 위한 층인 'A deck',\n",
    "- 1등실의 개인 산책로와 초호화객실 'B deck',\n",
    "- 1등실의 대다수 객실과 2등실의 도서관, 3등실의 산책로와 선원의 숙소, 3등실 승객의 라운지로 여러가지가 존재한 'C deck',\n",
    "- 1등실 연회실, 식당, 2등실 식당으로 구성된 'D deck'\n",
    "- 2등실의 승객과 선원들의 객실이 포함된 'E deck'\n",
    "- 2,3등실 객실과 선원 생활공간, 3등실 식당이 포함된 'F deck'\n",
    "- 선원 및 승객들이 사용하는 다양한 생활공간인 'G deck'\n",
    "- 최하층 갑판인 'Orlop Deck'\n",
    "- 그 아래 보일러, 엔진 시설이 있는 'Tank Top'\n",
    "\n",
    "        도메인의 근거로, A/B/C 는 1등급,D/E 는 2등급, F는 3등급 으로 우선 채워주자."
   ]
  },
  {
   "cell_type": "code",
   "execution_count": 62,
   "id": "8af4c22f",
   "metadata": {},
   "outputs": [
    {
     "data": {
      "text/html": [
       "<div>\n",
       "<style scoped>\n",
       "    .dataframe tbody tr th:only-of-type {\n",
       "        vertical-align: middle;\n",
       "    }\n",
       "\n",
       "    .dataframe tbody tr th {\n",
       "        vertical-align: top;\n",
       "    }\n",
       "\n",
       "    .dataframe thead th {\n",
       "        text-align: right;\n",
       "    }\n",
       "</style>\n",
       "<table border=\"1\" class=\"dataframe\">\n",
       "  <thead>\n",
       "    <tr style=\"text-align: right;\">\n",
       "      <th></th>\n",
       "      <th>PassengerId</th>\n",
       "      <th>Survived</th>\n",
       "      <th>Pclass</th>\n",
       "      <th>Name</th>\n",
       "      <th>Sex</th>\n",
       "      <th>Age</th>\n",
       "      <th>SibSp</th>\n",
       "      <th>Parch</th>\n",
       "      <th>Ticket</th>\n",
       "      <th>Fare</th>\n",
       "      <th>Cabin</th>\n",
       "      <th>Embarked</th>\n",
       "      <th>Family</th>\n",
       "      <th>Family_cat</th>\n",
       "      <th>Name_cat</th>\n",
       "      <th>Sex_E</th>\n",
       "      <th>Age_cat</th>\n",
       "      <th>Embarked_clean</th>\n",
       "    </tr>\n",
       "  </thead>\n",
       "  <tbody>\n",
       "    <tr>\n",
       "      <th>0</th>\n",
       "      <td>1</td>\n",
       "      <td>0</td>\n",
       "      <td>3</td>\n",
       "      <td>Braund, Mr. Owen Harris</td>\n",
       "      <td>male</td>\n",
       "      <td>22.0</td>\n",
       "      <td>1</td>\n",
       "      <td>0</td>\n",
       "      <td>A/5 21171</td>\n",
       "      <td>7.2500</td>\n",
       "      <td>NaN</td>\n",
       "      <td>S</td>\n",
       "      <td>2</td>\n",
       "      <td>Nuclear</td>\n",
       "      <td>0</td>\n",
       "      <td>1</td>\n",
       "      <td>2</td>\n",
       "      <td>0</td>\n",
       "    </tr>\n",
       "    <tr>\n",
       "      <th>2</th>\n",
       "      <td>3</td>\n",
       "      <td>1</td>\n",
       "      <td>3</td>\n",
       "      <td>Heikkinen, Miss. Laina</td>\n",
       "      <td>female</td>\n",
       "      <td>26.0</td>\n",
       "      <td>0</td>\n",
       "      <td>0</td>\n",
       "      <td>STON/O2. 3101282</td>\n",
       "      <td>7.9250</td>\n",
       "      <td>NaN</td>\n",
       "      <td>S</td>\n",
       "      <td>1</td>\n",
       "      <td>Single</td>\n",
       "      <td>3</td>\n",
       "      <td>0</td>\n",
       "      <td>2</td>\n",
       "      <td>0</td>\n",
       "    </tr>\n",
       "    <tr>\n",
       "      <th>4</th>\n",
       "      <td>5</td>\n",
       "      <td>0</td>\n",
       "      <td>3</td>\n",
       "      <td>Allen, Mr. William Henry</td>\n",
       "      <td>male</td>\n",
       "      <td>35.0</td>\n",
       "      <td>0</td>\n",
       "      <td>0</td>\n",
       "      <td>373450</td>\n",
       "      <td>8.0500</td>\n",
       "      <td>NaN</td>\n",
       "      <td>S</td>\n",
       "      <td>1</td>\n",
       "      <td>Single</td>\n",
       "      <td>0</td>\n",
       "      <td>1</td>\n",
       "      <td>2</td>\n",
       "      <td>0</td>\n",
       "    </tr>\n",
       "    <tr>\n",
       "      <th>5</th>\n",
       "      <td>6</td>\n",
       "      <td>0</td>\n",
       "      <td>3</td>\n",
       "      <td>Moran, Mr. James</td>\n",
       "      <td>male</td>\n",
       "      <td>28.0</td>\n",
       "      <td>0</td>\n",
       "      <td>0</td>\n",
       "      <td>330877</td>\n",
       "      <td>8.4583</td>\n",
       "      <td>NaN</td>\n",
       "      <td>Q</td>\n",
       "      <td>1</td>\n",
       "      <td>Single</td>\n",
       "      <td>0</td>\n",
       "      <td>1</td>\n",
       "      <td>2</td>\n",
       "      <td>2</td>\n",
       "    </tr>\n",
       "    <tr>\n",
       "      <th>7</th>\n",
       "      <td>8</td>\n",
       "      <td>0</td>\n",
       "      <td>3</td>\n",
       "      <td>Palsson, Master. Gosta Leonard</td>\n",
       "      <td>male</td>\n",
       "      <td>2.0</td>\n",
       "      <td>3</td>\n",
       "      <td>1</td>\n",
       "      <td>349909</td>\n",
       "      <td>21.0750</td>\n",
       "      <td>NaN</td>\n",
       "      <td>S</td>\n",
       "      <td>5</td>\n",
       "      <td>Big</td>\n",
       "      <td>1</td>\n",
       "      <td>1</td>\n",
       "      <td>0</td>\n",
       "      <td>0</td>\n",
       "    </tr>\n",
       "  </tbody>\n",
       "</table>\n",
       "</div>"
      ],
      "text/plain": [
       "   PassengerId  Survived  Pclass                            Name     Sex  \\\n",
       "0            1         0       3         Braund, Mr. Owen Harris    male   \n",
       "2            3         1       3          Heikkinen, Miss. Laina  female   \n",
       "4            5         0       3        Allen, Mr. William Henry    male   \n",
       "5            6         0       3                Moran, Mr. James    male   \n",
       "7            8         0       3  Palsson, Master. Gosta Leonard    male   \n",
       "\n",
       "    Age  SibSp  Parch            Ticket     Fare Cabin Embarked  Family  \\\n",
       "0  22.0      1      0         A/5 21171   7.2500   NaN        S       2   \n",
       "2  26.0      0      0  STON/O2. 3101282   7.9250   NaN        S       1   \n",
       "4  35.0      0      0            373450   8.0500   NaN        S       1   \n",
       "5  28.0      0      0            330877   8.4583   NaN        Q       1   \n",
       "7   2.0      3      1            349909  21.0750   NaN        S       5   \n",
       "\n",
       "  Family_cat  Name_cat  Sex_E  Age_cat  Embarked_clean  \n",
       "0    Nuclear         0      1        2               0  \n",
       "2     Single         3      0        2               0  \n",
       "4     Single         0      1        2               0  \n",
       "5     Single         0      1        2               2  \n",
       "7        Big         1      1        0               0  "
      ]
     },
     "execution_count": 62,
     "metadata": {},
     "output_type": "execute_result"
    }
   ],
   "source": [
    "#우선 nan값을 가지고 있는 데이터 프레임 하나를 만들자.\n",
    "ix = [index for index, row in data[['Cabin']].iterrows() if row.isnull().any()]\n",
    "nan_data = data.iloc[ix]\n",
    "nan_data.head()"
   ]
  },
  {
   "cell_type": "code",
   "execution_count": 63,
   "id": "fecfffeb",
   "metadata": {},
   "outputs": [
    {
     "name": "stdout",
     "output_type": "stream",
     "text": [
      "PassengerId       0\n",
      "Survived          0\n",
      "Pclass            0\n",
      "Name              0\n",
      "Sex               0\n",
      "Age               0\n",
      "SibSp             0\n",
      "Parch             0\n",
      "Ticket            0\n",
      "Fare              0\n",
      "Cabin             0\n",
      "Embarked          0\n",
      "Family            0\n",
      "Family_cat        0\n",
      "Name_cat          0\n",
      "Sex_E             0\n",
      "Age_cat           0\n",
      "Embarked_clean    0\n",
      "dtype: int64\n"
     ]
    },
    {
     "name": "stderr",
     "output_type": "stream",
     "text": [
      "<ipython-input-63-1302d406f916>:14: SettingWithCopyWarning: \n",
      "A value is trying to be set on a copy of a slice from a DataFrame.\n",
      "Try using .loc[row_indexer,col_indexer] = value instead\n",
      "\n",
      "See the caveats in the documentation: https://pandas.pydata.org/pandas-docs/stable/user_guide/indexing.html#returning-a-view-versus-a-copy\n",
      "  nan_data['Cabin'] = nan_data['Pclass'].apply(lambda x : fill_cabin(x))\n"
     ]
    },
    {
     "data": {
      "text/html": [
       "<div>\n",
       "<style scoped>\n",
       "    .dataframe tbody tr th:only-of-type {\n",
       "        vertical-align: middle;\n",
       "    }\n",
       "\n",
       "    .dataframe tbody tr th {\n",
       "        vertical-align: top;\n",
       "    }\n",
       "\n",
       "    .dataframe thead th {\n",
       "        text-align: right;\n",
       "    }\n",
       "</style>\n",
       "<table border=\"1\" class=\"dataframe\">\n",
       "  <thead>\n",
       "    <tr style=\"text-align: right;\">\n",
       "      <th></th>\n",
       "      <th>PassengerId</th>\n",
       "      <th>Survived</th>\n",
       "      <th>Pclass</th>\n",
       "      <th>Name</th>\n",
       "      <th>Sex</th>\n",
       "      <th>Age</th>\n",
       "      <th>SibSp</th>\n",
       "      <th>Parch</th>\n",
       "      <th>Ticket</th>\n",
       "      <th>Fare</th>\n",
       "      <th>Cabin</th>\n",
       "      <th>Embarked</th>\n",
       "      <th>Family</th>\n",
       "      <th>Family_cat</th>\n",
       "      <th>Name_cat</th>\n",
       "      <th>Sex_E</th>\n",
       "      <th>Age_cat</th>\n",
       "      <th>Embarked_clean</th>\n",
       "    </tr>\n",
       "  </thead>\n",
       "  <tbody>\n",
       "    <tr>\n",
       "      <th>0</th>\n",
       "      <td>1</td>\n",
       "      <td>0</td>\n",
       "      <td>3</td>\n",
       "      <td>Braund, Mr. Owen Harris</td>\n",
       "      <td>male</td>\n",
       "      <td>22.0</td>\n",
       "      <td>1</td>\n",
       "      <td>0</td>\n",
       "      <td>A/5 21171</td>\n",
       "      <td>7.2500</td>\n",
       "      <td>F</td>\n",
       "      <td>S</td>\n",
       "      <td>2</td>\n",
       "      <td>Nuclear</td>\n",
       "      <td>0</td>\n",
       "      <td>1</td>\n",
       "      <td>2</td>\n",
       "      <td>0</td>\n",
       "    </tr>\n",
       "    <tr>\n",
       "      <th>1</th>\n",
       "      <td>2</td>\n",
       "      <td>1</td>\n",
       "      <td>1</td>\n",
       "      <td>Cumings, Mrs. John Bradley (Florence Briggs Th...</td>\n",
       "      <td>female</td>\n",
       "      <td>38.0</td>\n",
       "      <td>1</td>\n",
       "      <td>0</td>\n",
       "      <td>PC 17599</td>\n",
       "      <td>71.2833</td>\n",
       "      <td>C</td>\n",
       "      <td>C</td>\n",
       "      <td>2</td>\n",
       "      <td>Nuclear</td>\n",
       "      <td>2</td>\n",
       "      <td>0</td>\n",
       "      <td>2</td>\n",
       "      <td>1</td>\n",
       "    </tr>\n",
       "    <tr>\n",
       "      <th>2</th>\n",
       "      <td>3</td>\n",
       "      <td>1</td>\n",
       "      <td>3</td>\n",
       "      <td>Heikkinen, Miss. Laina</td>\n",
       "      <td>female</td>\n",
       "      <td>26.0</td>\n",
       "      <td>0</td>\n",
       "      <td>0</td>\n",
       "      <td>STON/O2. 3101282</td>\n",
       "      <td>7.9250</td>\n",
       "      <td>F</td>\n",
       "      <td>S</td>\n",
       "      <td>1</td>\n",
       "      <td>Single</td>\n",
       "      <td>3</td>\n",
       "      <td>0</td>\n",
       "      <td>2</td>\n",
       "      <td>0</td>\n",
       "    </tr>\n",
       "    <tr>\n",
       "      <th>3</th>\n",
       "      <td>4</td>\n",
       "      <td>1</td>\n",
       "      <td>1</td>\n",
       "      <td>Futrelle, Mrs. Jacques Heath (Lily May Peel)</td>\n",
       "      <td>female</td>\n",
       "      <td>35.0</td>\n",
       "      <td>1</td>\n",
       "      <td>0</td>\n",
       "      <td>113803</td>\n",
       "      <td>53.1000</td>\n",
       "      <td>C</td>\n",
       "      <td>S</td>\n",
       "      <td>2</td>\n",
       "      <td>Nuclear</td>\n",
       "      <td>2</td>\n",
       "      <td>0</td>\n",
       "      <td>2</td>\n",
       "      <td>0</td>\n",
       "    </tr>\n",
       "    <tr>\n",
       "      <th>4</th>\n",
       "      <td>5</td>\n",
       "      <td>0</td>\n",
       "      <td>3</td>\n",
       "      <td>Allen, Mr. William Henry</td>\n",
       "      <td>male</td>\n",
       "      <td>35.0</td>\n",
       "      <td>0</td>\n",
       "      <td>0</td>\n",
       "      <td>373450</td>\n",
       "      <td>8.0500</td>\n",
       "      <td>F</td>\n",
       "      <td>S</td>\n",
       "      <td>1</td>\n",
       "      <td>Single</td>\n",
       "      <td>0</td>\n",
       "      <td>1</td>\n",
       "      <td>2</td>\n",
       "      <td>0</td>\n",
       "    </tr>\n",
       "  </tbody>\n",
       "</table>\n",
       "</div>"
      ],
      "text/plain": [
       "   PassengerId  Survived  Pclass  \\\n",
       "0            1         0       3   \n",
       "1            2         1       1   \n",
       "2            3         1       3   \n",
       "3            4         1       1   \n",
       "4            5         0       3   \n",
       "\n",
       "                                                Name     Sex   Age  SibSp  \\\n",
       "0                            Braund, Mr. Owen Harris    male  22.0      1   \n",
       "1  Cumings, Mrs. John Bradley (Florence Briggs Th...  female  38.0      1   \n",
       "2                             Heikkinen, Miss. Laina  female  26.0      0   \n",
       "3       Futrelle, Mrs. Jacques Heath (Lily May Peel)  female  35.0      1   \n",
       "4                           Allen, Mr. William Henry    male  35.0      0   \n",
       "\n",
       "   Parch            Ticket     Fare Cabin Embarked  Family Family_cat  \\\n",
       "0      0         A/5 21171   7.2500     F        S       2    Nuclear   \n",
       "1      0          PC 17599  71.2833     C        C       2    Nuclear   \n",
       "2      0  STON/O2. 3101282   7.9250     F        S       1     Single   \n",
       "3      0            113803  53.1000     C        S       2    Nuclear   \n",
       "4      0            373450   8.0500     F        S       1     Single   \n",
       "\n",
       "   Name_cat  Sex_E  Age_cat  Embarked_clean  \n",
       "0         0      1        2               0  \n",
       "1         2      0        2               1  \n",
       "2         3      0        2               0  \n",
       "3         2      0        2               0  \n",
       "4         0      1        2               0  "
      ]
     },
     "execution_count": 63,
     "metadata": {},
     "output_type": "execute_result"
    }
   ],
   "source": [
    "#이제 여기에 넣어주자. \n",
    "#pclass가 1 일 경우에는 B 랜덤적용.\n",
    "#pclass가 2일 경우에는 E 랜덤\n",
    "#pclass가 3일 경우에는 F로 채워주자.\n",
    "def fill_cabin(x):\n",
    "    cat=''\n",
    "    if x == 1:\n",
    "        cat = 'B'\n",
    "    elif x == 2:\n",
    "        cat = 'E'\n",
    "    elif x == 3:\n",
    "        cat = 'F'\n",
    "    return cat\n",
    "nan_data['Cabin'] = nan_data['Pclass'].apply(lambda x : fill_cabin(x))\n",
    "data['Cabin'] = data['Cabin'].fillna(nan_data['Cabin'])\n",
    "print(data.isnull().sum())\n",
    "data.head()"
   ]
  },
  {
   "cell_type": "code",
   "execution_count": 64,
   "id": "d80fd8f8",
   "metadata": {},
   "outputs": [
    {
     "data": {
      "text/plain": [
       "F    492\n",
       "E    200\n",
       "B     87\n",
       "C     59\n",
       "D     33\n",
       "A     15\n",
       "G      4\n",
       "T      1\n",
       "Name: Cabin, dtype: int64"
      ]
     },
     "execution_count": 64,
     "metadata": {},
     "output_type": "execute_result"
    }
   ],
   "source": [
    "data['Cabin'].value_counts()"
   ]
  },
  {
   "cell_type": "code",
   "execution_count": 65,
   "id": "5fb1c5a7",
   "metadata": {},
   "outputs": [
    {
     "data": {
      "text/html": [
       "<div>\n",
       "<style scoped>\n",
       "    .dataframe tbody tr th:only-of-type {\n",
       "        vertical-align: middle;\n",
       "    }\n",
       "\n",
       "    .dataframe tbody tr th {\n",
       "        vertical-align: top;\n",
       "    }\n",
       "\n",
       "    .dataframe thead th {\n",
       "        text-align: right;\n",
       "    }\n",
       "</style>\n",
       "<table border=\"1\" class=\"dataframe\">\n",
       "  <thead>\n",
       "    <tr style=\"text-align: right;\">\n",
       "      <th></th>\n",
       "      <th>Cabin</th>\n",
       "      <th>Cabin_Label</th>\n",
       "    </tr>\n",
       "  </thead>\n",
       "  <tbody>\n",
       "    <tr>\n",
       "      <th>0</th>\n",
       "      <td>F</td>\n",
       "      <td>5</td>\n",
       "    </tr>\n",
       "    <tr>\n",
       "      <th>1</th>\n",
       "      <td>C</td>\n",
       "      <td>2</td>\n",
       "    </tr>\n",
       "    <tr>\n",
       "      <th>2</th>\n",
       "      <td>F</td>\n",
       "      <td>5</td>\n",
       "    </tr>\n",
       "    <tr>\n",
       "      <th>3</th>\n",
       "      <td>C</td>\n",
       "      <td>2</td>\n",
       "    </tr>\n",
       "    <tr>\n",
       "      <th>4</th>\n",
       "      <td>F</td>\n",
       "      <td>5</td>\n",
       "    </tr>\n",
       "    <tr>\n",
       "      <th>...</th>\n",
       "      <td>...</td>\n",
       "      <td>...</td>\n",
       "    </tr>\n",
       "    <tr>\n",
       "      <th>886</th>\n",
       "      <td>E</td>\n",
       "      <td>4</td>\n",
       "    </tr>\n",
       "    <tr>\n",
       "      <th>887</th>\n",
       "      <td>B</td>\n",
       "      <td>1</td>\n",
       "    </tr>\n",
       "    <tr>\n",
       "      <th>888</th>\n",
       "      <td>F</td>\n",
       "      <td>5</td>\n",
       "    </tr>\n",
       "    <tr>\n",
       "      <th>889</th>\n",
       "      <td>C</td>\n",
       "      <td>2</td>\n",
       "    </tr>\n",
       "    <tr>\n",
       "      <th>890</th>\n",
       "      <td>F</td>\n",
       "      <td>5</td>\n",
       "    </tr>\n",
       "  </tbody>\n",
       "</table>\n",
       "<p>891 rows × 2 columns</p>\n",
       "</div>"
      ],
      "text/plain": [
       "    Cabin  Cabin_Label\n",
       "0       F            5\n",
       "1       C            2\n",
       "2       F            5\n",
       "3       C            2\n",
       "4       F            5\n",
       "..    ...          ...\n",
       "886     E            4\n",
       "887     B            1\n",
       "888     F            5\n",
       "889     C            2\n",
       "890     F            5\n",
       "\n",
       "[891 rows x 2 columns]"
      ]
     },
     "execution_count": 65,
     "metadata": {},
     "output_type": "execute_result"
    }
   ],
   "source": [
    "# Cabin 열 Label Encoding\n",
    "from sklearn.preprocessing import LabelEncoder\n",
    "le = LabelEncoder()\n",
    "features = ['Cabin']\n",
    "for feature in features:\n",
    "    data['Cabin_Label'] = le.fit_transform(data[feature])\n",
    "data[['Cabin','Cabin_Label']]"
   ]
  },
  {
   "cell_type": "code",
   "execution_count": 66,
   "id": "f390453f",
   "metadata": {},
   "outputs": [
    {
     "data": {
      "text/plain": [
       "Index(['PassengerId', 'Survived', 'Pclass', 'Name', 'Sex', 'Age', 'SibSp',\n",
       "       'Parch', 'Ticket', 'Fare', 'Cabin', 'Embarked', 'Family', 'Family_cat',\n",
       "       'Name_cat', 'Sex_E', 'Age_cat', 'Embarked_clean', 'Cabin_Label'],\n",
       "      dtype='object')"
      ]
     },
     "execution_count": 66,
     "metadata": {},
     "output_type": "execute_result"
    }
   ],
   "source": [
    "data.columns"
   ]
  },
  {
   "cell_type": "code",
   "execution_count": 67,
   "id": "347ddff4",
   "metadata": {},
   "outputs": [],
   "source": [
    "train_cols_3 = ['Survived', 'Pclass',  'Age',\n",
    "       'Fare', 'Embarked_clean', 'Family',\n",
    "       'Name_cat', 'Sex_E', 'Age_cat', 'Cabin_Label']\n"
   ]
  },
  {
   "cell_type": "code",
   "execution_count": 68,
   "id": "712c666d",
   "metadata": {},
   "outputs": [
    {
     "data": {
      "text/plain": [
       "0      2\n",
       "1      2\n",
       "2      1\n",
       "3      2\n",
       "4      1\n",
       "      ..\n",
       "886    1\n",
       "887    1\n",
       "888    4\n",
       "889    1\n",
       "890    1\n",
       "Name: Family, Length: 891, dtype: int64"
      ]
     },
     "execution_count": 68,
     "metadata": {},
     "output_type": "execute_result"
    }
   ],
   "source": [
    "data['Family']"
   ]
  },
  {
   "cell_type": "code",
   "execution_count": 69,
   "id": "04970746",
   "metadata": {},
   "outputs": [],
   "source": [
    "train_data_3 = data[train_cols_3]"
   ]
  },
  {
   "cell_type": "code",
   "execution_count": 70,
   "id": "9ad99e87",
   "metadata": {},
   "outputs": [],
   "source": [
    "from sklearn import preprocessing\n",
    "from sklearn.model_selection import train_test_split\n",
    "y = train_data_3['Survived']\n",
    "X = train_data_3.drop('Survived',axis=1)\n",
    "X_train, X_test, y_train, y_test = train_test_split(X, y, test_size=0.2, random_state=10) "
   ]
  },
  {
   "cell_type": "code",
   "execution_count": 71,
   "id": "35c6bf67",
   "metadata": {},
   "outputs": [
    {
     "name": "stdout",
     "output_type": "stream",
     "text": [
      "rf 예측 정확도 : 0.8435754189944135\n"
     ]
    }
   ],
   "source": [
    "# Random Forest\n",
    "from sklearn.metrics import accuracy_score\n",
    "from sklearn.ensemble import RandomForestClassifier\n",
    "\n",
    "rf_model = RandomForestClassifier()\n",
    "rf_model.fit(X_train, y_train)\n",
    "rf_pred = rf_model.predict(X_test)\n",
    "\n",
    "rf_accuracy = accuracy_score(y_test, rf_pred)\n",
    "print('rf 예측 정확도 :', rf_accuracy)"
   ]
  },
  {
   "cell_type": "markdown",
   "id": "e05bee76",
   "metadata": {},
   "source": [
    "<img src = 'train_data_3.png' STYLE = 'width:1500px;'>"
   ]
  },
  {
   "cell_type": "markdown",
   "id": "5754f630",
   "metadata": {},
   "source": [
    "#### 쪼금더..!"
   ]
  },
  {
   "cell_type": "code",
   "execution_count": 72,
   "id": "34de5597",
   "metadata": {
    "scrolled": true
   },
   "outputs": [
    {
     "name": "stdout",
     "output_type": "stream",
     "text": [
      "[853  29   6   3] [  0.     128.0823 256.1646 384.2469 512.3292]\n"
     ]
    },
    {
     "data": {
      "text/plain": [
       "0    853\n",
       "1     29\n",
       "2      6\n",
       "3      3\n",
       "Name: Fare_clean, dtype: int64"
      ]
     },
     "execution_count": 72,
     "metadata": {},
     "output_type": "execute_result"
    }
   ],
   "source": [
    "count, fare_divs = np.histogram(data['Fare'].dropna(),bins=4)\n",
    "print(count,fare_divs)\n",
    "bins_name= [0,1,2,3]\n",
    "data['Fare_clean'] = pd.cut(x=data['Fare'],\n",
    "                           bins = fare_divs,\n",
    "                           labels =bins_name,\n",
    "                           include_lowest=True)\n",
    "data[['Fare','Fare_clean']]\n",
    "data['Fare_clean'].value_counts()"
   ]
  },
  {
   "cell_type": "code",
   "execution_count": 73,
   "id": "03a8954c",
   "metadata": {},
   "outputs": [
    {
     "data": {
      "text/plain": [
       "Index(['PassengerId', 'Survived', 'Pclass', 'Name', 'Sex', 'Age', 'SibSp',\n",
       "       'Parch', 'Ticket', 'Fare', 'Cabin', 'Embarked', 'Family', 'Family_cat',\n",
       "       'Name_cat', 'Sex_E', 'Age_cat', 'Embarked_clean', 'Cabin_Label',\n",
       "       'Fare_clean'],\n",
       "      dtype='object')"
      ]
     },
     "execution_count": 73,
     "metadata": {},
     "output_type": "execute_result"
    }
   ],
   "source": [
    "data.columns"
   ]
  },
  {
   "cell_type": "code",
   "execution_count": 74,
   "id": "ef696305",
   "metadata": {},
   "outputs": [],
   "source": [
    "train_data_4 = train_data_3.copy()\n",
    "train_data_4['Fare_clean'] = data['Fare_clean']\n",
    "train_data_4.drop('Fare',axis=1,inplace=True)"
   ]
  },
  {
   "cell_type": "code",
   "execution_count": 75,
   "id": "519db084",
   "metadata": {},
   "outputs": [
    {
     "data": {
      "text/html": [
       "<div>\n",
       "<style scoped>\n",
       "    .dataframe tbody tr th:only-of-type {\n",
       "        vertical-align: middle;\n",
       "    }\n",
       "\n",
       "    .dataframe tbody tr th {\n",
       "        vertical-align: top;\n",
       "    }\n",
       "\n",
       "    .dataframe thead th {\n",
       "        text-align: right;\n",
       "    }\n",
       "</style>\n",
       "<table border=\"1\" class=\"dataframe\">\n",
       "  <thead>\n",
       "    <tr style=\"text-align: right;\">\n",
       "      <th></th>\n",
       "      <th>Survived</th>\n",
       "      <th>Pclass</th>\n",
       "      <th>Age</th>\n",
       "      <th>Embarked_clean</th>\n",
       "      <th>Family</th>\n",
       "      <th>Name_cat</th>\n",
       "      <th>Sex_E</th>\n",
       "      <th>Age_cat</th>\n",
       "      <th>Cabin_Label</th>\n",
       "      <th>Fare_clean</th>\n",
       "    </tr>\n",
       "  </thead>\n",
       "  <tbody>\n",
       "    <tr>\n",
       "      <th>0</th>\n",
       "      <td>0</td>\n",
       "      <td>3</td>\n",
       "      <td>22.0</td>\n",
       "      <td>0</td>\n",
       "      <td>2</td>\n",
       "      <td>0</td>\n",
       "      <td>1</td>\n",
       "      <td>2</td>\n",
       "      <td>5</td>\n",
       "      <td>0</td>\n",
       "    </tr>\n",
       "    <tr>\n",
       "      <th>1</th>\n",
       "      <td>1</td>\n",
       "      <td>1</td>\n",
       "      <td>38.0</td>\n",
       "      <td>1</td>\n",
       "      <td>2</td>\n",
       "      <td>2</td>\n",
       "      <td>0</td>\n",
       "      <td>2</td>\n",
       "      <td>2</td>\n",
       "      <td>0</td>\n",
       "    </tr>\n",
       "    <tr>\n",
       "      <th>2</th>\n",
       "      <td>1</td>\n",
       "      <td>3</td>\n",
       "      <td>26.0</td>\n",
       "      <td>0</td>\n",
       "      <td>1</td>\n",
       "      <td>3</td>\n",
       "      <td>0</td>\n",
       "      <td>2</td>\n",
       "      <td>5</td>\n",
       "      <td>0</td>\n",
       "    </tr>\n",
       "    <tr>\n",
       "      <th>3</th>\n",
       "      <td>1</td>\n",
       "      <td>1</td>\n",
       "      <td>35.0</td>\n",
       "      <td>0</td>\n",
       "      <td>2</td>\n",
       "      <td>2</td>\n",
       "      <td>0</td>\n",
       "      <td>2</td>\n",
       "      <td>2</td>\n",
       "      <td>0</td>\n",
       "    </tr>\n",
       "    <tr>\n",
       "      <th>4</th>\n",
       "      <td>0</td>\n",
       "      <td>3</td>\n",
       "      <td>35.0</td>\n",
       "      <td>0</td>\n",
       "      <td>1</td>\n",
       "      <td>0</td>\n",
       "      <td>1</td>\n",
       "      <td>2</td>\n",
       "      <td>5</td>\n",
       "      <td>0</td>\n",
       "    </tr>\n",
       "  </tbody>\n",
       "</table>\n",
       "</div>"
      ],
      "text/plain": [
       "   Survived  Pclass   Age  Embarked_clean  Family  Name_cat  Sex_E  Age_cat  \\\n",
       "0         0       3  22.0               0       2         0      1        2   \n",
       "1         1       1  38.0               1       2         2      0        2   \n",
       "2         1       3  26.0               0       1         3      0        2   \n",
       "3         1       1  35.0               0       2         2      0        2   \n",
       "4         0       3  35.0               0       1         0      1        2   \n",
       "\n",
       "   Cabin_Label Fare_clean  \n",
       "0            5          0  \n",
       "1            2          0  \n",
       "2            5          0  \n",
       "3            2          0  \n",
       "4            5          0  "
      ]
     },
     "execution_count": 75,
     "metadata": {},
     "output_type": "execute_result"
    }
   ],
   "source": [
    "train_data_4.head()"
   ]
  },
  {
   "cell_type": "code",
   "execution_count": 76,
   "id": "a47a52f6",
   "metadata": {},
   "outputs": [],
   "source": [
    "from sklearn import preprocessing\n",
    "from sklearn.model_selection import train_test_split\n",
    "y = train_data_4['Survived']\n",
    "X = train_data_4.drop('Survived',axis=1)\n",
    "X_train, X_test, y_train, y_test = train_test_split(X, y, test_size=0.2, random_state=10) "
   ]
  },
  {
   "cell_type": "code",
   "execution_count": 77,
   "id": "2ea4d263",
   "metadata": {},
   "outputs": [
    {
     "name": "stdout",
     "output_type": "stream",
     "text": [
      "rf 예측 정확도 : 0.8491620111731844\n"
     ]
    }
   ],
   "source": [
    "# Random Forest\n",
    "from sklearn.metrics import accuracy_score\n",
    "from sklearn.ensemble import RandomForestClassifier\n",
    "\n",
    "rf_model = RandomForestClassifier()\n",
    "rf_model.fit(X_train, y_train)\n",
    "rf_pred = rf_model.predict(X_test)\n",
    "\n",
    "rf_accuracy = accuracy_score(y_test, rf_pred)\n",
    "print('rf 예측 정확도 :', rf_accuracy)"
   ]
  },
  {
   "cell_type": "markdown",
   "id": "68a28461",
   "metadata": {},
   "source": [
    "<img src = 'train_data_4.png' STYLE = 'width:1500px;'>"
   ]
  },
  {
   "cell_type": "markdown",
   "id": "c7882f85",
   "metadata": {},
   "source": [
    "#### 마지막 한번만 더"
   ]
  },
  {
   "cell_type": "code",
   "execution_count": 78,
   "id": "48ef6539",
   "metadata": {},
   "outputs": [
    {
     "name": "stdout",
     "output_type": "stream",
     "text": [
      "[ 64 115 407 155  86  42  17   5] [ 0.42   10.3675 20.315  30.2625 40.21   50.1575 60.105  70.0525 80.    ]\n"
     ]
    },
    {
     "data": {
      "text/plain": [
       "2    407\n",
       "3    155\n",
       "1    115\n",
       "4     86\n",
       "0     64\n",
       "5     42\n",
       "6     17\n",
       "7      5\n",
       "Name: Age_histo, dtype: int64"
      ]
     },
     "execution_count": 78,
     "metadata": {},
     "output_type": "execute_result"
    }
   ],
   "source": [
    "count, age_divs = np.histogram(data['Age'].dropna(),bins=8)\n",
    "print(count,age_divs)\n",
    "bins_name= [0,1,2,3,4,5,6,7]\n",
    "data['Age_histo'] = pd.cut(x=data['Age'],\n",
    "                           bins = age_divs,\n",
    "                           labels =bins_name,\n",
    "                           include_lowest=True)\n",
    "data[['Age','Age_histo']]\n",
    "data['Age_histo'].value_counts()"
   ]
  },
  {
   "cell_type": "code",
   "execution_count": 79,
   "id": "659dd237",
   "metadata": {},
   "outputs": [],
   "source": [
    "train_data_5 = train_data_4.copy()\n",
    "train_data_5['Age_histo'] = data['Age_histo']"
   ]
  },
  {
   "cell_type": "code",
   "execution_count": 80,
   "id": "d355fe5a",
   "metadata": {},
   "outputs": [
    {
     "data": {
      "text/plain": [
       "Index(['Survived', 'Pclass', 'Age', 'Embarked_clean', 'Family', 'Name_cat',\n",
       "       'Sex_E', 'Age_cat', 'Cabin_Label', 'Fare_clean', 'Age_histo'],\n",
       "      dtype='object')"
      ]
     },
     "execution_count": 80,
     "metadata": {},
     "output_type": "execute_result"
    }
   ],
   "source": [
    "train_data_5.columns"
   ]
  },
  {
   "cell_type": "code",
   "execution_count": 81,
   "id": "af75d508",
   "metadata": {},
   "outputs": [],
   "source": [
    "from sklearn import preprocessing\n",
    "from sklearn.model_selection import train_test_split\n",
    "y = train_data_5['Survived']\n",
    "X = train_data_5.drop('Survived',axis=1)\n",
    "X_train, X_test, y_train, y_test = train_test_split(X, y, test_size=0.2, random_state=10) "
   ]
  },
  {
   "cell_type": "code",
   "execution_count": 82,
   "id": "802adcc6",
   "metadata": {},
   "outputs": [
    {
     "name": "stdout",
     "output_type": "stream",
     "text": [
      "rf 예측 정확도 : 0.8659217877094972\n"
     ]
    }
   ],
   "source": [
    "# Random Forest\n",
    "from sklearn.metrics import accuracy_score\n",
    "from sklearn.ensemble import RandomForestClassifier\n",
    "\n",
    "rf_model = RandomForestClassifier()\n",
    "rf_model.fit(X_train, y_train)\n",
    "rf_pred = rf_model.predict(X_test)\n",
    "\n",
    "rf_accuracy = accuracy_score(y_test, rf_pred)\n",
    "print('rf 예측 정확도 :', rf_accuracy)"
   ]
  },
  {
   "cell_type": "code",
   "execution_count": 83,
   "id": "7517c72a",
   "metadata": {},
   "outputs": [],
   "source": [
    "# 최대 에측 0.8715"
   ]
  },
  {
   "cell_type": "markdown",
   "id": "a2266923",
   "metadata": {},
   "source": [
    "<img src = 'train_data_5.png' STYLE = 'width:1500px;'>"
   ]
  },
  {
   "cell_type": "markdown",
   "id": "b322ddd6",
   "metadata": {},
   "source": [
    "#### 진짜 마지막 도전"
   ]
  },
  {
   "cell_type": "code",
   "execution_count": 84,
   "id": "f4430d97",
   "metadata": {},
   "outputs": [
    {
     "data": {
      "text/plain": [
       "Index(['Survived', 'Pclass', 'Age', 'Embarked_clean', 'Family', 'Name_cat',\n",
       "       'Sex_E', 'Age_cat', 'Cabin_Label', 'Fare_clean', 'Age_histo'],\n",
       "      dtype='object')"
      ]
     },
     "execution_count": 84,
     "metadata": {},
     "output_type": "execute_result"
    }
   ],
   "source": [
    "train_data_5.columns"
   ]
  },
  {
   "cell_type": "code",
   "execution_count": 85,
   "id": "6a17abb5",
   "metadata": {},
   "outputs": [],
   "source": [
    "train_data_6 = pd.get_dummies(train_data_5,columns=[ 'Pclass', 'Age', 'Embarked_clean', 'Family', 'Name_cat',\n",
    "       'Sex_E', 'Age_cat', 'Cabin_Label', 'Fare_clean', 'Age_histo'])"
   ]
  },
  {
   "cell_type": "code",
   "execution_count": 86,
   "id": "a932a48f",
   "metadata": {},
   "outputs": [],
   "source": [
    "from sklearn import preprocessing\n",
    "from sklearn.model_selection import train_test_split\n",
    "y = train_data_6['Survived']\n",
    "X = train_data_6.drop('Survived',axis=1)\n",
    "X_train, X_test, y_train, y_test = train_test_split(X, y, test_size=0.2, random_state=10) "
   ]
  },
  {
   "cell_type": "code",
   "execution_count": 87,
   "id": "43a2112f",
   "metadata": {},
   "outputs": [
    {
     "name": "stdout",
     "output_type": "stream",
     "text": [
      "rf 예측 정확도 : 0.8324022346368715\n"
     ]
    }
   ],
   "source": [
    "# Random Forest\n",
    "from sklearn.metrics import accuracy_score\n",
    "from sklearn.ensemble import RandomForestClassifier\n",
    "\n",
    "rf_model = RandomForestClassifier()\n",
    "rf_model.fit(X_train, y_train)\n",
    "rf_pred = rf_model.predict(X_test)\n",
    "\n",
    "rf_accuracy = accuracy_score(y_test, rf_pred)\n",
    "print('rf 예측 정확도 :', rf_accuracy)"
   ]
  },
  {
   "cell_type": "markdown",
   "id": "498eda69",
   "metadata": {},
   "source": [
    "<img src = 'train_data_6.png' STYLE = 'width:1500px;'>"
   ]
  },
  {
   "cell_type": "code",
   "execution_count": null,
   "id": "b114965a",
   "metadata": {},
   "outputs": [],
   "source": [
    "sns.lmplot()"
   ]
  }
 ],
 "metadata": {
  "kernelspec": {
   "display_name": "Python 3",
   "language": "python",
   "name": "python3"
  },
  "language_info": {
   "codemirror_mode": {
    "name": "ipython",
    "version": 3
   },
   "file_extension": ".py",
   "mimetype": "text/x-python",
   "name": "python",
   "nbconvert_exporter": "python",
   "pygments_lexer": "ipython3",
   "version": "3.8.10"
  }
 },
 "nbformat": 4,
 "nbformat_minor": 5
}
