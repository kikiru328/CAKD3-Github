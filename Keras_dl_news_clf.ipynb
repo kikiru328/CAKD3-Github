{
  "nbformat": 4,
  "nbformat_minor": 0,
  "metadata": {
    "colab": {
      "name": "Keras_dl_news_clf.ipynb",
      "provenance": [],
      "machine_shape": "hm",
      "authorship_tag": "ABX9TyOwvfWPhmxdfzJvcUZy9aZm",
      "include_colab_link": true
    },
    "kernelspec": {
      "name": "python3",
      "display_name": "Python 3"
    },
    "language_info": {
      "name": "python"
    },
    "accelerator": "GPU"
  },
  "cells": [
    {
      "cell_type": "markdown",
      "metadata": {
        "id": "view-in-github",
        "colab_type": "text"
      },
      "source": [
        "<a href=\"https://colab.research.google.com/github/kikiru328/CAKD3-Github/blob/main/Keras_dl_news_clf.ipynb\" target=\"_parent\"><img src=\"https://colab.research.google.com/assets/colab-badge.svg\" alt=\"Open In Colab\"/></a>"
      ]
    },
    {
      "cell_type": "code",
      "metadata": {
        "id": "cS4oM7Zb9qQW"
      },
      "source": [
        "import os, sys\n",
        "from google.colab import drive\n",
        "drive.mount('/content/drive')\n",
        "my_path = '/content/notebooks'\n",
        "os.symlink('/content/drive/My Drive/Colab Notebooks', my_path)\n",
        "sys.path.insert(0,my_path)"
      ],
      "execution_count": null,
      "outputs": []
    },
    {
      "cell_type": "code",
      "metadata": {
        "colab": {
          "base_uri": "https://localhost:8080/",
          "height": 36
        },
        "id": "dfm7Cm3w9xFW",
        "outputId": "7892aeda-6aa0-4c68-f9f0-299dd1e5cfe9"
      },
      "source": [
        "import tensorflow as tf\n",
        "from tensorflow import keras\n",
        "tf.keras.__version__"
      ],
      "execution_count": null,
      "outputs": [
        {
          "output_type": "execute_result",
          "data": {
            "application/vnd.google.colaboratory.intrinsic+json": {
              "type": "string"
            },
            "text/plain": [
              "'2.6.0'"
            ]
          },
          "metadata": {},
          "execution_count": 107
        }
      ]
    },
    {
      "cell_type": "code",
      "metadata": {
        "id": "HOpxzocp-Cjn"
      },
      "source": [
        "from tensorflow.keras.datasets import reuters\n",
        "(train_data, train_labels), (test_data,test_labels)=reuters.load_data(num_words=10000)"
      ],
      "execution_count": null,
      "outputs": []
    },
    {
      "cell_type": "code",
      "metadata": {
        "colab": {
          "base_uri": "https://localhost:8080/"
        },
        "id": "hXy4UQHp-uLs",
        "outputId": "52e76224-71de-44c1-c120-2150419c3285"
      },
      "source": [
        "print(len(train_data))\n",
        "print(len(test_data))"
      ],
      "execution_count": null,
      "outputs": [
        {
          "output_type": "stream",
          "name": "stdout",
          "text": [
            "8982\n",
            "2246\n"
          ]
        }
      ]
    },
    {
      "cell_type": "code",
      "metadata": {
        "colab": {
          "base_uri": "https://localhost:8080/"
        },
        "id": "d-oGA2i0-0lv",
        "outputId": "9d08de25-43f0-46aa-9fec-c19515d74173"
      },
      "source": [
        "print(train_data[0])"
      ],
      "execution_count": null,
      "outputs": [
        {
          "output_type": "stream",
          "name": "stdout",
          "text": [
            "[1, 2, 2, 8, 43, 10, 447, 5, 25, 207, 270, 5, 3095, 111, 16, 369, 186, 90, 67, 7, 89, 5, 19, 102, 6, 19, 124, 15, 90, 67, 84, 22, 482, 26, 7, 48, 4, 49, 8, 864, 39, 209, 154, 6, 151, 6, 83, 11, 15, 22, 155, 11, 15, 7, 48, 9, 4579, 1005, 504, 6, 258, 6, 272, 11, 15, 22, 134, 44, 11, 15, 16, 8, 197, 1245, 90, 67, 52, 29, 209, 30, 32, 132, 6, 109, 15, 17, 12]\n"
          ]
        }
      ]
    },
    {
      "cell_type": "code",
      "metadata": {
        "colab": {
          "base_uri": "https://localhost:8080/"
        },
        "id": "itEDJBmo-NJm",
        "outputId": "312f8c79-100b-4e34-df93-cabd37f19b16"
      },
      "source": [
        "import pandas as pd\n",
        "pd.Series(train_labels).nunique()"
      ],
      "execution_count": null,
      "outputs": [
        {
          "output_type": "execute_result",
          "data": {
            "text/plain": [
              "46"
            ]
          },
          "metadata": {},
          "execution_count": 111
        }
      ]
    },
    {
      "cell_type": "code",
      "metadata": {
        "id": "Y3mNXu06_PB-"
      },
      "source": [
        "import numpy as np\n",
        "def vectorize_sequences(sequences, dimension=10000):\n",
        "  results = np.zeros((len(sequences), dimension)) \n",
        "  for i, sequence in enumerate(sequences):\n",
        "    results[i,sequence] = 1.\n",
        "  return results\n",
        "\n",
        "x_train = vectorize_sequences(train_data)\n",
        "x_test = vectorize_sequences(test_data)\n"
      ],
      "execution_count": null,
      "outputs": []
    },
    {
      "cell_type": "code",
      "metadata": {
        "colab": {
          "base_uri": "https://localhost:8080/"
        },
        "id": "3njbn_Hp_8T4",
        "outputId": "ea29c5a7-408d-427d-f6c1-aced8be6dac4"
      },
      "source": [
        "print(len(x_train[0]))\n",
        "print(len(x_test[0]))"
      ],
      "execution_count": null,
      "outputs": [
        {
          "output_type": "stream",
          "name": "stdout",
          "text": [
            "10000\n",
            "10000\n"
          ]
        }
      ]
    },
    {
      "cell_type": "code",
      "metadata": {
        "id": "BJFeRLNt_-yw"
      },
      "source": [
        "def to_one_hot(labels,dimension=46):\n",
        "  results = np.zeros((len(labels),dimension))\n",
        "  for i, label in enumerate(labels):\n",
        "    results[i, label] = 1.\n",
        "  return results\n",
        "\n",
        "one_hot_train_labels = to_one_hot(train_labels)\n",
        "one_hot_test_labels = to_one_hot(test_labels)"
      ],
      "execution_count": null,
      "outputs": []
    },
    {
      "cell_type": "code",
      "metadata": {
        "colab": {
          "base_uri": "https://localhost:8080/"
        },
        "id": "O30uQTvuA9Zp",
        "outputId": "7c8e73cc-f9a0-4ecd-d6a6-85a8167cd789"
      },
      "source": [
        "print(len(one_hot_train_labels[0]))"
      ],
      "execution_count": null,
      "outputs": [
        {
          "output_type": "stream",
          "name": "stdout",
          "text": [
            "46\n"
          ]
        }
      ]
    },
    {
      "cell_type": "code",
      "metadata": {
        "id": "5WBLr_GwA9VJ"
      },
      "source": [
        "from tensorflow.keras.utils import to_categorical\n",
        "\n",
        "one_hot_train_labels = to_categorical(train_labels)\n",
        "one_hot_test_labels = to_categorical(test_labels)"
      ],
      "execution_count": null,
      "outputs": []
    },
    {
      "cell_type": "code",
      "metadata": {
        "id": "u_V2NxuiBbKa"
      },
      "source": [
        "from tensorflow.keras import models\n",
        "from tensorflow.keras import layers\n",
        "\n",
        "model = models.Sequential()\n",
        "model.add(layers.Dense(64,activation='relu',input_shape=(10000,)))\n",
        "model.add(layers.Dense(64,activation='relu'))\n",
        "model.add(layers.Dense(46,activation='softmax'))"
      ],
      "execution_count": null,
      "outputs": []
    },
    {
      "cell_type": "code",
      "metadata": {
        "id": "Oq20hZmKD77L"
      },
      "source": [
        "model.compile(optimizer= 'rmsprop',\n",
        "              loss= 'categorical_crossentropy',\n",
        "              metrics=['accuracy'])\n"
      ],
      "execution_count": null,
      "outputs": []
    },
    {
      "cell_type": "code",
      "metadata": {
        "id": "0dcxnKxnEYzI"
      },
      "source": [
        "x_val = x_train[:1000]\n",
        "partial_x_train = x_train[1000:]\n",
        "\n",
        "y_val = one_hot_train_labels[:1000]\n",
        "partial_y_train = one_hot_train_labels[1000:]"
      ],
      "execution_count": null,
      "outputs": []
    },
    {
      "cell_type": "code",
      "metadata": {
        "colab": {
          "base_uri": "https://localhost:8080/"
        },
        "id": "dPxDt5BaEz6b",
        "outputId": "5c104f01-ac3d-4a87-f079-bca343b8746d"
      },
      "source": [
        "history = model.fit(partial_x_train,\n",
        "                    partial_y_train,\n",
        "                    epochs=20,\n",
        "                    batch_size=512,\n",
        "                    validation_data= (x_val, y_val))"
      ],
      "execution_count": null,
      "outputs": [
        {
          "output_type": "stream",
          "name": "stdout",
          "text": [
            "Epoch 1/20\n",
            "16/16 [==============================] - 1s 20ms/step - loss: 2.5004 - accuracy: 0.5237 - val_loss: 1.6367 - val_accuracy: 0.6430\n",
            "Epoch 2/20\n",
            "16/16 [==============================] - 0s 11ms/step - loss: 1.3712 - accuracy: 0.7060 - val_loss: 1.2626 - val_accuracy: 0.7210\n",
            "Epoch 3/20\n",
            "16/16 [==============================] - 0s 10ms/step - loss: 1.0327 - accuracy: 0.7851 - val_loss: 1.1151 - val_accuracy: 0.7480\n",
            "Epoch 4/20\n",
            "16/16 [==============================] - 0s 11ms/step - loss: 0.8279 - accuracy: 0.8236 - val_loss: 1.0007 - val_accuracy: 0.7870\n",
            "Epoch 5/20\n",
            "16/16 [==============================] - 0s 10ms/step - loss: 0.6658 - accuracy: 0.8578 - val_loss: 0.9505 - val_accuracy: 0.7910\n",
            "Epoch 6/20\n",
            "16/16 [==============================] - 0s 10ms/step - loss: 0.5358 - accuracy: 0.8849 - val_loss: 0.9123 - val_accuracy: 0.8130\n",
            "Epoch 7/20\n",
            "16/16 [==============================] - 0s 11ms/step - loss: 0.4382 - accuracy: 0.9055 - val_loss: 0.8873 - val_accuracy: 0.8120\n",
            "Epoch 8/20\n",
            "16/16 [==============================] - 0s 10ms/step - loss: 0.3529 - accuracy: 0.9251 - val_loss: 0.9035 - val_accuracy: 0.8100\n",
            "Epoch 9/20\n",
            "16/16 [==============================] - 0s 10ms/step - loss: 0.2984 - accuracy: 0.9346 - val_loss: 0.8937 - val_accuracy: 0.8160\n",
            "Epoch 10/20\n",
            "16/16 [==============================] - 0s 11ms/step - loss: 0.2508 - accuracy: 0.9419 - val_loss: 0.9083 - val_accuracy: 0.8120\n",
            "Epoch 11/20\n",
            "16/16 [==============================] - 0s 11ms/step - loss: 0.2136 - accuracy: 0.9468 - val_loss: 0.9017 - val_accuracy: 0.8160\n",
            "Epoch 12/20\n",
            "16/16 [==============================] - 0s 10ms/step - loss: 0.1863 - accuracy: 0.9521 - val_loss: 0.9260 - val_accuracy: 0.8120\n",
            "Epoch 13/20\n",
            "16/16 [==============================] - 0s 11ms/step - loss: 0.1700 - accuracy: 0.9525 - val_loss: 0.9358 - val_accuracy: 0.8050\n",
            "Epoch 14/20\n",
            "16/16 [==============================] - 0s 10ms/step - loss: 0.1522 - accuracy: 0.9535 - val_loss: 0.9707 - val_accuracy: 0.8110\n",
            "Epoch 15/20\n",
            "16/16 [==============================] - 0s 11ms/step - loss: 0.1412 - accuracy: 0.9553 - val_loss: 0.9761 - val_accuracy: 0.8080\n",
            "Epoch 16/20\n",
            "16/16 [==============================] - 0s 11ms/step - loss: 0.1319 - accuracy: 0.9565 - val_loss: 1.0440 - val_accuracy: 0.8020\n",
            "Epoch 17/20\n",
            "16/16 [==============================] - 0s 11ms/step - loss: 0.1272 - accuracy: 0.9563 - val_loss: 1.0144 - val_accuracy: 0.8090\n",
            "Epoch 18/20\n",
            "16/16 [==============================] - 0s 10ms/step - loss: 0.1217 - accuracy: 0.9567 - val_loss: 1.0480 - val_accuracy: 0.8070\n",
            "Epoch 19/20\n",
            "16/16 [==============================] - 0s 11ms/step - loss: 0.1149 - accuracy: 0.9546 - val_loss: 1.0460 - val_accuracy: 0.8100\n",
            "Epoch 20/20\n",
            "16/16 [==============================] - 0s 10ms/step - loss: 0.1118 - accuracy: 0.9569 - val_loss: 1.0974 - val_accuracy: 0.7920\n"
          ]
        }
      ]
    },
    {
      "cell_type": "code",
      "metadata": {
        "colab": {
          "base_uri": "https://localhost:8080/",
          "height": 295
        },
        "id": "3kNpWhbQFDef",
        "outputId": "ee597bcb-31ef-4950-a2ab-a6fa6e6e3d89"
      },
      "source": [
        "import matplotlib.pyplot as plt\n",
        "loss = history.history['loss']\n",
        "val_loss = history.history['val_loss']\n",
        "\n",
        "epochs = range(1, len(loss)+1)\n",
        "\n",
        "plt.plot(epochs, loss, 'bo', label='Training loss')\n",
        "plt.plot(epochs, val_loss,'b', label='Validation loss')\n",
        "plt.title('Training and validation loss')\n",
        "plt.xlabel('Epochs')\n",
        "plt.ylabel('Loss')\n",
        "plt.legend()\n",
        "\n",
        "plt.show()"
      ],
      "execution_count": null,
      "outputs": [
        {
          "output_type": "display_data",
          "data": {
            "image/png": "[encoded data removed]",
            "text/plain": [
              "<Figure size 432x288 with 1 Axes>"
            ]
          },
          "metadata": {
            "needs_background": "light"
          }
        }
      ]
    },
    {
      "cell_type": "code",
      "metadata": {
        "colab": {
          "base_uri": "https://localhost:8080/",
          "height": 295
        },
        "id": "B4v2WrBOHDFk",
        "outputId": "86c49356-9c31-4165-c60e-8452dff5cfee"
      },
      "source": [
        "plt.clf()\n",
        "\n",
        "acc = history.history['accuracy']\n",
        "val_acc = history.history['val_accuracy']\n",
        "plt.plot(epochs, acc, 'bo', label='Training acc')\n",
        "\n",
        "plt.plot(epochs, val_acc, 'b', label='Validation acc')\n",
        "plt.title('Training and validation accuracy')\n",
        "plt.xlabel('Epochs')\n",
        "plt.ylabel('Loss')\n",
        "plt.legend()\n",
        "\n",
        "plt.show()"
      ],
      "execution_count": null,
      "outputs": [
        {
          "output_type": "display_data",
          "data": {
            "image/png": "[encoded data removed]",
            "text/plain": [
              "<Figure size 432x288 with 1 Axes>"
            ]
          },
          "metadata": {
            "needs_background": "light"
          }
        }
      ]
    },
    {
      "cell_type": "code",
      "metadata": {
        "colab": {
          "base_uri": "https://localhost:8080/"
        },
        "id": "_Wi0QeGKKOpa",
        "outputId": "4ad89dca-081d-4ca7-d5c2-451664f505ad"
      },
      "source": [
        "model = models.Sequential()\n",
        "model.add(layers.Dense(64,activation='relu',input_shape=(10000,)))\n",
        "model.add(layers.Dense(64,activation='relu'))\n",
        "model.add(layers.Dense(46,activation='softmax'))\n",
        "\n",
        "model.compile(optimizer= 'rmsprop',loss= 'categorical_crossentropy', metrics=['accuracy'])\n",
        "history = model.fit(partial_x_train,partial_y_train,epochs=9,batch_size=512,validation_data= (x_val, y_val))\n",
        "results = model.evaluate(x_test, one_hot_test_labels)"
      ],
      "execution_count": null,
      "outputs": [
        {
          "output_type": "stream",
          "name": "stdout",
          "text": [
            "Epoch 1/9\n",
            "16/16 [==============================] - 1s 20ms/step - loss: 2.6639 - accuracy: 0.5145 - val_loss: 1.8009 - val_accuracy: 0.6300\n",
            "Epoch 2/9\n",
            "16/16 [==============================] - 0s 10ms/step - loss: 1.4602 - accuracy: 0.6909 - val_loss: 1.3374 - val_accuracy: 0.7110\n",
            "Epoch 3/9\n",
            "16/16 [==============================] - 0s 11ms/step - loss: 1.0780 - accuracy: 0.7656 - val_loss: 1.1578 - val_accuracy: 0.7490\n",
            "Epoch 4/9\n",
            "16/16 [==============================] - 0s 10ms/step - loss: 0.8529 - accuracy: 0.8202 - val_loss: 1.0419 - val_accuracy: 0.7770\n",
            "Epoch 5/9\n",
            "16/16 [==============================] - 0s 10ms/step - loss: 0.6821 - accuracy: 0.8553 - val_loss: 0.9767 - val_accuracy: 0.7980\n",
            "Epoch 6/9\n",
            "16/16 [==============================] - 0s 11ms/step - loss: 0.5485 - accuracy: 0.8856 - val_loss: 0.9340 - val_accuracy: 0.7990\n",
            "Epoch 7/9\n",
            "16/16 [==============================] - 0s 11ms/step - loss: 0.4408 - accuracy: 0.9065 - val_loss: 0.8943 - val_accuracy: 0.8110\n",
            "Epoch 8/9\n",
            "16/16 [==============================] - 0s 11ms/step - loss: 0.3624 - accuracy: 0.9213 - val_loss: 0.8829 - val_accuracy: 0.8140\n",
            "Epoch 9/9\n",
            "16/16 [==============================] - 0s 11ms/step - loss: 0.2975 - accuracy: 0.9354 - val_loss: 0.8923 - val_accuracy: 0.8130\n",
            "71/71 [==============================] - 0s 2ms/step - loss: 0.9899 - accuracy: 0.7854\n"
          ]
        }
      ]
    },
    {
      "cell_type": "code",
      "metadata": {
        "colab": {
          "base_uri": "https://localhost:8080/"
        },
        "id": "ekyiWlqHKPZt",
        "outputId": "551c2998-51b8-4eaf-c266-97c700f9c6b7"
      },
      "source": [
        "results"
      ],
      "execution_count": null,
      "outputs": [
        {
          "output_type": "execute_result",
          "data": {
            "text/plain": [
              "[0.9899426102638245, 0.7853962779045105]"
            ]
          },
          "metadata": {},
          "execution_count": 125
        }
      ]
    },
    {
      "cell_type": "code",
      "metadata": {
        "colab": {
          "base_uri": "https://localhost:8080/"
        },
        "id": "Qyy2OzsIKPez",
        "outputId": "43f1a1eb-5ffd-4c6b-f6d4-5d5bffcd2d43"
      },
      "source": [
        "predictions = model.predict(x_test)\n",
        "predictions"
      ],
      "execution_count": null,
      "outputs": [
        {
          "output_type": "execute_result",
          "data": {
            "text/plain": [
              "array([[1.88945887e-05, 5.33797313e-04, 6.12356307e-05, ...,\n",
              "        6.79414894e-04, 1.98299313e-05, 8.24407664e-07],\n",
              "       [2.44108662e-02, 1.59938373e-02, 7.62830823e-05, ...,\n",
              "        2.02564502e-06, 2.15579746e-07, 2.06708341e-04],\n",
              "       [3.64060216e-02, 6.76372051e-01, 6.47602510e-03, ...,\n",
              "        5.36041800e-04, 1.47456769e-04, 4.43205982e-03],\n",
              "       ...,\n",
              "       [4.00561157e-06, 9.86351166e-04, 5.70029079e-05, ...,\n",
              "        3.43102234e-04, 4.01007019e-05, 3.29128966e-06],\n",
              "       [1.94505381e-03, 1.21081196e-01, 4.89802752e-03, ...,\n",
              "        2.34102760e-03, 4.86440578e-04, 2.94666039e-04],\n",
              "       [1.69473118e-03, 7.08447635e-01, 3.73107642e-02, ...,\n",
              "        8.88463110e-04, 3.83097795e-04, 6.50295930e-04]], dtype=float32)"
            ]
          },
          "metadata": {},
          "execution_count": 126
        }
      ]
    },
    {
      "cell_type": "code",
      "metadata": {
        "colab": {
          "base_uri": "https://localhost:8080/"
        },
        "id": "k2_E0EIFKPiv",
        "outputId": "0bfd9285-fde1-4cd9-fb41-23c30a69f15a"
      },
      "source": [
        "predictions[0].shape"
      ],
      "execution_count": null,
      "outputs": [
        {
          "output_type": "execute_result",
          "data": {
            "text/plain": [
              "(46,)"
            ]
          },
          "metadata": {},
          "execution_count": 127
        }
      ]
    },
    {
      "cell_type": "code",
      "metadata": {
        "colab": {
          "base_uri": "https://localhost:8080/"
        },
        "id": "ttb0dMYAKPmC",
        "outputId": "091d0596-2863-4ace-a20d-52d8154031a4"
      },
      "source": [
        "np.sum(predictions[0])"
      ],
      "execution_count": null,
      "outputs": [
        {
          "output_type": "execute_result",
          "data": {
            "text/plain": [
              "1.0"
            ]
          },
          "metadata": {},
          "execution_count": 128
        }
      ]
    },
    {
      "cell_type": "code",
      "metadata": {
        "colab": {
          "base_uri": "https://localhost:8080/"
        },
        "id": "dBwaobUvKPos",
        "outputId": "ee6f7e2f-02a5-40e5-c366-3ac49fef999b"
      },
      "source": [
        "np.argmax(predictions[0])"
      ],
      "execution_count": null,
      "outputs": [
        {
          "output_type": "execute_result",
          "data": {
            "text/plain": [
              "3"
            ]
          },
          "metadata": {},
          "execution_count": 129
        }
      ]
    },
    {
      "cell_type": "code",
      "metadata": {
        "colab": {
          "base_uri": "https://localhost:8080/"
        },
        "id": "XSF8BOpOKPrW",
        "outputId": "5384f201-0bec-46b8-cb9e-78a4b7baa0f3"
      },
      "source": [
        "model = models.Sequential()\n",
        "model.add(layers.Dense(64,activation='relu',input_shape=(10000,)))\n",
        "model.add(layers.Dense(4, activation='relu'))\n",
        "model.add(layers.Dense(46,activation='softmax'))\n",
        "\n",
        "model.compile(optimizer = 'rmsprop', loss='categorical_crossentropy',metrics=['accuracy'])\n",
        "\n",
        "history = model.fit(partial_x_train, partial_y_train, epochs=20, batch_size=128, validation_data=(x_val,y_val))"
      ],
      "execution_count": null,
      "outputs": [
        {
          "output_type": "stream",
          "name": "stdout",
          "text": [
            "Epoch 1/20\n",
            "63/63 [==============================] - 1s 7ms/step - loss: 2.4515 - accuracy: 0.4996 - val_loss: 1.7121 - val_accuracy: 0.6000\n",
            "Epoch 2/20\n",
            "63/63 [==============================] - 0s 4ms/step - loss: 1.4798 - accuracy: 0.6666 - val_loss: 1.4490 - val_accuracy: 0.6640\n",
            "Epoch 3/20\n",
            "63/63 [==============================] - 0s 5ms/step - loss: 1.2259 - accuracy: 0.7129 - val_loss: 1.3381 - val_accuracy: 0.6890\n",
            "Epoch 4/20\n",
            "63/63 [==============================] - 0s 4ms/step - loss: 1.0799 - accuracy: 0.7304 - val_loss: 1.3346 - val_accuracy: 0.6860\n",
            "Epoch 5/20\n",
            "63/63 [==============================] - 0s 4ms/step - loss: 0.9717 - accuracy: 0.7471 - val_loss: 1.2751 - val_accuracy: 0.6890\n",
            "Epoch 6/20\n",
            "63/63 [==============================] - 0s 4ms/step - loss: 0.8891 - accuracy: 0.7622 - val_loss: 1.2788 - val_accuracy: 0.6920\n",
            "Epoch 7/20\n",
            "63/63 [==============================] - 0s 5ms/step - loss: 0.8196 - accuracy: 0.7757 - val_loss: 1.3011 - val_accuracy: 0.6940\n",
            "Epoch 8/20\n",
            "63/63 [==============================] - 0s 4ms/step - loss: 0.7597 - accuracy: 0.7828 - val_loss: 1.3034 - val_accuracy: 0.6960\n",
            "Epoch 9/20\n",
            "63/63 [==============================] - 0s 4ms/step - loss: 0.7096 - accuracy: 0.7905 - val_loss: 1.3297 - val_accuracy: 0.6970\n",
            "Epoch 10/20\n",
            "63/63 [==============================] - 0s 4ms/step - loss: 0.6650 - accuracy: 0.8003 - val_loss: 1.3571 - val_accuracy: 0.6990\n",
            "Epoch 11/20\n",
            "63/63 [==============================] - 0s 4ms/step - loss: 0.6251 - accuracy: 0.8104 - val_loss: 1.3707 - val_accuracy: 0.7040\n",
            "Epoch 12/20\n",
            "63/63 [==============================] - 0s 4ms/step - loss: 0.5869 - accuracy: 0.8264 - val_loss: 1.4429 - val_accuracy: 0.7090\n",
            "Epoch 13/20\n",
            "63/63 [==============================] - 0s 4ms/step - loss: 0.5549 - accuracy: 0.8421 - val_loss: 1.4452 - val_accuracy: 0.7060\n",
            "Epoch 14/20\n",
            "63/63 [==============================] - 0s 4ms/step - loss: 0.5241 - accuracy: 0.8512 - val_loss: 1.5131 - val_accuracy: 0.7070\n",
            "Epoch 15/20\n",
            "63/63 [==============================] - 0s 4ms/step - loss: 0.4980 - accuracy: 0.8559 - val_loss: 1.5465 - val_accuracy: 0.7070\n",
            "Epoch 16/20\n",
            "63/63 [==============================] - 0s 4ms/step - loss: 0.4742 - accuracy: 0.8624 - val_loss: 1.5896 - val_accuracy: 0.7080\n",
            "Epoch 17/20\n",
            "63/63 [==============================] - 0s 4ms/step - loss: 0.4518 - accuracy: 0.8654 - val_loss: 1.5967 - val_accuracy: 0.7030\n",
            "Epoch 18/20\n",
            "63/63 [==============================] - 0s 4ms/step - loss: 0.4348 - accuracy: 0.8687 - val_loss: 1.6539 - val_accuracy: 0.7000\n",
            "Epoch 19/20\n",
            "63/63 [==============================] - 0s 4ms/step - loss: 0.4190 - accuracy: 0.8706 - val_loss: 1.7206 - val_accuracy: 0.7040\n",
            "Epoch 20/20\n",
            "63/63 [==============================] - 0s 4ms/step - loss: 0.4032 - accuracy: 0.8745 - val_loss: 1.7336 - val_accuracy: 0.7060\n"
          ]
        }
      ]
    },
    {
      "cell_type": "markdown",
      "metadata": {
        "id": "fTNf1fBTKP4v"
      },
      "source": [
        "검증 정확도의 최고 값은 8% 정도 감소. 그 이유는 많은 정보 (46개 클래스의 분할 초평면 복원하기에 충분한 정보)를 중간층의 저차원 표현 공간으로 압축하려 했기 떄문이다. 이 네트워크는 필요한 정보 대부분을 4차원 표현 안에 구겨 넣었지만 전부는 넣지 못함."
      ]
    },
    {
      "cell_type": "markdown",
      "metadata": {
        "id": "90Oi9JU0KP8D"
      },
      "source": [
        "- N개의 클래스로 데이터 포인트를 분류하려면 네트워크의 마지막  Dense층의 크기는 N이어야 합니다.\n",
        "- 단일 레이블, 다중 분류 문제에서는 N개의 클래스에 대한 확률 분포를 출력하기 위해 softmax 활성화 함수를 사용해야 합니다.\n",
        "- 이런 문제에는 항상 범주형 크로스엔트로피를 사용해야 합니다. 이 함수는 모델이 출력한 확률 분포와 타깃 분포 사이의 거리를 최소화합니다.\n",
        "- 다중 분류에서 레이블을 다루는 두 가지 방법이 있습니다.\n",
        "    - 레이블을 범주형 인코딩(또는 원-핫 인코딩)으로 인코딩하고 categorical_crossentropy 손실 함수를 사용합니다.\n",
        "    - 레이블을 정수로 인코딩하고 sparse_categorical_crossentropy 손실 함수를 사용합니다.\n",
        "- 많은 수의 범주를 분류할 때 중간층의 크기가 너무 작아 네트워크에 정보의 병목이 생기지 않도록 해야 합니다."
      ]
    },
    {
      "cell_type": "code",
      "metadata": {
        "id": "maRCzqObKP-4"
      },
      "source": [
        ""
      ],
      "execution_count": null,
      "outputs": []
    },
    {
      "cell_type": "code",
      "metadata": {
        "id": "c-l5TW0FKQBs"
      },
      "source": [
        ""
      ],
      "execution_count": null,
      "outputs": []
    },
    {
      "cell_type": "code",
      "metadata": {
        "id": "bi1RxRkBKQEq"
      },
      "source": [
        ""
      ],
      "execution_count": null,
      "outputs": []
    },
    {
      "cell_type": "code",
      "metadata": {
        "id": "fKss3EgSKQHr"
      },
      "source": [
        ""
      ],
      "execution_count": null,
      "outputs": []
    },
    {
      "cell_type": "code",
      "metadata": {
        "id": "kvcM0lkuKQKW"
      },
      "source": [
        ""
      ],
      "execution_count": null,
      "outputs": []
    },
    {
      "cell_type": "markdown",
      "metadata": {
        "id": "b8aMWLD7KQNS"
      },
      "source": [
        ""
      ]
    },
    {
      "cell_type": "code",
      "metadata": {
        "id": "3rAHsDpAKQTp"
      },
      "source": [
        ""
      ],
      "execution_count": null,
      "outputs": []
    },
    {
      "cell_type": "code",
      "metadata": {
        "id": "KMlZ6iWeKQWv"
      },
      "source": [
        ""
      ],
      "execution_count": null,
      "outputs": []
    },
    {
      "cell_type": "code",
      "metadata": {
        "id": "ZF--333KKQaa"
      },
      "source": [
        ""
      ],
      "execution_count": null,
      "outputs": []
    }
  ]
}