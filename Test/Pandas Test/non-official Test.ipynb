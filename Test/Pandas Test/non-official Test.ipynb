{
 "cells": [
  {
   "cell_type": "code",
   "execution_count": 1,
   "id": "674c15a7",
   "metadata": {},
   "outputs": [],
   "source": [
    "# module import\n",
    "import pandas as pd\n",
    "import numpy as np\n",
    "import seaborn as sns\n",
    "import time\n",
    "import datetime as dt\n",
    "import datetime"
   ]
  },
  {
   "cell_type": "raw",
   "id": "c82ee68d",
   "metadata": {},
   "source": [
    "from sklearn.preprocessing import LabelEncoder\n",
    "le = LabelEncoder()\n",
    "features = [ , , ]\n",
    "for feature in featrues:\n",
    "    df[feature] = le.fit_transform(df[feature])\n",
    "df. head\n",
    "\n",
    "> categorization"
   ]
  },
  {
   "cell_type": "raw",
   "id": "0c63eccc",
   "metadata": {},
   "source": [
    "from sklearn.preprocessing import MinMaxScaler\n",
    "scaler = MinMaxScaler()\n",
    "df[col] = scaler.fit_transform(df[[col]])\n",
    "df.head\n",
    "\n",
    "> normalization / to value in 0 ~ 1 range"
   ]
  },
  {
   "cell_type": "raw",
   "id": "db7cfdde",
   "metadata": {},
   "source": [
    "from sklearn.preprocessing import StandardScaler\n",
    "scaler = StandaradScaler()\n",
    "df[col] = scaler.fit_transform(df[[col]])\n",
    "df.head()\n",
    "\n",
    "> Average = 0, Var = 1 가우시안 표준분포로 바꿈."
   ]
  },
  {
   "cell_type": "raw",
   "id": "96a1b1ff",
   "metadata": {},
   "source": [
    "one_hot Encoding/ sklearn X --> get_dummies(df) < 이거 자체가 One_hot_encoding"
   ]
  },
  {
   "cell_type": "raw",
   "id": "f096251e",
   "metadata": {},
   "source": [
    "transform log\n",
    "df[col] = np.log1p(df[[col]])\n",
    "back\n",
    "df[col] = np.expm1p(df[[col]])"
   ]
  },
  {
   "cell_type": "code",
   "execution_count": null,
   "id": "c7a7443a",
   "metadata": {},
   "outputs": [],
   "source": []
  }
 ],
 "metadata": {
  "kernelspec": {
   "display_name": "Python 3",
   "language": "python",
   "name": "python3"
  },
  "language_info": {
   "codemirror_mode": {
    "name": "ipython",
    "version": 3
   },
   "file_extension": ".py",
   "mimetype": "text/x-python",
   "name": "python",
   "nbconvert_exporter": "python",
   "pygments_lexer": "ipython3",
   "version": "3.8.10"
  }
 },
 "nbformat": 4,
 "nbformat_minor": 5
}
