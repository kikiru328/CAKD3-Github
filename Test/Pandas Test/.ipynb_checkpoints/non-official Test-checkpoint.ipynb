{
 "cells": [
  {
   "cell_type": "code",
   "execution_count": 1,
   "id": "674c15a7",
   "metadata": {},
   "outputs": [],
   "source": [
    "# module import\n",
    "import pandas as pd\n",
    "import numpy as np\n",
    "import seaborn as sns\n",
    "import time\n",
    "import datetime as dt\n",
    "import datetime"
   ]
  },
  {
   "cell_type": "raw",
   "id": "c9bf4362",
   "metadata": {},
   "source": [
    "from sklearn.preprocessing import LabelEncoder\n",
    "le = LabelEncoder()\n",
    "features = [ , , ]\n",
    "for feature in featrues:\n",
    "    df[feature] = le.fit_transform(df[feature])\n",
    "df. head\n",
    "\n",
    "> categorization"
   ]
  },
  {
   "cell_type": "raw",
   "id": "3fd69bae",
   "metadata": {},
   "source": [
    "from sklearn.preprocessing import MinMaxScaler\n",
    "scaler = MinMaxScaler()\n",
    "df[col] = scaler.fit_transform(df[[col]])\n",
    "df.head\n",
    "\n",
    "> normalization / to value in 0 ~ 1 range"
   ]
  },
  {
   "cell_type": "raw",
   "id": "2e5bf08d",
   "metadata": {},
   "source": [
    "from sklearn.preprocessing import StandardScaler\n",
    "scaler = StandaradScaler()\n",
    "df[col] = scaler.fit_transform(df[[col]])\n",
    "df.head()\n",
    "\n",
    "> Average = 0, Var = 1 가우시안 표준분포로 바꿈."
   ]
  },
  {
   "cell_type": "raw",
   "id": "fd74339b",
   "metadata": {},
   "source": [
    "one_hot Encoding/ sklearn X --> get_dummies(df) < 이거 자체가 One_hot_encoding"
   ]
  },
  {
   "cell_type": "raw",
   "id": "784c023c",
   "metadata": {},
   "source": [
    "transform log\n",
    "df[col] = np.log1p(df[[col]])\n",
    "back\n",
    "df[col] = np.expm1p(df[[col]])"
   ]
  },
  {
   "cell_type": "code",
   "execution_count": 18,
   "id": "127d61fc",
   "metadata": {
    "collapsed": true
   },
   "outputs": [
    {
     "name": "stdout",
     "output_type": "stream",
     "text": [
      "2000-01-15   -1.140268\n",
      "2000-01-19    2.014634\n",
      "2000-01-23   -1.347618\n",
      "2000-01-27    0.849179\n",
      "2000-01-31   -1.049302\n",
      "2000-02-04    0.469328\n",
      "2000-02-08   -0.525568\n",
      "2000-02-12   -1.165070\n",
      "2000-02-16   -0.918875\n",
      "2000-02-20   -1.705612\n",
      "2000-02-24   -1.200827\n",
      "2000-02-28    0.268227\n",
      "2000-03-03   -1.742340\n",
      "2000-03-07   -1.665855\n",
      "2000-03-11   -0.033695\n",
      "2000-03-15    1.231291\n",
      "2000-03-19   -0.638681\n",
      "2000-03-23   -0.988759\n",
      "2000-03-27    0.851445\n",
      "2000-03-31    1.593945\n",
      "Freq: 4D, dtype: float64\n"
     ]
    },
    {
     "data": {
      "text/plain": [
       "pandas.core.series.Series"
      ]
     },
     "execution_count": 18,
     "metadata": {},
     "output_type": "execute_result"
    }
   ],
   "source": [
    "ts =pd.Series(np.random.randn(20),\n",
    "             index=pd.date_range('1/15/2000',periods=20,freq='4d'))\n",
    "print(ts)\n",
    "type(ts)"
   ]
  },
  {
   "cell_type": "code",
   "execution_count": 21,
   "id": "960345b1",
   "metadata": {},
   "outputs": [
    {
     "name": "stdout",
     "output_type": "stream",
     "text": [
      "2000-01-15   -1.140268\n",
      "2000-01-19    2.014634\n",
      "2000-01-23   -1.347618\n",
      "2000-01-27    0.849179\n",
      "2000-01-31   -1.049302\n",
      "2000-02-04    0.469328\n",
      "2000-02-08   -0.525568\n",
      "2000-02-12   -1.165070\n",
      "2000-02-16   -0.918875\n",
      "2000-02-20   -1.705612\n",
      "2000-02-24   -1.200827\n",
      "2000-02-28    0.268227\n",
      "2000-03-03   -1.742340\n",
      "2000-03-07   -1.665855\n",
      "2000-03-11   -0.033695\n",
      "2000-03-15    1.231291\n",
      "2000-03-19   -0.638681\n",
      "2000-03-23   -0.988759\n",
      "2000-03-27    0.851445\n",
      "2000-03-31    1.593945\n",
      "dtype: float64\n"
     ]
    }
   ],
   "source": [
    "from pandas.tseries import offsets\n",
    "offset_ = offsets.DateOffset()\n",
    "grouped = ts.groupby([offset_.rollforward]).mean()\n",
    "print( grouped )"
   ]
  },
  {
   "cell_type": "raw",
   "id": "4b134438",
   "metadata": {},
   "source": [
    "from datetime import datetime\n",
    "s = '2020-12-12 12:12:12'\n",
    "d = datetime.strptime(s,'%Y%M%D)\n",
    "tt = time.mktime(datetime.strptime(data, format).timetuple"
   ]
  },
  {
   "cell_type": "code",
   "execution_count": 22,
   "id": "61464ea8",
   "metadata": {},
   "outputs": [
    {
     "data": {
      "text/plain": [
       "11112006825558016"
      ]
     },
     "execution_count": 22,
     "metadata": {},
     "output_type": "execute_result"
    }
   ],
   "source": [
    "14**14"
   ]
  },
  {
   "cell_type": "code",
   "execution_count": null,
   "id": "b6011485",
   "metadata": {},
   "outputs": [],
   "source": []
  }
 ],
 "metadata": {
  "kernelspec": {
   "display_name": "Python 3",
   "language": "python",
   "name": "python3"
  },
  "language_info": {
   "codemirror_mode": {
    "name": "ipython",
    "version": 3
   },
   "file_extension": ".py",
   "mimetype": "text/x-python",
   "name": "python",
   "nbconvert_exporter": "python",
   "pygments_lexer": "ipython3",
   "version": "3.8.10"
  }
 },
 "nbformat": 4,
 "nbformat_minor": 5
}
